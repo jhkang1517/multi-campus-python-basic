{
 "cells": [
  {
   "cell_type": "markdown",
   "metadata": {},
   "source": [
    "## 날짜형식 통합, 콜금리와 병합"
   ]
  },
  {
   "cell_type": "code",
   "execution_count": null,
   "metadata": {},
   "outputs": [],
   "source": [
    "import pandas as pd\n",
    "import numpy as np\n",
    "\n",
    "Bondreports_preprocessed = pd.read_csv('bondreports_preprocessed.csv')\n",
    "Bondreports_preprocessed['date'] = Bondreports_preprocessed['date'] + 20000000\n",
    "Bondreports_preprocessed['date'] = Bondreports_preprocessed['date'].apply(lambda x: pd.to_datetime(str(x), format='%Y%m%d'))\n",
    "\n",
    "Callrate_df = pd.read_csv('(최종)_callrate_fulldays.csv', index_col=0)\n",
    "Callrate_df['date'] = pd.to_datetime(Callrate_df['date'])\n",
    "Merged_df = pd.merge(Bondreports_preprocessed, Callrate_df)\n",
    "Merged_df.to_csv('(최종)_채권분석보고서_전처리.csv')"
   ]
  },
  {
   "cell_type": "markdown",
   "metadata": {},
   "source": [
    "## 필요없는 열 삭제"
   ]
  },
  {
   "cell_type": "code",
   "execution_count": null,
   "metadata": {},
   "outputs": [],
   "source": [
    "Bondreports_df = pd.read_csv('(최종)_채권분석보고서_전처리.csv', index_col=0)\n",
    "Bondreports_df['ngrams'] = \"\"\n",
    "Bondreports_df['ngrams'] = Bondreports_df['tokens'] + Bondreports_df['ngram']\n",
    "Bondreports_df.drop(['title','firm', 'report','tokens','ngram','old_date','callrate','old_callrate'],axis='columns', inplace=True)\n",
    "Bondreports_df = Bondreports_df.rename(columns={'ngrams':'ngram'})\n",
    "Bondreports_df.to_csv(\"(병합용)_채권분석보고서_전처리.csv\")"
   ]
  },
  {
   "cell_type": "code",
   "execution_count": null,
   "metadata": {},
   "outputs": [],
   "source": [
    "pd.read_csv(\"(병합용)_채권분석보고서_전처리.csv\", index_col=0)"
   ]
  }
 ],
 "metadata": {
  "kernelspec": {
   "display_name": "Python 3",
   "language": "python",
   "name": "python3"
  },
  "language_info": {
   "codemirror_mode": {
    "name": "ipython",
    "version": 3
   },
   "file_extension": ".py",
   "mimetype": "text/x-python",
   "name": "python",
   "nbconvert_exporter": "python",
   "pygments_lexer": "ipython3",
   "version": "3.7.3"
  }
 },
 "nbformat": 4,
 "nbformat_minor": 2
}
