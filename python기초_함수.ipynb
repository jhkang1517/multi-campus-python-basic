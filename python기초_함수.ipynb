{
 "cells": [
  {
   "cell_type": "markdown",
   "metadata": {},
   "source": [
    "# 함수"
   ]
  },
  {
   "cell_type": "code",
   "execution_count": null,
   "metadata": {},
   "outputs": [],
   "source": [
    "# 인자와 반환값\n",
    "# 인자 = argument(괄호안에 들어가는 값)\n",
    "# 반환값 = return\n",
    "\n",
    "# 형식을 지정하지 않으면 기본적으로는 tuple이다."
   ]
  },
  {
   "cell_type": "markdown",
   "metadata": {},
   "source": [
    "## 함수 정의"
   ]
  },
  {
   "cell_type": "code",
   "execution_count": 2,
   "metadata": {},
   "outputs": [],
   "source": [
    "def func_sum(num1, num2):\n",
    "    return num1+num2"
   ]
  },
  {
   "cell_type": "code",
   "execution_count": 3,
   "metadata": {},
   "outputs": [
    {
     "data": {
      "text/plain": [
       "8"
      ]
     },
     "execution_count": 3,
     "metadata": {},
     "output_type": "execute_result"
    }
   ],
   "source": [
    "func_sum(3,5) \n",
    "# 이 순간 변수가 선언된다."
   ]
  },
  {
   "cell_type": "markdown",
   "metadata": {},
   "source": [
    "## 인자 x / 반환값 x\n",
    "return 값이 없다. 즉 none 이다."
   ]
  },
  {
   "cell_type": "code",
   "execution_count": 4,
   "metadata": {},
   "outputs": [],
   "source": [
    "def hello_world():\n",
    "    print(\"Hello World\")"
   ]
  },
  {
   "cell_type": "code",
   "execution_count": 5,
   "metadata": {},
   "outputs": [
    {
     "name": "stdout",
     "output_type": "stream",
     "text": [
      "Hello World\n"
     ]
    }
   ],
   "source": [
    "a = hello_world()\n",
    "# 변수에 반환하는 값을 입력"
   ]
  },
  {
   "cell_type": "code",
   "execution_count": 6,
   "metadata": {},
   "outputs": [
    {
     "name": "stdout",
     "output_type": "stream",
     "text": [
      "None\n"
     ]
    }
   ],
   "source": [
    "print(a)"
   ]
  },
  {
   "cell_type": "markdown",
   "metadata": {},
   "source": [
    "## 인자 o / 반환값 x"
   ]
  },
  {
   "cell_type": "code",
   "execution_count": 7,
   "metadata": {},
   "outputs": [],
   "source": [
    "def hello_name(name):\n",
    "    print(\"hello %s\" % name)"
   ]
  },
  {
   "cell_type": "code",
   "execution_count": 8,
   "metadata": {},
   "outputs": [
    {
     "name": "stdout",
     "output_type": "stream",
     "text": [
      "hello 강정호\n"
     ]
    }
   ],
   "source": [
    "my_name = \"강정호\"\n",
    "a = hello_name(my_name)\n",
    "# 리턴 값은 a 에 입력한다."
   ]
  },
  {
   "cell_type": "code",
   "execution_count": 9,
   "metadata": {},
   "outputs": [
    {
     "name": "stdout",
     "output_type": "stream",
     "text": [
      "None\n"
     ]
    }
   ],
   "source": [
    "print(a)"
   ]
  },
  {
   "cell_type": "markdown",
   "metadata": {},
   "source": [
    "## 인자 o / 반환값 o"
   ]
  },
  {
   "cell_type": "code",
   "execution_count": 10,
   "metadata": {},
   "outputs": [],
   "source": [
    "def func_sum(num1, num2):\n",
    "    return num1+num2"
   ]
  },
  {
   "cell_type": "code",
   "execution_count": 12,
   "metadata": {},
   "outputs": [],
   "source": [
    "a = func_sum(3,5)"
   ]
  },
  {
   "cell_type": "code",
   "execution_count": 13,
   "metadata": {},
   "outputs": [
    {
     "name": "stdout",
     "output_type": "stream",
     "text": [
      "8\n"
     ]
    }
   ],
   "source": [
    "print(a)"
   ]
  },
  {
   "cell_type": "markdown",
   "metadata": {},
   "source": [
    "## 인자 x / 반환값 o"
   ]
  },
  {
   "cell_type": "code",
   "execution_count": 16,
   "metadata": {},
   "outputs": [],
   "source": [
    "import random\n",
    "\n",
    "def make_lotto_numbers():\n",
    "    return [random.randint(1, 45) for x in range(6)]"
   ]
  },
  {
   "cell_type": "code",
   "execution_count": 17,
   "metadata": {},
   "outputs": [],
   "source": [
    "lotto_numbers = make_lotto_numbers()"
   ]
  },
  {
   "cell_type": "code",
   "execution_count": 18,
   "metadata": {},
   "outputs": [
    {
     "data": {
      "text/plain": [
       "[12, 5, 13, 15, 11, 4]"
      ]
     },
     "execution_count": 18,
     "metadata": {},
     "output_type": "execute_result"
    }
   ],
   "source": [
    "lotto_numbers"
   ]
  },
  {
   "cell_type": "markdown",
   "metadata": {},
   "source": [
    "# 변수의 유효범위\n",
    "변수의 스코프(scope): 변수의 관점에서의 범위. (어디까지 존재할 수 있는가?)\n",
    "모듈 ,함수, 클래스만 scope를 가짐\n",
    "\n",
    "지역변수: 함수 내에서 정의되는 변수 \n",
    "전역변수: 함수 밖에서 정의되는 변수"
   ]
  },
  {
   "cell_type": "code",
   "execution_count": 20,
   "metadata": {},
   "outputs": [],
   "source": [
    "# 전역변수 a, b\n",
    "a = 1\n",
    "b = 2\n",
    "c = 5"
   ]
  },
  {
   "cell_type": "code",
   "execution_count": 23,
   "metadata": {},
   "outputs": [],
   "source": [
    "def func1():\n",
    "    a = 3\n",
    "    b = 4\n",
    "    print(a, b, c)\n",
    "# 없는 함수는 전역 변수에서 가져온다."
   ]
  },
  {
   "cell_type": "code",
   "execution_count": 22,
   "metadata": {},
   "outputs": [
    {
     "name": "stdout",
     "output_type": "stream",
     "text": [
      "3 4 5\n"
     ]
    }
   ],
   "source": [
    "func1()"
   ]
  },
  {
   "cell_type": "code",
   "execution_count": 24,
   "metadata": {},
   "outputs": [
    {
     "name": "stdout",
     "output_type": "stream",
     "text": [
      "1 2\n"
     ]
    }
   ],
   "source": [
    "print(a,b)"
   ]
  },
  {
   "cell_type": "code",
   "execution_count": 26,
   "metadata": {},
   "outputs": [],
   "source": [
    "def func2():\n",
    "    # 지역변수 a, b\n",
    "    a = 5\n",
    "    b = 6\n",
    "    \n",
    "    # func1 호출\n",
    "    func1()\n",
    "    #func1이 끝나면 그 지역변수는 사라진다.\n",
    "    \n",
    "    print(a,b)"
   ]
  },
  {
   "cell_type": "code",
   "execution_count": 28,
   "metadata": {},
   "outputs": [
    {
     "name": "stdout",
     "output_type": "stream",
     "text": [
      "3 4 5\n",
      "5 6\n"
     ]
    }
   ],
   "source": [
    "func2()"
   ]
  },
  {
   "cell_type": "code",
   "execution_count": 29,
   "metadata": {},
   "outputs": [
    {
     "name": "stdout",
     "output_type": "stream",
     "text": [
      "1 2\n"
     ]
    }
   ],
   "source": [
    "print(a,b)"
   ]
  },
  {
   "cell_type": "code",
   "execution_count": 30,
   "metadata": {},
   "outputs": [],
   "source": [
    "# global 키워드는 전역변수에 있는 변수를 지역변수로 가져온다? 바꾼다? "
   ]
  },
  {
   "cell_type": "code",
   "execution_count": 31,
   "metadata": {},
   "outputs": [],
   "source": [
    "a = 5"
   ]
  },
  {
   "cell_type": "code",
   "execution_count": 32,
   "metadata": {},
   "outputs": [],
   "source": [
    "def func1():\n",
    "    a = 3\n",
    "    print(a)"
   ]
  },
  {
   "cell_type": "code",
   "execution_count": 33,
   "metadata": {},
   "outputs": [
    {
     "name": "stdout",
     "output_type": "stream",
     "text": [
      "3\n",
      "5\n"
     ]
    }
   ],
   "source": [
    "func1()\n",
    "print(a)"
   ]
  },
  {
   "cell_type": "code",
   "execution_count": 34,
   "metadata": {},
   "outputs": [],
   "source": [
    "def func2():\n",
    "    global a\n",
    "    a = 50 \n",
    "    print(a)"
   ]
  },
  {
   "cell_type": "code",
   "execution_count": 36,
   "metadata": {},
   "outputs": [
    {
     "name": "stdout",
     "output_type": "stream",
     "text": [
      "50\n",
      "50\n"
     ]
    }
   ],
   "source": [
    "func2()\n",
    "print(a)"
   ]
  },
  {
   "cell_type": "code",
   "execution_count": 37,
   "metadata": {},
   "outputs": [],
   "source": [
    "def func3():\n",
    "    print(a)"
   ]
  },
  {
   "cell_type": "code",
   "execution_count": 40,
   "metadata": {},
   "outputs": [
    {
     "name": "stdout",
     "output_type": "stream",
     "text": [
      "50\n",
      "50\n"
     ]
    }
   ],
   "source": [
    "func3()\n",
    "print(a)"
   ]
  },
  {
   "cell_type": "markdown",
   "metadata": {},
   "source": [
    "# 연습문제 1"
   ]
  },
  {
   "cell_type": "code",
   "execution_count": 16,
   "metadata": {},
   "outputs": [],
   "source": [
    "#def func_sum(num1, num2):\n",
    "#    return num1+num2\n",
    "\n",
    "def calc(num1, num2):\n",
    "    print(\"덧셈:\", num1+num2)\n",
    "    print(\"뺄셈:\", num1-num2)\n",
    "    print(\"곱셈:\", num1*num2)\n",
    "    print(\"나눗셈:\", num1/num2)\n",
    "    return num1+num2, num1-num2, num1*num2, num1/num2"
   ]
  },
  {
   "cell_type": "code",
   "execution_count": 17,
   "metadata": {},
   "outputs": [
    {
     "name": "stdout",
     "output_type": "stream",
     "text": [
      "덧셈: 11\n",
      "뺄셈: -1\n",
      "곱셈: 30\n",
      "나눗셈: 0.8333333333333334\n",
      "(11, -1, 30, 0.8333333333333334)\n"
     ]
    }
   ],
   "source": [
    "a = calc(5,6)\n",
    "print(a)"
   ]
  },
  {
   "cell_type": "code",
   "execution_count": 18,
   "metadata": {},
   "outputs": [],
   "source": [
    "def calc(a, b):\n",
    "    print(\"덧셈: {}, 뺄셈: {}, 곱셈: {}, 나눗셈: {}\".format(a+b, a-b, a*b, a/b))\n",
    "    return a+b, a-b, a*b, a/b"
   ]
  },
  {
   "cell_type": "code",
   "execution_count": 19,
   "metadata": {},
   "outputs": [
    {
     "name": "stdout",
     "output_type": "stream",
     "text": [
      "덧셈: 11, 뺄셈: -1, 곱셈: 30, 나눗셈: 0.8333333333333334\n"
     ]
    }
   ],
   "source": [
    "a = calc(5, 6)"
   ]
  },
  {
   "cell_type": "code",
   "execution_count": 20,
   "metadata": {},
   "outputs": [
    {
     "name": "stdout",
     "output_type": "stream",
     "text": [
      "(11, -1, 30, 0.8333333333333334)\n"
     ]
    },
    {
     "data": {
      "text/plain": [
       "tuple"
      ]
     },
     "execution_count": 20,
     "metadata": {},
     "output_type": "execute_result"
    }
   ],
   "source": [
    "print(a)\n",
    "type(a)"
   ]
  },
  {
   "cell_type": "markdown",
   "metadata": {},
   "source": [
    "# 연습문제 2"
   ]
  },
  {
   "cell_type": "code",
   "execution_count": 97,
   "metadata": {},
   "outputs": [],
   "source": [
    "## 외 않 대 ?\n",
    "lis = [1, 2, 3, 1, 4, 2, 1]\n",
    "\n",
    "def allindex(a, b):\n",
    "    new = []\n",
    "    for idx, i in enumerate(a):\n",
    "        # enumerate함수를 생각해내야합니다.... \n",
    "        if i == b:\n",
    "            new.append(idx)\n",
    "    return new"
   ]
  },
  {
   "cell_type": "code",
   "execution_count": 98,
   "metadata": {},
   "outputs": [
    {
     "name": "stdout",
     "output_type": "stream",
     "text": [
      "[0, 3, 6]\n"
     ]
    }
   ],
   "source": [
    "## 외 않 대 ?\n",
    "c = allindex(lis, 1)\n",
    "print(c)"
   ]
  },
  {
   "cell_type": "code",
   "execution_count": 99,
   "metadata": {},
   "outputs": [],
   "source": [
    "# 모범답안\n",
    "\n",
    "lis = [1, 2, 3, 1, 4, 2, 1]\n",
    "\n",
    "def allindex(l, target):\n",
    "    result = []\n",
    "    for idx, x in enumerate(l):\n",
    "        if x == target:\n",
    "            result.append(idx)\n",
    "    return result\n"
   ]
  },
  {
   "cell_type": "code",
   "execution_count": 100,
   "metadata": {},
   "outputs": [
    {
     "name": "stdout",
     "output_type": "stream",
     "text": [
      "[0, 3, 6]\n"
     ]
    }
   ],
   "source": [
    "a = allindex(lis, 1)\n",
    "print(a)"
   ]
  },
  {
   "cell_type": "code",
   "execution_count": 101,
   "metadata": {},
   "outputs": [
    {
     "data": {
      "text/plain": [
       "[1, 5]"
      ]
     },
     "execution_count": 101,
     "metadata": {},
     "output_type": "execute_result"
    }
   ],
   "source": [
    "allindex(lis, 2)"
   ]
  },
  {
   "cell_type": "markdown",
   "metadata": {},
   "source": [
    "# lambda 함수"
   ]
  },
  {
   "cell_type": "code",
   "execution_count": 102,
   "metadata": {},
   "outputs": [
    {
     "data": {
      "text/plain": [
       "9"
      ]
     },
     "execution_count": 102,
     "metadata": {},
     "output_type": "execute_result"
    }
   ],
   "source": [
    "(lambda x : x**2)(3)"
   ]
  },
  {
   "cell_type": "code",
   "execution_count": 103,
   "metadata": {},
   "outputs": [],
   "source": [
    "# 함수 자체를 변수로 저장시킬 수 있다.\n",
    "mul_func = lambda x,y : x*y"
   ]
  },
  {
   "cell_type": "code",
   "execution_count": 104,
   "metadata": {},
   "outputs": [
    {
     "data": {
      "text/plain": [
       "30"
      ]
     },
     "execution_count": 104,
     "metadata": {},
     "output_type": "execute_result"
    }
   ],
   "source": [
    "mul_func(5,6)"
   ]
  },
  {
   "cell_type": "code",
   "execution_count": 105,
   "metadata": {},
   "outputs": [
    {
     "data": {
      "text/plain": [
       "56"
      ]
     },
     "execution_count": 105,
     "metadata": {},
     "output_type": "execute_result"
    }
   ],
   "source": [
    "mul_func(7,8)"
   ]
  },
  {
   "cell_type": "code",
   "execution_count": 106,
   "metadata": {},
   "outputs": [
    {
     "name": "stdout",
     "output_type": "stream",
     "text": [
      "나의 이름은: 강정호\n"
     ]
    }
   ],
   "source": [
    "(lambda name : print(\"나의 이름은: %s\" % name))(\"강정호\")"
   ]
  },
  {
   "cell_type": "code",
   "execution_count": 107,
   "metadata": {},
   "outputs": [
    {
     "data": {
      "text/plain": [
       "3"
      ]
     },
     "execution_count": 107,
     "metadata": {},
     "output_type": "execute_result"
    }
   ],
   "source": [
    "(lambda : 3)()\n",
    "\n",
    "# 람다로도 인자의 유무, 반환값의 유무가 존재하는 함수들을 만들 수 있다."
   ]
  },
  {
   "cell_type": "code",
   "execution_count": 2,
   "metadata": {},
   "outputs": [],
   "source": [
    "# 함수 역시 주소값을 가져오기 때문에, \n",
    "#리스트에 대한 함수를 작성할 경우 함수내에서 리스트를 변경하면 함수 밖에 있는 리스트도 값이 변한다."
   ]
  },
  {
   "cell_type": "markdown",
   "metadata": {},
   "source": [
    "# 함수 값에 리스트 사용"
   ]
  },
  {
   "cell_type": "code",
   "execution_count": 3,
   "metadata": {},
   "outputs": [],
   "source": [
    "def func1(a,b,c):\n",
    "    return a+b+c"
   ]
  },
  {
   "cell_type": "code",
   "execution_count": 4,
   "metadata": {},
   "outputs": [
    {
     "data": {
      "text/plain": [
       "3"
      ]
     },
     "execution_count": 4,
     "metadata": {},
     "output_type": "execute_result"
    }
   ],
   "source": [
    "func1(0,1,2)"
   ]
  },
  {
   "cell_type": "code",
   "execution_count": 5,
   "metadata": {},
   "outputs": [
    {
     "data": {
      "text/plain": [
       "[0, 1, 2]"
      ]
     },
     "execution_count": 5,
     "metadata": {},
     "output_type": "execute_result"
    }
   ],
   "source": [
    "a = list(range(3))\n",
    "a"
   ]
  },
  {
   "cell_type": "code",
   "execution_count": 6,
   "metadata": {},
   "outputs": [
    {
     "data": {
      "text/plain": [
       "3"
      ]
     },
     "execution_count": 6,
     "metadata": {},
     "output_type": "execute_result"
    }
   ],
   "source": [
    "func1(*a)"
   ]
  },
  {
   "cell_type": "code",
   "execution_count": 10,
   "metadata": {},
   "outputs": [],
   "source": [
    "def func1(a,b,c):\n",
    "    print(\"a: {}, b: {}, c: {}\".format(a,b,c))\n",
    "    return a+b+c"
   ]
  },
  {
   "cell_type": "code",
   "execution_count": 11,
   "metadata": {},
   "outputs": [
    {
     "name": "stdout",
     "output_type": "stream",
     "text": [
      "a: 5, b: 7, c: 8\n"
     ]
    },
    {
     "data": {
      "text/plain": [
       "20"
      ]
     },
     "execution_count": 11,
     "metadata": {},
     "output_type": "execute_result"
    }
   ],
   "source": [
    "# 리스트형\n",
    "func1(*[5, 7, 8])"
   ]
  },
  {
   "cell_type": "code",
   "execution_count": 12,
   "metadata": {},
   "outputs": [
    {
     "name": "stdout",
     "output_type": "stream",
     "text": [
      "a: 5, b: 7, c: 8\n"
     ]
    },
    {
     "data": {
      "text/plain": [
       "20"
      ]
     },
     "execution_count": 12,
     "metadata": {},
     "output_type": "execute_result"
    }
   ],
   "source": [
    "# 튜플형\n",
    "func1(*(5, 7, 8))"
   ]
  },
  {
   "cell_type": "markdown",
   "metadata": {},
   "source": [
    "## 가변인수(arguments)"
   ]
  },
  {
   "cell_type": "code",
   "execution_count": 18,
   "metadata": {},
   "outputs": [],
   "source": [
    "def func2(*args):\n",
    "    print(type(args))\n",
    "    \n",
    "    print('_'*10)\n",
    "    \n",
    "    for arg in args:\n",
    "        print(arg)\n",
    "      \n",
    "    print('_'*10)\n",
    "    return sum(args)"
   ]
  },
  {
   "cell_type": "code",
   "execution_count": 19,
   "metadata": {},
   "outputs": [
    {
     "name": "stdout",
     "output_type": "stream",
     "text": [
      "<class 'tuple'>\n",
      "__________\n",
      "1\n",
      "2\n",
      "3\n",
      "4\n",
      "__________\n"
     ]
    },
    {
     "data": {
      "text/plain": [
       "10"
      ]
     },
     "execution_count": 19,
     "metadata": {},
     "output_type": "execute_result"
    }
   ],
   "source": [
    "func2(1,2,3,4)"
   ]
  },
  {
   "cell_type": "code",
   "execution_count": 21,
   "metadata": {},
   "outputs": [
    {
     "name": "stdout",
     "output_type": "stream",
     "text": [
      "<class 'tuple'>\n",
      "__________\n",
      "5\n",
      "8\n",
      "7\n",
      "__________\n"
     ]
    },
    {
     "data": {
      "text/plain": [
       "20"
      ]
     },
     "execution_count": 21,
     "metadata": {},
     "output_type": "execute_result"
    }
   ],
   "source": [
    "func2(5,8,7)"
   ]
  },
  {
   "cell_type": "code",
   "execution_count": 24,
   "metadata": {
    "scrolled": false
   },
   "outputs": [
    {
     "name": "stdout",
     "output_type": "stream",
     "text": [
      "<class 'tuple'>\n",
      "__________\n",
      "[1, 2, 3]\n",
      "__________\n"
     ]
    },
    {
     "ename": "TypeError",
     "evalue": "unsupported operand type(s) for +: 'int' and 'list'",
     "output_type": "error",
     "traceback": [
      "\u001b[1;31m---------------------------------------------------------------------------\u001b[0m",
      "\u001b[1;31mTypeError\u001b[0m                                 Traceback (most recent call last)",
      "\u001b[1;32m<ipython-input-24-d345abe67cea>\u001b[0m in \u001b[0;36m<module>\u001b[1;34m\u001b[0m\n\u001b[1;32m----> 1\u001b[1;33m \u001b[0mfunc2\u001b[0m\u001b[1;33m(\u001b[0m\u001b[1;33m[\u001b[0m\u001b[1;36m1\u001b[0m\u001b[1;33m,\u001b[0m\u001b[1;36m2\u001b[0m\u001b[1;33m,\u001b[0m\u001b[1;36m3\u001b[0m\u001b[1;33m]\u001b[0m\u001b[1;33m)\u001b[0m\u001b[1;33m\u001b[0m\u001b[1;33m\u001b[0m\u001b[0m\n\u001b[0m\u001b[0;32m      2\u001b[0m \u001b[1;31m# 하나의 요소로써 리스트가 들어감\u001b[0m\u001b[1;33m\u001b[0m\u001b[1;33m\u001b[0m\u001b[1;33m\u001b[0m\u001b[0m\n",
      "\u001b[1;32m<ipython-input-18-e7c96bf1ef5f>\u001b[0m in \u001b[0;36mfunc2\u001b[1;34m(*args)\u001b[0m\n\u001b[0;32m      8\u001b[0m \u001b[1;33m\u001b[0m\u001b[0m\n\u001b[0;32m      9\u001b[0m     \u001b[0mprint\u001b[0m\u001b[1;33m(\u001b[0m\u001b[1;34m'_'\u001b[0m\u001b[1;33m*\u001b[0m\u001b[1;36m10\u001b[0m\u001b[1;33m)\u001b[0m\u001b[1;33m\u001b[0m\u001b[1;33m\u001b[0m\u001b[0m\n\u001b[1;32m---> 10\u001b[1;33m     \u001b[1;32mreturn\u001b[0m \u001b[0msum\u001b[0m\u001b[1;33m(\u001b[0m\u001b[0margs\u001b[0m\u001b[1;33m)\u001b[0m\u001b[1;33m\u001b[0m\u001b[1;33m\u001b[0m\u001b[0m\n\u001b[0m",
      "\u001b[1;31mTypeError\u001b[0m: unsupported operand type(s) for +: 'int' and 'list'"
     ]
    }
   ],
   "source": [
    "func2([1,2,3])\n",
    "# 하나의 요소로써 리스트가 들어감"
   ]
  },
  {
   "cell_type": "code",
   "execution_count": 27,
   "metadata": {},
   "outputs": [
    {
     "name": "stdout",
     "output_type": "stream",
     "text": [
      "<class 'tuple'>\n",
      "__________\n",
      "1\n",
      "2\n",
      "3\n",
      "__________\n"
     ]
    },
    {
     "data": {
      "text/plain": [
       "6"
      ]
     },
     "execution_count": 27,
     "metadata": {},
     "output_type": "execute_result"
    }
   ],
   "source": [
    "func2(*[1,2,3])\n",
    "# *로 언패킹을 해주면 작동한다."
   ]
  },
  {
   "cell_type": "markdown",
   "metadata": {},
   "source": [
    "## 함께사용"
   ]
  },
  {
   "cell_type": "code",
   "execution_count": 28,
   "metadata": {},
   "outputs": [],
   "source": [
    "def func3(a, b, *args):\n",
    "    # *args가 항상 뒤에 있어야 한다.\n",
    "    print(\"a: {}, b: {}\". format(a,b))\n",
    "    print('_'*10)\n",
    "    \n",
    "    for arg in args:\n",
    "        print(arg)\n",
    "        \n",
    "    return sum(args+(a,b))"
   ]
  },
  {
   "cell_type": "code",
   "execution_count": 29,
   "metadata": {},
   "outputs": [
    {
     "name": "stdout",
     "output_type": "stream",
     "text": [
      "a: 1, b: 2\n",
      "__________\n",
      "1\n",
      "2\n",
      "3\n",
      "4\n"
     ]
    },
    {
     "data": {
      "text/plain": [
       "13"
      ]
     },
     "execution_count": 29,
     "metadata": {},
     "output_type": "execute_result"
    }
   ],
   "source": [
    "func3(1, 2, 1, 2, 3, 4)"
   ]
  },
  {
   "cell_type": "markdown",
   "metadata": {},
   "source": [
    "## 키워드 인수 & 딕셔너리 언패킹"
   ]
  },
  {
   "cell_type": "code",
   "execution_count": 31,
   "metadata": {},
   "outputs": [],
   "source": [
    "def func4(name, email):\n",
    "    print(\"이름: \", name)\n",
    "    print(\"이메일: \", email)\n",
    "          \n",
    "    return {\n",
    "        'name': name,\n",
    "        'email': email\n",
    "    }"
   ]
  },
  {
   "cell_type": "code",
   "execution_count": 38,
   "metadata": {},
   "outputs": [
    {
     "name": "stdout",
     "output_type": "stream",
     "text": [
      "이름:  강정호\n",
      "이메일:  jhkang1517@gmail.com\n"
     ]
    },
    {
     "data": {
      "text/plain": [
       "{'name': '강정호', 'email': 'jhkang1517@gmail.com'}"
      ]
     },
     "execution_count": 38,
     "metadata": {},
     "output_type": "execute_result"
    }
   ],
   "source": [
    "func4('강정호', email='jhkang1517@gmail.com')\n",
    "# 맨 앞 순서는 키워드 생략 가능"
   ]
  },
  {
   "cell_type": "code",
   "execution_count": 39,
   "metadata": {},
   "outputs": [
    {
     "name": "stdout",
     "output_type": "stream",
     "text": [
      "이름:  강정호\n",
      "이메일:  jhkang1517@gmail.com\n"
     ]
    },
    {
     "data": {
      "text/plain": [
       "{'name': '강정호', 'email': 'jhkang1517@gmail.com'}"
      ]
     },
     "execution_count": 39,
     "metadata": {},
     "output_type": "execute_result"
    }
   ],
   "source": [
    "func4(email='jhkang1517@gmail.com', name='강정호')\n",
    "# 키워드를 다 입력해주면, 순서는 상관없음"
   ]
  },
  {
   "cell_type": "code",
   "execution_count": 45,
   "metadata": {},
   "outputs": [
    {
     "ename": "SyntaxError",
     "evalue": "positional argument follows keyword argument (<ipython-input-45-d13238cdd252>, line 1)",
     "output_type": "error",
     "traceback": [
      "\u001b[1;36m  File \u001b[1;32m\"<ipython-input-45-d13238cdd252>\"\u001b[1;36m, line \u001b[1;32m1\u001b[0m\n\u001b[1;33m    func4(email= \"jhkang1517@gmail.com\", '강정호')\u001b[0m\n\u001b[1;37m                                        ^\u001b[0m\n\u001b[1;31mSyntaxError\u001b[0m\u001b[1;31m:\u001b[0m positional argument follows keyword argument\n"
     ]
    }
   ],
   "source": [
    "func4(email= \"jhkang1517@gmail.com\", '강정호')\n",
    "# 키워드를 안쓰는 경우에는 뒤쪽 키워드는 생략 불가능"
   ]
  },
  {
   "cell_type": "code",
   "execution_count": 48,
   "metadata": {},
   "outputs": [],
   "source": [
    "profile = {\n",
    "    'email': 'jhkang1517@gmai.com',\n",
    "    'name' : '강정호'\n",
    "}"
   ]
  },
  {
   "cell_type": "code",
   "execution_count": 50,
   "metadata": {},
   "outputs": [
    {
     "name": "stdout",
     "output_type": "stream",
     "text": [
      "이름:  강정호\n",
      "이메일:  jhkang1517@gmai.com\n"
     ]
    },
    {
     "data": {
      "text/plain": [
       "{'name': '강정호', 'email': 'jhkang1517@gmai.com'}"
      ]
     },
     "execution_count": 50,
     "metadata": {},
     "output_type": "execute_result"
    }
   ],
   "source": [
    "func4(**profile)\n",
    "# 딕셔너리 언패킹"
   ]
  },
  {
   "cell_type": "code",
   "execution_count": 52,
   "metadata": {},
   "outputs": [],
   "source": [
    "profile = {\n",
    "    \"name\": '강정호',\n",
    "    \"email\": 'jhkang1517@gmail.com',\n",
    "    \"address\": 'anyang'\n",
    "}"
   ]
  },
  {
   "cell_type": "code",
   "execution_count": 53,
   "metadata": {},
   "outputs": [],
   "source": [
    "def func4_1(name, email, address):\n",
    "    print(\"name: {}, \\nemail:{}, \\naddress:{}\". format(name, email, address))"
   ]
  },
  {
   "cell_type": "code",
   "execution_count": 54,
   "metadata": {},
   "outputs": [
    {
     "name": "stdout",
     "output_type": "stream",
     "text": [
      "name: 강정호, \n",
      "email:jhkang1517@gmail.com, \n",
      "address:anyang\n"
     ]
    }
   ],
   "source": [
    "func4_1(**profile)\n",
    "# 안에 있는 키의 개수와 상관없이 딕셔너리의 경우에는 ** 이다."
   ]
  },
  {
   "cell_type": "markdown",
   "metadata": {},
   "source": [
    "## 가변키워드인수"
   ]
  },
  {
   "cell_type": "code",
   "execution_count": 88,
   "metadata": {},
   "outputs": [],
   "source": [
    "def func5(**kwargs):\n",
    "    print(type(kwargs))\n",
    "    print(\"_\"*10)\n",
    "    if kwargs.get('email'):\n",
    "        email = kwargs['email']\n",
    "    else:\n",
    "        email = None\n",
    "    \n",
    "    print(\"이메일: \", email)\n",
    "    print(\"이름: \", kwargs.get('name')) #get 함수!\n",
    "    # 왜 get함수인가? 만약에 이름을 쓰지 않더라도 작동하게 만들기 위해서"
   ]
  },
  {
   "cell_type": "code",
   "execution_count": 89,
   "metadata": {},
   "outputs": [
    {
     "name": "stdout",
     "output_type": "stream",
     "text": [
      "<class 'dict'>\n",
      "__________\n",
      "이메일:  jhkang1517@gmail.com\n",
      "이름:  강정호\n"
     ]
    }
   ],
   "source": [
    "func5(name='강정호', email='jhkang1517@gmail.com')"
   ]
  },
  {
   "cell_type": "code",
   "execution_count": 90,
   "metadata": {},
   "outputs": [
    {
     "name": "stdout",
     "output_type": "stream",
     "text": [
      "<class 'dict'>\n",
      "__________\n",
      "이메일:  jhkang1517@gmail.com\n",
      "이름:  None\n"
     ]
    }
   ],
   "source": [
    "func5(email='jhkang1517@gmail.com')"
   ]
  },
  {
   "cell_type": "code",
   "execution_count": 91,
   "metadata": {},
   "outputs": [
    {
     "name": "stdout",
     "output_type": "stream",
     "text": [
      "<class 'dict'>\n",
      "__________\n",
      "이메일:  jhkang1517@gmail.com\n",
      "이름:  강정호\n"
     ]
    }
   ],
   "source": [
    "func5(**profile)"
   ]
  },
  {
   "cell_type": "markdown",
   "metadata": {},
   "source": [
    "## 매개변수 초기값"
   ]
  },
  {
   "cell_type": "code",
   "execution_count": 33,
   "metadata": {},
   "outputs": [],
   "source": [
    "# default 값은 반드시 뒤에서부터 (오른쪽)\n",
    "# 컴퓨터는 순서를 모른다.\n",
    "#\n",
    "\n",
    "def func6(name, email, age=20): #함수선언을 할때 defalut 값을 입력한다. 오른쪽부터 입력해야한다. \n",
    "    print(\"이름: \", name)\n",
    "    print(\"이메일: \", email)\n",
    "    print(\"나이:\", age)"
   ]
  },
  {
   "cell_type": "code",
   "execution_count": 38,
   "metadata": {},
   "outputs": [
    {
     "name": "stdout",
     "output_type": "stream",
     "text": [
      "이름:  강정호\n",
      "이메일:  jhkang1517@gmail.com\n",
      "나이: 20\n",
      "____________________\n",
      "이름:  김민수\n",
      "이메일:  jjlie_1123\n",
      "나이: 30\n"
     ]
    }
   ],
   "source": [
    "func6(\"강정호\",\"jhkang1517@gmail.com\")\n",
    "print('_'*20)\n",
    "func6(\"김민수\", \"jjlie_1123\", 30)\n",
    "# age값을 넣지 않으면 자동적으로 age는 20으로 정해진다."
   ]
  },
  {
   "cell_type": "code",
   "execution_count": 100,
   "metadata": {},
   "outputs": [
    {
     "name": "stdout",
     "output_type": "stream",
     "text": [
      "이름:  강정호\n",
      "이메일:  jhkang1517@gmail.com\n",
      "나이: 26\n"
     ]
    }
   ],
   "source": [
    "func6(\"강정호\",\"jhkang1517@gmail.com\", 26)"
   ]
  },
  {
   "cell_type": "code",
   "execution_count": 103,
   "metadata": {},
   "outputs": [],
   "source": [
    "def last_func(name, email, addr=None, age=20, *args, **kwargs):\n",
    "    print('name: ', name)\n",
    "    print('email: ', email)\n",
    "    print('age: ', age)\n",
    "    \n",
    "    if addr is None:\n",
    "        addr = \"서울시\"\n",
    "    print('addr: ', addr)\n",
    "    \n",
    "    print('_'*10, 'args 시작')\n",
    "    for arg in args:\n",
    "        print(arg)\n",
    "        \n",
    "    print('_'*10, 'kwargs 시작')\n",
    "    for key in kwargs:\n",
    "        print(key, kwargs[key])\n",
    "        "
   ]
  },
  {
   "cell_type": "code",
   "execution_count": 3,
   "metadata": {
    "scrolled": false
   },
   "outputs": [
    {
     "ename": "NameError",
     "evalue": "name 'last_func' is not defined",
     "output_type": "error",
     "traceback": [
      "\u001b[1;31m---------------------------------------------------------------------------\u001b[0m",
      "\u001b[1;31mNameError\u001b[0m                                 Traceback (most recent call last)",
      "\u001b[1;32m<ipython-input-3-fc4eacc18372>\u001b[0m in \u001b[0;36m<module>\u001b[1;34m\u001b[0m\n\u001b[1;32m----> 1\u001b[1;33m \u001b[0mlast_func\u001b[0m\u001b[1;33m(\u001b[0m\u001b[1;34m'강정호'\u001b[0m\u001b[1;33m,\u001b[0m \u001b[1;34m'jhkang1517'\u001b[0m\u001b[1;33m,\u001b[0m \u001b[1;36m26\u001b[0m\u001b[1;33m,\u001b[0m \u001b[1;36m1\u001b[0m\u001b[1;33m,\u001b[0m\u001b[1;36m2\u001b[0m\u001b[1;33m,\u001b[0m\u001b[1;36m3\u001b[0m\u001b[1;33m,\u001b[0m \u001b[0mis_korean\u001b[0m\u001b[1;33m=\u001b[0m\u001b[1;32mTrue\u001b[0m\u001b[1;33m,\u001b[0m \u001b[0mbirth\u001b[0m\u001b[1;33m=\u001b[0m\u001b[1;34m\"1107\"\u001b[0m\u001b[1;33m)\u001b[0m\u001b[1;33m\u001b[0m\u001b[1;33m\u001b[0m\u001b[0m\n\u001b[0m",
      "\u001b[1;31mNameError\u001b[0m: name 'last_func' is not defined"
     ]
    }
   ],
   "source": [
    "last_func('강정호', 'jhkang1517', 26, 1,2,3, is_korean=True, birth=\"1107\")"
   ]
  },
  {
   "cell_type": "markdown",
   "metadata": {},
   "source": [
    "### 0530 딕셔너리 "
   ]
  },
  {
   "cell_type": "code",
   "execution_count": 41,
   "metadata": {},
   "outputs": [
    {
     "data": {
      "text/plain": [
       "{'name': 'tom', 'email': 'tommail@gmail.com'}"
      ]
     },
     "execution_count": 41,
     "metadata": {},
     "output_type": "execute_result"
    }
   ],
   "source": [
    "a = {\n",
    "    'name': 'tom',\n",
    "    'email': 'tommail@gmail.com'\n",
    "}\n",
    "a"
   ]
  },
  {
   "cell_type": "code",
   "execution_count": 47,
   "metadata": {},
   "outputs": [
    {
     "data": {
      "text/plain": [
       "{'name': 'tom', 'email': 'tomail@gmail.com'}"
      ]
     },
     "execution_count": 47,
     "metadata": {},
     "output_type": "execute_result"
    }
   ],
   "source": [
    "# 딕셔너리 다시 만들어보기 dict 함수 사용\n",
    "b = dict(name='tom', email='tomail@gmail.com')\n",
    "b"
   ]
  },
  {
   "cell_type": "code",
   "execution_count": null,
   "metadata": {},
   "outputs": [],
   "source": []
  },
  {
   "cell_type": "code",
   "execution_count": null,
   "metadata": {},
   "outputs": [],
   "source": []
  },
  {
   "cell_type": "code",
   "execution_count": null,
   "metadata": {},
   "outputs": [],
   "source": []
  },
  {
   "cell_type": "markdown",
   "metadata": {},
   "source": [
    "# 연습문제 3\n",
    "가변인수와 고정인수를 사용해 모든값을 더하거나 빼거나 곱하는 함수 작성\n",
    "ex)\n",
    ">>> calc(\"+\", 1, 2, 3, 4, 5) # 1 + 2 + 3 + 4 + 5\n",
    "15\n",
    ">>> calc(\"-\", 1, 2, 3, 4, 5) # 1 - 2 - 3 - 4 - 5\n",
    "-13\n",
    ">>> calc(\"*\", 1, 2, 3, 4, 5) # 1 * 2 * 3 * 4 * 5\n",
    "120"
   ]
  },
  {
   "cell_type": "code",
   "execution_count": 203,
   "metadata": {},
   "outputs": [],
   "source": [
    "# 계산기 만들기\n",
    "def calc(oper, *args):\n",
    "    if oper == '+':\n",
    "        print(sum(args))\n",
    "    elif oper == '-':\n",
    "        sub = args[0]\n",
    "        for i in range(1, len(args)):\n",
    "            sub -= args[i]\n",
    "        return sub\n",
    "    elif oper == '*':\n",
    "        multi = 1\n",
    "        for i in range(len(args)):\n",
    "            multi *= args[i]\n",
    "        return multi\n",
    "    elif oper == '/':\n",
    "        div = 1\n",
    "        for i in range(len(args)):\n",
    "            div /= args[i]\n",
    "        return div\n",
    "    "
   ]
  },
  {
   "cell_type": "code",
   "execution_count": 202,
   "metadata": {},
   "outputs": [
    {
     "name": "stdout",
     "output_type": "stream",
     "text": [
      "15\n",
      "None\n",
      "-13\n",
      "120\n",
      "0.008333333333333333\n"
     ]
    }
   ],
   "source": [
    "print(calc('+', 1,2,3,4,5))\n",
    "print(calc('-', 1,2,3,4,5))\n",
    "print(calc('*', 1,2,3,4,5))\n",
    "print(calc('/', 1,2,3,4,5))"
   ]
  },
  {
   "cell_type": "code",
   "execution_count": 210,
   "metadata": {},
   "outputs": [],
   "source": [
    "# 계산기 만들기 모범답안\n",
    "def calc(oper, *args):\n",
    "    \n",
    "    \n",
    "    if oper == '+':\n",
    "        reutrn (sum(args))\n",
    "        \n",
    "        \n",
    "    elif oper == '-':\n",
    "        # 공통: args[0] 을 기준으로 잡는다.\n",
    "        criteria = args[0]\n",
    "     # 1. for 문을 통해 반복을 돌린다.\n",
    "        for x in args[1:]:\n",
    "            criteria -= x\n",
    "        return criteria\n",
    "    # 2. args[0] - (sum(args[1:]))\n",
    "        return criteria - (sum(args[1:]))\n",
    "    \n",
    "    \n",
    "    elif oper == '*':\n",
    "        # 1. for문을 통해 반복을 돌린다.\n",
    "        result = 1\n",
    "        for x in args[1:]:\n",
    "            result *= x\n",
    "            return result\n",
    "        else:\n",
    "            print(\"Error 발생. 첫번째 인수는 연산자여야 합니다.\")\n",
    "            return None"
   ]
  },
  {
   "cell_type": "code",
   "execution_count": 30,
   "metadata": {},
   "outputs": [],
   "source": [
    "# 최대값, 최소값, 평균값 출력 계산기 다시 만들기\n",
    "def mma(*args):\n",
    "        max_args = args[0]\n",
    "        for i in args:\n",
    "            if max_args < i:\n",
    "                max_args = i\n",
    "               \n",
    "        min_args = args[0]\n",
    "        for i in args:\n",
    "            if min_args > i:\n",
    "                min_args = i\n",
    "                \n",
    "        aver_args = (sum(args)/len(args))\n",
    "               \n",
    "        print(\"최대값: \", max_args)\n",
    "        print(\"최소값: \", min_args)\n",
    "        print(\"평균: \", aver_args)\n",
    "        return max_args, min_args, aver_args\n",
    "        "
   ]
  },
  {
   "cell_type": "code",
   "execution_count": 31,
   "metadata": {},
   "outputs": [
    {
     "name": "stdout",
     "output_type": "stream",
     "text": [
      "최대값:  8\n",
      "최소값:  1\n",
      "평균:  3.8\n"
     ]
    },
    {
     "data": {
      "text/plain": [
       "(8, 1, 3.8)"
      ]
     },
     "execution_count": 31,
     "metadata": {},
     "output_type": "execute_result"
    }
   ],
   "source": [
    "mma(1,2,3,8,5)"
   ]
  },
  {
   "cell_type": "code",
   "execution_count": null,
   "metadata": {},
   "outputs": [],
   "source": []
  }
 ],
 "metadata": {
  "kernelspec": {
   "display_name": "Python 3",
   "language": "python",
   "name": "python3"
  },
  "language_info": {
   "codemirror_mode": {
    "name": "ipython",
    "version": 3
   },
   "file_extension": ".py",
   "mimetype": "text/x-python",
   "name": "python",
   "nbconvert_exporter": "python",
   "pygments_lexer": "ipython3",
   "version": "3.7.3"
  }
 },
 "nbformat": 4,
 "nbformat_minor": 2
}
