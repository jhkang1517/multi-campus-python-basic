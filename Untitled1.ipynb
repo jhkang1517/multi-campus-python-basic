{
 "cells": [
  {
   "cell_type": "code",
   "execution_count": 40,
   "metadata": {},
   "outputs": [],
   "source": [
    "class Dog:   \n",
    "    def __init__(self, name, color):\n",
    "        self.hungry = 0 # 인스턴스 속성\n",
    "        self.name = name\n",
    "        self.color = color\n",
    "        \n",
    "###########################################################\n",
    "\n",
    "    def eat(self): # 행동\n",
    "        self.hungry -= 10\n",
    "        print('eat함수를 사용했습니다. 따라서 배고픔이 감소합니다.', self.hungry)\n",
    "        \n",
    " ###########################################################     \n",
    "\n",
    "    def walk(self):\n",
    "        self.hungry += 10\n",
    "        print('산책을 하였습니다. walk함수가 작동됩니다. 배고픔이 증가합니다.', self.hungry)\n",
    "\n",
    "choco = Dog('choco', 'black') # 객체생성\n",
    "jjoong = Dog('jjoong', 'white')\n"
   ]
  },
  {
   "cell_type": "code",
   "execution_count": 42,
   "metadata": {},
   "outputs": [
    {
     "name": "stdout",
     "output_type": "stream",
     "text": [
      "eat함수를 사용했습니다. 따라서 배고픔이 감소합니다. -20\n"
     ]
    }
   ],
   "source": [
    "choco_hungry = choco.eat()\n",
    "choco_hungry"
   ]
  },
  {
   "cell_type": "code",
   "execution_count": 62,
   "metadata": {},
   "outputs": [],
   "source": [
    "class Dog:\n",
    "    dog_count = 0\n",
    "     # 클래스 속성\n",
    "\n",
    "    def __init__(self, name, color):\n",
    "        self.name = name # 인스턴스 속성\n",
    "        self.color = color\n",
    "        # self.dog_count = 0\n",
    "        Dog.dog_count += 1 # 클래스 속성 접근\n",
    "\n",
    "    def dogCount(self):\n",
    "        print('총 강아지는 : ', dog.dog_count)    \n",
    "        \n",
    "        \n",
    "\n"
   ]
  },
  {
   "cell_type": "code",
   "execution_count": 63,
   "metadata": {},
   "outputs": [],
   "source": [
    "choco = Dog('choco', 'black') \n",
    "choco2 = Dog('choco', 'black') \n",
    "choco3 = Dog('choco', 'black') "
   ]
  },
  {
   "cell_type": "code",
   "execution_count": 64,
   "metadata": {},
   "outputs": [
    {
     "data": {
      "text/plain": [
       "3"
      ]
     },
     "execution_count": 64,
     "metadata": {},
     "output_type": "execute_result"
    }
   ],
   "source": [
    "Dog.dog_count"
   ]
  },
  {
   "cell_type": "code",
   "execution_count": null,
   "metadata": {},
   "outputs": [],
   "source": []
  }
 ],
 "metadata": {
  "kernelspec": {
   "display_name": "Python 3",
   "language": "python",
   "name": "python3"
  },
  "language_info": {
   "codemirror_mode": {
    "name": "ipython",
    "version": 3
   },
   "file_extension": ".py",
   "mimetype": "text/x-python",
   "name": "python",
   "nbconvert_exporter": "python",
   "pygments_lexer": "ipython3",
   "version": "3.7.3"
  }
 },
 "nbformat": 4,
 "nbformat_minor": 2
}
