{
 "cells": [
  {
   "cell_type": "code",
   "execution_count": null,
   "metadata": {},
   "outputs": [],
   "source": [
    "import requests\n",
    "from bs4 import BeautifulSoup\n",
    "import pandas as pd\n",
    "import numpy as np\n",
    "import os"
   ]
  },
  {
   "cell_type": "code",
   "execution_count": null,
   "metadata": {},
   "outputs": [],
   "source": [
    "# 사진을 저장할 폴더 생성\n",
    "BASE_DIR = \"C:\\\\Users\\\\User\\\\Desktop\"\n",
    "PICTURE_DIR = os.path.join(BASE_DIR, 'beer_pictures')\n",
    "\n",
    "if not os.path.exists(PICTURE_DIR):\n",
    "    os.makedirs(PICTURE_DIR) # 만약 경로가 없으면, 새로운 폴더를 생성하겠습니다."
   ]
  },
  {
   "cell_type": "code",
   "execution_count": null,
   "metadata": {},
   "outputs": [],
   "source": [
    "# 다운 받을 맥주 이름 불러오기 \n",
    "Beer_names_df = pd.read_csv(\"name.csv\", encoding='utf-8', header = None)\n",
    "# Beer_names_df\n",
    "beer_names = list(Beer_names_df[1])\n",
    "beer_names.sort()\n",
    "# beer_names\n",
    "print(len(beer_names))"
   ]
  },
  {
   "cell_type": "code",
   "execution_count": null,
   "metadata": {},
   "outputs": [],
   "source": [
    "# beer_names"
   ]
  },
  {
   "cell_type": "code",
   "execution_count": null,
   "metadata": {},
   "outputs": [],
   "source": [
    "# 1. 제품이름 뒤에 'beer' 을 넣어서 검색해야 이미지가 잘 검색된다.\n",
    "beers = list()\n",
    "for beer in beer_names:\n",
    "    beer = beer + \" beer\"\n",
    "    beer = beer.replace(\" \",\"+\")\n",
    "    beers.append(beer)"
   ]
  },
  {
   "cell_type": "code",
   "execution_count": null,
   "metadata": {},
   "outputs": [],
   "source": [
    "# 2. 구글 이미지 검색으로 requests 요청\n",
    "count = 0\n",
    "error_count = 0\n",
    "error_list = list()\n",
    "\n",
    "for b in beers:\n",
    "    try:\n",
    "#         print(b,\"의 사진을 가져오고 있습니다...\")\n",
    "        filename= b.replace(\"+\",\"\") + \".png\"\n",
    "\n",
    "        BASE_URL = \"https://www.google.com/search\"\n",
    "        params = {\n",
    "            'tbm': 'isch',\n",
    "            'q': b,\n",
    "            'tbs': 'ic:specific,isc:white'\n",
    "        }\n",
    "\n",
    "        resp = requests.get(BASE_URL,\n",
    "                            params=params)\n",
    "        #                     headers={'user-agent': ':Mozilla/5.0 (Windows NT 6.1; Win64; x64) AppleWebKit/537.36 (KHTML, like Gecko) Chrome/59.0.3071.115 Safari/537.36'})\n",
    "        # resp\n",
    "        # resp.content\n",
    "        # print(resp.url)\n",
    "        soup = BeautifulSoup(resp.content, 'html.parser')\n",
    "\n",
    "        beer_tag = str(soup.find_all('a')[40])\n",
    "        beer_picture_url = beer_tag.split(\" \")[-2].replace(\"src=\",\"\").replace('\"',\"\")\n",
    "        # print(beer_picture_url)\n",
    "\n",
    "        img_resp = requests.get(beer_picture_url)\n",
    "        # print(resp2)\n",
    "\n",
    "        beers_picture_path = os.path.join(PICTURE_DIR, filename)\n",
    "        with open(beers_picture_path, 'wb') as f:\n",
    "            f.write(img_resp.content)\n",
    "            \n",
    "        count += 1\n",
    "        \n",
    "    except:\n",
    "        print(\"Error 발생!!!\")\n",
    "        error_list.append(b)\n",
    "#         print(b,\"의 사진을 가져오는 데에는 실패하였습니다.\")\n",
    "        error_count += 1\n",
    "        pass"
   ]
  },
  {
   "cell_type": "code",
   "execution_count": null,
   "metadata": {},
   "outputs": [],
   "source": [
    "print(len(beers))\n",
    "print(count)\n",
    "print(error_count)\n",
    "print(len(beers) - (count + error_count))"
   ]
  },
  {
   "cell_type": "code",
   "execution_count": null,
   "metadata": {},
   "outputs": [],
   "source": [
    "error_list"
   ]
  }
 ],
 "metadata": {
  "kernelspec": {
   "display_name": "Python 3",
   "language": "python",
   "name": "python3"
  },
  "language_info": {
   "codemirror_mode": {
    "name": "ipython",
    "version": 3
   },
   "file_extension": ".py",
   "mimetype": "text/x-python",
   "name": "python",
   "nbconvert_exporter": "python",
   "pygments_lexer": "ipython3",
   "version": "3.7.3"
  }
 },
 "nbformat": 4,
 "nbformat_minor": 2
}
