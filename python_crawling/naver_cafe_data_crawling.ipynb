{
 "cells": [
  {
   "cell_type": "code",
   "execution_count": 1,
   "metadata": {},
   "outputs": [],
   "source": [
    "import requests\n",
    "from bs4 import BeautifulSoup\n",
    "import os\n",
    "import time"
   ]
  },
  {
   "cell_type": "code",
   "execution_count": 31,
   "metadata": {},
   "outputs": [],
   "source": [
    "# 1. 사이트 url 확보\n",
    "# 2. url 분석\n",
    "# 3. 분석을 통해 url, headers, params 구분 \n",
    "# 4. request 요청\n",
    "# 5. response를 soup로 변환, 데이터 확인\n",
    "# 6. 태그 찾아 제목, 내용, 카페 링크 수집\n",
    "# 7. 마무리\n",
    "\n",
    "SEARCH_CAFE_URL = 'https://search.naver.com/search.naver'\n",
    "query = \"이희호\" #이따 str로 형변환이 꼭 필요한지 검증해볼것\n",
    "\n",
    "params = {\n",
    "    'where': 'article',\n",
    "    'query': query    \n",
    "}\n",
    "# ? 뒤는 parameters, 즉 후에 get함수를 써야만합니다. \n",
    "# ?where=article\n",
    "# &sm=tab_jum # 확인결과 필요없음. 삭제\n",
    "# &query=%EC%9D%B4%ED%9D%AC%ED%98%B8"
   ]
  },
  {
   "cell_type": "code",
   "execution_count": 35,
   "metadata": {},
   "outputs": [],
   "source": [
    "resp = requests.get(SEARCH_CAFE_URL, params=params)\n",
    "# resp\n",
    "# resp.url\n",
    "# resp.content"
   ]
  },
  {
   "cell_type": "code",
   "execution_count": 49,
   "metadata": {},
   "outputs": [],
   "source": [
    "soup = BeautifulSoup(resp.content, 'html.parser')\n",
    "# soup"
   ]
  },
  {
   "cell_type": "code",
   "execution_count": 50,
   "metadata": {},
   "outputs": [],
   "source": [
    "cafe_content = soup.find('ul', class_='type01').find_all('li', recrusive=False)\n",
    "# cafe_content"
   ]
  },
  {
   "cell_type": "code",
   "execution_count": 68,
   "metadata": {},
   "outputs": [
    {
     "name": "stdout",
     "output_type": "stream",
     "text": [
      "[{'title': '김대중 전 대통령의 부인 이희호 여사가 서거했습니다.', 'link': 'https://cafe.naver.com/akzmspqj/65453', 'content': '고 김대중 전 대통령의 부인 이희호 여사가 서거했습니다.김대중 전 대통령의 비서실상을 지낸 박지원 민주평화당 의원은김대중 대통령은 이희호 여사로부터 태어났다고 말...'}, {'title': '[마감] 이희호 여사 서거 추모 자료 유료 분양 합니다.', 'link': 'https://cafe.naver.com/philatelyst/194030', 'content': '부인이었던 이희호 여사가 2019년 6월 10일 23시 37분에 서거 하셨습니다. 어제 오후 쯤에... # 분양품: 이희호 여사 서거 추모 자료 2종(이희호 여사...'}, {'title': '▶ [부고] 큰별지다 이희호 여사 별세 ◀', 'link': 'https://cafe.naver.com/rhocloud/114057', 'content': '당을 떠나 좋은 사고와 강력한 카리스마의 남편의수발을 위해 항시 내남편은 언제죽어도 이상할게 없으니 늘 마음의 준비를 한다던 이희호 여사 ..현시대에 정말로 필요...'}, {'title': '故 김대중 대통령 부인 이희호 여사 별세', 'link': 'https://cafe.naver.com/maumclub/28331', 'content': '굴곡진 현대사를 온몸으로 부딪힌 이희호 여사께서 별세하셨네요 향연 98세 엘리트 여성으로도 유명하신 분이죠 한 나라에 영부인으로서 굴곡진 삶을 살아오셔고 한 남자...'}, {'title': '이희호여사 별세.. 모진세월...고생많으셨습니다.', 'link': 'https://cafe.naver.com/pianisthb/896171', 'content': '[속보] 고 김대중 전 대통령 부인 이희호 여사 별세 출처 : JTBC | 네이버 http://naver.me/GBDSyLnV 부디 편히 쉬세요. 꼭 김대중 대통령님과 그곳에선 행복을빕니다. 삼가 고인의 명복을 빕니다...'}, {'title': '[링크]김대중의 평생 동지 이희호 여사 별세(', 'link': 'https://cafe.naver.com/smartvip/160485', 'content': '어제 서거하신 故 이희호 여사님(전 영부인)은 1922년 서울에서 태어나 1962년에 故 김대중 전 대통령과 결혼을 했는데 김 전 대통령의 경우 전처와의 사별 후 재혼이라 봅니다. 종교는...'}, {'title': '이희호여사 별세하셨습니다. ㅜㅜ', 'link': 'https://cafe.naver.com/momsofsongdoifez/523620', 'content': '존경하는 이희호여사님. 옳은일인줄 알면서도 행하지않는게 죄라는 성경말씀을 자주 인용하셨던... 오늘 이희호 여사님께서 김대중 대통령님을 만나러 가셨습니다. 조금만...'}, {'title': '이희호 여사님 소천하셨네요 ㅜㅜ', 'link': 'https://cafe.naver.com/mjann/2389536', 'content': '이희호여사님 ~~~ 좋은 곳에서 평생의 동지 고김대중대통령님과 행복하고 좋았던 기억들 나누세요 ㅜ'}, {'title': '김대중 전 대통령 부인 이희호 여사 97세 나이로 세상을 떠나다.', 'link': 'https://cafe.naver.com/fcbarcelona10/210419', 'content': '오늘 김대중 전 대통령 부인 이희호 여사가 조금 전에 별세했습니다. 김대중 전 대통령의 부인이자 여성운동가.민주화운동가로 평생을 보냈던 이희호 김대중평화센터 이사...'}, {'title': '[속보] 故 김대중 전 대통령 부인 이희호 여사 별세', 'link': 'https://cafe.naver.com/cjyeonsu/102000', 'content': '이희호여사 별세하셧네여 .. https://dailyfeed.kr/7123367/156018079437'}]\n"
     ]
    }
   ],
   "source": [
    "content_list = []\n",
    "\n",
    "for li in cafe_content:\n",
    "    content_dict = {}\n",
    "    title = li.find('a', class_='sh_cafe_title').text\n",
    "    content_dict['title'] = title\n",
    "#     print(title)\n",
    "# , class_='thumb thumb-rollover'\n",
    "\n",
    "    div_tag = li.find('dl').find('dt').find('a')\n",
    "    link2 = li.find('dl').find('dt').find('a')['href']\n",
    "    content_dict['link'] = link2\n",
    "#    link = div_tag['href']\n",
    "#     print(div_tag)\n",
    "#     print(link)\n",
    "#     print(link2)\n",
    "\n",
    "    dd_tag = li.find('dd', class_=\"sh_cafe_passage\")\n",
    "    content = dd_tag.text\n",
    "    content_dict['content'] = content\n",
    "    \n",
    "    content_list.append(content_dict)\n",
    "\n",
    "print(content_list)\n"
   ]
  },
  {
   "cell_type": "code",
   "execution_count": null,
   "metadata": {},
   "outputs": [],
   "source": []
  }
 ],
 "metadata": {
  "kernelspec": {
   "display_name": "Python 3",
   "language": "python",
   "name": "python3"
  },
  "language_info": {
   "codemirror_mode": {
    "name": "ipython",
    "version": 3
   },
   "file_extension": ".py",
   "mimetype": "text/x-python",
   "name": "python",
   "nbconvert_exporter": "python",
   "pygments_lexer": "ipython3",
   "version": "3.7.3"
  }
 },
 "nbformat": 4,
 "nbformat_minor": 2
}
