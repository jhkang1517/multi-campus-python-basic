{
 "cells": [
  {
   "cell_type": "markdown",
   "metadata": {},
   "source": [
    "순위\n",
    "제목\n",
    "코드\n",
    "내용\n",
    "줄거리\n",
    "평점\n",
    "댓글"
   ]
  },
  {
   "cell_type": "code",
   "execution_count": 1,
   "metadata": {},
   "outputs": [],
   "source": [
    "import requests\n",
    "from bs4 import BeautifulSoup\n",
    "import MySQLdb\n",
    "from urllib import parse"
   ]
  },
  {
   "cell_type": "code",
   "execution_count": 2,
   "metadata": {},
   "outputs": [],
   "source": [
    "db = MySQLdb.connect(host=\"localhost\",  # host = localhost # 127.0.0.1\n",
    "                     user=\"root\",       # username  # root\n",
    "                     passwd=\"1234\",     # password  # 1234\n",
    "                     db=\"naver_movie\")  # DB NAME   # 자신이 만든 데이터베이스 이름 \n",
    "# connect() 함수: 인자가 4개 들어갑니다.\n",
    "\n",
    "db.set_character_set('utf8')"
   ]
  },
  {
   "cell_type": "code",
   "execution_count": 3,
   "metadata": {},
   "outputs": [
    {
     "data": {
      "text/plain": [
       "<_mysql.connection open to 'localhost' at 7193438>"
      ]
     },
     "execution_count": 3,
     "metadata": {},
     "output_type": "execute_result"
    }
   ],
   "source": [
    "db"
   ]
  },
  {
   "cell_type": "code",
   "execution_count": 4,
   "metadata": {},
   "outputs": [
    {
     "data": {
      "text/plain": [
       "<MySQLdb.cursors.Cursor at 0x8330400>"
      ]
     },
     "execution_count": 4,
     "metadata": {},
     "output_type": "execute_result"
    }
   ],
   "source": [
    "# 데이터베이스 커서(Cursor)는 일련의 데이터에 순차적으로 액세스할 때 검색 및 \"현재 위치\"를 포함하는 데이터 요소이다.\n",
    "cur = db.cursor()\n",
    "# https://movie.naver.com/movie/bi/mi/basic.nhn?code=161967\n",
    "cur"
   ]
  },
  {
   "cell_type": "code",
   "execution_count": 5,
   "metadata": {},
   "outputs": [
    {
     "name": "stderr",
     "output_type": "stream",
     "text": [
      "C:\\ProgramData\\Anaconda3\\lib\\site-packages\\ipykernel_launcher.py:15: Warning: (1050, \"Table 'naver_movie' already exists\")\n",
      "  from ipykernel import kernelapp as app\n"
     ]
    },
    {
     "data": {
      "text/plain": [
       "0"
      ]
     },
     "execution_count": 5,
     "metadata": {},
     "output_type": "execute_result"
    }
   ],
   "source": [
    "# 데이터 베이스 설계\n",
    "# 우리는 영화정보, 댓글의 관계를 먼저 파악해야합니다. \n",
    "# 영화가 한개가 댓글을 여러개 가질 수 있습니다.\n",
    "# 그러나 댓글 하나가 영화 여러개를 가질 수 없습니다. \n",
    "# 따라서 1 대 N 관계 \n",
    "query = \"\"\"\n",
    "        CREATE TABLE IF NOT EXISTS naver_movie\n",
    "            (code    INTEGER      NOT NULL      PRIMARY KEY,\n",
    "             created_at    DATETIME DEFAULT CURRENT_TIMESTAMP,\n",
    "             title   VARCHAR(255) NOT NULL,\n",
    "             story   TEXT,\n",
    "             open_date  DATE)\n",
    "             ENGINE INNODB;\n",
    "        \"\"\" # ENGINE INNODB: 데이터베이스 타입\n",
    "cur.execute(query)\n"
   ]
  },
  {
   "cell_type": "code",
   "execution_count": 6,
   "metadata": {
    "scrolled": true
   },
   "outputs": [
    {
     "name": "stderr",
     "output_type": "stream",
     "text": [
      "C:\\ProgramData\\Anaconda3\\lib\\site-packages\\ipykernel_launcher.py:15: Warning: (1050, \"Table 'movie_comment' already exists\")\n",
      "  from ipykernel import kernelapp as app\n"
     ]
    },
    {
     "data": {
      "text/plain": [
       "0"
      ]
     },
     "execution_count": 6,
     "metadata": {},
     "output_type": "execute_result"
    }
   ],
   "source": [
    "query = \"\"\"\n",
    "        CREATE TABLE IF NOT EXISTS movie_comment(\n",
    "            score    INTEGER    NOT NULL,\n",
    "            conetent TEXT       NOT NULL,\n",
    "            movie_code INTEGER,\n",
    "            writer  VARCHAR(100),\n",
    "            write_date DATETIME,\n",
    "            created_at DATETIME DEFAULT CURRENT_TIMESTAMP,\n",
    "            PRIMARY KEY (writer, write_date),\n",
    "            FOREIGN KEY(movie_code)\n",
    "            REFERENCES naver_movie(code) on delete cascade)\n",
    "            ENGINE INNODB;\n",
    "            ;\n",
    "\"\"\"\n",
    "cur.execute(query)"
   ]
  },
  {
   "cell_type": "markdown",
   "metadata": {},
   "source": [
    "# Naver_Movie_Crawling\n",
    "### 실습"
   ]
  },
  {
   "cell_type": "code",
   "execution_count": null,
   "metadata": {},
   "outputs": [],
   "source": [
    "BASE_URL = 'https://movie.naver.com/movie/sdb/rank/rmovie.nhn'\n",
    "params = {\n",
    "    'sdb': 'sdb',\n",
    "    'rank': 'rank',\n",
    "    'rmovie.nhn': 'rmovie.nhn'\n",
    "}\n",
    "\n",
    "resp = requests.get(BASE_URL, params)\n",
    "# resp\n",
    "# resp.url\n",
    "# resp.content\n",
    "soup = BeautifulSoup(resp.content, 'html.parser')\n",
    "# soup"
   ]
  },
  {
   "cell_type": "code",
   "execution_count": null,
   "metadata": {},
   "outputs": [],
   "source": [
    "ranking = soup.find('tbody').find_all('tr')\n",
    "ranking"
   ]
  },
  {
   "cell_type": "code",
   "execution_count": null,
   "metadata": {
    "scrolled": true
   },
   "outputs": [],
   "source": [
    "movie_list = []\n",
    "\n",
    "for tr in ranking:\n",
    "    movie_dict = {}\n",
    "    \n",
    "    try:\n",
    "        a_tag = tr.find('td', class_=\"title\").find('a')\n",
    "        # print(title)\n",
    "        link = a_tag['href']\n",
    "        title = a_tag['title']\n",
    "        code = link[28:]\n",
    "        \n",
    "        movie_dict['title'] = title\n",
    "        movie_dict['link'] = link\n",
    "        movie_dict['code'] = code\n",
    "        movie_list.append(movie_dict)\n",
    "\n",
    "    \n",
    "    except AttributeError:\n",
    "        pass\n",
    "    \n",
    "    \n",
    "    \n",
    "    \n",
    "print(movie_list)"
   ]
  },
  {
   "cell_type": "markdown",
   "metadata": {},
   "source": [
    "# Naver_Movie_해답"
   ]
  },
  {
   "cell_type": "code",
   "execution_count": 7,
   "metadata": {},
   "outputs": [],
   "source": [
    "import requests\n",
    "from bs4 import BeautifulSoup\n",
    "from urllib import parse"
   ]
  },
  {
   "cell_type": "code",
   "execution_count": 8,
   "metadata": {},
   "outputs": [],
   "source": [
    "def get_movie_list(start_page=1, end_page=1):\n",
    "    URL = \"https://movie.naver.com/movie/sdb/rank/rmovie.nhn\"\n",
    "    params = {\n",
    "        'sel':'pnt',\n",
    "        'date':20190616\n",
    "    }\n",
    "    \n",
    "    movie_list = []\n",
    "    for i in range(start_page, end_page+1):\n",
    "        params['page'] = i\n",
    "        \n",
    "        resp = requests.get(URL, params)\n",
    "        soup = BeautifulSoup(resp.content)\n",
    "        \n",
    "        list_ranking = soup.find(class_='list_ranking').find_all('tr')\n",
    "        for movie_tr in list_ranking:\n",
    "            try:\n",
    "                code = movie_tr.find('a')['href'].split('=')[-1]\n",
    "                title = movie_tr.find('a').text\n",
    "            \n",
    "                movie_list.append({\n",
    "                    'code':code,\n",
    "                    'title':title\n",
    "                })\n",
    "            except Exception:\n",
    "                pass\n",
    "            \n",
    "    return movie_list"
   ]
  },
  {
   "cell_type": "code",
   "execution_count": 9,
   "metadata": {
    "scrolled": true
   },
   "outputs": [
    {
     "data": {
      "text/plain": [
       "[{'code': '171539', 'title': '그린 북'},\n",
       " {'code': '174830', 'title': '가버나움'},\n",
       " {'code': '144906', 'title': '베일리 어게인'},\n",
       " {'code': '163788', 'title': '알라딘'},\n",
       " {'code': '169240', 'title': '아일라'},\n",
       " {'code': '151196', 'title': '원더'},\n",
       " {'code': '157243', 'title': '당갈'},\n",
       " {'code': '156464', 'title': '보헤미안 랩소디'},\n",
       " {'code': '17421', 'title': '쇼생크 탈출'},\n",
       " {'code': '154667', 'title': '덕구'},\n",
       " {'code': '10200', 'title': '터미네이터 2'},\n",
       " {'code': '69105', 'title': '월-E'},\n",
       " {'code': '10016', 'title': '나 홀로 집에'},\n",
       " {'code': '18988', 'title': '라이언 일병 구하기'},\n",
       " {'code': '22126', 'title': '인생은 아름다워'},\n",
       " {'code': '24452', 'title': '매트릭스'},\n",
       " {'code': '10102', 'title': '사운드 오브 뮤직'},\n",
       " {'code': '136900', 'title': '어벤져스: 엔드게임'},\n",
       " {'code': '10002', 'title': '빽 투 더 퓨쳐'},\n",
       " {'code': '17159', 'title': '포레스트 검프'},\n",
       " {'code': '82432', 'title': '헬프'},\n",
       " {'code': '92125', 'title': '헌터 킬러'},\n",
       " {'code': '29217', 'title': '글래디에이터'},\n",
       " {'code': '35901', 'title': '살인의 추억'},\n",
       " {'code': '66463', 'title': '토이 스토리 3'},\n",
       " {'code': '32686', 'title': '센과 치히로의 행방불명'},\n",
       " {'code': '106360', 'title': '위대한 쇼맨'},\n",
       " {'code': '10048', 'title': '죽은 시인의 사회'},\n",
       " {'code': '17170', 'title': '레옹'},\n",
       " {'code': '35939', 'title': '클래식'},\n",
       " {'code': '161850', 'title': '아이 캔 스피크'},\n",
       " {'code': '31796', 'title': '반지의 제왕: 왕의 귀환'},\n",
       " {'code': '183132', 'title': '교회오빠'},\n",
       " {'code': '31162', 'title': '캐스트 어웨이'},\n",
       " {'code': '134899', 'title': '동주'},\n",
       " {'code': '17541', 'title': '굿바이 마이 프랜드'},\n",
       " {'code': '12482', 'title': '여인의 향기'},\n",
       " {'code': '130850', 'title': '주토피아'},\n",
       " {'code': '73372', 'title': '세 얼간이'},\n",
       " {'code': '147092', 'title': '히든 피겨스'},\n",
       " {'code': '37886', 'title': '클레멘타인'},\n",
       " {'code': '39636', 'title': '지금, 만나러 갑니다'},\n",
       " {'code': '14450', 'title': '쉰들러 리스트'},\n",
       " {'code': '14448', 'title': '패왕별희'},\n",
       " {'code': '18543', 'title': '서유기 2 - 선리기연'},\n",
       " {'code': '19079', 'title': '굿 윌 헌팅'},\n",
       " {'code': '73476', 'title': '그대를 사랑합니다'},\n",
       " {'code': '87566', 'title': '언터처블: 1%의 우정'},\n",
       " {'code': '154573', 'title': '다시 태어나도 우리'},\n",
       " {'code': '18847', 'title': '타이타닉'}]"
      ]
     },
     "execution_count": 9,
     "metadata": {},
     "output_type": "execute_result"
    }
   ],
   "source": [
    "get_movie_list()"
   ]
  },
  {
   "cell_type": "code",
   "execution_count": 10,
   "metadata": {},
   "outputs": [],
   "source": [
    "def get_movie_info(movie):\n",
    "    code = movie.get('code')\n",
    "    title = movie.get('title')\n",
    "    \n",
    "    base_url = 'https://movie.naver.com/movie/bi/mi/basic.nhn'\n",
    "    params = {\n",
    "        'code': code,\n",
    "    }\n",
    "    \n",
    "    resp = requests.get(base_url, params)\n",
    "    soup = BeautifulSoup(resp.content)\n",
    "    \n",
    "    open_date_tag = soup.find('dl', class_='info_spec').find('dd').find_all('span')[-1]\n",
    "\n",
    "    open_date = \"\"\n",
    "    for date in open_date_tag.find_all('a'):\n",
    "        open_date += date.text\n",
    "    \n",
    "    open_date = \"-\".join(open_date.strip().split('.'))\n",
    "    \n",
    "    story = soup.find('div', class_='story_area')\n",
    "    \n",
    "    movie['story'] = story\n",
    "    movie['open_date'] = open_date\n",
    "    \n",
    "    return movie\n"
   ]
  },
  {
   "cell_type": "code",
   "execution_count": 11,
   "metadata": {},
   "outputs": [
    {
     "data": {
      "text/plain": [
       "{'code': '171539', 'title': '그린 북'}"
      ]
     },
     "execution_count": 11,
     "metadata": {},
     "output_type": "execute_result"
    }
   ],
   "source": [
    "movie_list = get_movie_list()\n",
    "movie_list[0]"
   ]
  },
  {
   "cell_type": "code",
   "execution_count": 12,
   "metadata": {},
   "outputs": [
    {
     "data": {
      "text/plain": [
       "{'code': '171539', 'title': '그린 북', 'story': <div class=\"story_area\">\n",
       " <div class=\"title_area\">\n",
       " <h4 class=\"h_story\"><strong class=\"blind\">줄거리</strong></h4>\n",
       " </div>\n",
       " <h5 class=\"h_tx_story\">언제 어디서든 바른 생활! 완벽한 천재 뮤지션 ‘돈 셜리’<br/>\n",
       " 원칙보다 반칙! 다혈질 운전사 ‘토니’<br/>\n",
       " 취향도, 성격도 완벽히 다른 두 남자의 특별한 우정이 시작된다!</h5>\n",
       " <p class=\"con_tx\">1962년 미국, 입담과 주먹만 믿고 살아가던 토니 발레롱가(비고 모텐슨)는 교양과 우아함 그 자체인\n",
       " <br/> 천재 피아니스트 돈 셜리(마허샬라 알리) 박사의 운전기사 면접을 보게 된다.\n",
       " <br/> \n",
       " <br/> 백악관에도 초청되는 등 미국 전역에서 콘서트 요청을 받으며 명성을 떨치고 있는 돈 셜리는\n",
       " <br/> 위험하기로 소문난 미국 남부 투어 공연을 떠나기로 결심하고,\n",
       " <br/> 투어 기간 동안 자신의 보디가드 겸 운전기사로 토니를 고용한다.\n",
       " <br/> \n",
       " <br/> 거친 인생을 살아온 토니 발레롱가와 교양과 기품을 지키며 살아온 돈 셜리 박사.\n",
       " <br/> 생각, 행동, 말투, 취향까지 달라도 너무 다른 두 사람은\n",
       " <br/> 그들을 위한 여행안내서 ‘그린북’에 의존해 특별한 남부 투어를 시작하는데…</p>\n",
       " <button class=\"story_more\" id=\"toggleMakingnoteButton\" onclick=\"storyAndNote.toggleMakingnote();\" type=\"button\"><em class=\"blind\">제작노트 보기</em></button><!-- N=a:mai.story -->\n",
       " </div>, 'open_date': '2019-01-09'}"
      ]
     },
     "execution_count": 12,
     "metadata": {},
     "output_type": "execute_result"
    }
   ],
   "source": [
    "get_movie_info(movie_list[0])"
   ]
  },
  {
   "cell_type": "code",
   "execution_count": 20,
   "metadata": {},
   "outputs": [],
   "source": [
    "# query = \"\"\"\n",
    "#         CREATE TABLE IF NOT EXISTS naver_movie\n",
    "#             (code    INTEGER      NOT NULL      PRIMARY KEY,\n",
    "#              created_at    DATETIME DEFAULT CURRENT_TIMESTAMP,\n",
    "#              title   VARCHAR(100) NOT NULL,\n",
    "#              story   TEXT,\n",
    "#              open_date  DATE)\n",
    "#         \"\"\"\n",
    "\n",
    "def insert_movie(movie):\n",
    "    code = movie.get('code')\n",
    "    title = movie.get('title')\n",
    "    story = movie.get('story')\n",
    "    \n",
    "    story = str(story)\n",
    "    \n",
    "    open_date = movie.get('open_date')\n",
    "    \n",
    "    story = db.escape_string(story)\n",
    "    \n",
    "    query = \"\"\"\n",
    "    INSERT INTO naver_movie\n",
    "    (code, title, story, open_date)\n",
    "    VALUES('{0}', '{1}', %s, '{2}')\n",
    "    \"\"\".format(code, title, open_date)\n",
    "    print(query)\n",
    "    cur.execute(query, [story])\n",
    "    db.commit()"
   ]
  },
  {
   "cell_type": "code",
   "execution_count": 21,
   "metadata": {
    "scrolled": true
   },
   "outputs": [
    {
     "data": {
      "text/plain": [
       "{'code': '171539', 'title': '그린 북', 'story': <div class=\"story_area\">\n",
       " <div class=\"title_area\">\n",
       " <h4 class=\"h_story\"><strong class=\"blind\">줄거리</strong></h4>\n",
       " </div>\n",
       " <h5 class=\"h_tx_story\">언제 어디서든 바른 생활! 완벽한 천재 뮤지션 ‘돈 셜리’<br/>\n",
       " 원칙보다 반칙! 다혈질 운전사 ‘토니’<br/>\n",
       " 취향도, 성격도 완벽히 다른 두 남자의 특별한 우정이 시작된다!</h5>\n",
       " <p class=\"con_tx\">1962년 미국, 입담과 주먹만 믿고 살아가던 토니 발레롱가(비고 모텐슨)는 교양과 우아함 그 자체인\n",
       " <br/> 천재 피아니스트 돈 셜리(마허샬라 알리) 박사의 운전기사 면접을 보게 된다.\n",
       " <br/> \n",
       " <br/> 백악관에도 초청되는 등 미국 전역에서 콘서트 요청을 받으며 명성을 떨치고 있는 돈 셜리는\n",
       " <br/> 위험하기로 소문난 미국 남부 투어 공연을 떠나기로 결심하고,\n",
       " <br/> 투어 기간 동안 자신의 보디가드 겸 운전기사로 토니를 고용한다.\n",
       " <br/> \n",
       " <br/> 거친 인생을 살아온 토니 발레롱가와 교양과 기품을 지키며 살아온 돈 셜리 박사.\n",
       " <br/> 생각, 행동, 말투, 취향까지 달라도 너무 다른 두 사람은\n",
       " <br/> 그들을 위한 여행안내서 ‘그린북’에 의존해 특별한 남부 투어를 시작하는데…</p>\n",
       " <button class=\"story_more\" id=\"toggleMakingnoteButton\" onclick=\"storyAndNote.toggleMakingnote();\" type=\"button\"><em class=\"blind\">제작노트 보기</em></button><!-- N=a:mai.story -->\n",
       " </div>, 'open_date': '2019-01-09'}"
      ]
     },
     "execution_count": 21,
     "metadata": {},
     "output_type": "execute_result"
    }
   ],
   "source": [
    "sample_movie = get_movie_info(movie_list[0])\n",
    "sample_movie"
   ]
  },
  {
   "cell_type": "code",
   "execution_count": 22,
   "metadata": {},
   "outputs": [
    {
     "name": "stdout",
     "output_type": "stream",
     "text": [
      "\n",
      "    INSERT INTO naver_movie\n",
      "    (code, title, story, open_date)\n",
      "    VALUES('171539', '그린 북', %s, '2019-01-09')\n",
      "    \n"
     ]
    },
    {
     "ename": "IntegrityError",
     "evalue": "(1062, \"Duplicate entry '171539' for key 'PRIMARY'\")",
     "output_type": "error",
     "traceback": [
      "\u001b[1;31m---------------------------------------------------------------------------\u001b[0m",
      "\u001b[1;31mIntegrityError\u001b[0m                            Traceback (most recent call last)",
      "\u001b[1;32m<ipython-input-22-e54f2d98c122>\u001b[0m in \u001b[0;36m<module>\u001b[1;34m\u001b[0m\n\u001b[1;32m----> 1\u001b[1;33m \u001b[0minsert_movie\u001b[0m\u001b[1;33m(\u001b[0m\u001b[0msample_movie\u001b[0m\u001b[1;33m)\u001b[0m\u001b[1;33m\u001b[0m\u001b[1;33m\u001b[0m\u001b[0m\n\u001b[0m",
      "\u001b[1;32m<ipython-input-20-b59ac3fd8cbc>\u001b[0m in \u001b[0;36minsert_movie\u001b[1;34m(movie)\u001b[0m\n\u001b[0;32m     25\u001b[0m     \"\"\".format(code, title, open_date)\n\u001b[0;32m     26\u001b[0m     \u001b[0mprint\u001b[0m\u001b[1;33m(\u001b[0m\u001b[0mquery\u001b[0m\u001b[1;33m)\u001b[0m\u001b[1;33m\u001b[0m\u001b[1;33m\u001b[0m\u001b[0m\n\u001b[1;32m---> 27\u001b[1;33m     \u001b[0mcur\u001b[0m\u001b[1;33m.\u001b[0m\u001b[0mexecute\u001b[0m\u001b[1;33m(\u001b[0m\u001b[0mquery\u001b[0m\u001b[1;33m,\u001b[0m \u001b[1;33m[\u001b[0m\u001b[0mstory\u001b[0m\u001b[1;33m]\u001b[0m\u001b[1;33m)\u001b[0m\u001b[1;33m\u001b[0m\u001b[1;33m\u001b[0m\u001b[0m\n\u001b[0m\u001b[0;32m     28\u001b[0m     \u001b[0mdb\u001b[0m\u001b[1;33m.\u001b[0m\u001b[0mcommit\u001b[0m\u001b[1;33m(\u001b[0m\u001b[1;33m)\u001b[0m\u001b[1;33m\u001b[0m\u001b[1;33m\u001b[0m\u001b[0m\n",
      "\u001b[1;32mC:\\ProgramData\\Anaconda3\\lib\\site-packages\\MySQLdb\\cursors.py\u001b[0m in \u001b[0;36mexecute\u001b[1;34m(self, query, args)\u001b[0m\n\u001b[0;32m    253\u001b[0m         \u001b[1;32mexcept\u001b[0m \u001b[0mException\u001b[0m\u001b[1;33m:\u001b[0m\u001b[1;33m\u001b[0m\u001b[1;33m\u001b[0m\u001b[0m\n\u001b[0;32m    254\u001b[0m             \u001b[0mexc\u001b[0m\u001b[1;33m,\u001b[0m \u001b[0mvalue\u001b[0m \u001b[1;33m=\u001b[0m \u001b[0msys\u001b[0m\u001b[1;33m.\u001b[0m\u001b[0mexc_info\u001b[0m\u001b[1;33m(\u001b[0m\u001b[1;33m)\u001b[0m\u001b[1;33m[\u001b[0m\u001b[1;33m:\u001b[0m\u001b[1;36m2\u001b[0m\u001b[1;33m]\u001b[0m\u001b[1;33m\u001b[0m\u001b[1;33m\u001b[0m\u001b[0m\n\u001b[1;32m--> 255\u001b[1;33m             \u001b[0mself\u001b[0m\u001b[1;33m.\u001b[0m\u001b[0merrorhandler\u001b[0m\u001b[1;33m(\u001b[0m\u001b[0mself\u001b[0m\u001b[1;33m,\u001b[0m \u001b[0mexc\u001b[0m\u001b[1;33m,\u001b[0m \u001b[0mvalue\u001b[0m\u001b[1;33m)\u001b[0m\u001b[1;33m\u001b[0m\u001b[1;33m\u001b[0m\u001b[0m\n\u001b[0m\u001b[0;32m    256\u001b[0m         \u001b[1;32mif\u001b[0m \u001b[1;32mnot\u001b[0m \u001b[0mself\u001b[0m\u001b[1;33m.\u001b[0m\u001b[0m_defer_warnings\u001b[0m\u001b[1;33m:\u001b[0m\u001b[1;33m\u001b[0m\u001b[1;33m\u001b[0m\u001b[0m\n\u001b[0;32m    257\u001b[0m             \u001b[0mself\u001b[0m\u001b[1;33m.\u001b[0m\u001b[0m_warning_check\u001b[0m\u001b[1;33m(\u001b[0m\u001b[1;33m)\u001b[0m\u001b[1;33m\u001b[0m\u001b[1;33m\u001b[0m\u001b[0m\n",
      "\u001b[1;32mC:\\ProgramData\\Anaconda3\\lib\\site-packages\\MySQLdb\\connections.py\u001b[0m in \u001b[0;36mdefaulterrorhandler\u001b[1;34m(***failed resolving arguments***)\u001b[0m\n\u001b[0;32m     48\u001b[0m     \u001b[1;32mdel\u001b[0m \u001b[0mconnection\u001b[0m\u001b[1;33m\u001b[0m\u001b[1;33m\u001b[0m\u001b[0m\n\u001b[0;32m     49\u001b[0m     \u001b[1;32mif\u001b[0m \u001b[0misinstance\u001b[0m\u001b[1;33m(\u001b[0m\u001b[0merrorvalue\u001b[0m\u001b[1;33m,\u001b[0m \u001b[0mBaseException\u001b[0m\u001b[1;33m)\u001b[0m\u001b[1;33m:\u001b[0m\u001b[1;33m\u001b[0m\u001b[1;33m\u001b[0m\u001b[0m\n\u001b[1;32m---> 50\u001b[1;33m         \u001b[1;32mraise\u001b[0m \u001b[0merrorvalue\u001b[0m\u001b[1;33m\u001b[0m\u001b[1;33m\u001b[0m\u001b[0m\n\u001b[0m\u001b[0;32m     51\u001b[0m     \u001b[1;32mif\u001b[0m \u001b[0merrorclass\u001b[0m \u001b[1;32mis\u001b[0m \u001b[1;32mnot\u001b[0m \u001b[1;32mNone\u001b[0m\u001b[1;33m:\u001b[0m\u001b[1;33m\u001b[0m\u001b[1;33m\u001b[0m\u001b[0m\n\u001b[0;32m     52\u001b[0m         \u001b[1;32mraise\u001b[0m \u001b[0merrorclass\u001b[0m\u001b[1;33m(\u001b[0m\u001b[0merrorvalue\u001b[0m\u001b[1;33m)\u001b[0m\u001b[1;33m\u001b[0m\u001b[1;33m\u001b[0m\u001b[0m\n",
      "\u001b[1;32mC:\\ProgramData\\Anaconda3\\lib\\site-packages\\MySQLdb\\cursors.py\u001b[0m in \u001b[0;36mexecute\u001b[1;34m(self, query, args)\u001b[0m\n\u001b[0;32m    250\u001b[0m         \u001b[0mres\u001b[0m \u001b[1;33m=\u001b[0m \u001b[1;32mNone\u001b[0m\u001b[1;33m\u001b[0m\u001b[1;33m\u001b[0m\u001b[0m\n\u001b[0;32m    251\u001b[0m         \u001b[1;32mtry\u001b[0m\u001b[1;33m:\u001b[0m\u001b[1;33m\u001b[0m\u001b[1;33m\u001b[0m\u001b[0m\n\u001b[1;32m--> 252\u001b[1;33m             \u001b[0mres\u001b[0m \u001b[1;33m=\u001b[0m \u001b[0mself\u001b[0m\u001b[1;33m.\u001b[0m\u001b[0m_query\u001b[0m\u001b[1;33m(\u001b[0m\u001b[0mquery\u001b[0m\u001b[1;33m)\u001b[0m\u001b[1;33m\u001b[0m\u001b[1;33m\u001b[0m\u001b[0m\n\u001b[0m\u001b[0;32m    253\u001b[0m         \u001b[1;32mexcept\u001b[0m \u001b[0mException\u001b[0m\u001b[1;33m:\u001b[0m\u001b[1;33m\u001b[0m\u001b[1;33m\u001b[0m\u001b[0m\n\u001b[0;32m    254\u001b[0m             \u001b[0mexc\u001b[0m\u001b[1;33m,\u001b[0m \u001b[0mvalue\u001b[0m \u001b[1;33m=\u001b[0m \u001b[0msys\u001b[0m\u001b[1;33m.\u001b[0m\u001b[0mexc_info\u001b[0m\u001b[1;33m(\u001b[0m\u001b[1;33m)\u001b[0m\u001b[1;33m[\u001b[0m\u001b[1;33m:\u001b[0m\u001b[1;36m2\u001b[0m\u001b[1;33m]\u001b[0m\u001b[1;33m\u001b[0m\u001b[1;33m\u001b[0m\u001b[0m\n",
      "\u001b[1;32mC:\\ProgramData\\Anaconda3\\lib\\site-packages\\MySQLdb\\cursors.py\u001b[0m in \u001b[0;36m_query\u001b[1;34m(self, q)\u001b[0m\n\u001b[0;32m    376\u001b[0m         \u001b[0mdb\u001b[0m \u001b[1;33m=\u001b[0m \u001b[0mself\u001b[0m\u001b[1;33m.\u001b[0m\u001b[0m_get_db\u001b[0m\u001b[1;33m(\u001b[0m\u001b[1;33m)\u001b[0m\u001b[1;33m\u001b[0m\u001b[1;33m\u001b[0m\u001b[0m\n\u001b[0;32m    377\u001b[0m         \u001b[0mself\u001b[0m\u001b[1;33m.\u001b[0m\u001b[0m_result\u001b[0m \u001b[1;33m=\u001b[0m \u001b[1;32mNone\u001b[0m\u001b[1;33m\u001b[0m\u001b[1;33m\u001b[0m\u001b[0m\n\u001b[1;32m--> 378\u001b[1;33m         \u001b[0mdb\u001b[0m\u001b[1;33m.\u001b[0m\u001b[0mquery\u001b[0m\u001b[1;33m(\u001b[0m\u001b[0mq\u001b[0m\u001b[1;33m)\u001b[0m\u001b[1;33m\u001b[0m\u001b[1;33m\u001b[0m\u001b[0m\n\u001b[0m\u001b[0;32m    379\u001b[0m         \u001b[0mself\u001b[0m\u001b[1;33m.\u001b[0m\u001b[0m_do_get_result\u001b[0m\u001b[1;33m(\u001b[0m\u001b[0mdb\u001b[0m\u001b[1;33m)\u001b[0m\u001b[1;33m\u001b[0m\u001b[1;33m\u001b[0m\u001b[0m\n\u001b[0;32m    380\u001b[0m         \u001b[0mself\u001b[0m\u001b[1;33m.\u001b[0m\u001b[0m_post_get_result\u001b[0m\u001b[1;33m(\u001b[0m\u001b[1;33m)\u001b[0m\u001b[1;33m\u001b[0m\u001b[1;33m\u001b[0m\u001b[0m\n",
      "\u001b[1;32mC:\\ProgramData\\Anaconda3\\lib\\site-packages\\MySQLdb\\connections.py\u001b[0m in \u001b[0;36mquery\u001b[1;34m(self, query)\u001b[0m\n\u001b[0;32m    278\u001b[0m             \u001b[0mself\u001b[0m\u001b[1;33m.\u001b[0m\u001b[0mread_query_result\u001b[0m\u001b[1;33m(\u001b[0m\u001b[1;33m)\u001b[0m\u001b[1;33m\u001b[0m\u001b[1;33m\u001b[0m\u001b[0m\n\u001b[0;32m    279\u001b[0m         \u001b[1;32melse\u001b[0m\u001b[1;33m:\u001b[0m\u001b[1;33m\u001b[0m\u001b[1;33m\u001b[0m\u001b[0m\n\u001b[1;32m--> 280\u001b[1;33m             \u001b[0m_mysql\u001b[0m\u001b[1;33m.\u001b[0m\u001b[0mconnection\u001b[0m\u001b[1;33m.\u001b[0m\u001b[0mquery\u001b[0m\u001b[1;33m(\u001b[0m\u001b[0mself\u001b[0m\u001b[1;33m,\u001b[0m \u001b[0mquery\u001b[0m\u001b[1;33m)\u001b[0m\u001b[1;33m\u001b[0m\u001b[1;33m\u001b[0m\u001b[0m\n\u001b[0m\u001b[0;32m    281\u001b[0m \u001b[1;33m\u001b[0m\u001b[0m\n\u001b[0;32m    282\u001b[0m     \u001b[1;32mdef\u001b[0m \u001b[0m__enter__\u001b[0m\u001b[1;33m(\u001b[0m\u001b[0mself\u001b[0m\u001b[1;33m)\u001b[0m\u001b[1;33m:\u001b[0m\u001b[1;33m\u001b[0m\u001b[1;33m\u001b[0m\u001b[0m\n",
      "\u001b[1;31mIntegrityError\u001b[0m: (1062, \"Duplicate entry '171539' for key 'PRIMARY'\")"
     ]
    }
   ],
   "source": [
    "insert_movie(sample_movie)"
   ]
  },
  {
   "cell_type": "code",
   "execution_count": 24,
   "metadata": {},
   "outputs": [
    {
     "name": "stdout",
     "output_type": "stream",
     "text": [
      "\n",
      "    INSERT INTO naver_movie\n",
      "    (code, title, story, open_date)\n",
      "    VALUES('171539', '그린 북', %s, '2019-01-09')\n",
      "    \n",
      "\n",
      "    INSERT INTO naver_movie\n",
      "    (code, title, story, open_date)\n",
      "    VALUES('174830', '가버나움', %s, '2019-01-24')\n",
      "    \n",
      "\n",
      "    INSERT INTO naver_movie\n",
      "    (code, title, story, open_date)\n",
      "    VALUES('144906', '베일리 어게인', %s, '2018-11-22')\n",
      "    \n",
      "\n",
      "    INSERT INTO naver_movie\n",
      "    (code, title, story, open_date)\n",
      "    VALUES('163788', '알라딘', %s, '2019-05-23')\n",
      "    \n",
      "\n",
      "    INSERT INTO naver_movie\n",
      "    (code, title, story, open_date)\n",
      "    VALUES('169240', '아일라', %s, '2018-06-21')\n",
      "    \n",
      "\n",
      "    INSERT INTO naver_movie\n",
      "    (code, title, story, open_date)\n",
      "    VALUES('151196', '원더', %s, '2017-12-27')\n",
      "    \n",
      "\n",
      "    INSERT INTO naver_movie\n",
      "    (code, title, story, open_date)\n",
      "    VALUES('157243', '당갈', %s, '2018-04-25')\n",
      "    \n",
      "\n",
      "    INSERT INTO naver_movie\n",
      "    (code, title, story, open_date)\n",
      "    VALUES('156464', '보헤미안 랩소디', %s, '2018-10-31')\n",
      "    \n",
      "\n",
      "    INSERT INTO naver_movie\n",
      "    (code, title, story, open_date)\n",
      "    VALUES('17421', '쇼생크 탈출', %s, '2016-02-24 1995-01-28')\n",
      "    \n",
      "\n",
      "    INSERT INTO naver_movie\n",
      "    (code, title, story, open_date)\n",
      "    VALUES('154667', '덕구', %s, '2018-04-05')\n",
      "    \n",
      "\n",
      "    INSERT INTO naver_movie\n",
      "    (code, title, story, open_date)\n",
      "    VALUES('10200', '터미네이터 2', %s, '2019-102015-07-162013-11-14 1991-07-06')\n",
      "    \n",
      "\n",
      "    INSERT INTO naver_movie\n",
      "    (code, title, story, open_date)\n",
      "    VALUES('69105', '월-E', %s, '2008-08-06')\n",
      "    \n",
      "\n",
      "    INSERT INTO naver_movie\n",
      "    (code, title, story, open_date)\n",
      "    VALUES('10016', '나 홀로 집에', %s, '1991-07-06')\n",
      "    \n",
      "\n",
      "    INSERT INTO naver_movie\n",
      "    (code, title, story, open_date)\n",
      "    VALUES('18988', '라이언 일병 구하기', %s, '1998-09-12')\n",
      "    \n",
      "\n",
      "    INSERT INTO naver_movie\n",
      "    (code, title, story, open_date)\n",
      "    VALUES('22126', '인생은 아름다워', %s, '2016-04-13 1999-03-06')\n",
      "    \n",
      "\n",
      "    INSERT INTO naver_movie\n",
      "    (code, title, story, open_date)\n",
      "    VALUES('24452', '매트릭스', %s, '2016-09-22 1999-05-15')\n",
      "    \n",
      "\n",
      "    INSERT INTO naver_movie\n",
      "    (code, title, story, open_date)\n",
      "    VALUES('10102', '사운드 오브 뮤직', %s, '2017-02-022012-01-231995-09-301978-02-04 1969-10-29')\n",
      "    \n",
      "\n",
      "    INSERT INTO naver_movie\n",
      "    (code, title, story, open_date)\n",
      "    VALUES('136900', '어벤져스: 엔드게임', %s, '2019-04-24')\n",
      "    \n",
      "\n",
      "    INSERT INTO naver_movie\n",
      "    (code, title, story, open_date)\n",
      "    VALUES('10002', '빽 투 더 퓨쳐', %s, '2015-10-21 1987-07-17')\n",
      "    \n",
      "\n",
      "    INSERT INTO naver_movie\n",
      "    (code, title, story, open_date)\n",
      "    VALUES('17159', '포레스트 검프', %s, '2016-09-07 1994-10-15')\n",
      "    \n",
      "\n",
      "    INSERT INTO naver_movie\n",
      "    (code, title, story, open_date)\n",
      "    VALUES('82432', '헬프', %s, '2011-11-03')\n",
      "    \n",
      "\n",
      "    INSERT INTO naver_movie\n",
      "    (code, title, story, open_date)\n",
      "    VALUES('92125', '헌터 킬러', %s, '2018-12-06')\n",
      "    \n",
      "\n",
      "    INSERT INTO naver_movie\n",
      "    (code, title, story, open_date)\n",
      "    VALUES('29217', '글래디에이터', %s, '2000-06-03')\n",
      "    \n",
      "\n",
      "    INSERT INTO naver_movie\n",
      "    (code, title, story, open_date)\n",
      "    VALUES('35901', '살인의 추억', %s, '2003-04-25')\n",
      "    \n",
      "\n",
      "    INSERT INTO naver_movie\n",
      "    (code, title, story, open_date)\n",
      "    VALUES('66463', '토이 스토리 3', %s, '2010-08-05')\n",
      "    \n",
      "\n",
      "    INSERT INTO naver_movie\n",
      "    (code, title, story, open_date)\n",
      "    VALUES('32686', '센과 치히로의 행방불명', %s, '2015-02-05 2002-06-28')\n",
      "    \n",
      "\n",
      "    INSERT INTO naver_movie\n",
      "    (code, title, story, open_date)\n",
      "    VALUES('106360', '위대한 쇼맨', %s, '2017-12-20')\n",
      "    \n",
      "\n",
      "    INSERT INTO naver_movie\n",
      "    (code, title, story, open_date)\n",
      "    VALUES('10048', '죽은 시인의 사회', %s, '2016-08-17 1990-05-19')\n",
      "    \n",
      "\n",
      "    INSERT INTO naver_movie\n",
      "    (code, title, story, open_date)\n",
      "    VALUES('17170', '레옹', %s, '2013-04-111998-01-24 1995-02-18')\n",
      "    \n",
      "\n",
      "    INSERT INTO naver_movie\n",
      "    (code, title, story, open_date)\n",
      "    VALUES('35939', '클래식', %s, '2003-01-30')\n",
      "    \n",
      "\n",
      "    INSERT INTO naver_movie\n",
      "    (code, title, story, open_date)\n",
      "    VALUES('161850', '아이 캔 스피크', %s, '2017-09-21')\n",
      "    \n",
      "\n",
      "    INSERT INTO naver_movie\n",
      "    (code, title, story, open_date)\n",
      "    VALUES('31796', '반지의 제왕: 왕의 귀환', %s, '2017-01-25 2003-12-17')\n",
      "    \n",
      "\n",
      "    INSERT INTO naver_movie\n",
      "    (code, title, story, open_date)\n",
      "    VALUES('183132', '교회오빠', %s, '2019-05-16')\n",
      "    \n",
      "\n",
      "    INSERT INTO naver_movie\n",
      "    (code, title, story, open_date)\n",
      "    VALUES('31162', '캐스트 어웨이', %s, '2001-02-03')\n",
      "    \n",
      "\n",
      "    INSERT INTO naver_movie\n",
      "    (code, title, story, open_date)\n",
      "    VALUES('134899', '동주', %s, '2016-02-17')\n",
      "    \n",
      "\n",
      "    INSERT INTO naver_movie\n",
      "    (code, title, story, open_date)\n",
      "    VALUES('17541', '굿바이 마이 프랜드', %s, '1996-08-05')\n",
      "    \n",
      "\n",
      "    INSERT INTO naver_movie\n",
      "    (code, title, story, open_date)\n",
      "    VALUES('12482', '여인의 향기', %s, '1993-03-20')\n",
      "    \n",
      "\n",
      "    INSERT INTO naver_movie\n",
      "    (code, title, story, open_date)\n",
      "    VALUES('130850', '주토피아', %s, '2016-02-17')\n",
      "    \n",
      "\n",
      "    INSERT INTO naver_movie\n",
      "    (code, title, story, open_date)\n",
      "    VALUES('73372', '세 얼간이', %s, '2016-11-09 2011-08-18')\n",
      "    \n",
      "\n",
      "    INSERT INTO naver_movie\n",
      "    (code, title, story, open_date)\n",
      "    VALUES('147092', '히든 피겨스', %s, '2017-03-23')\n",
      "    \n",
      "\n",
      "    INSERT INTO naver_movie\n",
      "    (code, title, story, open_date)\n",
      "    VALUES('37886', '클레멘타인', %s, '2004-05-21')\n",
      "    \n",
      "\n",
      "    INSERT INTO naver_movie\n",
      "    (code, title, story, open_date)\n",
      "    VALUES('39636', '지금, 만나러 갑니다', %s, '2018-04-19 2005-03-25')\n",
      "    \n",
      "\n",
      "    INSERT INTO naver_movie\n",
      "    (code, title, story, open_date)\n",
      "    VALUES('14450', '쉰들러 리스트', %s, '2019-01-24 1994-03-05')\n",
      "    \n",
      "\n",
      "    INSERT INTO naver_movie\n",
      "    (code, title, story, open_date)\n",
      "    VALUES('14448', '패왕별희', %s, '1993-12-24')\n",
      "    \n",
      "\n",
      "    INSERT INTO naver_movie\n",
      "    (code, title, story, open_date)\n",
      "    VALUES('18543', '서유기 2 - 선리기연', %s, '2010-06-01')\n",
      "    \n",
      "\n",
      "    INSERT INTO naver_movie\n",
      "    (code, title, story, open_date)\n",
      "    VALUES('19079', '굿 윌 헌팅', %s, '2016-08-17 1998-03-21')\n",
      "    \n",
      "\n",
      "    INSERT INTO naver_movie\n",
      "    (code, title, story, open_date)\n",
      "    VALUES('73476', '그대를 사랑합니다', %s, '2011-02-17')\n",
      "    \n",
      "\n",
      "    INSERT INTO naver_movie\n",
      "    (code, title, story, open_date)\n",
      "    VALUES('87566', '언터처블: 1%의 우정', %s, '2012-03-22')\n",
      "    \n",
      "\n",
      "    INSERT INTO naver_movie\n",
      "    (code, title, story, open_date)\n",
      "    VALUES('154573', '다시 태어나도 우리', %s, '2017-09-27')\n",
      "    \n",
      "\n",
      "    INSERT INTO naver_movie\n",
      "    (code, title, story, open_date)\n",
      "    VALUES('18847', '타이타닉', %s, '2018-02-012012-04-05 1998-02-20')\n",
      "    \n"
     ]
    }
   ],
   "source": [
    "from MySQLdb import IntegrityError\n",
    "\n",
    "movie_list = get_movie_list()\n",
    "for movie in movie_list:\n",
    "    \n",
    "    movie = get_movie_info(movie)\n",
    "    try:\n",
    "        insert_movie(movie)\n",
    "    except IntegrityError :\n",
    "        pass\n",
    "    except Exception:\n",
    "        pass\n",
    "    \n",
    "    "
   ]
  },
  {
   "cell_type": "code",
   "execution_count": 52,
   "metadata": {},
   "outputs": [],
   "source": [
    "def get_comment_list(code, last_page=1):\n",
    "    url = 'https://movie.naver.com/movie/bi/mi/pointWriteFormList.nhn'\n",
    "    params = {\n",
    "        'code': code,\n",
    "        'type': 'after',\n",
    "        'order': 'newest'\n",
    "    }\n",
    "    result_list = []\n",
    "    for page in range(1, last_page+1):\n",
    "        params['page'] = page\n",
    "        \n",
    "        resp = requests.get(url, params)\n",
    "        soup = BeautifulSoup(resp.content)\n",
    "        reple_list = soup.find('div', class_='score_result').find_all('li')\n",
    "        \n",
    "        for reple in reple_list:\n",
    "            score = reple.find(class_='star_score').text.strip()\n",
    "            content = reple.find('p')\n",
    "            name_n_date = content.find_next_sibling('dl').find_all('em')\n",
    "            \n",
    "            content = content.text\n",
    "            \n",
    "            nickname = name_n_date[0]\n",
    "            date = name_n_date[1]\n",
    "            result_list.append({\n",
    "                'write_name':nickname,\n",
    "                'write_date': date.text,\n",
    "                'content': content,\n",
    "                'score': score,\n",
    "                'code': code\n",
    "            })\n",
    "    return result_list\n",
    "        "
   ]
  },
  {
   "cell_type": "code",
   "execution_count": 53,
   "metadata": {
    "scrolled": true
   },
   "outputs": [
    {
     "data": {
      "text/plain": [
       "[{'write_name': <em>\n",
       "  <a href=\"#\" onclick=\"javascript:showPointListByNid(15815091, 'after');parent.clickcr(this, 'ara.uid', '', '', event); return false;\" target=\"_top\">\n",
       "  <span>신영(youn****)</span>\n",
       "  </a>\n",
       "  </em>,\n",
       "  'write_date': '2019.06.16 18:48',\n",
       "  'content': '관람객난 이미 퀸을 알고 있었다  ',\n",
       "  'score': '10',\n",
       "  'code': '156464'},\n",
       " {'write_name': <em>\n",
       "  <a href=\"#\" onclick=\"javascript:showPointListByNid(15810155, 'after');parent.clickcr(this, 'ara.uid', '', '', event); return false;\" target=\"_top\">\n",
       "  <span>태바기(nogo****)</span>\n",
       "  </a>\n",
       "  </em>,\n",
       "  'write_date': '2019.06.15 00:02',\n",
       "  'content': '진짜 공감이다 이거!!!!  ',\n",
       "  'score': '10',\n",
       "  'code': '156464'},\n",
       " {'write_name': <em>\n",
       "  <a href=\"#\" onclick=\"javascript:showPointListByNid(15806789, 'after');parent.clickcr(this, 'ara.uid', '', '', event); return false;\" target=\"_top\">\n",
       "  <span>소(aksg****)</span>\n",
       "  </a>\n",
       "  </em>,\n",
       "  'write_date': '2019.06.13 23:50',\n",
       "  'content': '관람객와 보다가 울었음..너무 슬펐음 ..진짜루다  ',\n",
       "  'score': '10',\n",
       "  'code': '156464'},\n",
       " {'write_name': <em>\n",
       "  <a href=\"#\" onclick=\"javascript:showPointListByNid(15806256, 'after');parent.clickcr(this, 'ara.uid', '', '', event); return false;\" target=\"_top\">\n",
       "  <span>양찬호(yang****)</span>\n",
       "  </a>\n",
       "  </em>,\n",
       "  'write_date': '2019.06.13 21:22',\n",
       "  'content': '최고의 음악영화이다 레알  ',\n",
       "  'score': '10',\n",
       "  'code': '156464'},\n",
       " {'write_name': <em>\n",
       "  <a href=\"#\" onclick=\"javascript:showPointListByNid(15804249, 'after');parent.clickcr(this, 'ara.uid', '', '', event); return false;\" target=\"_top\">\n",
       "  <span>wing****</span>\n",
       "  </a>\n",
       "  </em>,\n",
       "  'write_date': '2019.06.13 03:43',\n",
       "  'content': '퀸 노래를 하도 많이 들어서  영화를 보면서 지겨울줄 알았는데영화 끝나고  유튜브로  음악 풀영상 듣고있습니다.  ',\n",
       "  'score': '8',\n",
       "  'code': '156464'},\n",
       " {'write_name': <em>\n",
       "  <a href=\"#\" onclick=\"javascript:showPointListByNid(15802124, 'after');parent.clickcr(this, 'ara.uid', '', '', event); return false;\" target=\"_top\">\n",
       "  <span>ku07****</span>\n",
       "  </a>\n",
       "  </em>,\n",
       "  'write_date': '2019.06.12 15:16',\n",
       "  'content': '관람객프레디형 치아가 섹시하다고 생각이 됩니다  ',\n",
       "  'score': '10',\n",
       "  'code': '156464'},\n",
       " {'write_name': <em>\n",
       "  <a href=\"#\" onclick=\"javascript:showPointListByNid(15801435, 'after');parent.clickcr(this, 'ara.uid', '', '', event); return false;\" target=\"_top\">\n",
       "  <span>syl0****</span>\n",
       "  </a>\n",
       "  </em>,\n",
       "  'write_date': '2019.06.12 10:59',\n",
       "  'content': '최고의 영화 내 인생 영화  ',\n",
       "  'score': '10',\n",
       "  'code': '156464'},\n",
       " {'write_name': <em>\n",
       "  <a href=\"#\" onclick=\"javascript:showPointListByNid(15801196, 'after');parent.clickcr(this, 'ara.uid', '', '', event); return false;\" target=\"_top\">\n",
       "  <span>고정미(jung****)</span>\n",
       "  </a>\n",
       "  </em>,\n",
       "  'write_date': '2019.06.12 06:35',\n",
       "  'content': '6만명만 더  봤으면 1000만인데 아깝네....  ',\n",
       "  'score': '10',\n",
       "  'code': '156464'},\n",
       " {'write_name': <em>\n",
       "  <a href=\"#\" onclick=\"javascript:showPointListByNid(15798135, 'after');parent.clickcr(this, 'ara.uid', '', '', event); return false;\" target=\"_top\">\n",
       "  <span>2001****</span>\n",
       "  </a>\n",
       "  </em>,\n",
       "  'write_date': '2019.06.10 21:52',\n",
       "  'content': '이제서야 겨우 봤다...기대 그 이상이다...몇번을 울컥했는지 모른다..역시 명불허전...그시절 프레드머큐리를 몰랐던 내자신이 부끄러워진다  ',\n",
       "  'score': '10',\n",
       "  'code': '156464'},\n",
       " {'write_name': <em>\n",
       "  <a href=\"#\" onclick=\"javascript:showPointListByNid(15797836, 'after');parent.clickcr(this, 'ara.uid', '', '', event); return false;\" target=\"_top\">\n",
       "  <span>bluestar(kwon****)</span>\n",
       "  </a>\n",
       "  </em>,\n",
       "  'write_date': '2019.06.10 19:40',\n",
       "  'content': '크크끄크끄크크끄크크  ',\n",
       "  'score': '10',\n",
       "  'code': '156464'}]"
      ]
     },
     "execution_count": 53,
     "metadata": {},
     "output_type": "execute_result"
    }
   ],
   "source": [
    "get_comment_list('156464')"
   ]
  },
  {
   "cell_type": "code",
   "execution_count": 58,
   "metadata": {},
   "outputs": [],
   "source": [
    "def insert_comment(comment):\n",
    "    score = comment.get('score')\n",
    "    writer = comment.get('writer')\n",
    "    write_date = comment.get('write_date')\n",
    "    write_date = '-'.join(write_date.split('.'))\n",
    "    \n",
    "    content = comment.get('content')\n",
    "    movie_code = comment.get('code')\n",
    "    \n",
    "\n",
    "    \n",
    "    query = \"\"\"\n",
    "    INSERT INTO movie_comment(score, writer, write_date, conetent, movie_code)\n",
    "    VALUES('{}', '{}', '{}', '{}', '{}')\n",
    "    \"\"\".format(score, writer, write_date, content, movie_code)\n",
    "    \n",
    "    cur.execute(query)\n",
    "    db.commit()"
   ]
  },
  {
   "cell_type": "code",
   "execution_count": 59,
   "metadata": {},
   "outputs": [],
   "source": [
    "comment_list = get_comment_list('171539')\n",
    "for comment in comment_list:\n",
    "    insert_comment(comment)"
   ]
  },
  {
   "cell_type": "code",
   "execution_count": 61,
   "metadata": {},
   "outputs": [],
   "source": [
    "for movie in movie_list:\n",
    "    try:\n",
    "        comment_list = get_comment_list(movie['code'])\n",
    "        for comment in comment_list:\n",
    "            insert_comment(comment)\n",
    "    except Exception:\n",
    "        pass"
   ]
  },
  {
   "cell_type": "code",
   "execution_count": null,
   "metadata": {},
   "outputs": [],
   "source": []
  }
 ],
 "metadata": {
  "kernelspec": {
   "display_name": "Python 3",
   "language": "python",
   "name": "python3"
  },
  "language_info": {
   "codemirror_mode": {
    "name": "ipython",
    "version": 3
   },
   "file_extension": ".py",
   "mimetype": "text/x-python",
   "name": "python",
   "nbconvert_exporter": "python",
   "pygments_lexer": "ipython3",
   "version": "3.7.3"
  }
 },
 "nbformat": 4,
 "nbformat_minor": 2
}
