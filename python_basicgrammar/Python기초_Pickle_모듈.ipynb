{
 "cells": [
  {
   "cell_type": "markdown",
   "metadata": {},
   "source": [
    "# 부록. Pickle 모듈\n",
    "### 기본 설정 - 저장 경로 설정"
   ]
  },
  {
   "cell_type": "code",
   "execution_count": 6,
   "metadata": {},
   "outputs": [],
   "source": [
    "# 내가 저장할 파일의 경로 생성\n",
    "import os\n",
    "import sys\n",
    "dirpath = os.path.join(os.getcwd(), 'pickle_data')\n",
    "# 현재 작업 경로에 이 경로가 존재하나요?\n",
    "dirpath\n",
    "\n",
    "if not os.path.exists(dirpath):\n",
    "    os.makedirs(dirpath)\n",
    "# 만약 존재하지 않으면, 폴더를 만들겠습니다."
   ]
  },
  {
   "cell_type": "markdown",
   "metadata": {},
   "source": [
    "### pickle 모듈을 이용한 리스트 파일에 저장하기"
   ]
  },
  {
   "cell_type": "code",
   "execution_count": 7,
   "metadata": {},
   "outputs": [],
   "source": [
    "# 객체 그 자체로 저장하는 pickle 모듈.\n",
    "import pickle\n",
    "file1 = os.path.join(dirpath, 'data1.p')\n",
    "\n",
    "text = [\"First File\", \"Second Line\"]\n",
    "\n",
    "with open(file1, 'wb') as file: #data.p 파일을 바이너리 쓰기모드로 열기\n",
    "    # 왜 why? 리스트 자체를 저장할 것이기 때문이다.\n",
    "    pickle.dump(text, file)"
   ]
  },
  {
   "cell_type": "markdown",
   "metadata": {},
   "source": [
    "### pickle 모듈을 이용한 리스트 파일에서 불러오기"
   ]
  },
  {
   "cell_type": "code",
   "execution_count": 8,
   "metadata": {},
   "outputs": [
    {
     "name": "stdout",
     "output_type": "stream",
     "text": [
      "['First File', 'Second Line']\n"
     ]
    }
   ],
   "source": [
    "with open(file1, 'rb') as file: #data.p 파일을 바이너리 읽기모드로 열기\n",
    "    data2 = pickle.load(file)\n",
    "    print(data2)\n",
    "    # 파이썬 객체 그 자체를 했기 때문에, 리스트가 나올 것을 기대한다."
   ]
  },
  {
   "cell_type": "code",
   "execution_count": 9,
   "metadata": {},
   "outputs": [
    {
     "data": {
      "text/plain": [
       "list"
      ]
     },
     "execution_count": 9,
     "metadata": {},
     "output_type": "execute_result"
    }
   ],
   "source": [
    "type(data2)"
   ]
  },
  {
   "cell_type": "markdown",
   "metadata": {},
   "source": [
    "### 비교를 위한 text파일로 저장"
   ]
  },
  {
   "cell_type": "code",
   "execution_count": 12,
   "metadata": {},
   "outputs": [],
   "source": [
    "file1_str = os.path.join(dirpath, 'data1_str.p')\n",
    "\n",
    "text = [\"First File\", \"Second Line\"]\n",
    "\n",
    "with open(file1_str, 'w') as file: #data.p 파일을 텍스트 파일로 열기\n",
    "    # 왜 why? 리스트 자체를 저장할 것이기 때문이다.\n",
    "    file.write(str(text))\n",
    "    # 객체 자체를 내보낼 수 없다. 따라서 str을 붙여준다."
   ]
  },
  {
   "cell_type": "code",
   "execution_count": 14,
   "metadata": {},
   "outputs": [
    {
     "name": "stdout",
     "output_type": "stream",
     "text": [
      "['First File', 'Second Line']\n"
     ]
    }
   ],
   "source": [
    "with open(file1_str, 'r') as file:\n",
    "    text = file.read()\n",
    "    print(text)"
   ]
  },
  {
   "cell_type": "code",
   "execution_count": 16,
   "metadata": {},
   "outputs": [
    {
     "data": {
      "text/plain": [
       "str"
      ]
     },
     "execution_count": 16,
     "metadata": {},
     "output_type": "execute_result"
    }
   ],
   "source": [
    "type(text)\n",
    "# list가 아닌 str인 것을 확인할 수 있다."
   ]
  },
  {
   "cell_type": "markdown",
   "metadata": {},
   "source": [
    "### pickle 모듈을 이용한 여러가지 자료형 파일에 저장하기"
   ]
  },
  {
   "cell_type": "code",
   "execution_count": 21,
   "metadata": {},
   "outputs": [],
   "source": [
    "import pickle\n",
    "file2 = os.path.join(dirpath, 'data2.p')\n",
    "\n",
    "name = 'tom'\n",
    "age = 24\n",
    "address = '서울시 마포구'\n",
    "scores = {'python': 90, 'deeplearning': 95, 'database': 85}\n",
    "\n",
    "with open(file2, 'wb') as file: #data.p 파일을 바이너리 쓰기모드로 열기\n",
    "    pickle.dump(name, file)\n",
    "    pickle.dump(age, file)\n",
    "    pickle.dump(address, file)\n",
    "    pickle.dump(scores, file)"
   ]
  },
  {
   "cell_type": "markdown",
   "metadata": {},
   "source": [
    "### pickle 모듈을 이용한 여러가지 자료형 파일에서 불러오기"
   ]
  },
  {
   "cell_type": "code",
   "execution_count": 25,
   "metadata": {},
   "outputs": [
    {
     "name": "stdout",
     "output_type": "stream",
     "text": [
      "tom\n",
      "<class 'str'>\n",
      "24\n",
      "<class 'int'>\n",
      "서울시 마포구\n",
      "<class 'str'>\n",
      "{'python': 90, 'deeplearning': 95, 'database': 85}\n",
      "<class 'dict'>\n",
      "90\n"
     ]
    }
   ],
   "source": [
    "with open(file2, 'rb') as file: #data.p 파일을 바이너리 읽기모드로 열기\n",
    "    name2 = pickle.load(file)\n",
    "    age2 = pickle.load(file)\n",
    "    address2 = pickle.load(file)\n",
    "    scores2 = pickle.load(file)\n",
    "    print(name2)\n",
    "    print(type(name2))\n",
    "    print(age2)\n",
    "    print(type(age2))\n",
    "    print(address2)\n",
    "    print(type(address2))\n",
    "    print(scores2)\n",
    "    print(type(scores2))\n",
    "    \n",
    "    print(scores2['python'])"
   ]
  },
  {
   "cell_type": "markdown",
   "metadata": {},
   "source": [
    "피클데이터로 저장을 하면, 그대로 객체로 저장되기 때문에, 불러오기가 상당히 편하다. \n",
    "But, 보안상의 issue가 있기 때문에, 조심합시다. "
   ]
  },
  {
   "cell_type": "code",
   "execution_count": null,
   "metadata": {},
   "outputs": [],
   "source": []
  }
 ],
 "metadata": {
  "kernelspec": {
   "display_name": "Python 3",
   "language": "python",
   "name": "python3"
  },
  "language_info": {
   "codemirror_mode": {
    "name": "ipython",
    "version": 3
   },
   "file_extension": ".py",
   "mimetype": "text/x-python",
   "name": "python",
   "nbconvert_exporter": "python",
   "pygments_lexer": "ipython3",
   "version": "3.7.3"
  }
 },
 "nbformat": 4,
 "nbformat_minor": 2
}
