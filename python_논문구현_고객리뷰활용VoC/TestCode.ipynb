{
 "cells": [
  {
   "cell_type": "code",
   "execution_count": 8,
   "metadata": {},
   "outputs": [
    {
     "name": "stderr",
     "output_type": "stream",
     "text": [
      "[nltk_data] Downloading package punkt to\n",
      "[nltk_data]     C:\\Users\\User\\AppData\\Roaming\\nltk_data...\n",
      "[nltk_data]   Package punkt is already up-to-date!\n"
     ]
    },
    {
     "data": {
      "text/html": [
       "<div>\n",
       "<style scoped>\n",
       "    .dataframe tbody tr th:only-of-type {\n",
       "        vertical-align: middle;\n",
       "    }\n",
       "\n",
       "    .dataframe tbody tr th {\n",
       "        vertical-align: top;\n",
       "    }\n",
       "\n",
       "    .dataframe thead th {\n",
       "        text-align: right;\n",
       "    }\n",
       "</style>\n",
       "<table border=\"1\" class=\"dataframe\">\n",
       "  <thead>\n",
       "    <tr style=\"text-align: right;\">\n",
       "      <th></th>\n",
       "      <th>Sentence</th>\n",
       "      <th>SS/CS</th>\n",
       "    </tr>\n",
       "  </thead>\n",
       "  <tbody>\n",
       "    <tr>\n",
       "      <th>0</th>\n",
       "      <td>who are you JJR</td>\n",
       "      <td>NaN</td>\n",
       "    </tr>\n",
       "    <tr>\n",
       "      <th>1</th>\n",
       "      <td>i dont know</td>\n",
       "      <td>NaN</td>\n",
       "    </tr>\n",
       "    <tr>\n",
       "      <th>2</th>\n",
       "      <td>who you are?</td>\n",
       "      <td>NaN</td>\n",
       "    </tr>\n",
       "  </tbody>\n",
       "</table>\n",
       "</div>"
      ],
      "text/plain": [
       "          Sentence SS/CS\n",
       "0  who are you JJR   NaN\n",
       "1      i dont know   NaN\n",
       "2     who you are?   NaN"
      ]
     },
     "execution_count": 8,
     "metadata": {},
     "output_type": "execute_result"
    }
   ],
   "source": [
    "import pandas as pd\n",
    "import numpy as np \n",
    "import nltk\n",
    "nltk.download('punkt')\n",
    "from nltk.tokenize import sent_tokenize\n",
    "from nltk.tokenize import word_tokenize\n",
    "\n",
    "df = pd.DataFrame(columns=['Sentence', 'SS/CS'])\n",
    "df['Sentence'] = ['who are you JJR', 'i dont know', 'who you are?']\n",
    "df"
   ]
  },
  {
   "cell_type": "code",
   "execution_count": 16,
   "metadata": {},
   "outputs": [
    {
     "data": {
      "text/plain": [
       "array(['who are you JJR', 'i dont know', 'who you are?'], dtype=object)"
      ]
     },
     "execution_count": 16,
     "metadata": {},
     "output_type": "execute_result"
    }
   ],
   "source": [
    "# 토크나이즈 하고, pos tag붙이는 코드\n",
    "# 문장수 44만개, KW 80개\n",
    "df['Sentence'].values"
   ]
  },
  {
   "cell_type": "code",
   "execution_count": 44,
   "metadata": {},
   "outputs": [
    {
     "name": "stdout",
     "output_type": "stream",
     "text": [
      "<class 'str'>\n",
      "0     True\n",
      "1    False\n",
      "2    False\n",
      "Name: TagSentence, dtype: bool\n",
      "Int64Index([0], dtype='int64')\n",
      "0    False\n",
      "1    False\n",
      "2    False\n",
      "Name: TagSentence, dtype: bool\n",
      "Int64Index([], dtype='int64')\n",
      "0    False\n",
      "1    False\n",
      "2    False\n",
      "Name: TagSentence, dtype: bool\n",
      "Int64Index([], dtype='int64')\n",
      "0    False\n",
      "1    False\n",
      "2    False\n",
      "Name: TagSentence, dtype: bool\n",
      "Int64Index([], dtype='int64')\n",
      "Int64Index([], dtype='int64')\n"
     ]
    },
    {
     "data": {
      "text/html": [
       "<div>\n",
       "<style scoped>\n",
       "    .dataframe tbody tr th:only-of-type {\n",
       "        vertical-align: middle;\n",
       "    }\n",
       "\n",
       "    .dataframe tbody tr th {\n",
       "        vertical-align: top;\n",
       "    }\n",
       "\n",
       "    .dataframe thead th {\n",
       "        text-align: right;\n",
       "    }\n",
       "</style>\n",
       "<table border=\"1\" class=\"dataframe\">\n",
       "  <thead>\n",
       "    <tr style=\"text-align: right;\">\n",
       "      <th></th>\n",
       "      <th>Sentence</th>\n",
       "      <th>SS/CS</th>\n",
       "      <th>TagSentence</th>\n",
       "    </tr>\n",
       "  </thead>\n",
       "  <tbody>\n",
       "    <tr>\n",
       "      <th>0</th>\n",
       "      <td>who are you JJR</td>\n",
       "      <td>CS</td>\n",
       "      <td>[('who', 'WP'), ('are', 'VBP'), ('you', 'PRP')...</td>\n",
       "    </tr>\n",
       "    <tr>\n",
       "      <th>1</th>\n",
       "      <td>i dont know</td>\n",
       "      <td>NaN</td>\n",
       "      <td>[('i', 'JJ'), ('dont', 'NN'), ('know', 'VBP')]</td>\n",
       "    </tr>\n",
       "    <tr>\n",
       "      <th>2</th>\n",
       "      <td>who you are?</td>\n",
       "      <td>NaN</td>\n",
       "      <td>[('who', 'WP'), ('you', 'PRP'), ('are', 'VBP')...</td>\n",
       "    </tr>\n",
       "  </tbody>\n",
       "</table>\n",
       "</div>"
      ],
      "text/plain": [
       "          Sentence SS/CS                                        TagSentence\n",
       "0  who are you JJR    CS  [('who', 'WP'), ('are', 'VBP'), ('you', 'PRP')...\n",
       "1      i dont know   NaN     [('i', 'JJ'), ('dont', 'NN'), ('know', 'VBP')]\n",
       "2     who you are?   NaN  [('who', 'WP'), ('you', 'PRP'), ('are', 'VBP')..."
      ]
     },
     "execution_count": 44,
     "metadata": {},
     "output_type": "execute_result"
    }
   ],
   "source": [
    "df = pd.DataFrame(columns=['Sentence', 'SS/CS'])\n",
    "df['Sentence'] = ['who are you JJR', 'i dont know', 'who you are?']\n",
    "\n",
    "tokens_tag_ls = []\n",
    "for sentence in df['Sentence']:\n",
    "    tokens = word_tokenize(sentence)\n",
    "    tokens_tag = nltk.pos_tag(tokens)\n",
    "    tokens_tag_ls.append(tokens_tag)\n",
    "# print(tokens_tag_ls)\n",
    "\n",
    "df['TagSentence'] = tokens_tag_ls\n",
    "df['TagSentence'] = df['TagSentence'].astype('str')\n",
    "# print(type(df['TagSentence'][0]))\n",
    "\n",
    "# CS 분류\n",
    "# POS_tag_list =['JJR','RBR','JJS','RBS']\n",
    "# KW = ['why']\n",
    "\n",
    "for pos in POS_tag_list:\n",
    "    print(df['TagSentence'].str.contains(pos))\n",
    "    tag_index = df[df['TagSentence'].str.contains(pos)].index\n",
    "    print(tag_index) \n",
    "    df['SS/CS'].loc[tag_index] = 'CS'\n",
    "    \n",
    "for kw in KW:\n",
    "    tag_index = df[df['TagSentence'].str.contains(kw)].index\n",
    "    print(tag_index) \n",
    "    df['SS/CS'].loc[tag_index] = 'CS'\n",
    "    \n",
    "df"
   ]
  },
  {
   "cell_type": "code",
   "execution_count": 12,
   "metadata": {},
   "outputs": [
    {
     "data": {
      "text/html": [
       "<div>\n",
       "<style scoped>\n",
       "    .dataframe tbody tr th:only-of-type {\n",
       "        vertical-align: middle;\n",
       "    }\n",
       "\n",
       "    .dataframe tbody tr th {\n",
       "        vertical-align: top;\n",
       "    }\n",
       "\n",
       "    .dataframe thead th {\n",
       "        text-align: right;\n",
       "    }\n",
       "</style>\n",
       "<table border=\"1\" class=\"dataframe\">\n",
       "  <thead>\n",
       "    <tr style=\"text-align: right;\">\n",
       "      <th></th>\n",
       "      <th>Sentence</th>\n",
       "      <th>SS/CS</th>\n",
       "    </tr>\n",
       "  </thead>\n",
       "  <tbody>\n",
       "    <tr>\n",
       "      <th>0</th>\n",
       "      <td>who are you JJR</td>\n",
       "      <td>CS</td>\n",
       "    </tr>\n",
       "    <tr>\n",
       "      <th>1</th>\n",
       "      <td>i dont know</td>\n",
       "      <td>NaN</td>\n",
       "    </tr>\n",
       "    <tr>\n",
       "      <th>2</th>\n",
       "      <td>who you are?</td>\n",
       "      <td>NaN</td>\n",
       "    </tr>\n",
       "  </tbody>\n",
       "</table>\n",
       "</div>"
      ],
      "text/plain": [
       "          Sentence SS/CS\n",
       "0  who are you JJR    CS\n",
       "1      i dont know   NaN\n",
       "2     who you are?   NaN"
      ]
     },
     "execution_count": 12,
     "metadata": {},
     "output_type": "execute_result"
    }
   ],
   "source": [
    "df"
   ]
  },
  {
   "cell_type": "code",
   "execution_count": null,
   "metadata": {},
   "outputs": [],
   "source": [
    "POS_tag_list =['JJR','RBR','JJS','RBS']\n",
    "df['SS/CS'] = None\n",
    "index_count = 0\n",
    "for sentence in df['Sentence']:\n",
    "    tokens = word_tokenize(sentence)\n",
    "    tokens_tag = nltk.pos_tag(tokens)\n",
    "    for token in tokens_tag:\n",
    "        if token[0] in KW_list or token[1] in POS_tag_list:\n",
    "            df['SS/CS'][index_count] = 'CS'\n",
    "        if df['SS/CS'][index_count] in ['CS']:\n",
    "            continue\n",
    "        else:\n",
    "            df['SS/CS'][index_count] = 'SS'\n",
    "    if index_count % 1000 == 0:\n",
    "        print('현재까지 '+ str(index_count) + ' 번째 문장 완료')\n",
    "    index_count += 1"
   ]
  }
 ],
 "metadata": {
  "kernelspec": {
   "display_name": "Python 3",
   "language": "python",
   "name": "python3"
  },
  "language_info": {
   "codemirror_mode": {
    "name": "ipython",
    "version": 3
   },
   "file_extension": ".py",
   "mimetype": "text/x-python",
   "name": "python",
   "nbconvert_exporter": "python",
   "pygments_lexer": "ipython3",
   "version": "3.7.3"
  }
 },
 "nbformat": 4,
 "nbformat_minor": 2
}
