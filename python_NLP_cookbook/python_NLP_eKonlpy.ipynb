{
 "cells": [
  {
   "cell_type": "code",
   "execution_count": 5,
   "metadata": {},
   "outputs": [
    {
     "name": "stdout",
     "output_type": "stream",
     "text": [
      "Collecting konlpy\n",
      "  Downloading https://files.pythonhosted.org/packages/e5/3d/4e983cd98d87b50b2ab0387d73fa946f745aa8164e8888a714d5129f9765/konlpy-0.5.1-py2.py3-none-any.whl (19.4MB)\n",
      "Collecting JPype1>=0.5.7 (from konlpy)\n",
      "  Downloading https://files.pythonhosted.org/packages/28/63/784834e8a24ec2e1ad7f703c3dc6c6fb372a77cc68a2fdff916e18a4449e/JPype1-0.7.0.tar.gz (470kB)\n",
      "Building wheels for collected packages: JPype1\n",
      "  Building wheel for JPype1 (setup.py): started\n",
      "  Building wheel for JPype1 (setup.py): finished with status 'error'\n",
      "  Complete output from command C:\\ProgramData\\Anaconda3\\python.exe -u -c \"import setuptools, tokenize;__file__='C:\\\\Users\\\\User\\\\AppData\\\\Local\\\\Temp\\\\pip-install-2v1fb6wa\\\\JPype1\\\\setup.py';f=getattr(tokenize, 'open', open)(__file__);code=f.read().replace('\\r\\n', '\\n');f.close();exec(compile(code, __file__, 'exec'))\" bdist_wheel -d C:\\Users\\User\\AppData\\Local\\Temp\\pip-wheel-iexlc11c --python-tag cp37:\n",
      "  C:\\ProgramData\\Anaconda3\\lib\\distutils\\dist.py:274: UserWarning: Unknown distribution option: 'use_scm_version'\n",
      "    warnings.warn(msg)\n",
      "  running bdist_wheel\n",
      "  running build\n",
      "  running build_py\n",
      "  creating build\n",
      "  creating build\\lib.win-amd64-3.7\n",
      "  creating build\\lib.win-amd64-3.7\\jpype\n",
      "  copying jpype\\beans.py -> build\\lib.win-amd64-3.7\\jpype\n",
      "  copying jpype\\imports.py -> build\\lib.win-amd64-3.7\\jpype\n",
      "  copying jpype\\nio.py -> build\\lib.win-amd64-3.7\\jpype\n",
      "  copying jpype\\reflect.py -> build\\lib.win-amd64-3.7\\jpype\n",
      "  copying jpype\\types.py -> build\\lib.win-amd64-3.7\\jpype\n",
      "  copying jpype\\_classpath.py -> build\\lib.win-amd64-3.7\\jpype\n",
      "  copying jpype\\_core.py -> build\\lib.win-amd64-3.7\\jpype\n",
      "  copying jpype\\_cygwin.py -> build\\lib.win-amd64-3.7\\jpype\n",
      "  copying jpype\\_darwin.py -> build\\lib.win-amd64-3.7\\jpype\n",
      "  copying jpype\\_gui.py -> build\\lib.win-amd64-3.7\\jpype\n",
      "  copying jpype\\_jarray.py -> build\\lib.win-amd64-3.7\\jpype\n",
      "  copying jpype\\_jboxed.py -> build\\lib.win-amd64-3.7\\jpype\n",
      "  copying jpype\\_jclass.py -> build\\lib.win-amd64-3.7\\jpype\n",
      "  copying jpype\\_jcollection.py -> build\\lib.win-amd64-3.7\\jpype\n",
      "  copying jpype\\_jcomparable.py -> build\\lib.win-amd64-3.7\\jpype\n",
      "  copying jpype\\_jcustomizer.py -> build\\lib.win-amd64-3.7\\jpype\n",
      "  copying jpype\\_jexception.py -> build\\lib.win-amd64-3.7\\jpype\n",
      "  copying jpype\\_jinit.py -> build\\lib.win-amd64-3.7\\jpype\n",
      "  copying jpype\\_jio.py -> build\\lib.win-amd64-3.7\\jpype\n",
      "  copying jpype\\_jobject.py -> build\\lib.win-amd64-3.7\\jpype\n",
      "  copying jpype\\_jpackage.py -> build\\lib.win-amd64-3.7\\jpype\n",
      "  copying jpype\\_jproxy.py -> build\\lib.win-amd64-3.7\\jpype\n",
      "  copying jpype\\_jstring.py -> build\\lib.win-amd64-3.7\\jpype\n",
      "  copying jpype\\_jtypes.py -> build\\lib.win-amd64-3.7\\jpype\n",
      "  copying jpype\\_jvmfinder.py -> build\\lib.win-amd64-3.7\\jpype\n",
      "  copying jpype\\_linux.py -> build\\lib.win-amd64-3.7\\jpype\n",
      "  copying jpype\\_pykeywords.py -> build\\lib.win-amd64-3.7\\jpype\n",
      "  copying jpype\\_windows.py -> build\\lib.win-amd64-3.7\\jpype\n",
      "  copying jpype\\__init__.py -> build\\lib.win-amd64-3.7\\jpype\n",
      "  running build_ext\n",
      "  running build_java\n",
      "  Using Jar cache\n",
      "  creating build\\lib\n",
      "  creating build\\lib\\org\n",
      "  creating build\\lib\\org\\jpype\n",
      "  creating build\\lib\\org\\jpype\\classloader\n",
      "  copying native\\jars\\org\\jpype\\classloader\\JPypeClassLoader.class -> build\\lib\\org\\jpype\\classloader\n",
      "  copying native\\jars\\org.jpype.jar -> build\\lib\n",
      "  running build_thunk\n",
      "  Building thunks\n",
      "  C:\\Users\\User\\AppData\\Local\\Temp\\pip-install-2v1fb6wa\\JPype1\\setupext\\build_ext.py:85: FeatureNotice: Turned ON Numpy support for fast Java array access\n",
      "    FeatureNotice)\n",
      "    including thunk build\\lib\\org\\jpype\\classloader\\JPypeClassLoader.class\n",
      "    including thunk build\\lib\\org.jpype.jar\n",
      "  building '_jpype' extension\n",
      "  error: Microsoft Visual C++ 14.0 is required. Get it with \"Microsoft Visual C++ Build Tools\": https://visualstudio.microsoft.com/downloads/\n",
      "  \n",
      "  ----------------------------------------\n",
      "  Running setup.py clean for JPype1\n",
      "Failed to build JPype1\n",
      "Installing collected packages: JPype1, konlpy\n",
      "  Running setup.py install for JPype1: started\n",
      "    Running setup.py install for JPype1: finished with status 'error'\n",
      "    Complete output from command C:\\ProgramData\\Anaconda3\\python.exe -u -c \"import setuptools, tokenize;__file__='C:\\\\Users\\\\User\\\\AppData\\\\Local\\\\Temp\\\\pip-install-2v1fb6wa\\\\JPype1\\\\setup.py';f=getattr(tokenize, 'open', open)(__file__);code=f.read().replace('\\r\\n', '\\n');f.close();exec(compile(code, __file__, 'exec'))\" install --record C:\\Users\\User\\AppData\\Local\\Temp\\pip-record-i51icq2d\\install-record.txt --single-version-externally-managed --compile:\n",
      "    C:\\ProgramData\\Anaconda3\\lib\\distutils\\dist.py:274: UserWarning: Unknown distribution option: 'use_scm_version'\n",
      "      warnings.warn(msg)\n",
      "    running install\n",
      "    running build\n",
      "    running build_py\n",
      "    creating build\\lib.win-amd64-3.7\n",
      "    creating build\\lib.win-amd64-3.7\\jpype\n",
      "    copying jpype\\beans.py -> build\\lib.win-amd64-3.7\\jpype\n",
      "    copying jpype\\imports.py -> build\\lib.win-amd64-3.7\\jpype\n",
      "    copying jpype\\nio.py -> build\\lib.win-amd64-3.7\\jpype\n",
      "    copying jpype\\reflect.py -> build\\lib.win-amd64-3.7\\jpype\n",
      "    copying jpype\\types.py -> build\\lib.win-amd64-3.7\\jpype\n",
      "    copying jpype\\_classpath.py -> build\\lib.win-amd64-3.7\\jpype\n",
      "    copying jpype\\_core.py -> build\\lib.win-amd64-3.7\\jpype\n",
      "    copying jpype\\_cygwin.py -> build\\lib.win-amd64-3.7\\jpype\n",
      "    copying jpype\\_darwin.py -> build\\lib.win-amd64-3.7\\jpype\n",
      "    copying jpype\\_gui.py -> build\\lib.win-amd64-3.7\\jpype\n",
      "    copying jpype\\_jarray.py -> build\\lib.win-amd64-3.7\\jpype\n",
      "    copying jpype\\_jboxed.py -> build\\lib.win-amd64-3.7\\jpype\n",
      "    copying jpype\\_jclass.py -> build\\lib.win-amd64-3.7\\jpype\n",
      "    copying jpype\\_jcollection.py -> build\\lib.win-amd64-3.7\\jpype\n",
      "    copying jpype\\_jcomparable.py -> build\\lib.win-amd64-3.7\\jpype\n",
      "    copying jpype\\_jcustomizer.py -> build\\lib.win-amd64-3.7\\jpype\n",
      "    copying jpype\\_jexception.py -> build\\lib.win-amd64-3.7\\jpype\n",
      "    copying jpype\\_jinit.py -> build\\lib.win-amd64-3.7\\jpype\n",
      "    copying jpype\\_jio.py -> build\\lib.win-amd64-3.7\\jpype\n",
      "    copying jpype\\_jobject.py -> build\\lib.win-amd64-3.7\\jpype\n",
      "    copying jpype\\_jpackage.py -> build\\lib.win-amd64-3.7\\jpype\n",
      "    copying jpype\\_jproxy.py -> build\\lib.win-amd64-3.7\\jpype\n",
      "    copying jpype\\_jstring.py -> build\\lib.win-amd64-3.7\\jpype\n",
      "    copying jpype\\_jtypes.py -> build\\lib.win-amd64-3.7\\jpype\n",
      "    copying jpype\\_jvmfinder.py -> build\\lib.win-amd64-3.7\\jpype\n",
      "    copying jpype\\_linux.py -> build\\lib.win-amd64-3.7\\jpype\n",
      "    copying jpype\\_pykeywords.py -> build\\lib.win-amd64-3.7\\jpype\n",
      "    copying jpype\\_windows.py -> build\\lib.win-amd64-3.7\\jpype\n",
      "    copying jpype\\__init__.py -> build\\lib.win-amd64-3.7\\jpype\n",
      "    running build_ext\n",
      "    running build_java\n",
      "    Using Jar cache\n",
      "    copying native\\jars\\org\\jpype\\classloader\\JPypeClassLoader.class -> build\\lib\\org\\jpype\\classloader\n",
      "    copying native\\jars\\org.jpype.jar -> build\\lib\n",
      "    running build_thunk\n",
      "    Building thunks\n",
      "    Skip build thunks\n",
      "    C:\\Users\\User\\AppData\\Local\\Temp\\pip-install-2v1fb6wa\\JPype1\\setupext\\build_ext.py:85: FeatureNotice: Turned ON Numpy support for fast Java array access\n",
      "      FeatureNotice)\n",
      "    building '_jpype' extension\n",
      "    error: Microsoft Visual C++ 14.0 is required. Get it with \"Microsoft Visual C++ Build Tools\": https://visualstudio.microsoft.com/downloads/\n",
      "    \n",
      "    ----------------------------------------\n",
      "Note: you may need to restart the kernel to use updated packages.\n"
     ]
    },
    {
     "name": "stderr",
     "output_type": "stream",
     "text": [
      "  Failed building wheel for JPype1\n",
      "Command \"C:\\ProgramData\\Anaconda3\\python.exe -u -c \"import setuptools, tokenize;__file__='C:\\\\Users\\\\User\\\\AppData\\\\Local\\\\Temp\\\\pip-install-2v1fb6wa\\\\JPype1\\\\setup.py';f=getattr(tokenize, 'open', open)(__file__);code=f.read().replace('\\r\\n', '\\n');f.close();exec(compile(code, __file__, 'exec'))\" install --record C:\\Users\\User\\AppData\\Local\\Temp\\pip-record-i51icq2d\\install-record.txt --single-version-externally-managed --compile\" failed with error code 1 in C:\\Users\\User\\AppData\\Local\\Temp\\pip-install-2v1fb6wa\\JPype1\\\n"
     ]
    }
   ],
   "source": [
    "pip install konlpy"
   ]
  },
  {
   "cell_type": "code",
   "execution_count": 3,
   "metadata": {},
   "outputs": [
    {
     "ename": "SyntaxError",
     "evalue": "invalid syntax (<ipython-input-3-6053858b5805>, line 1)",
     "output_type": "error",
     "traceback": [
      "\u001b[1;36m  File \u001b[1;32m\"<ipython-input-3-6053858b5805>\"\u001b[1;36m, line \u001b[1;32m1\u001b[0m\n\u001b[1;33m    git clone https://github.com/entelecheia/eKoNLPy.git\u001b[0m\n\u001b[1;37m            ^\u001b[0m\n\u001b[1;31mSyntaxError\u001b[0m\u001b[1;31m:\u001b[0m invalid syntax\n"
     ]
    }
   ],
   "source": [
    "git clone https://github.com/entelecheia/eKoNLPy.git"
   ]
  },
  {
   "cell_type": "code",
   "execution_count": null,
   "metadata": {},
   "outputs": [],
   "source": []
  }
 ],
 "metadata": {
  "kernelspec": {
   "display_name": "Python 3",
   "language": "python",
   "name": "python3"
  },
  "language_info": {
   "codemirror_mode": {
    "name": "ipython",
    "version": 3
   },
   "file_extension": ".py",
   "mimetype": "text/x-python",
   "name": "python",
   "nbconvert_exporter": "python",
   "pygments_lexer": "ipython3",
   "version": "3.7.3"
  }
 },
 "nbformat": 4,
 "nbformat_minor": 2
}
