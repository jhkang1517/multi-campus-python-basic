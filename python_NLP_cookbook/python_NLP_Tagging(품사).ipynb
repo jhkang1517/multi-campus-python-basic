{
 "cells": [
  {
   "cell_type": "markdown",
   "metadata": {},
   "source": [
    "# Exploring\n",
    " * POS Tagging: 토큰에 품사를 부착"
   ]
  },
  {
   "cell_type": "code",
   "execution_count": 5,
   "metadata": {},
   "outputs": [
    {
     "name": "stdout",
     "output_type": "stream",
     "text": [
      "['Seoul', 'is', 'the', 'catpital', 'of', 'Korea', '.']\n",
      "[('Seoul', 'NNP'), ('is', 'VBZ'), ('the', 'DT'), ('catpital', 'NN'), ('of', 'IN'), ('Korea', 'NNP'), ('.', '.')]\n"
     ]
    },
    {
     "name": "stderr",
     "output_type": "stream",
     "text": [
      "[nltk_data] Downloading package punkt to\n",
      "[nltk_data]     C:\\Users\\student\\AppData\\Roaming\\nltk_data...\n",
      "[nltk_data]   Package punkt is already up-to-date!\n",
      "[nltk_data] Downloading package averaged_perceptron_tagger to\n",
      "[nltk_data]     C:\\Users\\student\\AppData\\Roaming\\nltk_data...\n",
      "[nltk_data]   Package averaged_perceptron_tagger is already up-to-\n",
      "[nltk_data]       date!\n"
     ]
    }
   ],
   "source": [
    "import nltk\n",
    "nltk.download('punkt')\n",
    "nltk.download('averaged_perceptron_tagger')\n",
    "simpleSentence = 'Seoul is the catpital of Korea.'\n",
    "wordsInSentence = nltk.word_tokenize(simpleSentence)\n",
    "print(wordsInSentence)\n",
    "partsOfSpeechTags = nltk.pos_tag(wordsInSentence)\n",
    "print(partsOfSpeechTags)"
   ]
  },
  {
   "cell_type": "markdown",
   "metadata": {},
   "source": [
    "# Own Tagger\n",
    " * 자신의 품사 태거를 작성"
   ]
  },
  {
   "cell_type": "code",
   "execution_count": 9,
   "metadata": {},
   "outputs": [
    {
     "name": "stdout",
     "output_type": "stream",
     "text": [
      "[('Reykjavik', 'NN'), ('is', 'NN'), ('an', 'NN'), ('amazing', 'NN'), ('place', 'NN'), ('on', 'NN'), ('earth', 'NN'), ('.', 'NN'), ('I', 'NN'), ('have', 'NN'), ('visited', 'NN'), ('Reykjavik', 'NN')]\n",
      "[('Reykjavik', None), ('is', 'VERB'), ('an', 'INDEFINITE-ARTICLE'), ('amazing', 'ADJECTIVE'), ('place', None), ('on', 'PREPOSITION'), ('earth', None), ('.', None), ('I', None), ('have', None), ('visited', None), ('Reykjavik', None)]\n",
      "[('Reykjavik', 'NNP'), ('is', 'VBZ'), ('an', 'DT'), ('amazing', 'JJ'), ('place', 'NN'), ('on', 'IN'), ('earth', 'NN'), ('.', '.'), ('I', None), ('have', None), ('visited', None), ('Reykjavik', 'NNP')]\n"
     ]
    }
   ],
   "source": [
    "import nltk\n",
    "def learnDefaultTagger(simpleSentence):\n",
    "    wordsInSentence = nltk.word_tokenize(simpleSentence)\n",
    "    tagger = nltk.DefaultTagger('NN')\n",
    "    posEnabledTags = tagger.tag(wordsInSentence)\n",
    "    print(posEnabledTags)\n",
    "    \n",
    "def learnRETagger(simpleSentence): # 직접 정규표현식을 활용하여 (특정 규칙을 만족하면) 품사를 tagging\n",
    "    customPatterns = [\n",
    "        (r'.*ing$','ADJECTIVE'), # running\n",
    "        (r'.*ly$','ADVERB'), # willingly\n",
    "        (r'.*ion$','NOUN'), # intimation\n",
    "        (r'(.*ate|.*en|is)$', 'VERB'), # terminate, darken, lighten\n",
    "        (r'^an$', 'INDEFINITE-ARTICLE'), # terminate\n",
    "        (r'^(with|on|at)$', 'PREPOSITION'), # on\n",
    "        (r'^\\-?[0-9]+(\\.[0-9]+)$', 'NUMBER'), # -1.0, 12345.123\n",
    "        (r'.*$', None),\n",
    "    ]\n",
    "    tagger = nltk.RegexpTagger(customPatterns) # tagger를 위에서 정의한 패턴으로 정의\n",
    "    wordsInSentence = nltk.word_tokenize(simpleSentence) # tokenize\n",
    "    posEnabledTags = tagger.tag(wordsInSentence) # tag 붙이기 \n",
    "    print(posEnabledTags)\n",
    "    \n",
    "def learnLookupTagger(simpleSentence):\n",
    "    mapping = {\n",
    "        '.':'.', 'place':'NN','on':'IN',\n",
    "        'earth':'NN','Reykjavik':'NNP','is':'VBZ',\n",
    "        'an':'DT','amazing':'JJ'\n",
    "    }\n",
    "    tagger = nltk.UnigramTagger(model=mapping)\n",
    "    wordsInSentence = nltk.word_tokenize(simpleSentence)\n",
    "    posEnabledTags = tagger.tag(wordsInSentence)\n",
    "    print(posEnabledTags)\n",
    "     \n",
    "    \n",
    "    \n",
    "if __name__ == '__main__': # 프로그램이 시작되는 곳 (진입점) \n",
    "    testSentence = \"Reykjavik is an amazing place on earth. I have visited Reykjavik\" # test하고자 하는 문장\n",
    "    learnDefaultTagger(testSentence) # token화를 하고, 기본이 NN이기 때문에 NN이 붙음 \n",
    "    learnRETagger(testSentence) # \n",
    "    learnLookupTagger(testSentence)"
   ]
  },
  {
   "cell_type": "code",
   "execution_count": 10,
   "metadata": {},
   "outputs": [
    {
     "data": {
      "text/plain": [
       "'__main__'"
      ]
     },
     "execution_count": 10,
     "metadata": {},
     "output_type": "execute_result"
    }
   ],
   "source": [
    "__name__ # __name__은 __main__과 같다."
   ]
  },
  {
   "cell_type": "markdown",
   "metadata": {},
   "source": [
    "# Train 3 \n",
    " * 자체 태거를 학습시켜 모델로 저장"
   ]
  },
  {
   "cell_type": "code",
   "execution_count": 20,
   "metadata": {},
   "outputs": [
    {
     "name": "stdout",
     "output_type": "stream",
     "text": [
      "[('Iphone', None), ('is', 'VBZ'), ('purchased', 'VBN'), ('by', 'IN'), ('Steve', 'NNP'), ('Jobs', 'NNP'), ('in', 'IN'), ('Bangalore', 'NNP'), ('Market', 'NNP')]\n"
     ]
    }
   ],
   "source": [
    "import nltk\n",
    "import pickle\n",
    "\n",
    "def sampleData(): # 학습시킬 sample data를 생성 \n",
    "    return [\n",
    "        \"Bangalore is the capital of Karnataka.\",\n",
    "        \"Steve Jobs was the CEO of Apple.\",\n",
    "        \"iPhone was Invented by Apple.\",\n",
    "        \"Books can be purchased in Market.\",\n",
    "        ]\n",
    "\n",
    "def buildDictionary(): # sample data를 활용하여 tag를 붙이고, 그 tag를 dictionary형태로 저장\n",
    "    dictionary = {}\n",
    "    for sent in sampleData(): # 문장을 하나씩 호출\n",
    "        # print(sent)\n",
    "        partsOfSpeechTags = nltk.pos_tag(nltk.word_tokenize(sent)) # 문장마다 token화 + tagging\n",
    "        for tag in partsOfSpeechTags: \n",
    "            value = tag[0] # 0번째는 value\n",
    "            pos = tag[1] # 1번째는 tag\n",
    "            dictionary[value] = pos # dictionary의 value는 tag! \n",
    "    return dictionary\n",
    "\n",
    "def saveMyTagger(tagger, fileName): # \n",
    "    fileHandle = open(fileName, \"wb\") # fileName을 쓰기mode로 open\n",
    "    pickle.dump(tagger, fileHandle) # pickle을 사용하여 있는 그대로 dump \n",
    "    fileHandle.close() # 파일 닫기 \n",
    "    \n",
    "def saveMyTraining(fileName): \n",
    "    tagger = nltk.UnigramTagger(model=buildDictionary()) # tagger는 우리가 만든 dictionary 모델로 설정\n",
    "    saveMyTagger(tagger, fileName)\n",
    "    \n",
    "def loadMyTagger(fileName): \n",
    "    return pickle.load(open(fileName, \"rb\")) # 만든 tagger을 읽기모드로 open \n",
    "\n",
    "sentence = 'Iphone is purchased by Steve Jobs in Bangalore Market'\n",
    "fileName = \"myTagger.pickle\"\n",
    "saveMyTraining(fileName)\n",
    "myTagger = loadMyTagger(fileName)\n",
    "print(myTagger.tag(nltk.word_tokenize(sentence)))"
   ]
  },
  {
   "cell_type": "markdown",
   "metadata": {},
   "source": [
    "## pickle 예제"
   ]
  },
  {
   "cell_type": "code",
   "execution_count": 17,
   "metadata": {},
   "outputs": [],
   "source": [
    "import pickle\n",
    "ls = ['a', 'b', 'c']\n",
    "with open('list.txt','wb') as f:\n",
    "    pickle.dump(ls,f)"
   ]
  },
  {
   "cell_type": "code",
   "execution_count": 18,
   "metadata": {},
   "outputs": [
    {
     "name": "stdout",
     "output_type": "stream",
     "text": [
      "['a', 'b', 'c']\n"
     ]
    }
   ],
   "source": [
    "with open('list.txt','rb') as f:\n",
    "    data = pickle.load(f)\n",
    "    print(data)\n",
    "# 있는 그대로 가져온다! "
   ]
  },
  {
   "cell_type": "markdown",
   "metadata": {},
   "source": [
    "# Grammar"
   ]
  },
  {
   "cell_type": "code",
   "execution_count": 32,
   "metadata": {},
   "outputs": [
    {
     "name": "stdout",
     "output_type": "stream",
     "text": [
      "['0', '1', '2', '3', '4', '5', '6', '7', '8', '9']\n",
      "Grammar with 12 productions (start state = ROOT)\n",
      "    ROOT -> WORD\n",
      "    WORD -> ' '\n",
      "    WORD -> NUMBER LETTER\n",
      "    WORD -> LETTER NUMBER\n",
      "    NUMBER -> '0'\n",
      "    NUMBER -> '1'\n",
      "    NUMBER -> '2'\n",
      "    NUMBER -> '3'\n",
      "    LETTER -> 'a'\n",
      "    LETTER -> 'b'\n",
      "    LETTER -> 'c'\n",
      "    LETTER -> 'd'\n",
      "생성된 단어: , 크기: 0\n",
      "생성된 단어: 0a, 크기: 2\n",
      "생성된 단어: 0b, 크기: 2\n",
      "생성된 단어: 0c, 크기: 2\n",
      "생성된 단어: 0d, 크기: 2\n"
     ]
    }
   ],
   "source": [
    "import nltk\n",
    "import string\n",
    "from nltk.parse.generate import generate\n",
    "\n",
    "productions = [\n",
    "    \"ROOT -> WORD\",\n",
    "    \"WORD -> ' '\",\n",
    "    \"WORD -> NUMBER LETTER\",\n",
    "    \"WORD -> LETTER NUMBER\",\n",
    "]\n",
    "\n",
    "digits = list(string.digits) # 숫자\n",
    "print(digits)\n",
    "for digits in digits[:4]:\n",
    "    productions.append(\"NUMBER -> '{w}'\".format(w=digits))\n",
    "    \n",
    "letters = \"' | '\".join(list(string.ascii_lowercase)[:4])\n",
    "productions.append(\"LETTER -> '{w}'\".format(w=letters))\n",
    "\n",
    "grammarString = \"\\n\".join(productions)\n",
    "\n",
    "grammar = nltk.CFG.fromstring(grammarString)\n",
    "\n",
    "print(grammar)\n",
    "                  \n",
    "for sentence in generate(grammar, n=5, depth=5):\n",
    "    palindrome = \"\".join(sentence).replace(\" \",\"\")\n",
    "    print(\"생성된 단어: {}, 크기: {}\".format(palindrome, len(palindrome)))"
   ]
  },
  {
   "cell_type": "markdown",
   "metadata": {},
   "source": [
    "# PCFG"
   ]
  },
  {
   "cell_type": "code",
   "execution_count": 37,
   "metadata": {},
   "outputs": [
    {
     "name": "stdout",
     "output_type": "stream",
     "text": [
      "Grammar with 13 productions (start state = ROOT)\n",
      "    ROOT -> WORD [1.0]\n",
      "    WORD -> P1 [0.25]\n",
      "    WORD -> P1 P2 [0.25]\n",
      "    WORD -> P1 P2 P3 [0.25]\n",
      "    WORD -> P1 P2 P3 P4 [0.25]\n",
      "    P1 -> 'A' [1.0]\n",
      "    P2 -> 'B' [0.5]\n",
      "    P2 -> 'C' [0.5]\n",
      "    P3 -> 'D' [0.3]\n",
      "    P3 -> 'E' [0.3]\n",
      "    P3 -> 'F' [0.4]\n",
      "    P4 -> 'G' [0.9]\n",
      "    P4 -> 'H' [0.1]\n",
      "문자열: A, 크기: 1\n",
      "문자열: AB, 크기: 2\n",
      "문자열: AC, 크기: 2\n",
      "문자열: ABD, 크기: 3\n",
      "문자열: ABE, 크기: 3\n",
      "문자열: ABF, 크기: 3\n",
      "문자열: ACD, 크기: 3\n",
      "문자열: ACE, 크기: 3\n",
      "문자열: ACF, 크기: 3\n",
      "문자열: ABDG, 크기: 4\n"
     ]
    }
   ],
   "source": [
    "import nltk\n",
    "from nltk.parse.generate import generate\n",
    "\n",
    "productions = [\n",
    "    \"ROOT -> WORD [1.0]\",\n",
    "    \"WORD -> P1 [0.25]\",\n",
    "    \"WORD -> P1 P2 [0.25]\",\n",
    "    \"WORD -> P1 P2 P3 [0.25]\",\n",
    "    \"WORD -> P1 P2 P3 P4 [0.25]\",\n",
    "    \"P1 -> 'A' [1.0]\",\n",
    "    \"P2 -> 'B' [0.5]\",\n",
    "    \"P2 -> 'C' [0.5]\",\n",
    "    \"P3 -> 'D' [0.3]\",\n",
    "    \"P3 -> 'E' [0.3]\",\n",
    "    \"P3 -> 'F' [0.4]\",\n",
    "    \"P4 -> 'G' [0.9]\",\n",
    "    \"P4 -> 'H' [0.1]\",\n",
    "]\n",
    "\n",
    "grammarString = \"\\n\".join(productions)\n",
    "\n",
    "grammar = nltk.PCFG.fromstring(grammarString)\n",
    "\n",
    "print(grammar)\n",
    "\n",
    "for sentence in generate(grammar, n=10, depth=5):\n",
    "    palindrome = \"\".join(sentence).replace(\" \",\"\")\n",
    "    print(\"문자열: {}, 크기: {}\".format(palindrome, len(palindrome)))"
   ]
  },
  {
   "cell_type": "markdown",
   "metadata": {},
   "source": [
    "# Recrusive CFG"
   ]
  },
  {
   "cell_type": "code",
   "execution_count": 45,
   "metadata": {},
   "outputs": [
    {
     "name": "stdout",
     "output_type": "stream",
     "text": [
      "Grammar with 12 productions (start state = ROOT)\n",
      "    ROOT -> WORD\n",
      "    WORD -> ' '\n",
      "    WORD -> '0' WORD '0'\n",
      "    WORD -> '1' WORD '1'\n",
      "    WORD -> '2' WORD '2'\n",
      "    WORD -> '3' WORD '3'\n",
      "    WORD -> '4' WORD '4'\n",
      "    WORD -> '5' WORD '5'\n",
      "    WORD -> '6' WORD '6'\n",
      "    WORD -> '7' WORD '7'\n",
      "    WORD -> '8' WORD '8'\n",
      "    WORD -> '9' WORD '9'\n",
      "Palindrome : , Size : 0\n",
      "Palindrome : 00, Size : 2\n",
      "Palindrome : 0000, Size : 4\n",
      "Palindrome : 0110, Size : 4\n",
      "Palindrome : 0220, Size : 4\n",
      "Palindrome : 0330, Size : 4\n",
      "Palindrome : 0440, Size : 4\n",
      "Palindrome : 0550, Size : 4\n",
      "Palindrome : 0660, Size : 4\n",
      "Palindrome : 0770, Size : 4\n"
     ]
    }
   ],
   "source": [
    "import nltk\n",
    "import string\n",
    "from nltk.parse.generate import generate\n",
    "\n",
    "productions = [\n",
    "    \"ROOT -> WORD\",\n",
    "    \"WORD -> ' '\"\n",
    "    ]\n",
    "\n",
    "alphabets = list(string.digits)\n",
    "\n",
    "for alphabet in alphabets:\n",
    "    productions.append(\"WORD -> '{w}' WORD '{w}'\".format(w=alphabet))\n",
    "\n",
    "grammarString = \"\\n\".join(productions) # 개행 문자로 접근 \n",
    "# print(grammarString)\n",
    "grammar = nltk.CFG.fromstring(grammarString)\n",
    "print(grammar)\n",
    "\n",
    "for sentence in generate(grammar, n=10, depth=5):\n",
    "    palindrome = \"\".join(sentence).replace(\" \",\"\")\n",
    "    print(\"Palindrome : {}, Size : {}\".format(palindrome, len(palindrome)))"
   ]
  },
  {
   "cell_type": "code",
   "execution_count": null,
   "metadata": {},
   "outputs": [],
   "source": []
  }
 ],
 "metadata": {
  "kernelspec": {
   "display_name": "Python 3",
   "language": "python",
   "name": "python3"
  },
  "language_info": {
   "codemirror_mode": {
    "name": "ipython",
    "version": 3
   },
   "file_extension": ".py",
   "mimetype": "text/x-python",
   "name": "python",
   "nbconvert_exporter": "python",
   "pygments_lexer": "ipython3",
   "version": "3.7.3"
  }
 },
 "nbformat": 4,
 "nbformat_minor": 2
}
