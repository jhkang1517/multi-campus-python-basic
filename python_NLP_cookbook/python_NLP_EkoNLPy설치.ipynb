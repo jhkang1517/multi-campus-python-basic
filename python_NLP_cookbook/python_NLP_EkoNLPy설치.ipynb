{
 "cells": [
  {
   "cell_type": "code",
   "execution_count": 4,
   "metadata": {},
   "outputs": [
    {
     "name": "stdout",
     "output_type": "stream",
     "text": [
      "Requirement already satisfied: mecab-python==0.996-ko-0.9.2-msvc from file:///C:/Users/student/Documents/python_basic/mecab_python-0.996_ko_0.9.2_msvc-cp37-cp37m-win_amd64.whl in c:\\programdata\\anaconda3\\lib\\site-packages (0.996-ko-0.9.2-msvc)\n",
      "Note: you may need to restart the kernel to use updated packages.\n"
     ]
    }
   ],
   "source": [
    "pip install mecab_python-0.996_ko_0.9.2_msvc-cp37-cp37m-win_amd64.whl"
   ]
  },
  {
   "cell_type": "code",
   "execution_count": 5,
   "metadata": {},
   "outputs": [],
   "source": [
    "from ekonlpy.tag import Mecab"
   ]
  },
  {
   "cell_type": "code",
   "execution_count": 7,
   "metadata": {
    "scrolled": false
   },
   "outputs": [
    {
     "name": "stdout",
     "output_type": "stream",
     "text": [
      "와나\tNNP,*,F,와나,*,*,*,*\n",
      "개\tNNG,*,F,개,*,*,*,*\n",
      "힘들\tVA,*,T,힘들,*,*,*,*\n",
      "어\tEF,*,F,어,*,*,*,*\n",
      ".\tSF,*,*,*,*,*,*,*\n",
      "EOS\n",
      "\n"
     ]
    }
   ],
   "source": [
    "m = MeCab.Tagger()\n",
    "out = m.parse(\"와나 개힘들어.\")\n",
    "print(out)"
   ]
  },
  {
   "cell_type": "code",
   "execution_count": 6,
   "metadata": {},
   "outputs": [],
   "source": [
    "import MeCab"
   ]
  },
  {
   "cell_type": "code",
   "execution_count": 3,
   "metadata": {},
   "outputs": [
    {
     "data": {
      "text/plain": [
       "[('금통위', 'NNG'),\n",
       " ('는', 'JX'),\n",
       " ('따라서', 'MAJ'),\n",
       " ('물가', 'NNG'),\n",
       " ('안정', 'NNG'),\n",
       " ('과', 'JC'),\n",
       " ('병행', 'NNG'),\n",
       " (',', 'SC'),\n",
       " ('경기', 'NNG'),\n",
       " ('상황', 'NNG'),\n",
       " ('에', 'JKB'),\n",
       " ('유의', 'NNG'),\n",
       " ('하', 'XSV'),\n",
       " ('는', 'ETM'),\n",
       " ('금리', 'NNG'),\n",
       " ('정책', 'NNG'),\n",
       " ('을', 'JKO'),\n",
       " ('펼쳐', 'VV'),\n",
       " ('나가', 'VX'),\n",
       " ('기', 'ETN'),\n",
       " ('로', 'JKB'),\n",
       " ('했', 'VV'),\n",
       " ('다고', 'EC'),\n",
       " ('밝혔', 'VV'),\n",
       " ('다', 'EF'),\n",
       " ('.', 'SF')]"
      ]
     },
     "execution_count": 3,
     "metadata": {},
     "output_type": "execute_result"
    }
   ],
   "source": [
    "# -*- coding: utf-8 -*-\n",
    "\n",
    "from ekonlpy.tag import Mecab\n",
    "mecab = Mecab()\n",
    "mecab.pos('금통위는 따라서 물가안정과 병행, 경기상황에 유의하는 금리정책을 펼쳐나가기로 했다고 밝혔다.')"
   ]
  },
  {
   "cell_type": "code",
   "execution_count": 6,
   "metadata": {},
   "outputs": [],
   "source": [
    "Mecab?"
   ]
  },
  {
   "cell_type": "code",
   "execution_count": null,
   "metadata": {},
   "outputs": [],
   "source": []
  }
 ],
 "metadata": {
  "kernelspec": {
   "display_name": "Python 3",
   "language": "python",
   "name": "python3"
  },
  "language_info": {
   "codemirror_mode": {
    "name": "ipython",
    "version": 3
   },
   "file_extension": ".py",
   "mimetype": "text/x-python",
   "name": "python",
   "nbconvert_exporter": "python",
   "pygments_lexer": "ipython3",
   "version": "3.7.3"
  }
 },
 "nbformat": 4,
 "nbformat_minor": 2
}
