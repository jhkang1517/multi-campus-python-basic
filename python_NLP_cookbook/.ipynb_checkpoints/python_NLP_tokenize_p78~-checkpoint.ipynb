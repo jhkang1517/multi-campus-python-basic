{
 "cells": [
  {
   "cell_type": "markdown",
   "metadata": {},
   "source": [
    "# recipe 1 : 토큰화\n",
    "* LineTokenizer : 개행문자(/n)를 기준으로 토큰화. 마침표나 문장 단위가 아님  \n",
    "* SpaceTokenizer : 공백을 기준으로 토큰화  \n",
    "* TweetTokenizer : 트위터에 특화한 토큰화. 이모티콘도 하나의 토큰으로 인지  \n",
    "* word_tokenize : 단어 기준 토큰화  "
   ]
  },
  {
   "cell_type": "code",
   "execution_count": 1,
   "metadata": {},
   "outputs": [],
   "source": [
    "import nltk\n",
    "\n",
    "nltk.download('punkt')\n",
    "from nltk.tokenize import LineTokenizer, SpaceTokenizer, TweetTokenizer\n",
    "from nltk import word_tokenize"
   ]
  },
  {
   "cell_type": "code",
   "execution_count": 8,
   "metadata": {},
   "outputs": [
    {
     "name": "stdout",
     "output_type": "stream",
     "text": [
      "Line Toeknizer 출력 :  ['My name is Maximus Decimus Meridiu']\n",
      "Space Tokenizer 출력 :  ['By', '11', \"o'\", 'clock', 'on', 'Sunday,', 'the', 'doctor', 'shall', 'open', 'the', 'dispensary.']\n",
      "Word Tokenizer 출력 :  ['By', '11', 'o', \"'\", 'clock', 'on', 'Sunday', ',', 'the', 'doctor', 'shall', 'open', 'the', 'dispensary', '.']\n",
      "Tweet Tokenizer 출력 :  ['This', 'is', 'a', 'cooool', '#dummysmiley', ':', ':-)']\n"
     ]
    }
   ],
   "source": [
    "lTokenizer = LineTokenizer();\n",
    "print('Line Toeknizer 출력 : ', lTokenizer.tokenize(\"My name is Maximus Decimus Meridiu\"))\n",
    "\n",
    "rawText = \"By 11 o' clock on Sunday, the doctor shall open the dispensary.\"\n",
    "sTokenizer = SpaceTokenizer() # 공백을 기준으로하는 split과 동일한 효과 \n",
    "print(\"Space Tokenizer 출력 : \", sTokenizer.tokenize(rawText))\n",
    "print(\"Word Tokenizer 출력 : \", word_tokenize(rawText))\n",
    "\n",
    "tTokenizer = TweetTokenizer()\n",
    "print(\"Tweet Tokenizer 출력 : \", tTokenizer.tokenize(\"This is a cooool #dummysmiley : :-)\"))"
   ]
  },
  {
   "cell_type": "markdown",
   "metadata": {},
   "source": [
    "# recipe 2 : 어간 추출\n",
    "* 단어의 어근을 중심으로 규칙에 기반하여 어미를 제거 혹은 변화하여 표준화  \n",
    "* PorterStemmer에 비교하여 LancasterStemmer의 예문에서 더 많은 제거가 일어났음을 확인할 수 있음 (name -> na)  \n",
    "* 규칙에 기반하여 표준화 하여 새로운 단어도 처리가 가능함 => 규칙에만 일치하면 처리가 가능   \n",
    "  \n",
    "* stemming은 규칙에 기반한다는 것이 Lancaster와의 가장 큰 차이점   "
   ]
  },
  {
   "cell_type": "code",
   "execution_count": 9,
   "metadata": {},
   "outputs": [
    {
     "name": "stdout",
     "output_type": "stream",
     "text": [
      "['My', 'name', 'is', 'maximu', 'decimu', 'meridiu', ',', 'command', 'of', 'the', 'armi', 'of', 'the', 'north', ',', 'gene']\n"
     ]
    }
   ],
   "source": [
    "from nltk import PorterStemmer, LancasterStemmer, word_tokenize\n",
    "\n",
    "raw = \"My name is Maximus Decimus Meridiu, commander of the Armies of the North, Gene\"\n",
    "\n",
    "tokens = word_tokenize(raw)\n",
    "porter = PorterStemmer()\n",
    "pStems = [porter.stem(t) for t in tokens]\n",
    "print(pStems)\n",
    "lancaster = LancasterStemmer()\n",
    "lStems = [lancaster.stem(t) for t in tokens]"
   ]
  },
  {
   "cell_type": "markdown",
   "metadata": {},
   "source": [
    "# recipe 3 : 표제어 추출\n",
    "표제어 추출(Lemmatization)\n",
    "   * 사전에 기반한 표제어 추출  \n",
    "   * 품사 정보를 보존하여 표준화 하는 작업  \n",
    "   * 사전에 등록되지 않은 단어는 표준화 되지 않는 문제점이 존재  \n",
    "   * stemming과는 다르게, 사전이기 때문에, 일일히 사전에 추가해 주어야 하는 문제점이 존재한다."
   ]
  },
  {
   "cell_type": "code",
   "execution_count": 12,
   "metadata": {},
   "outputs": [
    {
     "name": "stdout",
     "output_type": "stream",
     "text": [
      "['My', 'name', 'is', 'maximu', 'decimu', 'meridiu', ',', 'command', 'of', 'the', 'armi', 'of', 'the', 'north', ',', 'gene']\n",
      "['My', 'name', 'is', 'Maximus', 'Decimus', 'Meridius', ',', 'commander', 'of', 'the', 'army', 'of', 'the', 'north', ',', 'Gene']\n"
     ]
    },
    {
     "name": "stderr",
     "output_type": "stream",
     "text": [
      "[nltk_data] Downloading package wordnet to\n",
      "[nltk_data]     C:\\Users\\student\\AppData\\Roaming\\nltk_data...\n",
      "[nltk_data]   Package wordnet is already up-to-date!\n"
     ]
    }
   ],
   "source": [
    "import nltk\n",
    "nltk.download('wordnet')\n",
    "from nltk import word_tokenize, PorterStemmer, WordNetLemmatizer\n",
    "\n",
    "raw = \"My name is Maximus Decimus Meridius, commander of the armies of the north, Gene\"\n",
    "tokens = word_tokenize(raw)\n",
    "\n",
    "porter = PorterStemmer()\n",
    "stems = [porter.stem(t) for t in tokens]\n",
    "print(stems)\n",
    "\n",
    "lemmatizer = WordNetLemmatizer()\n",
    "lemmas = [lemmatizer.lemmatize(t) for t in tokens]\n",
    "print(lemmas)"
   ]
  },
  {
   "cell_type": "markdown",
   "metadata": {},
   "source": [
    "# recipe 4 : 불용어 처리\n",
    "  * 불용어 처리\n",
    "   * NLTK에 사전 등록된 불용어를 기준으로 토큰 목록에서 불필요한 토큰을 삭제함"
   ]
  },
  {
   "cell_type": "code",
   "execution_count": 16,
   "metadata": {},
   "outputs": [
    {
     "name": "stderr",
     "output_type": "stream",
     "text": [
      "[nltk_data] Downloading package gutenberg to\n",
      "[nltk_data]     C:\\Users\\student\\AppData\\Roaming\\nltk_data...\n",
      "[nltk_data]   Package gutenberg is already up-to-date!\n",
      "[nltk_data] Downloading package stopwords to\n",
      "[nltk_data]     C:\\Users\\student\\AppData\\Roaming\\nltk_data...\n",
      "[nltk_data]   Package stopwords is already up-to-date!\n"
     ]
    },
    {
     "name": "stdout",
     "output_type": "stream",
     "text": [
      "['austen-emma.txt', 'austen-persuasion.txt', 'austen-sense.txt', 'bible-kjv.txt', 'blake-poems.txt', 'bryant-stories.txt', 'burgess-busterbrown.txt', 'carroll-alice.txt', 'chesterton-ball.txt', 'chesterton-brown.txt', 'chesterton-thursday.txt', 'edgeworth-parents.txt', 'melville-moby_dick.txt', 'milton-paradise.txt', 'shakespeare-caesar.txt', 'shakespeare-hamlet.txt', 'shakespeare-macbeth.txt', 'whitman-leaves.txt']\n",
      "Following are the most common 10 words in the bag\n",
      "[(',', 70509), ('the', 62103), (':', 43766), ('and', 38847), ('of', 34480), ('.', 26160), ('to', 13396), ('And', 12846), ('that', 12576), ('in', 12331)]\n",
      "Following are the most common 10 words in the bag minus the stopwords\n",
      "[('shall', 9838), ('unto', 8997), ('lord', 7964), ('thou', 5474), ('thy', 4600), ('god', 4472), ('said', 3999), ('thee', 3827), ('upon', 2748), ('man', 2735)]\n"
     ]
    },
    {
     "data": {
      "image/png": "[encoded data removed]",
      "text/plain": [
       "<Figure size 432x288 with 1 Axes>"
      ]
     },
     "metadata": {
      "needs_background": "light"
     },
     "output_type": "display_data"
    }
   ],
   "source": [
    "import nltk\n",
    "nltk.download('gutenberg')\n",
    "nltk.download('stopwords')\n",
    "from nltk.corpus import gutenberg\n",
    "print(gutenberg.fileids())\n",
    "\n",
    "gb_words = gutenberg.words('bible-kjv.txt')\n",
    "words_filtered = [e.lower() for e in gb_words if len(e) >= 3]\n",
    "stopwords = nltk.corpus.stopwords.words('english')\n",
    "words = [w for w in words_filtered if w.lower() not in stopwords] # 불용어만 빼고 나머지를 return\n",
    "\n",
    "\n",
    "fdist = nltk.FreqDist(words)\n",
    "fdist2 = nltk.FreqDist(gb_words)\n",
    "\n",
    "print(\"Following are the most common 10 words in the bag\")\n",
    "print(fdist2.most_common(10))\n",
    "print(\"Following are the most common 10 words in the bag minus the stopwords\")\n",
    "print(fdist.most_common(10))\n",
    "fdist.plot()"
   ]
  },
  {
   "cell_type": "markdown",
   "metadata": {},
   "source": [
    "# recipe 5 : 편집거리 측정\n",
    " * 편집거리(edit distance)\n",
    "  * 레벤슈타인 거리(Levenshtein distance)라고도 부름\n",
    "  * 두 문서간의 유사성을 측정하는 데 사용"
   ]
  },
  {
   "cell_type": "code",
   "execution_count": 47,
   "metadata": {},
   "outputs": [
    {
     "name": "stdout",
     "output_type": "stream",
     "text": [
      "m과 n의 값:  m: 5 , n: 10\n",
      "Our Algorithm :  6\n",
      "NLTK Algorithm :  6\n"
     ]
    }
   ],
   "source": [
    "from nltk.metrics.distance import edit_distance\n",
    "\n",
    "def my_edit_distance(str1, str2):\n",
    "    m = len(str1) + 1 \n",
    "    n = len(str2) + 1\n",
    "    print(\"m과 n의 값: \", \"m:\",m,\",\", \"n:\",n)\n",
    "    \n",
    "    table = {}\n",
    "    for i in range(m): table[i,0] = i\n",
    "    for j in range(n): table[0,j] = j\n",
    "        \n",
    "    for i in range(1, m):\n",
    "        for j in range(1, n):\n",
    "            cost = 0 if str1[i - 1] == str2[j - 1] else 1\n",
    "            table[i,j] = min(table[i,j-1]+1, table[i-1,j]+1, table[i-1,j-1]+cost)\n",
    "                \n",
    "    return table[i,j]\n",
    "\n",
    "print(\"Our Algorithm : \", my_edit_distance('hand', 'asdfasand'))\n",
    "print(\"NLTK Algorithm : \", edit_distance('hand', 'asdfasand') )"
   ]
  },
  {
   "cell_type": "markdown",
   "metadata": {},
   "source": [
    "# recipe 6 : 문서간 공통 어휘 추출\n",
    "   * 문서간 공통 어휘를 측정하여 유사도를 측정할 수 있음"
   ]
  },
  {
   "cell_type": "code",
   "execution_count": 27,
   "metadata": {},
   "outputs": [],
   "source": [
    "story1 = \"\"\"\n",
    "In a far away kingdomo, there was a river. This river was home to many golden swans.\n",
    "The swans spent most of their time on the banks of the river. Every six months, the swans would leave\n",
    "a golden feather as a fee for using the lake. The soldiers of the kindom would collect the feathers\n",
    "ans deposit thim in the royal treawury.\n",
    "Onde day, a homeless bird saw the river. \"The water in this river seems so cool and soothing. I will make\n",
    "my home here,\" thought the bird.\n",
    "As soon as the bird settled down near the river, the golden swans noticed her. They came shouting. \"This river\n",
    "belongs to us. We pay a golden feather to the King to use this river. You can not live here.\"\n",
    "\"I am homeless, brothers. I too will pay the rent. Please give me shelter,\" the bird pleaded. \"How will you pay\n",
    "the rent? You do not have golden feathers,\" said the swans laughing. They furder added, \"Stop dreaming and leave\n",
    "once.\" The humble brid pleaded many times. But the arrogant swans drove the bird away. \n",
    "\"I will teach them a lesson!\" decided the humiliated bird.\n",
    "She went to the King and said, \"O King! The swans in your river are impolite and unkind. I begged for\n",
    "shelter but they said that they had purchased the river with golden feathers.\"\n",
    "The King was angry with the arrogant swans for habing insulted the homeless bird. He ordered his soldiers\n",
    "to bring the arrogant swans to his court. In no time, all the golden swans were brought to the King's court\n",
    "\"\"\"\n",
    "\n",
    "story2 = \"\"\"\n",
    "Long time ago, there lived a King. \n",
    "He was lazy and liked all the comforts 12One day, the King went into the forest to hunt. \n",
    "After having wandered for quite somet 13But as soon as he held his bow up, the swan disappeared. \n",
    "And the King heard a voice, 14Surprised, the King said, “Please show me the way to heaven.\"\n",
    "“Do good deeds, serve yo 15The selfish King, eager to capture the Swan, \n",
    "tried doing some good deeds in his Kingdo 16The King then disguised himself and \n",
    "went out into the street. There he tried helping a 17Suddenly, \n",
    "the King heard the golden swan’s voice, \n",
    "“Do good deeds and you will come to 18He realized that his people needed him and \n",
    "carrying out his duties was the only way to\n",
    "\"\"\""
   ]
  },
  {
   "cell_type": "code",
   "execution_count": 55,
   "metadata": {},
   "outputs": [],
   "source": [
    "story1 = story1.replace(\",\",\"\").replace(\"\\n\",\"\").replace('.','').replace('\"','').replace(\"!\",\"\").replace(\"?\",\"\").casefold()\n",
    "story2 = story2.replace(\",\",\"\").replace(\"\\n\",\"\").replace('.','').replace('\"','').replace(\"!\",\"\").replace(\"?\",\"\").casefold()"
   ]
  },
  {
   "cell_type": "code",
   "execution_count": 56,
   "metadata": {},
   "outputs": [
    {
     "name": "stdout",
     "output_type": "stream",
     "text": [
      "첫 번째 이야기 단어 : ['in', 'a', 'far', 'away', 'kingdom', 'there', 'was', 'a', 'river', 'this', 'river', 'was', 'home', 'to', 'many', 'gold', 'one', 'daya', 'homeless', 'bird', 'saw', 'the', 'river', 'the', 'water', 'in', 'this', 'river', 'seems', 'so', 'cool', 'and', 'soo', 'as', 'soon', 'as', 'the', 'birdsettled', 'down', 'near', 'the', 'river', 'the', 'golden', 'swans', 'noticed', 'her', 'they', 'ca', 'i', 'am', 'homeless', 'brothers', 'i', 'too', 'will', 'pay', 'the', 'rent', 'please', 'give', 'me', 'shelter', 'the', 'bird', 'p', 'i', 'will', 'teach', 'them', 'a', 'lessondecided', 'the', 'humiliated', 'birdshe', 'went', 'to', 'the', 'king', 'and', 'said', 'o', 'king', 'the', 'swans', 'in', 'your', 'river', 'are', 'impolite', 'and', 'unkin', 'the', 'king', 'was', 'angry', 'with', 'the', 'arrogant', 'swans', 'for', 'having', 'insulted', 'the', 'homeless', 'birdhe', 'o', 'do', 'you', 'think', 'the', 'royal', 'treasury', 'depends', 'upon', 'your', 'golden', 'feathersyou', 'can', 'not', 'decide', 'the', 'swans', 'shivered', 'with', 'fear', 'on', 'hearing', 'the', 'kingthey', 'flew', 'away', 'never', 'to', 'return']\n",
      "두 번째 이야기 단어 : ['long', 'time', 'ago', 'there', 'lived', 'a', 'king', 'he', 'was', 'lazy', 'and', 'liked', 'all', 'the', 'comforts', '12one', 'day', 'the', 'king', 'went', 'into', 'the', 'forest', 'to', 'hunt', 'after', 'having', 'wandered', 'for', 'quite', 'somet', '13but', 'as', 'soon', 'as', 'he', 'held', 'his', 'bow', 'up', 'the', 'swan', 'disappeared', 'and', 'the', 'king', 'heard', 'a', 'voice', '14surprised', 'the', 'king', 'said', '“please', 'show', 'me', 'the', 'way', 'to', 'heaven“do', 'good', 'deeds', 'serve', 'yo', '15the', 'selfish', 'king', 'eager', 'to', 'capture', 'the', 'swan', 'tried', 'doing', 'some', 'good', 'deeds', 'in', 'his', 'kingdo', '16the', 'king', 'then', 'disguised', 'himself', 'and', 'went', 'out', 'into', 'the', 'street', 'there', 'he', 'tried', 'helping', 'a', '17suddenly', 'the', 'king', 'heard', 'the', 'golden', 'swan’s', 'voice', '“do', 'good', 'deeds', 'and', 'you', 'will', 'come', 'to', '18he', 'realized', 'that', 'his', 'people', 'needed', 'him', 'and', 'carrying', 'out', 'his', 'duties', 'was', 'the', 'only', 'way', 'to']\n",
      "첫 번째 이야기 어휘 : {'homeless', 'not', 'do', 'soo', 'decide', 'down', 'to', 'insulted', 'think', 'shivered', 'give', 'kingthey', 'rent', 'away', 'said', 'teach', 'birdshe', 'noticed', 'birdsettled', 'hearing', 'return', 'far', 'for', 'they', 'me', 'them', 'king', 'upon', 'shelter', 'water', 'one', 'with', 'gold', 'having', 'depends', 'can', 'on', 'was', 'kingdom', 'daya', 'will', 'birdhe', 'p', 'please', 'golden', 'swans', 'o', 'and', 'impolite', 'so', 'i', 'the', 'am', 'humiliated', 'as', 'cool', 'feathersyou', 'saw', 'fear', 'your', 'treasury', 'angry', 'there', 'soon', 'pay', 'this', 'too', 'royal', 'flew', 'bird', 'brothers', 'lessondecided', 'unkin', 'are', 'arrogant', 'in', 'seems', 'you', 'never', 'a', 'home', 'many', 'ca', 'her', 'went', 'near', 'river'}\n",
      "두 번째 이야기 어휘 : {'ago', 'to', 'bow', 'good', '16the', 'way', 'said', 'some', 'voice', 'his', '“please', 'heard', 'lazy', 'long', 'for', '17suddenly', 'come', 'show', '15the', 'me', '18he', 'king', 'him', 'forest', 'day', 'quite', 'eager', 'somet', 'capture', 'having', 'was', 'only', 'street', 'will', 'duties', 'disappeared', 'himself', 'time', 'disguised', 'golden', '12one', 'and', 'needed', 'realized', 'all', 'serve', 'kingdo', 'comforts', 'the', 'tried', 'as', 'doing', 'swan', 'held', 'yo', 'lived', 'out', 'up', 'there', 'people', 'soon', '14surprised', 'hunt', 'that', 'after', 'helping', 'in', 'selfish', 'you', 'into', 'he', 'carrying', 'a', 'then', 'heaven“do', 'swan’s', 'went', 'liked', 'wandered', 'deeds', '“do', '13but'}\n",
      "공통 어휘 : {'in', 'me', 'was', 'said', 'king', 'as', 'will', 'there', 'you', 'went', 'to', 'and', 'for', 'a', 'soon', 'having', 'golden', 'the'}\n"
     ]
    }
   ],
   "source": [
    "story1_words = story1.split(\" \")\n",
    "print(\"첫 번째 이야기 단어 :\", story1_words)\n",
    "story2_words = story2.split(\" \")\n",
    "print(\"두 번째 이야기 단어 :\", story2_words)\n",
    "story1_vocab = set(story1_words)\n",
    "print(\"첫 번째 이야기 어휘 :\", story1_vocab)\n",
    "story2_vocab = set(story2_words)\n",
    "print(\"두 번째 이야기 어휘 :\", story2_vocab)\n",
    "common_vocab = story1_vocab & story2_vocab\n",
    "print(\"공통 어휘 :\", common_vocab)"
   ]
  },
  {
   "cell_type": "code",
   "execution_count": null,
   "metadata": {},
   "outputs": [],
   "source": []
  }
 ],
 "metadata": {
  "kernelspec": {
   "display_name": "Python 3",
   "language": "python",
   "name": "python3"
  },
  "language_info": {
   "codemirror_mode": {
    "name": "ipython",
    "version": 3
   },
   "file_extension": ".py",
   "mimetype": "text/x-python",
   "name": "python",
   "nbconvert_exporter": "python",
   "pygments_lexer": "ipython3",
   "version": "3.7.3"
  }
 },
 "nbformat": 4,
 "nbformat_minor": 2
}
