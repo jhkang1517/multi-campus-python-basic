{
 "cells": [
  {
   "cell_type": "markdown",
   "metadata": {},
   "source": [
    "# recipe 1 \n",
    "* ?: 물음표는 0번 또는 1차례까지의 발생을 의미한다. 이를테면 colou?r는 'color'와 'colour'를 둘 다 일치시킨다.\n",
    "* *: 별표는 0번 이상의 발생을 의미한다. 이를테면 ab * c는 'ac','abc','abbc','abbbc'등을 일치시킨다.\n",
    "* +: 덧셈 기호는 1번 이상의 발생을 의미한다. 이를테면 ab+c는 'abc','abbc','abbbc'등을 일치시키지만  \n",
    "'ac'는 일치시키지 않는다.\n",
    "  \n",
    "* {n}: 정확히 n번만큼 일치시킨다.\n",
    "* {min): 'min'번 이상만큼 일치시킨다.\n",
    "* {min,max}: 적어도 'min'번 만큼 일치시키지만, 'max'번을 초과하여 일치시키지는 않는다. "
   ]
  },
  {
   "cell_type": "code",
   "execution_count": 14,
   "metadata": {},
   "outputs": [
    {
     "name": "stdout",
     "output_type": "stream",
     "text": [
      "일치하는 항목을 찾았습니다!\n",
      "일치하는 항목을 찾았습니다!\n",
      "일치하는 항목을 찾았습니다!\n",
      "일치하는 항목을 찾았습니다!\n",
      "일치하는 항목을 찾았습니다!\n",
      "일치하는 항목을 찾았습니다!\n",
      "일치하는 항목이 존재하지 않습니다.\n",
      "일치하는 항목을 찾았습니다!\n",
      "일치하는 항목을 찾았습니다!\n",
      "일치하는 항목을 찾았습니다!\n",
      "일치하는 항목을 찾았습니다!\n",
      "일치하는 항목이 존재하지 않습니다.\n"
     ]
    }
   ],
   "source": [
    "import re\n",
    "def text_match(text, patterns):\n",
    "    if re.search(patterns, text):\n",
    "        return('일치하는 항목을 찾았습니다!')\n",
    "    else:\n",
    "        return('일치하는 항목이 존재하지 않습니다.')\n",
    "    \n",
    "print(text_match(\"ac\", \"ab?\")) # b가 0번 등장\n",
    "print(text_match(\"abc\", \"ab?\")) # b가 1번 등장\n",
    "print(text_match(\"abbc\", \"ab?\")) # b가 두번 등장했지만, 앞 부분을 제외하므로 Ture\n",
    "\n",
    "print(text_match(\"ac\", \"ab*\")) # b가 0번 등장\n",
    "print(text_match(\"abc\", \"ab*\")) # b가 1번 등장\n",
    "print(text_match(\"abbc\", \"ab*\")) # b가 2번 등장 \n",
    "\n",
    "print(text_match(\"ac\", \"ab+\")) # b가 0번 등장 False\n",
    "print(text_match(\"abc\", \"ab+\")) # b가 1번 등장\n",
    "print(text_match(\"abbc\", \"ab+\")) # b가 2번 등장 \n",
    "\n",
    "print(text_match(\"abbc\", \"ab{2}\")) # b가 정확하게 두번 등장 \n",
    "print(text_match(\"aabbbbbbc\", \"ab{3,5}?\")) # ~이상 ~이하 라는 것을 명심하라\n",
    "print(text_match(\"aabbbbbbc\", \"ab{3,5}$\"))"
   ]
  },
  {
   "cell_type": "markdown",
   "metadata": {},
   "source": [
    "# recipe 2\n",
    "* ^: 문자열이나 행의 처음을 의미한다.\n",
    "* $: 문자열이나 행의 끝을 의미한다.\n",
    "* .: 1개의 숫자와 일치한다. 단일행 모드에서는 새줄 문자를 제외한다.\n",
    "* \\w: \"[A-Za-z0-9_]\" = 영어 대,소문자와 언더바(\"_\")를 모두 포함\n",
    "* \\S: \"[^\\t\\r\\n\\v\\f]\" = 공백이 아닌 모든 문자\n",
    "* \\B: 문자와 공백사이가 아닌 문자를 의미"
   ]
  },
  {
   "cell_type": "code",
   "execution_count": 10,
   "metadata": {},
   "outputs": [
    {
     "name": "stdout",
     "output_type": "stream",
     "text": [
      "테스트 패턴은 다음으로 시작하고 끝남\n",
      "일치하는 항목을 찾았습니다!\n",
      "단어로 시작함\n",
      "일치하는 항목을 찾았습니다!\n",
      "단어로 안 시작함!!\n",
      "일치하지 않음!\n",
      "단어와 선택적 문장부호로 끝남\n",
      "일치하는 항목을 찾았습니다!\n",
      "공백이 들어가면 틀렸다고 나오겠죠?\n",
      "일치하지 않음!\n",
      "단어의 시작이나 끝이 아닌 문자가 포함된 단어 찾기\n",
      "일치하는 항목을 찾았습니다!\n"
     ]
    }
   ],
   "source": [
    "import re\n",
    "\n",
    "def text_match(text, patterns):\n",
    "    if re.search(patterns, text):\n",
    "        return('일치하는 항목을 찾았습니다!')\n",
    "    else:\n",
    "        return('일치하지 않음!')\n",
    "\n",
    "print(\"테스트 패턴은 다음으로 시작하고 끝남\")\n",
    "print(text_match(\"abbbbbc\", \"^a.*c$\"))\n",
    "\n",
    "print(\"단어로 시작함\")\n",
    "print(text_match(\"Tuffy eats pie, Loki eats peas!\", \"^\\w+\"))\n",
    "\n",
    "print(\"단어로 안 시작함!!\")\n",
    "print(text_match(\"?Tuffy eats pie, Loki eats peas!\", \"^\\w+\"))\n",
    "\n",
    "print(\"단어와 선택적 문장부호로 끝남\")\n",
    "print(text_match(\"Tuffy eats pie, Loki eats peas!\", \"\\w+\\S*?$\"))\n",
    "\n",
    "print(\"공백이 들어가면 틀렸다고 나오겠죠?\")\n",
    "print(text_match(\"Tuffy eats pie, Loki eats peas! \", \"\\w+\\S*?$\"))\n",
    "\n",
    "print(\"단어의 시작이나 끝이 아닌 문자가 포함된 단어 찾기\")\n",
    "print(text_match(\"Tuffy eats pie, Loki eats peas!\", \"\\Bu\\B\"))"
   ]
  },
  {
   "cell_type": "markdown",
   "metadata": {},
   "source": [
    "# recipe 3"
   ]
  },
  {
   "cell_type": "code",
   "execution_count": 13,
   "metadata": {},
   "outputs": [
    {
     "name": "stdout",
     "output_type": "stream",
     "text": [
      "\"Tuffy eats pie, Loki eats peas!\"에서 \"Tuffy\" 검색 중 ->\n",
      "찾았습니다!\n",
      "\"Tuffy eats pie, Loki eats peas!\"에서 \"Pie\" 검색 중 ->\n",
      "찾을 수 없습니다!\n",
      "\"Tuffy eats pie, Loki eats peas!\"에서 \"Loki\" 검색 중 ->\n",
      "찾았습니다!\n",
      "\n",
      " 12:20에서 \"festival\"을(를) 찾았습니다.\n",
      "\n",
      " 42:50에서 \"festival\"을(를) 찾았습니다.\n"
     ]
    }
   ],
   "source": [
    "import re\n",
    "\n",
    "#search for literal strings in sentence\n",
    "patterns = [ 'Tuffy', 'Pie', 'Loki' ]\n",
    "text = 'Tuffy eats pie, Loki eats peas!'\n",
    "\n",
    "for pattern in patterns:\n",
    "    print('\"%s\"에서 \"%s\" 검색 중 ->' % (text, pattern),)\n",
    "    if re.search(pattern, text):\n",
    "        print('찾았습니다!')\n",
    "    else:\n",
    "        print('찾을 수 없습니다!')z\n",
    "        \n",
    "#search a substring and find it's location too\n",
    "text = 'Diwali is a festival of lights, Holi is a festival of colors!'\n",
    "pattern = 'festival'\n",
    "for match in re.finditer(pattern, text):\n",
    "    s = match.start()\n",
    "    e = match.end()\n",
    "    print('\\n %d:%d에서 \"%s\"을(를) 찾았습니다.' % (s, e, text[s:e]))"
   ]
  },
  {
   "cell_type": "markdown",
   "metadata": {},
   "source": [
    "# recipe 4\n",
    "* (x): 그룹을 표현하며 x를 그룹으로 처리함을 의미\n",
    "* (x)(y): 그룹들의 집합을 표현하며 앞에서 부터 순서대로 번호를 부여하여 관리하고, x,y는 각 그룹의 데이터로 관리\n",
    "* [xy]: 문자 선택을 표현하며 x와 y중에 하나를 의미"
   ]
  },
  {
   "cell_type": "code",
   "execution_count": 20,
   "metadata": {},
   "outputs": [
    {
     "name": "stdout",
     "output_type": "stream",
     "text": [
      "URL에서 찾은 날짜 : [('2018', '10', '28'), ('2017', '05', '12')]\n",
      "True\n",
      "False\n"
     ]
    }
   ],
   "source": [
    "import re\n",
    "\n",
    "url= \"http://www.telegraph.co.uk/formula-1/2018/10/28/mexican-grand-prix-2017-time-does-start-tv-chann/2017/05/12/\"\n",
    "date_regex = '/(\\d{4})/(\\d{1,2})/(\\d{1,2})/'\n",
    "\n",
    "print(\"URL에서 찾은 날짜 :\", re.findall(date_regex, url))\n",
    "\n",
    "def is_allowed_specific_char(string):\n",
    "    \n",
    "    # complie 이란?\n",
    "    # 정규표현식이 담겨져 있는 변수를 생성하는 데에 사용한다. \n",
    "    charRe = re.compile(r'[a-zA-Z0-9.]') # 첫 시작이 알파벳, 숫자, . 이 포함 될 수 있다.\n",
    "    string = charRe.search(string)\n",
    "    return bool(string)\n",
    "\n",
    "print(is_allowed_specific_char(\"ABCDEFabcdef123450.\"))\n",
    "print(is_allowed_specific_char(\"*&%@#!}{\"))"
   ]
  },
  {
   "cell_type": "markdown",
   "metadata": {},
   "source": [
    "# recipe 5"
   ]
  },
  {
   "cell_type": "code",
   "execution_count": 21,
   "metadata": {},
   "outputs": [
    {
     "name": "stdout",
     "output_type": "stream",
     "text": [
      "21 Teheran Rd\n",
      "['light', 'color']\n"
     ]
    }
   ],
   "source": [
    "import re\n",
    "\n",
    "street = '21 Teheran Road'\n",
    "print(re.sub('Road', 'Rd', street))\n",
    "\n",
    "text = 'Diwali is a festival of light, Holi is a festival of color!'\n",
    "print(re.findall(r\"\\b\\w{5}\\b\", text)) # 5개인 것만 가져온다.\n",
    "# \\b는 공백을 의미\n",
    "# r 은 표현된 그 자체를 사용하겠다는 의미이다. 본래는 \\\\를 써야하지만, r을 씀으로써 \\ 하나로 대체할 수 있따. "
   ]
  },
  {
   "cell_type": "markdown",
   "metadata": {},
   "source": [
    "# recipe 6"
   ]
  },
  {
   "cell_type": "code",
   "execution_count": 23,
   "metadata": {},
   "outputs": [
    {
     "name": "stdout",
     "output_type": "stream",
     "text": [
      "['I', 'am', 'big!', \"It's\", 'the', 'pictures', 'that', 'got', 'small.']\n",
      "['I', 'am', 'big', 'It', 's', 'the', 'pictures', 'that', 'got', 'small', '']\n",
      "['I', 'am', 'big', '!', 'It', \"'s\", 'the', 'pictures', 'that', 'got', 'small', '.']\n"
     ]
    }
   ],
   "source": [
    "import re\n",
    "\n",
    "raw = \"I am big! It's the pictures that got small.\"\n",
    "print(re.split(r' +', raw)) # 공백이 하나 이상으로 나오면 split\n",
    "\n",
    "print(re.split(r'\\W+', raw)) \n",
    "# \\W 와 \\w 는 서로 반대의 의미를 가진다!\n",
    "# \\W 공백 이나, 특수문자가 하나라도 나오면 split\n",
    "\n",
    "print(re.findall(r'\\w+|\\S\\w*', raw)) # 영문자, 언더바가 하나이상 나타나거나 혹은 특수문자도 가능한 문자+문자 조합"
   ]
  },
  {
   "cell_type": "markdown",
   "metadata": {},
   "source": [
    "# recipe 7"
   ]
  },
  {
   "cell_type": "code",
   "execution_count": 28,
   "metadata": {},
   "outputs": [
    {
     "name": "stdout",
     "output_type": "stream",
     "text": [
      "['Keep', 'your', 'friends', 'close', ',', 'but', 'your', 'enemies', 'closer', '.']\n",
      "'Keep'\n",
      "'your'\n",
      "'friends'\n",
      "'close'\n",
      "','\n",
      "'but'\n",
      "'your'\n",
      "'enemies'\n",
      "'closer'\n",
      "'.'\n"
     ]
    }
   ],
   "source": [
    "import re\n",
    "\n",
    "def stem(word):\n",
    "    # findall로 찾아내기 시작한다.\n",
    "    # 두개로 그룹화를 시킬 것이다.\n",
    "    # 1번째 그룹은 ^(.*) = ^로 시작한다. 어떠한 문자든 0번이상 등장할 것이다.\n",
    "    # 2번째 그룹은 (ing|ly|ed|ious|ies|ive|es|s|ment) 에 하나라도 포함되는 문자이다.\n",
    "    # 따라서, friends를 splits 하면 friend 와 s로 구분될 것이다.\n",
    "    splits = re.findall(r'^(.*)(ing|ly|ed|ious|ies|ive|es|s|ment)?$', word)\n",
    "    \n",
    "    # findall이므로 리스트로 반환 되었을 것이다. 중첩리스트가 생성되었다.\n",
    "    # 리스트의 0번째의 0번째 value값을 가져온다. \n",
    "    # 따라서, friends의 경우에는 0번째인 [friend, s] 중 0번째인 friend만 반환한다.\n",
    "    stem = splits[0][0]\n",
    "    return stem # stem 을 반환\n",
    "\n",
    "raw = \"Keep your friends close, but your enemies closer.\" # 변수 정의\n",
    "tokens = re.findall(r'\\w+|\\S\\w*', raw) # 문자가 1번 이상 등장하고 or 공백이 아닌 문자+문자가 0번이상 등장\n",
    "print(tokens)\n",
    "\n",
    "for t in tokens:\n",
    "    print(\"'\"+stem(t)+\"'\")"
   ]
  },
  {
   "cell_type": "code",
   "execution_count": null,
   "metadata": {},
   "outputs": [],
   "source": []
  }
 ],
 "metadata": {
  "kernelspec": {
   "display_name": "Python 3",
   "language": "python",
   "name": "python3"
  },
  "language_info": {
   "codemirror_mode": {
    "name": "ipython",
    "version": 3
   },
   "file_extension": ".py",
   "mimetype": "text/x-python",
   "name": "python",
   "nbconvert_exporter": "python",
   "pygments_lexer": "ipython3",
   "version": "3.7.3"
  }
 },
 "nbformat": 4,
 "nbformat_minor": 2
}
