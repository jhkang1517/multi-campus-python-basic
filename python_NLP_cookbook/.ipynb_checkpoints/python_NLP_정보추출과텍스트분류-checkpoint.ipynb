{
 "cells": [
  {
   "cell_type": "code",
   "execution_count": null,
   "metadata": {},
   "outputs": [],
   "source": [
    "\"\"\"\n",
    "1. 문장 토큰화 (문장으로 분리)\n",
    "2. 단어 토큰화 (문장을 단어로 분리)\n",
    "3. 품사를 붙여줌\n",
    "4. 청킹 (토큰들의 단어 덩어리를 추출)\n",
    "5. IOB태킹 (복습필요)\n",
    "6. 개체명 인식 \n",
    "\"\"\""
   ]
  },
  {
   "cell_type": "markdown",
   "metadata": {},
   "source": [
    "# 7장 정보추출과 텍스트 분류\n",
    " * 개체명 인식(NER, Named Entity Recognition): 텍스트 내 이름, 장소, 제품등을 식별하는 것\n",
    " * 텍스트 내에서 개체명(고유명사)를 찾는 것\n",
    " * 처리과정: 토큰화 -> 품사구별 -> 청크(구) 추출"
   ]
  },
  {
   "cell_type": "markdown",
   "metadata": {},
   "source": [
    "## NER: 내장 개체명 인식 기능 사용\n",
    "**NER 절차**\n",
    " * 문장 토큰화: 문서를 문장으로 분리\n",
    " * 단어 토큰화: 문장을 단어로 분리\n",
    " * 품사 태깅: 토큰에 품사 부착\n",
    " * 청킹: 토큰들의 단어 덩어리(구, 청킹)을 추출\n",
    " * IOB태킹: 토큰들에 IOB 태그 부착\n",
    " * NER: 개체 인식\n",
    " \n",
    " *) NER은 검색엔진의 주요 기술"
   ]
  },
  {
   "cell_type": "code",
   "execution_count": 3,
   "metadata": {},
   "outputs": [
    {
     "data": {
      "text/plain": [
       "[('Pierre', 'NNP'),\n",
       " ('Vinken', 'NNP'),\n",
       " (',', ','),\n",
       " ('61', 'CD'),\n",
       " ('years', 'NNS'),\n",
       " ('old', 'JJ'),\n",
       " (',', ','),\n",
       " ('will', 'MD'),\n",
       " ('join', 'VB'),\n",
       " ('the', 'DT'),\n",
       " ('board', 'NN'),\n",
       " ('as', 'IN'),\n",
       " ('a', 'DT'),\n",
       " ('nonexecutive', 'JJ'),\n",
       " ('director', 'NN'),\n",
       " ('Nov.', 'NNP'),\n",
       " ('29', 'CD'),\n",
       " ('.', '.')]"
      ]
     },
     "execution_count": 3,
     "metadata": {},
     "output_type": "execute_result"
    }
   ],
   "source": [
    "# 먼저 태깅이 되어있는지 확인\n",
    "nltk.corpus.treebank.tagged_sents()[0]"
   ]
  },
  {
   "cell_type": "code",
   "execution_count": 2,
   "metadata": {},
   "outputs": [
    {
     "name": "stderr",
     "output_type": "stream",
     "text": [
      "[nltk_data] Downloading package words to\n",
      "[nltk_data]     C:\\Users\\student\\AppData\\Roaming\\nltk_data...\n",
      "[nltk_data]   Package words is already up-to-date!\n",
      "[nltk_data] Downloading package treebank to\n",
      "[nltk_data]     C:\\Users\\student\\AppData\\Roaming\\nltk_data...\n",
      "[nltk_data]   Package treebank is already up-to-date!\n",
      "[nltk_data] Downloading package maxent_ne_chunker to\n",
      "[nltk_data]     C:\\Users\\student\\AppData\\Roaming\\nltk_data...\n",
      "[nltk_data]   Package maxent_ne_chunker is already up-to-date!\n"
     ]
    },
    {
     "name": "stdout",
     "output_type": "stream",
     "text": [
      "(S\n",
      "  (PERSON Pierre/NNP)\n",
      "  (ORGANIZATION Vinken/NNP)\n",
      "  ,/,\n",
      "  61/CD\n",
      "  years/NNS\n",
      "  old/JJ\n",
      "  ,/,\n",
      "  will/MD\n",
      "  join/VB\n",
      "  the/DT\n",
      "  board/NN\n",
      "  as/IN\n",
      "  a/DT\n",
      "  nonexecutive/JJ\n",
      "  director/NN\n",
      "  Nov./NNP\n",
      "  29/CD\n",
      "  ./.)\n",
      "(S\n",
      "  (NE Pierre/NNP Vinken/NNP)\n",
      "  ,/,\n",
      "  61/CD\n",
      "  years/NNS\n",
      "  old/JJ\n",
      "  ,/,\n",
      "  will/MD\n",
      "  join/VB\n",
      "  the/DT\n",
      "  board/NN\n",
      "  as/IN\n",
      "  a/DT\n",
      "  nonexecutive/JJ\n",
      "  director/NN\n",
      "  Nov./NNP\n",
      "  29/CD\n",
      "  ./.)\n"
     ]
    }
   ],
   "source": [
    "import nltk\n",
    "nltk.download('words')\n",
    "nltk.download('treebank')\n",
    "nltk.download('maxent_ne_chunker')\n",
    "\n",
    "def sampleNE():\n",
    "    sent = nltk.corpus.treebank.tagged_sents()[0]\n",
    "    print(nltk.ne_chunk(sent))\n",
    "    \n",
    "def sampleNE2(): # 개체 인식을 하였는지, 안하였는지에 대한 여부를 binary 형태로 검증\n",
    "    sent = nltk.corpus.treebank.tagged_sents()[0]\n",
    "    print(nltk.ne_chunk(sent, binary=True)) # binary classification\n",
    "    \n",
    "sampleNE()\n",
    "sampleNE2()"
   ]
  },
  {
   "cell_type": "markdown",
   "metadata": {},
   "source": [
    "## Dictionary: 딕셔너리 생성, 반전, 사용\n",
    " * dictionary[단어] = 품사\n",
    " * dictionary[품사] = 단어 목록\n",
    " \n",
    " *) Class의 기본 개념을 이해 필요"
   ]
  },
  {
   "cell_type": "code",
   "execution_count": 14,
   "metadata": {},
   "outputs": [
    {
     "name": "stdout",
     "output_type": "stream",
     "text": [
      "Is 'chair' present in dictionary ? : 'No'\n",
      "Is 'flights' present in dictionary ? : 'Yes'\n",
      "\tPOS For 'flights' is 'NNS'\n",
      "Is 'delayed' present in dictionary ? : 'Yes'\n",
      "\tPOS For 'delayed' is 'VBN'\n",
      "Is 'pencil' present in dictionary ? : 'No'\n",
      "Is 'weather' present in dictionary ? : 'Yes'\n",
      "\tPOS For 'weather' is 'NN'\n",
      "POS 'NN' has '['weather']' words\n",
      "POS 'VBS' has 'None' words\n",
      "POS 'NNS' has '['flights']' words\n"
     ]
    },
    {
     "name": "stderr",
     "output_type": "stream",
     "text": [
      "[nltk_data] Downloading package averaged_perceptron_tagger to\n",
      "[nltk_data]     C:\\Users\\student\\AppData\\Roaming\\nltk_data...\n",
      "[nltk_data]   Package averaged_perceptron_tagger is already up-to-\n",
      "[nltk_data]       date!\n"
     ]
    }
   ],
   "source": [
    "import nltk\n",
    "nltk.download('averaged_perceptron_tagger')\n",
    "\n",
    "class LearningDictionary():\n",
    "    def __init__(self, sentence):\n",
    "        self.words = nltk.word_tokenize(sentence)\n",
    "        self.tagged = nltk.pos_tag(self.words)\n",
    "        self.buildDictionary()\n",
    "        self.buildReverseDictionary()\n",
    "        \n",
    "    def buildDictionary(self): # dictionary[단어] = 품사\n",
    "        self.dictionary = {}\n",
    "        for (word, pos) in self.tagged:\n",
    "            self.dictionary[word] = pos\n",
    "            \n",
    "    def buildReverseDictionary(self): # dictionary[품사] = 단어 목록\n",
    "        self.rdictionary = {}\n",
    "        for key in self.dictionary.keys():\n",
    "            value = self.dictionary[key]\n",
    "            if value not in self.rdictionary:\n",
    "                self.rdictionary[value] = [key]\n",
    "            else:\n",
    "                self.rdictionary[value].append(key)\n",
    "                \n",
    "    def isWordPresent(self, word): # dictionary에 단어 포함 여부 검사\n",
    "        return 'Yes' if word in self.dictionary else 'No'\n",
    "    \n",
    "    def getPOSForWord(self, word): # 단어의 품사 찾기\n",
    "        return self.dictionary[word] if word in self.dictionary else None\n",
    "    \n",
    "    def getWordsForPOS(self, pos): # 품사에 해당하는 단어 목록 찾기\n",
    "        return self.rdictionary[pos] if pos in self.rdictionary else None\n",
    "    \n",
    "sentence = \"All the flights got delayed due to bad weather\"\n",
    "learning = LearningDictionary(sentence)\n",
    "words = ['chair','flights','delayed','pencil','weather']\n",
    "pos = ['NN','VBS','NNS']\n",
    "\n",
    "for word in words:\n",
    "    status = learning.isWordPresent(word)\n",
    "    print(\"Is '{}' present in dictionary ? : '{}'\".format(word, status))\n",
    "    if status is 'Yes':\n",
    "        print(\"\\tPOS For '{}' is '{}'\".format(word, learning.getPOSForWord(word)))\n",
    "    \n",
    "for pword in pos:\n",
    "    print(\"POS '{}' has '{}' words\".format(pword, learning.getWordsForPOS(pword)))"
   ]
  },
  {
   "cell_type": "markdown",
   "metadata": {},
   "source": [
    "## Features: 피처 셋 선택\n",
    " * feature는 dictionary로 표현"
   ]
  },
  {
   "cell_type": "code",
   "execution_count": 18,
   "metadata": {},
   "outputs": [
    {
     "name": "stdout",
     "output_type": "stream",
     "text": [
      "learnSimpleFeatures\n",
      "[({'vehicle_class': 'F'}, 'rtc'), ({'vehicle_class': 'G'}, 'gov'), ({'vehicle_class': 'G'}, 'gov'), ({'vehicle_class': 'G'}, 'gov'), ({'vehicle_class': 'F'}, 'rtc'), ({'vehicle_class': '1'}, 'oth'), ({'vehicle_class': 'F'}, 'rtc'), ({'vehicle_class': 'G'}, 'gov')]\n",
      "(simple) KA-01-G 0109 is of type gov\n",
      "(simple) KA-02-F 9020 AC is of type rtc\n",
      "(simple) KA-02-FA 0801 is of type rtc\n",
      "(simple) KA-01 9129 is of type gov\n",
      "learnFeatures\n",
      "[({'vehicle_class': 'F', 'vehicle_prev': '-'}, 'rtc'), ({'vehicle_class': 'G', 'vehicle_prev': '-'}, 'gov'), ({'vehicle_class': 'G', 'vehicle_prev': '-'}, 'gov'), ({'vehicle_class': 'G', 'vehicle_prev': '-'}, 'gov'), ({'vehicle_class': 'F', 'vehicle_prev': '-'}, 'rtc'), ({'vehicle_class': '1', 'vehicle_prev': ' '}, 'oth'), ({'vehicle_class': 'F', 'vehicle_prev': '-'}, 'rtc'), ({'vehicle_class': 'G', 'vehicle_prev': '-'}, 'gov')]\n",
      "(dual) KA-01-G 0109 is of type gov\n",
      "(dual) KA-02-F 9020 AC is of type rtc\n",
      "(dual) KA-02-FA 0801 is of type rtc\n",
      "(dual) KA-01 9129 is of type oth\n"
     ]
    }
   ],
   "source": [
    "import nltk\n",
    "import random\n",
    "\n",
    "sampledata = [\n",
    "    ('KA-01-F 1034 A', 'rtc'),\n",
    "    ('KA-02-F 1030 B', 'rtc'),\n",
    "    ('KA-03-FA 1200 C', 'rtc'),\n",
    "    ('KA-01-G 0001 A', 'gov'),\n",
    "    ('KA-02-G 1004 A', 'gov'),\n",
    "    ('KA-03-G 0204 A', 'gov'),\n",
    "    ('KA-04-G 9230 A', 'gov'),\n",
    "    ('KA-27 1290', 'oth')\n",
    "]\n",
    "    \n",
    "random.shuffle(sampledata)\n",
    "testdata = [\n",
    "    'KA-01-G 0109',\n",
    "    'KA-02-F 9020 AC',\n",
    "    'KA-02-FA 0801',\n",
    "    'KA-01 9129'\n",
    "]\n",
    "\n",
    "def learnSimpleFeatures(): # class를 feature로 추출\n",
    "    def vehicleNumberFeature(vnumber):\n",
    "        return {'vehicle_class': vnumber[6]}\n",
    "    featuresets = [(vehicleNumberFeature(vn), cls) for (vn, cls) in sampledata]\n",
    "    print(\"learnSimpleFeatures\")\n",
    "    print(featuresets)\n",
    "    classifier = nltk.NaiveBayesClassifier.train(featuresets)\n",
    "    for num in testdata:\n",
    "        feature = vehicleNumberFeature(num)\n",
    "        print(\"(simple) %s is of type %s\" % (num, classifier.classify(feature)))\n",
    "        \n",
    "def learnFeatures():\n",
    "    def vehicleNumberFeature(vnumber):\n",
    "        return {\n",
    "            'vehicle_class': vnumber[6],\n",
    "            'vehicle_prev': vnumber[5]\n",
    "        }\n",
    "    featuresets = [(vehicleNumberFeature(vn), cls) for (vn, cls) in sampledata]\n",
    "    print(\"learnFeatures\")\n",
    "    print(featuresets)\n",
    "    classifier = nltk.NaiveBayesClassifier.train(featuresets)\n",
    "    for num in testdata:\n",
    "        feature = vehicleNumberFeature(num)\n",
    "        print(\"(dual) %s is of type %s\" % (num, classifier.classify(feature)))\n",
    "        \n",
    "learnSimpleFeatures()\n",
    "learnFeatures()"
   ]
  },
  {
   "cell_type": "markdown",
   "metadata": {},
   "source": [
    "## Segmentation: 분류기를 사용한 문장 분할\n",
    " * \"구두점(.) + 대문자\" 패턴에 일치하는 경우를 문장의 구분이라고 정의하여 문장을 분할"
   ]
  },
  {
   "cell_type": "code",
   "execution_count": 24,
   "metadata": {},
   "outputs": [
    {
     "name": "stdout",
     "output_type": "stream",
     "text": [
      "[({'current-word': '.', 'next-is-upper': False}, False), ({'current-word': '.', 'next-is-upper': True}, True), ({'current-word': '.', 'next-is-upper': True}, True), ({'current-word': '.', 'next-is-upper': True}, True), ({'current-word': '.', 'next-is-upper': True}, True)]\n",
      ".\n",
      ".\n",
      ".\n",
      ".\n",
      ".\n",
      ".\n",
      ".\n",
      ".\n",
      ".\n"
     ]
    },
    {
     "name": "stderr",
     "output_type": "stream",
     "text": [
      "[nltk_data] Downloading package punkt to\n",
      "[nltk_data]     C:\\Users\\student\\AppData\\Roaming\\nltk_data...\n",
      "[nltk_data]   Package punkt is already up-to-date!\n"
     ]
    }
   ],
   "source": [
    "import nltk\n",
    "nltk.download('punkt')\n",
    "def featureExtractor(words, i): # 단어, 다음 단어 첫글자 대문자 여부 검증\n",
    "    return({'current-word': words[i], 'next-is-upper': words[i+1][0].isupper()},\n",
    "           words[i+1][0].isupper())\n",
    "            \n",
    "def getFeaturesets(sentence):\n",
    "    words = nltk.word_tokenize(sentence)\n",
    "    featuresets = [featureExtractor(words, i) for i in range(1, len(words)-1) if words[i] == '.']\n",
    "    print(featuresets)\n",
    "    return featuresets\n",
    "\n",
    "def segmentTextAndPrintSentences(data):\n",
    "    words = nltk.word_tokenize(data)\n",
    "    for i in range(0, len(words)-1):\n",
    "        if words[i] == '.':\n",
    "            if classifier.classify(featureExtractor(words, i)[0]) == True:\n",
    "                print(\".\")\n",
    "            else:\n",
    "                print(words[i], end='')\n",
    "    print(words[-1])\n",
    "    \n",
    "traindata = \"India, officially the Republic of India (Bhārat Gaṇarājya),[e] is a country in South Asia. it is the seventh-largest country by area, the second-most populous country (with over 1.2 billion people), and the most populous democracy in the world. It is bounded by the Indian Ocean on the south, the Arabian Sea on the southwest, and the Bay of Bengal on the southeast. It shares land borders with Pakistan to the west;[f] China, Nepal, and Bhutan to the northeast; and Myanmar (Burma) and Bangladesh to the east. In the Indian Ocean, India is in the vicinity of Sri Lanka and the Maldives. India's Andaman and Nicobar Islands share a maritime border with Thailand and Indonesia.\"\n",
    "testdata = \"The Indian subcontinent was home to the urban Indus Valley Civilisation of the 3rd millennium BCE. In the following millennium, the oldest scriptures associated with Hinduism began to be composed. Social stratification, based on caste, emerged in the first millennium BCE, and Buddhism and Jainism arose. Early political consolidations took place under the Maurya and Gupta empires; the later peninsular Middle Kingdoms influenced cultures as far as southeast Asia. In the medieval era, Judaism, Zoroastrianism, Christianity, and Islam arrived, and Sikhism emerged, all adding to the region's diverse culture. Much of the north fell to the Delhi sultanate; the south was united under the Vijayanagara Empire. The economy expanded in the 17th century in the Mughal Empire. In the mid-18th century, the subcontinent came under British East India Company rule, and in the mid-19th under British crown rule. A nationalist movement emerged in the late 19th century, which later, under Mahatma Gandhi, was noted for nonviolent resistance and led to India's independence in 1947.\"\n",
    "\n",
    "traindataset = getFeaturesets(traindata)\n",
    "classifier = nltk.NaiveBayesClassifier.train(traindataset)\n",
    "segmentTextAndPrintSentences(testdata)"
   ]
  },
  {
   "cell_type": "markdown",
   "metadata": {},
   "source": [
    "## Document Classify : 문서 분류"
   ]
  },
  {
   "cell_type": "code",
   "execution_count": 25,
   "metadata": {},
   "outputs": [
    {
     "name": "stdout",
     "output_type": "stream",
     "text": [
      "Requirement already satisfied: feedparser in c:\\programdata\\anaconda3\\lib\\site-packages (5.2.1)\n"
     ]
    }
   ],
   "source": [
    "!pip install feedparser"
   ]
  },
  {
   "cell_type": "code",
   "execution_count": 31,
   "metadata": {},
   "outputs": [
    {
     "name": "stderr",
     "output_type": "stream",
     "text": [
      "[nltk_data] Downloading package stopwords to\n",
      "[nltk_data]     C:\\Users\\student\\AppData\\Roaming\\nltk_data...\n",
      "[nltk_data]   Package stopwords is already up-to-date!\n"
     ]
    },
    {
     "name": "stdout",
     "output_type": "stream",
     "text": [
      "downloading https://sports.yahoo.com/mlb/rss.xml\n",
      "downloading https://sports.yahoo.com/nfl/rss.xml\n",
      "featuresets\n",
      "[({'word(As)': True, 'word(deadline)': True, 'word(nears,)': True, 'word(time)': True, 'word(took)': True, 'word(look)': True, 'word(power)': True, 'word(players)': True, 'word(league,)': True, 'word(also)': True, 'word(identify)': True, 'word(piece)': True, 'word(–)': True, 'word(pieces)': True, 'word(put)': True, 'word(top.)': True}, 'mlb'), ({'word(Robinson)': True, 'word(Cano)': True, 'word(hit)': True, 'word(three)': True, 'word(home)': True, 'word(runs,)': True, 'word(breaking)': True, 'word(loose)': True, 'word(season-long)': True, 'word(slump)': True, 'word(huge)': True, 'word(way)': True, 'word(leading)': True, 'word(Jason)': True, 'word(Vargas)': True, 'word(New)': True, 'word(York)': True, 'word(Mets)': True, 'word(San)': True, 'word(Diego)': True, 'word(Padres)': True, 'word(5-2)': True, 'word(Tuesday)': True, 'word(night.)': True, 'word(The)': True, 'word(36-year-old)': True, 'word(drove)': True, 'word(five)': True, 'word(runs)': True, 'word(went)': True, 'word(4)': True, 'word(4.)': True, 'word(pitched)': True, 'word(one-hit)': True, 'word(ball)': True, 'word(six)': True, 'word(shutout)': True, 'word(innings,)': True, 'word(possibly)': True}, 'mlb'), ({'word(Robinson)': True, 'word(Cano)': True, 'word(hit)': True, 'word(three)': True, 'word(home)': True, 'word(runs,)': True, 'word(breaking)': True, 'word(loose)': True, 'word(season-long)': True, 'word(slump)': True, 'word(huge)': True, 'word(way)': True, 'word(leading)': True, 'word(Jason)': True, 'word(Vargas)': True, 'word(New)': True, 'word(York)': True, 'word(Mets)': True, 'word(San)': True, 'word(Diego)': True, 'word(Padres)': True, 'word(5-1)': True, 'word(Tuesday)': True, 'word(night.)': True, 'word(The)': True, 'word(36-year-old)': True, 'word(drove)': True, 'word(five)': True, 'word(runs)': True, 'word(went)': True, 'word(4)': True, 'word(4.)': True, 'word(pitched)': True, 'word(one-hit)': True, 'word(ball)': True, 'word(six)': True, 'word(shutout)': True, 'word(innings,)': True, 'word(possibly)': True}, 'mlb'), ({'word(Trea)': True, 'word(Turner)': True, 'word(hit)': True, 'word(cycle)': True, 'word(twice)': True, 'word(career,)': True, 'word(times)': True, 'word(Rockies.)': True}, 'mlb'), ({'word(Mets)': True, 'word(second)': True, 'word(baseman)': True, 'word(Robinson)': True, 'word(Canó)': True, 'word(enjoyed)': True, 'word(first)': True, 'word(three-homer)': True, 'word(game)': True, 'word(career,)': True, 'word(accounting)': True, 'word(five)': True, 'word(runs)': True, \"word(Tuesday's)\": True, 'word(win)': True, 'word(Padres.)': True}, 'mlb'), ({'word(PITTSBURGH)': True, 'word((AP))': True, 'word(--)': True, 'word(Paul)': True, 'word(Goldschmidt)': True, 'word(homered)': True, 'word(second)': True, 'word(straight)': True, 'word(night,)': True, 'word(Jose)': True, 'word(Martinez)': True, 'word(added)': True, 'word(10th)': True, 'word(home)': True, 'word(run)': True, 'word(season)': True, 'word(Dakota)': True, 'word(Hudson)': True, 'word(rebounded)': True, 'word(shaky)': True, 'word(start)': True, 'word(lead)': True, 'word(St.)': True, 'word(Louis)': True, 'word(Cardinals)': True, 'word(past)': True, 'word(Pittsburgh)': True, 'word(Pirates)': True, 'word(4-3)': True, 'word(Tuesday)': True, 'word(night.)': True}, 'mlb'), ({'word(The)': True, 'word(Indians,)': True, 'word(tabled)': True, 'word(discussing)': True, 'word(extending)': True, 'word(protective)': True, 'word(netting,)': True, 'word(announced)': True, 'word(young)': True, 'word(boy)': True, 'word(\"doing)': True, 'word(well\")': True, 'word(hit)': True, 'word(foul)': True, 'word(ball.)': True}, 'mlb'), ({'word(Christian)': True, 'word(Vazquez)': True, 'word(enters)': True, 'word(game)': True, 'word(hammers)': True, 'word(solo)': True, 'word(homer)': True, 'word(left)': True, 'word(field,)': True, 'word(giving)': True, 'word(Red)': True, 'word(Sox)': True, 'word(3-2)': True, 'word(lead)': True, 'word(7th)': True, 'word(inning)': True}, 'mlb'), ({'word(Here)': True, 'word(renderings)': True, 'word(upcoming)': True, 'word(renovations)': True, 'word(Dodger)': True, 'word(Stadium.)': True}, 'mlb'), ({'word(Mariners)': True, 'word(second)': True, 'word(baseman)': True, 'word(Dee)': True, 'word(Gordon)': True, 'word(placed)': True, 'word(10-day)': True, 'word(injured)': True, 'word(list)': True, 'word(strained)': True, 'word(left)': True, 'word(quadriceps.)': True, 'word(IL)': True, 'word(Tuesday,)': True, 'word(day)': True, 'word(leaving)': True, 'word(inning)': True, 'word(win)': True, 'word(Texas.)': True, 'word(said)': True, 'word(muscle)': True, 'word(rounding)': True, 'word(first)': True, 'word(base.)': True}, 'mlb'), ({'word(Will)': True, 'word(Phillies)': True, 'word(make)': True, 'word(splash)': True, 'word(MLB)': True, 'word(trade)': True, 'word(deadline)': True, 'word(improve)': True, 'word(around)': True, 'word(margins?)': True, 'word(The)': True, \"word(team's)\": True, 'word(place)': True, 'word(standings)': True, 'word(heavily)': True, 'word(dictate)': True, 'word(general)': True, 'word(manager)': True, 'word(Matt)': True, \"word(Klentak's)\": True, 'word(approach.)': True, 'word(By)': True, 'word(Jim)': True, 'word(Salisbury)': True}, 'mlb'), ({'word(Jose)': True, 'word(Martinez)': True, 'word(hammers)': True, 'word(solo)': True, 'word(home)': True, 'word(run)': True, 'word(seats)': True, 'word(center)': True, 'word(field)': True, 'word(give)': True, 'word(Cardinals)': True, 'word(4-3)': True, 'word(lead)': True, 'word(top)': True, 'word(5th)': True, 'word(inning)': True}, 'mlb'), ({'word(Didi)': True, 'word(Gregorius)': True, 'word(hammers)': True, 'word(two-run)': True, 'word(double)': True, 'word(center)': True, 'word(field,)': True, 'word(giving)': True, 'word(Yankees)': True, 'word(2-0)': True, 'word(lead)': True, 'word(top)': True, 'word(1st)': True, 'word(inning)': True}, 'mlb'), ({'word(Red)': True, 'word(Sox)': True, 'word(ace)': True, 'word(Chris)': True, 'word(Sale)': True, 'word(fooled)': True, 'word(Rays)': True, 'word(hitter)': True, 'word(Michael)': True, 'word(Brosseau)': True, 'word(filthy)': True, 'word(slider)': True, 'word(Tuesday)': True, \"word(night's)\": True, 'word(game.)': True}, 'mlb'), ({'word(Robinson)': True, 'word(Cano)': True, 'word(smacks)': True, 'word(solo)': True, 'word(home)': True, 'word(run)': True, 'word(second)': True, 'word(deck)': True, 'word(put)': True, 'word(Mets)': True, 'word(1-0)': True, 'word(Padres)': True, 'word(bottom)': True, 'word(4th)': True, 'word(inning)': True}, 'mlb'), ({'word(The)': True, 'word(reported)': True, 'word(interest)': True, 'word(White)': True, 'word(Sox)': True, 'word(relievers)': True, 'word(surprising.)': True, 'word(But)': True, 'word(year)': True, 'word(different)': True, 'word(Rick)': True, 'word(Hahn)': True, 'word(front)': True, 'word(office,)': True, 'word(making)': True, 'word(future)': True, 'word(plans)': True, 'word(might)': True, 'word(include)': True, 'word(trade)': True, 'word(candidates.)': True}, 'mlb'), ({'word(Madison)': True, 'word(Bumgarner)': True, 'word(takes)': True, 'word(mound)': True, 'word(Tuesday)': True, 'word(night)': True, 'word(could)': True, 'word(final)': True, 'word(home)': True, 'word(start)': True, 'word(member)': True, 'word(Giants.)': True}, 'mlb'), ({'word(The)': True, 'word(Los)': True, 'word(Angeles)': True, 'word(Dodgers)': True, 'word(plan)': True, 'word(welcome)': True, 'word(All-Star)': True, 'word(Game)': True, 'word(back)': True, 'word(Dodger)': True, 'word(Stadium)': True, 'word($100)': True, 'word(million)': True, 'word(renovation)': True, 'word(landmark)': True, 'word(ballpark.)': True, 'word(unveiled)': True, 'word(logo)': True, 'word(next)': True, \"word(year's)\": True, 'word(Midsummer)': True, 'word(Classic)': True, 'word(along)': True, 'word(latest)': True, 'word(modernization)': True, 'word(plans)': True, 'word(Tuesday)': True, 'word(57-year-old)': True, 'word(home,)': True, \"word(majors')\": True}, 'mlb'), ({'word(The)': True, 'word(Los)': True, 'word(Angeles)': True, 'word(Dodgers)': True, 'word(plan)': True, 'word(welcome)': True, 'word(All-Star)': True, 'word(Game)': True, 'word(back)': True, 'word(Dodger)': True, 'word(Stadium)': True, 'word($100)': True, 'word(million)': True, 'word(renovation)': True, 'word(landmark)': True, 'word(ballpark.)': True, 'word(unveiled)': True, 'word(logo)': True, 'word(next)': True, \"word(year's)\": True, 'word(Midsummer)': True, 'word(Classic)': True, 'word(along)': True, 'word(latest)': True, 'word(modernization)': True, 'word(plans)': True, 'word(Tuesday)': True, 'word(57-year-old)': True, 'word(home,)': True, \"word(majors')\": True}, 'mlb'), ({'word(Kolten)': True, 'word(Wong)': True, 'word(smacks)': True, 'word(double)': True, 'word(right-center-field)': True, 'word(gap,)': True, 'word(scoring)': True, 'word(Paul)': True, 'word(DeJong)': True, 'word(get)': True, 'word(Cardinals)': True, 'word(board)': True, 'word(top)': True, 'word(2nd)': True}, 'mlb'), ({'word(Andrew)': True, 'word(Benintendi)': True, 'word(laces)': True, 'word(single)': True, 'word(center)': True, 'word(field,)': True, 'word(scoring)': True, 'word(J.D.)': True, 'word(Martinez)': True, 'word(extend)': True, 'word(Red)': True, \"word(Sox's)\": True, 'word(lead)': True, 'word(2-0)': True, 'word(1st)': True, 'word(inning)': True}, 'mlb'), ({'word(The)': True, 'word(Boston)': True, 'word(Red)': True, 'word(Sox)': True, 'word(would)': True, 'word(wise)': True, 'word(make)': True, 'word(move)': True, 'word(upgrade)': True, 'word(bullpen)': True, 'word(July)': True, 'word(31)': True, 'word(MLB)': True, 'word(trade)': True, 'word(deadline.)': True, 'word(Could)': True, 'word(Will)': True, 'word(Smith)': True, 'word(Giants)': True, 'word(solution)': True, \"word(Boston's)\": True, 'word(struggling)': True, 'word(bullpen?)': True}, 'mlb'), ({'word(How)': True, 'word(far)': True, 'word(Phillies)': True, 'word(go)': True, 'word(acquire)': True, 'word(Tigers)': True, 'word(lefty)': True, 'word(Matthew)': True, 'word(Boyd?)': True, 'word(What)': True, 'word(stuck)': True, 'word(Ricky)': True, 'word(Bo)': True, 'word(Drew)': True, \"word(Smyly's)\": True, 'word(Phils)': True, 'word(debut?)': True, 'word(New)': True, 'word(At)': True, 'word(The)': True, 'word(Yard)': True, 'word(podcast)': True, 'word(dropped.)': True}, 'mlb'), ({'word(WASHINGTON)': True, 'word((AP))': True, 'word(--)': True, 'word(Nationals)': True, 'word(ace)': True, 'word(Max)': True, 'word(Scherzer)': True, 'word(slated)': True, 'word(start)': True, 'word(Thursday)': True, 'word(Colorado)': True, 'word(recovering)': True, 'word(inflammation)': True, 'word(right)': True, 'word(shoulder.)': True}, 'mlb'), ({'word(The)': True, 'word(2019)': True, 'word(MLB)': True, 'word(trade)': True, 'word(deadline)': True, 'word(July)': True, 'word(31,)': True, 'word(rumor)': True, 'word(mill)': True, 'word(heating)': True, 'word(World)': True, 'word(Series)': True, 'word(contenders)': True, 'word(examine)': True, 'word(market)': True, 'word(search)': True, 'word(upgrades.)': True}, 'mlb'), ({'word(Not)': True, 'word(long)': True, 'word(ago,)': True, 'word(Giants)': True, 'word(cellar)': True, 'word(waiting)': True, 'word(season)': True, 'word(end.)': True, 'word(What)': True, 'word(difference)': True, 'word(couple)': True, 'word(months)': True, 'word(make.)': True}, 'mlb'), ({'word(The)': True, 'word(Nationals)': True, 'word(looked)': True, 'word(rest)': True, 'word(season)': True, 'word(would)': True, 'word(line)': True, 'word(ace)': True, 'word(started)': True, 'word(Thursday)': True, 'word(instead)': True, 'word(Friday.)': True, 'word(They)': True, 'word(went)': True, 'word(way)': True, 'word(could)': True, 'word(first)': True, 'word(game)': True, 'word(postseason.)': True}, 'mlb'), ({'word(The)': True, \"word(A's)\": True, 'word(hoping)': True, 'word(erase)': True, 'word(shut)': True, 'word(Monday)': True, 'word(night)': True, 'word(continue)': True, 'word(four-game)': True, 'word(series)': True, 'word(hot)': True, 'word(Astros.)': True}, 'mlb'), ({'word(Cleveland)': True, 'word(Indians)': True, 'word(general)': True, 'word(manager)': True, 'word(joins)': True, 'word(Tiki)': True, 'word(Barber)': True, 'word(discuss)': True, 'word(team)': True, 'word(approaching)': True, 'word(MLB)': True, 'word(trade)': True, 'word(deadline.)': True}, 'mlb'), ({'word(The)': True, \"word(Phillies')\": True, 'word(run)': True, 'word(bad)': True, 'word(luck)': True, 'word(veteran)': True, 'word(relievers)': True, 'word(continued)': True, 'word(Tuesday.)': True, 'word(By)': True, 'word(Corey)': True, 'word(Seidman)': True}, 'mlb'), ({'word(The)': True, 'word(3-year-old)': True, 'word(boy)': True, 'word(hit)': True, 'word(foul)': True, 'word(ball)': True, 'word(Cleveland)': True, 'word(last)': True, 'word(weekend)': True, 'word(showing)': True, 'word(signs)': True, 'word(serious)': True, 'word(injury,)': True, 'word(Indians)': True, 'word(said)': True, 'word(Tuesday.)': True, 'word(boy,)': True, 'word(identified)': True, 'word(team)': True, 'word(Henry,)': True, 'word(line)': True, 'word(drive)': True, 'word(bat)': True, 'word(All-Star)': True, 'word(shortstop)': True, 'word(Francisco)': True, 'word(Lindor)': True, 'word(sixth)': True, 'word(inning)': True, 'word(5-4)': True, 'word(win)': True, 'word(Kansas)': True, 'word(City)': True}, 'mlb'), ({'word(Mariners)': True, 'word(second)': True, 'word(baseman)': True, 'word(Dee)': True, 'word(Gordon)': True, 'word(lands)': True, 'word(10-day)': True, 'word(injured)': True, 'word(list)': True, 'word(due)': True, 'word(strained)': True, 'word(left)': True, 'word(quad.)': True}, 'mlb'), ({'word(Giants)': True, 'word(rookie)': True, 'word(Zach)': True, 'word(Green)': True, 'word(experiencing)': True, 'word(reality)': True, 'word(thought)': True, 'word(could)': True, 'word(dream)': True, 'word(child.)': True}, 'mlb'), ({'word(WASHINGTON)': True, 'word((AP))': True, 'word(--)': True, 'word(Yonder)': True, 'word(Alonso)': True, 'word(brought)': True, 'word(Colorado)': True, 'word(Rockies)': True, 'word(Triple-A)': True, 'word(Albuquerque.)': True}, 'mlb'), ({'word(Pedro)': True, 'word(Strop)': True, 'word(tough)': True, 'word(go)': True, 'word(lately,)': True, 'word(mean)': True, 'word(time)': True, 'word(panic)': True, 'word(one)': True, 'word(consistent)': True, 'word(relievers)': True, 'word(Cubs)': True, 'word(history.)': True}, 'mlb'), ({'word(Mitch)': True, 'word(Moreland)': True, 'word(activated)': True, 'word(start)': True, 'word(Tuesday)': True, 'word(night)': True, 'word(first)': True, 'word(base.)': True}, 'mlb'), ({'word(The)': True, 'word(light-hitting)': True, 'word(Tyler)': True, 'word(Saladino)': True, 'word(hit)': True, 'word(grand)': True, 'word(slams)': True, 'word(back-to-back)': True, 'word(games,)': True, 'word(becoming)': True, 'word(first)': True, 'word(player)': True, 'word(nearly)': True, 'word(decade.)': True}, 'mlb'), ({\"word(There's)\": True, 'word(avoiding)': True, 'word(potential)': True, 'word(Tuesday)': True, \"word(Bumgarner's)\": True, 'word(final)': True, 'word(start)': True, 'word(Oracle)': True, 'word(Park)': True, 'word(Giant.)': True}, 'mlb'), ({'word(Phillies)': True, 'word(reliever)': True, 'word(Tommy)': True, 'word(Hunter)': True, 'word(underwent)': True, 'word(surgery)': True, 'word(repair)': True, 'word(flexor)': True, 'word(tendon)': True, 'word(right)': True, 'word(arm.)': True}, 'mlb'), ({'word(In)': True, \"word(week's)\": True, 'word(fantasy)': True, 'word(baseball)': True, 'word(trade)': True, 'word(talks,)': True, 'word(Fred)': True, 'word(Zinkie)': True, 'word(outlines)': True, 'word(someone)': True, 'word(like)': True, 'word(Joey)': True, 'word(Gallo)': True, 'word(prime)': True, 'word(sell-high)': True, 'word(candidate)': True, 'word(certain)': True, 'word(gamers.)': True}, 'mlb'), ({'word(The)': True, 'word(Giants)': True, 'word(might)': True, 'word(selling)': True, 'word(buying.)': True, 'word(Either)': True, 'word(way,)': True, 'word(Madison)': True, 'word(Bumgarner)': True, 'word(high)': True, 'word(demand.)': True}, 'mlb'), ({'word(Stephen)': True, 'word(Vogt)': True, 'word(made)': True, 'word(huge)': True, 'word(impact)': True, 'word(Giants)': True, 'word(clubhouse)': True, 'word(showing)': True, 'word(field.)': True}, 'mlb'), ({'word(In)': True, 'word(interview)': True, 'word(WEEI,)': True, 'word(struggling)': True, 'word(starter)': True, 'word(Rick)': True, 'word(Porcello)': True, 'word(expressed)': True, 'word(accountability)': True, 'word(poor)': True, 'word(play,)': True, 'word(optimism)': True, 'word(overall)': True, \"word(team's)\": True, 'word(2019)': True, 'word(outlook.)': True}, 'mlb'), ({'word(This)': True, 'word(week)': True, 'word(Nine)': True, 'word(Innings)': True, 'word(examine)': True, 'word(sad)': True, 'word(state)': True, 'word(content)': True, 'word(wild-card)': True, 'word(contenders)': True, 'word(non-buyers)': True, 'word(trade)': True, 'word(deadline.)': True}, 'mlb'), ({'word(The)': True, 'word(Boston)': True, 'word(Red)': True, 'word(Sox)': True, 'word(need)': True, 'word(make)': True, 'word(least)': True, 'word(one)': True, 'word(move)': True, 'word(July)': True, 'word(31)': True, 'word(MLB)': True, 'word(trade)': True, 'word(deadline,)': True, 'word(several)': True, 'word(rental)': True, 'word(targets)': True, 'word(Dave)': True, 'word(Dombrowski)': True, 'word(staff)': True, 'word(consider)': True, 'word(pursuing.)': True}, 'mlb'), ({'word(Must-watch)': True, 'word(storylines)': True, 'word(Arizona)': True, 'word(Cardinals)': True, 'word(training)': True, 'word(camp.)': True}, 'mlb'), ({'word(With)': True, 'word(Giants)': True, 'word(thick)': True, 'word(wild-card)': True, 'word(chase,)': True, 'word(move)': True, 'word(could)': True, 'word(allow)': True, 'word(\"sell\")': True, 'word(without)': True, 'word(throwing)': True, 'word(towel.)': True}, 'mlb'), ({'word(Williamson,)': True, 'word(29,)': True, 'word(leaving)': True, 'word(Tuesday)': True, 'word(meet)': True, 'word(team)': True, 'word(based)': True, 'word(Daegu,)': True, 'word(South)': True, 'word(Korea.)': True}, 'mlb'), ({'word(The)': True, 'word(Bears)': True, 'word(breakout)': True, 'word(season,)': True, 'word(came)': True, 'word(back)': True, 'word(ferocious)': True, 'word(defense.)': True, 'word(History)': True, 'word(shows)': True, 'word(easy)': True, 'word(follow)': True, 'word(up.)': True}, 'nfl'), ({'word(Washington)': True, 'word(Redskins)': True, 'word(offensive)': True, 'word(tackle)': True, 'word(Trent)': True, 'word(Williams)': True, 'word(ranked)': True, 'word(No.)': True, 'word(81)': True, 'word(player)': True, 'word(\"The)': True, 'word(Top)': True, 'word(100)': True, 'word(Players)': True, 'word(2019.\")': True}, 'nfl'), ({'word(As)': True, 'word(painstaking)': True, 'word(looked,)': True, 'word(Mark)': True, 'word(Sanchez)': True, 'word(survived)': True, 'word(Josh)': True, 'word(Norman)': True, 'word(Broadcasting)': True, 'word(Bootcamp)': True, 'word(job)': True, 'word(ESPN.)': True}, 'nfl'), ({'word(Denver)': True, 'word(Broncos)': True, 'word(outside)': True, 'word(linebacker)': True, 'word(Bradley)': True, 'word(Chubb)': True, 'word(ranked)': True, 'word(No.)': True, 'word(82)': True, 'word(player)': True, 'word(\"The)': True, 'word(Top)': True, 'word(100)': True, 'word(Players)': True, 'word(2019.\")': True}, 'nfl'), ({'word(Ryan)': True, 'word(Succop)': True, 'word(went)': True, 'word(physically)': True, 'word(unable)': True, 'word(perform)': True, 'word(list)': True, 'word(undisclosed)': True, 'word(injury.)': True, 'word(The)': True, 'word(injury)': True, 'word(disclosed)': True, 'word(Tuesday.)': True, 'word(Titans)': True, 'word(kicker)': True, 'word(offseason)': True, 'word(knee)': True, 'word(surgery)': True, 'word(\"did)': True, 'word(go)': True, 'word(neatly)': True, 'word(planned,\")': True, 'word(Paul)': True, 'word(Kuharsky)': True, 'word(paulkuharsky.com)': True, 'word(reports.)': True, 'word(experienced)': True, 'word(swelling)': True, 'word(rehab)': True}, 'nfl'), ({'word(Carolina)': True, 'word(Panthers)': True, 'word(quarterback)': True, 'word(Cam)': True, 'word(Newton)': True, 'word(ranked)': True, 'word(No.)': True, 'word(87)': True, 'word(player)': True, 'word(\"The)': True, 'word(Top)': True, 'word(100)': True, 'word(Players)': True, 'word(2019.\")': True}, 'nfl'), ({'word(Pittsburgh)': True, 'word(Steelers)': True, 'word(defensive)': True, 'word(lineman)': True, 'word(Cameron)': True, 'word(Heyward)': True, 'word(ranked)': True, 'word(No.)': True, 'word(88)': True, 'word(player)': True, 'word(\"The)': True, 'word(Top)': True, 'word(100)': True, 'word(Players)': True, 'word(2019.\")': True}, 'nfl'), ({'word(New)': True, 'word(England)': True, 'word(Patriots)': True, 'word(safety)': True, 'word(Devin)': True, 'word(McCourty)': True, 'word(ranked)': True, 'word(No.)': True, 'word(89)': True, 'word(player)': True, 'word(\"The)': True, 'word(Top)': True, 'word(100)': True, 'word(Players)': True, 'word(2019.\")': True}, 'nfl'), ({'word(New)': True, 'word(England)': True, 'word(Patriots)': True, 'word(wide)': True, 'word(receiver)': True, 'word(Julian)': True, 'word(Edelman)': True, 'word(ranked)': True, 'word(No.)': True, 'word(90)': True, 'word(player)': True, 'word(\"The)': True, 'word(Top)': True, 'word(100)': True, 'word(Players)': True, 'word(2019.\")': True}, 'nfl'), ({'word(The)': True, 'word(Falcons)': True, 'word(placed)': True, 'word(safety)': True, 'word(J.J.)': True, 'word(Wilcox)': True, 'word(injured)': True, 'word(reserve)': True, 'word(Tuesday,)': True, 'word(team)': True, 'word(announced.)': True, 'word(make)': True, 'word(first)': True, 'word(practice)': True, 'word(Falcons,)': True, 'word(tearing)': True, 'word(anterior)': True, 'word(cruciate)': True, 'word(ligament)': True, 'word(Monday.)': True, 'word(spent)': True, 'word(time)': True, 'word(Jets)': True, 'word(Colts)': True, 'word(last)': True, 'word(year.)': True, 'word(He)': True, 'word(signed)': True, 'word(free)': True, 'word(agent)': True}, 'nfl'), ({'word(Rams)': True, 'word(receiver)': True, 'word(Cooper)': True, 'word(Kupp)': True, 'word(start)': True, 'word(training)': True, 'word(camp)': True, 'word(physically)': True, 'word(unable)': True, 'word(perform)': True, 'word(list,)': True, 'word(Steve)': True, 'word(Wyche)': True, 'word(NFL)': True, 'word(Media)': True, 'word(reports.)': True, 'word(fully)': True, 'word(cleared,)': True, 'word(though)': True, 'word(\"measure\")': True, 'word(workload,)': True, 'word(per)': True, 'word(Wyche.)': True, 'word(tore)': True, 'word(anterior)': True, 'word(cruciate)': True, 'word(ligament)': True, 'word(left)': True, 'word(knee)': True, 'word(Nov.)': True, 'word(11.)': True, 'word(He)': True}, 'nfl'), ({'word(Between)': True, 'word(experimenting)': True, 'word(Tim)': True, 'word(Tebow)': True, 'word(package)': True, 'word(trying)': True, 'word(sign)': True, 'word(Peyton)': True, 'word(Manning,)': True, 'word(Jets)': True, 'word(didn’t)': True, 'word(Mark)': True, 'word(Sanchez)': True, 'word(favors.)': True}, 'nfl'), ({'word(David)': True, 'word(Kaplan)': True, 'word(joined)': True, 'word(Haugh,)': True, 'word(Madeline)': True, 'word(Kenney,)': True, 'word(Tony)': True, 'word(Andracki,)': True, 'word(Sam)': True, 'word(Panayotovich)': True, 'word(&)': True, 'word(Scott)': True, 'word(Paddock.)': True, 'word(Topics)': True, 'word(include)': True, 'word(Pedro)': True, \"word(Strop's)\": True, 'word(recent)': True, 'word(struggles,)': True, 'word(Addison)': True, \"word(Russell's)\": True, 'word(role)': True, 'word(team,)': True, 'word(Yoan)': True, \"word(Moncada's)\": True, 'word(move)': True, 'word(cleanup)': True, 'word(spot,)': True, 'word(Bears)': True, 'word(ranked)': True, 'word(5th-best)': True, 'word(team)': True, 'word(NFL)': True, 'word(PFT.)': True}, 'nfl'), ({'word(Three)': True, 'word(seasons)': True, 'word(ago,)': True, 'word(Minnesota)': True, 'word(Vikings)': True, 'word(stumbled)': True, 'word(5-0)': True, 'word(start)': True, 'word(finished)': True, 'word(8-8,)': True, 'word(one)': True, 'word(many)': True, 'word(problems)': True, 'word(negligible)': True, 'word(contribution)': True, 'word(collection)': True, 'word(first-year)': True, 'word(players.)': True, 'word(Coach)': True, 'word(Mike)': True, 'word(Zimmer)': True, 'word(looked)': True, 'word(back.)': True, 'word(Headlined)': True, 'word(center)': True, 'word(first-round)': True, 'word(draft)': True, 'word(pick)': True, 'word(Garrett)': True, 'word(Bradbury)': True}, 'nfl'), ({'word(NFL)': True, 'word(Network)': True, 'word(Insider)': True, 'word(Ian)': True, 'word(Rapoport)': True, 'word(reports)': True, 'word(latest)': True, 'word(linebacker)': True, 'word(Bobby)': True, \"word(Wagner's)\": True, 'word(contract)': True, 'word(situation)': True, 'word(Seattle)': True, 'word(Seahawks.)': True}, 'nfl'), ({'word(NFL)': True, \"word(Network's)\": True, 'word(Steve)': True, 'word(Wyche)': True, 'word(LaDainian)': True, 'word(Tomlinson)': True, 'word(discuss)': True, 'word(expectations)': True, 'word(Atlanta)': True, 'word(Falcons)': True, 'word(quarterback)': True, 'word(Matt)': True, 'word(Ryan)': True, 'word(2019.)': True}, 'nfl'), ({'word(NFL)': True, \"word(Network's)\": True, 'word(Tom)': True, 'word(Pelissero)': True, 'word(shares)': True, 'word(Houston)': True, 'word(Texans)': True, 'word(expect)': True, 'word(linebacker)': True, 'word(Jadeveon)': True, 'word(Clowney)': True, 'word(report)': True, 'word(training)': True, 'word(camp.)': True}, 'nfl'), ({'word(Free)': True, 'word(agent)': True, 'word(cornerback)': True, 'word(Dexter)': True, 'word(McDonald)': True, 'word(worked)': True, 'word(Dolphins)': True, 'word(Tuesday,)': True, 'word(Adam)': True, 'word(Schefter)': True, 'word(ESPN)': True, 'word(reports.)': True, 'word(McDonald,)': True, 'word(27,)': True, 'word(spent)': True, 'word(last)': True, 'word(season)': True, 'word(injured)': True, 'word(reserve)': True, 'word(ankle)': True, 'word(injury.)': True, 'word(The)': True, 'word(Raiders)': True, 'word(made)': True, 'word(seventh-round)': True, 'word(choice)': True, 'word(2015.)': True, 'word(He)': True, 'word(played)': True, 'word(27)': True, 'word(games)': True, 'word(six)': True, 'word(starts)': True, 'word(four)': True, 'word(seasons)': True}, 'nfl'), ({'word(The)': True, 'word(49ers)': True, 'word(find)': True, 'word(full)': True, 'word(depth)': True, 'word(safety,)': True, 'word(help)': True, 'word(immenely)': True, 'word(season.)': True}, 'nfl'), ({'word(New)': True, 'word(York)': True, 'word(Jets)': True, 'word(quarterback)': True, 'word(Mark)': True, 'word(Sanchez)': True, 'word(fumbles)': True, 'word(ball)': True, 'word(awkward)': True, 'word(ways)': True, 'word(running)': True, 'word(teammate)': True, 'word(Thanksgiving)': True, 'word(England)': True, 'word(Patriots.)': True}, 'nfl'), ({'word(Free)': True, 'word(agent)': True, 'word(defensive)': True, 'word(lineman)': True, 'word(Ricky)': True, 'word(Jean)': True, 'word(Francois)': True, 'word(visited)': True, 'word(Lions)': True, 'word(Tuesday,)': True, 'word(Adam)': True, 'word(Schefter)': True, 'word(ESPN)': True, 'word(reports.)': True, 'word(knows)': True, 'word(Lions;)': True, 'word(know)': True, 'word(Francois.)': True, 'word(He)': True, 'word(appeared)': True, 'word(16)': True, 'word(games,)': True, 'word(11)': True, 'word(starts,)': True, 'word(last)': True, 'word(season,)': True, 'word(finishing)': True, 'word(30)': True, 'word(tackles)': True, 'word(two)': True, 'word(sacks.)': True, 'word(Damon)': True, 'word(Harrison)': True, 'word(start,)': True}, 'nfl'), ({'word(The)': True, 'word(49ers)': True, 'word(playoffs)': True, 'word(since)': True, 'word(2013.)': True, 'word(Could)': True, 'word(change)': True, 'word(season?)': True}, 'nfl'), ({'word(Terez)': True, 'word(Charles)': True, 'word(give)': True, 'word(worst-to-first)': True, 'word(predictions)': True, 'word(NFC)': True, 'word(division,)': True, 'word(giving)': True, 'word(final)': True, 'word(picks)': True, 'word(think)': True, 'word(represent)': True, 'word(conference)': True, 'word(Super)': True, 'word(Bowl)': True, 'word(LIV)': True, 'word(Miami.)': True}, 'nfl'), ({'word(With)': True, 'word(training)': True, 'word(camp)': True, 'word(right)': True, 'word(around)': True, 'word(corner,)': True, 'word(Tom)': True, 'word(E.)': True, 'word(Curran)': True, 'word(Phil)': True, 'word(Perry)': True, 'word(tell)': True, 'word(us)': True, 'word(expect)': True, 'word(Patriots)': True, 'word(next)': True, 'word(weeks.)': True, 'word(They)': True, 'word(also)': True, 'word(break)': True, 'word(latest)': True, 'word(information)': True, 'word(surrounding)': True, 'word(Brady)': True, 'word(contract)': True, 'word(extension.)': True}, 'nfl'), ({'word(The)': True, 'word(Jaguars)': True, 'word(likely)': True, 'word(gathering)': True, 'word(training)': True, 'word(camp)': True, 'word(without)': True, 'word(one)': True, 'word(best)': True, 'word(young)': True, 'word(pass)': True, 'word(rushers)': True, 'word(game.)': True, 'word(Per)': True, 'word(source)': True, 'word(knowledge)': True, 'word(situation,)': True, 'word(contract)': True, 'word(talks)': True, 'word(defensive)': True, 'word(end)': True, 'word(Yannick)': True, 'word(Ngakoue)': True, 'word(broken)': True, 'word(down,)': True, 'word(making)': True, 'word(training-camp)': True, 'word(holdout)': True, 'word(likely.)': True, 'word(fourth-year)': True}, 'nfl'), ({'word(The)': True, 'word(Saints)': True, 'word(placed)': True, 'word(Sheldon)': True, 'word(Rankins)': True, 'word(physically)': True, 'word(unable)': True, 'word(perform)': True, 'word(list,)': True, 'word(according)': True, \"word(NFL's)\": True, 'word(official)': True, 'word(transactions)': True, 'word(report)': True, 'word(Tuesday.)': True, 'word(move)': True, 'word(comes)': True, 'word(surprise)': True, 'word(givens)': True, 'word(tore)': True, 'word(Achilles)': True, 'word(Jan.)': True, 'word(13.)': True, 'word(With)': True, 'word(normal)': True, 'word(prognosis)': True, 'word(10)': True, 'word(months,)': True, 'word(could)': True, 'word(miss)': True, 'word(start)': True, 'word(season)': True}, 'nfl'), ({'word(\"I)': True, 'word(tell)': True, 'word(this:)': True, 'word(I)': True, 'word(like)': True, 'word(watching)': True, 'word(tape,)': True, 'word(especially)': True, 'word(offense.\")': True}, 'nfl'), ({'word(The)': True, 'word(49ers)': True, 'word(signed)': True, 'word(kicker)': True, 'word(Jonathan)': True, 'word(Brown)': True, 'word(week)': True, 'word(placing)': True, 'word(franchise)': True, 'word(tag)': True, 'word(Robbie)': True, 'word(Gould.)': True, 'word(They)': True, 'word(waived)': True, 'word(signing)': True, 'word(Gould)': True, 'word(contract)': True, 'word(extension.)': True, 'word(originally)': True, 'word(entered)': True, 'word(NFL)': True, 'word(2016,)': True, 'word(Bengals)': True, 'word(undrafted)': True, 'word(free)': True, 'word(agent.)': True, 'word(Cincinnati)': True, 'word(preseason)': True}, 'nfl'), ({'word(The)': True, 'word(Texans)': True, 'word(signed)': True, 'word(veteran)': True, 'word(punter)': True, 'word(Bryan)': True, 'word(Anger,)': True, 'word(team)': True, 'word(announced)': True, 'word(Tuesday.)': True, 'word(He)': True, 'word(compete)': True, 'word(second-year)': True, 'word(Trevor)': True, 'word(Daniel)': True, 'word(job.)': True, 'word(Buccaneers,)': True, 'word(scheduled)': True, 'word(pay)': True, 'word(Anger)': True, 'word($3)': True, 'word(million)': True, 'word(season,)': True, 'word(cut)': True, 'word(March.)': True, \"word(Anger's)\": True, 'word(deal)': True, 'word(worth)': True, 'word($1)': True, 'word(million,)': True, 'word(Tom)': True, 'word(Pelissero)': True}, 'nfl'), ({'word(The)': True, 'word(Jacksonville)': True, 'word(Jaguars)': True, 'word(open)': True, 'word(training)': True, 'word(camp)': True, 'word(two)': True, 'word(offensive)': True, 'word(starters)': True, 'word(rookie)': True, 'word(physically)': True, 'word(unable)': True, 'word(perform)': True, 'word(list.)': True, 'word(placed)': True, 'word(veteran)': True, 'word(receiver)': True, 'word(Marqise)': True, 'word(Lee,)': True, 'word(left)': True, 'word(tackle)': True, 'word(Cam)': True, 'word(Robinson)': True, 'word(fifth-round)': True, 'word(draft)': True, 'word(pick)': True, 'word(Ryquell)': True, 'word(Armstead)': True, 'word(PUP)': True, 'word(list)': True, 'word(Tuesday,)': True, 'word(days)': True}, 'nfl'), ({\"word(N'Keal)\": True, 'word(Harry)': True, 'word(pleading)': True, 'word(Tom)': True, 'word(Brady)': True, 'word(subject)': True, \"word(Patriots')\": True, 'word(tradition)': True, 'word(giving)': True, 'word(rookies)': True, 'word(horrible)': True, 'word(haircuts.)': True}, 'nfl'), ({'word(Knowing)': True, 'word(offensive)': True, 'word(lines)': True, 'word(best)': True, 'word((and)': True, 'word(worst))': True, 'word(run-blocking)': True, 'word(key)': True, 'word(investing)': True, 'word(running)': True, 'word(backs.)': True, 'word(John)': True, 'word(Evans)': True, 'word(ranks)': True, 'word(every)': True, 'word(line)': True, 'word(league)': True, 'word(No.)': True, 'word(1)': True, 'word(-)': True, 'word(32.)': True}, 'nfl'), ({'word(The)': True, 'word(biggest)': True, 'word(questions)': True, 'word(swirling)': True, 'word(around)': True, 'word(Kansas)': True, 'word(City)': True, 'word(Chiefs)': True, 'word(offseason)': True, 'word(centered)': True, 'word(Tyreek)': True, 'word(Hill,)': True, 'word(whether)': True, 'word(speedy,)': True, 'word(record-setting)': True, 'word(wide)': True, 'word(receiver)': True, 'word(would)': True, 'word(season.)': True, 'word(coach)': True, 'word(Andy)': True, 'word(Reid)': True, 'word(confirmed)': True, 'word(Tuesday)': True, 'word(Hill)': True, 'word(report)': True, 'word(Scanlon)': True, 'word(Hall)': True, 'word(campus)': True, 'word(Missouri)': True, 'word(Western)': True}, 'nfl'), ({'word(RICHMOND,)': True, 'word(Va.)': True, 'word((AP))': True, 'word(--)': True, 'word(The)': True, 'word(Washington)': True, 'word(Redskins)': True, 'word(released)': True, 'word(inside)': True, 'word(linebacker)': True, 'word(Mason)': True, 'word(Foster)': True, 'word(eve)': True, 'word(training)': True, 'word(camp.)': True}, 'nfl'), ({'word(Receiver)': True, 'word(Tyler)': True, 'word(Boyd)': True, 'word(turned)': True, 'word(breakthrough)': True, 'word(season)': True, 'word(four-year)': True, 'word(contract)': True, 'word(extension.)': True, 'word(The)': True, 'word(Cincinnati)': True, 'word(Bengals)': True, 'word(signed)': True, 'word(deal)': True, 'word(runs)': True, 'word(2023)': True, 'word(Tuesday.)': True, 'word(second-round)': True, 'word(pick)': True, 'word(Pittsburgh)': True, 'word(2016)': True, 'word(entering)': True, 'word(final)': True, 'word(year)': True, 'word(original)': True, 'word(deal.)': True}, 'nfl'), ({'word(The)': True, 'word(New)': True, 'word(England)': True, 'word(Patriots)': True, 'word(secondary)': True, 'word(put)': True, 'word(clinic)': True, \"word(team's)\": True, 'word(Super)': True, 'word(Bowl)': True, 'word(LIII)': True, 'word(win)': True, 'word(Los)': True, 'word(Angeles)': True, 'word(Rams,)': True, 'word(group)': True, \"word(NFL's)\": True, 'word(best?)': True}, 'nfl'), ({'word(NFL)': True, \"word(Network's)\": True, 'word(Tom)': True, 'word(Pelissero)': True, 'word(spotlights)': True, 'word(one)': True, 'word(young)': True, 'word(wide)': True, 'word(receiver)': True, 'word(impressing)': True, 'word(coaches)': True, 'word(Minnesota)': True, 'word(Vikings)': True, 'word(training)': True, 'word(camp.)': True}, 'nfl'), ({'word(The)': True, 'word(Packers)': True, 'word(extended)': True, 'word(working)': True, 'word(relationship)': True, 'word(defensive)': True, 'word(lineman)': True, 'word(Dean)': True, 'word(Lowry.)': True, 'word(team)': True, 'word(announced)': True, 'word(agreed)': True, 'word(contract)': True, 'word(extension)': True, 'word(Lowry)': True, 'word(Tuesday.)': True, 'word(announcement)': True, 'word(included)': True, 'word(word)': True, 'word(terms)': True, 'word(deal.)': True, 'word(fourth-round)': True, 'word(pick)': True, 'word(2016)': True, 'word(headed)': True, 'word(final)': True}, 'nfl'), ({'word(Bengals)': True, 'word(owner)': True, 'word(Mike)': True, 'word(Brown)': True, 'word(thinks)': True, \"word(NFL's)\": True, 'word(current)': True, 'word(16-game)': True, 'word(schedule)': True, 'word(regular)': True, 'word(season)': True, 'word(long)': True, 'word(enough,)': True, 'word(doubts)': True, 'word(league)': True, 'word(able)': True, 'word(shorten)': True, 'word(preseason)': True, 'word(add)': True, 'word(games)': True, 'word(count)': True, 'word(standings)': True, \"word(players')\": True, 'word(opposition.)': True, 'word(said)': True, 'word(Tuesday)': True, 'word(strongly)': True, 'word(opposes)': True}, 'nfl'), ({'word(Today)': True, 'word(take)': True, 'word(look)': True, 'word(return)': True, 'word(Patriots)': True, 'word(second-year)': True, 'word(linebacker)': True, \"word(Ja'Whaun)\": True, 'word(Bentley)': True, 'word(might)': True, 'word(mean)': True, 'word(rest)': True, 'word(defense.)': True}, 'nfl'), ({'word(Minnesota)': True, 'word(Vikings)': True, 'word(cornerback)': True, 'word(Holton)': True, 'word(Hill)': True, 'word(suspended)': True, 'word(additional)': True, 'word(four)': True, 'word(games,)': True, 'word(time)': True, 'word(violation)': True, \"word(NFL's)\": True, 'word(policy)': True, 'word(program)': True, 'word(substances)': True, 'word(abuse.)': True, 'word(action)': True, 'word(first)': True, 'word(half)': True, 'word(season,)': True, 'word(previously)': True, 'word(received)': True, 'word(four-game)': True, 'word(ban)': True, 'word(league)': True, 'word(handed)': True}, 'nfl'), ({'word(ORCHARD)': True, 'word(PARK,)': True, 'word(N.Y.)': True, 'word((AP))': True, 'word(--)': True, 'word(The)': True, 'word(Buffalo)': True, 'word(Bills)': True, 'word(signed)': True, 'word(offensive)': True, 'word(lineman)': True, 'word(Isaac)': True, 'word(Asiata)': True, 'word(safety)': True, 'word(Abraham)': True, 'word(Wallace)': True, 'word(two)': True, 'word(days)': True, 'word(start)': True, 'word(training)': True, 'word(camp.)': True}, 'nfl'), ({'word(Terez)': True, 'word(Paylor)': True, 'word(Charles)': True, 'word(Robinson)': True, 'word(Yahoo)': True, 'word(Sports)': True, 'word(NFL)': True, 'word(Podcast)': True, 'word(preview)': True, 'word(2019)': True, 'word(Lions)': True, 'word(ask)': True, 'word(Matt)': True, 'word(Patricia)': True, 'word(right)': True, 'word(ship)': True, 'word(another)': True, 'word(Josh)': True, 'word(McDaniels)': True, 'word(Denver?Hear)': True, 'word(full)': True, 'word(conversation)': True, 'word(.)': True, 'word(Listen)': True, 'word(Apple)': True, 'word(Podcasts)': True, 'word(,)': True, 'word(Spotify)': True, 'word(Stitcher)': True, 'word(wherever)': True}, 'nfl'), ({\"word(We'll)\": True, 'word(get)': True, 'word(see)': True, 'word(new)': True, 'word(side)': True, 'word(New)': True, 'word(England)': True, 'word(Patriots)': True, 'word(head)': True, 'word(coach)': True, 'word(shares)': True, 'word(broadcast)': True, 'word(studio)': True, 'word(Rich)': True, 'word(Eisen)': True, 'word(Cris)': True, 'word(Collinsworth)': True, 'word(NFL)': True, 'word(Network.)': True}, 'nfl'), ({'word(Mark)': True, 'word(Sanchez)': True, 'word(retired,)': True, \"word(let's)\": True, 'word(take)': True, 'word(look)': True, 'word(back)': True, 'word(former)': True, 'word(Jets)': True, \"word(quarterback's)\": True, 'word(best)': True, 'word(worst)': True, 'word(moments)': True, 'word(Patriots.)': True}, 'nfl'), ({'word(Terez)': True, 'word(Paylor)': True, 'word(Charles)': True, 'word(Robinson)': True, 'word(Yahoo)': True, 'word(Sports)': True, 'word(NFL)': True, 'word(Podcast)': True, 'word(preview)': True, 'word(top)': True, 'word(NFC)': True, 'word(East)': True, 'word(2019.)': True, 'word(Hear)': True, 'word(full)': True, 'word(conversation)': True, 'word(.)': True, 'word(Listen)': True, 'word(Apple)': True, 'word(Podcasts)': True, 'word(,)': True, 'word(Spotify)': True, 'word(Stitcher)': True, 'word(wherever)': True, 'word(get)': True, 'word(podcasts.)': True}, 'nfl'), ({'word(NFL)': True, \"word(Network's)\": True, 'word(Brian)': True, 'word(Baldinger)': True, 'word(breaks)': True, 'word(one)': True, 'word(method)': True, 'word(Atlanta)': True, 'word(Falcons)': True, 'word(head)': True, 'word(coach)': True, 'word(Dan)': True, 'word(Quinn)': True, 'word(uses)': True, 'word(evaluate)': True, 'word(players.)': True}, 'nfl'), ({'word(Charles)': True, 'word(Robinson)': True, 'word(Terez)': True, 'word(Paylor)': True, 'word(Yahoo)': True, 'word(Sports)': True, 'word(NFL)': True, 'word(Podcast)': True, 'word(debate)': True, 'word(signal-caller)': True, 'word(best)': True, 'word(environment)': True, 'word(develop)': True, 'word(skills.Hear)': True, 'word(full)': True, 'word(conversation)': True, 'word(.)': True, 'word(Listen)': True, 'word(Apple)': True, 'word(Podcasts)': True, 'word(,)': True, 'word(Spotify)': True, 'word(Stitcher)': True, 'word(wherever)': True, 'word(get)': True, 'word(podcasts.)': True}, 'nfl'), ({'word(Charles)': True, 'word(Robinson)': True, 'word(Terez)': True, 'word(Paylor)': True, 'word(Yahoo)': True, 'word(Sports)': True, 'word(NFL)': True, 'word(Podcast)': True, 'word(preview)': True, 'word(Rams)': True, 'word(2019)': True, 'word(season)': True, 'word(debate)': True, 'word(take)': True, 'word(step)': True, 'word(back)': True, 'word(following)': True, 'word(NFC)': True, 'word(Championship)': True, 'word(run)': True, 'word(2018.Hear)': True, 'word(full)': True, 'word(conversation)': True, 'word(.)': True, 'word(Listen)': True, 'word(Apple)': True, 'word(Podcasts)': True, 'word(,)': True, 'word(Spotify)': True, 'word(Stitcher)': True, 'word(wherever)': True}, 'nfl'), ({'word(NFL)': True, 'word(Network)': True, 'word(Insider)': True, 'word(Ian)': True, 'word(Rapoport)': True, 'word(reports)': True, 'word(latest)': True, 'word(Cleveland)': True, 'word(Browns)': True, 'word(running)': True, 'word(back)': True, 'word(Duke)': True, \"word(Johnson's)\": True, 'word(trade)': True, 'word(request.)': True}, 'nfl')]\n",
      "--------------------------------------------------\n",
      "0.9795918367346939\n",
      "Most Informative Features\n",
      "             word(trade) = True              mlb : nfl    =      3.5 : 1.0\n",
      "              word(back) = True              nfl : mlb    =      3.1 : 1.0\n",
      "            word(season) = True              nfl : mlb    =      3.1 : 1.0\n",
      "          word(Robinson) = True              nfl : mlb    =      2.4 : 1.0\n",
      "          word(training) = True              nfl : mlb    =      2.4 : 1.0\n",
      "nfl -> The Bears had a breakout season, and it came on the back of a ferocious defense. History shows that it won't be easy to follow that up.\n",
      "nfl -> Washington Redskins offensive tackle Trent Williams has been ranked the No. 81 player on \"The Top 100 Players of 2019.\"\n",
      "nfl -> As painstaking as it looked, Mark Sanchez survived the Josh Norman Broadcasting Bootcamp and now has a job at ESPN.\n",
      "nfl -> Denver Broncos outside linebacker Bradley Chubb has been ranked the No. 82 player on \"The Top 100 Players of 2019.\"\n"
     ]
    }
   ],
   "source": [
    "import nltk\n",
    "nltk.download('stopwords')\n",
    "import random\n",
    "import feedparser\n",
    "\n",
    "urls = {\n",
    "    'mlb': 'https://sports.yahoo.com/mlb/rss.xml',\n",
    "    'nfl': 'https://sports.yahoo.com/nfl/rss.xml',\n",
    "}\n",
    "\n",
    "feedmap = {}\n",
    "stopwords = nltk.corpus.stopwords.words('english')\n",
    "\n",
    "def featureExtractor(words):\n",
    "    features = {}\n",
    "    for word in words:\n",
    "        if word not in stopwords:\n",
    "            features[\"word({})\".format(word)] = True\n",
    "    return features\n",
    "\n",
    "sentences = []\n",
    "\n",
    "for category in urls.keys():\n",
    "    feedmap[category] = feedparser.parse(urls[category])\n",
    "    print('downloading {}'.format(urls[category]))\n",
    "    for entry in feedmap[category]['entries']:\n",
    "        data = entry['summary']\n",
    "        words = data.split()\n",
    "        sentences.append((category, words))\n",
    "        \n",
    "featuresets = [(featureExtractor(words), category) for category, words in sentences]\n",
    "print(\"featuresets\")\n",
    "print(featuresets)\n",
    "print(\"-\"*50)\n",
    "\n",
    "random.shuffle(featuresets)\n",
    "total = len(featuresets)\n",
    "off = int(total/2)\n",
    "trainset = featuresets[off:]\n",
    "testset = featuresets[:off]\n",
    "\n",
    "classifier = nltk.NaiveBayesClassifier.train(trainset)\n",
    "print(nltk.classify.accuracy(classifier, testset))\n",
    "\n",
    "classifier.show_most_informative_features(5) # 가장 극성이 높은 것들을 보여준다. (n은 최대 10개?)\n",
    "for (i, entry) in enumerate(feedmap['nfl']['entries']):\n",
    "    if i < 4:\n",
    "        features = featureExtractor(entry['title'].split())\n",
    "        category = classifier.classify(features)\n",
    "        print('{} -> {}'.format(category, entry['summary']))"
   ]
  },
  {
   "cell_type": "code",
   "execution_count": 32,
   "metadata": {},
   "outputs": [],
   "source": [
    "classifier.show_most_informative_features?"
   ]
  },
  {
   "cell_type": "markdown",
   "metadata": {},
   "source": [
    "## Context Tagger: 문맥 기반 품사 태거\n",
    " * 문맥을 고려하여 품사를 태깅\n",
    " * 현단어 마지막 3글자 + 이전 단어를 기반으로 품사 태깅"
   ]
  },
  {
   "cell_type": "code",
   "execution_count": 38,
   "metadata": {
    "scrolled": true
   },
   "outputs": [
    {
     "name": "stdout",
     "output_type": "stream",
     "text": [
      "noContextTagger\n",
      "[('the', 'DT'), ('little', 'JJ'), ('remarks', 'NNS'), ('towards', None), ('assembly', 'NN'), ('are', None), ('laughable', None)]\n",
      "allsentences\n",
      "[[('What', 'WP'), ('is', 'VBZ'), ('your', 'PRP$'), ('address', 'NN'), ('when', 'WRB'), ('you', 'PRP'), (\"'re\", 'VBP'), ('in', 'IN'), ('Bangalore', 'NNP'), ('?', '.')], [('the', 'DT'), ('president', 'NN'), (\"'s\", 'POS'), ('address', 'NN'), ('on', 'IN'), ('the', 'DT'), ('state', 'NN'), ('of', 'IN'), ('the', 'DT'), ('economy', 'NN'), ('.', '.')], [('He', 'PRP'), ('addressed', 'VBD'), ('his', 'PRP$'), ('remarks', 'NNS'), ('to', 'TO'), ('the', 'DT'), ('lawyers', 'NNS'), ('in', 'IN'), ('the', 'DT'), ('audience', 'NN'), ('.', '.')], [('In', 'IN'), ('order', 'NN'), ('to', 'TO'), ('address', 'VB'), ('an', 'DT'), ('assembly', 'NN'), (',', ','), ('we', 'PRP'), ('should', 'MD'), ('be', 'VB'), ('ready', 'JJ')], [('He', 'PRP'), ('laughed', 'VBD'), ('inwardly', 'RB'), ('at', 'IN'), ('the', 'DT'), ('scene', 'NN'), ('.', '.')], [('After', 'IN'), ('all', 'PDT'), ('the', 'DT'), ('advance', 'NN'), ('publicity', 'NN'), (',', ','), ('the', 'DT'), ('prizefight', 'NN'), ('turned', 'VBD'), ('out', 'RP'), ('to', 'TO'), ('be', 'VB'), ('a', 'DT'), ('laugh', 'NN'), ('.', '.')], [('We', 'PRP'), ('can', 'MD'), ('learn', 'VB'), ('to', 'TO'), ('laugh', 'VB'), ('a', 'DT'), ('little', 'JJ'), ('at', 'IN'), ('even', 'RB'), ('our', 'PRP$'), ('most', 'RBS'), ('serious', 'JJ'), ('foibles', 'NNS'), ('.', '.')]]\n",
      "featureddata\n",
      "[({'last(1)': 't', 'last(2)': 'at', 'last(3)': 'hat', 'prev': '|NONE|'}, 'WP'), ({'last(1)': 's', 'last(2)': 'is', 'last(3)': 'is', 'prev': '|NONE|'}, 'VBZ'), ({'last(1)': 'r', 'last(2)': 'ur', 'last(3)': 'our', 'prev': 'is'}, 'PRP$'), ({'last(1)': 's', 'last(2)': 'ss', 'last(3)': 'ess', 'prev': 'your'}, 'NN'), ({'last(1)': 'n', 'last(2)': 'en', 'last(3)': 'hen', 'prev': 'address'}, 'WRB'), ({'last(1)': 'u', 'last(2)': 'ou', 'last(3)': 'you', 'prev': 'when'}, 'PRP'), ({'last(1)': 'e', 'last(2)': 're', 'last(3)': \"'re\", 'prev': 'you'}, 'VBP'), ({'last(1)': 'n', 'last(2)': 'in', 'last(3)': 'in', 'prev': \"'re\"}, 'IN'), ({'last(1)': 'e', 'last(2)': 're', 'last(3)': 'ore', 'prev': 'in'}, 'NNP'), ({'last(1)': '?', 'last(2)': '?', 'last(3)': '?', 'prev': 'Bangalore'}, '.'), ({'last(1)': 'e', 'last(2)': 'he', 'last(3)': 'the', 'prev': '|NONE|'}, 'DT'), ({'last(1)': 't', 'last(2)': 'nt', 'last(3)': 'ent', 'prev': '|NONE|'}, 'NN'), ({'last(1)': 's', 'last(2)': \"'s\", 'last(3)': \"'s\", 'prev': 'president'}, 'POS'), ({'last(1)': 's', 'last(2)': 'ss', 'last(3)': 'ess', 'prev': \"'s\"}, 'NN'), ({'last(1)': 'n', 'last(2)': 'on', 'last(3)': 'on', 'prev': 'address'}, 'IN'), ({'last(1)': 'e', 'last(2)': 'he', 'last(3)': 'the', 'prev': 'on'}, 'DT'), ({'last(1)': 'e', 'last(2)': 'te', 'last(3)': 'ate', 'prev': 'the'}, 'NN'), ({'last(1)': 'f', 'last(2)': 'of', 'last(3)': 'of', 'prev': 'state'}, 'IN'), ({'last(1)': 'e', 'last(2)': 'he', 'last(3)': 'the', 'prev': 'of'}, 'DT'), ({'last(1)': 'y', 'last(2)': 'my', 'last(3)': 'omy', 'prev': 'the'}, 'NN'), ({'last(1)': '.', 'last(2)': '.', 'last(3)': '.', 'prev': 'economy'}, '.'), ({'last(1)': 'e', 'last(2)': 'He', 'last(3)': 'He', 'prev': '|NONE|'}, 'PRP'), ({'last(1)': 'd', 'last(2)': 'ed', 'last(3)': 'sed', 'prev': '|NONE|'}, 'VBD'), ({'last(1)': 's', 'last(2)': 'is', 'last(3)': 'his', 'prev': 'addressed'}, 'PRP$'), ({'last(1)': 's', 'last(2)': 'ks', 'last(3)': 'rks', 'prev': 'his'}, 'NNS'), ({'last(1)': 'o', 'last(2)': 'to', 'last(3)': 'to', 'prev': 'remarks'}, 'TO'), ({'last(1)': 'e', 'last(2)': 'he', 'last(3)': 'the', 'prev': 'to'}, 'DT'), ({'last(1)': 's', 'last(2)': 'rs', 'last(3)': 'ers', 'prev': 'the'}, 'NNS'), ({'last(1)': 'n', 'last(2)': 'in', 'last(3)': 'in', 'prev': 'lawyers'}, 'IN'), ({'last(1)': 'e', 'last(2)': 'he', 'last(3)': 'the', 'prev': 'in'}, 'DT'), ({'last(1)': 'e', 'last(2)': 'ce', 'last(3)': 'nce', 'prev': 'the'}, 'NN'), ({'last(1)': '.', 'last(2)': '.', 'last(3)': '.', 'prev': 'audience'}, '.'), ({'last(1)': 'n', 'last(2)': 'In', 'last(3)': 'In', 'prev': '|NONE|'}, 'IN'), ({'last(1)': 'r', 'last(2)': 'er', 'last(3)': 'der', 'prev': '|NONE|'}, 'NN'), ({'last(1)': 'o', 'last(2)': 'to', 'last(3)': 'to', 'prev': 'order'}, 'TO'), ({'last(1)': 's', 'last(2)': 'ss', 'last(3)': 'ess', 'prev': 'to'}, 'VB'), ({'last(1)': 'n', 'last(2)': 'an', 'last(3)': 'an', 'prev': 'address'}, 'DT'), ({'last(1)': 'y', 'last(2)': 'ly', 'last(3)': 'bly', 'prev': 'an'}, 'NN'), ({'last(1)': ',', 'last(2)': ',', 'last(3)': ',', 'prev': 'assembly'}, ','), ({'last(1)': 'e', 'last(2)': 'we', 'last(3)': 'we', 'prev': ','}, 'PRP'), ({'last(1)': 'd', 'last(2)': 'ld', 'last(3)': 'uld', 'prev': 'we'}, 'MD'), ({'last(1)': 'e', 'last(2)': 'be', 'last(3)': 'be', 'prev': 'should'}, 'VB'), ({'last(1)': 'y', 'last(2)': 'dy', 'last(3)': 'ady', 'prev': 'be'}, 'JJ'), ({'last(1)': 'e', 'last(2)': 'He', 'last(3)': 'He', 'prev': '|NONE|'}, 'PRP'), ({'last(1)': 'd', 'last(2)': 'ed', 'last(3)': 'hed', 'prev': '|NONE|'}, 'VBD'), ({'last(1)': 'y', 'last(2)': 'ly', 'last(3)': 'dly', 'prev': 'laughed'}, 'RB'), ({'last(1)': 't', 'last(2)': 'at', 'last(3)': 'at', 'prev': 'inwardly'}, 'IN'), ({'last(1)': 'e', 'last(2)': 'he', 'last(3)': 'the', 'prev': 'at'}, 'DT'), ({'last(1)': 'e', 'last(2)': 'ne', 'last(3)': 'ene', 'prev': 'the'}, 'NN'), ({'last(1)': '.', 'last(2)': '.', 'last(3)': '.', 'prev': 'scene'}, '.'), ({'last(1)': 'r', 'last(2)': 'er', 'last(3)': 'ter', 'prev': '|NONE|'}, 'IN'), ({'last(1)': 'l', 'last(2)': 'll', 'last(3)': 'all', 'prev': '|NONE|'}, 'PDT'), ({'last(1)': 'e', 'last(2)': 'he', 'last(3)': 'the', 'prev': 'all'}, 'DT'), ({'last(1)': 'e', 'last(2)': 'ce', 'last(3)': 'nce', 'prev': 'the'}, 'NN'), ({'last(1)': 'y', 'last(2)': 'ty', 'last(3)': 'ity', 'prev': 'advance'}, 'NN'), ({'last(1)': ',', 'last(2)': ',', 'last(3)': ',', 'prev': 'publicity'}, ','), ({'last(1)': 'e', 'last(2)': 'he', 'last(3)': 'the', 'prev': ','}, 'DT'), ({'last(1)': 't', 'last(2)': 'ht', 'last(3)': 'ght', 'prev': 'the'}, 'NN'), ({'last(1)': 'd', 'last(2)': 'ed', 'last(3)': 'ned', 'prev': 'prizefight'}, 'VBD'), ({'last(1)': 't', 'last(2)': 'ut', 'last(3)': 'out', 'prev': 'turned'}, 'RP'), ({'last(1)': 'o', 'last(2)': 'to', 'last(3)': 'to', 'prev': 'out'}, 'TO'), ({'last(1)': 'e', 'last(2)': 'be', 'last(3)': 'be', 'prev': 'to'}, 'VB'), ({'last(1)': 'a', 'last(2)': 'a', 'last(3)': 'a', 'prev': 'be'}, 'DT'), ({'last(1)': 'h', 'last(2)': 'gh', 'last(3)': 'ugh', 'prev': 'a'}, 'NN'), ({'last(1)': '.', 'last(2)': '.', 'last(3)': '.', 'prev': 'laugh'}, '.'), ({'last(1)': 'e', 'last(2)': 'We', 'last(3)': 'We', 'prev': '|NONE|'}, 'PRP'), ({'last(1)': 'n', 'last(2)': 'an', 'last(3)': 'can', 'prev': '|NONE|'}, 'MD'), ({'last(1)': 'n', 'last(2)': 'rn', 'last(3)': 'arn', 'prev': 'can'}, 'VB'), ({'last(1)': 'o', 'last(2)': 'to', 'last(3)': 'to', 'prev': 'learn'}, 'TO'), ({'last(1)': 'h', 'last(2)': 'gh', 'last(3)': 'ugh', 'prev': 'to'}, 'VB'), ({'last(1)': 'a', 'last(2)': 'a', 'last(3)': 'a', 'prev': 'laugh'}, 'DT'), ({'last(1)': 'e', 'last(2)': 'le', 'last(3)': 'tle', 'prev': 'a'}, 'JJ'), ({'last(1)': 't', 'last(2)': 'at', 'last(3)': 'at', 'prev': 'little'}, 'IN'), ({'last(1)': 'n', 'last(2)': 'en', 'last(3)': 'ven', 'prev': 'at'}, 'RB'), ({'last(1)': 'r', 'last(2)': 'ur', 'last(3)': 'our', 'prev': 'even'}, 'PRP$'), ({'last(1)': 't', 'last(2)': 'st', 'last(3)': 'ost', 'prev': 'our'}, 'RBS'), ({'last(1)': 's', 'last(2)': 'us', 'last(3)': 'ous', 'prev': 'most'}, 'JJ'), ({'last(1)': 's', 'last(2)': 'es', 'last(3)': 'les', 'prev': 'serious'}, 'NNS'), ({'last(1)': '.', 'last(2)': '.', 'last(3)': '.', 'prev': 'foibles'}, '.')]\n",
      "분류기 정확도: 0.46153846153846156\n"
     ]
    }
   ],
   "source": [
    "import nltk\n",
    "sentences = [\n",
    "    \"What is your address when you're in Bangalore?\", #주소\n",
    "    \"the president's address on the state of the economy.\" , #연설\n",
    "    \"He addressed his remarks to the lawyers in the audience.\", #연설하다\n",
    "    \"In order to address an assembly, we should be ready\", #연설하다\n",
    "    \"He laughed inwardly at the scene.\", #웃다\n",
    "    \"After all the advance publicity, the prizefight turned out to be a laugh.\", #웃음\n",
    "    \"We can learn to laugh a little at even our most serious foibles.\" #웃다\n",
    "]\n",
    "\n",
    "def getSentenceWords():\n",
    "    sentwords = []\n",
    "    for sentence in sentences:\n",
    "        words = nltk.pos_tag(nltk.word_tokenize(sentence))\n",
    "        sentwords.append(words)\n",
    "    #print(\"getSentenceWords\")\n",
    "    #print(sentwords)\n",
    "    return sentwords\n",
    "\n",
    "def noContextTagger():  # context를 고려하지 않는 tagger\n",
    "    tagger = nltk.UnigramTagger(getSentenceWords())\n",
    "    print(\"noContextTagger\")\n",
    "    print(tagger.tag('the little remarks towards assembly are laughable'.split()))\n",
    "\n",
    "def withContextTagger():\n",
    "    def wordFeatures(words, wordPosInSentence):\n",
    "        # 모든 ing 형태를 추출\n",
    "        endFeatures = {\n",
    "            'last(1)': words[wordPosInSentence][-1],\n",
    "            'last(2)': words[wordPosInSentence][-2:],\n",
    "            'last(3)': words[wordPosInSentence][-3:],\n",
    "        }\n",
    "        # 이전 단어를 사용해 현재 단어가 동사인지, 명사인지 확인\n",
    "        if wordPosInSentence > 1:\n",
    "            endFeatures['prev'] = words[wordPosInSentence - 1]\n",
    "        else:\n",
    "            endFeatures['prev'] = '|NONE|'\n",
    "        return endFeatures\n",
    "    \n",
    "    allsentences = getSentenceWords()\n",
    "    print('allsentences')\n",
    "    print(allsentences)\n",
    "    featureddata = []\n",
    "    for sentence in allsentences:\n",
    "        untaggedSentence = nltk.tag.untag(sentence)\n",
    "        featuredsentence = [(wordFeatures(untaggedSentence, index), tag) for index, (word, tag) in enumerate(sentence)]\n",
    "        featureddata.extend(featuredsentence)\n",
    "    print('featureddata')\n",
    "    print(featureddata)\n",
    "    breakup = int(len(featureddata) * 0.5)\n",
    "    traindata = featureddata[breakup:]\n",
    "    testdata = featureddata[:breakup]\n",
    "    classifier = nltk.NaiveBayesClassifier.train(traindata)\n",
    "    print(\"분류기 정확도: {}\".format(nltk.classify.accuracy(classifier, testdata)))\n",
    "    \n",
    "noContextTagger()\n",
    "withContextTagger()"
   ]
  },
  {
   "cell_type": "code",
   "execution_count": null,
   "metadata": {},
   "outputs": [],
   "source": []
  }
 ],
 "metadata": {
  "kernelspec": {
   "display_name": "Python 3",
   "language": "python",
   "name": "python3"
  },
  "language_info": {
   "codemirror_mode": {
    "name": "ipython",
    "version": 3
   },
   "file_extension": ".py",
   "mimetype": "text/x-python",
   "name": "python",
   "nbconvert_exporter": "python",
   "pygments_lexer": "ipython3",
   "version": "3.7.3"
  }
 },
 "nbformat": 4,
 "nbformat_minor": 2
}
