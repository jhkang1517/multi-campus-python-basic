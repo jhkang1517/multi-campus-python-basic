{
 "cells": [
  {
   "cell_type": "markdown",
   "metadata": {},
   "source": [
    "# 제어문"
   ]
  },
  {
   "cell_type": "markdown",
   "metadata": {},
   "source": [
    "## IF문"
   ]
  },
  {
   "cell_type": "code",
   "execution_count": 4,
   "metadata": {},
   "outputs": [
    {
     "name": "stdout",
     "output_type": "stream",
     "text": [
      "a는 10입니다.\n"
     ]
    }
   ],
   "source": [
    "a = 10\n",
    "if a == 5:\n",
    "    print('a는 5입니다.')\n",
    "\n",
    "if a == 10:\n",
    "    print('a는 10입니다.')"
   ]
  },
  {
   "cell_type": "code",
   "execution_count": 14,
   "metadata": {},
   "outputs": [
    {
     "data": {
      "text/plain": [
       "'Life is too short.'"
      ]
     },
     "execution_count": 14,
     "metadata": {},
     "output_type": "execute_result"
    }
   ],
   "source": [
    "str_1 = \"Life is too short.\"\n",
    "str_1"
   ]
  },
  {
   "cell_type": "code",
   "execution_count": 15,
   "metadata": {},
   "outputs": [
    {
     "name": "stdout",
     "output_type": "stream",
     "text": [
      "실행 되었습니다.\n"
     ]
    }
   ],
   "source": [
    "if str_1:\n",
    "    print(\"실행 되었습니다.\")"
   ]
  },
  {
   "cell_type": "code",
   "execution_count": 18,
   "metadata": {},
   "outputs": [],
   "source": [
    "l1 = []\n",
    "# 칸이 비어있는 경우를 생각해야한다."
   ]
  },
  {
   "cell_type": "code",
   "execution_count": 17,
   "metadata": {},
   "outputs": [
    {
     "name": "stdout",
     "output_type": "stream",
     "text": [
      "비었어요.\n"
     ]
    }
   ],
   "source": [
    "if l1:\n",
    "    print('비었네?')\n",
    "    \n",
    "if not l1:\n",
    "    print('비었어요.')"
   ]
  },
  {
   "cell_type": "code",
   "execution_count": 19,
   "metadata": {},
   "outputs": [],
   "source": [
    "if None:\n",
    "    print('이건 None이에요.')\n",
    "# None타입은 실행자체가 되지 않는다."
   ]
  },
  {
   "cell_type": "code",
   "execution_count": 20,
   "metadata": {},
   "outputs": [
    {
     "name": "stdout",
     "output_type": "stream",
     "text": [
      "str_1은 string data-type입니다.\n"
     ]
    },
    {
     "ename": "TypeError",
     "evalue": "unsupported operand type(s) for -: 'str' and 'str'",
     "output_type": "error",
     "traceback": [
      "\u001b[1;31m---------------------------------------------------------------------------\u001b[0m",
      "\u001b[1;31mTypeError\u001b[0m                                 Traceback (most recent call last)",
      "\u001b[1;32m<ipython-input-20-baa036df3b5a>\u001b[0m in \u001b[0;36m<module>\u001b[1;34m\u001b[0m\n\u001b[0;32m      2\u001b[0m     \u001b[0mprint\u001b[0m\u001b[1;33m(\u001b[0m\u001b[1;34m'str_1은 string data-type입니다.'\u001b[0m\u001b[1;33m)\u001b[0m\u001b[1;33m\u001b[0m\u001b[1;33m\u001b[0m\u001b[0m\n\u001b[0;32m      3\u001b[0m \u001b[1;33m\u001b[0m\u001b[0m\n\u001b[1;32m----> 4\u001b[1;33m \u001b[0mprint\u001b[0m\u001b[1;33m(\u001b[0m\u001b[0mtype\u001b[0m\u001b[1;33m(\u001b[0m\u001b[0mstr_1\u001b[0m\u001b[1;33m-\u001b[0m\u001b[0m_\u001b[0m\u001b[1;33m)\u001b[0m\u001b[1;33m)\u001b[0m\u001b[1;33m\u001b[0m\u001b[1;33m\u001b[0m\u001b[0m\n\u001b[0m",
      "\u001b[1;31mTypeError\u001b[0m: unsupported operand type(s) for -: 'str' and 'str'"
     ]
    }
   ],
   "source": [
    "if type(str_1) == type(str()):\n",
    "    print('str_1은 string data-type입니다.')\n",
    "    \n",
    "print(type(str_1-_))"
   ]
  },
  {
   "cell_type": "code",
   "execution_count": 21,
   "metadata": {},
   "outputs": [
    {
     "name": "stdout",
     "output_type": "stream",
     "text": [
      "a가 15보다는 작습니다.\n"
     ]
    }
   ],
   "source": [
    "a = 10\n",
    "\n",
    "if a<5:\n",
    "    print('a가 5보다 작습니다.')\n",
    "    \n",
    "elif a<10:\n",
    "    print('a가 5보다 크거나 같고, 10보다 작습니다.')\n",
    "    \n",
    "elif a<15:\n",
    "    print(\"a가 15보다는 작습니다.\")"
   ]
  },
  {
   "cell_type": "markdown",
   "metadata": {},
   "source": [
    "## 연습문제 1 "
   ]
  },
  {
   "cell_type": "code",
   "execution_count": null,
   "metadata": {},
   "outputs": [],
   "source": [
    "a = input('점수1: ')\n",
    "b = input('점수2: ')\n",
    "c = input('점수3: ')\n",
    "\n",
    "# 코드 작성\n",
    "a = int(a)\n",
    "b = int(b)\n",
    "c = int(c)\n",
    "\n",
    "\n",
    "if a not in range(101) or b not in range(101) or c not in range(101):\n",
    "    print('잘못된 점수가 입력 되었습니다.')\n",
    "    \n",
    "elif a > 65 and b > 65 and c > 65:\n",
    "    print('합격')\n",
    "    \n",
    "else:\n",
    "    print('불합격')\n",
    "#코드 끝"
   ]
  },
  {
   "cell_type": "markdown",
   "metadata": {},
   "source": [
    "## 연습문제 2"
   ]
  },
  {
   "cell_type": "code",
   "execution_count": 1,
   "metadata": {},
   "outputs": [
    {
     "ename": "SyntaxError",
     "evalue": "invalid syntax (<ipython-input-1-f340dde8eb91>, line 4)",
     "output_type": "error",
     "traceback": [
      "\u001b[1;36m  File \u001b[1;32m\"<ipython-input-1-f340dde8eb91>\"\u001b[1;36m, line \u001b[1;32m4\u001b[0m\n\u001b[1;33m    if a in range(0:max:1):\u001b[0m\n\u001b[1;37m                   ^\u001b[0m\n\u001b[1;31mSyntaxError\u001b[0m\u001b[1;31m:\u001b[0m invalid syntax\n"
     ]
    }
   ],
   "source": [
    "a = int(input('정수를 입력해 주세요: '))\n",
    "\n",
    "# 코드 작성\n",
    "if a in range(0:max:1):\n",
    "    print(\"입력하신 a는 홀수입니다.\")\n",
    "\n",
    "if a in range(0:max:2):\n",
    "    print(\"입력하신 a는 짝수입니다.\")\n",
    "    \n",
    "if a == 0:\n",
    "    print('0은 애매합니다.')"
   ]
  },
  {
   "cell_type": "code",
   "execution_count": 2,
   "metadata": {},
   "outputs": [
    {
     "name": "stdout",
     "output_type": "stream",
     "text": [
      "정수를 입력해 주세요.: 3\n",
      "홀수 입니다.\n"
     ]
    }
   ],
   "source": [
    "a = int(input(\"정수를 입력해 주세요.: \"))\n",
    "\n",
    "#코드 작성\n",
    "\n",
    "if a == 0:\n",
    "    print(\"0은 애매합니다.\")\n",
    "    \n",
    "elif a % 2 == 1:\n",
    "    print('홀수 입니다.')\n",
    "    \n",
    "else:\n",
    "    print(\"짝수 입니다.\")"
   ]
  },
  {
   "cell_type": "markdown",
   "metadata": {},
   "source": [
    "## PASS문"
   ]
  },
  {
   "cell_type": "code",
   "execution_count": 6,
   "metadata": {},
   "outputs": [
    {
     "ename": "IndentationError",
     "evalue": "expected an indented block (<ipython-input-6-8b410cb2ea4b>, line 5)",
     "output_type": "error",
     "traceback": [
      "\u001b[1;36m  File \u001b[1;32m\"<ipython-input-6-8b410cb2ea4b>\"\u001b[1;36m, line \u001b[1;32m5\u001b[0m\n\u001b[1;33m    print(\"코드가 실행되었습니다.\")\u001b[0m\n\u001b[1;37m        ^\u001b[0m\n\u001b[1;31mIndentationError\u001b[0m\u001b[1;31m:\u001b[0m expected an indented block\n"
     ]
    }
   ],
   "source": [
    "a = 10\n",
    "if a == 10:\n",
    "# 들여쓰기 오류 발생함    \n",
    "\n",
    "print(\"코드가 실행되었습니다.\")"
   ]
  },
  {
   "cell_type": "code",
   "execution_count": 7,
   "metadata": {},
   "outputs": [
    {
     "name": "stdout",
     "output_type": "stream",
     "text": [
      "코드가 실행되었습니다.\n"
     ]
    }
   ],
   "source": [
    "a = 10\n",
    "if a == 10:\n",
    "    pass\n",
    "print(\"코드가 실행되었습니다.\")"
   ]
  },
  {
   "cell_type": "markdown",
   "metadata": {},
   "source": [
    "## 들여쓰기란?"
   ]
  },
  {
   "cell_type": "code",
   "execution_count": 13,
   "metadata": {},
   "outputs": [
    {
     "name": "stdout",
     "output_type": "stream",
     "text": [
      "a는 10입니다.\n",
      "하지만 b=5 입니다.\n"
     ]
    }
   ],
   "source": [
    "a = 7\n",
    "b = 5\n",
    "if a != 10:\n",
    "    print('a는 10입니다.')\n",
    "    print(\"하지만 b=5 입니다.\")"
   ]
  },
  {
   "cell_type": "markdown",
   "metadata": {},
   "source": [
    "# 반복문 for"
   ]
  },
  {
   "cell_type": "code",
   "execution_count": 5,
   "metadata": {},
   "outputs": [],
   "source": [
    "# for 변수 in [iterator]:\n",
    "            # 코드\n",
    "    #iterator 반복가능한 개체. 변수. "
   ]
  },
  {
   "cell_type": "code",
   "execution_count": 7,
   "metadata": {},
   "outputs": [
    {
     "name": "stdout",
     "output_type": "stream",
     "text": [
      "현재값: 0\n",
      "현재값: 1\n",
      "현재값: 2\n",
      "현재값: 3\n",
      "현재값: 4\n",
      "현재값: 5\n",
      "현재값: 6\n",
      "현재값: 7\n",
      "현재값: 8\n",
      "현재값: 9\n"
     ]
    }
   ],
   "source": [
    "for i in range(10):\n",
    "    print(\"현재값:\", i)"
   ]
  },
  {
   "cell_type": "code",
   "execution_count": 8,
   "metadata": {},
   "outputs": [
    {
     "name": "stdout",
     "output_type": "stream",
     "text": [
      "현재값: 0\n",
      "현재값: 2\n",
      "현재값: 4\n",
      "현재값: 6\n",
      "현재값: 8\n"
     ]
    }
   ],
   "source": [
    "for i in range(0, 10, 2):\n",
    "    print(\"현재값:\", i)"
   ]
  },
  {
   "cell_type": "code",
   "execution_count": 9,
   "metadata": {},
   "outputs": [
    {
     "name": "stdout",
     "output_type": "stream",
     "text": [
      "리스트 현재값:  1\n",
      "리스트 현재값:  2\n",
      "리스트 현재값:  3\n",
      "리스트 현재값:  4\n",
      "리스트 현재값:  5\n"
     ]
    }
   ],
   "source": [
    "for i in [1, 2, 3, 4, 5]:\n",
    "    print('리스트 현재값: ', i)"
   ]
  },
  {
   "cell_type": "code",
   "execution_count": 11,
   "metadata": {},
   "outputs": [
    {
     "name": "stdout",
     "output_type": "stream",
     "text": [
      "리스트 현재값:  a\n",
      "리스트 현재값:  b\n",
      "리스트 현재값:  c\n"
     ]
    }
   ],
   "source": [
    "for a in ['a', 'b', 'c']:\n",
    "    print('리스트 현재값: ', a)"
   ]
  },
  {
   "cell_type": "code",
   "execution_count": 31,
   "metadata": {},
   "outputs": [
    {
     "name": "stdout",
     "output_type": "stream",
     "text": [
      "정수를 입력해주세요: 5\n",
      "안녕\n",
      "안녕\n",
      "안녕\n",
      "안녕\n",
      "안녕\n"
     ]
    }
   ],
   "source": [
    "a = int(input(\"정수를 입력해주세요: \"))\n",
    "\n",
    "# 코드 작성\n",
    "for i in range(a):   \n",
    "    print(\"안녕\")"
   ]
  },
  {
   "cell_type": "code",
   "execution_count": 34,
   "metadata": {},
   "outputs": [
    {
     "name": "stdout",
     "output_type": "stream",
     "text": [
      "정수를 입력해주세요: 5\n",
      "*\n",
      "**\n",
      "***\n",
      "****\n",
      "*****\n"
     ]
    }
   ],
   "source": [
    "a = int(input(\"정수를 입력해주세요: \"))\n",
    "\n",
    "# 코드 작성\n",
    "for i in range(1, a+1):\n",
    "    print('*' * (i) )"
   ]
  },
  {
   "cell_type": "code",
   "execution_count": 29,
   "metadata": {},
   "outputs": [
    {
     "name": "stdout",
     "output_type": "stream",
     "text": [
      "정수를 입력해주세요: 10\n",
      "**********\n",
      "*********\n",
      "********\n",
      "*******\n",
      "******\n",
      "*****\n",
      "****\n",
      "***\n",
      "**\n",
      "*\n"
     ]
    }
   ],
   "source": [
    "a = int(input(\"정수를 입력해주세요: \"))\n",
    "\n",
    "# 코드 작성\n",
    "for i in range( a, 0, -1 ):\n",
    "    print('*' * (i))"
   ]
  },
  {
   "cell_type": "code",
   "execution_count": null,
   "metadata": {},
   "outputs": [],
   "source": [
    "for i in range(10):\n",
    "    print('='*10)\n",
    "    \n",
    "    print(i, '번째 iloop')\n",
    "    \n",
    "    print('-'*10)\n",
    "    \n",
    "    for j in range(10):\n",
    "        print()"
   ]
  },
  {
   "cell_type": "markdown",
   "metadata": {},
   "source": [
    "## 연습문제 2-1\n",
    "(1)  x = [3, 6, 9, 20, -7, 5] 의 값의 모든 요소에 10을 곱한뒤 출력하세요\n",
    "심화 : 출력과 리스트 x 의 값에도 모두 10을 곱해주세요"
   ]
  },
  {
   "cell_type": "code",
   "execution_count": 36,
   "metadata": {},
   "outputs": [
    {
     "name": "stdout",
     "output_type": "stream",
     "text": [
      "30\n",
      "60\n",
      "90\n",
      "200\n",
      "-70\n",
      "50\n"
     ]
    }
   ],
   "source": [
    "# 기본\n",
    "x = [3, 6, 9, 20, -7, 5]\n",
    "\n",
    "for i in x:\n",
    "    print(i*10)"
   ]
  },
  {
   "cell_type": "code",
   "execution_count": 101,
   "metadata": {},
   "outputs": [
    {
     "name": "stdout",
     "output_type": "stream",
     "text": [
      "[30, 60, 90, 200, -70, 50]\n"
     ]
    }
   ],
   "source": [
    "# 심화\n",
    "# 심화 : 출력과 리스트 x 의 값에도 모두 10을 곱해주세요\n",
    "x = [3, 6, 9, 20, -7, 5]\n",
    "\n",
    "for idx, val in enumerate(x):\n",
    "    x[idx] *= 10\n",
    "\n",
    "print(x)"
   ]
  },
  {
   "cell_type": "markdown",
   "metadata": {},
   "source": [
    "## 연습문제 2-2\n",
    "(2)  y = {“math”: 70, “science”: 80, “english”: 20} 의 값의 모든 요소에 10을 더한뒤 출력하세요\n",
    "심화 : 출력과 딕셔너리 y 의 값에도 모두 10을 더해주세요"
   ]
  },
  {
   "cell_type": "code",
   "execution_count": 99,
   "metadata": {
    "scrolled": true
   },
   "outputs": [
    {
     "name": "stdout",
     "output_type": "stream",
     "text": [
      "80\n",
      "90\n",
      "30\n"
     ]
    }
   ],
   "source": [
    "# 기본\n",
    "y = {\"math\": 70, \"science\": 80, \"english\":20}\n",
    "for k in y:\n",
    "    print(y[k]+10)\n"
   ]
  },
  {
   "cell_type": "code",
   "execution_count": 134,
   "metadata": {},
   "outputs": [
    {
     "name": "stdout",
     "output_type": "stream",
     "text": [
      "80\n",
      "90\n",
      "30\n"
     ]
    }
   ],
   "source": [
    "# 심화\n",
    "y = {\"math\": 70, \"science\": 80, \"english\":20}\n",
    "\n",
    "for subject in y:\n",
    "    y[subject] += 10\n",
    "    print(y[subject])"
   ]
  },
  {
   "cell_type": "markdown",
   "metadata": {},
   "source": [
    "## 연습문제 2-3\n",
    "(3) 숫자를 입력받고 입력받은 정수의 구구단을 출력하세요"
   ]
  },
  {
   "cell_type": "code",
   "execution_count": 168,
   "metadata": {
    "scrolled": true
   },
   "outputs": [
    {
     "name": "stdout",
     "output_type": "stream",
     "text": [
      "정수를 입력하세요: 5\n",
      "1 * 5 = 5\n",
      "2 * 5 = 10\n",
      "3 * 5 = 15\n",
      "4 * 5 = 20\n",
      "5 * 5 = 25\n",
      "6 * 5 = 30\n",
      "7 * 5 = 35\n",
      "8 * 5 = 40\n",
      "9 * 5 = 45\n"
     ]
    }
   ],
   "source": [
    "a = int(input(\"정수를 입력하세요: \"))\n",
    "\n",
    "for i in range(1, 10):\n",
    "    print(i, '*', a, '=', i*a)"
   ]
  },
  {
   "cell_type": "markdown",
   "metadata": {},
   "source": [
    "# 연습문제 3-1\n",
    "(1) word = [“school”, “game”, “piano”, “science”, “hotel”, “mountian”] 중 글자수가 6글자 이상인 문자를 모아 새로운 리스트를 생성하세요."
   ]
  },
  {
   "cell_type": "code",
   "execution_count": 175,
   "metadata": {},
   "outputs": [
    {
     "name": "stdout",
     "output_type": "stream",
     "text": [
      "['school', 'science', 'mountain']\n"
     ]
    }
   ],
   "source": [
    "word = [\"school\", \"game\", \"piano\", \"science\", \"hotel\", \"mountain\"]\n",
    "\n",
    "# 코드작성\n",
    "new = []\n",
    "for a in word:\n",
    "    if len(a) >= 6:\n",
    "        new.append(a)\n",
    "        \n",
    "print(new)"
   ]
  },
  {
   "cell_type": "code",
   "execution_count": 203,
   "metadata": {},
   "outputs": [
    {
     "data": {
      "text/plain": [
       "['school', 'science', 'mountain']"
      ]
     },
     "execution_count": 203,
     "metadata": {},
     "output_type": "execute_result"
    }
   ],
   "source": [
    "word = [\"school\", \"game\", \"piano\", \"science\", \"hotel\", \"mountain\"]\n",
    "\n",
    "# 코드작성\n",
    "new = word.copy()\n",
    "# 복사를 한다는 것이 중요하다. 그렇지 않으면 본래 데이터에서 삭제될 수 있기 때문이다. \n",
    "\n",
    "for x in word:\n",
    "    if len(x)<6:\n",
    "        new.remove(x)\n",
    "        \n",
    "new"
   ]
  },
  {
   "cell_type": "code",
   "execution_count": 205,
   "metadata": {},
   "outputs": [
    {
     "name": "stdout",
     "output_type": "stream",
     "text": [
      "['school', 'science', 'mountain']\n"
     ]
    }
   ],
   "source": [
    "word = [\"school\", \"game\", \"piano\", \"science\", \"hotel\", \"mountain\"]\n",
    "\n",
    "# 코드작성\n",
    "new = []\n",
    "for a in word:\n",
    "    if len(a) >= 6:\n",
    "        new.extend([a])\n",
    "        # extend는 요소가 아닌 리스트로 추가해야 한다.\n",
    "        \n",
    "print(new)"
   ]
  },
  {
   "cell_type": "markdown",
   "metadata": {},
   "source": [
    "# 연습문제 3-2\n",
    "(2) 구구단을 1단부터 9단까지 출력하세요"
   ]
  },
  {
   "cell_type": "code",
   "execution_count": 193,
   "metadata": {
    "scrolled": true
   },
   "outputs": [
    {
     "name": "stdout",
     "output_type": "stream",
     "text": [
      "2 * 1 = 2\n",
      "2 * 2 = 4\n",
      "2 * 3 = 6\n",
      "2 * 4 = 8\n",
      "2 * 5 = 10\n",
      "2 * 6 = 12\n",
      "2 * 7 = 14\n",
      "2 * 8 = 16\n",
      "2 * 9 = 18\n",
      "3 * 1 = 3\n",
      "3 * 2 = 6\n",
      "3 * 3 = 9\n",
      "3 * 4 = 12\n",
      "3 * 5 = 15\n",
      "3 * 6 = 18\n",
      "3 * 7 = 21\n",
      "3 * 8 = 24\n",
      "3 * 9 = 27\n",
      "4 * 1 = 4\n",
      "4 * 2 = 8\n",
      "4 * 3 = 12\n",
      "4 * 4 = 16\n",
      "4 * 5 = 20\n",
      "4 * 6 = 24\n",
      "4 * 7 = 28\n",
      "4 * 8 = 32\n",
      "4 * 9 = 36\n",
      "5 * 1 = 5\n",
      "5 * 2 = 10\n",
      "5 * 3 = 15\n",
      "5 * 4 = 20\n",
      "5 * 5 = 25\n",
      "5 * 6 = 30\n",
      "5 * 7 = 35\n",
      "5 * 8 = 40\n",
      "5 * 9 = 45\n",
      "6 * 1 = 6\n",
      "6 * 2 = 12\n",
      "6 * 3 = 18\n",
      "6 * 4 = 24\n",
      "6 * 5 = 30\n",
      "6 * 6 = 36\n",
      "6 * 7 = 42\n",
      "6 * 8 = 48\n",
      "6 * 9 = 54\n",
      "7 * 1 = 7\n",
      "7 * 2 = 14\n",
      "7 * 3 = 21\n",
      "7 * 4 = 28\n",
      "7 * 5 = 35\n",
      "7 * 6 = 42\n",
      "7 * 7 = 49\n",
      "7 * 8 = 56\n",
      "7 * 9 = 63\n",
      "8 * 1 = 8\n",
      "8 * 2 = 16\n",
      "8 * 3 = 24\n",
      "8 * 4 = 32\n",
      "8 * 5 = 40\n",
      "8 * 6 = 48\n",
      "8 * 7 = 56\n",
      "8 * 8 = 64\n",
      "8 * 9 = 72\n",
      "9 * 1 = 9\n",
      "9 * 2 = 18\n",
      "9 * 3 = 27\n",
      "9 * 4 = 36\n",
      "9 * 5 = 45\n",
      "9 * 6 = 54\n",
      "9 * 7 = 63\n",
      "9 * 8 = 72\n",
      "9 * 9 = 81\n"
     ]
    }
   ],
   "source": [
    "a = range(2,10)\n",
    "b = range(1,10)\n",
    "\n",
    "for i in a:\n",
    "    for x in b:\n",
    "        print(i, \"*\", x , '=', i*x)"
   ]
  },
  {
   "cell_type": "code",
   "execution_count": 206,
   "metadata": {
    "scrolled": true
   },
   "outputs": [
    {
     "name": "stdout",
     "output_type": "stream",
     "text": [
      "2*1 = 2\n",
      "2*2 = 4\n",
      "2*3 = 6\n",
      "2*4 = 8\n",
      "2*5 = 10\n",
      "2*6 = 12\n",
      "2*7 = 14\n",
      "2*8 = 16\n",
      "2*9 = 18\n",
      "3*1 = 3\n",
      "3*2 = 6\n",
      "3*3 = 9\n",
      "3*4 = 12\n",
      "3*5 = 15\n",
      "3*6 = 18\n",
      "3*7 = 21\n",
      "3*8 = 24\n",
      "3*9 = 27\n",
      "4*1 = 4\n",
      "4*2 = 8\n",
      "4*3 = 12\n",
      "4*4 = 16\n",
      "4*5 = 20\n",
      "4*6 = 24\n",
      "4*7 = 28\n",
      "4*8 = 32\n",
      "4*9 = 36\n",
      "5*1 = 5\n",
      "5*2 = 10\n",
      "5*3 = 15\n",
      "5*4 = 20\n",
      "5*5 = 25\n",
      "5*6 = 30\n",
      "5*7 = 35\n",
      "5*8 = 40\n",
      "5*9 = 45\n",
      "6*1 = 6\n",
      "6*2 = 12\n",
      "6*3 = 18\n",
      "6*4 = 24\n",
      "6*5 = 30\n",
      "6*6 = 36\n",
      "6*7 = 42\n",
      "6*8 = 48\n",
      "6*9 = 54\n",
      "7*1 = 7\n",
      "7*2 = 14\n",
      "7*3 = 21\n",
      "7*4 = 28\n",
      "7*5 = 35\n",
      "7*6 = 42\n",
      "7*7 = 49\n",
      "7*8 = 56\n",
      "7*9 = 63\n",
      "8*1 = 8\n",
      "8*2 = 16\n",
      "8*3 = 24\n",
      "8*4 = 32\n",
      "8*5 = 40\n",
      "8*6 = 48\n",
      "8*7 = 56\n",
      "8*8 = 64\n",
      "8*9 = 72\n",
      "9*1 = 9\n",
      "9*2 = 18\n",
      "9*3 = 27\n",
      "9*4 = 36\n",
      "9*5 = 45\n",
      "9*6 = 54\n",
      "9*7 = 63\n",
      "9*8 = 72\n",
      "9*9 = 81\n",
      "\n"
     ]
    }
   ],
   "source": [
    "for i in range(2,10):\n",
    "    for j in range(1,10):\n",
    "        print(\"%d*%d =\"%(i,j),i*j)\n",
    "print('')"
   ]
  },
  {
   "cell_type": "code",
   "execution_count": null,
   "metadata": {},
   "outputs": [],
   "source": []
  },
  {
   "cell_type": "markdown",
   "metadata": {},
   "source": [
    "# 연습문제 4\n",
    "1-100 까지 숫자중\n",
    "3과 5의 공배수일경우 “3과 5의 공배수”\n",
    "나머지 숫자중 3의배수일경우 “3의배수”\n",
    "나머지 숫자중 5의배수일경우 “5의배수”\n",
    "모두 해당되지 않을경우 그냥숫자\n",
    "를 출력하세요"
   ]
  },
  {
   "cell_type": "code",
   "execution_count": 45,
   "metadata": {
    "scrolled": true
   },
   "outputs": [
    {
     "name": "stdout",
     "output_type": "stream",
     "text": [
      "그냥숫자\n",
      "그냥숫자\n",
      "3의배수\n",
      "그냥숫자\n",
      "5의배수\n",
      "3의배수\n",
      "그냥숫자\n",
      "그냥숫자\n",
      "3의배수\n",
      "5의배수\n",
      "그냥숫자\n",
      "3의배수\n",
      "그냥숫자\n",
      "그냥숫자\n",
      "3과 5의 공배수\n",
      "그냥숫자\n",
      "그냥숫자\n",
      "3의배수\n",
      "그냥숫자\n",
      "5의배수\n",
      "3의배수\n",
      "그냥숫자\n",
      "그냥숫자\n",
      "3의배수\n",
      "5의배수\n",
      "그냥숫자\n",
      "3의배수\n",
      "그냥숫자\n",
      "그냥숫자\n",
      "3과 5의 공배수\n",
      "그냥숫자\n",
      "그냥숫자\n",
      "3의배수\n",
      "그냥숫자\n",
      "5의배수\n",
      "3의배수\n",
      "그냥숫자\n",
      "그냥숫자\n",
      "3의배수\n",
      "5의배수\n",
      "그냥숫자\n",
      "3의배수\n",
      "그냥숫자\n",
      "그냥숫자\n",
      "3과 5의 공배수\n",
      "그냥숫자\n",
      "그냥숫자\n",
      "3의배수\n",
      "그냥숫자\n",
      "5의배수\n",
      "3의배수\n",
      "그냥숫자\n",
      "그냥숫자\n",
      "3의배수\n",
      "5의배수\n",
      "그냥숫자\n",
      "3의배수\n",
      "그냥숫자\n",
      "그냥숫자\n",
      "3과 5의 공배수\n",
      "그냥숫자\n",
      "그냥숫자\n",
      "3의배수\n",
      "그냥숫자\n",
      "5의배수\n",
      "3의배수\n",
      "그냥숫자\n",
      "그냥숫자\n",
      "3의배수\n",
      "5의배수\n",
      "그냥숫자\n",
      "3의배수\n",
      "그냥숫자\n",
      "그냥숫자\n",
      "3과 5의 공배수\n",
      "그냥숫자\n",
      "그냥숫자\n",
      "3의배수\n",
      "그냥숫자\n",
      "5의배수\n",
      "3의배수\n",
      "그냥숫자\n",
      "그냥숫자\n",
      "3의배수\n",
      "5의배수\n",
      "그냥숫자\n",
      "3의배수\n",
      "그냥숫자\n",
      "그냥숫자\n",
      "3과 5의 공배수\n",
      "그냥숫자\n",
      "그냥숫자\n",
      "3의배수\n",
      "그냥숫자\n",
      "5의배수\n",
      "3의배수\n",
      "그냥숫자\n",
      "그냥숫자\n",
      "3의배수\n",
      "그냥숫자\n"
     ]
    }
   ],
   "source": [
    "for a in range(1,101):\n",
    "    if a in set(range(15,100,15)):\n",
    "        print(\"3과 5의 공배수\")\n",
    "    elif a in (range(3,100,3)):\n",
    "        print(\"3의배수\")\n",
    "    elif a in (range(5,100,5)):\n",
    "        print(\"5의배수\")\n",
    "    else:\n",
    "        print(\"그냥숫자\")"
   ]
  },
  {
   "cell_type": "code",
   "execution_count": 47,
   "metadata": {
    "scrolled": true
   },
   "outputs": [
    {
     "name": "stdout",
     "output_type": "stream",
     "text": [
      "1\n",
      "2\n",
      "3의 배수\n",
      "4\n",
      "5의 배수\n",
      "3의 배수\n",
      "7\n",
      "8\n",
      "3의 배수\n",
      "5의 배수\n",
      "11\n",
      "3의 배수\n",
      "13\n",
      "14\n",
      "3과 5의 공배수\n",
      "16\n",
      "17\n",
      "3의 배수\n",
      "19\n",
      "5의 배수\n",
      "3의 배수\n",
      "22\n",
      "23\n",
      "3의 배수\n",
      "5의 배수\n",
      "26\n",
      "3의 배수\n",
      "28\n",
      "29\n",
      "3과 5의 공배수\n",
      "31\n",
      "32\n",
      "3의 배수\n",
      "34\n",
      "5의 배수\n",
      "3의 배수\n",
      "37\n",
      "38\n",
      "3의 배수\n",
      "5의 배수\n",
      "41\n",
      "3의 배수\n",
      "43\n",
      "44\n",
      "3과 5의 공배수\n",
      "46\n",
      "47\n",
      "3의 배수\n",
      "49\n",
      "5의 배수\n",
      "3의 배수\n",
      "52\n",
      "53\n",
      "3의 배수\n",
      "5의 배수\n",
      "56\n",
      "3의 배수\n",
      "58\n",
      "59\n",
      "3과 5의 공배수\n",
      "61\n",
      "62\n",
      "3의 배수\n",
      "64\n",
      "5의 배수\n",
      "3의 배수\n",
      "67\n",
      "68\n",
      "3의 배수\n",
      "5의 배수\n",
      "71\n",
      "3의 배수\n",
      "73\n",
      "74\n",
      "3과 5의 공배수\n",
      "76\n",
      "77\n",
      "3의 배수\n",
      "79\n",
      "5의 배수\n",
      "3의 배수\n",
      "82\n",
      "83\n",
      "3의 배수\n",
      "5의 배수\n",
      "86\n",
      "3의 배수\n",
      "88\n",
      "89\n",
      "3과 5의 공배수\n",
      "91\n",
      "92\n",
      "3의 배수\n",
      "94\n",
      "5의 배수\n",
      "3의 배수\n",
      "97\n",
      "98\n",
      "3의 배수\n",
      "5의 배수\n"
     ]
    }
   ],
   "source": [
    "# 모범답안\n",
    "for a in range(1,101):\n",
    "    if a%3==0 and a%5==0:\n",
    "        print(\"3과 5의 공배수\")\n",
    "    elif a%3==0:\n",
    "        print(\"3의 배수\")\n",
    "    elif a%5==0:\n",
    "        print(\"5의 배수\")\n",
    "    else:\n",
    "        print(a)"
   ]
  },
  {
   "cell_type": "code",
   "execution_count": 48,
   "metadata": {},
   "outputs": [
    {
     "name": "stdout",
     "output_type": "stream",
     "text": [
      "정수를 입력하세요: 15\n",
      "1\n",
      "2\n",
      "3의 배수\n",
      "4\n",
      "5의 배수\n",
      "3의 배수\n",
      "7\n",
      "8\n",
      "3의 배수\n",
      "5의 배수\n",
      "11\n",
      "3의 배수\n",
      "13\n",
      "14\n",
      "3과 5의 공배수\n"
     ]
    }
   ],
   "source": [
    "num = int(input('정수를 입력하세요: '))\n",
    "for a in range(1, num+1):\n",
    "    if a%3==0 and a%5==0:\n",
    "        print(\"3과 5의 공배수\")\n",
    "    elif a%3==0:\n",
    "        print(\"3의 배수\")\n",
    "    elif a%5==0:\n",
    "        print(\"5의 배수\")\n",
    "    else:\n",
    "        print(a)"
   ]
  },
  {
   "cell_type": "markdown",
   "metadata": {},
   "source": [
    "# for문 list, tuple, set\n",
    "# for문 dictionary"
   ]
  },
  {
   "cell_type": "code",
   "execution_count": 100,
   "metadata": {},
   "outputs": [
    {
     "name": "stdout",
     "output_type": "stream",
     "text": [
      "a\n",
      "b\n",
      "c\n",
      "d\n"
     ]
    }
   ],
   "source": [
    "list1 = ['a', 'b', 'c', 'd']\n",
    "for i in list1:\n",
    "    print(i)"
   ]
  },
  {
   "cell_type": "code",
   "execution_count": 130,
   "metadata": {},
   "outputs": [
    {
     "name": "stdout",
     "output_type": "stream",
     "text": [
      "younsoo.ys\n",
      "175.ys\n",
      "seoul.ys\n"
     ]
    }
   ],
   "source": [
    "# 예시 \n",
    "\n",
    "a = {'name':'younsoo', 'height': '175', 'address': 'seoul'}\n",
    "for x in a:\n",
    "    # print(x) : x = 'name', x = 'height', x = 'address' 값이 뜬다.\n",
    "    # print(a[x]) younsoo, 175, seoul\n",
    "    \n",
    "    # 이 뒤에 .ys를 붙이고 싶다. \n",
    "    \n",
    "    print(a[x]+ '.ys')"
   ]
  },
  {
   "cell_type": "markdown",
   "metadata": {},
   "source": [
    "#### 이해를 위한 연습"
   ]
  },
  {
   "cell_type": "code",
   "execution_count": 104,
   "metadata": {
    "collapsed": true
   },
   "outputs": [
    {
     "name": "stdout",
     "output_type": "stream",
     "text": [
      "[10, 3, 5, 6, 10]\n",
      "[10, 30, 5, 6, 10]\n",
      "[10, 30, 50, 6, 10]\n",
      "[10, 30, 50, 60, 10]\n",
      "[10, 30, 50, 60, 100]\n"
     ]
    }
   ],
   "source": [
    "a = [1, 3, 5, 6, 10]\n",
    "for i in range(len(a)):\n",
    "    a[i] *= 10\n",
    "    print(a)"
   ]
  },
  {
   "cell_type": "code",
   "execution_count": 106,
   "metadata": {
    "collapsed": true
   },
   "outputs": [
    {
     "name": "stdout",
     "output_type": "stream",
     "text": [
      "(0, 3)\n",
      "(1, 5)\n",
      "(2, 7)\n"
     ]
    }
   ],
   "source": [
    "a = [3, 5, 7]\n",
    "for i in enumerate(a):\n",
    "    print(i)\n",
    "    i[0]"
   ]
  },
  {
   "cell_type": "code",
   "execution_count": 113,
   "metadata": {},
   "outputs": [
    {
     "name": "stdout",
     "output_type": "stream",
     "text": [
      "0 3\n",
      "(0, 3)\n",
      "1 5\n",
      "(0, 3)\n",
      "2 7\n",
      "(0, 3)\n"
     ]
    }
   ],
   "source": [
    "a = [3, 5, 7]\n",
    "for idx, val in enumerate(a):\n",
    "    print(idx, val)"
   ]
  },
  {
   "cell_type": "markdown",
   "metadata": {},
   "source": [
    "# While문 "
   ]
  },
  {
   "cell_type": "code",
   "execution_count": 2,
   "metadata": {},
   "outputs": [
    {
     "name": "stdout",
     "output_type": "stream",
     "text": [
      "0\n",
      "1\n",
      "2\n",
      "3\n",
      "4\n",
      "5\n",
      "6\n",
      "7\n",
      "8\n",
      "9\n"
     ]
    }
   ],
   "source": [
    "i = 0\n",
    "\n",
    "while i < 10:\n",
    "    print(i)\n",
    "    i += 1\n",
    "    # i값이 10이 되는 순간 종료된다."
   ]
  },
  {
   "cell_type": "code",
   "execution_count": null,
   "metadata": {},
   "outputs": [],
   "source": [
    "i = 0\n",
    "while i != 5:\n",
    "    i = int(input('5를 입력하면 반복이 중단됩니다.'))\n",
    "    print(i, '를 입력하셨습니다.')\n",
    "    \n",
    "print('중단')"
   ]
  },
  {
   "cell_type": "markdown",
   "metadata": {},
   "source": [
    "## 연습문제 5\n",
    "사용자로부터 숫자를 계속 입력받다가\n",
    "s or S 를 입력하면 합계출력"
   ]
  },
  {
   "cell_type": "code",
   "execution_count": 16,
   "metadata": {},
   "outputs": [
    {
     "name": "stdout",
     "output_type": "stream",
     "text": [
      "합계는? s\n"
     ]
    }
   ],
   "source": [
    "while i != 's' and i != 'S':\n",
    "    i = input(\"값을 입력해 주세요: \")\n",
    "    print(i)\n",
    "    \n",
    "print(\"합계는?\", i)"
   ]
  },
  {
   "cell_type": "code",
   "execution_count": 22,
   "metadata": {
    "scrolled": true
   },
   "outputs": [
    {
     "name": "stdout",
     "output_type": "stream",
     "text": [
      "숫자를 입력하세요: 5\n",
      "숫자를 입력하세요: 4\n",
      "숫자를 입력하세요: s\n",
      "9\n"
     ]
    }
   ],
   "source": [
    "# 코드 작성\n",
    "\n",
    "num = \"0\"\n",
    "total = 0\n",
    "\n",
    "# while num != 's' and num != 's':\n",
    "# while not(num=='S' or num=='s'):\n",
    "while num.upper()!= 'S':\n",
    "    total += int(num)\n",
    "    num = input(\"숫자를 입력하세요: \")\n",
    "    \n",
    "print(total)"
   ]
  },
  {
   "cell_type": "code",
   "execution_count": 6,
   "metadata": {},
   "outputs": [
    {
     "name": "stdout",
     "output_type": "stream",
     "text": [
      "숫자를 입력하세요: 5\n",
      "숫자를 입력하세요: 4\n",
      "숫자를 입력하세요: s\n",
      "9\n"
     ]
    }
   ],
   "source": [
    "# 코드 작성\n",
    "\n",
    "num = \"0\"\n",
    "total = 0\n",
    "\n",
    "while num != 's' and num != 'S':\n",
    "    total += int(num)\n",
    "    num = input(\"숫자를 입력하세요: \")\n",
    "    \n",
    "print(total)"
   ]
  },
  {
   "cell_type": "code",
   "execution_count": 24,
   "metadata": {},
   "outputs": [
    {
     "name": "stdout",
     "output_type": "stream",
     "text": [
      "0\n",
      "1\n",
      "2\n",
      "3\n",
      "4\n",
      "중단 되었습니다.\n"
     ]
    }
   ],
   "source": [
    "i = 0\n",
    "while i<5:\n",
    "    print(i)\n",
    "    i += 1\n",
    "else:\n",
    "    print(\"중단 되었습니다.\")\n",
    "# else 코드는 while문이 끝날때 반드시 작동되는 코드\n",
    "# 그러나, 굳이 else가 없어도 작동한다. "
   ]
  },
  {
   "cell_type": "code",
   "execution_count": 2,
   "metadata": {},
   "outputs": [
    {
     "name": "stdout",
     "output_type": "stream",
     "text": [
      "가위(1), 바위(2), 보(3)를 입력해주세요!: 2\n",
      "유저: 바위\n",
      "3\n",
      "게임종료\n"
     ]
    }
   ],
   "source": [
    "import random\n",
    "total = 0\n",
    "win = 0\n",
    "i = 0\n",
    "\n",
    "while i!=1 and i!=2 and i!=3:\n",
    "    win = i > \n",
    "    i = int(input(\"가위(1), 바위(2), 보(3)를 입력해주세요!: \"))\n",
    "    if i==1:\n",
    "        print('유저: 가위')\n",
    "        print(random.randint(1,3))\n",
    "    if i==2:\n",
    "        print('유저: 바위')\n",
    "        print(random.randint(1,3))\n",
    "    if i==3:\n",
    "        print('유저: 보')\n",
    "        print(random.randint(1,3))\n",
    "       \n",
    "print('게임종료')"
   ]
  },
  {
   "cell_type": "code",
   "execution_count": 2,
   "metadata": {
    "scrolled": true
   },
   "outputs": [
    {
     "name": "stdout",
     "output_type": "stream",
     "text": [
      "가위(1), 바위(2), 보(3)를 입력해주세요!: 1\n",
      "유저: 가위, 컴퓨터: 가위\n",
      "가위(1), 바위(2), 보(3)를 입력해주세요!: 1\n",
      "유저: 가위, 컴퓨터: 바위\n",
      "컴퓨터 승\n",
      "가위(1), 바위(2), 보(3)를 입력해주세요!: 1\n",
      "유저: 가위, 컴퓨터: 가위\n",
      "가위(1), 바위(2), 보(3)를 입력해주세요!: 1\n",
      "유저: 가위, 컴퓨터: 바위\n",
      "컴퓨터 승\n",
      "가위(1), 바위(2), 보(3)를 입력해주세요!: 1\n",
      "유저: 가위, 컴퓨터: 바위\n",
      "컴퓨터 승\n",
      "가위(1), 바위(2), 보(3)를 입력해주세요!: 1\n",
      "유저: 가위, 컴퓨터: 가위\n",
      "가위(1), 바위(2), 보(3)를 입력해주세요!: 2\n",
      "유저: 바위, 컴퓨터: 가위\n",
      "유저 승\n",
      "가위(1), 바위(2), 보(3)를 입력해주세요!: 3\n",
      "유저: 보, 컴퓨터: 바위\n",
      "유저 승\n",
      "가위(1), 바위(2), 보(3)를 입력해주세요!: 4\n",
      "--------------------\n",
      "게임종료 (전체: 8 승리: 2 패배: 3)\n"
     ]
    }
   ],
   "source": [
    "import random\n",
    "user = 0\n",
    "total = 0\n",
    "win = 0\n",
    "lose = 0\n",
    "word = ['가위', '바위', '보']\n",
    "\n",
    "user = int(input(\"가위(1), 바위(2), 보(3)를 입력해주세요!: \"))\n",
    "computer = random.randint(1, 3)\n",
    "\n",
    "while user in [1, 2, 3]:\n",
    "    print('유저: %s, 컴퓨터: %s' % (word[user - 1], word[computer - 1 ]))\n",
    "    \n",
    "    if(user==1 and computer==3):\n",
    "        win += 1\n",
    "        print('유저 승')\n",
    "    elif(user==2 and computer==1):\n",
    "        win += 1\n",
    "        print('유저 승')\n",
    "    elif(user==3 and computer==2):\n",
    "        win += 1\n",
    "        print('유저 승')\n",
    "    elif(user==1 and computer==2):\n",
    "        lose += 1\n",
    "        print('컴퓨터 승')\n",
    "    elif(user==2 and computer==3):\n",
    "        lose += 1\n",
    "        print('컴퓨터 승')\n",
    "    elif(user==3 and computer==1):\n",
    "        lose += 1\n",
    "        pirnt('컴퓨터 승')\n",
    "        \n",
    "    total += 1\n",
    "    user = int(input(\"가위(1), 바위(2), 보(3)를 입력해주세요!: \"))\n",
    "    computer = random.randint(1, 3)\n",
    "    # input을 두 번 받아야한다.\n",
    "    \n",
    "print('-'*20)\n",
    "print('게임종료 (전체: {} 승리: {} 패배: {})'.format(total, win, lose))"
   ]
  },
  {
   "cell_type": "markdown",
   "metadata": {},
   "source": [
    "# 연습문제 7\n",
    "randint함수를 사용하여 정수(1~1000)로 이루어진 길이가 100개인 리스트 a를 만들고 \n",
    "가장 큰 수를 구하는 코드를 작성하시오.\n",
    "\n",
    "예) a=[32, 45, 2, 5, 76] 일때, 출력결과는 76이 나와야 함."
   ]
  },
  {
   "cell_type": "code",
   "execution_count": 16,
   "metadata": {},
   "outputs": [
    {
     "name": "stdout",
     "output_type": "stream",
     "text": [
      "926\n",
      "[19, 446, 568, 747, 841, 926]\n"
     ]
    }
   ],
   "source": [
    "import random \n",
    "\n",
    "a = [random.randint(1,1001), random.randint(1,1001), random.randint(1,1001), random.randint(1,1001), random.randint(1,1001), random.randint(1,1001)]\n",
    "\n",
    "print(max(a))\n",
    "print(a)"
   ]
  },
  {
   "cell_type": "code",
   "execution_count": 21,
   "metadata": {},
   "outputs": [
    {
     "name": "stdout",
     "output_type": "stream",
     "text": [
      "[131, 607, 456, 733, 179, 25, 692, 321, 476, 175, 655, 136, 778, 103, 768, 220, 163, 978, 948, 454, 660, 863, 630, 861, 914, 863, 865, 618, 652, 468, 244, 504, 733, 69, 514, 289, 865, 85, 60, 507, 284, 510, 955, 627, 181, 433, 455, 25, 531, 830, 90, 807, 465, 55, 107, 454, 431, 440, 812, 234, 21, 261, 132, 55, 412, 174, 219, 90, 582, 961, 976, 226, 157, 522, 291, 558, 234, 806, 509, 992, 788, 757, 923, 646, 544, 240, 11, 483, 667, 706, 334, 440, 305, 495, 910, 351, 83, 118, 694, 367]\n",
      "최대값:  992\n"
     ]
    }
   ],
   "source": [
    "import random \n",
    "a = []\n",
    "\n",
    "# 코드 작성\n",
    "\n",
    "for i in range(100):\n",
    "    a.append(random.randint(1,1000))\n",
    "    \n",
    "print(a)\n",
    "\n",
    "max_a = a[0] # 맨 앞이 최대값이라고 가정\n",
    "for i in a: #for문으로 i와 a에 있는 값들을 하나하나 비교\n",
    "    if max_a<i:\n",
    "        max_a = i\n",
    "        \n",
    "print('최대값: ', max_a)"
   ]
  },
  {
   "cell_type": "markdown",
   "metadata": {},
   "source": [
    "# 연습문제 8\n",
    "randint함수를 사용하여 정수(1~1000)로 이루어진 길이가 100개인 리스트 a를 만들고 \n",
    "리스트의 모든 요소의 합계를 구하는 코드를 작성하시오.\n",
    "\n",
    "예) a=[32, 45, 2, 5, 76] 일때, 출력결과는 160이 나와야 함."
   ]
  },
  {
   "cell_type": "code",
   "execution_count": 26,
   "metadata": {},
   "outputs": [
    {
     "name": "stdout",
     "output_type": "stream",
     "text": [
      "45545\n"
     ]
    }
   ],
   "source": [
    "import random \n",
    "a = []\n",
    "sum_a = 0\n",
    "# 코드 작성\n",
    "\n",
    "for i in range(100):\n",
    "    a.append(random.randint(1,1000))\n",
    "    \n",
    "for i in a:\n",
    "    sum_a += i\n",
    "    \n",
    "print(sum_a)\n"
   ]
  },
  {
   "cell_type": "code",
   "execution_count": 24,
   "metadata": {},
   "outputs": [
    {
     "name": "stdout",
     "output_type": "stream",
     "text": [
      "51493\n"
     ]
    }
   ],
   "source": [
    "import random \n",
    "a = []\n",
    "\n",
    "# 코드 작성\n",
    "\n",
    "for i in range(100):\n",
    "    a.append(random.randint(1,1000))\n",
    "    \n",
    "print(sum(a))"
   ]
  },
  {
   "cell_type": "code",
   "execution_count": 27,
   "metadata": {},
   "outputs": [],
   "source": [
    "# 리스트를 사용해서 딕셔너리를 생성할때, range함수의 구체적인 숫자를 지정하는 것보다 len함수를 이용하는 것이 더 좋다."
   ]
  },
  {
   "cell_type": "code",
   "execution_count": 29,
   "metadata": {},
   "outputs": [
    {
     "name": "stdout",
     "output_type": "stream",
     "text": [
      "{'name': 'tom', 'age': 20, 'address': 'Seok-su'}\n"
     ]
    }
   ],
   "source": [
    "keys = ['name', 'age', 'address']\n",
    "users = ['tom', 20, 'Seok-su']\n",
    "\n",
    "user_dict = {key: users[idx] for idx, key in enumerate(keys)}\n",
    "print(user_dict)"
   ]
  },
  {
   "cell_type": "code",
   "execution_count": 30,
   "metadata": {},
   "outputs": [
    {
     "name": "stdout",
     "output_type": "stream",
     "text": [
      "[('name', 'tom'), ('age', 20), ('address', 'Seok-su')]\n"
     ]
    }
   ],
   "source": [
    "user_list = list(zip(keys, users))\n",
    "\n",
    "print(user_list)"
   ]
  },
  {
   "cell_type": "markdown",
   "metadata": {},
   "source": [
    "# 연습문제 9-1\n",
    "(1) word = [“school”, “game”, “piano”, “science”, “hotel”, “mountn”] 중 글자수가 6글자 이상인 문자를 모아 새로운 리스트를 생성하세요\n",
    "(리스트 컴프리핸션을 사용해주세요)"
   ]
  },
  {
   "cell_type": "code",
   "execution_count": 47,
   "metadata": {},
   "outputs": [
    {
     "name": "stdout",
     "output_type": "stream",
     "text": [
      "['school', 'science', 'mountain']\n"
     ]
    }
   ],
   "source": [
    "word = [\"school\", \"game\", \"piano\", \"science\", \"hotel\", \"mountain\"]\n",
    "\n",
    "a = [i for i in word if len(i)>=6]\n",
    "\n",
    "print(a)"
   ]
  },
  {
   "cell_type": "code",
   "execution_count": 44,
   "metadata": {},
   "outputs": [
    {
     "name": "stdout",
     "output_type": "stream",
     "text": [
      "['school', 'game', 'piano', 'science', 'hotel', 'mountain']\n",
      "['school', 'game', 'piano', 'science', 'hotel', 'mountain']\n"
     ]
    }
   ],
   "source": [
    "word = [\"school\", \"game\", \"piano\", \"science\", \"hotel\", \"mountain\"]\n",
    "\n",
    "a=[]\n",
    "for i in word:\n",
    "    if len(word) >= 6:\n",
    "        a.append(i)\n",
    "\n",
    "print(a)\n",
    "print(word)"
   ]
  },
  {
   "cell_type": "code",
   "execution_count": 45,
   "metadata": {},
   "outputs": [
    {
     "name": "stdout",
     "output_type": "stream",
     "text": [
      "['school', 'science', 'mountain']\n"
     ]
    }
   ],
   "source": [
    "# 해답\n",
    "word = [\"school\", \"game\", \"piano\", \"science\", \"hotel\", \"mountain\"]\n",
    "\n",
    "# 코드 작성\n",
    "new_word = [w for w in word if len(w) >=6]\n",
    "print(new_word)"
   ]
  },
  {
   "cell_type": "markdown",
   "metadata": {},
   "source": [
    "# 연습문제 9-2\n",
    "(2) word = [“school”, “game”, “piano”, “science”, “hotel”, “mountian”] 리스트의 글자수가 들어가있는 새로운 리스트를 생성하세요\n",
    "(리스트 컴프리핸션을 사용해주세요)"
   ]
  },
  {
   "cell_type": "code",
   "execution_count": 49,
   "metadata": {},
   "outputs": [
    {
     "name": "stdout",
     "output_type": "stream",
     "text": [
      "[6, 4, 5, 7, 5, 8]\n"
     ]
    }
   ],
   "source": [
    "word = [\"school\", \"game\", \"piano\", \"science\", \"hotel\", \"mountain\"]\n",
    "\n",
    "new_word = [len(w) for w in word]\n",
    "print(new_word)"
   ]
  },
  {
   "cell_type": "markdown",
   "metadata": {},
   "source": [
    "# 연습문제 9\n",
    "(1) 아래 두 리스트를 각 요소들을 곱해 새로운 리스트 C 를 만드세요\n",
    "a = [[10, 20], [30, 40], [50, 60]]\n",
    "b = [[2, 3], [4, 5], [6, 7]]"
   ]
  },
  {
   "cell_type": "code",
   "execution_count": 188,
   "metadata": {},
   "outputs": [
    {
     "name": "stdout",
     "output_type": "stream",
     "text": [
      "[[20, 60], [120, 200], [300, 420]]\n"
     ]
    }
   ],
   "source": [
    "a = [[10, 20], [30, 40], [50, 60]]\n",
    "b = [[2 ,3], [4, 5], [6, 7]]\n",
    "c = []\n",
    "\n",
    "for x in range(len(a)):\n",
    "    line=[]\n",
    "    for y in range(len(a[x])):\n",
    "        line.append(a[x][y]*b[x][y])\n",
    "    c.append(line)\n",
    "\n",
    "print(c)"
   ]
  },
  {
   "cell_type": "code",
   "execution_count": 167,
   "metadata": {},
   "outputs": [
    {
     "data": {
      "text/plain": [
       "[[20, 60], [120, 200], [300, 420]]"
      ]
     },
     "execution_count": 167,
     "metadata": {},
     "output_type": "execute_result"
    }
   ],
   "source": [
    "a = [[10, 20], [30, 40], [50, 60]]\n",
    "b = [[2 ,3], [4, 5], [6, 7]]\n",
    "c = []\n",
    "\n",
    "# for \n",
    "# 1. for 문을 통해서 큰 리스트 인덱스를 가져온다.\n",
    "for i in range(len(a)):\n",
    "\n",
    "    # 2. 각 인덱스를 통해서 a리스트와 b리스트의 작은 리스트의 값을 가져온다. \n",
    "    small_a = a[i]\n",
    "    s_a_0 = a[i][0]\n",
    "    s_a_1 = a[i][1]\n",
    "#    print(small_a)\n",
    "#    print(s_a_0)\n",
    "#    print(s_a_1)\n",
    "    \n",
    "    small_b = b[i]\n",
    "    s_b_0 = b[i][0]\n",
    "    s_b_1 = b[i][1]\n",
    "#    print(small_b)\n",
    "#   print(s_b_0)\n",
    "#    print(s_b_1)\n",
    "#    print('_'*10)\n",
    "    \n",
    "    # 3. a리스트와 b리스트의 값을 곱하여 [a[i] * b[i], a[i+1]*b[i+1]....를 추가하겠다.\n",
    "    c.append([s_a_0*s_b_0, s_a_1*s_b_1])\n",
    "c\n"
   ]
  },
  {
   "cell_type": "code",
   "execution_count": 174,
   "metadata": {},
   "outputs": [
    {
     "name": "stdout",
     "output_type": "stream",
     "text": [
      "[[20, 60], [120, 200], [300, 420]]\n"
     ]
    }
   ],
   "source": [
    "# 위에 값을 깔끔하게\n",
    "a = [[10, 20], [30, 40], [50, 60]]\n",
    "b = [[2 ,3], [4, 5], [6, 7]]\n",
    "c = []\n",
    "\n",
    "for i in range(len(a)):\n",
    "    small_a = a[i]\n",
    "    small_b = b[i]\n",
    "    c.append([a[i][0]*b[i][0], a[i][1]*b[i][1]])\n",
    "print(c)\n",
    "\n",
    "#그러나, 작은 차원 리스트의 요소가 늘어나면 재사용이 불가능하다."
   ]
  },
  {
   "cell_type": "code",
   "execution_count": 190,
   "metadata": {},
   "outputs": [
    {
     "name": "stdout",
     "output_type": "stream",
     "text": [
      "[[20, 60, 120], [120, 200, 300], [300, 420, 560]]\n"
     ]
    }
   ],
   "source": [
    "# 더 강화\n",
    "a = [[10, 20, 30], [30, 40, 50], [50, 60, 70]]\n",
    "b = [[2 ,3, 4], [4, 5, 6], [6, 7, 8]]\n",
    "c = []\n",
    "\n",
    "for i in range(len(a)):\n",
    "    d=[]\n",
    "    # d 가 여기에 들어가야만 매번 초기화가 될 수 있다. 만약에 d가 바깥쪽으로 빠져나와있다면 초기화가 되지 않기 때문에 계속해서 숫자가 커지게 된다.\n",
    "    # 작은 리스트의 인덱스를 for문으로 가져온다.\n",
    "    for j in range(len(a[i])):\n",
    "        d.append(a[i][j]*b[i][j])\n",
    "    c.append(d)\n",
    " #       print(a[i][j])\n",
    " #   print('_'*10)   \n",
    " #       c.append([a[i][j]*b[i][j],])\n",
    "print(c)"
   ]
  },
  {
   "cell_type": "code",
   "execution_count": 203,
   "metadata": {},
   "outputs": [
    {
     "name": "stdout",
     "output_type": "stream",
     "text": [
      "[[20, 60], [120, 200], [300, 420]]\n"
     ]
    }
   ],
   "source": [
    "# 이렇게 풀고싶다....\n",
    "a = [[10, 20], [30, 40], [50, 60]]\n",
    "b = [[2 ,3], [4, 5], [6, 7]]\n",
    "c = [ [a[i][j]*b[i][j] for j in range(len(a[i]))] for i in range(len(a)) ]\n",
    "\n",
    "print(c)"
   ]
  },
  {
   "cell_type": "markdown",
   "metadata": {},
   "source": [
    "# 연습문제 10\n",
    "(1) 아래의 학습코드를 가지고 a 리스트가 [[1,2],[3,4],[5,6]] 와 같이 만들어지도록 수정하세요"
   ]
  },
  {
   "cell_type": "code",
   "execution_count": 106,
   "metadata": {},
   "outputs": [
    {
     "name": "stdout",
     "output_type": "stream",
     "text": [
      "[[1, 2], [3, 4], [5, 6]]\n"
     ]
    }
   ],
   "source": [
    "a = []\n",
    "for i in list(range(1,6,2)):\n",
    "    a.append([i, i+1])\n",
    "\n",
    "print(a)"
   ]
  },
  {
   "cell_type": "markdown",
   "metadata": {},
   "source": [
    "# break, continue"
   ]
  },
  {
   "cell_type": "code",
   "execution_count": 204,
   "metadata": {},
   "outputs": [
    {
     "name": "stdout",
     "output_type": "stream",
     "text": [
      "0\n",
      "1\n",
      "2\n",
      "3\n"
     ]
    }
   ],
   "source": [
    "for i in range(5):\n",
    "    print(i)\n",
    "    \n",
    "    if i == 3:\n",
    "        break"
   ]
  },
  {
   "cell_type": "code",
   "execution_count": 206,
   "metadata": {},
   "outputs": [
    {
     "name": "stdout",
     "output_type": "stream",
     "text": [
      "0\n",
      "1\n",
      "2\n"
     ]
    }
   ],
   "source": [
    "for i in range(5):\n",
    "\n",
    "    if i == 3:\n",
    "        break\n",
    "    print(i)"
   ]
  },
  {
   "cell_type": "markdown",
   "metadata": {},
   "source": [
    "# continue"
   ]
  },
  {
   "cell_type": "code",
   "execution_count": 207,
   "metadata": {},
   "outputs": [
    {
     "name": "stdout",
     "output_type": "stream",
     "text": [
      "0\n",
      "1\n",
      "2\n",
      "4\n"
     ]
    }
   ],
   "source": [
    "for i in range(5):\n",
    "    if i == 3:\n",
    "        continue\n",
    "        \n",
    "    print(i)"
   ]
  },
  {
   "cell_type": "markdown",
   "metadata": {},
   "source": [
    "# 연습문제 11-1\n",
    "(1) while 문과 break 문을 사용하여 사용자가 입력한 숫자만큼 반복하여 'hi' 출력하기"
   ]
  },
  {
   "cell_type": "code",
   "execution_count": 21,
   "metadata": {},
   "outputs": [
    {
     "name": "stdout",
     "output_type": "stream",
     "text": [
      "숫자를 입력하세요: 5\n"
     ]
    }
   ],
   "source": [
    "#??????????\n",
    "i = 0\n",
    "a = int(input(\"숫자를 입력하세요: \"))\n",
    "\n",
    "while i:\n",
    "    print(\"Hi\")\n",
    "    if a:\n",
    "        break\n",
    "    "
   ]
  },
  {
   "cell_type": "code",
   "execution_count": 22,
   "metadata": {},
   "outputs": [
    {
     "name": "stdout",
     "output_type": "stream",
     "text": [
      "안녕안녕안녕...: 5\n",
      "hi\n",
      "hi\n",
      "hi\n",
      "hi\n",
      "hi\n"
     ]
    }
   ],
   "source": [
    "num = int(input(\"안녕안녕안녕...: \"))\n",
    "count = 0\n",
    "\n",
    "while True:\n",
    "    if num == count:\n",
    "        break\n",
    "    print(\"hi\")\n",
    "    count += 1"
   ]
  },
  {
   "cell_type": "markdown",
   "metadata": {},
   "source": [
    "# 연습문제 11-2\n",
    "(2) for 문과 continue 문을 사용하여 사용자가 입력한 숫자까지의 짝수를 출력하기"
   ]
  },
  {
   "cell_type": "code",
   "execution_count": 24,
   "metadata": {},
   "outputs": [
    {
     "name": "stdout",
     "output_type": "stream",
     "text": [
      "입력한 숫자 이하의 짝수를 출력합니다: 5\n",
      "0\n",
      "2\n",
      "4\n"
     ]
    }
   ],
   "source": [
    "num = int(input(\"입력한 숫자 이하의 짝수를 출력합니다: \"))\n",
    "\n",
    "for i in range(num+1):\n",
    "    if i%2 == 1:\n",
    "        continue\n",
    "    print(i)"
   ]
  },
  {
   "cell_type": "code",
   "execution_count": null,
   "metadata": {},
   "outputs": [],
   "source": []
  }
 ],
 "metadata": {
  "kernelspec": {
   "display_name": "Python 3",
   "language": "python",
   "name": "python3"
  },
  "language_info": {
   "codemirror_mode": {
    "name": "ipython",
    "version": 3
   },
   "file_extension": ".py",
   "mimetype": "text/x-python",
   "name": "python",
   "nbconvert_exporter": "python",
   "pygments_lexer": "ipython3",
   "version": "3.7.3"
  }
 },
 "nbformat": 4,
 "nbformat_minor": 2
}
