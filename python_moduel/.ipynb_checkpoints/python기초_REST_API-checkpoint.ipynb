{
 "cells": [
  {
   "cell_type": "markdown",
   "metadata": {},
   "source": [
    "# REST API 데이터 수집"
   ]
  },
  {
   "cell_type": "code",
   "execution_count": 1,
   "metadata": {},
   "outputs": [],
   "source": [
    "import requests # 요청 모듈\n",
    "from bs4 import BeautifulSoup # 예쁘게 만들기 위한 모듈\n",
    "import urllib # url을 위한 모듈 "
   ]
  },
  {
   "cell_type": "code",
   "execution_count": 2,
   "metadata": {},
   "outputs": [
    {
     "data": {
      "text/plain": [
       "'aZKb3nJSN4+e4wBW+VZHZ+ySzpYPWVtGhaUuA3egvIbW6QxqvMAujOkyzUtWD4fH129789KpCPhbdjYlXkFeYg=='"
      ]
     },
     "execution_count": 2,
     "metadata": {},
     "output_type": "execute_result"
    }
   ],
   "source": [
    "# 대문자는 바꾸지 말자라는 것을 의미한다.\n",
    "BASE_ENDPOINT = 'http://openapi.airkorea.or.kr/openapi/services/rest/ArpltnInforInqireSvc/'\n",
    "MY_API_KEY = 'aZKb3nJSN4%2Be4wBW%2BVZHZ%2BySzpYPWVtGhaUuA3egvIbW6QxqvMAujOkyzUtWD4fH129789KpCPhbdjYlXkFeYg%3D%3D'\n",
    "# 설명 문서를 확인해보면, 나의 KEY가 이미 encode가 되어있기 때문에, 이후 URL을 합칠때 \n",
    "# encoding이 두 번 일어나게 됩니다.\n",
    "\n",
    "MY_API_KEY = urllib.parse.unquote(MY_API_KEY) # 따라서 unquote로 초기화 시켜줍니다. \n",
    "MY_API_KEY"
   ]
  },
  {
   "cell_type": "markdown",
   "metadata": {},
   "source": [
    "# 1. 측정소별 실시간 측정정보 조회"
   ]
  },
  {
   "cell_type": "code",
   "execution_count": null,
   "metadata": {},
   "outputs": [],
   "source": [
    "OPERATION_NAME = 'getMsrstnAcctoRltmMesureDnsty'"
   ]
  },
  {
   "cell_type": "code",
   "execution_count": null,
   "metadata": {},
   "outputs": [],
   "source": [
    "endpoint = urllib.parse.urljoin(BASE_ENDPOINT, OPERATION_NAME)\n",
    "endpoint"
   ]
  },
  {
   "cell_type": "code",
   "execution_count": null,
   "metadata": {},
   "outputs": [],
   "source": [
    "# parameter 지정\n",
    "# 문서의 '요청메세지' 에 있는 것들을 copy n paste\n",
    "params = {\n",
    "    'ServiceKey': MY_API_KEY, # 서비스키\n",
    "    'numOfRows': 10, # 한 페이지 결과 수\n",
    "    'pageNo':1, # 페이지 번호\n",
    "    'stationName':'강남구', # 측정소 명\n",
    "    'dataTerm': 'daily', # 데이터기간\n",
    "    'ver': '1.3' # 오퍼레이션 버전 \n",
    "}"
   ]
  },
  {
   "cell_type": "code",
   "execution_count": null,
   "metadata": {},
   "outputs": [],
   "source": [
    "resp = requests.get(endpoint, params)\n",
    "# 보낼 때 다시 한번 인코딩을 하게 된다. \n",
    "resp"
   ]
  },
  {
   "cell_type": "code",
   "execution_count": null,
   "metadata": {},
   "outputs": [],
   "source": [
    "resp.content\n",
    "# 따라서 에러가 발생한다."
   ]
  },
  {
   "cell_type": "code",
   "execution_count": null,
   "metadata": {},
   "outputs": [],
   "source": [
    "resp.request.url\n",
    "# %3D 가 %253D 로 바뀐 것을 확인 할 수 있다.\n",
    "# 위에서 오류를 수정하고 다시 돌립니다. "
   ]
  },
  {
   "cell_type": "code",
   "execution_count": null,
   "metadata": {},
   "outputs": [],
   "source": []
  },
  {
   "cell_type": "code",
   "execution_count": null,
   "metadata": {},
   "outputs": [],
   "source": [
    "soup = BeautifulSoup(resp.content)"
   ]
  },
  {
   "cell_type": "code",
   "execution_count": null,
   "metadata": {},
   "outputs": [],
   "source": [
    "soup"
   ]
  },
  {
   "cell_type": "code",
   "execution_count": null,
   "metadata": {},
   "outputs": [],
   "source": []
  },
  {
   "cell_type": "markdown",
   "metadata": {},
   "source": [
    "# Json으로\n",
    "(&_returnType=json)"
   ]
  },
  {
   "cell_type": "code",
   "execution_count": null,
   "metadata": {},
   "outputs": [],
   "source": [
    "params = {\n",
    "    'ServiceKey': MY_API_KEY, # 서비스키\n",
    "    'numOfRows': 10, # 한 페이지 결과 수\n",
    "    'pageNo':1, # 페이지 번호\n",
    "    'stationName':'강남구', # 측정소 명\n",
    "    'dataTerm': 'daily', # 데이터기간\n",
    "    'ver': '1.3', # 오퍼레이션 버전 \n",
    "    '_returnType': 'json'\n",
    "}"
   ]
  },
  {
   "cell_type": "code",
   "execution_count": null,
   "metadata": {},
   "outputs": [],
   "source": [
    "resp = requests.get(endpoint, params)\n",
    "resp"
   ]
  },
  {
   "cell_type": "code",
   "execution_count": null,
   "metadata": {},
   "outputs": [],
   "source": [
    "# resp.content"
   ]
  },
  {
   "cell_type": "code",
   "execution_count": null,
   "metadata": {},
   "outputs": [],
   "source": [
    "resp.json()"
   ]
  },
  {
   "cell_type": "code",
   "execution_count": null,
   "metadata": {},
   "outputs": [],
   "source": []
  },
  {
   "cell_type": "code",
   "execution_count": null,
   "metadata": {},
   "outputs": [],
   "source": []
  },
  {
   "cell_type": "markdown",
   "metadata": {},
   "source": [
    "# 공공데이터 실습 "
   ]
  },
  {
   "cell_type": "markdown",
   "metadata": {},
   "source": [
    "# XML"
   ]
  },
  {
   "cell_type": "code",
   "execution_count": null,
   "metadata": {},
   "outputs": [],
   "source": [
    "BASE_ENDPOINT = 'http://openapi.airkorea.or.kr/openapi/services/rest/ArpltnInforInqireSvc/'\n",
    "\n",
    "MY_API_KEY = 'aZKb3nJSN4%2Be4wBW%2BVZHZ%2BySzpYPWVtGhaUuA3egvIbW6QxqvMAujOkyzUtWD4fH129789KpCPhbdjYlXkFeYg%3D%3D'\n",
    "# 이미 encode가 되어있기 때문에, encoding이 두 번 일어나게된다. \n",
    "# 대문자는 바꾸지 말자라는 것을 의미한다.\n",
    "\n",
    "MY_API_KEY = urllib.parse.unquote(MY_API_KEY) # 따라서 unquote로 초기화 시켜줍니다. \n",
    "MY_API_KEY"
   ]
  },
  {
   "cell_type": "code",
   "execution_count": null,
   "metadata": {},
   "outputs": [],
   "source": [
    "OPERATION2_NAME = 'getUnityAirEnvrnIdexSnstiveAboveMsrstnList'"
   ]
  },
  {
   "cell_type": "code",
   "execution_count": null,
   "metadata": {},
   "outputs": [],
   "source": [
    "endpoint = urllib.parse.urljoin(BASE_ENDPOINT, OPERATION2_NAME)\n",
    "endpoint"
   ]
  },
  {
   "cell_type": "code",
   "execution_count": null,
   "metadata": {},
   "outputs": [],
   "source": [
    "params = {\n",
    "    'ServiceKey': MY_API_KEY, # 서비스키\n",
    "    'numOfRows': 10, # 한 페이지 결과 수\n",
    "    'pageNo':1, # 페이지 번호\n",
    "}"
   ]
  },
  {
   "cell_type": "code",
   "execution_count": null,
   "metadata": {},
   "outputs": [],
   "source": [
    "resp = requests.get(endpoint, params)\n",
    "resp"
   ]
  },
  {
   "cell_type": "code",
   "execution_count": null,
   "metadata": {},
   "outputs": [],
   "source": [
    "soup = BeautifulSoup(resp.content)\n",
    "soup"
   ]
  },
  {
   "cell_type": "markdown",
   "metadata": {},
   "source": [
    "# Json"
   ]
  },
  {
   "cell_type": "code",
   "execution_count": null,
   "metadata": {},
   "outputs": [],
   "source": [
    "params = {\n",
    "    'ServiceKey': MY_API_KEY, # 서비스키\n",
    "    'numOfRows': 10, # 한 페이지 결과 수\n",
    "    'pageNo':1, # 페이지 번호\n",
    "    '_returnType': 'json'\n",
    "}"
   ]
  },
  {
   "cell_type": "code",
   "execution_count": null,
   "metadata": {},
   "outputs": [],
   "source": [
    "resp = requests.get(endpoint, params)\n",
    "resp"
   ]
  },
  {
   "cell_type": "code",
   "execution_count": null,
   "metadata": {
    "scrolled": true
   },
   "outputs": [],
   "source": [
    "resp.json()"
   ]
  },
  {
   "cell_type": "markdown",
   "metadata": {},
   "source": [
    "## Function 만들기"
   ]
  },
  {
   "cell_type": "code",
   "execution_count": null,
   "metadata": {},
   "outputs": [],
   "source": [
    "BASE_ENDPOINT = 'http://openapi.airkorea.or.kr/openapi/services/rest/ArpltnInforInqireSvc/'\n",
    "def get_measure(ServiceKey, numOfRows, pageNo, stationName, dataTerm, ver, _returnType):\n",
    "    OPERATION_NAME = 'getMsrstnAcctoRltmMesureDnsty'\n",
    "    endpoint = urllib.parse.urljoin(BASE_ENDPOINT, OPERATION_NAME)\n",
    "    \n",
    "    params = {\n",
    "        'ServiceKey': ServiceKey,\n",
    "        'numOfRows': numOfRows,\n",
    "        'pageNo': pageNo,\n",
    "        'stationName': stationName,\n",
    "        'dataTerm': dataTerm,\n",
    "        'ver': ver,\n",
    "        '_returnType': _returnType\n",
    "    }\n",
    "    \n",
    "    resp = requests.get(endpoint, params)\n",
    "    \n",
    "    if resp.status_code == 200:\n",
    "        return resp.content\n",
    "    \n",
    "    return False\n",
    "    "
   ]
  },
  {
   "cell_type": "code",
   "execution_count": null,
   "metadata": {},
   "outputs": [],
   "source": [
    "measure_list = get_measure(MY_API_KEY, 10, 1, '강남구', 'month', '1.0', 'json')"
   ]
  },
  {
   "cell_type": "code",
   "execution_count": null,
   "metadata": {},
   "outputs": [],
   "source": [
    "import json"
   ]
  },
  {
   "cell_type": "code",
   "execution_count": null,
   "metadata": {},
   "outputs": [],
   "source": [
    "json_list = json.loads(measure_list)\n",
    "json_list"
   ]
  },
  {
   "cell_type": "code",
   "execution_count": null,
   "metadata": {},
   "outputs": [],
   "source": [
    "temp_dict = {\n",
    "    'name': 'jungho',\n",
    "    'location': 'Anyang',\n",
    "    'friends': ['철수', '영희']\n",
    "}"
   ]
  },
  {
   "cell_type": "code",
   "execution_count": null,
   "metadata": {},
   "outputs": [],
   "source": [
    "file = json.dumps(temp_dict)\n",
    "file\n",
    "# json.dumps >> json 파일로 만들어 준다."
   ]
  },
  {
   "cell_type": "markdown",
   "metadata": {},
   "source": [
    "# 실습"
   ]
  },
  {
   "cell_type": "code",
   "execution_count": null,
   "metadata": {},
   "outputs": [],
   "source": [
    "BASE_ENDPOINT = 'http://apis.data.go.kr/B552061/frequentzoneTmzon/'\n",
    "\n",
    "MY_API_KEY = 'aZKb3nJSN4%2Be4wBW%2BVZHZ%2BySzpYPWVtGhaUuA3egvIbW6QxqvMAujOkyzUtWD4fH129789KpCPhbdjYlXkFeYg%3D%3D'\n",
    "# 이미 encode가 되어있기 때문에, encoding이 두 번 일어나게된다. \n",
    "# 대문자는 바꾸지 말자라는 것을 의미한다.\n",
    "\n",
    "MY_API_KEY = urllib.parse.unquote(MY_API_KEY) # 따라서 unquote로 초기화 시켜줍니다. \n",
    "MY_API_KEY"
   ]
  },
  {
   "cell_type": "code",
   "execution_count": null,
   "metadata": {},
   "outputs": [],
   "source": [
    "OPERATION_NAME = 'getRestFrequentzoneTmzon'"
   ]
  },
  {
   "cell_type": "code",
   "execution_count": null,
   "metadata": {},
   "outputs": [],
   "source": [
    "endpoint = urllib.parse.urljoin(BASE_ENDPOINT, OPERATION_NAME)\n",
    "endpoint"
   ]
  },
  {
   "cell_type": "code",
   "execution_count": null,
   "metadata": {},
   "outputs": [],
   "source": [
    "params = {\n",
    "    'ServiceKey': MY_API_KEY, # 서비스키\n",
    "    'searchYearCd': 2017, \n",
    "    'siDo': 11,\n",
    "    'guGun': 740,\n",
    "    'type': 'json',\n",
    "    'numOfRows': 10,\n",
    "    'pageNo': 1\n",
    "}"
   ]
  },
  {
   "cell_type": "code",
   "execution_count": null,
   "metadata": {},
   "outputs": [],
   "source": [
    "resp = requests.get(endpoint, params)\n",
    "# resp"
   ]
  },
  {
   "cell_type": "code",
   "execution_count": null,
   "metadata": {},
   "outputs": [],
   "source": [
    "soup = BeautifulSoup(resp.content)\n",
    "# soup"
   ]
  },
  {
   "cell_type": "code",
   "execution_count": null,
   "metadata": {},
   "outputs": [],
   "source": [
    "temp = resp.json()\n",
    "temp"
   ]
  },
  {
   "cell_type": "code",
   "execution_count": null,
   "metadata": {
    "scrolled": false
   },
   "outputs": [],
   "source": [
    "items = temp['items']\n",
    "items"
   ]
  },
  {
   "cell_type": "code",
   "execution_count": null,
   "metadata": {},
   "outputs": [],
   "source": [
    "import pandas as pd"
   ]
  },
  {
   "cell_type": "code",
   "execution_count": null,
   "metadata": {},
   "outputs": [],
   "source": [
    "temp_df = pd.DataFrame(items)\n",
    "temp_df"
   ]
  },
  {
   "cell_type": "code",
   "execution_count": null,
   "metadata": {},
   "outputs": [],
   "source": [
    "temp_df.to_csv('temp_df.csv')"
   ]
  },
  {
   "cell_type": "markdown",
   "metadata": {},
   "source": [
    "# 실습 2"
   ]
  },
  {
   "cell_type": "code",
   "execution_count": null,
   "metadata": {},
   "outputs": [],
   "source": [
    "BASE_ENDPOINT = 'http://apis.data.go.kr/1262000/AccidentService/'\n",
    "\n",
    "MY_API_KEY = 'aZKb3nJSN4%2Be4wBW%2BVZHZ%2BySzpYPWVtGhaUuA3egvIbW6QxqvMAujOkyzUtWD4fH129789KpCPhbdjYlXkFeYg%3D%3D'\n",
    "# 이미 encode가 되어있기 때문에, encoding이 두 번 일어나게된다. \n",
    "# 대문자는 바꾸지 말자라는 것을 의미한다.\n",
    "\n",
    "MY_API_KEY = urllib.parse.unquote(MY_API_KEY) # 따라서 unquote로 초기화 시켜줍니다. \n",
    "MY_API_KEY"
   ]
  },
  {
   "cell_type": "code",
   "execution_count": null,
   "metadata": {},
   "outputs": [],
   "source": [
    "OPERATION_NAME = 'getAccidentList'"
   ]
  },
  {
   "cell_type": "code",
   "execution_count": null,
   "metadata": {},
   "outputs": [],
   "source": [
    "endpoint = urllib.parse.urljoin(BASE_ENDPOINT, OPERATION_NAME)\n",
    "endpoint"
   ]
  },
  {
   "cell_type": "code",
   "execution_count": null,
   "metadata": {},
   "outputs": [],
   "source": [
    "params = {\n",
    "    'serviceKey': MY_API_KEY, # 서비스키\n",
    "    'numOfRows': 10, \n",
    "    'pageNo': 1,\n",
    "    'isoCode1': 'LBN',\n",
    "    'isoCode2': 'IRQ',\n",
    "#     'isoCode3': 'MEX'\n",
    "#     'isoCode4': 'KOR',\n",
    "#     'isoCode5': 'KOR',\n",
    "#     'isoCode6': 'KOR',\n",
    "#     'isoCode7': 'KOR',\n",
    "#     'isoCode8': 'KOR',\n",
    "#     'isoCode9': 'KOR',\n",
    "#     'isoCode10': 'KOR',\n",
    "}"
   ]
  },
  {
   "cell_type": "code",
   "execution_count": null,
   "metadata": {},
   "outputs": [],
   "source": [
    "resp = requests.get(endpoint, params)\n",
    "resp"
   ]
  },
  {
   "cell_type": "code",
   "execution_count": null,
   "metadata": {},
   "outputs": [],
   "source": [
    "soup = BeautifulSoup(resp.content)\n",
    "soup"
   ]
  },
  {
   "cell_type": "code",
   "execution_count": null,
   "metadata": {},
   "outputs": [],
   "source": []
  },
  {
   "cell_type": "markdown",
   "metadata": {},
   "source": [
    "# 로그인 방식\n",
    "1. id/pw (session) 사용\n",
    "2. oath(구글, 페이스북 아이디로 로그인)\n",
    "3. API KEY 로 인증"
   ]
  },
  {
   "cell_type": "markdown",
   "metadata": {},
   "source": [
    "# REST API 로 글쓰기"
   ]
  },
  {
   "cell_type": "markdown",
   "metadata": {},
   "source": [
    "### 네이버 로그인 하기"
   ]
  },
  {
   "cell_type": "code",
   "execution_count": 3,
   "metadata": {},
   "outputs": [],
   "source": [
    "import requests"
   ]
  },
  {
   "cell_type": "code",
   "execution_count": 4,
   "metadata": {},
   "outputs": [],
   "source": [
    "AUTH_URL = 'https://nid.naver.com/oauth2.0/authorize'\n",
    "\n",
    "CLIENT_ID = '' # 비워 \n",
    "CLIENT_SECRET = '' # 비워\n",
    "\n",
    "redirect_uri = 'http://127.0.0.1:8080'\n",
    "\n",
    "params = {\n",
    "    'client_id': CLIENT_ID, # client_id는 보안이 중요하기 때문에 후에 없애줘야한다.\n",
    "    'response_type': 'code',\n",
    "    'redirect_uri': redirect_uri,\n",
    "    'state': 'abcde12345' # state : 변조가 되었는지 아닌지 확인한다. \n",
    "}\n",
    "# ?client_id={클라이언트 아이디}&response_type=code&redirect_uri={개발자 센터에 등록한 콜백 URL(URL 인코딩)}&state={상태 토큰}\n"
   ]
  },
  {
   "cell_type": "code",
   "execution_count": 6,
   "metadata": {},
   "outputs": [],
   "source": [
    "resp = requests.get(AUTH_URL, params)\n",
    "# resp\n",
    "# resp.url\n",
    "# resp.content"
   ]
  },
  {
   "cell_type": "code",
   "execution_count": 7,
   "metadata": {},
   "outputs": [
    {
     "data": {
      "text/plain": [
       "'https://nid.naver.com/oauth2.0/authorize?client_id=ly677vc4YiJMM1DKC9Wz&response_type=code&redirect_uri=http%3A%2F%2F127.0.0.1%3A8080&state=abcde12345'"
      ]
     },
     "execution_count": 7,
     "metadata": {},
     "output_type": "execute_result"
    }
   ],
   "source": [
    "resp.url"
   ]
  },
  {
   "cell_type": "code",
   "execution_count": null,
   "metadata": {},
   "outputs": [],
   "source": [
    "# resp.url에 접속해서 코드와 state를 가져온다.\n",
    "# code= 지워\n",
    "# state=abcde12345\n",
    "# 비교해서 확인한다.\n"
   ]
  },
  {
   "cell_type": "markdown",
   "metadata": {},
   "source": [
    "### 접근토큰 요청\n",
    "세션에 대한 key를 가져온다."
   ]
  },
  {
   "cell_type": "code",
   "execution_count": 8,
   "metadata": {},
   "outputs": [],
   "source": [
    "TOKEN_URL = 'https://nid.naver.com/oauth2.0/token'\n",
    "params = {\n",
    "    'client_id': CLIENT_ID,\n",
    "    'client_secret': CLIENT_SECRET,\n",
    "    'grant_type': 'authorization_code',\n",
    "    'state': 'abcde12345',\n",
    "    'code': '' # 위에서 확인한 코드값을 입력한다. # 실습끝나면 없애자\n",
    "}\n",
    "# ?client_id={클라이언트 아이디}&client_secret={클라이언트 시크릿}\n",
    "# &grant_type=authorization_code&state={상태 토큰}&code={인증 코드}"
   ]
  },
  {
   "cell_type": "code",
   "execution_count": 9,
   "metadata": {},
   "outputs": [
    {
     "data": {
      "text/plain": [
       "<Response [200]>"
      ]
     },
     "execution_count": 9,
     "metadata": {},
     "output_type": "execute_result"
    }
   ],
   "source": [
    "resp = requests.get(TOKEN_URL, params)\n",
    "resp\n",
    "# resp.url\n",
    "# resp.content"
   ]
  },
  {
   "cell_type": "code",
   "execution_count": 10,
   "metadata": {},
   "outputs": [
    {
     "data": {
      "text/plain": [
       "b'{\"access_token\":\"AAAANs4duW8xdpHkYgz-LoQyeNWJW0zDlvZE2yzsL_DNm5g7YcJ2OV6ogb8rZqGEQIsTaqOolugKK1oVnecZxkOykYM\",\"refresh_token\":\"KATjii1GhPIAHllipZ48pYHJmqipNcW22q8hHG8GRoRJYZC0MipCis3is9Xa07mb8TtC4hc3V7DRLWZpIqS84925MrrMvbhYukzBZsm7WIyRiivzCzMS0ipxGgoUiikPXHVdZ0dQm\",\"token_type\":\"bearer\",\"expires_in\":\"3600\"}'"
      ]
     },
     "execution_count": 10,
     "metadata": {},
     "output_type": "execute_result"
    }
   ],
   "source": [
    "resp.content"
   ]
  },
  {
   "cell_type": "code",
   "execution_count": 11,
   "metadata": {},
   "outputs": [
    {
     "data": {
      "text/plain": [
       "{'access_token': 'AAAANs4duW8xdpHkYgz-LoQyeNWJW0zDlvZE2yzsL_DNm5g7YcJ2OV6ogb8rZqGEQIsTaqOolugKK1oVnecZxkOykYM',\n",
       " 'refresh_token': 'KATjii1GhPIAHllipZ48pYHJmqipNcW22q8hHG8GRoRJYZC0MipCis3is9Xa07mb8TtC4hc3V7DRLWZpIqS84925MrrMvbhYukzBZsm7WIyRiivzCzMS0ipxGgoUiikPXHVdZ0dQm',\n",
       " 'token_type': 'bearer',\n",
       " 'expires_in': '3600'}"
      ]
     },
     "execution_count": 11,
     "metadata": {},
     "output_type": "execute_result"
    }
   ],
   "source": [
    "json_text = resp.json()\n",
    "json_text"
   ]
  },
  {
   "cell_type": "code",
   "execution_count": 12,
   "metadata": {},
   "outputs": [],
   "source": [
    "access_token = json_text['access_token']\n",
    "refresh_token = json_text['refresh_token']\n",
    "token_type = json_text['token_type']\n",
    "expires_in = json_text['expires_in']"
   ]
  },
  {
   "cell_type": "code",
   "execution_count": 13,
   "metadata": {},
   "outputs": [],
   "source": [
    "PROFILE_URL = 'https://openapi.naver.com/v1/nid/me'\n",
    "\n",
    "headers = {\n",
    "    'Authorization': \"{} {}\".format(token_type, access_token)\n",
    "}\n",
    "\n"
   ]
  },
  {
   "cell_type": "code",
   "execution_count": 14,
   "metadata": {},
   "outputs": [
    {
     "data": {
      "text/plain": [
       "<Response [200]>"
      ]
     },
     "execution_count": 14,
     "metadata": {},
     "output_type": "execute_result"
    }
   ],
   "source": [
    "resp = requests.get(PROFILE_URL, headers = headers)\n",
    "resp"
   ]
  },
  {
   "cell_type": "code",
   "execution_count": 15,
   "metadata": {},
   "outputs": [
    {
     "data": {
      "text/plain": [
       "b'{\"resultcode\":\"00\",\"message\":\"success\",\"response\":{\"id\":\"45717139\",\"gender\":\"M\",\"email\":\"jhkang1517@gmail.com\",\"name\":\"\\\\uac15\\\\uc815\\\\ud638\"}}'"
      ]
     },
     "execution_count": 15,
     "metadata": {},
     "output_type": "execute_result"
    }
   ],
   "source": [
    "resp.content"
   ]
  },
  {
   "cell_type": "code",
   "execution_count": 16,
   "metadata": {},
   "outputs": [
    {
     "data": {
      "text/plain": [
       "{'resultcode': '00',\n",
       " 'message': 'success',\n",
       " 'response': {'id': '45717139',\n",
       "  'gender': 'M',\n",
       "  'email': 'jhkang1517@gmail.com',\n",
       "  'name': '강정호'}}"
      ]
     },
     "execution_count": 16,
     "metadata": {},
     "output_type": "execute_result"
    }
   ],
   "source": [
    "resp.json()"
   ]
  },
  {
   "cell_type": "markdown",
   "metadata": {},
   "source": [
    "### 네이버 블로그 글쓰기"
   ]
  },
  {
   "cell_type": "markdown",
   "metadata": {},
   "source": [
    "##### 카테고리 확인 "
   ]
  },
  {
   "cell_type": "code",
   "execution_count": 17,
   "metadata": {},
   "outputs": [],
   "source": [
    "cgr_list_url = 'https://openapi.naver.com/blog/listCategory.json'\n",
    "post_url = 'https://openapi.naver.com/blog/writePost.json'"
   ]
  },
  {
   "cell_type": "code",
   "execution_count": 18,
   "metadata": {},
   "outputs": [
    {
     "data": {
      "text/plain": [
       "<Response [200]>"
      ]
     },
     "execution_count": 18,
     "metadata": {},
     "output_type": "execute_result"
    }
   ],
   "source": [
    "resp = requests.get(cgr_list_url, headers=headers)\n",
    "resp"
   ]
  },
  {
   "cell_type": "code",
   "execution_count": 19,
   "metadata": {},
   "outputs": [
    {
     "data": {
      "text/plain": [
       "{'message': {'@type': 'response',\n",
       "  '@service': 'korea.naverkoreaservice.community.blog',\n",
       "  '@version': '1.0.0',\n",
       "  'result': [{'name': '사회학',\n",
       "    'categoryNo': 1,\n",
       "    'isOpen': True,\n",
       "    'subCategories': []},\n",
       "   {'name': '정보사회학', 'categoryNo': 6, 'isOpen': True, 'subCategories': []},\n",
       "   {'name': '사회통계', 'categoryNo': 7, 'isOpen': True, 'subCategories': []},\n",
       "   {'name': '데이터분석', 'categoryNo': 8, 'isOpen': True, 'subCategories': []},\n",
       "   {'name': '취미', 'categoryNo': 10, 'isOpen': True, 'subCategories': []}]}}"
      ]
     },
     "execution_count": 19,
     "metadata": {},
     "output_type": "execute_result"
    }
   ],
   "source": [
    "resp.json()"
   ]
  },
  {
   "cell_type": "markdown",
   "metadata": {},
   "source": [
    "##### 블로그에 글쓰기\n",
    "http method 네가지: get post put delete (+update)\n",
    "get과 post 둘 다 데이터를 전송한다.\n",
    "get은 파라미터를 통해 보낸다. 특히 url에 ?가 있으면 get을 사용하는 경우가 대부분이다.\n",
    "post는 body로 보낸다. "
   ]
  },
  {
   "cell_type": "code",
   "execution_count": 20,
   "metadata": {},
   "outputs": [],
   "source": [
    "title = '신나는 RESP API'\n",
    "contents = '신나는 Python 그리고 <b>신나는 Crawling</b>'\n",
    "# <b></b> 볼드처리 "
   ]
  },
  {
   "cell_type": "code",
   "execution_count": 22,
   "metadata": {},
   "outputs": [],
   "source": [
    "data = {\n",
    "    'title': title,\n",
    "    'contents': contents\n",
    "}"
   ]
  },
  {
   "cell_type": "code",
   "execution_count": 23,
   "metadata": {},
   "outputs": [],
   "source": [
    "resp = requests.post(post_url, headers=headers, data=data)"
   ]
  },
  {
   "cell_type": "code",
   "execution_count": 27,
   "metadata": {},
   "outputs": [],
   "source": [
    "# resp\n",
    "# resp.url\n",
    "# resp.content\n",
    "# 200: 성공\n",
    "# 300: 다른 곳으로 이동(Redirection)\n",
    "# 400: 사용자 잘못\n",
    "# 500: 서버 잘못"
   ]
  },
  {
   "cell_type": "code",
   "execution_count": 28,
   "metadata": {},
   "outputs": [
    {
     "data": {
      "text/plain": [
       "{'message': {'@type': 'response',\n",
       "  '@service': 'korea.naverkoreaservice.community.blog',\n",
       "  '@version': '1.0.0',\n",
       "  'result': {'blogId': 'kjho94',\n",
       "   'logNo': 221560087283,\n",
       "   'postUrl': 'http://blog.naver.com/kjho94/221560087283'}}}"
      ]
     },
     "execution_count": 28,
     "metadata": {},
     "output_type": "execute_result"
    }
   ],
   "source": [
    "resp.json()"
   ]
  },
  {
   "cell_type": "markdown",
   "metadata": {},
   "source": [
    "### 접근 토큰 갱신"
   ]
  },
  {
   "cell_type": "code",
   "execution_count": 37,
   "metadata": {},
   "outputs": [],
   "source": [
    "refresh_token_url = 'https://nid.naver.com/oauth2.0/token'\n",
    "params = {\n",
    "    'grant_type': 'refresh_token',\n",
    "    'client_id': CLIENT_ID,\n",
    "    'client_secret': CLIENT_SECRET,\n",
    "    'refresh_token': refresh_token\n",
    "}"
   ]
  },
  {
   "cell_type": "code",
   "execution_count": 38,
   "metadata": {},
   "outputs": [],
   "source": [
    "resp = requests.get(refresh_token_url, params)"
   ]
  },
  {
   "cell_type": "code",
   "execution_count": 39,
   "metadata": {},
   "outputs": [
    {
     "data": {
      "text/plain": [
       "<Response [200]>"
      ]
     },
     "execution_count": 39,
     "metadata": {},
     "output_type": "execute_result"
    }
   ],
   "source": [
    "resp"
   ]
  },
  {
   "cell_type": "code",
   "execution_count": 40,
   "metadata": {},
   "outputs": [
    {
     "data": {
      "text/plain": [
       "b'{\"access_token\":\"AAAANleYI/hX3qrtCsDV1t1MzU+sfyZbV27CK5j7/qkXoUni1WQwmbgfzirRP9ylI9w2BKjoVfYXfBt4let83JmHreE=\",\"refresh_token\":\"KATjii1GhPIAHllipZ48pYHJmqipNcW22q8hHG8GRoRJYZC0MipCis3is9Xa07mb8TtC4hc3V7DRLWZpIqS84925MrrMvbhYukzBZsm7WIyRiivzCzMS0ipxGgoUiikPXHVdZ0dQm\",\"token_type\":\"bearer\",\"expires_in\":\"3600\"}'"
      ]
     },
     "execution_count": 40,
     "metadata": {},
     "output_type": "execute_result"
    }
   ],
   "source": [
    "resp.content"
   ]
  },
  {
   "cell_type": "code",
   "execution_count": 41,
   "metadata": {},
   "outputs": [
    {
     "data": {
      "text/plain": [
       "{'access_token': 'AAAANleYI/hX3qrtCsDV1t1MzU+sfyZbV27CK5j7/qkXoUni1WQwmbgfzirRP9ylI9w2BKjoVfYXfBt4let83JmHreE=',\n",
       " 'refresh_token': 'KATjii1GhPIAHllipZ48pYHJmqipNcW22q8hHG8GRoRJYZC0MipCis3is9Xa07mb8TtC4hc3V7DRLWZpIqS84925MrrMvbhYukzBZsm7WIyRiivzCzMS0ipxGgoUiikPXHVdZ0dQm',\n",
       " 'token_type': 'bearer',\n",
       " 'expires_in': '3600'}"
      ]
     },
     "execution_count": 41,
     "metadata": {},
     "output_type": "execute_result"
    }
   ],
   "source": [
    "resp.json()"
   ]
  },
  {
   "cell_type": "code",
   "execution_count": null,
   "metadata": {},
   "outputs": [],
   "source": []
  }
 ],
 "metadata": {
  "kernelspec": {
   "display_name": "Python 3",
   "language": "python",
   "name": "python3"
  },
  "language_info": {
   "codemirror_mode": {
    "name": "ipython",
    "version": 3
   },
   "file_extension": ".py",
   "mimetype": "text/x-python",
   "name": "python",
   "nbconvert_exporter": "python",
   "pygments_lexer": "ipython3",
   "version": "3.7.3"
  }
 },
 "nbformat": 4,
 "nbformat_minor": 2
}
