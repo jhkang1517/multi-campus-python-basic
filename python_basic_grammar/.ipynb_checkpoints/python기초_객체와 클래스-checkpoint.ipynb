{
 "cells": [
  {
   "cell_type": "markdown",
   "metadata": {},
   "source": [
    "# 객체와 클래스"
   ]
  },
  {
   "cell_type": "markdown",
   "metadata": {},
   "source": [
    "### Class와 Instance\n",
    "속성 앞에 __ 를 붙여줌으로써 비공개속성으로 만들 수 있다.\n",
    "\n",
    "public 인스턴스 속성은 앞에 self를 붙여준다.\n",
    "class 속성은 class 전체에 영향을 미친다. \n",
    "따라서, 두 속성 모두 과하게 사용해서는 다른 flow에 영향을 미칠 수 있으므로, 사용을 줄이는 것이 좋다.\n",
    "\n",
    "자주 사용하는 함수들은 static method로 저장해놓는 것이 좋다. \n",
    "보통 상수값이나, 자주 사용하는 함수를 static method나 instance로 저장해둔다.\n",
    "\n",
    "class method는 static method는 비슷하지만,\n",
    "상속에서 차이가 발생한다.\n",
    "class method는 클래스가 가지고 있다보니, 부모부터 상속을 하게 되면 자기 자신에 대해서 접근 할 수 있지만,\n",
    "static method는 부모에만 접근 할 수 있다. \n",
    "\n",
    "### 상속의 개념\n",
    "부모클래스를 정의하고, 클래스를 명시한다.\n",
    "class Animal -> 부모\n",
    "class Dag(Animal) -> 자식\n",
    "\n",
    "오버라이딩\n",
    "부모클래스와 자식클래스에 있는 함수명이 일치할 때 오버라이딩 발생 \n",
    "오버라이딩, 즉 우선순위는 자식클래스의 함수명이 된다. \n",
    "\n",
    "추상 클래스\n",
    "보통 첫 설계를 할 때, 추상클래스를 만들고 설계를 시작한다. \n",
    "기본 인터페이스를 어떻게 가져갈 것인지를 정의할 수 있다. \n",
    "\n",
    "추상클래스로 input과 output를 정의한다. \n",
    "\n",
    "### 모듈, 패키지\n",
    "모듈: 변수, 함수, 클래스 등을 모아놓은 스크립트 파일\n",
    "다른 python에서 import 하여 사용할 수 있다. \n",
    "\n",
    "패키지: 여러 모듈들을 모아놓은 것\n",
    "\n"
   ]
  },
  {
   "cell_type": "code",
   "execution_count": 26,
   "metadata": {},
   "outputs": [],
   "source": [
    "\n",
    "\n",
    "class Dog: # 새로운 데이터 타입 생성\n",
    "    car_total = 0\n",
    "    \n",
    "    @staticmethod # staticmethod는 class의 변수를 사용할 수 없다. (달리 말해, 사용하지 않아도 된다.)\n",
    "    def get_eye_num():\n",
    "        return 2\n",
    "    \n",
    "    @classmethod # 클래스 method는 도그라는 class '자체'를 핸들링하는 메소드\n",
    "    def count_dog_total(cls): # 따라서, cls인자가 반드시 들어가 주어야만 한다.\n",
    "        return cls.dog_total\n",
    "    \n",
    "    @classmethod\n",
    "    def make_new_dog(cls):\n",
    "        print(cls)\n",
    "        pass\n",
    "    \n",
    "    @classmethod\n",
    "    def make_new_yok(cls):\n",
    "        cls.car_total += 1\n",
    "        return cls('yok', 'brown')\n",
    "    \n",
    "    def __init__(self, name, color): # 멤버 변수 = 오브젝트 = 인스턴스\n",
    "        # init 함수 : 생성자. class 자체를 초기화 할때(즉, 선언할때) 사용되는 함수.\n",
    "        # self 는 관례적으로 반드시 넣도록 한다.\n",
    "        self.hungry = 0\n",
    "        self.name = name\n",
    "        self.color = color\n",
    "        \n",
    "    def name_change(self): # 멤버 함수 = mothod # 행동이나 기능을 구현하기 위함\n",
    "        self.hungry -= 10\n",
    "        print(\"밥먹음\", self.hungry)\n",
    "        \n",
    "    def walk(self):\n",
    "        self.hungry += 10\n",
    "        print(\"산책\", self.hungry)\n",
    "        \n",
    "\n",
    "# 만약에 private 속성으로 __ 를 넣어서 지정하게 되면, 밖에서 접근하는 것을 막는다. "
   ]
  },
  {
   "cell_type": "code",
   "execution_count": 27,
   "metadata": {},
   "outputs": [
    {
     "data": {
      "text/plain": [
       "2"
      ]
     },
     "execution_count": 27,
     "metadata": {},
     "output_type": "execute_result"
    }
   ],
   "source": [
    "Dog.get_eye_num()"
   ]
  },
  {
   "cell_type": "code",
   "execution_count": 16,
   "metadata": {},
   "outputs": [
    {
     "name": "stdout",
     "output_type": "stream",
     "text": [
      "산책 10\n",
      "산책 20\n",
      "밥먹음 10\n",
      "choco 배고픔:  10\n",
      "jjong 배고픔: 0\n"
     ]
    }
   ],
   "source": [
    "자동차 = bmw(\"choco\", \"black\")\n",
    "jjong = Dog(\"jjong\", \"white\")\n",
    "\n",
    "choco.walk()\n",
    "choco.walk()\n",
    "choco.eat()\n",
    "\n",
    "print(\"choco 배고픔: \", choco.hungry)\n",
    "print(\"jjong 배고픔:\", jjong.hungry)\n",
    "\n",
    "\n",
    "# 왜 .을 찍는가?\n",
    "# . = '~에 접근한다.' 라는 의미로 이해"
   ]
  },
  {
   "cell_type": "code",
   "execution_count": 19,
   "metadata": {
    "scrolled": false
   },
   "outputs": [
    {
     "data": {
      "text/plain": [
       "2"
      ]
     },
     "execution_count": 19,
     "metadata": {},
     "output_type": "execute_result"
    }
   ],
   "source": [
    "Dog.count_dog_total()"
   ]
  },
  {
   "cell_type": "code",
   "execution_count": 22,
   "metadata": {},
   "outputs": [
    {
     "data": {
      "text/plain": [
       "<bound method Dog.make_new_dog of <class '__main__.Dog'>>"
      ]
     },
     "execution_count": 22,
     "metadata": {},
     "output_type": "execute_result"
    }
   ],
   "source": [
    "Dog.make_new_dog # 클래스 자체를 보여준다."
   ]
  },
  {
   "cell_type": "code",
   "execution_count": null,
   "metadata": {},
   "outputs": [],
   "source": [
    "# 클래스 정리\n",
    "# 객체"
   ]
  },
  {
   "cell_type": "markdown",
   "metadata": {},
   "source": [
    "## Car 실습"
   ]
  },
  {
   "cell_type": "code",
   "execution_count": 25,
   "metadata": {},
   "outputs": [],
   "source": [
    "class Car(object): # 새로운 데이터 타입 생성 # 클래스의 이름은 관례적으로 맨 앞을 대문자로 해야한다. \n",
    "    total_num = 0 \n",
    "    # 클래스 속성: 모든 객체가 공유하는 속성\n",
    "    # 여러 객체에 대한 숫자를 파악하거나, 전체 공유 변수를 만들어 낼 수 있다.\n",
    "    \n",
    "    \n",
    "    @staticmethod # 정적 메소드\n",
    "    def call_119():\n",
    "        return \"119\"\n",
    "    \n",
    "    @classmethod\n",
    "    # 클래스 자체를 받기 때문에, 클래스에서 할 수 있는 모든 것을 할 수 있다.\n",
    "    # 객체르 만들수도 있고, 클래스 변수에도 당연히 접근이 가능하다.\n",
    "    def get_total_car(cls):\n",
    "        return Car.total_num\n",
    "    \n",
    "    def __init__(self, model, engine_rank): # 속성 정의 # 인스턴스 변수\n",
    "        self.model = model\n",
    "        self.engine_rank = engine_rank\n",
    "        self.speed = 0\n",
    "        \n",
    "        Car.total_num += 1 \n",
    "        \n",
    "    def accelerate(self):# 멤버 함수 = method 엑셀을 밟거나, 브레이크를 밟거나\n",
    "        if self.speed > 500:\n",
    "            return False\n",
    "        self.speed += 10\n",
    "        return True\n",
    "        \n",
    "    def push_break(self):\n",
    "        self.speed -= 10\n",
    "        return True\n",
    "\n",
    "# 왜 clasee 써요?\n",
    "# 1. 시간단축\n",
    "# 2. 노가다 방지\n",
    "# 3. 오류수정 용이"
   ]
  },
  {
   "cell_type": "code",
   "execution_count": 26,
   "metadata": {},
   "outputs": [],
   "source": [
    "# 상속의 개념\n",
    "class BMWCar(Car): # 이 순간 BMW는 Car의 모든 함수를 가지게 된다. \n",
    "    pass "
   ]
  },
  {
   "cell_type": "code",
   "execution_count": 27,
   "metadata": {},
   "outputs": [
    {
     "data": {
      "text/plain": [
       "<__main__.BMWCar at 0x5d8fc88>"
      ]
     },
     "execution_count": 27,
     "metadata": {},
     "output_type": "execute_result"
    }
   ],
   "source": [
    "minsu_car = BMWCar(\"BMW\", \"A\") # 생성되는순간, 이게 바로 인스턴스\n",
    "minsu_car"
   ]
  },
  {
   "cell_type": "code",
   "execution_count": 28,
   "metadata": {},
   "outputs": [
    {
     "data": {
      "text/plain": [
       "__main__.BMWCar"
      ]
     },
     "execution_count": 28,
     "metadata": {},
     "output_type": "execute_result"
    }
   ],
   "source": [
    "type(minsu_car)"
   ]
  },
  {
   "cell_type": "code",
   "execution_count": 30,
   "metadata": {},
   "outputs": [
    {
     "data": {
      "text/plain": [
       "0"
      ]
     },
     "execution_count": 30,
     "metadata": {},
     "output_type": "execute_result"
    }
   ],
   "source": [
    "minsu_car.speed"
   ]
  },
  {
   "cell_type": "code",
   "execution_count": 31,
   "metadata": {},
   "outputs": [
    {
     "data": {
      "text/plain": [
       "True"
      ]
     },
     "execution_count": 31,
     "metadata": {},
     "output_type": "execute_result"
    }
   ],
   "source": [
    "minsu_car.accelerate()"
   ]
  },
  {
   "cell_type": "code",
   "execution_count": 32,
   "metadata": {},
   "outputs": [
    {
     "data": {
      "text/plain": [
       "10"
      ]
     },
     "execution_count": 32,
     "metadata": {},
     "output_type": "execute_result"
    }
   ],
   "source": [
    "minsu_car.speed"
   ]
  },
  {
   "cell_type": "code",
   "execution_count": 33,
   "metadata": {},
   "outputs": [],
   "source": [
    "my_car = Car(\"Toyota\", 'A')\n"
   ]
  },
  {
   "cell_type": "code",
   "execution_count": 34,
   "metadata": {},
   "outputs": [
    {
     "data": {
      "text/plain": [
       "<__main__.Car at 0x5ce19b0>"
      ]
     },
     "execution_count": 34,
     "metadata": {},
     "output_type": "execute_result"
    }
   ],
   "source": [
    "my_car"
   ]
  },
  {
   "cell_type": "code",
   "execution_count": 35,
   "metadata": {},
   "outputs": [
    {
     "name": "stdout",
     "output_type": "stream",
     "text": [
      "<class '__main__.Car'>\n"
     ]
    }
   ],
   "source": [
    "print(type(my_car)) # 출력에 나오는 main은 쥬피터라서 나오는 것이므로 무시"
   ]
  },
  {
   "cell_type": "code",
   "execution_count": 36,
   "metadata": {},
   "outputs": [
    {
     "data": {
      "text/plain": [
       "['__class__',\n",
       " '__delattr__',\n",
       " '__dict__',\n",
       " '__dir__',\n",
       " '__doc__',\n",
       " '__eq__',\n",
       " '__format__',\n",
       " '__ge__',\n",
       " '__getattribute__',\n",
       " '__gt__',\n",
       " '__hash__',\n",
       " '__init__',\n",
       " '__init_subclass__',\n",
       " '__le__',\n",
       " '__lt__',\n",
       " '__module__',\n",
       " '__ne__',\n",
       " '__new__',\n",
       " '__reduce__',\n",
       " '__reduce_ex__',\n",
       " '__repr__',\n",
       " '__setattr__',\n",
       " '__sizeof__',\n",
       " '__str__',\n",
       " '__subclasshook__',\n",
       " '__weakref__',\n",
       " 'accelerate',\n",
       " 'call_119',\n",
       " 'engine_rank',\n",
       " 'get_total_car',\n",
       " 'model',\n",
       " 'push_break',\n",
       " 'speed',\n",
       " 'total_num']"
      ]
     },
     "execution_count": 36,
     "metadata": {},
     "output_type": "execute_result"
    }
   ],
   "source": [
    "dir(my_car)\n",
    "# dir은 해당 변수의 class(데이터타입)의 속성이나 method를 반환하는 함수입니다."
   ]
  },
  {
   "cell_type": "code",
   "execution_count": 40,
   "metadata": {},
   "outputs": [
    {
     "data": {
      "text/plain": [
       "'Toyota'"
      ]
     },
     "execution_count": 40,
     "metadata": {},
     "output_type": "execute_result"
    }
   ],
   "source": [
    "my_car.model"
   ]
  },
  {
   "cell_type": "code",
   "execution_count": 41,
   "metadata": {},
   "outputs": [
    {
     "data": {
      "text/plain": [
       "'A'"
      ]
     },
     "execution_count": 41,
     "metadata": {},
     "output_type": "execute_result"
    }
   ],
   "source": [
    "my_car.engine_rank"
   ]
  },
  {
   "cell_type": "code",
   "execution_count": 42,
   "metadata": {},
   "outputs": [
    {
     "data": {
      "text/plain": [
       "2"
      ]
     },
     "execution_count": 42,
     "metadata": {},
     "output_type": "execute_result"
    }
   ],
   "source": [
    "Car.total_num"
   ]
  },
  {
   "cell_type": "markdown",
   "metadata": {},
   "source": [
    "### 정적메소드"
   ]
  },
  {
   "cell_type": "code",
   "execution_count": 46,
   "metadata": {},
   "outputs": [
    {
     "data": {
      "text/plain": [
       "'119'"
      ]
     },
     "execution_count": 46,
     "metadata": {},
     "output_type": "execute_result"
    }
   ],
   "source": [
    "Car.call_119()"
   ]
  },
  {
   "cell_type": "code",
   "execution_count": 47,
   "metadata": {},
   "outputs": [
    {
     "data": {
      "text/plain": [
       "'119'"
      ]
     },
     "execution_count": 47,
     "metadata": {},
     "output_type": "execute_result"
    }
   ],
   "source": [
    "my_car.call_119()"
   ]
  },
  {
   "cell_type": "markdown",
   "metadata": {},
   "source": [
    "### 클래스 메소드"
   ]
  },
  {
   "cell_type": "code",
   "execution_count": 48,
   "metadata": {},
   "outputs": [
    {
     "data": {
      "text/plain": [
       "2"
      ]
     },
     "execution_count": 48,
     "metadata": {},
     "output_type": "execute_result"
    }
   ],
   "source": [
    "Car.get_total_car()"
   ]
  },
  {
   "cell_type": "code",
   "execution_count": 49,
   "metadata": {},
   "outputs": [],
   "source": [
    "class BMWCar(Car):\n",
    "    def accelerate(self):\n",
    "        print(self.speed)\n",
    "        self.speed += 100\n",
    "        \n",
    "        super().accelerate()\n",
    "        \n",
    "    pass"
   ]
  },
  {
   "cell_type": "code",
   "execution_count": 50,
   "metadata": {},
   "outputs": [
    {
     "data": {
      "text/plain": [
       "True"
      ]
     },
     "execution_count": 50,
     "metadata": {},
     "output_type": "execute_result"
    }
   ],
   "source": [
    "minsu_car.accelerate()"
   ]
  },
  {
   "cell_type": "code",
   "execution_count": 51,
   "metadata": {},
   "outputs": [
    {
     "data": {
      "text/plain": [
       "20"
      ]
     },
     "execution_count": 51,
     "metadata": {},
     "output_type": "execute_result"
    }
   ],
   "source": [
    "minsu_car.speed"
   ]
  },
  {
   "cell_type": "code",
   "execution_count": 52,
   "metadata": {},
   "outputs": [],
   "source": [
    "jungho_car = BMWCar(\"BMW\", \"S\")"
   ]
  },
  {
   "cell_type": "code",
   "execution_count": 53,
   "metadata": {},
   "outputs": [
    {
     "data": {
      "text/plain": [
       "<__main__.BMWCar at 0x5bbbfd0>"
      ]
     },
     "execution_count": 53,
     "metadata": {},
     "output_type": "execute_result"
    }
   ],
   "source": [
    "jungho_car"
   ]
  },
  {
   "cell_type": "code",
   "execution_count": 54,
   "metadata": {},
   "outputs": [
    {
     "data": {
      "text/plain": [
       "0"
      ]
     },
     "execution_count": 54,
     "metadata": {},
     "output_type": "execute_result"
    }
   ],
   "source": [
    "jungho_car.speed"
   ]
  },
  {
   "cell_type": "code",
   "execution_count": 55,
   "metadata": {},
   "outputs": [
    {
     "name": "stdout",
     "output_type": "stream",
     "text": [
      "0\n"
     ]
    }
   ],
   "source": [
    "jungho_car.accelerate()"
   ]
  },
  {
   "cell_type": "code",
   "execution_count": 56,
   "metadata": {},
   "outputs": [
    {
     "data": {
      "text/plain": [
       "110"
      ]
     },
     "execution_count": 56,
     "metadata": {},
     "output_type": "execute_result"
    }
   ],
   "source": [
    "jungho_car.speed"
   ]
  },
  {
   "cell_type": "markdown",
   "metadata": {},
   "source": [
    "# 연습문제 1\n",
    "Car 클래스를 만드세요\n",
    "객체 생성시 차이름, 배기량, 생산년도 입력받으세요\n",
    "객체 생성시 등록된 차이름, 배기량, 생산년도는 직접 변경하지 못합니다\n",
    "차 이름을 변경하는 함수를 만드세요\n",
    "배기량에 따라 1000CC 이하 소형\n",
    "                      1000CC 이상 2000CC 이하 중형\n",
    "                      2000CC 이상 대형을 출력하는 함수를 만드세요\n",
    "객체 생성시마다 등록된 차량 갯수를 기록해주세요\n",
    "총 등록된 차량개수를 출력하는 클래스 함수를 만드세요"
   ]
  },
  {
   "cell_type": "code",
   "execution_count": 183,
   "metadata": {},
   "outputs": [],
   "source": [
    "class Car(object):\n",
    "    total_car = 0\n",
    "    \n",
    "    @classmethod\n",
    "    def total_car_num(cls):\n",
    "        return cls.total_car\n",
    "    \n",
    "    def __init__(self, car_name, cc, year_production):\n",
    "        self.__car_name = car_name\n",
    "        self.__cc = cc\n",
    "        self.__year_production = year_production \n",
    "        Car.total_car += 1\n",
    "    \n",
    "    def name_change(self):\n",
    "        self.__car_name = str(input(\"바뀌게 될 차 이름을 입력하세요: \"))\n",
    "        return self.__car_name\n",
    "                           \n",
    "    def car_size(self):\n",
    "        if self.__cc <= 1000:\n",
    "            return \"소형\"          \n",
    "        elif self.__cc <= 2000:\n",
    "            return \"중형\"\n",
    "        elif self.__cc >= 3000:\n",
    "            return \"대형\"\n",
    "        \n",
    "    def get_name(self):\n",
    "        return(self.__car_name)\n",
    "    def get_cc(self):\n",
    "        return(self.__cc)\n",
    "    def get_year_production(self):\n",
    "        return(self.__year_production)\n",
    "    \n",
    "    def get_everything_of_my_car(self):\n",
    "        print(\"car_name:{}, cc:{}, year_of_production:{}\". format(self.__car_name, self.__cc, self.__year_production))"
   ]
  },
  {
   "cell_type": "code",
   "execution_count": 184,
   "metadata": {
    "scrolled": false
   },
   "outputs": [],
   "source": [
    "my_car = Car(\"마쎄라티\", 3000, 2019)\n",
    "your_car = Car(\"꼬마버스타요\", 2000, 2018)\n",
    "our_car = Car(\"캐딜락\", 1000, 2015)"
   ]
  },
  {
   "cell_type": "code",
   "execution_count": 185,
   "metadata": {},
   "outputs": [
    {
     "data": {
      "text/plain": [
       "'마쎄라티'"
      ]
     },
     "execution_count": 185,
     "metadata": {},
     "output_type": "execute_result"
    }
   ],
   "source": [
    "my_car.get_name()"
   ]
  },
  {
   "cell_type": "code",
   "execution_count": 177,
   "metadata": {
    "scrolled": true
   },
   "outputs": [
    {
     "name": "stdout",
     "output_type": "stream",
     "text": [
      "바뀌게 될 차 이름을 입력하세요: dd\n"
     ]
    },
    {
     "data": {
      "text/plain": [
       "'dd'"
      ]
     },
     "execution_count": 177,
     "metadata": {},
     "output_type": "execute_result"
    }
   ],
   "source": [
    "my_car.name_change()"
   ]
  },
  {
   "cell_type": "code",
   "execution_count": 178,
   "metadata": {},
   "outputs": [
    {
     "data": {
      "text/plain": [
       "'dd'"
      ]
     },
     "execution_count": 178,
     "metadata": {},
     "output_type": "execute_result"
    }
   ],
   "source": [
    "my_car.get_name()"
   ]
  },
  {
   "cell_type": "code",
   "execution_count": 186,
   "metadata": {},
   "outputs": [
    {
     "name": "stdout",
     "output_type": "stream",
     "text": [
      "대형\n",
      "중형\n",
      "소형\n",
      "3\n",
      "____________________\n",
      "마쎄라티\n",
      "2000\n",
      "2015\n",
      "____________________\n",
      "car_name:마쎄라티, cc:3000, year_of_production:2019\n",
      "None\n"
     ]
    }
   ],
   "source": [
    "print(my_car.car_size())\n",
    "print(your_car.car_size())\n",
    "print(our_car.car_size())\n",
    "print(Car.total_car_num())\n",
    "\n",
    "print('_'*20)\n",
    "\n",
    "print(my_car.get_name())\n",
    "print(your_car.get_cc())\n",
    "print(our_car.get_year_production())\n",
    "\n",
    "print('_'*20)\n",
    "\n",
    "print(my_car.get_everything_of_my_car())"
   ]
  },
  {
   "cell_type": "code",
   "execution_count": 192,
   "metadata": {},
   "outputs": [],
   "source": [
    "# 모범답안\n",
    "# 뼈대 생성\n",
    "\n",
    "class Car(object):\n",
    "    a = 0\n",
    "    \n",
    "    # static method\n",
    "    # self, cls 둘 다 들어오지 않는다.\n",
    "    @staticmethod\n",
    "    def temp_static():\n",
    "        pass\n",
    "\n",
    "    # ------------------------------\n",
    "    \n",
    "    # classmethod\n",
    "    # self 가 아니라 cls가 들어온다.\n",
    "    @classmethod\n",
    "    def temp_cm(cls):\n",
    "        # cls = Car 로 초기화된다.\n",
    "        pass\n",
    "    \n",
    "    @classmethod\n",
    "    def make_bmw(cls):\n",
    "        return cls('my_car2', 'BMW') # Car('my_car2', 'BMW') 와 동일하다. \n",
    "    \n",
    "    # ------------------------------\n",
    "    \n",
    "    #method\n",
    "    def temp_method(self):\n",
    "        pass\n",
    "\n",
    "    pass"
   ]
  },
  {
   "cell_type": "code",
   "execution_count": 193,
   "metadata": {},
   "outputs": [],
   "source": [
    "my_car = Car()\n",
    "my_car.temp_method()\n",
    "# my_car의 상태를 변화시키기 위해서 method 함수를 사용한다. "
   ]
  },
  {
   "cell_type": "code",
   "execution_count": 194,
   "metadata": {},
   "outputs": [],
   "source": [
    "Car.temp_cm()\n",
    "# Car 자체를 받는다."
   ]
  },
  {
   "cell_type": "code",
   "execution_count": 195,
   "metadata": {},
   "outputs": [],
   "source": [
    "my_car = Car()"
   ]
  },
  {
   "cell_type": "code",
   "execution_count": null,
   "metadata": {},
   "outputs": [],
   "source": []
  },
  {
   "cell_type": "code",
   "execution_count": 208,
   "metadata": {},
   "outputs": [],
   "source": [
    "# 모범 답안\n",
    "class Car(object):\n",
    "    total = 0\n",
    "    \n",
    "    @classmethod\n",
    "    def get_total_num(cls):\n",
    "        # cls = Car 변수 호출\n",
    "        return cls.total # cls = Car\n",
    "    \n",
    "    def __init__(self, name, cc, year):\n",
    "        self.__name = name\n",
    "        self.__cc = cc\n",
    "        self.__year = year\n",
    "        \n",
    "        Car.total += 1\n",
    "        \n",
    "    def change_name(self, new_name):\n",
    "        self.__name = new_name\n",
    "        return self.__name\n",
    "        \n",
    "    def get_size(self):\n",
    "        if self.__cc <= 1000:\n",
    "            # print(\"소형\")\n",
    "            return \"소형\"\n",
    "        elif self.__cc < 2000:\n",
    "            # print(\"중형\")\n",
    "            return \"중형\"\n",
    "        else:\n",
    "            # print(\"대형\")\n",
    "            return \"대형\"\n",
    "    \n",
    "    def get_name(self):\n",
    "        return self.__name\n",
    "    def get_cc(self):\n",
    "        return self.__cc\n",
    "    def get_year(self):\n",
    "        return self.__year\n"
   ]
  },
  {
   "cell_type": "code",
   "execution_count": 209,
   "metadata": {},
   "outputs": [],
   "source": [
    "my_car = Car(\"BMW\", 3000, '2019')"
   ]
  },
  {
   "cell_type": "code",
   "execution_count": 210,
   "metadata": {},
   "outputs": [],
   "source": [
    "my_car2 = Car(\"Benz\", 4000, '2010')"
   ]
  },
  {
   "cell_type": "code",
   "execution_count": 211,
   "metadata": {},
   "outputs": [],
   "source": [
    "my_small_car = Car(\"티코\", 800, '2000')"
   ]
  },
  {
   "cell_type": "code",
   "execution_count": 212,
   "metadata": {},
   "outputs": [],
   "source": [
    "my_good_car = Car(\"BMW\", 1800, '2010')"
   ]
  },
  {
   "cell_type": "code",
   "execution_count": 213,
   "metadata": {},
   "outputs": [
    {
     "data": {
      "text/plain": [
       "'BMW'"
      ]
     },
     "execution_count": 213,
     "metadata": {},
     "output_type": "execute_result"
    }
   ],
   "source": [
    "my_car.get_name()"
   ]
  },
  {
   "cell_type": "code",
   "execution_count": 214,
   "metadata": {},
   "outputs": [
    {
     "data": {
      "text/plain": [
       "'Audi'"
      ]
     },
     "execution_count": 214,
     "metadata": {},
     "output_type": "execute_result"
    }
   ],
   "source": [
    "my_car.change_name(\"Audi\")"
   ]
  },
  {
   "cell_type": "code",
   "execution_count": 216,
   "metadata": {},
   "outputs": [
    {
     "data": {
      "text/plain": [
       "'Audi'"
      ]
     },
     "execution_count": 216,
     "metadata": {},
     "output_type": "execute_result"
    }
   ],
   "source": [
    "my_car.get_name()"
   ]
  },
  {
   "cell_type": "code",
   "execution_count": 215,
   "metadata": {},
   "outputs": [
    {
     "data": {
      "text/plain": [
       "'대형'"
      ]
     },
     "execution_count": 215,
     "metadata": {},
     "output_type": "execute_result"
    }
   ],
   "source": [
    "my_car.get_size()"
   ]
  },
  {
   "cell_type": "markdown",
   "metadata": {},
   "source": [
    "# 연도별로 차량을 찾고싶어요"
   ]
  },
  {
   "cell_type": "markdown",
   "metadata": {},
   "source": [
    "## 첫번째 방법\n",
    "### 클래스 밖에서 딕셔너리를 이용한다."
   ]
  },
  {
   "cell_type": "code",
   "execution_count": 231,
   "metadata": {},
   "outputs": [
    {
     "data": {
      "text/plain": [
       "2019"
      ]
     },
     "execution_count": 231,
     "metadata": {},
     "output_type": "execute_result"
    }
   ],
   "source": [
    "my_car = Car(\"BMW\", 3000, 2019)\n",
    "my_car.get_year()"
   ]
  },
  {
   "cell_type": "code",
   "execution_count": 232,
   "metadata": {},
   "outputs": [],
   "source": [
    "my_dict = {}\n",
    "year = my_car.get_year()"
   ]
  },
  {
   "cell_type": "code",
   "execution_count": 233,
   "metadata": {},
   "outputs": [],
   "source": [
    "if year not in my_dict:\n",
    "    my_dict[year] = []\n"
   ]
  },
  {
   "cell_type": "code",
   "execution_count": 234,
   "metadata": {},
   "outputs": [],
   "source": [
    "my_dict[year].append(my_car)"
   ]
  },
  {
   "cell_type": "code",
   "execution_count": 235,
   "metadata": {},
   "outputs": [
    {
     "data": {
      "text/plain": [
       "{2019: [<__main__.Car at 0x5e17470>]}"
      ]
     },
     "execution_count": 235,
     "metadata": {},
     "output_type": "execute_result"
    }
   ],
   "source": [
    "my_dict"
   ]
  },
  {
   "cell_type": "code",
   "execution_count": 246,
   "metadata": {},
   "outputs": [],
   "source": [
    "my_car = Car('버스', 3000, '2018')\n",
    "\n",
    "def add_dict_car(my_dict, car):\n",
    "    year = car.get_year()\n",
    "    if year not in my_dict:\n",
    "        my_dict[year] = []\n",
    "    \n",
    "    my_dict[year].append(car)\n",
    "\n",
    "# 여기서부터\n",
    "year = my_car.get_year()\n",
    "if year not in my_dict:\n",
    "    my_dict[year] = []\n",
    "my_dict[year].append(my_car)\n",
    "# 여기까지 반복 됨"
   ]
  },
  {
   "cell_type": "code",
   "execution_count": null,
   "metadata": {},
   "outputs": [],
   "source": []
  },
  {
   "cell_type": "markdown",
   "metadata": {},
   "source": [
    "## 두번째 방법:\n",
    "### 클래스 속성을 사용한다."
   ]
  },
  {
   "cell_type": "code",
   "execution_count": 295,
   "metadata": {},
   "outputs": [],
   "source": [
    "class Car(object):\n",
    "    total = 0\n",
    "    year_dict = {}\n",
    "    \n",
    "    @classmethod\n",
    "    def get_total_num(cls):\n",
    "        # cls = Car 변수 호출\n",
    "        return cls.total # cls = Car\n",
    "    \n",
    "    def __init__(self, name, cc, year):\n",
    "        self.__name = name\n",
    "        self.__cc = cc\n",
    "        self.__year = year        \n",
    "        Car.plus_total()\n",
    "                \n",
    "    @classmethod\n",
    "    def plus_total(cls):\n",
    "        cls.total += 1\n",
    "        \n",
    "    @classmethod\n",
    "    def add_year_dict(cls, instance):\n",
    "        if instance.__year not in cls.year_dict:\n",
    "            cls.year_dict[instance.__year] = []\n",
    "        \n",
    "        cls.year_dict[instance.__year].append(instance)\n",
    "            \n",
    "    @classmethod\n",
    "    def get_cars_by_year(cls, year):\n",
    "        # cls = Car\n",
    "        year_dict = cls.year_dict\n",
    "        if year not in year_dict:\n",
    "            return []       \n",
    "        else:\n",
    "            return year_dict[year]\n",
    "        \n",
    "    def change_name(self, new_name):\n",
    "        self.__name = new_name\n",
    "        return self.__name\n",
    "        \n",
    "    def get_size(self):\n",
    "        if self.__cc <= 1000:\n",
    "            # print(\"소형\")\n",
    "            return \"소형\"\n",
    "        elif self.__cc < 2000:\n",
    "            # print(\"중형\")\n",
    "            return \"중형\"\n",
    "        else:\n",
    "            # print(\"대형\")\n",
    "            return \"대형\"\n",
    "    \n",
    "    def get_name(self):\n",
    "        return self.__name\n",
    "    def get_cc(self):\n",
    "        return self.__cc\n",
    "    def get_year(self):\n",
    "        return self.__year\n",
    "    \n",
    "    \n",
    "    def __repr__(self):\n",
    "        return \"[{}, {}, {}]\".format(self.__name + self.__cc + self.__year_)\n",
    "    "
   ]
  },
  {
   "cell_type": "code",
   "execution_count": 296,
   "metadata": {},
   "outputs": [],
   "source": [
    "my_car = (\"BMW\", 2000, '2019')\n",
    "my_car2 = (\"Toyota\", 3000, '2018')\n",
    "my_car3 = (\"Hyundai\", 3000, '2018')\n",
    "my_car4 = (\"Benz\", 3000, '2018')\n",
    "my_car5 = (\"Audi\", 3000, '2018')"
   ]
  },
  {
   "cell_type": "code",
   "execution_count": 297,
   "metadata": {},
   "outputs": [
    {
     "name": "stdout",
     "output_type": "stream",
     "text": [
      "{}\n"
     ]
    }
   ],
   "source": [
    "print(Car.year_dict)"
   ]
  },
  {
   "cell_type": "code",
   "execution_count": 298,
   "metadata": {},
   "outputs": [
    {
     "data": {
      "text/plain": [
       "[]"
      ]
     },
     "execution_count": 298,
     "metadata": {},
     "output_type": "execute_result"
    }
   ],
   "source": [
    "Car.get_cars_by_year(\"2019\")"
   ]
  },
  {
   "cell_type": "code",
   "execution_count": 299,
   "metadata": {},
   "outputs": [
    {
     "ename": "NameError",
     "evalue": "name 'car_2019' is not defined",
     "output_type": "error",
     "traceback": [
      "\u001b[1;31m---------------------------------------------------------------------------\u001b[0m",
      "\u001b[1;31mNameError\u001b[0m                                 Traceback (most recent call last)",
      "\u001b[1;32m<ipython-input-299-4afb18a2320a>\u001b[0m in \u001b[0;36m<module>\u001b[1;34m\u001b[0m\n\u001b[1;32m----> 1\u001b[1;33m \u001b[1;32mfor\u001b[0m \u001b[0mcar\u001b[0m \u001b[1;32min\u001b[0m \u001b[0mcar_2019\u001b[0m\u001b[1;33m:\u001b[0m\u001b[1;33m\u001b[0m\u001b[1;33m\u001b[0m\u001b[0m\n\u001b[0m\u001b[0;32m      2\u001b[0m     \u001b[0msize\u001b[0m \u001b[1;33m=\u001b[0m \u001b[0mcar\u001b[0m\u001b[1;33m.\u001b[0m\u001b[0mget_size\u001b[0m\u001b[1;33m(\u001b[0m\u001b[1;33m)\u001b[0m\u001b[1;33m\u001b[0m\u001b[1;33m\u001b[0m\u001b[0m\n",
      "\u001b[1;31mNameError\u001b[0m: name 'car_2019' is not defined"
     ]
    }
   ],
   "source": [
    "for car in car_2019:\n",
    "    size = car.get_size()"
   ]
  },
  {
   "cell_type": "code",
   "execution_count": 300,
   "metadata": {},
   "outputs": [
    {
     "ename": "NameError",
     "evalue": "name 'car_2019' is not defined",
     "output_type": "error",
     "traceback": [
      "\u001b[1;31m---------------------------------------------------------------------------\u001b[0m",
      "\u001b[1;31mNameError\u001b[0m                                 Traceback (most recent call last)",
      "\u001b[1;32m<ipython-input-300-692f3521bd08>\u001b[0m in \u001b[0;36m<module>\u001b[1;34m\u001b[0m\n\u001b[1;32m----> 1\u001b[1;33m \u001b[1;32mfor\u001b[0m \u001b[0midx\u001b[0m\u001b[1;33m,\u001b[0m \u001b[0mcar\u001b[0m \u001b[1;32min\u001b[0m \u001b[0menumerate\u001b[0m\u001b[1;33m(\u001b[0m\u001b[0mcar_2019\u001b[0m\u001b[1;33m)\u001b[0m\u001b[1;33m:\u001b[0m\u001b[1;33m\u001b[0m\u001b[1;33m\u001b[0m\u001b[0m\n\u001b[0m\u001b[0;32m      2\u001b[0m     \u001b[0mnew_name\u001b[0m \u001b[1;33m=\u001b[0m \u001b[1;34m'2019_%s'\u001b[0m \u001b[1;33m%\u001b[0m \u001b[0mdix\u001b[0m\u001b[1;33m\u001b[0m\u001b[1;33m\u001b[0m\u001b[0m\n\u001b[0;32m      3\u001b[0m     \u001b[0mcar\u001b[0m\u001b[1;33m.\u001b[0m\u001b[0mchange_name\u001b[0m\u001b[1;33m(\u001b[0m\u001b[0mnew_name\u001b[0m\u001b[1;33m)\u001b[0m\u001b[1;33m\u001b[0m\u001b[1;33m\u001b[0m\u001b[0m\n",
      "\u001b[1;31mNameError\u001b[0m: name 'car_2019' is not defined"
     ]
    }
   ],
   "source": [
    "for idx, car in enumerate(car_2019):\n",
    "    new_name = '2019_%s' % dix\n",
    "    car.change_name(new_name)"
   ]
  },
  {
   "cell_type": "code",
   "execution_count": null,
   "metadata": {},
   "outputs": [],
   "source": [
    " "
   ]
  },
  {
   "cell_type": "markdown",
   "metadata": {},
   "source": [
    "### 20190812 보강"
   ]
  },
  {
   "cell_type": "code",
   "execution_count": 4,
   "metadata": {},
   "outputs": [
    {
     "name": "stdout",
     "output_type": "stream",
     "text": [
      "date: 2016.09.12\n",
      "date: today\n"
     ]
    }
   ],
   "source": [
    "class Date:\n",
    "    \n",
    "    word = 'date: '\n",
    "    \n",
    "    def __init__(self, date):\n",
    "        self.date = self.word + date\n",
    "        \n",
    "    @staticmethod\n",
    "    def now():\n",
    "        return Date('today')\n",
    "    \n",
    "    def show(self):\n",
    "        print(self.date)\n",
    "        \n",
    "a = Date('2016.09.12')\n",
    "a.show()\n",
    "b = Date.now()\n",
    "b.show()\n"
   ]
  },
  {
   "cell_type": "code",
   "execution_count": null,
   "metadata": {},
   "outputs": [],
   "source": []
  }
 ],
 "metadata": {
  "kernelspec": {
   "display_name": "Python 3",
   "language": "python",
   "name": "python3"
  },
  "language_info": {
   "codemirror_mode": {
    "name": "ipython",
    "version": 3
   },
   "file_extension": ".py",
   "mimetype": "text/x-python",
   "name": "python",
   "nbconvert_exporter": "python",
   "pygments_lexer": "ipython3",
   "version": "3.7.3"
  }
 },
 "nbformat": 4,
 "nbformat_minor": 2
}
