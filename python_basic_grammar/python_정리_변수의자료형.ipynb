{
 "cells": [
  {
   "cell_type": "markdown",
   "metadata": {},
   "source": [
    "# 변수(Variable)"
   ]
  },
  {
   "cell_type": "markdown",
   "metadata": {},
   "source": [
    "## 숫자의 자료형\n",
    "### Intenger: 정수형"
   ]
  },
  {
   "cell_type": "code",
   "execution_count": 2,
   "metadata": {},
   "outputs": [
    {
     "name": "stdout",
     "output_type": "stream",
     "text": [
      "2\n",
      "<class 'int'>\n"
     ]
    }
   ],
   "source": [
    "# 변수선언\n",
    "# 변수에는 기본적으로 소문자와 대문자를 구분한다.\n",
    "# 또한, python에서 사용되는 연산자, 기본 함수값들은 사용이 불가능하다. \n",
    "# _ 사용은 가능하다.\n",
    "a = 2 \n",
    "print(a)\n",
    "print(type(a))"
   ]
  },
  {
   "cell_type": "markdown",
   "metadata": {},
   "source": [
    "### Float - 실수형"
   ]
  },
  {
   "cell_type": "code",
   "execution_count": 3,
   "metadata": {},
   "outputs": [
    {
     "name": "stdout",
     "output_type": "stream",
     "text": [
      "2.0\n",
      "<class 'float'>\n"
     ]
    }
   ],
   "source": [
    "# 변수 재선언\n",
    "a = 2.0 # 이 순간, 윗 코드에서 선언한 a=2 는 사라지고 a=2.0이라는 새로운 변수가 선언된다. \n",
    "print(a)\n",
    "print(type(a))"
   ]
  },
  {
   "cell_type": "markdown",
   "metadata": {},
   "source": [
    "### 숫자의 연산 - 정수의 연산"
   ]
  },
  {
   "cell_type": "code",
   "execution_count": 5,
   "metadata": {},
   "outputs": [
    {
     "name": "stdout",
     "output_type": "stream",
     "text": [
      "5\n",
      "9\n",
      "1.5\n",
      "1\n",
      "1\n"
     ]
    }
   ],
   "source": [
    "# 정수의 연산은 기본적으로 space, 즉 공백에 영향을 받지않는다.\n",
    "# 따라서 a+b 와 a + b 는 동일하다.\n",
    "# 연산자로는 +,-,*,/,**,//,% 가 존재한다.\n",
    "# **(제곱)은 곱하기보다 우선된다.\n",
    "# 나머지를 구하는 %는 기본적으로 홀수,짝수, 공배수등을 계산하기 위해 활용된다.\n",
    "a = 3\n",
    "b = 2\n",
    "\n",
    "print(a+b)\n",
    "print(a**b)\n",
    "print(a/b)\n",
    "print(a//b)\n",
    "print(a%b)\n",
    "\n",
    "# 5\n",
    "# 9\n",
    "# 1.5\n",
    "# 1\n",
    "# 1"
   ]
  },
  {
   "cell_type": "markdown",
   "metadata": {},
   "source": [
    "### 숫자의 연산 - 실수의 연산"
   ]
  },
  {
   "cell_type": "code",
   "execution_count": 1,
   "metadata": {
    "scrolled": false
   },
   "outputs": [
    {
     "name": "stdout",
     "output_type": "stream",
     "text": [
      "5.0\n",
      "<class 'float'>\n"
     ]
    }
   ],
   "source": [
    "# 정수와 실수의 계산은, '묵시적형변환'이 일어나고, 실수의 계산으로 변경된다.\n",
    "# 순서는 형변환 > 계산의 순서로 진행된다. \n",
    "a = 3\n",
    "b = 2.0\n",
    "print(a+b)\n",
    "print(type(a+b))"
   ]
  },
  {
   "cell_type": "markdown",
   "metadata": {},
   "source": [
    "### 형변환 - Cast (type change)"
   ]
  },
  {
   "cell_type": "code",
   "execution_count": 2,
   "metadata": {},
   "outputs": [
    {
     "name": "stdout",
     "output_type": "stream",
     "text": [
      "<class 'int'>\n",
      "<class 'float'>\n"
     ]
    }
   ],
   "source": [
    "a = 3\n",
    "b = 2.0\n",
    "print(type(a))\n",
    "print(type(b))"
   ]
  },
  {
   "cell_type": "markdown",
   "metadata": {},
   "source": [
    "#### 명시적 형변환"
   ]
  },
  {
   "cell_type": "code",
   "execution_count": 3,
   "metadata": {},
   "outputs": [
    {
     "name": "stdout",
     "output_type": "stream",
     "text": [
      "3.0\n",
      "2\n"
     ]
    }
   ],
   "source": [
    "# a를 float형으로,\n",
    "a = float(a)\n",
    "\n",
    "# b를 int형으로 변환될때, 뒤의 소수점은 그냥 사라진다.\n",
    "# 이 사라진 소수점은 후에 다시 float형으로 바꿔도 돌아오지 않는다.\n",
    "b = int(b)\n",
    "\n",
    "print(a)\n",
    "print(b)"
   ]
  },
  {
   "cell_type": "code",
   "execution_count": 3,
   "metadata": {},
   "outputs": [
    {
     "name": "stdout",
     "output_type": "stream",
     "text": [
      "3.0\n",
      "2\n"
     ]
    }
   ],
   "source": []
  },
  {
   "cell_type": "code",
   "execution_count": 36,
   "metadata": {},
   "outputs": [
    {
     "data": {
      "text/plain": [
       "3.0"
      ]
     },
     "execution_count": 36,
     "metadata": {},
     "output_type": "execute_result"
    }
   ],
   "source": [
    "b = float(b)\n",
    "b"
   ]
  },
  {
   "cell_type": "markdown",
   "metadata": {},
   "source": [
    "#### 연습문제 1\n",
    "a = 7, b = 3.0 로 초기화 하고 a를 b로 나누었을 때 몫과 나머지를 각각 c와 d 라는 변수에 초기화한 후 출력하라.\n",
    "\n",
    "그리고 e라는 변수에 a의 b제곱을 초기화하고 출력하라."
   ]
  },
  {
   "cell_type": "code",
   "execution_count": 10,
   "metadata": {
    "scrolled": true
   },
   "outputs": [
    {
     "name": "stdout",
     "output_type": "stream",
     "text": [
      "2.0\n",
      "1.0\n",
      "343.0\n"
     ]
    }
   ],
   "source": [
    "# 변수선언\n",
    "a = 7\n",
    "b = 3.0\n",
    "\n",
    "# 계산시작이 선언되는 순간, 형변환이 발생하고, 계산이 진행된다.\n",
    "c = a//b\n",
    "d = a%b\n",
    "print(c)\n",
    "print(d)\n",
    "\n",
    "# 그리고\n",
    "e = a**b\n",
    "print(e)"
   ]
  },
  {
   "cell_type": "markdown",
   "metadata": {},
   "source": [
    "#### 연습문제. 2\n",
    "a=\"90:30:80\"이고 :을 기준으로 각각 수학점수, 영어점수, 과학점수이다.  \n",
    "**문자열 인덱싱**을 이용해 각 점수를 각각 math, english, science 변수에 저장하고,  \n",
    "average 란 변수에 평균값을 저장하고 출력하시오."
   ]
  },
  {
   "cell_type": "code",
   "execution_count": 83,
   "metadata": {},
   "outputs": [
    {
     "name": "stdout",
     "output_type": "stream",
     "text": [
      "66\n"
     ]
    }
   ],
   "source": [
    "a = \"90:30:80\"\n",
    "\n",
    "math = a[:2]\n",
    "english = a[3:5]\n",
    "science = a[6:]\n",
    "# print(math)\n",
    "# print(english)\n",
    "# print(science)\n",
    "# print(type(math)) # type이 string인것을 확인한다. 명시적 형변환을 통해 형변환 시작\n",
    "math = float(math)\n",
    "english = float(english)\n",
    "science = float(science)\n",
    "\n",
    "average = (math+english+science) / 3\n",
    "average = int(average)\n",
    "print(average)"
   ]
  },
  {
   "cell_type": "markdown",
   "metadata": {},
   "source": [
    "## Bool 자료형 (True&False)"
   ]
  },
  {
   "cell_type": "code",
   "execution_count": 40,
   "metadata": {},
   "outputs": [
    {
     "name": "stdout",
     "output_type": "stream",
     "text": [
      "True\n",
      "<class 'bool'>\n",
      "False\n",
      "<class 'bool'>\n"
     ]
    }
   ],
   "source": [
    "# Boolean 자료형은 기본적으로 if문과 while문과 같은 조건문에서 자주 사용된다. \n",
    "# True, False 는 그 자체로 이미 의미가 내장되어 있기 때문에, 변수로 사용할 수 없다. \n",
    "a = True\n",
    "b = False\n",
    "print(a)\n",
    "print(type(a))\n",
    "print(b)\n",
    "print(type(b))"
   ]
  },
  {
   "cell_type": "code",
   "execution_count": 42,
   "metadata": {},
   "outputs": [
    {
     "name": "stdout",
     "output_type": "stream",
     "text": [
      "False\n",
      "False\n",
      "False\n"
     ]
    }
   ],
   "source": [
    "# Boolean에서 어느 때 False가 출력되는가?\n",
    "# 1. 숫자자료형은 값이 0일때 False가 출력된다.\n",
    "a = 0\n",
    "print(bool(a))\n",
    "\n",
    "# 2. 리스트, 튜플, 딕셔너리, 집합과 같은 시퀀스 자료형은 안에 요소가 없을 때 False가 출력된다.\n",
    "a = []\n",
    "b = {}\n",
    "print(bool(a))\n",
    "print(bool(b))"
   ]
  },
  {
   "cell_type": "markdown",
   "metadata": {},
   "source": [
    "## 문자열 자료형\n",
    "### String"
   ]
  },
  {
   "cell_type": "code",
   "execution_count": 43,
   "metadata": {},
   "outputs": [
    {
     "name": "stdout",
     "output_type": "stream",
     "text": [
      "나는 생각한다. 고로 존재한다.\n",
      "<class 'str'>\n"
     ]
    }
   ],
   "source": [
    "# quote 는 인용문이라는 뜻을 가지고 있다.\n",
    "quote = \"나는 생각한다. 고로 존재한다.\"\n",
    "print(quote)\n",
    "print(type(quote))"
   ]
  },
  {
   "cell_type": "code",
   "execution_count": 44,
   "metadata": {},
   "outputs": [],
   "source": [
    "introduce = \"\"\"데카르트는 1596년 3월 31일 투렌 지방(Touraine)의 투르 인근에 있는 소도시 라에\n",
    "(La Haye, 현재는 그의 이름을 따서 데카르트 시로 개명함[1])의 법관 귀족 가문에서 태어났다. \n",
    "\n",
    "그의 아버지는 브르타뉴 지역 렌(Renne)시의 시의원이었으며, 어머니는 그가 태어난 지 14달이 못 되어 세상을 떠났다. \n",
    "이후 그는 외할머니 밑에서 자랐고, 어린 시절 몸이 무척 허약했다고 한다. \n",
    "1606년 그는 예수회가 운영하는 라 플레쉬 콜레주(Collège la Flèche)에 입학하여 1614년까지 8년간에 걸쳐 철저하게 중세식 그리고 인본주의 교육을 받았다. \n",
    "5년간 라틴어, 수사학, 고전 작가 수업을 받았고 3년간 변증론에서 비롯하여 자연철학, 형이상학 그리고 윤리학을 포괄하는 철학 수업을 받았다.\n",
    "그가 이 시기에 받은 교육은 후에 그의 저서 여기저기에 흔적을 남기게 되는데 특히 《방법서설》에 많은 영향을 끼쳤다. \n",
    "라 플레쉬를 졸업한 후 푸아티에(Poitiers) 대학 법학과에 입학해 수학·자연 과학·법률학·스콜라 철학 등을 배우고, \n",
    "수학만이 명증적인 지식이라고 생각하였다. 1616년에 리상스(Licence)를 취득한다. \n",
    "이후 그는 '세상이라는 커다란 책'으로부터 실질적인 지식을 얻고자 학교 밖으로 나갔고, 다시는 제도권 교육으로 돌아오지 않았다.\n",
    "졸업 후 지원병으로 입대하여 네덜란드에 갔으며, 30년 전쟁이 일어나자 독일에 출정하였다. \n",
    "1619년 네덜란드를 여행하면서 첫 작품인 짧은 《음악 개론》(Compendium Musicae)을 썼다.\n",
    "\"\"\""
   ]
  },
  {
   "cell_type": "code",
   "execution_count": 46,
   "metadata": {},
   "outputs": [],
   "source": [
    "# print(introduce)"
   ]
  },
  {
   "cell_type": "markdown",
   "metadata": {},
   "source": [
    "### 문자열 연산"
   ]
  },
  {
   "cell_type": "code",
   "execution_count": 48,
   "metadata": {},
   "outputs": [],
   "source": [
    "# 문자열 연산에는 +와 *가 있다.\n",
    "# +와 * 모두 공백없이 정확하게 달라붙어 출력된다.\n",
    "a = 'apple'\n",
    "b = 'delicious'"
   ]
  },
  {
   "cell_type": "code",
   "execution_count": 50,
   "metadata": {},
   "outputs": [
    {
     "name": "stdout",
     "output_type": "stream",
     "text": [
      "appledelicious\n",
      "appleappleapple\n"
     ]
    }
   ],
   "source": [
    "print(a+b)\n",
    "print(a*3)"
   ]
  },
  {
   "cell_type": "markdown",
   "metadata": {},
   "source": [
    "### 이스케이프 코드\n",
    "\n",
    "- **\\n:  개행**\n",
    "- **\\t:  탭**\n",
    "- **\\\\\\\\:  슬래쉬**\n",
    "- **\\\\':  작은 따옴표**\n",
    "- **\\\\\":  큰 따옴표**\n"
   ]
  },
  {
   "cell_type": "code",
   "execution_count": 4,
   "metadata": {},
   "outputs": [
    {
     "name": "stdout",
     "output_type": "stream",
     "text": [
      "치킨 \n",
      "먹을래.\n"
     ]
    }
   ],
   "source": [
    "# enter의 역할을 하는 \\n\n",
    "a = \"치킨 \\n먹을래.\"\n",
    "print(a)"
   ]
  },
  {
   "cell_type": "code",
   "execution_count": 5,
   "metadata": {},
   "outputs": [
    {
     "name": "stdout",
     "output_type": "stream",
     "text": [
      "치킨 \t먹을래.\n"
     ]
    }
   ],
   "source": [
    "# 4칸을 띄어쓰는 \\t\n",
    "a = \"치킨 \\t먹을래.\"\n",
    "print(a)"
   ]
  },
  {
   "cell_type": "code",
   "execution_count": 6,
   "metadata": {},
   "outputs": [
    {
     "name": "stdout",
     "output_type": "stream",
     "text": [
      "치킨 \\먹을래.\n"
     ]
    }
   ],
   "source": [
    "# \\\\을 넣고 싶을때 사용하는 \\\\\n",
    "a = \"치킨 \\\\먹을래.\"\n",
    "print(a)"
   ]
  },
  {
   "cell_type": "code",
   "execution_count": 7,
   "metadata": {},
   "outputs": [
    {
     "name": "stdout",
     "output_type": "stream",
     "text": [
      "치킨 '진짜' 먹을래.\n"
     ]
    }
   ],
   "source": [
    "# 문자열은 겉에 ''와 \"\"를 씌우기 때문에, 안에서의 혼동을 방지하기 위한 \\',\\\"\n",
    "a = \"치킨 \\'진짜\\' 먹을래.\"\n",
    "print(a)"
   ]
  },
  {
   "cell_type": "code",
   "execution_count": 8,
   "metadata": {},
   "outputs": [
    {
     "name": "stdout",
     "output_type": "stream",
     "text": [
      "그가 말했다. \"치킨 먹을래.\"\n"
     ]
    }
   ],
   "source": [
    "a = \"그가 말했다. \\\"치킨 먹을래.\\\"\"\n",
    "print(a)"
   ]
  },
  {
   "cell_type": "markdown",
   "metadata": {},
   "source": [
    "## 문자열 관련 함수"
   ]
  },
  {
   "cell_type": "markdown",
   "metadata": {},
   "source": [
    "### 문자열 길이: len()"
   ]
  },
  {
   "cell_type": "code",
   "execution_count": 59,
   "metadata": {},
   "outputs": [
    {
     "data": {
      "text/plain": [
       "20"
      ]
     },
     "execution_count": 59,
     "metadata": {},
     "output_type": "execute_result"
    }
   ],
   "source": [
    "quote = \"나는 생각한다. 고로 나는 존재한다.\"\n",
    "# 공백을 포함한 모든 글자를 셉니다.\n",
    "len(quote)"
   ]
  },
  {
   "cell_type": "markdown",
   "metadata": {},
   "source": [
    "### 문자열 인덱싱"
   ]
  },
  {
   "cell_type": "code",
   "execution_count": 60,
   "metadata": {},
   "outputs": [
    {
     "name": "stdout",
     "output_type": "stream",
     "text": [
      "는\n",
      "한\n"
     ]
    }
   ],
   "source": [
    "# 기본적으로 인덱스는 0부터 시작하기 때문에, 주의해야합니다.\n",
    "quote = \"나는 생각한다. 고로 나는 존재한다.\"\n",
    "print(quote[1])\n",
    "print(quote[5])"
   ]
  },
  {
   "cell_type": "code",
   "execution_count": 62,
   "metadata": {},
   "outputs": [
    {
     "name": "stdout",
     "output_type": "stream",
     "text": [
      "나는\n",
      "나는 생각한다. 고로 나는 존재한다.\n"
     ]
    }
   ],
   "source": [
    "# 범위로 자를 수도 있는데, 이때의 범위는 ~이상 ~미만이다. \n",
    "# 앞과 뒤에 아무런 값을 넣지않으면, 각각 처음부터~ 끝까지가 된다.\n",
    "quote = \"나는 생각한다. 고로 나는 존재한다.\"\n",
    "print(quote[:2])\n",
    "print(quote[:])"
   ]
  },
  {
   "cell_type": "code",
   "execution_count": 64,
   "metadata": {},
   "outputs": [
    {
     "name": "stdout",
     "output_type": "stream",
     "text": [
      "나 각다 로나 재다\n"
     ]
    }
   ],
   "source": [
    "# 범위로 자를 수도 있는데, 단계를 건너뛰면서도 가능하다.\n",
    "# 역시 마찬가지로 ~이상 ~미만의 범위는 유지된다.\n",
    "quote = \"나는 생각한다. 고로 나는 존재한다.\"\n",
    "print(quote[::2])"
   ]
  },
  {
   "cell_type": "markdown",
   "metadata": {},
   "source": [
    "### 연습문제\n",
    "a=\"20190505chicken19000\"는 잘못 쓰여진 변수이다.  \n",
    "처음부터 **2019는 year이라는 변수**에, 그 다음 **0505를 day라는 변수**에,  \n",
    "**chicken을 menu라는 변수**에, **19000을 money라는 변수에 각각 저장**하시오.   \n",
    "**(반드시 인덱싱을 사용하시요.)**"
   ]
  },
  {
   "cell_type": "code",
   "execution_count": 72,
   "metadata": {},
   "outputs": [
    {
     "name": "stdout",
     "output_type": "stream",
     "text": [
      "2019 0505 chicken 19000\n"
     ]
    }
   ],
   "source": [
    "a=\"20190505chicken19000\"\n",
    "\n",
    "year = a[:4]\n",
    "day = a[4:8]\n",
    "menu = a[8:15]\n",
    "money = a[15:]\n",
    "\n",
    "print(year, day, menu, money)"
   ]
  },
  {
   "cell_type": "markdown",
   "metadata": {},
   "source": [
    "### 문자열 포맷팅\n",
    "#### 서식문자 이용하기"
   ]
  },
  {
   "cell_type": "code",
   "execution_count": 85,
   "metadata": {},
   "outputs": [
    {
     "data": {
      "text/plain": [
       "'안녕하세요. 나는 강정호 입니다.'"
      ]
     },
     "execution_count": 85,
     "metadata": {},
     "output_type": "execute_result"
    }
   ],
   "source": [
    "name = \"강정호\"\n",
    "a = \"안녕하세요. 나는 %s 입니다.\" % name # 값을 치환한다.\n",
    "a"
   ]
  },
  {
   "cell_type": "code",
   "execution_count": 88,
   "metadata": {},
   "outputs": [
    {
     "data": {
      "text/plain": [
       "'안녕하세요. 나는   강정호 입니다.'"
      ]
     },
     "execution_count": 88,
     "metadata": {},
     "output_type": "execute_result"
    }
   ],
   "source": [
    "name = \"강정호\"\n",
    "a = \"안녕하세요. 나는 %5s 입니다.\" % name # 5칸만큼 오른쪽으로 밀어낸다.\n",
    "a"
   ]
  },
  {
   "cell_type": "code",
   "execution_count": 90,
   "metadata": {},
   "outputs": [
    {
     "data": {
      "text/plain": [
       "'안녕하세요. 나는 강정호   입니다.'"
      ]
     },
     "execution_count": 90,
     "metadata": {},
     "output_type": "execute_result"
    }
   ],
   "source": [
    "name = \"강정호\"\n",
    "a = \"안녕하세요. 나는 %-5s 입니다.\" % name # 5칸만큼 왼쪽으로 밀어낸다.\n",
    "a"
   ]
  },
  {
   "cell_type": "markdown",
   "metadata": {},
   "source": [
    "#### format 함수 이용하기"
   ]
  },
  {
   "cell_type": "code",
   "execution_count": 96,
   "metadata": {},
   "outputs": [
    {
     "name": "stdout",
     "output_type": "stream",
     "text": [
      "안녕하세요. 나는 강정호 입니다. 저는 한양대학교를 졸업했습니다.\n"
     ]
    }
   ],
   "source": [
    "# format 함수는 인덱스를 지정함으로써, 재사용성을 높일 수 있다. 앞에 있는 것을 뒤에서 또 언급이 가능하게 해주기 때문이다.\n",
    "# 또한, 설정한 변수를 변수 그 자체로 format에 사용할 수도 있다.\n",
    "name = \"강정호\"\n",
    "school = '한양대학교'\n",
    "\n",
    "\n",
    "a = \"안녕하세요. 나는 {0} 입니다. 저는 {1}를 졸업했습니다.\".format(name, school)\n",
    "print(a)"
   ]
  },
  {
   "cell_type": "code",
   "execution_count": 97,
   "metadata": {},
   "outputs": [
    {
     "name": "stdout",
     "output_type": "stream",
     "text": [
      "안녕하세요. 나는 강정호 입니다. 저는 한양대학교를 졸업했습니다. 제 취미는 음악감상 입니다.\n"
     ]
    }
   ],
   "source": [
    "name = \"강정호\"\n",
    "school = '한양대학교'\n",
    "hobby = '음악감상'\n",
    "\n",
    "a = \"안녕하세요. 나는 {0} 입니다. 저는 {1}를 졸업했습니다. 제 취미는 {hobby} 입니다.\".format(name, school, hobby=hobby)\n",
    "print(a)"
   ]
  },
  {
   "cell_type": "markdown",
   "metadata": {},
   "source": [
    "### f문자열 포매팅\n",
    "파이썬 3.6 버전부터는 f 문자열 포매팅 기능을 사용할 수 있다. 파이썬 3.6 미만 버전에서는 사용할 수 없는 기능이므로 주의해야 한다.  \n",
    "다음과 같이 문자열 앞에 f 접두사를 붙이면 f 문자열 포매팅 기능을 사용할 수 있다."
   ]
  },
  {
   "cell_type": "code",
   "execution_count": 102,
   "metadata": {},
   "outputs": [
    {
     "name": "stdout",
     "output_type": "stream",
     "text": [
      "이름: 강정호\n",
      "학교: 한양대학교\n",
      "취미: 음악감상\n"
     ]
    }
   ],
   "source": [
    "# {}를 써서 사용한다.\n",
    "name = \"강정호\"\n",
    "school = '한양대학교'\n",
    "hobby = '음악감상'\n",
    "\n",
    "a = f\"이름: {name}\\n학교: {school}\\n취미: {hobby}\"\n",
    "print(a)"
   ]
  },
  {
   "cell_type": "markdown",
   "metadata": {},
   "source": [
    "### 문자열 함수"
   ]
  },
  {
   "cell_type": "markdown",
   "metadata": {},
   "source": [
    "#### count"
   ]
  },
  {
   "cell_type": "code",
   "execution_count": 113,
   "metadata": {},
   "outputs": [
    {
     "data": {
      "text/plain": [
       "2"
      ]
     },
     "execution_count": 113,
     "metadata": {},
     "output_type": "execute_result"
    }
   ],
   "source": [
    "# count 함수는 반드시 하나의 값을 필요로 한다. \n",
    "# str 안에 없는 값은 0을 출력한다.\n",
    "# 대소문자를 구분한다.\n",
    "a = \"Impossible is impossible\"\n",
    "a.count('p')"
   ]
  },
  {
   "cell_type": "markdown",
   "metadata": {},
   "source": [
    "#### index"
   ]
  },
  {
   "cell_type": "code",
   "execution_count": 117,
   "metadata": {},
   "outputs": [
    {
     "data": {
      "text/plain": [
       "6"
      ]
     },
     "execution_count": 117,
     "metadata": {},
     "output_type": "execute_result"
    }
   ],
   "source": [
    "# 인덱스로 접근할때는, 가장 먼저 나온 index 값을 반환한다.\n",
    "a.index('i')"
   ]
  },
  {
   "cell_type": "code",
   "execution_count": 118,
   "metadata": {},
   "outputs": [
    {
     "ename": "ValueError",
     "evalue": "substring not found",
     "output_type": "error",
     "traceback": [
      "\u001b[1;31m---------------------------------------------------------------------------\u001b[0m",
      "\u001b[1;31mValueError\u001b[0m                                Traceback (most recent call last)",
      "\u001b[1;32m<ipython-input-118-317214d0951f>\u001b[0m in \u001b[0;36m<module>\u001b[1;34m\u001b[0m\n\u001b[0;32m      1\u001b[0m \u001b[1;31m# 만약에 str안에 없는 값을 입력한다면, 이번에는 오류를 출력하게 된다.\u001b[0m\u001b[1;33m\u001b[0m\u001b[1;33m\u001b[0m\u001b[1;33m\u001b[0m\u001b[0m\n\u001b[1;32m----> 2\u001b[1;33m \u001b[0ma\u001b[0m\u001b[1;33m.\u001b[0m\u001b[0mindex\u001b[0m\u001b[1;33m(\u001b[0m\u001b[1;34m'z'\u001b[0m\u001b[1;33m)\u001b[0m\u001b[1;33m\u001b[0m\u001b[1;33m\u001b[0m\u001b[0m\n\u001b[0m",
      "\u001b[1;31mValueError\u001b[0m: substring not found"
     ]
    }
   ],
   "source": [
    "# 만약에 str안에 없는 값을 입력한다면, 이번에는 오류를 출력하게 된다.\n",
    "a.index('z')"
   ]
  },
  {
   "cell_type": "markdown",
   "metadata": {},
   "source": [
    "#### upper & lower"
   ]
  },
  {
   "cell_type": "code",
   "execution_count": 126,
   "metadata": {},
   "outputs": [
    {
     "name": "stdout",
     "output_type": "stream",
     "text": [
      "IMPOSSIBLE IS IMPOSSIBLE\n",
      "impossible is impossible\n"
     ]
    }
   ],
   "source": [
    "# upper는 대문자로, lower는 소문자로 바꾸어준다.\n",
    "print(a.upper())\n",
    "print(a.lower())\n",
    "# upper와 lower는 안에 특정한 요소를 집어넣을 수 없다.\n",
    "# print(a.upper('i')) 는 작동하지 않는다."
   ]
  },
  {
   "cell_type": "markdown",
   "metadata": {},
   "source": [
    "#### strip"
   ]
  },
  {
   "cell_type": "code",
   "execution_count": 156,
   "metadata": {},
   "outputs": [
    {
     "name": "stdout",
     "output_type": "stream",
     "text": [
      "            Impossible is impossible              \n",
      "50\n",
      "possible is impossible\n",
      "22\n"
     ]
    }
   ],
   "source": [
    "# strip은 양쪽의 특수한 문자나 공백을 삭제하는데에 사용된다.\n",
    "# lstrip은 왼쪽만, rstrip은 오른쪽을 삭제한다.\n",
    "# 문자를 삭제하는 방법은, 삭제하고 싶은 문자를 입력한 후, 한칸의 공백을 주면 된다.\n",
    "# 연속으로도 가능하다.\n",
    "a = \"            Impossible is impossible              \"\n",
    "b = a.lstrip('Im ').rstrip()\n",
    "print(a)\n",
    "print(len(a))\n",
    "print(b)\n",
    "print(len(b))"
   ]
  },
  {
   "cell_type": "markdown",
   "metadata": {},
   "source": [
    "#### replace"
   ]
  },
  {
   "cell_type": "code",
   "execution_count": 157,
   "metadata": {},
   "outputs": [
    {
     "name": "stdout",
     "output_type": "stream",
     "text": [
      "사랑은 돌아오는거야.\n"
     ]
    }
   ],
   "source": [
    "a = \"사랑은 돌아오는거야.\"\n",
    "print(a)"
   ]
  },
  {
   "cell_type": "code",
   "execution_count": 158,
   "metadata": {},
   "outputs": [
    {
     "name": "stdout",
     "output_type": "stream",
     "text": [
      "우정은 돌아오는거야.\n"
     ]
    }
   ],
   "source": [
    "b = a.replace(\"사랑\", \"우정\")\n",
    "print(b)"
   ]
  },
  {
   "cell_type": "markdown",
   "metadata": {},
   "source": [
    "#### split"
   ]
  },
  {
   "cell_type": "code",
   "execution_count": 159,
   "metadata": {},
   "outputs": [],
   "source": [
    "# split에서 중요한 것은, 분리가 된 값들이 요소들이 되어 리스트로 반환된다는 것이다.\n",
    "scores = \"10:20:50:80:88\"\n",
    "quotes = \"I am a boy. you are a girl.\""
   ]
  },
  {
   "cell_type": "code",
   "execution_count": 160,
   "metadata": {},
   "outputs": [
    {
     "name": "stdout",
     "output_type": "stream",
     "text": [
      "['10', '20', '50', '80', '88']\n",
      "<class 'list'>\n"
     ]
    }
   ],
   "source": [
    "# :를 기준으로 분리해낸다.\n",
    "score = scores.split(\":\")\n",
    "print(score)\n",
    "print(type(score))"
   ]
  },
  {
   "cell_type": "code",
   "execution_count": 162,
   "metadata": {},
   "outputs": [
    {
     "name": "stdout",
     "output_type": "stream",
     "text": [
      "['I', 'am', 'a', 'boy.', 'you', 'are', 'a', 'girl.']\n",
      "['I', 'am', 'a', 'boy.', 'you', 'are', 'a', 'girl.']\n",
      "True\n"
     ]
    }
   ],
   "source": [
    "# \" \" 로 공백을 주는 것은 ()을 입력한 값과 정확하게 일치한다.\n",
    "quote1 = quotes.split(\" \")\n",
    "quote2 = quotes.split()\n",
    "print(quote1)\n",
    "print(quote2)\n",
    "print(quote1==quote2)"
   ]
  },
  {
   "cell_type": "markdown",
   "metadata": {},
   "source": [
    "# 리스트"
   ]
  },
  {
   "cell_type": "code",
   "execution_count": 9,
   "metadata": {},
   "outputs": [
    {
     "name": "stdout",
     "output_type": "stream",
     "text": [
      "['apple', 'banana', 'grape', 'lemon', 'melon', 1]\n",
      "<class 'list'>\n",
      "6\n"
     ]
    }
   ],
   "source": [
    "# 리스트는 []로 정의된다.\n",
    "# 리스트에서만 쓸수 있는 함수들이 존재한다.\n",
    "# 리스트는 Index로 접근한다는 것을 명심해야합니다.\n",
    "fruits = ['apple', 'banana', 'grape', 'lemon', 'melon', 1]\n",
    "print(fruits)\n",
    "print(type(fruits))\n",
    "print(len(fruits))\n",
    "# len은 list안의 요소들의 개수를 세어준다."
   ]
  },
  {
   "cell_type": "markdown",
   "metadata": {},
   "source": [
    "### index로 접근하기"
   ]
  },
  {
   "cell_type": "code",
   "execution_count": 10,
   "metadata": {},
   "outputs": [
    {
     "name": "stdout",
     "output_type": "stream",
     "text": [
      "apple\n",
      "banana\n"
     ]
    }
   ],
   "source": [
    "print(fruits[0])\n",
    "print(fruits[1])\n",
    "# 나중에 사용하겠지만, crawling에서 BeautifulSoup에서 태그를 찾는 것은 \n",
    "# 리스트형이기 때문에, index를 사용하여 접근할 수 있다."
   ]
  },
  {
   "cell_type": "code",
   "execution_count": 12,
   "metadata": {
    "scrolled": true
   },
   "outputs": [
    {
     "name": "stdout",
     "output_type": "stream",
     "text": [
      "<class 'str'>\n",
      "<class 'int'>\n"
     ]
    }
   ],
   "source": [
    "print(type(fruits[3]))\n",
    "print(type(fruits[5]))"
   ]
  },
  {
   "cell_type": "code",
   "execution_count": 14,
   "metadata": {},
   "outputs": [
    {
     "name": "stdout",
     "output_type": "stream",
     "text": [
      "['apple', 'banana', 'grape']\n",
      "['apple', 'grape', 'melon']\n",
      "melon\n"
     ]
    }
   ],
   "source": [
    "# range와 마찬가지로, 범위를 지정할 수 도 있다.\n",
    "fruits = ['apple', 'banana', 'grape', 'lemon', 'melon', ]\n",
    "print(fruits[:3]) # 이상, 미만을 기억하자.\n",
    "print(fruits[::2]) # 두칸씩 뛸수도 있다.\n",
    "print(fruits[-1])"
   ]
  },
  {
   "cell_type": "markdown",
   "metadata": {},
   "source": [
    "### 중첩 리스트"
   ]
  },
  {
   "cell_type": "code",
   "execution_count": 15,
   "metadata": {},
   "outputs": [
    {
     "name": "stdout",
     "output_type": "stream",
     "text": [
      "[1, 2, 3, [1.0, 2.0, 3.0, ['a', 'b', 'c']]]\n"
     ]
    }
   ],
   "source": [
    "a = [1,2,3, [1.0, 2.0, 3.0, ['a','b','c']]]\n",
    "print(a)"
   ]
  },
  {
   "cell_type": "code",
   "execution_count": 19,
   "metadata": {},
   "outputs": [
    {
     "name": "stdout",
     "output_type": "stream",
     "text": [
      "[1.0, 2.0, 3.0, ['a', 'b', 'c']]\n",
      "a\n",
      "4\n"
     ]
    }
   ],
   "source": [
    "# 천천히 분석해봅시다. \n",
    "# a의 요소는 1, 2, 3, 그리고 리스트 입니다.\n",
    "# 따라서 3번째를 출력하면, [1.0, 2.0, 3.0, ['a','b','c']]가 나올것을 기대합니다.\n",
    "print(a[3])\n",
    "\n",
    "# 중첩리스트 역시 리스트이기 때문에, 인덱스를 통해 접근할 수 있습니다.\n",
    "# a의 3번째 요소의 3번째 요소의 0번째 요소는 'a'가 나올 것으로 기대합니다.\n",
    "print(a[3][3][0])\n",
    "\n",
    "# a의 요소의 개수는 몇개일까요? 당연히 4개입니다.\n",
    "print(len(a))\n",
    "\n",
    "# 어렵게 생각하지말고, 차근차근 앞에서부터 잘라나가면 금새 알 수 있는 원리입니다.\n"
   ]
  },
  {
   "cell_type": "markdown",
   "metadata": {},
   "source": [
    "### 리스트 연산"
   ]
  },
  {
   "cell_type": "code",
   "execution_count": 49,
   "metadata": {},
   "outputs": [],
   "source": [
    "a = [1, 2, 3]\n",
    "b = ['a', 'b', 'c']\n",
    "# 리스트 끼리는 연산이 가능합니다."
   ]
  },
  {
   "cell_type": "code",
   "execution_count": 50,
   "metadata": {},
   "outputs": [
    {
     "name": "stdout",
     "output_type": "stream",
     "text": [
      "[1, 2, 3, 'a', 'b', 'c']\n",
      "None\n",
      "[1, 2, 3, 'a', 'b', 'c']\n"
     ]
    }
   ],
   "source": [
    "# + 연산은 리스트를 뒤에 더해주는 것이기 때문에, extend와 그 원리가 같습니다.\n",
    "print(a+b)\n",
    "# print(a.extend(b)) # 그러나 연장하는 것 자체를 출력할 수는 없습니다. None값이 출력됩니다.\n",
    "c = a.extend(b) # 새롭게 변수를 저장해도, 마찬가지입니다.\n",
    "print(c)\n",
    "print(a)\n",
    "\n",
    "# extend 이후, a를 출력하는 것만 올바른 값을 가져옵니다."
   ]
  },
  {
   "cell_type": "code",
   "execution_count": 54,
   "metadata": {},
   "outputs": [
    {
     "name": "stdout",
     "output_type": "stream",
     "text": [
      "['a', 'b', 'c', 'a', 'b', 'c']\n"
     ]
    }
   ],
   "source": [
    "print(b*2) # *연산자 역시 올바르게 작동합니다."
   ]
  },
  {
   "cell_type": "markdown",
   "metadata": {},
   "source": [
    "### 리스트 값 수정"
   ]
  },
  {
   "cell_type": "code",
   "execution_count": 9,
   "metadata": {},
   "outputs": [
    {
     "name": "stdout",
     "output_type": "stream",
     "text": [
      "[1, 2, 3]\n"
     ]
    }
   ],
   "source": [
    "a = [1, 2, 3]\n",
    "print(a)"
   ]
  },
  {
   "cell_type": "code",
   "execution_count": 10,
   "metadata": {},
   "outputs": [
    {
     "name": "stdout",
     "output_type": "stream",
     "text": [
      "[1, 2, 10]\n"
     ]
    }
   ],
   "source": [
    "# 인덱스로 접근해봅시다.\n",
    "a[2] = 10\n",
    "print(a)"
   ]
  },
  {
   "cell_type": "code",
   "execution_count": 11,
   "metadata": {},
   "outputs": [
    {
     "name": "stdout",
     "output_type": "stream",
     "text": [
      "[1, 2]\n"
     ]
    }
   ],
   "source": [
    "# del도 사용이 가능합니다.\n",
    "del a[2]\n",
    "print(a)"
   ]
  },
  {
   "cell_type": "markdown",
   "metadata": {},
   "source": [
    "### 리스트 관련 함수\n",
    "리스트 관련 함수는 기본적으로 리스트가 선언된 변수뒤에 .함수이름() 으로 실행시킬 수 있습니다."
   ]
  },
  {
   "cell_type": "markdown",
   "metadata": {},
   "source": [
    "#### append"
   ]
  },
  {
   "cell_type": "code",
   "execution_count": 73,
   "metadata": {},
   "outputs": [
    {
     "name": "stdout",
     "output_type": "stream",
     "text": [
      "[1, 2, 3]\n"
     ]
    }
   ],
   "source": [
    "a = [1, 2, 3]\n",
    "print(a)"
   ]
  },
  {
   "cell_type": "code",
   "execution_count": 74,
   "metadata": {},
   "outputs": [
    {
     "data": {
      "text/plain": [
       "[1, 2, 3, 4]"
      ]
     },
     "execution_count": 74,
     "metadata": {},
     "output_type": "execute_result"
    }
   ],
   "source": [
    "# append 함수는 리스트의 뒤쪽에 추가하게 됩니다.\n",
    "a.append(4)\n",
    "a"
   ]
  },
  {
   "cell_type": "code",
   "execution_count": 75,
   "metadata": {},
   "outputs": [
    {
     "name": "stdout",
     "output_type": "stream",
     "text": [
      "[1, 2, 3, 4, '와! 너무재밌다!']\n"
     ]
    }
   ],
   "source": [
    "# 문자열 역시 추가가 가능합니다.\n",
    "a.append('와! 너무재밌다!')\n",
    "print(a)"
   ]
  },
  {
   "cell_type": "code",
   "execution_count": 77,
   "metadata": {},
   "outputs": [
    {
     "name": "stdout",
     "output_type": "stream",
     "text": [
      "[1, 2, 3, [4, 5, 6]]\n"
     ]
    }
   ],
   "source": [
    "# 리스트 추가도 가능할까요? 가능합니다.\n",
    "a = [1, 2, 3]\n",
    "a.append([4, 5, 6])\n",
    "print(a)"
   ]
  },
  {
   "cell_type": "code",
   "execution_count": 79,
   "metadata": {},
   "outputs": [
    {
     "name": "stdout",
     "output_type": "stream",
     "text": [
      "[1, 2, 3, 4, 5, 6]\n"
     ]
    }
   ],
   "source": [
    "# extend와의 차이가 뭘까요?\n",
    "# extend는 리스트를 언패킹하여, 요소로써 추가하게 됩니다. \n",
    "a = [1, 2, 3]\n",
    "a.extend([4,5,6])\n",
    "print(a)"
   ]
  },
  {
   "cell_type": "markdown",
   "metadata": {},
   "source": [
    "#### sort"
   ]
  },
  {
   "cell_type": "code",
   "execution_count": 80,
   "metadata": {},
   "outputs": [
    {
     "name": "stdout",
     "output_type": "stream",
     "text": [
      "[1, 3, 5, 2, 4]\n"
     ]
    }
   ],
   "source": [
    "a = [1, 3, 5, 2, 4]\n",
    "print(a)"
   ]
  },
  {
   "cell_type": "code",
   "execution_count": 81,
   "metadata": {},
   "outputs": [
    {
     "name": "stdout",
     "output_type": "stream",
     "text": [
      "[1, 2, 3, 4, 5]\n"
     ]
    }
   ],
   "source": [
    "a.sort() # 오름차순으로 정렬합니다.\n",
    "print(a)"
   ]
  },
  {
   "cell_type": "code",
   "execution_count": 82,
   "metadata": {},
   "outputs": [
    {
     "name": "stdout",
     "output_type": "stream",
     "text": [
      "[5, 4, 3, 2, 1]\n"
     ]
    }
   ],
   "source": [
    "a.sort(reverse=True)\n",
    "print(a)"
   ]
  },
  {
   "cell_type": "markdown",
   "metadata": {},
   "source": [
    "#### reverse"
   ]
  },
  {
   "cell_type": "code",
   "execution_count": 83,
   "metadata": {},
   "outputs": [],
   "source": [
    "a = [1, 3, 5, 2, 4]"
   ]
  },
  {
   "cell_type": "code",
   "execution_count": 84,
   "metadata": {},
   "outputs": [
    {
     "data": {
      "text/plain": [
       "[4, 2, 5, 3, 1]"
      ]
     },
     "execution_count": 84,
     "metadata": {},
     "output_type": "execute_result"
    }
   ],
   "source": [
    "a = [1, 3, 5, 2, 4]\n",
    "\n",
    "# sort 함수가 오름차순, 내림차순 정렬이였다면, reverse는 그런것과 상관없이 리스트의 순서 자체를 뒤집습니다.\n",
    "a.reverse()\n",
    "a"
   ]
  },
  {
   "cell_type": "code",
   "execution_count": 89,
   "metadata": {},
   "outputs": [
    {
     "ename": "TypeError",
     "evalue": "reverse() takes no keyword arguments",
     "output_type": "error",
     "traceback": [
      "\u001b[1;31m---------------------------------------------------------------------------\u001b[0m",
      "\u001b[1;31mTypeError\u001b[0m                                 Traceback (most recent call last)",
      "\u001b[1;32m<ipython-input-89-fa8c9d1c973a>\u001b[0m in \u001b[0;36m<module>\u001b[1;34m\u001b[0m\n\u001b[0;32m      1\u001b[0m \u001b[1;31m# reverse() 안에는 어떠한 argument도 넣을 수 없습니다.\u001b[0m\u001b[1;33m\u001b[0m\u001b[1;33m\u001b[0m\u001b[1;33m\u001b[0m\u001b[0m\n\u001b[1;32m----> 2\u001b[1;33m \u001b[0ma\u001b[0m\u001b[1;33m.\u001b[0m\u001b[0mreverse\u001b[0m\u001b[1;33m(\u001b[0m\u001b[0mreverse\u001b[0m\u001b[1;33m=\u001b[0m\u001b[1;32mTrue\u001b[0m\u001b[1;33m)\u001b[0m \u001b[1;31m# 오류발생\u001b[0m\u001b[1;33m\u001b[0m\u001b[1;33m\u001b[0m\u001b[0m\n\u001b[0m",
      "\u001b[1;31mTypeError\u001b[0m: reverse() takes no keyword arguments"
     ]
    }
   ],
   "source": [
    "# reverse() 안에는 어떠한 argument도 넣을 수 없습니다.\n",
    "a.reverse(reverse=True) # 오류발생"
   ]
  },
  {
   "cell_type": "markdown",
   "metadata": {},
   "source": [
    "#### index"
   ]
  },
  {
   "cell_type": "code",
   "execution_count": 90,
   "metadata": {},
   "outputs": [],
   "source": [
    "# index 함수는 그 요소가 몇번째 위치에 있는지 그 좌표를 알려줍니다.\n",
    "a = ['a', 'b', 'c', 'd']"
   ]
  },
  {
   "cell_type": "code",
   "execution_count": 92,
   "metadata": {},
   "outputs": [
    {
     "data": {
      "text/plain": [
       "3"
      ]
     },
     "execution_count": 92,
     "metadata": {},
     "output_type": "execute_result"
    }
   ],
   "source": [
    "a.index('d')\n",
    "# c가 나올 것을 기대합니다."
   ]
  },
  {
   "cell_type": "markdown",
   "metadata": {},
   "source": [
    "#### insert"
   ]
  },
  {
   "cell_type": "code",
   "execution_count": 12,
   "metadata": {},
   "outputs": [
    {
     "name": "stdout",
     "output_type": "stream",
     "text": [
      "[1, 2, 3, 4, 5]\n"
     ]
    }
   ],
   "source": [
    "# insert는 정확한 index의 좌표값에 정확한 값을 \"추가\"합니다.\n",
    "# 대체의 개념이 아닙니다. 그 좌표값에 어떠한 값을 추가하고, 나머지 값들은 뒤로 밀어냅니다.\n",
    "a = [1, 2, 3, 4, 5]\n",
    "print(a)"
   ]
  },
  {
   "cell_type": "code",
   "execution_count": 13,
   "metadata": {},
   "outputs": [
    {
     "name": "stdout",
     "output_type": "stream",
     "text": [
      "[10, 1, 2, 3, 4, 5]\n"
     ]
    }
   ],
   "source": [
    "# insert를 사용할때는 []를 사용할 필요가 없습니다.\n",
    "a.insert(0, 10)\n",
    "print(a)"
   ]
  },
  {
   "cell_type": "markdown",
   "metadata": {},
   "source": [
    "####  remove"
   ]
  },
  {
   "cell_type": "code",
   "execution_count": 102,
   "metadata": {},
   "outputs": [
    {
     "name": "stdout",
     "output_type": "stream",
     "text": [
      "[1, 1, 1, 2, 3, '지워줘', 4, 5, 1]\n"
     ]
    }
   ],
   "source": [
    "a = [1, 1, 1, 2, 3, '지워줘', 4, 5, 1]\n",
    "print(a)"
   ]
  },
  {
   "cell_type": "code",
   "execution_count": 103,
   "metadata": {},
   "outputs": [
    {
     "name": "stdout",
     "output_type": "stream",
     "text": [
      "[1, 1, 1, 2, 3, 4, 5, 1]\n"
     ]
    }
   ],
   "source": [
    "# remove는 정확한 단 하나의 요소값을 지워줍니다. \n",
    "a.remove('지워줘')\n",
    "print(a)"
   ]
  },
  {
   "cell_type": "code",
   "execution_count": 106,
   "metadata": {},
   "outputs": [
    {
     "name": "stdout",
     "output_type": "stream",
     "text": [
      "[1, 2, 3, 4, 5, 1]\n"
     ]
    }
   ],
   "source": [
    "# 반복적으로 지우는 것도 가능할까요? # 네 가능합니다. 실행한만큼 사라집니다.\n",
    "a.remove(1)\n",
    "print(a)"
   ]
  },
  {
   "cell_type": "markdown",
   "metadata": {},
   "source": [
    "#### pop"
   ]
  },
  {
   "cell_type": "code",
   "execution_count": 14,
   "metadata": {},
   "outputs": [
    {
     "name": "stdout",
     "output_type": "stream",
     "text": [
      "[1, 2, 3, '꺼내줘', 4]\n"
     ]
    }
   ],
   "source": [
    "a = [1, 2, 3, \"꺼내줘\", 4]\n",
    "print(a)"
   ]
  },
  {
   "cell_type": "code",
   "execution_count": 117,
   "metadata": {},
   "outputs": [
    {
     "name": "stdout",
     "output_type": "stream",
     "text": [
      "4\n",
      "[1, 2, 3, '꺼내줘']\n"
     ]
    }
   ],
   "source": [
    "a = [1, 2, 3, \"꺼내줘\", 4]\n",
    "\n",
    "# pop은 정확한 요소를 집어서 밖으로 빼낸 후, 이를 삭제합니다.\n",
    "c = a.pop(4)\n",
    "print(c)\n",
    "print(a)"
   ]
  },
  {
   "cell_type": "code",
   "execution_count": 118,
   "metadata": {},
   "outputs": [
    {
     "name": "stdout",
     "output_type": "stream",
     "text": [
      "[1, 2, 3]\n"
     ]
    }
   ],
   "source": [
    "# pop의 default 값은 맨 뒤의 요소입니다.\n",
    "a = [1, 2, 3, 4]\n",
    "a.pop()\n",
    "print(a)"
   ]
  },
  {
   "cell_type": "markdown",
   "metadata": {},
   "source": [
    "#### count"
   ]
  },
  {
   "cell_type": "code",
   "execution_count": 119,
   "metadata": {},
   "outputs": [
    {
     "name": "stdout",
     "output_type": "stream",
     "text": [
      "[1, 1, 1, 2, 2, 3]\n"
     ]
    }
   ],
   "source": [
    "# count는 리스트 안의 정확한 요소의 개수를 찾아냅니다.\n",
    "a = [1, 1, 1, 2, 2, 3]\n",
    "print(a)"
   ]
  },
  {
   "cell_type": "code",
   "execution_count": 122,
   "metadata": {},
   "outputs": [
    {
     "name": "stdout",
     "output_type": "stream",
     "text": [
      "3\n"
     ]
    }
   ],
   "source": [
    "a = [1, 1, 1, 2, 2, 3]\n",
    "\n",
    "# count는 리스트 안의 정확한 요소의 개수를 찾아냅니다.\n",
    "b = a.count(1)\n",
    "print(b)"
   ]
  },
  {
   "cell_type": "markdown",
   "metadata": {},
   "source": [
    "####  extend"
   ]
  },
  {
   "cell_type": "code",
   "execution_count": 123,
   "metadata": {},
   "outputs": [],
   "source": [
    "# +와 동일"
   ]
  },
  {
   "cell_type": "markdown",
   "metadata": {},
   "source": [
    "#### join 함수! (String)"
   ]
  },
  {
   "cell_type": "code",
   "execution_count": 144,
   "metadata": {},
   "outputs": [
    {
     "name": "stdout",
     "output_type": "stream",
     "text": [
      "applebananagrape\n",
      "apple,banana,grape\n",
      "apple, banana, grape\n",
      "<class 'str'>\n",
      "<class 'str'>\n",
      "<class 'str'>\n"
     ]
    }
   ],
   "source": [
    "# join 함수는 리스트를 벗겨내고 str형태로 변환합니다. \n",
    "# '' 안에 적당한 기호를 넣어줌으로써 구분지은 것처럼 보이게 할 수 있습니다.\n",
    "fruit_list = ['apple', 'banana', 'grape']\n",
    "# a-> '1,2,3,4,5'\n",
    "\n",
    "fruits1 = ''.join(fruit_list) # 리스트가 사라졌다!\n",
    "fruits2 = ','.join(fruit_list)\n",
    "fruits3 = ', '.join(fruit_list)\n",
    "\n",
    "print(fruits1)\n",
    "print(fruits2)\n",
    "print(fruits3)\n",
    "print(type(fruits1))\n",
    "print(type(fruits2))\n",
    "print(type(fruits3))"
   ]
  },
  {
   "cell_type": "code",
   "execution_count": 141,
   "metadata": {},
   "outputs": [
    {
     "ename": "TypeError",
     "evalue": "sequence item 0: expected str instance, int found",
     "output_type": "error",
     "traceback": [
      "\u001b[1;31m---------------------------------------------------------------------------\u001b[0m",
      "\u001b[1;31mTypeError\u001b[0m                                 Traceback (most recent call last)",
      "\u001b[1;32m<ipython-input-141-95a2333f94e0>\u001b[0m in \u001b[0;36m<module>\u001b[1;34m\u001b[0m\n\u001b[0;32m      1\u001b[0m \u001b[0mnumber_list\u001b[0m \u001b[1;33m=\u001b[0m \u001b[1;33m[\u001b[0m\u001b[1;36m1\u001b[0m\u001b[1;33m,\u001b[0m \u001b[1;36m2\u001b[0m\u001b[1;33m,\u001b[0m \u001b[1;36m3\u001b[0m\u001b[1;33m,\u001b[0m \u001b[1;36m4\u001b[0m\u001b[1;33m,\u001b[0m \u001b[1;36m5\u001b[0m\u001b[1;33m]\u001b[0m\u001b[1;33m\u001b[0m\u001b[1;33m\u001b[0m\u001b[0m\n\u001b[0;32m      2\u001b[0m \u001b[1;33m\u001b[0m\u001b[0m\n\u001b[1;32m----> 3\u001b[1;33m \u001b[0mnumbers\u001b[0m \u001b[1;33m=\u001b[0m \u001b[1;34m''\u001b[0m\u001b[1;33m.\u001b[0m\u001b[0mjoin\u001b[0m\u001b[1;33m(\u001b[0m\u001b[0mnumber_list\u001b[0m\u001b[1;33m)\u001b[0m \u001b[1;31m# 숫자로 된 리스트의 경우에는 join 함수가 작동하지 않습니다.\u001b[0m\u001b[1;33m\u001b[0m\u001b[1;33m\u001b[0m\u001b[0m\n\u001b[0m\u001b[0;32m      4\u001b[0m \u001b[0mnumbers\u001b[0m\u001b[1;33m\u001b[0m\u001b[1;33m\u001b[0m\u001b[0m\n",
      "\u001b[1;31mTypeError\u001b[0m: sequence item 0: expected str instance, int found"
     ]
    }
   ],
   "source": [
    "number_list = [1, 2, 3, 4, 5]\n",
    "\n",
    "numbers = ''.join(number_list) # 숫자로 된 리스트의 경우에는 join 함수가 작동하지 않습니다.\n",
    "numbers"
   ]
  },
  {
   "cell_type": "markdown",
   "metadata": {},
   "source": [
    "## 튜플 - Tuple"
   ]
  },
  {
   "cell_type": "code",
   "execution_count": 146,
   "metadata": {},
   "outputs": [
    {
     "name": "stdout",
     "output_type": "stream",
     "text": [
      "(1, 2, 3, 4, 5)\n",
      "<class 'tuple'>\n"
     ]
    }
   ],
   "source": [
    "# 튜플이란? () 안에 요소를 넣음으로써 생성합니다.\n",
    "# list와 매우 유사하지만, 직접 값을 수정하지 않는 이상 값을 수정하거나 변경할 수 없습니다.\n",
    "a = (1, 2, 3, 4, 5)\n",
    "print(a)\n",
    "print(type(a))"
   ]
  },
  {
   "cell_type": "markdown",
   "metadata": {},
   "source": [
    "#### 길이가 1인 튜플"
   ]
  },
  {
   "cell_type": "code",
   "execution_count": 148,
   "metadata": {},
   "outputs": [
    {
     "name": "stdout",
     "output_type": "stream",
     "text": [
      "<class 'int'>\n",
      "<class 'tuple'>\n",
      "<class 'tuple'>\n"
     ]
    }
   ],
   "source": [
    "# 길이가 1인 튜플을 만들어봅시다!! \n",
    "a = (3) # 그저 int\n",
    "b = (3,) # 뒤에 콤마 ',' 를 찍어줍니다.\n",
    "c = (3, ) # 공백이 있어도 ok\n",
    "\n",
    "print(type(a))\n",
    "print(type(b))\n",
    "print(type(c))"
   ]
  },
  {
   "cell_type": "markdown",
   "metadata": {},
   "source": [
    "## 집합 - Set"
   ]
  },
  {
   "cell_type": "code",
   "execution_count": 149,
   "metadata": {},
   "outputs": [
    {
     "name": "stdout",
     "output_type": "stream",
     "text": [
      "{1, 2, 3}\n",
      "{2, 3, 4}\n",
      "<class 'set'>\n",
      "<class 'set'>\n"
     ]
    }
   ],
   "source": [
    "# 집합은 자주 사용되는 개념은 아니지만, 짚고 넘어가야하는 개념입니다.\n",
    "# 집합은 {} 로 정의되며, 고등학교 1학년때 배운 그 집합과 정확하게 일치합니다.\n",
    "# 합, 교, 차 집합이 전부 가능합니다.\n",
    "a = {1, 2, 3}\n",
    "b = {2, 3, 4}\n",
    "print(a)\n",
    "print(b)\n",
    "print(type(a))\n",
    "print(type(b))"
   ]
  },
  {
   "cell_type": "code",
   "execution_count": 150,
   "metadata": {},
   "outputs": [
    {
     "name": "stdout",
     "output_type": "stream",
     "text": [
      "<class 'dict'>\n"
     ]
    }
   ],
   "source": [
    "# 단 {}의 default값은 딕셔너리로 되어있습니다. \n",
    "c = {}\n",
    "print(type(c))"
   ]
  },
  {
   "cell_type": "markdown",
   "metadata": {},
   "source": [
    "### 집합의 연산"
   ]
  },
  {
   "cell_type": "code",
   "execution_count": 17,
   "metadata": {},
   "outputs": [],
   "source": [
    "a = {1, 2, 3}\n",
    "b = {2, 3, 4}"
   ]
  },
  {
   "cell_type": "code",
   "execution_count": 20,
   "metadata": {
    "scrolled": true
   },
   "outputs": [
    {
     "name": "stdout",
     "output_type": "stream",
     "text": [
      "{2, 3}\n",
      "{2, 3}\n"
     ]
    }
   ],
   "source": [
    "c = a & b\n",
    "print(c)\n",
    "\n",
    "d = a.intersection(b) # intersection은 함수입니다. () 안에 넣어야겠죠?\n",
    "print(d)"
   ]
  },
  {
   "cell_type": "code",
   "execution_count": 21,
   "metadata": {},
   "outputs": [
    {
     "name": "stdout",
     "output_type": "stream",
     "text": [
      "{1, 2, 3, 4}\n",
      "{1, 2, 3, 4}\n"
     ]
    }
   ],
   "source": [
    "c = a | b\n",
    "print(c)\n",
    "\n",
    "d = a.union(b)\n",
    "print(d)"
   ]
  },
  {
   "cell_type": "code",
   "execution_count": 164,
   "metadata": {},
   "outputs": [
    {
     "name": "stdout",
     "output_type": "stream",
     "text": [
      "{1}\n",
      "{1}\n",
      "{4}\n",
      "{4}\n"
     ]
    }
   ],
   "source": [
    "c = a - b\n",
    "c2 = a.difference(b) # difference 함수를 사용할 수 도 있습니다.\n",
    "print(c)\n",
    "print(c2)\n",
    "\n",
    "d = b - a\n",
    "d2 = b.difference(a)\n",
    "print(d)\n",
    "print(d2)"
   ]
  },
  {
   "cell_type": "markdown",
   "metadata": {},
   "source": [
    "# 집합의 논리"
   ]
  },
  {
   "cell_type": "code",
   "execution_count": 166,
   "metadata": {},
   "outputs": [],
   "source": [
    "# 집합은 논리연산자가 작동합니다.\n",
    "# 부분집합과 모집합을 생각하면 이해가 쉽습니다.\n",
    "a = {1, 2, 3}\n",
    "b = {1, 2, 3, 4, 5}\n",
    "# a는 b의 부분집합입니다.\n",
    "# b는 a의 모집합입니다."
   ]
  },
  {
   "cell_type": "code",
   "execution_count": 167,
   "metadata": {},
   "outputs": [
    {
     "data": {
      "text/plain": [
       "False"
      ]
     },
     "execution_count": 167,
     "metadata": {},
     "output_type": "execute_result"
    }
   ],
   "source": [
    "a > b"
   ]
  },
  {
   "cell_type": "code",
   "execution_count": 168,
   "metadata": {},
   "outputs": [
    {
     "data": {
      "text/plain": [
       "True"
      ]
     },
     "execution_count": 168,
     "metadata": {},
     "output_type": "execute_result"
    }
   ],
   "source": [
    "a < b"
   ]
  },
  {
   "cell_type": "code",
   "execution_count": 169,
   "metadata": {},
   "outputs": [
    {
     "data": {
      "text/plain": [
       "True"
      ]
     },
     "execution_count": 169,
     "metadata": {},
     "output_type": "execute_result"
    }
   ],
   "source": [
    "a <= b"
   ]
  },
  {
   "cell_type": "markdown",
   "metadata": {},
   "source": [
    "## 딕셔너리 - Dictionary"
   ]
  },
  {
   "cell_type": "code",
   "execution_count": 25,
   "metadata": {},
   "outputs": [
    {
     "name": "stdout",
     "output_type": "stream",
     "text": [
      "{'name': 'Minsu', 'age': 20, 'height': 180.0, 'hobby': 'listening music'}\n",
      "<class 'dict'>\n"
     ]
    }
   ],
   "source": [
    "# 딕셔너리는 key와 value로 이루어져 있습니다.\n",
    "# 따라서, key 값과 value 값 둘다 이용하여 접근이 가능합니다.\n",
    "Minsu = {\n",
    "    'name': 'Minsu',\n",
    "    'age': 20,\n",
    "    'height': 180.0,\n",
    "    'hobby': 'listening music',\n",
    "}\n",
    "print(Minsu)\n",
    "print(type(Minsu))"
   ]
  },
  {
   "cell_type": "code",
   "execution_count": 26,
   "metadata": {},
   "outputs": [
    {
     "data": {
      "text/plain": [
       "20"
      ]
     },
     "execution_count": 26,
     "metadata": {},
     "output_type": "execute_result"
    }
   ],
   "source": [
    "Minsu['age']"
   ]
  },
  {
   "cell_type": "code",
   "execution_count": 24,
   "metadata": {},
   "outputs": [
    {
     "data": {
      "text/plain": [
       "'listening music'"
      ]
     },
     "execution_count": 24,
     "metadata": {},
     "output_type": "execute_result"
    }
   ],
   "source": [
    "jungho['hobby']"
   ]
  },
  {
   "cell_type": "markdown",
   "metadata": {},
   "source": [
    "## 값 추가하기 "
   ]
  },
  {
   "cell_type": "code",
   "execution_count": 180,
   "metadata": {},
   "outputs": [
    {
     "name": "stdout",
     "output_type": "stream",
     "text": [
      "{'name': 'jungho', 'age': 26, 'height': 183.3, 'hobby': 'listening music', 'friends': ['purem', 'jiwon'], 'weight': 72}\n"
     ]
    }
   ],
   "source": [
    "# 가장 뒤에 추가됩니다.\n",
    "jungho['weight'] = 72 # : 가 아니라 = 을 사용한다는 것을 명심합니다!! \n",
    "print(jungho)"
   ]
  },
  {
   "cell_type": "markdown",
   "metadata": {},
   "source": [
    "### 값 수정하기"
   ]
  },
  {
   "cell_type": "code",
   "execution_count": 181,
   "metadata": {},
   "outputs": [
    {
     "name": "stdout",
     "output_type": "stream",
     "text": [
      "{'name': 'jungho', 'age': 26, 'height': 183.3, 'hobby': 'listening music', 'friends': ['purem', 'jiwon'], 'weight': 73}\n"
     ]
    }
   ],
   "source": [
    "jungho['weight'] = 73\n",
    "print(jungho)"
   ]
  },
  {
   "cell_type": "markdown",
   "metadata": {},
   "source": [
    "### Dictionary 함수들"
   ]
  },
  {
   "cell_type": "code",
   "execution_count": 182,
   "metadata": {},
   "outputs": [],
   "source": [
    "jungho = {\n",
    "    'name': 'jungho',\n",
    "    'age': 26,\n",
    "    'height': 183.3,\n",
    "    'hobby': 'listening music',\n",
    "    'friends': ['purem', 'jiwon']\n",
    "}"
   ]
  },
  {
   "cell_type": "code",
   "execution_count": 183,
   "metadata": {},
   "outputs": [
    {
     "data": {
      "text/plain": [
       "dict_keys(['name', 'age', 'height', 'hobby', 'friends'])"
      ]
     },
     "execution_count": 183,
     "metadata": {},
     "output_type": "execute_result"
    }
   ],
   "source": [
    "# 언제나 함수는 기본적으로 .함수이름() 이라는 것을 명심합니다.\n",
    "jungho.keys()"
   ]
  },
  {
   "cell_type": "code",
   "execution_count": 187,
   "metadata": {},
   "outputs": [
    {
     "ename": "TypeError",
     "evalue": "keys() takes no arguments (1 given)",
     "output_type": "error",
     "traceback": [
      "\u001b[1;31m---------------------------------------------------------------------------\u001b[0m",
      "\u001b[1;31mTypeError\u001b[0m                                 Traceback (most recent call last)",
      "\u001b[1;32m<ipython-input-187-42a7d00a0472>\u001b[0m in \u001b[0;36m<module>\u001b[1;34m\u001b[0m\n\u001b[1;32m----> 1\u001b[1;33m \u001b[0mjungho\u001b[0m\u001b[1;33m.\u001b[0m\u001b[0mkeys\u001b[0m\u001b[1;33m(\u001b[0m\u001b[1;34m'hobby'\u001b[0m\u001b[1;33m)\u001b[0m \u001b[1;31m# keys는 ()안에 아무것도 들어가지 않습니다.\u001b[0m\u001b[1;33m\u001b[0m\u001b[1;33m\u001b[0m\u001b[0m\n\u001b[0m",
      "\u001b[1;31mTypeError\u001b[0m: keys() takes no arguments (1 given)"
     ]
    }
   ],
   "source": [
    "jungho.keys('hobby') # keys는 ()안에 아무것도 들어가지 않습니다."
   ]
  },
  {
   "cell_type": "markdown",
   "metadata": {},
   "source": [
    "##### values()"
   ]
  },
  {
   "cell_type": "code",
   "execution_count": 188,
   "metadata": {},
   "outputs": [
    {
     "data": {
      "text/plain": [
       "dict_values(['jungho', 26, 183.3, 'listening music', ['purem', 'jiwon']])"
      ]
     },
     "execution_count": 188,
     "metadata": {},
     "output_type": "execute_result"
    }
   ],
   "source": [
    "jungho.values()"
   ]
  },
  {
   "cell_type": "markdown",
   "metadata": {},
   "source": [
    "##### items()"
   ]
  },
  {
   "cell_type": "code",
   "execution_count": 189,
   "metadata": {},
   "outputs": [
    {
     "data": {
      "text/plain": [
       "dict_items([('name', 'jungho'), ('age', 26), ('height', 183.3), ('hobby', 'listening music'), ('friends', ['purem', 'jiwon'])])"
      ]
     },
     "execution_count": 189,
     "metadata": {},
     "output_type": "execute_result"
    }
   ],
   "source": [
    "jungho.items()"
   ]
  },
  {
   "cell_type": "markdown",
   "metadata": {},
   "source": [
    "##### clear()"
   ]
  },
  {
   "cell_type": "code",
   "execution_count": 193,
   "metadata": {},
   "outputs": [
    {
     "name": "stdout",
     "output_type": "stream",
     "text": [
      "{}\n",
      "<class 'dict'>\n"
     ]
    }
   ],
   "source": [
    "jungho.clear() # 내용을 전부 삭제합니다.\n",
    "print(jungho)\n",
    "print(type(jungho)) # 내용이 삭제되어도 여전히 dict의 속성을 가지고 있습니다."
   ]
  },
  {
   "cell_type": "markdown",
   "metadata": {},
   "source": [
    "##### get 함수 사용"
   ]
  },
  {
   "cell_type": "code",
   "execution_count": 200,
   "metadata": {},
   "outputs": [],
   "source": [
    "jungho = {\n",
    "    'name': 'jungho',\n",
    "    'age': 26,\n",
    "    'height': 183.3,\n",
    "    'hobby': 'listening music',\n",
    "    'friends': ['purem', 'jiwon']\n",
    "}"
   ]
  },
  {
   "cell_type": "code",
   "execution_count": 201,
   "metadata": {},
   "outputs": [
    {
     "data": {
      "text/plain": [
       "'jungho'"
      ]
     },
     "execution_count": 201,
     "metadata": {},
     "output_type": "execute_result"
    }
   ],
   "source": [
    "jungho_name1 = jungho.get('name')\n",
    "jungho_name1"
   ]
  },
  {
   "cell_type": "code",
   "execution_count": 202,
   "metadata": {},
   "outputs": [
    {
     "data": {
      "text/plain": [
       "'jungho'"
      ]
     },
     "execution_count": 202,
     "metadata": {},
     "output_type": "execute_result"
    }
   ],
   "source": [
    "jungho_name2 = jungho.get('name', 'jungho')\n",
    "jungho_name2"
   ]
  },
  {
   "cell_type": "code",
   "execution_count": 204,
   "metadata": {},
   "outputs": [
    {
     "data": {
      "text/plain": [
       "'jungho'"
      ]
     },
     "execution_count": 204,
     "metadata": {},
     "output_type": "execute_result"
    }
   ],
   "source": [
    "jungho_name3 = jungho.get('name', 'zozi') # 엉뚱한 문자를 넣어도 키값의 정확한 value값을 가져옵니다.\n",
    "jungho_name3"
   ]
  }
 ],
 "metadata": {
  "kernelspec": {
   "display_name": "Python 3",
   "language": "python",
   "name": "python3"
  },
  "language_info": {
   "codemirror_mode": {
    "name": "ipython",
    "version": 3
   },
   "file_extension": ".py",
   "mimetype": "text/x-python",
   "name": "python",
   "nbconvert_exporter": "python",
   "pygments_lexer": "ipython3",
   "version": "3.7.3"
  }
 },
 "nbformat": 4,
 "nbformat_minor": 2
}
