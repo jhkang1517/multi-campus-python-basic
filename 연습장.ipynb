{
 "cells": [
  {
   "cell_type": "code",
   "execution_count": 16,
   "metadata": {},
   "outputs": [
    {
     "name": "stdout",
     "output_type": "stream",
     "text": [
      "your card is 미샤\n"
     ]
    }
   ],
   "source": [
    "\n",
    "import random\n",
    "card = [\"미샤\", \"킁킁이\", \"레호구\"] \n",
    "computer = random.randint(1,3)\n",
    "\n",
    "# \n",
    "if computer in [1, 2, 3]:\n",
    "    print('your card is %s'% (card[computer-1]))\n",
    "    \n",
    "else:\n",
    "    print(\"종료\")"
   ]
  },
  {
   "cell_type": "code",
   "execution_count": null,
   "metadata": {},
   "outputs": [],
   "source": []
  }
 ],
 "metadata": {
  "kernelspec": {
   "display_name": "Python 3",
   "language": "python",
   "name": "python3"
  },
  "language_info": {
   "codemirror_mode": {
    "name": "ipython",
    "version": 3
   },
   "file_extension": ".py",
   "mimetype": "text/x-python",
   "name": "python",
   "nbconvert_exporter": "python",
   "pygments_lexer": "ipython3",
   "version": "3.7.3"
  }
 },
 "nbformat": 4,
 "nbformat_minor": 2
}
