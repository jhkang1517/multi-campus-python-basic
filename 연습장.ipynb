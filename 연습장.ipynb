{
 "cells": [
  {
   "cell_type": "code",
   "execution_count": 1,
   "metadata": {},
   "outputs": [],
   "source": [
    "\n",
    "# import random\n",
    "# card = [\"미샤\", \"킁킁이\", \"레호구\"] \n",
    "# computer = random.randint(1,3)\n",
    "\n",
    "# # \n",
    "# if computer in [1, 2, 3]:\n",
    "#     print('your card is %s'% (card[computer-1]))\n",
    "    \n",
    "# else:\n",
    "#     print(\"종료\")"
   ]
  },
  {
   "cell_type": "code",
   "execution_count": 2,
   "metadata": {},
   "outputs": [],
   "source": [
    "import Gibson_Crawling_Moduel"
   ]
  },
  {
   "cell_type": "code",
   "execution_count": 3,
   "metadata": {},
   "outputs": [
    {
     "data": {
      "text/plain": [
       "\"Les-Paul, SG, ES, Acoustic, Designer, Bass 를 'crl.run( )'안에 입력하세요.\\n입력한 값에 대한 깁슨 홈페이지에 있는 모든 깁슨 모델을 제공합니다.\""
      ]
     },
     "execution_count": 3,
     "metadata": {},
     "output_type": "execute_result"
    }
   ],
   "source": [
    "Gibson_Crawling_Moduel.intro"
   ]
  },
  {
   "cell_type": "code",
   "execution_count": 4,
   "metadata": {},
   "outputs": [
    {
     "data": {
      "text/plain": [
       "'jungho kang'"
      ]
     },
     "execution_count": 4,
     "metadata": {},
     "output_type": "execute_result"
    }
   ],
   "source": [
    "Gibson_Crawling_Moduel.maker"
   ]
  },
  {
   "cell_type": "code",
   "execution_count": 5,
   "metadata": {},
   "outputs": [
    {
     "data": {
      "text/plain": [
       "['BASE_DIR',\n",
       " 'BeautifulSoup',\n",
       " '__builtins__',\n",
       " '__cached__',\n",
       " '__doc__',\n",
       " '__file__',\n",
       " '__loader__',\n",
       " '__name__',\n",
       " '__package__',\n",
       " '__spec__',\n",
       " 'crl',\n",
       " 'intro',\n",
       " 'maker',\n",
       " 'os',\n",
       " 'pd',\n",
       " 'pprint',\n",
       " 'requests']"
      ]
     },
     "execution_count": 5,
     "metadata": {},
     "output_type": "execute_result"
    }
   ],
   "source": [
    "dir(Gibson_Crawling_Moduel)"
   ]
  },
  {
   "cell_type": "code",
   "execution_count": 6,
   "metadata": {},
   "outputs": [
    {
     "data": {
      "text/plain": [
       "[{'link': 'https://www.gibson.com/Guitar/ACC3NY964/125th-Anniversary-J-45',\n",
       "  'name': '125th Anniversary J-45',\n",
       "  'price': ' $4,999.00'},\n",
       " {'link': 'https://www.gibson.com/Guitar/ACCVID935/125th-Anniversary-Hummingbird',\n",
       "  'name': '125th Anniversary Hummingbird',\n",
       "  'price': ' $5,499.00'},\n",
       " {'link': 'https://www.gibson.com/Guitar/ACC5VI857/125th-Anniversary-SJ-200',\n",
       "  'name': '125th Anniversary SJ-200',\n",
       "  'price': ' $6,149.00'},\n",
       " {'link': 'https://www.gibson.com/Guitar/ACCDUQ766/J-45-Walnut-M-Antique-Natural',\n",
       "  'name': 'J-45 Walnut M Antique Natural',\n",
       "  'price': ' $1,799.00'},\n",
       " {'link': 'https://www.gibson.com/Guitar/ACC7JP801/J-45-Standard',\n",
       "  'name': 'J-45 Standard',\n",
       "  'price': ' $2,749.00'},\n",
       " {'link': 'https://www.gibson.com/Guitar/ACCAQJ999/J-45-Rosewood-M',\n",
       "  'name': 'J-45 Rosewood M',\n",
       "  'price': ' $2,199.00'},\n",
       " {'link': 'https://www.gibson.com/Guitar/ACCVFB499/Hummingbird-M-Mahogany',\n",
       "  'name': 'Hummingbird M Mahogany',\n",
       "  'price': ' $2,499.00'},\n",
       " {'link': 'https://www.gibson.com/Guitar/ACC4YC313/J-45-Mahogany-M',\n",
       "  'name': 'J-45 Mahogany M',\n",
       "  'price': ' $1,999.00'},\n",
       " {'link': 'https://www.gibson.com/Guitar/ACCT98899/J-45-Chroma-Modern',\n",
       "  'name': 'J-45 Chroma Modern',\n",
       "  'price': ' $3,999.00'},\n",
       " {'link': 'https://www.gibson.com/Guitar/ACC6HS545/J-45-Walnut-Modern',\n",
       "  'name': 'J-45 Walnut Modern',\n",
       "  'price': ' $1,999.00'},\n",
       " {'link': 'https://www.gibson.com/Guitar/ACCJ3Q287/Hummingbird-M-Rosewood',\n",
       "  'name': 'Hummingbird M Rosewood ',\n",
       "  'price': ' $2,699.00'},\n",
       " {'link': 'https://www.gibson.com/Guitar/ACC37L866/J-45-Vintage',\n",
       "  'name': 'J-45 Vintage',\n",
       "  'price': ' $4,749.00'},\n",
       " {'link': 'https://www.gibson.com/Guitar/ACC5JY735/J-45-Sustainable',\n",
       "  'name': 'J-45 Sustainable',\n",
       "  'price': ' $2,199.00'},\n",
       " {'link': 'https://www.gibson.com/Guitar/ACCECN54/J-45-Standard-Heritage-Cherry-Sunburst',\n",
       "  'name': 'J-45 Standard Heritage Cherry Sunburst',\n",
       "  'price': ' $2,749.00'},\n",
       " {'link': 'https://www.gibson.com/Guitar/ACCC6T340/J-45-Deluxe',\n",
       "  'name': 'J-45 Deluxe',\n",
       "  'price': ' $3,699.00'},\n",
       " {'link': 'https://www.gibson.com/Guitar/ACC9E9481/J-45-Cutaway',\n",
       "  'name': 'J-45 Cutaway',\n",
       "  'price': ' $2,849.00'},\n",
       " {'link': 'https://www.gibson.com/Guitar/ACCUEW899/Parlor-Walnut-M',\n",
       "  'name': 'Parlor Walnut M',\n",
       "  'price': ' $1,799.00'},\n",
       " {'link': 'https://www.gibson.com/Guitar/ACCZSS791/Parlor-Rosewood-Modern',\n",
       "  'name': 'Parlor Rosewood Modern',\n",
       "  'price': ' $2,199.00'},\n",
       " {'link': 'https://www.gibson.com/Guitar/ACC44J939/Parlor-Mahogany-M',\n",
       "  'name': 'Parlor Mahogany M',\n",
       "  'price': ' $1,999.00'},\n",
       " {'link': 'https://www.gibson.com/Guitar/ACCF5P76/Parlor-Chroma-M',\n",
       "  'name': 'Parlor Chroma M',\n",
       "  'price': ' $3,999.00'},\n",
       " {'link': 'https://www.gibson.com/Guitar/ACCDR2316/Hummingbird-Walnut-M',\n",
       "  'name': 'Hummingbird Walnut M',\n",
       "  'price': ' $1,999.00'},\n",
       " {'link': 'https://www.gibson.com/Guitar/ACCGZU118/Doves-in-Flight',\n",
       "  'name': 'Doves in Flight',\n",
       "  'price': ' $7,499.00'},\n",
       " {'link': 'https://www.gibson.com/Guitar/ACCNXQ460/Songwriter',\n",
       "  'name': 'Songwriter',\n",
       "  'price': ' $2,999.00'},\n",
       " {'link': 'https://www.gibson.com/Guitar/ACCVPP944/Songwriter-12-String',\n",
       "  'name': 'Songwriter 12-String',\n",
       "  'price': ' $3,299.00'},\n",
       " {'link': 'https://www.gibson.com/Guitar/ACC73T218/SJ-200-Vintage',\n",
       "  'name': 'SJ-200 Vintage',\n",
       "  'price': ' $6,499.00'},\n",
       " {'link': 'https://www.gibson.com/Guitar/ACCA9P349/SJ-200-Studio',\n",
       "  'name': 'SJ-200 Studio',\n",
       "  'price': ' $3,099.00'},\n",
       " {'link': 'https://www.gibson.com/Guitar/ACCH87632/L-00-Sustainable',\n",
       "  'name': 'L-00 Sustainable',\n",
       "  'price': ' $2,099.00'},\n",
       " {'link': 'https://www.gibson.com/Guitar/ACCDNP224/L-00-Studio',\n",
       "  'name': 'L-00 Studio',\n",
       "  'price': ' $1,499.00'},\n",
       " {'link': 'https://www.gibson.com/Guitar/ACCSMC348/L-00-Standard',\n",
       "  'name': 'L-00 Standard',\n",
       "  'price': ' $2,699.00'},\n",
       " {'link': 'https://www.gibson.com/Guitar/ACC2JI4/Parlor-M-Rosewood',\n",
       "  'name': 'Parlor M Rosewood ',\n",
       "  'price': ' $2,399.00'},\n",
       " {'link': 'https://www.gibson.com/Guitar/ACCAMG993/L-00-Deluxe',\n",
       "  'name': 'L-00 Deluxe',\n",
       "  'price': ' $3,499.00'},\n",
       " {'link': 'https://www.gibson.com/Guitar/ACC59H78/J-185-Vintage',\n",
       "  'name': 'J-185 Vintage',\n",
       "  'price': ' $4,999.00'},\n",
       " {'link': 'https://www.gibson.com/Guitar/ACC3YP77/J-15-Antique-Natural',\n",
       "  'name': 'J-15 Antique Natural',\n",
       "  'price': ' $1,749.00'},\n",
       " {'link': 'https://www.gibson.com/Guitar/ACCNJZ570/Hummingbird-Vintage',\n",
       "  'name': 'Hummingbird Vintage',\n",
       "  'price': ' $5,049.00'},\n",
       " {'link': 'https://www.gibson.com/Guitar/ACCA5Z486/Hummingbird-Sustainable',\n",
       "  'name': 'Hummingbird Sustainable',\n",
       "  'price': ' $2,499.00'},\n",
       " {'link': 'https://www.gibson.com/Guitar/ACCQKN561/Hummingbird-Studio',\n",
       "  'name': 'Hummingbird Studio',\n",
       "  'price': ' $1,999.00'},\n",
       " {'link': 'https://www.gibson.com/Guitar/ACCA4V477/Hummingbird-Deluxe',\n",
       "  'name': 'Hummingbird Deluxe',\n",
       "  'price': ' $4,499.00'},\n",
       " {'link': 'https://www.gibson.com/Guitar/ACCISQ773/30th-Anniversary-Starburst',\n",
       "  'name': '30th Anniversary Starburst',\n",
       "  'price': ' $6,599.00'},\n",
       " {'link': 'https://www.gibson.com/Guitar/ACCLGZ832/30th-Anniversary-Montana-Gold',\n",
       "  'name': '30th Anniversary Montana Gold',\n",
       "  'price': ' $6,599.00'},\n",
       " {'link': 'https://www.gibson.com/Guitar/ACCAV7873/30th-Anniversary-J-2000',\n",
       "  'name': '30th Anniversary J-2000',\n",
       "  'price': ' $6,599.00'},\n",
       " {'link': 'https://www.gibson.com/Guitar/ACCRTL949/30th-Anniversary-CL-50',\n",
       "  'name': '30th Anniversary CL-50',\n",
       "  'price': ' $6,599.00'},\n",
       " {'link': 'https://www.gibson.com/Guitar/ACCJXC990/SJ-200-Deluxe',\n",
       "  'name': 'SJ-200 Deluxe',\n",
       "  'price': ' $5,999.00'},\n",
       " {'link': 'https://www.gibson.com/Guitar/ACCBUQ665/SJ-200-Standard',\n",
       "  'name': 'SJ-200 Standard ',\n",
       "  'price': ' $5,049.00'},\n",
       " {'link': 'https://www.gibson.com/Guitar/ACCE3P829/Hummingbird-Rosewood-M',\n",
       "  'name': 'Hummingbird Rosewood M',\n",
       "  'price': ' $2,499.00'},\n",
       " {'link': 'https://www.gibson.com/Guitar/ACCQBA896/Hummingbird',\n",
       "  'name': 'Hummingbird ',\n",
       "  'price': ' $3,849.00'},\n",
       " {'link': 'https://www.gibson.com/Guitar/ACCXV8819/J-15-Walnut-Burst',\n",
       "  'name': 'J-15 Walnut Burst',\n",
       "  'price': ' $1,949.00'},\n",
       " {'link': 'https://www.gibson.com/Guitar/ACCICQ66/J-45-Studio',\n",
       "  'name': 'J-45 Studio ',\n",
       "  'price': ' $1,699.00'},\n",
       " {'link': 'https://www.gibson.com/Guitar/ACCXW2802/Songwriter-Cutaway',\n",
       "  'name': 'Songwriter Cutaway ',\n",
       "  'price': ' $3,299.00'},\n",
       " {'link': 'https://www.gibson.com/Guitar/ACC9YA389/Hummingbird-Chroma',\n",
       "  'name': 'Hummingbird Chroma ',\n",
       "  'price': ' $3,999.00'},\n",
       " {'link': 'https://www.gibson.com/Guitar/ACCH54751/J-45-Montana-Custom',\n",
       "  'name': 'J-45 Montana Custom',\n",
       "  'price': ' $6,599.00'},\n",
       " {'link': 'https://www.gibson.com/Guitar/ACCEDF483/Hummingbird-Custom',\n",
       "  'name': 'Hummingbird Custom',\n",
       "  'price': ' $7,499.00'},\n",
       " {'link': 'https://www.gibson.com/Guitar/ACCAE9604/Firebird',\n",
       "  'name': 'Firebird',\n",
       "  'price': ' $5,199.00'}]"
      ]
     },
     "execution_count": 6,
     "metadata": {},
     "output_type": "execute_result"
    }
   ],
   "source": [
    "Gibson_Crawling_Moduel.crl.run('Acoustic')"
   ]
  },
  {
   "cell_type": "code",
   "execution_count": null,
   "metadata": {},
   "outputs": [],
   "source": []
  },
  {
   "cell_type": "code",
   "execution_count": null,
   "metadata": {},
   "outputs": [],
   "source": []
  }
 ],
 "metadata": {
  "kernelspec": {
   "display_name": "Python 3",
   "language": "python",
   "name": "python3"
  },
  "language_info": {
   "codemirror_mode": {
    "name": "ipython",
    "version": 3
   },
   "file_extension": ".py",
   "mimetype": "text/x-python",
   "name": "python",
   "nbconvert_exporter": "python",
   "pygments_lexer": "ipython3",
   "version": "3.7.3"
  }
 },
 "nbformat": 4,
 "nbformat_minor": 2
}
