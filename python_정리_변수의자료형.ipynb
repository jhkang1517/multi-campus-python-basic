{
 "cells": [
  {
   "cell_type": "markdown",
   "metadata": {},
   "source": [
    "# 변수(Variable)"
   ]
  },
  {
   "cell_type": "markdown",
   "metadata": {},
   "source": [
    "## 숫자의 자료형\n",
    "### Intenger: 정수형"
   ]
  },
  {
   "cell_type": "code",
   "execution_count": 2,
   "metadata": {},
   "outputs": [
    {
     "name": "stdout",
     "output_type": "stream",
     "text": [
      "2\n",
      "<class 'int'>\n"
     ]
    }
   ],
   "source": [
    "a = 2 # 변수선언\n",
    "# 변수에는 기본적으로 소문자와 대문자를 구분한다.\n",
    "# 또한, python에서 사용되는 연산자, 기본 함수값들은 사용이 불가능하다. \n",
    "# _ 사용은 가능하다.\n",
    "\n",
    "print(a)\n",
    "print(type(a))"
   ]
  },
  {
   "cell_type": "markdown",
   "metadata": {},
   "source": [
    "### Float - 실수형"
   ]
  },
  {
   "cell_type": "code",
   "execution_count": 3,
   "metadata": {},
   "outputs": [
    {
     "name": "stdout",
     "output_type": "stream",
     "text": [
      "2.0\n",
      "<class 'float'>\n"
     ]
    }
   ],
   "source": [
    "a = 2.0 # 변수 재선언.\n",
    "# 이 순간, 위에서 선언한 a=2 는 사라지고 a=2.0이라는 새로운 변수가 선언된다. \n",
    "\n",
    "print(a)\n",
    "print(type(a))"
   ]
  },
  {
   "cell_type": "markdown",
   "metadata": {},
   "source": [
    "### 숫자의 연산 - 정수의 연산"
   ]
  },
  {
   "cell_type": "code",
   "execution_count": 5,
   "metadata": {},
   "outputs": [
    {
     "name": "stdout",
     "output_type": "stream",
     "text": [
      "5\n",
      "9\n",
      "1.5\n",
      "1\n",
      "1\n"
     ]
    }
   ],
   "source": [
    "a = 3\n",
    "b = 2\n",
    "# 정수의 연산은 기본적으로 space, 즉 공백에 영향을 받지않는다.\n",
    "# 따라서 a+b 와 a + b 는 동일하다.\n",
    "# 연산자로는 +,-,*,/,**,//,% 가 존재한다.\n",
    "# **(제곱)은 곱하기보다 우선된다.\n",
    "# 나머지를 구하는 %는 기본적으로 홀수,짝수, 공배수등을 계산하기 위해 활용된다.\n",
    "print(a+b)\n",
    "print(a**b)\n",
    "print(a/b)\n",
    "print(a//b)\n",
    "print(a%b)"
   ]
  },
  {
   "cell_type": "markdown",
   "metadata": {},
   "source": [
    "### 숫자의 연산 - 실수의 연산"
   ]
  },
  {
   "cell_type": "code",
   "execution_count": 7,
   "metadata": {
    "scrolled": false
   },
   "outputs": [
    {
     "name": "stdout",
     "output_type": "stream",
     "text": [
      "5.0\n",
      "<class 'float'>\n"
     ]
    }
   ],
   "source": [
    "a = 3\n",
    "b = 2.0\n",
    "# 정수와 실수의 계산은, '묵시적형변환'이 일어나고, 실수의 계산으로 변경된다.\n",
    "# 순서는 형변환 > 계산의 순서로 진행된다. \n",
    "print(a+b)\n",
    "print(type(a+b))"
   ]
  },
  {
   "cell_type": "markdown",
   "metadata": {},
   "source": [
    "### 형변환 - Cast (type change)"
   ]
  },
  {
   "cell_type": "code",
   "execution_count": 30,
   "metadata": {},
   "outputs": [
    {
     "name": "stdout",
     "output_type": "stream",
     "text": [
      "<class 'int'>\n",
      "<class 'float'>\n"
     ]
    }
   ],
   "source": [
    "a = 10\n",
    "b = 3.9\n",
    "print(type(a))\n",
    "print(type(b))"
   ]
  },
  {
   "cell_type": "code",
   "execution_count": 34,
   "metadata": {},
   "outputs": [],
   "source": [
    "## 명시적 형변환\n",
    "\n",
    "# a를 float형으로,\n",
    "a = float(a)\n",
    "\n",
    "# b를 int형으로 변환될때, 뒤의 소수점은 그냥 사라진다.\n",
    "# 이 사라진 소수점은 후에 다시 float형으로 바꿔도 돌아오지 않는다.\n",
    "b = int(b)"
   ]
  },
  {
   "cell_type": "code",
   "execution_count": 35,
   "metadata": {},
   "outputs": [
    {
     "name": "stdout",
     "output_type": "stream",
     "text": [
      "10.0\n",
      "3\n"
     ]
    }
   ],
   "source": [
    "print(a)\n",
    "print(b)"
   ]
  },
  {
   "cell_type": "code",
   "execution_count": 36,
   "metadata": {},
   "outputs": [
    {
     "data": {
      "text/plain": [
       "3.0"
      ]
     },
     "execution_count": 36,
     "metadata": {},
     "output_type": "execute_result"
    }
   ],
   "source": [
    "b = float(b)\n",
    "b"
   ]
  },
  {
   "cell_type": "markdown",
   "metadata": {},
   "source": [
    "#### 연습문제 1\n",
    "a = 7, b = 3.0 로 초기화 하고 a를 b로 나누었을 때 몫과 나머지를 각각 c와 d 라는 변수에 초기화한 후 출력하라.\n",
    "\n",
    "그리고 e라는 변수에 a의 b제곱을 초기화하고 출력하라."
   ]
  },
  {
   "cell_type": "code",
   "execution_count": 10,
   "metadata": {
    "scrolled": true
   },
   "outputs": [
    {
     "name": "stdout",
     "output_type": "stream",
     "text": [
      "2.0\n",
      "1.0\n",
      "343.0\n"
     ]
    }
   ],
   "source": [
    "# 변수선언\n",
    "a = 7\n",
    "b = 3.0\n",
    "\n",
    "# 계산시작이 선언되는 순간, 형변환이 발생하고, 계산이 진행된다.\n",
    "c = a//b\n",
    "d = a%b\n",
    "print(c)\n",
    "print(d)\n",
    "\n",
    "# 그리고\n",
    "e = a**b\n",
    "print(e)"
   ]
  },
  {
   "cell_type": "markdown",
   "metadata": {},
   "source": [
    "#### 연습문제. 2\n",
    "a=\"90:30:80\"이고 :을 기준으로 각각 수학점수, 영어점수, 과학점수이다.  \n",
    "**문자열 인덱싱**을 이용해 각 점수를 각각 math, english, science 변수에 저장하고,  \n",
    "average 란 변수에 평균값을 저장하고 출력하시오."
   ]
  },
  {
   "cell_type": "code",
   "execution_count": 83,
   "metadata": {},
   "outputs": [
    {
     "name": "stdout",
     "output_type": "stream",
     "text": [
      "66\n"
     ]
    }
   ],
   "source": [
    "a = \"90:30:80\"\n",
    "\n",
    "math = a[:2]\n",
    "english = a[3:5]\n",
    "science = a[6:]\n",
    "# print(math)\n",
    "# print(english)\n",
    "# print(science)\n",
    "# print(type(math)) # type이 string인것을 확인한다. 명시적 형변환을 통해 형변환 시작\n",
    "math = float(math)\n",
    "english = float(english)\n",
    "science = float(science)\n",
    "\n",
    "average = (math+english+science) / 3\n",
    "average = int(average)\n",
    "print(average)"
   ]
  },
  {
   "cell_type": "markdown",
   "metadata": {},
   "source": [
    "## Bool 자료형 (True&False)"
   ]
  },
  {
   "cell_type": "code",
   "execution_count": 40,
   "metadata": {},
   "outputs": [
    {
     "name": "stdout",
     "output_type": "stream",
     "text": [
      "True\n",
      "<class 'bool'>\n",
      "False\n",
      "<class 'bool'>\n"
     ]
    }
   ],
   "source": [
    "# Boolean 자료형은 기본적으로 if문과 while문과 같은 조건문에서 자주 사용된다. \n",
    "# True, False 는 그 자체로 이미 의미가 내장되어 있기 때문에, 변수로 사용할 수 없다. \n",
    "a = True\n",
    "b = False\n",
    "print(a)\n",
    "print(type(a))\n",
    "print(b)\n",
    "print(type(b))"
   ]
  },
  {
   "cell_type": "code",
   "execution_count": 42,
   "metadata": {},
   "outputs": [
    {
     "name": "stdout",
     "output_type": "stream",
     "text": [
      "False\n",
      "False\n",
      "False\n"
     ]
    }
   ],
   "source": [
    "# Boolean에서 어느 때 False가 출력되는가?\n",
    "# 1. 숫자자료형은 값이 0일때 False가 출력된다.\n",
    "a = 0\n",
    "print(bool(a))\n",
    "# 2. 리스트, 튜플, 딕셔너리, 집합과 같은 시퀀스 자료형은 안에 요소가 없을 때 False가 출력된다.\n",
    "a = []\n",
    "b = {}\n",
    "print(bool(a))\n",
    "print(bool(b))"
   ]
  },
  {
   "cell_type": "markdown",
   "metadata": {},
   "source": [
    "## 문자열 자료형\n",
    "### String"
   ]
  },
  {
   "cell_type": "code",
   "execution_count": 43,
   "metadata": {},
   "outputs": [
    {
     "name": "stdout",
     "output_type": "stream",
     "text": [
      "나는 생각한다. 고로 존재한다.\n",
      "<class 'str'>\n"
     ]
    }
   ],
   "source": [
    "# quote 는 인용문이라는 뜻을 가지고 있다.\n",
    "quote = \"나는 생각한다. 고로 존재한다.\"\n",
    "print(quote)\n",
    "print(type(quote))"
   ]
  },
  {
   "cell_type": "code",
   "execution_count": 44,
   "metadata": {},
   "outputs": [],
   "source": [
    "introduce = \"\"\"데카르트는 1596년 3월 31일 투렌 지방(Touraine)의 투르 인근에 있는 소도시 라에\n",
    "(La Haye, 현재는 그의 이름을 따서 데카르트 시로 개명함[1])의 법관 귀족 가문에서 태어났다. \n",
    "\n",
    "그의 아버지는 브르타뉴 지역 렌(Renne)시의 시의원이었으며, 어머니는 그가 태어난 지 14달이 못 되어 세상을 떠났다. \n",
    "이후 그는 외할머니 밑에서 자랐고, 어린 시절 몸이 무척 허약했다고 한다. \n",
    "1606년 그는 예수회가 운영하는 라 플레쉬 콜레주(Collège la Flèche)에 입학하여 1614년까지 8년간에 걸쳐 철저하게 중세식 그리고 인본주의 교육을 받았다. \n",
    "5년간 라틴어, 수사학, 고전 작가 수업을 받았고 3년간 변증론에서 비롯하여 자연철학, 형이상학 그리고 윤리학을 포괄하는 철학 수업을 받았다.\n",
    "그가 이 시기에 받은 교육은 후에 그의 저서 여기저기에 흔적을 남기게 되는데 특히 《방법서설》에 많은 영향을 끼쳤다. \n",
    "라 플레쉬를 졸업한 후 푸아티에(Poitiers) 대학 법학과에 입학해 수학·자연 과학·법률학·스콜라 철학 등을 배우고, \n",
    "수학만이 명증적인 지식이라고 생각하였다. 1616년에 리상스(Licence)를 취득한다. \n",
    "이후 그는 '세상이라는 커다란 책'으로부터 실질적인 지식을 얻고자 학교 밖으로 나갔고, 다시는 제도권 교육으로 돌아오지 않았다.\n",
    "졸업 후 지원병으로 입대하여 네덜란드에 갔으며, 30년 전쟁이 일어나자 독일에 출정하였다. \n",
    "1619년 네덜란드를 여행하면서 첫 작품인 짧은 《음악 개론》(Compendium Musicae)을 썼다.\n",
    "\"\"\""
   ]
  },
  {
   "cell_type": "code",
   "execution_count": 46,
   "metadata": {},
   "outputs": [],
   "source": [
    "# print(introduce)"
   ]
  },
  {
   "cell_type": "markdown",
   "metadata": {},
   "source": [
    "### 문자열 연산"
   ]
  },
  {
   "cell_type": "code",
   "execution_count": 48,
   "metadata": {},
   "outputs": [],
   "source": [
    "# 문자열 연산에는 +와 *가 있다.\n",
    "# +와 * 모두 공백없이 정확하게 달라붙어 출력된다.\n",
    "a = 'apple'\n",
    "b = 'delicious'"
   ]
  },
  {
   "cell_type": "code",
   "execution_count": 50,
   "metadata": {},
   "outputs": [
    {
     "name": "stdout",
     "output_type": "stream",
     "text": [
      "appledelicious\n",
      "appleappleapple\n"
     ]
    }
   ],
   "source": [
    "print(a+b)\n",
    "print(a*3)"
   ]
  },
  {
   "cell_type": "markdown",
   "metadata": {},
   "source": [
    "### 이스케이프 코드\n",
    "\n",
    "- **\\n:  개행**\n",
    "- **\\t:  탭**\n",
    "- **\\\\\\\\:  슬래쉬**\n",
    "- **\\\\':  작은 따옴표**\n",
    "- **\\\\\":  큰 따옴표**\n"
   ]
  },
  {
   "cell_type": "code",
   "execution_count": 51,
   "metadata": {},
   "outputs": [
    {
     "name": "stdout",
     "output_type": "stream",
     "text": [
      "나는 배가 \n",
      "고픕니다.\n"
     ]
    }
   ],
   "source": [
    "# enter의 역할을 하는 \\n\n",
    "a = \"나는 배가 \\n고픕니다.\"\n",
    "print(a)"
   ]
  },
  {
   "cell_type": "code",
   "execution_count": 52,
   "metadata": {},
   "outputs": [
    {
     "name": "stdout",
     "output_type": "stream",
     "text": [
      "나는 배가 \t고픕니다.\n"
     ]
    }
   ],
   "source": [
    "# 4칸을 띄어쓰는 \\t\n",
    "a = \"나는 배가 \\t고픕니다.\"\n",
    "print(a)"
   ]
  },
  {
   "cell_type": "code",
   "execution_count": 53,
   "metadata": {},
   "outputs": [
    {
     "name": "stdout",
     "output_type": "stream",
     "text": [
      "나는 배가 \\고픕니다.\n"
     ]
    }
   ],
   "source": [
    "# \\\\을 넣고 싶을때 사용하는 \\\\\n",
    "a = \"나는 배가 \\\\고픕니다.\"\n",
    "print(a)"
   ]
  },
  {
   "cell_type": "code",
   "execution_count": 56,
   "metadata": {},
   "outputs": [
    {
     "name": "stdout",
     "output_type": "stream",
     "text": [
      "나는 배가 '정말' 고픕니다.\n"
     ]
    }
   ],
   "source": [
    "# 문자열은 겉에 ''와 \"\"를 씌우기 때문에, 안에서의 혼동을 방지하기 위한 \\',\\\"\n",
    "a = \"나는 배가 \\'정말\\' 고픕니다.\"\n",
    "print(a)"
   ]
  },
  {
   "cell_type": "code",
   "execution_count": 58,
   "metadata": {},
   "outputs": [
    {
     "name": "stdout",
     "output_type": "stream",
     "text": [
      "그가 말했다. \"나는 배가 고픕니다.\"\n"
     ]
    }
   ],
   "source": [
    "a = \"그가 말했다. \\\"나는 배가 고픕니다.\\\"\"\n",
    "print(a)"
   ]
  },
  {
   "cell_type": "markdown",
   "metadata": {},
   "source": [
    "## 문자열 관련 함수"
   ]
  },
  {
   "cell_type": "markdown",
   "metadata": {},
   "source": [
    "### 문자열 길이: len()"
   ]
  },
  {
   "cell_type": "code",
   "execution_count": 59,
   "metadata": {},
   "outputs": [
    {
     "data": {
      "text/plain": [
       "20"
      ]
     },
     "execution_count": 59,
     "metadata": {},
     "output_type": "execute_result"
    }
   ],
   "source": [
    "quote = \"나는 생각한다. 고로 나는 존재한다.\"\n",
    "# 공백을 포함한 모든 글자를 셉니다.\n",
    "len(quote)"
   ]
  },
  {
   "cell_type": "markdown",
   "metadata": {},
   "source": [
    "### 문자열 인덱싱"
   ]
  },
  {
   "cell_type": "code",
   "execution_count": 60,
   "metadata": {},
   "outputs": [
    {
     "name": "stdout",
     "output_type": "stream",
     "text": [
      "는\n",
      "한\n"
     ]
    }
   ],
   "source": [
    "# 기본적으로 인덱스는 0부터 시작하기 때문에, 주의해야합니다.\n",
    "quote = \"나는 생각한다. 고로 나는 존재한다.\"\n",
    "print(quote[1])\n",
    "print(quote[5])"
   ]
  },
  {
   "cell_type": "code",
   "execution_count": 62,
   "metadata": {},
   "outputs": [
    {
     "name": "stdout",
     "output_type": "stream",
     "text": [
      "나는\n",
      "나는 생각한다. 고로 나는 존재한다.\n"
     ]
    }
   ],
   "source": [
    "# 범위로 자를 수도 있는데, 이때의 범위는 ~이상 ~미만이다. \n",
    "# 앞과 뒤에 아무런 값을 넣지않으면, 각각 처음부터~ 끝까지가 된다.\n",
    "quote = \"나는 생각한다. 고로 나는 존재한다.\"\n",
    "print(quote[:2])\n",
    "print(quote[:])"
   ]
  },
  {
   "cell_type": "code",
   "execution_count": 64,
   "metadata": {},
   "outputs": [
    {
     "name": "stdout",
     "output_type": "stream",
     "text": [
      "나 각다 로나 재다\n"
     ]
    }
   ],
   "source": [
    "# 범위로 자를 수도 있는데, 단계를 건너뛰면서도 가능하다.\n",
    "# 역시 마찬가지로 ~이상 ~미만의 범위는 유지된다.\n",
    "quote = \"나는 생각한다. 고로 나는 존재한다.\"\n",
    "print(quote[::2])"
   ]
  },
  {
   "cell_type": "markdown",
   "metadata": {},
   "source": [
    "### 연습문제\n",
    "a=\"20190505chicken19000\"는 잘못 쓰여진 변수이다.  \n",
    "처음부터 **2019는 year이라는 변수**에, 그 다음 **0505를 day라는 변수**에,  \n",
    "**chicken을 menu라는 변수**에, **19000을 money라는 변수에 각각 저장**하시오.   \n",
    "**(반드시 인덱싱을 사용하시요.)**"
   ]
  },
  {
   "cell_type": "code",
   "execution_count": 72,
   "metadata": {},
   "outputs": [
    {
     "name": "stdout",
     "output_type": "stream",
     "text": [
      "2019 0505 chicken 19000\n"
     ]
    }
   ],
   "source": [
    "a=\"20190505chicken19000\"\n",
    "\n",
    "year = a[:4]\n",
    "day = a[4:8]\n",
    "menu = a[8:15]\n",
    "money = a[15:]\n",
    "\n",
    "print(year, day, menu, money)"
   ]
  },
  {
   "cell_type": "markdown",
   "metadata": {},
   "source": [
    "### 문자열 포맷팅\n",
    "#### 서식문자 이용하기"
   ]
  },
  {
   "cell_type": "code",
   "execution_count": 85,
   "metadata": {},
   "outputs": [
    {
     "data": {
      "text/plain": [
       "'안녕하세요. 나는 강정호 입니다.'"
      ]
     },
     "execution_count": 85,
     "metadata": {},
     "output_type": "execute_result"
    }
   ],
   "source": [
    "name = \"강정호\"\n",
    "a = \"안녕하세요. 나는 %s 입니다.\" % name # 값을 치환한다.\n",
    "a"
   ]
  },
  {
   "cell_type": "code",
   "execution_count": 88,
   "metadata": {},
   "outputs": [
    {
     "data": {
      "text/plain": [
       "'안녕하세요. 나는   강정호 입니다.'"
      ]
     },
     "execution_count": 88,
     "metadata": {},
     "output_type": "execute_result"
    }
   ],
   "source": [
    "name = \"강정호\"\n",
    "a = \"안녕하세요. 나는 %5s 입니다.\" % name # 5칸만큼 오른쪽으로 밀어낸다.\n",
    "a"
   ]
  },
  {
   "cell_type": "code",
   "execution_count": 90,
   "metadata": {},
   "outputs": [
    {
     "data": {
      "text/plain": [
       "'안녕하세요. 나는 강정호   입니다.'"
      ]
     },
     "execution_count": 90,
     "metadata": {},
     "output_type": "execute_result"
    }
   ],
   "source": [
    "name = \"강정호\"\n",
    "a = \"안녕하세요. 나는 %-5s 입니다.\" % name # 5칸만큼 왼쪽으로 밀어낸다.\n",
    "a"
   ]
  },
  {
   "cell_type": "markdown",
   "metadata": {},
   "source": [
    "#### format 함수 이용하기"
   ]
  },
  {
   "cell_type": "code",
   "execution_count": 96,
   "metadata": {},
   "outputs": [
    {
     "name": "stdout",
     "output_type": "stream",
     "text": [
      "안녕하세요. 나는 강정호 입니다. 저는 한양대학교를 졸업했습니다.\n"
     ]
    }
   ],
   "source": [
    "# format 함수는 인덱스를 지정함으로써, 재사용성을 높일 수 있다. 앞에 있는 것을 뒤에서 또 언급이 가능하게 해주기 때문이다.\n",
    "# 또한, 설정한 변수를 변수 그 자체로 format에 사용할 수도 있다.\n",
    "name = \"강정호\"\n",
    "school = '한양대학교'\n",
    "\n",
    "\n",
    "a = \"안녕하세요. 나는 {0} 입니다. 저는 {1}를 졸업했습니다.\".format(name, school)\n",
    "print(a)"
   ]
  },
  {
   "cell_type": "code",
   "execution_count": 97,
   "metadata": {},
   "outputs": [
    {
     "name": "stdout",
     "output_type": "stream",
     "text": [
      "안녕하세요. 나는 강정호 입니다. 저는 한양대학교를 졸업했습니다. 제 취미는 음악감상 입니다.\n"
     ]
    }
   ],
   "source": [
    "name = \"강정호\"\n",
    "school = '한양대학교'\n",
    "hobby = '음악감상'\n",
    "\n",
    "a = \"안녕하세요. 나는 {0} 입니다. 저는 {1}를 졸업했습니다. 제 취미는 {hobby} 입니다.\".format(name, school, hobby=hobby)\n",
    "print(a)"
   ]
  },
  {
   "cell_type": "markdown",
   "metadata": {},
   "source": [
    "### f문자열 포매팅\n",
    "파이썬 3.6 버전부터는 f 문자열 포매팅 기능을 사용할 수 있다. 파이썬 3.6 미만 버전에서는 사용할 수 없는 기능이므로 주의해야 한다.  \n",
    "다음과 같이 문자열 앞에 f 접두사를 붙이면 f 문자열 포매팅 기능을 사용할 수 있다."
   ]
  },
  {
   "cell_type": "code",
   "execution_count": 102,
   "metadata": {},
   "outputs": [
    {
     "name": "stdout",
     "output_type": "stream",
     "text": [
      "이름: 강정호\n",
      "학교: 한양대학교\n",
      "취미: 음악감상\n"
     ]
    }
   ],
   "source": [
    "# {}를 써서 사용한다.\n",
    "name = \"강정호\"\n",
    "school = '한양대학교'\n",
    "hobby = '음악감상'\n",
    "\n",
    "a = f\"이름: {name}\\n학교: {school}\\n취미: {hobby}\"\n",
    "print(a)"
   ]
  },
  {
   "cell_type": "markdown",
   "metadata": {},
   "source": [
    "### 문자열 함수"
   ]
  },
  {
   "cell_type": "markdown",
   "metadata": {},
   "source": [
    "#### count"
   ]
  },
  {
   "cell_type": "code",
   "execution_count": 113,
   "metadata": {},
   "outputs": [
    {
     "data": {
      "text/plain": [
       "2"
      ]
     },
     "execution_count": 113,
     "metadata": {},
     "output_type": "execute_result"
    }
   ],
   "source": [
    "# count 함수는 반드시 하나의 값을 필요로 한다. \n",
    "# str 안에 없는 값은 0을 출력한다.\n",
    "# 대소문자를 구분한다.\n",
    "a = \"Impossible is impossible\"\n",
    "a.count('p')"
   ]
  },
  {
   "cell_type": "markdown",
   "metadata": {},
   "source": [
    "#### index"
   ]
  },
  {
   "cell_type": "code",
   "execution_count": 117,
   "metadata": {},
   "outputs": [
    {
     "data": {
      "text/plain": [
       "6"
      ]
     },
     "execution_count": 117,
     "metadata": {},
     "output_type": "execute_result"
    }
   ],
   "source": [
    "# 인덱스로 접근할때는, 가장 먼저 나온 index 값을 반환한다.\n",
    "a.index('i')"
   ]
  },
  {
   "cell_type": "code",
   "execution_count": 118,
   "metadata": {},
   "outputs": [
    {
     "ename": "ValueError",
     "evalue": "substring not found",
     "output_type": "error",
     "traceback": [
      "\u001b[1;31m---------------------------------------------------------------------------\u001b[0m",
      "\u001b[1;31mValueError\u001b[0m                                Traceback (most recent call last)",
      "\u001b[1;32m<ipython-input-118-317214d0951f>\u001b[0m in \u001b[0;36m<module>\u001b[1;34m\u001b[0m\n\u001b[0;32m      1\u001b[0m \u001b[1;31m# 만약에 str안에 없는 값을 입력한다면, 이번에는 오류를 출력하게 된다.\u001b[0m\u001b[1;33m\u001b[0m\u001b[1;33m\u001b[0m\u001b[1;33m\u001b[0m\u001b[0m\n\u001b[1;32m----> 2\u001b[1;33m \u001b[0ma\u001b[0m\u001b[1;33m.\u001b[0m\u001b[0mindex\u001b[0m\u001b[1;33m(\u001b[0m\u001b[1;34m'z'\u001b[0m\u001b[1;33m)\u001b[0m\u001b[1;33m\u001b[0m\u001b[1;33m\u001b[0m\u001b[0m\n\u001b[0m",
      "\u001b[1;31mValueError\u001b[0m: substring not found"
     ]
    }
   ],
   "source": [
    "# 만약에 str안에 없는 값을 입력한다면, 이번에는 오류를 출력하게 된다.\n",
    "a.index('z')"
   ]
  },
  {
   "cell_type": "markdown",
   "metadata": {},
   "source": [
    "#### upper & lower"
   ]
  },
  {
   "cell_type": "code",
   "execution_count": 126,
   "metadata": {},
   "outputs": [
    {
     "name": "stdout",
     "output_type": "stream",
     "text": [
      "IMPOSSIBLE IS IMPOSSIBLE\n",
      "impossible is impossible\n"
     ]
    }
   ],
   "source": [
    "# upper는 대문자로, lower는 소문자로 바꾸어준다.\n",
    "print(a.upper())\n",
    "print(a.lower())\n",
    "# upper와 lower는 안에 특정한 요소를 집어넣을 수 없다.\n",
    "# print(a.upper('i')) 는 작동하지 않는다."
   ]
  },
  {
   "cell_type": "markdown",
   "metadata": {},
   "source": [
    "#### strip"
   ]
  },
  {
   "cell_type": "code",
   "execution_count": 156,
   "metadata": {},
   "outputs": [
    {
     "name": "stdout",
     "output_type": "stream",
     "text": [
      "            Impossible is impossible              \n",
      "50\n",
      "possible is impossible\n",
      "22\n"
     ]
    }
   ],
   "source": [
    "# strip은 양쪽의 특수한 문자나 공백을 삭제하는데에 사용된다.\n",
    "# lstrip은 왼쪽만, rstrip은 오른쪽을 삭제한다.\n",
    "# 문자를 삭제하는 방법은, 삭제하고 싶은 문자를 입력한 후, 한칸의 공백을 주면 된다.\n",
    "# 연속으로도 가능하다.\n",
    "a = \"            Impossible is impossible              \"\n",
    "b = a.lstrip('Im ').rstrip()\n",
    "print(a)\n",
    "print(len(a))\n",
    "print(b)\n",
    "print(len(b))"
   ]
  },
  {
   "cell_type": "markdown",
   "metadata": {},
   "source": [
    "#### replace"
   ]
  },
  {
   "cell_type": "code",
   "execution_count": 157,
   "metadata": {},
   "outputs": [
    {
     "name": "stdout",
     "output_type": "stream",
     "text": [
      "사랑은 돌아오는거야.\n"
     ]
    }
   ],
   "source": [
    "a = \"사랑은 돌아오는거야.\"\n",
    "print(a)"
   ]
  },
  {
   "cell_type": "code",
   "execution_count": 158,
   "metadata": {},
   "outputs": [
    {
     "name": "stdout",
     "output_type": "stream",
     "text": [
      "우정은 돌아오는거야.\n"
     ]
    }
   ],
   "source": [
    "b = a.replace(\"사랑\", \"우정\")\n",
    "print(b)"
   ]
  },
  {
   "cell_type": "markdown",
   "metadata": {},
   "source": [
    "#### split"
   ]
  },
  {
   "cell_type": "code",
   "execution_count": 159,
   "metadata": {},
   "outputs": [],
   "source": [
    "# split에서 중요한 것은, 분리가 된 값들이 요소들이 되어 리스트로 반환된다는 것이다.\n",
    "scores = \"10:20:50:80:88\"\n",
    "quotes = \"I am a boy. you are a girl.\""
   ]
  },
  {
   "cell_type": "code",
   "execution_count": 160,
   "metadata": {},
   "outputs": [
    {
     "name": "stdout",
     "output_type": "stream",
     "text": [
      "['10', '20', '50', '80', '88']\n",
      "<class 'list'>\n"
     ]
    }
   ],
   "source": [
    "# :를 기준으로 분리해낸다.\n",
    "score = scores.split(\":\")\n",
    "print(score)\n",
    "print(type(score))"
   ]
  },
  {
   "cell_type": "code",
   "execution_count": 162,
   "metadata": {},
   "outputs": [
    {
     "name": "stdout",
     "output_type": "stream",
     "text": [
      "['I', 'am', 'a', 'boy.', 'you', 'are', 'a', 'girl.']\n",
      "['I', 'am', 'a', 'boy.', 'you', 'are', 'a', 'girl.']\n",
      "True\n"
     ]
    }
   ],
   "source": [
    "# \" \" 로 공백을 주는 것은 ()을 입력한 값과 정확하게 일치한다.\n",
    "quote1 = quotes.split(\" \")\n",
    "quote2 = quotes.split()\n",
    "print(quote1)\n",
    "print(quote2)\n",
    "print(quote1==quote2)"
   ]
  },
  {
   "cell_type": "markdown",
   "metadata": {},
   "source": [
    "리스트 부터 다시 시작할 것"
   ]
  },
  {
   "cell_type": "code",
   "execution_count": null,
   "metadata": {},
   "outputs": [],
   "source": []
  }
 ],
 "metadata": {
  "kernelspec": {
   "display_name": "Python 3",
   "language": "python",
   "name": "python3"
  },
  "language_info": {
   "codemirror_mode": {
    "name": "ipython",
    "version": 3
   },
   "file_extension": ".py",
   "mimetype": "text/x-python",
   "name": "python",
   "nbconvert_exporter": "python",
   "pygments_lexer": "ipython3",
   "version": "3.7.3"
  }
 },
 "nbformat": 4,
 "nbformat_minor": 2
}
