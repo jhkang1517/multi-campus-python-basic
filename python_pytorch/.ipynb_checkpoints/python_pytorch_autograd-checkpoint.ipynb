{
 "cells": [
  {
   "cell_type": "code",
   "execution_count": 1,
   "metadata": {},
   "outputs": [],
   "source": [
    "import torch\n",
    "# 과거엔 Variable 현재는 tensor자체에 지원\n",
    "# from torch.autograd import Variable"
   ]
  },
  {
   "cell_type": "markdown",
   "metadata": {},
   "source": [
    "# Autograd"
   ]
  },
  {
   "cell_type": "code",
   "execution_count": 2,
   "metadata": {},
   "outputs": [],
   "source": [
    "# 역전파를 위해서는 이전에 시행했던 노드들의 값을 기억하고 있어야한다. \n",
    "# torch는 이것을 grad라는 곳에 저장함으로써 이를 기억한다. "
   ]
  },
  {
   "cell_type": "code",
   "execution_count": 3,
   "metadata": {},
   "outputs": [
    {
     "data": {
      "text/plain": [
       "False"
      ]
     },
     "execution_count": 3,
     "metadata": {},
     "output_type": "execute_result"
    }
   ],
   "source": [
    "x = torch.ones(1)\n",
    "x.requires_grad"
   ]
  },
  {
   "cell_type": "code",
   "execution_count": 4,
   "metadata": {},
   "outputs": [
    {
     "data": {
      "text/plain": [
       "False"
      ]
     },
     "execution_count": 4,
     "metadata": {},
     "output_type": "execute_result"
    }
   ],
   "source": [
    "y = torch.ones(1)\n",
    "y.requires_grad"
   ]
  },
  {
   "cell_type": "code",
   "execution_count": 5,
   "metadata": {},
   "outputs": [
    {
     "data": {
      "text/plain": [
       "tensor([2.])"
      ]
     },
     "execution_count": 5,
     "metadata": {},
     "output_type": "execute_result"
    }
   ],
   "source": [
    "z = x + y\n",
    "z"
   ]
  },
  {
   "cell_type": "code",
   "execution_count": 6,
   "metadata": {},
   "outputs": [
    {
     "data": {
      "text/plain": [
       "False"
      ]
     },
     "execution_count": 6,
     "metadata": {},
     "output_type": "execute_result"
    }
   ],
   "source": [
    "z.requires_grad"
   ]
  },
  {
   "cell_type": "code",
   "execution_count": 7,
   "metadata": {},
   "outputs": [
    {
     "data": {
      "text/plain": [
       "True"
      ]
     },
     "execution_count": 7,
     "metadata": {},
     "output_type": "execute_result"
    }
   ],
   "source": [
    "# requires_grad_() 호출시 \n",
    "# 계산 결과도 rquires_grad 있음\n",
    "x.requires_grad_() # True라고 만들어줌\n",
    "x.requires_grad"
   ]
  },
  {
   "cell_type": "code",
   "execution_count": 8,
   "metadata": {},
   "outputs": [],
   "source": [
    "z = x + y "
   ]
  },
  {
   "cell_type": "code",
   "execution_count": 9,
   "metadata": {},
   "outputs": [
    {
     "data": {
      "text/plain": [
       "True"
      ]
     },
     "execution_count": 9,
     "metadata": {},
     "output_type": "execute_result"
    }
   ],
   "source": [
    "z.requires_grad # x는 True이지만 y는 False임에도, Ture가 된다."
   ]
  },
  {
   "cell_type": "markdown",
   "metadata": {},
   "source": [
    "## Backward"
   ]
  },
  {
   "cell_type": "code",
   "execution_count": 10,
   "metadata": {},
   "outputs": [
    {
     "data": {
      "text/plain": [
       "tensor([1.], requires_grad=True)"
      ]
     },
     "execution_count": 10,
     "metadata": {},
     "output_type": "execute_result"
    }
   ],
   "source": [
    "x"
   ]
  },
  {
   "cell_type": "code",
   "execution_count": 11,
   "metadata": {},
   "outputs": [
    {
     "data": {
      "text/plain": [
       "tensor([[1., 2.],\n",
       "        [3., 4.]], requires_grad=True)"
      ]
     },
     "execution_count": 11,
     "metadata": {},
     "output_type": "execute_result"
    }
   ],
   "source": [
    "y = torch.tensor([[1, 2], [3, 4]], dtype=torch.float32, requires_grad=True)\n",
    "# 나는 grad를 True로 둔다, grad를 측정할 것이다. 즉 나는 backward를 할 것이다.\n",
    "y"
   ]
  },
  {
   "cell_type": "code",
   "execution_count": 12,
   "metadata": {},
   "outputs": [
    {
     "data": {
      "text/plain": [
       "tensor(10., grad_fn=<SumBackward0>)"
      ]
     },
     "execution_count": 12,
     "metadata": {},
     "output_type": "execute_result"
    }
   ],
   "source": [
    "y.sum()\n",
    "# grad_function이 생겨났다. 후에 SumBackward0를 사용하겠다는 의미 "
   ]
  },
  {
   "cell_type": "code",
   "execution_count": 13,
   "metadata": {},
   "outputs": [
    {
     "data": {
      "text/plain": [
       "tensor(4., grad_fn=<MaxBackward1>)"
      ]
     },
     "execution_count": 13,
     "metadata": {},
     "output_type": "execute_result"
    }
   ],
   "source": [
    "y.max()"
   ]
  },
  {
   "cell_type": "code",
   "execution_count": 14,
   "metadata": {},
   "outputs": [
    {
     "data": {
      "text/plain": [
       "tensor([[3., 5.],\n",
       "        [7., 9.]], grad_fn=<AddBackward0>)"
      ]
     },
     "execution_count": 14,
     "metadata": {},
     "output_type": "execute_result"
    }
   ],
   "source": [
    "z = 2*y + 1\n",
    "z"
   ]
  },
  {
   "cell_type": "code",
   "execution_count": 15,
   "metadata": {},
   "outputs": [
    {
     "name": "stdout",
     "output_type": "stream",
     "text": [
      "y.requires_grad : True\n",
      "z.requires_grad : True\n",
      "\n",
      "y.grad : None\n",
      "z.grad : None\n",
      "\n",
      "y.grad_fn : None\n",
      "z.grad_fn : <AddBackward0 object at 0x000000000879D2E8>\n"
     ]
    }
   ],
   "source": [
    "print(\"y.requires_grad :\", y.requires_grad)\n",
    "print(\"z.requires_grad :\", z.requires_grad)\n",
    "\n",
    "print(\"\")\n",
    "\n",
    "print(\"y.grad :\", y.grad) # 아직X\n",
    "print(\"z.grad :\", z.grad) # 아직X\n",
    "\n",
    "print(\"\")\n",
    "\n",
    "print(\"y.grad_fn :\", y.grad_fn)\n",
    "print(\"z.grad_fn :\", z.grad_fn)"
   ]
  },
  {
   "cell_type": "code",
   "execution_count": 16,
   "metadata": {},
   "outputs": [],
   "source": [
    "z.backward(torch.eye(2,2, dtype=torch.float32))\n",
    "# 이 단위행렬이 이해가 가지 않습니다. \n",
    "# backward: 뒤로 가겠다. "
   ]
  },
  {
   "cell_type": "code",
   "execution_count": 17,
   "metadata": {},
   "outputs": [
    {
     "name": "stdout",
     "output_type": "stream",
     "text": [
      "y.requires_grad : True\n",
      "z.requires_grad : True\n",
      "\n",
      "y.grad : tensor([[2., 0.],\n",
      "        [0., 2.]])\n",
      "z.grad : None\n",
      "\n",
      "y.grad_fn : None\n",
      "z.grad_fn : <AddBackward0 object at 0x000000000879B828>\n"
     ]
    }
   ],
   "source": [
    "print(\"y.requires_grad :\", y.requires_grad)\n",
    "print(\"z.requires_grad :\", z.requires_grad)\n",
    "\n",
    "print(\"\")\n",
    "\n",
    "print(\"y.grad :\", y.grad) # 역전파 (z.backward 후)\n",
    "print(\"z.grad :\", z.grad) # 아직X\n",
    "\n",
    "print(\"\")\n",
    "\n",
    "print(\"y.grad_fn :\", y.grad_fn)\n",
    "print(\"z.grad_fn :\", z.grad_fn)"
   ]
  },
  {
   "cell_type": "code",
   "execution_count": 18,
   "metadata": {},
   "outputs": [
    {
     "data": {
      "text/plain": [
       "tensor([[  54.,  250.],\n",
       "        [ 686., 1458.]], grad_fn=<MulBackward0>)"
      ]
     },
     "execution_count": 18,
     "metadata": {},
     "output_type": "execute_result"
    }
   ],
   "source": [
    "out = z * 2 * z**2\n",
    "out"
   ]
  },
  {
   "cell_type": "code",
   "execution_count": 19,
   "metadata": {},
   "outputs": [
    {
     "name": "stdout",
     "output_type": "stream",
     "text": [
      "y.requires_grad : True\n",
      "z.requires_grad : True\n",
      "out.requires_grad : True\n",
      "\n",
      "y.grad : tensor([[2., 0.],\n",
      "        [0., 2.]])\n",
      "z.grad : None\n",
      "out.grad : None\n",
      "\n",
      "y.grad_fn : None\n",
      "z.grad_fn : <AddBackward0 object at 0x00000000087A99B0>\n",
      "out.grad_fn : <MulBackward0 object at 0x000000000879D400>\n"
     ]
    }
   ],
   "source": [
    "# requires_grad의 의미는 backward를 하겠고\n",
    "# 역전파를 하겠다는 의미이고\n",
    "# grad_function이 작동할때마다 tenser에 저장하겠다. \n",
    "\n",
    "print(\"y.requires_grad :\", y.requires_grad)\n",
    "print(\"z.requires_grad :\", z.requires_grad)\n",
    "print(\"out.requires_grad :\", out.requires_grad)\n",
    "\n",
    "print(\"\")\n",
    "\n",
    "print(\"y.grad :\", y.grad)\n",
    "print(\"z.grad :\", z.grad)\n",
    "print(\"out.grad :\", out.grad)\n",
    "\n",
    "print(\"\")\n",
    "\n",
    "print(\"y.grad_fn :\", y.grad_fn)\n",
    "print(\"z.grad_fn :\", z.grad_fn)\n",
    "print(\"out.grad_fn :\", out.grad_fn)"
   ]
  },
  {
   "cell_type": "code",
   "execution_count": 20,
   "metadata": {},
   "outputs": [
    {
     "data": {
      "text/plain": [
       "(<MulBackward0 at 0x879d630>,\n",
       " ((<MulBackward0 at 0x879d0b8>, 0), (<PowBackward0 at 0x879d4a8>, 0)))"
      ]
     },
     "execution_count": 20,
     "metadata": {},
     "output_type": "execute_result"
    }
   ],
   "source": [
    "out.grad_fn, out.grad_fn.next_functions"
   ]
  },
  {
   "cell_type": "code",
   "execution_count": null,
   "metadata": {},
   "outputs": [],
   "source": [
    "# requires_grad 값을 저장할 tensor \n"
   ]
  }
 ],
 "metadata": {
  "kernelspec": {
   "display_name": "Python 3",
   "language": "python",
   "name": "python3"
  },
  "language_info": {
   "codemirror_mode": {
    "name": "ipython",
    "version": 3
   },
   "file_extension": ".py",
   "mimetype": "text/x-python",
   "name": "python",
   "nbconvert_exporter": "python",
   "pygments_lexer": "ipython3",
   "version": "3.7.3"
  }
 },
 "nbformat": 4,
 "nbformat_minor": 2
}
