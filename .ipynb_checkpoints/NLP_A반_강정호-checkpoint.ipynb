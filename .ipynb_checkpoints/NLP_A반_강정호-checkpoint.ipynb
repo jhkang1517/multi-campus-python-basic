{
 "cells": [
  {
   "cell_type": "markdown",
   "metadata": {},
   "source": [
    "### 문제 1\n",
    "**1. 다음 두 문장의 TDM(Term-Document Matrix)을 dataframe으로 생성하는 코드를 작성하시오**\n",
    " * (토큰화는 공백을 기준으로 함)"
   ]
  },
  {
   "cell_type": "code",
   "execution_count": 136,
   "metadata": {},
   "outputs": [
    {
     "data": {
      "text/html": [
       "<div>\n",
       "<style scoped>\n",
       "    .dataframe tbody tr th:only-of-type {\n",
       "        vertical-align: middle;\n",
       "    }\n",
       "\n",
       "    .dataframe tbody tr th {\n",
       "        vertical-align: top;\n",
       "    }\n",
       "\n",
       "    .dataframe thead th {\n",
       "        text-align: right;\n",
       "    }\n",
       "</style>\n",
       "<table border=\"1\" class=\"dataframe\">\n",
       "  <thead>\n",
       "    <tr style=\"text-align: right;\">\n",
       "      <th></th>\n",
       "      <th>A반은</th>\n",
       "      <th>그래도</th>\n",
       "      <th>더</th>\n",
       "      <th>마라탕을</th>\n",
       "      <th>먹지</th>\n",
       "      <th>않을거야.</th>\n",
       "      <th>이상</th>\n",
       "      <th>좋아해</th>\n",
       "    </tr>\n",
       "  </thead>\n",
       "  <tbody>\n",
       "    <tr>\n",
       "      <th>doc1</th>\n",
       "      <td>1</td>\n",
       "      <td>0</td>\n",
       "      <td>0</td>\n",
       "      <td>1</td>\n",
       "      <td>0</td>\n",
       "      <td>0</td>\n",
       "      <td>0</td>\n",
       "      <td>1</td>\n",
       "    </tr>\n",
       "    <tr>\n",
       "      <th>doc2</th>\n",
       "      <td>1</td>\n",
       "      <td>1</td>\n",
       "      <td>1</td>\n",
       "      <td>2</td>\n",
       "      <td>1</td>\n",
       "      <td>1</td>\n",
       "      <td>1</td>\n",
       "      <td>1</td>\n",
       "    </tr>\n",
       "  </tbody>\n",
       "</table>\n",
       "</div>"
      ],
      "text/plain": [
       "      A반은  그래도  더  마라탕을  먹지  않을거야.  이상  좋아해\n",
       "doc1    1    0  0     1   0      0   0    1\n",
       "doc2    1    1  1     2   1      1   1    1"
      ]
     },
     "execution_count": 136,
     "metadata": {},
     "output_type": "execute_result"
    }
   ],
   "source": [
    "import nltk\n",
    "from nltk.tokenize import SpaceTokenizer\n",
    "import pandas as pd \n",
    "\n",
    "doc1 = \"A반은 마라탕을 좋아해\"\n",
    "doc2 = \"A반은 마라탕을 더 이상 먹지 않을거야. 그래도 마라탕을 좋아해\"\n",
    "\n",
    "# nltk.SpaceTokenizer?\n",
    "# nltk.tokenize?\n",
    "\n",
    "doc1_tokenized = nltk.SpaceTokenizer().tokenize(doc1)\n",
    "doc2_tokenized = nltk.SpaceTokenizer().tokenize(doc2)\n",
    "doc1_tokenized.extend(doc2_tokenized)\n",
    "for_columns = list(set(doc1_tokenized))\n",
    "for_columns.sort()\n",
    "# print(for_columns)\n",
    "\n",
    "doc1_spacetoken = doc1.split()\n",
    "doc2_spacetoken = doc2.split()\n",
    "\n",
    "df = pd.DataFrame(columns = for_columns, index=['doc1','doc2'])\n",
    "df[:] = 0\n",
    "\n",
    "for idx, val in enumerate(doc1_spacetoken):\n",
    "#     print(idx, val)\n",
    "    if val in df.columns:\n",
    "        df[val]['doc1'] += 1\n",
    "        \n",
    "for idx, val in enumerate(doc2_spacetoken):\n",
    "    if val in df.columns:\n",
    "        df[val]['doc2'] += 1\n",
    "        \n",
    "df"
   ]
  },
  {
   "cell_type": "markdown",
   "metadata": {},
   "source": [
    "## 문제 2\n",
    "**다음 예문의 뉴스기사이다. 정규 표현식을 사용하여 다음 불필요 문구(기자정보, 날짜정보)를 제거하는 코드를 작성하시오**"
   ]
  },
  {
   "cell_type": "code",
   "execution_count": 144,
   "metadata": {},
   "outputs": [
    {
     "data": {
      "text/plain": [
       "'(19|20)\\\\d{2}-(0[1-9]|1[012])-(0[1-9]|[12]|[0-9]|3[0-1])*'"
      ]
     },
     "execution_count": 144,
     "metadata": {},
     "output_type": "execute_result"
    }
   ],
   "source": [
    "import re\n",
    "\"(19|20)\\d{2}-(0[1-9]|1[012])-(0[1-9]|[12]|[0-9]|3[0-1])*\"\n",
    "\n",
    "# 아..... "
   ]
  },
  {
   "cell_type": "markdown",
   "metadata": {},
   "source": [
    "## 문제 3\n",
    "polarity score과 intensity 계산"
   ]
  },
  {
   "cell_type": "code",
   "execution_count": 145,
   "metadata": {},
   "outputs": [
    {
     "name": "stdout",
     "output_type": "stream",
     "text": [
      "3.818181818181818\n",
      "0.40909090909090906\n",
      "1.090909090909091\n",
      "0.5454545454545455\n"
     ]
    }
   ],
   "source": [
    "# polarity score\n",
    "print((7000/55000) / (3000/90000))\n",
    "print((3000/55000) / (12000/90000))\n",
    "print((40000/55000) / (60000/90000))\n",
    "print((5000/55000) / (15000/90000))"
   ]
  },
  {
   "cell_type": "code",
   "execution_count": 146,
   "metadata": {},
   "outputs": [],
   "source": [
    "# intensity 공식....정호야 생각하자..."
   ]
  }
 ],
 "metadata": {
  "kernelspec": {
   "display_name": "Python 3",
   "language": "python",
   "name": "python3"
  },
  "language_info": {
   "codemirror_mode": {
    "name": "ipython",
    "version": 3
   },
   "file_extension": ".py",
   "mimetype": "text/x-python",
   "name": "python",
   "nbconvert_exporter": "python",
   "pygments_lexer": "ipython3",
   "version": "3.7.3"
  }
 },
 "nbformat": 4,
 "nbformat_minor": 2
}
