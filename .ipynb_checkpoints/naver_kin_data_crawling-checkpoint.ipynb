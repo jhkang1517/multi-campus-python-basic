{
 "cells": [
  {
   "cell_type": "code",
   "execution_count": null,
   "metadata": {},
   "outputs": [],
   "source": [
    "import requests\n",
    "from bs4 import BeautifulSoup"
   ]
  },
  {
   "cell_type": "code",
   "execution_count": null,
   "metadata": {},
   "outputs": [],
   "source": [
    "url = \"https://www.naver.com\"\n",
    "resp = requests.get(url)"
   ]
  },
  {
   "cell_type": "code",
   "execution_count": null,
   "metadata": {},
   "outputs": [],
   "source": [
    "resp\n",
    "# resp.url\n",
    "# resp.content\n",
    "# resp.text # 웹사이트에서 f12를 눌러 보이는 것과 똑같은 것을 가져온다. content 도 마찬가지."
   ]
  },
  {
   "cell_type": "code",
   "execution_count": null,
   "metadata": {},
   "outputs": [],
   "source": [
    "soup = BeautifulSoup(resp.content, 'html.parser') # html.parser 생략 가능"
   ]
  },
  {
   "cell_type": "markdown",
   "metadata": {},
   "source": [
    "### prettify()"
   ]
  },
  {
   "cell_type": "code",
   "execution_count": null,
   "metadata": {},
   "outputs": [],
   "source": [
    "# soup"
   ]
  },
  {
   "cell_type": "code",
   "execution_count": null,
   "metadata": {},
   "outputs": [],
   "source": [
    "# print(soup.prettify())"
   ]
  },
  {
   "cell_type": "markdown",
   "metadata": {},
   "source": [
    "### soup.  \\[tag_name]"
   ]
  },
  {
   "cell_type": "code",
   "execution_count": null,
   "metadata": {},
   "outputs": [],
   "source": [
    "soup.title # 보통 tap에 보이는 title을 가져온다."
   ]
  },
  {
   "cell_type": "code",
   "execution_count": null,
   "metadata": {},
   "outputs": [],
   "source": [
    "# 태그 이름\n",
    "soup.title.name "
   ]
  },
  {
   "cell_type": "code",
   "execution_count": null,
   "metadata": {},
   "outputs": [],
   "source": [
    "# 태그 내 문자열\n",
    "soup.title.string"
   ]
  },
  {
   "cell_type": "code",
   "execution_count": null,
   "metadata": {},
   "outputs": [],
   "source": [
    "# 태그 내 문자\n",
    "soup.title.text"
   ]
  },
  {
   "cell_type": "code",
   "execution_count": null,
   "metadata": {},
   "outputs": [],
   "source": [
    "# 태그 내 문자열\n",
    "soup.body.string"
   ]
  },
  {
   "cell_type": "code",
   "execution_count": null,
   "metadata": {},
   "outputs": [],
   "source": [
    "# 태그 내 텍스트 전체\n",
    "# soup.body.text"
   ]
  },
  {
   "cell_type": "code",
   "execution_count": null,
   "metadata": {},
   "outputs": [],
   "source": [
    "soup.title.parent # 부모들"
   ]
  },
  {
   "cell_type": "code",
   "execution_count": null,
   "metadata": {},
   "outputs": [],
   "source": [
    "soup.p"
   ]
  },
  {
   "cell_type": "markdown",
   "metadata": {},
   "source": [
    "### 태그의 속성 접근"
   ]
  },
  {
   "cell_type": "code",
   "execution_count": null,
   "metadata": {},
   "outputs": [],
   "source": [
    "# 태그의 속성 접근\n",
    "soup.p.attrs\n"
   ]
  },
  {
   "cell_type": "code",
   "execution_count": null,
   "metadata": {},
   "outputs": [],
   "source": [
    "# 태그의 속성 접근2\n",
    "# key값으로 접근\n",
    "soup.p['class'] "
   ]
  },
  {
   "cell_type": "markdown",
   "metadata": {},
   "source": [
    "### find_all(tag, 속성) / find(tag, 속성)"
   ]
  },
  {
   "cell_type": "code",
   "execution_count": null,
   "metadata": {},
   "outputs": [],
   "source": [
    "resp = requests.get(\"https://search.naver.com/search.naver\")\n",
    "resp"
   ]
  },
  {
   "cell_type": "code",
   "execution_count": null,
   "metadata": {},
   "outputs": [],
   "source": [
    "soup = BeautifulSoup(resp.content, 'html.parser')"
   ]
  },
  {
   "cell_type": "code",
   "execution_count": null,
   "metadata": {
    "scrolled": true
   },
   "outputs": [],
   "source": [
    "# soup.find\n",
    "# 가장 먼저 나오는 하나\n",
    "soup.find('div')"
   ]
  },
  {
   "cell_type": "markdown",
   "metadata": {},
   "source": [
    "### find_all"
   ]
  },
  {
   "cell_type": "code",
   "execution_count": null,
   "metadata": {},
   "outputs": [],
   "source": [
    "# soup.find_all\n",
    "# list로 나온다.\n",
    "soup.find_all('div')"
   ]
  },
  {
   "cell_type": "code",
   "execution_count": null,
   "metadata": {},
   "outputs": [],
   "source": [
    "len(soup.find_all('div'))\n",
    "# divide 혹은 division 가장 많이 사용되는 태그"
   ]
  },
  {
   "cell_type": "markdown",
   "metadata": {},
   "source": [
    "##### find_all with list"
   ]
  },
  {
   "cell_type": "code",
   "execution_count": null,
   "metadata": {},
   "outputs": [],
   "source": [
    "# a하고 p 같이 찾기\n",
    "# a와 p 태그를 찾는다.\n",
    "soup.find_all(['a', 'p'])"
   ]
  },
  {
   "cell_type": "markdown",
   "metadata": {},
   "source": [
    "### find_all 갯수 제한"
   ]
  },
  {
   "cell_type": "code",
   "execution_count": null,
   "metadata": {},
   "outputs": [],
   "source": [
    "# limit으로 갯수를 제한.\n",
    "len(soup.find_all('div', limit=10))"
   ]
  },
  {
   "cell_type": "markdown",
   "metadata": {},
   "source": [
    "### find_all 재귀 X"
   ]
  },
  {
   "cell_type": "code",
   "execution_count": null,
   "metadata": {},
   "outputs": [],
   "source": [
    "len(soup.body.find_all(\"div\", recursive=False))\n",
    "# 자기 자식들 중 에서만 찾습니다. \n",
    "# default 값은 True\n",
    "# javascript의 경우에는 숫자가 세어지지 않는다."
   ]
  },
  {
   "cell_type": "markdown",
   "metadata": {},
   "source": [
    "### 속성으로 찾기"
   ]
  },
  {
   "cell_type": "markdown",
   "metadata": {},
   "source": [
    "##### 특별한 속성"
   ]
  },
  {
   "cell_type": "code",
   "execution_count": null,
   "metadata": {
    "scrolled": true
   },
   "outputs": [],
   "source": [
    "soup.find_all(id=\"main_pack\")\n",
    "# 속성으로 찾기"
   ]
  },
  {
   "cell_type": "code",
   "execution_count": null,
   "metadata": {
    "scrolled": true
   },
   "outputs": [],
   "source": [
    "# 속성으로 찾기\n",
    "realtime_search = soup.find(class_='realtime_srch')\n",
    "realtime_search"
   ]
  },
  {
   "cell_type": "markdown",
   "metadata": {},
   "source": [
    "##### 어떤 속성으로든"
   ]
  },
  {
   "cell_type": "code",
   "execution_count": null,
   "metadata": {
    "scrolled": true
   },
   "outputs": [],
   "source": [
    "realtime_search = soup.find(attrs={'class': 'realtime_srch'})\n",
    "realtime_search\n",
    "# 위와 동일한 결과가 출력된다."
   ]
  },
  {
   "cell_type": "code",
   "execution_count": null,
   "metadata": {},
   "outputs": [],
   "source": [
    "lnb_tag = soup.find(attrs={'href': '#lnb'})\n",
    "lnb_tag"
   ]
  },
  {
   "cell_type": "code",
   "execution_count": null,
   "metadata": {
    "scrolled": true
   },
   "outputs": [],
   "source": [
    "realtime_ol = realtime_search.find('ol', class_='lst_realtime_srch')\n",
    "realtime_ol\n",
    "# 태그의 태그로도 역시 가능하다. "
   ]
  },
  {
   "cell_type": "code",
   "execution_count": null,
   "metadata": {},
   "outputs": [],
   "source": []
  },
  {
   "cell_type": "markdown",
   "metadata": {},
   "source": [
    "### contents / children for # direct children"
   ]
  },
  {
   "cell_type": "code",
   "execution_count": null,
   "metadata": {},
   "outputs": [],
   "source": [
    "# contents\n",
    "# 자식들을 다 가져온다. \n",
    "realtime_ol.contents"
   ]
  },
  {
   "cell_type": "code",
   "execution_count": null,
   "metadata": {},
   "outputs": [],
   "source": [
    "len(realtime_ol.contents)"
   ]
  },
  {
   "cell_type": "code",
   "execution_count": null,
   "metadata": {},
   "outputs": [],
   "source": [
    "realtime_ol.children"
   ]
  },
  {
   "cell_type": "code",
   "execution_count": null,
   "metadata": {},
   "outputs": [],
   "source": [
    "# contents와 같은데 iterator로 가져옴.\n",
    "for li in realtime_ol.children:\n",
    "    print(li)\n",
    "# 반복해서 가져오게 하려면 for문 필요"
   ]
  },
  {
   "cell_type": "code",
   "execution_count": null,
   "metadata": {},
   "outputs": [],
   "source": []
  },
  {
   "cell_type": "markdown",
   "metadata": {},
   "source": [
    "### .descendants  모든 자손을 가져오자"
   ]
  },
  {
   "cell_type": "code",
   "execution_count": null,
   "metadata": {},
   "outputs": [],
   "source": [
    "realtime_ol.descendants"
   ]
  },
  {
   "cell_type": "code",
   "execution_count": null,
   "metadata": {},
   "outputs": [],
   "source": [
    "for idx, x in enumerate(realtime_ol.descendants):\n",
    "    print(idx, x)"
   ]
  },
  {
   "cell_type": "markdown",
   "metadata": {},
   "source": [
    "### parents # 바로 부모"
   ]
  },
  {
   "cell_type": "code",
   "execution_count": null,
   "metadata": {},
   "outputs": [],
   "source": [
    "realtime_ol.parent"
   ]
  },
  {
   "cell_type": "markdown",
   "metadata": {},
   "source": [
    "### parents : 조상 generator"
   ]
  },
  {
   "cell_type": "code",
   "execution_count": null,
   "metadata": {},
   "outputs": [],
   "source": [
    "# parents : generator\n",
    "for idx, parent in enumerate(realtime_ol.parents):\n",
    "    print(idx, parent.name)\n"
   ]
  },
  {
   "cell_type": "markdown",
   "metadata": {},
   "source": [
    "### siblings"
   ]
  },
  {
   "cell_type": "code",
   "execution_count": null,
   "metadata": {
    "scrolled": true
   },
   "outputs": [],
   "source": [
    "# 첫번째 컨텐츠\n",
    "realtime_contents = realtime_ol.contents\n",
    "realtime_contents"
   ]
  },
  {
   "cell_type": "code",
   "execution_count": null,
   "metadata": {},
   "outputs": [],
   "source": [
    "first = realtime_contents[0]\n",
    "first"
   ]
  },
  {
   "cell_type": "code",
   "execution_count": null,
   "metadata": {},
   "outputs": [],
   "source": [
    "second = first.next_sibling\n",
    "second"
   ]
  },
  {
   "cell_type": "code",
   "execution_count": null,
   "metadata": {
    "scrolled": true
   },
   "outputs": [],
   "source": [
    "# 다음 형제들의 generator\n",
    "for n_siblings in first.next_siblings:\n",
    "    print(n_siblings)\n",
    "    print(\"-\"* 10)"
   ]
  },
  {
   "cell_type": "code",
   "execution_count": null,
   "metadata": {},
   "outputs": [],
   "source": [
    "before_second = second.previous_sibling\n",
    "before_second\n",
    "# 이전 sibling."
   ]
  },
  {
   "cell_type": "code",
   "execution_count": null,
   "metadata": {},
   "outputs": [],
   "source": [
    "# 이전 형제들의 generator\n",
    "before_siblings = second.previous_siblings\n",
    "before_siblings"
   ]
  },
  {
   "cell_type": "markdown",
   "metadata": {},
   "source": [
    "### element : 요소로 접근하기 (tree X)"
   ]
  },
  {
   "cell_type": "code",
   "execution_count": null,
   "metadata": {},
   "outputs": [],
   "source": [
    "first.next_element"
   ]
  },
  {
   "cell_type": "code",
   "execution_count": null,
   "metadata": {},
   "outputs": [],
   "source": [
    "first.next_elements"
   ]
  },
  {
   "cell_type": "code",
   "execution_count": null,
   "metadata": {},
   "outputs": [],
   "source": [
    "first.next_element.next_element"
   ]
  },
  {
   "cell_type": "code",
   "execution_count": null,
   "metadata": {
    "scrolled": true
   },
   "outputs": [],
   "source": [
    "first.previous_element"
   ]
  },
  {
   "cell_type": "markdown",
   "metadata": {},
   "source": [
    "### find_all with string(문자열로 문자열 찾기)"
   ]
  },
  {
   "cell_type": "code",
   "execution_count": null,
   "metadata": {},
   "outputs": [],
   "source": [
    "news_topics = soup.find_all(string=\"뉴스토픽\")\n",
    "news_topics"
   ]
  },
  {
   "cell_type": "code",
   "execution_count": null,
   "metadata": {},
   "outputs": [],
   "source": [
    "news_topics[0].parent"
   ]
  },
  {
   "cell_type": "code",
   "execution_count": null,
   "metadata": {},
   "outputs": [],
   "source": [
    "news_topics[1].parent"
   ]
  },
  {
   "cell_type": "code",
   "execution_count": null,
   "metadata": {
    "scrolled": true
   },
   "outputs": [],
   "source": [
    "news_topics[2].parent"
   ]
  },
  {
   "cell_type": "markdown",
   "metadata": {},
   "source": [
    "### find_next_siblings() // find_next_sibling()\n",
    "### find_previous_siblings() // find_previous_sibling()\n",
    "\n",
    "태그 지정해서 sibling 찾기"
   ]
  },
  {
   "cell_type": "code",
   "execution_count": null,
   "metadata": {},
   "outputs": [],
   "source": [
    "ol_tag = first.parent"
   ]
  },
  {
   "cell_type": "code",
   "execution_count": null,
   "metadata": {},
   "outputs": [],
   "source": [
    "ol_tag.find_next_siblings('ol')"
   ]
  },
  {
   "cell_type": "code",
   "execution_count": null,
   "metadata": {},
   "outputs": [],
   "source": [
    "div_tag = ol_tag.find_next_sibling('div')\n",
    "div_tag"
   ]
  },
  {
   "cell_type": "code",
   "execution_count": null,
   "metadata": {},
   "outputs": [],
   "source": [
    "div_tag.find_previous_siblings('ol')"
   ]
  },
  {
   "cell_type": "markdown",
   "metadata": {},
   "source": [
    "### find_all_next(), find_next()\n",
    "### find_all_previous(), find_previous()\n",
    "태그 지정해서 element 찾기"
   ]
  },
  {
   "cell_type": "code",
   "execution_count": null,
   "metadata": {},
   "outputs": [],
   "source": [
    "div_tag.find_all_next('a')"
   ]
  },
  {
   "cell_type": "code",
   "execution_count": null,
   "metadata": {},
   "outputs": [],
   "source": [
    "div_tag.find_next('a')"
   ]
  },
  {
   "cell_type": "code",
   "execution_count": null,
   "metadata": {},
   "outputs": [],
   "source": [
    "div_tag.find_all_previous('a')"
   ]
  },
  {
   "cell_type": "code",
   "execution_count": null,
   "metadata": {},
   "outputs": [],
   "source": [
    "div_tag.find_previous('a')"
   ]
  },
  {
   "cell_type": "code",
   "execution_count": null,
   "metadata": {},
   "outputs": [],
   "source": [
    "BeautifulSoup?"
   ]
  },
  {
   "cell_type": "code",
   "execution_count": null,
   "metadata": {},
   "outputs": [],
   "source": [
    "requests?"
   ]
  },
  {
   "cell_type": "code",
   "execution_count": null,
   "metadata": {},
   "outputs": [],
   "source": []
  },
  {
   "cell_type": "markdown",
   "metadata": {},
   "source": [
    "# BS 정리"
   ]
  },
  {
   "cell_type": "code",
   "execution_count": null,
   "metadata": {},
   "outputs": [],
   "source": [
    "resp = requests.get('https://search.naver.com/search.naver?&where=news&query=무역전쟁')"
   ]
  },
  {
   "cell_type": "code",
   "execution_count": null,
   "metadata": {},
   "outputs": [],
   "source": [
    "soup = BeautifulSoup(resp.content, 'html.parser')"
   ]
  },
  {
   "cell_type": "code",
   "execution_count": null,
   "metadata": {},
   "outputs": [],
   "source": [
    "news_topic = soup.find('div', id=\"nxfr_htp\")\n"
   ]
  },
  {
   "cell_type": "code",
   "execution_count": null,
   "metadata": {},
   "outputs": [],
   "source": [
    "type(news_topic)"
   ]
  },
  {
   "cell_type": "code",
   "execution_count": null,
   "metadata": {},
   "outputs": [],
   "source": [
    "news_topic_all = soup.find_all('div', id=\"nxfr_htp\")\n"
   ]
  },
  {
   "cell_type": "code",
   "execution_count": null,
   "metadata": {},
   "outputs": [],
   "source": [
    "type(news_topic_all[0])"
   ]
  },
  {
   "cell_type": "markdown",
   "metadata": {},
   "source": [
    "### 태그여야만 (find, find_all 등을 사용할 수 있어요.) "
   ]
  },
  {
   "cell_type": "code",
   "execution_count": null,
   "metadata": {},
   "outputs": [],
   "source": [
    "len(news_topic.find('ol'))"
   ]
  },
  {
   "cell_type": "code",
   "execution_count": null,
   "metadata": {
    "scrolled": true
   },
   "outputs": [],
   "source": [
    "news_topic_all.find('ol')"
   ]
  },
  {
   "cell_type": "code",
   "execution_count": null,
   "metadata": {},
   "outputs": [],
   "source": [
    "type(news_topic)"
   ]
  },
  {
   "cell_type": "code",
   "execution_count": null,
   "metadata": {},
   "outputs": [],
   "source": [
    "type(news_topic_all)"
   ]
  },
  {
   "cell_type": "code",
   "execution_count": null,
   "metadata": {},
   "outputs": [],
   "source": [
    "# li찾기\n",
    "len(news_topic.find_all('li'))"
   ]
  },
  {
   "cell_type": "code",
   "execution_count": null,
   "metadata": {},
   "outputs": [],
   "source": [
    "ol_tags = news_topic.find_all('ol')\n",
    "len(ol_tags)"
   ]
  },
  {
   "cell_type": "code",
   "execution_count": null,
   "metadata": {},
   "outputs": [],
   "source": [
    "news_ol, sports_ol = ol_tags"
   ]
  },
  {
   "cell_type": "markdown",
   "metadata": {},
   "source": [
    "### news_ol\n",
    "### .contents"
   ]
  },
  {
   "cell_type": "code",
   "execution_count": null,
   "metadata": {},
   "outputs": [],
   "source": [
    "len(news_ol.contents)"
   ]
  },
  {
   "cell_type": "code",
   "execution_count": null,
   "metadata": {
    "scrolled": true
   },
   "outputs": [],
   "source": [
    "news_ol.contents"
   ]
  },
  {
   "cell_type": "code",
   "execution_count": null,
   "metadata": {},
   "outputs": [],
   "source": [
    "li_list = news_ol.contents\n"
   ]
  },
  {
   "cell_type": "code",
   "execution_count": null,
   "metadata": {},
   "outputs": [],
   "source": [
    "for item in li_list:\n",
    "    a_tag = item.find('a')\n",
    "    # print(item.contents[0])\n",
    "    # print(item.a)\n",
    "    print(a_tag)\n",
    "    print(\"=\"*50)\n",
    "#     print(a_tag.attrs['href'])\n",
    "    # a_tag['']\n",
    "    # print(a_tag.text)\n",
    "    span_tag = a_tag.find('span', class_=\"tit\")\n",
    "    # print(span_tag)\n",
    "    span_text = span_tag.text\n",
    "    print(span_text)\n",
    "    break"
   ]
  },
  {
   "cell_type": "code",
   "execution_count": null,
   "metadata": {},
   "outputs": [],
   "source": [
    "type(li_list[0])"
   ]
  },
  {
   "cell_type": "code",
   "execution_count": null,
   "metadata": {},
   "outputs": [],
   "source": []
  },
  {
   "cell_type": "markdown",
   "metadata": {},
   "source": [
    "# 네이버 지식인 크롤링"
   ]
  },
  {
   "cell_type": "code",
   "execution_count": null,
   "metadata": {},
   "outputs": [],
   "source": [
    "import requests\n",
    "from bs4 import BeautifulSoup\n",
    "import pprint"
   ]
  },
  {
   "cell_type": "code",
   "execution_count": null,
   "metadata": {},
   "outputs": [],
   "source": [
    "knowledge_url = 'https://search.naver.com/search.naver'\n",
    "query = '호국보훈의 달'\n",
    "\n",
    "for i in range(1,11):\n",
    "    params = {\n",
    "    'where': 'kin',\n",
    "    'query': query\n",
    "    }\n",
    "\n",
    "# url 분석을 통해서 필요없는 것들을 제거하고, 필요한 것들만 남긴다. "
   ]
  },
  {
   "cell_type": "code",
   "execution_count": null,
   "metadata": {},
   "outputs": [],
   "source": [
    "resp = requests.get(knowledge_url, params=params)\n",
    "# resp\n",
    "# resp.url\n",
    "# resp.content"
   ]
  },
  {
   "cell_type": "code",
   "execution_count": null,
   "metadata": {},
   "outputs": [],
   "source": [
    "soup = BeautifulSoup(resp.content, 'html.parser')\n",
    "# soup"
   ]
  },
  {
   "cell_type": "code",
   "execution_count": null,
   "metadata": {
    "scrolled": true
   },
   "outputs": [],
   "source": [
    "# 그다음 단위를 찾는다. type01을 검색해서 유일한지 확인해본다. ctrl+f\n",
    "kin_content = soup.find('ul', class_='type01').find_all('li', recursive=False)\n",
    "# 혹은, ('ul', {attrs='class': 'type01'}) 도 가능하다.\n",
    "\n",
    "# recursive는 재귀적으로 들어가지 않게 한다. 윗부분만 훑게 된다. \n",
    "\n",
    "# 여기서, soup.find_all을 하게 되면, 후에 index로 접근해줘야한다. [0]\n",
    "# kin_content"
   ]
  },
  {
   "cell_type": "code",
   "execution_count": null,
   "metadata": {},
   "outputs": [],
   "source": [
    "kin_list = []\n",
    "\n",
    "\n",
    "for li in kin_content:\n",
    "    kin_dict = {}\n",
    "    \n",
    "    # for i in range(1,6):\n",
    "    a_tag = li.find('a')\n",
    "# print(a_tag)\n",
    "    kin_dict['question_title'] = a_tag.text\n",
    "    \n",
    "    dd_tag = li.find_all('dd')[1]\n",
    "    # find_all을 쓰고, 인덱스로 접근해서 찾아낸다. \n",
    "#    print(dd_tag)\n",
    "    kin_dict['question_content'] = dd_tag.text\n",
    "    \n",
    "    answer_tag = li.find('dd', class_='answer')\n",
    "    kin_dict['answer'] = answer_tag.text\n",
    "    \n",
    "    \n",
    "    kin_list.append(kin_dict)\n",
    "print(kin_list) \n",
    "\n",
    "# 마지막으로 len(kin_list)를 통해 제대로 가져왔는지 확인"
   ]
  },
  {
   "cell_type": "code",
   "execution_count": null,
   "metadata": {},
   "outputs": [],
   "source": [
    "# 모듈 \n",
    "import requests\n",
    "from bs4 import BeautifulSoup\n",
    "from pprint import pprint\n",
    "\n",
    "knowledge_url = 'https://search.naver.com/search.naver'\n",
    "query = input(str(\"검색하고 싶은 키워드를 입력하세요: \"))\n",
    "# https://search.naver.com/search.naver?where=kin\n",
    "# query=%ED%98%B8%EA%B5%AD%EB%B3%B4%ED%9B%88%EC%9D%98+%EB%8B%AC&kin_start=11\n",
    "kin_list = []\n",
    "\n",
    "for i in range(5):\n",
    "    params = {\n",
    "    'where': 'kin',\n",
    "    'query': query,\n",
    "    'kin_start': int((i*10)+1)\n",
    "    }\n",
    "    \n",
    "    resp = requests.get(knowledge_url, params=params)\n",
    "    soup = BeautifulSoup(resp.content, 'html.parser')\n",
    "    kin_content = soup.find('ul', class_='type01').find_all('li', recursive=False)\n",
    "    \n",
    "    \n",
    "    for li in kin_content:\n",
    "        kin_dict = {}\n",
    "\n",
    "        # for i in range(1,6):\n",
    "        a_tag = li.find('a')\n",
    "    # print(a_tag)\n",
    "        kin_dict['question_title'] = a_tag.text.strip()\n",
    "        link = li.find('dl').find('dt', class_=\"question\").find('a')['href']\n",
    "        kin_dict['link'] = link\n",
    "        # 링크를 확인할때, ?와 /가 맨 앞에 있는 것을 보고, 어떻게 url이 바뀌는지 알아야한다.\n",
    "        # ? 는 params를 바꾸겠다는 의미\n",
    "        # / 는 기본 url뒤에 바로 붙이겠다는 의미\n",
    "        \n",
    "        dd_tag = li.find_all('dd')[1]\n",
    "        # find_all을 쓰고, 인덱스로 접근해서 찾아낸다. \n",
    "    #    print(dd_tag)\n",
    "        kin_dict['question_content'] = dd_tag.text.strip()\n",
    "\n",
    "        answer_tag = li.find('dd', class_='answer')\n",
    "        kin_dict['answer'] = answer_tag.text.lstrip('답변 ').rstrip()\n",
    "\n",
    "\n",
    "        kin_list.append(kin_dict)\n",
    "\n",
    "\n",
    "pprint(kin_list) \n",
    "print(len(kin_list))\n",
    "\n",
    "# 마지막으로 len(kin_list)를 통해 제대로 가져왔는지 확인"
   ]
  },
  {
   "cell_type": "markdown",
   "metadata": {},
   "source": [
    "# 여러페이지를 가져오는 방법\n",
    "1. 다음페이지 url을 계속 누르도록 한다.\n",
    "2. 2, 3, 4, 5 페이지의 url 을 누르도록 한다.\n",
    "3. url을 분석한다. "
   ]
  },
  {
   "cell_type": "code",
   "execution_count": 11,
   "metadata": {},
   "outputs": [],
   "source": [
    "import requests\n",
    "from bs4 import BeautifulSoup\n",
    "from pprint import pprint\n",
    "\n",
    "query = '호국보훈의 달'\n",
    "\n",
    "BASE_URL = 'https://search.naver.com/search.naver'\n",
    "params = {\n",
    "    'where': 'kin',\n",
    "    'query': query,\n",
    "    'kin_start': 1\n",
    "}"
   ]
  },
  {
   "cell_type": "code",
   "execution_count": 12,
   "metadata": {},
   "outputs": [
    {
     "name": "stdout",
     "output_type": "stream",
     "text": [
      "1\n",
      "11\n",
      "21\n",
      "31\n",
      "41\n",
      "<class 'int'>\n"
     ]
    }
   ],
   "source": [
    "kin_list = []\n",
    "for i in range(1, 50, 10):\n",
    "    params['kin_start'] = i\n",
    "\n",
    "    print(i)\n",
    "print(type(i))"
   ]
  },
  {
   "cell_type": "markdown",
   "metadata": {},
   "source": [
    "# Function으로 이쁘게 만들기"
   ]
  },
  {
   "cell_type": "code",
   "execution_count": 13,
   "metadata": {},
   "outputs": [],
   "source": [
    "query = '호국보훈의 달'\n",
    "\n",
    "BASE_URL = 'https://search.naver.com/search.naver'\n",
    "params = {\n",
    "    'where': 'kin',\n",
    "    'query': query,\n",
    "}"
   ]
  },
  {
   "cell_type": "code",
   "execution_count": 14,
   "metadata": {},
   "outputs": [],
   "source": [
    "def parse_kin_page(url, params):\n",
    "    kin_list = []\n",
    "    \n",
    "    resp = requests.get(BASE_URL, params=params)\n",
    "    soup = BeautifulSoup(resp.content, 'html.parser')\n",
    "    kin_content = soup.find('ul', class_='type01').find_all('li', recursive=False)\n",
    "    \n",
    "    \n",
    "    for li in kin_content:\n",
    "        kin_dict = {}\n",
    "\n",
    "        # for i in range(1,6):\n",
    "        a_tag = li.find('a')\n",
    "    # print(a_tag)\n",
    "        kin_dict['question_title'] = a_tag.text.strip()\n",
    "        link = li.find('dl').find('dt', class_=\"question\").find('a')['href']\n",
    "        kin_dict['link'] = link\n",
    "        # 링크를 확인할때, ?와 /가 맨 앞에 있는 것을 보고, 어떻게 url이 바뀌는지 알아야한다.\n",
    "        # ? 는 params를 바꾸겠다는 의미\n",
    "        # / 는 기본 url뒤에 바로 붙이겠다는 의미\n",
    "        \n",
    "        dd_tag = li.find_all('dd')[1]\n",
    "        # find_all을 쓰고, 인덱스로 접근해서 찾아낸다. \n",
    "    #    print(dd_tag)\n",
    "        kin_dict['question_content'] = dd_tag.text.strip()\n",
    "\n",
    "        answer_tag = li.find('dd', class_='answer')\n",
    "        kin_dict['answer'] = answer_tag.text.lstrip('답변 ').rstrip()\n",
    "\n",
    "\n",
    "        kin_list.append(kin_dict)\n",
    "    return kin_list"
   ]
  },
  {
   "cell_type": "code",
   "execution_count": 15,
   "metadata": {},
   "outputs": [],
   "source": [
    "def crawl_kin_with_range(BASE_URL, params = {}, start_page=1, end_page=30):\n",
    "    kin_list = []\n",
    "\n",
    "    for i in range(1, 50 ,10):\n",
    "        params['kin_start'] = i\n",
    "        kin_list.extend(parse_kin_page(BASE_URL, params))\n",
    "    return kin_list\n"
   ]
  },
  {
   "cell_type": "code",
   "execution_count": 16,
   "metadata": {},
   "outputs": [
    {
     "name": "stdout",
     "output_type": "stream",
     "text": [
      "[{'answer': '음성 무극전적국민광광지는, 6.25 한국전쟁 중 최초의 대승전인 음성지구(감우재)전투의 승전을 기념하기 위해 전승지로 '\n",
      "            '6.25 한국전쟁 당시의 전투장비와 전쟁의 참상...',\n",
      "  'link': 'https://kin.naver.com/qna/detail.nhn?d1id=12&dirId=1216&docId=328621503&qb=7Zi46rWt67O07ZuI7J2YIOuLrA==&enc=utf8§ion=kin&rank=1&search_sort=0&spq=0',\n",
      "  'question_content': '6월 호국보훈의달과 관련해서 충북에서 가볼만한곳좀 알려주세요 내공60드려요 어느지역에 있는지, '\n",
      "                      '어떻게 되있는지도 알려주세요! 급해요 답변해주시면 채택해드릴게요...',\n",
      "  'question_title': '6월 호국보훈의달 충북에서 가볼만한곳'},\n",
      " {'answer': '- 한국전쟁 때 나라를 수호하다 전사 또는 부상을 당하신 보훈 용사 역시 님이 살고... 소감문 - 호국 정신의 '\n",
      "            '중요성에 대한 님의 생각과 각오 - 님의 문중에 애국지사...',\n",
      "  'link': 'https://kin.naver.com/qna/detail.nhn?d1id=11&dirId=11080105&docId=328560942&qb=7Zi46rWt67O07ZuI7J2YIOuLrA==&enc=utf8§ion=kin&rank=2&search_sort=0&spq=0',\n",
      "  'question_content': '호국보훈의 달에 글짓기 행사를 하는데 또 주제가 생각이 안 나네요... 좋은 주제 없을까요 ㅜㅜ?',\n",
      "  'question_title': '호국보훈의 달 글짓기 질문'},\n",
      " {'answer': '그러니까요 호국 보훈의 달이란 예로 들어 6.25전쟁이라던지 6월 6일 현충일 이라든지 전쟁과 호국에 관한 일들이 '\n",
      "            '많이 있어서 호국보훈의 달로 지정되어있습니다....',\n",
      "  'link': 'https://kin.naver.com/qna/detail.nhn?d1id=11&dirId=111001&docId=277901661&qb=7Zi46rWt67O07ZuI7J2YIOuLrA==&enc=utf8§ion=kin&rank=3&search_sort=0&spq=0',\n",
      "  'question_content': \"전 5학년 인데요. '호국보훈의 달'이 뭔지 설명좀 해 주세요. 조금만 길게 해주세용^^\",\n",
      "  'question_title': '호국보훈의 달 설명'},\n",
      " {'answer': '호국보훈의 달 관련 글짓기 대회 자료는 탐구스쿨에 많습니다. 초/중/고등학생 수준별로 다양하게 많으니 한번 '\n",
      "            '참고해보세요.',\n",
      "  'link': 'https://kin.naver.com/qna/detail.nhn?d1id=11&dirId=1132&docId=328696941&qb=7Zi46rWt67O07ZuI7J2YIOuLrA==&enc=utf8§ion=kin&rank=4&search_sort=0&spq=0',\n",
      "  'question_content': '호국의 보훈의 달 글짓기 대회인데 어떻게 적을가요? 빨리빨리 답변 보내 주세요~~~',\n",
      "  'question_title': '호국의 보훈의 달 글짓기 대회인데 어'},\n",
      " {'answer': '초등학생 저학년이 답변하기는 어려울거에요 ^^ 6월은 호국보훈의 달입니다. 호국보훈이란 (호국)과 공휴에 보답한다는 '\n",
      "            '(보훈)을 합쳐 나라를 아끼고 사랑하는 의미를...',\n",
      "  'link': 'https://kin.naver.com/qna/detail.nhn?d1id=12&dirId=12031006&docId=253890484&qb=7Zi46rWt67O07ZuI7J2YIOuLrA==&enc=utf8§ion=kin&rank=5&search_sort=0&spq=0',\n",
      "  'question_content': '호국보훈의 달은 어떤 달인가요? 선생님이 숙제를 주셨는데 도무지 모르겠어요 답좀 알려주세요.. '\n",
      "                      '6월은 호국보훈의 달입니다. 호국보훈이란 ( )과 공휴에 보답한다는 ( )을...',\n",
      "  'question_title': '호국보훈의 달'},\n",
      " {'answer': '월달은 호국보훈 순국선열 정신계승 6월6일은 현 충 일 국기를꼭 게양하자 6월6일은 현 충 일 태극기를 게양하자 '\n",
      "            '집집마다 보훈의꽃 마음마다 감사의꽃 철통같은 나라수비...',\n",
      "  'link': 'https://kin.naver.com/qna/detail.nhn?d1id=11&dirId=110207&docId=227699942&qb=7Zi46rWt67O07ZuI7J2YIOuLrA==&enc=utf8§ion=kin&rank=6&search_sort=0&spq=0',\n",
      "  'question_content': '내일이 호국 보훈의달 표어인데 뭐라고 써야될까요? 내공 팍팍',\n",
      "  'question_title': '호국 보훈의달 표어'},\n",
      " {'answer': '호국보훈의 달 - 손병흥 순국선열 전몰장병 호국영령 명복 빌고 숭고한 위훈 호국정신 온통 묵념으로 넋 기리며 애국충정 '\n",
      "            '영혼 진혼키 위해 보훈가족에게 감사 존경을...',\n",
      "  'link': 'https://kin.naver.com/qna/detail.nhn?d1id=13&dirId=130101&docId=174811731&qb=7Zi46rWt67O07ZuI7J2YIOuLrA==&enc=utf8§ion=kin&rank=7&search_sort=0&spq=0',\n",
      "  'question_content': '호국보훈의 달 글짓기 내일인데 생각이 잘 안나요. 간단하게 글짓기 좀 해주세요 빨리요! 급해요! '\n",
      "                      'PLEASE!!!!!!!!!!',\n",
      "  'question_title': '호국보훈의 달 글짓기'},\n",
      " {'answer': '5분안에 쓸수잇는 호국보훈 시 추천좀 내공50 3월 1일의 하늘(박두진) * 논개의 애인이 되어 그의 묘에(한용운) '\n",
      "            '* 나도 푯말 되어 살고 싶다(조종현) * 논개(변영로) * 낙화...',\n",
      "  'link': 'https://kin.naver.com/qna/detail.nhn?d1id=6&dirId=6130102&docId=328404557&qb=7Zi46rWt67O07ZuI7J2YIOuLrA==&enc=utf8§ion=kin&rank=8&search_sort=0&spq=0',\n",
      "  'question_content': '5분안에 쓸수잇는 호국보훈 시 추천좀 내공50',\n",
      "  'question_title': '5분안에 쓸수잇는 호국보훈 시 추천좀'},\n",
      " {'answer': '월달은 호국보훈 순국선열 정신계승 6월6일은 현 충 일 국기를꼭 게양하자 6월6일은 현 충 일 태극기를 게양하자 '\n",
      "            '임이간길 호국의길 우리갈길 통일의길 집집마다...',\n",
      "  'link': 'https://kin.naver.com/qna/detail.nhn?d1id=13&dirId=130101&docId=303402638&qb=7Zi46rWt67O07ZuI7J2YIOuLrA==&enc=utf8§ion=kin&rank=9&search_sort=0&spq=0',\n",
      "  'question_content': '호국보훈의 달 표어 좀 알려주세요.',\n",
      "  'question_title': '호국보훈의 달 표어 좀 알려주세요.'},\n",
      " {'answer': \"호국보훈이란 <나라를 보호한다>는 뜻의 '호국'과 <공훈(공로)에 대해 보상한다(답한다)>는 뜻의 보훈이 합쳐져 생긴 \"\n",
      "            '말입니다. 즉 나라를 위해 목숨을 바친 공이 있는 분들을...',\n",
      "  'link': 'https://kin.naver.com/qna/detail.nhn?d1id=13&dirId=130101&docId=111847541&qb=7Zi46rWt67O07ZuI7J2YIOuLrA==&enc=utf8§ion=kin&rank=10&search_sort=0&spq=0',\n",
      "  'question_content': '아주급합니다. 내일까지 꼭!!!호국보훈의달 글짓기를 해가야 합니다. 한 a4양면으로 2장정도 '\n",
      "                      '해야합니다.(꼭 다체워야 하지는 않음) 부탁입니다. 빨리좀 답편해주세요.....',\n",
      "  'question_title': '호국보훈의달 글짓기'},\n",
      " {'answer': '호국보훈글1 / 호국보훈글2 / 호국보훈글3 / 호국보훈글4 / 호국보훈글5 / 호국보훈글6 / 호국보훈글7 '\n",
      "            '보훈글짓기1 / 보훈글짓기2 / 보훈글짓기3 / 보훈글짓기4 / 인천예일고...',\n",
      "  'link': 'https://kin.naver.com/qna/detail.nhn?d1id=13&dirId=130101&docId=152535843&qb=7Zi46rWt67O07ZuI7J2YIOuLrA==&enc=utf8§ion=kin&rank=11&search_sort=0&spq=0',\n",
      "  'question_content': '중1인데요, 낼까지호국보훈의달글짓기를 해가야되요. 쓴거베끼려니 티가날것같으니까 주제, 도움되는자료, '\n",
      "                      '관련단어뜻 가르쳐주세요. 내공이얼마없어서 많이는못드려요....',\n",
      "  'question_title': '호국보훈의달 글짓기'},\n",
      " {'answer': '월달은 호국보훈 순국선열 정신계승 6월6일은 현 충 일 국기를꼭 게양하자 6월6일은 현 충 일 태극기를 게양하자 '\n",
      "            '임이간길 호국의길 우리갈길 통일의길 집집마다 보훈의꽃...',\n",
      "  'link': 'https://kin.naver.com/qna/detail.nhn?d1id=13&dirId=130101&docId=174111669&qb=7Zi46rWt67O07ZuI7J2YIOuLrA==&enc=utf8§ion=kin&rank=12&search_sort=0&spq=0',\n",
      "  'question_content': '6월달을 맞이하여 호국보훈의 달 행사해서요.... 표어 할만한 좋은 글귀좀 부탁드려요^^ 총 합쳐서 '\n",
      "                      '16글자요 저주글이나 퍼온글 그런거 하지말구요 생각을 좀 더해서...',\n",
      "  'question_title': '호국보훈의 달 표어~~'},\n",
      " {'answer': '호국보훈의 뜻은 호국은 나라를 지키고 보호하려는 것기고 주로 외적의 침입에 대한 것입니다. 보훈은 호국을 하신 '\n",
      "            '그분들의 업적을 기리고 보답하려는 것입니다. 즉...',\n",
      "  'link': 'https://kin.naver.com/qna/detail.nhn?d1id=13&dirId=130101&docId=132065321&qb=7Zi46rWt67O07ZuI7J2YIOuLrA==&enc=utf8§ion=kin&rank=13&search_sort=0&spq=0',\n",
      "  'question_content': '제가 학교 대표로 호국보훈의 달 글짓기에 나가는데 생각이 잘 안나서요 빠르고 자세한 내용을 '\n",
      "                      '써주신분께채택 해드립니다. 시간은 8시 30분 까지 입니다. 욕설 등...',\n",
      "  'question_title': '호국 보훈의 달 글짓기'},\n",
      " {'answer': '6월달은 호국보훈의 달이다. “호국보훈”이라는 말은 나라를 외적으로 부터 지키고 보호 하자 즉 나라를 아끼고 '\n",
      "            '사랑하자는 말이다. 나는 6.25에 대한 책을 읽어 보면서...',\n",
      "  'link': 'https://kin.naver.com/qna/detail.nhn?d1id=11&dirId=110207&docId=29947616&qb=7Zi46rWt67O07ZuI7J2YIOuLrA==&enc=utf8§ion=kin&rank=14&search_sort=0&spq=0',\n",
      "  'question_content': '제가 내일 학교에서 호국보훈의 달 행사로 호국보훈의 나라정신을 담은 주장하는 글을 써야 하거든요.. '\n",
      "                      '어떻게 써야 하는지 모르겠어요.. 그리고 호국보훈의 나라정신을 담은...',\n",
      "  'question_title': '호국보훈의 달 글짓기'},\n",
      " {'answer': '■호국보훈■이라는 말은 나라를 외적으로 부터 지키고 보호 하자 즉 나라를 아끼고 사랑하자는 말이다. 나는 6.25에 '\n",
      "            '대한 책을 읽어 보면서 새로운 것을 알게 되었다. 1950년...',\n",
      "  'link': 'https://kin.naver.com/qna/detail.nhn?d1id=13&dirId=130101&docId=198444498&qb=7Zi46rWt67O07ZuI7J2YIOuLrA==&enc=utf8§ion=kin&rank=15&search_sort=0&spq=0',\n",
      "  'question_content': '월요일에 학교에서 호국보훈의 달을 맞이하여서,글짓기나 포스터 표어 등등..행사를 한다고 합니다. '\n",
      "                      '저는 글짓기를 할건데..이놈에 학교가 원고지 10매내외로 쓰라고 합니다....',\n",
      "  'question_title': '호국보훈의 달 글짓기'},\n",
      " {'answer': '월달은 호국보훈 순국선열 정신계승 6월6일은 현 충 일 국기를꼭 게양하자 6월6일은 현 충 일 태극기를 게양하자 '\n",
      "            '임이간길 호국의길 우리갈길 통일의길 집집마다 보훈의꽃...',\n",
      "  'link': 'https://kin.naver.com/qna/detail.nhn?d1id=13&dirId=130101&docId=174456624&qb=7Zi46rWt67O07ZuI7J2YIOuLrA==&enc=utf8§ion=kin&rank=16&search_sort=0&spq=0',\n",
      "  'question_content': '호국보훈의달표어 8아니면10글자해주세염',\n",
      "  'question_title': '호국보훈의달표어 8아니면10글자해주세염'},\n",
      " {'answer': '호국보훈글1 / 호국보훈글2 / 호국보훈글3 / 호국보훈글4 / 호국보훈글5 / 호국보훈글6 / 호국보훈글7 '\n",
      "            '보훈글짓기1 / 보훈글짓기2 / 보훈글짓기3 / 보훈글짓기4 / 인천예일고...',\n",
      "  'link': 'https://kin.naver.com/qna/detail.nhn?d1id=13&dirId=130101&docId=152565958&qb=7Zi46rWt67O07ZuI7J2YIOuLrA==&enc=utf8§ion=kin&rank=17&search_sort=0&spq=0',\n",
      "  'question_content': '안녕하세요 중1인 여학생입니다 다름이 아니라 호국보훈의 달을 맞아서 글짓기를 하려고 하는데 '\n",
      "                      '퍼온거라도 좋으니까 글짓기 형태로 써주시면 안될까요? 부탁해요...',\n",
      "  'question_title': '호국보훈의 달'},\n",
      " {'answer': '그래서 6월이 되면 ‘호국보훈의 달’ 이라는 주제로 글짓기, 포스터, 표어 등 학교에서 여러 가지 행사를 열었습니다. '\n",
      "            '어릴 때는 늘 있는 연중행사라 생각 했지만 이제...',\n",
      "  'link': 'https://kin.naver.com/qna/detail.nhn?d1id=13&dirId=130107&docId=40727748&qb=7Zi46rWt67O07ZuI7J2YIOuLrA==&enc=utf8§ion=kin&rank=18&search_sort=0&spq=0',\n",
      "  'question_content': '학교에서 호국보훈의 달 글짓기를 해오라고 했는데... 어찌 적을지가 걱정이네요... 원고지 3바닥 '\n",
      "                      '이상 적어라고 하는데.. 약 원고지 3바닥 이상 될 수 있도록 도와주세요...',\n",
      "  'question_title': '호국 보훈의 달 글짓기'},\n",
      " {'answer': '6월달은 호국보훈의 달이다. “호국보훈”이라는 말은 나라를 외적으로 부터 지키고 보호 하자 즉 나라를 아끼고 '\n",
      "            '사랑하자는 말이다. 나는 6.25에 대한 책을 읽어 보면서...',\n",
      "  'link': 'https://kin.naver.com/qna/detail.nhn?d1id=13&dirId=130101&docId=131683764&qb=7Zi46rWt67O07ZuI7J2YIOuLrA==&enc=utf8§ion=kin&rank=19&search_sort=0&spq=0',\n",
      "  'question_content': '학교 숙제인데요. 호국 보훈의 달이라서 원고지에 글짓기를 해오라고 해서요. 참고 좀 하게 글 좀 '\n",
      "                      '올려주세요. 내공 50드립니다. 웬만하면 다른데에서 퍼오지 않았으면 합니다.',\n",
      "  'question_title': '호국보훈의 달 글짓기'},\n",
      " {'answer': '6월은 호국보훈의 달 일본에 나라를 빼앗기고 민족의 자존이 무너졌던 일제강점기 시대, 그 시대를 지나 우리는 조국의 '\n",
      "            '광복이라는 가슴 벅찬 감격을 맞이했습니다. 하지만...',\n",
      "  'link': 'https://kin.naver.com/qna/detail.nhn?d1id=13&dirId=130101&docId=152454283&qb=7Zi46rWt67O07ZuI7J2YIOuLrA==&enc=utf8§ion=kin&rank=20&search_sort=0&spq=0',\n",
      "  'question_content': '내일 우리 학교 에서 호국보훈의 달 표어 쓰기 행사를 한다는데 선생님이 인터넷에 쳐서 보고 자기생각 '\n",
      "                      '조금 넣어서 해라고 했어요 .. 정모르면;;ㅋㅋ 계속생각했는데 영...',\n",
      "  'question_title': '호국보훈의 달 표어'},\n",
      " {'answer': '월달은 호국보훈 순국선열 정신계승 6월6일은 현 충 일 국기를꼭 게양하자 6월6일은 현 충 일 태극기를 게양하자 '\n",
      "            '집집마다 보훈의꽃 마음마다 감사의꽃 철통같은 나라수비...',\n",
      "  'link': 'https://kin.naver.com/qna/detail.nhn?d1id=11&dirId=110207&docId=152280167&qb=7Zi46rWt67O07ZuI7J2YIOuLrA==&enc=utf8§ion=kin&rank=21&search_sort=0&spq=0',\n",
      "  'question_content': '저는지금5학녀인 한 소녀입니당 ㅎㅎ 저희학교에서 호국보훈의 달 표어짓기를하는데 '\n",
      "                      '무슨내용을쓸지를잘몰라서 물어봅니다ㅠㅠ 어떤내용을써야하죠????????...',\n",
      "  'question_title': '호국보훈의 달 표어짓기'},\n",
      " {'answer': '월달은 호국보훈 순국선열 정신계승 6월6일은 현 충 일 국기를꼭 게양하자 6월6일은 현 충 일 태극기를 게양하자 '\n",
      "            '집집마다 보훈의꽃 마음마다 감사의꽃 철통같은 나라수비...',\n",
      "  'link': 'https://kin.naver.com/qna/detail.nhn?d1id=11&dirId=110207&docId=152463943&qb=7Zi46rWt67O07ZuI7J2YIOuLrA==&enc=utf8§ion=kin&rank=22&search_sort=0&spq=0',\n",
      "  'question_content': '저 내일 호국보훈의 달 표어 해서 가져가야 하는데 마땅히 할게 없어요ㅠㅠ 글자는 8절지 세로로 '\n",
      "                      '반잘른거에만 들어 가면 되요 내일까지 꼭부탁해요!!',\n",
      "  'question_title': '호국보훈의 달 표어ㅠㅠ'},\n",
      " {'answer': '이 질문자에 의해 채택된 이후에는 답변 내용의 수정 및 삭제가 제한될 수 있사오니 내용을 다시 한번 확인하신 후 등록 '\n",
      "            '6월달은 호국보훈의 달이다. “호국보훈”...',\n",
      "  'link': 'https://kin.naver.com/qna/detail.nhn?d1id=11&dirId=11&docId=49320782&qb=7Zi46rWt67O07ZuI7J2YIOuLrA==&enc=utf8§ion=kin&rank=23&search_sort=0&spq=0',\n",
      "  'question_content': '제가 호국 보훈의 달 글짓기를 써야하는데요.. 맨처음 도입부분에 어떻게 참신하게 시작할수 '\n",
      "                      '있을까요?? 그리고 글짓기를 대충 어떻게 전개해 나가야 할까요?? 알려주세요..',\n",
      "  'question_title': '호국 보훈의 달 글짓기'},\n",
      " {'answer': '월달은 호국보훈 순국선열 정신계승 6월6일은 현 충 일 국기를꼭 게양하자 6월6일은 현 충 일 태극기를 게양하자 '\n",
      "            '임이간길 호국의길 우리갈길 통일의길 집집마다 보훈의꽃...',\n",
      "  'link': 'https://kin.naver.com/qna/detail.nhn?d1id=1&dirId=10605&docId=174253560&qb=7Zi46rWt67O07ZuI7J2YIOuLrA==&enc=utf8§ion=kin&rank=24&search_sort=0&spq=0',\n",
      "  'question_content': '이틀뒤 월요일 미술시간에 호국보훈의 달을 기념하여 표어나 포스터를 한다네염 근데 어떻게 할지 '\n",
      "                      '모르겠어염 ㅠㅠ 그리구 내일 일요일에 산에 간다네여악!!!!!!!!!!!!...',\n",
      "  'question_title': '호국 보훈의달 표어,포스터 도와 주세염ㅠㅠ'},\n",
      " {'answer': '6월달은 호국보훈 순국선열 정신계승 6월6일은 현충일 국기를꼭 게양하자 6월6일은 현충일 태극기를 게양하자 집집마다 '\n",
      "            '보훈의꽃 마음마다 감사의꽃 철통같은 나라수비...',\n",
      "  'link': 'https://kin.naver.com/qna/detail.nhn?d1id=13&dirId=130105&docId=131534310&qb=7Zi46rWt67O07ZuI7J2YIOuLrA==&enc=utf8§ion=kin&rank=25&search_sort=0&spq=0',\n",
      "  'question_content': '다음주 화요일까지 호국보훈의달 그림그리기 내야하거든요... 그림그리기는 쉽지만 뭘 그려야 할지 '\n",
      "                      '모르겠어요. 그리고 그림그리기할때 포스터 해도되요?? 주제는 통일의...',\n",
      "  'question_title': '호국 보훈의달 그림그리기'},\n",
      " {'answer': '6월달은 호국보훈 순국선열 정신계승 6월6일은 현충일 국기를꼭 게양하자 6월6일은 현충일 태극기를 게양하자 집집마다 '\n",
      "            '보훈의꽃 마음마다 감사의꽃 철통같은 나라수비...',\n",
      "  'link': 'https://kin.naver.com/qna/detail.nhn?d1id=13&dirId=130101&docId=131481940&qb=7Zi46rWt67O07ZuI7J2YIOuLrA==&enc=utf8§ion=kin&rank=26&search_sort=0&spq=0',\n",
      "  'question_content': '제가 표어를 처음해보는데 호국 보훈의 달 행사 표어 할려고 하는데 표어 잘하는법과 표어 좋은 것 좀 '\n",
      "                      '올려주세요... 내공냠냠신고 합니다 내공 50겁니다. 그리고 8글자로만',\n",
      "  'question_title': '호국 보훈의 달행사 표어'},\n",
      " {'answer': '6월달은 호국보훈 순국선열 정신계승 6월6일은 현충일 국기를꼭 게양하자 6월6일은 현충일 태극기를 게양하자 집집마다 '\n",
      "            '보훈의꽃 마음마다 감사의꽃 철통같은 나라수비...',\n",
      "  'link': 'https://kin.naver.com/qna/detail.nhn?d1id=11&dirId=110207&docId=131838790&qb=7Zi46rWt67O07ZuI7J2YIOuLrA==&enc=utf8§ion=kin&rank=27&search_sort=0&spq=0',\n",
      "  'question_content': '호국보훈의 달에 대한 표어 좀 써 주세요. 부탁드려요!!!~',\n",
      "  'question_title': '호국보훈의 달'},\n",
      " {'answer': \"6월은 호국보훈의 달 ** 초등 학교 *학년 *반 *** 내용 ' ' ' ' ' ' ' ' ' ' ' ' ' ' ' \"\n",
      "            \"' ' ' 그러니 앞으로 나는 공부를 열심히 해서 통일을 이루고 성실하게 살아 우리나라를 위해...\",\n",
      "  'link': 'https://kin.naver.com/qna/detail.nhn?d1id=11&dirId=110201&docId=111434038&qb=7Zi46rWt67O07ZuI7J2YIOuLrA==&enc=utf8§ion=kin&rank=28&search_sort=0&spq=0',\n",
      "  'question_content': '호국보훈의달을 맞이하여 학교에서 글짓기를 한다고합니다. 그런데 도대체 호국보훈 하면 생각나는 주제가 '\n",
      "                      '있어야 말이죠. 그것좀 자세히 알려주시면 안되나요?ㅠㅜ...',\n",
      "  'question_title': '호국보훈의달 글짓기'},\n",
      " {'answer': '6월달은 호국보훈 순국선열 정신계승 6월6일은 현충일 국기를꼭 게양하자 6월6일은 현충일 태극기를 게양하자 집집마다 '\n",
      "            '보훈의꽃 마음마다 감사의꽃 철통같은 나라수비...',\n",
      "  'link': 'https://kin.naver.com/qna/detail.nhn?d1id=3&dirId=312&docId=132503429&qb=7Zi46rWt67O07ZuI7J2YIOuLrA==&enc=utf8§ion=kin&rank=29&search_sort=0&spq=0',\n",
      "  'question_content': '호국보훈의 달 행사로 무엇을 하는데 전 포스터를 하고 싶은데 자신이 없네여... 그래도 포스터 '\n",
      "                      '할것입니다!전 5학년이에여^^ 사진도 올려주시면은 ㄳ해영~ (제발사진부탕...',\n",
      "  'question_title': '호국보훈의 달(표어가나아요?아님포스터?)'},\n",
      " {'answer': '6월달은 호국보훈의 달이다. “호국보훈”이라는 말은 나라를 외적으로 부터 지키고 보호 하자 즉 나라를 아끼고 '\n",
      "            '사랑하자는 말이다. 나는 6.25에 대한 책을 읽어 보면서...',\n",
      "  'link': 'https://kin.naver.com/qna/detail.nhn?d1id=13&dirId=130101&docId=36612355&qb=7Zi46rWt67O07ZuI7J2YIOuLrA==&enc=utf8§ion=kin&rank=30&search_sort=0&spq=0',\n",
      "  'question_content': '호국보훈의 달을 맞아 월요일까지 글짓기를 해 가야 하는데요, 추상적이나마 어떤 주제를 써야하는지, '\n",
      "                      '막연하게는 알겠으나 어떤 구조를 가져야 하는지, 구체적으로...',\n",
      "  'question_title': '호국보훈의 달- 글짓기'},\n",
      " {'answer': '호국보훈의 달... 블로그 호국보훈의달... 포토앨범 [포스터... 카페 [포스터... 카페 호국보훈의달 행사... '\n",
      "            '블로그 사이트 : '\n",
      "            'http://image.search.naver.com/search.naver?where=image&query...',\n",
      "  'link': 'https://kin.naver.com/qna/detail.nhn?d1id=13&dirId=13&docId=36864562&qb=7Zi46rWt67O07ZuI7J2YIOuLrA==&enc=utf8§ion=kin&rank=31&search_sort=0&spq=0',\n",
      "  'question_content': '호국 보훈의 달 포스터를 그릴려구 하는데요 남이 한거 따라하면 해킹이니까..... 새로운 포스터 '\n",
      "                      '없을까요?? 월요일까지 가져 가야 되서.. 내일 아침까지 답변 해주세요',\n",
      "  'question_title': '호국보훈의 달 포스터'},\n",
      " {'answer': '6월달은 호국보훈 순국선열 정신계승 6월6일은 현충일 국기를꼭 게양하자 6월6일은 현충일 태극기를 게양하자 집집마다 '\n",
      "            '보훈의꽃 마음마다 감사의꽃 철통같은 나라수비...',\n",
      "  'link': 'https://kin.naver.com/qna/detail.nhn?d1id=13&dirId=130102&docId=131738676&qb=7Zi46rWt67O07ZuI7J2YIOuLrA==&enc=utf8§ion=kin&rank=32&search_sort=0&spq=0',\n",
      "  'question_content': '저는 역사박사가 꿈인 한 여자아이인데요,. 학교에서 호국보훈의달이라며 표어쓰기를 숙제로 '\n",
      "                      '내주셨는데.. 어떻게 쓰면될까요??',\n",
      "  'question_title': '호국보훈의달 표어 어떻게 써요??'},\n",
      " {'answer': '참고하셨으면 좋겠습니다!(넘 잘써서요) 6월달은 호국보훈의 달이다. “호국보훈”이라는 말은 나라를 외적으로 부터 '\n",
      "            '지키고 보호 하자 즉 나라를 아끼고 사랑하자는...',\n",
      "  'link': 'https://kin.naver.com/qna/detail.nhn?d1id=11&dirId=110501&docId=55540284&qb=7Zi46rWt67O07ZuI7J2YIOuLrA==&enc=utf8§ion=kin&rank=33&search_sort=0&spq=0',\n",
      "  'question_content': '오늘 선생님께서 호국보훈의 달 5월16일 까지 글짓기나 다른거 해오라고 하셨는데 전 글짓기 할껀데요 '\n",
      "                      '어떻게 쓰는지 모르겠어요 ㅠ 운문으로 할껀데요 대충 어떻게 하는지...',\n",
      "  'question_title': '호국보훈의 달 글짓기 (3일까지)'},\n",
      " {'answer': '[출처] 호국보훈의달 표어,포스터|작성자 스으으으응리이이이이 목숨바쳐 지켰으니 나라사랑하세 내가 지킨 나라 영원토록 '\n",
      "            '빛나리라 우리세상 우리가 변화시킨다. 우리가...',\n",
      "  'link': 'https://kin.naver.com/qna/detail.nhn?d1id=11&dirId=11&docId=66471995&qb=7Zi46rWt67O07ZuI7J2YIOuLrA==&enc=utf8§ion=kin&rank=34&search_sort=0&spq=0',\n",
      "  'question_content': '호국보훈의달표어 제대로점해주세염 중요:내공45입니당 진짜제대로욤',\n",
      "  'question_title': '호국보훈의달 표어급해여!!!!!!!!'},\n",
      " {'answer': '피어나는 보훈 문화 호국사랑 나라보존 나라사랑 나라희망 사랑해요 보훈가족 함께해요 호국정신 가슴가득 호국충정 손길가득 '\n",
      "            '보훈사랑 희생으로 지킨나라 애국으로...',\n",
      "  'link': 'https://kin.naver.com/qna/detail.nhn?d1id=12&dirId=12&docId=20071953&qb=7Zi46rWt67O07ZuI7J2YIOuLrA==&enc=utf8§ion=kin&rank=35&search_sort=0&spq=0',\n",
      "  'question_content': '제가 월요일까지 호국보훈의 달 행사로 인해 표어를 할려구요,,, 근데 제가 이런곳엔 약해서 ,,, '\n",
      "                      '인터넷 같은 데 많이 나오거나 사람들이 많이 한 표어 말고 널리 알려지지 않는...',\n",
      "  'question_title': '호국보훈의 달 행사 ,,,'},\n",
      " {'answer': '그래서 6월이 되면 ‘호국보훈의 달’ 이라는 주제로 글짓기, 포스터, 표어 등 학교에서 여러 가지 행사를 열었습니다. '\n",
      "            '어릴 때는 늘 있는 연중행사라 생각 했지만 이제...',\n",
      "  'link': 'https://kin.naver.com/qna/detail.nhn?d1id=13&dirId=130101&docId=43591388&qb=7Zi46rWt67O07ZuI7J2YIOuLrA==&enc=utf8§ion=kin&rank=36&search_sort=0&spq=0',\n",
      "  'question_content': '담쌤이 호국보훈의 달 행사한다고 글짓기, 표어, 그림<<이거중에 하나 선택해서 준비하라는데 저는 '\n",
      "                      '글짓기를 할꺼예요. 깔끔하게 정리해드리겠습니다. 1. 호국보훈의...',\n",
      "  'question_title': '호국보훈의 달 행사 글짓기요ㅠㅠ'},\n",
      " {'answer': '^^ 튼튼한 애국정신 대대손손 물려주자. 너도 나도 나라 사랑 너도 나도호국 보훈 저도 규격 4절지에 애국보훈 '\n",
      "            '숙제가잇음 내일모레까지임 ㅠㅠㅠㅠㅠㅠㅠㅠ',\n",
      "  'link': 'https://kin.naver.com/qna/detail.nhn?d1id=13&dirId=130101&docId=36139349&qb=7Zi46rWt67O07ZuI7J2YIOuLrA==&enc=utf8§ion=kin&rank=37&search_sort=0&spq=0',\n",
      "  'question_content': '학교에서 (호국보훈의 달)에 대해 표어를 지어야 하는데 좀 도와주세요.. 규격 8절도화지 세로 '\n",
      "                      '1/2 입니다.. 6월 17일까지이니 꼭 도와주시길 바랍니다..',\n",
      "  'question_title': '호국보훈의 달 표어짓기'},\n",
      " {'answer': '홧팅 한마디만 할께요 호국보훈의달인데 통일이 왜나오나요?? 호국보훈은 나라를 지키는건데 통일이랑 다르지 않나요 ?? '\n",
      "            '저희선생님이 통일의날 따로 있다는데여 ??...',\n",
      "  'link': 'https://kin.naver.com/qna/detail.nhn?d1id=13&dirId=130101&docId=36192784&qb=7Zi46rWt67O07ZuI7J2YIOuLrA==&enc=utf8§ion=kin&rank=38&search_sort=0&spq=0',\n",
      "  'question_content': '호국보훈의달 포스터나 표어를 할려고 하는 데 마땅히 할께 없어서요. 호국 보훈의달 포스터나 표어를 '\n",
      "                      '찾아주시면 감사합니다. 싸이트도 찾아 주시면 감사 할거예요. 부탁좀...',\n",
      "  'question_title': '호국보훈의달 포스터나 표어'},\n",
      " {'answer': '피어나는 보훈 문화 호국사랑 나라보존 나라사랑 나라희망 사랑해요 보훈가족 함께해요 호국정신 가슴가득 호국충정 손길가득 '\n",
      "            '보훈사랑 희생으로 지킨나라 애국으로...',\n",
      "  'link': 'https://kin.naver.com/qna/detail.nhn?d1id=13&dirId=130101&docId=111109717&qb=7Zi46rWt67O07ZuI7J2YIOuLrA==&enc=utf8§ion=kin&rank=39&search_sort=0&spq=0',\n",
      "  'question_content': '내일이 호국보훈의 달 행사를 하는데 종류가 포스터, 표어가 있어요 그런데 저는 표어가 더 쉬울것 '\n",
      "                      '같아 표어를 선택했어요 그런데요~~~ 표어를 지을 말이 생각이 정말...',\n",
      "  'question_title': '호국보훈의 달 표어'},\n",
      " {'answer': '님이 가장 호국 보순의 달 하면 생각나는 것이 뭔가요? 호국보훈의 뜻은 아시나요.. 한 번 보시고 느낀점들을 '\n",
      "            '생각해보새요 호국보훈의뜻 호국:나라를 수호하다. 보훈...',\n",
      "  'link': 'https://kin.naver.com/qna/detail.nhn?d1id=4&dirId=409&docId=82589300&qb=7Zi46rWt67O07ZuI7J2YIOuLrA==&enc=utf8§ion=kin&rank=40&search_sort=0&spq=0',\n",
      "  'question_content': '29일까지 호국보훈의 달 행사에 글짓기를 참여 하라는데 어떻게 해야할지 모르겠어요.,.... 주제는 '\n",
      "                      '평화통일과 우리의 자세, 6·25의 민족사적 의미.등 입니다. 딱 3시간...',\n",
      "  'question_title': '호국보훈의 달 글짓기'},\n",
      " {'answer': '사람들은 6월을 흔히 ‘호국보훈의 달’이라 칭하는데 그것은 대체 무슨 의미를 담고 있는 것일까? 그 질문에 대해 '\n",
      "            '답하기 위해, 나는 먼저 ‘호국보훈’이란 말에 대해...',\n",
      "  'link': 'https://kin.naver.com/qna/detail.nhn?d1id=13&dirId=130107&docId=39625872&qb=7Zi46rWt67O07ZuI7J2YIOuLrA==&enc=utf8§ion=kin&rank=41&search_sort=0&spq=0',\n",
      "  'question_content': '6월달 호국 보훈의 날 의 대하여 글짓기 숙제가 있는데, 최대한 오늘까지 최대한 대한 저에게 도움이 '\n",
      "                      '되도록 최선을 다해 적어주세요ㅠㅠ 점 부탁 드리구염! 자세하게 써...',\n",
      "  'question_title': '호국 보훈의달의 글짓기 숙제...'},\n",
      " {'answer': '1월 - 주제가 있는 달 2월 - 생각의 달 3월 - 생명의 달 4월 - 과학의 달 5월 - 가정의 달, 청소년의 달 '\n",
      "            '6월 - 호국 보훈의 달 7월 - 자연과 화경의 달 8월 - 환상의 달 9월...',\n",
      "  'link': 'https://kin.naver.com/qna/detail.nhn?d1id=6&dirId=613&docId=287558004&qb=7Zi46rWt67O07ZuI7J2YIOuLrA==&enc=utf8§ion=kin&rank=42&search_sort=0&spq=0',\n",
      "  'question_content': '4원은 과학의 달, 5월은 가정의 달, 6월은 호국 보훈의 달 7윌..8월... 등등 달이 뭐뭐 '\n",
      "                      '있죠??? 생각이 안나서 그런데 알려주시면 감사하겠습니다.^^ 1월 부터 12월 까지...',\n",
      "  'question_title': '5월은 가정의 달, 6월은 호국 보훈의 날 등등 또 뭐죠??'},\n",
      " {'answer': '매년 맞는 호국보훈의 달. 무심코 그런가보다 하고 지나갔지만 이번에는 그 의미부터 되새겨 보았으면 한다. 호국보훈의 '\n",
      "            '달은 호국영령의 숭고한 뜻을 기리고, 이들의...',\n",
      "  'link': 'https://kin.naver.com/qna/detail.nhn?d1id=6&dirId=6130102&docId=47595589&qb=7Zi46rWt67O07ZuI7J2YIOuLrA==&enc=utf8§ion=kin&rank=43&search_sort=0&spq=0',\n",
      "  'question_content': '제가 지금 급한데요 호국보훈의달에 대하여 기사처럼 써주시면 감사하겠습니다 길게 안써주셔도 되요^^ '\n",
      "                      '메모장 반칸정도만요 ㅠㅠ 다른데서 복사해서붙이기 같은거하시면...',\n",
      "  'question_title': '호국보훈의달 내공 25검'},\n",
      " {'answer': '6월 호국보훈의 달의 일정한 주제를 그림으로 그려서 표현하는일을 질문 드리셨어요? 호국보훈의달 그림그리기는 '\n",
      "            '남한.북한의 장기간 분단된현실을 바르게 보며 앞으로...',\n",
      "  'link': 'https://kin.naver.com/qna/detail.nhn?d1id=11&dirId=1117&docId=227975987&qb=7Zi46rWt67O07ZuI7J2YIOuLrA==&enc=utf8§ion=kin&rank=44&search_sort=0&spq=0',\n",
      "  'question_content': '내일 호국보훈의 달이라고 그림그리는데 어떤 그림그리면좋을지 참고작품올려주세요 ( 물감이용 )',\n",
      "  'question_title': ''},\n",
      " {'answer': '예전에는 \\'반공의 달\"이라고 했는데 화해무드가 무르익고 통일을 준비하게 되면서 \\'호국보훈의 달\\'로 용어가 '\n",
      "            '바뀌었습니다. 그림그리기 대회라면.. 통일을 염원하는...',\n",
      "  'link': 'https://kin.naver.com/qna/detail.nhn?d1id=13&dirId=130101&docId=38038616&qb=7Zi46rWt67O07ZuI7J2YIOuLrA==&enc=utf8§ion=kin&rank=45&search_sort=0&spq=0',\n",
      "  'question_content': '여러분들!제가 호국보훈의달글짓기를 내일까지 숙제를해야되는데 내용을 잘 몰르겠습니다. 알으켜주십시요 '\n",
      "                      '꼭 내일까지에요.부탁드립니다.',\n",
      "  'question_title': '호국보훈의달글짓기'},\n",
      " {'answer': \"호국보훈의 달 글짓기 형식은 잘 모르겠구요... 2.통일, 6'25전쟁, 우리나라를 지킨 위인 외에 쓸 주제거리는 \"\n",
      "            \"분단의 고통과 통일의 필요성, 남'북의 화해화 협력, 평화적...\",\n",
      "  'link': 'https://kin.naver.com/qna/detail.nhn?d1id=13&dirId=130101&docId=37485793&qb=7Zi46rWt67O07ZuI7J2YIOuLrA==&enc=utf8§ion=kin&rank=46&search_sort=0&spq=0',\n",
      "  'question_content': '호국보훈의 달 글짓기를 써야하는데요. 호국보훈이란 말은 어렴풋이 인터넷 뒤져서 알았는데...... '\n",
      "                      '도대체 글짓기를 어떻게 써야하나요? 질문 1. 호국보훈의 달 글짓기...',\n",
      "  'question_title': '호국보훈의 달 글짓기의 형식은?'},\n",
      " {'answer': '6월달은 호국보훈의 달이다. “호국보훈”이라는 말은 나라를 외적으로 부터 지키고 보호 하자 즉 나라를 아끼고 '\n",
      "            '사랑하자는 말이다. 나는 6.25에 대한 책을 읽어 보면서...',\n",
      "  'link': 'https://kin.naver.com/qna/detail.nhn?d1id=6&dirId=6130102&docId=61719422&qb=7Zi46rWt67O07ZuI7J2YIOuLrA==&enc=utf8§ion=kin&rank=47&search_sort=0&spq=0',\n",
      "  'question_content': '호국 보훈의 달에 대하여 글짓기를 하는데, 쓸 것이 별로 없네요,,, 호국 보훈의 달에 대하여 '\n",
      "                      '알려주시고 , 글짓기에는 어떤 순서로 , 어떤 내용을 써야 하는지만 알려주세요....',\n",
      "  'question_title': '호국 보훈의 달에 대하여*^^*'},\n",
      " {'answer': '호국보훈의 달을 맞아, 웅변원고를 쓰게 되셨군요^^ 아래 올려둔 글 참고하시고, 본인 경험도 함께 덧붙여서 진실되고 '\n",
      "            '호소력 있게 잘 표현하시면 좋은 글이 되시리라...',\n",
      "  'link': 'https://kin.naver.com/qna/detail.nhn?d1id=11&dirId=110201&docId=131530996&qb=7Zi46rWt67O07ZuI7J2YIOuLrA==&enc=utf8§ion=kin&rank=48&search_sort=0&spq=0',\n",
      "  'question_content': '호국보훈의 달을 맞은 웅변원고 (2장)쓰는방법좀알려주세요 내공100검 내공냠냠 욕설 쓸모없는말 신고',\n",
      "  'question_title': '호국보훈의 달을 맞은 웅변원고 (2장)쓰는방법'},\n",
      " {'answer': '6월달은 호국보훈 순국선열 정신계승 6월6일은 현충일 국기를꼭 게양하자 6월6일은 현충일 태극기를 게양하자 집집마다 '\n",
      "            '보훈의꽃 마음마다 감사의꽃 철통같은 나라수비...',\n",
      "  'link': 'https://kin.naver.com/qna/detail.nhn?d1id=13&dirId=130101&docId=152510275&qb=7Zi46rWt67O07ZuI7J2YIOuLrA==&enc=utf8§ion=kin&rank=49&search_sort=0&spq=0',\n",
      "  'question_content': '제가 내일 모레까지 호국보훈의 달 글짓기 하는데요... 급해서 후딱 답변해주세요 '\n",
      "                      '!!!!!!!!!!! 내공겁니다..',\n",
      "  'question_title': '호국보훈의 달 글짓기요~~ 빨리요!!!!!'},\n",
      " {'answer': \"호국보훈이란 <나라를 보호한다>는 뜻의 '호국'과 <공훈(공로)에 대해 보상한다(답한다)>는 뜻의 보훈이 합쳐져 생긴 \"\n",
      "            '말입니다. 즉 나라를 위해 목숨을 바친 공이 있는 분들을...',\n",
      "  'link': 'https://kin.naver.com/qna/detail.nhn?d1id=11&dirId=110201&docId=152754881&qb=7Zi46rWt67O07ZuI7J2YIOuLrA==&enc=utf8§ion=kin&rank=50&search_sort=0&spq=0',\n",
      "  'question_content': '호국보훈에 달 글짓기가 내일 까지인데 제가 글짓기가 처음이라 잘못해요 도와주세요.',\n",
      "  'question_title': '호국보훈의달 글짓기 처음이라잘 못해요. 좀알려주세요.'}]\n"
     ]
    }
   ],
   "source": [
    "kin_list = crawl_kin_with_range(BASE_URL, params=params, start_page=1, end_page=100)\n",
    "len(kin_list)\n",
    "pprint(kin_list)"
   ]
  },
  {
   "cell_type": "code",
   "execution_count": null,
   "metadata": {},
   "outputs": [],
   "source": []
  }
 ],
 "metadata": {
  "kernelspec": {
   "display_name": "Python 3",
   "language": "python",
   "name": "python3"
  },
  "language_info": {
   "codemirror_mode": {
    "name": "ipython",
    "version": 3
   },
   "file_extension": ".py",
   "mimetype": "text/x-python",
   "name": "python",
   "nbconvert_exporter": "python",
   "pygments_lexer": "ipython3",
   "version": "3.7.3"
  }
 },
 "nbformat": 4,
 "nbformat_minor": 2
}
