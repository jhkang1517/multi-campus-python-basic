{
 "cells": [
  {
   "cell_type": "code",
   "execution_count": 1,
   "metadata": {},
   "outputs": [],
   "source": [
    "import requests\n",
    "from bs4 import BeautifulSoup\n",
    "from pprint import pprint\n",
    "import os"
   ]
  },
  {
   "cell_type": "code",
   "execution_count": 2,
   "metadata": {},
   "outputs": [],
   "source": [
    "import os\n",
    "BASE_DIR = os.getcwd()\n",
    "# 현재 작업경로를 가져옵니다.\n",
    "# print(BASE_DIR)\n",
    "\n",
    "PICTURE_DIR = os.path.join(BASE_DIR, 'guitar_pictures')\n",
    "if not os.path.exists(PICTURE_DIR):\n",
    "    # 만약 P가 없으면, \n",
    "    os.makedirs(PICTURE_DIR)\n",
    "    # 생성하겠다."
   ]
  },
  {
   "cell_type": "code",
   "execution_count": 3,
   "metadata": {},
   "outputs": [
    {
     "data": {
      "text/plain": [
       "'https://www.gibson.com/Guitars/Les-Paul'"
      ]
     },
     "execution_count": 3,
     "metadata": {},
     "output_type": "execute_result"
    }
   ],
   "source": [
    "guitar_list = []\n",
    "gibson_usl = \"https://www.gibson.com/Guitars/Les-Paul\"\n",
    "# params = {\n",
    "#     'Guitars': 'Guitars',\n",
    "#     'Les-Paul': 'Les-Paul'\n",
    "# }\n",
    "gibson_usl"
   ]
  },
  {
   "cell_type": "code",
   "execution_count": 4,
   "metadata": {},
   "outputs": [],
   "source": [
    "resp = requests.get(gibson_usl)\n",
    "soup = BeautifulSoup(resp.content, 'html.parser')\n",
    "# gibson_contents = soup.find('div', class_='row pb-5')\n",
    "#.find_all('div', class_='col-sm-12 col-md-6 col-lg-4 px-2 mb-4')\n",
    "# resp\n",
    "# resp.content\n",
    "# soup\n",
    "# gibson_contents.content"
   ]
  },
  {
   "cell_type": "code",
   "execution_count": 5,
   "metadata": {},
   "outputs": [],
   "source": [
    "# 하나씩 먼저 찾아봅시다. 기타 이름 찾기\n",
    "# gibson_contents.find('h4').find('a').text"
   ]
  },
  {
   "cell_type": "code",
   "execution_count": 6,
   "metadata": {},
   "outputs": [],
   "source": [
    "# 하나씩 먼저 찾아봅시다. 기타 가격 찾기\n",
    "# gibson_contents.find('div', class_='price-label ml-3').find('span').text"
   ]
  },
  {
   "cell_type": "code",
   "execution_count": 11,
   "metadata": {},
   "outputs": [],
   "source": [
    "# 하나씩 먼저 찾아봅시다. 기타 이미지 찾기\n",
    "# img_url = ('https://static.gibson.com/product-images/Custom/CUSFXC951/Cherry Teaburst/front-banner.png')\n",
    "# imgresp = requests.get(img_url)\n",
    "# imgresp\n",
    "# imgresp.content"
   ]
  },
  {
   "cell_type": "code",
   "execution_count": 13,
   "metadata": {},
   "outputs": [],
   "source": [
    "# pfilename = img_url.split('/')[-4:]\n",
    "# # filename\n",
    "# filename = \"\".join(pfilename)\n",
    "# filename"
   ]
  },
  {
   "cell_type": "code",
   "execution_count": 14,
   "metadata": {},
   "outputs": [],
   "source": [
    "# with open(filename, 'wb') as f:\n",
    "#    f.write(imgresp.content)"
   ]
  },
  {
   "cell_type": "code",
   "execution_count": 15,
   "metadata": {},
   "outputs": [],
   "source": [
    "gibson_contents = soup.find('div', class_='row pb-5').find_all('div', class_='col-sm-12 col-md-6 col-lg-4 px-2 mb-4')"
   ]
  },
  {
   "cell_type": "code",
   "execution_count": 16,
   "metadata": {},
   "outputs": [
    {
     "name": "stdout",
     "output_type": "stream",
     "text": [
      "[{'link': 'https://www.gibson.com/Guitar/CUSFXC951/60th-Anniversary-1959-Les-Paul-Standard',\n",
      "  'name': '60th Anniversary 1959 Les Paul Standard',\n",
      "  'price': ' $6,499.00'},\n",
      " {'link': 'https://www.gibson.com/Guitar/USAQ17249/Les-Paul-Modern',\n",
      "  'name': 'Les Paul Modern',\n",
      "  'price': ' $2,799.00'},\n",
      " {'link': 'https://www.gibson.com/Guitar/CUSCB4758/1957-Les-Paul-Junior-Reissue',\n",
      "  'name': '1957 Les Paul Junior Reissue',\n",
      "  'price': ' $3,799.00'},\n",
      " {'link': 'https://www.gibson.com/Guitar/USAI9Q269/Les-Paul-Classic',\n",
      "  'name': 'Les Paul Classic',\n",
      "  'price': ' $1,999.00'},\n",
      " {'link': 'https://www.gibson.com/Guitar/CUSGFA436/1958-Les-Paul-Junior-Double-Cut-Reissue',\n",
      "  'name': '1958 Les Paul Junior Double Cut Reissue',\n",
      "  'price': ' $3,799.00'},\n",
      " {'link': 'https://www.gibson.com/Guitar/CUSNZT900/1957-Les-Paul-Special-Single-Cut-Reissue-VOS',\n",
      "  'name': '1957 Les Paul Special Single Cut Reissue VOS',\n",
      "  'price': ' $3,799.00'},\n",
      " {'link': 'https://www.gibson.com/Guitar/USAYNB363/Les-Paul-Studio',\n",
      "  'name': 'Les Paul Studio',\n",
      "  'price': ' $1,499.00'},\n",
      " {'link': 'https://www.gibson.com/Guitar/CUSU6S317/1960-Les-Paul-Special-Double-Cut-Reissue',\n",
      "  'name': '1960 Les Paul Special Double Cut Reissue',\n",
      "  'price': ' $3,799.00'},\n",
      " {'link': 'https://www.gibson.com/Guitar/USAANM97/Les-Paul-Tribute',\n",
      "  'name': 'Les Paul Tribute',\n",
      "  'price': ' $1,199.00'},\n",
      " {'link': 'https://www.gibson.com/Guitar/CUSQT7550/1954-Les-Paul-Goldtop-Reissue-VOS',\n",
      "  'name': '1954 Les Paul Goldtop Reissue VOS',\n",
      "  'price': ' $4,499.00'},\n",
      " {'link': 'https://www.gibson.com/Guitar/USAHE5811/Les-Paul-Special-Tribute-DC',\n",
      "  'name': 'Les Paul Special Tribute DC',\n",
      "  'price': ' $999.00'},\n",
      " {'link': 'https://www.gibson.com/Guitar/CUS2X7387/1956-Les-Paul-Goldtop-Reissue-VOS',\n",
      "  'name': '1956 Les Paul Goldtop Reissue VOS',\n",
      "  'price': ' $4,699.00'},\n",
      " {'link': 'https://www.gibson.com/Guitar/USAVDZ830/Les-Paul-Junior-Tribute-DC',\n",
      "  'name': 'Les Paul Junior Tribute DC',\n",
      "  'price': ' $899.00'},\n",
      " {'link': 'https://www.gibson.com/Guitar/CUS1RX706/1957-Les-Paul-Goldtop-Reissue-VOS',\n",
      "  'name': '1957 Les Paul Goldtop Reissue VOS',\n",
      "  'price': ' $4,699.00'},\n",
      " {'link': 'https://www.gibson.com/Guitar/CUSVXV696/1958-Les-Paul-Standard-Reissue',\n",
      "  'name': '1958 Les Paul Standard Reissue',\n",
      "  'price': ' $4,999.00'},\n",
      " {'link': 'https://www.gibson.com/Guitar/CUS48E666/1960-Les-Paul-Standard-Reissue',\n",
      "  'name': '1960 Les Paul Standard Reissue',\n",
      "  'price': ' $6,499.00'},\n",
      " {'link': 'https://www.gibson.com/Guitar/CUSGJ5555/1957-Les-Paul-Custom-Reissue',\n",
      "  'name': '1957 Les Paul Custom Reissue',\n",
      "  'price': ' $6,699.00'},\n",
      " {'link': 'https://www.gibson.com/Guitar/CUSTE4147/Joe-Perry-Gold-Rush-Les-Paul-Axcess',\n",
      "  'name': 'Joe Perry \"Gold Rush\" Les Paul Axcess',\n",
      "  'price': ' $5,499.00'},\n",
      " {'link': 'https://www.gibson.com/Guitar/CUS118365/1968-Les-Paul-Custom-Reissue',\n",
      "  'name': '1968 Les Paul Custom Reissue',\n",
      "  'price': ' $5,799.00'},\n",
      " {'link': 'https://www.gibson.com/Guitar/CUSF1E569/1968-Les-Paul-Standard-Goldtop-Reissue',\n",
      "  'name': '1968 Les Paul Standard Goldtop Reissue',\n",
      "  'price': ' $4,699.00'},\n",
      " {'link': 'https://www.gibson.com/Guitar/CUSZJG839/Les-Paul-Custom-w-Ebony-Fingerboard-Gloss',\n",
      "  'name': 'Les Paul Custom w/ Ebony Fingerboard Gloss',\n",
      "  'price': ' $4,699.00'},\n",
      " {'link': 'https://www.gibson.com/Guitar/USAUBC849/Les-Paul-Standard-50s',\n",
      "  'name': \"Les Paul Standard '50s\",\n",
      "  'price': ' $2,499.00'},\n",
      " {'link': 'https://www.gibson.com/Guitar/USA85B326/Les-Paul-Standard-50s-P90',\n",
      "  'name': \"Les Paul Standard '50s P90\",\n",
      "  'price': ' $2,499.00'},\n",
      " {'link': 'https://www.gibson.com/Guitar/USA1R6524/Les-Paul-Standard-60s',\n",
      "  'name': \"Les Paul Standard '60s\",\n",
      "  'price': ' $2,499.00'},\n",
      " {'link': 'https://www.gibson.com/Guitar/CUSF5K865/Les-Paul-Special-Double-Cut-Figured-Top',\n",
      "  'name': 'Les Paul Special Double Cut Figured Top',\n",
      "  'price': ' $4,499.00'},\n",
      " {'link': 'https://www.gibson.com/Guitar/USA2KP357/Les-Paul-Special',\n",
      "  'name': 'Les Paul Special',\n",
      "  'price': ' $1,599.00'},\n",
      " {'link': 'https://www.gibson.com/Guitar/CUSX9K662/Les-Paul-Axcess-Standard-Figured-Floyd-Rose-Gloss',\n",
      "  'name': 'Les Paul Axcess Standard Figured Floyd Rose Gloss',\n",
      "  'price': ' $4,699.00'},\n",
      " {'link': 'https://www.gibson.com/Guitar/USATB5721/Les-Paul-Junior',\n",
      "  'name': 'Les Paul Junior',\n",
      "  'price': ' $1,499.00'},\n",
      " {'link': 'https://www.gibson.com/Guitar/CUSQD2632/Les-Paul-Axcess-Custom-w-Ebony-Fingerboard-Floyd-Rose-Gloss',\n",
      "  'name': 'Les Paul Axcess Custom w/ Ebony Fingerboard Floyd Rose Gloss',\n",
      "  'price': ' $5,299.00'},\n",
      " {'link': 'https://www.gibson.com/Guitar/CUSUJ8597/Les-Paul-Axcess-Custom-Figured-Top-w-Ebony-Fingerboard-Gloss',\n",
      "  'name': 'Les Paul Axcess Custom Figured Top w/ Ebony Fingerboard Gloss',\n",
      "  'price': ' $5,299.00'},\n",
      " {'link': 'https://www.gibson.com/Guitar/USACYC512/Les-Paul-Junior-Tribute-DC-Bass',\n",
      "  'name': 'Les Paul Junior Tribute DC Bass',\n",
      "  'price': ' $999.00'},\n",
      " {'link': 'https://www.gibson.com/Guitar/USAER1168/Les-Paul-Classic-2019',\n",
      "  'name': 'Les Paul Classic 2019',\n",
      "  'price': ' $2,299.00'},\n",
      " {'link': 'https://www.gibson.com/Guitar/USAG94642/Les-Paul-Traditional-2019',\n",
      "  'name': 'Les Paul Traditional 2019',\n",
      "  'price': ' $2,799.00'},\n",
      " {'link': 'https://www.gibson.com/Guitar/USATNW898/Les-Paul-Standard-2019',\n",
      "  'name': 'Les Paul Standard 2019',\n",
      "  'price': ' $3,399.00'},\n",
      " {'link': 'https://www.gibson.com/Guitar/USAJ3R802/Les-Paul-Studio-2019',\n",
      "  'name': 'Les Paul Studio 2019',\n",
      "  'price': ' $1,699.00'},\n",
      " {'link': 'https://www.gibson.com/Guitar/USABDE792/Les-Paul-Studio-Tribute-2019',\n",
      "  'name': 'Les Paul Studio Tribute 2019',\n",
      "  'price': ' $1,199.00'},\n",
      " {'link': 'https://www.gibson.com/Guitar/USA2IQ148/Les-Paul-High-Performance-2019',\n",
      "  'name': 'Les Paul High Performance 2019',\n",
      "  'price': ' $3,799.00'},\n",
      " {'link': 'https://www.gibson.com/Guitar/USAZGG410/Les-Paul-Standard-2019-Alternate-Finishes',\n",
      "  'name': 'Les Paul Standard 2019 Alternate Finishes',\n",
      "  'price': ' $3,399.00'},\n",
      " {'link': 'https://www.gibson.com/Guitar/USAM1U602/Les-Paul-Traditional-2019-Alternate-Finishes',\n",
      "  'name': 'Les Paul Traditional 2019 Alternate Finishes',\n",
      "  'price': ' $2,799.00'},\n",
      " {'link': 'https://www.gibson.com/Guitar/USA71U213/Les-Paul-Classic-2019-Alternate-Finishes',\n",
      "  'name': 'Les Paul Classic 2019 Alternate Finishes',\n",
      "  'price': ' $2,299.00'},\n",
      " {'link': 'https://www.gibson.com/Guitar/USAAUK22/Les-Paul-Studio-2019-Alternate-Finishes',\n",
      "  'name': 'Les Paul Studio 2019 Alternate Finishes',\n",
      "  'price': ' $1,699.00'},\n",
      " {'link': 'https://www.gibson.com/Guitar/USAIWN167/Les-Paul-Studio-Tribute-2019-Alternate-Finishes',\n",
      "  'name': 'Les Paul Studio Tribute 2019 Alternate Finishes',\n",
      "  'price': ' $1,199.00'},\n",
      " {'link': 'https://www.gibson.com/Guitar/USALLK346/Les-Paul-Junior-Tribute-DC-2019',\n",
      "  'name': 'Les Paul Junior Tribute DC 2019',\n",
      "  'price': ' $799.00'},\n",
      " {'link': 'https://www.gibson.com/Guitar/USAT9S505/Les-Paul-Junior-Tribute-DC-2019-Alternate-Finishes',\n",
      "  'name': 'Les Paul Junior Tribute DC 2019 Alternate Finishes',\n",
      "  'price': ' $799.00'}]\n"
     ]
    }
   ],
   "source": [
    "\n",
    "for div in gibson_contents:\n",
    "    guitar_dict = {}\n",
    "    a_tag = div.find('h4').find('a')\n",
    "    # print(a_tag)\n",
    "    guitar_dict['link'] = 'https://www.gibson.com'+a_tag['href']\n",
    "    guitar_dict['name'] = a_tag.text\n",
    "    # print(a_tag['href'])\n",
    "    \n",
    "    b_tag = div.find('div', class_='price-label ml-3').find('span')\n",
    "    guitar_dict['price'] = b_tag.text\n",
    "    # print(b_tag)\n",
    "    guitar_list.append(guitar_dict)\n",
    "    \n",
    "    # 상세페이지 내용 가져오기 \n",
    "    # detail_resp = requests.get('https://www.gibson.com'+a_tag['href'])\n",
    "    # detail_soup = BeautifulSoup(detail_resp.content, 'html.parser')\n",
    "    # detail_soup\n",
    "    # detail_contents = soup.find('div', class_='gibson-card py-4')\n",
    "    # detail_contents\n",
    "    \n",
    "    c_tag = div.find('img')\n",
    "    # print(c_tag)\n",
    "    # print(c_tag['src'])\n",
    "    \n",
    "    img_url = c_tag['src']\n",
    "    img_resp = requests.get(img_url)\n",
    "    # img_url\n",
    "    # imgresp.content\n",
    "    p_filename = img_url.split('/')[-4:]\n",
    "    filename = \"\".join(p_filename)\n",
    "    # filename\n",
    "    \n",
    "    guitar_picture_path = os.path.join(PICTURE_DIR, filename)  \n",
    "    with open(guitar_picture_path, 'wb') as f:\n",
    "      f.write(img_resp.content)\n",
    "    \n",
    "\n",
    "pprint(guitar_list)\n",
    "    \n"
   ]
  },
  {
   "cell_type": "code",
   "execution_count": null,
   "metadata": {},
   "outputs": [],
   "source": []
  },
  {
   "cell_type": "code",
   "execution_count": null,
   "metadata": {},
   "outputs": [],
   "source": []
  }
 ],
 "metadata": {
  "kernelspec": {
   "display_name": "Python 3",
   "language": "python",
   "name": "python3"
  },
  "language_info": {
   "codemirror_mode": {
    "name": "ipython",
    "version": 3
   },
   "file_extension": ".py",
   "mimetype": "text/x-python",
   "name": "python",
   "nbconvert_exporter": "python",
   "pygments_lexer": "ipython3",
   "version": "3.7.3"
  }
 },
 "nbformat": 4,
 "nbformat_minor": 2
}
