{
 "cells": [
  {
   "cell_type": "markdown",
   "metadata": {},
   "source": [
    "## 소수찾기"
   ]
  },
  {
   "cell_type": "code",
   "execution_count": 18,
   "metadata": {},
   "outputs": [],
   "source": [
    "# 1번 방법\n",
    "def solution(A):\n",
    "    i = A - 1\n",
    "    j = 2\n",
    "    \n",
    "    while True:\n",
    "        if (j <= i):\n",
    "            if (A % j == 0):\n",
    "                print(\"소수아님\")\n",
    "                break\n",
    "            \n",
    "            else:\n",
    "                j += 1 \n",
    "        \n",
    "        else:\n",
    "            print(\"소수\")\n",
    "            break\n",
    "    "
   ]
  },
  {
   "cell_type": "code",
   "execution_count": 20,
   "metadata": {},
   "outputs": [
    {
     "name": "stdout",
     "output_type": "stream",
     "text": [
      "소수\n"
     ]
    }
   ],
   "source": [
    "solution(13)"
   ]
  },
  {
   "cell_type": "code",
   "execution_count": 22,
   "metadata": {},
   "outputs": [],
   "source": [
    "# 2번 방법\n",
    "def solution(a):\n",
    "    j = 2\n",
    "    \n",
    "    while a % j != 0:\n",
    "        j += 1\n",
    "        \n",
    "        if a == j:\n",
    "            print(\"소수\")\n",
    "            \n",
    "        else:\n",
    "            print(\"소수 아님\")"
   ]
  },
  {
   "cell_type": "code",
   "execution_count": null,
   "metadata": {},
   "outputs": [],
   "source": []
  }
 ],
 "metadata": {
  "kernelspec": {
   "display_name": "Python 3",
   "language": "python",
   "name": "python3"
  },
  "language_info": {
   "codemirror_mode": {
    "name": "ipython",
    "version": 3
   },
   "file_extension": ".py",
   "mimetype": "text/x-python",
   "name": "python",
   "nbconvert_exporter": "python",
   "pygments_lexer": "ipython3",
   "version": "3.7.3"
  }
 },
 "nbformat": 4,
 "nbformat_minor": 2
}
