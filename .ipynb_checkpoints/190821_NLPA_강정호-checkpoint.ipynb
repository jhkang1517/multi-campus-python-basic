{
 "cells": [
  {
   "cell_type": "markdown",
   "metadata": {},
   "source": [
    "## 실습 2번\n",
    "다음 문서를 sklearn 패키지를 사용하여 LSA 토픽모델링 하시오"
   ]
  },
  {
   "cell_type": "code",
   "execution_count": 73,
   "metadata": {},
   "outputs": [],
   "source": [
    "doc_ls = ['바나나 사과 포도 포도',\n",
    "          '사과 포도',\n",
    "          '포도 바나나',\n",
    "          '짜장면 짬뽕 탕수육',\n",
    "          '볶음밥 탕수육',\n",
    "          '짜장면 짬뽕',\n",
    "          '라면 스시',\n",
    "          '스시',\n",
    "          '가츠동 스시 소바',\n",
    "          '된장찌개 김치찌개 김치',\n",
    "          '김치 된장',\n",
    "          '비빔밥 김치',\n",
    "         ]"
   ]
  },
  {
   "cell_type": "code",
   "execution_count": 78,
   "metadata": {},
   "outputs": [
    {
     "name": "stdout",
     "output_type": "stream",
     "text": [
      "  (0, 6)\t0.4418867148991048\n",
      "  (0, 9)\t0.4418867148991048\n",
      "  (0, 15)\t0.7806870451028085\n",
      "  (1, 9)\t0.7494645793884686\n",
      "  (1, 15)\t0.662044442799776\n",
      "  (2, 6)\t0.7494645793884686\n",
      "  (2, 15)\t0.662044442799776\n",
      "  (3, 12)\t0.5773502691896258\n",
      "  (3, 13)\t0.5773502691896258\n",
      "  (3, 14)\t0.5773502691896258\n",
      "  (4, 14)\t0.6515208683486948\n",
      "  (4, 7)\t0.7586307126040724\n",
      "  (5, 12)\t0.7071067811865476\n",
      "  (5, 13)\t0.7071067811865476\n",
      "  (6, 5)\t0.7966850663542188\n",
      "  (6, 11)\t0.6043946600096447\n",
      "  (7, 11)\t1.0\n",
      "  (8, 11)\t0.47271637301705055\n",
      "  (8, 0)\t0.6231128431839633\n",
      "  (8, 10)\t0.6231128431839633\n",
      "  (9, 4)\t0.6231128431839633\n",
      "  (9, 2)\t0.6231128431839633\n",
      "  (9, 1)\t0.47271637301705055\n",
      "  (10, 1)\t0.6043946600096447\n",
      "  (10, 3)\t0.7966850663542188\n",
      "  (11, 1)\t0.6043946600096447\n",
      "  (11, 8)\t0.7966850663542188\n"
     ]
    }
   ],
   "source": [
    "# LSA는 TF-IDF를 사용하는 모델입니다. 따라서 TFIDF 모델 import\n",
    "from sklearn.feature_extraction.text import TfidfVectorizer\n",
    "\n",
    "tfidf = TfidfVectorizer(\n",
    "    max_features= 1000, # 최대 단어수 설정하기\n",
    "    max_df = 0.5, \n",
    "    smooth_idf=True\n",
    ")\n",
    "# print(tfidf)\n",
    "\n",
    "X = tfidf.fit_transform(doc_ls)\n",
    "print(X)\n",
    "\n",
    "# 아.... "
   ]
  },
  {
   "cell_type": "markdown",
   "metadata": {},
   "source": [
    "## 실습 4번"
   ]
  },
  {
   "cell_type": "code",
   "execution_count": 85,
   "metadata": {},
   "outputs": [],
   "source": [
    "# Car 클래스를 만드세요\n",
    "class Car(object):\n",
    "    total = 0\n",
    "\n",
    "    # 객체 생성시 차이름, 배기량, 생산년도 입력 받으세요\n",
    "    # 직접 변경을 못하게 앞에 __ 추가\n",
    "    # 객체생성시마다 등록된 차량 갯수를 기록해주세요\n",
    "    def __init__(self, name, cc, year):\n",
    "        self.__name = name\n",
    "        self.__cc = cc\n",
    "        self.__year = year\n",
    "        Car.total += 1\n",
    "    \n",
    "    # 총 등록된 차량개수를 출력하는 클래스 함수를 만드세요\n",
    "    @classmethod\n",
    "    def PrintCarNums(cls):\n",
    "        return cls.total\n",
    "    \n",
    "    # 차이름을 뱐걍하는 함수를 만드세요\n",
    "    def ChangeCarName(self, Newname):\n",
    "        self.__name = Newname\n",
    "        return self.__name\n",
    "    \n",
    "    # 배기량에 따라 소형, 중형, 대형을 출력하는 함수를 만드세요\n",
    "    def PrintCC(self):\n",
    "        if self.__cc <= 1000: # if문에서 한번 거르고, 이게 아니라면 자동적으로 1000 초과\n",
    "            return \"소형\"\n",
    "        elif self.__cc <= 2000:\n",
    "            return \"중형\"\n",
    "        else:\n",
    "            return \"대형\"\n",
    "    \n",
    "    # 이름이 정상적으로 변경되었나 test하는 함수입니다. \n",
    "    def PrintName(self):\n",
    "        return self.__name\n"
   ]
  },
  {
   "cell_type": "code",
   "execution_count": 86,
   "metadata": {},
   "outputs": [],
   "source": [
    "junghocar = Car(\"마쎼라티\",2000,\"2019\")"
   ]
  },
  {
   "cell_type": "code",
   "execution_count": 87,
   "metadata": {},
   "outputs": [
    {
     "data": {
      "text/plain": [
       "'중형'"
      ]
     },
     "execution_count": 87,
     "metadata": {},
     "output_type": "execute_result"
    }
   ],
   "source": [
    "Car.PrintCC(junghocar)"
   ]
  },
  {
   "cell_type": "code",
   "execution_count": 88,
   "metadata": {},
   "outputs": [
    {
     "data": {
      "text/plain": [
       "'마쎼라티'"
      ]
     },
     "execution_count": 88,
     "metadata": {},
     "output_type": "execute_result"
    }
   ],
   "source": [
    "Car.PrintName(junghocar)"
   ]
  },
  {
   "cell_type": "code",
   "execution_count": 89,
   "metadata": {},
   "outputs": [
    {
     "data": {
      "text/plain": [
       "'전설의레전드마쎄라티(+13강)'"
      ]
     },
     "execution_count": 89,
     "metadata": {},
     "output_type": "execute_result"
    }
   ],
   "source": [
    "Car.ChangeCarName(junghocar, \"전설의레전드마쎄라티(+13강)\")"
   ]
  },
  {
   "cell_type": "code",
   "execution_count": 90,
   "metadata": {},
   "outputs": [
    {
     "data": {
      "text/plain": [
       "'전설의레전드마쎄라티(+13강)'"
      ]
     },
     "execution_count": 90,
     "metadata": {},
     "output_type": "execute_result"
    }
   ],
   "source": [
    "Car.PrintName(junghocar)"
   ]
  },
  {
   "cell_type": "code",
   "execution_count": 91,
   "metadata": {},
   "outputs": [
    {
     "data": {
      "text/plain": [
       "1"
      ]
     },
     "execution_count": 91,
     "metadata": {},
     "output_type": "execute_result"
    }
   ],
   "source": [
    "Car.PrintCarNums()"
   ]
  },
  {
   "cell_type": "code",
   "execution_count": 92,
   "metadata": {},
   "outputs": [],
   "source": [
    "myfriendcar = Car(\"똥차\", 500,\"1950\")"
   ]
  },
  {
   "cell_type": "code",
   "execution_count": 93,
   "metadata": {},
   "outputs": [
    {
     "data": {
      "text/plain": [
       "2"
      ]
     },
     "execution_count": 93,
     "metadata": {},
     "output_type": "execute_result"
    }
   ],
   "source": [
    "Car.PrintCarNums()"
   ]
  },
  {
   "cell_type": "code",
   "execution_count": 94,
   "metadata": {},
   "outputs": [
    {
     "data": {
      "text/plain": [
       "'소형'"
      ]
     },
     "execution_count": 94,
     "metadata": {},
     "output_type": "execute_result"
    }
   ],
   "source": [
    "Car.PrintCC(myfriendcar)"
   ]
  },
  {
   "cell_type": "code",
   "execution_count": null,
   "metadata": {},
   "outputs": [],
   "source": []
  }
 ],
 "metadata": {
  "kernelspec": {
   "display_name": "Python 3",
   "language": "python",
   "name": "python3"
  },
  "language_info": {
   "codemirror_mode": {
    "name": "ipython",
    "version": 3
   },
   "file_extension": ".py",
   "mimetype": "text/x-python",
   "name": "python",
   "nbconvert_exporter": "python",
   "pygments_lexer": "ipython3",
   "version": "3.7.3"
  }
 },
 "nbformat": 4,
 "nbformat_minor": 2
}
