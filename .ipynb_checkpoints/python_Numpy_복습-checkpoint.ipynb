{
 "cells": [
  {
   "cell_type": "markdown",
   "metadata": {
    "nbpresent": {
     "id": "a00a5059-101b-4f62-bac3-0c6049620deb"
    }
   },
   "source": [
    "# 11장 데이터 분석을 위한 패키지"
   ]
  },
  {
   "cell_type": "markdown",
   "metadata": {},
   "source": [
    "## 11.1 배열 데이터를 효과적으로 다루는 NumPy"
   ]
  },
  {
   "cell_type": "markdown",
   "metadata": {
    "nbpresent": {
     "id": "18fa478a-80cb-47a5-ae5e-d861a083f7cd"
    }
   },
   "source": [
    "### 배열 생성하기"
   ]
  },
  {
   "cell_type": "markdown",
   "metadata": {
    "nbpresent": {
     "id": "053a878b-45b6-4880-8c45-d95f0ab23dc3"
    }
   },
   "source": [
    "**[11장: 215페이지]**"
   ]
  },
  {
   "cell_type": "code",
   "execution_count": 1,
   "metadata": {
    "nbpresent": {
     "id": "9e8ce122-b1df-430b-b94c-2511fe66389f"
    }
   },
   "outputs": [],
   "source": [
    "import numpy as np"
   ]
  },
  {
   "cell_type": "markdown",
   "metadata": {},
   "source": [
    "#### 시퀀스 데이터로부터 배열 생성"
   ]
  },
  {
   "cell_type": "markdown",
   "metadata": {},
   "source": [
    "**[11장: 215 ~ 216페이지]**"
   ]
  },
  {
   "cell_type": "code",
   "execution_count": 2,
   "metadata": {
    "nbpresent": {
     "id": "5f71eb4e-f55e-4f00-96bc-722d7e241a66"
    }
   },
   "outputs": [
    {
     "data": {
      "text/plain": [
       "array([0, 1, 2, 3, 4, 5])"
      ]
     },
     "execution_count": 2,
     "metadata": {},
     "output_type": "execute_result"
    }
   ],
   "source": [
    "import numpy as np\n",
    "\n",
    "data1 = [0, 1, 2, 3, 4, 5]\n",
    "a1 = np.array(data1)\n",
    "a1"
   ]
  },
  {
   "cell_type": "markdown",
   "metadata": {
    "nbpresent": {
     "id": "6f7c6e9f-8a23-4093-8306-f1d086c93874"
    }
   },
   "source": [
    "**[11장: 216페이지]**"
   ]
  },
  {
   "cell_type": "code",
   "execution_count": 3,
   "metadata": {
    "nbpresent": {
     "id": "4f067f0f-f488-409b-bd2b-b56b87a767de"
    }
   },
   "outputs": [
    {
     "data": {
      "text/plain": [
       "array([ 0.1,  5. ,  4. , 12. ,  0.5])"
      ]
     },
     "execution_count": 3,
     "metadata": {},
     "output_type": "execute_result"
    }
   ],
   "source": [
    "data2 = [0.1, 5, 4, 12, 0.5]\n",
    "a2 = np.array(data2)\n",
    "a2"
   ]
  },
  {
   "cell_type": "markdown",
   "metadata": {
    "nbpresent": {
     "id": "ffb7631f-cc98-4285-9663-226c09fff590"
    }
   },
   "source": [
    "**[11장: 216페이지]**"
   ]
  },
  {
   "cell_type": "code",
   "execution_count": null,
   "metadata": {
    "nbpresent": {
     "id": "8c96f42b-7142-4360-b36d-26baaec54605"
    }
   },
   "outputs": [],
   "source": [
    "a1.dtype"
   ]
  },
  {
   "cell_type": "code",
   "execution_count": null,
   "metadata": {
    "nbpresent": {
     "id": "34879198-e061-4749-9bd7-8e0a7820dcd1"
    }
   },
   "outputs": [],
   "source": [
    "a2.dtype"
   ]
  },
  {
   "cell_type": "markdown",
   "metadata": {
    "nbpresent": {
     "id": "a214414a-e9a8-4cb1-ac91-5105ffee0cd3"
    }
   },
   "source": [
    "**[11장: 216페이지]**"
   ]
  },
  {
   "cell_type": "code",
   "execution_count": null,
   "metadata": {
    "nbpresent": {
     "id": "c8f76150-5cb1-48ee-97dc-a21962811c13"
    }
   },
   "outputs": [],
   "source": [
    "np.array([0.5, 2, 0.01, 8])"
   ]
  },
  {
   "cell_type": "markdown",
   "metadata": {
    "nbpresent": {
     "id": "39cb565c-2e08-49e3-84b1-c4310ea74a88"
    }
   },
   "source": [
    "**[11장: 217페이지]**"
   ]
  },
  {
   "cell_type": "code",
   "execution_count": null,
   "metadata": {
    "nbpresent": {
     "id": "27fe706c-9327-4844-9521-3e436c33a60c"
    }
   },
   "outputs": [],
   "source": [
    "np.array([[1,2,3], [4,5,6], [7,8,9]])"
   ]
  },
  {
   "cell_type": "markdown",
   "metadata": {
    "nbpresent": {
     "id": "992c8f6c-4041-4ef1-930b-5ad3f5b4b65d"
    }
   },
   "source": [
    "#### 범위를 지정해 배열 생성"
   ]
  },
  {
   "cell_type": "markdown",
   "metadata": {},
   "source": [
    "**[11장: 217페이지]**"
   ]
  },
  {
   "cell_type": "code",
   "execution_count": null,
   "metadata": {
    "nbpresent": {
     "id": "c1f42511-fc6f-4e62-9cc5-1a72650b5845"
    }
   },
   "outputs": [],
   "source": [
    "np.arange(0, 10, 2)"
   ]
  },
  {
   "cell_type": "code",
   "execution_count": null,
   "metadata": {
    "nbpresent": {
     "id": "5f2dd4a9-34e1-4b11-a609-5872b5388bae"
    }
   },
   "outputs": [],
   "source": [
    "np.arange(1, 10)"
   ]
  },
  {
   "cell_type": "code",
   "execution_count": null,
   "metadata": {
    "nbpresent": {
     "id": "66eb7421-5131-4042-8663-19a471dc2060"
    }
   },
   "outputs": [],
   "source": [
    "np.arange(5)"
   ]
  },
  {
   "cell_type": "markdown",
   "metadata": {
    "nbpresent": {
     "id": "f51d54c3-3da0-463f-9207-c55646d93638"
    }
   },
   "source": [
    "**[11장: 218페이지]**"
   ]
  },
  {
   "cell_type": "code",
   "execution_count": null,
   "metadata": {
    "nbpresent": {
     "id": "63b42c5c-ac60-4432-9197-ed176bf2d2e0"
    },
    "scrolled": true
   },
   "outputs": [],
   "source": [
    "np.arange(12).reshape(4,3)"
   ]
  },
  {
   "cell_type": "markdown",
   "metadata": {
    "nbpresent": {
     "id": "3e6e8dfd-88cb-472d-8c78-5ec174ea5193"
    }
   },
   "source": [
    "**[11장: 218페이지]**"
   ]
  },
  {
   "cell_type": "code",
   "execution_count": null,
   "metadata": {},
   "outputs": [],
   "source": [
    "b1 = np.arange(12).reshape(4,3)\n",
    "b1.shape"
   ]
  },
  {
   "cell_type": "markdown",
   "metadata": {},
   "source": [
    "**[11장: 219페이지]**"
   ]
  },
  {
   "cell_type": "code",
   "execution_count": null,
   "metadata": {},
   "outputs": [],
   "source": [
    "b2 = np.arange(5)\n",
    "b2.shape"
   ]
  },
  {
   "cell_type": "markdown",
   "metadata": {},
   "source": [
    "**[11장: 219페이지]**"
   ]
  },
  {
   "cell_type": "code",
   "execution_count": null,
   "metadata": {},
   "outputs": [],
   "source": [
    "np.linspace(1, 10, 10)"
   ]
  },
  {
   "cell_type": "markdown",
   "metadata": {},
   "source": [
    "**[11장: 219페이지]**"
   ]
  },
  {
   "cell_type": "code",
   "execution_count": null,
   "metadata": {},
   "outputs": [],
   "source": [
    "np.linspace(0, np.pi, 20 )"
   ]
  },
  {
   "cell_type": "markdown",
   "metadata": {},
   "source": [
    "#### 특별한 형태의 배열 생성"
   ]
  },
  {
   "cell_type": "markdown",
   "metadata": {},
   "source": [
    "**[11장: 220페이지]**"
   ]
  },
  {
   "cell_type": "code",
   "execution_count": null,
   "metadata": {
    "nbpresent": {
     "id": "ec1bca5f-3476-4abb-928f-6c071fac203a"
    }
   },
   "outputs": [],
   "source": [
    "np.zeros(10)"
   ]
  },
  {
   "cell_type": "markdown",
   "metadata": {},
   "source": [
    "**[11장: 220페이지]**"
   ]
  },
  {
   "cell_type": "code",
   "execution_count": null,
   "metadata": {
    "nbpresent": {
     "id": "daee3ad5-0f22-44b2-b473-8980d1a58e53"
    }
   },
   "outputs": [],
   "source": [
    "np.zeros((3,4))"
   ]
  },
  {
   "cell_type": "markdown",
   "metadata": {},
   "source": [
    "**[11장: 220 ~ 221페이지]**"
   ]
  },
  {
   "cell_type": "code",
   "execution_count": null,
   "metadata": {
    "nbpresent": {
     "id": "e906fa8c-b178-45b9-9591-31f3af9ac3ae"
    }
   },
   "outputs": [],
   "source": [
    "np.ones(5)"
   ]
  },
  {
   "cell_type": "code",
   "execution_count": null,
   "metadata": {
    "nbpresent": {
     "id": "4ca86a90-74ed-42a2-a46d-a42d4a28ddb5"
    }
   },
   "outputs": [],
   "source": [
    "np.ones((3,5))"
   ]
  },
  {
   "cell_type": "markdown",
   "metadata": {
    "nbpresent": {
     "id": "cdda517f-7dda-4747-82fb-291fbdd34149"
    }
   },
   "source": [
    "**[11장: 221페이지]**"
   ]
  },
  {
   "cell_type": "code",
   "execution_count": null,
   "metadata": {
    "nbpresent": {
     "id": "963a3cc5-3883-435d-a090-afad780451ea"
    }
   },
   "outputs": [],
   "source": [
    "np.eye(3)"
   ]
  },
  {
   "cell_type": "markdown",
   "metadata": {
    "nbpresent": {
     "id": "8439f472-17a2-4baa-86bc-ff64e9b3d704"
    }
   },
   "source": [
    "#### 배열의 데이터 타입 변환"
   ]
  },
  {
   "cell_type": "markdown",
   "metadata": {},
   "source": [
    "**[11장: 221페이지]**"
   ]
  },
  {
   "cell_type": "code",
   "execution_count": null,
   "metadata": {
    "nbpresent": {
     "id": "645ae3c6-8414-435e-a321-26c0ecfe5485"
    }
   },
   "outputs": [],
   "source": [
    "np.array(['1.5', '0.62', '2', '3.14', '3.141592'])"
   ]
  },
  {
   "cell_type": "markdown",
   "metadata": {
    "nbpresent": {
     "id": "df60ef51-c70f-4dac-b97d-17e4b6bcd2ea"
    }
   },
   "source": [
    "**[11장: 222페이지]**"
   ]
  },
  {
   "cell_type": "code",
   "execution_count": null,
   "metadata": {
    "nbpresent": {
     "id": "be3ce681-c2f1-4b77-938b-d731ff638994"
    }
   },
   "outputs": [],
   "source": [
    "str_a1 = np.array(['1.567', '0.123', '5.123', '9', '8'])\n",
    "num_a1 = str_a1.astype(float)\n",
    "num_a1"
   ]
  },
  {
   "cell_type": "markdown",
   "metadata": {
    "collapsed": true
   },
   "source": [
    "**[11장: 223페이지]**"
   ]
  },
  {
   "cell_type": "code",
   "execution_count": null,
   "metadata": {},
   "outputs": [],
   "source": [
    "str_a1.dtype"
   ]
  },
  {
   "cell_type": "code",
   "execution_count": null,
   "metadata": {
    "nbpresent": {
     "id": "a62c4cd9-9b6c-4a93-ab3c-2433ceac4255"
    }
   },
   "outputs": [],
   "source": [
    "num_a1.dtype"
   ]
  },
  {
   "cell_type": "markdown",
   "metadata": {},
   "source": [
    "**[11장: 223페이지]**"
   ]
  },
  {
   "cell_type": "code",
   "execution_count": null,
   "metadata": {
    "nbpresent": {
     "id": "7540392f-5b0c-4b3d-af05-d16b033e489f"
    }
   },
   "outputs": [],
   "source": [
    "str_a2 = np.array(['1', '3', '5', '7', '9'])\n",
    "num_a2 = str_a2.astype(int)\n",
    "num_a2"
   ]
  },
  {
   "cell_type": "markdown",
   "metadata": {},
   "source": [
    "**[11장: 223페이지]**"
   ]
  },
  {
   "cell_type": "code",
   "execution_count": null,
   "metadata": {},
   "outputs": [],
   "source": [
    "str_a2.dtype"
   ]
  },
  {
   "cell_type": "code",
   "execution_count": null,
   "metadata": {},
   "outputs": [],
   "source": [
    "num_a2.dtype"
   ]
  },
  {
   "cell_type": "markdown",
   "metadata": {},
   "source": [
    "**[11장: 223페이지]**"
   ]
  },
  {
   "cell_type": "code",
   "execution_count": null,
   "metadata": {
    "nbpresent": {
     "id": "e7b1eeb3-a8bd-4612-a8b9-41ee0d6b816f"
    }
   },
   "outputs": [],
   "source": [
    "num_f1 = np.array([10, 21, 0.549, 4.75, 5.98])\n",
    "num_i1 = num_f1.astype(int)\n",
    "num_i1"
   ]
  },
  {
   "cell_type": "markdown",
   "metadata": {},
   "source": [
    "**[11장: 224페이지]**"
   ]
  },
  {
   "cell_type": "code",
   "execution_count": null,
   "metadata": {
    "scrolled": true
   },
   "outputs": [],
   "source": [
    "num_f1.dtype"
   ]
  },
  {
   "cell_type": "code",
   "execution_count": null,
   "metadata": {},
   "outputs": [],
   "source": [
    "num_i1.dtype"
   ]
  },
  {
   "cell_type": "markdown",
   "metadata": {},
   "source": [
    "#### 난수 배열의 생성"
   ]
  },
  {
   "cell_type": "markdown",
   "metadata": {},
   "source": [
    "**[11장: 224 ~ 225페이지]**"
   ]
  },
  {
   "cell_type": "code",
   "execution_count": null,
   "metadata": {},
   "outputs": [],
   "source": [
    "np.random.rand(2,3)"
   ]
  },
  {
   "cell_type": "code",
   "execution_count": null,
   "metadata": {},
   "outputs": [],
   "source": [
    "np.random.rand()"
   ]
  },
  {
   "cell_type": "code",
   "execution_count": null,
   "metadata": {},
   "outputs": [],
   "source": [
    "np.random.rand(2,3,4)"
   ]
  },
  {
   "cell_type": "markdown",
   "metadata": {},
   "source": [
    "**[11장: 225페이지]**"
   ]
  },
  {
   "cell_type": "code",
   "execution_count": null,
   "metadata": {},
   "outputs": [],
   "source": [
    "np.random.randint(10, size=(3, 4))"
   ]
  },
  {
   "cell_type": "code",
   "execution_count": null,
   "metadata": {},
   "outputs": [],
   "source": [
    "np.random.randint(1, 30)"
   ]
  },
  {
   "cell_type": "markdown",
   "metadata": {
    "nbpresent": {
     "id": "ee59bc8f-cf0f-4aaf-a8ae-b5c2763cc79b"
    }
   },
   "source": [
    "### 배열의 연산"
   ]
  },
  {
   "cell_type": "markdown",
   "metadata": {},
   "source": [
    "#### 기본 연산"
   ]
  },
  {
   "cell_type": "markdown",
   "metadata": {},
   "source": [
    "**[11장: 225페이지]**"
   ]
  },
  {
   "cell_type": "code",
   "execution_count": null,
   "metadata": {
    "nbpresent": {
     "id": "31a5e2f1-017c-4d6d-aae3-1fb54ac75e9c"
    }
   },
   "outputs": [],
   "source": [
    "arr1 = np.array([10, 20, 30, 40])\n",
    "arr2 = np.array([1, 2, 3, 4])"
   ]
  },
  {
   "cell_type": "markdown",
   "metadata": {
    "nbpresent": {
     "id": "c8775c40-9bd4-4f67-95dc-5bd8649d797a"
    }
   },
   "source": [
    "**[11장: 226페이지]**"
   ]
  },
  {
   "cell_type": "code",
   "execution_count": null,
   "metadata": {
    "nbpresent": {
     "id": "4f32ef1d-bbac-41a0-928b-75941eb6508c"
    }
   },
   "outputs": [],
   "source": [
    "arr1 + arr2"
   ]
  },
  {
   "cell_type": "markdown",
   "metadata": {
    "nbpresent": {
     "id": "6f741d1a-45ad-4a71-b0a7-f9a02979eec0"
    }
   },
   "source": [
    "**[11장: 226페이지]**"
   ]
  },
  {
   "cell_type": "code",
   "execution_count": null,
   "metadata": {
    "nbpresent": {
     "id": "a806af30-5593-4124-8bb7-d458c2853ad8"
    }
   },
   "outputs": [],
   "source": [
    "arr1 - arr2"
   ]
  },
  {
   "cell_type": "markdown",
   "metadata": {
    "nbpresent": {
     "id": "68c0bf09-6eb0-4498-bd08-0ca334bc6e5b"
    }
   },
   "source": [
    "**[11장: 226페이지]**"
   ]
  },
  {
   "cell_type": "code",
   "execution_count": null,
   "metadata": {
    "nbpresent": {
     "id": "bf735d32-362d-455e-b9df-4881cfaaa8ff"
    }
   },
   "outputs": [],
   "source": [
    "arr2 * 2"
   ]
  },
  {
   "cell_type": "markdown",
   "metadata": {
    "nbpresent": {
     "id": "ae5280f0-4e1d-4dd9-8d4e-1a410802d866"
    }
   },
   "source": [
    "**[11장: 226페이지]**"
   ]
  },
  {
   "cell_type": "code",
   "execution_count": null,
   "metadata": {
    "nbpresent": {
     "id": "248b2673-a05f-447b-85ea-d537b8880f80"
    }
   },
   "outputs": [],
   "source": [
    "arr2 ** 2"
   ]
  },
  {
   "cell_type": "markdown",
   "metadata": {
    "nbpresent": {
     "id": "8c0fbf70-0906-4f5f-990a-84abd7483130"
    }
   },
   "source": [
    "**[11장: 226페이지]**"
   ]
  },
  {
   "cell_type": "code",
   "execution_count": null,
   "metadata": {
    "nbpresent": {
     "id": "90778e0d-2726-4c96-bae9-af808aa17696"
    }
   },
   "outputs": [],
   "source": [
    "arr1 * arr2"
   ]
  },
  {
   "cell_type": "markdown",
   "metadata": {
    "nbpresent": {
     "id": "612a4af9-ed41-494e-9891-95abc5499fd5"
    }
   },
   "source": [
    "**[11장: 227페이지]**"
   ]
  },
  {
   "cell_type": "code",
   "execution_count": null,
   "metadata": {
    "nbpresent": {
     "id": "497bfe6b-1180-43ad-8d15-911730388b95"
    }
   },
   "outputs": [],
   "source": [
    "arr1 / arr2"
   ]
  },
  {
   "cell_type": "markdown",
   "metadata": {
    "nbpresent": {
     "id": "f903d116-fd18-4cd9-b9bd-07ad6b3efbfe"
    }
   },
   "source": [
    "**[11장: 227페이지]**"
   ]
  },
  {
   "cell_type": "code",
   "execution_count": null,
   "metadata": {
    "nbpresent": {
     "id": "a91ef282-77b8-44fa-8f41-61b2733727ba"
    }
   },
   "outputs": [],
   "source": [
    "arr1 / (arr2 ** 2)"
   ]
  },
  {
   "cell_type": "markdown",
   "metadata": {
    "nbpresent": {
     "id": "e7025c1f-15be-41a8-b9fa-c08268a51664"
    }
   },
   "source": [
    "**[11장: 227페이지]**"
   ]
  },
  {
   "cell_type": "code",
   "execution_count": null,
   "metadata": {
    "nbpresent": {
     "id": "b412697d-8109-4e03-8194-757e3f000fa1"
    }
   },
   "outputs": [],
   "source": [
    "arr1 > 20"
   ]
  },
  {
   "cell_type": "markdown",
   "metadata": {
    "nbpresent": {
     "id": "ed5d25ea-f078-4238-9911-6f56810dc8b6"
    }
   },
   "source": [
    "#### 통계를 위한 연산"
   ]
  },
  {
   "cell_type": "markdown",
   "metadata": {},
   "source": [
    "**[11장: 227페이지]**"
   ]
  },
  {
   "cell_type": "code",
   "execution_count": null,
   "metadata": {
    "nbpresent": {
     "id": "10bbf32c-3190-4853-b5b7-47d3048a2732"
    }
   },
   "outputs": [],
   "source": [
    "arr3 = np.arange(5)\n",
    "arr3"
   ]
  },
  {
   "cell_type": "markdown",
   "metadata": {
    "nbpresent": {
     "id": "4530b23b-2318-4409-921f-8ee2dc665327"
    }
   },
   "source": [
    "**[11장: 227페이지]**"
   ]
  },
  {
   "cell_type": "code",
   "execution_count": null,
   "metadata": {
    "nbpresent": {
     "id": "e431758a-85a8-47d9-9bc0-e4d601d4db09"
    }
   },
   "outputs": [],
   "source": [
    "[arr3.sum(), arr3.mean()]"
   ]
  },
  {
   "cell_type": "markdown",
   "metadata": {
    "nbpresent": {
     "id": "c518a29e-e00d-40d7-bec5-07d421415653"
    }
   },
   "source": [
    "**[11장: 228페이지]**"
   ]
  },
  {
   "cell_type": "code",
   "execution_count": null,
   "metadata": {
    "nbpresent": {
     "id": "fb6fc3f3-1a8a-403c-84d5-1ea68bc354c1"
    }
   },
   "outputs": [],
   "source": [
    "[arr3.std(), arr3.var()]"
   ]
  },
  {
   "cell_type": "markdown",
   "metadata": {
    "nbpresent": {
     "id": "89623b71-c0fe-41b4-8266-1fd88f4af845"
    }
   },
   "source": [
    "**[11장: 228페이지]**"
   ]
  },
  {
   "cell_type": "code",
   "execution_count": null,
   "metadata": {
    "nbpresent": {
     "id": "f102e256-50cc-43d9-94fc-7cb973bbbf9e"
    }
   },
   "outputs": [],
   "source": [
    "[arr3.min(), arr3.max()]"
   ]
  },
  {
   "cell_type": "markdown",
   "metadata": {
    "nbpresent": {
     "id": "d871227b-d4dd-40c1-a5ad-9fa3f362b878"
    }
   },
   "source": [
    "**[11장: 228페이지]**"
   ]
  },
  {
   "cell_type": "code",
   "execution_count": null,
   "metadata": {},
   "outputs": [],
   "source": [
    "arr4 = np.arange(1,5)\n",
    "arr4"
   ]
  },
  {
   "cell_type": "markdown",
   "metadata": {},
   "source": [
    "**[11장: 228페이지]** "
   ]
  },
  {
   "cell_type": "code",
   "execution_count": null,
   "metadata": {
    "nbpresent": {
     "id": "bafc5580-e051-4737-8631-2a8d3bf9c9cb"
    }
   },
   "outputs": [],
   "source": [
    "arr4.cumsum()"
   ]
  },
  {
   "cell_type": "code",
   "execution_count": null,
   "metadata": {
    "nbpresent": {
     "id": "a5b08f83-1ffd-4a88-941b-a8471101b857"
    }
   },
   "outputs": [],
   "source": [
    "arr4.cumprod()"
   ]
  },
  {
   "cell_type": "markdown",
   "metadata": {
    "nbpresent": {
     "id": "68113591-507a-4c02-9133-3cb8142de227"
    }
   },
   "source": [
    "#### 행렬 연산"
   ]
  },
  {
   "cell_type": "markdown",
   "metadata": {},
   "source": [
    "**[11장: 229페이지]**"
   ]
  },
  {
   "cell_type": "code",
   "execution_count": null,
   "metadata": {},
   "outputs": [],
   "source": [
    "A = np.array([0, 1, 2, 3]).reshape(2,2)\n",
    "A"
   ]
  },
  {
   "cell_type": "code",
   "execution_count": null,
   "metadata": {},
   "outputs": [],
   "source": [
    "B = np.array([3, 2, 0, 1]).reshape(2,2)\n",
    "B"
   ]
  },
  {
   "cell_type": "markdown",
   "metadata": {},
   "source": [
    "**[11장: 229페이지]**"
   ]
  },
  {
   "cell_type": "code",
   "execution_count": null,
   "metadata": {},
   "outputs": [],
   "source": [
    "A.dot(B)"
   ]
  },
  {
   "cell_type": "code",
   "execution_count": null,
   "metadata": {},
   "outputs": [],
   "source": [
    "np.dot(A,B)"
   ]
  },
  {
   "cell_type": "markdown",
   "metadata": {},
   "source": [
    "**[11장: 229 ~ 230페이지]**"
   ]
  },
  {
   "cell_type": "code",
   "execution_count": null,
   "metadata": {},
   "outputs": [],
   "source": [
    "np.transpose(A)"
   ]
  },
  {
   "cell_type": "code",
   "execution_count": null,
   "metadata": {},
   "outputs": [],
   "source": [
    "A.transpose()"
   ]
  },
  {
   "cell_type": "markdown",
   "metadata": {},
   "source": [
    "**[11장: 230페이지]**"
   ]
  },
  {
   "cell_type": "code",
   "execution_count": null,
   "metadata": {},
   "outputs": [],
   "source": [
    "np.linalg.inv(A)"
   ]
  },
  {
   "cell_type": "markdown",
   "metadata": {},
   "source": [
    "**[11장: 230페이지]**"
   ]
  },
  {
   "cell_type": "code",
   "execution_count": null,
   "metadata": {},
   "outputs": [],
   "source": [
    "np.linalg.det(A)"
   ]
  },
  {
   "cell_type": "markdown",
   "metadata": {
    "nbpresent": {
     "id": "0266279b-0a9a-4625-bf56-25dcdc3ed960"
    }
   },
   "source": [
    "### 배열의 인덱싱과 슬라이싱"
   ]
  },
  {
   "cell_type": "markdown",
   "metadata": {
    "nbpresent": {
     "id": "c2015789-2fd8-46d5-9d58-5291f8e895df"
    }
   },
   "source": [
    "#### 배열의 인덱싱"
   ]
  },
  {
   "cell_type": "markdown",
   "metadata": {},
   "source": [
    "**[11장: 230페이지]**"
   ]
  },
  {
   "cell_type": "code",
   "execution_count": null,
   "metadata": {
    "nbpresent": {
     "id": "eeea493a-f604-4696-bc2f-6d3eccb0f586"
    }
   },
   "outputs": [],
   "source": [
    "a1 = np.array([0, 10, 20, 30, 40, 50])\n",
    "a1"
   ]
  },
  {
   "cell_type": "markdown",
   "metadata": {},
   "source": [
    "**[11장: 231페이지]**"
   ]
  },
  {
   "cell_type": "code",
   "execution_count": null,
   "metadata": {
    "nbpresent": {
     "id": "2fd50764-d3f4-4999-9efe-e7f75dde9fb8"
    }
   },
   "outputs": [],
   "source": [
    "a1[0]"
   ]
  },
  {
   "cell_type": "markdown",
   "metadata": {
    "nbpresent": {
     "id": "a29dec58-b4fc-47a5-ab7b-67529d16f9a7"
    }
   },
   "source": [
    "**[11장: 231페이지]**"
   ]
  },
  {
   "cell_type": "code",
   "execution_count": null,
   "metadata": {
    "nbpresent": {
     "id": "ec07b417-b92e-42a7-a1c8-fa4832d4c822"
    }
   },
   "outputs": [],
   "source": [
    "a1[4]"
   ]
  },
  {
   "cell_type": "markdown",
   "metadata": {},
   "source": [
    "**[11장: 231페이지]**"
   ]
  },
  {
   "cell_type": "code",
   "execution_count": null,
   "metadata": {},
   "outputs": [],
   "source": [
    "a1[5] = 70\n",
    "a1"
   ]
  },
  {
   "cell_type": "markdown",
   "metadata": {
    "nbpresent": {
     "id": "be5663ea-c3e0-493d-9d79-f62a519cec85"
    }
   },
   "source": [
    "**[11장: 231페이지]**"
   ]
  },
  {
   "cell_type": "code",
   "execution_count": null,
   "metadata": {
    "nbpresent": {
     "id": "002591c3-c483-4a64-b1a3-cbe5c82369fa"
    }
   },
   "outputs": [],
   "source": [
    "a1[[1,3,4]]"
   ]
  },
  {
   "cell_type": "markdown",
   "metadata": {},
   "source": [
    "**[11장: 232페이지]**"
   ]
  },
  {
   "cell_type": "code",
   "execution_count": null,
   "metadata": {},
   "outputs": [],
   "source": [
    "a2 = np.arange(10, 100, 10).reshape(3,3)\n",
    "a2"
   ]
  },
  {
   "cell_type": "markdown",
   "metadata": {},
   "source": [
    "**[11장: 232페이지]**"
   ]
  },
  {
   "cell_type": "code",
   "execution_count": null,
   "metadata": {},
   "outputs": [],
   "source": [
    "a2[0, 2]"
   ]
  },
  {
   "cell_type": "markdown",
   "metadata": {},
   "source": [
    "**[11장: 232페이지]**"
   ]
  },
  {
   "cell_type": "code",
   "execution_count": null,
   "metadata": {},
   "outputs": [],
   "source": [
    "a2[2, 2] = 95\n",
    "a2"
   ]
  },
  {
   "cell_type": "markdown",
   "metadata": {},
   "source": [
    "**[11장: 232페이지]**"
   ]
  },
  {
   "cell_type": "code",
   "execution_count": null,
   "metadata": {},
   "outputs": [],
   "source": [
    "a2[1]"
   ]
  },
  {
   "cell_type": "markdown",
   "metadata": {},
   "source": [
    "**[11장: 232 ~ 233페이지]**"
   ]
  },
  {
   "cell_type": "code",
   "execution_count": null,
   "metadata": {},
   "outputs": [],
   "source": [
    "a2[1] = np.array([45, 55, 65])\n",
    "a2"
   ]
  },
  {
   "cell_type": "code",
   "execution_count": null,
   "metadata": {},
   "outputs": [],
   "source": [
    "a2[1] = [47, 57, 67]\n",
    "a2"
   ]
  },
  {
   "cell_type": "markdown",
   "metadata": {},
   "source": [
    "**[11장: 233페이지]**"
   ]
  },
  {
   "cell_type": "code",
   "execution_count": null,
   "metadata": {},
   "outputs": [],
   "source": [
    "a2[[0, 2], [0, 1]]"
   ]
  },
  {
   "cell_type": "markdown",
   "metadata": {},
   "source": [
    "**[11장: 233페이지]**"
   ]
  },
  {
   "cell_type": "code",
   "execution_count": null,
   "metadata": {},
   "outputs": [],
   "source": [
    "a = np.array([1, 2, 3, 4, 5, 6])\n",
    "a[a > 3]"
   ]
  },
  {
   "cell_type": "markdown",
   "metadata": {},
   "source": [
    "**[11장: 234페이지]**"
   ]
  },
  {
   "cell_type": "code",
   "execution_count": null,
   "metadata": {},
   "outputs": [],
   "source": [
    "a[(a % 2) == 0]"
   ]
  },
  {
   "cell_type": "markdown",
   "metadata": {
    "nbpresent": {
     "id": "fbfdb73b-42aa-4d6c-8607-de4d7e930345"
    }
   },
   "source": [
    "#### 배열의 슬라이싱"
   ]
  },
  {
   "cell_type": "markdown",
   "metadata": {},
   "source": [
    "**[11장: 234페이지]**"
   ]
  },
  {
   "cell_type": "code",
   "execution_count": null,
   "metadata": {
    "nbpresent": {
     "id": "73248ff9-96ab-4911-a605-a2656df5439d"
    }
   },
   "outputs": [],
   "source": [
    "b1 = np.array([0, 10, 20, 30, 40, 50])\n",
    "b1[1:4]"
   ]
  },
  {
   "cell_type": "markdown",
   "metadata": {},
   "source": [
    "**[11장: 234페이지]**"
   ]
  },
  {
   "cell_type": "code",
   "execution_count": null,
   "metadata": {},
   "outputs": [],
   "source": [
    "b1[:3]"
   ]
  },
  {
   "cell_type": "code",
   "execution_count": null,
   "metadata": {},
   "outputs": [],
   "source": [
    "b1[2:]"
   ]
  },
  {
   "cell_type": "markdown",
   "metadata": {
    "nbpresent": {
     "id": "7de123ee-afb9-43a6-a788-ba8259e43c10"
    }
   },
   "source": [
    "**[11장: 235페이지]**"
   ]
  },
  {
   "cell_type": "code",
   "execution_count": null,
   "metadata": {},
   "outputs": [],
   "source": [
    "b1[2:5] = np.array([25, 35, 45])\n",
    "b1"
   ]
  },
  {
   "cell_type": "markdown",
   "metadata": {
    "nbpresent": {
     "id": "a27c357b-88af-4112-a754-e11efa79dff2"
    }
   },
   "source": [
    "**[11장: 235페이지]**"
   ]
  },
  {
   "cell_type": "code",
   "execution_count": null,
   "metadata": {
    "nbpresent": {
     "id": "6388bb1d-a6da-4b8d-9343-c9e36e961fcb"
    }
   },
   "outputs": [],
   "source": [
    "b1[3:6] = 60\n",
    "b1"
   ]
  },
  {
   "cell_type": "markdown",
   "metadata": {},
   "source": [
    "**[11장: 235페이지]**"
   ]
  },
  {
   "cell_type": "code",
   "execution_count": null,
   "metadata": {},
   "outputs": [],
   "source": [
    "b2 = np.arange(10, 100, 10).reshape(3,3)\n",
    "b2"
   ]
  },
  {
   "cell_type": "markdown",
   "metadata": {},
   "source": [
    "**[11장: 236페이지]**"
   ]
  },
  {
   "cell_type": "code",
   "execution_count": null,
   "metadata": {
    "nbpresent": {
     "id": "de8005c3-e4b5-4a92-a1ca-2b9871cd8177"
    }
   },
   "outputs": [],
   "source": [
    "b2[1:3, 1:3]"
   ]
  },
  {
   "cell_type": "markdown",
   "metadata": {},
   "source": [
    "**[11장: 236페이지]**"
   ]
  },
  {
   "cell_type": "code",
   "execution_count": null,
   "metadata": {},
   "outputs": [],
   "source": [
    "b2[:3, 1:]"
   ]
  },
  {
   "cell_type": "markdown",
   "metadata": {},
   "source": [
    "**[11장: 236페이지]**"
   ]
  },
  {
   "cell_type": "code",
   "execution_count": null,
   "metadata": {},
   "outputs": [],
   "source": [
    "b2[1][0:2]"
   ]
  },
  {
   "cell_type": "markdown",
   "metadata": {
    "nbpresent": {
     "id": "c4907ac4-1274-41b8-abd7-81c6de45235e"
    }
   },
   "source": [
    "**[11장: 236페이지]**"
   ]
  },
  {
   "cell_type": "code",
   "execution_count": null,
   "metadata": {
    "nbpresent": {
     "id": "daad9c34-20d7-4214-906a-b9853876a577"
    }
   },
   "outputs": [],
   "source": [
    "b2[0:2, 1:3] = np.array([[25, 35], [55, 65]])\n",
    "b2"
   ]
  },
  {
   "cell_type": "markdown",
   "metadata": {
    "nbpresent": {
     "id": "3253a21a-7d3c-4ba9-8b4d-2c7b695abd09"
    }
   },
   "source": [
    "## 11.2 구조적 데이터 표시와 처리에 강한 pandas"
   ]
  },
  {
   "cell_type": "markdown",
   "metadata": {
    "nbpresent": {
     "id": "3053de36-47f9-4381-8f4c-56a0dfeab6ba"
    }
   },
   "source": [
    "### 구조적 데이터 생성하기"
   ]
  },
  {
   "cell_type": "markdown",
   "metadata": {},
   "source": [
    "#### Series를 활용한 데이터 생성"
   ]
  },
  {
   "cell_type": "markdown",
   "metadata": {},
   "source": [
    "**[11장: 237페이지]**"
   ]
  },
  {
   "cell_type": "code",
   "execution_count": 4,
   "metadata": {
    "nbpresent": {
     "id": "66bfcfea-981d-45e4-9746-66e647572cbe"
    }
   },
   "outputs": [],
   "source": [
    "import pandas as pd"
   ]
  },
  {
   "cell_type": "markdown",
   "metadata": {
    "nbpresent": {
     "id": "7dd51bf0-751a-4a1f-8c11-8c92454ddfe8"
    }
   },
   "source": [
    "**[11장: 238페이지]**"
   ]
  },
  {
   "cell_type": "code",
   "execution_count": 5,
   "metadata": {
    "nbpresent": {
     "id": "1ddc49b0-5c30-4bcd-9504-3b8c6b5dcb5e"
    }
   },
   "outputs": [
    {
     "data": {
      "text/plain": [
       "0    10\n",
       "1    20\n",
       "2    30\n",
       "3    40\n",
       "4    50\n",
       "dtype: int64"
      ]
     },
     "execution_count": 5,
     "metadata": {},
     "output_type": "execute_result"
    }
   ],
   "source": [
    "s1 = pd.Series([10, 20, 30, 40, 50])\n",
    "s1"
   ]
  },
  {
   "cell_type": "markdown",
   "metadata": {
    "nbpresent": {
     "id": "04b26713-532e-4ebd-a3e2-16f648d46376"
    }
   },
   "source": [
    "**[11장: 238페이지]**"
   ]
  },
  {
   "cell_type": "code",
   "execution_count": 6,
   "metadata": {
    "nbpresent": {
     "id": "519e2a61-61b0-46c0-855b-19d7d385f4eb"
    }
   },
   "outputs": [
    {
     "name": "stdout",
     "output_type": "stream",
     "text": [
      "RangeIndex(start=0, stop=5, step=1)\n"
     ]
    }
   ],
   "source": [
    "s1.index\n",
    "print(s1.index)"
   ]
  },
  {
   "cell_type": "markdown",
   "metadata": {},
   "source": [
    "**[11장: 239페이지]**"
   ]
  },
  {
   "cell_type": "code",
   "execution_count": 7,
   "metadata": {
    "nbpresent": {
     "id": "6418a920-9525-4608-992b-04e45e00bdb1"
    }
   },
   "outputs": [
    {
     "data": {
      "text/plain": [
       "array([10, 20, 30, 40, 50], dtype=int64)"
      ]
     },
     "execution_count": 7,
     "metadata": {},
     "output_type": "execute_result"
    }
   ],
   "source": [
    "s1.values"
   ]
  },
  {
   "cell_type": "markdown",
   "metadata": {
    "nbpresent": {
     "id": "017f3b47-bcf8-4afb-a814-b39120867dc1"
    }
   },
   "source": [
    "**[11장: 239페이지]**"
   ]
  },
  {
   "cell_type": "code",
   "execution_count": 8,
   "metadata": {
    "nbpresent": {
     "id": "d7fdd4f8-cfe4-4d35-9027-04a8f895bd39"
    }
   },
   "outputs": [
    {
     "data": {
      "text/plain": [
       "0    a\n",
       "1    b\n",
       "2    c\n",
       "3    1\n",
       "4    2\n",
       "5    3\n",
       "dtype: object"
      ]
     },
     "execution_count": 8,
     "metadata": {},
     "output_type": "execute_result"
    }
   ],
   "source": [
    "s2 = pd.Series(['a', 'b', 'c', 1, 2, 3])\n",
    "s2"
   ]
  },
  {
   "cell_type": "markdown",
   "metadata": {
    "nbpresent": {
     "id": "31680d68-3153-4b2b-8b9d-79df2337e67d"
    }
   },
   "source": [
    "**[11장: 239페이지]**"
   ]
  },
  {
   "cell_type": "code",
   "execution_count": 9,
   "metadata": {
    "nbpresent": {
     "id": "f71b60e9-e8e7-4b96-bc1c-a9fe3530798b"
    }
   },
   "outputs": [
    {
     "data": {
      "text/plain": [
       "0     NaN\n",
       "1    10.0\n",
       "2    30.0\n",
       "dtype: float64"
      ]
     },
     "execution_count": 9,
     "metadata": {},
     "output_type": "execute_result"
    }
   ],
   "source": [
    "import numpy as np\n",
    "\n",
    "s3 = pd.Series([np.nan,10,30])\n",
    "s3"
   ]
  },
  {
   "cell_type": "markdown",
   "metadata": {
    "nbpresent": {
     "id": "39dc5eff-394b-46b3-aa9d-55c70bbd9496"
    }
   },
   "source": [
    "**[11장: 240페이지]**"
   ]
  },
  {
   "cell_type": "code",
   "execution_count": 10,
   "metadata": {
    "nbpresent": {
     "id": "74f4ebb2-9114-405a-bed9-99bc525a78ad"
    }
   },
   "outputs": [
    {
     "data": {
      "text/plain": [
       "2018-10-07    200.0\n",
       "2018-10-08    195.0\n",
       "2018-10-09      NaN\n",
       "2018-10-10    205.0\n",
       "dtype: float64"
      ]
     },
     "execution_count": 10,
     "metadata": {},
     "output_type": "execute_result"
    }
   ],
   "source": [
    "index_date = ['2018-10-07','2018-10-08','2018-10-09','2018-10-10']\n",
    "s4 = pd.Series([200, 195, np.nan, 205], index = index_date)\n",
    "s4"
   ]
  },
  {
   "cell_type": "markdown",
   "metadata": {
    "nbpresent": {
     "id": "0b5f5737-3bbf-4589-a0cf-cef8cc550611"
    }
   },
   "source": [
    "**[11장: 241페이지]**"
   ]
  },
  {
   "cell_type": "code",
   "execution_count": 11,
   "metadata": {
    "nbpresent": {
     "id": "6a6af860-e19e-42b1-a693-785086548e38"
    }
   },
   "outputs": [
    {
     "data": {
      "text/plain": [
       "국어    100\n",
       "영어     95\n",
       "수학     90\n",
       "dtype: int64"
      ]
     },
     "execution_count": 11,
     "metadata": {},
     "output_type": "execute_result"
    }
   ],
   "source": [
    "s5 = pd.Series({'국어': 100, '영어': 95, '수학': 90})\n",
    "s5"
   ]
  },
  {
   "cell_type": "markdown",
   "metadata": {
    "nbpresent": {
     "id": "e34cc6cc-6420-414b-8514-8f57694090d1"
    }
   },
   "source": [
    "#### 날짜 자동 생성: date_range"
   ]
  },
  {
   "cell_type": "markdown",
   "metadata": {
    "nbpresent": {
     "id": "e1187589-6ec4-42be-8434-0b0033c8477f"
    }
   },
   "source": [
    "**[11장: 241페이지]**"
   ]
  },
  {
   "cell_type": "code",
   "execution_count": 12,
   "metadata": {
    "nbpresent": {
     "id": "06d21609-dc59-4651-afde-3c856ea50c4b"
    }
   },
   "outputs": [
    {
     "data": {
      "text/plain": [
       "DatetimeIndex(['2019-01-01', '2019-01-02', '2019-01-03', '2019-01-04',\n",
       "               '2019-01-05', '2019-01-06', '2019-01-07'],\n",
       "              dtype='datetime64[ns]', freq='D')"
      ]
     },
     "execution_count": 12,
     "metadata": {},
     "output_type": "execute_result"
    }
   ],
   "source": [
    "import pandas as pd\n",
    "\n",
    "pd.date_range(start='2019-01-01',end='2019-01-07')"
   ]
  },
  {
   "cell_type": "markdown",
   "metadata": {
    "nbpresent": {
     "id": "c9e8fe37-37a3-4115-ab80-3cd84eb9b8af"
    }
   },
   "source": [
    "**[11장: 242페이지]**"
   ]
  },
  {
   "cell_type": "code",
   "execution_count": 14,
   "metadata": {
    "nbpresent": {
     "id": "5a518f1c-dd28-47bb-9b5b-178f04a6948d"
    }
   },
   "outputs": [
    {
     "data": {
      "text/plain": [
       "DatetimeIndex(['2019-01-01', '2019-01-02', '2019-01-03', '2019-01-04',\n",
       "               '2019-01-05', '2019-01-06', '2019-01-07'],\n",
       "              dtype='datetime64[ns]', freq='D')"
      ]
     },
     "execution_count": 14,
     "metadata": {},
     "output_type": "execute_result"
    }
   ],
   "source": [
    "pd.date_range(start='2019/01/01',end='2019.01.07')\n",
    "# / , . 모두 가능"
   ]
  },
  {
   "cell_type": "code",
   "execution_count": 15,
   "metadata": {
    "nbpresent": {
     "id": "f4f35f24-624c-40f7-a8bc-ebbfd24736b0"
    }
   },
   "outputs": [
    {
     "data": {
      "text/plain": [
       "DatetimeIndex(['2019-01-01', '2019-01-02', '2019-01-03', '2019-01-04',\n",
       "               '2019-01-05', '2019-01-06', '2019-01-07'],\n",
       "              dtype='datetime64[ns]', freq='D')"
      ]
     },
     "execution_count": 15,
     "metadata": {},
     "output_type": "execute_result"
    }
   ],
   "source": [
    "pd.date_range(start='01-01-2019',end='01/07/2019')"
   ]
  },
  {
   "cell_type": "code",
   "execution_count": 16,
   "metadata": {
    "nbpresent": {
     "id": "07ff4a01-812a-4b08-9522-05bd79a74a48"
    }
   },
   "outputs": [
    {
     "data": {
      "text/plain": [
       "DatetimeIndex(['2019-01-01', '2019-01-02', '2019-01-03', '2019-01-04',\n",
       "               '2019-01-05', '2019-01-06', '2019-01-07'],\n",
       "              dtype='datetime64[ns]', freq='D')"
      ]
     },
     "execution_count": 16,
     "metadata": {},
     "output_type": "execute_result"
    }
   ],
   "source": [
    "pd.date_range(start='2019-01-01',end='01.07.2019')"
   ]
  },
  {
   "cell_type": "markdown",
   "metadata": {
    "nbpresent": {
     "id": "e7936ce1-7662-4c7b-bc7f-5d799fd735b7"
    }
   },
   "source": [
    "**[11장: 242페이지]**"
   ]
  },
  {
   "cell_type": "code",
   "execution_count": 18,
   "metadata": {
    "nbpresent": {
     "id": "b384626e-1dd5-4dff-a9a2-72130a5f0a49"
    }
   },
   "outputs": [
    {
     "data": {
      "text/plain": [
       "DatetimeIndex(['2019-01-01', '2019-01-02', '2019-01-03', '2019-01-04',\n",
       "               '2019-01-05', '2019-01-06', '2019-01-07'],\n",
       "              dtype='datetime64[ns]', freq='D')"
      ]
     },
     "execution_count": 18,
     "metadata": {},
     "output_type": "execute_result"
    }
   ],
   "source": [
    "pd.date_range(start='2019-01-01', periods = 7)\n",
    "# freq: frequency 주기. 단위가 어떻게 되는가? \n",
    "# default 값은 D(Day)"
   ]
  },
  {
   "cell_type": "markdown",
   "metadata": {
    "nbpresent": {
     "id": "f8be1526-d123-4fa1-bbee-34be53114801"
    }
   },
   "source": [
    "**[11장: 243페이지]**"
   ]
  },
  {
   "cell_type": "code",
   "execution_count": 20,
   "metadata": {
    "nbpresent": {
     "id": "d903a44e-29bb-4898-b0f2-eba740edec3c"
    }
   },
   "outputs": [
    {
     "data": {
      "text/plain": [
       "DatetimeIndex(['2019-01-01', '2019-01-03', '2019-01-05', '2019-01-07'], dtype='datetime64[ns]', freq='2D')"
      ]
     },
     "execution_count": 20,
     "metadata": {},
     "output_type": "execute_result"
    }
   ],
   "source": [
    "pd.date_range(start='2019-01-01', periods = 4, freq = '2D')\n",
    "# 4개의 날짜를 2일씩 건너 뛰면서"
   ]
  },
  {
   "cell_type": "markdown",
   "metadata": {
    "nbpresent": {
     "id": "1b7fbe54-966e-4a85-9498-23bce1b6c92a"
    }
   },
   "source": [
    "**[11장: 244페이지]**"
   ]
  },
  {
   "cell_type": "code",
   "execution_count": 21,
   "metadata": {
    "nbpresent": {
     "id": "fba60d0d-6b69-4f90-8d39-c54b47f51bec"
    }
   },
   "outputs": [
    {
     "data": {
      "text/plain": [
       "DatetimeIndex(['2019-01-06', '2019-01-13', '2019-01-20', '2019-01-27'], dtype='datetime64[ns]', freq='W-SUN')"
      ]
     },
     "execution_count": 21,
     "metadata": {},
     "output_type": "execute_result"
    }
   ],
   "source": [
    "pd.date_range(start='2019-01-01', periods = 4, freq = 'W')"
   ]
  },
  {
   "cell_type": "markdown",
   "metadata": {
    "nbpresent": {
     "id": "168498ed-8edd-417e-9156-0cd544cb0677"
    }
   },
   "source": [
    "**[11장: 244페이지]**"
   ]
  },
  {
   "cell_type": "code",
   "execution_count": 22,
   "metadata": {
    "nbpresent": {
     "id": "0b22ef6d-ad78-4da5-b382-bd6024782c6b"
    }
   },
   "outputs": [
    {
     "data": {
      "text/plain": [
       "DatetimeIndex(['2019-01-31', '2019-03-29', '2019-05-31', '2019-07-31',\n",
       "               '2019-09-30', '2019-11-29', '2020-01-31', '2020-03-31',\n",
       "               '2020-05-29', '2020-07-31', '2020-09-30', '2020-11-30'],\n",
       "              dtype='datetime64[ns]', freq='2BM')"
      ]
     },
     "execution_count": 22,
     "metadata": {},
     "output_type": "execute_result"
    }
   ],
   "source": [
    "pd.date_range(start='2019-01-01', periods = 12, freq = '2BM')"
   ]
  },
  {
   "cell_type": "markdown",
   "metadata": {
    "nbpresent": {
     "id": "f57ff21a-61e6-4103-a2b0-bd02db094b1d"
    }
   },
   "source": [
    "**[11장: 244페이지]**"
   ]
  },
  {
   "cell_type": "code",
   "execution_count": 23,
   "metadata": {
    "nbpresent": {
     "id": "d445e468-b2cb-4025-8fd9-202b6efb110a"
    }
   },
   "outputs": [
    {
     "data": {
      "text/plain": [
       "DatetimeIndex(['2019-01-01', '2019-04-01', '2019-07-01', '2019-10-01'], dtype='datetime64[ns]', freq='QS-JAN')"
      ]
     },
     "execution_count": 23,
     "metadata": {},
     "output_type": "execute_result"
    }
   ],
   "source": [
    "pd.date_range(start='2019-01-01', periods = 4, freq = 'QS')"
   ]
  },
  {
   "cell_type": "markdown",
   "metadata": {
    "nbpresent": {
     "id": "8c66301a-1f3a-4bc3-8f22-9fa545147e23"
    }
   },
   "source": [
    "**[11장: 244페이지]**"
   ]
  },
  {
   "cell_type": "code",
   "execution_count": 24,
   "metadata": {
    "nbpresent": {
     "id": "cb0573e7-b82a-4cc3-b287-b3f20f556602"
    }
   },
   "outputs": [
    {
     "data": {
      "text/plain": [
       "DatetimeIndex(['2019-01-01', '2020-01-01', '2021-01-01'], dtype='datetime64[ns]', freq='AS-JAN')"
      ]
     },
     "execution_count": 24,
     "metadata": {},
     "output_type": "execute_result"
    }
   ],
   "source": [
    "pd.date_range(start='2019-01-01', periods = 3, freq = 'AS')"
   ]
  },
  {
   "cell_type": "markdown",
   "metadata": {
    "nbpresent": {
     "id": "8f774986-f8e7-421e-bcae-41248eb12237"
    }
   },
   "source": [
    "**[11장: 244페이지]**"
   ]
  },
  {
   "cell_type": "code",
   "execution_count": 25,
   "metadata": {
    "nbpresent": {
     "id": "29a2b7cf-7c0a-4ce4-b42c-0569c419df7c"
    }
   },
   "outputs": [
    {
     "data": {
      "text/plain": [
       "DatetimeIndex(['2019-01-01 08:00:00', '2019-01-01 09:00:00',\n",
       "               '2019-01-01 10:00:00', '2019-01-01 11:00:00',\n",
       "               '2019-01-01 12:00:00', '2019-01-01 13:00:00',\n",
       "               '2019-01-01 14:00:00', '2019-01-01 15:00:00',\n",
       "               '2019-01-01 16:00:00', '2019-01-01 17:00:00'],\n",
       "              dtype='datetime64[ns]', freq='H')"
      ]
     },
     "execution_count": 25,
     "metadata": {},
     "output_type": "execute_result"
    }
   ],
   "source": [
    "pd.date_range(start = '2019-01-01 08:00', periods = 10, freq='H')"
   ]
  },
  {
   "cell_type": "markdown",
   "metadata": {
    "nbpresent": {
     "id": "1e16dc55-b746-4e32-a1d2-27b157651f9a"
    }
   },
   "source": [
    "**[11장: 245페이지]**"
   ]
  },
  {
   "cell_type": "code",
   "execution_count": 26,
   "metadata": {
    "nbpresent": {
     "id": "a34f347c-3fa5-4963-b01e-db885c857a0b"
    }
   },
   "outputs": [
    {
     "data": {
      "text/plain": [
       "DatetimeIndex(['2019-01-01 09:00:00', '2019-01-01 10:00:00',\n",
       "               '2019-01-01 11:00:00', '2019-01-01 12:00:00',\n",
       "               '2019-01-01 13:00:00', '2019-01-01 14:00:00',\n",
       "               '2019-01-01 15:00:00', '2019-01-01 16:00:00',\n",
       "               '2019-01-02 09:00:00', '2019-01-02 10:00:00'],\n",
       "              dtype='datetime64[ns]', freq='BH')"
      ]
     },
     "execution_count": 26,
     "metadata": {},
     "output_type": "execute_result"
    }
   ],
   "source": [
    "pd.date_range(start = '2019-01-01 08:00', periods = 10, freq='BH')"
   ]
  },
  {
   "cell_type": "markdown",
   "metadata": {
    "nbpresent": {
     "id": "f2801b0a-a381-45c8-8c5e-85c24e53add2"
    }
   },
   "source": [
    "**[11장: 245페이지]**"
   ]
  },
  {
   "cell_type": "code",
   "execution_count": 27,
   "metadata": {
    "nbpresent": {
     "id": "73f4bd90-1578-45f6-88ec-4e2cf26239e1"
    }
   },
   "outputs": [
    {
     "data": {
      "text/plain": [
       "DatetimeIndex(['2019-01-01 10:00:00', '2019-01-01 10:30:00',\n",
       "               '2019-01-01 11:00:00', '2019-01-01 11:30:00'],\n",
       "              dtype='datetime64[ns]', freq='30T')"
      ]
     },
     "execution_count": 27,
     "metadata": {},
     "output_type": "execute_result"
    }
   ],
   "source": [
    "pd.date_range(start = '2019-01-01 10:00', periods = 4, freq='30min')"
   ]
  },
  {
   "cell_type": "markdown",
   "metadata": {},
   "source": [
    "**[11장: 245페이지]**"
   ]
  },
  {
   "cell_type": "code",
   "execution_count": 28,
   "metadata": {},
   "outputs": [
    {
     "data": {
      "text/plain": [
       "DatetimeIndex(['2019-01-01 10:00:00', '2019-01-01 10:30:00',\n",
       "               '2019-01-01 11:00:00', '2019-01-01 11:30:00'],\n",
       "              dtype='datetime64[ns]', freq='30T')"
      ]
     },
     "execution_count": 28,
     "metadata": {},
     "output_type": "execute_result"
    }
   ],
   "source": [
    "pd.date_range(start = '2019-01-01 10:00', periods = 4, freq='30T')"
   ]
  },
  {
   "cell_type": "markdown",
   "metadata": {
    "nbpresent": {
     "id": "4a1a0340-f16f-4fff-8300-7985cc2225f1"
    }
   },
   "source": [
    "**[11장: 246페이지]**"
   ]
  },
  {
   "cell_type": "code",
   "execution_count": 29,
   "metadata": {
    "nbpresent": {
     "id": "60b46d21-9ffe-496e-9245-20a5cac07ec9"
    }
   },
   "outputs": [
    {
     "data": {
      "text/plain": [
       "DatetimeIndex(['2019-01-01 10:00:00', '2019-01-01 10:00:10',\n",
       "               '2019-01-01 10:00:20', '2019-01-01 10:00:30'],\n",
       "              dtype='datetime64[ns]', freq='10S')"
      ]
     },
     "execution_count": 29,
     "metadata": {},
     "output_type": "execute_result"
    }
   ],
   "source": [
    "pd.date_range(start = '2019-01-01 10:00:00', periods = 4, freq='10S')"
   ]
  },
  {
   "cell_type": "markdown",
   "metadata": {
    "nbpresent": {
     "id": "4dd2c3e0-83db-407b-aefa-b9dbb4fbb5fc"
    }
   },
   "source": [
    "**[11장: 246페이지]**"
   ]
  },
  {
   "cell_type": "code",
   "execution_count": 30,
   "metadata": {
    "nbpresent": {
     "id": "89158dfa-2548-4e6e-9d9c-ffea68274878"
    }
   },
   "outputs": [
    {
     "data": {
      "text/plain": [
       "2019-03-01    51\n",
       "2019-03-02    62\n",
       "2019-03-03    55\n",
       "2019-03-04    49\n",
       "2019-03-05    58\n",
       "Freq: D, dtype: int64"
      ]
     },
     "execution_count": 30,
     "metadata": {},
     "output_type": "execute_result"
    }
   ],
   "source": [
    "index_date = pd.date_range(start = '2019-03-01', periods = 5, freq='D')\n",
    "pd.Series([51, 62, 55, 49, 58], index = index_date )"
   ]
  },
  {
   "cell_type": "markdown",
   "metadata": {
    "nbpresent": {
     "id": "109eb28e-8e97-4bf0-903f-00833d9c4791"
    }
   },
   "source": [
    "#### DataFrame을 활용한 데이터 생성"
   ]
  },
  {
   "cell_type": "markdown",
   "metadata": {},
   "source": [
    "**[11장: 247페이지]**"
   ]
  },
  {
   "cell_type": "code",
   "execution_count": 31,
   "metadata": {},
   "outputs": [
    {
     "data": {
      "text/html": [
       "<div>\n",
       "<style scoped>\n",
       "    .dataframe tbody tr th:only-of-type {\n",
       "        vertical-align: middle;\n",
       "    }\n",
       "\n",
       "    .dataframe tbody tr th {\n",
       "        vertical-align: top;\n",
       "    }\n",
       "\n",
       "    .dataframe thead th {\n",
       "        text-align: right;\n",
       "    }\n",
       "</style>\n",
       "<table border=\"1\" class=\"dataframe\">\n",
       "  <thead>\n",
       "    <tr style=\"text-align: right;\">\n",
       "      <th></th>\n",
       "      <th>0</th>\n",
       "      <th>1</th>\n",
       "      <th>2</th>\n",
       "    </tr>\n",
       "  </thead>\n",
       "  <tbody>\n",
       "    <tr>\n",
       "      <th>0</th>\n",
       "      <td>1</td>\n",
       "      <td>2</td>\n",
       "      <td>3</td>\n",
       "    </tr>\n",
       "    <tr>\n",
       "      <th>1</th>\n",
       "      <td>4</td>\n",
       "      <td>5</td>\n",
       "      <td>6</td>\n",
       "    </tr>\n",
       "    <tr>\n",
       "      <th>2</th>\n",
       "      <td>7</td>\n",
       "      <td>8</td>\n",
       "      <td>9</td>\n",
       "    </tr>\n",
       "  </tbody>\n",
       "</table>\n",
       "</div>"
      ],
      "text/plain": [
       "   0  1  2\n",
       "0  1  2  3\n",
       "1  4  5  6\n",
       "2  7  8  9"
      ]
     },
     "execution_count": 31,
     "metadata": {},
     "output_type": "execute_result"
    }
   ],
   "source": [
    "import pandas as pd\n",
    "\n",
    "pd.DataFrame([[1, 2, 3], [4, 5, 6], [7, 8, 9]])"
   ]
  },
  {
   "cell_type": "markdown",
   "metadata": {},
   "source": [
    "**[11장: 248페이지]**"
   ]
  },
  {
   "cell_type": "code",
   "execution_count": 32,
   "metadata": {},
   "outputs": [
    {
     "data": {
      "text/html": [
       "<div>\n",
       "<style scoped>\n",
       "    .dataframe tbody tr th:only-of-type {\n",
       "        vertical-align: middle;\n",
       "    }\n",
       "\n",
       "    .dataframe tbody tr th {\n",
       "        vertical-align: top;\n",
       "    }\n",
       "\n",
       "    .dataframe thead th {\n",
       "        text-align: right;\n",
       "    }\n",
       "</style>\n",
       "<table border=\"1\" class=\"dataframe\">\n",
       "  <thead>\n",
       "    <tr style=\"text-align: right;\">\n",
       "      <th></th>\n",
       "      <th>0</th>\n",
       "      <th>1</th>\n",
       "      <th>2</th>\n",
       "    </tr>\n",
       "  </thead>\n",
       "  <tbody>\n",
       "    <tr>\n",
       "      <th>0</th>\n",
       "      <td>10</td>\n",
       "      <td>20</td>\n",
       "      <td>30</td>\n",
       "    </tr>\n",
       "    <tr>\n",
       "      <th>1</th>\n",
       "      <td>40</td>\n",
       "      <td>50</td>\n",
       "      <td>60</td>\n",
       "    </tr>\n",
       "    <tr>\n",
       "      <th>2</th>\n",
       "      <td>70</td>\n",
       "      <td>80</td>\n",
       "      <td>90</td>\n",
       "    </tr>\n",
       "  </tbody>\n",
       "</table>\n",
       "</div>"
      ],
      "text/plain": [
       "    0   1   2\n",
       "0  10  20  30\n",
       "1  40  50  60\n",
       "2  70  80  90"
      ]
     },
     "execution_count": 32,
     "metadata": {},
     "output_type": "execute_result"
    }
   ],
   "source": [
    "import numpy as np\n",
    "import pandas as pd\n",
    "\n",
    "data_list = np.array([[10, 20, 30], [40, 50, 60], [70, 80, 90]])\n",
    "pd.DataFrame(data_list)"
   ]
  },
  {
   "cell_type": "markdown",
   "metadata": {},
   "source": [
    "**[11장: 248페이지]**"
   ]
  },
  {
   "cell_type": "code",
   "execution_count": 33,
   "metadata": {},
   "outputs": [
    {
     "data": {
      "text/html": [
       "<div>\n",
       "<style scoped>\n",
       "    .dataframe tbody tr th:only-of-type {\n",
       "        vertical-align: middle;\n",
       "    }\n",
       "\n",
       "    .dataframe tbody tr th {\n",
       "        vertical-align: top;\n",
       "    }\n",
       "\n",
       "    .dataframe thead th {\n",
       "        text-align: right;\n",
       "    }\n",
       "</style>\n",
       "<table border=\"1\" class=\"dataframe\">\n",
       "  <thead>\n",
       "    <tr style=\"text-align: right;\">\n",
       "      <th></th>\n",
       "      <th>A</th>\n",
       "      <th>B</th>\n",
       "      <th>C</th>\n",
       "    </tr>\n",
       "  </thead>\n",
       "  <tbody>\n",
       "    <tr>\n",
       "      <th>2019-09-01</th>\n",
       "      <td>1</td>\n",
       "      <td>2</td>\n",
       "      <td>3</td>\n",
       "    </tr>\n",
       "    <tr>\n",
       "      <th>2019-09-02</th>\n",
       "      <td>4</td>\n",
       "      <td>5</td>\n",
       "      <td>6</td>\n",
       "    </tr>\n",
       "    <tr>\n",
       "      <th>2019-09-03</th>\n",
       "      <td>7</td>\n",
       "      <td>8</td>\n",
       "      <td>9</td>\n",
       "    </tr>\n",
       "    <tr>\n",
       "      <th>2019-09-04</th>\n",
       "      <td>10</td>\n",
       "      <td>11</td>\n",
       "      <td>12</td>\n",
       "    </tr>\n",
       "  </tbody>\n",
       "</table>\n",
       "</div>"
      ],
      "text/plain": [
       "             A   B   C\n",
       "2019-09-01   1   2   3\n",
       "2019-09-02   4   5   6\n",
       "2019-09-03   7   8   9\n",
       "2019-09-04  10  11  12"
      ]
     },
     "execution_count": 33,
     "metadata": {},
     "output_type": "execute_result"
    }
   ],
   "source": [
    "import numpy as np\n",
    "import pandas as pd\n",
    "\n",
    "data = np.array([[1, 2, 3], [4, 5, 6], [7, 8 ,9], [10, 11, 12]])\n",
    "index_date = pd.date_range('2019-09-01', periods=4)\n",
    "columns_list = ['A', 'B', 'C']\n",
    "pd.DataFrame(data, index=index_date, columns=columns_list)"
   ]
  },
  {
   "cell_type": "markdown",
   "metadata": {},
   "source": [
    "**[11장: 249페이지]**"
   ]
  },
  {
   "cell_type": "code",
   "execution_count": 34,
   "metadata": {},
   "outputs": [
    {
     "data": {
      "text/plain": [
       "{'연도': [2015, 2016, 2016, 2017, 2017],\n",
       " '지사': ['한국', '한국', '미국', '한국', '미국'],\n",
       " '고객 수': [200, 250, 450, 300, 500]}"
      ]
     },
     "execution_count": 34,
     "metadata": {},
     "output_type": "execute_result"
    }
   ],
   "source": [
    "table_data = {'연도': [2015, 2016, 2016, 2017, 2017],\n",
    "              '지사': ['한국', '한국', '미국', '한국','미국'],\n",
    "              '고객 수': [200, 250, 450, 300, 500]}\n",
    "table_data"
   ]
  },
  {
   "cell_type": "markdown",
   "metadata": {},
   "source": [
    "**[11장: 249페이지]**"
   ]
  },
  {
   "cell_type": "code",
   "execution_count": null,
   "metadata": {},
   "outputs": [],
   "source": [
    "pd.DataFrame(table_data)"
   ]
  },
  {
   "cell_type": "markdown",
   "metadata": {},
   "source": [
    "**[11장: 250페이지]**"
   ]
  },
  {
   "cell_type": "code",
   "execution_count": null,
   "metadata": {
    "nbpresent": {
     "id": "f7e8b4a4-6320-40f5-8a00-0c76efbb34c1"
    }
   },
   "outputs": [],
   "source": [
    "df = pd.DataFrame(table_data, columns=['연도', '지사', '고객 수'])\n",
    "df"
   ]
  },
  {
   "cell_type": "markdown",
   "metadata": {
    "nbpresent": {
     "id": "523df774-1955-4d98-894e-b0d4d7dc259a"
    }
   },
   "source": [
    "**[11장: 251페이지]**"
   ]
  },
  {
   "cell_type": "code",
   "execution_count": null,
   "metadata": {
    "nbpresent": {
     "id": "dfdbc505-3c93-471f-8efe-ef7f393351af"
    }
   },
   "outputs": [],
   "source": [
    "df.index"
   ]
  },
  {
   "cell_type": "code",
   "execution_count": null,
   "metadata": {
    "nbpresent": {
     "id": "ef71dc6e-6241-4c9d-9c35-1b3570720607"
    }
   },
   "outputs": [],
   "source": [
    "df.columns"
   ]
  },
  {
   "cell_type": "code",
   "execution_count": null,
   "metadata": {
    "nbpresent": {
     "id": "89700812-7d50-4838-bb93-bdfbdb7c5b90"
    },
    "scrolled": true
   },
   "outputs": [],
   "source": [
    "df.values"
   ]
  },
  {
   "cell_type": "markdown",
   "metadata": {
    "nbpresent": {
     "id": "9165b87e-160c-4f61-accb-5af75ff51f50"
    }
   },
   "source": [
    "### 데이터 연산"
   ]
  },
  {
   "cell_type": "markdown",
   "metadata": {},
   "source": [
    "**[11장: 251 ~ 252페이지]**"
   ]
  },
  {
   "cell_type": "code",
   "execution_count": null,
   "metadata": {
    "nbpresent": {
     "id": "b09d43cf-d07d-4b1f-9de4-f80b60064d24"
    }
   },
   "outputs": [],
   "source": [
    "s1 = pd.Series([1, 2, 3, 4, 5])\n",
    "s2 = pd.Series([10, 20, 30, 40, 50])\n",
    "s1 + s2"
   ]
  },
  {
   "cell_type": "code",
   "execution_count": null,
   "metadata": {
    "nbpresent": {
     "id": "ce2fd30f-ea31-47c8-8509-e9978ff55d90"
    }
   },
   "outputs": [],
   "source": [
    "s2 - s1"
   ]
  },
  {
   "cell_type": "code",
   "execution_count": null,
   "metadata": {
    "nbpresent": {
     "id": "c12fc9c5-518f-47d0-948d-c5a850738081"
    }
   },
   "outputs": [],
   "source": [
    "s1 * s2"
   ]
  },
  {
   "cell_type": "code",
   "execution_count": null,
   "metadata": {
    "nbpresent": {
     "id": "f1b8a023-d45d-4766-bf4c-9837c745b049"
    }
   },
   "outputs": [],
   "source": [
    "s2 / s1"
   ]
  },
  {
   "cell_type": "markdown",
   "metadata": {
    "nbpresent": {
     "id": "833f47d2-576a-43bf-8d85-3f853b9a3be3"
    }
   },
   "source": [
    "**[11장: 252 ~ 253페이지]**"
   ]
  },
  {
   "cell_type": "code",
   "execution_count": null,
   "metadata": {
    "nbpresent": {
     "id": "11f1de4a-fae8-4320-a8f2-b354c9dce5ab"
    }
   },
   "outputs": [],
   "source": [
    "s3 = pd.Series([1, 2, 3, 4])\n",
    "s4 = pd.Series([10, 20, 30, 40, 50])\n",
    "s3 + s4"
   ]
  },
  {
   "cell_type": "code",
   "execution_count": null,
   "metadata": {
    "nbpresent": {
     "id": "65d55d3d-83d3-4e07-a3ec-721e8b1f3b1f"
    }
   },
   "outputs": [],
   "source": [
    "s4 - s3"
   ]
  },
  {
   "cell_type": "code",
   "execution_count": null,
   "metadata": {
    "nbpresent": {
     "id": "efee25a2-6ed3-4714-a385-bb9efd904fc0"
    }
   },
   "outputs": [],
   "source": [
    "s3 * s4"
   ]
  },
  {
   "cell_type": "code",
   "execution_count": null,
   "metadata": {
    "nbpresent": {
     "id": "f3163aac-b6b4-4828-9fdc-0016831ba4c2"
    }
   },
   "outputs": [],
   "source": [
    "s4/s3"
   ]
  },
  {
   "cell_type": "markdown",
   "metadata": {
    "nbpresent": {
     "id": "1fa941d8-24b8-49a4-9c3d-f5b162ef9fca"
    }
   },
   "source": [
    "**[11장: 253 ~ 254페이지]**"
   ]
  },
  {
   "cell_type": "code",
   "execution_count": null,
   "metadata": {
    "nbpresent": {
     "id": "511b791a-d543-4b39-ab49-76606f09a777"
    }
   },
   "outputs": [],
   "source": [
    "table_data1 = {'A': [1, 2, 3, 4, 5],\n",
    "              'B': [10, 20, 30, 40, 50],\n",
    "              'C': [100, 200, 300, 400, 500]}\n",
    "df1 = pd.DataFrame(table_data1)\n",
    "df1"
   ]
  },
  {
   "cell_type": "code",
   "execution_count": null,
   "metadata": {
    "nbpresent": {
     "id": "c32528c1-b65c-4d07-ad63-656dd9f6ba38"
    }
   },
   "outputs": [],
   "source": [
    "table_data2 = {'A': [6, 7, 8],\n",
    "              'B': [60, 70, 80],\n",
    "              'C': [600, 700, 800]}\n",
    "df2 = pd.DataFrame(table_data2)\n",
    "df2"
   ]
  },
  {
   "cell_type": "markdown",
   "metadata": {
    "nbpresent": {
     "id": "7d39c0ed-66cf-461c-9a35-c5dd1cc8d075"
    }
   },
   "source": [
    "**[11장: 254페이지]**"
   ]
  },
  {
   "cell_type": "code",
   "execution_count": null,
   "metadata": {
    "nbpresent": {
     "id": "9c7bc1b2-d48d-44f6-a8a3-3915114885d2"
    }
   },
   "outputs": [],
   "source": [
    "df1 + df2"
   ]
  },
  {
   "cell_type": "markdown",
   "metadata": {
    "nbpresent": {
     "id": "25fc0c20-2cce-4bf1-9067-d378139989c2"
    }
   },
   "source": [
    "**[11장: 255페이지]**"
   ]
  },
  {
   "cell_type": "code",
   "execution_count": null,
   "metadata": {
    "nbpresent": {
     "id": "1893445a-6068-4bfa-afdd-b95cbf4ab4b1"
    }
   },
   "outputs": [],
   "source": [
    "table_data3 = {'봄':  [256.5, 264.3, 215.9, 223.2, 312.8],\n",
    "              '여름': [770.6, 567.5, 599.8, 387.1, 446.2],\n",
    "              '가을': [363.5, 231.2, 293.1, 247.7, 381.6],\n",
    "              '겨울': [139.3, 59.9, 76.9, 109.1, 108.1]}\n",
    "columns_list = ['봄', '여름', '가을', '겨울']\n",
    "index_list = ['2012', '2013', '2014', '2015', '2016']\n",
    "\n",
    "df3 = pd.DataFrame(table_data3, columns = columns_list, index = index_list)\n",
    "df3"
   ]
  },
  {
   "cell_type": "markdown",
   "metadata": {
    "nbpresent": {
     "id": "c29a5579-b0a2-4a06-be7f-1db061377fad"
    }
   },
   "source": [
    "**[11장: 256페이지]**"
   ]
  },
  {
   "cell_type": "code",
   "execution_count": null,
   "metadata": {
    "nbpresent": {
     "id": "39e3b2cc-4a74-4028-9d0f-ea409e237cb6"
    }
   },
   "outputs": [],
   "source": [
    "df3.mean()"
   ]
  },
  {
   "cell_type": "code",
   "execution_count": null,
   "metadata": {
    "nbpresent": {
     "id": "cd7cb1fc-aff2-4eb4-b96b-a136745c7758"
    }
   },
   "outputs": [],
   "source": [
    "df3.std()"
   ]
  },
  {
   "cell_type": "markdown",
   "metadata": {
    "nbpresent": {
     "id": "b2c0caa5-83a1-41de-8ff3-143e37f568d7"
    }
   },
   "source": [
    "**[11장: 256 ~ 257페이지]**"
   ]
  },
  {
   "cell_type": "code",
   "execution_count": null,
   "metadata": {
    "nbpresent": {
     "id": "7de047d9-e444-4106-9e95-a6b86a0da0b6"
    }
   },
   "outputs": [],
   "source": [
    "df3.mean(axis=1)"
   ]
  },
  {
   "cell_type": "code",
   "execution_count": null,
   "metadata": {
    "nbpresent": {
     "id": "096c7f0e-262d-4444-b6c3-0555b747e1dc"
    }
   },
   "outputs": [],
   "source": [
    "df3.std(axis=1)"
   ]
  },
  {
   "cell_type": "markdown",
   "metadata": {
    "nbpresent": {
     "id": "5bbce344-b8fe-4333-a1fa-c6c9e3cd7886"
    }
   },
   "source": [
    "**[11장: 257페이지]**"
   ]
  },
  {
   "cell_type": "code",
   "execution_count": null,
   "metadata": {
    "nbpresent": {
     "id": "417789a3-66a4-4c52-b967-6855a3b6edb6"
    },
    "scrolled": true
   },
   "outputs": [],
   "source": [
    "df3.describe()"
   ]
  },
  {
   "cell_type": "markdown",
   "metadata": {
    "nbpresent": {
     "id": "aabebd8c-9653-4790-a1ac-5d6416a6a875"
    }
   },
   "source": [
    "### 데이터를 원하는 대로 선택하기"
   ]
  },
  {
   "cell_type": "markdown",
   "metadata": {
    "collapsed": true,
    "nbpresent": {
     "id": "7b8b4fd8-4015-4b2b-bfd3-f0b070122358"
    }
   },
   "source": [
    "**[11장: 258페이지]**"
   ]
  },
  {
   "cell_type": "code",
   "execution_count": 35,
   "metadata": {
    "nbpresent": {
     "id": "fa8fe338-046c-48ab-a709-6c5e1d69625d"
    },
    "scrolled": true
   },
   "outputs": [
    {
     "data": {
      "text/html": [
       "<div>\n",
       "<style scoped>\n",
       "    .dataframe tbody tr th:only-of-type {\n",
       "        vertical-align: middle;\n",
       "    }\n",
       "\n",
       "    .dataframe tbody tr th {\n",
       "        vertical-align: top;\n",
       "    }\n",
       "\n",
       "    .dataframe thead th {\n",
       "        text-align: right;\n",
       "    }\n",
       "</style>\n",
       "<table border=\"1\" class=\"dataframe\">\n",
       "  <thead>\n",
       "    <tr style=\"text-align: right;\">\n",
       "      <th></th>\n",
       "      <th>경부선 KTX</th>\n",
       "      <th>호남선 KTX</th>\n",
       "      <th>경전선 KTX</th>\n",
       "      <th>전라선 KTX</th>\n",
       "      <th>동해선 KTX</th>\n",
       "    </tr>\n",
       "  </thead>\n",
       "  <tbody>\n",
       "    <tr>\n",
       "      <th>2011</th>\n",
       "      <td>39060</td>\n",
       "      <td>7313</td>\n",
       "      <td>3627</td>\n",
       "      <td>309</td>\n",
       "      <td>NaN</td>\n",
       "    </tr>\n",
       "    <tr>\n",
       "      <th>2012</th>\n",
       "      <td>39896</td>\n",
       "      <td>6967</td>\n",
       "      <td>4168</td>\n",
       "      <td>1771</td>\n",
       "      <td>NaN</td>\n",
       "    </tr>\n",
       "    <tr>\n",
       "      <th>2013</th>\n",
       "      <td>42005</td>\n",
       "      <td>6873</td>\n",
       "      <td>4088</td>\n",
       "      <td>1954</td>\n",
       "      <td>NaN</td>\n",
       "    </tr>\n",
       "    <tr>\n",
       "      <th>2014</th>\n",
       "      <td>43621</td>\n",
       "      <td>6626</td>\n",
       "      <td>4424</td>\n",
       "      <td>2244</td>\n",
       "      <td>NaN</td>\n",
       "    </tr>\n",
       "    <tr>\n",
       "      <th>2015</th>\n",
       "      <td>41702</td>\n",
       "      <td>8675</td>\n",
       "      <td>4606</td>\n",
       "      <td>3146</td>\n",
       "      <td>2395.0</td>\n",
       "    </tr>\n",
       "    <tr>\n",
       "      <th>2016</th>\n",
       "      <td>41266</td>\n",
       "      <td>10622</td>\n",
       "      <td>4984</td>\n",
       "      <td>3945</td>\n",
       "      <td>3786.0</td>\n",
       "    </tr>\n",
       "    <tr>\n",
       "      <th>2017</th>\n",
       "      <td>32427</td>\n",
       "      <td>9228</td>\n",
       "      <td>5570</td>\n",
       "      <td>5766</td>\n",
       "      <td>6667.0</td>\n",
       "    </tr>\n",
       "  </tbody>\n",
       "</table>\n",
       "</div>"
      ],
      "text/plain": [
       "      경부선 KTX  호남선 KTX  경전선 KTX  전라선 KTX  동해선 KTX\n",
       "2011    39060     7313     3627      309      NaN\n",
       "2012    39896     6967     4168     1771      NaN\n",
       "2013    42005     6873     4088     1954      NaN\n",
       "2014    43621     6626     4424     2244      NaN\n",
       "2015    41702     8675     4606     3146   2395.0\n",
       "2016    41266    10622     4984     3945   3786.0\n",
       "2017    32427     9228     5570     5766   6667.0"
      ]
     },
     "execution_count": 35,
     "metadata": {},
     "output_type": "execute_result"
    }
   ],
   "source": [
    "import pandas as pd\n",
    "import numpy as np\n",
    "\n",
    "KTX_data = {'경부선 KTX': [39060, 39896, 42005, 43621, 41702, 41266, 32427],\n",
    "            '호남선 KTX': [7313, 6967, 6873, 6626, 8675, 10622, 9228],\n",
    "            '경전선 KTX': [3627, 4168, 4088, 4424, 4606, 4984, 5570],\n",
    "            '전라선 KTX': [309, 1771, 1954, 2244, 3146, 3945, 5766],\n",
    "            '동해선 KTX': [np.nan,np.nan, np.nan, np.nan, 2395, 3786, 6667]}\n",
    "col_list = ['경부선 KTX','호남선 KTX','경전선 KTX','전라선 KTX','동해선 KTX']\n",
    "index_list = ['2011', '2012', '2013', '2014', '2015', '2016', '2017']\n",
    "\n",
    "df_KTX = pd.DataFrame(KTX_data, columns = col_list, index = index_list)\n",
    "df_KTX"
   ]
  },
  {
   "cell_type": "markdown",
   "metadata": {
    "nbpresent": {
     "id": "64ab70ce-331b-413a-be4c-684c867cc786"
    }
   },
   "source": [
    "**[11장: 259페이지]**"
   ]
  },
  {
   "cell_type": "code",
   "execution_count": 36,
   "metadata": {
    "nbpresent": {
     "id": "9594cb7f-7599-49b2-b65f-335bbc6d90b0"
    }
   },
   "outputs": [
    {
     "data": {
      "text/plain": [
       "Index(['2011', '2012', '2013', '2014', '2015', '2016', '2017'], dtype='object')"
      ]
     },
     "execution_count": 36,
     "metadata": {},
     "output_type": "execute_result"
    }
   ],
   "source": [
    "df_KTX.index"
   ]
  },
  {
   "cell_type": "code",
   "execution_count": 37,
   "metadata": {
    "nbpresent": {
     "id": "cf24c377-9bd2-45b0-8047-b47072a5b706"
    }
   },
   "outputs": [
    {
     "data": {
      "text/plain": [
       "Index(['경부선 KTX', '호남선 KTX', '경전선 KTX', '전라선 KTX', '동해선 KTX'], dtype='object')"
      ]
     },
     "execution_count": 37,
     "metadata": {},
     "output_type": "execute_result"
    }
   ],
   "source": [
    "df_KTX.columns"
   ]
  },
  {
   "cell_type": "code",
   "execution_count": 39,
   "metadata": {
    "nbpresent": {
     "id": "639401fd-6ca8-4ae2-b72e-f0c0ff63caf4"
    }
   },
   "outputs": [
    {
     "data": {
      "text/plain": [
       "array([[39060.,  7313.,  3627.,   309.,    nan],\n",
       "       [39896.,  6967.,  4168.,  1771.,    nan],\n",
       "       [42005.,  6873.,  4088.,  1954.,    nan],\n",
       "       [43621.,  6626.,  4424.,  2244.,    nan],\n",
       "       [41702.,  8675.,  4606.,  3146.,  2395.],\n",
       "       [41266., 10622.,  4984.,  3945.,  3786.],\n",
       "       [32427.,  9228.,  5570.,  5766.,  6667.]])"
      ]
     },
     "execution_count": 39,
     "metadata": {},
     "output_type": "execute_result"
    }
   ],
   "source": [
    "df_KTX.values\n",
    "# 2차원 배열로 들어간다."
   ]
  },
  {
   "cell_type": "code",
   "execution_count": 40,
   "metadata": {},
   "outputs": [
    {
     "data": {
      "text/plain": [
       "array([39060.,  7313.,  3627.,   309.,    nan, 39896.,  6967.,  4168.,\n",
       "        1771.,    nan, 42005.,  6873.,  4088.,  1954.,    nan, 43621.,\n",
       "        6626.,  4424.,  2244.,    nan, 41702.,  8675.,  4606.,  3146.,\n",
       "        2395., 41266., 10622.,  4984.,  3945.,  3786., 32427.,  9228.,\n",
       "        5570.,  5766.,  6667.])"
      ]
     },
     "execution_count": 40,
     "metadata": {},
     "output_type": "execute_result"
    }
   ],
   "source": [
    "df_KTX.values.reshape(-1)"
   ]
  },
  {
   "cell_type": "markdown",
   "metadata": {
    "nbpresent": {
     "id": "5330ac64-e0b5-4fac-985f-07849473b7fb"
    }
   },
   "source": [
    "**[11장: 260페이지]**"
   ]
  },
  {
   "cell_type": "code",
   "execution_count": 41,
   "metadata": {
    "nbpresent": {
     "id": "1fc321cc-0ece-41d5-8edd-d69203c65255"
    }
   },
   "outputs": [
    {
     "data": {
      "text/html": [
       "<div>\n",
       "<style scoped>\n",
       "    .dataframe tbody tr th:only-of-type {\n",
       "        vertical-align: middle;\n",
       "    }\n",
       "\n",
       "    .dataframe tbody tr th {\n",
       "        vertical-align: top;\n",
       "    }\n",
       "\n",
       "    .dataframe thead th {\n",
       "        text-align: right;\n",
       "    }\n",
       "</style>\n",
       "<table border=\"1\" class=\"dataframe\">\n",
       "  <thead>\n",
       "    <tr style=\"text-align: right;\">\n",
       "      <th></th>\n",
       "      <th>경부선 KTX</th>\n",
       "      <th>호남선 KTX</th>\n",
       "      <th>경전선 KTX</th>\n",
       "      <th>전라선 KTX</th>\n",
       "      <th>동해선 KTX</th>\n",
       "    </tr>\n",
       "  </thead>\n",
       "  <tbody>\n",
       "    <tr>\n",
       "      <th>2011</th>\n",
       "      <td>39060</td>\n",
       "      <td>7313</td>\n",
       "      <td>3627</td>\n",
       "      <td>309</td>\n",
       "      <td>NaN</td>\n",
       "    </tr>\n",
       "    <tr>\n",
       "      <th>2012</th>\n",
       "      <td>39896</td>\n",
       "      <td>6967</td>\n",
       "      <td>4168</td>\n",
       "      <td>1771</td>\n",
       "      <td>NaN</td>\n",
       "    </tr>\n",
       "    <tr>\n",
       "      <th>2013</th>\n",
       "      <td>42005</td>\n",
       "      <td>6873</td>\n",
       "      <td>4088</td>\n",
       "      <td>1954</td>\n",
       "      <td>NaN</td>\n",
       "    </tr>\n",
       "    <tr>\n",
       "      <th>2014</th>\n",
       "      <td>43621</td>\n",
       "      <td>6626</td>\n",
       "      <td>4424</td>\n",
       "      <td>2244</td>\n",
       "      <td>NaN</td>\n",
       "    </tr>\n",
       "    <tr>\n",
       "      <th>2015</th>\n",
       "      <td>41702</td>\n",
       "      <td>8675</td>\n",
       "      <td>4606</td>\n",
       "      <td>3146</td>\n",
       "      <td>2395.0</td>\n",
       "    </tr>\n",
       "  </tbody>\n",
       "</table>\n",
       "</div>"
      ],
      "text/plain": [
       "      경부선 KTX  호남선 KTX  경전선 KTX  전라선 KTX  동해선 KTX\n",
       "2011    39060     7313     3627      309      NaN\n",
       "2012    39896     6967     4168     1771      NaN\n",
       "2013    42005     6873     4088     1954      NaN\n",
       "2014    43621     6626     4424     2244      NaN\n",
       "2015    41702     8675     4606     3146   2395.0"
      ]
     },
     "execution_count": 41,
     "metadata": {},
     "output_type": "execute_result"
    }
   ],
   "source": [
    "df_KTX.head()"
   ]
  },
  {
   "cell_type": "code",
   "execution_count": 42,
   "metadata": {
    "nbpresent": {
     "id": "64bc39ab-346c-40e7-b1c9-1929ea0f8c01"
    }
   },
   "outputs": [
    {
     "data": {
      "text/html": [
       "<div>\n",
       "<style scoped>\n",
       "    .dataframe tbody tr th:only-of-type {\n",
       "        vertical-align: middle;\n",
       "    }\n",
       "\n",
       "    .dataframe tbody tr th {\n",
       "        vertical-align: top;\n",
       "    }\n",
       "\n",
       "    .dataframe thead th {\n",
       "        text-align: right;\n",
       "    }\n",
       "</style>\n",
       "<table border=\"1\" class=\"dataframe\">\n",
       "  <thead>\n",
       "    <tr style=\"text-align: right;\">\n",
       "      <th></th>\n",
       "      <th>경부선 KTX</th>\n",
       "      <th>호남선 KTX</th>\n",
       "      <th>경전선 KTX</th>\n",
       "      <th>전라선 KTX</th>\n",
       "      <th>동해선 KTX</th>\n",
       "    </tr>\n",
       "  </thead>\n",
       "  <tbody>\n",
       "    <tr>\n",
       "      <th>2013</th>\n",
       "      <td>42005</td>\n",
       "      <td>6873</td>\n",
       "      <td>4088</td>\n",
       "      <td>1954</td>\n",
       "      <td>NaN</td>\n",
       "    </tr>\n",
       "    <tr>\n",
       "      <th>2014</th>\n",
       "      <td>43621</td>\n",
       "      <td>6626</td>\n",
       "      <td>4424</td>\n",
       "      <td>2244</td>\n",
       "      <td>NaN</td>\n",
       "    </tr>\n",
       "    <tr>\n",
       "      <th>2015</th>\n",
       "      <td>41702</td>\n",
       "      <td>8675</td>\n",
       "      <td>4606</td>\n",
       "      <td>3146</td>\n",
       "      <td>2395.0</td>\n",
       "    </tr>\n",
       "    <tr>\n",
       "      <th>2016</th>\n",
       "      <td>41266</td>\n",
       "      <td>10622</td>\n",
       "      <td>4984</td>\n",
       "      <td>3945</td>\n",
       "      <td>3786.0</td>\n",
       "    </tr>\n",
       "    <tr>\n",
       "      <th>2017</th>\n",
       "      <td>32427</td>\n",
       "      <td>9228</td>\n",
       "      <td>5570</td>\n",
       "      <td>5766</td>\n",
       "      <td>6667.0</td>\n",
       "    </tr>\n",
       "  </tbody>\n",
       "</table>\n",
       "</div>"
      ],
      "text/plain": [
       "      경부선 KTX  호남선 KTX  경전선 KTX  전라선 KTX  동해선 KTX\n",
       "2013    42005     6873     4088     1954      NaN\n",
       "2014    43621     6626     4424     2244      NaN\n",
       "2015    41702     8675     4606     3146   2395.0\n",
       "2016    41266    10622     4984     3945   3786.0\n",
       "2017    32427     9228     5570     5766   6667.0"
      ]
     },
     "execution_count": 42,
     "metadata": {},
     "output_type": "execute_result"
    }
   ],
   "source": [
    "df_KTX.tail()"
   ]
  },
  {
   "cell_type": "markdown",
   "metadata": {
    "nbpresent": {
     "id": "b2ac494e-375a-408d-ad93-9ee0de749a8c"
    }
   },
   "source": [
    "**[11장: 260 ~ 261페이지]**"
   ]
  },
  {
   "cell_type": "code",
   "execution_count": 43,
   "metadata": {
    "nbpresent": {
     "id": "6852f07c-87ae-4102-9681-8d126cef3b64"
    }
   },
   "outputs": [
    {
     "data": {
      "text/html": [
       "<div>\n",
       "<style scoped>\n",
       "    .dataframe tbody tr th:only-of-type {\n",
       "        vertical-align: middle;\n",
       "    }\n",
       "\n",
       "    .dataframe tbody tr th {\n",
       "        vertical-align: top;\n",
       "    }\n",
       "\n",
       "    .dataframe thead th {\n",
       "        text-align: right;\n",
       "    }\n",
       "</style>\n",
       "<table border=\"1\" class=\"dataframe\">\n",
       "  <thead>\n",
       "    <tr style=\"text-align: right;\">\n",
       "      <th></th>\n",
       "      <th>경부선 KTX</th>\n",
       "      <th>호남선 KTX</th>\n",
       "      <th>경전선 KTX</th>\n",
       "      <th>전라선 KTX</th>\n",
       "      <th>동해선 KTX</th>\n",
       "    </tr>\n",
       "  </thead>\n",
       "  <tbody>\n",
       "    <tr>\n",
       "      <th>2011</th>\n",
       "      <td>39060</td>\n",
       "      <td>7313</td>\n",
       "      <td>3627</td>\n",
       "      <td>309</td>\n",
       "      <td>NaN</td>\n",
       "    </tr>\n",
       "    <tr>\n",
       "      <th>2012</th>\n",
       "      <td>39896</td>\n",
       "      <td>6967</td>\n",
       "      <td>4168</td>\n",
       "      <td>1771</td>\n",
       "      <td>NaN</td>\n",
       "    </tr>\n",
       "    <tr>\n",
       "      <th>2013</th>\n",
       "      <td>42005</td>\n",
       "      <td>6873</td>\n",
       "      <td>4088</td>\n",
       "      <td>1954</td>\n",
       "      <td>NaN</td>\n",
       "    </tr>\n",
       "  </tbody>\n",
       "</table>\n",
       "</div>"
      ],
      "text/plain": [
       "      경부선 KTX  호남선 KTX  경전선 KTX  전라선 KTX  동해선 KTX\n",
       "2011    39060     7313     3627      309      NaN\n",
       "2012    39896     6967     4168     1771      NaN\n",
       "2013    42005     6873     4088     1954      NaN"
      ]
     },
     "execution_count": 43,
     "metadata": {},
     "output_type": "execute_result"
    }
   ],
   "source": [
    "df_KTX.head(3)"
   ]
  },
  {
   "cell_type": "code",
   "execution_count": 44,
   "metadata": {
    "nbpresent": {
     "id": "3d06c73d-3987-470b-933a-48f98fd8d538"
    }
   },
   "outputs": [
    {
     "data": {
      "text/html": [
       "<div>\n",
       "<style scoped>\n",
       "    .dataframe tbody tr th:only-of-type {\n",
       "        vertical-align: middle;\n",
       "    }\n",
       "\n",
       "    .dataframe tbody tr th {\n",
       "        vertical-align: top;\n",
       "    }\n",
       "\n",
       "    .dataframe thead th {\n",
       "        text-align: right;\n",
       "    }\n",
       "</style>\n",
       "<table border=\"1\" class=\"dataframe\">\n",
       "  <thead>\n",
       "    <tr style=\"text-align: right;\">\n",
       "      <th></th>\n",
       "      <th>경부선 KTX</th>\n",
       "      <th>호남선 KTX</th>\n",
       "      <th>경전선 KTX</th>\n",
       "      <th>전라선 KTX</th>\n",
       "      <th>동해선 KTX</th>\n",
       "    </tr>\n",
       "  </thead>\n",
       "  <tbody>\n",
       "    <tr>\n",
       "      <th>2016</th>\n",
       "      <td>41266</td>\n",
       "      <td>10622</td>\n",
       "      <td>4984</td>\n",
       "      <td>3945</td>\n",
       "      <td>3786.0</td>\n",
       "    </tr>\n",
       "    <tr>\n",
       "      <th>2017</th>\n",
       "      <td>32427</td>\n",
       "      <td>9228</td>\n",
       "      <td>5570</td>\n",
       "      <td>5766</td>\n",
       "      <td>6667.0</td>\n",
       "    </tr>\n",
       "  </tbody>\n",
       "</table>\n",
       "</div>"
      ],
      "text/plain": [
       "      경부선 KTX  호남선 KTX  경전선 KTX  전라선 KTX  동해선 KTX\n",
       "2016    41266    10622     4984     3945   3786.0\n",
       "2017    32427     9228     5570     5766   6667.0"
      ]
     },
     "execution_count": 44,
     "metadata": {},
     "output_type": "execute_result"
    }
   ],
   "source": [
    "df_KTX.tail(2)"
   ]
  },
  {
   "cell_type": "markdown",
   "metadata": {
    "nbpresent": {
     "id": "020f7f43-2b88-4405-92ef-ae8fe3a82876"
    }
   },
   "source": [
    "**[11장: 261페이지]**"
   ]
  },
  {
   "cell_type": "code",
   "execution_count": 46,
   "metadata": {
    "nbpresent": {
     "id": "ac73781f-1113-47c9-bc0b-ff1c6f328aa2"
    }
   },
   "outputs": [
    {
     "data": {
      "text/html": [
       "<div>\n",
       "<style scoped>\n",
       "    .dataframe tbody tr th:only-of-type {\n",
       "        vertical-align: middle;\n",
       "    }\n",
       "\n",
       "    .dataframe tbody tr th {\n",
       "        vertical-align: top;\n",
       "    }\n",
       "\n",
       "    .dataframe thead th {\n",
       "        text-align: right;\n",
       "    }\n",
       "</style>\n",
       "<table border=\"1\" class=\"dataframe\">\n",
       "  <thead>\n",
       "    <tr style=\"text-align: right;\">\n",
       "      <th></th>\n",
       "      <th>경부선 KTX</th>\n",
       "      <th>호남선 KTX</th>\n",
       "      <th>경전선 KTX</th>\n",
       "      <th>전라선 KTX</th>\n",
       "      <th>동해선 KTX</th>\n",
       "    </tr>\n",
       "  </thead>\n",
       "  <tbody>\n",
       "    <tr>\n",
       "      <th>2012</th>\n",
       "      <td>39896</td>\n",
       "      <td>6967</td>\n",
       "      <td>4168</td>\n",
       "      <td>1771</td>\n",
       "      <td>NaN</td>\n",
       "    </tr>\n",
       "  </tbody>\n",
       "</table>\n",
       "</div>"
      ],
      "text/plain": [
       "      경부선 KTX  호남선 KTX  경전선 KTX  전라선 KTX  동해선 KTX\n",
       "2012    39896     6967     4168     1771      NaN"
      ]
     },
     "execution_count": 46,
     "metadata": {},
     "output_type": "execute_result"
    }
   ],
   "source": [
    "df_KTX[1:2]\n",
    "# 1번째 행 이상, 2번째 행 미만으로 가져온다. "
   ]
  },
  {
   "cell_type": "markdown",
   "metadata": {
    "nbpresent": {
     "id": "fa7444c4-04b5-48b9-a106-5cf38c24ca33"
    }
   },
   "source": [
    "**[11장: 261페이지]**"
   ]
  },
  {
   "cell_type": "code",
   "execution_count": 47,
   "metadata": {
    "nbpresent": {
     "id": "b9b0414d-d865-4259-b25e-4d75950ffbb6"
    }
   },
   "outputs": [
    {
     "data": {
      "text/html": [
       "<div>\n",
       "<style scoped>\n",
       "    .dataframe tbody tr th:only-of-type {\n",
       "        vertical-align: middle;\n",
       "    }\n",
       "\n",
       "    .dataframe tbody tr th {\n",
       "        vertical-align: top;\n",
       "    }\n",
       "\n",
       "    .dataframe thead th {\n",
       "        text-align: right;\n",
       "    }\n",
       "</style>\n",
       "<table border=\"1\" class=\"dataframe\">\n",
       "  <thead>\n",
       "    <tr style=\"text-align: right;\">\n",
       "      <th></th>\n",
       "      <th>경부선 KTX</th>\n",
       "      <th>호남선 KTX</th>\n",
       "      <th>경전선 KTX</th>\n",
       "      <th>전라선 KTX</th>\n",
       "      <th>동해선 KTX</th>\n",
       "    </tr>\n",
       "  </thead>\n",
       "  <tbody>\n",
       "    <tr>\n",
       "      <th>2013</th>\n",
       "      <td>42005</td>\n",
       "      <td>6873</td>\n",
       "      <td>4088</td>\n",
       "      <td>1954</td>\n",
       "      <td>NaN</td>\n",
       "    </tr>\n",
       "    <tr>\n",
       "      <th>2014</th>\n",
       "      <td>43621</td>\n",
       "      <td>6626</td>\n",
       "      <td>4424</td>\n",
       "      <td>2244</td>\n",
       "      <td>NaN</td>\n",
       "    </tr>\n",
       "    <tr>\n",
       "      <th>2015</th>\n",
       "      <td>41702</td>\n",
       "      <td>8675</td>\n",
       "      <td>4606</td>\n",
       "      <td>3146</td>\n",
       "      <td>2395.0</td>\n",
       "    </tr>\n",
       "  </tbody>\n",
       "</table>\n",
       "</div>"
      ],
      "text/plain": [
       "      경부선 KTX  호남선 KTX  경전선 KTX  전라선 KTX  동해선 KTX\n",
       "2013    42005     6873     4088     1954      NaN\n",
       "2014    43621     6626     4424     2244      NaN\n",
       "2015    41702     8675     4606     3146   2395.0"
      ]
     },
     "execution_count": 47,
     "metadata": {},
     "output_type": "execute_result"
    }
   ],
   "source": [
    "df_KTX[2:5]\n",
    "# 2번째 행 이상, 5번째 행 미만으로 가져온다. "
   ]
  },
  {
   "cell_type": "markdown",
   "metadata": {
    "nbpresent": {
     "id": "d4651dc6-f125-47d0-a46c-8fe06a7bc4be"
    }
   },
   "source": [
    "**[11장: 262페이지]**"
   ]
  },
  {
   "cell_type": "code",
   "execution_count": 48,
   "metadata": {
    "nbpresent": {
     "id": "f3adbfa8-ca7a-4117-9f75-f4a12cfe7c80"
    }
   },
   "outputs": [
    {
     "data": {
      "text/plain": [
       "경부선 KTX    39060.0\n",
       "호남선 KTX     7313.0\n",
       "경전선 KTX     3627.0\n",
       "전라선 KTX      309.0\n",
       "동해선 KTX        NaN\n",
       "Name: 2011, dtype: float64"
      ]
     },
     "execution_count": 48,
     "metadata": {},
     "output_type": "execute_result"
    }
   ],
   "source": [
    "df_KTX.loc['2011']"
   ]
  },
  {
   "cell_type": "markdown",
   "metadata": {
    "nbpresent": {
     "id": "4ec02e25-230b-4dc4-b93d-248362bb6668"
    }
   },
   "source": [
    "**[11장: 262페이지]**"
   ]
  },
  {
   "cell_type": "code",
   "execution_count": 49,
   "metadata": {
    "nbpresent": {
     "id": "d1dbe790-0599-4dd5-a85f-e7d342fbaec1"
    }
   },
   "outputs": [
    {
     "data": {
      "text/html": [
       "<div>\n",
       "<style scoped>\n",
       "    .dataframe tbody tr th:only-of-type {\n",
       "        vertical-align: middle;\n",
       "    }\n",
       "\n",
       "    .dataframe tbody tr th {\n",
       "        vertical-align: top;\n",
       "    }\n",
       "\n",
       "    .dataframe thead th {\n",
       "        text-align: right;\n",
       "    }\n",
       "</style>\n",
       "<table border=\"1\" class=\"dataframe\">\n",
       "  <thead>\n",
       "    <tr style=\"text-align: right;\">\n",
       "      <th></th>\n",
       "      <th>경부선 KTX</th>\n",
       "      <th>호남선 KTX</th>\n",
       "      <th>경전선 KTX</th>\n",
       "      <th>전라선 KTX</th>\n",
       "      <th>동해선 KTX</th>\n",
       "    </tr>\n",
       "  </thead>\n",
       "  <tbody>\n",
       "    <tr>\n",
       "      <th>2013</th>\n",
       "      <td>42005</td>\n",
       "      <td>6873</td>\n",
       "      <td>4088</td>\n",
       "      <td>1954</td>\n",
       "      <td>NaN</td>\n",
       "    </tr>\n",
       "    <tr>\n",
       "      <th>2014</th>\n",
       "      <td>43621</td>\n",
       "      <td>6626</td>\n",
       "      <td>4424</td>\n",
       "      <td>2244</td>\n",
       "      <td>NaN</td>\n",
       "    </tr>\n",
       "    <tr>\n",
       "      <th>2015</th>\n",
       "      <td>41702</td>\n",
       "      <td>8675</td>\n",
       "      <td>4606</td>\n",
       "      <td>3146</td>\n",
       "      <td>2395.0</td>\n",
       "    </tr>\n",
       "    <tr>\n",
       "      <th>2016</th>\n",
       "      <td>41266</td>\n",
       "      <td>10622</td>\n",
       "      <td>4984</td>\n",
       "      <td>3945</td>\n",
       "      <td>3786.0</td>\n",
       "    </tr>\n",
       "  </tbody>\n",
       "</table>\n",
       "</div>"
      ],
      "text/plain": [
       "      경부선 KTX  호남선 KTX  경전선 KTX  전라선 KTX  동해선 KTX\n",
       "2013    42005     6873     4088     1954      NaN\n",
       "2014    43621     6626     4424     2244      NaN\n",
       "2015    41702     8675     4606     3146   2395.0\n",
       "2016    41266    10622     4984     3945   3786.0"
      ]
     },
     "execution_count": 49,
     "metadata": {},
     "output_type": "execute_result"
    }
   ],
   "source": [
    "df_KTX.loc['2013':'2016']"
   ]
  },
  {
   "cell_type": "markdown",
   "metadata": {
    "nbpresent": {
     "id": "dcaf4328-bf16-4cec-aa4b-e2b6b4c50dee"
    }
   },
   "source": [
    "**[11장: 263페이지]**"
   ]
  },
  {
   "cell_type": "code",
   "execution_count": 50,
   "metadata": {
    "nbpresent": {
     "id": "83f35fac-f81a-4767-b858-e720844e9efb"
    }
   },
   "outputs": [
    {
     "data": {
      "text/plain": [
       "2011    39060\n",
       "2012    39896\n",
       "2013    42005\n",
       "2014    43621\n",
       "2015    41702\n",
       "2016    41266\n",
       "2017    32427\n",
       "Name: 경부선 KTX, dtype: int64"
      ]
     },
     "execution_count": 50,
     "metadata": {},
     "output_type": "execute_result"
    }
   ],
   "source": [
    "df_KTX['경부선 KTX']"
   ]
  },
  {
   "cell_type": "markdown",
   "metadata": {},
   "source": [
    "**[11장: 263페이지]**"
   ]
  },
  {
   "cell_type": "code",
   "execution_count": 52,
   "metadata": {},
   "outputs": [
    {
     "data": {
      "text/plain": [
       "2012    39896\n",
       "2013    42005\n",
       "2014    43621\n",
       "Name: 경부선 KTX, dtype: int64"
      ]
     },
     "execution_count": 52,
     "metadata": {},
     "output_type": "execute_result"
    }
   ],
   "source": [
    "df_KTX['경부선 KTX']['2012':'2014']\n",
    "# 특정한 series에서, ~ 만큼 가져오는 인덱싱을 한다."
   ]
  },
  {
   "cell_type": "markdown",
   "metadata": {},
   "source": [
    "**[11장: 264페이지]**"
   ]
  },
  {
   "cell_type": "code",
   "execution_count": 53,
   "metadata": {},
   "outputs": [
    {
     "data": {
      "text/plain": [
       "2013    42005\n",
       "2014    43621\n",
       "2015    41702\n",
       "Name: 경부선 KTX, dtype: int64"
      ]
     },
     "execution_count": 53,
     "metadata": {},
     "output_type": "execute_result"
    }
   ],
   "source": [
    "df_KTX['경부선 KTX'][2:5]"
   ]
  },
  {
   "cell_type": "markdown",
   "metadata": {
    "nbpresent": {
     "id": "fd47ed21-ae36-42ef-8019-6054f1ef7e36"
    }
   },
   "source": [
    "**[11장: 264페이지]**"
   ]
  },
  {
   "cell_type": "code",
   "execution_count": 54,
   "metadata": {
    "nbpresent": {
     "id": "54f2aafb-cf2d-4ca3-aeed-8b8e7640cf45"
    }
   },
   "outputs": [
    {
     "data": {
      "text/plain": [
       "10622.0"
      ]
     },
     "execution_count": 54,
     "metadata": {},
     "output_type": "execute_result"
    }
   ],
   "source": [
    "df_KTX.loc['2016']['호남선 KTX']"
   ]
  },
  {
   "cell_type": "code",
   "execution_count": 55,
   "metadata": {
    "nbpresent": {
     "id": "e2171d29-60a5-4cb1-b568-af3a9a93f378"
    }
   },
   "outputs": [
    {
     "data": {
      "text/plain": [
       "10622"
      ]
     },
     "execution_count": 55,
     "metadata": {},
     "output_type": "execute_result"
    }
   ],
   "source": [
    "df_KTX.loc['2016','호남선 KTX']\n",
    "# 따로 구분하지 않아도 알아듣는다. "
   ]
  },
  {
   "cell_type": "code",
   "execution_count": 56,
   "metadata": {},
   "outputs": [
    {
     "data": {
      "text/plain": [
       "10622"
      ]
     },
     "execution_count": 56,
     "metadata": {},
     "output_type": "execute_result"
    }
   ],
   "source": [
    "df_KTX['호남선 KTX']['2016']"
   ]
  },
  {
   "cell_type": "code",
   "execution_count": 57,
   "metadata": {},
   "outputs": [
    {
     "data": {
      "text/plain": [
       "10622"
      ]
     },
     "execution_count": 57,
     "metadata": {},
     "output_type": "execute_result"
    }
   ],
   "source": [
    "df_KTX['호남선 KTX'][5]"
   ]
  },
  {
   "cell_type": "code",
   "execution_count": 58,
   "metadata": {
    "nbpresent": {
     "id": "327137d4-8ac4-48da-b1de-fb95c9f22935"
    }
   },
   "outputs": [
    {
     "data": {
      "text/plain": [
       "10622"
      ]
     },
     "execution_count": 58,
     "metadata": {},
     "output_type": "execute_result"
    }
   ],
   "source": [
    "df_KTX['호남선 KTX'].loc['2016']"
   ]
  },
  {
   "cell_type": "markdown",
   "metadata": {
    "nbpresent": {
     "id": "aad3f184-80d5-4588-ad1e-748d2788acba"
    }
   },
   "source": [
    "**[11장: 265페이지]**"
   ]
  },
  {
   "cell_type": "code",
   "execution_count": 63,
   "metadata": {
    "nbpresent": {
     "id": "ef740481-c78b-42fa-af55-91140ed40b96"
    },
    "scrolled": true
   },
   "outputs": [],
   "source": [
    "df_KTX_T = df_KTX.T\n",
    "# Transpose"
   ]
  },
  {
   "cell_type": "markdown",
   "metadata": {},
   "source": [
    "**[11장: 265페이지]**"
   ]
  },
  {
   "cell_type": "code",
   "execution_count": 60,
   "metadata": {
    "scrolled": true
   },
   "outputs": [
    {
     "data": {
      "text/html": [
       "<div>\n",
       "<style scoped>\n",
       "    .dataframe tbody tr th:only-of-type {\n",
       "        vertical-align: middle;\n",
       "    }\n",
       "\n",
       "    .dataframe tbody tr th {\n",
       "        vertical-align: top;\n",
       "    }\n",
       "\n",
       "    .dataframe thead th {\n",
       "        text-align: right;\n",
       "    }\n",
       "</style>\n",
       "<table border=\"1\" class=\"dataframe\">\n",
       "  <thead>\n",
       "    <tr style=\"text-align: right;\">\n",
       "      <th></th>\n",
       "      <th>경부선 KTX</th>\n",
       "      <th>호남선 KTX</th>\n",
       "      <th>경전선 KTX</th>\n",
       "      <th>전라선 KTX</th>\n",
       "      <th>동해선 KTX</th>\n",
       "    </tr>\n",
       "  </thead>\n",
       "  <tbody>\n",
       "    <tr>\n",
       "      <th>2011</th>\n",
       "      <td>39060</td>\n",
       "      <td>7313</td>\n",
       "      <td>3627</td>\n",
       "      <td>309</td>\n",
       "      <td>NaN</td>\n",
       "    </tr>\n",
       "    <tr>\n",
       "      <th>2012</th>\n",
       "      <td>39896</td>\n",
       "      <td>6967</td>\n",
       "      <td>4168</td>\n",
       "      <td>1771</td>\n",
       "      <td>NaN</td>\n",
       "    </tr>\n",
       "    <tr>\n",
       "      <th>2013</th>\n",
       "      <td>42005</td>\n",
       "      <td>6873</td>\n",
       "      <td>4088</td>\n",
       "      <td>1954</td>\n",
       "      <td>NaN</td>\n",
       "    </tr>\n",
       "    <tr>\n",
       "      <th>2014</th>\n",
       "      <td>43621</td>\n",
       "      <td>6626</td>\n",
       "      <td>4424</td>\n",
       "      <td>2244</td>\n",
       "      <td>NaN</td>\n",
       "    </tr>\n",
       "    <tr>\n",
       "      <th>2015</th>\n",
       "      <td>41702</td>\n",
       "      <td>8675</td>\n",
       "      <td>4606</td>\n",
       "      <td>3146</td>\n",
       "      <td>2395.0</td>\n",
       "    </tr>\n",
       "    <tr>\n",
       "      <th>2016</th>\n",
       "      <td>41266</td>\n",
       "      <td>10622</td>\n",
       "      <td>4984</td>\n",
       "      <td>3945</td>\n",
       "      <td>3786.0</td>\n",
       "    </tr>\n",
       "    <tr>\n",
       "      <th>2017</th>\n",
       "      <td>32427</td>\n",
       "      <td>9228</td>\n",
       "      <td>5570</td>\n",
       "      <td>5766</td>\n",
       "      <td>6667.0</td>\n",
       "    </tr>\n",
       "  </tbody>\n",
       "</table>\n",
       "</div>"
      ],
      "text/plain": [
       "      경부선 KTX  호남선 KTX  경전선 KTX  전라선 KTX  동해선 KTX\n",
       "2011    39060     7313     3627      309      NaN\n",
       "2012    39896     6967     4168     1771      NaN\n",
       "2013    42005     6873     4088     1954      NaN\n",
       "2014    43621     6626     4424     2244      NaN\n",
       "2015    41702     8675     4606     3146   2395.0\n",
       "2016    41266    10622     4984     3945   3786.0\n",
       "2017    32427     9228     5570     5766   6667.0"
      ]
     },
     "execution_count": 60,
     "metadata": {},
     "output_type": "execute_result"
    }
   ],
   "source": [
    "df_KTX"
   ]
  },
  {
   "cell_type": "markdown",
   "metadata": {},
   "source": [
    "**[11장: 266페이지]**"
   ]
  },
  {
   "cell_type": "code",
   "execution_count": 62,
   "metadata": {
    "scrolled": true
   },
   "outputs": [
    {
     "data": {
      "text/html": [
       "<div>\n",
       "<style scoped>\n",
       "    .dataframe tbody tr th:only-of-type {\n",
       "        vertical-align: middle;\n",
       "    }\n",
       "\n",
       "    .dataframe tbody tr th {\n",
       "        vertical-align: top;\n",
       "    }\n",
       "\n",
       "    .dataframe thead th {\n",
       "        text-align: right;\n",
       "    }\n",
       "</style>\n",
       "<table border=\"1\" class=\"dataframe\">\n",
       "  <thead>\n",
       "    <tr style=\"text-align: right;\">\n",
       "      <th></th>\n",
       "      <th>동해선 KTX</th>\n",
       "      <th>전라선 KTX</th>\n",
       "      <th>경전선 KTX</th>\n",
       "      <th>호남선 KTX</th>\n",
       "      <th>경부선 KTX</th>\n",
       "    </tr>\n",
       "  </thead>\n",
       "  <tbody>\n",
       "    <tr>\n",
       "      <th>2011</th>\n",
       "      <td>NaN</td>\n",
       "      <td>309</td>\n",
       "      <td>3627</td>\n",
       "      <td>7313</td>\n",
       "      <td>39060</td>\n",
       "    </tr>\n",
       "    <tr>\n",
       "      <th>2012</th>\n",
       "      <td>NaN</td>\n",
       "      <td>1771</td>\n",
       "      <td>4168</td>\n",
       "      <td>6967</td>\n",
       "      <td>39896</td>\n",
       "    </tr>\n",
       "    <tr>\n",
       "      <th>2013</th>\n",
       "      <td>NaN</td>\n",
       "      <td>1954</td>\n",
       "      <td>4088</td>\n",
       "      <td>6873</td>\n",
       "      <td>42005</td>\n",
       "    </tr>\n",
       "    <tr>\n",
       "      <th>2014</th>\n",
       "      <td>NaN</td>\n",
       "      <td>2244</td>\n",
       "      <td>4424</td>\n",
       "      <td>6626</td>\n",
       "      <td>43621</td>\n",
       "    </tr>\n",
       "    <tr>\n",
       "      <th>2015</th>\n",
       "      <td>2395.0</td>\n",
       "      <td>3146</td>\n",
       "      <td>4606</td>\n",
       "      <td>8675</td>\n",
       "      <td>41702</td>\n",
       "    </tr>\n",
       "    <tr>\n",
       "      <th>2016</th>\n",
       "      <td>3786.0</td>\n",
       "      <td>3945</td>\n",
       "      <td>4984</td>\n",
       "      <td>10622</td>\n",
       "      <td>41266</td>\n",
       "    </tr>\n",
       "    <tr>\n",
       "      <th>2017</th>\n",
       "      <td>6667.0</td>\n",
       "      <td>5766</td>\n",
       "      <td>5570</td>\n",
       "      <td>9228</td>\n",
       "      <td>32427</td>\n",
       "    </tr>\n",
       "  </tbody>\n",
       "</table>\n",
       "</div>"
      ],
      "text/plain": [
       "      동해선 KTX  전라선 KTX  경전선 KTX  호남선 KTX  경부선 KTX\n",
       "2011      NaN      309     3627     7313    39060\n",
       "2012      NaN     1771     4168     6967    39896\n",
       "2013      NaN     1954     4088     6873    42005\n",
       "2014      NaN     2244     4424     6626    43621\n",
       "2015   2395.0     3146     4606     8675    41702\n",
       "2016   3786.0     3945     4984    10622    41266\n",
       "2017   6667.0     5766     5570     9228    32427"
      ]
     },
     "execution_count": 62,
     "metadata": {},
     "output_type": "execute_result"
    }
   ],
   "source": [
    "df_KTX[['동해선 KTX', '전라선 KTX', '경전선 KTX', '호남선 KTX', '경부선 KTX']]"
   ]
  },
  {
   "cell_type": "code",
   "execution_count": 65,
   "metadata": {},
   "outputs": [
    {
     "data": {
      "text/html": [
       "<div>\n",
       "<style scoped>\n",
       "    .dataframe tbody tr th:only-of-type {\n",
       "        vertical-align: middle;\n",
       "    }\n",
       "\n",
       "    .dataframe tbody tr th {\n",
       "        vertical-align: top;\n",
       "    }\n",
       "\n",
       "    .dataframe thead th {\n",
       "        text-align: right;\n",
       "    }\n",
       "</style>\n",
       "<table border=\"1\" class=\"dataframe\">\n",
       "  <thead>\n",
       "    <tr style=\"text-align: right;\">\n",
       "      <th></th>\n",
       "      <th>2011</th>\n",
       "      <th>2012</th>\n",
       "      <th>2013</th>\n",
       "      <th>2014</th>\n",
       "      <th>2015</th>\n",
       "      <th>2016</th>\n",
       "      <th>2017</th>\n",
       "      <th>경부선 KTX</th>\n",
       "      <th>경전선 KTX</th>\n",
       "      <th>동해선 KTX</th>\n",
       "      <th>전라선 KTX</th>\n",
       "      <th>호남선 KTX</th>\n",
       "    </tr>\n",
       "  </thead>\n",
       "  <tbody>\n",
       "    <tr>\n",
       "      <th>2011</th>\n",
       "      <td>NaN</td>\n",
       "      <td>NaN</td>\n",
       "      <td>NaN</td>\n",
       "      <td>NaN</td>\n",
       "      <td>NaN</td>\n",
       "      <td>NaN</td>\n",
       "      <td>NaN</td>\n",
       "      <td>NaN</td>\n",
       "      <td>NaN</td>\n",
       "      <td>NaN</td>\n",
       "      <td>NaN</td>\n",
       "      <td>NaN</td>\n",
       "    </tr>\n",
       "    <tr>\n",
       "      <th>2012</th>\n",
       "      <td>NaN</td>\n",
       "      <td>NaN</td>\n",
       "      <td>NaN</td>\n",
       "      <td>NaN</td>\n",
       "      <td>NaN</td>\n",
       "      <td>NaN</td>\n",
       "      <td>NaN</td>\n",
       "      <td>NaN</td>\n",
       "      <td>NaN</td>\n",
       "      <td>NaN</td>\n",
       "      <td>NaN</td>\n",
       "      <td>NaN</td>\n",
       "    </tr>\n",
       "    <tr>\n",
       "      <th>2013</th>\n",
       "      <td>NaN</td>\n",
       "      <td>NaN</td>\n",
       "      <td>NaN</td>\n",
       "      <td>NaN</td>\n",
       "      <td>NaN</td>\n",
       "      <td>NaN</td>\n",
       "      <td>NaN</td>\n",
       "      <td>NaN</td>\n",
       "      <td>NaN</td>\n",
       "      <td>NaN</td>\n",
       "      <td>NaN</td>\n",
       "      <td>NaN</td>\n",
       "    </tr>\n",
       "    <tr>\n",
       "      <th>2014</th>\n",
       "      <td>NaN</td>\n",
       "      <td>NaN</td>\n",
       "      <td>NaN</td>\n",
       "      <td>NaN</td>\n",
       "      <td>NaN</td>\n",
       "      <td>NaN</td>\n",
       "      <td>NaN</td>\n",
       "      <td>NaN</td>\n",
       "      <td>NaN</td>\n",
       "      <td>NaN</td>\n",
       "      <td>NaN</td>\n",
       "      <td>NaN</td>\n",
       "    </tr>\n",
       "    <tr>\n",
       "      <th>2015</th>\n",
       "      <td>NaN</td>\n",
       "      <td>NaN</td>\n",
       "      <td>NaN</td>\n",
       "      <td>NaN</td>\n",
       "      <td>NaN</td>\n",
       "      <td>NaN</td>\n",
       "      <td>NaN</td>\n",
       "      <td>NaN</td>\n",
       "      <td>NaN</td>\n",
       "      <td>NaN</td>\n",
       "      <td>NaN</td>\n",
       "      <td>NaN</td>\n",
       "    </tr>\n",
       "    <tr>\n",
       "      <th>2016</th>\n",
       "      <td>NaN</td>\n",
       "      <td>NaN</td>\n",
       "      <td>NaN</td>\n",
       "      <td>NaN</td>\n",
       "      <td>NaN</td>\n",
       "      <td>NaN</td>\n",
       "      <td>NaN</td>\n",
       "      <td>NaN</td>\n",
       "      <td>NaN</td>\n",
       "      <td>NaN</td>\n",
       "      <td>NaN</td>\n",
       "      <td>NaN</td>\n",
       "    </tr>\n",
       "    <tr>\n",
       "      <th>2017</th>\n",
       "      <td>NaN</td>\n",
       "      <td>NaN</td>\n",
       "      <td>NaN</td>\n",
       "      <td>NaN</td>\n",
       "      <td>NaN</td>\n",
       "      <td>NaN</td>\n",
       "      <td>NaN</td>\n",
       "      <td>NaN</td>\n",
       "      <td>NaN</td>\n",
       "      <td>NaN</td>\n",
       "      <td>NaN</td>\n",
       "      <td>NaN</td>\n",
       "    </tr>\n",
       "    <tr>\n",
       "      <th>경부선 KTX</th>\n",
       "      <td>NaN</td>\n",
       "      <td>NaN</td>\n",
       "      <td>NaN</td>\n",
       "      <td>NaN</td>\n",
       "      <td>NaN</td>\n",
       "      <td>NaN</td>\n",
       "      <td>NaN</td>\n",
       "      <td>NaN</td>\n",
       "      <td>NaN</td>\n",
       "      <td>NaN</td>\n",
       "      <td>NaN</td>\n",
       "      <td>NaN</td>\n",
       "    </tr>\n",
       "    <tr>\n",
       "      <th>경전선 KTX</th>\n",
       "      <td>NaN</td>\n",
       "      <td>NaN</td>\n",
       "      <td>NaN</td>\n",
       "      <td>NaN</td>\n",
       "      <td>NaN</td>\n",
       "      <td>NaN</td>\n",
       "      <td>NaN</td>\n",
       "      <td>NaN</td>\n",
       "      <td>NaN</td>\n",
       "      <td>NaN</td>\n",
       "      <td>NaN</td>\n",
       "      <td>NaN</td>\n",
       "    </tr>\n",
       "    <tr>\n",
       "      <th>동해선 KTX</th>\n",
       "      <td>NaN</td>\n",
       "      <td>NaN</td>\n",
       "      <td>NaN</td>\n",
       "      <td>NaN</td>\n",
       "      <td>NaN</td>\n",
       "      <td>NaN</td>\n",
       "      <td>NaN</td>\n",
       "      <td>NaN</td>\n",
       "      <td>NaN</td>\n",
       "      <td>NaN</td>\n",
       "      <td>NaN</td>\n",
       "      <td>NaN</td>\n",
       "    </tr>\n",
       "    <tr>\n",
       "      <th>전라선 KTX</th>\n",
       "      <td>NaN</td>\n",
       "      <td>NaN</td>\n",
       "      <td>NaN</td>\n",
       "      <td>NaN</td>\n",
       "      <td>NaN</td>\n",
       "      <td>NaN</td>\n",
       "      <td>NaN</td>\n",
       "      <td>NaN</td>\n",
       "      <td>NaN</td>\n",
       "      <td>NaN</td>\n",
       "      <td>NaN</td>\n",
       "      <td>NaN</td>\n",
       "    </tr>\n",
       "    <tr>\n",
       "      <th>호남선 KTX</th>\n",
       "      <td>NaN</td>\n",
       "      <td>NaN</td>\n",
       "      <td>NaN</td>\n",
       "      <td>NaN</td>\n",
       "      <td>NaN</td>\n",
       "      <td>NaN</td>\n",
       "      <td>NaN</td>\n",
       "      <td>NaN</td>\n",
       "      <td>NaN</td>\n",
       "      <td>NaN</td>\n",
       "      <td>NaN</td>\n",
       "      <td>NaN</td>\n",
       "    </tr>\n",
       "  </tbody>\n",
       "</table>\n",
       "</div>"
      ],
      "text/plain": [
       "         2011  2012  2013  2014  2015  2016  2017  경부선 KTX  경전선 KTX  동해선 KTX  \\\n",
       "2011      NaN   NaN   NaN   NaN   NaN   NaN   NaN      NaN      NaN      NaN   \n",
       "2012      NaN   NaN   NaN   NaN   NaN   NaN   NaN      NaN      NaN      NaN   \n",
       "2013      NaN   NaN   NaN   NaN   NaN   NaN   NaN      NaN      NaN      NaN   \n",
       "2014      NaN   NaN   NaN   NaN   NaN   NaN   NaN      NaN      NaN      NaN   \n",
       "2015      NaN   NaN   NaN   NaN   NaN   NaN   NaN      NaN      NaN      NaN   \n",
       "2016      NaN   NaN   NaN   NaN   NaN   NaN   NaN      NaN      NaN      NaN   \n",
       "2017      NaN   NaN   NaN   NaN   NaN   NaN   NaN      NaN      NaN      NaN   \n",
       "경부선 KTX   NaN   NaN   NaN   NaN   NaN   NaN   NaN      NaN      NaN      NaN   \n",
       "경전선 KTX   NaN   NaN   NaN   NaN   NaN   NaN   NaN      NaN      NaN      NaN   \n",
       "동해선 KTX   NaN   NaN   NaN   NaN   NaN   NaN   NaN      NaN      NaN      NaN   \n",
       "전라선 KTX   NaN   NaN   NaN   NaN   NaN   NaN   NaN      NaN      NaN      NaN   \n",
       "호남선 KTX   NaN   NaN   NaN   NaN   NaN   NaN   NaN      NaN      NaN      NaN   \n",
       "\n",
       "         전라선 KTX  호남선 KTX  \n",
       "2011         NaN      NaN  \n",
       "2012         NaN      NaN  \n",
       "2013         NaN      NaN  \n",
       "2014         NaN      NaN  \n",
       "2015         NaN      NaN  \n",
       "2016         NaN      NaN  \n",
       "2017         NaN      NaN  \n",
       "경부선 KTX      NaN      NaN  \n",
       "경전선 KTX      NaN      NaN  \n",
       "동해선 KTX      NaN      NaN  \n",
       "전라선 KTX      NaN      NaN  \n",
       "호남선 KTX      NaN      NaN  "
      ]
     },
     "execution_count": 65,
     "metadata": {},
     "output_type": "execute_result"
    }
   ],
   "source": [
    "df_KTX * df_KTX_T"
   ]
  },
  {
   "cell_type": "markdown",
   "metadata": {
    "nbpresent": {
     "id": "63216f7b-1fbc-455f-a690-3439ac18de81"
    }
   },
   "source": [
    "### 데이터 통합하기"
   ]
  },
  {
   "cell_type": "markdown",
   "metadata": {},
   "source": [
    "#### 세로 방향으로 통합하기"
   ]
  },
  {
   "cell_type": "markdown",
   "metadata": {},
   "source": [
    "**[11장: 267페이지]**"
   ]
  },
  {
   "cell_type": "code",
   "execution_count": 66,
   "metadata": {
    "nbpresent": {
     "id": "6d5e6d1b-6fa7-483d-9648-6ca44371399f"
    }
   },
   "outputs": [
    {
     "data": {
      "text/html": [
       "<div>\n",
       "<style scoped>\n",
       "    .dataframe tbody tr th:only-of-type {\n",
       "        vertical-align: middle;\n",
       "    }\n",
       "\n",
       "    .dataframe tbody tr th {\n",
       "        vertical-align: top;\n",
       "    }\n",
       "\n",
       "    .dataframe thead th {\n",
       "        text-align: right;\n",
       "    }\n",
       "</style>\n",
       "<table border=\"1\" class=\"dataframe\">\n",
       "  <thead>\n",
       "    <tr style=\"text-align: right;\">\n",
       "      <th></th>\n",
       "      <th>Class1</th>\n",
       "      <th>Class2</th>\n",
       "    </tr>\n",
       "  </thead>\n",
       "  <tbody>\n",
       "    <tr>\n",
       "      <th>0</th>\n",
       "      <td>95</td>\n",
       "      <td>91</td>\n",
       "    </tr>\n",
       "    <tr>\n",
       "      <th>1</th>\n",
       "      <td>92</td>\n",
       "      <td>93</td>\n",
       "    </tr>\n",
       "    <tr>\n",
       "      <th>2</th>\n",
       "      <td>98</td>\n",
       "      <td>97</td>\n",
       "    </tr>\n",
       "    <tr>\n",
       "      <th>3</th>\n",
       "      <td>100</td>\n",
       "      <td>99</td>\n",
       "    </tr>\n",
       "  </tbody>\n",
       "</table>\n",
       "</div>"
      ],
      "text/plain": [
       "   Class1  Class2\n",
       "0      95      91\n",
       "1      92      93\n",
       "2      98      97\n",
       "3     100      99"
      ]
     },
     "execution_count": 66,
     "metadata": {},
     "output_type": "execute_result"
    }
   ],
   "source": [
    "import pandas as pd\n",
    "import numpy as np\n",
    "\n",
    "df1 = pd.DataFrame({'Class1': [95, 92, 98, 100],\n",
    "                    'Class2': [91, 93, 97, 99]})\n",
    "df1"
   ]
  },
  {
   "cell_type": "markdown",
   "metadata": {
    "nbpresent": {
     "id": "cda671f2-a4f9-4be1-887e-826dc1481f68"
    }
   },
   "source": [
    "**[11장: 267페이지]**"
   ]
  },
  {
   "cell_type": "code",
   "execution_count": 67,
   "metadata": {
    "nbpresent": {
     "id": "c14b788a-0686-4b19-b896-ddfa965039e7"
    }
   },
   "outputs": [
    {
     "data": {
      "text/html": [
       "<div>\n",
       "<style scoped>\n",
       "    .dataframe tbody tr th:only-of-type {\n",
       "        vertical-align: middle;\n",
       "    }\n",
       "\n",
       "    .dataframe tbody tr th {\n",
       "        vertical-align: top;\n",
       "    }\n",
       "\n",
       "    .dataframe thead th {\n",
       "        text-align: right;\n",
       "    }\n",
       "</style>\n",
       "<table border=\"1\" class=\"dataframe\">\n",
       "  <thead>\n",
       "    <tr style=\"text-align: right;\">\n",
       "      <th></th>\n",
       "      <th>Class1</th>\n",
       "      <th>Class2</th>\n",
       "    </tr>\n",
       "  </thead>\n",
       "  <tbody>\n",
       "    <tr>\n",
       "      <th>0</th>\n",
       "      <td>87</td>\n",
       "      <td>85</td>\n",
       "    </tr>\n",
       "    <tr>\n",
       "      <th>1</th>\n",
       "      <td>89</td>\n",
       "      <td>90</td>\n",
       "    </tr>\n",
       "  </tbody>\n",
       "</table>\n",
       "</div>"
      ],
      "text/plain": [
       "   Class1  Class2\n",
       "0      87      85\n",
       "1      89      90"
      ]
     },
     "execution_count": 67,
     "metadata": {},
     "output_type": "execute_result"
    }
   ],
   "source": [
    "df2 = pd.DataFrame({'Class1': [87, 89],\n",
    "                    'Class2': [85, 90]})\n",
    "df2"
   ]
  },
  {
   "cell_type": "markdown",
   "metadata": {
    "nbpresent": {
     "id": "bdf5b188-38a6-4948-9aa7-954556372961"
    }
   },
   "source": [
    "**[11장: 267페이지]**"
   ]
  },
  {
   "cell_type": "code",
   "execution_count": 69,
   "metadata": {
    "nbpresent": {
     "id": "b5fca501-5a79-4e90-a6c9-185fc6cc4d73"
    }
   },
   "outputs": [
    {
     "data": {
      "text/html": [
       "<div>\n",
       "<style scoped>\n",
       "    .dataframe tbody tr th:only-of-type {\n",
       "        vertical-align: middle;\n",
       "    }\n",
       "\n",
       "    .dataframe tbody tr th {\n",
       "        vertical-align: top;\n",
       "    }\n",
       "\n",
       "    .dataframe thead th {\n",
       "        text-align: right;\n",
       "    }\n",
       "</style>\n",
       "<table border=\"1\" class=\"dataframe\">\n",
       "  <thead>\n",
       "    <tr style=\"text-align: right;\">\n",
       "      <th></th>\n",
       "      <th>Class1</th>\n",
       "      <th>Class2</th>\n",
       "    </tr>\n",
       "  </thead>\n",
       "  <tbody>\n",
       "    <tr>\n",
       "      <th>0</th>\n",
       "      <td>95</td>\n",
       "      <td>91</td>\n",
       "    </tr>\n",
       "    <tr>\n",
       "      <th>1</th>\n",
       "      <td>92</td>\n",
       "      <td>93</td>\n",
       "    </tr>\n",
       "    <tr>\n",
       "      <th>2</th>\n",
       "      <td>98</td>\n",
       "      <td>97</td>\n",
       "    </tr>\n",
       "    <tr>\n",
       "      <th>3</th>\n",
       "      <td>100</td>\n",
       "      <td>99</td>\n",
       "    </tr>\n",
       "    <tr>\n",
       "      <th>0</th>\n",
       "      <td>87</td>\n",
       "      <td>85</td>\n",
       "    </tr>\n",
       "    <tr>\n",
       "      <th>1</th>\n",
       "      <td>89</td>\n",
       "      <td>90</td>\n",
       "    </tr>\n",
       "  </tbody>\n",
       "</table>\n",
       "</div>"
      ],
      "text/plain": [
       "   Class1  Class2\n",
       "0      95      91\n",
       "1      92      93\n",
       "2      98      97\n",
       "3     100      99\n",
       "0      87      85\n",
       "1      89      90"
      ]
     },
     "execution_count": 69,
     "metadata": {},
     "output_type": "execute_result"
    }
   ],
   "source": [
    "df1.append(df2)\n",
    "# 뒤 쪽에 붙는다. "
   ]
  },
  {
   "cell_type": "markdown",
   "metadata": {
    "nbpresent": {
     "id": "46fee95c-764e-45f7-af46-e2567784af72"
    }
   },
   "source": [
    "**[11장: 268페이지]**"
   ]
  },
  {
   "cell_type": "code",
   "execution_count": 70,
   "metadata": {
    "nbpresent": {
     "id": "ad7d42a5-0cb7-427b-a370-4c1669bd73dc"
    }
   },
   "outputs": [
    {
     "data": {
      "text/html": [
       "<div>\n",
       "<style scoped>\n",
       "    .dataframe tbody tr th:only-of-type {\n",
       "        vertical-align: middle;\n",
       "    }\n",
       "\n",
       "    .dataframe tbody tr th {\n",
       "        vertical-align: top;\n",
       "    }\n",
       "\n",
       "    .dataframe thead th {\n",
       "        text-align: right;\n",
       "    }\n",
       "</style>\n",
       "<table border=\"1\" class=\"dataframe\">\n",
       "  <thead>\n",
       "    <tr style=\"text-align: right;\">\n",
       "      <th></th>\n",
       "      <th>Class1</th>\n",
       "      <th>Class2</th>\n",
       "    </tr>\n",
       "  </thead>\n",
       "  <tbody>\n",
       "    <tr>\n",
       "      <th>0</th>\n",
       "      <td>95</td>\n",
       "      <td>91</td>\n",
       "    </tr>\n",
       "    <tr>\n",
       "      <th>1</th>\n",
       "      <td>92</td>\n",
       "      <td>93</td>\n",
       "    </tr>\n",
       "    <tr>\n",
       "      <th>2</th>\n",
       "      <td>98</td>\n",
       "      <td>97</td>\n",
       "    </tr>\n",
       "    <tr>\n",
       "      <th>3</th>\n",
       "      <td>100</td>\n",
       "      <td>99</td>\n",
       "    </tr>\n",
       "    <tr>\n",
       "      <th>4</th>\n",
       "      <td>87</td>\n",
       "      <td>85</td>\n",
       "    </tr>\n",
       "    <tr>\n",
       "      <th>5</th>\n",
       "      <td>89</td>\n",
       "      <td>90</td>\n",
       "    </tr>\n",
       "  </tbody>\n",
       "</table>\n",
       "</div>"
      ],
      "text/plain": [
       "   Class1  Class2\n",
       "0      95      91\n",
       "1      92      93\n",
       "2      98      97\n",
       "3     100      99\n",
       "4      87      85\n",
       "5      89      90"
      ]
     },
     "execution_count": 70,
     "metadata": {},
     "output_type": "execute_result"
    }
   ],
   "source": [
    "df1.append(df2, ignore_index=True)\n",
    "# 인자값이 초기화된다."
   ]
  },
  {
   "cell_type": "markdown",
   "metadata": {
    "nbpresent": {
     "id": "842a7f12-4cb4-4f51-a169-3cc6438c8fce"
    }
   },
   "source": [
    "**[11장: 268페이지]**"
   ]
  },
  {
   "cell_type": "code",
   "execution_count": 71,
   "metadata": {},
   "outputs": [
    {
     "data": {
      "text/html": [
       "<div>\n",
       "<style scoped>\n",
       "    .dataframe tbody tr th:only-of-type {\n",
       "        vertical-align: middle;\n",
       "    }\n",
       "\n",
       "    .dataframe tbody tr th {\n",
       "        vertical-align: top;\n",
       "    }\n",
       "\n",
       "    .dataframe thead th {\n",
       "        text-align: right;\n",
       "    }\n",
       "</style>\n",
       "<table border=\"1\" class=\"dataframe\">\n",
       "  <thead>\n",
       "    <tr style=\"text-align: right;\">\n",
       "      <th></th>\n",
       "      <th>Class1</th>\n",
       "    </tr>\n",
       "  </thead>\n",
       "  <tbody>\n",
       "    <tr>\n",
       "      <th>0</th>\n",
       "      <td>96</td>\n",
       "    </tr>\n",
       "    <tr>\n",
       "      <th>1</th>\n",
       "      <td>83</td>\n",
       "    </tr>\n",
       "  </tbody>\n",
       "</table>\n",
       "</div>"
      ],
      "text/plain": [
       "   Class1\n",
       "0      96\n",
       "1      83"
      ]
     },
     "execution_count": 71,
     "metadata": {},
     "output_type": "execute_result"
    }
   ],
   "source": [
    "df3 = pd.DataFrame({'Class1': [96, 83]})\n",
    "df3"
   ]
  },
  {
   "cell_type": "markdown",
   "metadata": {},
   "source": [
    "**[11장: 269페이지]**"
   ]
  },
  {
   "cell_type": "code",
   "execution_count": 74,
   "metadata": {},
   "outputs": [
    {
     "data": {
      "text/html": [
       "<div>\n",
       "<style scoped>\n",
       "    .dataframe tbody tr th:only-of-type {\n",
       "        vertical-align: middle;\n",
       "    }\n",
       "\n",
       "    .dataframe tbody tr th {\n",
       "        vertical-align: top;\n",
       "    }\n",
       "\n",
       "    .dataframe thead th {\n",
       "        text-align: right;\n",
       "    }\n",
       "</style>\n",
       "<table border=\"1\" class=\"dataframe\">\n",
       "  <thead>\n",
       "    <tr style=\"text-align: right;\">\n",
       "      <th></th>\n",
       "      <th>Class1</th>\n",
       "      <th>Class2</th>\n",
       "    </tr>\n",
       "  </thead>\n",
       "  <tbody>\n",
       "    <tr>\n",
       "      <th>0</th>\n",
       "      <td>87</td>\n",
       "      <td>85.0</td>\n",
       "    </tr>\n",
       "    <tr>\n",
       "      <th>1</th>\n",
       "      <td>89</td>\n",
       "      <td>90.0</td>\n",
       "    </tr>\n",
       "    <tr>\n",
       "      <th>2</th>\n",
       "      <td>96</td>\n",
       "      <td>NaN</td>\n",
       "    </tr>\n",
       "    <tr>\n",
       "      <th>3</th>\n",
       "      <td>83</td>\n",
       "      <td>NaN</td>\n",
       "    </tr>\n",
       "  </tbody>\n",
       "</table>\n",
       "</div>"
      ],
      "text/plain": [
       "   Class1  Class2\n",
       "0      87    85.0\n",
       "1      89    90.0\n",
       "2      96     NaN\n",
       "3      83     NaN"
      ]
     },
     "execution_count": 74,
     "metadata": {},
     "output_type": "execute_result"
    }
   ],
   "source": [
    "df2.append(df3, ignore_index=True)\n",
    "# 없는 것은 어떻게 되는가? > Null값이 된다. "
   ]
  },
  {
   "cell_type": "code",
   "execution_count": 75,
   "metadata": {},
   "outputs": [],
   "source": [
    "df3 = pd.DataFrame(\n",
    "    {'Class1': [94, 83],\n",
    "     'Class2': [94, 83],\n",
    "     'Class3': [94, 83]\n",
    "    })"
   ]
  },
  {
   "cell_type": "code",
   "execution_count": 76,
   "metadata": {},
   "outputs": [
    {
     "data": {
      "text/html": [
       "<div>\n",
       "<style scoped>\n",
       "    .dataframe tbody tr th:only-of-type {\n",
       "        vertical-align: middle;\n",
       "    }\n",
       "\n",
       "    .dataframe tbody tr th {\n",
       "        vertical-align: top;\n",
       "    }\n",
       "\n",
       "    .dataframe thead th {\n",
       "        text-align: right;\n",
       "    }\n",
       "</style>\n",
       "<table border=\"1\" class=\"dataframe\">\n",
       "  <thead>\n",
       "    <tr style=\"text-align: right;\">\n",
       "      <th></th>\n",
       "      <th>Class1</th>\n",
       "      <th>Class2</th>\n",
       "      <th>Class3</th>\n",
       "    </tr>\n",
       "  </thead>\n",
       "  <tbody>\n",
       "    <tr>\n",
       "      <th>0</th>\n",
       "      <td>87</td>\n",
       "      <td>85</td>\n",
       "      <td>NaN</td>\n",
       "    </tr>\n",
       "    <tr>\n",
       "      <th>1</th>\n",
       "      <td>89</td>\n",
       "      <td>90</td>\n",
       "      <td>NaN</td>\n",
       "    </tr>\n",
       "    <tr>\n",
       "      <th>2</th>\n",
       "      <td>94</td>\n",
       "      <td>94</td>\n",
       "      <td>94.0</td>\n",
       "    </tr>\n",
       "    <tr>\n",
       "      <th>3</th>\n",
       "      <td>83</td>\n",
       "      <td>83</td>\n",
       "      <td>83.0</td>\n",
       "    </tr>\n",
       "  </tbody>\n",
       "</table>\n",
       "</div>"
      ],
      "text/plain": [
       "   Class1  Class2  Class3\n",
       "0      87      85     NaN\n",
       "1      89      90     NaN\n",
       "2      94      94    94.0\n",
       "3      83      83    83.0"
      ]
     },
     "execution_count": 76,
     "metadata": {},
     "output_type": "execute_result"
    }
   ],
   "source": [
    "df2.append(df3, ignore_index=True)"
   ]
  },
  {
   "cell_type": "markdown",
   "metadata": {
    "nbpresent": {
     "id": "324f8ab4-47a7-47bb-809f-1086cf588822"
    }
   },
   "source": [
    "#### 가로 방향으로 통합하기"
   ]
  },
  {
   "cell_type": "markdown",
   "metadata": {},
   "source": [
    "**[11장: 269페이지]**"
   ]
  },
  {
   "cell_type": "code",
   "execution_count": 73,
   "metadata": {
    "nbpresent": {
     "id": "4f802045-1112-4c7f-b15c-50505922a612"
    },
    "scrolled": true
   },
   "outputs": [
    {
     "data": {
      "text/html": [
       "<div>\n",
       "<style scoped>\n",
       "    .dataframe tbody tr th:only-of-type {\n",
       "        vertical-align: middle;\n",
       "    }\n",
       "\n",
       "    .dataframe tbody tr th {\n",
       "        vertical-align: top;\n",
       "    }\n",
       "\n",
       "    .dataframe thead th {\n",
       "        text-align: right;\n",
       "    }\n",
       "</style>\n",
       "<table border=\"1\" class=\"dataframe\">\n",
       "  <thead>\n",
       "    <tr style=\"text-align: right;\">\n",
       "      <th></th>\n",
       "      <th>Class3</th>\n",
       "    </tr>\n",
       "  </thead>\n",
       "  <tbody>\n",
       "    <tr>\n",
       "      <th>0</th>\n",
       "      <td>93</td>\n",
       "    </tr>\n",
       "    <tr>\n",
       "      <th>1</th>\n",
       "      <td>91</td>\n",
       "    </tr>\n",
       "    <tr>\n",
       "      <th>2</th>\n",
       "      <td>95</td>\n",
       "    </tr>\n",
       "    <tr>\n",
       "      <th>3</th>\n",
       "      <td>98</td>\n",
       "    </tr>\n",
       "  </tbody>\n",
       "</table>\n",
       "</div>"
      ],
      "text/plain": [
       "   Class3\n",
       "0      93\n",
       "1      91\n",
       "2      95\n",
       "3      98"
      ]
     },
     "execution_count": 73,
     "metadata": {},
     "output_type": "execute_result"
    }
   ],
   "source": [
    "df4 = pd.DataFrame({'Class3': [93, 91, 95, 98]})\n",
    "df4"
   ]
  },
  {
   "cell_type": "markdown",
   "metadata": {},
   "source": [
    "**[11장: 270페이지]**"
   ]
  },
  {
   "cell_type": "code",
   "execution_count": 78,
   "metadata": {},
   "outputs": [
    {
     "data": {
      "text/html": [
       "<div>\n",
       "<style scoped>\n",
       "    .dataframe tbody tr th:only-of-type {\n",
       "        vertical-align: middle;\n",
       "    }\n",
       "\n",
       "    .dataframe tbody tr th {\n",
       "        vertical-align: top;\n",
       "    }\n",
       "\n",
       "    .dataframe thead th {\n",
       "        text-align: right;\n",
       "    }\n",
       "</style>\n",
       "<table border=\"1\" class=\"dataframe\">\n",
       "  <thead>\n",
       "    <tr style=\"text-align: right;\">\n",
       "      <th></th>\n",
       "      <th>Class1</th>\n",
       "      <th>Class2</th>\n",
       "    </tr>\n",
       "  </thead>\n",
       "  <tbody>\n",
       "    <tr>\n",
       "      <th>0</th>\n",
       "      <td>95</td>\n",
       "      <td>91</td>\n",
       "    </tr>\n",
       "    <tr>\n",
       "      <th>1</th>\n",
       "      <td>92</td>\n",
       "      <td>93</td>\n",
       "    </tr>\n",
       "    <tr>\n",
       "      <th>2</th>\n",
       "      <td>98</td>\n",
       "      <td>97</td>\n",
       "    </tr>\n",
       "    <tr>\n",
       "      <th>3</th>\n",
       "      <td>100</td>\n",
       "      <td>99</td>\n",
       "    </tr>\n",
       "  </tbody>\n",
       "</table>\n",
       "</div>"
      ],
      "text/plain": [
       "   Class1  Class2\n",
       "0      95      91\n",
       "1      92      93\n",
       "2      98      97\n",
       "3     100      99"
      ]
     },
     "execution_count": 78,
     "metadata": {},
     "output_type": "execute_result"
    }
   ],
   "source": [
    "df1"
   ]
  },
  {
   "cell_type": "code",
   "execution_count": 79,
   "metadata": {
    "nbpresent": {
     "id": "16504a79-f399-44ff-ad96-31d5794a5e01"
    },
    "scrolled": true
   },
   "outputs": [
    {
     "data": {
      "text/html": [
       "<div>\n",
       "<style scoped>\n",
       "    .dataframe tbody tr th:only-of-type {\n",
       "        vertical-align: middle;\n",
       "    }\n",
       "\n",
       "    .dataframe tbody tr th {\n",
       "        vertical-align: top;\n",
       "    }\n",
       "\n",
       "    .dataframe thead th {\n",
       "        text-align: right;\n",
       "    }\n",
       "</style>\n",
       "<table border=\"1\" class=\"dataframe\">\n",
       "  <thead>\n",
       "    <tr style=\"text-align: right;\">\n",
       "      <th></th>\n",
       "      <th>Class1</th>\n",
       "      <th>Class2</th>\n",
       "      <th>Class3</th>\n",
       "    </tr>\n",
       "  </thead>\n",
       "  <tbody>\n",
       "    <tr>\n",
       "      <th>0</th>\n",
       "      <td>95</td>\n",
       "      <td>91</td>\n",
       "      <td>93</td>\n",
       "    </tr>\n",
       "    <tr>\n",
       "      <th>1</th>\n",
       "      <td>92</td>\n",
       "      <td>93</td>\n",
       "      <td>91</td>\n",
       "    </tr>\n",
       "    <tr>\n",
       "      <th>2</th>\n",
       "      <td>98</td>\n",
       "      <td>97</td>\n",
       "      <td>95</td>\n",
       "    </tr>\n",
       "    <tr>\n",
       "      <th>3</th>\n",
       "      <td>100</td>\n",
       "      <td>99</td>\n",
       "      <td>98</td>\n",
       "    </tr>\n",
       "  </tbody>\n",
       "</table>\n",
       "</div>"
      ],
      "text/plain": [
       "   Class1  Class2  Class3\n",
       "0      95      91      93\n",
       "1      92      93      91\n",
       "2      98      97      95\n",
       "3     100      99      98"
      ]
     },
     "execution_count": 79,
     "metadata": {},
     "output_type": "execute_result"
    }
   ],
   "source": [
    "df1.join(df4)\n",
    "# 가로 방향으로 통합된다."
   ]
  },
  {
   "cell_type": "code",
   "execution_count": 80,
   "metadata": {
    "scrolled": true
   },
   "outputs": [
    {
     "data": {
      "text/html": [
       "<div>\n",
       "<style scoped>\n",
       "    .dataframe tbody tr th:only-of-type {\n",
       "        vertical-align: middle;\n",
       "    }\n",
       "\n",
       "    .dataframe tbody tr th {\n",
       "        vertical-align: top;\n",
       "    }\n",
       "\n",
       "    .dataframe thead th {\n",
       "        text-align: right;\n",
       "    }\n",
       "</style>\n",
       "<table border=\"1\" class=\"dataframe\">\n",
       "  <thead>\n",
       "    <tr style=\"text-align: right;\">\n",
       "      <th></th>\n",
       "      <th>Class4</th>\n",
       "    </tr>\n",
       "  </thead>\n",
       "  <tbody>\n",
       "    <tr>\n",
       "      <th>0</th>\n",
       "      <td>94</td>\n",
       "    </tr>\n",
       "    <tr>\n",
       "      <th>1</th>\n",
       "      <td>83</td>\n",
       "    </tr>\n",
       "    <tr>\n",
       "      <th>2</th>\n",
       "      <td>77</td>\n",
       "    </tr>\n",
       "    <tr>\n",
       "      <th>3</th>\n",
       "      <td>98</td>\n",
       "    </tr>\n",
       "  </tbody>\n",
       "</table>\n",
       "</div>"
      ],
      "text/plain": [
       "   Class4\n",
       "0      94\n",
       "1      83\n",
       "2      77\n",
       "3      98"
      ]
     },
     "execution_count": 80,
     "metadata": {},
     "output_type": "execute_result"
    }
   ],
   "source": [
    "df5 = pd.DataFrame({\n",
    "    'Class4': [94, 83, 77, 98],\n",
    "})\n",
    "df5"
   ]
  },
  {
   "cell_type": "code",
   "execution_count": 81,
   "metadata": {
    "scrolled": false
   },
   "outputs": [
    {
     "data": {
      "text/html": [
       "<div>\n",
       "<style scoped>\n",
       "    .dataframe tbody tr th:only-of-type {\n",
       "        vertical-align: middle;\n",
       "    }\n",
       "\n",
       "    .dataframe tbody tr th {\n",
       "        vertical-align: top;\n",
       "    }\n",
       "\n",
       "    .dataframe thead th {\n",
       "        text-align: right;\n",
       "    }\n",
       "</style>\n",
       "<table border=\"1\" class=\"dataframe\">\n",
       "  <thead>\n",
       "    <tr style=\"text-align: right;\">\n",
       "      <th></th>\n",
       "      <th>Class1</th>\n",
       "      <th>Class2</th>\n",
       "      <th>Class4</th>\n",
       "    </tr>\n",
       "  </thead>\n",
       "  <tbody>\n",
       "    <tr>\n",
       "      <th>0</th>\n",
       "      <td>95</td>\n",
       "      <td>91</td>\n",
       "      <td>94</td>\n",
       "    </tr>\n",
       "    <tr>\n",
       "      <th>1</th>\n",
       "      <td>92</td>\n",
       "      <td>93</td>\n",
       "      <td>83</td>\n",
       "    </tr>\n",
       "    <tr>\n",
       "      <th>2</th>\n",
       "      <td>98</td>\n",
       "      <td>97</td>\n",
       "      <td>77</td>\n",
       "    </tr>\n",
       "    <tr>\n",
       "      <th>3</th>\n",
       "      <td>100</td>\n",
       "      <td>99</td>\n",
       "      <td>98</td>\n",
       "    </tr>\n",
       "  </tbody>\n",
       "</table>\n",
       "</div>"
      ],
      "text/plain": [
       "   Class1  Class2  Class4\n",
       "0      95      91      94\n",
       "1      92      93      83\n",
       "2      98      97      77\n",
       "3     100      99      98"
      ]
     },
     "execution_count": 81,
     "metadata": {},
     "output_type": "execute_result"
    }
   ],
   "source": [
    "df1.join(df5)"
   ]
  },
  {
   "cell_type": "code",
   "execution_count": 108,
   "metadata": {
    "scrolled": true
   },
   "outputs": [
    {
     "data": {
      "text/html": [
       "<div>\n",
       "<style scoped>\n",
       "    .dataframe tbody tr th:only-of-type {\n",
       "        vertical-align: middle;\n",
       "    }\n",
       "\n",
       "    .dataframe tbody tr th {\n",
       "        vertical-align: top;\n",
       "    }\n",
       "\n",
       "    .dataframe thead th {\n",
       "        text-align: right;\n",
       "    }\n",
       "</style>\n",
       "<table border=\"1\" class=\"dataframe\">\n",
       "  <thead>\n",
       "    <tr style=\"text-align: right;\">\n",
       "      <th></th>\n",
       "      <th>Class1</th>\n",
       "      <th>Class2</th>\n",
       "      <th>Class3</th>\n",
       "      <th>Class4</th>\n",
       "    </tr>\n",
       "  </thead>\n",
       "  <tbody>\n",
       "    <tr>\n",
       "      <th>0</th>\n",
       "      <td>80</td>\n",
       "      <td>90</td>\n",
       "      <td>80</td>\n",
       "      <td>70.0</td>\n",
       "    </tr>\n",
       "    <tr>\n",
       "      <th>1</th>\n",
       "      <td>95</td>\n",
       "      <td>98</td>\n",
       "      <td>20</td>\n",
       "      <td>20.0</td>\n",
       "    </tr>\n",
       "    <tr>\n",
       "      <th>2</th>\n",
       "      <td>65</td>\n",
       "      <td>97</td>\n",
       "      <td>65</td>\n",
       "      <td>65.0</td>\n",
       "    </tr>\n",
       "    <tr>\n",
       "      <th>3</th>\n",
       "      <td>77</td>\n",
       "      <td>99</td>\n",
       "      <td>70</td>\n",
       "      <td>80.0</td>\n",
       "    </tr>\n",
       "    <tr>\n",
       "      <th>0</th>\n",
       "      <td>80</td>\n",
       "      <td>50</td>\n",
       "      <td>25</td>\n",
       "      <td>NaN</td>\n",
       "    </tr>\n",
       "  </tbody>\n",
       "</table>\n",
       "</div>"
      ],
      "text/plain": [
       "   Class1  Class2  Class3  Class4\n",
       "0      80      90      80    70.0\n",
       "1      95      98      20    20.0\n",
       "2      65      97      65    65.0\n",
       "3      77      99      70    80.0\n",
       "0      80      50      25     NaN"
      ]
     },
     "execution_count": 108,
     "metadata": {},
     "output_type": "execute_result"
    }
   ],
   "source": [
    "# join이라는 함수\n",
    "# append를 쓰면 된다.\n",
    "\n",
    "df2 = pd.DataFrame({\n",
    "    'Class1': [80,95,65,77],\n",
    "    'Class2': [90,98,97,99]\n",
    "})\n",
    "\n",
    "# 1. join\n",
    "df = pd.DataFrame({\n",
    "    'Class3': [80,20,65,70]\n",
    "})\n",
    "df2 = df2.join(df)\n",
    "df = pd.DataFrame({\n",
    "    'Class4': [70,20,65,80]\n",
    "})\n",
    "df2 = df2.join(df)\n",
    "\n",
    "# 2. append\n",
    "df = pd.DataFrame({'Class1': [80],\n",
    "                  'Class2': [50],\n",
    "                  'Class3': [25]})\n",
    "df2.append(df)\n",
    "\n",
    "\n"
   ]
  },
  {
   "cell_type": "code",
   "execution_count": 111,
   "metadata": {},
   "outputs": [],
   "source": [
    "# df2.join(df, how='outer')\n",
    "# outer join도 역시 가능"
   ]
  },
  {
   "cell_type": "code",
   "execution_count": 116,
   "metadata": {},
   "outputs": [
    {
     "data": {
      "text/html": [
       "<div>\n",
       "<style scoped>\n",
       "    .dataframe tbody tr th:only-of-type {\n",
       "        vertical-align: middle;\n",
       "    }\n",
       "\n",
       "    .dataframe tbody tr th {\n",
       "        vertical-align: top;\n",
       "    }\n",
       "\n",
       "    .dataframe thead th {\n",
       "        text-align: right;\n",
       "    }\n",
       "</style>\n",
       "<table border=\"1\" class=\"dataframe\">\n",
       "  <thead>\n",
       "    <tr style=\"text-align: right;\">\n",
       "      <th></th>\n",
       "      <th>Class1</th>\n",
       "      <th>Class2</th>\n",
       "      <th>Class3</th>\n",
       "    </tr>\n",
       "  </thead>\n",
       "  <tbody>\n",
       "    <tr>\n",
       "      <th>a</th>\n",
       "      <td>95</td>\n",
       "      <td>88</td>\n",
       "      <td>91</td>\n",
       "    </tr>\n",
       "    <tr>\n",
       "      <th>b</th>\n",
       "      <td>92</td>\n",
       "      <td>98</td>\n",
       "      <td>93</td>\n",
       "    </tr>\n",
       "    <tr>\n",
       "      <th>c</th>\n",
       "      <td>98</td>\n",
       "      <td>65</td>\n",
       "      <td>97</td>\n",
       "    </tr>\n",
       "    <tr>\n",
       "      <th>d</th>\n",
       "      <td>100</td>\n",
       "      <td>10</td>\n",
       "      <td>99</td>\n",
       "    </tr>\n",
       "  </tbody>\n",
       "</table>\n",
       "</div>"
      ],
      "text/plain": [
       "   Class1  Class2  Class3\n",
       "a      95      88      91\n",
       "b      92      98      93\n",
       "c      98      65      97\n",
       "d     100      10      99"
      ]
     },
     "execution_count": 116,
     "metadata": {},
     "output_type": "execute_result"
    }
   ],
   "source": [
    "index_label = ['a','b','c','d']\n",
    "df1a = pd.DataFrame({'Class1': [95,92,98,100],\n",
    "                     'Class2': [88,98,65,10]}, index = index_label)\n",
    "df1b = pd.DataFrame({'Class3': [91,93,97,99]}, index=index_label)\n",
    "\n",
    "df1a.join(df1b)"
   ]
  },
  {
   "cell_type": "markdown",
   "metadata": {},
   "source": [
    "**[11장: 270페이지]**"
   ]
  },
  {
   "cell_type": "code",
   "execution_count": null,
   "metadata": {},
   "outputs": [],
   "source": [
    "index_label = ['a','b','c','d']\n",
    "df1a = pd.DataFrame({'Class1': [95, 92, 98, 100],\n",
    "                    'Class2': [91, 93, 97, 99]}, index= index_label)\n",
    "df4a = pd.DataFrame({'Class3': [93, 91, 95, 98]}, index=index_label)\n",
    "\n",
    "df1a.join(df4a)"
   ]
  },
  {
   "cell_type": "markdown",
   "metadata": {},
   "source": [
    "**[11장: 270페이지]**"
   ]
  },
  {
   "cell_type": "code",
   "execution_count": null,
   "metadata": {},
   "outputs": [],
   "source": [
    "df5 = pd.DataFrame({'Class4': [82, 92]})\n",
    "df5"
   ]
  },
  {
   "cell_type": "markdown",
   "metadata": {},
   "source": [
    "**[11장: 271페이지]**"
   ]
  },
  {
   "cell_type": "code",
   "execution_count": null,
   "metadata": {},
   "outputs": [],
   "source": [
    "df1.join(df5)"
   ]
  },
  {
   "cell_type": "markdown",
   "metadata": {
    "nbpresent": {
     "id": "fa50d4c7-be82-44ce-9b8f-58da1fbd29da"
    }
   },
   "source": [
    "#### 특정 열을 기준으로 통합하기"
   ]
  },
  {
   "cell_type": "markdown",
   "metadata": {},
   "source": [
    "**[11장: 271 ~272페이지]**"
   ]
  },
  {
   "cell_type": "code",
   "execution_count": 117,
   "metadata": {
    "nbpresent": {
     "id": "5daf2b81-614a-444e-b0ec-00d8a5ec0679"
    }
   },
   "outputs": [
    {
     "data": {
      "text/html": [
       "<div>\n",
       "<style scoped>\n",
       "    .dataframe tbody tr th:only-of-type {\n",
       "        vertical-align: middle;\n",
       "    }\n",
       "\n",
       "    .dataframe tbody tr th {\n",
       "        vertical-align: top;\n",
       "    }\n",
       "\n",
       "    .dataframe thead th {\n",
       "        text-align: right;\n",
       "    }\n",
       "</style>\n",
       "<table border=\"1\" class=\"dataframe\">\n",
       "  <thead>\n",
       "    <tr style=\"text-align: right;\">\n",
       "      <th></th>\n",
       "      <th>판매월</th>\n",
       "      <th>제품A</th>\n",
       "      <th>제품B</th>\n",
       "    </tr>\n",
       "  </thead>\n",
       "  <tbody>\n",
       "    <tr>\n",
       "      <th>0</th>\n",
       "      <td>1월</td>\n",
       "      <td>100</td>\n",
       "      <td>90</td>\n",
       "    </tr>\n",
       "    <tr>\n",
       "      <th>1</th>\n",
       "      <td>2월</td>\n",
       "      <td>150</td>\n",
       "      <td>110</td>\n",
       "    </tr>\n",
       "    <tr>\n",
       "      <th>2</th>\n",
       "      <td>3월</td>\n",
       "      <td>200</td>\n",
       "      <td>140</td>\n",
       "    </tr>\n",
       "    <tr>\n",
       "      <th>3</th>\n",
       "      <td>4월</td>\n",
       "      <td>130</td>\n",
       "      <td>170</td>\n",
       "    </tr>\n",
       "  </tbody>\n",
       "</table>\n",
       "</div>"
      ],
      "text/plain": [
       "  판매월  제품A  제품B\n",
       "0  1월  100   90\n",
       "1  2월  150  110\n",
       "2  3월  200  140\n",
       "3  4월  130  170"
      ]
     },
     "execution_count": 117,
     "metadata": {},
     "output_type": "execute_result"
    }
   ],
   "source": [
    "df_A_B = pd.DataFrame({'판매월': ['1월', '2월', '3월', '4월'],\n",
    "                       '제품A': [100, 150, 200, 130],\n",
    "                       '제품B': [90, 110, 140, 170]})\n",
    "df_A_B"
   ]
  },
  {
   "cell_type": "code",
   "execution_count": 118,
   "metadata": {},
   "outputs": [
    {
     "data": {
      "text/html": [
       "<div>\n",
       "<style scoped>\n",
       "    .dataframe tbody tr th:only-of-type {\n",
       "        vertical-align: middle;\n",
       "    }\n",
       "\n",
       "    .dataframe tbody tr th {\n",
       "        vertical-align: top;\n",
       "    }\n",
       "\n",
       "    .dataframe thead th {\n",
       "        text-align: right;\n",
       "    }\n",
       "</style>\n",
       "<table border=\"1\" class=\"dataframe\">\n",
       "  <thead>\n",
       "    <tr style=\"text-align: right;\">\n",
       "      <th></th>\n",
       "      <th>판매월</th>\n",
       "      <th>제품C</th>\n",
       "      <th>제품D</th>\n",
       "    </tr>\n",
       "  </thead>\n",
       "  <tbody>\n",
       "    <tr>\n",
       "      <th>0</th>\n",
       "      <td>1월</td>\n",
       "      <td>112</td>\n",
       "      <td>90</td>\n",
       "    </tr>\n",
       "    <tr>\n",
       "      <th>1</th>\n",
       "      <td>2월</td>\n",
       "      <td>141</td>\n",
       "      <td>110</td>\n",
       "    </tr>\n",
       "    <tr>\n",
       "      <th>2</th>\n",
       "      <td>3월</td>\n",
       "      <td>203</td>\n",
       "      <td>140</td>\n",
       "    </tr>\n",
       "    <tr>\n",
       "      <th>3</th>\n",
       "      <td>4월</td>\n",
       "      <td>134</td>\n",
       "      <td>170</td>\n",
       "    </tr>\n",
       "  </tbody>\n",
       "</table>\n",
       "</div>"
      ],
      "text/plain": [
       "  판매월  제품C  제품D\n",
       "0  1월  112   90\n",
       "1  2월  141  110\n",
       "2  3월  203  140\n",
       "3  4월  134  170"
      ]
     },
     "execution_count": 118,
     "metadata": {},
     "output_type": "execute_result"
    }
   ],
   "source": [
    "df_C_D = pd.DataFrame({'판매월': ['1월', '2월', '3월', '4월'],\n",
    "                       '제품C': [112, 141, 203, 134],\n",
    "                       '제품D': [90, 110, 140, 170]})\n",
    "df_C_D"
   ]
  },
  {
   "cell_type": "markdown",
   "metadata": {
    "nbpresent": {
     "id": "1bf2fcbc-20da-452c-a706-3a2a207f76fe"
    }
   },
   "source": [
    "**[11장: 272페이지]**"
   ]
  },
  {
   "cell_type": "code",
   "execution_count": 119,
   "metadata": {
    "nbpresent": {
     "id": "43dbb77b-728c-453d-8809-7c5c1da3218e"
    }
   },
   "outputs": [
    {
     "data": {
      "text/html": [
       "<div>\n",
       "<style scoped>\n",
       "    .dataframe tbody tr th:only-of-type {\n",
       "        vertical-align: middle;\n",
       "    }\n",
       "\n",
       "    .dataframe tbody tr th {\n",
       "        vertical-align: top;\n",
       "    }\n",
       "\n",
       "    .dataframe thead th {\n",
       "        text-align: right;\n",
       "    }\n",
       "</style>\n",
       "<table border=\"1\" class=\"dataframe\">\n",
       "  <thead>\n",
       "    <tr style=\"text-align: right;\">\n",
       "      <th></th>\n",
       "      <th>판매월</th>\n",
       "      <th>제품A</th>\n",
       "      <th>제품B</th>\n",
       "      <th>제품C</th>\n",
       "      <th>제품D</th>\n",
       "    </tr>\n",
       "  </thead>\n",
       "  <tbody>\n",
       "    <tr>\n",
       "      <th>0</th>\n",
       "      <td>1월</td>\n",
       "      <td>100</td>\n",
       "      <td>90</td>\n",
       "      <td>112</td>\n",
       "      <td>90</td>\n",
       "    </tr>\n",
       "    <tr>\n",
       "      <th>1</th>\n",
       "      <td>2월</td>\n",
       "      <td>150</td>\n",
       "      <td>110</td>\n",
       "      <td>141</td>\n",
       "      <td>110</td>\n",
       "    </tr>\n",
       "    <tr>\n",
       "      <th>2</th>\n",
       "      <td>3월</td>\n",
       "      <td>200</td>\n",
       "      <td>140</td>\n",
       "      <td>203</td>\n",
       "      <td>140</td>\n",
       "    </tr>\n",
       "    <tr>\n",
       "      <th>3</th>\n",
       "      <td>4월</td>\n",
       "      <td>130</td>\n",
       "      <td>170</td>\n",
       "      <td>134</td>\n",
       "      <td>170</td>\n",
       "    </tr>\n",
       "  </tbody>\n",
       "</table>\n",
       "</div>"
      ],
      "text/plain": [
       "  판매월  제품A  제품B  제품C  제품D\n",
       "0  1월  100   90  112   90\n",
       "1  2월  150  110  141  110\n",
       "2  3월  200  140  203  140\n",
       "3  4월  130  170  134  170"
      ]
     },
     "execution_count": 119,
     "metadata": {},
     "output_type": "execute_result"
    }
   ],
   "source": [
    "df_A_B.merge(df_C_D)"
   ]
  },
  {
   "cell_type": "markdown",
   "metadata": {
    "nbpresent": {
     "id": "8f6bd287-795c-414f-ac90-e22e4e76fe5a"
    }
   },
   "source": [
    "**[11장: 273페이지]**"
   ]
  },
  {
   "cell_type": "code",
   "execution_count": 122,
   "metadata": {},
   "outputs": [
    {
     "data": {
      "text/html": [
       "<div>\n",
       "<style scoped>\n",
       "    .dataframe tbody tr th:only-of-type {\n",
       "        vertical-align: middle;\n",
       "    }\n",
       "\n",
       "    .dataframe tbody tr th {\n",
       "        vertical-align: top;\n",
       "    }\n",
       "\n",
       "    .dataframe thead th {\n",
       "        text-align: right;\n",
       "    }\n",
       "</style>\n",
       "<table border=\"1\" class=\"dataframe\">\n",
       "  <thead>\n",
       "    <tr style=\"text-align: right;\">\n",
       "      <th></th>\n",
       "      <th>key</th>\n",
       "      <th>left</th>\n",
       "    </tr>\n",
       "  </thead>\n",
       "  <tbody>\n",
       "    <tr>\n",
       "      <th>0</th>\n",
       "      <td>A</td>\n",
       "      <td>1</td>\n",
       "    </tr>\n",
       "    <tr>\n",
       "      <th>1</th>\n",
       "      <td>B</td>\n",
       "      <td>2</td>\n",
       "    </tr>\n",
       "    <tr>\n",
       "      <th>2</th>\n",
       "      <td>C</td>\n",
       "      <td>3</td>\n",
       "    </tr>\n",
       "  </tbody>\n",
       "</table>\n",
       "</div>"
      ],
      "text/plain": [
       "  key  left\n",
       "0   A     1\n",
       "1   B     2\n",
       "2   C     3"
      ]
     },
     "execution_count": 122,
     "metadata": {},
     "output_type": "execute_result"
    }
   ],
   "source": [
    "df_left = pd.DataFrame({'key':['A','B','C'], 'left': [1, 2, 3]})\n",
    "df_left\n",
    "# key가 ABC"
   ]
  },
  {
   "cell_type": "code",
   "execution_count": 123,
   "metadata": {},
   "outputs": [
    {
     "data": {
      "text/html": [
       "<div>\n",
       "<style scoped>\n",
       "    .dataframe tbody tr th:only-of-type {\n",
       "        vertical-align: middle;\n",
       "    }\n",
       "\n",
       "    .dataframe tbody tr th {\n",
       "        vertical-align: top;\n",
       "    }\n",
       "\n",
       "    .dataframe thead th {\n",
       "        text-align: right;\n",
       "    }\n",
       "</style>\n",
       "<table border=\"1\" class=\"dataframe\">\n",
       "  <thead>\n",
       "    <tr style=\"text-align: right;\">\n",
       "      <th></th>\n",
       "      <th>key</th>\n",
       "      <th>right</th>\n",
       "    </tr>\n",
       "  </thead>\n",
       "  <tbody>\n",
       "    <tr>\n",
       "      <th>0</th>\n",
       "      <td>A</td>\n",
       "      <td>4</td>\n",
       "    </tr>\n",
       "    <tr>\n",
       "      <th>1</th>\n",
       "      <td>B</td>\n",
       "      <td>5</td>\n",
       "    </tr>\n",
       "    <tr>\n",
       "      <th>2</th>\n",
       "      <td>D</td>\n",
       "      <td>6</td>\n",
       "    </tr>\n",
       "  </tbody>\n",
       "</table>\n",
       "</div>"
      ],
      "text/plain": [
       "  key  right\n",
       "0   A      4\n",
       "1   B      5\n",
       "2   D      6"
      ]
     },
     "execution_count": 123,
     "metadata": {},
     "output_type": "execute_result"
    }
   ],
   "source": [
    "df_right = pd.DataFrame({'key':['A','B','D'], 'right': [4, 5, 6]})\n",
    "df_right\n",
    "# key가 ABD"
   ]
  },
  {
   "cell_type": "markdown",
   "metadata": {},
   "source": [
    "**[11장: 274페이지]**"
   ]
  },
  {
   "cell_type": "code",
   "execution_count": 124,
   "metadata": {},
   "outputs": [
    {
     "data": {
      "text/html": [
       "<div>\n",
       "<style scoped>\n",
       "    .dataframe tbody tr th:only-of-type {\n",
       "        vertical-align: middle;\n",
       "    }\n",
       "\n",
       "    .dataframe tbody tr th {\n",
       "        vertical-align: top;\n",
       "    }\n",
       "\n",
       "    .dataframe thead th {\n",
       "        text-align: right;\n",
       "    }\n",
       "</style>\n",
       "<table border=\"1\" class=\"dataframe\">\n",
       "  <thead>\n",
       "    <tr style=\"text-align: right;\">\n",
       "      <th></th>\n",
       "      <th>key</th>\n",
       "      <th>left</th>\n",
       "      <th>right</th>\n",
       "    </tr>\n",
       "  </thead>\n",
       "  <tbody>\n",
       "    <tr>\n",
       "      <th>0</th>\n",
       "      <td>A</td>\n",
       "      <td>1</td>\n",
       "      <td>4.0</td>\n",
       "    </tr>\n",
       "    <tr>\n",
       "      <th>1</th>\n",
       "      <td>B</td>\n",
       "      <td>2</td>\n",
       "      <td>5.0</td>\n",
       "    </tr>\n",
       "    <tr>\n",
       "      <th>2</th>\n",
       "      <td>C</td>\n",
       "      <td>3</td>\n",
       "      <td>NaN</td>\n",
       "    </tr>\n",
       "  </tbody>\n",
       "</table>\n",
       "</div>"
      ],
      "text/plain": [
       "  key  left  right\n",
       "0   A     1    4.0\n",
       "1   B     2    5.0\n",
       "2   C     3    NaN"
      ]
     },
     "execution_count": 124,
     "metadata": {},
     "output_type": "execute_result"
    }
   ],
   "source": [
    "df_left.merge(df_right, how='left', on = 'key')"
   ]
  },
  {
   "cell_type": "code",
   "execution_count": 125,
   "metadata": {},
   "outputs": [
    {
     "data": {
      "text/html": [
       "<div>\n",
       "<style scoped>\n",
       "    .dataframe tbody tr th:only-of-type {\n",
       "        vertical-align: middle;\n",
       "    }\n",
       "\n",
       "    .dataframe tbody tr th {\n",
       "        vertical-align: top;\n",
       "    }\n",
       "\n",
       "    .dataframe thead th {\n",
       "        text-align: right;\n",
       "    }\n",
       "</style>\n",
       "<table border=\"1\" class=\"dataframe\">\n",
       "  <thead>\n",
       "    <tr style=\"text-align: right;\">\n",
       "      <th></th>\n",
       "      <th>key</th>\n",
       "      <th>left</th>\n",
       "      <th>right</th>\n",
       "    </tr>\n",
       "  </thead>\n",
       "  <tbody>\n",
       "    <tr>\n",
       "      <th>0</th>\n",
       "      <td>A</td>\n",
       "      <td>1.0</td>\n",
       "      <td>4</td>\n",
       "    </tr>\n",
       "    <tr>\n",
       "      <th>1</th>\n",
       "      <td>B</td>\n",
       "      <td>2.0</td>\n",
       "      <td>5</td>\n",
       "    </tr>\n",
       "    <tr>\n",
       "      <th>2</th>\n",
       "      <td>D</td>\n",
       "      <td>NaN</td>\n",
       "      <td>6</td>\n",
       "    </tr>\n",
       "  </tbody>\n",
       "</table>\n",
       "</div>"
      ],
      "text/plain": [
       "  key  left  right\n",
       "0   A   1.0      4\n",
       "1   B   2.0      5\n",
       "2   D   NaN      6"
      ]
     },
     "execution_count": 125,
     "metadata": {},
     "output_type": "execute_result"
    }
   ],
   "source": [
    "df_left.merge(df_right, how='right', on = 'key')"
   ]
  },
  {
   "cell_type": "code",
   "execution_count": 126,
   "metadata": {},
   "outputs": [
    {
     "data": {
      "text/html": [
       "<div>\n",
       "<style scoped>\n",
       "    .dataframe tbody tr th:only-of-type {\n",
       "        vertical-align: middle;\n",
       "    }\n",
       "\n",
       "    .dataframe tbody tr th {\n",
       "        vertical-align: top;\n",
       "    }\n",
       "\n",
       "    .dataframe thead th {\n",
       "        text-align: right;\n",
       "    }\n",
       "</style>\n",
       "<table border=\"1\" class=\"dataframe\">\n",
       "  <thead>\n",
       "    <tr style=\"text-align: right;\">\n",
       "      <th></th>\n",
       "      <th>key</th>\n",
       "      <th>left</th>\n",
       "      <th>right</th>\n",
       "    </tr>\n",
       "  </thead>\n",
       "  <tbody>\n",
       "    <tr>\n",
       "      <th>0</th>\n",
       "      <td>A</td>\n",
       "      <td>1.0</td>\n",
       "      <td>4.0</td>\n",
       "    </tr>\n",
       "    <tr>\n",
       "      <th>1</th>\n",
       "      <td>B</td>\n",
       "      <td>2.0</td>\n",
       "      <td>5.0</td>\n",
       "    </tr>\n",
       "    <tr>\n",
       "      <th>2</th>\n",
       "      <td>C</td>\n",
       "      <td>3.0</td>\n",
       "      <td>NaN</td>\n",
       "    </tr>\n",
       "    <tr>\n",
       "      <th>3</th>\n",
       "      <td>D</td>\n",
       "      <td>NaN</td>\n",
       "      <td>6.0</td>\n",
       "    </tr>\n",
       "  </tbody>\n",
       "</table>\n",
       "</div>"
      ],
      "text/plain": [
       "  key  left  right\n",
       "0   A   1.0    4.0\n",
       "1   B   2.0    5.0\n",
       "2   C   3.0    NaN\n",
       "3   D   NaN    6.0"
      ]
     },
     "execution_count": 126,
     "metadata": {},
     "output_type": "execute_result"
    }
   ],
   "source": [
    "df_left.merge(df_right, how='outer', on = 'key')"
   ]
  },
  {
   "cell_type": "code",
   "execution_count": 127,
   "metadata": {
    "scrolled": true
   },
   "outputs": [
    {
     "data": {
      "text/html": [
       "<div>\n",
       "<style scoped>\n",
       "    .dataframe tbody tr th:only-of-type {\n",
       "        vertical-align: middle;\n",
       "    }\n",
       "\n",
       "    .dataframe tbody tr th {\n",
       "        vertical-align: top;\n",
       "    }\n",
       "\n",
       "    .dataframe thead th {\n",
       "        text-align: right;\n",
       "    }\n",
       "</style>\n",
       "<table border=\"1\" class=\"dataframe\">\n",
       "  <thead>\n",
       "    <tr style=\"text-align: right;\">\n",
       "      <th></th>\n",
       "      <th>key</th>\n",
       "      <th>left</th>\n",
       "      <th>right</th>\n",
       "    </tr>\n",
       "  </thead>\n",
       "  <tbody>\n",
       "    <tr>\n",
       "      <th>0</th>\n",
       "      <td>A</td>\n",
       "      <td>1</td>\n",
       "      <td>4</td>\n",
       "    </tr>\n",
       "    <tr>\n",
       "      <th>1</th>\n",
       "      <td>B</td>\n",
       "      <td>2</td>\n",
       "      <td>5</td>\n",
       "    </tr>\n",
       "  </tbody>\n",
       "</table>\n",
       "</div>"
      ],
      "text/plain": [
       "  key  left  right\n",
       "0   A     1      4\n",
       "1   B     2      5"
      ]
     },
     "execution_count": 127,
     "metadata": {},
     "output_type": "execute_result"
    }
   ],
   "source": [
    "df_left.merge(df_right, how='inner', on = 'key')"
   ]
  },
  {
   "cell_type": "code",
   "execution_count": null,
   "metadata": {},
   "outputs": [],
   "source": []
  },
  {
   "cell_type": "markdown",
   "metadata": {
    "nbpresent": {
     "id": "73667723-2bac-486f-ade3-aadcaac17ba8"
    }
   },
   "source": [
    "### 데이터 파일을 읽고 쓰기"
   ]
  },
  {
   "cell_type": "markdown",
   "metadata": {
    "nbpresent": {
     "id": "71bd750f-3f95-4aab-adfa-fa6a23a7cc16"
    }
   },
   "source": [
    "#### 표 형식의 데이터 파일을 읽기"
   ]
  },
  {
   "cell_type": "markdown",
   "metadata": {
    "nbpresent": {
     "id": "02b790d8-38c3-464b-8027-73b635ce8f34"
    }
   },
   "source": [
    "**[11장: 276페이지]**"
   ]
  },
  {
   "cell_type": "code",
   "execution_count": null,
   "metadata": {},
   "outputs": [],
   "source": [
    "%%writefile C:\\myPyCode\\data\\sea_rain1.csv\n",
    "연도,동해,남해,서해,전체\n",
    "1996,17.4629,17.2288,14.436,15.9067\n",
    "1997,17.4116,17.4092,14.8248,16.1526\n",
    "1998,17.5944,18.011,15.2512,16.6044\n",
    "1999,18.1495,18.3175,14.8979,16.6284\n",
    "2000,17.9288,18.1766,15.0504,16.6178"
   ]
  },
  {
   "cell_type": "markdown",
   "metadata": {},
   "source": [
    "**[11장: 276페이지]**"
   ]
  },
  {
   "cell_type": "code",
   "execution_count": null,
   "metadata": {},
   "outputs": [],
   "source": [
    "import pandas as pd\n",
    "\n",
    "pd.read_csv('C:/myPyCode/data/sea_rain1.csv')"
   ]
  },
  {
   "cell_type": "markdown",
   "metadata": {
    "nbpresent": {
     "id": "8fd90a74-8017-4d15-a2f3-fcfaa8ebe68a"
    }
   },
   "source": [
    "**[11장: 277페이지]**"
   ]
  },
  {
   "cell_type": "code",
   "execution_count": null,
   "metadata": {
    "nbpresent": {
     "id": "1e64fd72-3ab3-457f-85a4-3ff66d286bdd"
    },
    "scrolled": true
   },
   "outputs": [],
   "source": [
    "pd.read_csv('C:/myPyCode/data/sea_rain1_from_notepad.csv', encoding = \"cp949\")"
   ]
  },
  {
   "cell_type": "markdown",
   "metadata": {},
   "source": [
    "**[11장: 277페이지]**"
   ]
  },
  {
   "cell_type": "code",
   "execution_count": null,
   "metadata": {
    "scrolled": true
   },
   "outputs": [],
   "source": [
    "%%writefile C:\\myPyCode\\data\\sea_rain1_space.txt\n",
    "연도 동해 남해 서해 전체\n",
    "1996 17.4629 17.2288 14.436 15.9067\n",
    "1997 17.4116 17.4092 14.8248 16.1526\n",
    "1998 17.5944 18.011 15.2512 16.6044\n",
    "1999 18.1495 18.3175 14.8979 16.6284\n",
    "2000 17.9288 18.1766 15.0504 16.6178"
   ]
  },
  {
   "cell_type": "markdown",
   "metadata": {},
   "source": [
    "**[11장: 278페이지]**"
   ]
  },
  {
   "cell_type": "code",
   "execution_count": null,
   "metadata": {
    "scrolled": true
   },
   "outputs": [],
   "source": [
    "pd.read_csv('C:/myPyCode/data/sea_rain1_space.txt', sep=\" \")"
   ]
  },
  {
   "cell_type": "markdown",
   "metadata": {},
   "source": [
    "**[11장: 278페이지]**"
   ]
  },
  {
   "cell_type": "code",
   "execution_count": null,
   "metadata": {
    "nbpresent": {
     "id": "c480956a-f07e-4f3f-b1d6-b7145915b97f"
    }
   },
   "outputs": [],
   "source": [
    "pd.read_csv('C:/myPyCode/data/sea_rain1.csv', index_col=\"연도\" )"
   ]
  },
  {
   "cell_type": "markdown",
   "metadata": {
    "nbpresent": {
     "id": "b74c816e-f318-42df-bfd8-3da96ccd3dd9"
    }
   },
   "source": [
    "#### 표 형식의 데이터를 파일로 쓰기"
   ]
  },
  {
   "cell_type": "markdown",
   "metadata": {
    "collapsed": true,
    "nbpresent": {
     "id": "ef5eba7e-f608-45b6-8d51-dba5b96aa568"
    }
   },
   "source": [
    "**[11장: 279페이지]**"
   ]
  },
  {
   "cell_type": "code",
   "execution_count": null,
   "metadata": {
    "nbpresent": {
     "id": "59061773-e9f5-4388-96d5-e161bef22e53"
    }
   },
   "outputs": [],
   "source": [
    "df_WH = pd.DataFrame({'Weight':[62, 67, 55, 74],\n",
    "                      'Height':[165, 177, 160, 180]},\n",
    "                       index=['ID_1', 'ID_2', 'ID_3', 'ID_4'])\n",
    "df_WH.index.name = 'User'\n",
    "df_WH"
   ]
  },
  {
   "cell_type": "markdown",
   "metadata": {
    "nbpresent": {
     "id": "d56dc642-606f-4b63-ad4e-7152d90e52ef"
    }
   },
   "source": [
    "**[11장: 280페이지]**"
   ]
  },
  {
   "cell_type": "code",
   "execution_count": null,
   "metadata": {
    "nbpresent": {
     "id": "d9c79920-e088-4ca4-ba47-af5c814e1aaf"
    }
   },
   "outputs": [],
   "source": [
    "bmi = df_WH['Weight']/(df_WH['Height']/100)**2\n",
    "bmi"
   ]
  },
  {
   "cell_type": "markdown",
   "metadata": {
    "nbpresent": {
     "id": "ca81541f-0d79-497a-810d-412d08530efa"
    }
   },
   "source": [
    "**[11장: 280페이지]**"
   ]
  },
  {
   "cell_type": "code",
   "execution_count": null,
   "metadata": {
    "nbpresent": {
     "id": "674e3021-875b-435e-8df8-2f7728bb61fb"
    }
   },
   "outputs": [],
   "source": [
    "df_WH['BMI'] = bmi\n",
    "df_WH"
   ]
  },
  {
   "cell_type": "markdown",
   "metadata": {
    "nbpresent": {
     "id": "d5c73eec-9850-4af4-bfd5-f7fd6145cdd5"
    }
   },
   "source": [
    "**[11장: 281페이지]**"
   ]
  },
  {
   "cell_type": "code",
   "execution_count": null,
   "metadata": {
    "nbpresent": {
     "id": "7b76d25e-5dcb-4dc7-aa39-a17209cb47bc"
    }
   },
   "outputs": [],
   "source": [
    "df_WH.to_csv('C:/myPyCode/data/save_DataFrame.csv')"
   ]
  },
  {
   "cell_type": "markdown",
   "metadata": {
    "nbpresent": {
     "id": "06b094bc-f809-4e9d-9317-467f755dfc7a"
    }
   },
   "source": [
    "**[11장: 281페이지]**"
   ]
  },
  {
   "cell_type": "code",
   "execution_count": null,
   "metadata": {
    "nbpresent": {
     "id": "eb190480-c43c-45bb-aeca-695375f0d8e6"
    }
   },
   "outputs": [],
   "source": [
    "!type C:\\myPyCode\\data\\save_DataFrame.csv"
   ]
  },
  {
   "cell_type": "markdown",
   "metadata": {},
   "source": [
    "**[11장: 281페이지]**"
   ]
  },
  {
   "cell_type": "code",
   "execution_count": null,
   "metadata": {},
   "outputs": [],
   "source": [
    "df_pr = pd.DataFrame({'판매가격':[2000, 3000, 5000, 10000],\n",
    "                       '판매량':[32, 53, 40, 25]},\n",
    "                       index=['P1001', 'P1002', 'P1003', 'P1004'])\n",
    "df_pr.index.name = '제품번호'\n",
    "df_pr"
   ]
  },
  {
   "cell_type": "markdown",
   "metadata": {},
   "source": [
    "**[11장: 281페이지]**"
   ]
  },
  {
   "cell_type": "code",
   "execution_count": null,
   "metadata": {},
   "outputs": [],
   "source": [
    "file_name = 'C:/myPyCode/data/save_DataFrame_cp949.txt'\n",
    "df_pr.to_csv(file_name, sep=\" \", encoding = \"cp949\")"
   ]
  },
  {
   "cell_type": "markdown",
   "metadata": {},
   "source": [
    "**[11장: 282페이지]**"
   ]
  },
  {
   "cell_type": "code",
   "execution_count": null,
   "metadata": {},
   "outputs": [],
   "source": [
    "!type C:\\myPyCode\\data\\save_DataFrame_cp949.txt"
   ]
  },
  {
   "cell_type": "markdown",
   "metadata": {
    "nbpresent": {
     "id": "92fa093d-248c-4f8e-8b43-0c0e772b7c3c"
    }
   },
   "source": [
    "## 11.3 정리"
   ]
  }
 ],
 "metadata": {
  "anaconda-cloud": {},
  "kernelspec": {
   "display_name": "Python 3",
   "language": "python",
   "name": "python3"
  },
  "language_info": {
   "codemirror_mode": {
    "name": "ipython",
    "version": 3
   },
   "file_extension": ".py",
   "mimetype": "text/x-python",
   "name": "python",
   "nbconvert_exporter": "python",
   "pygments_lexer": "ipython3",
   "version": "3.7.3"
  },
  "latex_envs": {
   "LaTeX_envs_menu_present": true,
   "autoclose": false,
   "autocomplete": true,
   "bibliofile": "biblio.bib",
   "cite_by": "apalike",
   "current_citInitial": 1,
   "eqLabelWithNumbers": true,
   "eqNumInitial": 1,
   "hotkeys": {
    "equation": "Ctrl-E",
    "itemize": "Ctrl-I"
   },
   "labels_anchors": false,
   "latex_user_defs": false,
   "report_style_numbering": false,
   "user_envs_cfg": false
  },
  "nav_menu": {},
  "nbpresent": {
   "slides": {
    "004a6615-ad46-4dc1-98bf-9cf6ac61002b": {
     "id": "004a6615-ad46-4dc1-98bf-9cf6ac61002b",
     "prev": "0cefb89e-78a5-4f97-b24e-38d6998427b0",
     "regions": {
      "e9f88a6a-5929-46ed-8f24-ae90d238871c": {
       "attrs": {
        "height": 0.8,
        "width": 0.8,
        "x": 0.1,
        "y": 0.1
       },
       "content": {
        "cell": "9165b87e-160c-4f61-accb-5af75ff51f50",
        "part": "whole"
       },
       "id": "e9f88a6a-5929-46ed-8f24-ae90d238871c"
      }
     }
    },
    "00c2ebfa-0100-4b40-a67e-6a32cfa48b22": {
     "id": "00c2ebfa-0100-4b40-a67e-6a32cfa48b22",
     "prev": "f228d481-5fc0-4b77-893d-124a217e76f8",
     "regions": {
      "d56d4052-1ce5-4de0-a818-a95c965749b1": {
       "attrs": {
        "height": 0.8,
        "width": 0.8,
        "x": 0.1,
        "y": 0.1
       },
       "content": {
        "cell": "002591c3-c483-4a64-b1a3-cbe5c82369fa",
        "part": "whole"
       },
       "id": "d56d4052-1ce5-4de0-a818-a95c965749b1"
      }
     }
    },
    "00f76723-5047-41aa-ae0c-3b81c520dc5c": {
     "id": "00f76723-5047-41aa-ae0c-3b81c520dc5c",
     "prev": null,
     "regions": {
      "2d374d93-56bf-4d18-a4f3-e3e222ec1051": {
       "attrs": {
        "height": 0.8,
        "width": 0.8,
        "x": 0.1,
        "y": 0.1
       },
       "content": {
        "cell": "bba48256-c366-49a0-9a1a-31d3c97c540e",
        "part": "whole"
       },
       "id": "2d374d93-56bf-4d18-a4f3-e3e222ec1051"
      }
     }
    },
    "01be6c68-04ad-49f2-a11f-c403f5356a5b": {
     "id": "01be6c68-04ad-49f2-a11f-c403f5356a5b",
     "prev": "82abee69-5d76-445e-9006-e8c61e48efa9",
     "regions": {
      "6fe21fc9-775a-45fd-ac34-68f1ead7f94e": {
       "attrs": {
        "height": 0.8,
        "width": 0.8,
        "x": 0.1,
        "y": 0.1
       },
       "content": {
        "cell": "e2171d29-60a5-4cb1-b568-af3a9a93f378",
        "part": "whole"
       },
       "id": "6fe21fc9-775a-45fd-ac34-68f1ead7f94e"
      }
     }
    },
    "026ad1bb-bbb5-4911-a29a-2a31c6dd3d42": {
     "id": "026ad1bb-bbb5-4911-a29a-2a31c6dd3d42",
     "prev": "730c66a5-e473-418e-a1fa-3ba3d7a1589a",
     "regions": {
      "33fcb62d-ee8e-4b77-932b-54b5f5d4222e": {
       "attrs": {
        "height": 0.8,
        "width": 0.8,
        "x": 0.1,
        "y": 0.1
       },
       "content": {
        "cell": "809f2544-8422-426e-b216-38b3c1ef40ce",
        "part": "whole"
       },
       "id": "33fcb62d-ee8e-4b77-932b-54b5f5d4222e"
      }
     }
    },
    "06a1b182-2897-4de1-b0a9-36a82fad7cff": {
     "id": "06a1b182-2897-4de1-b0a9-36a82fad7cff",
     "prev": "36f7e31a-44e1-48a5-8d4f-9389c0dd1094",
     "regions": {
      "b3b1adb5-0f57-472b-8709-a142bffe7f7a": {
       "attrs": {
        "height": 0.8,
        "width": 0.8,
        "x": 0.1,
        "y": 0.1
       },
       "content": {
        "cell": "497bfe6b-1180-43ad-8d15-911730388b95",
        "part": "whole"
       },
       "id": "b3b1adb5-0f57-472b-8709-a142bffe7f7a"
      }
     }
    },
    "06a546d5-5101-425e-bedd-c0d0069b65b0": {
     "id": "06a546d5-5101-425e-bedd-c0d0069b65b0",
     "prev": "300485de-75ad-4b69-8778-8c497e64b722",
     "regions": {
      "37282982-c928-4dcf-8d6f-0d3023b50161": {
       "attrs": {
        "height": 0.8,
        "width": 0.8,
        "x": 0.1,
        "y": 0.1
       },
       "content": {
        "cell": "3253a21a-7d3c-4ba9-8b4d-2c7b695abd09",
        "part": "whole"
       },
       "id": "37282982-c928-4dcf-8d6f-0d3023b50161"
      }
     }
    },
    "08319543-0934-425c-bded-1f53b270e762": {
     "id": "08319543-0934-425c-bded-1f53b270e762",
     "prev": "41922a37-7809-4305-a13f-8ca1137cf700",
     "regions": {
      "3563d8aa-aac0-4c9b-b9c4-d7140036d1a6": {
       "attrs": {
        "height": 0.8,
        "width": 0.8,
        "x": 0.1,
        "y": 0.1
       },
       "content": {
        "cell": "d1dbe790-0599-4dd5-a85f-e7d342fbaec1",
        "part": "whole"
       },
       "id": "3563d8aa-aac0-4c9b-b9c4-d7140036d1a6"
      }
     }
    },
    "0912a4aa-0701-46df-b147-638a992ef413": {
     "id": "0912a4aa-0701-46df-b147-638a992ef413",
     "prev": "c70889ca-5824-45a6-96e1-17557b114f83",
     "regions": {
      "c2d0aaf6-650d-4ba1-b241-3e4ce6ff5dc0": {
       "attrs": {
        "height": 0.8,
        "width": 0.8,
        "x": 0.1,
        "y": 0.1
       },
       "content": {
        "cell": "519e2a61-61b0-46c0-855b-19d7d385f4eb",
        "part": "whole"
       },
       "id": "c2d0aaf6-650d-4ba1-b241-3e4ce6ff5dc0"
      }
     }
    },
    "09785615-9da4-4e0c-bd42-618738d7ef5d": {
     "id": "09785615-9da4-4e0c-bd42-618738d7ef5d",
     "prev": "0d488510-90f9-46a8-89a4-c8b5db875d88",
     "regions": {
      "3a1498b3-b96b-4294-aab3-3d8d2223b354": {
       "attrs": {
        "height": 0.8,
        "width": 0.8,
        "x": 0.1,
        "y": 0.1
       },
       "content": {
        "cell": "992c8f6c-4041-4ef1-930b-5ad3f5b4b65d",
        "part": "whole"
       },
       "id": "3a1498b3-b96b-4294-aab3-3d8d2223b354"
      }
     }
    },
    "09821c90-8644-4369-a270-d183b12af77d": {
     "id": "09821c90-8644-4369-a270-d183b12af77d",
     "prev": "e8089ccf-9780-45a4-8545-41ee16b95fc8",
     "regions": {
      "191d01eb-8da1-48d6-b007-b3755d9abf3c": {
       "attrs": {
        "height": 0.8,
        "width": 0.8,
        "x": 0.1,
        "y": 0.1
       },
       "content": {
        "cell": "83f35fac-f81a-4767-b858-e720844e9efb",
        "part": "whole"
       },
       "id": "191d01eb-8da1-48d6-b007-b3755d9abf3c"
      }
     }
    },
    "09ad0890-ab5a-4ede-a8d2-fdbd43a5da21": {
     "id": "09ad0890-ab5a-4ede-a8d2-fdbd43a5da21",
     "prev": "00f76723-5047-41aa-ae0c-3b81c520dc5c",
     "regions": {
      "140e5afe-486b-446c-9b75-075133796ea8": {
       "attrs": {
        "height": 0.8,
        "width": 0.8,
        "x": 0.1,
        "y": 0.1
       },
       "content": {
        "cell": "a00a5059-101b-4f62-bac3-0c6049620deb",
        "part": "whole"
       },
       "id": "140e5afe-486b-446c-9b75-075133796ea8"
      }
     }
    },
    "0be7bcc1-ec21-4dc5-a2aa-8949340fb4ee": {
     "id": "0be7bcc1-ec21-4dc5-a2aa-8949340fb4ee",
     "prev": "fe7b1364-ffbc-4fd1-8a08-e3ba54ab969a",
     "regions": {
      "fc007ea9-c7c0-448d-bbb3-d8fbfe197e43": {
       "attrs": {
        "height": 0.8,
        "width": 0.8,
        "x": 0.1,
        "y": 0.1
       },
       "content": {
        "cell": "39cb565c-2e08-49e3-84b1-c4310ea74a88",
        "part": "whole"
       },
       "id": "fc007ea9-c7c0-448d-bbb3-d8fbfe197e43"
      }
     }
    },
    "0ccc1664-e9f4-4e9a-b15a-eb9f5331434a": {
     "id": "0ccc1664-e9f4-4e9a-b15a-eb9f5331434a",
     "prev": "2fbcddb0-dec0-427d-8b57-6b0012e2446b",
     "regions": {
      "53c4b42e-7da9-44a7-a6b8-f7d2985d885a": {
       "attrs": {
        "height": 0.8,
        "width": 0.8,
        "x": 0.1,
        "y": 0.1
       },
       "content": {
        "cell": "1e64fd72-3ab3-457f-85a4-3ff66d286bdd",
        "part": "whole"
       },
       "id": "53c4b42e-7da9-44a7-a6b8-f7d2985d885a"
      }
     }
    },
    "0cefb89e-78a5-4f97-b24e-38d6998427b0": {
     "id": "0cefb89e-78a5-4f97-b24e-38d6998427b0",
     "prev": "2bef2c0c-989c-4d72-8825-8ad47d80f90e",
     "regions": {
      "03c0c259-ff27-46c4-a0c3-032e5ea27c7e": {
       "attrs": {
        "height": 0.8,
        "width": 0.8,
        "x": 0.1,
        "y": 0.1
       },
       "content": {
        "cell": "0f84ae14-6e61-4f6d-869b-6951a1ecb090",
        "part": "whole"
       },
       "id": "03c0c259-ff27-46c4-a0c3-032e5ea27c7e"
      }
     }
    },
    "0d488510-90f9-46a8-89a4-c8b5db875d88": {
     "id": "0d488510-90f9-46a8-89a4-c8b5db875d88",
     "prev": "51f45016-1aa3-4c90-a62a-263522722566",
     "regions": {
      "b7135931-25f4-46ad-b803-54a11719965b": {
       "attrs": {
        "height": 0.8,
        "width": 0.8,
        "x": 0.1,
        "y": 0.1
       },
       "content": {
        "cell": "a765d6d6-bb77-4170-bad0-dd14df2e12b4",
        "part": "whole"
       },
       "id": "b7135931-25f4-46ad-b803-54a11719965b"
      }
     }
    },
    "0ddaf2a6-3dc6-4ac7-b3cc-bd0c93a0ab5f": {
     "id": "0ddaf2a6-3dc6-4ac7-b3cc-bd0c93a0ab5f",
     "prev": "1fa1459f-c5e1-41f3-a3e5-062bfaa87d63",
     "regions": {
      "a487dd19-d1e7-47da-bb37-d76abea4223a": {
       "attrs": {
        "height": 0.8,
        "width": 0.8,
        "x": 0.1,
        "y": 0.1
       },
       "content": {
        "cell": "fb6fc3f3-1a8a-403c-84d5-1ea68bc354c1",
        "part": "whole"
       },
       "id": "a487dd19-d1e7-47da-bb37-d76abea4223a"
      }
     }
    },
    "0df5ba4e-68f8-466d-9e34-9577ba7f5b65": {
     "id": "0df5ba4e-68f8-466d-9e34-9577ba7f5b65",
     "prev": "63b65a05-1500-4663-8a86-e90ae8d0892b",
     "regions": {
      "8afdcde1-306d-478f-a0d0-4c20fdc2de7e": {
       "attrs": {
        "height": 0.8,
        "width": 0.8,
        "x": 0.1,
        "y": 0.1
       },
       "content": {
        "cell": "1ddc49b0-5c30-4bcd-9504-3b8c6b5dcb5e",
        "part": "whole"
       },
       "id": "8afdcde1-306d-478f-a0d0-4c20fdc2de7e"
      }
     }
    },
    "105092e3-9521-4e1b-925a-89fbea3bda08": {
     "id": "105092e3-9521-4e1b-925a-89fbea3bda08",
     "prev": "e6736d98-e4ff-41c5-a42e-d6d7f4efc8d4",
     "regions": {
      "77fae83d-12d3-44a7-a31c-17fccf626839": {
       "attrs": {
        "height": 0.8,
        "width": 0.8,
        "x": 0.1,
        "y": 0.1
       },
       "content": {
        "cell": "29a2b7cf-7c0a-4ce4-b42c-0569c419df7c",
        "part": "whole"
       },
       "id": "77fae83d-12d3-44a7-a31c-17fccf626839"
      }
     }
    },
    "1057ac0a-e317-4e89-a987-2e41ccf94195": {
     "id": "1057ac0a-e317-4e89-a987-2e41ccf94195",
     "prev": "52601c7e-15d5-4080-88d4-d83f3c51d6e3",
     "regions": {
      "3df3d487-58a2-467f-b059-3535751ee055": {
       "attrs": {
        "height": 0.8,
        "width": 0.8,
        "x": 0.1,
        "y": 0.1
       },
       "content": {
        "cell": "64bc39ab-346c-40e7-b1c9-1929ea0f8c01",
        "part": "whole"
       },
       "id": "3df3d487-58a2-467f-b059-3535751ee055"
      }
     }
    },
    "1295388d-039f-4755-a2eb-4624bc036880": {
     "id": "1295388d-039f-4755-a2eb-4624bc036880",
     "prev": "9ad96f6c-983a-4919-9822-1b2d8bade635",
     "regions": {
      "ccca86e8-927b-4038-b0c0-704d609de376": {
       "attrs": {
        "height": 0.8,
        "width": 0.8,
        "x": 0.1,
        "y": 0.1
       },
       "content": {
        "cell": "f5c6300a-405b-408a-9eae-795a9b560da2",
        "part": "whole"
       },
       "id": "ccca86e8-927b-4038-b0c0-704d609de376"
      }
     }
    },
    "12f9d190-4f4e-496e-9eb3-28af41aa6c09": {
     "id": "12f9d190-4f4e-496e-9eb3-28af41aa6c09",
     "prev": "9143d20a-1225-4e20-bf84-20c6f4b0ed84",
     "regions": {
      "95081a10-1a8a-4522-a45f-47ba3ff1bfb0": {
       "attrs": {
        "height": 0.8,
        "width": 0.8,
        "x": 0.1,
        "y": 0.1
       },
       "content": {
        "cell": "43dbb77b-728c-453d-8809-7c5c1da3218e",
        "part": "whole"
       },
       "id": "95081a10-1a8a-4522-a45f-47ba3ff1bfb0"
      }
     }
    },
    "1330959f-cbe7-444f-b3d6-918f427d4771": {
     "id": "1330959f-cbe7-444f-b3d6-918f427d4771",
     "prev": "1b8b26fe-a63d-41a3-b9ce-5742f475ce52",
     "regions": {
      "c70239f8-74f8-471b-870a-cb493fbcb6ec": {
       "attrs": {
        "height": 0.8,
        "width": 0.8,
        "x": 0.1,
        "y": 0.1
       },
       "content": {
        "cell": "645ae3c6-8414-435e-a321-26c0ecfe5485",
        "part": "whole"
       },
       "id": "c70239f8-74f8-471b-870a-cb493fbcb6ec"
      }
     }
    },
    "1342dd1f-8dbe-4fef-ba33-1d42f69e8841": {
     "id": "1342dd1f-8dbe-4fef-ba33-1d42f69e8841",
     "prev": "ebf3e9eb-baea-4f4f-9a8b-77292d108134",
     "regions": {
      "939a5e4a-e7bf-4b9e-9f44-78eb585acf58": {
       "attrs": {
        "height": 0.8,
        "width": 0.8,
        "x": 0.1,
        "y": 0.1
       },
       "content": {
        "cell": "b2347c58-725e-423c-b73a-c13695122285",
        "part": "whole"
       },
       "id": "939a5e4a-e7bf-4b9e-9f44-78eb585acf58"
      }
     }
    },
    "14bb0be7-7959-4163-bc6d-5f77eb8e4fcc": {
     "id": "14bb0be7-7959-4163-bc6d-5f77eb8e4fcc",
     "prev": "d3a86a05-28d5-4035-aba6-6a7e40e4c59a",
     "regions": {
      "f1f77e0d-f753-467f-932f-ce6c583a9fb8": {
       "attrs": {
        "height": 0.8,
        "width": 0.8,
        "x": 0.1,
        "y": 0.1
       },
       "content": {
        "cell": "6f741d1a-45ad-4a71-b0a7-f9a02979eec0",
        "part": "whole"
       },
       "id": "f1f77e0d-f753-467f-932f-ce6c583a9fb8"
      }
     }
    },
    "1546c70e-083d-44d8-bbb6-40418d5847c9": {
     "id": "1546c70e-083d-44d8-bbb6-40418d5847c9",
     "prev": "9ab143f3-5fd8-42fb-81f8-b39715f598cb",
     "regions": {
      "0e6d10d7-a3ba-45a6-bb72-c63e6a81a14d": {
       "attrs": {
        "height": 0.8,
        "width": 0.8,
        "x": 0.1,
        "y": 0.1
       },
       "content": {
        "cell": "306cd90d-b2b6-4dd4-b1bc-e73177c71f99",
        "part": "whole"
       },
       "id": "0e6d10d7-a3ba-45a6-bb72-c63e6a81a14d"
      }
     }
    },
    "17361deb-8540-4ec7-a58e-38bf3b6a011d": {
     "id": "17361deb-8540-4ec7-a58e-38bf3b6a011d",
     "prev": "71138d00-1de1-4255-b423-0fbca3e37521",
     "regions": {
      "87d91ae2-9c5d-4f65-a78c-815f459851fa": {
       "attrs": {
        "height": 0.8,
        "width": 0.8,
        "x": 0.1,
        "y": 0.1
       },
       "content": {
        "cell": "5f71eb4e-f55e-4f00-96bc-722d7e241a66",
        "part": "whole"
       },
       "id": "87d91ae2-9c5d-4f65-a78c-815f459851fa"
      }
     }
    },
    "18af95f0-b62c-46b0-b821-b14db773c013": {
     "id": "18af95f0-b62c-46b0-b821-b14db773c013",
     "prev": "32899dd6-8f34-4746-8da8-0ca3a9186a2e",
     "regions": {
      "7287c62c-3d15-41d5-8902-41e7b74f5b0c": {
       "attrs": {
        "height": 0.8,
        "width": 0.8,
        "x": 0.1,
        "y": 0.1
       },
       "content": {
        "cell": "fba60d0d-6b69-4f90-8d39-c54b47f51bec",
        "part": "whole"
       },
       "id": "7287c62c-3d15-41d5-8902-41e7b74f5b0c"
      }
     }
    },
    "1a66efb8-7a57-4543-a31e-42fa1f104b06": {
     "id": "1a66efb8-7a57-4543-a31e-42fa1f104b06",
     "prev": "de87b522-18eb-4c18-a639-a6477f621358",
     "regions": {
      "2b34f426-ebe6-42f4-95c0-1aa6dcb179e7": {
       "attrs": {
        "height": 0.8,
        "width": 0.8,
        "x": 0.1,
        "y": 0.1
       },
       "content": {
        "cell": "fa8fe338-046c-48ab-a709-6c5e1d69625d",
        "part": "whole"
       },
       "id": "2b34f426-ebe6-42f4-95c0-1aa6dcb179e7"
      }
     }
    },
    "1b8b26fe-a63d-41a3-b9ce-5742f475ce52": {
     "id": "1b8b26fe-a63d-41a3-b9ce-5742f475ce52",
     "prev": "f54407be-9c02-4485-bef5-b7a81592cd7b",
     "regions": {
      "a13f0ef3-72c6-4e0c-95cd-169a518541d3": {
       "attrs": {
        "height": 0.8,
        "width": 0.8,
        "x": 0.1,
        "y": 0.1
       },
       "content": {
        "cell": "8439f472-17a2-4baa-86bc-ff64e9b3d704",
        "part": "whole"
       },
       "id": "a13f0ef3-72c6-4e0c-95cd-169a518541d3"
      }
     }
    },
    "1d50f252-fd67-42e5-addf-3f9d7a28dd31": {
     "id": "1d50f252-fd67-42e5-addf-3f9d7a28dd31",
     "prev": "752a273d-a6b1-45d0-a199-3507c7bd8015",
     "regions": {
      "7a5c022b-6eca-474a-ad93-9c94a6466a1d": {
       "attrs": {
        "height": 0.8,
        "width": 0.8,
        "x": 0.1,
        "y": 0.1
       },
       "content": {
        "cell": "d445e468-b2cb-4025-8fd9-202b6efb110a",
        "part": "whole"
       },
       "id": "7a5c022b-6eca-474a-ad93-9c94a6466a1d"
      }
     }
    },
    "1f8ba1e9-da4c-482f-926a-b31103b4adaa": {
     "id": "1f8ba1e9-da4c-482f-926a-b31103b4adaa",
     "prev": "4e3c853f-29e9-4a8f-95fe-97e3c3168b33",
     "regions": {
      "4b8fca95-fca4-4519-b289-6ad085c11578": {
       "attrs": {
        "height": 0.8,
        "width": 0.8,
        "x": 0.1,
        "y": 0.1
       },
       "content": {
        "cell": "6d5e6d1b-6fa7-483d-9648-6ca44371399f",
        "part": "whole"
       },
       "id": "4b8fca95-fca4-4519-b289-6ad085c11578"
      }
     }
    },
    "1fa1459f-c5e1-41f3-a3e5-062bfaa87d63": {
     "id": "1fa1459f-c5e1-41f3-a3e5-062bfaa87d63",
     "prev": "aec73699-b126-4ddd-a0fe-fed510fc7c05",
     "regions": {
      "b80dedf8-2dc5-438f-afd5-d66942c9bf57": {
       "attrs": {
        "height": 0.8,
        "width": 0.8,
        "x": 0.1,
        "y": 0.1
       },
       "content": {
        "cell": "c518a29e-e00d-40d7-bec5-07d421415653",
        "part": "whole"
       },
       "id": "b80dedf8-2dc5-438f-afd5-d66942c9bf57"
      }
     }
    },
    "207f8462-0da1-40a3-9049-1d72b8a08c53": {
     "id": "207f8462-0da1-40a3-9049-1d72b8a08c53",
     "prev": "0df5ba4e-68f8-466d-9e34-9577ba7f5b65",
     "regions": {
      "a6025063-8441-4b8f-8975-bec3b6dbdc02": {
       "attrs": {
        "height": 0.8,
        "width": 0.8,
        "x": 0.1,
        "y": 0.1
       },
       "content": {
        "cell": "04b26713-532e-4ebd-a3e2-16f648d46376",
        "part": "whole"
       },
       "id": "a6025063-8441-4b8f-8975-bec3b6dbdc02"
      }
     }
    },
    "219e1659-447c-44ee-935e-9ebb107df7b1": {
     "id": "219e1659-447c-44ee-935e-9ebb107df7b1",
     "prev": "3a7fb726-2dea-4025-ab74-b6c9990721eb",
     "regions": {
      "cb491353-965e-47f1-ae93-2d8e7aca78ff": {
       "attrs": {
        "height": 0.8,
        "width": 0.8,
        "x": 0.1,
        "y": 0.1
       },
       "content": {
        "cell": "417789a3-66a4-4c52-b967-6855a3b6edb6",
        "part": "whole"
       },
       "id": "cb491353-965e-47f1-ae93-2d8e7aca78ff"
      }
     }
    },
    "2238fd84-2a89-4544-a31e-be3956ed3f65": {
     "id": "2238fd84-2a89-4544-a31e-be3956ed3f65",
     "prev": "f1d0836b-51b6-4da7-ab98-0a5828c9bbb3",
     "regions": {
      "849e6dc4-3376-4781-89ee-77d29ff64a44": {
       "attrs": {
        "height": 0.8,
        "width": 0.8,
        "x": 0.1,
        "y": 0.1
       },
       "content": {
        "cell": "31a5e2f1-017c-4d6d-aae3-1fb54ac75e9c",
        "part": "whole"
       },
       "id": "849e6dc4-3376-4781-89ee-77d29ff64a44"
      }
     }
    },
    "224a84f3-8aff-4323-b700-18a00d294303": {
     "id": "224a84f3-8aff-4323-b700-18a00d294303",
     "prev": "b1fe186d-b526-4dea-a598-7ab89acb7bd1",
     "regions": {
      "3e92e3d3-8480-4ac0-a7da-4b2d48c3bafa": {
       "attrs": {
        "height": 0.8,
        "width": 0.8,
        "x": 0.1,
        "y": 0.1
       },
       "content": {
        "cell": "e1187589-6ec4-42be-8434-0b0033c8477f",
        "part": "whole"
       },
       "id": "3e92e3d3-8480-4ac0-a7da-4b2d48c3bafa"
      }
     }
    },
    "237577b0-9379-4ce4-a171-3889a3d42450": {
     "id": "237577b0-9379-4ce4-a171-3889a3d42450",
     "prev": "3581cd54-9198-4f26-b0ee-92fdf8d5090a",
     "regions": {
      "78892edf-1cc8-4aff-abb7-c4461e20eec0": {
       "attrs": {
        "height": 0.8,
        "width": 0.8,
        "x": 0.1,
        "y": 0.1
       },
       "content": {
        "cell": "ed5d25ea-f078-4238-9911-6f56810dc8b6",
        "part": "whole"
       },
       "id": "78892edf-1cc8-4aff-abb7-c4461e20eec0"
      }
     }
    },
    "2440aa4d-fcf2-4b7e-bc47-8548a87a6ea7": {
     "id": "2440aa4d-fcf2-4b7e-bc47-8548a87a6ea7",
     "prev": "c9ece08c-b252-4b96-b33d-f07cfa1f8885",
     "regions": {
      "63bfd364-2d16-41a9-b561-30e223ff73e8": {
       "attrs": {
        "height": 0.8,
        "width": 0.8,
        "x": 0.1,
        "y": 0.1
       },
       "content": {
        "cell": "8c0fbf70-0906-4f5f-990a-84abd7483130",
        "part": "whole"
       },
       "id": "63bfd364-2d16-41a9-b561-30e223ff73e8"
      }
     }
    },
    "26143843-c506-40ec-b0f1-e0b03d5aff8b": {
     "id": "26143843-c506-40ec-b0f1-e0b03d5aff8b",
     "prev": "314d18f5-4d2f-46ec-b983-9fa926bb6107",
     "regions": {
      "4d00c323-a380-4823-b9c7-571ade9943fa": {
       "attrs": {
        "height": 0.8,
        "width": 0.8,
        "x": 0.1,
        "y": 0.1
       },
       "content": {
        "cell": "dfdbc505-3c93-471f-8efe-ef7f393351af",
        "part": "whole"
       },
       "id": "4d00c323-a380-4823-b9c7-571ade9943fa"
      }
     }
    },
    "2833646f-f9fa-4e0a-ae67-9ca9475599ff": {
     "id": "2833646f-f9fa-4e0a-ae67-9ca9475599ff",
     "prev": "d55be3e8-b197-464c-b6f9-400658b15b99",
     "regions": {
      "7e0c007d-19ec-4fcd-9c6d-eeaff8b6bcfa": {
       "attrs": {
        "height": 0.8,
        "width": 0.8,
        "x": 0.1,
        "y": 0.1
       },
       "content": {
        "cell": "2fd50764-d3f4-4999-9efe-e7f75dde9fb8",
        "part": "whole"
       },
       "id": "7e0c007d-19ec-4fcd-9c6d-eeaff8b6bcfa"
      }
     }
    },
    "28542ec3-fe9a-4414-9f5c-5303725673f6": {
     "id": "28542ec3-fe9a-4414-9f5c-5303725673f6",
     "prev": "caffec0b-ccd7-4e82-930d-708d6a053d68",
     "regions": {
      "e0917f48-6c03-4c9f-b76e-ac2ca8f58f42": {
       "attrs": {
        "height": 0.8,
        "width": 0.8,
        "x": 0.1,
        "y": 0.1
       },
       "content": {
        "cell": "89158dfa-2548-4e6e-9d9c-ffea68274878",
        "part": "whole"
       },
       "id": "e0917f48-6c03-4c9f-b76e-ac2ca8f58f42"
      }
     }
    },
    "289f607c-d43c-49fa-88d0-9dd7c0184a04": {
     "id": "289f607c-d43c-49fa-88d0-9dd7c0184a04",
     "prev": "321fa137-87fe-4a28-8bf7-c3d288bb1fc6",
     "regions": {
      "bb325ac8-881a-4aa6-acec-2b0af6308d5d": {
       "attrs": {
        "height": 0.8,
        "width": 0.8,
        "x": 0.1,
        "y": 0.1
       },
       "content": {
        "cell": "109eb28e-8e97-4bf0-903f-00833d9c4791",
        "part": "whole"
       },
       "id": "bb325ac8-881a-4aa6-acec-2b0af6308d5d"
      }
     }
    },
    "28e6e5e0-4c8d-480b-88c4-212bb8a9a5d3": {
     "id": "28e6e5e0-4c8d-480b-88c4-212bb8a9a5d3",
     "prev": "60dd0f4b-356d-4ef4-bb3d-27ee9e270764",
     "regions": {
      "daab678c-f5be-4d82-833c-60086152dd26": {
       "attrs": {
        "height": 0.8,
        "width": 0.8,
        "x": 0.1,
        "y": 0.1
       },
       "content": {
        "cell": "ec07b417-b92e-42a7-a1c8-fa4832d4c822",
        "part": "whole"
       },
       "id": "daab678c-f5be-4d82-833c-60086152dd26"
      }
     }
    },
    "2ae77d71-6509-49fb-9ae9-f1e2804b0280": {
     "id": "2ae77d71-6509-49fb-9ae9-f1e2804b0280",
     "prev": "c09ffc70-9a89-47e0-af7a-5a35e2a28fd0",
     "regions": {
      "49a88a01-bb79-43bb-8969-3b22b7e08664": {
       "attrs": {
        "height": 0.8,
        "width": 0.8,
        "x": 0.1,
        "y": 0.1
       },
       "content": {
        "cell": "c9e8fe37-37a3-4115-ab80-3cd84eb9b8af",
        "part": "whole"
       },
       "id": "49a88a01-bb79-43bb-8969-3b22b7e08664"
      }
     }
    },
    "2bef2c0c-989c-4d72-8825-8ad47d80f90e": {
     "id": "2bef2c0c-989c-4d72-8825-8ad47d80f90e",
     "prev": "4a92a331-95c3-499d-88c1-dbc638b055e6",
     "regions": {
      "05e7351b-0219-4234-9809-dc0f73804b4b": {
       "attrs": {
        "height": 0.8,
        "width": 0.8,
        "x": 0.1,
        "y": 0.1
       },
       "content": {
        "cell": "89700812-7d50-4838-bb93-bdfbdb7c5b90",
        "part": "whole"
       },
       "id": "05e7351b-0219-4234-9809-dc0f73804b4b"
      }
     }
    },
    "2d0fcc61-8e3f-4086-9ef6-1066462d3b1c": {
     "id": "2d0fcc61-8e3f-4086-9ef6-1066462d3b1c",
     "prev": "06a546d5-5101-425e-bedd-c0d0069b65b0",
     "regions": {
      "09a04fab-b8d4-4844-915b-2aa9906ce774": {
       "attrs": {
        "height": 0.8,
        "width": 0.8,
        "x": 0.1,
        "y": 0.1
       },
       "content": {
        "cell": "8d5c25d3-2e63-4b97-b0d1-b4d37c0fc569",
        "part": "whole"
       },
       "id": "09a04fab-b8d4-4844-915b-2aa9906ce774"
      }
     }
    },
    "2d694f08-bc0a-4a53-a2a0-9f0e9bd7882f": {
     "id": "2d694f08-bc0a-4a53-a2a0-9f0e9bd7882f",
     "prev": "51c2b6eb-da6f-4d26-940b-96e6da8eeba9",
     "regions": {
      "720e12ce-0278-40a3-bdbf-6f9b8e481656": {
       "attrs": {
        "height": 0.8,
        "width": 0.8,
        "x": 0.1,
        "y": 0.1
       },
       "content": {
        "cell": "91cdb793-af8b-4f5b-8481-52da23fcf225",
        "part": "whole"
       },
       "id": "720e12ce-0278-40a3-bdbf-6f9b8e481656"
      }
     }
    },
    "2db7c0f2-c03b-45a0-b05b-d3dfed8ba720": {
     "id": "2db7c0f2-c03b-45a0-b05b-d3dfed8ba720",
     "prev": "eb3a9710-cde0-464f-b5b9-7765b7b8db24",
     "regions": {
      "6a932e59-8fff-443c-84c8-19740647c3f3": {
       "attrs": {
        "height": 0.8,
        "width": 0.8,
        "x": 0.1,
        "y": 0.1
       },
       "content": {
        "cell": "63b42c5c-ac60-4432-9197-ed176bf2d2e0",
        "part": "whole"
       },
       "id": "6a932e59-8fff-443c-84c8-19740647c3f3"
      }
     }
    },
    "2fbcddb0-dec0-427d-8b57-6b0012e2446b": {
     "id": "2fbcddb0-dec0-427d-8b57-6b0012e2446b",
     "prev": "8cb3cfdf-0617-4cc8-91d7-062d48995774",
     "regions": {
      "86a76ff1-1508-470e-8634-3e9fd6263f09": {
       "attrs": {
        "height": 0.8,
        "width": 0.8,
        "x": 0.1,
        "y": 0.1
       },
       "content": {
        "cell": "8fd90a74-8017-4d15-a2f3-fcfaa8ebe68a",
        "part": "whole"
       },
       "id": "86a76ff1-1508-470e-8634-3e9fd6263f09"
      }
     }
    },
    "2fdee9d1-218e-4614-9c26-c85a8539bedf": {
     "id": "2fdee9d1-218e-4614-9c26-c85a8539bedf",
     "prev": "48d4842a-1bff-4e13-b103-74f76aab740d",
     "regions": {
      "5ff315bd-ca4c-499a-ba4c-6417d8f0936d": {
       "attrs": {
        "height": 0.8,
        "width": 0.8,
        "x": 0.1,
        "y": 0.1
       },
       "content": {
        "cell": "efee25a2-6ed3-4714-a385-bb9efd904fc0",
        "part": "whole"
       },
       "id": "5ff315bd-ca4c-499a-ba4c-6417d8f0936d"
      }
     }
    },
    "300485de-75ad-4b69-8778-8c497e64b722": {
     "id": "300485de-75ad-4b69-8778-8c497e64b722",
     "prev": "9b473d4e-4d53-43f5-ba74-1a0597eb9aeb",
     "regions": {
      "f38a9eba-06e2-41c4-9972-7cb44fd4d8ff": {
       "attrs": {
        "height": 0.8,
        "width": 0.8,
        "x": 0.1,
        "y": 0.1
       },
       "content": {
        "cell": "b7cfeac3-fc87-43b7-9aee-ac056e860fdd",
        "part": "whole"
       },
       "id": "f38a9eba-06e2-41c4-9972-7cb44fd4d8ff"
      }
     }
    },
    "3090d9d4-1b3c-46fc-9832-3214854b933f": {
     "id": "3090d9d4-1b3c-46fc-9832-3214854b933f",
     "prev": "1295388d-039f-4755-a2eb-4624bc036880",
     "regions": {
      "fa8e0c0c-93d3-4c5d-8eb2-95d76a2662d5": {
       "attrs": {
        "height": 0.8,
        "width": 0.8,
        "x": 0.1,
        "y": 0.1
       },
       "content": {
        "cell": "639401fd-6ca8-4ae2-b72e-f0c0ff63caf4",
        "part": "whole"
       },
       "id": "fa8e0c0c-93d3-4c5d-8eb2-95d76a2662d5"
      }
     }
    },
    "314d18f5-4d2f-46ec-b983-9fa926bb6107": {
     "id": "314d18f5-4d2f-46ec-b983-9fa926bb6107",
     "prev": "5732d044-c90a-4dd3-b9c1-8b9ad80afc91",
     "regions": {
      "4dfbfd56-2bfc-4385-ae3b-06db31b5ae80": {
       "attrs": {
        "height": 0.8,
        "width": 0.8,
        "x": 0.1,
        "y": 0.1
       },
       "content": {
        "cell": "523df774-1955-4d98-894e-b0d4d7dc259a",
        "part": "whole"
       },
       "id": "4dfbfd56-2bfc-4385-ae3b-06db31b5ae80"
      }
     }
    },
    "3151943d-b59d-46ef-9cde-db0a0c80c566": {
     "id": "3151943d-b59d-46ef-9cde-db0a0c80c566",
     "prev": "7e20bb10-3c4f-4fc7-bb12-c2725a5e9b7b",
     "regions": {
      "2d8530be-b69f-4ca2-acf5-d42f33914026": {
       "attrs": {
        "height": 0.8,
        "width": 0.8,
        "x": 0.1,
        "y": 0.1
       },
       "content": {
        "cell": "9e8ce122-b1df-430b-b94c-2511fe66389f",
        "part": "whole"
       },
       "id": "2d8530be-b69f-4ca2-acf5-d42f33914026"
      }
     }
    },
    "31d2f052-8012-4c2c-97b9-e73514728490": {
     "id": "31d2f052-8012-4c2c-97b9-e73514728490",
     "prev": "39d20f40-f325-43a2-90c2-7ba71b11a38c",
     "regions": {
      "0d5494e7-ac8a-4a61-b8c9-8e03c9f6c5f6": {
       "attrs": {
        "height": 0.8,
        "width": 0.8,
        "x": 0.1,
        "y": 0.1
       },
       "content": {
        "cell": "f1b8a023-d45d-4766-bf4c-9837c745b049",
        "part": "whole"
       },
       "id": "0d5494e7-ac8a-4a61-b8c9-8e03c9f6c5f6"
      }
     }
    },
    "32049a90-1058-49e7-8011-1f4bc2020eb1": {
     "id": "32049a90-1058-49e7-8011-1f4bc2020eb1",
     "prev": "f5a7656f-b3db-4183-9c5d-281a9a4107f5",
     "regions": {
      "e9ff17cd-99f4-4adc-889d-a0a867e58aa2": {
       "attrs": {
        "height": 0.8,
        "width": 0.8,
        "x": 0.1,
        "y": 0.1
       },
       "content": {
        "cell": "e7025c1f-15be-41a8-b9fa-c08268a51664",
        "part": "whole"
       },
       "id": "e9ff17cd-99f4-4adc-889d-a0a867e58aa2"
      }
     }
    },
    "321fa137-87fe-4a28-8bf7-c3d288bb1fc6": {
     "id": "321fa137-87fe-4a28-8bf7-c3d288bb1fc6",
     "prev": "28542ec3-fe9a-4414-9f5c-5303725673f6",
     "regions": {
      "9f784c1d-8c68-4bb4-88a5-f60a8fce54b3": {
       "attrs": {
        "height": 0.8,
        "width": 0.8,
        "x": 0.1,
        "y": 0.1
       },
       "content": {
        "cell": "bffc6bc2-edc1-4542-9325-bf01bd11a2c2",
        "part": "whole"
       },
       "id": "9f784c1d-8c68-4bb4-88a5-f60a8fce54b3"
      }
     }
    },
    "32899dd6-8f34-4746-8da8-0ca3a9186a2e": {
     "id": "32899dd6-8f34-4746-8da8-0ca3a9186a2e",
     "prev": "74ce85d7-ac59-4cc2-9390-94a2fe729841",
     "regions": {
      "8eaaa377-3a49-43c2-ad03-8fe0938c96ef": {
       "attrs": {
        "height": 0.8,
        "width": 0.8,
        "x": 0.1,
        "y": 0.1
       },
       "content": {
        "cell": "1b7fbe54-966e-4a85-9498-23bce1b6c92a",
        "part": "whole"
       },
       "id": "8eaaa377-3a49-43c2-ad03-8fe0938c96ef"
      }
     }
    },
    "32f3a581-189b-4956-9b2f-007a62ae3696": {
     "id": "32f3a581-189b-4956-9b2f-007a62ae3696",
     "prev": "18af95f0-b62c-46b0-b821-b14db773c013",
     "regions": {
      "e61ee75a-423c-4a11-a7ed-a2a58642ad0b": {
       "attrs": {
        "height": 0.8,
        "width": 0.8,
        "x": 0.1,
        "y": 0.1
       },
       "content": {
        "cell": "168498ed-8edd-417e-9156-0cd544cb0677",
        "part": "whole"
       },
       "id": "e61ee75a-423c-4a11-a7ed-a2a58642ad0b"
      }
     }
    },
    "3371c111-ef6d-4e50-b086-dafb46c1820f": {
     "id": "3371c111-ef6d-4e50-b086-dafb46c1820f",
     "prev": "6cd922e2-553e-4278-a852-3c4d61f1c906",
     "regions": {
      "51fa7aa9-9c99-4f87-8e0b-0433031f7dca": {
       "attrs": {
        "height": 0.8,
        "width": 0.8,
        "x": 0.1,
        "y": 0.1
       },
       "content": {
        "cell": "68113591-507a-4c02-9133-3cb8142de227",
        "part": "whole"
       },
       "id": "51fa7aa9-9c99-4f87-8e0b-0433031f7dca"
      }
     }
    },
    "350078d1-cdee-4f48-b929-7fb2ffc2f3d0": {
     "id": "350078d1-cdee-4f48-b929-7fb2ffc2f3d0",
     "prev": "b59359ae-9735-4a22-a8e2-4d9cc9ffef09",
     "regions": {
      "07d9810b-37df-4d1d-a603-eda6734f94ea": {
       "attrs": {
        "height": 0.8,
        "width": 0.8,
        "x": 0.1,
        "y": 0.1
       },
       "content": {
        "cell": "be3ce681-c2f1-4b77-938b-d731ff638994",
        "part": "whole"
       },
       "id": "07d9810b-37df-4d1d-a603-eda6734f94ea"
      }
     }
    },
    "3581cd54-9198-4f26-b0ee-92fdf8d5090a": {
     "id": "3581cd54-9198-4f26-b0ee-92fdf8d5090a",
     "prev": "7a76fa27-83fe-4cc5-b7c8-68e20638cd66",
     "regions": {
      "06def8f8-0da3-4da3-ba3b-49cca82577da": {
       "attrs": {
        "height": 0.8,
        "width": 0.8,
        "x": 0.1,
        "y": 0.1
       },
       "content": {
        "cell": "c45f49f7-6e90-4f61-82ca-efc328cdb5ba",
        "part": "whole"
       },
       "id": "06def8f8-0da3-4da3-ba3b-49cca82577da"
      }
     }
    },
    "35e55e54-6678-40ca-a95e-f399c2d0cd71": {
     "id": "35e55e54-6678-40ca-a95e-f399c2d0cd71",
     "prev": "e175d6b9-455b-454a-a9f3-7c6bf98e0c63",
     "regions": {
      "e6404175-2c96-442f-82da-81aa44424298": {
       "attrs": {
        "height": 0.8,
        "width": 0.8,
        "x": 0.1,
        "y": 0.1
       },
       "content": {
        "cell": "7b76d25e-5dcb-4dc7-aa39-a17209cb47bc",
        "part": "whole"
       },
       "id": "e6404175-2c96-442f-82da-81aa44424298"
      }
     }
    },
    "3606b4c5-9574-4247-a5f3-3f79830f8426": {
     "id": "3606b4c5-9574-4247-a5f3-3f79830f8426",
     "prev": "a3cefd96-f1fe-4565-aea4-e1a5e23d2dd0",
     "regions": {
      "2f1ba5ef-9ede-4926-8348-220492579575": {
       "attrs": {
        "height": 0.8,
        "width": 0.8,
        "x": 0.1,
        "y": 0.1
       },
       "content": {
        "cell": "26072367-4f06-4cce-bab1-38b4d5b1e704",
        "part": "whole"
       },
       "id": "2f1ba5ef-9ede-4926-8348-220492579575"
      }
     }
    },
    "36621d11-05f4-4c7f-9296-c0b6a592bc0d": {
     "id": "36621d11-05f4-4c7f-9296-c0b6a592bc0d",
     "prev": "c3d85cf6-9086-430e-88b1-fadf52aaa9f5",
     "regions": {
      "469e8879-976b-42f6-af3c-4d2e3b375e6c": {
       "attrs": {
        "height": 0.8,
        "width": 0.8,
        "x": 0.1,
        "y": 0.1
       },
       "content": {
        "cell": "13c52b84-b3d3-4f35-810e-6aa04cc5f863",
        "part": "whole"
       },
       "id": "469e8879-976b-42f6-af3c-4d2e3b375e6c"
      }
     }
    },
    "36f7e31a-44e1-48a5-8d4f-9389c0dd1094": {
     "id": "36f7e31a-44e1-48a5-8d4f-9389c0dd1094",
     "prev": "f28c4ada-e14a-45a5-8ac6-19e63cc7994e",
     "regions": {
      "3a91a69c-42e4-4d39-9602-61b72672e1b0": {
       "attrs": {
        "height": 0.8,
        "width": 0.8,
        "x": 0.1,
        "y": 0.1
       },
       "content": {
        "cell": "612a4af9-ed41-494e-9891-95abc5499fd5",
        "part": "whole"
       },
       "id": "3a91a69c-42e4-4d39-9602-61b72672e1b0"
      }
     }
    },
    "37221ca9-2ab6-438f-a204-fc252e4bcb1b": {
     "id": "37221ca9-2ab6-438f-a204-fc252e4bcb1b",
     "prev": "5daa9c02-c5cb-41e9-9926-c187780a0f88",
     "regions": {
      "ac00c16c-32bf-4cab-9c4a-25272cb2dce5": {
       "attrs": {
        "height": 0.8,
        "width": 0.8,
        "x": 0.1,
        "y": 0.1
       },
       "content": {
        "cell": "7de123ee-afb9-43a6-a788-ba8259e43c10",
        "part": "whole"
       },
       "id": "ac00c16c-32bf-4cab-9c4a-25272cb2dce5"
      }
     }
    },
    "39d20f40-f325-43a2-90c2-7ba71b11a38c": {
     "id": "39d20f40-f325-43a2-90c2-7ba71b11a38c",
     "prev": "92c3d928-cd56-4168-81e4-3a33f4591d2d",
     "regions": {
      "baab3991-f84f-4397-a3b9-4df72e341ea9": {
       "attrs": {
        "height": 0.8,
        "width": 0.8,
        "x": 0.1,
        "y": 0.1
       },
       "content": {
        "cell": "c12fc9c5-518f-47d0-948d-c5a850738081",
        "part": "whole"
       },
       "id": "baab3991-f84f-4397-a3b9-4df72e341ea9"
      }
     }
    },
    "39ef00e8-4a0a-4665-b1cb-04f3b878ca8e": {
     "id": "39ef00e8-4a0a-4665-b1cb-04f3b878ca8e",
     "prev": "76674591-bc27-4971-9404-fad1395710c2",
     "regions": {
      "77540ab7-a078-48d8-8766-59cf8bc4939e": {
       "attrs": {
        "height": 0.8,
        "width": 0.8,
        "x": 0.1,
        "y": 0.1
       },
       "content": {
        "cell": "fa7444c4-04b5-48b9-a106-5cf38c24ca33",
        "part": "whole"
       },
       "id": "77540ab7-a078-48d8-8766-59cf8bc4939e"
      }
     }
    },
    "3a7fb726-2dea-4025-ab74-b6c9990721eb": {
     "id": "3a7fb726-2dea-4025-ab74-b6c9990721eb",
     "prev": "bd8689e6-1973-4d63-8d74-a50c9c0c7437",
     "regions": {
      "f538125c-95b1-45f1-b93b-61f49d38ec44": {
       "attrs": {
        "height": 0.8,
        "width": 0.8,
        "x": 0.1,
        "y": 0.1
       },
       "content": {
        "cell": "5bbce344-b8fe-4333-a1fa-c6c9e3cd7886",
        "part": "whole"
       },
       "id": "f538125c-95b1-45f1-b93b-61f49d38ec44"
      }
     }
    },
    "3b95d047-7768-489b-9027-111bdb2d588d": {
     "id": "3b95d047-7768-489b-9027-111bdb2d588d",
     "prev": "b4cb4f35-d317-4ea9-95e7-6dcf71e42760",
     "regions": {
      "f5ac7e35-f6d6-48be-b7c9-7b0a6ae8d693": {
       "attrs": {
        "height": 0.8,
        "width": 0.8,
        "x": 0.1,
        "y": 0.1
       },
       "content": {
        "cell": "f8be1526-d123-4fa1-bbee-34be53114801",
        "part": "whole"
       },
       "id": "f5ac7e35-f6d6-48be-b7c9-7b0a6ae8d693"
      }
     }
    },
    "3d66c30b-3f48-40c5-923c-812f0f91a66c": {
     "id": "3d66c30b-3f48-40c5-923c-812f0f91a66c",
     "prev": "c4f55b79-4247-4ecd-bd02-f8f4fb4fe5e2",
     "regions": {
      "24010b16-91a4-4b4c-a40b-afe3f05b1893": {
       "attrs": {
        "height": 0.8,
        "width": 0.8,
        "x": 0.1,
        "y": 0.1
       },
       "content": {
        "cell": "7d39c0ed-66cf-461c-9a35-c5dd1cc8d075",
        "part": "whole"
       },
       "id": "24010b16-91a4-4b4c-a40b-afe3f05b1893"
      }
     }
    },
    "3df3596a-2102-4a55-89ab-9086c719bba1": {
     "id": "3df3596a-2102-4a55-89ab-9086c719bba1",
     "prev": "ae40c4ca-c75a-446e-8294-fbfab3371ff7",
     "regions": {
      "11ac4e57-83de-4047-8220-e3bbaf83ebc5": {
       "attrs": {
        "height": 0.8,
        "width": 0.8,
        "x": 0.1,
        "y": 0.1
       },
       "content": {
        "cell": "ad7d42a5-0cb7-427b-a370-4c1669bd73dc",
        "part": "whole"
       },
       "id": "11ac4e57-83de-4047-8220-e3bbaf83ebc5"
      }
     }
    },
    "3f9c377e-3ba9-47a2-8f9a-6c6a3122f052": {
     "id": "3f9c377e-3ba9-47a2-8f9a-6c6a3122f052",
     "prev": "bcc4c953-4c12-441c-9751-2bc8129efc2c",
     "regions": {
      "4c5832c2-0803-4442-87a6-d30c6d392083": {
       "attrs": {
        "height": 0.8,
        "width": 0.8,
        "x": 0.1,
        "y": 0.1
       },
       "content": {
        "cell": "e7936ce1-7662-4c7b-bc7f-5d799fd735b7",
        "part": "whole"
       },
       "id": "4c5832c2-0803-4442-87a6-d30c6d392083"
      }
     }
    },
    "3f9e8fb2-0d87-4f6a-9441-f16d69def8f0": {
     "id": "3f9e8fb2-0d87-4f6a-9441-f16d69def8f0",
     "prev": "a6ee6f2a-7d6e-4d9c-8ad6-4511d93ca38f",
     "regions": {
      "31f4ceb6-b6f3-46e0-a519-23509e4c9741": {
       "attrs": {
        "height": 0.8,
        "width": 0.8,
        "x": 0.1,
        "y": 0.1
       },
       "content": {
        "cell": "de8005c3-e4b5-4a92-a1ca-2b9871cd8177",
        "part": "whole"
       },
       "id": "31f4ceb6-b6f3-46e0-a519-23509e4c9741"
      }
     }
    },
    "41922a37-7809-4305-a13f-8ca1137cf700": {
     "id": "41922a37-7809-4305-a13f-8ca1137cf700",
     "prev": "9a805bbe-2dbd-4ffa-b36c-faed094ddfc2",
     "regions": {
      "a7460046-feff-4c1a-836a-c608372f048c": {
       "attrs": {
        "height": 0.8,
        "width": 0.8,
        "x": 0.1,
        "y": 0.1
       },
       "content": {
        "cell": "4ec02e25-230b-4dc4-b93d-248362bb6668",
        "part": "whole"
       },
       "id": "a7460046-feff-4c1a-836a-c608372f048c"
      }
     }
    },
    "48d4842a-1bff-4e13-b103-74f76aab740d": {
     "id": "48d4842a-1bff-4e13-b103-74f76aab740d",
     "prev": "8a5e2c9d-f98c-43b2-bdf4-871a8d453c05",
     "regions": {
      "20d3599e-5c78-4d8f-b2bc-ae7eb22a663a": {
       "attrs": {
        "height": 0.8,
        "width": 0.8,
        "x": 0.1,
        "y": 0.1
       },
       "content": {
        "cell": "65d55d3d-83d3-4e07-a3ec-721e8b1f3b1f",
        "part": "whole"
       },
       "id": "20d3599e-5c78-4d8f-b2bc-ae7eb22a663a"
      }
     }
    },
    "48dc5465-d7fc-4b8c-aab1-a0dd5e70fd11": {
     "id": "48dc5465-d7fc-4b8c-aab1-a0dd5e70fd11",
     "prev": "f2aec887-b5c6-4392-8980-acc096112791",
     "regions": {
      "6d4936b9-2a59-4df2-b12d-80be5f164b16": {
       "attrs": {
        "height": 0.8,
        "width": 0.8,
        "x": 0.1,
        "y": 0.1
       },
       "content": {
        "cell": "c480956a-f07e-4f3f-b1d6-b7145915b97f",
        "part": "whole"
       },
       "id": "6d4936b9-2a59-4df2-b12d-80be5f164b16"
      }
     }
    },
    "49a10bef-c875-4842-8f82-531e22fcefa1": {
     "id": "49a10bef-c875-4842-8f82-531e22fcefa1",
     "prev": "54900b8c-dda8-4400-867b-02af91a72c86",
     "regions": {
      "33845892-3349-4582-97ff-35576036fd13": {
       "attrs": {
        "height": 0.8,
        "width": 0.8,
        "x": 0.1,
        "y": 0.1
       },
       "content": {
        "cell": "b5f57013-8166-47f0-a4b1-8eb34c0670d6",
        "part": "whole"
       },
       "id": "33845892-3349-4582-97ff-35576036fd13"
      }
     }
    },
    "4a92a331-95c3-499d-88c1-dbc638b055e6": {
     "id": "4a92a331-95c3-499d-88c1-dbc638b055e6",
     "prev": "26143843-c506-40ec-b0f1-e0b03d5aff8b",
     "regions": {
      "5fd770ab-8c4e-40c0-a93a-c1c4ccdc53ca": {
       "attrs": {
        "height": 0.8,
        "width": 0.8,
        "x": 0.1,
        "y": 0.1
       },
       "content": {
        "cell": "ef71dc6e-6241-4c9d-9c35-1b3570720607",
        "part": "whole"
       },
       "id": "5fd770ab-8c4e-40c0-a93a-c1c4ccdc53ca"
      }
     }
    },
    "4bd9978d-7f41-46de-ad22-53a6e6e23185": {
     "id": "4bd9978d-7f41-46de-ad22-53a6e6e23185",
     "prev": "fd0caf8a-3d5d-41f3-9caa-08c21b3f26a8",
     "regions": {
      "21a820f0-e149-4df7-af32-efd471c94808": {
       "attrs": {
        "height": 0.8,
        "width": 0.8,
        "x": 0.1,
        "y": 0.1
       },
       "content": {
        "cell": "492f5304-26dd-4e66-a053-7c971820b37f",
        "part": "whole"
       },
       "id": "21a820f0-e149-4df7-af32-efd471c94808"
      }
     }
    },
    "4c1fa7cf-0db7-40e4-aa77-2f9011b9ee4e": {
     "id": "4c1fa7cf-0db7-40e4-aa77-2f9011b9ee4e",
     "prev": "6ef059ce-1031-4305-84f9-11b2db6fbe67",
     "regions": {
      "53e1996c-f4a4-4362-b5b0-ef507a7b95a3": {
       "attrs": {
        "height": 0.8,
        "width": 0.8,
        "x": 0.1,
        "y": 0.1
       },
       "content": {
        "cell": "eb190480-c43c-45bb-aeca-695375f0d8e6",
        "part": "whole"
       },
       "id": "53e1996c-f4a4-4362-b5b0-ef507a7b95a3"
      }
     }
    },
    "4e3c853f-29e9-4a8f-95fe-97e3c3168b33": {
     "id": "4e3c853f-29e9-4a8f-95fe-97e3c3168b33",
     "prev": "f4a79847-e440-4549-ac36-12c5f7ae16cd",
     "regions": {
      "58211f9e-84d3-4276-a738-bc0423f25623": {
       "attrs": {
        "height": 0.8,
        "width": 0.8,
        "x": 0.1,
        "y": 0.1
       },
       "content": {
        "cell": "b596eaf7-4e10-464b-a6c9-bc6c7ea47c5c",
        "part": "whole"
       },
       "id": "58211f9e-84d3-4276-a738-bc0423f25623"
      }
     }
    },
    "51c2b6eb-da6f-4d26-940b-96e6da8eeba9": {
     "id": "51c2b6eb-da6f-4d26-940b-96e6da8eeba9",
     "prev": "3371c111-ef6d-4e50-b086-dafb46c1820f",
     "regions": {
      "e1f0d0df-de07-4135-8dde-293bff600cba": {
       "attrs": {
        "height": 0.8,
        "width": 0.8,
        "x": 0.1,
        "y": 0.1
       },
       "content": {
        "cell": "0266279b-0a9a-4625-bf56-25dcdc3ed960",
        "part": "whole"
       },
       "id": "e1f0d0df-de07-4135-8dde-293bff600cba"
      }
     }
    },
    "51f45016-1aa3-4c90-a62a-263522722566": {
     "id": "51f45016-1aa3-4c90-a62a-263522722566",
     "prev": "0be7bcc1-ec21-4dc5-a2aa-8949340fb4ee",
     "regions": {
      "707f7fdf-48c7-450d-b9f0-bc783d441ea8": {
       "attrs": {
        "height": 0.8,
        "width": 0.8,
        "x": 0.1,
        "y": 0.1
       },
       "content": {
        "cell": "27fe706c-9327-4844-9521-3e436c33a60c",
        "part": "whole"
       },
       "id": "707f7fdf-48c7-450d-b9f0-bc783d441ea8"
      }
     }
    },
    "52150835-89bf-4187-9ecd-71fb5344896c": {
     "id": "52150835-89bf-4187-9ecd-71fb5344896c",
     "prev": "54e70085-001f-4d0a-8a1f-795d1d4419d2",
     "regions": {
      "37b5dcad-166a-4d5b-b949-50233689d3d0": {
       "attrs": {
        "height": 0.8,
        "width": 0.8,
        "x": 0.1,
        "y": 0.1
       },
       "content": {
        "cell": "d871227b-d4dd-40c1-a5ad-9fa3f362b878",
        "part": "whole"
       },
       "id": "37b5dcad-166a-4d5b-b949-50233689d3d0"
      }
     }
    },
    "52601c7e-15d5-4080-88d4-d83f3c51d6e3": {
     "id": "52601c7e-15d5-4080-88d4-d83f3c51d6e3",
     "prev": "7afe4c69-ffae-4a44-aa14-bd9055531b66",
     "regions": {
      "d29a3773-e527-4504-a013-cd70626753b8": {
       "attrs": {
        "height": 0.8,
        "width": 0.8,
        "x": 0.1,
        "y": 0.1
       },
       "content": {
        "cell": "1fc321cc-0ece-41d5-8edd-d69203c65255",
        "part": "whole"
       },
       "id": "d29a3773-e527-4504-a013-cd70626753b8"
      }
     }
    },
    "52b84271-2424-430d-bf1e-78ad464466d8": {
     "id": "52b84271-2424-430d-bf1e-78ad464466d8",
     "prev": "9621d9cb-f173-44a8-80b6-d9a7eeda1035",
     "regions": {
      "d2a751f3-4607-40e0-8c6a-a0917c52a557": {
       "attrs": {
        "height": 0.8,
        "width": 0.8,
        "x": 0.1,
        "y": 0.1
       },
       "content": {
        "cell": "7de047d9-e444-4106-9e95-a6b86a0da0b6",
        "part": "whole"
       },
       "id": "d2a751f3-4607-40e0-8c6a-a0917c52a557"
      }
     }
    },
    "5320ff24-3d91-439d-ab6f-aaa8a39f37a7": {
     "id": "5320ff24-3d91-439d-ab6f-aaa8a39f37a7",
     "prev": "49a10bef-c875-4842-8f82-531e22fcefa1",
     "regions": {
      "8c2e941e-0bf7-4074-83f3-aa702dd7bc6f": {
       "attrs": {
        "height": 0.8,
        "width": 0.8,
        "x": 0.1,
        "y": 0.1
       },
       "content": {
        "cell": "3053de36-47f9-4381-8f4c-56a0dfeab6ba",
        "part": "whole"
       },
       "id": "8c2e941e-0bf7-4074-83f3-aa702dd7bc6f"
      }
     }
    },
    "536cb1fd-855a-4fc4-985c-68c23940d8de": {
     "id": "536cb1fd-855a-4fc4-985c-68c23940d8de",
     "prev": "1057ac0a-e317-4e89-a987-2e41ccf94195",
     "regions": {
      "25f8b79c-aac0-4713-a885-e49bef97674f": {
       "attrs": {
        "height": 0.8,
        "width": 0.8,
        "x": 0.1,
        "y": 0.1
       },
       "content": {
        "cell": "b2ac494e-375a-408d-ad93-9ee0de749a8c",
        "part": "whole"
       },
       "id": "25f8b79c-aac0-4713-a885-e49bef97674f"
      }
     }
    },
    "54900b8c-dda8-4400-867b-02af91a72c86": {
     "id": "54900b8c-dda8-4400-867b-02af91a72c86",
     "prev": "2d0fcc61-8e3f-4086-9ef6-1066462d3b1c",
     "regions": {
      "21ced09b-8c95-4c75-be15-249dbcc3c5fd": {
       "attrs": {
        "height": 0.8,
        "width": 0.8,
        "x": 0.1,
        "y": 0.1
       },
       "content": {
        "cell": "66bfcfea-981d-45e4-9746-66e647572cbe",
        "part": "whole"
       },
       "id": "21ced09b-8c95-4c75-be15-249dbcc3c5fd"
      }
     }
    },
    "54e70085-001f-4d0a-8a1f-795d1d4419d2": {
     "id": "54e70085-001f-4d0a-8a1f-795d1d4419d2",
     "prev": "b3078405-004d-40f7-b3f2-3038aff10da4",
     "regions": {
      "a6617617-6e98-45c0-bba6-6a08a43f4384": {
       "attrs": {
        "height": 0.8,
        "width": 0.8,
        "x": 0.1,
        "y": 0.1
       },
       "content": {
        "cell": "f102e256-50cc-43d9-94fc-7cb973bbbf9e",
        "part": "whole"
       },
       "id": "a6617617-6e98-45c0-bba6-6a08a43f4384"
      }
     }
    },
    "5532ce63-059b-4216-9065-4c46bd7d89f7": {
     "id": "5532ce63-059b-4216-9065-4c46bd7d89f7",
     "prev": "bf5506a3-80c6-4637-9532-8dc03c52b679",
     "regions": {
      "6c41faf5-64dc-41c7-a361-45b5595926fe": {
       "attrs": {
        "height": 0.8,
        "width": 0.8,
        "x": 0.1,
        "y": 0.1
       },
       "content": {
        "cell": "324f8ab4-47a7-47bb-809f-1086cf588822",
        "part": "whole"
       },
       "id": "6c41faf5-64dc-41c7-a361-45b5595926fe"
      }
     }
    },
    "55334915-ab75-465f-bf45-ce4dd13bbb20": {
     "id": "55334915-ab75-465f-bf45-ce4dd13bbb20",
     "prev": "f8392f0b-5089-4d5e-84eb-e1722a4c85aa",
     "regions": {
      "e8bb24be-40fa-4c98-8d15-c8b9cd53a12b": {
       "attrs": {
        "height": 0.8,
        "width": 0.8,
        "x": 0.1,
        "y": 0.1
       },
       "content": {
        "cell": "fa50d4c7-be82-44ce-9b8f-58da1fbd29da",
        "part": "whole"
       },
       "id": "e8bb24be-40fa-4c98-8d15-c8b9cd53a12b"
      }
     }
    },
    "5732d044-c90a-4dd3-b9c1-8b9ad80afc91": {
     "id": "5732d044-c90a-4dd3-b9c1-8b9ad80afc91",
     "prev": "76da24ba-b1a3-465e-8ff1-b21d5656834a",
     "regions": {
      "a7aaab41-a806-43da-a783-694e01564a3b": {
       "attrs": {
        "height": 0.8,
        "width": 0.8,
        "x": 0.1,
        "y": 0.1
       },
       "content": {
        "cell": "f7e8b4a4-6320-40f5-8a00-0c76efbb34c1",
        "part": "whole"
       },
       "id": "a7aaab41-a806-43da-a783-694e01564a3b"
      }
     }
    },
    "5836c36f-6255-49e8-9fda-bb25f10a071b": {
     "id": "5836c36f-6255-49e8-9fda-bb25f10a071b",
     "prev": "f7ddf4dc-80d7-481b-9d21-1166031f8c04",
     "regions": {
      "b8e002e3-79f6-44c6-94c0-d5904c22041d": {
       "attrs": {
        "height": 0.8,
        "width": 0.8,
        "x": 0.1,
        "y": 0.1
       },
       "content": {
        "cell": "7540392f-5b0c-4b3d-af05-d16b033e489f",
        "part": "whole"
       },
       "id": "b8e002e3-79f6-44c6-94c0-d5904c22041d"
      }
     }
    },
    "5daa9c02-c5cb-41e9-9926-c187780a0f88": {
     "id": "5daa9c02-c5cb-41e9-9926-c187780a0f88",
     "prev": "f0500b2c-de07-412a-b94d-39bd77c9f6e2",
     "regions": {
      "68650477-dbb3-4baa-bd85-f9c3109c1b1c": {
       "attrs": {
        "height": 0.8,
        "width": 0.8,
        "x": 0.1,
        "y": 0.1
       },
       "content": {
        "cell": "73248ff9-96ab-4911-a605-a2656df5439d",
        "part": "whole"
       },
       "id": "68650477-dbb3-4baa-bd85-f9c3109c1b1c"
      }
     }
    },
    "5f42ae8b-f65d-4b99-8eaf-520303ff95da": {
     "id": "5f42ae8b-f65d-4b99-8eaf-520303ff95da",
     "prev": "a70aa22d-70a4-4ef9-84ce-5abf64e9a9c4",
     "regions": {
      "931f438a-488f-41cd-953a-42b1f0d9f11b": {
       "attrs": {
        "height": 0.8,
        "width": 0.8,
        "x": 0.1,
        "y": 0.1
       },
       "content": {
        "cell": "04dd2699-7471-4328-9551-fd7d5b32d4f1",
        "part": "whole"
       },
       "id": "931f438a-488f-41cd-953a-42b1f0d9f11b"
      }
     }
    },
    "5fa00ae9-67e1-48af-b9f9-1c9dc6bd9cce": {
     "id": "5fa00ae9-67e1-48af-b9f9-1c9dc6bd9cce",
     "prev": "77589c9b-bb73-4c33-83fd-047927847b02",
     "regions": {
      "807b4cec-3b29-45ad-8115-781f575d01de": {
       "attrs": {
        "height": 0.8,
        "width": 0.8,
        "x": 0.1,
        "y": 0.1
       },
       "content": {
        "cell": "017f3b47-bcf8-4afb-a814-b39120867dc1",
        "part": "whole"
       },
       "id": "807b4cec-3b29-45ad-8115-781f575d01de"
      }
     }
    },
    "60dd0f4b-356d-4ef4-bb3d-27ee9e270764": {
     "id": "60dd0f4b-356d-4ef4-bb3d-27ee9e270764",
     "prev": "2833646f-f9fa-4e0a-ae67-9ca9475599ff",
     "regions": {
      "a8f2e928-cbb5-423f-9344-335d28663019": {
       "attrs": {
        "height": 0.8,
        "width": 0.8,
        "x": 0.1,
        "y": 0.1
       },
       "content": {
        "cell": "a29dec58-b4fc-47a5-ab7b-67529d16f9a7",
        "part": "whole"
       },
       "id": "a8f2e928-cbb5-423f-9344-335d28663019"
      }
     }
    },
    "617fab4d-071d-4b09-94eb-5b459e8fc76a": {
     "id": "617fab4d-071d-4b09-94eb-5b459e8fc76a",
     "prev": "781a3039-1217-4bad-82e2-8513482cf86d",
     "regions": {
      "1f0a7267-aa44-4a10-af11-4c6e111c94ea": {
       "attrs": {
        "height": 0.8,
        "width": 0.8,
        "x": 0.1,
        "y": 0.1
       },
       "content": {
        "cell": "79fef2fe-2980-4355-aa59-3220f463fffd",
        "part": "whole"
       },
       "id": "1f0a7267-aa44-4a10-af11-4c6e111c94ea"
      }
     }
    },
    "61f8bb5f-c885-4667-895f-1b4b168e915b": {
     "id": "61f8bb5f-c885-4667-895f-1b4b168e915b",
     "prev": "5fa00ae9-67e1-48af-b9f9-1c9dc6bd9cce",
     "regions": {
      "74ec2938-cfa3-41f1-8b64-a4f927be6a57": {
       "attrs": {
        "height": 0.8,
        "width": 0.8,
        "x": 0.1,
        "y": 0.1
       },
       "content": {
        "cell": "d7fdd4f8-cfe4-4d35-9027-04a8f895bd39",
        "part": "whole"
       },
       "id": "74ec2938-cfa3-41f1-8b64-a4f927be6a57"
      }
     }
    },
    "63b65a05-1500-4663-8a86-e90ae8d0892b": {
     "id": "63b65a05-1500-4663-8a86-e90ae8d0892b",
     "prev": "5320ff24-3d91-439d-ab6f-aaa8a39f37a7",
     "regions": {
      "27feddd7-a249-4a73-ab6a-db0a9889f568": {
       "attrs": {
        "height": 0.8,
        "width": 0.8,
        "x": 0.1,
        "y": 0.1
       },
       "content": {
        "cell": "7dd51bf0-751a-4a1f-8c11-8c92454ddfe8",
        "part": "whole"
       },
       "id": "27feddd7-a249-4a73-ab6a-db0a9889f568"
      }
     }
    },
    "646615f6-a696-4df9-b2bf-9fa4972a3fd6": {
     "id": "646615f6-a696-4df9-b2bf-9fa4972a3fd6",
     "prev": "a73bb454-1e38-4a4c-b86c-d53f515130ce",
     "regions": {
      "b3358fd4-f5dd-42f0-b606-b30815b7af87": {
       "attrs": {
        "height": 0.8,
        "width": 0.8,
        "x": 0.1,
        "y": 0.1
       },
       "content": {
        "cell": "489b9702-a852-4f72-b58d-d6fc4542e88d",
        "part": "whole"
       },
       "id": "b3358fd4-f5dd-42f0-b606-b30815b7af87"
      }
     }
    },
    "64aa93f7-d0a4-4f3f-9152-cb117c0d33d2": {
     "id": "64aa93f7-d0a4-4f3f-9152-cb117c0d33d2",
     "prev": "2fdee9d1-218e-4614-9c26-c85a8539bedf",
     "regions": {
      "5c3d01c1-2069-4eaf-ac4a-4fae65499b02": {
       "attrs": {
        "height": 0.8,
        "width": 0.8,
        "x": 0.1,
        "y": 0.1
       },
       "content": {
        "cell": "f3163aac-b6b4-4828-9fdc-0016831ba4c2",
        "part": "whole"
       },
       "id": "5c3d01c1-2069-4eaf-ac4a-4fae65499b02"
      }
     }
    },
    "65406cb9-9608-4b17-b14f-fe2d07d4636d": {
     "id": "65406cb9-9608-4b17-b14f-fe2d07d4636d",
     "prev": "61f8bb5f-c885-4667-895f-1b4b168e915b",
     "regions": {
      "7ffb80d4-6f0c-4f7d-a42c-9b1577ba91e6": {
       "attrs": {
        "height": 0.8,
        "width": 0.8,
        "x": 0.1,
        "y": 0.1
       },
       "content": {
        "cell": "31680d68-3153-4b2b-8b9d-79df2337e67d",
        "part": "whole"
       },
       "id": "7ffb80d4-6f0c-4f7d-a42c-9b1577ba91e6"
      }
     }
    },
    "657f5d9e-6d8b-4c8e-8e53-c964feee9c28": {
     "id": "657f5d9e-6d8b-4c8e-8e53-c964feee9c28",
     "prev": "65406cb9-9608-4b17-b14f-fe2d07d4636d",
     "regions": {
      "da2870d5-20a2-49ce-93ed-8012c1a26004": {
       "attrs": {
        "height": 0.8,
        "width": 0.8,
        "x": 0.1,
        "y": 0.1
       },
       "content": {
        "cell": "f71b60e9-e8e7-4b96-bc1c-a9fe3530798b",
        "part": "whole"
       },
       "id": "da2870d5-20a2-49ce-93ed-8012c1a26004"
      }
     }
    },
    "672389ae-de99-4fe6-b2d6-1ce85619871f": {
     "id": "672389ae-de99-4fe6-b2d6-1ce85619871f",
     "prev": "6a66570c-34cc-4d2c-bbf5-567ebefcf7e6",
     "regions": {
      "62f33897-0594-42b8-adac-65059f390ca5": {
       "attrs": {
        "height": 0.8,
        "width": 0.8,
        "x": 0.1,
        "y": 0.1
       },
       "content": {
        "cell": "0b5f5737-3bbf-4589-a0cf-cef8cc550611",
        "part": "whole"
       },
       "id": "62f33897-0594-42b8-adac-65059f390ca5"
      }
     }
    },
    "6723ae79-c149-46a7-98f9-d650c1fc7584": {
     "id": "6723ae79-c149-46a7-98f9-d650c1fc7584",
     "prev": "d3aadec2-8043-43db-9631-ed468c9eba61",
     "regions": {
      "8d5b41fa-f2d5-4e41-9a48-114aa859fbc6": {
       "attrs": {
        "height": 0.8,
        "width": 0.8,
        "x": 0.1,
        "y": 0.1
       },
       "content": {
        "cell": "a34f347c-3fa5-4963-b01e-db885c857a0b",
        "part": "whole"
       },
       "id": "8d5b41fa-f2d5-4e41-9a48-114aa859fbc6"
      }
     }
    },
    "6973a990-a560-45da-bf08-33dab23595da": {
     "id": "6973a990-a560-45da-bf08-33dab23595da",
     "prev": "901c592a-d3a7-47e0-9f8e-fd0e600082a2",
     "regions": {
      "f3e088d1-2ceb-4c2f-9394-6a07fe954713": {
       "attrs": {
        "height": 0.8,
        "width": 0.8,
        "x": 0.1,
        "y": 0.1
       },
       "content": {
        "cell": "a214414a-e9a8-4cb1-ac91-5105ffee0cd3",
        "part": "whole"
       },
       "id": "f3e088d1-2ceb-4c2f-9394-6a07fe954713"
      }
     }
    },
    "6a66570c-34cc-4d2c-bbf5-567ebefcf7e6": {
     "id": "6a66570c-34cc-4d2c-bbf5-567ebefcf7e6",
     "prev": "b66ac8ba-078b-4978-92e9-5b35d4dfb970",
     "regions": {
      "b6f5217b-78f0-40af-b4d0-321633012a8f": {
       "attrs": {
        "height": 0.8,
        "width": 0.8,
        "x": 0.1,
        "y": 0.1
       },
       "content": {
        "cell": "48e7cc35-f38e-41dd-9eec-aa4bea34d264",
        "part": "whole"
       },
       "id": "b6f5217b-78f0-40af-b4d0-321633012a8f"
      }
     }
    },
    "6ba1c3fb-c328-4093-8c6a-333576be8650": {
     "id": "6ba1c3fb-c328-4093-8c6a-333576be8650",
     "prev": "b511fcfd-7d0a-4e7a-b0c3-937156efc856",
     "regions": {
      "5cf3b2cd-8f01-4014-b850-049169f28dfb": {
       "attrs": {
        "height": 0.8,
        "width": 0.8,
        "x": 0.1,
        "y": 0.1
       },
       "content": {
        "cell": "ca81541f-0d79-497a-810d-412d08530efa",
        "part": "whole"
       },
       "id": "5cf3b2cd-8f01-4014-b850-049169f28dfb"
      }
     }
    },
    "6ccdc158-923a-414b-b053-08b1b4f605a6": {
     "id": "6ccdc158-923a-414b-b053-08b1b4f605a6",
     "prev": "657f5d9e-6d8b-4c8e-8e53-c964feee9c28",
     "regions": {
      "d011b3b4-3cd8-4963-86ed-e42046db7822": {
       "attrs": {
        "height": 0.8,
        "width": 0.8,
        "x": 0.1,
        "y": 0.1
       },
       "content": {
        "cell": "39dc5eff-394b-46b3-aa9d-55c70bbd9496",
        "part": "whole"
       },
       "id": "d011b3b4-3cd8-4963-86ed-e42046db7822"
      }
     }
    },
    "6cd922e2-553e-4278-a852-3c4d61f1c906": {
     "id": "6cd922e2-553e-4278-a852-3c4d61f1c906",
     "prev": "f7509fbd-ab9a-4911-9138-6b1af48f01f0",
     "regions": {
      "6478a5e9-757e-46dd-90fe-8612507d9b8b": {
       "attrs": {
        "height": 0.8,
        "width": 0.8,
        "x": 0.1,
        "y": 0.1
       },
       "content": {
        "cell": "a5b08f83-1ffd-4a88-941b-a8471101b857",
        "part": "whole"
       },
       "id": "6478a5e9-757e-46dd-90fe-8612507d9b8b"
      }
     }
    },
    "6d1530ec-0fc2-45ee-b1b6-60385c7ed2b7": {
     "id": "6d1530ec-0fc2-45ee-b1b6-60385c7ed2b7",
     "prev": "36621d11-05f4-4c7f-9296-c0b6a592bc0d",
     "regions": {
      "f25386c8-fbca-4090-aac7-87bebe945a9e": {
       "attrs": {
        "height": 0.8,
        "width": 0.8,
        "x": 0.1,
        "y": 0.1
       },
       "content": {
        "cell": "d26c7c8e-082f-4ab2-b241-bf80b58e2921",
        "part": "whole"
       },
       "id": "f25386c8-fbca-4090-aac7-87bebe945a9e"
      }
     }
    },
    "6d23e560-470b-43c3-a8e8-9132c5b81df2": {
     "id": "6d23e560-470b-43c3-a8e8-9132c5b81df2",
     "prev": "1d50f252-fd67-42e5-addf-3f9d7a28dd31",
     "regions": {
      "5533b4b8-f6e1-4aa8-857e-d6e225bbaed5": {
       "attrs": {
        "height": 0.8,
        "width": 0.8,
        "x": 0.1,
        "y": 0.1
       },
       "content": {
        "cell": "8c66301a-1f3a-4bc3-8f22-9fa545147e23",
        "part": "whole"
       },
       "id": "5533b4b8-f6e1-4aa8-857e-d6e225bbaed5"
      }
     }
    },
    "6ef059ce-1031-4305-84f9-11b2db6fbe67": {
     "id": "6ef059ce-1031-4305-84f9-11b2db6fbe67",
     "prev": "35e55e54-6678-40ca-a95e-f399c2d0cd71",
     "regions": {
      "fe173426-e849-4207-90bf-fc93106ab712": {
       "attrs": {
        "height": 0.8,
        "width": 0.8,
        "x": 0.1,
        "y": 0.1
       },
       "content": {
        "cell": "06b094bc-f809-4e9d-9317-467f755dfc7a",
        "part": "whole"
       },
       "id": "fe173426-e849-4207-90bf-fc93106ab712"
      }
     }
    },
    "70b54139-b705-4d90-97a8-dc907d239a9d": {
     "id": "70b54139-b705-4d90-97a8-dc907d239a9d",
     "prev": "3f9c377e-3ba9-47a2-8f9a-6c6a3122f052",
     "regions": {
      "1b015b3a-fbc5-4d33-8e1e-b9123642377d": {
       "attrs": {
        "height": 0.8,
        "width": 0.8,
        "x": 0.1,
        "y": 0.1
       },
       "content": {
        "cell": "b384626e-1dd5-4dff-a9a2-72130a5f0a49",
        "part": "whole"
       },
       "id": "1b015b3a-fbc5-4d33-8e1e-b9123642377d"
      }
     }
    },
    "71138d00-1de1-4255-b423-0fbca3e37521": {
     "id": "71138d00-1de1-4255-b423-0fbca3e37521",
     "prev": "3151943d-b59d-46ef-9cde-db0a0c80c566",
     "regions": {
      "3ec791e0-90c2-4bc0-9bf8-f09b654dec28": {
       "attrs": {
        "height": 0.8,
        "width": 0.8,
        "x": 0.1,
        "y": 0.1
       },
       "content": {
        "cell": "f416b77c-3817-4ba4-b076-8d065e53d09e",
        "part": "whole"
       },
       "id": "3ec791e0-90c2-4bc0-9bf8-f09b654dec28"
      }
     }
    },
    "730c66a5-e473-418e-a1fa-3ba3d7a1589a": {
     "id": "730c66a5-e473-418e-a1fa-3ba3d7a1589a",
     "prev": "ea102ea8-9425-4d87-8828-c84ad2a08d17",
     "regions": {
      "9812e8ad-8978-4e3a-af78-58107f51b18c": {
       "attrs": {
        "height": 0.8,
        "width": 0.8,
        "x": 0.1,
        "y": 0.1
       },
       "content": {
        "cell": "08f6f0c4-56ee-44a2-84f8-8fd6819a9d52",
        "part": "whole"
       },
       "id": "9812e8ad-8978-4e3a-af78-58107f51b18c"
      }
     }
    },
    "73aff777-27bc-4986-95a1-449531e033ff": {
     "id": "73aff777-27bc-4986-95a1-449531e033ff",
     "prev": "2db7c0f2-c03b-45a0-b05b-d3dfed8ba720",
     "regions": {
      "7432b002-bb52-4a0a-8308-31de294ed195": {
       "attrs": {
        "height": 0.8,
        "width": 0.8,
        "x": 0.1,
        "y": 0.1
       },
       "content": {
        "cell": "3e6e8dfd-88cb-472d-8c78-5ec174ea5193",
        "part": "whole"
       },
       "id": "7432b002-bb52-4a0a-8308-31de294ed195"
      }
     }
    },
    "749ea597-76ca-4863-a9cf-e9d2322a96a4": {
     "id": "749ea597-76ca-4863-a9cf-e9d2322a96a4",
     "prev": "ec81f128-c459-4126-b075-464ea504721f",
     "regions": {
      "24c005a3-e511-4ffc-a09f-5773a52904e7": {
       "attrs": {
        "height": 0.8,
        "width": 0.8,
        "x": 0.1,
        "y": 0.1
       },
       "content": {
        "cell": "ffb7631f-cc98-4285-9663-226c09fff590",
        "part": "whole"
       },
       "id": "24c005a3-e511-4ffc-a09f-5773a52904e7"
      }
     }
    },
    "74ce85d7-ac59-4cc2-9390-94a2fe729841": {
     "id": "74ce85d7-ac59-4cc2-9390-94a2fe729841",
     "prev": "3b95d047-7768-489b-9027-111bdb2d588d",
     "regions": {
      "03330b1a-8991-4121-85fe-f0bb9fa4f161": {
       "attrs": {
        "height": 0.8,
        "width": 0.8,
        "x": 0.1,
        "y": 0.1
       },
       "content": {
        "cell": "d903a44e-29bb-4898-b0f2-eba740edec3c",
        "part": "whole"
       },
       "id": "03330b1a-8991-4121-85fe-f0bb9fa4f161"
      }
     }
    },
    "752a273d-a6b1-45d0-a199-3507c7bd8015": {
     "id": "752a273d-a6b1-45d0-a199-3507c7bd8015",
     "prev": "996d17dd-79a6-44db-adfc-bb7b973b4ef8",
     "regions": {
      "4ea228be-8745-42c1-bc7f-b7154102535f": {
       "attrs": {
        "height": 0.8,
        "width": 0.8,
        "x": 0.1,
        "y": 0.1
       },
       "content": {
        "cell": "f57ff21a-61e6-4103-a2b0-bd02db094b1d",
        "part": "whole"
       },
       "id": "4ea228be-8745-42c1-bc7f-b7154102535f"
      }
     }
    },
    "76674591-bc27-4971-9404-fad1395710c2": {
     "id": "76674591-bc27-4971-9404-fad1395710c2",
     "prev": "bf4a26eb-4916-4837-8400-13dd88199482",
     "regions": {
      "946ae2ec-102e-40e7-ad50-830a814d45f4": {
       "attrs": {
        "height": 0.8,
        "width": 0.8,
        "x": 0.1,
        "y": 0.1
       },
       "content": {
        "cell": "ac73781f-1113-47c9-bc0b-ff1c6f328aa2",
        "part": "whole"
       },
       "id": "946ae2ec-102e-40e7-ad50-830a814d45f4"
      }
     }
    },
    "76da24ba-b1a3-465e-8ff1-b21d5656834a": {
     "id": "76da24ba-b1a3-465e-8ff1-b21d5656834a",
     "prev": "4bd9978d-7f41-46de-ad22-53a6e6e23185",
     "regions": {
      "39ed17a1-3a1f-47c5-aa11-68578ff1333d": {
       "attrs": {
        "height": 0.8,
        "width": 0.8,
        "x": 0.1,
        "y": 0.1
       },
       "content": {
        "cell": "190362e8-de5b-4221-8796-abe8c467029b",
        "part": "whole"
       },
       "id": "39ed17a1-3a1f-47c5-aa11-68578ff1333d"
      }
     }
    },
    "77589c9b-bb73-4c33-83fd-047927847b02": {
     "id": "77589c9b-bb73-4c33-83fd-047927847b02",
     "prev": "0912a4aa-0701-46df-b147-638a992ef413",
     "regions": {
      "585cb34f-eeab-4b6f-81e7-eedc3318a5d1": {
       "attrs": {
        "height": 0.8,
        "width": 0.8,
        "x": 0.1,
        "y": 0.1
       },
       "content": {
        "cell": "6418a920-9525-4608-992b-04e45e00bdb1",
        "part": "whole"
       },
       "id": "585cb34f-eeab-4b6f-81e7-eedc3318a5d1"
      }
     }
    },
    "77d3189f-afeb-4291-b996-5c7734014627": {
     "id": "77d3189f-afeb-4291-b996-5c7734014627",
     "prev": "237577b0-9379-4ce4-a171-3889a3d42450",
     "regions": {
      "60d61104-0186-49d6-a8bb-68be7b6b192f": {
       "attrs": {
        "height": 0.8,
        "width": 0.8,
        "x": 0.1,
        "y": 0.1
       },
       "content": {
        "cell": "10bbf32c-3190-4853-b5b7-47d3048a2732",
        "part": "whole"
       },
       "id": "60d61104-0186-49d6-a8bb-68be7b6b192f"
      }
     }
    },
    "781a3039-1217-4bad-82e2-8513482cf86d": {
     "id": "781a3039-1217-4bad-82e2-8513482cf86d",
     "prev": "219e1659-447c-44ee-935e-9ebb107df7b1",
     "regions": {
      "9aaf2157-6975-44b5-b43d-da6917a872b9": {
       "attrs": {
        "height": 0.8,
        "width": 0.8,
        "x": 0.1,
        "y": 0.1
       },
       "content": {
        "cell": "aabebd8c-9653-4790-a1ac-5d6416a6a875",
        "part": "whole"
       },
       "id": "9aaf2157-6975-44b5-b43d-da6917a872b9"
      }
     }
    },
    "79a73629-d762-416b-9467-88c351794011": {
     "id": "79a73629-d762-416b-9467-88c351794011",
     "prev": "01be6c68-04ad-49f2-a11f-c403f5356a5b",
     "regions": {
      "bfa17a0e-ff80-42b6-8da9-04f764583c63": {
       "attrs": {
        "height": 0.8,
        "width": 0.8,
        "x": 0.1,
        "y": 0.1
       },
       "content": {
        "cell": "aad3f184-80d5-4588-ad1e-748d2788acba",
        "part": "whole"
       },
       "id": "bfa17a0e-ff80-42b6-8da9-04f764583c63"
      }
     }
    },
    "7a76fa27-83fe-4cc5-b7c8-68e20638cd66": {
     "id": "7a76fa27-83fe-4cc5-b7c8-68e20638cd66",
     "prev": "b858d381-df63-4a3c-9d55-7e73b93e0437",
     "regions": {
      "c4819d08-4803-4654-99e9-17e40a0698a4": {
       "attrs": {
        "height": 0.8,
        "width": 0.8,
        "x": 0.1,
        "y": 0.1
       },
       "content": {
        "cell": "ce0f95d9-9fc1-4828-b70e-b99e91820cea",
        "part": "whole"
       },
       "id": "c4819d08-4803-4654-99e9-17e40a0698a4"
      }
     }
    },
    "7afe4c69-ffae-4a44-aa14-bd9055531b66": {
     "id": "7afe4c69-ffae-4a44-aa14-bd9055531b66",
     "prev": "3090d9d4-1b3c-46fc-9832-3214854b933f",
     "regions": {
      "dc09be74-d531-4567-a800-85b06bb94532": {
       "attrs": {
        "height": 0.8,
        "width": 0.8,
        "x": 0.1,
        "y": 0.1
       },
       "content": {
        "cell": "5330ac64-e0b5-4fac-985f-07849473b7fb",
        "part": "whole"
       },
       "id": "dc09be74-d531-4567-a800-85b06bb94532"
      }
     }
    },
    "7c31b579-08d3-455d-9e24-b4622e757c42": {
     "id": "7c31b579-08d3-455d-9e24-b4622e757c42",
     "prev": "8e70763d-0dc3-4b8f-b0cd-6a355f321e8e",
     "regions": {
      "b433e703-fa13-4132-9e8f-216f80321779": {
       "attrs": {
        "height": 0.8,
        "width": 0.8,
        "x": 0.1,
        "y": 0.1
       },
       "content": {
        "cell": "4ca86a90-74ed-42a2-a46d-a42d4a28ddb5",
        "part": "whole"
       },
       "id": "b433e703-fa13-4132-9e8f-216f80321779"
      }
     }
    },
    "7cfff8ad-751a-47bb-852c-5e133999003e": {
     "id": "7cfff8ad-751a-47bb-852c-5e133999003e",
     "prev": "a9e43937-4f0f-4fc5-b478-0526c408d310",
     "regions": {
      "95e424e4-139b-423f-987c-97bf7e09bea5": {
       "attrs": {
        "height": 0.8,
        "width": 0.8,
        "x": 0.1,
        "y": 0.1
       },
       "content": {
        "cell": "2fdb7722-0318-4e21-b4c5-59c4c55d1f6a",
        "part": "whole"
       },
       "id": "95e424e4-139b-423f-987c-97bf7e09bea5"
      }
     }
    },
    "7e20bb10-3c4f-4fc7-bb12-c2725a5e9b7b": {
     "id": "7e20bb10-3c4f-4fc7-bb12-c2725a5e9b7b",
     "prev": "beea1280-1505-4afa-9ce4-9717b54e32de",
     "regions": {
      "ab53ec5c-9e9b-4c17-8283-2e02f0b5236b": {
       "attrs": {
        "height": 0.8,
        "width": 0.8,
        "x": 0.1,
        "y": 0.1
       },
       "content": {
        "cell": "053a878b-45b6-4880-8c45-d95f0ab23dc3",
        "part": "whole"
       },
       "id": "ab53ec5c-9e9b-4c17-8283-2e02f0b5236b"
      }
     }
    },
    "8202ef27-0cf2-47cd-8c6c-b4aa77d457b5": {
     "id": "8202ef27-0cf2-47cd-8c6c-b4aa77d457b5",
     "prev": "b6fb15a9-87e8-46f6-8963-e51cafeb24eb",
     "regions": {
      "d0f447af-a84a-4a25-b092-17dcd9d5df38": {
       "attrs": {
        "height": 0.8,
        "width": 0.8,
        "x": 0.1,
        "y": 0.1
       },
       "content": {
        "cell": "73667723-2bac-486f-ade3-aadcaac17ba8",
        "part": "whole"
       },
       "id": "d0f447af-a84a-4a25-b092-17dcd9d5df38"
      }
     }
    },
    "824afa7b-4073-40e6-a406-961f2d6c931a": {
     "id": "824afa7b-4073-40e6-a406-961f2d6c931a",
     "prev": "55334915-ab75-465f-bf45-ce4dd13bbb20",
     "regions": {
      "b64be922-96db-434d-8dd8-15bf4283c773": {
       "attrs": {
        "height": 0.8,
        "width": 0.8,
        "x": 0.1,
        "y": 0.1
       },
       "content": {
        "cell": "5daf2b81-614a-444e-b0ec-00d8a5ec0679",
        "part": "whole"
       },
       "id": "b64be922-96db-434d-8dd8-15bf4283c773"
      }
     }
    },
    "82a95c5c-b373-4466-b291-6d1b83ff157b": {
     "id": "82a95c5c-b373-4466-b291-6d1b83ff157b",
     "prev": "8202ef27-0cf2-47cd-8c6c-b4aa77d457b5",
     "regions": {
      "659b5e22-a8ad-428f-8ce1-5e63b0f7e1f1": {
       "attrs": {
        "height": 0.8,
        "width": 0.8,
        "x": 0.1,
        "y": 0.1
       },
       "content": {
        "cell": "73d03c54-b3c9-43fd-ba20-2ab6c9cc21ef",
        "part": "whole"
       },
       "id": "659b5e22-a8ad-428f-8ce1-5e63b0f7e1f1"
      }
     }
    },
    "82abee69-5d76-445e-9006-e8c61e48efa9": {
     "id": "82abee69-5d76-445e-9006-e8c61e48efa9",
     "prev": "e7d4c69d-affa-4a92-9734-980b2ea961e4",
     "regions": {
      "9ea2fe99-193f-4f38-970b-745a85be5787": {
       "attrs": {
        "height": 0.8,
        "width": 0.8,
        "x": 0.1,
        "y": 0.1
       },
       "content": {
        "cell": "327137d4-8ac4-48da-b1de-fb95c9f22935",
        "part": "whole"
       },
       "id": "9ea2fe99-193f-4f38-970b-745a85be5787"
      }
     }
    },
    "82e97888-e9e0-4c22-b092-c887e18f1fc7": {
     "id": "82e97888-e9e0-4c22-b092-c887e18f1fc7",
     "prev": "bcef0702-a96e-46dc-bf97-5d166243785a",
     "regions": {
      "be66ee27-d407-48cc-a42d-17e6984e7e98": {
       "attrs": {
        "height": 0.8,
        "width": 0.8,
        "x": 0.1,
        "y": 0.1
       },
       "content": {
        "cell": "963a3cc5-3883-435d-a090-afad780451ea",
        "part": "whole"
       },
       "id": "be66ee27-d407-48cc-a42d-17e6984e7e98"
      }
     }
    },
    "84512f96-37e9-4b37-96f6-5ebf1caabeb9": {
     "id": "84512f96-37e9-4b37-96f6-5ebf1caabeb9",
     "prev": "6d1530ec-0fc2-45ee-b1b6-60385c7ed2b7",
     "regions": {
      "fb1889c5-d156-43e9-a03c-349b1c8da8c7": {
       "attrs": {
        "height": 0.8,
        "width": 0.8,
        "x": 0.1,
        "y": 0.1
       },
       "content": {
        "cell": "9fa4d2a5-33d6-4bb3-bfb1-7420b65ce780",
        "part": "whole"
       },
       "id": "fb1889c5-d156-43e9-a03c-349b1c8da8c7"
      }
     }
    },
    "8644d6a0-50ea-4422-9b00-fa5370327161": {
     "id": "8644d6a0-50ea-4422-9b00-fa5370327161",
     "prev": "eb3383ef-efd6-4f32-a17c-86706a2c9e70",
     "regions": {
      "fae170f0-9617-40ce-ba81-f2dc480867aa": {
       "attrs": {
        "height": 0.8,
        "width": 0.8,
        "x": 0.1,
        "y": 0.1
       },
       "content": {
        "cell": "ae5280f0-4e1d-4dd9-8d4e-1a410802d866",
        "part": "whole"
       },
       "id": "fae170f0-9617-40ce-ba81-f2dc480867aa"
      }
     }
    },
    "86dab9e5-eecc-4cf9-a1af-fde6d423b7ed": {
     "id": "86dab9e5-eecc-4cf9-a1af-fde6d423b7ed",
     "prev": "6d23e560-470b-43c3-a8e8-9132c5b81df2",
     "regions": {
      "6c7fd9c1-b3aa-476e-8cc9-09f4a01c7e38": {
       "attrs": {
        "height": 0.8,
        "width": 0.8,
        "x": 0.1,
        "y": 0.1
       },
       "content": {
        "cell": "cb0573e7-b82a-4cc3-b287-b3f20f556602",
        "part": "whole"
       },
       "id": "6c7fd9c1-b3aa-476e-8cc9-09f4a01c7e38"
      }
     }
    },
    "87b350ac-1fb4-45d3-98a0-f3009b16688c": {
     "id": "87b350ac-1fb4-45d3-98a0-f3009b16688c",
     "prev": "09ad0890-ab5a-4ede-a8d2-fdbd43a5da21",
     "regions": {
      "a87aeab1-4939-493a-ae27-24bda10da071": {
       "attrs": {
        "height": 0.8,
        "width": 0.8,
        "x": 0.1,
        "y": 0.1
       },
       "content": {
        "cell": "af85dceb-79ef-44bc-bc5b-538a4aa0d9dd",
        "part": "whole"
       },
       "id": "a87aeab1-4939-493a-ae27-24bda10da071"
      }
     }
    },
    "8a5e2c9d-f98c-43b2-bdf4-871a8d453c05": {
     "id": "8a5e2c9d-f98c-43b2-bdf4-871a8d453c05",
     "prev": "cd193968-d054-4281-82e7-9b67f0f7506a",
     "regions": {
      "ba3e35c4-8e12-45a0-b893-77966dd08ff5": {
       "attrs": {
        "height": 0.8,
        "width": 0.8,
        "x": 0.1,
        "y": 0.1
       },
       "content": {
        "cell": "11f1de4a-fae8-4320-a8f2-b354c9dce5ab",
        "part": "whole"
       },
       "id": "ba3e35c4-8e12-45a0-b893-77966dd08ff5"
      }
     }
    },
    "8a747dec-9477-4833-8387-48be9167bc51": {
     "id": "8a747dec-9477-4833-8387-48be9167bc51",
     "prev": "39ef00e8-4a0a-4665-b1cb-04f3b878ca8e",
     "regions": {
      "e70a8ee5-d761-4e76-a1aa-10b41ae35f1f": {
       "attrs": {
        "height": 0.8,
        "width": 0.8,
        "x": 0.1,
        "y": 0.1
       },
       "content": {
        "cell": "b9b0414d-d865-4259-b25e-4d75950ffbb6",
        "part": "whole"
       },
       "id": "e70a8ee5-d761-4e76-a1aa-10b41ae35f1f"
      }
     }
    },
    "8af4f709-5c5a-49b1-8f9e-902050d1cc4b": {
     "id": "8af4f709-5c5a-49b1-8f9e-902050d1cc4b",
     "prev": "cffa440e-a953-4bd2-b8dc-aa3be1ceb06a",
     "regions": {
      "65448ccc-9258-4706-a7ff-4ac2cc88f27f": {
       "attrs": {
        "height": 0.8,
        "width": 0.8,
        "x": 0.1,
        "y": 0.1
       },
       "content": {
        "cell": "ead9d12e-2f48-40ae-aa08-91937fa9c740",
        "part": "whole"
       },
       "id": "65448ccc-9258-4706-a7ff-4ac2cc88f27f"
      }
     }
    },
    "8cb3cfdf-0617-4cc8-91d7-062d48995774": {
     "id": "8cb3cfdf-0617-4cc8-91d7-062d48995774",
     "prev": "1546c70e-083d-44d8-bbb6-40418d5847c9",
     "regions": {
      "87b7ca9e-604d-4187-83b4-b23e26847522": {
       "attrs": {
        "height": 0.8,
        "width": 0.8,
        "x": 0.1,
        "y": 0.1
       },
       "content": {
        "cell": "f1769803-ec75-4cfc-ba1b-cb1c5d88e891",
        "part": "whole"
       },
       "id": "87b7ca9e-604d-4187-83b4-b23e26847522"
      }
     }
    },
    "8df6e7ea-d1d4-43a0-b5a0-36381484fa55": {
     "id": "8df6e7ea-d1d4-43a0-b5a0-36381484fa55",
     "prev": "79a73629-d762-416b-9467-88c351794011",
     "regions": {
      "56216021-68d4-4ba6-a571-2ee97e684bfb": {
       "attrs": {
        "height": 0.8,
        "width": 0.8,
        "x": 0.1,
        "y": 0.1
       },
       "content": {
        "cell": "ef740481-c78b-42fa-af55-91140ed40b96",
        "part": "whole"
       },
       "id": "56216021-68d4-4ba6-a571-2ee97e684bfb"
      }
     }
    },
    "8e70763d-0dc3-4b8f-b0cd-6a355f321e8e": {
     "id": "8e70763d-0dc3-4b8f-b0cd-6a355f321e8e",
     "prev": "c6dda529-5d1e-4874-9de4-7a5fc92887c9",
     "regions": {
      "b01bc1f7-a0b8-4644-993b-fdbcdd57dffb": {
       "attrs": {
        "height": 0.8,
        "width": 0.8,
        "x": 0.1,
        "y": 0.1
       },
       "content": {
        "cell": "e906fa8c-b178-45b9-9591-31f3af9ac3ae",
        "part": "whole"
       },
       "id": "b01bc1f7-a0b8-4644-993b-fdbcdd57dffb"
      }
     }
    },
    "8edf096c-fd66-4960-b608-0e07dfe4b853": {
     "id": "8edf096c-fd66-4960-b608-0e07dfe4b853",
     "prev": "536cb1fd-855a-4fc4-985c-68c23940d8de",
     "regions": {
      "c160321f-499c-4358-92a8-aeabd4c15cf0": {
       "attrs": {
        "height": 0.8,
        "width": 0.8,
        "x": 0.1,
        "y": 0.1
       },
       "content": {
        "cell": "6852f07c-87ae-4102-9681-8d126cef3b64",
        "part": "whole"
       },
       "id": "c160321f-499c-4358-92a8-aeabd4c15cf0"
      }
     }
    },
    "901c592a-d3a7-47e0-9f8e-fd0e600082a2": {
     "id": "901c592a-d3a7-47e0-9f8e-fd0e600082a2",
     "prev": "b88945f4-1500-4483-80fe-bdad63d5e7b9",
     "regions": {
      "a02ff742-eb32-4a55-8906-9bda7b79acaa": {
       "attrs": {
        "height": 0.8,
        "width": 0.8,
        "x": 0.1,
        "y": 0.1
       },
       "content": {
        "cell": "34879198-e061-4749-9bd7-8e0a7820dcd1",
        "part": "whole"
       },
       "id": "a02ff742-eb32-4a55-8906-9bda7b79acaa"
      }
     }
    },
    "9143d20a-1225-4e20-bf84-20c6f4b0ed84": {
     "id": "9143d20a-1225-4e20-bf84-20c6f4b0ed84",
     "prev": "824afa7b-4073-40e6-a406-961f2d6c931a",
     "regions": {
      "c63d0430-7874-43cb-85a4-e2c35a74ccec": {
       "attrs": {
        "height": 0.8,
        "width": 0.8,
        "x": 0.1,
        "y": 0.1
       },
       "content": {
        "cell": "1bf2fcbc-20da-452c-a706-3a2a207f76fe",
        "part": "whole"
       },
       "id": "c63d0430-7874-43cb-85a4-e2c35a74ccec"
      }
     }
    },
    "92c16ae9-499b-4817-9b6f-f23d37da306f": {
     "id": "92c16ae9-499b-4817-9b6f-f23d37da306f",
     "prev": "6ba1c3fb-c328-4093-8c6a-333576be8650",
     "regions": {
      "6b489113-20d5-4780-8b41-0bd874a9cf16": {
       "attrs": {
        "height": 0.8,
        "width": 0.8,
        "x": 0.1,
        "y": 0.1
       },
       "content": {
        "cell": "674e3021-875b-435e-8df8-2f7728bb61fb",
        "part": "whole"
       },
       "id": "6b489113-20d5-4780-8b41-0bd874a9cf16"
      }
     }
    },
    "92c3d928-cd56-4168-81e4-3a33f4591d2d": {
     "id": "92c3d928-cd56-4168-81e4-3a33f4591d2d",
     "prev": "b2b399ef-9e14-4aff-b781-4bfac0bf3062",
     "regions": {
      "bf79b23c-7f77-492c-8fe0-6a45c22491d7": {
       "attrs": {
        "height": 0.8,
        "width": 0.8,
        "x": 0.1,
        "y": 0.1
       },
       "content": {
        "cell": "ce2fd30f-ea31-47c8-8509-e9978ff55d90",
        "part": "whole"
       },
       "id": "bf79b23c-7f77-492c-8fe0-6a45c22491d7"
      }
     }
    },
    "94893e4e-64c7-4293-988a-943388cac9bf": {
     "id": "94893e4e-64c7-4293-988a-943388cac9bf",
     "prev": "06a1b182-2897-4de1-b0a9-36a82fad7cff",
     "regions": {
      "30c71be9-6304-40d3-ab41-6ecb2d4b0034": {
       "attrs": {
        "height": 0.8,
        "width": 0.8,
        "x": 0.1,
        "y": 0.1
       },
       "content": {
        "cell": "f903d116-fd18-4cd9-b9bd-07ad6b3efbfe",
        "part": "whole"
       },
       "id": "30c71be9-6304-40d3-ab41-6ecb2d4b0034"
      }
     }
    },
    "95160d91-e989-42bb-a185-6f87cbe4085a": {
     "id": "95160d91-e989-42bb-a185-6f87cbe4085a",
     "prev": "c59492c2-c546-4cb4-ad68-ab01b72a19a0",
     "regions": {
      "6e1bfd9e-bde4-43bf-8237-a33f7e78472c": {
       "attrs": {
        "height": 0.8,
        "width": 0.8,
        "x": 0.1,
        "y": 0.1
       },
       "content": {
        "cell": "4a1a0340-f16f-4fff-8300-7985cc2225f1",
        "part": "whole"
       },
       "id": "6e1bfd9e-bde4-43bf-8237-a33f7e78472c"
      }
     }
    },
    "9621d9cb-f173-44a8-80b6-d9a7eeda1035": {
     "id": "9621d9cb-f173-44a8-80b6-d9a7eeda1035",
     "prev": "d8f917c5-3c25-4e5d-8787-f5a97f611806",
     "regions": {
      "149816f4-3146-4605-9d48-eab6f13cc263": {
       "attrs": {
        "height": 0.8,
        "width": 0.8,
        "x": 0.1,
        "y": 0.1
       },
       "content": {
        "cell": "b2c0caa5-83a1-41de-8ff3-143e37f568d7",
        "part": "whole"
       },
       "id": "149816f4-3146-4605-9d48-eab6f13cc263"
      }
     }
    },
    "996d17dd-79a6-44db-adfc-bb7b973b4ef8": {
     "id": "996d17dd-79a6-44db-adfc-bb7b973b4ef8",
     "prev": "32f3a581-189b-4956-9b2f-007a62ae3696",
     "regions": {
      "1acfcf92-bf8b-4eec-bedb-5e405552face": {
       "attrs": {
        "height": 0.8,
        "width": 0.8,
        "x": 0.1,
        "y": 0.1
       },
       "content": {
        "cell": "0b22ef6d-ad78-4da5-b382-bd6024782c6b",
        "part": "whole"
       },
       "id": "1acfcf92-bf8b-4eec-bedb-5e405552face"
      }
     }
    },
    "9a01ac20-f15f-4ac1-a3cc-0c3dacc13dcb": {
     "id": "9a01ac20-f15f-4ac1-a3cc-0c3dacc13dcb",
     "prev": "c543111d-333d-44fe-95c8-b433a7054ca0",
     "regions": {
      "4b2d1fc3-3fbd-43d5-85ce-98827a162dd7": {
       "attrs": {
        "height": 0.8,
        "width": 0.8,
        "x": 0.1,
        "y": 0.1
       },
       "content": {
        "cell": "8a16bfc5-6538-4f86-a158-0459665225c5",
        "part": "whole"
       },
       "id": "4b2d1fc3-3fbd-43d5-85ce-98827a162dd7"
      }
     }
    },
    "9a805bbe-2dbd-4ffa-b36c-faed094ddfc2": {
     "id": "9a805bbe-2dbd-4ffa-b36c-faed094ddfc2",
     "prev": "f6536e0e-5e5a-4eee-9d6d-a943c3cc2ad5",
     "regions": {
      "5e45103f-a131-4db3-9c9f-2be109a939b5": {
       "attrs": {
        "height": 0.8,
        "width": 0.8,
        "x": 0.1,
        "y": 0.1
       },
       "content": {
        "cell": "f3adbfa8-ca7a-4117-9f75-f4a12cfe7c80",
        "part": "whole"
       },
       "id": "5e45103f-a131-4db3-9c9f-2be109a939b5"
      }
     }
    },
    "9a8b4498-9695-435f-a578-f4dfd25b4505": {
     "id": "9a8b4498-9695-435f-a578-f4dfd25b4505",
     "prev": "c3d6e90c-e229-4fe6-a40e-0da2d6df6cd5",
     "regions": {
      "770832d6-11d9-4d7f-91c1-e541e8262b5b": {
       "attrs": {
        "height": 0.8,
        "width": 0.8,
        "x": 0.1,
        "y": 0.1
       },
       "content": {
        "cell": "1893445a-6068-4bfa-afdd-b95cbf4ab4b1",
        "part": "whole"
       },
       "id": "770832d6-11d9-4d7f-91c1-e541e8262b5b"
      }
     }
    },
    "9ab143f3-5fd8-42fb-81f8-b39715f598cb": {
     "id": "9ab143f3-5fd8-42fb-81f8-b39715f598cb",
     "prev": "adb9739f-dafb-4151-9574-7ad846682b8d",
     "regions": {
      "0c601893-1fe5-466b-bb92-764dc032184e": {
       "attrs": {
        "height": 0.8,
        "width": 0.8,
        "x": 0.1,
        "y": 0.1
       },
       "content": {
        "cell": "02b790d8-38c3-464b-8027-73b635ce8f34",
        "part": "whole"
       },
       "id": "0c601893-1fe5-466b-bb92-764dc032184e"
      }
     }
    },
    "9ad96f6c-983a-4919-9822-1b2d8bade635": {
     "id": "9ad96f6c-983a-4919-9822-1b2d8bade635",
     "prev": "f1b80262-7843-49cc-a5cd-4745b19f3978",
     "regions": {
      "bb9b6b85-2408-49f0-ae0e-d14d4c362744": {
       "attrs": {
        "height": 0.8,
        "width": 0.8,
        "x": 0.1,
        "y": 0.1
       },
       "content": {
        "cell": "cf24c377-9bd2-45b0-8047-b47072a5b706",
        "part": "whole"
       },
       "id": "bb9b6b85-2408-49f0-ae0e-d14d4c362744"
      }
     }
    },
    "9b473d4e-4d53-43f5-ba74-1a0597eb9aeb": {
     "id": "9b473d4e-4d53-43f5-ba74-1a0597eb9aeb",
     "prev": "b13fc7b4-cccf-4f26-9cfb-85f073784c87",
     "regions": {
      "4ccdae4f-e0d6-4ab8-87df-ef76037166fb": {
       "attrs": {
        "height": 0.8,
        "width": 0.8,
        "x": 0.1,
        "y": 0.1
       },
       "content": {
        "cell": "daad9c34-20d7-4214-906a-b9853876a577",
        "part": "whole"
       },
       "id": "4ccdae4f-e0d6-4ab8-87df-ef76037166fb"
      }
     }
    },
    "9d0d88b4-45f0-4790-987e-b2ce3ab1a53f": {
     "id": "9d0d88b4-45f0-4790-987e-b2ce3ab1a53f",
     "prev": "cad2458e-60f9-4611-be91-6e5aa882c1b0",
     "regions": {
      "5407d9f9-5d3e-40e5-baaf-21b138a04c3b": {
       "attrs": {
        "height": 0.8,
        "width": 0.8,
        "x": 0.1,
        "y": 0.1
       },
       "content": {
        "cell": "66eb7421-5131-4042-8663-19a471dc2060",
        "part": "whole"
       },
       "id": "5407d9f9-5d3e-40e5-baaf-21b138a04c3b"
      }
     }
    },
    "9f042143-b1aa-4385-a106-a812d2d80d53": {
     "id": "9f042143-b1aa-4385-a106-a812d2d80d53",
     "prev": "1f8ba1e9-da4c-482f-926a-b31103b4adaa",
     "regions": {
      "46d1cf6a-d743-44df-a75d-1763d59bbb07": {
       "attrs": {
        "height": 0.8,
        "width": 0.8,
        "x": 0.1,
        "y": 0.1
       },
       "content": {
        "cell": "cda671f2-a4f9-4be1-887e-826dc1481f68",
        "part": "whole"
       },
       "id": "46d1cf6a-d743-44df-a75d-1763d59bbb07"
      }
     }
    },
    "9fd31015-3316-497f-a195-85a06f1d6de9": {
     "id": "9fd31015-3316-497f-a195-85a06f1d6de9",
     "prev": "8edf096c-fd66-4960-b608-0e07dfe4b853",
     "regions": {
      "d508124f-1c02-47cc-9d75-d93888d0dd59": {
       "attrs": {
        "height": 0.8,
        "width": 0.8,
        "x": 0.1,
        "y": 0.1
       },
       "content": {
        "cell": "3d06c73d-3987-470b-933a-48f98fd8d538",
        "part": "whole"
       },
       "id": "d508124f-1c02-47cc-9d75-d93888d0dd59"
      }
     }
    },
    "a3cefd96-f1fe-4565-aea4-e1a5e23d2dd0": {
     "id": "a3cefd96-f1fe-4565-aea4-e1a5e23d2dd0",
     "prev": "3d66c30b-3f48-40c5-923c-812f0f91a66c",
     "regions": {
      "8de0d314-a6af-430a-899f-56d2dea88358": {
       "attrs": {
        "height": 0.8,
        "width": 0.8,
        "x": 0.1,
        "y": 0.1
       },
       "content": {
        "cell": "9c7bc1b2-d48d-44f6-a8a3-3915114885d2",
        "part": "whole"
       },
       "id": "8de0d314-a6af-430a-899f-56d2dea88358"
      }
     }
    },
    "a49ff41e-16f8-4551-bfa2-73f81f76498d": {
     "id": "a49ff41e-16f8-4551-bfa2-73f81f76498d",
     "prev": "b9ed625d-7924-4ce5-afb9-601b6aa35acd",
     "regions": {
      "f979439f-4de9-4453-9099-910d5e60b9f6": {
       "attrs": {
        "height": 0.8,
        "width": 0.8,
        "x": 0.1,
        "y": 0.1
       },
       "content": {
        "cell": "59061773-e9f5-4388-96d5-e161bef22e53",
        "part": "whole"
       },
       "id": "f979439f-4de9-4453-9099-910d5e60b9f6"
      }
     }
    },
    "a6ee6f2a-7d6e-4d9c-8ad6-4511d93ca38f": {
     "id": "a6ee6f2a-7d6e-4d9c-8ad6-4511d93ca38f",
     "prev": "b2d6f326-3aab-48a4-8fb3-ba664bd71f4c",
     "regions": {
      "29ebe7eb-bd8b-4b6a-b8a2-737ea35f320f": {
       "attrs": {
        "height": 0.8,
        "width": 0.8,
        "x": 0.1,
        "y": 0.1
       },
       "content": {
        "cell": "a4b6ebee-71e7-4bb6-9a0a-a6c8a791a9e2",
        "part": "whole"
       },
       "id": "29ebe7eb-bd8b-4b6a-b8a2-737ea35f320f"
      }
     }
    },
    "a70aa22d-70a4-4ef9-84ce-5abf64e9a9c4": {
     "id": "a70aa22d-70a4-4ef9-84ce-5abf64e9a9c4",
     "prev": "672389ae-de99-4fe6-b2d6-1ce85619871f",
     "regions": {
      "7c9f93fb-a606-4b90-b5f2-ea5cd2ccde81": {
       "attrs": {
        "height": 0.8,
        "width": 0.8,
        "x": 0.1,
        "y": 0.1
       },
       "content": {
        "cell": "6a6af860-e19e-42b1-a693-785086548e38",
        "part": "whole"
       },
       "id": "7c9f93fb-a606-4b90-b5f2-ea5cd2ccde81"
      }
     }
    },
    "a73bb454-1e38-4a4c-b86c-d53f515130ce": {
     "id": "a73bb454-1e38-4a4c-b86c-d53f515130ce",
     "prev": "ff697b9e-7715-4ae9-ab5d-0e81997651c1",
     "regions": {
      "23a06b6f-c655-4125-8138-217b3476ea41": {
       "attrs": {
        "height": 0.8,
        "width": 0.8,
        "x": 0.1,
        "y": 0.1
       },
       "content": {
        "cell": "f4f35f24-624c-40f7-a8bc-ebbfd24736b0",
        "part": "whole"
       },
       "id": "23a06b6f-c655-4125-8138-217b3476ea41"
      }
     }
    },
    "a74c845b-e00c-403b-9514-22f9dd3a0d28": {
     "id": "a74c845b-e00c-403b-9514-22f9dd3a0d28",
     "prev": "09785615-9da4-4e0c-bd42-618738d7ef5d",
     "regions": {
      "1f00f989-e8bb-4f57-9f76-495281c9ca46": {
       "attrs": {
        "height": 0.8,
        "width": 0.8,
        "x": 0.1,
        "y": 0.1
       },
       "content": {
        "cell": "c1f42511-fc6f-4e62-9cc5-1a72650b5845",
        "part": "whole"
       },
       "id": "1f00f989-e8bb-4f57-9f76-495281c9ca46"
      }
     }
    },
    "a817b08a-b639-4b8c-8574-78303a3846a4": {
     "id": "a817b08a-b639-4b8c-8574-78303a3846a4",
     "prev": "6723ae79-c149-46a7-98f9-d650c1fc7584",
     "regions": {
      "20abbc2e-86e7-4e46-bf1c-6ed666cc8e50": {
       "attrs": {
        "height": 0.8,
        "width": 0.8,
        "x": 0.1,
        "y": 0.1
       },
       "content": {
        "cell": "f2801b0a-a381-45c8-8c5e-85c24e53add2",
        "part": "whole"
       },
       "id": "20abbc2e-86e7-4e46-bf1c-6ed666cc8e50"
      }
     }
    },
    "a9e43937-4f0f-4fc5-b478-0526c408d310": {
     "id": "a9e43937-4f0f-4fc5-b478-0526c408d310",
     "prev": "e100e660-2a7e-4f4b-a42f-652b1e8bd4cb",
     "regions": {
      "fcbb24cb-5228-493b-873b-19d98f1b19d0": {
       "attrs": {
        "height": 0.8,
        "width": 0.8,
        "x": 0.1,
        "y": 0.1
       },
       "content": {
        "cell": "4a42d58e-2a89-4d18-aaad-438344bcf00a",
        "part": "whole"
       },
       "id": "fcbb24cb-5228-493b-873b-19d98f1b19d0"
      }
     }
    },
    "ab5420c9-04c6-44eb-92de-0380f1b100a7": {
     "id": "ab5420c9-04c6-44eb-92de-0380f1b100a7",
     "prev": "8af4f709-5c5a-49b1-8f9e-902050d1cc4b",
     "regions": {
      "b2deeacb-d5de-46f8-ae3b-1fc61f3a844a": {
       "attrs": {
        "height": 0.8,
        "width": 0.8,
        "x": 0.1,
        "y": 0.1
       },
       "content": {
        "cell": "8ac06314-7c46-48a5-a52f-1bc6751284b3",
        "part": "whole"
       },
       "id": "b2deeacb-d5de-46f8-ae3b-1fc61f3a844a"
      }
     }
    },
    "abc17b32-cb41-48f5-a46d-d1e5dd8f40e1": {
     "id": "abc17b32-cb41-48f5-a46d-d1e5dd8f40e1",
     "prev": "4c1fa7cf-0db7-40e4-aa77-2f9011b9ee4e",
     "regions": {
      "f0e9b089-f12f-4d0f-91f4-5b8c841bbf1a": {
       "attrs": {
        "height": 0.8,
        "width": 0.8,
        "x": 0.1,
        "y": 0.1
       },
       "content": {
        "cell": "f6529d8a-213f-404c-98f2-b4443139dd47",
        "part": "whole"
       },
       "id": "f0e9b089-f12f-4d0f-91f4-5b8c841bbf1a"
      }
     }
    },
    "adb9739f-dafb-4151-9574-7ad846682b8d": {
     "id": "adb9739f-dafb-4151-9574-7ad846682b8d",
     "prev": "82a95c5c-b373-4466-b291-6d1b83ff157b",
     "regions": {
      "2ecdb026-ea97-4567-a4ae-0d92d6f7f5bc": {
       "attrs": {
        "height": 0.8,
        "width": 0.8,
        "x": 0.1,
        "y": 0.1
       },
       "content": {
        "cell": "71bd750f-3f95-4aab-adfa-fa6a23a7cc16",
        "part": "whole"
       },
       "id": "2ecdb026-ea97-4567-a4ae-0d92d6f7f5bc"
      }
     }
    },
    "ae40c4ca-c75a-446e-8294-fbfab3371ff7": {
     "id": "ae40c4ca-c75a-446e-8294-fbfab3371ff7",
     "prev": "bbea5376-6998-4295-ab92-44f3baeabf39",
     "regions": {
      "eef525bb-f9dc-439c-b427-496cd716250b": {
       "attrs": {
        "height": 0.8,
        "width": 0.8,
        "x": 0.1,
        "y": 0.1
       },
       "content": {
        "cell": "46fee95c-764e-45f7-af46-e2567784af72",
        "part": "whole"
       },
       "id": "eef525bb-f9dc-439c-b427-496cd716250b"
      }
     }
    },
    "aebe8964-014c-4e68-8586-b66dff3e1d11": {
     "id": "aebe8964-014c-4e68-8586-b66dff3e1d11",
     "prev": "c93b2f0e-f7b9-45fd-872c-3d4b46b0d33a",
     "regions": {
      "f7b38816-a01f-4b86-b7fa-173ad99dba95": {
       "attrs": {
        "height": 0.8,
        "width": 0.8,
        "x": 0.1,
        "y": 0.1
       },
       "content": {
        "cell": "bdf5b188-38a6-4948-9aa7-954556372961",
        "part": "whole"
       },
       "id": "f7b38816-a01f-4b86-b7fa-173ad99dba95"
      }
     }
    },
    "aec73699-b126-4ddd-a0fe-fed510fc7c05": {
     "id": "aec73699-b126-4ddd-a0fe-fed510fc7c05",
     "prev": "d00784e3-4fde-4759-8017-859b730c7107",
     "regions": {
      "0b8d2b08-df67-4056-8791-103a174a1f74": {
       "attrs": {
        "height": 0.8,
        "width": 0.8,
        "x": 0.1,
        "y": 0.1
       },
       "content": {
        "cell": "e431758a-85a8-47d9-9bc0-e4d601d4db09",
        "part": "whole"
       },
       "id": "0b8d2b08-df67-4056-8791-103a174a1f74"
      }
     }
    },
    "af2df8d5-0ce6-4f50-8fd3-0fddc827b2a7": {
     "id": "af2df8d5-0ce6-4f50-8fd3-0fddc827b2a7",
     "prev": "48dc5465-d7fc-4b8c-aab1-a0dd5e70fd11",
     "regions": {
      "817d5771-42f7-43a1-9ab5-4f07d4f9697e": {
       "attrs": {
        "height": 0.8,
        "width": 0.8,
        "x": 0.1,
        "y": 0.1
       },
       "content": {
        "cell": "b74c816e-f318-42df-bfd8-3da96ccd3dd9",
        "part": "whole"
       },
       "id": "817d5771-42f7-43a1-9ab5-4f07d4f9697e"
      }
     }
    },
    "b13fc7b4-cccf-4f26-9cfb-85f073784c87": {
     "id": "b13fc7b4-cccf-4f26-9cfb-85f073784c87",
     "prev": "026ad1bb-bbb5-4911-a29a-2a31c6dd3d42",
     "regions": {
      "3607d6d8-d8c4-4980-8a4c-c622b768f3d6": {
       "attrs": {
        "height": 0.8,
        "width": 0.8,
        "x": 0.1,
        "y": 0.1
       },
       "content": {
        "cell": "c4907ac4-1274-41b8-abd7-81c6de45235e",
        "part": "whole"
       },
       "id": "3607d6d8-d8c4-4980-8a4c-c622b768f3d6"
      }
     }
    },
    "b17976b0-cab6-4dbc-b5db-fec819e17963": {
     "id": "b17976b0-cab6-4dbc-b5db-fec819e17963",
     "prev": "af2df8d5-0ce6-4f50-8fd3-0fddc827b2a7",
     "regions": {
      "77f2e8a5-3098-4609-b533-9e7812c8b51e": {
       "attrs": {
        "height": 0.8,
        "width": 0.8,
        "x": 0.1,
        "y": 0.1
       },
       "content": {
        "cell": "c7086339-eb51-4cae-82b5-6705df319230",
        "part": "whole"
       },
       "id": "77f2e8a5-3098-4609-b533-9e7812c8b51e"
      }
     }
    },
    "b1fe186d-b526-4dea-a598-7ab89acb7bd1": {
     "id": "b1fe186d-b526-4dea-a598-7ab89acb7bd1",
     "prev": "5f42ae8b-f65d-4b99-8eaf-520303ff95da",
     "regions": {
      "48a3138e-f180-41e0-b2df-168459d0521c": {
       "attrs": {
        "height": 0.8,
        "width": 0.8,
        "x": 0.1,
        "y": 0.1
       },
       "content": {
        "cell": "e34cc6cc-6420-414b-8514-8f57694090d1",
        "part": "whole"
       },
       "id": "48a3138e-f180-41e0-b2df-168459d0521c"
      }
     }
    },
    "b2b399ef-9e14-4aff-b781-4bfac0bf3062": {
     "id": "b2b399ef-9e14-4aff-b781-4bfac0bf3062",
     "prev": "004a6615-ad46-4dc1-98bf-9cf6ac61002b",
     "regions": {
      "399b3e78-c7a7-4d0e-9ebc-14d251e71376": {
       "attrs": {
        "height": 0.8,
        "width": 0.8,
        "x": 0.1,
        "y": 0.1
       },
       "content": {
        "cell": "b09d43cf-d07d-4b1f-9de4-f80b60064d24",
        "part": "whole"
       },
       "id": "399b3e78-c7a7-4d0e-9ebc-14d251e71376"
      }
     }
    },
    "b2d6f326-3aab-48a4-8fb3-ba664bd71f4c": {
     "id": "b2d6f326-3aab-48a4-8fb3-ba664bd71f4c",
     "prev": "d3410f19-5432-4612-989f-f10c5cc4a44d",
     "regions": {
      "2c39368d-be5e-42c7-81af-5a7659eb3504": {
       "attrs": {
        "height": 0.8,
        "width": 0.8,
        "x": 0.1,
        "y": 0.1
       },
       "content": {
        "cell": "6388bb1d-a6da-4b8d-9343-c9e36e961fcb",
        "part": "whole"
       },
       "id": "2c39368d-be5e-42c7-81af-5a7659eb3504"
      }
     }
    },
    "b3078405-004d-40f7-b3f2-3038aff10da4": {
     "id": "b3078405-004d-40f7-b3f2-3038aff10da4",
     "prev": "0ddaf2a6-3dc6-4ac7-b3cc-bd0c93a0ab5f",
     "regions": {
      "43420688-3c85-4c70-83a6-eeaf27fdee9d": {
       "attrs": {
        "height": 0.8,
        "width": 0.8,
        "x": 0.1,
        "y": 0.1
       },
       "content": {
        "cell": "89623b71-c0fe-41b4-8266-1fd88f4af845",
        "part": "whole"
       },
       "id": "43420688-3c85-4c70-83a6-eeaf27fdee9d"
      }
     }
    },
    "b44ea508-b605-40b2-87dc-6298f0c98fd0": {
     "id": "b44ea508-b605-40b2-87dc-6298f0c98fd0",
     "prev": "2ae77d71-6509-49fb-9ae9-f1e2804b0280",
     "regions": {
      "8695b62f-5349-41a4-9e9e-049e15dbe4e8": {
       "attrs": {
        "height": 0.8,
        "width": 0.8,
        "x": 0.1,
        "y": 0.1
       },
       "content": {
        "cell": "5a518f1c-dd28-47bb-9b5b-178f04a6948d",
        "part": "whole"
       },
       "id": "8695b62f-5349-41a4-9e9e-049e15dbe4e8"
      }
     }
    },
    "b4cb4f35-d317-4ea9-95e7-6dcf71e42760": {
     "id": "b4cb4f35-d317-4ea9-95e7-6dcf71e42760",
     "prev": "70b54139-b705-4d90-97a8-dc907d239a9d",
     "regions": {
      "7629dce9-4314-4e89-9860-84ab5d39afc0": {
       "attrs": {
        "height": 0.8,
        "width": 0.8,
        "x": 0.1,
        "y": 0.1
       },
       "content": {
        "cell": "f373ea96-a90d-403f-9444-c518dee60007",
        "part": "whole"
       },
       "id": "7629dce9-4314-4e89-9860-84ab5d39afc0"
      }
     }
    },
    "b511fcfd-7d0a-4e7a-b0c3-937156efc856": {
     "id": "b511fcfd-7d0a-4e7a-b0c3-937156efc856",
     "prev": "fec8363d-0549-4194-8e81-38bd3a4f034f",
     "regions": {
      "4c08d1e3-b9b2-4f78-8c80-bd2ca93dfc28": {
       "attrs": {
        "height": 0.8,
        "width": 0.8,
        "x": 0.1,
        "y": 0.1
       },
       "content": {
        "cell": "d9c79920-e088-4ca4-ba47-af5c814e1aaf",
        "part": "whole"
       },
       "id": "4c08d1e3-b9b2-4f78-8c80-bd2ca93dfc28"
      }
     }
    },
    "b59359ae-9735-4a22-a8e2-4d9cc9ffef09": {
     "id": "b59359ae-9735-4a22-a8e2-4d9cc9ffef09",
     "prev": "1330959f-cbe7-444f-b3d6-918f427d4771",
     "regions": {
      "d44a6c5b-db30-4119-a2bc-437ba37d4cfa": {
       "attrs": {
        "height": 0.8,
        "width": 0.8,
        "x": 0.1,
        "y": 0.1
       },
       "content": {
        "cell": "df60ef51-c70f-4dac-b97d-17e4b6bcd2ea",
        "part": "whole"
       },
       "id": "d44a6c5b-db30-4119-a2bc-437ba37d4cfa"
      }
     }
    },
    "b66ac8ba-078b-4978-92e9-5b35d4dfb970": {
     "id": "b66ac8ba-078b-4978-92e9-5b35d4dfb970",
     "prev": "6ccdc158-923a-414b-b053-08b1b4f605a6",
     "regions": {
      "58ce8c42-1946-4018-83c4-09c116f5664e": {
       "attrs": {
        "height": 0.8,
        "width": 0.8,
        "x": 0.1,
        "y": 0.1
       },
       "content": {
        "cell": "74f4ebb2-9114-405a-bed9-99bc525a78ad",
        "part": "whole"
       },
       "id": "58ce8c42-1946-4018-83c4-09c116f5664e"
      }
     }
    },
    "b6fb15a9-87e8-46f6-8963-e51cafeb24eb": {
     "id": "b6fb15a9-87e8-46f6-8963-e51cafeb24eb",
     "prev": "12f9d190-4f4e-496e-9eb3-28af41aa6c09",
     "regions": {
      "f44ca82b-95d5-4b0b-a4b8-4e4cd96b0819": {
       "attrs": {
        "height": 0.8,
        "width": 0.8,
        "x": 0.1,
        "y": 0.1
       },
       "content": {
        "cell": "8f6bd287-795c-414f-ac90-e22e4e76fe5a",
        "part": "whole"
       },
       "id": "f44ca82b-95d5-4b0b-a4b8-4e4cd96b0819"
      }
     }
    },
    "b795fbc1-8d3e-4329-bfda-7fc729633567": {
     "id": "b795fbc1-8d3e-4329-bfda-7fc729633567",
     "prev": "1a66efb8-7a57-4543-a31e-42fa1f104b06",
     "regions": {
      "abb0ce52-5780-4f2a-b053-cd9f07d07435": {
       "attrs": {
        "height": 0.8,
        "width": 0.8,
        "x": 0.1,
        "y": 0.1
       },
       "content": {
        "cell": "64ab70ce-331b-413a-be4c-684c867cc786",
        "part": "whole"
       },
       "id": "abb0ce52-5780-4f2a-b053-cd9f07d07435"
      }
     }
    },
    "b858d381-df63-4a3c-9d55-7e73b93e0437": {
     "id": "b858d381-df63-4a3c-9d55-7e73b93e0437",
     "prev": "32049a90-1058-49e7-8011-1f4bc2020eb1",
     "regions": {
      "67e0d518-3456-4f12-b9f6-9459690b5b63": {
       "attrs": {
        "height": 0.8,
        "width": 0.8,
        "x": 0.1,
        "y": 0.1
       },
       "content": {
        "cell": "b412697d-8109-4e03-8194-757e3f000fa1",
        "part": "whole"
       },
       "id": "67e0d518-3456-4f12-b9f6-9459690b5b63"
      }
     }
    },
    "b88945f4-1500-4483-80fe-bdad63d5e7b9": {
     "id": "b88945f4-1500-4483-80fe-bdad63d5e7b9",
     "prev": "749ea597-76ca-4863-a9cf-e9d2322a96a4",
     "regions": {
      "2d6b47bb-3c11-4951-bc30-970985574e30": {
       "attrs": {
        "height": 0.8,
        "width": 0.8,
        "x": 0.1,
        "y": 0.1
       },
       "content": {
        "cell": "8c96f42b-7142-4360-b36d-26baaec54605",
        "part": "whole"
       },
       "id": "2d6b47bb-3c11-4951-bc30-970985574e30"
      }
     }
    },
    "b9ed625d-7924-4ce5-afb9-601b6aa35acd": {
     "id": "b9ed625d-7924-4ce5-afb9-601b6aa35acd",
     "prev": "b17976b0-cab6-4dbc-b5db-fec819e17963",
     "regions": {
      "88679236-017b-43a4-903a-5267a2745814": {
       "attrs": {
        "height": 0.8,
        "width": 0.8,
        "x": 0.1,
        "y": 0.1
       },
       "content": {
        "cell": "ef5eba7e-f608-45b6-8d51-dba5b96aa568",
        "part": "whole"
       },
       "id": "88679236-017b-43a4-903a-5267a2745814"
      }
     }
    },
    "bbea5376-6998-4295-ab92-44f3baeabf39": {
     "id": "bbea5376-6998-4295-ab92-44f3baeabf39",
     "prev": "aebe8964-014c-4e68-8586-b66dff3e1d11",
     "regions": {
      "2898f9ed-281b-4e73-9afa-ea422b78404a": {
       "attrs": {
        "height": 0.8,
        "width": 0.8,
        "x": 0.1,
        "y": 0.1
       },
       "content": {
        "cell": "b5fca501-5a79-4e90-a6c9-185fc6cc4d73",
        "part": "whole"
       },
       "id": "2898f9ed-281b-4e73-9afa-ea422b78404a"
      }
     }
    },
    "bcc4c953-4c12-441c-9751-2bc8129efc2c": {
     "id": "bcc4c953-4c12-441c-9751-2bc8129efc2c",
     "prev": "efc4a985-5e68-4fbd-8080-57288a409a83",
     "regions": {
      "4e14f4f7-4df2-4a8a-bcad-6067b7803232": {
       "attrs": {
        "height": 0.8,
        "width": 0.8,
        "x": 0.1,
        "y": 0.1
       },
       "content": {
        "cell": "885a0783-9a6c-4faf-ae96-660ecdde504e",
        "part": "whole"
       },
       "id": "4e14f4f7-4df2-4a8a-bcad-6067b7803232"
      }
     }
    },
    "bcef0702-a96e-46dc-bf97-5d166243785a": {
     "id": "bcef0702-a96e-46dc-bf97-5d166243785a",
     "prev": "7c31b579-08d3-455d-9e24-b4622e757c42",
     "regions": {
      "d730733e-ad63-4dcf-8be9-6bed16f36659": {
       "attrs": {
        "height": 0.8,
        "width": 0.8,
        "x": 0.1,
        "y": 0.1
       },
       "content": {
        "cell": "cdda517f-7dda-4747-82fb-291fbdd34149",
        "part": "whole"
       },
       "id": "d730733e-ad63-4dcf-8be9-6bed16f36659"
      }
     }
    },
    "bd8689e6-1973-4d63-8d74-a50c9c0c7437": {
     "id": "bd8689e6-1973-4d63-8d74-a50c9c0c7437",
     "prev": "52b84271-2424-430d-bf1e-78ad464466d8",
     "regions": {
      "9baa6473-de46-4fa8-97a7-8063340c8ee3": {
       "attrs": {
        "height": 0.8,
        "width": 0.8,
        "x": 0.1,
        "y": 0.1
       },
       "content": {
        "cell": "096c7f0e-262d-4444-b6c3-0555b747e1dc",
        "part": "whole"
       },
       "id": "9baa6473-de46-4fa8-97a7-8063340c8ee3"
      }
     }
    },
    "beea1280-1505-4afa-9ce4-9717b54e32de": {
     "id": "beea1280-1505-4afa-9ce4-9717b54e32de",
     "prev": "87b350ac-1fb4-45d3-98a0-f3009b16688c",
     "regions": {
      "864185bf-3477-4adb-938b-eb2687ccdbde": {
       "attrs": {
        "height": 0.8,
        "width": 0.8,
        "x": 0.1,
        "y": 0.1
       },
       "content": {
        "cell": "18fa478a-80cb-47a5-ae5e-d861a083f7cd",
        "part": "whole"
       },
       "id": "864185bf-3477-4adb-938b-eb2687ccdbde"
      }
     }
    },
    "bf4a26eb-4916-4837-8400-13dd88199482": {
     "id": "bf4a26eb-4916-4837-8400-13dd88199482",
     "prev": "e9dd8ccc-0b19-471f-bb9c-2ea422268d3b",
     "regions": {
      "31786b1a-84c7-4e98-9670-b71da3e66a84": {
       "attrs": {
        "height": 0.8,
        "width": 0.8,
        "x": 0.1,
        "y": 0.1
       },
       "content": {
        "cell": "b47501ab-471f-48eb-b0e6-7f4d184c9e68",
        "part": "whole"
       },
       "id": "31786b1a-84c7-4e98-9670-b71da3e66a84"
      }
     }
    },
    "bf5506a3-80c6-4637-9532-8dc03c52b679": {
     "id": "bf5506a3-80c6-4637-9532-8dc03c52b679",
     "prev": "f0aaf0d8-4441-4919-a0d5-0622eb2a5d88",
     "regions": {
      "df3710a2-fc6b-4545-b820-a0ac1903e831": {
       "attrs": {
        "height": 0.8,
        "width": 0.8,
        "x": 0.1,
        "y": 0.1
       },
       "content": {
        "cell": "4f802045-1112-4c7f-b15c-50505922a612",
        "part": "whole"
       },
       "id": "df3710a2-fc6b-4545-b820-a0ac1903e831"
      }
     }
    },
    "bf9a6d66-d1e7-4558-9db2-aa2c5a08e272": {
     "id": "bf9a6d66-d1e7-4558-9db2-aa2c5a08e272",
     "prev": "52150835-89bf-4187-9ecd-71fb5344896c",
     "regions": {
      "f700b290-48f4-45fa-9a7c-4e0f2936e960": {
       "attrs": {
        "height": 0.8,
        "width": 0.8,
        "x": 0.1,
        "y": 0.1
       },
       "content": {
        "cell": "bafc5580-e051-4737-8631-2a8d3bf9c9cb",
        "part": "whole"
       },
       "id": "f700b290-48f4-45fa-9a7c-4e0f2936e960"
      }
     }
    },
    "c09ffc70-9a89-47e0-af7a-5a35e2a28fd0": {
     "id": "c09ffc70-9a89-47e0-af7a-5a35e2a28fd0",
     "prev": "224a84f3-8aff-4323-b700-18a00d294303",
     "regions": {
      "0175b09a-7ab2-4036-861b-aa8d50965f5e": {
       "attrs": {
        "height": 0.8,
        "width": 0.8,
        "x": 0.1,
        "y": 0.1
       },
       "content": {
        "cell": "06d21609-dc59-4651-afde-3c856ea50c4b",
        "part": "whole"
       },
       "id": "0175b09a-7ab2-4036-861b-aa8d50965f5e"
      }
     }
    },
    "c123838d-2802-46af-abc4-6d73c834211e": {
     "id": "c123838d-2802-46af-abc4-6d73c834211e",
     "prev": "9a8b4498-9695-435f-a578-f4dfd25b4505",
     "regions": {
      "826de304-6d5c-4ea3-b05c-cc2e5ec418b9": {
       "attrs": {
        "height": 0.8,
        "width": 0.8,
        "x": 0.1,
        "y": 0.1
       },
       "content": {
        "cell": "c29a5579-b0a2-4a06-be7f-1db061377fad",
        "part": "whole"
       },
       "id": "826de304-6d5c-4ea3-b05c-cc2e5ec418b9"
      }
     }
    },
    "c335e3f7-b9a2-4641-81ac-17109a291051": {
     "id": "c335e3f7-b9a2-4641-81ac-17109a291051",
     "prev": "09821c90-8644-4369-a270-d183b12af77d",
     "regions": {
      "46994dd7-4381-4056-8e01-1209c8397c09": {
       "attrs": {
        "height": 0.8,
        "width": 0.8,
        "x": 0.1,
        "y": 0.1
       },
       "content": {
        "cell": "fd47ed21-ae36-42ef-8019-6054f1ef7e36",
        "part": "whole"
       },
       "id": "46994dd7-4381-4056-8e01-1209c8397c09"
      }
     }
    },
    "c3d6e90c-e229-4fe6-a40e-0da2d6df6cd5": {
     "id": "c3d6e90c-e229-4fe6-a40e-0da2d6df6cd5",
     "prev": "3606b4c5-9574-4247-a5f3-3f79830f8426",
     "regions": {
      "c3c05357-f246-4abe-8e22-260b9e7fa92e": {
       "attrs": {
        "height": 0.8,
        "width": 0.8,
        "x": 0.1,
        "y": 0.1
       },
       "content": {
        "cell": "25fc0c20-2cce-4bf1-9067-d378139989c2",
        "part": "whole"
       },
       "id": "c3c05357-f246-4abe-8e22-260b9e7fa92e"
      }
     }
    },
    "c3d85cf6-9086-430e-88b1-fadf52aaa9f5": {
     "id": "c3d85cf6-9086-430e-88b1-fadf52aaa9f5",
     "prev": "37221ca9-2ab6-438f-a204-fc252e4bcb1b",
     "regions": {
      "11b2b4b0-a502-48bc-a2cb-9f4b4d95bba7": {
       "attrs": {
        "height": 0.8,
        "width": 0.8,
        "x": 0.1,
        "y": 0.1
       },
       "content": {
        "cell": "3a9f4b8f-1fb1-4118-9d75-e7a6dfd45e73",
        "part": "whole"
       },
       "id": "11b2b4b0-a502-48bc-a2cb-9f4b4d95bba7"
      }
     }
    },
    "c4be363c-01fe-4b2b-99c9-23eee8ae4c27": {
     "id": "c4be363c-01fe-4b2b-99c9-23eee8ae4c27",
     "prev": "617fab4d-071d-4b09-94eb-5b459e8fc76a",
     "regions": {
      "5736043d-2749-4399-9faf-0f1b741b14bb": {
       "attrs": {
        "height": 0.8,
        "width": 0.8,
        "x": 0.1,
        "y": 0.1
       },
       "content": {
        "cell": "b47792e1-4c92-4ce3-80b8-009184fdb22c",
        "part": "whole"
       },
       "id": "5736043d-2749-4399-9faf-0f1b741b14bb"
      }
     }
    },
    "c4f55b79-4247-4ecd-bd02-f8f4fb4fe5e2": {
     "id": "c4f55b79-4247-4ecd-bd02-f8f4fb4fe5e2",
     "prev": "1342dd1f-8dbe-4fef-ba33-1d42f69e8841",
     "regions": {
      "8cced576-fa99-4c29-90a6-016971250da9": {
       "attrs": {
        "height": 0.8,
        "width": 0.8,
        "x": 0.1,
        "y": 0.1
       },
       "content": {
        "cell": "c32528c1-b65c-4d07-ad63-656dd9f6ba38",
        "part": "whole"
       },
       "id": "8cced576-fa99-4c29-90a6-016971250da9"
      }
     }
    },
    "c543111d-333d-44fe-95c8-b433a7054ca0": {
     "id": "c543111d-333d-44fe-95c8-b433a7054ca0",
     "prev": "abc17b32-cb41-48f5-a46d-d1e5dd8f40e1",
     "regions": {
      "25ad7847-5135-4416-b65b-67103a58c82b": {
       "attrs": {
        "height": 0.8,
        "width": 0.8,
        "x": 0.1,
        "y": 0.1
       },
       "content": {
        "cell": "92fa093d-248c-4f8e-8b43-0c0e772b7c3c",
        "part": "whole"
       },
       "id": "25ad7847-5135-4416-b65b-67103a58c82b"
      }
     }
    },
    "c59492c2-c546-4cb4-ad68-ab01b72a19a0": {
     "id": "c59492c2-c546-4cb4-ad68-ab01b72a19a0",
     "prev": "a817b08a-b639-4b8c-8574-78303a3846a4",
     "regions": {
      "e37c5141-68d8-47a5-a634-28b2db070606": {
       "attrs": {
        "height": 0.8,
        "width": 0.8,
        "x": 0.1,
        "y": 0.1
       },
       "content": {
        "cell": "73f4bd90-1578-45f6-88ec-4e2cf26239e1",
        "part": "whole"
       },
       "id": "e37c5141-68d8-47a5-a634-28b2db070606"
      }
     }
    },
    "c6dda529-5d1e-4874-9de4-7a5fc92887c9": {
     "id": "c6dda529-5d1e-4874-9de4-7a5fc92887c9",
     "prev": "e7b1bad1-6b1c-4df4-a183-5f61d03ad8a3",
     "regions": {
      "98156c76-f2d8-4f94-afed-d22657754617": {
       "attrs": {
        "height": 0.8,
        "width": 0.8,
        "x": 0.1,
        "y": 0.1
       },
       "content": {
        "cell": "daee3ad5-0f22-44b2-b473-8980d1a58e53",
        "part": "whole"
       },
       "id": "98156c76-f2d8-4f94-afed-d22657754617"
      }
     }
    },
    "c70889ca-5824-45a6-96e1-17557b114f83": {
     "id": "c70889ca-5824-45a6-96e1-17557b114f83",
     "prev": "207f8462-0da1-40a3-9049-1d72b8a08c53",
     "regions": {
      "8aa6f768-ad47-4073-a9bd-6aa926e1b877": {
       "attrs": {
        "height": 0.8,
        "width": 0.8,
        "x": 0.1,
        "y": 0.1
       },
       "content": {
        "cell": "2ac6707f-b5c1-47c9-ad35-78e5e9b234a2",
        "part": "whole"
       },
       "id": "8aa6f768-ad47-4073-a9bd-6aa926e1b877"
      }
     }
    },
    "c93b2f0e-f7b9-45fd-872c-3d4b46b0d33a": {
     "id": "c93b2f0e-f7b9-45fd-872c-3d4b46b0d33a",
     "prev": "9f042143-b1aa-4385-a106-a812d2d80d53",
     "regions": {
      "f9117116-94e3-4fd7-9f40-d091ca3ede17": {
       "attrs": {
        "height": 0.8,
        "width": 0.8,
        "x": 0.1,
        "y": 0.1
       },
       "content": {
        "cell": "c14b788a-0686-4b19-b896-ddfa965039e7",
        "part": "whole"
       },
       "id": "f9117116-94e3-4fd7-9f40-d091ca3ede17"
      }
     }
    },
    "c9ece08c-b252-4b96-b33d-f07cfa1f8885": {
     "id": "c9ece08c-b252-4b96-b33d-f07cfa1f8885",
     "prev": "8644d6a0-50ea-4422-9b00-fa5370327161",
     "regions": {
      "8d50ad63-eeb0-4dbd-a196-c5951f6dd4cb": {
       "attrs": {
        "height": 0.8,
        "width": 0.8,
        "x": 0.1,
        "y": 0.1
       },
       "content": {
        "cell": "248b2673-a05f-447b-85ea-d537b8880f80",
        "part": "whole"
       },
       "id": "8d50ad63-eeb0-4dbd-a196-c5951f6dd4cb"
      }
     }
    },
    "cad2458e-60f9-4611-be91-6e5aa882c1b0": {
     "id": "cad2458e-60f9-4611-be91-6e5aa882c1b0",
     "prev": "a74c845b-e00c-403b-9514-22f9dd3a0d28",
     "regions": {
      "54bb80cd-2002-4cd2-9c15-4d4a8980f25a": {
       "attrs": {
        "height": 0.8,
        "width": 0.8,
        "x": 0.1,
        "y": 0.1
       },
       "content": {
        "cell": "5f2dd4a9-34e1-4b11-a609-5872b5388bae",
        "part": "whole"
       },
       "id": "54bb80cd-2002-4cd2-9c15-4d4a8980f25a"
      }
     }
    },
    "caffec0b-ccd7-4e82-930d-708d6a053d68": {
     "id": "caffec0b-ccd7-4e82-930d-708d6a053d68",
     "prev": "d5581167-706a-4f91-9d66-e96ecc831575",
     "regions": {
      "9c21b18d-5f6d-48cf-a34c-485387d47296": {
       "attrs": {
        "height": 0.8,
        "width": 0.8,
        "x": 0.1,
        "y": 0.1
       },
       "content": {
        "cell": "4dd2c3e0-83db-407b-aefa-b9dbb4fbb5fc",
        "part": "whole"
       },
       "id": "9c21b18d-5f6d-48cf-a34c-485387d47296"
      }
     }
    },
    "cbf5bb7d-888c-482e-9ff2-130dba1e17da": {
     "id": "cbf5bb7d-888c-482e-9ff2-130dba1e17da",
     "prev": "2d694f08-bc0a-4a53-a2a0-9f0e9bd7882f",
     "regions": {
      "888340a7-861f-4045-b92e-cbcadd881f0c": {
       "attrs": {
        "height": 0.8,
        "width": 0.8,
        "x": 0.1,
        "y": 0.1
       },
       "content": {
        "cell": "eeea493a-f604-4696-bc2f-6d3eccb0f586",
        "part": "whole"
       },
       "id": "888340a7-861f-4045-b92e-cbcadd881f0c"
      }
     }
    },
    "cc4a2253-7e6e-44ba-a18a-9124bf41b671": {
     "id": "cc4a2253-7e6e-44ba-a18a-9124bf41b671",
     "prev": "d056473e-611e-4186-8860-850b5218e338",
     "regions": {
      "7a7ca32b-56ff-4764-9b1b-cce4a989f957": {
       "attrs": {
        "height": 0.8,
        "width": 0.8,
        "x": 0.1,
        "y": 0.1
       },
       "content": {
        "cell": "68c0bf09-6eb0-4498-bd08-0ca334bc6e5b",
        "part": "whole"
       },
       "id": "7a7ca32b-56ff-4764-9b1b-cce4a989f957"
      }
     }
    },
    "cd193968-d054-4281-82e7-9b67f0f7506a": {
     "id": "cd193968-d054-4281-82e7-9b67f0f7506a",
     "prev": "31d2f052-8012-4c2c-97b9-e73514728490",
     "regions": {
      "acce619e-8d35-427d-85b2-37c9d7052218": {
       "attrs": {
        "height": 0.8,
        "width": 0.8,
        "x": 0.1,
        "y": 0.1
       },
       "content": {
        "cell": "833f47d2-576a-43bf-8d85-3f853b9a3be3",
        "part": "whole"
       },
       "id": "acce619e-8d35-427d-85b2-37c9d7052218"
      }
     }
    },
    "cffa440e-a953-4bd2-b8dc-aa3be1ceb06a": {
     "id": "cffa440e-a953-4bd2-b8dc-aa3be1ceb06a",
     "prev": "84512f96-37e9-4b37-96f6-5ebf1caabeb9",
     "regions": {
      "0e5143ba-4295-4ba5-aebb-0b3e99a6b219": {
       "attrs": {
        "height": 0.8,
        "width": 0.8,
        "x": 0.1,
        "y": 0.1
       },
       "content": {
        "cell": "bf3837bf-52b7-47e7-bce9-f48449c70288",
        "part": "whole"
       },
       "id": "0e5143ba-4295-4ba5-aebb-0b3e99a6b219"
      }
     }
    },
    "d00784e3-4fde-4759-8017-859b730c7107": {
     "id": "d00784e3-4fde-4759-8017-859b730c7107",
     "prev": "77d3189f-afeb-4291-b996-5c7734014627",
     "regions": {
      "d5e5245a-0f21-42bb-bf98-c3d863443e76": {
       "attrs": {
        "height": 0.8,
        "width": 0.8,
        "x": 0.1,
        "y": 0.1
       },
       "content": {
        "cell": "4530b23b-2318-4409-921f-8ee2dc665327",
        "part": "whole"
       },
       "id": "d5e5245a-0f21-42bb-bf98-c3d863443e76"
      }
     }
    },
    "d056473e-611e-4186-8860-850b5218e338": {
     "id": "d056473e-611e-4186-8860-850b5218e338",
     "prev": "14bb0be7-7959-4163-bc6d-5f77eb8e4fcc",
     "regions": {
      "9bf0de1b-f282-4044-aecb-cd1570954450": {
       "attrs": {
        "height": 0.8,
        "width": 0.8,
        "x": 0.1,
        "y": 0.1
       },
       "content": {
        "cell": "a806af30-5593-4124-8bb7-d458c2853ad8",
        "part": "whole"
       },
       "id": "9bf0de1b-f282-4044-aecb-cd1570954450"
      }
     }
    },
    "d3410f19-5432-4612-989f-f10c5cc4a44d": {
     "id": "d3410f19-5432-4612-989f-f10c5cc4a44d",
     "prev": "ab5420c9-04c6-44eb-92de-0380f1b100a7",
     "regions": {
      "a2e8aeb9-7f9d-4b4e-80db-88409dac3a15": {
       "attrs": {
        "height": 0.8,
        "width": 0.8,
        "x": 0.1,
        "y": 0.1
       },
       "content": {
        "cell": "a27c357b-88af-4112-a754-e11efa79dff2",
        "part": "whole"
       },
       "id": "a2e8aeb9-7f9d-4b4e-80db-88409dac3a15"
      }
     }
    },
    "d3a86a05-28d5-4035-aba6-6a7e40e4c59a": {
     "id": "d3a86a05-28d5-4035-aba6-6a7e40e4c59a",
     "prev": "d9ed6526-60f8-44ae-869b-8bc28496308c",
     "regions": {
      "891146ce-5788-4337-822c-b900d3009793": {
       "attrs": {
        "height": 0.8,
        "width": 0.8,
        "x": 0.1,
        "y": 0.1
       },
       "content": {
        "cell": "4f32ef1d-bbac-41a0-928b-75941eb6508c",
        "part": "whole"
       },
       "id": "891146ce-5788-4337-822c-b900d3009793"
      }
     }
    },
    "d3aadec2-8043-43db-9631-ed468c9eba61": {
     "id": "d3aadec2-8043-43db-9631-ed468c9eba61",
     "prev": "105092e3-9521-4e1b-925a-89fbea3bda08",
     "regions": {
      "948e30d2-5d8c-4167-a0c1-4282314b4bb7": {
       "attrs": {
        "height": 0.8,
        "width": 0.8,
        "x": 0.1,
        "y": 0.1
       },
       "content": {
        "cell": "1e16dc55-b746-4e32-a1d2-27b157651f9a",
        "part": "whole"
       },
       "id": "948e30d2-5d8c-4167-a0c1-4282314b4bb7"
      }
     }
    },
    "d5581167-706a-4f91-9d66-e96ecc831575": {
     "id": "d5581167-706a-4f91-9d66-e96ecc831575",
     "prev": "95160d91-e989-42bb-a185-6f87cbe4085a",
     "regions": {
      "a2f139b3-6d4c-4d1b-a821-6e3a38a83552": {
       "attrs": {
        "height": 0.8,
        "width": 0.8,
        "x": 0.1,
        "y": 0.1
       },
       "content": {
        "cell": "60b46d21-9ffe-496e-9245-20a5cac07ec9",
        "part": "whole"
       },
       "id": "a2f139b3-6d4c-4d1b-a821-6e3a38a83552"
      }
     }
    },
    "d55be3e8-b197-464c-b6f9-400658b15b99": {
     "id": "d55be3e8-b197-464c-b6f9-400658b15b99",
     "prev": "cbf5bb7d-888c-482e-9ff2-130dba1e17da",
     "regions": {
      "354afa69-9de4-4399-8661-8307fa464811": {
       "attrs": {
        "height": 0.8,
        "width": 0.8,
        "x": 0.1,
        "y": 0.1
       },
       "content": {
        "cell": "c2015789-2fd8-46d5-9d58-5291f8e895df",
        "part": "whole"
       },
       "id": "354afa69-9de4-4399-8661-8307fa464811"
      }
     }
    },
    "d8f917c5-3c25-4e5d-8787-f5a97f611806": {
     "id": "d8f917c5-3c25-4e5d-8787-f5a97f611806",
     "prev": "e0f8cf7c-ac61-4233-ad74-66e9bd92573a",
     "regions": {
      "a9159b4c-23ee-475e-b558-eeeb612de805": {
       "attrs": {
        "height": 0.8,
        "width": 0.8,
        "x": 0.1,
        "y": 0.1
       },
       "content": {
        "cell": "cd7cb1fc-aff2-4eb4-b96b-a136745c7758",
        "part": "whole"
       },
       "id": "a9159b4c-23ee-475e-b558-eeeb612de805"
      }
     }
    },
    "d9ed6526-60f8-44ae-869b-8bc28496308c": {
     "id": "d9ed6526-60f8-44ae-869b-8bc28496308c",
     "prev": "2238fd84-2a89-4544-a31e-be3956ed3f65",
     "regions": {
      "23139c2f-cd92-4e3f-b8ab-0387d994a22b": {
       "attrs": {
        "height": 0.8,
        "width": 0.8,
        "x": 0.1,
        "y": 0.1
       },
       "content": {
        "cell": "c8775c40-9bd4-4f67-95dc-5bd8649d797a",
        "part": "whole"
       },
       "id": "23139c2f-cd92-4e3f-b8ab-0387d994a22b"
      }
     }
    },
    "de87b522-18eb-4c18-a639-a6477f621358": {
     "id": "de87b522-18eb-4c18-a639-a6477f621358",
     "prev": "c4be363c-01fe-4b2b-99c9-23eee8ae4c27",
     "regions": {
      "8707c4e0-3fbb-428e-8a83-5e8c09f0b8ad": {
       "attrs": {
        "height": 0.8,
        "width": 0.8,
        "x": 0.1,
        "y": 0.1
       },
       "content": {
        "cell": "7b8b4fd8-4015-4b2b-bfd3-f0b070122358",
        "part": "whole"
       },
       "id": "8707c4e0-3fbb-428e-8a83-5e8c09f0b8ad"
      }
     }
    },
    "e0f8cf7c-ac61-4233-ad74-66e9bd92573a": {
     "id": "e0f8cf7c-ac61-4233-ad74-66e9bd92573a",
     "prev": "c123838d-2802-46af-abc4-6d73c834211e",
     "regions": {
      "ce3d0f40-b729-4a0c-8ff9-5ba4cd87f20e": {
       "attrs": {
        "height": 0.8,
        "width": 0.8,
        "x": 0.1,
        "y": 0.1
       },
       "content": {
        "cell": "39e3b2cc-4a74-4028-9d0f-ea409e237cb6",
        "part": "whole"
       },
       "id": "ce3d0f40-b729-4a0c-8ff9-5ba4cd87f20e"
      }
     }
    },
    "e100e660-2a7e-4f4b-a42f-652b1e8bd4cb": {
     "id": "e100e660-2a7e-4f4b-a42f-652b1e8bd4cb",
     "prev": "5836c36f-6255-49e8-9fda-bb25f10a071b",
     "regions": {
      "4c1d133e-d507-4f14-bf3d-adae7951259f": {
       "attrs": {
        "height": 0.8,
        "width": 0.8,
        "x": 0.1,
        "y": 0.1
       },
       "content": {
        "cell": "e7b1eeb3-a8bd-4612-a8b9-41ee0d6b816f",
        "part": "whole"
       },
       "id": "4c1d133e-d507-4f14-bf3d-adae7951259f"
      }
     }
    },
    "e175d6b9-455b-454a-a9f3-7c6bf98e0c63": {
     "id": "e175d6b9-455b-454a-a9f3-7c6bf98e0c63",
     "prev": "92c16ae9-499b-4817-9b6f-f23d37da306f",
     "regions": {
      "2d523948-92d7-4f27-a8c4-0da797d8412e": {
       "attrs": {
        "height": 0.8,
        "width": 0.8,
        "x": 0.1,
        "y": 0.1
       },
       "content": {
        "cell": "d5c73eec-9850-4af4-bfd5-f7fd6145cdd5",
        "part": "whole"
       },
       "id": "2d523948-92d7-4f27-a8c4-0da797d8412e"
      }
     }
    },
    "e351f550-b49a-44b8-8330-95433db27311": {
     "id": "e351f550-b49a-44b8-8330-95433db27311",
     "prev": "3df3596a-2102-4a55-89ab-9086c719bba1",
     "regions": {
      "fde67749-3358-4d9f-92e5-8c263842a6a0": {
       "attrs": {
        "height": 0.8,
        "width": 0.8,
        "x": 0.1,
        "y": 0.1
       },
       "content": {
        "cell": "842a7f12-4cb4-4f51-a169-3cc6438c8fce",
        "part": "whole"
       },
       "id": "fde67749-3358-4d9f-92e5-8c263842a6a0"
      }
     }
    },
    "e47cc9fe-a3f9-4235-bac6-317a74c7f123": {
     "id": "e47cc9fe-a3f9-4235-bac6-317a74c7f123",
     "prev": "8df6e7ea-d1d4-43a0-b5a0-36381484fa55",
     "regions": {
      "6850418e-02c4-45e3-9960-013f23ebf0eb": {
       "attrs": {
        "height": 0.8,
        "width": 0.8,
        "x": 0.1,
        "y": 0.1
       },
       "content": {
        "cell": "36af35f8-a4c7-47b9-b651-12e622d7bb17",
        "part": "whole"
       },
       "id": "6850418e-02c4-45e3-9960-013f23ebf0eb"
      }
     }
    },
    "e61374f0-3b22-46f1-8f83-d17fb10bba9a": {
     "id": "e61374f0-3b22-46f1-8f83-d17fb10bba9a",
     "prev": "289f607c-d43c-49fa-88d0-9dd7c0184a04",
     "regions": {
      "386f8ea0-d189-4323-9d31-00d1cf4de84c": {
       "attrs": {
        "height": 0.8,
        "width": 0.8,
        "x": 0.1,
        "y": 0.1
       },
       "content": {
        "cell": "659df50c-ff81-4722-b62a-148f602bc5d9",
        "part": "whole"
       },
       "id": "386f8ea0-d189-4323-9d31-00d1cf4de84c"
      }
     }
    },
    "e6736d98-e4ff-41c5-a42e-d6d7f4efc8d4": {
     "id": "e6736d98-e4ff-41c5-a42e-d6d7f4efc8d4",
     "prev": "86dab9e5-eecc-4cf9-a1af-fde6d423b7ed",
     "regions": {
      "87466626-9fe6-4c1d-95c1-c454427eaed6": {
       "attrs": {
        "height": 0.8,
        "width": 0.8,
        "x": 0.1,
        "y": 0.1
       },
       "content": {
        "cell": "8f774986-f8e7-421e-bcae-41248eb12237",
        "part": "whole"
       },
       "id": "87466626-9fe6-4c1d-95c1-c454427eaed6"
      }
     }
    },
    "e7b1bad1-6b1c-4df4-a183-5f61d03ad8a3": {
     "id": "e7b1bad1-6b1c-4df4-a183-5f61d03ad8a3",
     "prev": "73aff777-27bc-4986-95a1-449531e033ff",
     "regions": {
      "688cdac5-522f-4811-83ee-872a858241ac": {
       "attrs": {
        "height": 0.8,
        "width": 0.8,
        "x": 0.1,
        "y": 0.1
       },
       "content": {
        "cell": "ec1bca5f-3476-4abb-928f-6c071fac203a",
        "part": "whole"
       },
       "id": "688cdac5-522f-4811-83ee-872a858241ac"
      }
     }
    },
    "e7d4c69d-affa-4a92-9734-980b2ea961e4": {
     "id": "e7d4c69d-affa-4a92-9734-980b2ea961e4",
     "prev": "c335e3f7-b9a2-4641-81ac-17109a291051",
     "regions": {
      "d4c0fd28-4d88-4271-ba8e-9631dd82661d": {
       "attrs": {
        "height": 0.8,
        "width": 0.8,
        "x": 0.1,
        "y": 0.1
       },
       "content": {
        "cell": "54f2aafb-cf2d-4ca3-aeed-8b8e7640cf45",
        "part": "whole"
       },
       "id": "d4c0fd28-4d88-4271-ba8e-9631dd82661d"
      }
     }
    },
    "e8089ccf-9780-45a4-8545-41ee16b95fc8": {
     "id": "e8089ccf-9780-45a4-8545-41ee16b95fc8",
     "prev": "08319543-0934-425c-bded-1f53b270e762",
     "regions": {
      "16467331-bbe0-4861-8d93-04c47035ea83": {
       "attrs": {
        "height": 0.8,
        "width": 0.8,
        "x": 0.1,
        "y": 0.1
       },
       "content": {
        "cell": "dcaf4328-bf16-4cec-aa4b-e2b6b4c50dee",
        "part": "whole"
       },
       "id": "16467331-bbe0-4861-8d93-04c47035ea83"
      }
     }
    },
    "e9dd8ccc-0b19-471f-bb9c-2ea422268d3b": {
     "id": "e9dd8ccc-0b19-471f-bb9c-2ea422268d3b",
     "prev": "9fd31015-3316-497f-a195-85a06f1d6de9",
     "regions": {
      "0099ec07-cd64-41b8-bb9a-7661513d2d8b": {
       "attrs": {
        "height": 0.8,
        "width": 0.8,
        "x": 0.1,
        "y": 0.1
       },
       "content": {
        "cell": "020f7f43-2b88-4405-92ef-ae8fe3a82876",
        "part": "whole"
       },
       "id": "0099ec07-cd64-41b8-bb9a-7661513d2d8b"
      }
     }
    },
    "ea102ea8-9425-4d87-8828-c84ad2a08d17": {
     "id": "ea102ea8-9425-4d87-8828-c84ad2a08d17",
     "prev": "ef08a13f-ab39-431a-a883-d5a1d0979115",
     "regions": {
      "d2dfc434-647c-4a99-8a99-350f16c220f3": {
       "attrs": {
        "height": 0.8,
        "width": 0.8,
        "x": 0.1,
        "y": 0.1
       },
       "content": {
        "cell": "1857d521-2279-4511-856f-6bc397a31452",
        "part": "whole"
       },
       "id": "d2dfc434-647c-4a99-8a99-350f16c220f3"
      }
     }
    },
    "eb3383ef-efd6-4f32-a17c-86706a2c9e70": {
     "id": "eb3383ef-efd6-4f32-a17c-86706a2c9e70",
     "prev": "cc4a2253-7e6e-44ba-a18a-9124bf41b671",
     "regions": {
      "2461415a-b87a-461d-b4b5-db5681b11ed7": {
       "attrs": {
        "height": 0.8,
        "width": 0.8,
        "x": 0.1,
        "y": 0.1
       },
       "content": {
        "cell": "bf735d32-362d-455e-b9df-4881cfaaa8ff",
        "part": "whole"
       },
       "id": "2461415a-b87a-461d-b4b5-db5681b11ed7"
      }
     }
    },
    "eb3a9710-cde0-464f-b5b9-7765b7b8db24": {
     "id": "eb3a9710-cde0-464f-b5b9-7765b7b8db24",
     "prev": "9d0d88b4-45f0-4790-987e-b2ce3ab1a53f",
     "regions": {
      "653c5c81-f3fc-45c8-a662-554dcb5496b4": {
       "attrs": {
        "height": 0.8,
        "width": 0.8,
        "x": 0.1,
        "y": 0.1
       },
       "content": {
        "cell": "f51d54c3-3da0-463f-9207-c55646d93638",
        "part": "whole"
       },
       "id": "653c5c81-f3fc-45c8-a662-554dcb5496b4"
      }
     }
    },
    "ebf3e9eb-baea-4f4f-9a8b-77292d108134": {
     "id": "ebf3e9eb-baea-4f4f-9a8b-77292d108134",
     "prev": "f75b7002-9b03-4727-aa8e-268a25f592b5",
     "regions": {
      "d90977e1-42b4-40b3-bfa1-41d3d9902334": {
       "attrs": {
        "height": 0.8,
        "width": 0.8,
        "x": 0.1,
        "y": 0.1
       },
       "content": {
        "cell": "511b791a-d543-4b39-ab49-76606f09a777",
        "part": "whole"
       },
       "id": "d90977e1-42b4-40b3-bfa1-41d3d9902334"
      }
     }
    },
    "ec81f128-c459-4126-b075-464ea504721f": {
     "id": "ec81f128-c459-4126-b075-464ea504721f",
     "prev": "f1fda4f7-8e32-4ba4-89f9-355670bf7be7",
     "regions": {
      "9f52d9b1-4caf-4d5b-90f4-99bcba5eeec3": {
       "attrs": {
        "height": 0.8,
        "width": 0.8,
        "x": 0.1,
        "y": 0.1
       },
       "content": {
        "cell": "4f067f0f-f488-409b-bd2b-b56b87a767de",
        "part": "whole"
       },
       "id": "9f52d9b1-4caf-4d5b-90f4-99bcba5eeec3"
      }
     }
    },
    "ef08a13f-ab39-431a-a883-d5a1d0979115": {
     "id": "ef08a13f-ab39-431a-a883-d5a1d0979115",
     "prev": "3f9e8fb2-0d87-4f6a-9441-f16d69def8f0",
     "regions": {
      "dffd5d97-1658-4688-a712-b24dcdb1189e": {
       "attrs": {
        "height": 0.8,
        "width": 0.8,
        "x": 0.1,
        "y": 0.1
       },
       "content": {
        "cell": "bef7d30f-baee-47af-965c-37873897a3af",
        "part": "whole"
       },
       "id": "dffd5d97-1658-4688-a712-b24dcdb1189e"
      }
     }
    },
    "efc4a985-5e68-4fbd-8080-57288a409a83": {
     "id": "efc4a985-5e68-4fbd-8080-57288a409a83",
     "prev": "646615f6-a696-4df9-b2bf-9fa4972a3fd6",
     "regions": {
      "2e086e14-f3d9-4a15-a1c6-7b795e8122ee": {
       "attrs": {
        "height": 0.8,
        "width": 0.8,
        "x": 0.1,
        "y": 0.1
       },
       "content": {
        "cell": "07ff4a01-812a-4b08-9522-05bd79a74a48",
        "part": "whole"
       },
       "id": "2e086e14-f3d9-4a15-a1c6-7b795e8122ee"
      }
     }
    },
    "f0500b2c-de07-412a-b94d-39bd77c9f6e2": {
     "id": "f0500b2c-de07-412a-b94d-39bd77c9f6e2",
     "prev": "00c2ebfa-0100-4b40-a67e-6a32cfa48b22",
     "regions": {
      "0d601611-708c-44ac-b100-d9c571eb095a": {
       "attrs": {
        "height": 0.8,
        "width": 0.8,
        "x": 0.1,
        "y": 0.1
       },
       "content": {
        "cell": "fbfdb73b-42aa-4d6c-8607-de4d7e930345",
        "part": "whole"
       },
       "id": "0d601611-708c-44ac-b100-d9c571eb095a"
      }
     }
    },
    "f0aaf0d8-4441-4919-a0d5-0622eb2a5d88": {
     "id": "f0aaf0d8-4441-4919-a0d5-0622eb2a5d88",
     "prev": "e351f550-b49a-44b8-8330-95433db27311",
     "regions": {
      "2c9d6289-725e-4a88-9d7b-2d1e981a95d4": {
       "attrs": {
        "height": 0.8,
        "width": 0.8,
        "x": 0.1,
        "y": 0.1
       },
       "content": {
        "cell": "58c220d8-0ffb-482a-b294-f6d495cf4b51",
        "part": "whole"
       },
       "id": "2c9d6289-725e-4a88-9d7b-2d1e981a95d4"
      }
     }
    },
    "f1b80262-7843-49cc-a5cd-4745b19f3978": {
     "id": "f1b80262-7843-49cc-a5cd-4745b19f3978",
     "prev": "b795fbc1-8d3e-4329-bfda-7fc729633567",
     "regions": {
      "5aa2161a-2093-49bb-8ff6-f70de728afc3": {
       "attrs": {
        "height": 0.8,
        "width": 0.8,
        "x": 0.1,
        "y": 0.1
       },
       "content": {
        "cell": "9594cb7f-7599-49b2-b65f-335bbc6d90b0",
        "part": "whole"
       },
       "id": "5aa2161a-2093-49bb-8ff6-f70de728afc3"
      }
     }
    },
    "f1d0836b-51b6-4da7-ab98-0a5828c9bbb3": {
     "id": "f1d0836b-51b6-4da7-ab98-0a5828c9bbb3",
     "prev": "7cfff8ad-751a-47bb-852c-5e133999003e",
     "regions": {
      "64c35a80-5545-4540-81c8-7b6296b6b7e7": {
       "attrs": {
        "height": 0.8,
        "width": 0.8,
        "x": 0.1,
        "y": 0.1
       },
       "content": {
        "cell": "ee59bc8f-cf0f-4aaf-a8ae-b5c2763cc79b",
        "part": "whole"
       },
       "id": "64c35a80-5545-4540-81c8-7b6296b6b7e7"
      }
     }
    },
    "f1fda4f7-8e32-4ba4-89f9-355670bf7be7": {
     "id": "f1fda4f7-8e32-4ba4-89f9-355670bf7be7",
     "prev": "17361deb-8540-4ec7-a58e-38bf3b6a011d",
     "regions": {
      "e91daafe-e981-4771-871e-d9334443b888": {
       "attrs": {
        "height": 0.8,
        "width": 0.8,
        "x": 0.1,
        "y": 0.1
       },
       "content": {
        "cell": "6f7c6e9f-8a23-4093-8306-f1d086c93874",
        "part": "whole"
       },
       "id": "e91daafe-e981-4771-871e-d9334443b888"
      }
     }
    },
    "f228d481-5fc0-4b77-893d-124a217e76f8": {
     "id": "f228d481-5fc0-4b77-893d-124a217e76f8",
     "prev": "28e6e5e0-4c8d-480b-88c4-212bb8a9a5d3",
     "regions": {
      "6064fce7-c813-482c-9d1f-9f3e8c6b0989": {
       "attrs": {
        "height": 0.8,
        "width": 0.8,
        "x": 0.1,
        "y": 0.1
       },
       "content": {
        "cell": "be5663ea-c3e0-493d-9d79-f62a519cec85",
        "part": "whole"
       },
       "id": "6064fce7-c813-482c-9d1f-9f3e8c6b0989"
      }
     }
    },
    "f28c4ada-e14a-45a5-8ac6-19e63cc7994e": {
     "id": "f28c4ada-e14a-45a5-8ac6-19e63cc7994e",
     "prev": "2440aa4d-fcf2-4b7e-bc47-8548a87a6ea7",
     "regions": {
      "404bccc3-c1c1-4570-9223-1a8b7c0a40e0": {
       "attrs": {
        "height": 0.8,
        "width": 0.8,
        "x": 0.1,
        "y": 0.1
       },
       "content": {
        "cell": "90778e0d-2726-4c96-bae9-af808aa17696",
        "part": "whole"
       },
       "id": "404bccc3-c1c1-4570-9223-1a8b7c0a40e0"
      }
     }
    },
    "f2aec887-b5c6-4392-8980-acc096112791": {
     "id": "f2aec887-b5c6-4392-8980-acc096112791",
     "prev": "0ccc1664-e9f4-4e9a-b15a-eb9f5331434a",
     "regions": {
      "79856fbb-2c65-4151-b923-50df34f356e4": {
       "attrs": {
        "height": 0.8,
        "width": 0.8,
        "x": 0.1,
        "y": 0.1
       },
       "content": {
        "cell": "fea3e8ab-ae8f-4c92-9a14-1f67d1b046d5",
        "part": "whole"
       },
       "id": "79856fbb-2c65-4151-b923-50df34f356e4"
      }
     }
    },
    "f4a79847-e440-4549-ac36-12c5f7ae16cd": {
     "id": "f4a79847-e440-4549-ac36-12c5f7ae16cd",
     "prev": "e47cc9fe-a3f9-4235-bac6-317a74c7f123",
     "regions": {
      "5854150a-eaad-43e0-8516-0f25aeb320c4": {
       "attrs": {
        "height": 0.8,
        "width": 0.8,
        "x": 0.1,
        "y": 0.1
       },
       "content": {
        "cell": "63216f7b-1fbc-455f-a690-3439ac18de81",
        "part": "whole"
       },
       "id": "5854150a-eaad-43e0-8516-0f25aeb320c4"
      }
     }
    },
    "f54407be-9c02-4485-bef5-b7a81592cd7b": {
     "id": "f54407be-9c02-4485-bef5-b7a81592cd7b",
     "prev": "82e97888-e9e0-4c22-b092-c887e18f1fc7",
     "regions": {
      "8540810a-cf38-4e61-b522-5f88fd0fe124": {
       "attrs": {
        "height": 0.8,
        "width": 0.8,
        "x": 0.1,
        "y": 0.1
       },
       "content": {
        "cell": "be48f745-c87b-461d-99c1-ea8cce9efd52",
        "part": "whole"
       },
       "id": "8540810a-cf38-4e61-b522-5f88fd0fe124"
      }
     }
    },
    "f5a70ffb-4a57-44dc-bd98-766d4d57a191": {
     "id": "f5a70ffb-4a57-44dc-bd98-766d4d57a191",
     "prev": "a49ff41e-16f8-4551-bfa2-73f81f76498d",
     "regions": {
      "c3dccfc0-112a-4c1f-ba4f-f35ca9731450": {
       "attrs": {
        "height": 0.8,
        "width": 0.8,
        "x": 0.1,
        "y": 0.1
       },
       "content": {
        "cell": "5354b9bd-c9ea-4690-8910-1803c3ed9b84",
        "part": "whole"
       },
       "id": "c3dccfc0-112a-4c1f-ba4f-f35ca9731450"
      }
     }
    },
    "f5a7656f-b3db-4183-9c5d-281a9a4107f5": {
     "id": "f5a7656f-b3db-4183-9c5d-281a9a4107f5",
     "prev": "94893e4e-64c7-4293-988a-943388cac9bf",
     "regions": {
      "16f9dc60-26ef-4ead-9581-e74d3b910c50": {
       "attrs": {
        "height": 0.8,
        "width": 0.8,
        "x": 0.1,
        "y": 0.1
       },
       "content": {
        "cell": "a91ef282-77b8-44fa-8f41-61b2733727ba",
        "part": "whole"
       },
       "id": "16f9dc60-26ef-4ead-9581-e74d3b910c50"
      }
     }
    },
    "f6536e0e-5e5a-4eee-9d6d-a943c3cc2ad5": {
     "id": "f6536e0e-5e5a-4eee-9d6d-a943c3cc2ad5",
     "prev": "8a747dec-9477-4833-8387-48be9167bc51",
     "regions": {
      "c0178303-faed-488b-a8a7-3f82a693973b": {
       "attrs": {
        "height": 0.8,
        "width": 0.8,
        "x": 0.1,
        "y": 0.1
       },
       "content": {
        "cell": "d4651dc6-f125-47d0-a46c-8fe06a7bc4be",
        "part": "whole"
       },
       "id": "c0178303-faed-488b-a8a7-3f82a693973b"
      }
     }
    },
    "f7509fbd-ab9a-4911-9138-6b1af48f01f0": {
     "id": "f7509fbd-ab9a-4911-9138-6b1af48f01f0",
     "prev": "bf9a6d66-d1e7-4558-9db2-aa2c5a08e272",
     "regions": {
      "f3413e2a-8a1c-4c3a-9a0f-11faf9e49e11": {
       "attrs": {
        "height": 0.8,
        "width": 0.8,
        "x": 0.1,
        "y": 0.1
       },
       "content": {
        "cell": "e4ef7ce1-bf0b-4bb5-bab7-885076da8f55",
        "part": "whole"
       },
       "id": "f3413e2a-8a1c-4c3a-9a0f-11faf9e49e11"
      }
     }
    },
    "f75b7002-9b03-4727-aa8e-268a25f592b5": {
     "id": "f75b7002-9b03-4727-aa8e-268a25f592b5",
     "prev": "64aa93f7-d0a4-4f3f-9152-cb117c0d33d2",
     "regions": {
      "5abe2054-886e-42de-903a-e910ebe92920": {
       "attrs": {
        "height": 0.8,
        "width": 0.8,
        "x": 0.1,
        "y": 0.1
       },
       "content": {
        "cell": "1fa941d8-24b8-49a4-9c3d-f5b162ef9fca",
        "part": "whole"
       },
       "id": "5abe2054-886e-42de-903a-e910ebe92920"
      }
     }
    },
    "f7ddf4dc-80d7-481b-9d21-1166031f8c04": {
     "id": "f7ddf4dc-80d7-481b-9d21-1166031f8c04",
     "prev": "350078d1-cdee-4f48-b929-7fb2ffc2f3d0",
     "regions": {
      "d28ec8ce-ab99-4765-9d6b-cb69c9024b92": {
       "attrs": {
        "height": 0.8,
        "width": 0.8,
        "x": 0.1,
        "y": 0.1
       },
       "content": {
        "cell": "a62c4cd9-9b6c-4a93-ab3c-2433ceac4255",
        "part": "whole"
       },
       "id": "d28ec8ce-ab99-4765-9d6b-cb69c9024b92"
      }
     }
    },
    "f8392f0b-5089-4d5e-84eb-e1722a4c85aa": {
     "id": "f8392f0b-5089-4d5e-84eb-e1722a4c85aa",
     "prev": "5532ce63-059b-4216-9065-4c46bd7d89f7",
     "regions": {
      "f0f7adf6-6207-4d11-b7ba-6e361b9e5592": {
       "attrs": {
        "height": 0.8,
        "width": 0.8,
        "x": 0.1,
        "y": 0.1
       },
       "content": {
        "cell": "16504a79-f399-44ff-ad96-31d5794a5e01",
        "part": "whole"
       },
       "id": "f0f7adf6-6207-4d11-b7ba-6e361b9e5592"
      }
     }
    },
    "fd0caf8a-3d5d-41f3-9caa-08c21b3f26a8": {
     "id": "fd0caf8a-3d5d-41f3-9caa-08c21b3f26a8",
     "prev": "e61374f0-3b22-46f1-8f83-d17fb10bba9a",
     "regions": {
      "5428603b-b20f-4e04-a4b5-91603986ef36": {
       "attrs": {
        "height": 0.8,
        "width": 0.8,
        "x": 0.1,
        "y": 0.1
       },
       "content": {
        "cell": "9d106b81-205c-4f6a-adb1-c27f54cf6d09",
        "part": "whole"
       },
       "id": "5428603b-b20f-4e04-a4b5-91603986ef36"
      }
     }
    },
    "fe7b1364-ffbc-4fd1-8a08-e3ba54ab969a": {
     "id": "fe7b1364-ffbc-4fd1-8a08-e3ba54ab969a",
     "prev": "6973a990-a560-45da-bf08-33dab23595da",
     "regions": {
      "b6b30b06-ee94-466d-946f-6880915a4513": {
       "attrs": {
        "height": 0.8,
        "width": 0.8,
        "x": 0.1,
        "y": 0.1
       },
       "content": {
        "cell": "c8f76150-5cb1-48ee-97dc-a21962811c13",
        "part": "whole"
       },
       "id": "b6b30b06-ee94-466d-946f-6880915a4513"
      }
     }
    },
    "fec8363d-0549-4194-8e81-38bd3a4f034f": {
     "id": "fec8363d-0549-4194-8e81-38bd3a4f034f",
     "prev": "f5a70ffb-4a57-44dc-bd98-766d4d57a191",
     "regions": {
      "0dc53c7c-b629-4e9d-baab-39de6d8d53ec": {
       "attrs": {
        "height": 0.8,
        "width": 0.8,
        "x": 0.1,
        "y": 0.1
       },
       "content": {
        "cell": "d56dc642-606f-4b63-ad4e-7152d90e52ef",
        "part": "whole"
       },
       "id": "0dc53c7c-b629-4e9d-baab-39de6d8d53ec"
      }
     }
    },
    "ff697b9e-7715-4ae9-ab5d-0e81997651c1": {
     "id": "ff697b9e-7715-4ae9-ab5d-0e81997651c1",
     "prev": "b44ea508-b605-40b2-87dc-6298f0c98fd0",
     "regions": {
      "6350ce57-f19a-4b15-8fbf-c4f8451a7daf": {
       "attrs": {
        "height": 0.8,
        "width": 0.8,
        "x": 0.1,
        "y": 0.1
       },
       "content": {
        "cell": "6b68b809-7766-429b-bc9b-39316030e16b",
        "part": "whole"
       },
       "id": "6350ce57-f19a-4b15-8fbf-c4f8451a7daf"
      }
     }
    }
   },
   "themes": {}
  },
  "toc": {
   "nav_menu": {
    "height": "345px",
    "width": "252px"
   },
   "number_sections": false,
   "sideBar": true,
   "skip_h1_title": false,
   "toc_cell": false,
   "toc_position": {
    "height": "582px",
    "left": "0px",
    "right": "1106px",
    "top": "111px",
    "width": "260px"
   },
   "toc_section_display": "block",
   "toc_window_display": false
  },
  "toc_position": {
   "height": "552px",
   "left": "0px",
   "right": "1067px",
   "top": "107px",
   "width": "299px"
  }
 },
 "nbformat": 4,
 "nbformat_minor": 1
}
