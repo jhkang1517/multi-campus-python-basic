{
 "cells": [
  {
   "cell_type": "markdown",
   "metadata": {},
   "source": [
    "## 1번"
   ]
  },
  {
   "cell_type": "code",
   "execution_count": 2,
   "metadata": {},
   "outputs": [
    {
     "name": "stdout",
     "output_type": "stream",
     "text": [
      "S3:  {4, 5, 6, 7, 9, 12, 19, 25, -4}\n",
      "S4:  {12, 7}\n",
      "S5:  {4, 5, 6, 9, 19, 25, -4}\n",
      "L3:  [-4, 4, 5, 6, 7, 9, 12, 19, 25]\n",
      "M3:  [-4, 4, 5, 6, 7, 9, 12, 19, 77]\n"
     ]
    }
   ],
   "source": [
    "# 1번\n",
    "S1 = {7, 4, 12, 5, 25}\n",
    "S2 = {9, 12, 7, 6, -4, 19}\n",
    "\n",
    "S3 = S1.union(S2)\n",
    "S4 = S1.intersection(S2)\n",
    "S5 = S1.symmetric_difference(S2)\n",
    "\n",
    "L3 = list(S3)\n",
    "M3 = sorted(L3)\n",
    "M3.pop()\n",
    "M3.append(77)\n",
    "\n",
    "L3.sort()\n",
    "\n",
    "print(\"S3: \", S3)\n",
    "print(\"S4: \", S4)\n",
    "print(\"S5: \", S5)\n",
    "print(\"L3: \", L3)\n",
    "print(\"M3: \", M3)"
   ]
  },
  {
   "cell_type": "markdown",
   "metadata": {},
   "source": [
    "## 2번\n",
    "2. You are given a list of numbers. Write a function  \n",
    "def stan_dev(A):  \n",
    "  \n",
    "which returns the standard deviation of the given numbers.\n",
    "(You need to import math, use math.sqrt)\n",
    "  \n",
    "is the definition of standard deviation."
   ]
  },
  {
   "cell_type": "code",
   "execution_count": 4,
   "metadata": {},
   "outputs": [],
   "source": [
    "# 2번\n",
    "import math\n",
    "\n",
    "def stan_dev(A):\n",
    "    N = len(A)\n",
    "    SUM = 0\n",
    "    \n",
    "    for i in A:\n",
    "        SUM += i\n",
    "        \n",
    "    MEAN = SUM / N\n",
    "    SUM_SQUARED = 0\n",
    "    \n",
    "    for i in A:\n",
    "        SUM_SQUARED += ((i - MEAN)**2)\n",
    "        \n",
    "    STD = math.sqrt((SUM_SQUARED / (MEAN-1)))\n",
    "    \n",
    "    return STD"
   ]
  },
  {
   "cell_type": "code",
   "execution_count": 5,
   "metadata": {},
   "outputs": [
    {
     "data": {
      "text/plain": [
       "2.23606797749979"
      ]
     },
     "execution_count": 5,
     "metadata": {},
     "output_type": "execute_result"
    }
   ],
   "source": [
    "stan_dev([1,2,3,4,5])"
   ]
  },
  {
   "cell_type": "markdown",
   "metadata": {},
   "source": [
    "# 3번"
   ]
  },
  {
   "cell_type": "code",
   "execution_count": 7,
   "metadata": {},
   "outputs": [
    {
     "data": {
      "text/plain": [
       "[('a', '344-7944'),\n",
       " ('aa', '123-1535'),\n",
       " ('ab', '424-3345'),\n",
       " ('choi', '559-5543'),\n",
       " ('kim', '344-7944')]"
      ]
     },
     "execution_count": 7,
     "metadata": {},
     "output_type": "execute_result"
    }
   ],
   "source": [
    "# 3번 \n",
    "phonedict = {\"a\": \"344-7944\",\n",
    "             \"aa\": \"123-1535\",\n",
    "             \"ab\": \"424-3345\",\n",
    "             \"kim\": \"344-7944\",\n",
    "             \"choi\": \"559-5543\",\n",
    "             \"xzx\": \"094-1234\",\n",
    "             \"purem\": \"898-0951\",\n",
    "            }\n",
    "\n",
    "phonedict = sorted(phonedict.items(), reverse = False)\n",
    "print(phonedict[:5])\n"
   ]
  },
  {
   "cell_type": "markdown",
   "metadata": {},
   "source": [
    "## 4번\n",
    "4. Write a function is_palindrome(num) which returns True or False\n",
    "depending on whether num is a palindrome.( A palindrome number\n",
    "is e.g, 313, 5445 )"
   ]
  },
  {
   "cell_type": "code",
   "execution_count": 12,
   "metadata": {},
   "outputs": [
    {
     "name": "stdout",
     "output_type": "stream",
     "text": [
      "숫자를 입력하세요: 111\n",
      "True\n"
     ]
    }
   ],
   "source": [
    "# 4번 \n",
    "i = 0 # index를 계산할 변수 0 선언 \n",
    "a = input(\"숫자를 입력하세요: \")\n",
    "a = str(a) # string 형태로 변환 \n",
    "\n",
    "while i < len(a) // 2: # \n",
    "    if a[i] != a[-i-1]:\n",
    "        print(\"False\")\n",
    "        break;\n",
    "    else:\n",
    "        i = i+1\n",
    "if i == len(a)//2:\n",
    "    print(\"True\")"
   ]
  },
  {
   "cell_type": "code",
   "execution_count": null,
   "metadata": {},
   "outputs": [],
   "source": []
  }
 ],
 "metadata": {
  "kernelspec": {
   "display_name": "Python 3",
   "language": "python",
   "name": "python3"
  },
  "language_info": {
   "codemirror_mode": {
    "name": "ipython",
    "version": 3
   },
   "file_extension": ".py",
   "mimetype": "text/x-python",
   "name": "python",
   "nbconvert_exporter": "python",
   "pygments_lexer": "ipython3",
   "version": "3.7.3"
  }
 },
 "nbformat": 4,
 "nbformat_minor": 2
}
