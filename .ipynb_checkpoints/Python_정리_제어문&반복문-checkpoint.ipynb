{
 "cells": [
  {
   "cell_type": "markdown",
   "metadata": {},
   "source": [
    "# 제어문"
   ]
  },
  {
   "cell_type": "markdown",
   "metadata": {},
   "source": [
    "# 조건문 if\n",
    "조건문 if는 코드의 흐름을 분기 할 때 쓰인다.  \n",
    "여기서 분기란 코드의 진행 흐름을 나누는 것을 의미한다.  \n",
    "\n",
    "**(만약 ~라면 코드를 실행해라.)**\n",
    "\n",
    "**콜론(:)으로 블록을 구분한다.**"
   ]
  },
  {
   "cell_type": "markdown",
   "metadata": {},
   "source": [
    "## 사용법"
   ]
  },
  {
   "cell_type": "code",
   "execution_count": 6,
   "metadata": {},
   "outputs": [
    {
     "name": "stdout",
     "output_type": "stream",
     "text": [
      "a는 10입니다.\n"
     ]
    }
   ],
   "source": [
    "a = 10 # 변수선언\n",
    "\n",
    "\n",
    "if a == 10:\n",
    "    print('a는 10입니다.') # 실행됩니다.\n",
    "    \n",
    "if a == 5:\n",
    "    print('b는 10입니다.') # 실행되지 않습니다."
   ]
  },
  {
   "cell_type": "markdown",
   "metadata": {},
   "source": [
    "### pass\n",
    "pass 문은 아무것도 하지 않는다.  \n",
    "문법적으로 문장이 필요하지만, 프로그램이 특별히 할 일이 없을 때 사용할 수 있습니다. \n",
    "\n",
    "**일반적으로 프로그래밍 설계단계에서 추상적으로 논리구조를 구축할 때 사용한다.**"
   ]
  },
  {
   "cell_type": "code",
   "execution_count": 8,
   "metadata": {},
   "outputs": [
    {
     "ename": "SyntaxError",
     "evalue": "unexpected EOF while parsing (<ipython-input-8-9de3cc92755f>, line 3)",
     "output_type": "error",
     "traceback": [
      "\u001b[1;36m  File \u001b[1;32m\"<ipython-input-8-9de3cc92755f>\"\u001b[1;36m, line \u001b[1;32m3\u001b[0m\n\u001b[1;33m    # 코드작성을 안하면 오류가 발생\u001b[0m\n\u001b[1;37m                      ^\u001b[0m\n\u001b[1;31mSyntaxError\u001b[0m\u001b[1;31m:\u001b[0m unexpected EOF while parsing\n"
     ]
    }
   ],
   "source": [
    "a = 10\n",
    "if a == 10:\n",
    "    # 코드작성을 안하면 오류가 발생"
   ]
  },
  {
   "cell_type": "code",
   "execution_count": 11,
   "metadata": {},
   "outputs": [],
   "source": [
    "a = 10\n",
    "if a == 10: # pass문을 통해 오류를 방지할 수 있다.\n",
    "    pass"
   ]
  },
  {
   "cell_type": "markdown",
   "metadata": {},
   "source": [
    "### 들여쓰기란?\n",
    "\n",
    "파이썬 코드는 들여쓰기로 블록을 구분한다.  \n",
    "여기서 블록이란 하나의 '절'(clause)을 의미하며  \n",
    "자체로 하나의 문맥을 가진다.\n",
    "\n",
    "같은 블록 내에서는 들여쓰기 수준(Indentation Level)이 같아야한다.  \n",
    "일반적으로 (탭(white sapce 4개))를 사용한다."
   ]
  },
  {
   "cell_type": "markdown",
   "metadata": {},
   "source": [
    "### if문의 다양한 조건들\n",
    "Boolean으로 변환했을 때,  \n",
    "True면 실행, False면 실행하지 않음."
   ]
  },
  {
   "cell_type": "code",
   "execution_count": 12,
   "metadata": {},
   "outputs": [
    {
     "name": "stdout",
     "output_type": "stream",
     "text": [
      "a<100\n"
     ]
    }
   ],
   "source": [
    "a = 10\n",
    "if a>100:\n",
    "    print('a>100')\n",
    "\n",
    "if a<100:\n",
    "    print('a<100')"
   ]
  },
  {
   "cell_type": "code",
   "execution_count": 14,
   "metadata": {},
   "outputs": [
    {
     "name": "stdout",
     "output_type": "stream",
     "text": [
      "True\n",
      "True\n"
     ]
    }
   ],
   "source": [
    "a = 10\n",
    "if a<100:\n",
    "    print(True)\n",
    "    print('True')"
   ]
  },
  {
   "cell_type": "code",
   "execution_count": 15,
   "metadata": {},
   "outputs": [
    {
     "name": "stdout",
     "output_type": "stream",
     "text": [
      "둘다 문자열이네?!\n"
     ]
    }
   ],
   "source": [
    "a = \"문자타입!\"\n",
    "b = \"나도 문자타입!\"\n",
    "\n",
    "if type(a) == type(b):\n",
    "    print(\"둘다 문자열이네?!\")"
   ]
  },
  {
   "cell_type": "markdown",
   "metadata": {},
   "source": [
    "# if ... elif ... elif ... else ...\n",
    "if elif else는 다음과 같이 쓰인다.\n",
    "\n",
    "```[python]\n",
    "if a<5:\n",
    "    print(\"a가 5보다 작습니다.\")\n",
    "elif a<10:\n",
    "    print(\"a가 5보다 크거나 같고, 10보다 작습니다. \")\n",
    "elif a< 15:\n",
    "    print(\"a가 10보다 크거나 같고, 15보다 작습니다. \")\n",
    "else:\n",
    "    print(\"a가 해당 범위에 들어가지 않습니다.\")\n",
    "```\n",
    "\n",
    "여기서 **elif**는 **else if**의 줄임이라 생각하면 된다."
   ]
  },
  {
   "cell_type": "markdown",
   "metadata": {},
   "source": [
    "### 사용법"
   ]
  },
  {
   "cell_type": "code",
   "execution_count": 17,
   "metadata": {},
   "outputs": [
    {
     "name": "stdout",
     "output_type": "stream",
     "text": [
      "a가 10보다 크거나 같고, 15보다 작습니다. \n"
     ]
    }
   ],
   "source": [
    "a = 10\n",
    "if a<5:\n",
    "    print(\"a가 5보다 작습니다.\")\n",
    "elif a<10:\n",
    "    print(\"a가 5보다 크거나 같고, 10보다 작습니다. \")\n",
    "elif a<15:\n",
    "    print(\"a가 10보다 크거나 같고, 15보다 작습니다. \")\n",
    "else:\n",
    "    print(\"a가 해당 범위에 들어가지 않습니다.\")"
   ]
  },
  {
   "cell_type": "markdown",
   "metadata": {},
   "source": [
    "##### else문 실행"
   ]
  },
  {
   "cell_type": "code",
   "execution_count": 18,
   "metadata": {},
   "outputs": [
    {
     "name": "stdout",
     "output_type": "stream",
     "text": [
      "알파벳을 하나 입력해주세요: C\n",
      "입력된 알파벳이 A, B가 아닙니다.\n"
     ]
    }
   ],
   "source": [
    "alphabet = input(str(\"알파벳을 하나 입력해주세요: \"))\n",
    "\n",
    "if alphabet == 'A':\n",
    "    print(\"입력된 알파벳은 A입니다.\")\n",
    "\n",
    "elif alphabet == 'B':\n",
    "    print(\"입력된 알파벳은 B입니다.\")\n",
    "    \n",
    "else:\n",
    "    print(\"입력된 알파벳이 A, B가 아닙니다.\")"
   ]
  },
  {
   "cell_type": "markdown",
   "metadata": {},
   "source": [
    "# 중첩 if문\n",
    "- 분기 안에 분기\n"
   ]
  },
  {
   "cell_type": "code",
   "execution_count": 20,
   "metadata": {},
   "outputs": [
    {
     "name": "stdout",
     "output_type": "stream",
     "text": [
      "a는 10 이상 20 이하\n"
     ]
    }
   ],
   "source": [
    "a = 11\n",
    "if a>10:\n",
    "    if a<=20:\n",
    "        print(\"a는 10 이상 20 이하\")\n",
    "    elif a>30:\n",
    "        print(\"a는 30 초과\")\n",
    "    else:\n",
    "        print(\"20초과 30 이하\")\n",
    "else:\n",
    "    print(\"a는 10 이하입니다.\")"
   ]
  },
  {
   "cell_type": "markdown",
   "metadata": {},
   "source": [
    "## 연습문제1.\n",
    "사용자로 점수를 3개 입력받아  \n",
    "모든 점수가 65점보다 클 경우 합격 아닐경우 불합격을 출력하세요  \n",
    "단, 0~100 이 아닌 숫자가 입력된경우 잘못된 “잘못된 점수가 입력되었습니다\" 를 출력하세요  "
   ]
  },
  {
   "cell_type": "code",
   "execution_count": 33,
   "metadata": {},
   "outputs": [
    {
     "name": "stdout",
     "output_type": "stream",
     "text": [
      "첫번째 점수를 입력하세요: 1\n",
      "두번째 점수를 입력하세요: 1\n",
      "세번째 점수를 입력하세요: 1\n",
      "불합격\n"
     ]
    }
   ],
   "source": [
    "score1 = int(input(\"첫번째 점수를 입력하세요: \"))\n",
    "score2 = int(input(\"두번째 점수를 입력하세요: \"))\n",
    "score3 = int(input(\"세번째 점수를 입력하세요: \"))\n",
    "\n",
    "if score1 in range(101) and score2 in range(101) and score3 in range(101): \n",
    "    if score1 > 65 and score2 > 65 and score3 > 65:\n",
    "        print(\"합격\")\n",
    "    else:\n",
    "        print(\"불합격\")\n",
    "else:\n",
    "    print(\"잘못된 점수가 입력되었습니다.\")"
   ]
  },
  {
   "cell_type": "markdown",
   "metadata": {},
   "source": [
    "## 연습문제2. 홀수 짝수 판별기\n",
    "사용자로부터 정수를 하나 입력받아  \n",
    "입력한 정수가 홀수인지 짝수인지 판별하여라.  \n",
    "(** 0은 짝수라 하자.)\n",
    "\n",
    "\n",
    "**[출력결과]**  \n",
    "정수를 입력해주세요: 5  \n",
    "입력하신 5는 홀수입니다.  \n",
    "\n",
    "짝수를 입력해주세요: 10  \n",
    "입력하신 10은 짝수입니다.\n",
    "\n",
    "\n",
    "***만약 0이 입력 받으면 \"0은 애매합니다.\"를 출력하세요."
   ]
  },
  {
   "cell_type": "code",
   "execution_count": 42,
   "metadata": {},
   "outputs": [
    {
     "name": "stdout",
     "output_type": "stream",
     "text": [
      "정수를 입력하세요: 5\n",
      "입력하신 5는 홀수입니다.\n"
     ]
    }
   ],
   "source": [
    "integer = int(input(\"정수를 입력하세요: \"))\n",
    "# print(type(integer))\n",
    "\n",
    "if integer == 0:\n",
    "    print(\"0은 애매합니다.\")\n",
    "elif integer % 2 == 1:\n",
    "    print(\"입력하신 {0}는 홀수입니다.\".format(integer))\n",
    "elif integer % 2 == 0:\n",
    "    print(\"입력하신 {0}는 짝수입니다.\".format(integer))\n",
    "else:\n",
    "    print(\"오류가 발생하였습니다.\")"
   ]
  },
  {
   "cell_type": "code",
   "execution_count": null,
   "metadata": {},
   "outputs": [],
   "source": []
  },
  {
   "cell_type": "code",
   "execution_count": null,
   "metadata": {},
   "outputs": [],
   "source": []
  },
  {
   "cell_type": "markdown",
   "metadata": {},
   "source": [
    "# 반복문 (for, while)\n",
    "\n",
    "코드를 반복해야 할 때 사용.  \n",
    "지정된 범위만큼 (주로 반복횟수가 정해져 있을때 사용.)"
   ]
  },
  {
   "cell_type": "markdown",
   "metadata": {},
   "source": [
    "# for문"
   ]
  },
  {
   "cell_type": "code",
   "execution_count": 44,
   "metadata": {},
   "outputs": [
    {
     "name": "stdout",
     "output_type": "stream",
     "text": [
      "현재값: 0\n",
      "현재값: 1\n",
      "현재값: 2\n"
     ]
    }
   ],
   "source": [
    "for i in range(3):\n",
    "    print(\"현재값:\", i) # 하나씩 참고하기 시작합니다."
   ]
  },
  {
   "cell_type": "code",
   "execution_count": 46,
   "metadata": {},
   "outputs": [
    {
     "name": "stdout",
     "output_type": "stream",
     "text": [
      "현재값: 0\n",
      "현재값: 2\n",
      "현재값: 4\n"
     ]
    }
   ],
   "source": [
    "for i in range(0, 5, 2):\n",
    "    print(\"현재값:\", i)"
   ]
  },
  {
   "cell_type": "markdown",
   "metadata": {},
   "source": [
    "### for문 with list"
   ]
  },
  {
   "cell_type": "code",
   "execution_count": 47,
   "metadata": {},
   "outputs": [
    {
     "name": "stdout",
     "output_type": "stream",
     "text": [
      "1\n",
      "2\n",
      "3\n",
      "4\n",
      "5\n"
     ]
    }
   ],
   "source": [
    "for i in [1, 2, 3, 4, 5]:\n",
    "    print(i)"
   ]
  },
  {
   "cell_type": "markdown",
   "metadata": {},
   "source": [
    "### for문 with tuple"
   ]
  },
  {
   "cell_type": "code",
   "execution_count": 48,
   "metadata": {},
   "outputs": [
    {
     "name": "stdout",
     "output_type": "stream",
     "text": [
      "1\n",
      "2\n",
      "3\n",
      "4\n",
      "5\n"
     ]
    }
   ],
   "source": [
    "for i in (1, 2, 3, 4, 5):\n",
    "    print(i)"
   ]
  },
  {
   "cell_type": "markdown",
   "metadata": {},
   "source": [
    "### for문 with dictionary"
   ]
  },
  {
   "cell_type": "code",
   "execution_count": 57,
   "metadata": {},
   "outputs": [
    {
     "name": "stdout",
     "output_type": "stream",
     "text": [
      "num1\n",
      "num2\n",
      "num3\n"
     ]
    }
   ],
   "source": [
    "a = {\n",
    "    'num1': 1,\n",
    "    'num2': 2,\n",
    "    'num3': 3\n",
    "}\n",
    "\n",
    "for k in a:\n",
    "    print(k)"
   ]
  },
  {
   "cell_type": "code",
   "execution_count": 60,
   "metadata": {},
   "outputs": [
    {
     "name": "stdout",
     "output_type": "stream",
     "text": [
      "num1\n",
      "1\n",
      "----------\n",
      "num2\n",
      "2\n",
      "----------\n",
      "num3\n",
      "3\n",
      "----------\n"
     ]
    }
   ],
   "source": [
    "for k in a:\n",
    "    print(k)\n",
    "    print(a[k])\n",
    "    print('-'*10)"
   ]
  },
  {
   "cell_type": "markdown",
   "metadata": {},
   "source": [
    "# 연습문제1-1\n",
    "사용자로부터 정수를 입력받아  \n",
    "해당 정수의 크기만큼 '안녕'을 출력하세요.\n"
   ]
  },
  {
   "cell_type": "code",
   "execution_count": 64,
   "metadata": {
    "scrolled": true
   },
   "outputs": [
    {
     "name": "stdout",
     "output_type": "stream",
     "text": [
      "정수를 입력하세요: 6\n",
      "안녕안녕안녕안녕안녕안녕\n",
      "안녕안녕안녕안녕안녕안녕\n"
     ]
    }
   ],
   "source": [
    "integer = int(input(\"정수를 입력하세요: \"))\n",
    "# print(\"안녕\"*integer)\n",
    "\n",
    "for i in range(1,integer+1):\n",
    "    if i == integer:\n",
    "        print(\"안녕\"*i)"
   ]
  },
  {
   "cell_type": "code",
   "execution_count": 137,
   "metadata": {},
   "outputs": [
    {
     "name": "stdout",
     "output_type": "stream",
     "text": [
      "정수를 입력하세요: 5\n",
      "안녕안녕안녕안녕안녕\n"
     ]
    }
   ],
   "source": [
    "integer = int(input(\"정수를 입력하세요: \"))\n",
    "\n",
    "print(integer*'안녕')"
   ]
  },
  {
   "cell_type": "markdown",
   "metadata": {},
   "source": [
    "# 연습문제1-2\n",
    "  사용자로부터 정수를 입력받아, 입력된 정수 만큼 별 찍기\n"
   ]
  },
  {
   "cell_type": "code",
   "execution_count": 67,
   "metadata": {},
   "outputs": [
    {
     "name": "stdout",
     "output_type": "stream",
     "text": [
      "정수를 입력해주세요:10\n",
      "*\n",
      "**\n",
      "***\n",
      "****\n",
      "*****\n",
      "******\n",
      "*******\n",
      "********\n",
      "*********\n",
      "**********\n"
     ]
    }
   ],
   "source": [
    "integer = int(input(\"정수를 입력해주세요:\"))\n",
    "\n",
    "for i in range(1, integer+1):\n",
    "        print(\"*\"*i)"
   ]
  },
  {
   "cell_type": "markdown",
   "metadata": {},
   "source": [
    "# 연습문제1-3\n",
    "사용자로부터 정수를 입력받아, 입력된 정수 만큼 별 찍기 **(역순)**\n"
   ]
  },
  {
   "cell_type": "code",
   "execution_count": 78,
   "metadata": {},
   "outputs": [
    {
     "name": "stdout",
     "output_type": "stream",
     "text": [
      "정수를 입력해주세요:10\n",
      "**********\n",
      "*********\n",
      "********\n",
      "*******\n",
      "******\n",
      "*****\n",
      "****\n",
      "***\n",
      "**\n"
     ]
    }
   ],
   "source": [
    "integer = int(input(\"정수를 입력해주세요:\"))\n",
    "\n",
    "for i in range(integer,1,-1):\n",
    "        print(\"*\"*i)"
   ]
  },
  {
   "cell_type": "markdown",
   "metadata": {},
   "source": [
    "# enumerate()"
   ]
  },
  {
   "cell_type": "code",
   "execution_count": 79,
   "metadata": {},
   "outputs": [],
   "source": [
    "# list\n",
    "a = ['a', 'b', 'c', 'd', 'e']"
   ]
  },
  {
   "cell_type": "code",
   "execution_count": 80,
   "metadata": {},
   "outputs": [
    {
     "name": "stdout",
     "output_type": "stream",
     "text": [
      "0 a\n",
      "1 b\n",
      "2 c\n",
      "3 d\n",
      "4 e\n"
     ]
    }
   ],
   "source": [
    "for idx, value in enumerate(a):\n",
    "    print(idx, value)\n",
    "    # 1. 튜플형\n",
    "    # 2. 튜플형을 언패킹하게 된다."
   ]
  },
  {
   "cell_type": "markdown",
   "metadata": {},
   "source": [
    "### for문의 중첩"
   ]
  },
  {
   "cell_type": "code",
   "execution_count": 81,
   "metadata": {},
   "outputs": [
    {
     "name": "stdout",
     "output_type": "stream",
     "text": [
      "==========\n",
      "0 번째 iloop\n",
      "----------\n",
      "0 번째 j루프\n",
      "1 번째 j루프\n",
      "2 번째 j루프\n",
      "3 번째 j루프\n",
      "4 번째 j루프\n",
      "5 번째 j루프\n",
      "6 번째 j루프\n",
      "7 번째 j루프\n",
      "8 번째 j루프\n",
      "9 번째 j루프\n",
      "==========\n",
      "1 번째 iloop\n",
      "----------\n",
      "0 번째 j루프\n",
      "1 번째 j루프\n",
      "2 번째 j루프\n",
      "3 번째 j루프\n",
      "4 번째 j루프\n",
      "5 번째 j루프\n",
      "6 번째 j루프\n",
      "7 번째 j루프\n",
      "8 번째 j루프\n",
      "9 번째 j루프\n",
      "==========\n",
      "2 번째 iloop\n",
      "----------\n",
      "0 번째 j루프\n",
      "1 번째 j루프\n",
      "2 번째 j루프\n",
      "3 번째 j루프\n",
      "4 번째 j루프\n",
      "5 번째 j루프\n",
      "6 번째 j루프\n",
      "7 번째 j루프\n",
      "8 번째 j루프\n",
      "9 번째 j루프\n",
      "==========\n",
      "3 번째 iloop\n",
      "----------\n",
      "0 번째 j루프\n",
      "1 번째 j루프\n",
      "2 번째 j루프\n",
      "3 번째 j루프\n",
      "4 번째 j루프\n",
      "5 번째 j루프\n",
      "6 번째 j루프\n",
      "7 번째 j루프\n",
      "8 번째 j루프\n",
      "9 번째 j루프\n",
      "==========\n",
      "4 번째 iloop\n",
      "----------\n",
      "0 번째 j루프\n",
      "1 번째 j루프\n",
      "2 번째 j루프\n",
      "3 번째 j루프\n",
      "4 번째 j루프\n",
      "5 번째 j루프\n",
      "6 번째 j루프\n",
      "7 번째 j루프\n",
      "8 번째 j루프\n",
      "9 번째 j루프\n",
      "==========\n",
      "5 번째 iloop\n",
      "----------\n",
      "0 번째 j루프\n",
      "1 번째 j루프\n",
      "2 번째 j루프\n",
      "3 번째 j루프\n",
      "4 번째 j루프\n",
      "5 번째 j루프\n",
      "6 번째 j루프\n",
      "7 번째 j루프\n",
      "8 번째 j루프\n",
      "9 번째 j루프\n",
      "==========\n",
      "6 번째 iloop\n",
      "----------\n",
      "0 번째 j루프\n",
      "1 번째 j루프\n",
      "2 번째 j루프\n",
      "3 번째 j루프\n",
      "4 번째 j루프\n",
      "5 번째 j루프\n",
      "6 번째 j루프\n",
      "7 번째 j루프\n",
      "8 번째 j루프\n",
      "9 번째 j루프\n",
      "==========\n",
      "7 번째 iloop\n",
      "----------\n",
      "0 번째 j루프\n",
      "1 번째 j루프\n",
      "2 번째 j루프\n",
      "3 번째 j루프\n",
      "4 번째 j루프\n",
      "5 번째 j루프\n",
      "6 번째 j루프\n",
      "7 번째 j루프\n",
      "8 번째 j루프\n",
      "9 번째 j루프\n",
      "==========\n",
      "8 번째 iloop\n",
      "----------\n",
      "0 번째 j루프\n",
      "1 번째 j루프\n",
      "2 번째 j루프\n",
      "3 번째 j루프\n",
      "4 번째 j루프\n",
      "5 번째 j루프\n",
      "6 번째 j루프\n",
      "7 번째 j루프\n",
      "8 번째 j루프\n",
      "9 번째 j루프\n",
      "==========\n",
      "9 번째 iloop\n",
      "----------\n",
      "0 번째 j루프\n",
      "1 번째 j루프\n",
      "2 번째 j루프\n",
      "3 번째 j루프\n",
      "4 번째 j루프\n",
      "5 번째 j루프\n",
      "6 번째 j루프\n",
      "7 번째 j루프\n",
      "8 번째 j루프\n",
      "9 번째 j루프\n"
     ]
    }
   ],
   "source": [
    "for i in range(10):\n",
    "    print(\"=\"*10)\n",
    "    \n",
    "    print(i, \"번째 iloop\")\n",
    "    \n",
    "    print(\"-\"*10)\n",
    "    \n",
    "    for j in range(10):\n",
    "        print(j, '번째 j루프')"
   ]
  },
  {
   "cell_type": "markdown",
   "metadata": {},
   "source": [
    "# 연습문제2-1\n",
    "(1)  x = [3, 6, 9, 20, -7, 5] 의 값의 모든 요소에 10을 곱한뒤 출력하세요  \n",
    "**심화 : 출력과 리스트 x 의 값에도 모두 10을 곱해주세요**"
   ]
  },
  {
   "cell_type": "code",
   "execution_count": 82,
   "metadata": {},
   "outputs": [
    {
     "name": "stdout",
     "output_type": "stream",
     "text": [
      "30\n",
      "60\n",
      "90\n",
      "200\n",
      "-70\n",
      "50\n"
     ]
    }
   ],
   "source": [
    "x = [3, 6, 9, 20, -7, 5]\n",
    "\n",
    "for i in x:\n",
    "    print(i*10)"
   ]
  },
  {
   "cell_type": "code",
   "execution_count": 139,
   "metadata": {},
   "outputs": [
    {
     "name": "stdout",
     "output_type": "stream",
     "text": [
      "[30, 60, 90, 200, -70, 50]\n"
     ]
    }
   ],
   "source": [
    "x = [3, 6, 9, 20, -7, 5]\n",
    "u = 0\n",
    "\n",
    "for i in x:\n",
    "    x.remove(i)\n",
    "    x.insert(u, i*10)\n",
    "    u += 1\n",
    "\n",
    "print(x)"
   ]
  },
  {
   "cell_type": "markdown",
   "metadata": {},
   "source": [
    "# 연습문제2-2\n",
    "y = {“math”: 70, “science”: 80, “english”: 20} 의 값의 모든 요소에 10을 더한뒤 출력하세요  \n",
    "**심화 : 출력과 딕셔너리 y 의 값에도 모두 10을 더해주세요**"
   ]
  },
  {
   "cell_type": "code",
   "execution_count": 106,
   "metadata": {},
   "outputs": [
    {
     "name": "stdout",
     "output_type": "stream",
     "text": [
      "80\n",
      "90\n",
      "30\n"
     ]
    }
   ],
   "source": [
    "y = {\"math\": 70, \"science\": 80, \"english\": 20}\n",
    "\n",
    "for k in y:\n",
    "    print(y[k]+10)"
   ]
  },
  {
   "cell_type": "code",
   "execution_count": 112,
   "metadata": {},
   "outputs": [
    {
     "name": "stdout",
     "output_type": "stream",
     "text": [
      "{'math': 80, 'science': 90, 'english': 30}\n"
     ]
    }
   ],
   "source": [
    "y = {\"math\": 70, \"science\": 80, \"english\": 20}\n",
    "\n",
    "for k in y:\n",
    "    y[k]=y[k]+10\n",
    "\n",
    "print(y)"
   ]
  },
  {
   "cell_type": "markdown",
   "metadata": {},
   "source": [
    "# 연습문제2-3\n",
    "숫자를 입력받고 입력받은 정수의 구구단을 출력하세요"
   ]
  },
  {
   "cell_type": "code",
   "execution_count": 113,
   "metadata": {},
   "outputs": [
    {
     "name": "stdout",
     "output_type": "stream",
     "text": [
      "숫자를 입력하세요: 2\n",
      "2 * 1 = 2\n",
      "2 * 2 = 4\n",
      "2 * 3 = 6\n",
      "2 * 4 = 8\n",
      "2 * 5 = 10\n",
      "2 * 6 = 12\n",
      "2 * 7 = 14\n",
      "2 * 8 = 16\n",
      "2 * 9 = 18\n"
     ]
    }
   ],
   "source": [
    "number = int(input(\"숫자를 입력하세요: \"))\n",
    "\n",
    "for i in range(1,10):\n",
    "    print(number,'*',i,'=',number*i)"
   ]
  },
  {
   "cell_type": "markdown",
   "metadata": {},
   "source": [
    "# 연습문제3-1\n",
    "word = [“school”, “game”, “piano”, “science”, “hotel”, “mountian”]   \n",
    "중 글자수가 6글자 이상인 문자를 모아 새로운 리스트를 생성하세요"
   ]
  },
  {
   "cell_type": "code",
   "execution_count": 116,
   "metadata": {},
   "outputs": [
    {
     "name": "stdout",
     "output_type": "stream",
     "text": [
      "['school', 'science', 'mountian']\n"
     ]
    }
   ],
   "source": [
    "word = ['school', 'game', 'piano', 'science', 'hotel', 'mountian']\n",
    "new_word = []\n",
    "\n",
    "for idx, val in enumerate(word):\n",
    "    # print(idx, val)\n",
    "    if len(val) >= 6:\n",
    "        new_word.append(val)\n",
    "\n",
    "print(new_word)        "
   ]
  },
  {
   "cell_type": "markdown",
   "metadata": {},
   "source": [
    "# 연습문제3-2\n",
    "구구단을 1단부터 9단까지 출력하세요"
   ]
  },
  {
   "cell_type": "code",
   "execution_count": 120,
   "metadata": {},
   "outputs": [
    {
     "name": "stdout",
     "output_type": "stream",
     "text": [
      "----------\n",
      "1 단\n",
      "1 x 1 = 1\n",
      "1 x 2 = 2\n",
      "1 x 3 = 3\n",
      "1 x 4 = 4\n",
      "1 x 5 = 5\n",
      "1 x 6 = 6\n",
      "1 x 7 = 7\n",
      "1 x 8 = 8\n",
      "1 x 9 = 9\n",
      "----------\n",
      "2 단\n",
      "2 x 1 = 2\n",
      "2 x 2 = 4\n",
      "2 x 3 = 6\n",
      "2 x 4 = 8\n",
      "2 x 5 = 10\n",
      "2 x 6 = 12\n",
      "2 x 7 = 14\n",
      "2 x 8 = 16\n",
      "2 x 9 = 18\n",
      "----------\n",
      "3 단\n",
      "3 x 1 = 3\n",
      "3 x 2 = 6\n",
      "3 x 3 = 9\n",
      "3 x 4 = 12\n",
      "3 x 5 = 15\n",
      "3 x 6 = 18\n",
      "3 x 7 = 21\n",
      "3 x 8 = 24\n",
      "3 x 9 = 27\n",
      "----------\n",
      "4 단\n",
      "4 x 1 = 4\n",
      "4 x 2 = 8\n",
      "4 x 3 = 12\n",
      "4 x 4 = 16\n",
      "4 x 5 = 20\n",
      "4 x 6 = 24\n",
      "4 x 7 = 28\n",
      "4 x 8 = 32\n",
      "4 x 9 = 36\n",
      "----------\n",
      "5 단\n",
      "5 x 1 = 5\n",
      "5 x 2 = 10\n",
      "5 x 3 = 15\n",
      "5 x 4 = 20\n",
      "5 x 5 = 25\n",
      "5 x 6 = 30\n",
      "5 x 7 = 35\n",
      "5 x 8 = 40\n",
      "5 x 9 = 45\n",
      "----------\n",
      "6 단\n",
      "6 x 1 = 6\n",
      "6 x 2 = 12\n",
      "6 x 3 = 18\n",
      "6 x 4 = 24\n",
      "6 x 5 = 30\n",
      "6 x 6 = 36\n",
      "6 x 7 = 42\n",
      "6 x 8 = 48\n",
      "6 x 9 = 54\n",
      "----------\n",
      "7 단\n",
      "7 x 1 = 7\n",
      "7 x 2 = 14\n",
      "7 x 3 = 21\n",
      "7 x 4 = 28\n",
      "7 x 5 = 35\n",
      "7 x 6 = 42\n",
      "7 x 7 = 49\n",
      "7 x 8 = 56\n",
      "7 x 9 = 63\n",
      "----------\n",
      "8 단\n",
      "8 x 1 = 8\n",
      "8 x 2 = 16\n",
      "8 x 3 = 24\n",
      "8 x 4 = 32\n",
      "8 x 5 = 40\n",
      "8 x 6 = 48\n",
      "8 x 7 = 56\n",
      "8 x 8 = 64\n",
      "8 x 9 = 72\n",
      "----------\n",
      "9 단\n",
      "9 x 1 = 9\n",
      "9 x 2 = 18\n",
      "9 x 3 = 27\n",
      "9 x 4 = 36\n",
      "9 x 5 = 45\n",
      "9 x 6 = 54\n",
      "9 x 7 = 63\n",
      "9 x 8 = 72\n",
      "9 x 9 = 81\n"
     ]
    }
   ],
   "source": [
    "for x in range(1, 10):\n",
    "    \n",
    "    print('-'*10)\n",
    "    print(x,\"단\")    \n",
    "    \n",
    "    for y in range(1, 10):\n",
    "        \n",
    "        print(x,'x',y,'=',x*y)"
   ]
  },
  {
   "cell_type": "markdown",
   "metadata": {},
   "source": [
    "# 연습문제4\n",
    "**1~100** 까지 숫자중  \n",
    "3과 5의 **공배수**일경우 “3과 5의 공배수”  \n",
    "그 외 **3의배수**일경우 “3의배수”  \n",
    "그 외 **5의배수**일경우 “5의배수”  \n",
    "모두 해당되지 않을경우 그냥숫자를 출력하세요  \n",
    "\n",
    "**심화 : 1~입력한숫자까지의 숫자중**\n"
   ]
  },
  {
   "cell_type": "code",
   "execution_count": 140,
   "metadata": {},
   "outputs": [
    {
     "name": "stdout",
     "output_type": "stream",
     "text": [
      "숫자를 입력하세요: 15\n",
      "1\n",
      "2\n",
      "3 3의 배수\n",
      "4\n",
      "5 5의 배수\n",
      "6 3의 배수\n",
      "7\n",
      "8\n",
      "9 3의 배수\n",
      "10 5의 배수\n",
      "11\n",
      "12 3의 배수\n",
      "13\n",
      "14\n",
      "15 3과 5의 공배수\n"
     ]
    }
   ],
   "source": [
    "integer = int(input(\"숫자를 입력하세요: \"))\n",
    "\n",
    "for i in range(1, integer+1):\n",
    "    if i % 3 == 0 and i % 5 == 0:\n",
    "        print(i, \"3과 5의 공배수\")\n",
    "    elif i % 3 == 0:\n",
    "        print(i, \"3의 배수\")\n",
    "    elif i % 5 == 0:\n",
    "        print(i, \"5의 배수\")\n",
    "    else:\n",
    "        print(i)"
   ]
  },
  {
   "cell_type": "markdown",
   "metadata": {},
   "source": [
    "# 부록\n",
    "해당 변수가 반복문을 돌릴 수 있는지 어떻게 알 수 있을까?"
   ]
  },
  {
   "cell_type": "markdown",
   "metadata": {},
   "source": [
    "##### string도 반복이 됩니다"
   ]
  },
  {
   "cell_type": "code",
   "execution_count": 127,
   "metadata": {},
   "outputs": [
    {
     "name": "stdout",
     "output_type": "stream",
     "text": [
      "A\n",
      "A\n",
      "B\n",
      "B\n",
      "B\n",
      "B\n"
     ]
    }
   ],
   "source": [
    "for a in \"AABBBB\":\n",
    "    print(a)"
   ]
  },
  {
   "cell_type": "markdown",
   "metadata": {},
   "source": [
    "##### 해당 변수가 iterator일 경우 반복이 가능.\n",
    "##### = 해당 변수가 __iter__이라는 함수가 있을 경우 반복이 가능.  (함수는 나중에 배울 예정)"
   ]
  },
  {
   "cell_type": "markdown",
   "metadata": {},
   "source": [
    "### 속성확인 dir()"
   ]
  },
  {
   "cell_type": "code",
   "execution_count": 129,
   "metadata": {},
   "outputs": [
    {
     "data": {
      "text/plain": [
       "True"
      ]
     },
     "execution_count": 129,
     "metadata": {},
     "output_type": "execute_result"
    }
   ],
   "source": [
    "# 속성 확인\n",
    "# dir(1)\n",
    "'__iter__' in dir(\"str\")"
   ]
  },
  {
   "cell_type": "markdown",
   "metadata": {},
   "source": [
    "##### __iter__속성이 있는지?"
   ]
  },
  {
   "cell_type": "code",
   "execution_count": 130,
   "metadata": {},
   "outputs": [
    {
     "data": {
      "text/plain": [
       "True"
      ]
     },
     "execution_count": 130,
     "metadata": {},
     "output_type": "execute_result"
    }
   ],
   "source": [
    "'__iter__' in dir(\"string\")"
   ]
  },
  {
   "cell_type": "code",
   "execution_count": 131,
   "metadata": {},
   "outputs": [
    {
     "data": {
      "text/plain": [
       "False"
      ]
     },
     "execution_count": 131,
     "metadata": {},
     "output_type": "execute_result"
    }
   ],
   "source": [
    "'__iter__' in dir(1)"
   ]
  },
  {
   "cell_type": "code",
   "execution_count": 132,
   "metadata": {},
   "outputs": [
    {
     "data": {
      "text/plain": [
       "True"
      ]
     },
     "execution_count": 132,
     "metadata": {},
     "output_type": "execute_result"
    }
   ],
   "source": [
    "'__iter__' in dir(dict())"
   ]
  },
  {
   "cell_type": "code",
   "execution_count": 133,
   "metadata": {},
   "outputs": [
    {
     "data": {
      "text/plain": [
       "True"
      ]
     },
     "execution_count": 133,
     "metadata": {},
     "output_type": "execute_result"
    }
   ],
   "source": [
    "'__iter__' in dir(tuple())"
   ]
  },
  {
   "cell_type": "markdown",
   "metadata": {},
   "source": [
    "# While문\n",
    "어떠한 코드를 반복해야할때 사용  \n",
    "조건에 따라 반복 (주로 반복횟수가 정해져있지 않을때)"
   ]
  },
  {
   "cell_type": "markdown",
   "metadata": {},
   "source": [
    "## 사용법"
   ]
  },
  {
   "cell_type": "code",
   "execution_count": 136,
   "metadata": {},
   "outputs": [
    {
     "name": "stdout",
     "output_type": "stream",
     "text": [
      "0\n",
      "1\n",
      "2\n",
      "3\n",
      "4\n"
     ]
    }
   ],
   "source": [
    "i = 0\n",
    "\n",
    "while i < 5:\n",
    "    print(i)\n",
    "    i += 1"
   ]
  },
  {
   "cell_type": "markdown",
   "metadata": {},
   "source": [
    "# 연습문제 5\n",
    "\n",
    "사용자로부터 숫자를 계속 입력받다가  \n",
    "s or S 를 입력하면 합계출력\n"
   ]
  },
  {
   "cell_type": "code",
   "execution_count": null,
   "metadata": {},
   "outputs": [],
   "source": []
  },
  {
   "cell_type": "markdown",
   "metadata": {},
   "source": [
    "# 연습문제 6\n",
    "가위바위보 게임만들기  \n",
    "\n",
    "가위(1), 바위(2), 보(3) 을 입력해주세요! : 3  \n",
    "유저 : 보, 컴퓨터 : 보  \n",
    "가위(1), 바위(2), 보(3) 을 입력해주세요! : 2  \n",
    "유저 : 바위, 컴퓨터 : 보  \n",
    "가위(1), 바위(2), 보(3) 을 입력해주세요! : 1  \n",
    "유저 : 가위, 컴퓨터 : 보  \n",
    "가위(1), 바위(2), 보(3) 을 입력해주세요! : 4  \n",
    "\n",
    "게임종료 (전체:3 ,승리:1)\n",
    "\n",
    "1~3 을 입력하면 게임진행 이외의 숫자를 입력하면 게임종료\n",
    "심화 : 비긴숫자도 출력하세요 (전체:3, 승리:1, 비김:1)\n"
   ]
  },
  {
   "cell_type": "markdown",
   "metadata": {},
   "source": [
    "### 리스트 응용\n",
    "---"
   ]
  },
  {
   "cell_type": "markdown",
   "metadata": {},
   "source": [
    "# 연습문제 7\n",
    "randint함수를 사용하여 정수(1~1000)로 이루어진 길이가 100개인 리스트 a를 만들고   \n",
    "가장 큰 수를 구하는 코드를 작성하시오.  \n",
    "\n",
    "예) a=[32, 45, 2, 5, 76] 일때, 출력결과는 76이 나와야 함.  "
   ]
  },
  {
   "cell_type": "markdown",
   "metadata": {},
   "source": [
    "## 리스트의 가장 큰 수 & 작은 수"
   ]
  },
  {
   "cell_type": "markdown",
   "metadata": {},
   "source": [
    "# 연습문제 8\n",
    "randint함수를 사용하여 정수(1~1000)로 이루어진 길이가 100개인 리스트 a를 만들고 \n",
    "리스트의 모든 요소의 합계를 구하는 코드를 작성하시오.\n",
    "\n",
    "예) a=[32, 45, 2, 5, 76] 일때, 출력결과는 160이 나와야 함.\n"
   ]
  },
  {
   "cell_type": "code",
   "execution_count": null,
   "metadata": {},
   "outputs": [],
   "source": []
  }
 ],
 "metadata": {
  "kernelspec": {
   "display_name": "Python 3",
   "language": "python",
   "name": "python3"
  },
  "language_info": {
   "codemirror_mode": {
    "name": "ipython",
    "version": 3
   },
   "file_extension": ".py",
   "mimetype": "text/x-python",
   "name": "python",
   "nbconvert_exporter": "python",
   "pygments_lexer": "ipython3",
   "version": "3.7.3"
  }
 },
 "nbformat": 4,
 "nbformat_minor": 2
}
