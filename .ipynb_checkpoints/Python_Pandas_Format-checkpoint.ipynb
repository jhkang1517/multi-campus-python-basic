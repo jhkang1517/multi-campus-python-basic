{
 "cells": [
  {
   "cell_type": "markdown",
   "metadata": {},
   "source": [
    "# 데이터 불러오기"
   ]
  },
  {
   "cell_type": "code",
   "execution_count": null,
   "metadata": {},
   "outputs": [],
   "source": [
    "pd.read_확장자명('?파일명.확장자명' \n",
    "             \n",
    "\t\t[, sheet_name = number 혹은 '시트이름', \n",
    "         index_col = number 혹은 '열 이름']\n",
    "            \n",
    "            )\n",
    "\n",
    "# 파일을 확장자명에 따라 Pandas 모듈로 읽습니다.\n",
    "# sheet_name 으로 엑셀의 시트를 지정할 수 있고, \n",
    "# index_col 로 불러올 때 부터 index를 지정해줄 수 있습니다. "
   ]
  },
  {
   "cell_type": "markdown",
   "metadata": {},
   "source": [
    "# 데이터를 엑셀 파일로 쓰기"
   ]
  },
  {
   "cell_type": "code",
   "execution_count": null,
   "metadata": {},
   "outputs": [],
   "source": [
    "# 1. pandas의 ExcelWriter 객체 생성\n",
    "excel_writer = pd.ExcelWriter('파일명.확장자명', engine = 'xlsxwriter')\n",
    "\n",
    "# 2. DataFrame 데이터를 지정된 엑셀 시트(Sheet)에 쓰기\n",
    "작업한 DataFrame명 .to_excel (excel_writer \n",
    "                \n",
    "                [,index = True, sheet_name = '시트이름']\n",
    "               \n",
    "               )\n",
    "# index=True : 데이터의 인덱스를 엑셀시트에 포함시킨다.\n",
    "# index=False: 데이터의 인덱스를 엑셀시트에 포함시키지 않는다.\n",
    "\n",
    "# 3. ExcelWriter 객체를 닫고, 지정된 엑셀 파일 생성\n",
    "excel_writer.save()"
   ]
  },
  {
   "cell_type": "markdown",
   "metadata": {},
   "source": [
    "# 여러 개의 엑셀 파일 데이터를 통합하기"
   ]
  },
  {
   "cell_type": "code",
   "execution_count": null,
   "metadata": {},
   "outputs": [],
   "source": [
    "# Concept\n",
    "# 1. 엑셀 파일이 들어있는 폴더를 다운로드\n",
    "\n",
    "# 2. 파일이 있는 폴더의 제목을 하나 하나 긁어옴.\n",
    "# 3. 빈 리스트를 생성하고 2. 에서 긁어온 제목을 str 형태로 추가\n",
    "import glob\n",
    "excel_data_list = glob.glob('path_file_name.확장자명') \n",
    "# 여기서, file_name중 나머지가 같고, 변동되는 것들이 보인다면, 그 부분은 *로 처리하면 된다.\n",
    "\n",
    "# 4. 통합 데이터 변수를 DataFrame으로 생성\n",
    "total_data = pd.DataFrame()\n",
    "\n",
    "# 5. for 문을 이용해서 데이터들을 하나 하나 추가\n",
    "for f in excel_data_files:\n",
    "    df = pd.read_확장자명(f)\n",
    "    total_data = total_data.append(df)\n",
    "\n",
    "# 5-1. 인덱스들이 제멋대로 매겨졌습니까?\n",
    "total_data.append(df, ignore_index=True)\n",
    "\n",
    "# 6. 통합 결과를 엑셀파일로 저장하기\n",
    "excel_file_name = 'path_file_name_통합.확장자명'\n",
    "\n",
    "# 7. 파일 쓰기\n",
    "excel_total_writer = pd.ExcelWriter('파일명.확장자명', engine = 'xlsxwriter')\n",
    "total_data .to_excel (excel_total_writer \n",
    "                \n",
    "                [,index = True, sheet_name = '시트이름']\n",
    "               \n",
    "               )\n",
    "\n",
    "# 8. 저장\n",
    "excel_writer.save()\n",
    "glob.glob(excel_file_name)"
   ]
  },
  {
   "cell_type": "markdown",
   "metadata": {},
   "source": [
    "# 엑셀 파일로 읽어온 데이터 다루기"
   ]
  },
  {
   "cell_type": "markdown",
   "metadata": {},
   "source": [
    "## loc"
   ]
  },
  {
   "cell_type": "markdown",
   "metadata": {},
   "source": [
    "### loc으로 데이터 바꾸기"
   ]
  },
  {
   "cell_type": "code",
   "execution_count": null,
   "metadata": {},
   "outputs": [],
   "source": [
    "# 항상 행 -> 열로 접근\n",
    "df.loc [index_name, 'column_name' ] = value"
   ]
  },
  {
   "cell_type": "code",
   "execution_count": null,
   "metadata": {},
   "outputs": [],
   "source": [
    "# 특정한 열의 특정한 데이터들 전부를 바꾸고 싶다?\n",
    "df.loc ['column_name'] = new_value값"
   ]
  },
  {
   "cell_type": "markdown",
   "metadata": {},
   "source": [
    "### loc으로 데이터 추가"
   ]
  },
  {
   "cell_type": "code",
   "execution_count": null,
   "metadata": {},
   "outputs": [],
   "source": [
    "# 총 column 을 전부 알고 있어야 합니다. \n",
    "df.loc[새로운행, 'column명1'] = new_value값1\n",
    "df.loc[새로운행, 'column명2'] = new_value값2\n",
    "df.loc[새로운행, 'column명3'] = new_value값3"
   ]
  },
  {
   "cell_type": "markdown",
   "metadata": {},
   "source": [
    "# 여러 개의 엑셀파일에서 데이터 수정하기"
   ]
  },
  {
   "cell_type": "code",
   "execution_count": null,
   "metadata": {},
   "outputs": [],
   "source": [
    "import re\n",
    "# re(regular expression)\n",
    "# 정규 표현식?\n",
    "# 어떠한 문자열이, 패턴을 가지고 있을 때, 그 패턴에 대해서 handling하기 쉽게 만든 표현 식\n",
    "\n",
    "excel_data_files = glob.glob('path/파일명*(공통되는부분)파일명나머지.xlsx')\n",
    "# 원하는 문자열이 포함된 파일을 검색해 리스트를 할당한다.\n",
    "# *을 하게 되면, sql문의 %와 같은 기능을 수행하게 된다.\n",
    "# ?는 글자 하나를 담당한다.\n",
    "# 그러면서, ~사원인 이름을 가진 파일 이름을 전부 리스트에 넣어서 가져온다.\n",
    "\n",
    "# 리스트에 있는 엑셀 파일만큼 반복 수행한다.\n",
    "for f in excel_data_files1:\n",
    "    # 엑셀 파일에서 DataFrame 형식으로 데이터 가져온다.\n",
    "    df = pd.read_excel(f) \n",
    "    \n",
    "    # 특정 열의 값을 변경한다.    \n",
    "    if(df.loc[1, 'column_name'] == old_value):\n",
    "        df['column_name']= new_value\n",
    "    elif(df.loc[1, 'column_name'] == old_value):\n",
    "        df['column_name']= new_value\n",
    "    elif(df.loc[1, 'column_name'] == old_value):\n",
    "        df['column_name']= new_value\n",
    "    # 단, 여기서 1은 전부 값이 같다는 조건이 만족될때에만 사용해야한다. 그것이 아니라면 다른방법을 사용할 것.\n",
    "    \n",
    "    # 엑셀 파일 이름에서 지정된 문자열 패턴을 찾아서 파일명을 변경한다.\n",
    "    f_new = re.sub(\".xlsx\", \"_new.xlsx\", f)\n",
    "    print(f_new)\n",
    "    # new_file_name = re.sub(\"^[A-Z]_[1-9].xlsx\", \"2.xlsx\", file_name)\n",
    "    # [1-9] 숫자 어떤 것이든 들어오면 OK\n",
    "    # [A-Z] 단어 어떤 것이든 들어오면 OK 문자열의 경우에는 [w]로 쓰기도 한다. \n",
    "    # _ 사이사이에 _가 있어야 한다. \n",
    "    # 여기서는 ~.xlsx를 ~2.xlsx로 바꿔준다.\n",
    "    \n",
    "    # 수정된 데이터를 새로운 이름의 엑셀 파일로 저장한다.\n",
    "    new_excel_file = pd.ExcelWriter(f_new, engine = 'xlsxwriter')\n",
    "    df.to_excel(new_excel_file, index = False)\n",
    "    new_excel_file.save()"
   ]
  },
  {
   "cell_type": "markdown",
   "metadata": {},
   "source": [
    "# 엑셀의 필터기능 수행하기"
   ]
  },
  {
   "cell_type": "markdown",
   "metadata": {},
   "source": [
    "## 열만 추출하기"
   ]
  },
  {
   "cell_type": "code",
   "execution_count": null,
   "metadata": {},
   "outputs": [],
   "source": [
    "df['column_name']"
   ]
  },
  {
   "cell_type": "markdown",
   "metadata": {},
   "source": [
    "## 열에 특정한 value가 있는지 검사하기"
   ]
  },
  {
   "cell_type": "code",
   "execution_count": null,
   "metadata": {},
   "outputs": [],
   "source": [
    "df['column_name'] == 'value'"
   ]
  },
  {
   "cell_type": "markdown",
   "metadata": {},
   "source": [
    "## 특정한 value가 있는 열이 포함된 행을 추출하기"
   ]
  },
  {
   "cell_type": "code",
   "execution_count": null,
   "metadata": {},
   "outputs": [],
   "source": [
    "# 방법 1.\n",
    "special_value = df[df['column_name'] == 'special_value']"
   ]
  },
  {
   "cell_type": "code",
   "execution_count": null,
   "metadata": {},
   "outputs": [],
   "source": [
    "# 방법 2.\n",
    "special_value = df[df['column_name'].isin(['special_value'])]\n",
    "\n",
    "# 코드 뜯기\n",
    "# df[                     ] = 행들을 추출하기 위한 DataFrame\n",
    "# df['column_name'] = 특정한 열을 찾기\n",
    "# .isin() = 함수이기 때문에 ()로 감싸줘야함\n",
    "# ['special_value'] = 특정한 value 값을 찾아내기 위해"
   ]
  },
  {
   "cell_type": "markdown",
   "metadata": {},
   "source": [
    "## 논리연산자"
   ]
  },
  {
   "cell_type": "markdown",
   "metadata": {},
   "source": [
    "* and = &\n",
    "* or = |\n",
    "* same = =="
   ]
  },
  {
   "cell_type": "markdown",
   "metadata": {},
   "source": [
    "## 조건을 설정해 원하는 행만 검색하기"
   ]
  },
  {
   "cell_type": "code",
   "execution_count": null,
   "metadata": {},
   "outputs": [],
   "source": [
    "df[(df['column_name'] 조건 value )]\n",
    "\n",
    "# 코드 뜯기\n",
    "# df[                     ] = 행들을 추출하기 위한 DataFrame\n",
    "# (       ) = 조건절을 넣기 위함\n",
    "#  df['column_name'] = 특정한 열을 찾기\n",
    "# 조건 value = 조건 입력"
   ]
  },
  {
   "cell_type": "markdown",
   "metadata": {},
   "source": [
    "## 원하는 열만 검색하기"
   ]
  },
  {
   "cell_type": "markdown",
   "metadata": {},
   "source": [
    "### iloc"
   ]
  },
  {
   "cell_type": "code",
   "execution_count": null,
   "metadata": {},
   "outputs": [],
   "source": [
    "df.iloc[row_num, col_num]\n",
    "\n",
    "# row_num과 col_num에는 리스트가 들어갈 수 있으며, 만약 : 를 입력할 시에는 전체로 생각하게 된다."
   ]
  },
  {
   "cell_type": "markdown",
   "metadata": {},
   "source": [
    "# 엑셀 데이터 계산하기"
   ]
  },
  {
   "cell_type": "code",
   "execution_count": null,
   "metadata": {},
   "outputs": [],
   "source": [
    "sum_data = df.sum(([axis = 0]), columns = ['new_column_name'] )\n",
    "# axis = 0 열 방향 합계\n",
    "# axis = 1 행 방향 합계\n",
    "                  \n",
    "# 그리고 데이터에 join\n",
    "df.join(sum_data)"
   ]
  },
  {
   "cell_type": "markdown",
   "metadata": {},
   "source": [
    "# 오름차순 / 내림차순 정렬"
   ]
  },
  {
   "cell_type": "code",
   "execution_count": null,
   "metadata": {},
   "outputs": [],
   "source": [
    "df.sort_values(by 'column_name' [, axix = 0, ascending = True] )\n",
    "# ascending = True 오름차순\n",
    "# ascending = False 내림차순"
   ]
  }
 ],
 "metadata": {
  "kernelspec": {
   "display_name": "Python 3",
   "language": "python",
   "name": "python3"
  },
  "language_info": {
   "codemirror_mode": {
    "name": "ipython",
    "version": 3
   },
   "file_extension": ".py",
   "mimetype": "text/x-python",
   "name": "python",
   "nbconvert_exporter": "python",
   "pygments_lexer": "ipython3",
   "version": "3.7.3"
  }
 },
 "nbformat": 4,
 "nbformat_minor": 2
}
