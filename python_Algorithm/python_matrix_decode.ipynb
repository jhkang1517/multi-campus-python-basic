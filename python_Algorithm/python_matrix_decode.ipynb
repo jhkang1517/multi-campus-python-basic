{
 "cells": [
  {
   "cell_type": "markdown",
   "metadata": {},
   "source": [
    "Neo has a complex matrix script. The matrix script is a  X  grid of strings. It consists of alphanumeric characters, spaces and symbols (!,@,#,$,%,&).\n",
    "당신은 매트릭스의 주인공 Neo 입니다! 네오은 매우 복잡한 매트릭스 스크립트(matrix script)를 가지고 있습니다. 이 매트릭스는 알파벳, 숫자, 공백 및 기호(!,@,#,$,%,&)로 이루어져 있습니다.\n",
    "\n",
    "\n",
    "To decode the script, Neo needs to read each column and select only the alphanumeric characters and connect them. Neo reads the column from top to bottom and starts reading from the leftmost column.\n",
    "이 스크립트를 디코드(decode)하기 위해서, 네오는 각 열의 알파벳과 숫자을 읽어내어 연결해야 합니다. 네오는 가장 왼쪽 위에서부터 읽기 시작합니다. \n",
    "\n",
    "If there are symbols or spaces between two alphanumeric characters of the decoded script, then Neo replaces them with a single space '' for better readability.\n",
    "만약 디코딩 된 스크립트의 알파벳과 숫자 사이에 기호나 공백이 있다면 네오는 더 쉽게 읽을 수 있도록 공백으로 대체합니다.\n",
    "\n",
    "Neo feels that there is no need to use 'if' conditions for decoding.\n",
    "참고로, 네오는 if 문을 사용할 수 없습니다.\n",
    "\n",
    "Alphanumeric characters consist of: [A-Z, a-z, and 0-9].\n",
    "알파벳과 숫자는 A-Z, a-z, 0-9로 구성되어있습니다.\n",
    "\n",
    "Input Format\n",
    "\n",
    "The first line contains space-separated integers  (rows) and  (columns) respectively. \n",
    "The next  lines contain the row elements of the matrix script.\n",
    "\n",
    "Constraints\n",
    "\n",
    "\n",
    "Note: A  score will be awarded for using 'if' conditions in your code.\n",
    "\n",
    "Output Format\n",
    "\n",
    "Print the decoded matrix script.\n",
    "\n",
    "Sample Input 0\n",
    "\n",
    "7 3\n",
    "Tsi\n",
    "h%x\n",
    "i #\n",
    "sM \n",
    "$a \n",
    "#t%\n",
    "ir!\n",
    "Sample Output 0\n",
    "\n",
    "This is Matrix#  %!\n",
    "Explanation 0\n",
    "\n",
    "The decoded script is:\n",
    "\n",
    "This$#is% Matrix#  %!\n",
    "Neo replaces the symbols or spaces between two alphanumeric characters with a single space   ' ' for better readability.\n",
    "\n",
    "So, the final decoded script is:\n",
    "\n",
    "This is Matrix#  %!"
   ]
  }
 ],
 "metadata": {
  "kernelspec": {
   "display_name": "Python 3",
   "language": "python",
   "name": "python3"
  },
  "language_info": {
   "codemirror_mode": {
    "name": "ipython",
    "version": 3
   },
   "file_extension": ".py",
   "mimetype": "text/x-python",
   "name": "python",
   "nbconvert_exporter": "python",
   "pygments_lexer": "ipython3",
   "version": "3.7.3"
  }
 },
 "nbformat": 4,
 "nbformat_minor": 2
}
