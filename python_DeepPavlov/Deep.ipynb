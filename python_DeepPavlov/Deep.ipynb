{
 "cells": [
  {
   "cell_type": "code",
   "execution_count": 9,
   "metadata": {},
   "outputs": [
    {
     "name": "stdout",
     "output_type": "stream",
     "text": [
      "Requirement already satisfied: deeppavlov in c:\\programdata\\anaconda3\\lib\\site-packages (0.5.0)\n",
      "Requirement already satisfied: fuzzywuzzy==0.17.0 in c:\\users\\user\\appdata\\roaming\\python\\python37\\site-packages (from deeppavlov) (0.17.0)\n",
      "Requirement already satisfied: requests==2.22.0 in c:\\users\\user\\appdata\\roaming\\python\\python37\\site-packages (from deeppavlov) (2.22.0)\n",
      "Requirement already satisfied: scipy==1.3.0 in c:\\users\\user\\appdata\\roaming\\python\\python37\\site-packages (from deeppavlov) (1.3.0)\n",
      "Requirement already satisfied: pymorphy2==0.8 in c:\\users\\user\\appdata\\roaming\\python\\python37\\site-packages (from deeppavlov) (0.8)\n",
      "Requirement already satisfied: keras==2.2.4 in c:\\users\\user\\appdata\\roaming\\python\\python37\\site-packages (from deeppavlov) (2.2.4)\n",
      "Requirement already satisfied: scikit-learn==0.21.2 in c:\\users\\user\\appdata\\roaming\\python\\python37\\site-packages (from deeppavlov) (0.21.2)\n",
      "Requirement already satisfied: pandas==0.24.2 in c:\\programdata\\anaconda3\\lib\\site-packages (from deeppavlov) (0.24.2)\n",
      "Requirement already satisfied: tqdm==4.32.2 in c:\\users\\user\\appdata\\roaming\\python\\python37\\site-packages (from deeppavlov) (4.32.2)\n",
      "Requirement already satisfied: overrides==1.9 in c:\\users\\user\\appdata\\roaming\\python\\python37\\site-packages (from deeppavlov) (1.9)\n",
      "Requirement already satisfied: nltk==3.2.5 in c:\\users\\user\\appdata\\roaming\\python\\python37\\site-packages (from deeppavlov) (3.2.5)\n",
      "Requirement already satisfied: rusenttokenize==0.0.5 in c:\\users\\user\\appdata\\roaming\\python\\python37\\site-packages (from deeppavlov) (0.0.5)\n",
      "Requirement already satisfied: numpy==1.16.4 in c:\\users\\user\\appdata\\roaming\\python\\python37\\site-packages (from deeppavlov) (1.16.4)\n",
      "Requirement already satisfied: pytelegrambotapi==3.6.6 in c:\\users\\user\\appdata\\roaming\\python\\python37\\site-packages (from deeppavlov) (3.6.6)\n",
      "Requirement already satisfied: pymorphy2-dicts-ru in c:\\users\\user\\appdata\\roaming\\python\\python37\\site-packages (from deeppavlov) (2.4.404381.4453942)\n",
      "Requirement already satisfied: flask==1.1.1 in c:\\users\\user\\appdata\\roaming\\python\\python37\\site-packages (from deeppavlov) (1.1.1)\n",
      "Requirement already satisfied: flask-cors==3.0.8 in c:\\users\\user\\appdata\\roaming\\python\\python37\\site-packages (from deeppavlov) (3.0.8)\n",
      "Requirement already satisfied: flasgger==0.9.2 in c:\\users\\user\\appdata\\roaming\\python\\python37\\site-packages (from deeppavlov) (0.9.2)\n",
      "Requirement already satisfied: h5py==2.9.0 in c:\\programdata\\anaconda3\\lib\\site-packages (from deeppavlov) (2.9.0)\n",
      "Requirement already satisfied: pyopenssl==19.0.0 in c:\\programdata\\anaconda3\\lib\\site-packages (from deeppavlov) (19.0.0)\n",
      "Requirement already satisfied: Cython==0.29.12 in c:\\users\\user\\appdata\\roaming\\python\\python37\\site-packages (from deeppavlov) (0.29.12)\n",
      "Requirement already satisfied: urllib3!=1.25.0,!=1.25.1,<1.26,>=1.21.1 in c:\\programdata\\anaconda3\\lib\\site-packages (from requests==2.22.0->deeppavlov) (1.24.1)\n",
      "Requirement already satisfied: certifi>=2017.4.17 in c:\\programdata\\anaconda3\\lib\\site-packages (from requests==2.22.0->deeppavlov) (2019.3.9)\n",
      "Requirement already satisfied: chardet<3.1.0,>=3.0.2 in c:\\programdata\\anaconda3\\lib\\site-packages (from requests==2.22.0->deeppavlov) (3.0.4)\n",
      "Requirement already satisfied: idna<2.9,>=2.5 in c:\\programdata\\anaconda3\\lib\\site-packages (from requests==2.22.0->deeppavlov) (2.8)\n",
      "Requirement already satisfied: dawg-python>=0.7 in c:\\users\\user\\appdata\\roaming\\python\\python37\\site-packages (from pymorphy2==0.8->deeppavlov) (0.7.2)\n",
      "Requirement already satisfied: docopt>=0.6 in c:\\users\\user\\appdata\\roaming\\python\\python37\\site-packages (from pymorphy2==0.8->deeppavlov) (0.6.2)\n",
      "Requirement already satisfied: pymorphy2-dicts<3.0,>=2.4 in c:\\users\\user\\appdata\\roaming\\python\\python37\\site-packages (from pymorphy2==0.8->deeppavlov) (2.4.393442.3710985)\n",
      "Requirement already satisfied: keras-preprocessing>=1.0.5 in c:\\programdata\\anaconda3\\lib\\site-packages (from keras==2.2.4->deeppavlov) (1.1.0)\n",
      "Requirement already satisfied: six>=1.9.0 in c:\\programdata\\anaconda3\\lib\\site-packages (from keras==2.2.4->deeppavlov) (1.12.0)\n",
      "Requirement already satisfied: pyyaml in c:\\programdata\\anaconda3\\lib\\site-packages (from keras==2.2.4->deeppavlov) (5.1)\n",
      "Requirement already satisfied: keras-applications>=1.0.6 in c:\\programdata\\anaconda3\\lib\\site-packages (from keras==2.2.4->deeppavlov) (1.0.8)\n",
      "Requirement already satisfied: joblib>=0.11 in c:\\users\\user\\appdata\\roaming\\python\\python37\\site-packages (from scikit-learn==0.21.2->deeppavlov) (0.14.0)\n",
      "Requirement already satisfied: pytz>=2011k in c:\\programdata\\anaconda3\\lib\\site-packages (from pandas==0.24.2->deeppavlov) (2018.9)\n",
      "Requirement already satisfied: python-dateutil>=2.5.0 in c:\\programdata\\anaconda3\\lib\\site-packages (from pandas==0.24.2->deeppavlov) (2.8.0)\n",
      "Requirement already satisfied: itsdangerous>=0.24 in c:\\programdata\\anaconda3\\lib\\site-packages (from flask==1.1.1->deeppavlov) (1.1.0)\n",
      "Requirement already satisfied: click>=5.1 in c:\\programdata\\anaconda3\\lib\\site-packages (from flask==1.1.1->deeppavlov) (7.0)\n",
      "Requirement already satisfied: Jinja2>=2.10.1 in c:\\users\\user\\appdata\\roaming\\python\\python37\\site-packages (from flask==1.1.1->deeppavlov) (2.10.1)\n",
      "Requirement already satisfied: Werkzeug>=0.15 in c:\\users\\user\\appdata\\roaming\\python\\python37\\site-packages (from flask==1.1.1->deeppavlov) (0.16.0)\n",
      "Requirement already satisfied: jsonschema>=2.5.1 in c:\\programdata\\anaconda3\\lib\\site-packages (from flasgger==0.9.2->deeppavlov) (3.0.1)\n",
      "Requirement already satisfied: mistune in c:\\programdata\\anaconda3\\lib\\site-packages (from flasgger==0.9.2->deeppavlov) (0.8.4)\n",
      "Requirement already satisfied: cryptography>=2.3 in c:\\programdata\\anaconda3\\lib\\site-packages (from pyopenssl==19.0.0->deeppavlov) (2.6.1)\n",
      "Requirement already satisfied: MarkupSafe>=0.23 in c:\\programdata\\anaconda3\\lib\\site-packages (from Jinja2>=2.10.1->flask==1.1.1->deeppavlov) (1.1.1)\n",
      "Requirement already satisfied: attrs>=17.4.0 in c:\\programdata\\anaconda3\\lib\\site-packages (from jsonschema>=2.5.1->flasgger==0.9.2->deeppavlov) (19.1.0)\n",
      "Requirement already satisfied: pyrsistent>=0.14.0 in c:\\programdata\\anaconda3\\lib\\site-packages (from jsonschema>=2.5.1->flasgger==0.9.2->deeppavlov) (0.14.11)\n",
      "Requirement already satisfied: setuptools in c:\\users\\user\\appdata\\roaming\\python\\python37\\site-packages (from jsonschema>=2.5.1->flasgger==0.9.2->deeppavlov) (41.2.0)\n",
      "Requirement already satisfied: cffi!=1.11.3,>=1.8 in c:\\programdata\\anaconda3\\lib\\site-packages (from cryptography>=2.3->pyopenssl==19.0.0->deeppavlov) (1.12.2)\n",
      "Requirement already satisfied: asn1crypto>=0.21.0 in c:\\programdata\\anaconda3\\lib\\site-packages (from cryptography>=2.3->pyopenssl==19.0.0->deeppavlov) (0.24.0)\n",
      "Requirement already satisfied: pycparser in c:\\programdata\\anaconda3\\lib\\site-packages (from cffi!=1.11.3,>=1.8->cryptography>=2.3->pyopenssl==19.0.0->deeppavlov) (2.19)\n",
      "Note: you may need to restart the kernel to use updated packages.\n"
     ]
    }
   ],
   "source": [
    "pip install deeppavlov"
   ]
  },
  {
   "cell_type": "code",
   "execution_count": 12,
   "metadata": {},
   "outputs": [
    {
     "name": "stdout",
     "output_type": "stream",
     "text": [
      "Collecting deeppavlov==0.6.1\n",
      "  Using cached https://files.pythonhosted.org/packages/ed/05/aec6488bf4c91ae2d3ff276b66f8c054cccca18f3fac7802d26ca84db206/deeppavlov-0.6.1-py3-none-any.whl\n",
      "Requirement already satisfied: pyopenssl==19.0.0 in c:\\programdata\\anaconda3\\lib\\site-packages (from deeppavlov==0.6.1) (19.0.0)\n",
      "Requirement already satisfied: pymorphy2-dicts-ru in c:\\users\\user\\appdata\\roaming\\python\\python37\\site-packages (from deeppavlov==0.6.1) (2.4.404381.4453942)\n",
      "Requirement already satisfied: fastapi==0.38.1 in c:\\users\\user\\appdata\\roaming\\python\\python37\\site-packages (from deeppavlov==0.6.1) (0.38.1)\n",
      "Requirement already satisfied: flask-cors==3.0.8 in c:\\users\\user\\appdata\\roaming\\python\\python37\\site-packages (from deeppavlov==0.6.1) (3.0.8)\n",
      "Requirement already satisfied: overrides==1.9 in c:\\users\\user\\appdata\\roaming\\python\\python37\\site-packages (from deeppavlov==0.6.1) (1.9)\n",
      "Requirement already satisfied: flasgger==0.9.2 in c:\\users\\user\\appdata\\roaming\\python\\python37\\site-packages (from deeppavlov==0.6.1) (0.9.2)\n",
      "Requirement already satisfied: keras==2.2.4 in c:\\users\\user\\appdata\\roaming\\python\\python37\\site-packages (from deeppavlov==0.6.1) (2.2.4)\n",
      "Requirement already satisfied: pytelegrambotapi==3.6.6 in c:\\users\\user\\appdata\\roaming\\python\\python37\\site-packages (from deeppavlov==0.6.1) (3.6.6)\n",
      "Requirement already satisfied: h5py==2.9.0 in c:\\programdata\\anaconda3\\lib\\site-packages (from deeppavlov==0.6.1) (2.9.0)\n",
      "Requirement already satisfied: rusenttokenize==0.0.5 in c:\\users\\user\\appdata\\roaming\\python\\python37\\site-packages (from deeppavlov==0.6.1) (0.0.5)\n",
      "Requirement already satisfied: scipy==1.3.0 in c:\\users\\user\\appdata\\roaming\\python\\python37\\site-packages (from deeppavlov==0.6.1) (1.3.0)\n",
      "Requirement already satisfied: flask==1.1.1 in c:\\users\\user\\appdata\\roaming\\python\\python37\\site-packages (from deeppavlov==0.6.1) (1.1.1)\n",
      "Requirement already satisfied: fuzzywuzzy==0.17.0 in c:\\users\\user\\appdata\\roaming\\python\\python37\\site-packages (from deeppavlov==0.6.1) (0.17.0)\n",
      "Requirement already satisfied: requests==2.22.0 in c:\\users\\user\\appdata\\roaming\\python\\python37\\site-packages (from deeppavlov==0.6.1) (2.22.0)\n",
      "Requirement already satisfied: uvicorn==0.9.0 in c:\\users\\user\\appdata\\roaming\\python\\python37\\site-packages (from deeppavlov==0.6.1) (0.9.0)\n",
      "Requirement already satisfied: Cython==0.29.12 in c:\\users\\user\\appdata\\roaming\\python\\python37\\site-packages (from deeppavlov==0.6.1) (0.29.12)\n",
      "Requirement already satisfied: scikit-learn==0.21.2 in c:\\users\\user\\appdata\\roaming\\python\\python37\\site-packages (from deeppavlov==0.6.1) (0.21.2)\n",
      "Requirement already satisfied: pymorphy2==0.8 in c:\\users\\user\\appdata\\roaming\\python\\python37\\site-packages (from deeppavlov==0.6.1) (0.8)\n",
      "Requirement already satisfied: nltk==3.2.5 in c:\\users\\user\\appdata\\roaming\\python\\python37\\site-packages (from deeppavlov==0.6.1) (3.2.5)\n",
      "Requirement already satisfied: numpy==1.16.4 in c:\\users\\user\\appdata\\roaming\\python\\python37\\site-packages (from deeppavlov==0.6.1) (1.16.4)\n",
      "Requirement already satisfied: pandas==0.24.2 in c:\\programdata\\anaconda3\\lib\\site-packages (from deeppavlov==0.6.1) (0.24.2)\n",
      "Requirement already satisfied: tqdm==4.32.2 in c:\\users\\user\\appdata\\roaming\\python\\python37\\site-packages (from deeppavlov==0.6.1) (4.32.2)\n",
      "Requirement already satisfied: cryptography>=2.3 in c:\\programdata\\anaconda3\\lib\\site-packages (from pyopenssl==19.0.0->deeppavlov==0.6.1) (2.6.1)\n",
      "Requirement already satisfied: six>=1.5.2 in c:\\programdata\\anaconda3\\lib\\site-packages (from pyopenssl==19.0.0->deeppavlov==0.6.1) (1.12.0)\n",
      "Requirement already satisfied: pydantic<=0.32.2,>=0.32.2 in c:\\users\\user\\appdata\\roaming\\python\\python37\\site-packages (from fastapi==0.38.1->deeppavlov==0.6.1) (0.32.2)\n",
      "Requirement already satisfied: starlette<=0.12.8,>=0.11.1 in c:\\users\\user\\appdata\\roaming\\python\\python37\\site-packages (from fastapi==0.38.1->deeppavlov==0.6.1) (0.12.8)\n",
      "Requirement already satisfied: mistune in c:\\programdata\\anaconda3\\lib\\site-packages (from flasgger==0.9.2->deeppavlov==0.6.1) (0.8.4)\n",
      "Requirement already satisfied: PyYAML>=3.0 in c:\\programdata\\anaconda3\\lib\\site-packages (from flasgger==0.9.2->deeppavlov==0.6.1) (5.1)\n",
      "Requirement already satisfied: jsonschema>=2.5.1 in c:\\programdata\\anaconda3\\lib\\site-packages (from flasgger==0.9.2->deeppavlov==0.6.1) (3.0.1)\n",
      "Requirement already satisfied: keras-applications>=1.0.6 in c:\\programdata\\anaconda3\\lib\\site-packages (from keras==2.2.4->deeppavlov==0.6.1) (1.0.8)\n",
      "Requirement already satisfied: keras-preprocessing>=1.0.5 in c:\\programdata\\anaconda3\\lib\\site-packages (from keras==2.2.4->deeppavlov==0.6.1) (1.1.0)\n",
      "Requirement already satisfied: Jinja2>=2.10.1 in c:\\users\\user\\appdata\\roaming\\python\\python37\\site-packages (from flask==1.1.1->deeppavlov==0.6.1) (2.10.1)\n",
      "Requirement already satisfied: click>=5.1 in c:\\programdata\\anaconda3\\lib\\site-packages (from flask==1.1.1->deeppavlov==0.6.1) (7.0)\n",
      "Requirement already satisfied: itsdangerous>=0.24 in c:\\programdata\\anaconda3\\lib\\site-packages (from flask==1.1.1->deeppavlov==0.6.1) (1.1.0)\n",
      "Requirement already satisfied: Werkzeug>=0.15 in c:\\users\\user\\appdata\\roaming\\python\\python37\\site-packages (from flask==1.1.1->deeppavlov==0.6.1) (0.16.0)\n",
      "Requirement already satisfied: urllib3!=1.25.0,!=1.25.1,<1.26,>=1.21.1 in c:\\programdata\\anaconda3\\lib\\site-packages (from requests==2.22.0->deeppavlov==0.6.1) (1.24.1)\n",
      "Requirement already satisfied: idna<2.9,>=2.5 in c:\\programdata\\anaconda3\\lib\\site-packages (from requests==2.22.0->deeppavlov==0.6.1) (2.8)\n",
      "Requirement already satisfied: chardet<3.1.0,>=3.0.2 in c:\\programdata\\anaconda3\\lib\\site-packages (from requests==2.22.0->deeppavlov==0.6.1) (3.0.4)\n",
      "Requirement already satisfied: certifi>=2017.4.17 in c:\\programdata\\anaconda3\\lib\\site-packages (from requests==2.22.0->deeppavlov==0.6.1) (2019.3.9)\n",
      "Requirement already satisfied: websockets==8.* in c:\\users\\user\\appdata\\roaming\\python\\python37\\site-packages (from uvicorn==0.9.0->deeppavlov==0.6.1) (8.0.2)\n",
      "Requirement already satisfied: h11==0.8.* in c:\\users\\user\\appdata\\roaming\\python\\python37\\site-packages (from uvicorn==0.9.0->deeppavlov==0.6.1) (0.8.1)\n",
      "Requirement already satisfied: joblib>=0.11 in c:\\users\\user\\appdata\\roaming\\python\\python37\\site-packages (from scikit-learn==0.21.2->deeppavlov==0.6.1) (0.14.0)\n",
      "Requirement already satisfied: dawg-python>=0.7 in c:\\users\\user\\appdata\\roaming\\python\\python37\\site-packages (from pymorphy2==0.8->deeppavlov==0.6.1) (0.7.2)\n",
      "Requirement already satisfied: docopt>=0.6 in c:\\users\\user\\appdata\\roaming\\python\\python37\\site-packages (from pymorphy2==0.8->deeppavlov==0.6.1) (0.6.2)\n",
      "Requirement already satisfied: pymorphy2-dicts<3.0,>=2.4 in c:\\users\\user\\appdata\\roaming\\python\\python37\\site-packages (from pymorphy2==0.8->deeppavlov==0.6.1) (2.4.393442.3710985)\n",
      "Requirement already satisfied: python-dateutil>=2.5.0 in c:\\programdata\\anaconda3\\lib\\site-packages (from pandas==0.24.2->deeppavlov==0.6.1) (2.8.0)\n",
      "Requirement already satisfied: pytz>=2011k in c:\\programdata\\anaconda3\\lib\\site-packages (from pandas==0.24.2->deeppavlov==0.6.1) (2018.9)\n",
      "Requirement already satisfied: cffi!=1.11.3,>=1.8 in c:\\programdata\\anaconda3\\lib\\site-packages (from cryptography>=2.3->pyopenssl==19.0.0->deeppavlov==0.6.1) (1.12.2)\n",
      "Requirement already satisfied: asn1crypto>=0.21.0 in c:\\programdata\\anaconda3\\lib\\site-packages (from cryptography>=2.3->pyopenssl==19.0.0->deeppavlov==0.6.1) (0.24.0)\n",
      "Requirement already satisfied: attrs>=17.4.0 in c:\\programdata\\anaconda3\\lib\\site-packages (from jsonschema>=2.5.1->flasgger==0.9.2->deeppavlov==0.6.1) (19.1.0)\n",
      "Requirement already satisfied: pyrsistent>=0.14.0 in c:\\programdata\\anaconda3\\lib\\site-packages (from jsonschema>=2.5.1->flasgger==0.9.2->deeppavlov==0.6.1) (0.14.11)\n",
      "Requirement already satisfied: setuptools in c:\\users\\user\\appdata\\roaming\\python\\python37\\site-packages (from jsonschema>=2.5.1->flasgger==0.9.2->deeppavlov==0.6.1) (41.2.0)\n",
      "Requirement already satisfied: MarkupSafe>=0.23 in c:\\programdata\\anaconda3\\lib\\site-packages (from Jinja2>=2.10.1->flask==1.1.1->deeppavlov==0.6.1) (1.1.1)\n"
     ]
    },
    {
     "name": "stdout",
     "output_type": "stream",
     "text": [
      "Requirement already satisfied: pycparser in c:\\programdata\\anaconda3\\lib\\site-packages (from cffi!=1.11.3,>=1.8->cryptography>=2.3->pyopenssl==19.0.0->deeppavlov==0.6.1) (2.19)\n",
      "Installing collected packages: deeppavlov\n",
      "  Found existing installation: deeppavlov 0.5.0\n",
      "    Uninstalling deeppavlov-0.5.0:\n",
      "      Successfully uninstalled deeppavlov-0.5.0\n",
      "Successfully installed deeppavlov-0.6.1\n",
      "Note: you may need to restart the kernel to use updated packages.\n"
     ]
    }
   ],
   "source": [
    "pip install deeppavlov==0.6.1"
   ]
  },
  {
   "cell_type": "code",
   "execution_count": 13,
   "metadata": {},
   "outputs": [],
   "source": [
    "from deeppavlov import configs"
   ]
  },
  {
   "cell_type": "code",
   "execution_count": 15,
   "metadata": {},
   "outputs": [
    {
     "ename": "FileNotFoundError",
     "evalue": "[Errno 2] No such file or directory: 'squad_bert.json'",
     "output_type": "error",
     "traceback": [
      "\u001b[1;31m---------------------------------------------------------------------------\u001b[0m",
      "\u001b[1;31mFileNotFoundError\u001b[0m                         Traceback (most recent call last)",
      "\u001b[1;32m<ipython-input-15-4d2ac73ce194>\u001b[0m in \u001b[0;36m<module>\u001b[1;34m\u001b[0m\n\u001b[0;32m      1\u001b[0m \u001b[1;32mfrom\u001b[0m \u001b[0mdeeppavlov\u001b[0m \u001b[1;32mimport\u001b[0m \u001b[0mbuild_model\u001b[0m\u001b[1;33m\u001b[0m\u001b[1;33m\u001b[0m\u001b[0m\n\u001b[0;32m      2\u001b[0m \u001b[1;33m\u001b[0m\u001b[0m\n\u001b[1;32m----> 3\u001b[1;33m \u001b[0mmodel\u001b[0m \u001b[1;33m=\u001b[0m \u001b[0mbuild_model\u001b[0m\u001b[1;33m(\u001b[0m\u001b[1;34m\"squad_bert.json\"\u001b[0m\u001b[1;33m,\u001b[0m \u001b[0mdownload\u001b[0m\u001b[1;33m=\u001b[0m\u001b[1;32mTrue\u001b[0m\u001b[1;33m)\u001b[0m\u001b[1;33m\u001b[0m\u001b[1;33m\u001b[0m\u001b[0m\n\u001b[0m\u001b[0;32m      4\u001b[0m \u001b[1;33m\u001b[0m\u001b[0m\n\u001b[0;32m      5\u001b[0m \u001b[1;31m# get predictions for 'input_text1', 'input_text2'\u001b[0m\u001b[1;33m\u001b[0m\u001b[1;33m\u001b[0m\u001b[1;33m\u001b[0m\u001b[0m\n",
      "\u001b[1;32m~\\AppData\\Roaming\\Python\\Python37\\site-packages\\deeppavlov\\core\\commands\\infer.py\u001b[0m in \u001b[0;36mbuild_model\u001b[1;34m(config, mode, load_trained, download, serialized)\u001b[0m\n",
      "\u001b[1;32m~\\AppData\\Roaming\\Python\\Python37\\site-packages\\deeppavlov\\core\\commands\\utils.py\u001b[0m in \u001b[0;36mparse_config\u001b[1;34m(config)\u001b[0m\n",
      "\u001b[1;32m~\\AppData\\Roaming\\Python\\Python37\\site-packages\\deeppavlov\\core\\common\\file.py\u001b[0m in \u001b[0;36mread_json\u001b[1;34m(fpath)\u001b[0m\n",
      "\u001b[1;31mFileNotFoundError\u001b[0m: [Errno 2] No such file or directory: 'squad_bert.json'"
     ]
    }
   ],
   "source": [
    "from deeppavlov import build_model\n",
    "\n",
    "model = build_model(\"squad_bert.json\", download=True)\n",
    "\n",
    "# get predictions for 'input_text1', 'input_text2'\n",
    "model(['input_text1', 'input_text2'])"
   ]
  },
  {
   "cell_type": "code",
   "execution_count": null,
   "metadata": {},
   "outputs": [],
   "source": [
    "# from deeppavlov import train_model\n",
    "\n",
    "# model = train_model(<config_path>, download=True)"
   ]
  },
  {
   "cell_type": "code",
   "execution_count": null,
   "metadata": {},
   "outputs": [],
   "source": [
    "# from deeppavlov import evaluate_model\n",
    "\n",
    "# model = evaluate_model(<config_path>, download=True)"
   ]
  }
 ],
 "metadata": {
  "kernelspec": {
   "display_name": "Python 3",
   "language": "python",
   "name": "python3"
  },
  "language_info": {
   "codemirror_mode": {
    "name": "ipython",
    "version": 3
   },
   "file_extension": ".py",
   "mimetype": "text/x-python",
   "name": "python",
   "nbconvert_exporter": "python",
   "pygments_lexer": "ipython3",
   "version": "3.7.3"
  }
 },
 "nbformat": 4,
 "nbformat_minor": 2
}
