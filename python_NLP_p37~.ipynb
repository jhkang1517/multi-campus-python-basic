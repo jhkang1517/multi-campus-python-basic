{
 "cells": [
  {
   "cell_type": "code",
   "execution_count": 1,
   "metadata": {},
   "outputs": [],
   "source": [
    "# nltk 말뭉치 리더 wordnet을 wn이라는 객체로 가져옴 \n",
    "from nltk.corpus import wordnet as wn\n",
    "chair = 'chair'"
   ]
  },
  {
   "cell_type": "markdown",
   "metadata": {},
   "source": [
    "#### API란?\n"
   ]
  },
  {
   "cell_type": "code",
   "execution_count": 2,
   "metadata": {},
   "outputs": [
    {
     "name": "stdout",
     "output_type": "stream",
     "text": [
      "의자(Chair)의 뜻 Synsets :  [Synset('chair.n.01'), Synset('professorship.n.01'), Synset('president.n.04'), Synset('electric_chair.n.01'), Synset('chair.n.05'), Synset('chair.v.01'), Synset('moderate.v.01')] \n",
      "\n",
      "\n"
     ]
    }
   ],
   "source": [
    "chair_synsets = wn.synsets(chair)\n",
    "print('의자(Chair)의 뜻 Synsets : ', chair_synsets, '\\n\\n')"
   ]
  },
  {
   "cell_type": "code",
   "execution_count": 19,
   "metadata": {},
   "outputs": [
    {
     "name": "stdout",
     "output_type": "stream",
     "text": [
      "Synset('chair.n.01') : \n",
      "Definition:  a seat for one person, with a support for the back\n",
      "Lemmas/Synonymous words:  ['chair']\n",
      "Example:  ['he put his coat over the back of the chair and sat down'] \n",
      "\n",
      "Synset('professorship.n.01') : \n",
      "Definition:  the position of professor\n",
      "Lemmas/Synonymous words:  ['professorship', 'chair']\n",
      "Example:  ['he was awarded an endowed chair in economics'] \n",
      "\n",
      "Synset('president.n.04') : \n",
      "Definition:  the officer who presides at the meetings of an organization\n",
      "Lemmas/Synonymous words:  ['president', 'chairman', 'chairwoman', 'chair', 'chairperson']\n",
      "Example:  ['address your remarks to the chairperson'] \n",
      "\n",
      "Synset('electric_chair.n.01') : \n",
      "Definition:  an instrument of execution by electrocution; resembles an ordinary seat for one person\n",
      "Lemmas/Synonymous words:  ['electric_chair', 'chair', 'death_chair', 'hot_seat']\n",
      "Example:  ['the murderer was sentenced to die in the chair'] \n",
      "\n",
      "Synset('chair.n.05') : \n",
      "Definition:  a particular seat in an orchestra\n",
      "Lemmas/Synonymous words:  ['chair']\n",
      "Example:  ['he is second chair violin'] \n",
      "\n",
      "Synset('chair.v.01') : \n",
      "Definition:  act or preside as chair, as of an academic department in a university\n",
      "Lemmas/Synonymous words:  ['chair', 'chairman']\n",
      "Example:  ['She chaired the department for many years'] \n",
      "\n",
      "Synset('moderate.v.01') : \n",
      "Definition:  preside over\n",
      "Lemmas/Synonymous words:  ['moderate', 'chair', 'lead']\n",
      "Example:  ['John moderated the discussion'] \n",
      "\n"
     ]
    }
   ],
   "source": [
    "for synset in chair_synsets:\n",
    "    print(synset, ': ') # synset의 이름\n",
    "    print('Definition: ', synset.definition()) # synset의 정의\n",
    "    print('Lemmas/Synonymous words: ', synset.lemma_names()) # 관련 기본형(lemma)/동의어\n",
    "    print('Example: ', synset.examples(), '\\n') # 문장에서의 사용 예시"
   ]
  },
  {
   "cell_type": "markdown",
   "metadata": {},
   "source": [
    "##### p41\n",
    "#### 두 개의 구별되는 동의어 집합을 선택하고 워드넷을 사용해 상위어와 하위어의 개념 탐색"
   ]
  },
  {
   "cell_type": "code",
   "execution_count": 20,
   "metadata": {},
   "outputs": [],
   "source": [
    "pass"
   ]
  },
  {
   "cell_type": "markdown",
   "metadata": {},
   "source": [
    "##### 45\n",
    "#### 워드넷으로 명사, 동사, 형용사, 부사의 다의어 평균 계산"
   ]
  },
  {
   "cell_type": "code",
   "execution_count": 23,
   "metadata": {},
   "outputs": [
    {
     "data": {
      "text/plain": [
       "'n'"
      ]
     },
     "execution_count": 23,
     "metadata": {},
     "output_type": "execute_result"
    }
   ],
   "source": [
    "from nltk.corpus import wordnet as wn\n",
    "type = 'n'\n",
    "type"
   ]
  },
  {
   "cell_type": "code",
   "execution_count": 24,
   "metadata": {},
   "outputs": [],
   "source": [
    "# 워드넷 DB에 존재하는 명사 유형 n의 모든 synset를 반환한다.\n",
    "synsets = wn.all_synsets(type)"
   ]
  },
  {
   "cell_type": "code",
   "execution_count": 30,
   "metadata": {},
   "outputs": [],
   "source": [
    "lemmas = []\n",
    "# synset의 리스트와 각 synset의 lemmas를 반복하여 매우 큰 lemma리스트 생성\n",
    "for synset in synsets:\n",
    "    for lemma in synset.lemmas():\n",
    "        lemmas.append(lemma.name())"
   ]
  },
  {
   "cell_type": "code",
   "execution_count": 31,
   "metadata": {},
   "outputs": [],
   "source": [
    "lammas = set(lemmas) # 중복 제거 (deduplicate)"
   ]
  },
  {
   "cell_type": "code",
   "execution_count": 32,
   "metadata": {},
   "outputs": [],
   "source": [
    "count = 0\n",
    "for lemma in lemmas:\n",
    "    count = count + len(wn.synsets(lemma, type))"
   ]
  },
  {
   "cell_type": "code",
   "execution_count": 33,
   "metadata": {},
   "outputs": [
    {
     "name": "stdout",
     "output_type": "stream",
     "text": [
      "개별 기본형 합계:  0\n",
      "총 뜻:  0\n"
     ]
    },
    {
     "ename": "ZeroDivisionError",
     "evalue": "division by zero",
     "output_type": "error",
     "traceback": [
      "\u001b[1;31m---------------------------------------------------------------------------\u001b[0m",
      "\u001b[1;31mZeroDivisionError\u001b[0m                         Traceback (most recent call last)",
      "\u001b[1;32m<ipython-input-33-e5f17be720c3>\u001b[0m in \u001b[0;36m<module>\u001b[1;34m\u001b[0m\n\u001b[0;32m      2\u001b[0m \u001b[0mprint\u001b[0m\u001b[1;33m(\u001b[0m\u001b[1;34m'개별 기본형 합계: '\u001b[0m\u001b[1;33m,\u001b[0m \u001b[0mlen\u001b[0m\u001b[1;33m(\u001b[0m\u001b[0mlemmas\u001b[0m\u001b[1;33m)\u001b[0m\u001b[1;33m)\u001b[0m\u001b[1;33m\u001b[0m\u001b[1;33m\u001b[0m\u001b[0m\n\u001b[0;32m      3\u001b[0m \u001b[0mprint\u001b[0m\u001b[1;33m(\u001b[0m\u001b[1;34m'총 뜻: '\u001b[0m\u001b[1;33m,\u001b[0m \u001b[0mcount\u001b[0m\u001b[1;33m)\u001b[0m\u001b[1;33m\u001b[0m\u001b[1;33m\u001b[0m\u001b[0m\n\u001b[1;32m----> 4\u001b[1;33m \u001b[0mprint\u001b[0m\u001b[1;33m(\u001b[0m\u001b[0mtype\u001b[0m\u001b[1;33m,\u001b[0m \u001b[1;34m'(명사)의 다의어 평균: '\u001b[0m\u001b[1;33m,\u001b[0m \u001b[0mcount\u001b[0m\u001b[1;33m/\u001b[0m\u001b[0mlen\u001b[0m\u001b[1;33m(\u001b[0m\u001b[0mlemmas\u001b[0m\u001b[1;33m)\u001b[0m\u001b[1;33m)\u001b[0m\u001b[1;33m\u001b[0m\u001b[1;33m\u001b[0m\u001b[0m\n\u001b[0m",
      "\u001b[1;31mZeroDivisionError\u001b[0m: division by zero"
     ]
    }
   ],
   "source": [
    "print('개별 기본형 합계: ', len(lemmas))\n",
    "print('총 뜻: ', count)\n",
    "print(type, '(명사)의 다의어 평균: ', count/len(lemmas))"
   ]
  },
  {
   "cell_type": "code",
   "execution_count": null,
   "metadata": {},
   "outputs": [],
   "source": []
  }
 ],
 "metadata": {
  "kernelspec": {
   "display_name": "Python 3",
   "language": "python",
   "name": "python3"
  },
  "language_info": {
   "codemirror_mode": {
    "name": "ipython",
    "version": 3
   },
   "file_extension": ".py",
   "mimetype": "text/x-python",
   "name": "python",
   "nbconvert_exporter": "python",
   "pygments_lexer": "ipython3",
   "version": "3.7.3"
  }
 },
 "nbformat": 4,
 "nbformat_minor": 2
}
