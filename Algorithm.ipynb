{
 "cells": [
  {
   "cell_type": "markdown",
   "metadata": {},
   "source": [
    "## 소수찾기"
   ]
  },
  {
   "cell_type": "code",
   "execution_count": 18,
   "metadata": {},
   "outputs": [],
   "source": [
    "# 1번 방법\n",
    "def solution(A):\n",
    "    i = A - 1 # A의 전까지의 숫자로 for문을 돌릴 것\n",
    "    j = 2 # 1은 의미가 없으므로, 2부터 증가시킬 것\n",
    "    \n",
    "    while True: # True일 경우, 하위 조건식이 동작할때까지 작동시킬 수 있음\n",
    "        if (j <= i):\n",
    "            if (A % j == 0):\n",
    "                print(\"소수아님\")\n",
    "                break\n",
    "            \n",
    "            else:\n",
    "                j += 1 \n",
    "        \n",
    "        else:\n",
    "            print(\"소수\")\n",
    "            break\n",
    "    "
   ]
  },
  {
   "cell_type": "code",
   "execution_count": 20,
   "metadata": {},
   "outputs": [
    {
     "name": "stdout",
     "output_type": "stream",
     "text": [
      "소수\n"
     ]
    }
   ],
   "source": [
    "solution(13)"
   ]
  },
  {
   "cell_type": "code",
   "execution_count": 24,
   "metadata": {},
   "outputs": [],
   "source": [
    "# 2번 방법\n",
    "def solution(a):\n",
    "    j = 2\n",
    "    \n",
    "    while a % j != 0:\n",
    "        j += 1\n",
    "        \n",
    "        if a == j:\n",
    "            print(\"소수\")\n",
    "            break\n",
    "            \n",
    "        else:\n",
    "            print(\"소수 아님\")\n",
    "            break"
   ]
  },
  {
   "cell_type": "code",
   "execution_count": 25,
   "metadata": {},
   "outputs": [
    {
     "name": "stdout",
     "output_type": "stream",
     "text": [
      "소수 아님\n"
     ]
    }
   ],
   "source": [
    "solution(13)"
   ]
  },
  {
   "cell_type": "code",
   "execution_count": 27,
   "metadata": {},
   "outputs": [
    {
     "name": "stdout",
     "output_type": "stream",
     "text": [
      "3 3 3\n"
     ]
    }
   ],
   "source": [
    "print(int(3.5), int(3.4), int(3.9))"
   ]
  },
  {
   "cell_type": "code",
   "execution_count": 28,
   "metadata": {},
   "outputs": [],
   "source": [
    "# 3번 방법\n",
    "import math\n",
    "\n",
    "def solution(a):\n",
    "    j = 2\n",
    "    s = int(math.sqrt(a))\n",
    "    \n",
    "    while True:\n",
    "        if j <= s:\n",
    "            if a % j == 0:\n",
    "                print(\"소수 아님\")\n",
    "                break\n",
    "            else:\n",
    "                j += 1\n",
    "        else:\n",
    "            print(\"소수\")\n",
    "            break"
   ]
  },
  {
   "cell_type": "code",
   "execution_count": 29,
   "metadata": {},
   "outputs": [
    {
     "name": "stdout",
     "output_type": "stream",
     "text": [
      "소수\n"
     ]
    }
   ],
   "source": [
    "solution(13)"
   ]
  },
  {
   "cell_type": "code",
   "execution_count": 34,
   "metadata": {},
   "outputs": [],
   "source": [
    "def solution(a):\n",
    "    hap = 0\n",
    "    k = 2 # 소수인지 판별할 숫자를 시작 (1은 제외하기 때문에 2)\n",
    "    temp = []\n",
    "    \n",
    "    while True:\n",
    "        j = 2\n",
    "        while k % j != 0:\n",
    "            j += 1\n",
    "            \n",
    "        if k == j:\n",
    "            hap += k\n",
    "            temp.append(k)\n",
    "            \n",
    "        if k < a:\n",
    "            k += 1\n",
    "                \n",
    "        else:\n",
    "            print(hap)\n",
    "            break"
   ]
  },
  {
   "cell_type": "code",
   "execution_count": 35,
   "metadata": {},
   "outputs": [
    {
     "name": "stdout",
     "output_type": "stream",
     "text": [
      "2\n"
     ]
    }
   ],
   "source": [
    "solution(10)"
   ]
  },
  {
   "cell_type": "code",
   "execution_count": 45,
   "metadata": {},
   "outputs": [],
   "source": [
    "def solution(a, b):\n",
    "    big = 0\n",
    "    small = 0 \n",
    "    gcm = 0\n",
    "    lcm = 0\n",
    "    mok = 0\n",
    "    nmg = 0\n",
    "    \n",
    "    if a >= b:\n",
    "        big = a\n",
    "        small = b\n",
    "    else:\n",
    "        big = b\n",
    "        small = a\n",
    "        \n",
    "    while True:\n",
    "        mok = int(big // small)\n",
    "        nmg = big - (mok * small)\n",
    "        if nmg == 0:\n",
    "            gcm = small\n",
    "            lcm = (a * b) / gcm\n",
    "            print(gcm, lcm)\n",
    "            break\n",
    "            \n",
    "        big = small\n",
    "        small = nmg\n",
    "        "
   ]
  },
  {
   "cell_type": "code",
   "execution_count": 46,
   "metadata": {},
   "outputs": [
    {
     "name": "stdout",
     "output_type": "stream",
     "text": [
      "3 60.0\n"
     ]
    }
   ],
   "source": [
    "solution(15, 12)"
   ]
  },
  {
   "cell_type": "markdown",
   "metadata": {},
   "source": [
    "## 약수구하기"
   ]
  },
  {
   "cell_type": "code",
   "execution_count": 49,
   "metadata": {},
   "outputs": [],
   "source": [
    "def solution(n):\n",
    "    a = []\n",
    "    c = 1\n",
    "    d = 0\n",
    "    \n",
    "    while True:\n",
    "        if c <= n:\n",
    "            if n % c == 0:\n",
    "                a.append(c)\n",
    "                c += 1\n",
    "            else:\n",
    "                c += 1\n",
    "        else:\n",
    "            break\n",
    "    print(a)"
   ]
  },
  {
   "cell_type": "code",
   "execution_count": 50,
   "metadata": {},
   "outputs": [
    {
     "name": "stdout",
     "output_type": "stream",
     "text": [
      "[1, 2, 5, 10]\n"
     ]
    }
   ],
   "source": [
    "solution(10)"
   ]
  },
  {
   "cell_type": "markdown",
   "metadata": {},
   "source": [
    "## 최대값 구하기"
   ]
  },
  {
   "cell_type": "code",
   "execution_count": null,
   "metadata": {},
   "outputs": [],
   "source": []
  }
 ],
 "metadata": {
  "kernelspec": {
   "display_name": "Python 3",
   "language": "python",
   "name": "python3"
  },
  "language_info": {
   "codemirror_mode": {
    "name": "ipython",
    "version": 3
   },
   "file_extension": ".py",
   "mimetype": "text/x-python",
   "name": "python",
   "nbconvert_exporter": "python",
   "pygments_lexer": "ipython3",
   "version": "3.7.3"
  }
 },
 "nbformat": 4,
 "nbformat_minor": 2
}
