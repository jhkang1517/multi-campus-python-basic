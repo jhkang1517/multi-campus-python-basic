{
 "cells": [
  {
   "cell_type": "markdown",
   "metadata": {},
   "source": [
    "## 소수찾기"
   ]
  },
  {
   "cell_type": "code",
   "execution_count": null,
   "metadata": {},
   "outputs": [],
   "source": [
    "# 1번 방법\n",
    "def solution(A):\n",
    "    i = A - 1 # A의 전까지의 숫자로 for문을 돌릴 것\n",
    "    j = 2 # 1은 의미가 없으므로, 2부터 증가시킬 것\n",
    "    \n",
    "    while True: # True일 경우, 하위 조건식이 동작할때까지 작동시킬 수 있음\n",
    "        if (j <= i):\n",
    "            if (A % j == 0):\n",
    "                print(\"소수아님\")\n",
    "                break\n",
    "            \n",
    "            else:\n",
    "                j += 1 \n",
    "        \n",
    "        else:\n",
    "            print(\"소수\")\n",
    "            break\n",
    "    "
   ]
  },
  {
   "cell_type": "code",
   "execution_count": null,
   "metadata": {},
   "outputs": [],
   "source": [
    "solution(13)"
   ]
  },
  {
   "cell_type": "code",
   "execution_count": null,
   "metadata": {},
   "outputs": [],
   "source": [
    "# 2번 방법\n",
    "def solution(a):\n",
    "    j = 2\n",
    "    \n",
    "    while a % j != 0:\n",
    "        j += 1\n",
    "        \n",
    "        if a == j:\n",
    "            print(\"소수\")\n",
    "            break\n",
    "            \n",
    "        else:\n",
    "            print(\"소수 아님\")\n",
    "            break"
   ]
  },
  {
   "cell_type": "code",
   "execution_count": null,
   "metadata": {},
   "outputs": [],
   "source": [
    "solution(13)"
   ]
  },
  {
   "cell_type": "code",
   "execution_count": null,
   "metadata": {},
   "outputs": [],
   "source": [
    "print(int(3.5), int(3.4), int(3.9))"
   ]
  },
  {
   "cell_type": "code",
   "execution_count": null,
   "metadata": {},
   "outputs": [],
   "source": [
    "# 3번 방법\n",
    "import math\n",
    "\n",
    "def solution(a):\n",
    "    j = 2\n",
    "    s = int(math.sqrt(a))\n",
    "    \n",
    "    while True:\n",
    "        if j <= s:\n",
    "            if a % j == 0:\n",
    "                print(\"소수 아님\")\n",
    "                break\n",
    "            else:\n",
    "                j += 1\n",
    "        else:\n",
    "            print(\"소수\")\n",
    "            break"
   ]
  },
  {
   "cell_type": "code",
   "execution_count": null,
   "metadata": {},
   "outputs": [],
   "source": [
    "solution(13)"
   ]
  },
  {
   "cell_type": "code",
   "execution_count": 109,
   "metadata": {},
   "outputs": [],
   "source": [
    "def solution(a):\n",
    "    hap = 0\n",
    "    k = 2 # 소수인지 판별할 숫자를 시작 (1은 제외하기 때문에 2)\n",
    "    temp = []\n",
    "    \n",
    "    while True:\n",
    "        j = 2\n",
    "        while k % j != 0:\n",
    "            j += 1\n",
    "            \n",
    "        if k == j:\n",
    "            hap += k\n",
    "            temp.append(k)\n",
    "            \n",
    "        if k < a:\n",
    "            k += 1\n",
    "                \n",
    "        else:\n",
    "            break\n",
    "            \n",
    "    return len(temp)"
   ]
  },
  {
   "cell_type": "code",
   "execution_count": null,
   "metadata": {},
   "outputs": [],
   "source": [
    "def solution(a, b):\n",
    "    big = 0\n",
    "    small = 0 \n",
    "    gcm = 0\n",
    "    lcm = 0\n",
    "    mok = 0\n",
    "    nmg = 0\n",
    "    \n",
    "    if a >= b:\n",
    "        big = a\n",
    "        small = b\n",
    "    else:\n",
    "        big = b\n",
    "        small = a\n",
    "        \n",
    "    while True:\n",
    "        mok = int(big // small)\n",
    "        nmg = big - (mok * small)\n",
    "        if nmg == 0:\n",
    "            gcm = small\n",
    "            lcm = (a * b) / gcm\n",
    "            print(gcm, lcm)\n",
    "            break\n",
    "            \n",
    "        big = small\n",
    "        small = nmg\n",
    "        "
   ]
  },
  {
   "cell_type": "code",
   "execution_count": null,
   "metadata": {},
   "outputs": [],
   "source": [
    "solution(15, 12)"
   ]
  },
  {
   "cell_type": "markdown",
   "metadata": {},
   "source": [
    "## 약수구하기"
   ]
  },
  {
   "cell_type": "code",
   "execution_count": null,
   "metadata": {},
   "outputs": [],
   "source": [
    "def solution(n):\n",
    "    a = []\n",
    "    c = 1\n",
    "    d = 0\n",
    "    \n",
    "    while True:\n",
    "        if c <= n:\n",
    "            if n % c == 0:\n",
    "                a.append(c)\n",
    "                c += 1\n",
    "            else:\n",
    "                c += 1\n",
    "        else:\n",
    "            break\n",
    "    print(a)"
   ]
  },
  {
   "cell_type": "code",
   "execution_count": null,
   "metadata": {},
   "outputs": [],
   "source": [
    "solution(10)"
   ]
  },
  {
   "cell_type": "markdown",
   "metadata": {},
   "source": [
    "## 최대값 구하기"
   ]
  },
  {
   "cell_type": "code",
   "execution_count": null,
   "metadata": {},
   "outputs": [],
   "source": []
  },
  {
   "cell_type": "markdown",
   "metadata": {},
   "source": [
    "## 직사각형그리기"
   ]
  },
  {
   "cell_type": "code",
   "execution_count": null,
   "metadata": {},
   "outputs": [],
   "source": [
    "def solution(n, m):\n",
    "    temp = \"\"\n",
    "    for i in range(m):\n",
    "        temp = temp+('*'*n)\n",
    "        temp = temp + '\\n'\n",
    "        \n",
    "    return print(temp)"
   ]
  },
  {
   "cell_type": "code",
   "execution_count": null,
   "metadata": {},
   "outputs": [],
   "source": [
    "solution(2,2)"
   ]
  },
  {
   "cell_type": "code",
   "execution_count": 7,
   "metadata": {},
   "outputs": [
    {
     "name": "stdout",
     "output_type": "stream",
     "text": [
      "3 5\n",
      "*****\n",
      "*****\n",
      "*****\n"
     ]
    }
   ],
   "source": [
    "a, b = map(int, input().strip().split(' '))\n",
    "\n",
    "for i in range(a):\n",
    "    print('*'*b)"
   ]
  },
  {
   "cell_type": "markdown",
   "metadata": {},
   "source": [
    "## 예산"
   ]
  },
  {
   "cell_type": "code",
   "execution_count": 47,
   "metadata": {},
   "outputs": [],
   "source": [
    "def solution(d, budget):\n",
    "    temp = []\n",
    "    count = 0\n",
    "    \n",
    "    # d를 sort 해서 오름차순으로 정렬\n",
    "    d.sort()\n",
    "#     print(d)\n",
    "    \n",
    "    # for문으로 인자를 하나씩 꺼낸다음 budget에서 빼기\n",
    "    for i in d:\n",
    "        count += i\n",
    "        if count <= budget:\n",
    "            temp.append(i)\n",
    "        else:\n",
    "            break\n",
    "            \n",
    "#     print(\"budget: \", budget, \"count: \", count)\n",
    "#     print(\"blank_list: \", temp)\n",
    "    return len(temp)"
   ]
  },
  {
   "cell_type": "code",
   "execution_count": 48,
   "metadata": {},
   "outputs": [
    {
     "name": "stdout",
     "output_type": "stream",
     "text": [
      "[1, 2, 3, 4, 5]\n",
      "budget:  9 count:  10\n",
      "blank_list:  [1, 2, 3]\n"
     ]
    },
    {
     "data": {
      "text/plain": [
       "3"
      ]
     },
     "execution_count": 48,
     "metadata": {},
     "output_type": "execute_result"
    }
   ],
   "source": [
    "solution([1, 2, 3, 4, 5], 9)"
   ]
  },
  {
   "cell_type": "code",
   "execution_count": 49,
   "metadata": {},
   "outputs": [
    {
     "name": "stdout",
     "output_type": "stream",
     "text": [
      "[2, 2, 3, 3]\n",
      "budget:  10 count:  10\n",
      "blank_list:  [2, 2, 3, 3]\n"
     ]
    },
    {
     "data": {
      "text/plain": [
       "4"
      ]
     },
     "execution_count": 49,
     "metadata": {},
     "output_type": "execute_result"
    }
   ],
   "source": [
    "solution([2,2,3,3], 10)"
   ]
  },
  {
   "cell_type": "markdown",
   "metadata": {},
   "source": [
    "## 제일 작은 수 빼기"
   ]
  },
  {
   "cell_type": "code",
   "execution_count": null,
   "metadata": {},
   "outputs": [],
   "source": [
    "import copy\n",
    "\n",
    "def solution(arr):\n",
    "    arr2 = copy.copy(arr)\n",
    "    arr2.sort()\n",
    "    num = arr2[0]\n",
    "    \n",
    "    arr.remove(num)\n",
    "    \n",
    "    if arr == []:\n",
    "        arr = [-1]\n",
    "    \n",
    "    return arr"
   ]
  },
  {
   "cell_type": "code",
   "execution_count": 54,
   "metadata": {},
   "outputs": [],
   "source": [
    "def solution(arr):\n",
    "    arr.sort()\n",
    "    arr.reverse()\n",
    "    arr.pop()\n",
    "    \n",
    "    if arr ==  []:\n",
    "        arr = [-1]\n",
    "    \n",
    "    return arr"
   ]
  },
  {
   "cell_type": "code",
   "execution_count": 55,
   "metadata": {},
   "outputs": [
    {
     "data": {
      "text/plain": [
       "[5, 3, 2]"
      ]
     },
     "execution_count": 55,
     "metadata": {},
     "output_type": "execute_result"
    }
   ],
   "source": [
    "solution([3, 5, 2, 1])"
   ]
  },
  {
   "cell_type": "code",
   "execution_count": 67,
   "metadata": {},
   "outputs": [],
   "source": [
    "import copy\n",
    "\n",
    "def solution(arr):\n",
    "    arr2 = copy.copy(arr)\n",
    "    arr2.sort()\n",
    "    num = arr2[0]\n",
    "    \n",
    "    arr.remove(num)\n",
    "    \n",
    "    return arr"
   ]
  },
  {
   "cell_type": "code",
   "execution_count": 68,
   "metadata": {},
   "outputs": [
    {
     "name": "stdout",
     "output_type": "stream",
     "text": [
      "1\n"
     ]
    },
    {
     "data": {
      "text/plain": [
       "[3, 5, 2]"
      ]
     },
     "execution_count": 68,
     "metadata": {},
     "output_type": "execute_result"
    }
   ],
   "source": [
    "solution([3, 5, 2, 1])"
   ]
  },
  {
   "cell_type": "code",
   "execution_count": 85,
   "metadata": {},
   "outputs": [
    {
     "name": "stdout",
     "output_type": "stream",
     "text": [
      "<class 'float'>\n",
      "12.0\n"
     ]
    }
   ],
   "source": [
    "import math\n",
    "n = 144\n",
    "\n",
    "print(type(math.sqrt(n)))\n",
    "print(math.sqrt(n))"
   ]
  },
  {
   "cell_type": "code",
   "execution_count": 86,
   "metadata": {},
   "outputs": [
    {
     "name": "stdout",
     "output_type": "stream",
     "text": [
      "<class 'int'>\n"
     ]
    }
   ],
   "source": [
    "print(type(int()))"
   ]
  },
  {
   "cell_type": "code",
   "execution_count": 87,
   "metadata": {},
   "outputs": [
    {
     "data": {
      "text/plain": [
       "1.7320508075688772"
      ]
     },
     "execution_count": 87,
     "metadata": {},
     "output_type": "execute_result"
    }
   ],
   "source": [
    "math.sqrt(3)"
   ]
  },
  {
   "cell_type": "code",
   "execution_count": 89,
   "metadata": {},
   "outputs": [],
   "source": [
    "def solution(num):\n",
    "    count = 0\n",
    "    \n",
    "    while count <= 500:\n",
    "        if num % 2 == 0:\n",
    "            num = num / 2\n",
    "            count += 1\n",
    "            if num == 1:\n",
    "                return count\n",
    "\n",
    "        else:\n",
    "            num = num * 3 + 1\n",
    "            count += 1\n",
    "            if num == 1:\n",
    "                return count\n",
    "\n",
    "    if count > 500:\n",
    "        return -1"
   ]
  },
  {
   "cell_type": "code",
   "execution_count": 91,
   "metadata": {},
   "outputs": [
    {
     "data": {
      "text/plain": [
       "-1"
      ]
     },
     "execution_count": 91,
     "metadata": {},
     "output_type": "execute_result"
    }
   ],
   "source": [
    "solution(626331)"
   ]
  },
  {
   "cell_type": "markdown",
   "metadata": {},
   "source": [
    "## 행렬연산"
   ]
  },
  {
   "cell_type": "code",
   "execution_count": 109,
   "metadata": {},
   "outputs": [],
   "source": [
    "import numpy as np\n",
    "\n",
    "def solution(arr1, arr2):\n",
    "    arr1 = np.array(arr1)\n",
    "    arr2 = np.array(arr2)\n",
    "\n",
    "    print(arr1)\n",
    "    print(arr2)\n",
    "    print(type(arr1), type(arr2))\n",
    "    \n",
    "    answer = arr1 + arr2\n",
    "    \n",
    "    print(type(answer))\n",
    "    \n",
    "    temp = []\n",
    "    \n",
    "    for i in answer:\n",
    "        i = list(i)\n",
    "        temp.append(i)\n",
    "        \n",
    "    print(type(temp))\n",
    "        \n",
    "    \n",
    "    return temp"
   ]
  },
  {
   "cell_type": "code",
   "execution_count": 110,
   "metadata": {},
   "outputs": [
    {
     "name": "stdout",
     "output_type": "stream",
     "text": [
      "[[1 2]\n",
      " [2 3]]\n",
      "[[3 4]\n",
      " [5 6]]\n",
      "<class 'numpy.ndarray'> <class 'numpy.ndarray'>\n",
      "<class 'numpy.ndarray'>\n",
      "<class 'list'>\n"
     ]
    },
    {
     "data": {
      "text/plain": [
       "[[4, 6], [7, 9]]"
      ]
     },
     "execution_count": 110,
     "metadata": {},
     "output_type": "execute_result"
    }
   ],
   "source": [
    "solution([[1,2],[2,3]], [[3,4],[5,6]])"
   ]
  },
  {
   "cell_type": "code",
   "execution_count": 5,
   "metadata": {},
   "outputs": [],
   "source": [
    "def solution(s):\n",
    "    answer = 0\n",
    "\n",
    "    return int(answer)"
   ]
  },
  {
   "cell_type": "code",
   "execution_count": 6,
   "metadata": {},
   "outputs": [
    {
     "data": {
      "text/plain": [
       "-1234"
      ]
     },
     "execution_count": 6,
     "metadata": {},
     "output_type": "execute_result"
    }
   ],
   "source": [
    "solution(\"-1234\")"
   ]
  },
  {
   "cell_type": "code",
   "execution_count": 7,
   "metadata": {},
   "outputs": [
    {
     "data": {
      "text/plain": [
       "'1234'"
      ]
     },
     "execution_count": 7,
     "metadata": {},
     "output_type": "execute_result"
    }
   ],
   "source": [
    "s = \"-1234\"\n",
    "s[1:]"
   ]
  },
  {
   "cell_type": "code",
   "execution_count": 4,
   "metadata": {},
   "outputs": [
    {
     "data": {
      "text/plain": [
       "-1234"
      ]
     },
     "execution_count": 4,
     "metadata": {},
     "output_type": "execute_result"
    }
   ],
   "source": [
    "0 - 1234"
   ]
  },
  {
   "cell_type": "code",
   "execution_count": 10,
   "metadata": {},
   "outputs": [
    {
     "data": {
      "text/plain": [
       "'a'"
      ]
     },
     "execution_count": 10,
     "metadata": {},
     "output_type": "execute_result"
    }
   ],
   "source": [
    "chr(97)"
   ]
  },
  {
   "cell_type": "code",
   "execution_count": 15,
   "metadata": {},
   "outputs": [
    {
     "data": {
      "text/plain": [
       "'z'"
      ]
     },
     "execution_count": 15,
     "metadata": {},
     "output_type": "execute_result"
    }
   ],
   "source": [
    "chr(122)"
   ]
  },
  {
   "cell_type": "code",
   "execution_count": 13,
   "metadata": {},
   "outputs": [
    {
     "data": {
      "text/plain": [
       "'A'"
      ]
     },
     "execution_count": 13,
     "metadata": {},
     "output_type": "execute_result"
    }
   ],
   "source": [
    "chr(65)"
   ]
  },
  {
   "cell_type": "code",
   "execution_count": 18,
   "metadata": {},
   "outputs": [
    {
     "data": {
      "text/plain": [
       "'Z'"
      ]
     },
     "execution_count": 18,
     "metadata": {},
     "output_type": "execute_result"
    }
   ],
   "source": [
    "chr(90)"
   ]
  },
  {
   "cell_type": "code",
   "execution_count": 16,
   "metadata": {},
   "outputs": [
    {
     "data": {
      "text/plain": [
       "65"
      ]
     },
     "execution_count": 16,
     "metadata": {},
     "output_type": "execute_result"
    }
   ],
   "source": [
    "ord(\"A\")"
   ]
  },
  {
   "cell_type": "code",
   "execution_count": 17,
   "metadata": {},
   "outputs": [
    {
     "data": {
      "text/plain": [
       "90"
      ]
     },
     "execution_count": 17,
     "metadata": {},
     "output_type": "execute_result"
    }
   ],
   "source": [
    "ord(\"Z\")"
   ]
  },
  {
   "cell_type": "code",
   "execution_count": 37,
   "metadata": {},
   "outputs": [],
   "source": [
    "def solution(s, n):\n",
    "    answer = ''\n",
    "    \n",
    "    for i in s:\n",
    "        if i == ' ':\n",
    "            answer = answer + \" \"\n",
    "            \n",
    "        elif i.isupper():\n",
    "            if (ord(i)+n) > 90:\n",
    "                answer = answer + chr(64 + (ord(i) + n - 90))\n",
    "            else:\n",
    "                answer = answer + chr(ord(i) + n)\n",
    "            \n",
    "        elif i.islower():\n",
    "            if (ord(i)+n) > 122:\n",
    "                answer = answer + chr(96 + (ord(i) + n - 122))\n",
    "            else:\n",
    "                answer = answer + chr(ord(i) + n)\n",
    "    \n",
    "    return answer"
   ]
  },
  {
   "cell_type": "code",
   "execution_count": 38,
   "metadata": {},
   "outputs": [
    {
     "data": {
      "text/plain": [
       "'e F d'"
      ]
     },
     "execution_count": 38,
     "metadata": {},
     "output_type": "execute_result"
    }
   ],
   "source": [
    "solution(\"a B z\", 4)"
   ]
  },
  {
   "cell_type": "code",
   "execution_count": 34,
   "metadata": {},
   "outputs": [
    {
     "data": {
      "text/plain": [
       "False"
      ]
     },
     "execution_count": 34,
     "metadata": {},
     "output_type": "execute_result"
    }
   ],
   "source": [
    "\"a\".isupper()"
   ]
  },
  {
   "cell_type": "code",
   "execution_count": 44,
   "metadata": {},
   "outputs": [],
   "source": [
    "s = 'pPoooyY'"
   ]
  },
  {
   "cell_type": "code",
   "execution_count": 46,
   "metadata": {},
   "outputs": [
    {
     "data": {
      "text/plain": [
       "'ppoooyy'"
      ]
     },
     "execution_count": 46,
     "metadata": {},
     "output_type": "execute_result"
    }
   ],
   "source": [
    "s.lower()"
   ]
  },
  {
   "cell_type": "markdown",
   "metadata": {},
   "source": [
    "## 문자열 마음대로 정렬하기"
   ]
  },
  {
   "cell_type": "code",
   "execution_count": 104,
   "metadata": {},
   "outputs": [],
   "source": [
    "def solution(strings, n):\n",
    "    \n",
    "#     strings = sorted(strings, key = lambda strings : strings[n])\n",
    "    print(sorted(strings))\n",
    "    print(sorted(sorted(strings), key = lambda x : x[n]))"
   ]
  },
  {
   "cell_type": "code",
   "execution_count": 105,
   "metadata": {},
   "outputs": [
    {
     "name": "stdout",
     "output_type": "stream",
     "text": [
      "['aacc', 'abcd', 'abce', 'cdx']\n",
      "['aacc', 'abcd', 'abce', 'cdx']\n"
     ]
    }
   ],
   "source": [
    "solution([\"abce\", \"abcd\", \"cdx\", \"aacc\"], 2)"
   ]
  },
  {
   "cell_type": "code",
   "execution_count": 78,
   "metadata": {},
   "outputs": [],
   "source": [
    "list.sort?"
   ]
  },
  {
   "cell_type": "markdown",
   "metadata": {},
   "source": [
    "## 소수 찾기"
   ]
  },
  {
   "cell_type": "markdown",
   "metadata": {},
   "source": [
    "2부터 소수를 구하고자 하는 구간의 모든 수를 나열한다. 그림에서 회색 사각형으로 두른 수들이 여기에 해당한다.  \n",
    "자기 자신을 제외한 2의 배수를 모두 지운다.  \n",
    "자기 자신을 제외한 3의 배수를 모두 지운다.   \n",
    "자기 자신을 제외한 5의 배수를 모두 지운다.  \n",
    "자기 자신을 제외한 7의 배수를 모두 지운다.  "
   ]
  },
  {
   "cell_type": "code",
   "execution_count": 113,
   "metadata": {},
   "outputs": [],
   "source": [
    "def solution(a):\n",
    "    k = 2\n",
    "    temp = []\n",
    "    \n",
    "    while True:\n",
    "        j = 2\n",
    "        while k % j != 0:\n",
    "            j += 1\n",
    "            \n",
    "        if k == j:\n",
    "            temp.append(k)\n",
    "            \n",
    "        if k < a:\n",
    "            k += 1\n",
    "                \n",
    "        else:\n",
    "            break\n",
    "            \n",
    "            \n",
    "    answer = len(temp)\n",
    "            \n",
    "    return answer"
   ]
  },
  {
   "cell_type": "code",
   "execution_count": 114,
   "metadata": {},
   "outputs": [
    {
     "ename": "KeyboardInterrupt",
     "evalue": "",
     "output_type": "error",
     "traceback": [
      "\u001b[1;31m---------------------------------------------------------------------------\u001b[0m",
      "\u001b[1;31mKeyboardInterrupt\u001b[0m                         Traceback (most recent call last)",
      "\u001b[1;32m<ipython-input-114-ac185af37869>\u001b[0m in \u001b[0;36m<module>\u001b[1;34m\u001b[0m\n\u001b[1;32m----> 1\u001b[1;33m \u001b[0msolution\u001b[0m\u001b[1;33m(\u001b[0m\u001b[1;36m1000000\u001b[0m\u001b[1;33m)\u001b[0m\u001b[1;33m\u001b[0m\u001b[1;33m\u001b[0m\u001b[0m\n\u001b[0m",
      "\u001b[1;32m<ipython-input-113-859be6531b03>\u001b[0m in \u001b[0;36msolution\u001b[1;34m(a)\u001b[0m\n\u001b[0;32m      5\u001b[0m     \u001b[1;32mwhile\u001b[0m \u001b[1;32mTrue\u001b[0m\u001b[1;33m:\u001b[0m\u001b[1;33m\u001b[0m\u001b[1;33m\u001b[0m\u001b[0m\n\u001b[0;32m      6\u001b[0m         \u001b[0mj\u001b[0m \u001b[1;33m=\u001b[0m \u001b[1;36m2\u001b[0m\u001b[1;33m\u001b[0m\u001b[1;33m\u001b[0m\u001b[0m\n\u001b[1;32m----> 7\u001b[1;33m         \u001b[1;32mwhile\u001b[0m \u001b[0mk\u001b[0m \u001b[1;33m%\u001b[0m \u001b[0mj\u001b[0m \u001b[1;33m!=\u001b[0m \u001b[1;36m0\u001b[0m\u001b[1;33m:\u001b[0m\u001b[1;33m\u001b[0m\u001b[1;33m\u001b[0m\u001b[0m\n\u001b[0m\u001b[0;32m      8\u001b[0m             \u001b[0mj\u001b[0m \u001b[1;33m+=\u001b[0m \u001b[1;36m1\u001b[0m\u001b[1;33m\u001b[0m\u001b[1;33m\u001b[0m\u001b[0m\n\u001b[0;32m      9\u001b[0m \u001b[1;33m\u001b[0m\u001b[0m\n",
      "\u001b[1;31mKeyboardInterrupt\u001b[0m: "
     ]
    }
   ],
   "source": [
    "solution(1000000)"
   ]
  },
  {
   "cell_type": "code",
   "execution_count": null,
   "metadata": {},
   "outputs": [],
   "source": []
  }
 ],
 "metadata": {
  "kernelspec": {
   "display_name": "Python 3",
   "language": "python",
   "name": "python3"
  },
  "language_info": {
   "codemirror_mode": {
    "name": "ipython",
    "version": 3
   },
   "file_extension": ".py",
   "mimetype": "text/x-python",
   "name": "python",
   "nbconvert_exporter": "python",
   "pygments_lexer": "ipython3",
   "version": "3.7.3"
  }
 },
 "nbformat": 4,
 "nbformat_minor": 2
}
