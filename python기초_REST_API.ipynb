{
 "cells": [
  {
   "cell_type": "markdown",
   "metadata": {},
   "source": [
    "# REST API 데이터 수집"
   ]
  },
  {
   "cell_type": "code",
   "execution_count": 2,
   "metadata": {},
   "outputs": [],
   "source": [
    "import requests # 요청 모듈\n",
    "from bs4 import BeautifulSoup # 예쁘게 만들기 위한 모듈\n",
    "import urllib # url을 위한 모듈 "
   ]
  },
  {
   "cell_type": "code",
   "execution_count": 3,
   "metadata": {},
   "outputs": [
    {
     "data": {
      "text/plain": [
       "'aZKb3nJSN4+e4wBW+VZHZ+ySzpYPWVtGhaUuA3egvIbW6QxqvMAujOkyzUtWD4fH129789KpCPhbdjYlXkFeYg=='"
      ]
     },
     "execution_count": 3,
     "metadata": {},
     "output_type": "execute_result"
    }
   ],
   "source": [
    "# 대문자는 바꾸지 말자라는 것을 의미한다.\n",
    "BASE_ENDPOINT = 'http://openapi.airkorea.or.kr/openapi/services/rest/ArpltnInforInqireSvc/'\n",
    "MY_API_KEY = 'aZKb3nJSN4%2Be4wBW%2BVZHZ%2BySzpYPWVtGhaUuA3egvIbW6QxqvMAujOkyzUtWD4fH129789KpCPhbdjYlXkFeYg%3D%3D'\n",
    "# 설명 문서를 확인해보면, 나의 KEY가 이미 encode가 되어있기 때문에, 이후 URL을 합칠때 \n",
    "# encoding이 두 번 일어나게 됩니다.\n",
    "\n",
    "MY_API_KEY = urllib.parse.unquote(MY_API_KEY) # 따라서 unquote로 초기화 시켜줍니다. \n",
    "MY_API_KEY"
   ]
  },
  {
   "cell_type": "markdown",
   "metadata": {},
   "source": [
    "# 1. 측정소별 실시간 측정정보 조회"
   ]
  },
  {
   "cell_type": "code",
   "execution_count": 4,
   "metadata": {},
   "outputs": [],
   "source": [
    "OPERATION_NAME = 'getMsrstnAcctoRltmMesureDnsty'"
   ]
  },
  {
   "cell_type": "code",
   "execution_count": 5,
   "metadata": {},
   "outputs": [
    {
     "data": {
      "text/plain": [
       "'http://openapi.airkorea.or.kr/openapi/services/rest/ArpltnInforInqireSvc/getMsrstnAcctoRltmMesureDnsty'"
      ]
     },
     "execution_count": 5,
     "metadata": {},
     "output_type": "execute_result"
    }
   ],
   "source": [
    "endpoint = urllib.parse.urljoin(BASE_ENDPOINT, OPERATION_NAME)\n",
    "endpoint"
   ]
  },
  {
   "cell_type": "code",
   "execution_count": 6,
   "metadata": {},
   "outputs": [],
   "source": [
    "# parameter 지정\n",
    "# 문서의 '요청메세지' 에 있는 것들을 copy n paste\n",
    "params = {\n",
    "    'ServiceKey': MY_API_KEY, # 서비스키\n",
    "    'numOfRows': 10, # 한 페이지 결과 수\n",
    "    'pageNo':1, # 페이지 번호\n",
    "    'stationName':'강남구', # 측정소 명\n",
    "    'dataTerm': 'daily', # 데이터기간\n",
    "    'ver': '1.3' # 오퍼레이션 버전 \n",
    "}"
   ]
  },
  {
   "cell_type": "code",
   "execution_count": 7,
   "metadata": {},
   "outputs": [
    {
     "data": {
      "text/plain": [
       "<Response [200]>"
      ]
     },
     "execution_count": 7,
     "metadata": {},
     "output_type": "execute_result"
    }
   ],
   "source": [
    "resp = requests.get(endpoint, params)\n",
    "# 보낼 때 다시 한번 인코딩을 하게 된다. \n",
    "resp"
   ]
  },
  {
   "cell_type": "code",
   "execution_count": 8,
   "metadata": {},
   "outputs": [
    {
     "data": {
      "text/plain": [
       "b'<?xml version=\"1.0\" encoding=\"UTF-8\"?>\\r\\n\\r\\n\\r\\n\\r\\n\\r\\n<response>\\r\\n\\t<header>\\r\\n\\t\\t<resultCode>00</resultCode>\\r\\n\\t\\t<resultMsg>NORMAL SERVICE.</resultMsg>\\r\\n\\t</header>\\r\\n\\t<body>\\r\\n\\t\\t<items>\\r\\n\\t\\t\\t\\r\\n\\t\\t\\t\\t<item>\\r\\n\\t\\t\\t\\t\\t<dataTime>2019-06-10 14:00</dataTime>\\r\\n\\t\\t\\t\\t\\t\\r\\n                        <mangName>\\xeb\\x8f\\x84\\xec\\x8b\\x9c\\xeb\\x8c\\x80\\xea\\xb8\\xb0</mangName>\\r\\n                    \\r\\n\\t\\t\\t\\t\\t<so2Value>0.004</so2Value>\\r\\n\\t\\t\\t\\t\\t<coValue>0.2</coValue>\\r\\n\\t\\t\\t\\t\\t<o3Value>0.023</o3Value>\\r\\n\\t\\t\\t\\t\\t<no2Value>0.012</no2Value>\\r\\n\\t\\t\\t\\t\\t<pm10Value>7</pm10Value>\\r\\n\\t\\t\\t\\t\\t\\r\\n                        <pm10Value24>7</pm10Value24>\\r\\n                    \\r\\n\\t\\t\\t\\t\\t\\r\\n                        <pm25Value>3</pm25Value>\\r\\n                    \\r\\n                    \\r\\n                        <pm25Value24>3</pm25Value24>\\r\\n                    \\r\\n\\t\\t\\t\\t\\t<khaiValue>38</khaiValue>\\r\\n\\t\\t\\t\\t\\t<khaiGrade>1</khaiGrade>\\r\\n\\t\\t\\t\\t\\t<so2Grade>1</so2Grade>\\r\\n\\t\\t\\t\\t\\t<coGrade>1</coGrade>\\r\\n\\t\\t\\t\\t\\t<o3Grade>1</o3Grade>\\r\\n\\t\\t\\t\\t\\t<no2Grade>1</no2Grade>\\r\\n\\t\\t\\t\\t\\t<pm10Grade>1</pm10Grade>\\r\\n\\t\\t\\t\\t\\t\\r\\n                        <pm25Grade>1</pm25Grade>\\r\\n                    \\r\\n                    \\r\\n                        <pm10Grade1h>1</pm10Grade1h>\\r\\n                        <pm25Grade1h>1</pm25Grade1h>\\r\\n                    \\r\\n\\t\\t\\t\\t</item>\\r\\n\\t\\t\\t\\r\\n\\t\\t\\t\\t<item>\\r\\n\\t\\t\\t\\t\\t<dataTime>2019-06-10 13:00</dataTime>\\r\\n\\t\\t\\t\\t\\t\\r\\n                        <mangName>\\xeb\\x8f\\x84\\xec\\x8b\\x9c\\xeb\\x8c\\x80\\xea\\xb8\\xb0</mangName>\\r\\n                    \\r\\n\\t\\t\\t\\t\\t<so2Value>0.005</so2Value>\\r\\n\\t\\t\\t\\t\\t<coValue>0.2</coValue>\\r\\n\\t\\t\\t\\t\\t<o3Value>0.023</o3Value>\\r\\n\\t\\t\\t\\t\\t<no2Value>0.013</no2Value>\\r\\n\\t\\t\\t\\t\\t<pm10Value>-</pm10Value>\\r\\n\\t\\t\\t\\t\\t\\r\\n                        <pm10Value24>7</pm10Value24>\\r\\n                    \\r\\n\\t\\t\\t\\t\\t\\r\\n                        <pm25Value>2</pm25Value>\\r\\n                    \\r\\n                    \\r\\n                        <pm25Value24>3</pm25Value24>\\r\\n                    \\r\\n\\t\\t\\t\\t\\t<khaiValue>38</khaiValue>\\r\\n\\t\\t\\t\\t\\t<khaiGrade>1</khaiGrade>\\r\\n\\t\\t\\t\\t\\t<so2Grade>1</so2Grade>\\r\\n\\t\\t\\t\\t\\t<coGrade>1</coGrade>\\r\\n\\t\\t\\t\\t\\t<o3Grade>1</o3Grade>\\r\\n\\t\\t\\t\\t\\t<no2Grade>1</no2Grade>\\r\\n\\t\\t\\t\\t\\t<pm10Grade>1</pm10Grade>\\r\\n\\t\\t\\t\\t\\t\\r\\n                        <pm25Grade>1</pm25Grade>\\r\\n                    \\r\\n                    \\r\\n                        <pm10Grade1h></pm10Grade1h>\\r\\n                        <pm25Grade1h>1</pm25Grade1h>\\r\\n                    \\r\\n\\t\\t\\t\\t</item>\\r\\n\\t\\t\\t\\r\\n\\t\\t\\t\\t<item>\\r\\n\\t\\t\\t\\t\\t<dataTime>2019-06-10 12:00</dataTime>\\r\\n\\t\\t\\t\\t\\t\\r\\n                        <mangName>\\xeb\\x8f\\x84\\xec\\x8b\\x9c\\xeb\\x8c\\x80\\xea\\xb8\\xb0</mangName>\\r\\n                    \\r\\n\\t\\t\\t\\t\\t<so2Value>0.005</so2Value>\\r\\n\\t\\t\\t\\t\\t<coValue>0.2</coValue>\\r\\n\\t\\t\\t\\t\\t<o3Value>0.019</o3Value>\\r\\n\\t\\t\\t\\t\\t<no2Value>0.014</no2Value>\\r\\n\\t\\t\\t\\t\\t<pm10Value>7</pm10Value>\\r\\n\\t\\t\\t\\t\\t\\r\\n                        <pm10Value24>8</pm10Value24>\\r\\n                    \\r\\n\\t\\t\\t\\t\\t\\r\\n                        <pm25Value>3</pm25Value>\\r\\n                    \\r\\n                    \\r\\n                        <pm25Value24>4</pm25Value24>\\r\\n                    \\r\\n\\t\\t\\t\\t\\t<khaiValue>32</khaiValue>\\r\\n\\t\\t\\t\\t\\t<khaiGrade>1</khaiGrade>\\r\\n\\t\\t\\t\\t\\t<so2Grade>1</so2Grade>\\r\\n\\t\\t\\t\\t\\t<coGrade>1</coGrade>\\r\\n\\t\\t\\t\\t\\t<o3Grade>1</o3Grade>\\r\\n\\t\\t\\t\\t\\t<no2Grade>1</no2Grade>\\r\\n\\t\\t\\t\\t\\t<pm10Grade>1</pm10Grade>\\r\\n\\t\\t\\t\\t\\t\\r\\n                        <pm25Grade>1</pm25Grade>\\r\\n                    \\r\\n                    \\r\\n                        <pm10Grade1h>1</pm10Grade1h>\\r\\n                        <pm25Grade1h>1</pm25Grade1h>\\r\\n                    \\r\\n\\t\\t\\t\\t</item>\\r\\n\\t\\t\\t\\r\\n\\t\\t\\t\\t<item>\\r\\n\\t\\t\\t\\t\\t<dataTime>2019-06-10 11:00</dataTime>\\r\\n\\t\\t\\t\\t\\t\\r\\n                        <mangName>\\xeb\\x8f\\x84\\xec\\x8b\\x9c\\xeb\\x8c\\x80\\xea\\xb8\\xb0</mangName>\\r\\n                    \\r\\n\\t\\t\\t\\t\\t<so2Value>0.004</so2Value>\\r\\n\\t\\t\\t\\t\\t<coValue>0.2</coValue>\\r\\n\\t\\t\\t\\t\\t<o3Value>0.016</o3Value>\\r\\n\\t\\t\\t\\t\\t<no2Value>0.015</no2Value>\\r\\n\\t\\t\\t\\t\\t<pm10Value>6</pm10Value>\\r\\n\\t\\t\\t\\t\\t\\r\\n                        <pm10Value24>8</pm10Value24>\\r\\n                    \\r\\n\\t\\t\\t\\t\\t\\r\\n                        <pm25Value>2</pm25Value>\\r\\n                    \\r\\n                    \\r\\n                        <pm25Value24>4</pm25Value24>\\r\\n                    \\r\\n\\t\\t\\t\\t\\t<khaiValue>27</khaiValue>\\r\\n\\t\\t\\t\\t\\t<khaiGrade>1</khaiGrade>\\r\\n\\t\\t\\t\\t\\t<so2Grade>1</so2Grade>\\r\\n\\t\\t\\t\\t\\t<coGrade>1</coGrade>\\r\\n\\t\\t\\t\\t\\t<o3Grade>1</o3Grade>\\r\\n\\t\\t\\t\\t\\t<no2Grade>1</no2Grade>\\r\\n\\t\\t\\t\\t\\t<pm10Grade>1</pm10Grade>\\r\\n\\t\\t\\t\\t\\t\\r\\n                        <pm25Grade>1</pm25Grade>\\r\\n                    \\r\\n                    \\r\\n                        <pm10Grade1h>1</pm10Grade1h>\\r\\n                        <pm25Grade1h>1</pm25Grade1h>\\r\\n                    \\r\\n\\t\\t\\t\\t</item>\\r\\n\\t\\t\\t\\r\\n\\t\\t\\t\\t<item>\\r\\n\\t\\t\\t\\t\\t<dataTime>2019-06-10 10:00</dataTime>\\r\\n\\t\\t\\t\\t\\t\\r\\n                        <mangName>\\xeb\\x8f\\x84\\xec\\x8b\\x9c\\xeb\\x8c\\x80\\xea\\xb8\\xb0</mangName>\\r\\n                    \\r\\n\\t\\t\\t\\t\\t<so2Value>0.004</so2Value>\\r\\n\\t\\t\\t\\t\\t<coValue>0.3</coValue>\\r\\n\\t\\t\\t\\t\\t<o3Value>0.015</o3Value>\\r\\n\\t\\t\\t\\t\\t<no2Value>0.016</no2Value>\\r\\n\\t\\t\\t\\t\\t<pm10Value>7</pm10Value>\\r\\n\\t\\t\\t\\t\\t\\r\\n                        <pm10Value24>8</pm10Value24>\\r\\n                    \\r\\n\\t\\t\\t\\t\\t\\r\\n                        <pm25Value>3</pm25Value>\\r\\n                    \\r\\n                    \\r\\n                        <pm25Value24>4</pm25Value24>\\r\\n                    \\r\\n\\t\\t\\t\\t\\t<khaiValue>27</khaiValue>\\r\\n\\t\\t\\t\\t\\t<khaiGrade>1</khaiGrade>\\r\\n\\t\\t\\t\\t\\t<so2Grade>1</so2Grade>\\r\\n\\t\\t\\t\\t\\t<coGrade>1</coGrade>\\r\\n\\t\\t\\t\\t\\t<o3Grade>1</o3Grade>\\r\\n\\t\\t\\t\\t\\t<no2Grade>1</no2Grade>\\r\\n\\t\\t\\t\\t\\t<pm10Grade>1</pm10Grade>\\r\\n\\t\\t\\t\\t\\t\\r\\n                        <pm25Grade>1</pm25Grade>\\r\\n                    \\r\\n                    \\r\\n                        <pm10Grade1h>1</pm10Grade1h>\\r\\n                        <pm25Grade1h>1</pm25Grade1h>\\r\\n                    \\r\\n\\t\\t\\t\\t</item>\\r\\n\\t\\t\\t\\r\\n\\t\\t\\t\\t<item>\\r\\n\\t\\t\\t\\t\\t<dataTime>2019-06-10 09:00</dataTime>\\r\\n\\t\\t\\t\\t\\t\\r\\n                        <mangName>\\xeb\\x8f\\x84\\xec\\x8b\\x9c\\xeb\\x8c\\x80\\xea\\xb8\\xb0</mangName>\\r\\n                    \\r\\n\\t\\t\\t\\t\\t<so2Value>0.004</so2Value>\\r\\n\\t\\t\\t\\t\\t<coValue>0.3</coValue>\\r\\n\\t\\t\\t\\t\\t<o3Value>0.010</o3Value>\\r\\n\\t\\t\\t\\t\\t<no2Value>0.019</no2Value>\\r\\n\\t\\t\\t\\t\\t<pm10Value>9</pm10Value>\\r\\n\\t\\t\\t\\t\\t\\r\\n                        <pm10Value24>9</pm10Value24>\\r\\n                    \\r\\n\\t\\t\\t\\t\\t\\r\\n                        <pm25Value>4</pm25Value>\\r\\n                    \\r\\n                    \\r\\n                        <pm25Value24>5</pm25Value24>\\r\\n                    \\r\\n\\t\\t\\t\\t\\t<khaiValue>32</khaiValue>\\r\\n\\t\\t\\t\\t\\t<khaiGrade>1</khaiGrade>\\r\\n\\t\\t\\t\\t\\t<so2Grade>1</so2Grade>\\r\\n\\t\\t\\t\\t\\t<coGrade>1</coGrade>\\r\\n\\t\\t\\t\\t\\t<o3Grade>1</o3Grade>\\r\\n\\t\\t\\t\\t\\t<no2Grade>1</no2Grade>\\r\\n\\t\\t\\t\\t\\t<pm10Grade>1</pm10Grade>\\r\\n\\t\\t\\t\\t\\t\\r\\n                        <pm25Grade>1</pm25Grade>\\r\\n                    \\r\\n                    \\r\\n                        <pm10Grade1h>1</pm10Grade1h>\\r\\n                        <pm25Grade1h>1</pm25Grade1h>\\r\\n                    \\r\\n\\t\\t\\t\\t</item>\\r\\n\\t\\t\\t\\r\\n\\t\\t\\t\\t<item>\\r\\n\\t\\t\\t\\t\\t<dataTime>2019-06-10 08:00</dataTime>\\r\\n\\t\\t\\t\\t\\t\\r\\n                        <mangName>\\xeb\\x8f\\x84\\xec\\x8b\\x9c\\xeb\\x8c\\x80\\xea\\xb8\\xb0</mangName>\\r\\n                    \\r\\n\\t\\t\\t\\t\\t<so2Value>0.003</so2Value>\\r\\n\\t\\t\\t\\t\\t<coValue>0.3</coValue>\\r\\n\\t\\t\\t\\t\\t<o3Value>0.012</o3Value>\\r\\n\\t\\t\\t\\t\\t<no2Value>0.020</no2Value>\\r\\n\\t\\t\\t\\t\\t<pm10Value>7</pm10Value>\\r\\n\\t\\t\\t\\t\\t\\r\\n                        <pm10Value24>9</pm10Value24>\\r\\n                    \\r\\n\\t\\t\\t\\t\\t\\r\\n                        <pm25Value>3</pm25Value>\\r\\n                    \\r\\n                    \\r\\n                        <pm25Value24>5</pm25Value24>\\r\\n                    \\r\\n\\t\\t\\t\\t\\t<khaiValue>33</khaiValue>\\r\\n\\t\\t\\t\\t\\t<khaiGrade>1</khaiGrade>\\r\\n\\t\\t\\t\\t\\t<so2Grade>1</so2Grade>\\r\\n\\t\\t\\t\\t\\t<coGrade>1</coGrade>\\r\\n\\t\\t\\t\\t\\t<o3Grade>1</o3Grade>\\r\\n\\t\\t\\t\\t\\t<no2Grade>1</no2Grade>\\r\\n\\t\\t\\t\\t\\t<pm10Grade>1</pm10Grade>\\r\\n\\t\\t\\t\\t\\t\\r\\n                        <pm25Grade>1</pm25Grade>\\r\\n                    \\r\\n                    \\r\\n                        <pm10Grade1h>1</pm10Grade1h>\\r\\n                        <pm25Grade1h>1</pm25Grade1h>\\r\\n                    \\r\\n\\t\\t\\t\\t</item>\\r\\n\\t\\t\\t\\r\\n\\t\\t\\t\\t<item>\\r\\n\\t\\t\\t\\t\\t<dataTime>2019-06-10 07:00</dataTime>\\r\\n\\t\\t\\t\\t\\t\\r\\n                        <mangName>\\xeb\\x8f\\x84\\xec\\x8b\\x9c\\xeb\\x8c\\x80\\xea\\xb8\\xb0</mangName>\\r\\n                    \\r\\n\\t\\t\\t\\t\\t<so2Value>0.005</so2Value>\\r\\n\\t\\t\\t\\t\\t<coValue>0.2</coValue>\\r\\n\\t\\t\\t\\t\\t<o3Value>0.012</o3Value>\\r\\n\\t\\t\\t\\t\\t<no2Value>0.017</no2Value>\\r\\n\\t\\t\\t\\t\\t<pm10Value>9</pm10Value>\\r\\n\\t\\t\\t\\t\\t\\r\\n                        <pm10Value24>10</pm10Value24>\\r\\n                    \\r\\n\\t\\t\\t\\t\\t\\r\\n                        <pm25Value>5</pm25Value>\\r\\n                    \\r\\n                    \\r\\n                        <pm25Value24>6</pm25Value24>\\r\\n                    \\r\\n\\t\\t\\t\\t\\t<khaiValue>28</khaiValue>\\r\\n\\t\\t\\t\\t\\t<khaiGrade>1</khaiGrade>\\r\\n\\t\\t\\t\\t\\t<so2Grade>1</so2Grade>\\r\\n\\t\\t\\t\\t\\t<coGrade>1</coGrade>\\r\\n\\t\\t\\t\\t\\t<o3Grade>1</o3Grade>\\r\\n\\t\\t\\t\\t\\t<no2Grade>1</no2Grade>\\r\\n\\t\\t\\t\\t\\t<pm10Grade>1</pm10Grade>\\r\\n\\t\\t\\t\\t\\t\\r\\n                        <pm25Grade>1</pm25Grade>\\r\\n                    \\r\\n                    \\r\\n                        <pm10Grade1h>1</pm10Grade1h>\\r\\n                        <pm25Grade1h>1</pm25Grade1h>\\r\\n                    \\r\\n\\t\\t\\t\\t</item>\\r\\n\\t\\t\\t\\r\\n\\t\\t\\t\\t<item>\\r\\n\\t\\t\\t\\t\\t<dataTime>2019-06-10 06:00</dataTime>\\r\\n\\t\\t\\t\\t\\t\\r\\n                        <mangName>\\xeb\\x8f\\x84\\xec\\x8b\\x9c\\xeb\\x8c\\x80\\xea\\xb8\\xb0</mangName>\\r\\n                    \\r\\n\\t\\t\\t\\t\\t<so2Value>0.004</so2Value>\\r\\n\\t\\t\\t\\t\\t<coValue>0.2</coValue>\\r\\n\\t\\t\\t\\t\\t<o3Value>0.021</o3Value>\\r\\n\\t\\t\\t\\t\\t<no2Value>0.009</no2Value>\\r\\n\\t\\t\\t\\t\\t<pm10Value>7</pm10Value>\\r\\n\\t\\t\\t\\t\\t\\r\\n                        <pm10Value24>10</pm10Value24>\\r\\n                    \\r\\n\\t\\t\\t\\t\\t\\r\\n                        <pm25Value>4</pm25Value>\\r\\n                    \\r\\n                    \\r\\n                        <pm25Value24>7</pm25Value24>\\r\\n                    \\r\\n\\t\\t\\t\\t\\t<khaiValue>35</khaiValue>\\r\\n\\t\\t\\t\\t\\t<khaiGrade>1</khaiGrade>\\r\\n\\t\\t\\t\\t\\t<so2Grade>1</so2Grade>\\r\\n\\t\\t\\t\\t\\t<coGrade>1</coGrade>\\r\\n\\t\\t\\t\\t\\t<o3Grade>1</o3Grade>\\r\\n\\t\\t\\t\\t\\t<no2Grade>1</no2Grade>\\r\\n\\t\\t\\t\\t\\t<pm10Grade>1</pm10Grade>\\r\\n\\t\\t\\t\\t\\t\\r\\n                        <pm25Grade>1</pm25Grade>\\r\\n                    \\r\\n                    \\r\\n                        <pm10Grade1h>1</pm10Grade1h>\\r\\n                        <pm25Grade1h>1</pm25Grade1h>\\r\\n                    \\r\\n\\t\\t\\t\\t</item>\\r\\n\\t\\t\\t\\r\\n\\t\\t\\t\\t<item>\\r\\n\\t\\t\\t\\t\\t<dataTime>2019-06-10 05:00</dataTime>\\r\\n\\t\\t\\t\\t\\t\\r\\n                        <mangName>\\xeb\\x8f\\x84\\xec\\x8b\\x9c\\xeb\\x8c\\x80\\xea\\xb8\\xb0</mangName>\\r\\n                    \\r\\n\\t\\t\\t\\t\\t<so2Value>0.005</so2Value>\\r\\n\\t\\t\\t\\t\\t<coValue>0.2</coValue>\\r\\n\\t\\t\\t\\t\\t<o3Value>0.025</o3Value>\\r\\n\\t\\t\\t\\t\\t<no2Value>0.007</no2Value>\\r\\n\\t\\t\\t\\t\\t<pm10Value>9</pm10Value>\\r\\n\\t\\t\\t\\t\\t\\r\\n                        <pm10Value24>12</pm10Value24>\\r\\n                    \\r\\n\\t\\t\\t\\t\\t\\r\\n                        <pm25Value>4</pm25Value>\\r\\n                    \\r\\n                    \\r\\n                        <pm25Value24>8</pm25Value24>\\r\\n                    \\r\\n\\t\\t\\t\\t\\t<khaiValue>42</khaiValue>\\r\\n\\t\\t\\t\\t\\t<khaiGrade>1</khaiGrade>\\r\\n\\t\\t\\t\\t\\t<so2Grade>1</so2Grade>\\r\\n\\t\\t\\t\\t\\t<coGrade>1</coGrade>\\r\\n\\t\\t\\t\\t\\t<o3Grade>1</o3Grade>\\r\\n\\t\\t\\t\\t\\t<no2Grade>1</no2Grade>\\r\\n\\t\\t\\t\\t\\t<pm10Grade>1</pm10Grade>\\r\\n\\t\\t\\t\\t\\t\\r\\n                        <pm25Grade>1</pm25Grade>\\r\\n                    \\r\\n                    \\r\\n                        <pm10Grade1h>1</pm10Grade1h>\\r\\n                        <pm25Grade1h>1</pm25Grade1h>\\r\\n                    \\r\\n\\t\\t\\t\\t</item>\\r\\n\\t\\t\\t\\r\\n\\t\\t</items>\\r\\n\\t\\t\\t<numOfRows>10</numOfRows>\\r\\n\\t\\t\\t<pageNo>1</pageNo>\\r\\n\\t\\t\\t<totalCount>23</totalCount>\\r\\n\\t</body>\\r\\n</response>\\r\\n'"
      ]
     },
     "execution_count": 8,
     "metadata": {},
     "output_type": "execute_result"
    }
   ],
   "source": [
    "resp.content\n",
    "# 따라서 에러가 발생한다."
   ]
  },
  {
   "cell_type": "code",
   "execution_count": 9,
   "metadata": {},
   "outputs": [
    {
     "data": {
      "text/plain": [
       "'http://openapi.airkorea.or.kr/openapi/services/rest/ArpltnInforInqireSvc/getMsrstnAcctoRltmMesureDnsty?ServiceKey=aZKb3nJSN4%2Be4wBW%2BVZHZ%2BySzpYPWVtGhaUuA3egvIbW6QxqvMAujOkyzUtWD4fH129789KpCPhbdjYlXkFeYg%3D%3D&numOfRows=10&pageNo=1&stationName=%EA%B0%95%EB%82%A8%EA%B5%AC&dataTerm=daily&ver=1.3'"
      ]
     },
     "execution_count": 9,
     "metadata": {},
     "output_type": "execute_result"
    }
   ],
   "source": [
    "resp.request.url\n",
    "# %3D 가 %253D 로 바뀐 것을 확인 할 수 있다.\n",
    "# 위에서 오류를 수정하고 다시 돌립니다. "
   ]
  },
  {
   "cell_type": "code",
   "execution_count": null,
   "metadata": {},
   "outputs": [],
   "source": []
  },
  {
   "cell_type": "code",
   "execution_count": 10,
   "metadata": {},
   "outputs": [],
   "source": [
    "soup = BeautifulSoup(resp.content)"
   ]
  },
  {
   "cell_type": "code",
   "execution_count": 11,
   "metadata": {},
   "outputs": [
    {
     "data": {
      "text/plain": [
       "<?xml version=\"1.0\" encoding=\"UTF-8\"?><html><body><response>\n",
       "<header>\n",
       "<resultcode>00</resultcode>\n",
       "<resultmsg>NORMAL SERVICE.</resultmsg>\n",
       "</header>\n",
       "<items>\n",
       "<item>\n",
       "<datatime>2019-06-10 14:00</datatime>\n",
       "<mangname>도시대기</mangname>\n",
       "<so2value>0.004</so2value>\n",
       "<covalue>0.2</covalue>\n",
       "<o3value>0.023</o3value>\n",
       "<no2value>0.012</no2value>\n",
       "<pm10value>7</pm10value>\n",
       "<pm10value24>7</pm10value24>\n",
       "<pm25value>3</pm25value>\n",
       "<pm25value24>3</pm25value24>\n",
       "<khaivalue>38</khaivalue>\n",
       "<khaigrade>1</khaigrade>\n",
       "<so2grade>1</so2grade>\n",
       "<cograde>1</cograde>\n",
       "<o3grade>1</o3grade>\n",
       "<no2grade>1</no2grade>\n",
       "<pm10grade>1</pm10grade>\n",
       "<pm25grade>1</pm25grade>\n",
       "<pm10grade1h>1</pm10grade1h>\n",
       "<pm25grade1h>1</pm25grade1h>\n",
       "</item>\n",
       "<item>\n",
       "<datatime>2019-06-10 13:00</datatime>\n",
       "<mangname>도시대기</mangname>\n",
       "<so2value>0.005</so2value>\n",
       "<covalue>0.2</covalue>\n",
       "<o3value>0.023</o3value>\n",
       "<no2value>0.013</no2value>\n",
       "<pm10value>-</pm10value>\n",
       "<pm10value24>7</pm10value24>\n",
       "<pm25value>2</pm25value>\n",
       "<pm25value24>3</pm25value24>\n",
       "<khaivalue>38</khaivalue>\n",
       "<khaigrade>1</khaigrade>\n",
       "<so2grade>1</so2grade>\n",
       "<cograde>1</cograde>\n",
       "<o3grade>1</o3grade>\n",
       "<no2grade>1</no2grade>\n",
       "<pm10grade>1</pm10grade>\n",
       "<pm25grade>1</pm25grade>\n",
       "<pm10grade1h></pm10grade1h>\n",
       "<pm25grade1h>1</pm25grade1h>\n",
       "</item>\n",
       "<item>\n",
       "<datatime>2019-06-10 12:00</datatime>\n",
       "<mangname>도시대기</mangname>\n",
       "<so2value>0.005</so2value>\n",
       "<covalue>0.2</covalue>\n",
       "<o3value>0.019</o3value>\n",
       "<no2value>0.014</no2value>\n",
       "<pm10value>7</pm10value>\n",
       "<pm10value24>8</pm10value24>\n",
       "<pm25value>3</pm25value>\n",
       "<pm25value24>4</pm25value24>\n",
       "<khaivalue>32</khaivalue>\n",
       "<khaigrade>1</khaigrade>\n",
       "<so2grade>1</so2grade>\n",
       "<cograde>1</cograde>\n",
       "<o3grade>1</o3grade>\n",
       "<no2grade>1</no2grade>\n",
       "<pm10grade>1</pm10grade>\n",
       "<pm25grade>1</pm25grade>\n",
       "<pm10grade1h>1</pm10grade1h>\n",
       "<pm25grade1h>1</pm25grade1h>\n",
       "</item>\n",
       "<item>\n",
       "<datatime>2019-06-10 11:00</datatime>\n",
       "<mangname>도시대기</mangname>\n",
       "<so2value>0.004</so2value>\n",
       "<covalue>0.2</covalue>\n",
       "<o3value>0.016</o3value>\n",
       "<no2value>0.015</no2value>\n",
       "<pm10value>6</pm10value>\n",
       "<pm10value24>8</pm10value24>\n",
       "<pm25value>2</pm25value>\n",
       "<pm25value24>4</pm25value24>\n",
       "<khaivalue>27</khaivalue>\n",
       "<khaigrade>1</khaigrade>\n",
       "<so2grade>1</so2grade>\n",
       "<cograde>1</cograde>\n",
       "<o3grade>1</o3grade>\n",
       "<no2grade>1</no2grade>\n",
       "<pm10grade>1</pm10grade>\n",
       "<pm25grade>1</pm25grade>\n",
       "<pm10grade1h>1</pm10grade1h>\n",
       "<pm25grade1h>1</pm25grade1h>\n",
       "</item>\n",
       "<item>\n",
       "<datatime>2019-06-10 10:00</datatime>\n",
       "<mangname>도시대기</mangname>\n",
       "<so2value>0.004</so2value>\n",
       "<covalue>0.3</covalue>\n",
       "<o3value>0.015</o3value>\n",
       "<no2value>0.016</no2value>\n",
       "<pm10value>7</pm10value>\n",
       "<pm10value24>8</pm10value24>\n",
       "<pm25value>3</pm25value>\n",
       "<pm25value24>4</pm25value24>\n",
       "<khaivalue>27</khaivalue>\n",
       "<khaigrade>1</khaigrade>\n",
       "<so2grade>1</so2grade>\n",
       "<cograde>1</cograde>\n",
       "<o3grade>1</o3grade>\n",
       "<no2grade>1</no2grade>\n",
       "<pm10grade>1</pm10grade>\n",
       "<pm25grade>1</pm25grade>\n",
       "<pm10grade1h>1</pm10grade1h>\n",
       "<pm25grade1h>1</pm25grade1h>\n",
       "</item>\n",
       "<item>\n",
       "<datatime>2019-06-10 09:00</datatime>\n",
       "<mangname>도시대기</mangname>\n",
       "<so2value>0.004</so2value>\n",
       "<covalue>0.3</covalue>\n",
       "<o3value>0.010</o3value>\n",
       "<no2value>0.019</no2value>\n",
       "<pm10value>9</pm10value>\n",
       "<pm10value24>9</pm10value24>\n",
       "<pm25value>4</pm25value>\n",
       "<pm25value24>5</pm25value24>\n",
       "<khaivalue>32</khaivalue>\n",
       "<khaigrade>1</khaigrade>\n",
       "<so2grade>1</so2grade>\n",
       "<cograde>1</cograde>\n",
       "<o3grade>1</o3grade>\n",
       "<no2grade>1</no2grade>\n",
       "<pm10grade>1</pm10grade>\n",
       "<pm25grade>1</pm25grade>\n",
       "<pm10grade1h>1</pm10grade1h>\n",
       "<pm25grade1h>1</pm25grade1h>\n",
       "</item>\n",
       "<item>\n",
       "<datatime>2019-06-10 08:00</datatime>\n",
       "<mangname>도시대기</mangname>\n",
       "<so2value>0.003</so2value>\n",
       "<covalue>0.3</covalue>\n",
       "<o3value>0.012</o3value>\n",
       "<no2value>0.020</no2value>\n",
       "<pm10value>7</pm10value>\n",
       "<pm10value24>9</pm10value24>\n",
       "<pm25value>3</pm25value>\n",
       "<pm25value24>5</pm25value24>\n",
       "<khaivalue>33</khaivalue>\n",
       "<khaigrade>1</khaigrade>\n",
       "<so2grade>1</so2grade>\n",
       "<cograde>1</cograde>\n",
       "<o3grade>1</o3grade>\n",
       "<no2grade>1</no2grade>\n",
       "<pm10grade>1</pm10grade>\n",
       "<pm25grade>1</pm25grade>\n",
       "<pm10grade1h>1</pm10grade1h>\n",
       "<pm25grade1h>1</pm25grade1h>\n",
       "</item>\n",
       "<item>\n",
       "<datatime>2019-06-10 07:00</datatime>\n",
       "<mangname>도시대기</mangname>\n",
       "<so2value>0.005</so2value>\n",
       "<covalue>0.2</covalue>\n",
       "<o3value>0.012</o3value>\n",
       "<no2value>0.017</no2value>\n",
       "<pm10value>9</pm10value>\n",
       "<pm10value24>10</pm10value24>\n",
       "<pm25value>5</pm25value>\n",
       "<pm25value24>6</pm25value24>\n",
       "<khaivalue>28</khaivalue>\n",
       "<khaigrade>1</khaigrade>\n",
       "<so2grade>1</so2grade>\n",
       "<cograde>1</cograde>\n",
       "<o3grade>1</o3grade>\n",
       "<no2grade>1</no2grade>\n",
       "<pm10grade>1</pm10grade>\n",
       "<pm25grade>1</pm25grade>\n",
       "<pm10grade1h>1</pm10grade1h>\n",
       "<pm25grade1h>1</pm25grade1h>\n",
       "</item>\n",
       "<item>\n",
       "<datatime>2019-06-10 06:00</datatime>\n",
       "<mangname>도시대기</mangname>\n",
       "<so2value>0.004</so2value>\n",
       "<covalue>0.2</covalue>\n",
       "<o3value>0.021</o3value>\n",
       "<no2value>0.009</no2value>\n",
       "<pm10value>7</pm10value>\n",
       "<pm10value24>10</pm10value24>\n",
       "<pm25value>4</pm25value>\n",
       "<pm25value24>7</pm25value24>\n",
       "<khaivalue>35</khaivalue>\n",
       "<khaigrade>1</khaigrade>\n",
       "<so2grade>1</so2grade>\n",
       "<cograde>1</cograde>\n",
       "<o3grade>1</o3grade>\n",
       "<no2grade>1</no2grade>\n",
       "<pm10grade>1</pm10grade>\n",
       "<pm25grade>1</pm25grade>\n",
       "<pm10grade1h>1</pm10grade1h>\n",
       "<pm25grade1h>1</pm25grade1h>\n",
       "</item>\n",
       "<item>\n",
       "<datatime>2019-06-10 05:00</datatime>\n",
       "<mangname>도시대기</mangname>\n",
       "<so2value>0.005</so2value>\n",
       "<covalue>0.2</covalue>\n",
       "<o3value>0.025</o3value>\n",
       "<no2value>0.007</no2value>\n",
       "<pm10value>9</pm10value>\n",
       "<pm10value24>12</pm10value24>\n",
       "<pm25value>4</pm25value>\n",
       "<pm25value24>8</pm25value24>\n",
       "<khaivalue>42</khaivalue>\n",
       "<khaigrade>1</khaigrade>\n",
       "<so2grade>1</so2grade>\n",
       "<cograde>1</cograde>\n",
       "<o3grade>1</o3grade>\n",
       "<no2grade>1</no2grade>\n",
       "<pm10grade>1</pm10grade>\n",
       "<pm25grade>1</pm25grade>\n",
       "<pm10grade1h>1</pm10grade1h>\n",
       "<pm25grade1h>1</pm25grade1h>\n",
       "</item>\n",
       "</items>\n",
       "<numofrows>10</numofrows>\n",
       "<pageno>1</pageno>\n",
       "<totalcount>23</totalcount>\n",
       "</response>\n",
       "</body></html>"
      ]
     },
     "execution_count": 11,
     "metadata": {},
     "output_type": "execute_result"
    }
   ],
   "source": [
    "soup"
   ]
  },
  {
   "cell_type": "code",
   "execution_count": null,
   "metadata": {},
   "outputs": [],
   "source": []
  },
  {
   "cell_type": "markdown",
   "metadata": {},
   "source": [
    "# Json으로\n",
    "(&_returnType=json)"
   ]
  },
  {
   "cell_type": "code",
   "execution_count": 12,
   "metadata": {},
   "outputs": [],
   "source": [
    "params = {\n",
    "    'ServiceKey': MY_API_KEY, # 서비스키\n",
    "    'numOfRows': 10, # 한 페이지 결과 수\n",
    "    'pageNo':1, # 페이지 번호\n",
    "    'stationName':'강남구', # 측정소 명\n",
    "    'dataTerm': 'daily', # 데이터기간\n",
    "    'ver': '1.3', # 오퍼레이션 버전 \n",
    "    '_returnType': 'json'\n",
    "}"
   ]
  },
  {
   "cell_type": "code",
   "execution_count": 13,
   "metadata": {},
   "outputs": [
    {
     "data": {
      "text/plain": [
       "<Response [200]>"
      ]
     },
     "execution_count": 13,
     "metadata": {},
     "output_type": "execute_result"
    }
   ],
   "source": [
    "resp = requests.get(endpoint, params)\n",
    "resp"
   ]
  },
  {
   "cell_type": "code",
   "execution_count": 14,
   "metadata": {},
   "outputs": [],
   "source": [
    "# resp.content"
   ]
  },
  {
   "cell_type": "code",
   "execution_count": 15,
   "metadata": {},
   "outputs": [
    {
     "data": {
      "text/plain": [
       "{'list': [{'_returnType': 'json',\n",
       "   'coGrade': '1',\n",
       "   'coValue': '0.2',\n",
       "   'dataTerm': '',\n",
       "   'dataTime': '2019-06-10 14:00',\n",
       "   'khaiGrade': '1',\n",
       "   'khaiValue': '38',\n",
       "   'mangName': '도시대기',\n",
       "   'no2Grade': '1',\n",
       "   'no2Value': '0.012',\n",
       "   'numOfRows': '10',\n",
       "   'o3Grade': '1',\n",
       "   'o3Value': '0.023',\n",
       "   'pageNo': '1',\n",
       "   'pm10Grade': '1',\n",
       "   'pm10Grade1h': '1',\n",
       "   'pm10Value': '7',\n",
       "   'pm10Value24': '7',\n",
       "   'pm25Grade': '1',\n",
       "   'pm25Grade1h': '1',\n",
       "   'pm25Value': '3',\n",
       "   'pm25Value24': '3',\n",
       "   'resultCode': '',\n",
       "   'resultMsg': '',\n",
       "   'rnum': 0,\n",
       "   'serviceKey': '',\n",
       "   'sidoName': '',\n",
       "   'so2Grade': '1',\n",
       "   'so2Value': '0.004',\n",
       "   'stationCode': '',\n",
       "   'stationName': '',\n",
       "   'totalCount': '',\n",
       "   'ver': ''},\n",
       "  {'_returnType': 'json',\n",
       "   'coGrade': '1',\n",
       "   'coValue': '0.2',\n",
       "   'dataTerm': '',\n",
       "   'dataTime': '2019-06-10 13:00',\n",
       "   'khaiGrade': '1',\n",
       "   'khaiValue': '38',\n",
       "   'mangName': '도시대기',\n",
       "   'no2Grade': '1',\n",
       "   'no2Value': '0.013',\n",
       "   'numOfRows': '10',\n",
       "   'o3Grade': '1',\n",
       "   'o3Value': '0.023',\n",
       "   'pageNo': '1',\n",
       "   'pm10Grade': '1',\n",
       "   'pm10Grade1h': '',\n",
       "   'pm10Value': '-',\n",
       "   'pm10Value24': '7',\n",
       "   'pm25Grade': '1',\n",
       "   'pm25Grade1h': '1',\n",
       "   'pm25Value': '2',\n",
       "   'pm25Value24': '3',\n",
       "   'resultCode': '',\n",
       "   'resultMsg': '',\n",
       "   'rnum': 0,\n",
       "   'serviceKey': '',\n",
       "   'sidoName': '',\n",
       "   'so2Grade': '1',\n",
       "   'so2Value': '0.005',\n",
       "   'stationCode': '',\n",
       "   'stationName': '',\n",
       "   'totalCount': '',\n",
       "   'ver': ''},\n",
       "  {'_returnType': 'json',\n",
       "   'coGrade': '1',\n",
       "   'coValue': '0.2',\n",
       "   'dataTerm': '',\n",
       "   'dataTime': '2019-06-10 12:00',\n",
       "   'khaiGrade': '1',\n",
       "   'khaiValue': '32',\n",
       "   'mangName': '도시대기',\n",
       "   'no2Grade': '1',\n",
       "   'no2Value': '0.014',\n",
       "   'numOfRows': '10',\n",
       "   'o3Grade': '1',\n",
       "   'o3Value': '0.019',\n",
       "   'pageNo': '1',\n",
       "   'pm10Grade': '1',\n",
       "   'pm10Grade1h': '1',\n",
       "   'pm10Value': '7',\n",
       "   'pm10Value24': '8',\n",
       "   'pm25Grade': '1',\n",
       "   'pm25Grade1h': '1',\n",
       "   'pm25Value': '3',\n",
       "   'pm25Value24': '4',\n",
       "   'resultCode': '',\n",
       "   'resultMsg': '',\n",
       "   'rnum': 0,\n",
       "   'serviceKey': '',\n",
       "   'sidoName': '',\n",
       "   'so2Grade': '1',\n",
       "   'so2Value': '0.005',\n",
       "   'stationCode': '',\n",
       "   'stationName': '',\n",
       "   'totalCount': '',\n",
       "   'ver': ''},\n",
       "  {'_returnType': 'json',\n",
       "   'coGrade': '1',\n",
       "   'coValue': '0.2',\n",
       "   'dataTerm': '',\n",
       "   'dataTime': '2019-06-10 11:00',\n",
       "   'khaiGrade': '1',\n",
       "   'khaiValue': '27',\n",
       "   'mangName': '도시대기',\n",
       "   'no2Grade': '1',\n",
       "   'no2Value': '0.015',\n",
       "   'numOfRows': '10',\n",
       "   'o3Grade': '1',\n",
       "   'o3Value': '0.016',\n",
       "   'pageNo': '1',\n",
       "   'pm10Grade': '1',\n",
       "   'pm10Grade1h': '1',\n",
       "   'pm10Value': '6',\n",
       "   'pm10Value24': '8',\n",
       "   'pm25Grade': '1',\n",
       "   'pm25Grade1h': '1',\n",
       "   'pm25Value': '2',\n",
       "   'pm25Value24': '4',\n",
       "   'resultCode': '',\n",
       "   'resultMsg': '',\n",
       "   'rnum': 0,\n",
       "   'serviceKey': '',\n",
       "   'sidoName': '',\n",
       "   'so2Grade': '1',\n",
       "   'so2Value': '0.004',\n",
       "   'stationCode': '',\n",
       "   'stationName': '',\n",
       "   'totalCount': '',\n",
       "   'ver': ''},\n",
       "  {'_returnType': 'json',\n",
       "   'coGrade': '1',\n",
       "   'coValue': '0.3',\n",
       "   'dataTerm': '',\n",
       "   'dataTime': '2019-06-10 10:00',\n",
       "   'khaiGrade': '1',\n",
       "   'khaiValue': '27',\n",
       "   'mangName': '도시대기',\n",
       "   'no2Grade': '1',\n",
       "   'no2Value': '0.016',\n",
       "   'numOfRows': '10',\n",
       "   'o3Grade': '1',\n",
       "   'o3Value': '0.015',\n",
       "   'pageNo': '1',\n",
       "   'pm10Grade': '1',\n",
       "   'pm10Grade1h': '1',\n",
       "   'pm10Value': '7',\n",
       "   'pm10Value24': '8',\n",
       "   'pm25Grade': '1',\n",
       "   'pm25Grade1h': '1',\n",
       "   'pm25Value': '3',\n",
       "   'pm25Value24': '4',\n",
       "   'resultCode': '',\n",
       "   'resultMsg': '',\n",
       "   'rnum': 0,\n",
       "   'serviceKey': '',\n",
       "   'sidoName': '',\n",
       "   'so2Grade': '1',\n",
       "   'so2Value': '0.004',\n",
       "   'stationCode': '',\n",
       "   'stationName': '',\n",
       "   'totalCount': '',\n",
       "   'ver': ''},\n",
       "  {'_returnType': 'json',\n",
       "   'coGrade': '1',\n",
       "   'coValue': '0.3',\n",
       "   'dataTerm': '',\n",
       "   'dataTime': '2019-06-10 09:00',\n",
       "   'khaiGrade': '1',\n",
       "   'khaiValue': '32',\n",
       "   'mangName': '도시대기',\n",
       "   'no2Grade': '1',\n",
       "   'no2Value': '0.019',\n",
       "   'numOfRows': '10',\n",
       "   'o3Grade': '1',\n",
       "   'o3Value': '0.010',\n",
       "   'pageNo': '1',\n",
       "   'pm10Grade': '1',\n",
       "   'pm10Grade1h': '1',\n",
       "   'pm10Value': '9',\n",
       "   'pm10Value24': '9',\n",
       "   'pm25Grade': '1',\n",
       "   'pm25Grade1h': '1',\n",
       "   'pm25Value': '4',\n",
       "   'pm25Value24': '5',\n",
       "   'resultCode': '',\n",
       "   'resultMsg': '',\n",
       "   'rnum': 0,\n",
       "   'serviceKey': '',\n",
       "   'sidoName': '',\n",
       "   'so2Grade': '1',\n",
       "   'so2Value': '0.004',\n",
       "   'stationCode': '',\n",
       "   'stationName': '',\n",
       "   'totalCount': '',\n",
       "   'ver': ''},\n",
       "  {'_returnType': 'json',\n",
       "   'coGrade': '1',\n",
       "   'coValue': '0.3',\n",
       "   'dataTerm': '',\n",
       "   'dataTime': '2019-06-10 08:00',\n",
       "   'khaiGrade': '1',\n",
       "   'khaiValue': '33',\n",
       "   'mangName': '도시대기',\n",
       "   'no2Grade': '1',\n",
       "   'no2Value': '0.020',\n",
       "   'numOfRows': '10',\n",
       "   'o3Grade': '1',\n",
       "   'o3Value': '0.012',\n",
       "   'pageNo': '1',\n",
       "   'pm10Grade': '1',\n",
       "   'pm10Grade1h': '1',\n",
       "   'pm10Value': '7',\n",
       "   'pm10Value24': '9',\n",
       "   'pm25Grade': '1',\n",
       "   'pm25Grade1h': '1',\n",
       "   'pm25Value': '3',\n",
       "   'pm25Value24': '5',\n",
       "   'resultCode': '',\n",
       "   'resultMsg': '',\n",
       "   'rnum': 0,\n",
       "   'serviceKey': '',\n",
       "   'sidoName': '',\n",
       "   'so2Grade': '1',\n",
       "   'so2Value': '0.003',\n",
       "   'stationCode': '',\n",
       "   'stationName': '',\n",
       "   'totalCount': '',\n",
       "   'ver': ''},\n",
       "  {'_returnType': 'json',\n",
       "   'coGrade': '1',\n",
       "   'coValue': '0.2',\n",
       "   'dataTerm': '',\n",
       "   'dataTime': '2019-06-10 07:00',\n",
       "   'khaiGrade': '1',\n",
       "   'khaiValue': '28',\n",
       "   'mangName': '도시대기',\n",
       "   'no2Grade': '1',\n",
       "   'no2Value': '0.017',\n",
       "   'numOfRows': '10',\n",
       "   'o3Grade': '1',\n",
       "   'o3Value': '0.012',\n",
       "   'pageNo': '1',\n",
       "   'pm10Grade': '1',\n",
       "   'pm10Grade1h': '1',\n",
       "   'pm10Value': '9',\n",
       "   'pm10Value24': '10',\n",
       "   'pm25Grade': '1',\n",
       "   'pm25Grade1h': '1',\n",
       "   'pm25Value': '5',\n",
       "   'pm25Value24': '6',\n",
       "   'resultCode': '',\n",
       "   'resultMsg': '',\n",
       "   'rnum': 0,\n",
       "   'serviceKey': '',\n",
       "   'sidoName': '',\n",
       "   'so2Grade': '1',\n",
       "   'so2Value': '0.005',\n",
       "   'stationCode': '',\n",
       "   'stationName': '',\n",
       "   'totalCount': '',\n",
       "   'ver': ''},\n",
       "  {'_returnType': 'json',\n",
       "   'coGrade': '1',\n",
       "   'coValue': '0.2',\n",
       "   'dataTerm': '',\n",
       "   'dataTime': '2019-06-10 06:00',\n",
       "   'khaiGrade': '1',\n",
       "   'khaiValue': '35',\n",
       "   'mangName': '도시대기',\n",
       "   'no2Grade': '1',\n",
       "   'no2Value': '0.009',\n",
       "   'numOfRows': '10',\n",
       "   'o3Grade': '1',\n",
       "   'o3Value': '0.021',\n",
       "   'pageNo': '1',\n",
       "   'pm10Grade': '1',\n",
       "   'pm10Grade1h': '1',\n",
       "   'pm10Value': '7',\n",
       "   'pm10Value24': '10',\n",
       "   'pm25Grade': '1',\n",
       "   'pm25Grade1h': '1',\n",
       "   'pm25Value': '4',\n",
       "   'pm25Value24': '7',\n",
       "   'resultCode': '',\n",
       "   'resultMsg': '',\n",
       "   'rnum': 0,\n",
       "   'serviceKey': '',\n",
       "   'sidoName': '',\n",
       "   'so2Grade': '1',\n",
       "   'so2Value': '0.004',\n",
       "   'stationCode': '',\n",
       "   'stationName': '',\n",
       "   'totalCount': '',\n",
       "   'ver': ''},\n",
       "  {'_returnType': 'json',\n",
       "   'coGrade': '1',\n",
       "   'coValue': '0.2',\n",
       "   'dataTerm': '',\n",
       "   'dataTime': '2019-06-10 05:00',\n",
       "   'khaiGrade': '1',\n",
       "   'khaiValue': '42',\n",
       "   'mangName': '도시대기',\n",
       "   'no2Grade': '1',\n",
       "   'no2Value': '0.007',\n",
       "   'numOfRows': '10',\n",
       "   'o3Grade': '1',\n",
       "   'o3Value': '0.025',\n",
       "   'pageNo': '1',\n",
       "   'pm10Grade': '1',\n",
       "   'pm10Grade1h': '1',\n",
       "   'pm10Value': '9',\n",
       "   'pm10Value24': '12',\n",
       "   'pm25Grade': '1',\n",
       "   'pm25Grade1h': '1',\n",
       "   'pm25Value': '4',\n",
       "   'pm25Value24': '8',\n",
       "   'resultCode': '',\n",
       "   'resultMsg': '',\n",
       "   'rnum': 0,\n",
       "   'serviceKey': '',\n",
       "   'sidoName': '',\n",
       "   'so2Grade': '1',\n",
       "   'so2Value': '0.005',\n",
       "   'stationCode': '',\n",
       "   'stationName': '',\n",
       "   'totalCount': '',\n",
       "   'ver': ''}],\n",
       " 'parm': {'_returnType': 'json',\n",
       "  'coGrade': '',\n",
       "  'coValue': '',\n",
       "  'dataTerm': 'DAILY',\n",
       "  'dataTime': '',\n",
       "  'khaiGrade': '',\n",
       "  'khaiValue': '',\n",
       "  'mangName': '',\n",
       "  'no2Grade': '',\n",
       "  'no2Value': '',\n",
       "  'numOfRows': '10',\n",
       "  'o3Grade': '',\n",
       "  'o3Value': '',\n",
       "  'pageNo': '1',\n",
       "  'pm10Grade': '',\n",
       "  'pm10Grade1h': '',\n",
       "  'pm10Value': '',\n",
       "  'pm10Value24': '',\n",
       "  'pm25Grade': '',\n",
       "  'pm25Grade1h': '',\n",
       "  'pm25Value': '',\n",
       "  'pm25Value24': '',\n",
       "  'resultCode': '',\n",
       "  'resultMsg': '',\n",
       "  'rnum': 0,\n",
       "  'serviceKey': 'aZKb3nJSN4+e4wBW+VZHZ+ySzpYPWVtGhaUuA3egvIbW6QxqvMAujOkyzUtWD4fH129789KpCPhbdjYlXkFeYg==',\n",
       "  'sidoName': '',\n",
       "  'so2Grade': '',\n",
       "  'so2Value': '',\n",
       "  'stationCode': '',\n",
       "  'stationName': '강남구',\n",
       "  'totalCount': '',\n",
       "  'ver': '1.3'},\n",
       " 'ArpltnInforInqireSvcVo': {'_returnType': 'json',\n",
       "  'coGrade': '',\n",
       "  'coValue': '',\n",
       "  'dataTerm': 'DAILY',\n",
       "  'dataTime': '',\n",
       "  'khaiGrade': '',\n",
       "  'khaiValue': '',\n",
       "  'mangName': '',\n",
       "  'no2Grade': '',\n",
       "  'no2Value': '',\n",
       "  'numOfRows': '10',\n",
       "  'o3Grade': '',\n",
       "  'o3Value': '',\n",
       "  'pageNo': '1',\n",
       "  'pm10Grade': '',\n",
       "  'pm10Grade1h': '',\n",
       "  'pm10Value': '',\n",
       "  'pm10Value24': '',\n",
       "  'pm25Grade': '',\n",
       "  'pm25Grade1h': '',\n",
       "  'pm25Value': '',\n",
       "  'pm25Value24': '',\n",
       "  'resultCode': '',\n",
       "  'resultMsg': '',\n",
       "  'rnum': 0,\n",
       "  'serviceKey': 'aZKb3nJSN4+e4wBW+VZHZ+ySzpYPWVtGhaUuA3egvIbW6QxqvMAujOkyzUtWD4fH129789KpCPhbdjYlXkFeYg==',\n",
       "  'sidoName': '',\n",
       "  'so2Grade': '',\n",
       "  'so2Value': '',\n",
       "  'stationCode': '',\n",
       "  'stationName': '강남구',\n",
       "  'totalCount': '',\n",
       "  'ver': '1.3'},\n",
       " 'totalCount': 23}"
      ]
     },
     "execution_count": 15,
     "metadata": {},
     "output_type": "execute_result"
    }
   ],
   "source": [
    "resp.json()"
   ]
  },
  {
   "cell_type": "code",
   "execution_count": null,
   "metadata": {},
   "outputs": [],
   "source": []
  },
  {
   "cell_type": "code",
   "execution_count": null,
   "metadata": {},
   "outputs": [],
   "source": []
  },
  {
   "cell_type": "markdown",
   "metadata": {},
   "source": [
    "# 공공데이터 실습 "
   ]
  },
  {
   "cell_type": "markdown",
   "metadata": {},
   "source": [
    "# XML"
   ]
  },
  {
   "cell_type": "code",
   "execution_count": 16,
   "metadata": {},
   "outputs": [
    {
     "data": {
      "text/plain": [
       "'aZKb3nJSN4+e4wBW+VZHZ+ySzpYPWVtGhaUuA3egvIbW6QxqvMAujOkyzUtWD4fH129789KpCPhbdjYlXkFeYg=='"
      ]
     },
     "execution_count": 16,
     "metadata": {},
     "output_type": "execute_result"
    }
   ],
   "source": [
    "BASE_ENDPOINT = 'http://openapi.airkorea.or.kr/openapi/services/rest/ArpltnInforInqireSvc/'\n",
    "\n",
    "MY_API_KEY = 'aZKb3nJSN4%2Be4wBW%2BVZHZ%2BySzpYPWVtGhaUuA3egvIbW6QxqvMAujOkyzUtWD4fH129789KpCPhbdjYlXkFeYg%3D%3D'\n",
    "# 이미 encode가 되어있기 때문에, encoding이 두 번 일어나게된다. \n",
    "# 대문자는 바꾸지 말자라는 것을 의미한다.\n",
    "\n",
    "MY_API_KEY = urllib.parse.unquote(MY_API_KEY) # 따라서 unquote로 초기화 시켜줍니다. \n",
    "MY_API_KEY"
   ]
  },
  {
   "cell_type": "code",
   "execution_count": 17,
   "metadata": {},
   "outputs": [],
   "source": [
    "OPERATION2_NAME = 'getUnityAirEnvrnIdexSnstiveAboveMsrstnList'"
   ]
  },
  {
   "cell_type": "code",
   "execution_count": 18,
   "metadata": {},
   "outputs": [
    {
     "data": {
      "text/plain": [
       "'http://openapi.airkorea.or.kr/openapi/services/rest/ArpltnInforInqireSvc/getUnityAirEnvrnIdexSnstiveAboveMsrstnList'"
      ]
     },
     "execution_count": 18,
     "metadata": {},
     "output_type": "execute_result"
    }
   ],
   "source": [
    "endpoint = urllib.parse.urljoin(BASE_ENDPOINT, OPERATION2_NAME)\n",
    "endpoint"
   ]
  },
  {
   "cell_type": "code",
   "execution_count": 19,
   "metadata": {},
   "outputs": [],
   "source": [
    "params = {\n",
    "    'ServiceKey': MY_API_KEY, # 서비스키\n",
    "    'numOfRows': 10, # 한 페이지 결과 수\n",
    "    'pageNo':1, # 페이지 번호\n",
    "}"
   ]
  },
  {
   "cell_type": "code",
   "execution_count": 20,
   "metadata": {},
   "outputs": [
    {
     "data": {
      "text/plain": [
       "<Response [200]>"
      ]
     },
     "execution_count": 20,
     "metadata": {},
     "output_type": "execute_result"
    }
   ],
   "source": [
    "resp = requests.get(endpoint, params)\n",
    "resp"
   ]
  },
  {
   "cell_type": "code",
   "execution_count": 21,
   "metadata": {},
   "outputs": [
    {
     "data": {
      "text/plain": [
       "<?xml version=\"1.0\" encoding=\"UTF-8\"?><html><body><response>\n",
       "<header>\n",
       "<resultcode>00</resultcode>\n",
       "<resultmsg>NORMAL SERVICE.</resultmsg>\n",
       "</header>\n",
       "<items>\n",
       "</items>\n",
       "<numofrows>10</numofrows>\n",
       "<pageno>1</pageno>\n",
       "<totalcount>0</totalcount>\n",
       "</response>\n",
       "</body></html>"
      ]
     },
     "execution_count": 21,
     "metadata": {},
     "output_type": "execute_result"
    }
   ],
   "source": [
    "soup = BeautifulSoup(resp.content)\n",
    "soup"
   ]
  },
  {
   "cell_type": "markdown",
   "metadata": {},
   "source": [
    "# Json"
   ]
  },
  {
   "cell_type": "code",
   "execution_count": 22,
   "metadata": {},
   "outputs": [],
   "source": [
    "params = {\n",
    "    'ServiceKey': MY_API_KEY, # 서비스키\n",
    "    'numOfRows': 10, # 한 페이지 결과 수\n",
    "    'pageNo':1, # 페이지 번호\n",
    "    '_returnType': 'json'\n",
    "}"
   ]
  },
  {
   "cell_type": "code",
   "execution_count": 23,
   "metadata": {},
   "outputs": [
    {
     "data": {
      "text/plain": [
       "<Response [200]>"
      ]
     },
     "execution_count": 23,
     "metadata": {},
     "output_type": "execute_result"
    }
   ],
   "source": [
    "resp = requests.get(endpoint, params)\n",
    "resp"
   ]
  },
  {
   "cell_type": "code",
   "execution_count": 24,
   "metadata": {},
   "outputs": [
    {
     "data": {
      "text/plain": [
       "{'list': [],\n",
       " 'parm': {'_returnType': 'json',\n",
       "  'coGrade': '',\n",
       "  'coValue': '',\n",
       "  'dataTerm': '',\n",
       "  'dataTime': '',\n",
       "  'khaiGrade': '',\n",
       "  'khaiValue': '',\n",
       "  'mangName': '',\n",
       "  'no2Grade': '',\n",
       "  'no2Value': '',\n",
       "  'numOfRows': '10',\n",
       "  'o3Grade': '',\n",
       "  'o3Value': '',\n",
       "  'pageNo': '1',\n",
       "  'pm10Grade': '',\n",
       "  'pm10Grade1h': '',\n",
       "  'pm10Value': '',\n",
       "  'pm10Value24': '',\n",
       "  'pm25Grade': '',\n",
       "  'pm25Grade1h': '',\n",
       "  'pm25Value': '',\n",
       "  'pm25Value24': '',\n",
       "  'resultCode': '',\n",
       "  'resultMsg': '',\n",
       "  'rnum': 0,\n",
       "  'serviceKey': 'aZKb3nJSN4+e4wBW+VZHZ+ySzpYPWVtGhaUuA3egvIbW6QxqvMAujOkyzUtWD4fH129789KpCPhbdjYlXkFeYg==',\n",
       "  'sidoName': '',\n",
       "  'so2Grade': '',\n",
       "  'so2Value': '',\n",
       "  'stationCode': '',\n",
       "  'stationName': '',\n",
       "  'totalCount': '',\n",
       "  'ver': ''},\n",
       " 'ArpltnInforInqireSvcVo': {'_returnType': 'json',\n",
       "  'coGrade': '',\n",
       "  'coValue': '',\n",
       "  'dataTerm': '',\n",
       "  'dataTime': '',\n",
       "  'khaiGrade': '',\n",
       "  'khaiValue': '',\n",
       "  'mangName': '',\n",
       "  'no2Grade': '',\n",
       "  'no2Value': '',\n",
       "  'numOfRows': '10',\n",
       "  'o3Grade': '',\n",
       "  'o3Value': '',\n",
       "  'pageNo': '1',\n",
       "  'pm10Grade': '',\n",
       "  'pm10Grade1h': '',\n",
       "  'pm10Value': '',\n",
       "  'pm10Value24': '',\n",
       "  'pm25Grade': '',\n",
       "  'pm25Grade1h': '',\n",
       "  'pm25Value': '',\n",
       "  'pm25Value24': '',\n",
       "  'resultCode': '',\n",
       "  'resultMsg': '',\n",
       "  'rnum': 0,\n",
       "  'serviceKey': 'aZKb3nJSN4+e4wBW+VZHZ+ySzpYPWVtGhaUuA3egvIbW6QxqvMAujOkyzUtWD4fH129789KpCPhbdjYlXkFeYg==',\n",
       "  'sidoName': '',\n",
       "  'so2Grade': '',\n",
       "  'so2Value': '',\n",
       "  'stationCode': '',\n",
       "  'stationName': '',\n",
       "  'totalCount': '',\n",
       "  'ver': ''},\n",
       " 'totalCount': 0}"
      ]
     },
     "execution_count": 24,
     "metadata": {},
     "output_type": "execute_result"
    }
   ],
   "source": [
    "resp.json()"
   ]
  },
  {
   "cell_type": "markdown",
   "metadata": {},
   "source": [
    "## Function 만들기"
   ]
  },
  {
   "cell_type": "code",
   "execution_count": 25,
   "metadata": {},
   "outputs": [],
   "source": [
    "BASE_ENDPOINT = 'http://openapi.airkorea.or.kr/openapi/services/rest/ArpltnInforInqireSvc/'\n",
    "def get_measure(ServiceKey, numOfRows, pageNo, stationName, dataTerm, ver, _returnType):\n",
    "    OPERATION_NAME = 'getMsrstnAcctoRltmMesureDnsty'\n",
    "    endpoint = urllib.parse.urljoin(BASE_ENDPOINT, OPERATION_NAME)\n",
    "    \n",
    "    params = {\n",
    "        'ServiceKey': ServiceKey,\n",
    "        'numOfRows': numOfRows,\n",
    "        'pageNo': pageNo,\n",
    "        'stationName': stationName,\n",
    "        'dataTerm': dataTerm,\n",
    "        'ver': ver,\n",
    "        '_returnType': _returnType\n",
    "    }\n",
    "    \n",
    "    resp = requests.get(endpoint, params)\n",
    "    \n",
    "    if resp.status_code == 200:\n",
    "        return resp.content\n",
    "    \n",
    "    return False\n",
    "    "
   ]
  },
  {
   "cell_type": "code",
   "execution_count": 26,
   "metadata": {},
   "outputs": [],
   "source": [
    "measure_list = get_measure(MY_API_KEY, 10, 1, '강남구', 'month', '1.0', 'json')"
   ]
  },
  {
   "cell_type": "code",
   "execution_count": 27,
   "metadata": {},
   "outputs": [],
   "source": [
    "import json"
   ]
  },
  {
   "cell_type": "code",
   "execution_count": 28,
   "metadata": {},
   "outputs": [
    {
     "data": {
      "text/plain": [
       "{'list': [{'_returnType': 'json',\n",
       "   'coGrade': '1',\n",
       "   'coValue': '0.2',\n",
       "   'dataTerm': '',\n",
       "   'dataTime': '2019-06-10 14:00',\n",
       "   'khaiGrade': '1',\n",
       "   'khaiValue': '38',\n",
       "   'mangName': '도시대기',\n",
       "   'no2Grade': '1',\n",
       "   'no2Value': '0.012',\n",
       "   'numOfRows': '10',\n",
       "   'o3Grade': '1',\n",
       "   'o3Value': '0.023',\n",
       "   'pageNo': '1',\n",
       "   'pm10Grade': '1',\n",
       "   'pm10Grade1h': '1',\n",
       "   'pm10Value': '7',\n",
       "   'pm10Value24': '7',\n",
       "   'pm25Grade': '1',\n",
       "   'pm25Grade1h': '1',\n",
       "   'pm25Value': '3',\n",
       "   'pm25Value24': '3',\n",
       "   'resultCode': '',\n",
       "   'resultMsg': '',\n",
       "   'rnum': 0,\n",
       "   'serviceKey': '',\n",
       "   'sidoName': '',\n",
       "   'so2Grade': '1',\n",
       "   'so2Value': '0.004',\n",
       "   'stationCode': '',\n",
       "   'stationName': '',\n",
       "   'totalCount': '',\n",
       "   'ver': ''},\n",
       "  {'_returnType': 'json',\n",
       "   'coGrade': '1',\n",
       "   'coValue': '0.2',\n",
       "   'dataTerm': '',\n",
       "   'dataTime': '2019-06-10 13:00',\n",
       "   'khaiGrade': '1',\n",
       "   'khaiValue': '38',\n",
       "   'mangName': '도시대기',\n",
       "   'no2Grade': '1',\n",
       "   'no2Value': '0.013',\n",
       "   'numOfRows': '10',\n",
       "   'o3Grade': '1',\n",
       "   'o3Value': '0.023',\n",
       "   'pageNo': '1',\n",
       "   'pm10Grade': '1',\n",
       "   'pm10Grade1h': '',\n",
       "   'pm10Value': '-',\n",
       "   'pm10Value24': '7',\n",
       "   'pm25Grade': '1',\n",
       "   'pm25Grade1h': '1',\n",
       "   'pm25Value': '2',\n",
       "   'pm25Value24': '3',\n",
       "   'resultCode': '',\n",
       "   'resultMsg': '',\n",
       "   'rnum': 0,\n",
       "   'serviceKey': '',\n",
       "   'sidoName': '',\n",
       "   'so2Grade': '1',\n",
       "   'so2Value': '0.005',\n",
       "   'stationCode': '',\n",
       "   'stationName': '',\n",
       "   'totalCount': '',\n",
       "   'ver': ''},\n",
       "  {'_returnType': 'json',\n",
       "   'coGrade': '1',\n",
       "   'coValue': '0.2',\n",
       "   'dataTerm': '',\n",
       "   'dataTime': '2019-06-10 12:00',\n",
       "   'khaiGrade': '1',\n",
       "   'khaiValue': '32',\n",
       "   'mangName': '도시대기',\n",
       "   'no2Grade': '1',\n",
       "   'no2Value': '0.014',\n",
       "   'numOfRows': '10',\n",
       "   'o3Grade': '1',\n",
       "   'o3Value': '0.019',\n",
       "   'pageNo': '1',\n",
       "   'pm10Grade': '1',\n",
       "   'pm10Grade1h': '1',\n",
       "   'pm10Value': '7',\n",
       "   'pm10Value24': '8',\n",
       "   'pm25Grade': '1',\n",
       "   'pm25Grade1h': '1',\n",
       "   'pm25Value': '3',\n",
       "   'pm25Value24': '4',\n",
       "   'resultCode': '',\n",
       "   'resultMsg': '',\n",
       "   'rnum': 0,\n",
       "   'serviceKey': '',\n",
       "   'sidoName': '',\n",
       "   'so2Grade': '1',\n",
       "   'so2Value': '0.005',\n",
       "   'stationCode': '',\n",
       "   'stationName': '',\n",
       "   'totalCount': '',\n",
       "   'ver': ''},\n",
       "  {'_returnType': 'json',\n",
       "   'coGrade': '1',\n",
       "   'coValue': '0.2',\n",
       "   'dataTerm': '',\n",
       "   'dataTime': '2019-06-10 11:00',\n",
       "   'khaiGrade': '1',\n",
       "   'khaiValue': '27',\n",
       "   'mangName': '도시대기',\n",
       "   'no2Grade': '1',\n",
       "   'no2Value': '0.015',\n",
       "   'numOfRows': '10',\n",
       "   'o3Grade': '1',\n",
       "   'o3Value': '0.016',\n",
       "   'pageNo': '1',\n",
       "   'pm10Grade': '1',\n",
       "   'pm10Grade1h': '1',\n",
       "   'pm10Value': '6',\n",
       "   'pm10Value24': '8',\n",
       "   'pm25Grade': '1',\n",
       "   'pm25Grade1h': '1',\n",
       "   'pm25Value': '2',\n",
       "   'pm25Value24': '4',\n",
       "   'resultCode': '',\n",
       "   'resultMsg': '',\n",
       "   'rnum': 0,\n",
       "   'serviceKey': '',\n",
       "   'sidoName': '',\n",
       "   'so2Grade': '1',\n",
       "   'so2Value': '0.004',\n",
       "   'stationCode': '',\n",
       "   'stationName': '',\n",
       "   'totalCount': '',\n",
       "   'ver': ''},\n",
       "  {'_returnType': 'json',\n",
       "   'coGrade': '1',\n",
       "   'coValue': '0.3',\n",
       "   'dataTerm': '',\n",
       "   'dataTime': '2019-06-10 10:00',\n",
       "   'khaiGrade': '1',\n",
       "   'khaiValue': '27',\n",
       "   'mangName': '도시대기',\n",
       "   'no2Grade': '1',\n",
       "   'no2Value': '0.016',\n",
       "   'numOfRows': '10',\n",
       "   'o3Grade': '1',\n",
       "   'o3Value': '0.015',\n",
       "   'pageNo': '1',\n",
       "   'pm10Grade': '1',\n",
       "   'pm10Grade1h': '1',\n",
       "   'pm10Value': '7',\n",
       "   'pm10Value24': '8',\n",
       "   'pm25Grade': '1',\n",
       "   'pm25Grade1h': '1',\n",
       "   'pm25Value': '3',\n",
       "   'pm25Value24': '4',\n",
       "   'resultCode': '',\n",
       "   'resultMsg': '',\n",
       "   'rnum': 0,\n",
       "   'serviceKey': '',\n",
       "   'sidoName': '',\n",
       "   'so2Grade': '1',\n",
       "   'so2Value': '0.004',\n",
       "   'stationCode': '',\n",
       "   'stationName': '',\n",
       "   'totalCount': '',\n",
       "   'ver': ''},\n",
       "  {'_returnType': 'json',\n",
       "   'coGrade': '1',\n",
       "   'coValue': '0.3',\n",
       "   'dataTerm': '',\n",
       "   'dataTime': '2019-06-10 09:00',\n",
       "   'khaiGrade': '1',\n",
       "   'khaiValue': '32',\n",
       "   'mangName': '도시대기',\n",
       "   'no2Grade': '1',\n",
       "   'no2Value': '0.019',\n",
       "   'numOfRows': '10',\n",
       "   'o3Grade': '1',\n",
       "   'o3Value': '0.010',\n",
       "   'pageNo': '1',\n",
       "   'pm10Grade': '1',\n",
       "   'pm10Grade1h': '1',\n",
       "   'pm10Value': '9',\n",
       "   'pm10Value24': '9',\n",
       "   'pm25Grade': '1',\n",
       "   'pm25Grade1h': '1',\n",
       "   'pm25Value': '4',\n",
       "   'pm25Value24': '5',\n",
       "   'resultCode': '',\n",
       "   'resultMsg': '',\n",
       "   'rnum': 0,\n",
       "   'serviceKey': '',\n",
       "   'sidoName': '',\n",
       "   'so2Grade': '1',\n",
       "   'so2Value': '0.004',\n",
       "   'stationCode': '',\n",
       "   'stationName': '',\n",
       "   'totalCount': '',\n",
       "   'ver': ''},\n",
       "  {'_returnType': 'json',\n",
       "   'coGrade': '1',\n",
       "   'coValue': '0.3',\n",
       "   'dataTerm': '',\n",
       "   'dataTime': '2019-06-10 08:00',\n",
       "   'khaiGrade': '1',\n",
       "   'khaiValue': '33',\n",
       "   'mangName': '도시대기',\n",
       "   'no2Grade': '1',\n",
       "   'no2Value': '0.020',\n",
       "   'numOfRows': '10',\n",
       "   'o3Grade': '1',\n",
       "   'o3Value': '0.012',\n",
       "   'pageNo': '1',\n",
       "   'pm10Grade': '1',\n",
       "   'pm10Grade1h': '1',\n",
       "   'pm10Value': '7',\n",
       "   'pm10Value24': '9',\n",
       "   'pm25Grade': '1',\n",
       "   'pm25Grade1h': '1',\n",
       "   'pm25Value': '3',\n",
       "   'pm25Value24': '5',\n",
       "   'resultCode': '',\n",
       "   'resultMsg': '',\n",
       "   'rnum': 0,\n",
       "   'serviceKey': '',\n",
       "   'sidoName': '',\n",
       "   'so2Grade': '1',\n",
       "   'so2Value': '0.003',\n",
       "   'stationCode': '',\n",
       "   'stationName': '',\n",
       "   'totalCount': '',\n",
       "   'ver': ''},\n",
       "  {'_returnType': 'json',\n",
       "   'coGrade': '1',\n",
       "   'coValue': '0.2',\n",
       "   'dataTerm': '',\n",
       "   'dataTime': '2019-06-10 07:00',\n",
       "   'khaiGrade': '1',\n",
       "   'khaiValue': '28',\n",
       "   'mangName': '도시대기',\n",
       "   'no2Grade': '1',\n",
       "   'no2Value': '0.017',\n",
       "   'numOfRows': '10',\n",
       "   'o3Grade': '1',\n",
       "   'o3Value': '0.012',\n",
       "   'pageNo': '1',\n",
       "   'pm10Grade': '1',\n",
       "   'pm10Grade1h': '1',\n",
       "   'pm10Value': '9',\n",
       "   'pm10Value24': '10',\n",
       "   'pm25Grade': '1',\n",
       "   'pm25Grade1h': '1',\n",
       "   'pm25Value': '5',\n",
       "   'pm25Value24': '6',\n",
       "   'resultCode': '',\n",
       "   'resultMsg': '',\n",
       "   'rnum': 0,\n",
       "   'serviceKey': '',\n",
       "   'sidoName': '',\n",
       "   'so2Grade': '1',\n",
       "   'so2Value': '0.005',\n",
       "   'stationCode': '',\n",
       "   'stationName': '',\n",
       "   'totalCount': '',\n",
       "   'ver': ''},\n",
       "  {'_returnType': 'json',\n",
       "   'coGrade': '1',\n",
       "   'coValue': '0.2',\n",
       "   'dataTerm': '',\n",
       "   'dataTime': '2019-06-10 06:00',\n",
       "   'khaiGrade': '1',\n",
       "   'khaiValue': '35',\n",
       "   'mangName': '도시대기',\n",
       "   'no2Grade': '1',\n",
       "   'no2Value': '0.009',\n",
       "   'numOfRows': '10',\n",
       "   'o3Grade': '1',\n",
       "   'o3Value': '0.021',\n",
       "   'pageNo': '1',\n",
       "   'pm10Grade': '1',\n",
       "   'pm10Grade1h': '1',\n",
       "   'pm10Value': '7',\n",
       "   'pm10Value24': '10',\n",
       "   'pm25Grade': '1',\n",
       "   'pm25Grade1h': '1',\n",
       "   'pm25Value': '4',\n",
       "   'pm25Value24': '7',\n",
       "   'resultCode': '',\n",
       "   'resultMsg': '',\n",
       "   'rnum': 0,\n",
       "   'serviceKey': '',\n",
       "   'sidoName': '',\n",
       "   'so2Grade': '1',\n",
       "   'so2Value': '0.004',\n",
       "   'stationCode': '',\n",
       "   'stationName': '',\n",
       "   'totalCount': '',\n",
       "   'ver': ''},\n",
       "  {'_returnType': 'json',\n",
       "   'coGrade': '1',\n",
       "   'coValue': '0.2',\n",
       "   'dataTerm': '',\n",
       "   'dataTime': '2019-06-10 05:00',\n",
       "   'khaiGrade': '1',\n",
       "   'khaiValue': '42',\n",
       "   'mangName': '도시대기',\n",
       "   'no2Grade': '1',\n",
       "   'no2Value': '0.007',\n",
       "   'numOfRows': '10',\n",
       "   'o3Grade': '1',\n",
       "   'o3Value': '0.025',\n",
       "   'pageNo': '1',\n",
       "   'pm10Grade': '1',\n",
       "   'pm10Grade1h': '1',\n",
       "   'pm10Value': '9',\n",
       "   'pm10Value24': '12',\n",
       "   'pm25Grade': '1',\n",
       "   'pm25Grade1h': '1',\n",
       "   'pm25Value': '4',\n",
       "   'pm25Value24': '8',\n",
       "   'resultCode': '',\n",
       "   'resultMsg': '',\n",
       "   'rnum': 0,\n",
       "   'serviceKey': '',\n",
       "   'sidoName': '',\n",
       "   'so2Grade': '1',\n",
       "   'so2Value': '0.005',\n",
       "   'stationCode': '',\n",
       "   'stationName': '',\n",
       "   'totalCount': '',\n",
       "   'ver': ''}],\n",
       " 'parm': {'_returnType': 'json',\n",
       "  'coGrade': '',\n",
       "  'coValue': '',\n",
       "  'dataTerm': 'MONTH',\n",
       "  'dataTime': '',\n",
       "  'khaiGrade': '',\n",
       "  'khaiValue': '',\n",
       "  'mangName': '',\n",
       "  'no2Grade': '',\n",
       "  'no2Value': '',\n",
       "  'numOfRows': '10',\n",
       "  'o3Grade': '',\n",
       "  'o3Value': '',\n",
       "  'pageNo': '1',\n",
       "  'pm10Grade': '',\n",
       "  'pm10Grade1h': '',\n",
       "  'pm10Value': '',\n",
       "  'pm10Value24': '',\n",
       "  'pm25Grade': '',\n",
       "  'pm25Grade1h': '',\n",
       "  'pm25Value': '',\n",
       "  'pm25Value24': '',\n",
       "  'resultCode': '',\n",
       "  'resultMsg': '',\n",
       "  'rnum': 0,\n",
       "  'serviceKey': 'aZKb3nJSN4+e4wBW+VZHZ+ySzpYPWVtGhaUuA3egvIbW6QxqvMAujOkyzUtWD4fH129789KpCPhbdjYlXkFeYg==',\n",
       "  'sidoName': '',\n",
       "  'so2Grade': '',\n",
       "  'so2Value': '',\n",
       "  'stationCode': '',\n",
       "  'stationName': '강남구',\n",
       "  'totalCount': '',\n",
       "  'ver': '1.0'},\n",
       " 'ArpltnInforInqireSvcVo': {'_returnType': 'json',\n",
       "  'coGrade': '',\n",
       "  'coValue': '',\n",
       "  'dataTerm': 'MONTH',\n",
       "  'dataTime': '',\n",
       "  'khaiGrade': '',\n",
       "  'khaiValue': '',\n",
       "  'mangName': '',\n",
       "  'no2Grade': '',\n",
       "  'no2Value': '',\n",
       "  'numOfRows': '10',\n",
       "  'o3Grade': '',\n",
       "  'o3Value': '',\n",
       "  'pageNo': '1',\n",
       "  'pm10Grade': '',\n",
       "  'pm10Grade1h': '',\n",
       "  'pm10Value': '',\n",
       "  'pm10Value24': '',\n",
       "  'pm25Grade': '',\n",
       "  'pm25Grade1h': '',\n",
       "  'pm25Value': '',\n",
       "  'pm25Value24': '',\n",
       "  'resultCode': '',\n",
       "  'resultMsg': '',\n",
       "  'rnum': 0,\n",
       "  'serviceKey': 'aZKb3nJSN4+e4wBW+VZHZ+ySzpYPWVtGhaUuA3egvIbW6QxqvMAujOkyzUtWD4fH129789KpCPhbdjYlXkFeYg==',\n",
       "  'sidoName': '',\n",
       "  'so2Grade': '',\n",
       "  'so2Value': '',\n",
       "  'stationCode': '',\n",
       "  'stationName': '강남구',\n",
       "  'totalCount': '',\n",
       "  'ver': '1.0'},\n",
       " 'totalCount': 743}"
      ]
     },
     "execution_count": 28,
     "metadata": {},
     "output_type": "execute_result"
    }
   ],
   "source": [
    "json_list = json.loads(measure_list)\n",
    "json_list"
   ]
  },
  {
   "cell_type": "code",
   "execution_count": 29,
   "metadata": {},
   "outputs": [],
   "source": [
    "temp_dict = {\n",
    "    'name': 'jungho',\n",
    "    'location': 'Anyang',\n",
    "    'friends': ['철수', '영희']\n",
    "}"
   ]
  },
  {
   "cell_type": "code",
   "execution_count": 30,
   "metadata": {},
   "outputs": [
    {
     "data": {
      "text/plain": [
       "'{\"name\": \"jungho\", \"location\": \"Anyang\", \"friends\": [\"\\\\ucca0\\\\uc218\", \"\\\\uc601\\\\ud76c\"]}'"
      ]
     },
     "execution_count": 30,
     "metadata": {},
     "output_type": "execute_result"
    }
   ],
   "source": [
    "file = json.dumps(temp_dict)\n",
    "file\n",
    "# json.dumps >> json 파일로 만들어 준다."
   ]
  },
  {
   "cell_type": "markdown",
   "metadata": {},
   "source": [
    "# 실습"
   ]
  },
  {
   "cell_type": "code",
   "execution_count": 31,
   "metadata": {},
   "outputs": [
    {
     "data": {
      "text/plain": [
       "'aZKb3nJSN4+e4wBW+VZHZ+ySzpYPWVtGhaUuA3egvIbW6QxqvMAujOkyzUtWD4fH129789KpCPhbdjYlXkFeYg=='"
      ]
     },
     "execution_count": 31,
     "metadata": {},
     "output_type": "execute_result"
    }
   ],
   "source": [
    "BASE_ENDPOINT = 'http://apis.data.go.kr/B552061/frequentzoneTmzon/'\n",
    "\n",
    "MY_API_KEY = 'aZKb3nJSN4%2Be4wBW%2BVZHZ%2BySzpYPWVtGhaUuA3egvIbW6QxqvMAujOkyzUtWD4fH129789KpCPhbdjYlXkFeYg%3D%3D'\n",
    "# 이미 encode가 되어있기 때문에, encoding이 두 번 일어나게된다. \n",
    "# 대문자는 바꾸지 말자라는 것을 의미한다.\n",
    "\n",
    "MY_API_KEY = urllib.parse.unquote(MY_API_KEY) # 따라서 unquote로 초기화 시켜줍니다. \n",
    "MY_API_KEY"
   ]
  },
  {
   "cell_type": "code",
   "execution_count": 32,
   "metadata": {},
   "outputs": [],
   "source": [
    "OPERATION_NAME = 'getRestFrequentzoneTmzon'"
   ]
  },
  {
   "cell_type": "code",
   "execution_count": 33,
   "metadata": {},
   "outputs": [
    {
     "data": {
      "text/plain": [
       "'http://apis.data.go.kr/B552061/frequentzoneTmzon/getRestFrequentzoneTmzon'"
      ]
     },
     "execution_count": 33,
     "metadata": {},
     "output_type": "execute_result"
    }
   ],
   "source": [
    "endpoint = urllib.parse.urljoin(BASE_ENDPOINT, OPERATION_NAME)\n",
    "endpoint"
   ]
  },
  {
   "cell_type": "code",
   "execution_count": 34,
   "metadata": {},
   "outputs": [],
   "source": [
    "params = {\n",
    "    'ServiceKey': MY_API_KEY, # 서비스키\n",
    "    'searchYearCd': 2017, \n",
    "    'siDo': 11,\n",
    "    'guGun': 740,\n",
    "    'type': 'json',\n",
    "    'numOfRows': 10,\n",
    "    'pageNo': 1\n",
    "}"
   ]
  },
  {
   "cell_type": "code",
   "execution_count": 35,
   "metadata": {},
   "outputs": [],
   "source": [
    "resp = requests.get(endpoint, params)\n",
    "# resp"
   ]
  },
  {
   "cell_type": "code",
   "execution_count": 36,
   "metadata": {},
   "outputs": [],
   "source": [
    "soup = BeautifulSoup(resp.content)\n",
    "# soup"
   ]
  },
  {
   "cell_type": "code",
   "execution_count": 37,
   "metadata": {},
   "outputs": [
    {
     "data": {
      "text/plain": [
       "{'resultCode': '00',\n",
       " 'resultMsg': 'NORMAL_CODE',\n",
       " 'items': {'item': [{'afos_fid': 6474974,\n",
       "    'afos_id': '2018076',\n",
       "    'bjd_cd': '11740103',\n",
       "    'spot_cd': '11740001',\n",
       "    'sido_sgg_nm': '서울특별시 강동구1',\n",
       "    'spot_nm': '서울특별시 강동구 상일동(HTH택배앞 인근)',\n",
       "    'occrrnc_cnt': 5,\n",
       "    'caslt_cnt': 13,\n",
       "    'dth_dnv_cnt': 0,\n",
       "    'se_dnv_cnt': 0,\n",
       "    'sl_dnv_cnt': 12,\n",
       "    'wnd_dnv_cnt': 1,\n",
       "    'geom_json': '{\"type\":\"Polygon\",\"coordinates\":[[[127.183489582159,37.5422590815922],[127.183472321283,37.5421201229387],[127.18342120198,37.541986504144],[127.183338188736,37.5418633601456],[127.183226471704,37.5417554233609],[127.183090344107,37.5416668418143],[127.182935037251,37.5416010197189],[127.182766519493,37.5415604866437],[127.182591266875,37.5415468002942],[127.182416014257,37.5415604866437],[127.182247496499,37.5416010197189],[127.182092189643,37.5416668418143],[127.181956062046,37.5417554233609],[127.181844345014,37.5418633601456],[127.18176133177,37.541986504144],[127.181710212467,37.5421201229387],[127.181692951591,37.5422590815922],[127.181710212467,37.5423980399867],[127.18176133177,37.5425316580438],[127.181844345014,37.5426548009384],[127.181956062046,37.542762736421],[127.182092189643,37.5428513166656],[127.182247496499,37.5429171376572],[127.182416014257,37.5429576699948],[127.182591266875,37.5429713560853],[127.182766519493,37.5429576699948],[127.182935037251,37.5429171376572],[127.183090344107,37.5428513166656],[127.183226471704,37.542762736421],[127.183338188736,37.5426548009384],[127.18342120198,37.5425316580438],[127.183472321283,37.5423980399867],[127.183489582159,37.5422590815922]]]}',\n",
       "    'lo_crd': '127.182591266875',\n",
       "    'la_crd': '37.542259081592'}]},\n",
       " 'totalCount': 1,\n",
       " 'numOfRows': 1,\n",
       " 'pageNo': 1}"
      ]
     },
     "execution_count": 37,
     "metadata": {},
     "output_type": "execute_result"
    }
   ],
   "source": [
    "temp = resp.json()\n",
    "temp"
   ]
  },
  {
   "cell_type": "code",
   "execution_count": 55,
   "metadata": {
    "scrolled": false
   },
   "outputs": [
    {
     "data": {
      "text/plain": [
       "{'item': [{'afos_fid': 6474974,\n",
       "   'afos_id': '2018076',\n",
       "   'bjd_cd': '11740103',\n",
       "   'spot_cd': '11740001',\n",
       "   'sido_sgg_nm': '서울특별시 강동구1',\n",
       "   'spot_nm': '서울특별시 강동구 상일동(HTH택배앞 인근)',\n",
       "   'occrrnc_cnt': 5,\n",
       "   'caslt_cnt': 13,\n",
       "   'dth_dnv_cnt': 0,\n",
       "   'se_dnv_cnt': 0,\n",
       "   'sl_dnv_cnt': 12,\n",
       "   'wnd_dnv_cnt': 1,\n",
       "   'geom_json': '{\"type\":\"Polygon\",\"coordinates\":[[[127.183489582159,37.5422590815922],[127.183472321283,37.5421201229387],[127.18342120198,37.541986504144],[127.183338188736,37.5418633601456],[127.183226471704,37.5417554233609],[127.183090344107,37.5416668418143],[127.182935037251,37.5416010197189],[127.182766519493,37.5415604866437],[127.182591266875,37.5415468002942],[127.182416014257,37.5415604866437],[127.182247496499,37.5416010197189],[127.182092189643,37.5416668418143],[127.181956062046,37.5417554233609],[127.181844345014,37.5418633601456],[127.18176133177,37.541986504144],[127.181710212467,37.5421201229387],[127.181692951591,37.5422590815922],[127.181710212467,37.5423980399867],[127.18176133177,37.5425316580438],[127.181844345014,37.5426548009384],[127.181956062046,37.542762736421],[127.182092189643,37.5428513166656],[127.182247496499,37.5429171376572],[127.182416014257,37.5429576699948],[127.182591266875,37.5429713560853],[127.182766519493,37.5429576699948],[127.182935037251,37.5429171376572],[127.183090344107,37.5428513166656],[127.183226471704,37.542762736421],[127.183338188736,37.5426548009384],[127.18342120198,37.5425316580438],[127.183472321283,37.5423980399867],[127.183489582159,37.5422590815922]]]}',\n",
       "   'lo_crd': '127.182591266875',\n",
       "   'la_crd': '37.542259081592'}]}"
      ]
     },
     "execution_count": 55,
     "metadata": {},
     "output_type": "execute_result"
    }
   ],
   "source": [
    "items = temp['items']\n",
    "items"
   ]
  },
  {
   "cell_type": "code",
   "execution_count": 49,
   "metadata": {},
   "outputs": [],
   "source": [
    "import pandas as pd"
   ]
  },
  {
   "cell_type": "code",
   "execution_count": 56,
   "metadata": {},
   "outputs": [
    {
     "data": {
      "text/html": [
       "<div>\n",
       "<style scoped>\n",
       "    .dataframe tbody tr th:only-of-type {\n",
       "        vertical-align: middle;\n",
       "    }\n",
       "\n",
       "    .dataframe tbody tr th {\n",
       "        vertical-align: top;\n",
       "    }\n",
       "\n",
       "    .dataframe thead th {\n",
       "        text-align: right;\n",
       "    }\n",
       "</style>\n",
       "<table border=\"1\" class=\"dataframe\">\n",
       "  <thead>\n",
       "    <tr style=\"text-align: right;\">\n",
       "      <th></th>\n",
       "      <th>item</th>\n",
       "    </tr>\n",
       "  </thead>\n",
       "  <tbody>\n",
       "    <tr>\n",
       "      <th>0</th>\n",
       "      <td>{'afos_fid': 6474974, 'afos_id': '2018076', 'b...</td>\n",
       "    </tr>\n",
       "  </tbody>\n",
       "</table>\n",
       "</div>"
      ],
      "text/plain": [
       "                                                item\n",
       "0  {'afos_fid': 6474974, 'afos_id': '2018076', 'b..."
      ]
     },
     "execution_count": 56,
     "metadata": {},
     "output_type": "execute_result"
    }
   ],
   "source": [
    "temp_df = pd.DataFrame(items)\n",
    "temp_df"
   ]
  },
  {
   "cell_type": "code",
   "execution_count": 57,
   "metadata": {},
   "outputs": [],
   "source": [
    "temp_df.to_csv('temp_df.csv')"
   ]
  },
  {
   "cell_type": "code",
   "execution_count": null,
   "metadata": {},
   "outputs": [],
   "source": []
  },
  {
   "cell_type": "code",
   "execution_count": null,
   "metadata": {},
   "outputs": [],
   "source": []
  },
  {
   "cell_type": "code",
   "execution_count": null,
   "metadata": {},
   "outputs": [],
   "source": []
  },
  {
   "cell_type": "code",
   "execution_count": null,
   "metadata": {},
   "outputs": [],
   "source": []
  },
  {
   "cell_type": "code",
   "execution_count": null,
   "metadata": {},
   "outputs": [],
   "source": []
  },
  {
   "cell_type": "markdown",
   "metadata": {},
   "source": [
    "# 실습 2"
   ]
  },
  {
   "cell_type": "code",
   "execution_count": null,
   "metadata": {},
   "outputs": [],
   "source": [
    "BASE_ENDPOINT = 'http://apis.data.go.kr/1262000/AccidentService/'\n",
    "\n",
    "MY_API_KEY = 'aZKb3nJSN4%2Be4wBW%2BVZHZ%2BySzpYPWVtGhaUuA3egvIbW6QxqvMAujOkyzUtWD4fH129789KpCPhbdjYlXkFeYg%3D%3D'\n",
    "# 이미 encode가 되어있기 때문에, encoding이 두 번 일어나게된다. \n",
    "# 대문자는 바꾸지 말자라는 것을 의미한다.\n",
    "\n",
    "MY_API_KEY = urllib.parse.unquote(MY_API_KEY) # 따라서 unquote로 초기화 시켜줍니다. \n",
    "MY_API_KEY"
   ]
  },
  {
   "cell_type": "code",
   "execution_count": null,
   "metadata": {},
   "outputs": [],
   "source": [
    "OPERATION_NAME = 'getAccidentList'"
   ]
  },
  {
   "cell_type": "code",
   "execution_count": null,
   "metadata": {},
   "outputs": [],
   "source": [
    "endpoint = urllib.parse.urljoin(BASE_ENDPOINT, OPERATION_NAME)\n",
    "endpoint"
   ]
  },
  {
   "cell_type": "code",
   "execution_count": null,
   "metadata": {},
   "outputs": [],
   "source": [
    "params = {\n",
    "    'serviceKey': MY_API_KEY, # 서비스키\n",
    "    'numOfRows': 10, \n",
    "    'pageNo': 1,\n",
    "    'isoCode1': 'LBN',\n",
    "    'isoCode2': 'IRQ',\n",
    "#     'isoCode3': 'MEX'\n",
    "#     'isoCode4': 'KOR',\n",
    "#     'isoCode5': 'KOR',\n",
    "#     'isoCode6': 'KOR',\n",
    "#     'isoCode7': 'KOR',\n",
    "#     'isoCode8': 'KOR',\n",
    "#     'isoCode9': 'KOR',\n",
    "#     'isoCode10': 'KOR',\n",
    "}"
   ]
  },
  {
   "cell_type": "code",
   "execution_count": null,
   "metadata": {},
   "outputs": [],
   "source": [
    "resp = requests.get(endpoint, params)\n",
    "resp"
   ]
  },
  {
   "cell_type": "code",
   "execution_count": null,
   "metadata": {},
   "outputs": [],
   "source": [
    "soup = BeautifulSoup(resp.content)\n",
    "soup"
   ]
  },
  {
   "cell_type": "code",
   "execution_count": null,
   "metadata": {},
   "outputs": [],
   "source": []
  },
  {
   "cell_type": "code",
   "execution_count": null,
   "metadata": {},
   "outputs": [],
   "source": []
  }
 ],
 "metadata": {
  "kernelspec": {
   "display_name": "Python 3",
   "language": "python",
   "name": "python3"
  },
  "language_info": {
   "codemirror_mode": {
    "name": "ipython",
    "version": 3
   },
   "file_extension": ".py",
   "mimetype": "text/x-python",
   "name": "python",
   "nbconvert_exporter": "python",
   "pygments_lexer": "ipython3",
   "version": "3.7.3"
  }
 },
 "nbformat": 4,
 "nbformat_minor": 2
}
