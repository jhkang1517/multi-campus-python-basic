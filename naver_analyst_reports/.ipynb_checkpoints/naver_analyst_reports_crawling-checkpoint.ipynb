{
 "cells": [
  {
   "cell_type": "code",
   "execution_count": 1,
   "metadata": {},
   "outputs": [],
   "source": [
    "# 날짜, 증권사, 제목을 가진 pdf파일 생성\n",
    "# 각 파일을 text로 변환"
   ]
  },
  {
   "cell_type": "code",
   "execution_count": 2,
   "metadata": {},
   "outputs": [],
   "source": [
    "import requests\n",
    "from bs4 import BeautifulSoup\n",
    "import os\n",
    "import urllib.request"
   ]
  },
  {
   "cell_type": "code",
   "execution_count": 3,
   "metadata": {},
   "outputs": [],
   "source": [
    "BASE_DIR = os.getcwd()\n",
    "# BASE_DIR"
   ]
  },
  {
   "cell_type": "code",
   "execution_count": 4,
   "metadata": {},
   "outputs": [],
   "source": [
    "REPORTS_DIR = os.path.join(BASE_DIR, 'naver_analyst_reports')\n",
    "# Ex. 폴더명: guitar_picture_Acoustic\n",
    "if not os.path.exists(REPORTS_DIR):\n",
    "    os.makedirs(REPORTS_DIR)"
   ]
  },
  {
   "cell_type": "code",
   "execution_count": 5,
   "metadata": {},
   "outputs": [],
   "source": [
    "url = 'https://finance.naver.com/research/debenture_list.nhn?&page={}'.format('1')\n",
    "response = requests.get(url)\n",
    "# response\n",
    "# response.url\n",
    "# response.content"
   ]
  },
  {
   "cell_type": "code",
   "execution_count": 6,
   "metadata": {},
   "outputs": [],
   "source": [
    "soup = BeautifulSoup(response.content, 'html.parser')\n",
    "# soup"
   ]
  },
  {
   "cell_type": "code",
   "execution_count": 7,
   "metadata": {},
   "outputs": [
    {
     "data": {
      "text/plain": [
       "48"
      ]
     },
     "execution_count": 7,
     "metadata": {},
     "output_type": "execute_result"
    }
   ],
   "source": [
    "reports = soup.find('table', class_='type_1').find_all('tr')[1:]\n",
    "reports\n",
    "len(reports)"
   ]
  },
  {
   "cell_type": "code",
   "execution_count": 15,
   "metadata": {
    "scrolled": true
   },
   "outputs": [
    {
     "name": "stdout",
     "output_type": "stream",
     "text": [
      "19.07.10_하나금융투자_사모사채, 호형호부를 허하노라\n",
      "https://ssl.pstatic.net/imgstock/upload/research/debenture/1562721613116.pdf\n",
      "19.07.09_이베스트증권_BOJ, 現 통화완화정책은 지속된다\n",
      "https://ssl.pstatic.net/imgstock/upload/research/debenture/1562634658596.pdf\n",
      "19.07.02_하나금융투자_G20 회담 앞두고 지속된 미 금리인하 기대\n",
      "https://ssl.pstatic.net/imgstock/upload/research/debenture/1562031250296.pdf\n",
      "19.07.01_키움증권_미-중 무역협상, 그 이후는\n",
      "https://ssl.pstatic.net/imgstock/upload/research/debenture/1561947286411.pdf\n",
      "19.06.27_하나금융투자_미-중 협상 시나리오에 따른 채권전망\n",
      "https://ssl.pstatic.net/imgstock/upload/research/debenture/1561598797505.pdf\n",
      "19.06.26_교보증권_활주로에서 신호 기다리는 비둘기\n",
      "https://ssl.pstatic.net/imgstock/upload/research/debenture/1561512845757.pdf\n",
      "19.06.26_하나금융투자_이자보상배율을 분해하면\n",
      "https://ssl.pstatic.net/imgstock/upload/research/debenture/1561512262087.pdf\n",
      "19.06.25_미래에셋대우_빠르게 다가온 금리인하\n",
      "https://ssl.pstatic.net/imgstock/upload/research/debenture/1561427062366.pdf\n",
      "19.06.24_하나금융투자_글로벌 인하싸이클 진입에 환호하는 선진국\n",
      "https://ssl.pstatic.net/imgstock/upload/research/debenture/1561339871050.pdf\n",
      "19.06.20_미래에셋대우_연준이 쏜 화살, 한국은행도 인하에 동참할 것\n",
      "https://ssl.pstatic.net/imgstock/upload/research/debenture/1560995572271.pdf\n",
      "19.06.20_키움증권_연내 미 연 준 금리 인하 1~2 회 예상\n",
      "https://ssl.pstatic.net/imgstock/upload/research/debenture/1560995082146.pdf\n",
      "19.06.19_하나금융투자_참을 수 없는 저금리의 가벼움\n",
      "https://ssl.pstatic.net/imgstock/upload/research/debenture/1560907855579.pdf\n",
      "19.06.17_하나금융투자_미 금리인하 이후 자금흐름의 방향은\n",
      "https://ssl.pstatic.net/imgstock/upload/research/debenture/1560735735621.pdf\n",
      "19.06.14_미래에셋대우_건설채, 너무 걱정하지 말아요\n",
      "https://ssl.pstatic.net/imgstock/upload/research/debenture/1560483770555.pdf\n",
      "19.06.13_하나금융투자_채권금리 급락의 배경과 전망\n",
      "https://ssl.pstatic.net/imgstock/upload/research/debenture/1560388869420.pdf\n",
      "19.06.10_미래에셋대우_높아진 정책 기대감 속 외국인 수급 개선 기대\n",
      "https://ssl.pstatic.net/imgstock/upload/research/debenture/1560136359125.pdf\n",
      "19.06.10_미래에셋대우_인도, 경기부양 위한 금리인하 \n",
      "https://ssl.pstatic.net/imgstock/upload/research/debenture/1560136199105.pdf\n",
      "19.06.07_미래에셋대우_국민은행의 압도적인 CD 순발행\n",
      "https://ssl.pstatic.net/imgstock/upload/research/debenture/1559874541830.pdf\n",
      "19.06.05_하나금융투자_기준금리가 인하된다면\n",
      "https://ssl.pstatic.net/imgstock/upload/research/debenture/1559698481022.pdf\n",
      "19.05.29_IBK투자증권_인플레이션, 금리, 그리고 MMT\n",
      "https://ssl.pstatic.net/imgstock/upload/research/debenture/1559092249894.pdf\n",
      "19.05.24_하나금융투자_환율급등, 원화채권 시장은 안전한가\n",
      "https://ssl.pstatic.net/imgstock/upload/research/debenture/1558661092128.pdf\n",
      "19.05.15_하나금융투자_당분간 시장흐름을 좌우할 3대 변수\n",
      "https://ssl.pstatic.net/imgstock/upload/research/debenture/1557885377253.pdf\n",
      "19.05.15_하나금융투자_안전자산으로 도망 또 도망\n",
      "https://ssl.pstatic.net/imgstock/upload/research/debenture/1557885305651.pdf\n",
      "19.05.14_하나금융투자_미-중 협상 시나리오와 채권시장 전망\n",
      "https://ssl.pstatic.net/imgstock/upload/research/debenture/1557798989848.pdf\n",
      "19.05.09_미래에셋대우_미국채 장단기 역전이 또다시 눈앞에 다가왔으나…\n",
      "https://ssl.pstatic.net/imgstock/upload/research/debenture/1557366089266.pdf\n",
      "19.05.08_하나금융투자_신용스프레드, 추가축소 가능할까\n",
      "https://ssl.pstatic.net/imgstock/upload/research/debenture/1557278993213.pdf\n",
      "19.04.30_미래에셋대우_물가경로에 대한 우려 확대\n",
      "https://ssl.pstatic.net/imgstock/upload/research/debenture/1556594179101.pdf\n",
      "19.04.26_미래에셋대우_5월 신용스프레드는 강보합 전망\n",
      "https://ssl.pstatic.net/imgstock/upload/research/debenture/1556247096150.pdf\n",
      "19.04.26_하나금융투자_성장률 쇼크, 금리인하 전망 유지 \n",
      "https://ssl.pstatic.net/imgstock/upload/research/debenture/1556245207698.pdf\n",
      "19.04.22_미래에셋대우_인도네시아 대선 코멘트\n",
      "https://ssl.pstatic.net/imgstock/upload/research/debenture/1555903517353.pdf\n"
     ]
    }
   ],
   "source": [
    "# for문 준비 \n",
    "for td in reports:\n",
    "    filename = \"\"\n",
    "    \n",
    "    # date 코드\n",
    "    date = td.find('td', class_='date')\n",
    "    if date is not None:\n",
    "        date = date.text\n",
    "        # print(date)\n",
    "        filename += date\n",
    "        filename += '_'\n",
    "        # print(filename)\n",
    "        \n",
    "    # author 코드\n",
    "    author = td.find_all('td')\n",
    "    if len(author) == 5:\n",
    "        author = author[1].text\n",
    "#       print(len(author))\n",
    "#       print(author)\n",
    "        filename += author\n",
    "        filename += '_'\n",
    "        # print(filename)\n",
    "    \n",
    "    # title 코드 \n",
    "    title = td.find('td').find('a')\n",
    "    if title is not None:\n",
    "        title = title.text\n",
    "        filename += title\n",
    "        filename = filename.replace('?','')\n",
    "        # print(title)\n",
    "        print(filename)\n",
    "\n",
    "    # pdf 코드\n",
    "    pdf_href = td.find('td', class_='file')\n",
    "    if pdf_href is not None:\n",
    "        pdf_href = str(pdf_href.find('a')['href'])\n",
    "        # print(pdf_href)\n",
    "        # print(type(pdf_href))\n",
    "\n",
    "        pdf_url = pdf_href\n",
    "        print(pdf_url)\n",
    "        # URL of the image to be downloaded is defined as image_url \n",
    "        r = requests.get(pdf_url) # create HTTP response object \n",
    "\n",
    "        # send a HTTP request to the server and save \n",
    "        # the HTTP response in a response object called r \n",
    "        naver_reports_path = os.path.join(REPORTS_DIR, filename + '.pdf') \n",
    "        # with open(filename + '.pdf','wb') as f:\n",
    "        with open(naver_reports_path, 'wb') as f:\n",
    "            # write the contents of the response (r.content) \n",
    "            # to a new file in binary mode. \n",
    "            f.write(r.content)"
   ]
  },
  {
   "cell_type": "code",
   "execution_count": 16,
   "metadata": {},
   "outputs": [],
   "source": [
    "from PyPDF2 import PdfFileReader\n",
    "\n",
    "def getTextPDF(pdfFileName, password = ''):\n",
    "    pdf_file = open(pdfFileName, 'rb')\n",
    "    read_pdf = PdfFileReader(pdf_file)\n",
    "    \n",
    "    if password != '':\n",
    "        read_pdf.decrypt(password)\n",
    "        \n",
    "    text = []\n",
    "    for i in range(0, read_pdf.getNumPages()):\n",
    "        text.append(read_pdf.getPage(i).extractText())\n",
    "        \n",
    "    return '\\n'.join(text)"
   ]
  },
  {
   "cell_type": "code",
   "execution_count": 19,
   "metadata": {},
   "outputs": [
    {
     "ename": "FileNotFoundError",
     "evalue": "[Errno 2] No such file or directory: '19.04.22_미래에셋대우_인도네시아 대선 코멘트.pdf'",
     "output_type": "error",
     "traceback": [
      "\u001b[1;31m---------------------------------------------------------------------------\u001b[0m",
      "\u001b[1;31mFileNotFoundError\u001b[0m                         Traceback (most recent call last)",
      "\u001b[1;32m<ipython-input-19-25810fd23aa3>\u001b[0m in \u001b[0;36m<module>\u001b[1;34m\u001b[0m\n\u001b[0;32m      1\u001b[0m \u001b[0mpdfFile\u001b[0m \u001b[1;33m=\u001b[0m \u001b[1;34m'19.04.22_미래에셋대우_인도네시아 대선 코멘트.pdf'\u001b[0m\u001b[1;33m\u001b[0m\u001b[1;33m\u001b[0m\u001b[0m\n\u001b[1;32m----> 2\u001b[1;33m \u001b[0mgetTextPDF\u001b[0m\u001b[1;33m(\u001b[0m\u001b[0mpdfFile\u001b[0m\u001b[1;33m)\u001b[0m\u001b[1;33m\u001b[0m\u001b[1;33m\u001b[0m\u001b[0m\n\u001b[0m",
      "\u001b[1;32m<ipython-input-16-7c83a7543481>\u001b[0m in \u001b[0;36mgetTextPDF\u001b[1;34m(pdfFileName, password)\u001b[0m\n\u001b[0;32m      2\u001b[0m \u001b[1;33m\u001b[0m\u001b[0m\n\u001b[0;32m      3\u001b[0m \u001b[1;32mdef\u001b[0m \u001b[0mgetTextPDF\u001b[0m\u001b[1;33m(\u001b[0m\u001b[0mpdfFileName\u001b[0m\u001b[1;33m,\u001b[0m \u001b[0mpassword\u001b[0m \u001b[1;33m=\u001b[0m \u001b[1;34m''\u001b[0m\u001b[1;33m)\u001b[0m\u001b[1;33m:\u001b[0m\u001b[1;33m\u001b[0m\u001b[1;33m\u001b[0m\u001b[0m\n\u001b[1;32m----> 4\u001b[1;33m     \u001b[0mpdf_file\u001b[0m \u001b[1;33m=\u001b[0m \u001b[0mopen\u001b[0m\u001b[1;33m(\u001b[0m\u001b[0mpdfFileName\u001b[0m\u001b[1;33m,\u001b[0m \u001b[1;34m'rb'\u001b[0m\u001b[1;33m)\u001b[0m\u001b[1;33m\u001b[0m\u001b[1;33m\u001b[0m\u001b[0m\n\u001b[0m\u001b[0;32m      5\u001b[0m     \u001b[0mread_pdf\u001b[0m \u001b[1;33m=\u001b[0m \u001b[0mPdfFileReader\u001b[0m\u001b[1;33m(\u001b[0m\u001b[0mpdf_file\u001b[0m\u001b[1;33m)\u001b[0m\u001b[1;33m\u001b[0m\u001b[1;33m\u001b[0m\u001b[0m\n\u001b[0;32m      6\u001b[0m \u001b[1;33m\u001b[0m\u001b[0m\n",
      "\u001b[1;31mFileNotFoundError\u001b[0m: [Errno 2] No such file or directory: '19.04.22_미래에셋대우_인도네시아 대선 코멘트.pdf'"
     ]
    }
   ],
   "source": [
    "pdfFile = '19.04.22_미래에셋대우_인도네시아 대선 코멘트.pdf'\n",
    "getTextPDF(pdfFile)"
   ]
  },
  {
   "cell_type": "code",
   "execution_count": null,
   "metadata": {},
   "outputs": [],
   "source": []
  }
 ],
 "metadata": {
  "kernelspec": {
   "display_name": "Python 3",
   "language": "python",
   "name": "python3"
  },
  "language_info": {
   "codemirror_mode": {
    "name": "ipython",
    "version": 3
   },
   "file_extension": ".py",
   "mimetype": "text/x-python",
   "name": "python",
   "nbconvert_exporter": "python",
   "pygments_lexer": "ipython3",
   "version": "3.7.3"
  }
 },
 "nbformat": 4,
 "nbformat_minor": 2
}
