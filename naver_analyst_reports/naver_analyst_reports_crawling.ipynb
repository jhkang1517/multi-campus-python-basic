{
 "cells": [
  {
   "cell_type": "code",
   "execution_count": null,
   "metadata": {},
   "outputs": [],
   "source": [
    "# 날짜, 증권사, 제목을 가진 pdf파일 생성\n",
    "# 각 파일을 text로 변환"
   ]
  },
  {
   "cell_type": "code",
   "execution_count": null,
   "metadata": {},
   "outputs": [],
   "source": [
    "pip install pdfminer.six"
   ]
  },
  {
   "cell_type": "code",
   "execution_count": null,
   "metadata": {},
   "outputs": [],
   "source": [
    "import requests\n",
    "from bs4 import BeautifulSoup\n",
    "import os\n",
    "import urllib.request"
   ]
  },
  {
   "cell_type": "code",
   "execution_count": null,
   "metadata": {},
   "outputs": [],
   "source": [
    "BASE_DIR = os.getcwd()"
   ]
  },
  {
   "cell_type": "code",
   "execution_count": null,
   "metadata": {},
   "outputs": [],
   "source": [
    "REPORTS_DIR = BASE_DIR"
   ]
  },
  {
   "cell_type": "code",
   "execution_count": null,
   "metadata": {},
   "outputs": [],
   "source": [
    "url = 'https://finance.naver.com/research/debenture_list.nhn?&page={}'.format('1')\n",
    "response = requests.get(url)\n",
    "# response\n",
    "# response.url\n",
    "# response.content"
   ]
  },
  {
   "cell_type": "code",
   "execution_count": null,
   "metadata": {},
   "outputs": [],
   "source": [
    "soup = BeautifulSoup(response.content, 'html.parser')\n",
    "# soup"
   ]
  },
  {
   "cell_type": "code",
   "execution_count": null,
   "metadata": {},
   "outputs": [],
   "source": [
    "reports = soup.find('table', class_='type_1').find_all('tr')[1:]\n",
    "reports\n",
    "len(reports)"
   ]
  },
  {
   "cell_type": "code",
   "execution_count": null,
   "metadata": {
    "scrolled": false
   },
   "outputs": [],
   "source": [
    "pdf_list = []\n",
    "# for문 준비 \n",
    "for td in reports:\n",
    "    filename = \"\"\n",
    "    \n",
    "    # date 코드\n",
    "    date = td.find('td', class_='date')\n",
    "    if date is not None:\n",
    "        date = date.text\n",
    "        # print(date)\n",
    "        filename += date\n",
    "        filename += '_'\n",
    "        # print(filename)\n",
    "        \n",
    "    # author 코드\n",
    "    author = td.find_all('td')\n",
    "    if len(author) == 5:\n",
    "        author = author[1].text\n",
    "#       print(len(author))\n",
    "#       print(author)\n",
    "        filename += author\n",
    "        filename += '_'\n",
    "        # print(filename)\n",
    "    \n",
    "    # title 코드 \n",
    "    title = td.find('td').find('a')\n",
    "    if title is not None:\n",
    "        title = title.text\n",
    "        filename += title\n",
    "        filename = filename.replace('?','')\n",
    "        pdf_list.append(filename + '.pdf')\n",
    "        # print(title)\n",
    "        # print(filename)\n",
    "\n",
    "    # pdf 코드\n",
    "    pdf_href = td.find('td', class_='file')\n",
    "    if pdf_href is not None:\n",
    "        pdf_href = str(pdf_href.find('a')['href'])\n",
    "        # print(pdf_href)\n",
    "        # print(type(pdf_href))\n",
    "\n",
    "\n",
    "        pdf_url = pdf_href\n",
    "        print(pdf_url)\n",
    "        # URL of the image to be downloaded is defined as image_url \n",
    "        r = requests.get(pdf_url) # create HTTP response object \n",
    "\n",
    "        # send a HTTP request to the server and save \n",
    "        # the HTTP response in a response object called r \n",
    "        naver_reports_path = os.path.join(REPORTS_DIR, filename + '.pdf') \n",
    "        # with open(filename + '.pdf','wb') as f:\n",
    "        with open(naver_reports_path, 'wb') as f:\n",
    "            # write the contents of the response (r.content) \n",
    "            # to a new file in binary mode. \n",
    "            f.write(r.content)"
   ]
  },
  {
   "cell_type": "code",
   "execution_count": null,
   "metadata": {},
   "outputs": [],
   "source": [
    "pdf_list"
   ]
  },
  {
   "cell_type": "code",
   "execution_count": null,
   "metadata": {},
   "outputs": [],
   "source": [
    "from PyPDF2 import PdfFileReader\n",
    "\n",
    "def getTextPDF(pdfFileName, password = ''):\n",
    "    pdf_file = open(pdfFileName, 'rb')\n",
    "    read_pdf = PdfFileReader(pdf_file)\n",
    "    \n",
    "    if password != '':\n",
    "        read_pdf.decrypt(password)\n",
    "        \n",
    "    text = []\n",
    "    for i in range(0, read_pdf.getNumPages()):\n",
    "        text.append(read_pdf.getPage(i).extractText())\n",
    "        \n",
    "    return '\\n'.join(text)"
   ]
  },
  {
   "cell_type": "code",
   "execution_count": null,
   "metadata": {
    "scrolled": false
   },
   "outputs": [],
   "source": [
    "import sys\n",
    "from pdfminer.pdfinterp import PDFResourceManager, PDFPageInterpreter\n",
    "from pdfminer.pdfpage import PDFPage\n",
    "from pdfminer.converter import XMLConverter, HTMLConverter, TextConverter\n",
    "from pdfminer.layout import LAParams\n",
    "import io\n",
    "\n",
    "BASE_DIR = os.getcwd()\n",
    "REPORTS_DIR = BASE_DIR\n",
    "\n",
    "def pdfparser(data):\n",
    "    try:\n",
    "        fp = open(data, 'rb')\n",
    "        rsrcmgr = PDFResourceManager()\n",
    "        retstr = io.StringIO()\n",
    "        codec = 'utf-8'\n",
    "        laparams = LAParams()\n",
    "        device = TextConverter(rsrcmgr, retstr, codec=codec, laparams=laparams)\n",
    "        # Create a PDF interpreter object.\n",
    "        interpreter = PDFPageInterpreter(rsrcmgr, device)\n",
    "        # Process each page contained in the document.\n",
    "\n",
    "        for page in PDFPage.get_pages(fp):\n",
    "            interpreter.process_page(page)\n",
    "            data =  retstr.getvalue()\n",
    "            text_path = os.path.join(REPORTS_DIR, i + '.txt')\n",
    "            with open(text_path, 'w', encoding='utf-8') as f:\n",
    "                f.write(data)\n",
    "                \n",
    "    except Attribute Error:\n",
    "        pass\n",
    "    \n",
    "if __name__ == '__main__':\n",
    "    for i in pdf_list:\n",
    "        pdfparser(i)"
   ]
  }
 ],
 "metadata": {
  "kernelspec": {
   "display_name": "Python 3",
   "language": "python",
   "name": "python3"
  },
  "language_info": {
   "codemirror_mode": {
    "name": "ipython",
    "version": 3
   },
   "file_extension": ".py",
   "mimetype": "text/x-python",
   "name": "python",
   "nbconvert_exporter": "python",
   "pygments_lexer": "ipython3",
   "version": "3.7.3"
  }
 },
 "nbformat": 4,
 "nbformat_minor": 2
}
