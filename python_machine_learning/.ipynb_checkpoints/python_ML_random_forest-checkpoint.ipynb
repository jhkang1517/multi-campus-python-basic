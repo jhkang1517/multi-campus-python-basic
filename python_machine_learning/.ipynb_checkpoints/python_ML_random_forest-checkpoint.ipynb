{
 "cells": [
  {
   "cell_type": "markdown",
   "metadata": {},
   "source": [
    "# Bagging"
   ]
  },
  {
   "cell_type": "code",
   "execution_count": 63,
   "metadata": {},
   "outputs": [],
   "source": [
    "import os\n",
    "import pandas as pd\n",
    "import numpy as np\n",
    "from matplotlib import pyplot as plt\n",
    "import graphviz # pip install"
   ]
  },
  {
   "cell_type": "code",
   "execution_count": 64,
   "metadata": {},
   "outputs": [],
   "source": [
    "DATASET_DIR = os.path.join(os.path.dirname(os.getcwd()), 'datasets')"
   ]
  },
  {
   "cell_type": "code",
   "execution_count": 65,
   "metadata": {},
   "outputs": [],
   "source": [
    "red_file = os.path.join(DATASET_DIR, 'winequality-red.csv')\n",
    "white_file = os.path.join(DATASET_DIR, 'winequality-white.csv')"
   ]
  },
  {
   "cell_type": "code",
   "execution_count": 66,
   "metadata": {},
   "outputs": [],
   "source": [
    "wine_red = pd.read_csv(red_file, sep=';')\n",
    "wine_white = pd.read_csv(white_file, sep=';')"
   ]
  },
  {
   "cell_type": "code",
   "execution_count": 67,
   "metadata": {},
   "outputs": [
    {
     "data": {
      "text/plain": [
       "(1599, 4898)"
      ]
     },
     "execution_count": 67,
     "metadata": {},
     "output_type": "execute_result"
    }
   ],
   "source": [
    "len(wine_red), len(wine_white)"
   ]
  },
  {
   "cell_type": "code",
   "execution_count": 68,
   "metadata": {},
   "outputs": [],
   "source": [
    "from sklearn.ensemble import RandomForestClassifier\n",
    "from sklearn.datasets import make_classification"
   ]
  },
  {
   "cell_type": "markdown",
   "metadata": {},
   "source": [
    "## 1. Feature_n: 2(volatile acidity, sulphates), Binary Problem"
   ]
  },
  {
   "cell_type": "code",
   "execution_count": 69,
   "metadata": {},
   "outputs": [],
   "source": [
    "new_red = wine_red.copy()\n",
    "new_red['is_red'] = 1\n",
    "new_white = wine_white.copy()\n",
    "new_white['is_red'] = 0\n",
    "\n",
    "wine = new_red.append(new_white, ignore_index=True)"
   ]
  },
  {
   "cell_type": "code",
   "execution_count": 70,
   "metadata": {},
   "outputs": [],
   "source": [
    "X = wine[['volatile acidity', 'sulphates']]\n",
    "y = wine['is_red']"
   ]
  },
  {
   "cell_type": "markdown",
   "metadata": {},
   "source": [
    "### split train&test"
   ]
  },
  {
   "cell_type": "code",
   "execution_count": 71,
   "metadata": {},
   "outputs": [],
   "source": [
    "from sklearn.model_selection import train_test_split"
   ]
  },
  {
   "cell_type": "code",
   "execution_count": 72,
   "metadata": {},
   "outputs": [],
   "source": [
    "train_X, test_X, train_y, test_y = train_test_split(X, y, stratify=wine['is_red'], random_state=42)"
   ]
  },
  {
   "cell_type": "code",
   "execution_count": 73,
   "metadata": {},
   "outputs": [
    {
     "data": {
      "text/plain": [
       "DecisionTreeClassifier(class_weight=None, criterion='entropy', max_depth=None,\n",
       "            max_features=None, max_leaf_nodes=None,\n",
       "            min_impurity_decrease=0.0, min_impurity_split=None,\n",
       "            min_samples_leaf=1, min_samples_split=2,\n",
       "            min_weight_fraction_leaf=0.0, presort=False, random_state=0,\n",
       "            splitter='best')"
      ]
     },
     "execution_count": 73,
     "metadata": {},
     "output_type": "execute_result"
    }
   ],
   "source": [
    "from sklearn.ensemble import RandomForestClassifier\n",
    "from sklearn import tree\n",
    "\"\"\"\n",
    "RandomForestClassifier(n_estimators=’warn’, criterion=’gini’, max_depth=None, \n",
    "                       min_samples_split=2, min_samples_leaf=1, min_weight_fraction_leaf=0.0, \n",
    "                        max_features=’auto’, max_leaf_nodes=None, min_impurity_decrease=0.0, \n",
    "                        min_impurity_split=None, bootstrap=True, oob_score=False, n_jobs=None, \n",
    "                        random_state=None, verbose=0, warm_start=False, class_weight=None)\n",
    "                        \n",
    "# n_estimators : integer, optional (default=10)\n",
    "- The number of trees in the forest.\n",
    "\n",
    "# criterion : string, optional (default=”gini”)\n",
    "- The function to measure the quality of a split. \n",
    "- Supported criteria are “gini” for the Gini impurity and “entropy” for the information gain. \n",
    "Note: this parameter is tree-specific\n",
    "\n",
    "# max_depth: 최대 깊이\n",
    "# max_features: 최대 feature의 개수 default값이 none인데, 이는 기본적으로 feature전부가 들어간다.\n",
    "이렇게 되면 esemble을 돌려도 모든 tree의 모양이 큰 차이가 없어진다. 따라서 설정을 해주는 것이 좋다.\n",
    "# max_leaf_nodes: 최대 단계 노드의 수 제한\n",
    "# ... (decision Tree 상속)\n",
    "\n",
    "# bootstrap : boolean, optional (default=True)\n",
    "        Whether bootstrap samples are used when building trees. If False, the\n",
    "        whole datset is used to build each tree.\n",
    "        \n",
    "# oob_score : bool (default=False)\n",
    "        Whether to use out-of-bag samples to estimate\n",
    "        the generalization accuracy.\n",
    "        하나의 데이터가 어디에도 들어가지 않을 확률은 36.5%가 존재한다. \n",
    "        그러한 데이터들을 따로 모아 out-of-bag라고 부르며, 이 데이터를 사용함으로써\n",
    "        신뢰도를 높일 수 있다. \n",
    "        \n",
    "\"\"\"\n",
    "clf =  RandomForestClassifier(10, bootstrap=True, criterion='entropy', random_state=0, max_features='auto')\n",
    "clf1 = tree.DecisionTreeClassifier('entropy', random_state=0)\n",
    "# 맨 처음의 숫자 = 예측기(Classifier)의 숫자를 정해준다. 나무들(trees)을 몇개 만들 것인가?\n",
    "\n",
    "clf.fit(train_X, train_y)\n",
    "clf1.fit(train_X, train_y)"
   ]
  },
  {
   "cell_type": "code",
   "execution_count": 74,
   "metadata": {},
   "outputs": [
    {
     "name": "stdout",
     "output_type": "stream",
     "text": [
      "0.958743842364532\n",
      "0.9614121510673235\n"
     ]
    }
   ],
   "source": [
    "print(clf.score(train_X, train_y))\n",
    "print(clf1.score(train_X, train_y))"
   ]
  },
  {
   "cell_type": "code",
   "execution_count": 75,
   "metadata": {},
   "outputs": [
    {
     "name": "stdout",
     "output_type": "stream",
     "text": [
      "0.8929230769230769\n",
      "0.8966153846153846\n"
     ]
    }
   ],
   "source": [
    "print(clf.score(test_X, test_y))\n",
    "print(clf1.score(test_X, test_y))"
   ]
  },
  {
   "cell_type": "markdown",
   "metadata": {},
   "source": [
    "### attribute"
   ]
  },
  {
   "cell_type": "code",
   "execution_count": 76,
   "metadata": {},
   "outputs": [
    {
     "data": {
      "text/plain": [
       "[DecisionTreeClassifier(class_weight=None, criterion='entropy', max_depth=None,\n",
       "             max_features='auto', max_leaf_nodes=None,\n",
       "             min_impurity_decrease=0.0, min_impurity_split=None,\n",
       "             min_samples_leaf=1, min_samples_split=2,\n",
       "             min_weight_fraction_leaf=0.0, presort=False,\n",
       "             random_state=209652396, splitter='best'),\n",
       " DecisionTreeClassifier(class_weight=None, criterion='entropy', max_depth=None,\n",
       "             max_features='auto', max_leaf_nodes=None,\n",
       "             min_impurity_decrease=0.0, min_impurity_split=None,\n",
       "             min_samples_leaf=1, min_samples_split=2,\n",
       "             min_weight_fraction_leaf=0.0, presort=False,\n",
       "             random_state=398764591, splitter='best'),\n",
       " DecisionTreeClassifier(class_weight=None, criterion='entropy', max_depth=None,\n",
       "             max_features='auto', max_leaf_nodes=None,\n",
       "             min_impurity_decrease=0.0, min_impurity_split=None,\n",
       "             min_samples_leaf=1, min_samples_split=2,\n",
       "             min_weight_fraction_leaf=0.0, presort=False,\n",
       "             random_state=924231285, splitter='best'),\n",
       " DecisionTreeClassifier(class_weight=None, criterion='entropy', max_depth=None,\n",
       "             max_features='auto', max_leaf_nodes=None,\n",
       "             min_impurity_decrease=0.0, min_impurity_split=None,\n",
       "             min_samples_leaf=1, min_samples_split=2,\n",
       "             min_weight_fraction_leaf=0.0, presort=False,\n",
       "             random_state=1478610112, splitter='best'),\n",
       " DecisionTreeClassifier(class_weight=None, criterion='entropy', max_depth=None,\n",
       "             max_features='auto', max_leaf_nodes=None,\n",
       "             min_impurity_decrease=0.0, min_impurity_split=None,\n",
       "             min_samples_leaf=1, min_samples_split=2,\n",
       "             min_weight_fraction_leaf=0.0, presort=False,\n",
       "             random_state=441365315, splitter='best'),\n",
       " DecisionTreeClassifier(class_weight=None, criterion='entropy', max_depth=None,\n",
       "             max_features='auto', max_leaf_nodes=None,\n",
       "             min_impurity_decrease=0.0, min_impurity_split=None,\n",
       "             min_samples_leaf=1, min_samples_split=2,\n",
       "             min_weight_fraction_leaf=0.0, presort=False,\n",
       "             random_state=1537364731, splitter='best'),\n",
       " DecisionTreeClassifier(class_weight=None, criterion='entropy', max_depth=None,\n",
       "             max_features='auto', max_leaf_nodes=None,\n",
       "             min_impurity_decrease=0.0, min_impurity_split=None,\n",
       "             min_samples_leaf=1, min_samples_split=2,\n",
       "             min_weight_fraction_leaf=0.0, presort=False,\n",
       "             random_state=192771779, splitter='best'),\n",
       " DecisionTreeClassifier(class_weight=None, criterion='entropy', max_depth=None,\n",
       "             max_features='auto', max_leaf_nodes=None,\n",
       "             min_impurity_decrease=0.0, min_impurity_split=None,\n",
       "             min_samples_leaf=1, min_samples_split=2,\n",
       "             min_weight_fraction_leaf=0.0, presort=False,\n",
       "             random_state=1491434855, splitter='best'),\n",
       " DecisionTreeClassifier(class_weight=None, criterion='entropy', max_depth=None,\n",
       "             max_features='auto', max_leaf_nodes=None,\n",
       "             min_impurity_decrease=0.0, min_impurity_split=None,\n",
       "             min_samples_leaf=1, min_samples_split=2,\n",
       "             min_weight_fraction_leaf=0.0, presort=False,\n",
       "             random_state=1819583497, splitter='best'),\n",
       " DecisionTreeClassifier(class_weight=None, criterion='entropy', max_depth=None,\n",
       "             max_features='auto', max_leaf_nodes=None,\n",
       "             min_impurity_decrease=0.0, min_impurity_split=None,\n",
       "             min_samples_leaf=1, min_samples_split=2,\n",
       "             min_weight_fraction_leaf=0.0, presort=False,\n",
       "             random_state=530702035, splitter='best')]"
      ]
     },
     "execution_count": 76,
     "metadata": {},
     "output_type": "execute_result"
    }
   ],
   "source": [
    "# list of DecisionTreeClassifier\n",
    "clf.estimators_"
   ]
  },
  {
   "cell_type": "code",
   "execution_count": 77,
   "metadata": {},
   "outputs": [
    {
     "data": {
      "text/plain": [
       "array([0, 1], dtype=int64)"
      ]
     },
     "execution_count": 77,
     "metadata": {},
     "output_type": "execute_result"
    }
   ],
   "source": [
    "clf.classes_"
   ]
  },
  {
   "cell_type": "code",
   "execution_count": 78,
   "metadata": {},
   "outputs": [
    {
     "data": {
      "text/plain": [
       "2"
      ]
     },
     "execution_count": 78,
     "metadata": {},
     "output_type": "execute_result"
    }
   ],
   "source": [
    "# The number of features when fit is performed.\n",
    "clf.n_features_"
   ]
  },
  {
   "cell_type": "code",
   "execution_count": 79,
   "metadata": {},
   "outputs": [
    {
     "data": {
      "text/plain": [
       "array([0.59069184, 0.40930816])"
      ]
     },
     "execution_count": 79,
     "metadata": {},
     "output_type": "execute_result"
    }
   ],
   "source": [
    "clf.feature_importances_"
   ]
  },
  {
   "cell_type": "code",
   "execution_count": 80,
   "metadata": {},
   "outputs": [
    {
     "data": {
      "text/plain": [
       "False"
      ]
     },
     "execution_count": 80,
     "metadata": {},
     "output_type": "execute_result"
    }
   ],
   "source": [
    "# Score of the training dataset obtained using an out-of-bag estimate.\n",
    "clf.oob_score"
   ]
  },
  {
   "cell_type": "code",
   "execution_count": 81,
   "metadata": {},
   "outputs": [
    {
     "data": {
      "text/plain": [
       "array([0, 0, 0, ..., 0, 0, 0], dtype=int64)"
      ]
     },
     "execution_count": 81,
     "metadata": {},
     "output_type": "execute_result"
    }
   ],
   "source": [
    "clf.predict(test_X)"
   ]
  },
  {
   "cell_type": "code",
   "execution_count": 82,
   "metadata": {},
   "outputs": [
    {
     "data": {
      "text/plain": [
       "array([[1., 0.],\n",
       "       [1., 0.],\n",
       "       [1., 0.],\n",
       "       ...,\n",
       "       [1., 0.],\n",
       "       [1., 0.],\n",
       "       [1., 0.]])"
      ]
     },
     "execution_count": 82,
     "metadata": {},
     "output_type": "execute_result"
    }
   ],
   "source": [
    "clf.predict_proba(test_X)"
   ]
  },
  {
   "cell_type": "markdown",
   "metadata": {},
   "source": [
    "## Quality"
   ]
  },
  {
   "cell_type": "code",
   "execution_count": 83,
   "metadata": {},
   "outputs": [],
   "source": [
    "new_red = wine_red.copy()\n",
    "new_white = wine_white.copy()"
   ]
  },
  {
   "cell_type": "code",
   "execution_count": 84,
   "metadata": {},
   "outputs": [],
   "source": [
    "X = new_red.drop('quality', axis=1)\n",
    "y = new_red['quality']"
   ]
  },
  {
   "cell_type": "code",
   "execution_count": 85,
   "metadata": {},
   "outputs": [],
   "source": [
    "from sklearn.model_selection import train_test_split\n",
    "train_X, test_X, train_y, test_y = train_test_split(X, y, stratify=y, random_state=42, test_size=.2)"
   ]
  },
  {
   "cell_type": "code",
   "execution_count": 86,
   "metadata": {},
   "outputs": [
    {
     "data": {
      "text/plain": [
       "1542    6\n",
       "1558    5\n",
       "344     6\n",
       "924     5\n",
       "971     6\n",
       "Name: quality, dtype: int64"
      ]
     },
     "execution_count": 86,
     "metadata": {},
     "output_type": "execute_result"
    }
   ],
   "source": [
    "train_y.head()"
   ]
  },
  {
   "cell_type": "code",
   "execution_count": 87,
   "metadata": {},
   "outputs": [
    {
     "data": {
      "text/plain": [
       "RandomForestClassifier(bootstrap=True, class_weight=None, criterion='entropy',\n",
       "            max_depth=None, max_features='sqrt', max_leaf_nodes=None,\n",
       "            min_impurity_decrease=0.0, min_impurity_split=None,\n",
       "            min_samples_leaf=1, min_samples_split=2,\n",
       "            min_weight_fraction_leaf=0.0, n_estimators=5000, n_jobs=None,\n",
       "            oob_score=False, random_state=0, verbose=0, warm_start=False)"
      ]
     },
     "execution_count": 87,
     "metadata": {},
     "output_type": "execute_result"
    }
   ],
   "source": [
    "clf =  RandomForestClassifier(5000, criterion='entropy', random_state=0, max_features='sqrt')\n",
    "clf.fit(train_X, train_y)"
   ]
  },
  {
   "cell_type": "code",
   "execution_count": 88,
   "metadata": {},
   "outputs": [
    {
     "data": {
      "text/plain": [
       "1.0"
      ]
     },
     "execution_count": 88,
     "metadata": {},
     "output_type": "execute_result"
    }
   ],
   "source": [
    "clf.score(train_X, train_y)"
   ]
  },
  {
   "cell_type": "code",
   "execution_count": 89,
   "metadata": {},
   "outputs": [
    {
     "data": {
      "text/plain": [
       "0.6875"
      ]
     },
     "execution_count": 89,
     "metadata": {},
     "output_type": "execute_result"
    }
   ],
   "source": [
    "clf.score(test_X, test_y)"
   ]
  },
  {
   "cell_type": "markdown",
   "metadata": {},
   "source": [
    "# Grid Search"
   ]
  },
  {
   "cell_type": "code",
   "execution_count": 90,
   "metadata": {},
   "outputs": [
    {
     "data": {
      "text/plain": [
       "''"
      ]
     },
     "execution_count": 90,
     "metadata": {},
     "output_type": "execute_result"
    }
   ],
   "source": [
    "\"\"\"\n",
    "GridSearchCV(estimator, param_grid, scoring=None, n_jobs=None, iid=’warn’, refit=True, cv=’warn’, \n",
    "             verbose=0, pre_dispatch=‘2*n_jobs’, error_score=’raise-deprecating’, return_train_score=False)\n",
    "\n",
    "Exhaustive search over specified parameter values for an estimator.\n",
    "\n",
    "Important members are fit, predict.\n",
    "\n",
    "GridSearchCV implements a “fit” and a “score” method. It also implements “predict”, “predict_proba”, “decision_function”, “transform” and “inverse_transform” if they are implemented in the estimator used.\n",
    "\n",
    "The parameters of the estimator used to apply these methods are optimized by cross-validated grid-search over a parameter grid.\n",
    "\n",
    "\n",
    "\"\"\"\n",
    "\"\""
   ]
  },
  {
   "cell_type": "code",
   "execution_count": 96,
   "metadata": {
    "scrolled": true
   },
   "outputs": [
    {
     "data": {
      "text/plain": [
       "GridSearchCV(cv=5, error_score='raise-deprecating',\n",
       "       estimator=RandomForestClassifier(bootstrap=True, class_weight=None, criterion='gini',\n",
       "            max_depth=None, max_features='auto', max_leaf_nodes=None,\n",
       "            min_impurity_decrease=0.0, min_impurity_split=None,\n",
       "            min_samples_leaf=1, min_samples_split=2,\n",
       "            min_weight_fraction_leaf=0.0, n_estimators='warn', n_jobs=None,\n",
       "            oob_score=False, random_state=42, verbose=0, warm_start=False),\n",
       "       fit_params=None, iid='warn', n_jobs=None,\n",
       "       param_grid={'n_estimators': [200, 400, 600, 800], 'max_features': ['sqrt', 'log2'], 'max_depth': [20, 25, 35, 40], 'criterion': ['gini', 'entropy']},\n",
       "       pre_dispatch='2*n_jobs', refit=True, return_train_score='warn',\n",
       "       scoring=None, verbose=0)"
      ]
     },
     "execution_count": 96,
     "metadata": {},
     "output_type": "execute_result"
    }
   ],
   "source": [
    "# feature_len/3\n",
    "from sklearn.model_selection import GridSearchCV\n",
    "\n",
    "clf = RandomForestClassifier(random_state=42)\n",
    "\n",
    "\n",
    "param_grid = { \n",
    "    'n_estimators': [200, 400, 600, 800],\n",
    "    'max_features': ['sqrt','log2'],\n",
    "    'max_depth' : [20, 25, 35, 40],\n",
    "    'criterion' :['gini', 'entropy']\n",
    "}\n",
    "CV_clf = GridSearchCV(estimator=clf, param_grid=param_grid, cv= 5)\n",
    "\n",
    "\n",
    "CV_clf.fit(train_X, train_y)"
   ]
  },
  {
   "cell_type": "code",
   "execution_count": 98,
   "metadata": {},
   "outputs": [
    {
     "data": {
      "text/plain": [
       "RandomForestClassifier(bootstrap=True, class_weight=None, criterion='gini',\n",
       "            max_depth=20, max_features='sqrt', max_leaf_nodes=None,\n",
       "            min_impurity_decrease=0.0, min_impurity_split=None,\n",
       "            min_samples_leaf=1, min_samples_split=2,\n",
       "            min_weight_fraction_leaf=0.0, n_estimators=800, n_jobs=None,\n",
       "            oob_score=False, random_state=42, verbose=0, warm_start=False)"
      ]
     },
     "execution_count": 98,
     "metadata": {},
     "output_type": "execute_result"
    }
   ],
   "source": [
    "CV_clf.best_estimator_"
   ]
  },
  {
   "cell_type": "code",
   "execution_count": 97,
   "metadata": {
    "scrolled": true
   },
   "outputs": [
    {
     "name": "stderr",
     "output_type": "stream",
     "text": [
      "C:\\ProgramData\\Anaconda3\\lib\\site-packages\\sklearn\\utils\\deprecation.py:125: FutureWarning: You are accessing a training score ('split0_train_score'), which will not be available by default any more in 0.21. If you need training scores, please set return_train_score=True\n",
      "  warnings.warn(*warn_args, **warn_kwargs)\n",
      "C:\\ProgramData\\Anaconda3\\lib\\site-packages\\sklearn\\utils\\deprecation.py:125: FutureWarning: You are accessing a training score ('split1_train_score'), which will not be available by default any more in 0.21. If you need training scores, please set return_train_score=True\n",
      "  warnings.warn(*warn_args, **warn_kwargs)\n",
      "C:\\ProgramData\\Anaconda3\\lib\\site-packages\\sklearn\\utils\\deprecation.py:125: FutureWarning: You are accessing a training score ('split2_train_score'), which will not be available by default any more in 0.21. If you need training scores, please set return_train_score=True\n",
      "  warnings.warn(*warn_args, **warn_kwargs)\n",
      "C:\\ProgramData\\Anaconda3\\lib\\site-packages\\sklearn\\utils\\deprecation.py:125: FutureWarning: You are accessing a training score ('split3_train_score'), which will not be available by default any more in 0.21. If you need training scores, please set return_train_score=True\n",
      "  warnings.warn(*warn_args, **warn_kwargs)\n",
      "C:\\ProgramData\\Anaconda3\\lib\\site-packages\\sklearn\\utils\\deprecation.py:125: FutureWarning: You are accessing a training score ('split4_train_score'), which will not be available by default any more in 0.21. If you need training scores, please set return_train_score=True\n",
      "  warnings.warn(*warn_args, **warn_kwargs)\n",
      "C:\\ProgramData\\Anaconda3\\lib\\site-packages\\sklearn\\utils\\deprecation.py:125: FutureWarning: You are accessing a training score ('mean_train_score'), which will not be available by default any more in 0.21. If you need training scores, please set return_train_score=True\n",
      "  warnings.warn(*warn_args, **warn_kwargs)\n",
      "C:\\ProgramData\\Anaconda3\\lib\\site-packages\\sklearn\\utils\\deprecation.py:125: FutureWarning: You are accessing a training score ('std_train_score'), which will not be available by default any more in 0.21. If you need training scores, please set return_train_score=True\n",
      "  warnings.warn(*warn_args, **warn_kwargs)\n"
     ]
    },
    {
     "data": {
      "text/plain": [
       "{'mean_fit_time': array([0.45402608, 0.84464831, 1.17726731, 1.52108703, 0.46322646,\n",
       "        0.83064747, 1.16406655, 1.51308641, 0.45562606, 0.83664784,\n",
       "        1.16266651, 1.51328645, 0.45302591, 0.82864738, 1.16986699,\n",
       "        1.51368656, 0.45082574, 0.83024755, 1.17506723, 1.52348714,\n",
       "        0.45282593, 0.83084745, 1.18346777, 1.52168694, 0.45482612,\n",
       "        0.82944741, 1.17586708, 1.55428886, 0.46822677, 0.88325052,\n",
       "        1.19426832, 1.51308661, 0.6194356 , 1.18386769, 1.68229613,\n",
       "        2.18352485, 0.61743546, 1.15586619, 1.69189682, 2.18512487,\n",
       "        0.61683521, 1.15426598, 1.67649584, 2.18092484, 0.6258359 ,\n",
       "        1.16846681, 1.67709584, 2.18752508, 0.61863551, 1.19866858,\n",
       "        1.67969599, 2.19232545, 0.62623582, 1.15466609, 1.67469587,\n",
       "        2.2197269 , 0.63203611, 1.19126816, 1.67449594, 2.18432488,\n",
       "        0.61723528, 1.18346763, 1.69029651, 2.20372605]),\n",
       " 'std_fit_time': array([0.00244955, 0.02266938, 0.03323081, 0.02094884, 0.01278203,\n",
       "        0.01533184, 0.00547754, 0.0105268 , 0.00135667, 0.01177525,\n",
       "        0.01174109, 0.01864939, 0.00540398, 0.00628047, 0.00810972,\n",
       "        0.01651274, 0.00299343, 0.01119709, 0.01253864, 0.01612052,\n",
       "        0.00457844, 0.01763518, 0.01081919, 0.02547772, 0.00231526,\n",
       "        0.01078214, 0.02704511, 0.02246379, 0.01412032, 0.00556456,\n",
       "        0.00990811, 0.00532942, 0.00338247, 0.01410616, 0.01588039,\n",
       "        0.01552642, 0.00241667, 0.00248212, 0.02349097, 0.01798992,\n",
       "        0.00370958, 0.00818327, 0.00796542, 0.00530691, 0.01519833,\n",
       "        0.02250996, 0.01667435, 0.01965417, 0.00224513, 0.01347075,\n",
       "        0.01501547, 0.01244906, 0.01556239, 0.01076355, 0.02211555,\n",
       "        0.04312366, 0.01531113, 0.0152771 , 0.00811473, 0.01270352,\n",
       "        0.00386802, 0.00706005, 0.01853109, 0.01476027]),\n",
       " 'mean_score_time': array([0.01860094, 0.03580203, 0.05280304, 0.07080407, 0.01840096,\n",
       "        0.03580213, 0.05300307, 0.07080407, 0.01860099, 0.03580203,\n",
       "        0.05300303, 0.07000408, 0.01820107, 0.03540211, 0.05280299,\n",
       "        0.07780447, 0.01860099, 0.03580194, 0.05280294, 0.0704041 ,\n",
       "        0.01900101, 0.03540211, 0.05320301, 0.06980405, 0.01820087,\n",
       "        0.03540196, 0.06120362, 0.07000399, 0.01860099, 0.03560214,\n",
       "        0.05300312, 0.07040401, 0.01820092, 0.03520203, 0.05240297,\n",
       "        0.069804  , 0.01820092, 0.03600192, 0.05300298, 0.06960406,\n",
       "        0.01820107, 0.03560205, 0.05300317, 0.06980391, 0.01840096,\n",
       "        0.03560214, 0.05360303, 0.06920385, 0.01780086, 0.03580203,\n",
       "        0.05240297, 0.06920385, 0.01840105, 0.03540201, 0.05280294,\n",
       "        0.07060409, 0.01860118, 0.03520203, 0.05300298, 0.06980395,\n",
       "        0.01840096, 0.03560205, 0.06100359, 0.069204  ]),\n",
       " 'std_score_time': array([4.89979242e-04, 3.99899493e-04, 3.99947206e-04, 4.00042545e-04,\n",
       "        4.90037648e-04, 4.00066404e-04, 6.32409710e-04, 7.48379208e-04,\n",
       "        4.89920847e-04, 4.00018706e-04, 6.32560488e-04, 6.32560492e-04,\n",
       "        3.99971037e-04, 4.89842988e-04, 4.00042573e-04, 1.51190841e-02,\n",
       "        4.89920847e-04, 7.48404683e-04, 7.48366451e-04, 1.35646611e-03,\n",
       "        0.00000000e+00, 4.89842988e-04, 7.48417431e-04, 7.48353705e-04,\n",
       "        4.00066376e-04, 4.89862464e-04, 1.54333702e-02, 1.26500787e-03,\n",
       "        4.89920847e-04, 4.89823515e-04, 8.94522303e-04, 7.99977784e-04,\n",
       "        4.00042545e-04, 3.99947177e-04, 4.89881945e-04, 3.99971037e-04,\n",
       "        4.00042545e-04, 6.32560481e-04, 6.32409703e-04, 7.99965864e-04,\n",
       "        4.00090257e-04, 4.89842988e-04, 1.16800773e-07, 4.00042545e-04,\n",
       "        4.90037648e-04, 4.89920871e-04, 1.01987029e-03, 7.48328234e-04,\n",
       "        3.99971008e-04, 3.99899493e-04, 4.89881921e-04, 4.00066404e-04,\n",
       "        4.89959789e-04, 4.89920871e-04, 3.99899493e-04, 7.99953946e-04,\n",
       "        4.89979265e-04, 4.00066404e-04, 6.32560492e-04, 7.48328219e-04,\n",
       "        4.89940316e-04, 4.89940339e-04, 1.70068415e-02, 1.32677661e-03]),\n",
       " 'param_criterion': masked_array(data=['gini', 'gini', 'gini', 'gini', 'gini', 'gini', 'gini',\n",
       "                    'gini', 'gini', 'gini', 'gini', 'gini', 'gini', 'gini',\n",
       "                    'gini', 'gini', 'gini', 'gini', 'gini', 'gini', 'gini',\n",
       "                    'gini', 'gini', 'gini', 'gini', 'gini', 'gini', 'gini',\n",
       "                    'gini', 'gini', 'gini', 'gini', 'entropy', 'entropy',\n",
       "                    'entropy', 'entropy', 'entropy', 'entropy', 'entropy',\n",
       "                    'entropy', 'entropy', 'entropy', 'entropy', 'entropy',\n",
       "                    'entropy', 'entropy', 'entropy', 'entropy', 'entropy',\n",
       "                    'entropy', 'entropy', 'entropy', 'entropy', 'entropy',\n",
       "                    'entropy', 'entropy', 'entropy', 'entropy', 'entropy',\n",
       "                    'entropy', 'entropy', 'entropy', 'entropy', 'entropy'],\n",
       "              mask=[False, False, False, False, False, False, False, False,\n",
       "                    False, False, False, False, False, False, False, False,\n",
       "                    False, False, False, False, False, False, False, False,\n",
       "                    False, False, False, False, False, False, False, False,\n",
       "                    False, False, False, False, False, False, False, False,\n",
       "                    False, False, False, False, False, False, False, False,\n",
       "                    False, False, False, False, False, False, False, False,\n",
       "                    False, False, False, False, False, False, False, False],\n",
       "        fill_value='?',\n",
       "             dtype=object),\n",
       " 'param_max_depth': masked_array(data=[20, 20, 20, 20, 20, 20, 20, 20, 25, 25, 25, 25, 25, 25,\n",
       "                    25, 25, 35, 35, 35, 35, 35, 35, 35, 35, 40, 40, 40, 40,\n",
       "                    40, 40, 40, 40, 20, 20, 20, 20, 20, 20, 20, 20, 25, 25,\n",
       "                    25, 25, 25, 25, 25, 25, 35, 35, 35, 35, 35, 35, 35, 35,\n",
       "                    40, 40, 40, 40, 40, 40, 40, 40],\n",
       "              mask=[False, False, False, False, False, False, False, False,\n",
       "                    False, False, False, False, False, False, False, False,\n",
       "                    False, False, False, False, False, False, False, False,\n",
       "                    False, False, False, False, False, False, False, False,\n",
       "                    False, False, False, False, False, False, False, False,\n",
       "                    False, False, False, False, False, False, False, False,\n",
       "                    False, False, False, False, False, False, False, False,\n",
       "                    False, False, False, False, False, False, False, False],\n",
       "        fill_value='?',\n",
       "             dtype=object),\n",
       " 'param_max_features': masked_array(data=['sqrt', 'sqrt', 'sqrt', 'sqrt', 'log2', 'log2', 'log2',\n",
       "                    'log2', 'sqrt', 'sqrt', 'sqrt', 'sqrt', 'log2', 'log2',\n",
       "                    'log2', 'log2', 'sqrt', 'sqrt', 'sqrt', 'sqrt', 'log2',\n",
       "                    'log2', 'log2', 'log2', 'sqrt', 'sqrt', 'sqrt', 'sqrt',\n",
       "                    'log2', 'log2', 'log2', 'log2', 'sqrt', 'sqrt', 'sqrt',\n",
       "                    'sqrt', 'log2', 'log2', 'log2', 'log2', 'sqrt', 'sqrt',\n",
       "                    'sqrt', 'sqrt', 'log2', 'log2', 'log2', 'log2', 'sqrt',\n",
       "                    'sqrt', 'sqrt', 'sqrt', 'log2', 'log2', 'log2', 'log2',\n",
       "                    'sqrt', 'sqrt', 'sqrt', 'sqrt', 'log2', 'log2', 'log2',\n",
       "                    'log2'],\n",
       "              mask=[False, False, False, False, False, False, False, False,\n",
       "                    False, False, False, False, False, False, False, False,\n",
       "                    False, False, False, False, False, False, False, False,\n",
       "                    False, False, False, False, False, False, False, False,\n",
       "                    False, False, False, False, False, False, False, False,\n",
       "                    False, False, False, False, False, False, False, False,\n",
       "                    False, False, False, False, False, False, False, False,\n",
       "                    False, False, False, False, False, False, False, False],\n",
       "        fill_value='?',\n",
       "             dtype=object),\n",
       " 'param_n_estimators': masked_array(data=[200, 400, 600, 800, 200, 400, 600, 800, 200, 400, 600,\n",
       "                    800, 200, 400, 600, 800, 200, 400, 600, 800, 200, 400,\n",
       "                    600, 800, 200, 400, 600, 800, 200, 400, 600, 800, 200,\n",
       "                    400, 600, 800, 200, 400, 600, 800, 200, 400, 600, 800,\n",
       "                    200, 400, 600, 800, 200, 400, 600, 800, 200, 400, 600,\n",
       "                    800, 200, 400, 600, 800, 200, 400, 600, 800],\n",
       "              mask=[False, False, False, False, False, False, False, False,\n",
       "                    False, False, False, False, False, False, False, False,\n",
       "                    False, False, False, False, False, False, False, False,\n",
       "                    False, False, False, False, False, False, False, False,\n",
       "                    False, False, False, False, False, False, False, False,\n",
       "                    False, False, False, False, False, False, False, False,\n",
       "                    False, False, False, False, False, False, False, False,\n",
       "                    False, False, False, False, False, False, False, False],\n",
       "        fill_value='?',\n",
       "             dtype=object),\n",
       " 'params': [{'criterion': 'gini',\n",
       "   'max_depth': 20,\n",
       "   'max_features': 'sqrt',\n",
       "   'n_estimators': 200},\n",
       "  {'criterion': 'gini',\n",
       "   'max_depth': 20,\n",
       "   'max_features': 'sqrt',\n",
       "   'n_estimators': 400},\n",
       "  {'criterion': 'gini',\n",
       "   'max_depth': 20,\n",
       "   'max_features': 'sqrt',\n",
       "   'n_estimators': 600},\n",
       "  {'criterion': 'gini',\n",
       "   'max_depth': 20,\n",
       "   'max_features': 'sqrt',\n",
       "   'n_estimators': 800},\n",
       "  {'criterion': 'gini',\n",
       "   'max_depth': 20,\n",
       "   'max_features': 'log2',\n",
       "   'n_estimators': 200},\n",
       "  {'criterion': 'gini',\n",
       "   'max_depth': 20,\n",
       "   'max_features': 'log2',\n",
       "   'n_estimators': 400},\n",
       "  {'criterion': 'gini',\n",
       "   'max_depth': 20,\n",
       "   'max_features': 'log2',\n",
       "   'n_estimators': 600},\n",
       "  {'criterion': 'gini',\n",
       "   'max_depth': 20,\n",
       "   'max_features': 'log2',\n",
       "   'n_estimators': 800},\n",
       "  {'criterion': 'gini',\n",
       "   'max_depth': 25,\n",
       "   'max_features': 'sqrt',\n",
       "   'n_estimators': 200},\n",
       "  {'criterion': 'gini',\n",
       "   'max_depth': 25,\n",
       "   'max_features': 'sqrt',\n",
       "   'n_estimators': 400},\n",
       "  {'criterion': 'gini',\n",
       "   'max_depth': 25,\n",
       "   'max_features': 'sqrt',\n",
       "   'n_estimators': 600},\n",
       "  {'criterion': 'gini',\n",
       "   'max_depth': 25,\n",
       "   'max_features': 'sqrt',\n",
       "   'n_estimators': 800},\n",
       "  {'criterion': 'gini',\n",
       "   'max_depth': 25,\n",
       "   'max_features': 'log2',\n",
       "   'n_estimators': 200},\n",
       "  {'criterion': 'gini',\n",
       "   'max_depth': 25,\n",
       "   'max_features': 'log2',\n",
       "   'n_estimators': 400},\n",
       "  {'criterion': 'gini',\n",
       "   'max_depth': 25,\n",
       "   'max_features': 'log2',\n",
       "   'n_estimators': 600},\n",
       "  {'criterion': 'gini',\n",
       "   'max_depth': 25,\n",
       "   'max_features': 'log2',\n",
       "   'n_estimators': 800},\n",
       "  {'criterion': 'gini',\n",
       "   'max_depth': 35,\n",
       "   'max_features': 'sqrt',\n",
       "   'n_estimators': 200},\n",
       "  {'criterion': 'gini',\n",
       "   'max_depth': 35,\n",
       "   'max_features': 'sqrt',\n",
       "   'n_estimators': 400},\n",
       "  {'criterion': 'gini',\n",
       "   'max_depth': 35,\n",
       "   'max_features': 'sqrt',\n",
       "   'n_estimators': 600},\n",
       "  {'criterion': 'gini',\n",
       "   'max_depth': 35,\n",
       "   'max_features': 'sqrt',\n",
       "   'n_estimators': 800},\n",
       "  {'criterion': 'gini',\n",
       "   'max_depth': 35,\n",
       "   'max_features': 'log2',\n",
       "   'n_estimators': 200},\n",
       "  {'criterion': 'gini',\n",
       "   'max_depth': 35,\n",
       "   'max_features': 'log2',\n",
       "   'n_estimators': 400},\n",
       "  {'criterion': 'gini',\n",
       "   'max_depth': 35,\n",
       "   'max_features': 'log2',\n",
       "   'n_estimators': 600},\n",
       "  {'criterion': 'gini',\n",
       "   'max_depth': 35,\n",
       "   'max_features': 'log2',\n",
       "   'n_estimators': 800},\n",
       "  {'criterion': 'gini',\n",
       "   'max_depth': 40,\n",
       "   'max_features': 'sqrt',\n",
       "   'n_estimators': 200},\n",
       "  {'criterion': 'gini',\n",
       "   'max_depth': 40,\n",
       "   'max_features': 'sqrt',\n",
       "   'n_estimators': 400},\n",
       "  {'criterion': 'gini',\n",
       "   'max_depth': 40,\n",
       "   'max_features': 'sqrt',\n",
       "   'n_estimators': 600},\n",
       "  {'criterion': 'gini',\n",
       "   'max_depth': 40,\n",
       "   'max_features': 'sqrt',\n",
       "   'n_estimators': 800},\n",
       "  {'criterion': 'gini',\n",
       "   'max_depth': 40,\n",
       "   'max_features': 'log2',\n",
       "   'n_estimators': 200},\n",
       "  {'criterion': 'gini',\n",
       "   'max_depth': 40,\n",
       "   'max_features': 'log2',\n",
       "   'n_estimators': 400},\n",
       "  {'criterion': 'gini',\n",
       "   'max_depth': 40,\n",
       "   'max_features': 'log2',\n",
       "   'n_estimators': 600},\n",
       "  {'criterion': 'gini',\n",
       "   'max_depth': 40,\n",
       "   'max_features': 'log2',\n",
       "   'n_estimators': 800},\n",
       "  {'criterion': 'entropy',\n",
       "   'max_depth': 20,\n",
       "   'max_features': 'sqrt',\n",
       "   'n_estimators': 200},\n",
       "  {'criterion': 'entropy',\n",
       "   'max_depth': 20,\n",
       "   'max_features': 'sqrt',\n",
       "   'n_estimators': 400},\n",
       "  {'criterion': 'entropy',\n",
       "   'max_depth': 20,\n",
       "   'max_features': 'sqrt',\n",
       "   'n_estimators': 600},\n",
       "  {'criterion': 'entropy',\n",
       "   'max_depth': 20,\n",
       "   'max_features': 'sqrt',\n",
       "   'n_estimators': 800},\n",
       "  {'criterion': 'entropy',\n",
       "   'max_depth': 20,\n",
       "   'max_features': 'log2',\n",
       "   'n_estimators': 200},\n",
       "  {'criterion': 'entropy',\n",
       "   'max_depth': 20,\n",
       "   'max_features': 'log2',\n",
       "   'n_estimators': 400},\n",
       "  {'criterion': 'entropy',\n",
       "   'max_depth': 20,\n",
       "   'max_features': 'log2',\n",
       "   'n_estimators': 600},\n",
       "  {'criterion': 'entropy',\n",
       "   'max_depth': 20,\n",
       "   'max_features': 'log2',\n",
       "   'n_estimators': 800},\n",
       "  {'criterion': 'entropy',\n",
       "   'max_depth': 25,\n",
       "   'max_features': 'sqrt',\n",
       "   'n_estimators': 200},\n",
       "  {'criterion': 'entropy',\n",
       "   'max_depth': 25,\n",
       "   'max_features': 'sqrt',\n",
       "   'n_estimators': 400},\n",
       "  {'criterion': 'entropy',\n",
       "   'max_depth': 25,\n",
       "   'max_features': 'sqrt',\n",
       "   'n_estimators': 600},\n",
       "  {'criterion': 'entropy',\n",
       "   'max_depth': 25,\n",
       "   'max_features': 'sqrt',\n",
       "   'n_estimators': 800},\n",
       "  {'criterion': 'entropy',\n",
       "   'max_depth': 25,\n",
       "   'max_features': 'log2',\n",
       "   'n_estimators': 200},\n",
       "  {'criterion': 'entropy',\n",
       "   'max_depth': 25,\n",
       "   'max_features': 'log2',\n",
       "   'n_estimators': 400},\n",
       "  {'criterion': 'entropy',\n",
       "   'max_depth': 25,\n",
       "   'max_features': 'log2',\n",
       "   'n_estimators': 600},\n",
       "  {'criterion': 'entropy',\n",
       "   'max_depth': 25,\n",
       "   'max_features': 'log2',\n",
       "   'n_estimators': 800},\n",
       "  {'criterion': 'entropy',\n",
       "   'max_depth': 35,\n",
       "   'max_features': 'sqrt',\n",
       "   'n_estimators': 200},\n",
       "  {'criterion': 'entropy',\n",
       "   'max_depth': 35,\n",
       "   'max_features': 'sqrt',\n",
       "   'n_estimators': 400},\n",
       "  {'criterion': 'entropy',\n",
       "   'max_depth': 35,\n",
       "   'max_features': 'sqrt',\n",
       "   'n_estimators': 600},\n",
       "  {'criterion': 'entropy',\n",
       "   'max_depth': 35,\n",
       "   'max_features': 'sqrt',\n",
       "   'n_estimators': 800},\n",
       "  {'criterion': 'entropy',\n",
       "   'max_depth': 35,\n",
       "   'max_features': 'log2',\n",
       "   'n_estimators': 200},\n",
       "  {'criterion': 'entropy',\n",
       "   'max_depth': 35,\n",
       "   'max_features': 'log2',\n",
       "   'n_estimators': 400},\n",
       "  {'criterion': 'entropy',\n",
       "   'max_depth': 35,\n",
       "   'max_features': 'log2',\n",
       "   'n_estimators': 600},\n",
       "  {'criterion': 'entropy',\n",
       "   'max_depth': 35,\n",
       "   'max_features': 'log2',\n",
       "   'n_estimators': 800},\n",
       "  {'criterion': 'entropy',\n",
       "   'max_depth': 40,\n",
       "   'max_features': 'sqrt',\n",
       "   'n_estimators': 200},\n",
       "  {'criterion': 'entropy',\n",
       "   'max_depth': 40,\n",
       "   'max_features': 'sqrt',\n",
       "   'n_estimators': 400},\n",
       "  {'criterion': 'entropy',\n",
       "   'max_depth': 40,\n",
       "   'max_features': 'sqrt',\n",
       "   'n_estimators': 600},\n",
       "  {'criterion': 'entropy',\n",
       "   'max_depth': 40,\n",
       "   'max_features': 'sqrt',\n",
       "   'n_estimators': 800},\n",
       "  {'criterion': 'entropy',\n",
       "   'max_depth': 40,\n",
       "   'max_features': 'log2',\n",
       "   'n_estimators': 200},\n",
       "  {'criterion': 'entropy',\n",
       "   'max_depth': 40,\n",
       "   'max_features': 'log2',\n",
       "   'n_estimators': 400},\n",
       "  {'criterion': 'entropy',\n",
       "   'max_depth': 40,\n",
       "   'max_features': 'log2',\n",
       "   'n_estimators': 600},\n",
       "  {'criterion': 'entropy',\n",
       "   'max_depth': 40,\n",
       "   'max_features': 'log2',\n",
       "   'n_estimators': 800}],\n",
       " 'split0_test_score': array([0.68871595, 0.692607  , 0.68093385, 0.68871595, 0.68871595,\n",
       "        0.692607  , 0.68093385, 0.68871595, 0.692607  , 0.6848249 ,\n",
       "        0.6848249 , 0.6848249 , 0.692607  , 0.6848249 , 0.6848249 ,\n",
       "        0.6848249 , 0.692607  , 0.6848249 , 0.6848249 , 0.6848249 ,\n",
       "        0.692607  , 0.6848249 , 0.6848249 , 0.6848249 , 0.692607  ,\n",
       "        0.6848249 , 0.6848249 , 0.6848249 , 0.692607  , 0.6848249 ,\n",
       "        0.6848249 , 0.6848249 , 0.66536965, 0.6614786 , 0.6770428 ,\n",
       "        0.68093385, 0.66536965, 0.6614786 , 0.6770428 , 0.68093385,\n",
       "        0.6692607 , 0.66536965, 0.68093385, 0.6770428 , 0.6692607 ,\n",
       "        0.66536965, 0.68093385, 0.6770428 , 0.66536965, 0.66536965,\n",
       "        0.68093385, 0.6770428 , 0.66536965, 0.66536965, 0.68093385,\n",
       "        0.6770428 , 0.66536965, 0.66536965, 0.68093385, 0.6770428 ,\n",
       "        0.66536965, 0.66536965, 0.68093385, 0.6770428 ]),\n",
       " 'split1_test_score': array([0.6692607 , 0.65758755, 0.6692607 , 0.66536965, 0.6692607 ,\n",
       "        0.65758755, 0.6692607 , 0.66536965, 0.6614786 , 0.65758755,\n",
       "        0.67315175, 0.6692607 , 0.6614786 , 0.65758755, 0.67315175,\n",
       "        0.6692607 , 0.6614786 , 0.65758755, 0.67315175, 0.6692607 ,\n",
       "        0.6614786 , 0.65758755, 0.67315175, 0.6692607 , 0.6614786 ,\n",
       "        0.65758755, 0.67315175, 0.6692607 , 0.6614786 , 0.65758755,\n",
       "        0.67315175, 0.6692607 , 0.68093385, 0.66536965, 0.6692607 ,\n",
       "        0.6614786 , 0.68093385, 0.66536965, 0.6692607 , 0.6614786 ,\n",
       "        0.6770428 , 0.6614786 , 0.6692607 , 0.6614786 , 0.6770428 ,\n",
       "        0.6614786 , 0.6692607 , 0.6614786 , 0.6770428 , 0.6614786 ,\n",
       "        0.6692607 , 0.6614786 , 0.6770428 , 0.6614786 , 0.6692607 ,\n",
       "        0.6614786 , 0.6770428 , 0.6614786 , 0.6692607 , 0.6614786 ,\n",
       "        0.6770428 , 0.6614786 , 0.6692607 , 0.6614786 ]),\n",
       " 'split2_test_score': array([0.71484375, 0.71484375, 0.71875   , 0.7265625 , 0.71484375,\n",
       "        0.71484375, 0.71875   , 0.7265625 , 0.703125  , 0.72265625,\n",
       "        0.71484375, 0.72265625, 0.703125  , 0.72265625, 0.71484375,\n",
       "        0.72265625, 0.703125  , 0.72265625, 0.71484375, 0.72265625,\n",
       "        0.703125  , 0.72265625, 0.71484375, 0.72265625, 0.703125  ,\n",
       "        0.72265625, 0.71484375, 0.72265625, 0.703125  , 0.72265625,\n",
       "        0.71484375, 0.72265625, 0.7265625 , 0.703125  , 0.70703125,\n",
       "        0.71875   , 0.7265625 , 0.703125  , 0.70703125, 0.71875   ,\n",
       "        0.72265625, 0.7109375 , 0.71484375, 0.7265625 , 0.72265625,\n",
       "        0.7109375 , 0.71484375, 0.7265625 , 0.72265625, 0.7109375 ,\n",
       "        0.71484375, 0.7265625 , 0.72265625, 0.7109375 , 0.71484375,\n",
       "        0.7265625 , 0.72265625, 0.7109375 , 0.71484375, 0.7265625 ,\n",
       "        0.72265625, 0.7109375 , 0.71484375, 0.7265625 ]),\n",
       " 'split3_test_score': array([0.66666667, 0.6627451 , 0.6627451 , 0.67058824, 0.66666667,\n",
       "        0.6627451 , 0.6627451 , 0.67058824, 0.67058824, 0.65882353,\n",
       "        0.6627451 , 0.67058824, 0.67058824, 0.65882353, 0.6627451 ,\n",
       "        0.67058824, 0.67058824, 0.65882353, 0.6627451 , 0.67058824,\n",
       "        0.67058824, 0.65882353, 0.6627451 , 0.67058824, 0.67058824,\n",
       "        0.65882353, 0.6627451 , 0.67058824, 0.67058824, 0.65882353,\n",
       "        0.6627451 , 0.67058824, 0.65882353, 0.65098039, 0.65490196,\n",
       "        0.6627451 , 0.65882353, 0.65098039, 0.65490196, 0.6627451 ,\n",
       "        0.65882353, 0.65490196, 0.6627451 , 0.6627451 , 0.65882353,\n",
       "        0.65490196, 0.6627451 , 0.6627451 , 0.65882353, 0.65490196,\n",
       "        0.65882353, 0.6627451 , 0.65882353, 0.65490196, 0.65882353,\n",
       "        0.6627451 , 0.65882353, 0.65490196, 0.65882353, 0.6627451 ,\n",
       "        0.65882353, 0.65490196, 0.65882353, 0.6627451 ]),\n",
       " 'split4_test_score': array([0.67322835, 0.68110236, 0.67322835, 0.67716535, 0.67322835,\n",
       "        0.68110236, 0.67322835, 0.67716535, 0.67322835, 0.68503937,\n",
       "        0.67716535, 0.67322835, 0.67322835, 0.68503937, 0.67716535,\n",
       "        0.67322835, 0.67322835, 0.68503937, 0.67716535, 0.67322835,\n",
       "        0.67322835, 0.68503937, 0.67716535, 0.67322835, 0.67322835,\n",
       "        0.68503937, 0.67716535, 0.67322835, 0.67322835, 0.68503937,\n",
       "        0.67716535, 0.67322835, 0.68110236, 0.66141732, 0.65748031,\n",
       "        0.66535433, 0.68110236, 0.66141732, 0.65748031, 0.66535433,\n",
       "        0.66929134, 0.66141732, 0.65748031, 0.66535433, 0.66929134,\n",
       "        0.66141732, 0.65748031, 0.66535433, 0.66929134, 0.66141732,\n",
       "        0.65748031, 0.66535433, 0.66929134, 0.66141732, 0.65748031,\n",
       "        0.66535433, 0.66929134, 0.66141732, 0.65748031, 0.66535433,\n",
       "        0.66929134, 0.66141732, 0.65748031, 0.66535433]),\n",
       " 'mean_test_score': array([0.6825645 , 0.68178264, 0.68100078, 0.68569195, 0.6825645 ,\n",
       "        0.68178264, 0.68100078, 0.68569195, 0.68021892, 0.68178264,\n",
       "        0.6825645 , 0.68412823, 0.68021892, 0.68178264, 0.6825645 ,\n",
       "        0.68412823, 0.68021892, 0.68178264, 0.6825645 , 0.68412823,\n",
       "        0.68021892, 0.68178264, 0.6825645 , 0.68412823, 0.68021892,\n",
       "        0.68178264, 0.6825645 , 0.68412823, 0.68021892, 0.68178264,\n",
       "        0.6825645 , 0.68412823, 0.6825645 , 0.66849101, 0.67318217,\n",
       "        0.67787334, 0.6825645 , 0.66849101, 0.67318217, 0.67787334,\n",
       "        0.67943706, 0.67083659, 0.67709148, 0.6786552 , 0.67943706,\n",
       "        0.67083659, 0.67709148, 0.6786552 , 0.6786552 , 0.67083659,\n",
       "        0.67630962, 0.6786552 , 0.6786552 , 0.67083659, 0.67630962,\n",
       "        0.6786552 , 0.6786552 , 0.67083659, 0.67630962, 0.6786552 ,\n",
       "        0.6786552 , 0.67083659, 0.67630962, 0.6786552 ]),\n",
       " 'std_test_score': array([0.01787235, 0.02079188, 0.01978288, 0.02188803, 0.01787235,\n",
       "        0.02079188, 0.01978288, 0.02188803, 0.01531741, 0.02368717,\n",
       "        0.01764902, 0.02004428, 0.01531741, 0.02368717, 0.01764902,\n",
       "        0.02004428, 0.01531741, 0.02368717, 0.01764902, 0.02004428,\n",
       "        0.01531741, 0.02368717, 0.01764902, 0.02004428, 0.01531741,\n",
       "        0.02368717, 0.01764902, 0.02004428, 0.01531741, 0.02368717,\n",
       "        0.01764902, 0.02004428, 0.02366877, 0.01797216, 0.01873507,\n",
       "        0.02161221, 0.02366877, 0.01797216, 0.01873507, 0.02161221,\n",
       "        0.02238286, 0.02033995, 0.02044435, 0.02459245, 0.02238286,\n",
       "        0.02033995, 0.02044435, 0.02459245, 0.02278895, 0.02033995,\n",
       "        0.02104424, 0.02459245, 0.02278895, 0.02033995, 0.02104424,\n",
       "        0.02459245, 0.02278895, 0.02033995, 0.02104424, 0.02459245,\n",
       "        0.02278895, 0.02033995, 0.02104424, 0.02459245]),\n",
       " 'rank_test_score': array([ 9, 19, 27,  1,  9, 19, 27,  1, 29, 19,  9,  3, 29, 19,  9,  3, 29,\n",
       "        19,  9,  3, 29, 19,  9,  3, 29, 19,  9,  3, 29, 19,  9,  3,  9, 63,\n",
       "        55, 47,  9, 63, 55, 47, 35, 57, 49, 37, 35, 57, 49, 37, 37, 57, 51,\n",
       "        37, 37, 57, 51, 37, 37, 57, 51, 37, 37, 57, 51, 37]),\n",
       " 'split0_train_score': array([1., 1., 1., 1., 1., 1., 1., 1., 1., 1., 1., 1., 1., 1., 1., 1., 1.,\n",
       "        1., 1., 1., 1., 1., 1., 1., 1., 1., 1., 1., 1., 1., 1., 1., 1., 1.,\n",
       "        1., 1., 1., 1., 1., 1., 1., 1., 1., 1., 1., 1., 1., 1., 1., 1., 1.,\n",
       "        1., 1., 1., 1., 1., 1., 1., 1., 1., 1., 1., 1., 1.]),\n",
       " 'split1_train_score': array([1., 1., 1., 1., 1., 1., 1., 1., 1., 1., 1., 1., 1., 1., 1., 1., 1.,\n",
       "        1., 1., 1., 1., 1., 1., 1., 1., 1., 1., 1., 1., 1., 1., 1., 1., 1.,\n",
       "        1., 1., 1., 1., 1., 1., 1., 1., 1., 1., 1., 1., 1., 1., 1., 1., 1.,\n",
       "        1., 1., 1., 1., 1., 1., 1., 1., 1., 1., 1., 1., 1.]),\n",
       " 'split2_train_score': array([1., 1., 1., 1., 1., 1., 1., 1., 1., 1., 1., 1., 1., 1., 1., 1., 1.,\n",
       "        1., 1., 1., 1., 1., 1., 1., 1., 1., 1., 1., 1., 1., 1., 1., 1., 1.,\n",
       "        1., 1., 1., 1., 1., 1., 1., 1., 1., 1., 1., 1., 1., 1., 1., 1., 1.,\n",
       "        1., 1., 1., 1., 1., 1., 1., 1., 1., 1., 1., 1., 1.]),\n",
       " 'split3_train_score': array([1., 1., 1., 1., 1., 1., 1., 1., 1., 1., 1., 1., 1., 1., 1., 1., 1.,\n",
       "        1., 1., 1., 1., 1., 1., 1., 1., 1., 1., 1., 1., 1., 1., 1., 1., 1.,\n",
       "        1., 1., 1., 1., 1., 1., 1., 1., 1., 1., 1., 1., 1., 1., 1., 1., 1.,\n",
       "        1., 1., 1., 1., 1., 1., 1., 1., 1., 1., 1., 1., 1.]),\n",
       " 'split4_train_score': array([1., 1., 1., 1., 1., 1., 1., 1., 1., 1., 1., 1., 1., 1., 1., 1., 1.,\n",
       "        1., 1., 1., 1., 1., 1., 1., 1., 1., 1., 1., 1., 1., 1., 1., 1., 1.,\n",
       "        1., 1., 1., 1., 1., 1., 1., 1., 1., 1., 1., 1., 1., 1., 1., 1., 1.,\n",
       "        1., 1., 1., 1., 1., 1., 1., 1., 1., 1., 1., 1., 1.]),\n",
       " 'mean_train_score': array([1., 1., 1., 1., 1., 1., 1., 1., 1., 1., 1., 1., 1., 1., 1., 1., 1.,\n",
       "        1., 1., 1., 1., 1., 1., 1., 1., 1., 1., 1., 1., 1., 1., 1., 1., 1.,\n",
       "        1., 1., 1., 1., 1., 1., 1., 1., 1., 1., 1., 1., 1., 1., 1., 1., 1.,\n",
       "        1., 1., 1., 1., 1., 1., 1., 1., 1., 1., 1., 1., 1.]),\n",
       " 'std_train_score': array([0., 0., 0., 0., 0., 0., 0., 0., 0., 0., 0., 0., 0., 0., 0., 0., 0.,\n",
       "        0., 0., 0., 0., 0., 0., 0., 0., 0., 0., 0., 0., 0., 0., 0., 0., 0.,\n",
       "        0., 0., 0., 0., 0., 0., 0., 0., 0., 0., 0., 0., 0., 0., 0., 0., 0.,\n",
       "        0., 0., 0., 0., 0., 0., 0., 0., 0., 0., 0., 0., 0.])}"
      ]
     },
     "execution_count": 97,
     "metadata": {},
     "output_type": "execute_result"
    }
   ],
   "source": [
    "CV_clf.cv_results_"
   ]
  },
  {
   "cell_type": "code",
   "execution_count": 100,
   "metadata": {},
   "outputs": [
    {
     "data": {
      "text/plain": [
       "1.0"
      ]
     },
     "execution_count": 100,
     "metadata": {},
     "output_type": "execute_result"
    }
   ],
   "source": [
    "CV_clf.score(train_X, train_y)"
   ]
  },
  {
   "cell_type": "code",
   "execution_count": 101,
   "metadata": {},
   "outputs": [
    {
     "data": {
      "text/plain": [
       "0.6875"
      ]
     },
     "execution_count": 101,
     "metadata": {},
     "output_type": "execute_result"
    }
   ],
   "source": [
    "CV_clf.score(test_X, test_y)"
   ]
  },
  {
   "cell_type": "code",
   "execution_count": 102,
   "metadata": {},
   "outputs": [],
   "source": [
    "# 최종적으로 선택을 할때, train 점수와 test 점수 중 무엇이 높은 것을 골라야 하는가? \n",
    "# 둘다 높은 것이 좋으며, 그래도 둘 중 골라야 한다면 test가 높은 것을 고르는게 적절할 것이다. "
   ]
  },
  {
   "cell_type": "code",
   "execution_count": null,
   "metadata": {},
   "outputs": [],
   "source": []
  }
 ],
 "metadata": {
  "kernelspec": {
   "display_name": "Python 3",
   "language": "python",
   "name": "python3"
  },
  "language_info": {
   "codemirror_mode": {
    "name": "ipython",
    "version": 3
   },
   "file_extension": ".py",
   "mimetype": "text/x-python",
   "name": "python",
   "nbconvert_exporter": "python",
   "pygments_lexer": "ipython3",
   "version": "3.7.3"
  }
 },
 "nbformat": 4,
 "nbformat_minor": 2
}
