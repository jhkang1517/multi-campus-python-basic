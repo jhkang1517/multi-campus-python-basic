{
 "cells": [
  {
   "cell_type": "markdown",
   "metadata": {},
   "source": [
    "# Linear Regression"
   ]
  },
  {
   "cell_type": "code",
   "execution_count": 2,
   "metadata": {},
   "outputs": [
    {
     "name": "stdout",
     "output_type": "stream",
     "text": [
      "Hello, Linear Regression!!\n"
     ]
    }
   ],
   "source": [
    "\"\"\"\n",
    "들어가며\n",
    "Linear Regerssion == 선형회귀\n",
    "통계학에서, 선형 회귀(線型回歸, 영어: linear regression)는 \n",
    "종속 변수 y와 한 개 이상의 독립 변수 (또는 설명 변수) X와의 선형 상관 관계를 모델링하는 회귀분석 기법이다. \n",
    "한 개의 설명 변수에 기반한 경우에는 단순 선형 회귀, 둘 이상의 설명 변수에 기반한 경우에는 다중 선형 회귀라고 한다.\n",
    "\n",
    "두 변수, 혹은 여러 개의 변수들간 관계를 보여주는 데이터에서 어떠한 패턴을 찾아내고자 하는 것이 연구자들의 목적이다.\n",
    "그 중, 선형 적합(linear fitting)은 가장 많이 사용되는 방법이다. \n",
    "단 하나의 선으로 주어진 데이터의 패턴을 설명할 수 있다는 것은 굉장히 매력적이기 때문이다.\n",
    "\n",
    "우리 모두는 일차함수에 대해서 알고 있다. x축과 y축의 좌표평면 상에 하나의 선으로 나타나는 것이 바로 일차함수이다.\n",
    "선형회귀는 바로 이 일차함수를 이용하는 것이다. 어떠한 독립변수(x)와 종속변수(y)는 좌표평면위에 흩뿌려져 있을 것이고,\n",
    "이와 가장 적합(fit)한 직선을 찾아내는 것은, 다시 말해 최적의 기울기와 절편을 가진 일차함수를 찾아내는 것과 동일하다.\n",
    "\n",
    "그렇다면, 이러한 직선을 어떻게 구할 것인지가 문제로 남는다.\n",
    "다행스럽게도, 선형회귀의 역사는 오래되었고, 많은 수학자들은 이에 대한 해답을 내놓았다.\n",
    "따라서 우리는 어떻게 적절한 직선을 구할 것인지에 대한 원리를 탐구하는 것보다는, \n",
    "이미 해답이 제시되어 있는 여러 수학적 지식들을 이해하는 것이 보다 더 중요할 것이다.\n",
    "\n",
    "그럼에도 불구하고, 잠시 수학적인 얘기가 필수불가결하다.\n",
    "최대한 간단하게 설명해보자면, 실제 데이터(실제값)과 우리가 예측한 어떠한 선(일차함수)에는 분명한 차이가 존재할 것이다.\n",
    "그러한 차이를 우리는 오차(error)라고 한다. 이 오차를 최소화 하는 것이 곧 가장 적절한 일차함수를 찾는 것과 동일하다.\n",
    "\n",
    "그런데 여기서 문제가 발생한다. 좌표평면을 상상해보자. 무작위로 흩뿌려져있는 점들 사이로 직선이 하나 지나간다.\n",
    "여기서, 직선이 점들의 '사이'를 지나간다는 것은 점들이 직선의 '위'와 '아래'에 놓여져 있다는 것을 의미한다.\n",
    "직선보다 위에 있는 점과의 차이는 반드시 양수일 것이고,\n",
    "직선보다 아래에 있는 점과의 차이는 반드시 음수일 것이다.\n",
    "따라서 문제가 발생한다. 오차를 최소화 하기 위해서는 오차들을 전부 더해보아야하는데, \n",
    "오차가 양수와 음수라면 서로 더해지면서 상쇄가 될 것이기 때문이다.\n",
    "\n",
    "이를 어떻게 해결해야할 것인가?\n",
    "답은 간단하다. 오차를 절대값으로 만들어 계산하거나, 오차를 제곱(^2)해주면 된다.\n",
    "이 중, 선형회귀에서 가장 많이 사용되는 방법은 오차제곱의 합을 최소화하는 직선을 찾는 것이다. \n",
    "이 오차제곱의 합을 SSE(Sum of Squared Errors)라고 부른다.\n",
    "그리고 이 오차제곱의 합을 최소화하는 직선을 찾기위한 방법이 바로 최소자승법이다.\n",
    "\n",
    "다시 한번 생각해보자. \n",
    "우리의 목표는 완벽한 일차함수, 최적합(fit)직선을 찾는 것이고, 이를 위해서 오차제곱의 합을 최소화해야하며, 최소자승법을 사용해야 한다. \n",
    "오차는 앞서 말했듯, 실제값과 예측값의 차이이다. 그런데 우리가 만든 예측식은 필연적으로 정확하지 않기 때문에,\n",
    "미지수로 생각해도 무방할 것이다.\n",
    "\n",
    "오차를 미지수로 생각하면, 오차를 제곱하여 최소화가 되도록 만든다는 것은 곧 2차 함수의 최소점을 찾는 것을 의미한다.\n",
    "우리 모두가 알다싶이, 2차함수는 반드시 최소점이 존재한다. \n",
    "이 최소점을 찾는다는 것은, 곧 1차함수의 기울기 값을 알게된다는 말과 동일하다.\n",
    "\n",
    "여기서 많은 사람들이 좌절한다. 2차함수의 최소점을 구하는 것이 어떻게 1차함수의 기울기를 찾게 되는 것인가?\n",
    "이를 이해하기 위해서는 미분과 편미분에 대해서 알아야하지만, 그러한 방식이 아닌 보다 쉬운 방식으로 설명을 해보려고한다.\n",
    "\n",
    "먼저 우리는 방금 오차를 미지수로 두고, 2차함수를 만들었다.\n",
    "알다싶이, 2차함수는 반드시 최소점이 존재하는 함수이다. (제곱을 했기 때문에 반드시 양수이고, U자 모양일 것이다.)\n",
    "여기까지 이해했다면, 우선 이부분만 기억하고 다음 말을 이해해보자.\n",
    "\n",
    "선은 어떻게 만들어지는가? 두 점을 이어서 만들어진다.\n",
    "일차함수를 생각해보자. y 절편(bias)은 어떻게 구하는가? y = ax + b라는 함수에서 x에 0을 넣으면 b가 절편이다.\n",
    "우리의 예측식 역시 일차함수이기 때문에, x에 0을 넣는다면 예측식의 절편은 매우 쉽게 구할 수 있을 것이다.\n",
    "이렇게 점 하나를 구한다.\n",
    "\n",
    "그 다음으로, 아까 기억한 오차의 함수, 즉 2차함수를 보자. 2차 함수 역시 최소점이 존재한다. \n",
    "그렇다면, 그 최소점과 아까구한 절편을 잇는다면? 바로 그 순간 선이 완성된다.\n",
    "이 선은 1차함수일 것이고,\n",
    "이 1차함수가 바로 최적합(best-fitting) 직선(line)이다.\n",
    "이후에는 다들 배웠지만 기억나지 않을 뿐인 중학교 수준의 연립방정식를 거쳐 기울기(a)가 구해진다.\n",
    "\n",
    "이것이 선형회귀의 전부이다. \n",
    "미지의 1차함수 포맷을 만들고, 실제값과의 차이(오차)를 제곱하여 2차함수의 형식을 만든 뒤,\n",
    "절편과 2차함수의 최소값을 구해 연결하고 연립방정식을 풀어 기울기를 구한다. \n",
    "\n",
    "이제, 가상의 데이터를 통해 선형회귀가 어떠한 방식으로 데이터를 설명하는지를 알아볼 것이다.\n",
    "보다 더 상세한 정보를 알고 싶다면,\n",
    "\"https://ko.wikipedia.org/wiki/선형_회귀\" 를 참고하여도 좋을 것이다. \n",
    "데이터는 sklearn 모듈을 사용하여 가상의 데이터를 생성할 것이다. \n",
    "\"\"\"\n",
    "print(\"Hello, Linear Regression!!\")"
   ]
  },
  {
   "cell_type": "code",
   "execution_count": 15,
   "metadata": {},
   "outputs": [],
   "source": [
    "from sklearn.datasets import make_regression #가상의 회귀분석용 데이터 생성\n",
    "from sklearn.linear_model import LinearRegression # LinearRegression 모델 \n",
    "from sklearn.model_selection import train_test_split # Trainset, Testset 분리"
   ]
  },
  {
   "cell_type": "code",
   "execution_count": 87,
   "metadata": {},
   "outputs": [],
   "source": [
    "# make_regression? 를 사용하면, 함수에 대한 설명문을 제공한다.이를 참고하는 것도 좋을 것이다.\n",
    "make_regression?"
   ]
  },
  {
   "cell_type": "code",
   "execution_count": 93,
   "metadata": {},
   "outputs": [
    {
     "name": "stdout",
     "output_type": "stream",
     "text": [
      "Input_feature:\n",
      " [[ 1.44722217  0.33225579 -0.04225817]\n",
      " [-0.23760795 -1.77620172 -2.09807064]\n",
      " [ 0.81012375 -2.80483886  0.66425824]\n",
      " [-0.24537947 -0.05699653  1.09439372]\n",
      " [-0.1173281  -1.08623389 -0.07243509]]\n",
      "Target_value: \n",
      "[  24.17804636 -252.95116321   -1.62023779  100.3268664   -38.02101536] \n"
     ]
    }
   ],
   "source": [
    "# 실습에 사용할 데이터는, make_regression에서 제공하는 기본 format을 사용하나, 약간의 수정을 했다.\n",
    "# concept을 익히는 것이 주 목적이기 때문에, feature수를 3개로 줄이고, random_state에 1994를 사용하여 고정했다.\n",
    "# 만약 feature수를 늘리거나, random_state의 숫자를 바꾸면 데이터가 변할 것이다. \n",
    "X, y = make_regression(\n",
    "    n_samples=100,\n",
    "    n_features=3,\n",
    "    n_informative=10,\n",
    "    n_targets=1,\n",
    "    bias=0.0,\n",
    "    effective_rank=None,\n",
    "    tail_strength=0.5,\n",
    "    noise=0.0,\n",
    "    shuffle=True,\n",
    "    coef=False,\n",
    "    random_state=1994,\n",
    ")\n",
    "# n_samples = 샘플의 숫자\n",
    "# n_features = 특징의 개수. (독립변수)\n",
    "# n_informative\n",
    "# n_targets\n",
    "# bias = y절편. 편향. 얼마만큼 치우쳐저 있는가?\n",
    "# effective_rank = \n",
    "# tail_strength = \n",
    "# noise = 퍼져있는 정도\n",
    "# shuffle = 데이터를 섞을 것인가?\n",
    "# coef = coefficient, 가중치\n",
    "# random_state = 무작위로 뽑지만, 그 추출치를 고정시킨다. 아무 난수나 입력가능.\n",
    "\n",
    "# feature수를 3개로 설정하고, X와 y값을 5개씩 출력\n",
    "print('Input_feature:\\n {}\\nTarget_value: \\n{} '.format(X[:5], y[:5]))"
   ]
  },
  {
   "cell_type": "code",
   "execution_count": 62,
   "metadata": {},
   "outputs": [
    {
     "name": "stdout",
     "output_type": "stream",
     "text": [
      "<class 'numpy.ndarray'> <class 'numpy.ndarray'>\n"
     ]
    }
   ],
   "source": [
    "print(type(X), type(y))"
   ]
  },
  {
   "cell_type": "code",
   "execution_count": 94,
   "metadata": {},
   "outputs": [
    {
     "data": {
      "image/png": "[encoded data removed]",
      "text/plain": [
       "<Figure size 432x288 with 1 Axes>"
      ]
     },
     "metadata": {
      "needs_background": "light"
     },
     "output_type": "display_data"
    }
   ],
   "source": [
    "# 그래프를 그려서 산포도를 확인\n",
    "%matplotlib inline\n",
    "import matplotlib.pyplot as plt\n",
    "\n",
    "plt.scatter(X[:, 2], y)\n",
    "plt.show()"
   ]
  },
  {
   "cell_type": "code",
   "execution_count": 95,
   "metadata": {},
   "outputs": [],
   "source": [
    "X_train, X_test, y_train, y_test = train_test_split(X, y, test_size=0.2, shuffle=True)"
   ]
  },
  {
   "cell_type": "code",
   "execution_count": 96,
   "metadata": {},
   "outputs": [],
   "source": [
    "# Linear Regression 클래스 객체 생성 \n",
    "model = LinearRegression() # fit_intercept = 상수항 유무 결정 \n",
    "\n",
    "# fit 메서드로 모형 추정 (오그멘테이션은 자동으로 수행) \n",
    "model_lr = model.fit(X_train, y_train)\n",
    "# 내부적으로 R^2(결정계수)를 계산해준다. "
   ]
  },
  {
   "cell_type": "code",
   "execution_count": 97,
   "metadata": {},
   "outputs": [
    {
     "name": "stdout",
     "output_type": "stream",
     "text": [
      "weight:  [13.27551676 27.16263115 96.06467921]\n",
      "3 개\n",
      "bias:  7.105427357601002e-15\n"
     ]
    }
   ],
   "source": [
    "print('weight: ', model_lr.coef_) # feature의 개수만큼 나온다. \n",
    "print(len(model_lr.coef_), '개')\n",
    "print('bias: ', model_lr.intercept_)"
   ]
  },
  {
   "cell_type": "code",
   "execution_count": 98,
   "metadata": {},
   "outputs": [
    {
     "data": {
      "text/plain": [
       "1.0"
      ]
     },
     "execution_count": 98,
     "metadata": {},
     "output_type": "execute_result"
    }
   ],
   "source": [
    "model.score(X_train, y_train)"
   ]
  },
  {
   "cell_type": "code",
   "execution_count": 99,
   "metadata": {},
   "outputs": [
    {
     "data": {
      "text/plain": [
       "1.0"
      ]
     },
     "execution_count": 99,
     "metadata": {},
     "output_type": "execute_result"
    }
   ],
   "source": [
    "model.score(X_test, y_test)"
   ]
  },
  {
   "cell_type": "code",
   "execution_count": null,
   "metadata": {},
   "outputs": [],
   "source": []
  }
 ],
 "metadata": {
  "kernelspec": {
   "display_name": "Python 3",
   "language": "python",
   "name": "python3"
  },
  "language_info": {
   "codemirror_mode": {
    "name": "ipython",
    "version": 3
   },
   "file_extension": ".py",
   "mimetype": "text/x-python",
   "name": "python",
   "nbconvert_exporter": "python",
   "pygments_lexer": "ipython3",
   "version": "3.7.3"
  }
 },
 "nbformat": 4,
 "nbformat_minor": 2
}
