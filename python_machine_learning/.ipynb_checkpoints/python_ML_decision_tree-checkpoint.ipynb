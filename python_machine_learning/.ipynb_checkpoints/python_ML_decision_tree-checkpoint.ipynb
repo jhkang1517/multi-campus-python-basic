{
 "cells": [
  {
   "cell_type": "markdown",
   "metadata": {},
   "source": [
    "# Decision Tree"
   ]
  },
  {
   "cell_type": "code",
   "execution_count": 1,
   "metadata": {},
   "outputs": [],
   "source": [
    "import os\n",
    "import pandas as pd\n",
    "import numpy as np\n",
    "from matplotlib import pyplot as plt\n",
    "\n",
    "try:\n",
    "    import graphviz\n",
    "except:\n",
    "    !pip install graphviz\n",
    "    import graphviz"
   ]
  },
  {
   "cell_type": "code",
   "execution_count": 2,
   "metadata": {},
   "outputs": [
    {
     "data": {
      "text/plain": [
       "'\\nDecision Tree는 좋은 도구이지만, overfitting의 위험성을 가지고 있다.\\n따라서 적절한 길이 조절이나 노드조절, 가지치기를 통해서 과적합의 가능성을 줄여주어야한다. \\n\\nPrunning 에는 두가지 종류가 있다.\\n사전 가지치기, 사후 가지치기 \\n\\npre-prunning\\nprunning\\n\\nsklearn에서는 사후 가지치기만을 지원한다. \\n\\nDecision Tree는 수치형, 범주형 데이터에 모두 사용이 가능하다. \\n수치형의 경우에는 각 노드마다 평균값을 내서 계산하고\\n범주형의 경우에는 각 범주의 숫자의 개수, 즉 보다 수가 많은 것을 택하게 된다. \\n'"
      ]
     },
     "execution_count": 2,
     "metadata": {},
     "output_type": "execute_result"
    }
   ],
   "source": [
    "\"\"\"\n",
    "Decision Tree는 좋은 도구이지만, overfitting의 위험성을 가지고 있다.\n",
    "따라서 적절한 길이 조절이나 노드조절, 가지치기를 통해서 과적합의 가능성을 줄여주어야한다. \n",
    "\n",
    "Prunning 에는 두가지 종류가 있다.\n",
    "사전 가지치기, 사후 가지치기 \n",
    "\n",
    "pre-prunning\n",
    "prunning\n",
    "\n",
    "sklearn에서는 사후 가지치기만을 지원한다. \n",
    "\n",
    "Decision Tree는 수치형, 범주형 데이터에 모두 사용이 가능하다. \n",
    "수치형의 경우에는 각 노드마다 평균값을 내서 계산하고\n",
    "범주형의 경우에는 각 범주의 숫자의 개수, 즉 보다 수가 많은 것을 택하게 된다. \n",
    "\"\"\""
   ]
  },
  {
   "cell_type": "code",
   "execution_count": 3,
   "metadata": {},
   "outputs": [],
   "source": [
    "DATASET_DIR = os.path.join(os.path.dirname(os.getcwd()), 'datasets')"
   ]
  },
  {
   "cell_type": "code",
   "execution_count": 4,
   "metadata": {},
   "outputs": [],
   "source": [
    "\n",
    "red_file = os.path.join(DATASET_DIR, 'winequality-red.csv')\n",
    "white_file = os.path.join(DATASET_DIR, 'winequality-white.csv')"
   ]
  },
  {
   "cell_type": "code",
   "execution_count": 5,
   "metadata": {},
   "outputs": [],
   "source": [
    "wine_red = pd.read_csv(red_file, sep=';')\n",
    "wine_white = pd.read_csv(white_file, sep=';')"
   ]
  },
  {
   "cell_type": "code",
   "execution_count": 6,
   "metadata": {},
   "outputs": [
    {
     "data": {
      "text/html": [
       "<div>\n",
       "<style scoped>\n",
       "    .dataframe tbody tr th:only-of-type {\n",
       "        vertical-align: middle;\n",
       "    }\n",
       "\n",
       "    .dataframe tbody tr th {\n",
       "        vertical-align: top;\n",
       "    }\n",
       "\n",
       "    .dataframe thead th {\n",
       "        text-align: right;\n",
       "    }\n",
       "</style>\n",
       "<table border=\"1\" class=\"dataframe\">\n",
       "  <thead>\n",
       "    <tr style=\"text-align: right;\">\n",
       "      <th></th>\n",
       "      <th>fixed acidity</th>\n",
       "      <th>volatile acidity</th>\n",
       "      <th>citric acid</th>\n",
       "      <th>residual sugar</th>\n",
       "      <th>chlorides</th>\n",
       "      <th>free sulfur dioxide</th>\n",
       "      <th>total sulfur dioxide</th>\n",
       "      <th>density</th>\n",
       "      <th>pH</th>\n",
       "      <th>sulphates</th>\n",
       "      <th>alcohol</th>\n",
       "      <th>quality</th>\n",
       "    </tr>\n",
       "  </thead>\n",
       "  <tbody>\n",
       "    <tr>\n",
       "      <th>0</th>\n",
       "      <td>7.4</td>\n",
       "      <td>0.70</td>\n",
       "      <td>0.00</td>\n",
       "      <td>1.9</td>\n",
       "      <td>0.076</td>\n",
       "      <td>11.0</td>\n",
       "      <td>34.0</td>\n",
       "      <td>0.9978</td>\n",
       "      <td>3.51</td>\n",
       "      <td>0.56</td>\n",
       "      <td>9.4</td>\n",
       "      <td>5</td>\n",
       "    </tr>\n",
       "    <tr>\n",
       "      <th>1</th>\n",
       "      <td>7.8</td>\n",
       "      <td>0.88</td>\n",
       "      <td>0.00</td>\n",
       "      <td>2.6</td>\n",
       "      <td>0.098</td>\n",
       "      <td>25.0</td>\n",
       "      <td>67.0</td>\n",
       "      <td>0.9968</td>\n",
       "      <td>3.20</td>\n",
       "      <td>0.68</td>\n",
       "      <td>9.8</td>\n",
       "      <td>5</td>\n",
       "    </tr>\n",
       "    <tr>\n",
       "      <th>2</th>\n",
       "      <td>7.8</td>\n",
       "      <td>0.76</td>\n",
       "      <td>0.04</td>\n",
       "      <td>2.3</td>\n",
       "      <td>0.092</td>\n",
       "      <td>15.0</td>\n",
       "      <td>54.0</td>\n",
       "      <td>0.9970</td>\n",
       "      <td>3.26</td>\n",
       "      <td>0.65</td>\n",
       "      <td>9.8</td>\n",
       "      <td>5</td>\n",
       "    </tr>\n",
       "    <tr>\n",
       "      <th>3</th>\n",
       "      <td>11.2</td>\n",
       "      <td>0.28</td>\n",
       "      <td>0.56</td>\n",
       "      <td>1.9</td>\n",
       "      <td>0.075</td>\n",
       "      <td>17.0</td>\n",
       "      <td>60.0</td>\n",
       "      <td>0.9980</td>\n",
       "      <td>3.16</td>\n",
       "      <td>0.58</td>\n",
       "      <td>9.8</td>\n",
       "      <td>6</td>\n",
       "    </tr>\n",
       "    <tr>\n",
       "      <th>4</th>\n",
       "      <td>7.4</td>\n",
       "      <td>0.70</td>\n",
       "      <td>0.00</td>\n",
       "      <td>1.9</td>\n",
       "      <td>0.076</td>\n",
       "      <td>11.0</td>\n",
       "      <td>34.0</td>\n",
       "      <td>0.9978</td>\n",
       "      <td>3.51</td>\n",
       "      <td>0.56</td>\n",
       "      <td>9.4</td>\n",
       "      <td>5</td>\n",
       "    </tr>\n",
       "  </tbody>\n",
       "</table>\n",
       "</div>"
      ],
      "text/plain": [
       "   fixed acidity  volatile acidity  citric acid  residual sugar  chlorides  \\\n",
       "0            7.4              0.70         0.00             1.9      0.076   \n",
       "1            7.8              0.88         0.00             2.6      0.098   \n",
       "2            7.8              0.76         0.04             2.3      0.092   \n",
       "3           11.2              0.28         0.56             1.9      0.075   \n",
       "4            7.4              0.70         0.00             1.9      0.076   \n",
       "\n",
       "   free sulfur dioxide  total sulfur dioxide  density    pH  sulphates  \\\n",
       "0                 11.0                  34.0   0.9978  3.51       0.56   \n",
       "1                 25.0                  67.0   0.9968  3.20       0.68   \n",
       "2                 15.0                  54.0   0.9970  3.26       0.65   \n",
       "3                 17.0                  60.0   0.9980  3.16       0.58   \n",
       "4                 11.0                  34.0   0.9978  3.51       0.56   \n",
       "\n",
       "   alcohol  quality  \n",
       "0      9.4        5  \n",
       "1      9.8        5  \n",
       "2      9.8        5  \n",
       "3      9.8        6  \n",
       "4      9.4        5  "
      ]
     },
     "execution_count": 6,
     "metadata": {},
     "output_type": "execute_result"
    }
   ],
   "source": [
    "wine_red.head()"
   ]
  },
  {
   "cell_type": "code",
   "execution_count": 7,
   "metadata": {},
   "outputs": [
    {
     "data": {
      "text/plain": [
       "(1599, 4898)"
      ]
     },
     "execution_count": 7,
     "metadata": {},
     "output_type": "execute_result"
    }
   ],
   "source": [
    "len(wine_red), len(wine_white)"
   ]
  },
  {
   "cell_type": "code",
   "execution_count": 8,
   "metadata": {},
   "outputs": [
    {
     "data": {
      "text/plain": [
       "(1599, 4898)"
      ]
     },
     "execution_count": 8,
     "metadata": {},
     "output_type": "execute_result"
    }
   ],
   "source": [
    "wine_red.head()\n",
    "\n",
    "wine_white.head()\n",
    "\n",
    "len(wine_red), len(wine_white)"
   ]
  },
  {
   "cell_type": "markdown",
   "metadata": {},
   "source": [
    "## Classification"
   ]
  },
  {
   "cell_type": "markdown",
   "metadata": {},
   "source": [
    "### 1. Feature_n: 2(volatile acidity, sulphates), Binary Problem"
   ]
  },
  {
   "cell_type": "code",
   "execution_count": 9,
   "metadata": {},
   "outputs": [],
   "source": [
    "new_red = wine_red.copy()\n",
    "new_red['is_red'] = 1\n",
    "new_white = wine_white.copy()\n",
    "new_white['is_red'] = 0\n",
    "\n",
    "wine = new_red.append(new_white, ignore_index=True)"
   ]
  },
  {
   "cell_type": "code",
   "execution_count": 10,
   "metadata": {},
   "outputs": [
    {
     "data": {
      "text/html": [
       "<div>\n",
       "<style scoped>\n",
       "    .dataframe tbody tr th:only-of-type {\n",
       "        vertical-align: middle;\n",
       "    }\n",
       "\n",
       "    .dataframe tbody tr th {\n",
       "        vertical-align: top;\n",
       "    }\n",
       "\n",
       "    .dataframe thead th {\n",
       "        text-align: right;\n",
       "    }\n",
       "</style>\n",
       "<table border=\"1\" class=\"dataframe\">\n",
       "  <thead>\n",
       "    <tr style=\"text-align: right;\">\n",
       "      <th></th>\n",
       "      <th>fixed acidity</th>\n",
       "      <th>volatile acidity</th>\n",
       "      <th>citric acid</th>\n",
       "      <th>residual sugar</th>\n",
       "      <th>chlorides</th>\n",
       "      <th>free sulfur dioxide</th>\n",
       "      <th>total sulfur dioxide</th>\n",
       "      <th>density</th>\n",
       "      <th>pH</th>\n",
       "      <th>sulphates</th>\n",
       "      <th>alcohol</th>\n",
       "      <th>quality</th>\n",
       "      <th>is_red</th>\n",
       "    </tr>\n",
       "  </thead>\n",
       "  <tbody>\n",
       "    <tr>\n",
       "      <th>0</th>\n",
       "      <td>7.4</td>\n",
       "      <td>0.70</td>\n",
       "      <td>0.0</td>\n",
       "      <td>1.9</td>\n",
       "      <td>0.076</td>\n",
       "      <td>11.0</td>\n",
       "      <td>34.0</td>\n",
       "      <td>0.9978</td>\n",
       "      <td>3.51</td>\n",
       "      <td>0.56</td>\n",
       "      <td>9.4</td>\n",
       "      <td>5</td>\n",
       "      <td>1</td>\n",
       "    </tr>\n",
       "    <tr>\n",
       "      <th>1</th>\n",
       "      <td>7.8</td>\n",
       "      <td>0.88</td>\n",
       "      <td>0.0</td>\n",
       "      <td>2.6</td>\n",
       "      <td>0.098</td>\n",
       "      <td>25.0</td>\n",
       "      <td>67.0</td>\n",
       "      <td>0.9968</td>\n",
       "      <td>3.20</td>\n",
       "      <td>0.68</td>\n",
       "      <td>9.8</td>\n",
       "      <td>5</td>\n",
       "      <td>1</td>\n",
       "    </tr>\n",
       "  </tbody>\n",
       "</table>\n",
       "</div>"
      ],
      "text/plain": [
       "   fixed acidity  volatile acidity  citric acid  residual sugar  chlorides  \\\n",
       "0            7.4              0.70          0.0             1.9      0.076   \n",
       "1            7.8              0.88          0.0             2.6      0.098   \n",
       "\n",
       "   free sulfur dioxide  total sulfur dioxide  density    pH  sulphates  \\\n",
       "0                 11.0                  34.0   0.9978  3.51       0.56   \n",
       "1                 25.0                  67.0   0.9968  3.20       0.68   \n",
       "\n",
       "   alcohol  quality  is_red  \n",
       "0      9.4        5       1  \n",
       "1      9.8        5       1  "
      ]
     },
     "execution_count": 10,
     "metadata": {},
     "output_type": "execute_result"
    }
   ],
   "source": [
    "wine.head(2)"
   ]
  },
  {
   "cell_type": "code",
   "execution_count": 11,
   "metadata": {},
   "outputs": [],
   "source": [
    "X = wine[['volatile acidity', 'sulphates']]\n",
    "y = wine['is_red']"
   ]
  },
  {
   "cell_type": "markdown",
   "metadata": {},
   "source": [
    "#### split train&test"
   ]
  },
  {
   "cell_type": "code",
   "execution_count": 12,
   "metadata": {},
   "outputs": [],
   "source": [
    "from sklearn.model_selection import train_test_split"
   ]
  },
  {
   "cell_type": "code",
   "execution_count": 13,
   "metadata": {},
   "outputs": [],
   "source": [
    "train_X, test_X, train_y, test_y = train_test_split(X, y, stratify=wine['is_red'], random_state=42)"
   ]
  },
  {
   "cell_type": "code",
   "execution_count": 14,
   "metadata": {},
   "outputs": [
    {
     "data": {
      "image/png": "[encoded data removed]",
      "text/plain": [
       "<Figure size 1080x1080 with 1 Axes>"
      ]
     },
     "metadata": {
      "needs_background": "light"
     },
     "output_type": "display_data"
    }
   ],
   "source": [
    "red_index = train_y[train_y==1].index\n",
    "white_index = train_y[train_y==0].index\n",
    "plt.figure(figsize=(15,15))\n",
    "plt.scatter(x=train_X.loc[white_index, 'volatile acidity'], y=train_X.loc[white_index, 'sulphates'], color='r', alpha=0.3)\n",
    "\n",
    "plt.scatter(x=train_X.loc[red_index, 'volatile acidity'], y=train_X.loc[red_index, 'sulphates'], color='g',  alpha=0.3)\n",
    "\n",
    "plt.show()"
   ]
  },
  {
   "cell_type": "code",
   "execution_count": 15,
   "metadata": {},
   "outputs": [
    {
     "data": {
      "text/plain": [
       "DecisionTreeClassifier(class_weight=None, criterion='entropy', max_depth=2,\n",
       "            max_features=None, max_leaf_nodes=None,\n",
       "            min_impurity_decrease=0.0, min_impurity_split=None,\n",
       "            min_samples_leaf=1, min_samples_split=2,\n",
       "            min_weight_fraction_leaf=0.0, presort=False, random_state=None,\n",
       "            splitter='best')"
      ]
     },
     "execution_count": 15,
     "metadata": {},
     "output_type": "execute_result"
    }
   ],
   "source": [
    "from sklearn import tree\n",
    "\n",
    "\"\"\"\n",
    "DecisionTreeClassifier(criterion=’gini’, splitter=’best’, max_depth=None, min_samples_split=2, min_samples_leaf=1, \n",
    "                       min_weight_fraction_leaf=0.0, max_features=None, max_leaf_nodes=None, \n",
    "                       min_impurity_decrease=0.0, min_impurity_split=None, class_weight=None, presort=False)\n",
    "\n",
    "# scikit-learn uses an optimised version of the CART algorithm.\n",
    "                       \n",
    "# criterion: entropy or gini\n",
    "The function to measure the quality of a split. \n",
    "Supported criteria are “gini” for the Gini impurity and “entropy” for the information gain.\n",
    "\n",
    "# random_state: 난수값\n",
    "\n",
    "# max_depth : int or None, optional (default=None)\n",
    "The maximum depth of the tree. \n",
    "If None, then nodes are expanded until all leaves are pure or until all leaves contain less than min_samples_split sample\n",
    "\n",
    "# min_samples_split: 분할 되기 위해 노드가 가져야 하는 최소 샘플 수 \n",
    "# min_samples_leaf: 리프 노드가 가지고 있어야 할 최소 샘플 수\n",
    "# max_leaf_nodes: 리프 노드의 최대 수\n",
    "# max_features: 노드에서 분할에 사용할 특성의 최대 수\n",
    "\"\"\"\n",
    "\n",
    "\n",
    "clf = tree.DecisionTreeClassifier('entropy', max_depth=2)\n",
    "clf.fit(train_X, train_y)"
   ]
  },
  {
   "cell_type": "code",
   "execution_count": 16,
   "metadata": {},
   "outputs": [
    {
     "data": {
      "image/svg+xml": [
       "<?xml version=\"1.0\" encoding=\"UTF-8\" standalone=\"no\"?>\r\n",
       "<!DOCTYPE svg PUBLIC \"-//W3C//DTD SVG 1.1//EN\"\r\n",
       " \"http://www.w3.org/Graphics/SVG/1.1/DTD/svg11.dtd\">\r\n",
       "<!-- Generated by graphviz version 2.38.0 (20140413.2041)\r\n",
       " -->\r\n",
       "<!-- Title: Tree Pages: 1 -->\r\n",
       "<svg width=\"586pt\" height=\"269pt\"\r\n",
       " viewBox=\"0.00 0.00 586.00 269.00\" xmlns=\"http://www.w3.org/2000/svg\" xmlns:xlink=\"http://www.w3.org/1999/xlink\">\r\n",
       "<g id=\"graph0\" class=\"graph\" transform=\"scale(1 1) rotate(0) translate(4 265)\">\r\n",
       "<title>Tree</title>\r\n",
       "<polygon fill=\"white\" stroke=\"none\" points=\"-4,4 -4,-265 582,-265 582,4 -4,4\"/>\r\n",
       "<!-- 0 -->\r\n",
       "<g id=\"node1\" class=\"node\"><title>0</title>\r\n",
       "<path fill=\"#e58139\" fill-opacity=\"0.674510\" stroke=\"black\" d=\"M359,-261C359,-261 219,-261 219,-261 213,-261 207,-255 207,-249 207,-249 207,-205 207,-205 207,-199 213,-193 219,-193 219,-193 359,-193 359,-193 365,-193 371,-199 371,-205 371,-205 371,-249 371,-249 371,-255 365,-261 359,-261\"/>\r\n",
       "<text text-anchor=\"middle\" x=\"289\" y=\"-245.8\" font-family=\"Helvetica,sans-Serif\" font-size=\"14.00\">volatile acidity &lt;= 0.377</text>\r\n",
       "<text text-anchor=\"middle\" x=\"289\" y=\"-230.8\" font-family=\"Helvetica,sans-Serif\" font-size=\"14.00\">entropy = 0.805</text>\r\n",
       "<text text-anchor=\"middle\" x=\"289\" y=\"-215.8\" font-family=\"Helvetica,sans-Serif\" font-size=\"14.00\">samples = 4872</text>\r\n",
       "<text text-anchor=\"middle\" x=\"289\" y=\"-200.8\" font-family=\"Helvetica,sans-Serif\" font-size=\"14.00\">value = [3673, 1199]</text>\r\n",
       "</g>\r\n",
       "<!-- 1 -->\r\n",
       "<g id=\"node2\" class=\"node\"><title>1</title>\r\n",
       "<path fill=\"#e58139\" fill-opacity=\"0.921569\" stroke=\"black\" d=\"M268,-157C268,-157 154,-157 154,-157 148,-157 142,-151 142,-145 142,-145 142,-101 142,-101 142,-95 148,-89 154,-89 154,-89 268,-89 268,-89 274,-89 280,-95 280,-101 280,-101 280,-145 280,-145 280,-151 274,-157 268,-157\"/>\r\n",
       "<text text-anchor=\"middle\" x=\"211\" y=\"-141.8\" font-family=\"Helvetica,sans-Serif\" font-size=\"14.00\">sulphates &lt;= 0.645</text>\r\n",
       "<text text-anchor=\"middle\" x=\"211\" y=\"-126.8\" font-family=\"Helvetica,sans-Serif\" font-size=\"14.00\">entropy = 0.379</text>\r\n",
       "<text text-anchor=\"middle\" x=\"211\" y=\"-111.8\" font-family=\"Helvetica,sans-Serif\" font-size=\"14.00\">samples = 3433</text>\r\n",
       "<text text-anchor=\"middle\" x=\"211\" y=\"-96.8\" font-family=\"Helvetica,sans-Serif\" font-size=\"14.00\">value = [3181, 252]</text>\r\n",
       "</g>\r\n",
       "<!-- 0&#45;&gt;1 -->\r\n",
       "<g id=\"edge1\" class=\"edge\"><title>0&#45;&gt;1</title>\r\n",
       "<path fill=\"none\" stroke=\"black\" d=\"M263.676,-192.884C257,-184.154 249.713,-174.625 242.746,-165.514\"/>\r\n",
       "<polygon fill=\"black\" stroke=\"black\" points=\"245.319,-163.117 236.464,-157.299 239.758,-167.369 245.319,-163.117\"/>\r\n",
       "<text text-anchor=\"middle\" x=\"233.16\" y=\"-178.38\" font-family=\"Helvetica,sans-Serif\" font-size=\"14.00\">True</text>\r\n",
       "</g>\r\n",
       "<!-- 4 -->\r\n",
       "<g id=\"node5\" class=\"node\"><title>4</title>\r\n",
       "<path fill=\"#399de5\" fill-opacity=\"0.482353\" stroke=\"black\" d=\"M424,-157C424,-157 310,-157 310,-157 304,-157 298,-151 298,-145 298,-145 298,-101 298,-101 298,-95 304,-89 310,-89 310,-89 424,-89 424,-89 430,-89 436,-95 436,-101 436,-101 436,-145 436,-145 436,-151 430,-157 424,-157\"/>\r\n",
       "<text text-anchor=\"middle\" x=\"367\" y=\"-141.8\" font-family=\"Helvetica,sans-Serif\" font-size=\"14.00\">sulphates &lt;= 0.515</text>\r\n",
       "<text text-anchor=\"middle\" x=\"367\" y=\"-126.8\" font-family=\"Helvetica,sans-Serif\" font-size=\"14.00\">entropy = 0.927</text>\r\n",
       "<text text-anchor=\"middle\" x=\"367\" y=\"-111.8\" font-family=\"Helvetica,sans-Serif\" font-size=\"14.00\">samples = 1439</text>\r\n",
       "<text text-anchor=\"middle\" x=\"367\" y=\"-96.8\" font-family=\"Helvetica,sans-Serif\" font-size=\"14.00\">value = [492, 947]</text>\r\n",
       "</g>\r\n",
       "<!-- 0&#45;&gt;4 -->\r\n",
       "<g id=\"edge4\" class=\"edge\"><title>0&#45;&gt;4</title>\r\n",
       "<path fill=\"none\" stroke=\"black\" d=\"M314.324,-192.884C321,-184.154 328.287,-174.625 335.254,-165.514\"/>\r\n",
       "<polygon fill=\"black\" stroke=\"black\" points=\"338.242,-167.369 341.536,-157.299 332.681,-163.117 338.242,-167.369\"/>\r\n",
       "<text text-anchor=\"middle\" x=\"344.84\" y=\"-178.38\" font-family=\"Helvetica,sans-Serif\" font-size=\"14.00\">False</text>\r\n",
       "</g>\r\n",
       "<!-- 2 -->\r\n",
       "<g id=\"node3\" class=\"node\"><title>2</title>\r\n",
       "<path fill=\"#e58139\" fill-opacity=\"0.968627\" stroke=\"black\" d=\"M118,-53C118,-53 12,-53 12,-53 6,-53 0,-47 0,-41 0,-41 0,-12 0,-12 0,-6 6,-0 12,-0 12,-0 118,-0 118,-0 124,-0 130,-6 130,-12 130,-12 130,-41 130,-41 130,-47 124,-53 118,-53\"/>\r\n",
       "<text text-anchor=\"middle\" x=\"65\" y=\"-37.8\" font-family=\"Helvetica,sans-Serif\" font-size=\"14.00\">entropy = 0.191</text>\r\n",
       "<text text-anchor=\"middle\" x=\"65\" y=\"-22.8\" font-family=\"Helvetica,sans-Serif\" font-size=\"14.00\">samples = 2972</text>\r\n",
       "<text text-anchor=\"middle\" x=\"65\" y=\"-7.8\" font-family=\"Helvetica,sans-Serif\" font-size=\"14.00\">value = [2885, 87]</text>\r\n",
       "</g>\r\n",
       "<!-- 1&#45;&gt;2 -->\r\n",
       "<g id=\"edge2\" class=\"edge\"><title>1&#45;&gt;2</title>\r\n",
       "<path fill=\"none\" stroke=\"black\" d=\"M159.936,-88.9485C144.814,-79.1601 128.306,-68.4756 113.36,-58.8015\"/>\r\n",
       "<polygon fill=\"black\" stroke=\"black\" points=\"115.059,-55.7322 104.763,-53.2367 111.256,-61.6087 115.059,-55.7322\"/>\r\n",
       "</g>\r\n",
       "<!-- 3 -->\r\n",
       "<g id=\"node4\" class=\"node\"><title>3</title>\r\n",
       "<path fill=\"#e58139\" fill-opacity=\"0.443137\" stroke=\"black\" d=\"M266,-53C266,-53 160,-53 160,-53 154,-53 148,-47 148,-41 148,-41 148,-12 148,-12 148,-6 154,-0 160,-0 160,-0 266,-0 266,-0 272,-0 278,-6 278,-12 278,-12 278,-41 278,-41 278,-47 272,-53 266,-53\"/>\r\n",
       "<text text-anchor=\"middle\" x=\"213\" y=\"-37.8\" font-family=\"Helvetica,sans-Serif\" font-size=\"14.00\">entropy = 0.941</text>\r\n",
       "<text text-anchor=\"middle\" x=\"213\" y=\"-22.8\" font-family=\"Helvetica,sans-Serif\" font-size=\"14.00\">samples = 461</text>\r\n",
       "<text text-anchor=\"middle\" x=\"213\" y=\"-7.8\" font-family=\"Helvetica,sans-Serif\" font-size=\"14.00\">value = [296, 165]</text>\r\n",
       "</g>\r\n",
       "<!-- 1&#45;&gt;3 -->\r\n",
       "<g id=\"edge3\" class=\"edge\"><title>1&#45;&gt;3</title>\r\n",
       "<path fill=\"none\" stroke=\"black\" d=\"M211.7,-88.9485C211.874,-80.7153 212.061,-71.848 212.238,-63.4814\"/>\r\n",
       "<polygon fill=\"black\" stroke=\"black\" points=\"215.743,-63.3086 212.455,-53.2367 208.744,-63.1604 215.743,-63.3086\"/>\r\n",
       "</g>\r\n",
       "<!-- 5 -->\r\n",
       "<g id=\"node6\" class=\"node\"><title>5</title>\r\n",
       "<path fill=\"#e58139\" fill-opacity=\"0.576471\" stroke=\"black\" d=\"M418,-53C418,-53 312,-53 312,-53 306,-53 300,-47 300,-41 300,-41 300,-12 300,-12 300,-6 306,-0 312,-0 312,-0 418,-0 418,-0 424,-0 430,-6 430,-12 430,-12 430,-41 430,-41 430,-47 424,-53 418,-53\"/>\r\n",
       "<text text-anchor=\"middle\" x=\"365\" y=\"-37.8\" font-family=\"Helvetica,sans-Serif\" font-size=\"14.00\">entropy = 0.877</text>\r\n",
       "<text text-anchor=\"middle\" x=\"365\" y=\"-22.8\" font-family=\"Helvetica,sans-Serif\" font-size=\"14.00\">samples = 448</text>\r\n",
       "<text text-anchor=\"middle\" x=\"365\" y=\"-7.8\" font-family=\"Helvetica,sans-Serif\" font-size=\"14.00\">value = [315, 133]</text>\r\n",
       "</g>\r\n",
       "<!-- 4&#45;&gt;5 -->\r\n",
       "<g id=\"edge5\" class=\"edge\"><title>4&#45;&gt;5</title>\r\n",
       "<path fill=\"none\" stroke=\"black\" d=\"M366.3,-88.9485C366.126,-80.7153 365.939,-71.848 365.762,-63.4814\"/>\r\n",
       "<polygon fill=\"black\" stroke=\"black\" points=\"369.256,-63.1604 365.545,-53.2367 362.257,-63.3086 369.256,-63.1604\"/>\r\n",
       "</g>\r\n",
       "<!-- 6 -->\r\n",
       "<g id=\"node7\" class=\"node\"><title>6</title>\r\n",
       "<path fill=\"#399de5\" fill-opacity=\"0.784314\" stroke=\"black\" d=\"M566,-53C566,-53 460,-53 460,-53 454,-53 448,-47 448,-41 448,-41 448,-12 448,-12 448,-6 454,-0 460,-0 460,-0 566,-0 566,-0 572,-0 578,-6 578,-12 578,-12 578,-41 578,-41 578,-47 572,-53 566,-53\"/>\r\n",
       "<text text-anchor=\"middle\" x=\"513\" y=\"-37.8\" font-family=\"Helvetica,sans-Serif\" font-size=\"14.00\">entropy = 0.677</text>\r\n",
       "<text text-anchor=\"middle\" x=\"513\" y=\"-22.8\" font-family=\"Helvetica,sans-Serif\" font-size=\"14.00\">samples = 991</text>\r\n",
       "<text text-anchor=\"middle\" x=\"513\" y=\"-7.8\" font-family=\"Helvetica,sans-Serif\" font-size=\"14.00\">value = [177, 814]</text>\r\n",
       "</g>\r\n",
       "<!-- 4&#45;&gt;6 -->\r\n",
       "<g id=\"edge6\" class=\"edge\"><title>4&#45;&gt;6</title>\r\n",
       "<path fill=\"none\" stroke=\"black\" d=\"M418.064,-88.9485C433.186,-79.1601 449.694,-68.4756 464.64,-58.8015\"/>\r\n",
       "<polygon fill=\"black\" stroke=\"black\" points=\"466.744,-61.6087 473.237,-53.2367 462.941,-55.7322 466.744,-61.6087\"/>\r\n",
       "</g>\r\n",
       "</g>\r\n",
       "</svg>\r\n"
      ],
      "text/plain": [
       "<graphviz.files.Source at 0xbd6be80>"
      ]
     },
     "execution_count": 16,
     "metadata": {},
     "output_type": "execute_result"
    }
   ],
   "source": [
    "dot_data = tree.export_graphviz(\n",
    "    clf, out_file=None, # 파일을 새로 생성하지는 않겠다.\n",
    "    # max_depth=2, # 최대 깊이는 2단계 까지 하도록 하겠다.\n",
    "    feature_names=list(X.columns.values), # 이름은 X의 columns으로 하겠다.\n",
    "    filled=True, # 색깔을 입히겠다.\n",
    "    rounded=True # 둥그렇게 만들겠다.\n",
    ")\n",
    "graphviz.Source(dot_data)\n",
    "\n",
    "# 결과 해석\n",
    "# 1. value의 숫자로 파악한다. 첫번째 value는? \n",
    "# 2. "
   ]
  },
  {
   "cell_type": "code",
   "execution_count": 17,
   "metadata": {},
   "outputs": [
    {
     "data": {
      "text/plain": [
       "array([0, 1], dtype=int64)"
      ]
     },
     "execution_count": 17,
     "metadata": {},
     "output_type": "execute_result"
    }
   ],
   "source": [
    "clf.classes_\n",
    "# 0 : \n",
    "# 1 :"
   ]
  },
  {
   "cell_type": "code",
   "execution_count": 18,
   "metadata": {},
   "outputs": [
    {
     "data": {
      "text/plain": [
       "2"
      ]
     },
     "execution_count": 18,
     "metadata": {},
     "output_type": "execute_result"
    }
   ],
   "source": [
    "clf.max_features_"
   ]
  },
  {
   "cell_type": "code",
   "execution_count": 19,
   "metadata": {},
   "outputs": [
    {
     "ename": "AttributeError",
     "evalue": "'DecisionTreeClassifier' object has no attribute 'get_n_leaves'",
     "output_type": "error",
     "traceback": [
      "\u001b[1;31m---------------------------------------------------------------------------\u001b[0m",
      "\u001b[1;31mAttributeError\u001b[0m                            Traceback (most recent call last)",
      "\u001b[1;32m<ipython-input-19-0fc5669b807a>\u001b[0m in \u001b[0;36m<module>\u001b[1;34m\u001b[0m\n\u001b[1;32m----> 1\u001b[1;33m \u001b[0mclf\u001b[0m\u001b[1;33m.\u001b[0m\u001b[0mget_n_leaves\u001b[0m\u001b[1;33m(\u001b[0m\u001b[1;33m)\u001b[0m\u001b[1;33m\u001b[0m\u001b[1;33m\u001b[0m\u001b[0m\n\u001b[0m",
      "\u001b[1;31mAttributeError\u001b[0m: 'DecisionTreeClassifier' object has no attribute 'get_n_leaves'"
     ]
    }
   ],
   "source": [
    "clf.get_n_leaves()"
   ]
  },
  {
   "cell_type": "code",
   "execution_count": 20,
   "metadata": {},
   "outputs": [
    {
     "data": {
      "text/plain": [
       "0.8846469622331691"
      ]
     },
     "execution_count": 20,
     "metadata": {},
     "output_type": "execute_result"
    }
   ],
   "source": [
    "clf.score(train_X, train_y)"
   ]
  },
  {
   "cell_type": "code",
   "execution_count": 21,
   "metadata": {},
   "outputs": [
    {
     "data": {
      "text/plain": [
       "0.8898461538461538"
      ]
     },
     "execution_count": 21,
     "metadata": {},
     "output_type": "execute_result"
    }
   ],
   "source": [
    "clf.score(test_X, test_y)"
   ]
  },
  {
   "cell_type": "code",
   "execution_count": 22,
   "metadata": {},
   "outputs": [
    {
     "data": {
      "text/plain": [
       "volatile acidity    0.27\n",
       "sulphates           0.42\n",
       "Name: 5370, dtype: float64"
      ]
     },
     "execution_count": 22,
     "metadata": {},
     "output_type": "execute_result"
    }
   ],
   "source": [
    "train_X.iloc[1]\n",
    "# 아래에 넣어본다."
   ]
  },
  {
   "cell_type": "code",
   "execution_count": 23,
   "metadata": {
    "scrolled": true
   },
   "outputs": [
    {
     "data": {
      "text/plain": [
       "<2x7 sparse matrix of type '<class 'numpy.int64'>'\n",
       "\twith 6 stored elements in Compressed Sparse Row format>"
      ]
     },
     "execution_count": 23,
     "metadata": {},
     "output_type": "execute_result"
    }
   ],
   "source": [
    "# (a, b) = (X_index, node_index)\n",
    "clf.decision_path(X.loc[:1])"
   ]
  },
  {
   "cell_type": "code",
   "execution_count": 24,
   "metadata": {},
   "outputs": [
    {
     "data": {
      "text/html": [
       "<div>\n",
       "<style scoped>\n",
       "    .dataframe tbody tr th:only-of-type {\n",
       "        vertical-align: middle;\n",
       "    }\n",
       "\n",
       "    .dataframe tbody tr th {\n",
       "        vertical-align: top;\n",
       "    }\n",
       "\n",
       "    .dataframe thead th {\n",
       "        text-align: right;\n",
       "    }\n",
       "</style>\n",
       "<table border=\"1\" class=\"dataframe\">\n",
       "  <thead>\n",
       "    <tr style=\"text-align: right;\">\n",
       "      <th></th>\n",
       "      <th>volatile acidity</th>\n",
       "      <th>sulphates</th>\n",
       "    </tr>\n",
       "  </thead>\n",
       "  <tbody>\n",
       "    <tr>\n",
       "      <th>5369</th>\n",
       "      <td>0.27</td>\n",
       "      <td>0.65</td>\n",
       "    </tr>\n",
       "    <tr>\n",
       "      <th>5370</th>\n",
       "      <td>0.27</td>\n",
       "      <td>0.42</td>\n",
       "    </tr>\n",
       "  </tbody>\n",
       "</table>\n",
       "</div>"
      ],
      "text/plain": [
       "      volatile acidity  sulphates\n",
       "5369              0.27       0.65\n",
       "5370              0.27       0.42"
      ]
     },
     "execution_count": 24,
     "metadata": {},
     "output_type": "execute_result"
    }
   ],
   "source": [
    "train_X.head(2)"
   ]
  },
  {
   "cell_type": "code",
   "execution_count": 25,
   "metadata": {},
   "outputs": [
    {
     "name": "stdout",
     "output_type": "stream",
     "text": [
      "  (0, 0)\t1\n",
      "  (0, 1)\t1\n",
      "  (0, 3)\t1\n"
     ]
    }
   ],
   "source": [
    "print(clf.decision_path(train_X.iloc[:1]))\n",
    "# 앞 인덱스는 현재 데이터의 인덱스? 노드가 이동하는 경로\n",
    "# 0번째 데이터가 0번재에서 시작하고\n",
    "# 0번재 데이터가 1번째 노드로 가고\n",
    "# 0번째 데이터가 3번째 노드에 도착했다.\n",
    "\n",
    "# 1은 뭔가요? \n",
    "\n",
    "#  (0, 0)\t1  0번째 노드에서\n",
    "#  (0, 1)\t1  1번째 노드로 가고\n",
    "#  (0, 3)\t1  3번째 노드에 도착했다. 숫자가 0이 더 많으므로, white가 된다."
   ]
  },
  {
   "cell_type": "code",
   "execution_count": 26,
   "metadata": {},
   "outputs": [
    {
     "data": {
      "text/plain": [
       "array([0], dtype=int64)"
      ]
     },
     "execution_count": 26,
     "metadata": {},
     "output_type": "execute_result"
    }
   ],
   "source": [
    "clf.predict(train_X.iloc[:1])\n",
    "# 예측값을 출력한다."
   ]
  },
  {
   "cell_type": "code",
   "execution_count": 27,
   "metadata": {},
   "outputs": [
    {
     "data": {
      "text/plain": [
       "array([[-1.7225648 , -0.19675417],\n",
       "       [-1.7225648 , -0.19675417],\n",
       "       [-1.7225648 , -0.19675417],\n",
       "       ...,\n",
       "       [-0.02971023, -3.53108229],\n",
       "       [-0.02971023, -3.53108229],\n",
       "       [-0.02971023, -3.53108229]])"
      ]
     },
     "execution_count": 27,
     "metadata": {},
     "output_type": "execute_result"
    }
   ],
   "source": [
    "# Predict class log-probabilities of the input samples X.\n",
    "clf.predict_log_proba(X)"
   ]
  },
  {
   "cell_type": "code",
   "execution_count": 28,
   "metadata": {},
   "outputs": [
    {
     "data": {
      "text/plain": [
       "array([[0.64208243, 0.35791757],\n",
       "       [0.97072678, 0.02927322],\n",
       "       [0.97072678, 0.02927322],\n",
       "       ...,\n",
       "       [0.97072678, 0.02927322],\n",
       "       [0.97072678, 0.02927322],\n",
       "       [0.97072678, 0.02927322]])"
      ]
     },
     "execution_count": 28,
     "metadata": {},
     "output_type": "execute_result"
    }
   ],
   "source": [
    "# Predict class log-probabilities of the input samples X.\n",
    "clf.predict_proba(train_X)\n",
    "# 각각에 대한 예측 확률 \n",
    "# 숫자가 높은 쪽으로 분류한다. "
   ]
  },
  {
   "cell_type": "code",
   "execution_count": 29,
   "metadata": {},
   "outputs": [
    {
     "ename": "AttributeError",
     "evalue": "'DecisionTreeClassifier' object has no attribute 'get_depth'",
     "output_type": "error",
     "traceback": [
      "\u001b[1;31m---------------------------------------------------------------------------\u001b[0m",
      "\u001b[1;31mAttributeError\u001b[0m                            Traceback (most recent call last)",
      "\u001b[1;32m<ipython-input-29-7a118fcad5eb>\u001b[0m in \u001b[0;36m<module>\u001b[1;34m\u001b[0m\n\u001b[1;32m----> 1\u001b[1;33m \u001b[0mclf\u001b[0m\u001b[1;33m.\u001b[0m\u001b[0mget_depth\u001b[0m\u001b[1;33m(\u001b[0m\u001b[1;33m)\u001b[0m\u001b[1;33m\u001b[0m\u001b[1;33m\u001b[0m\u001b[0m\n\u001b[0m",
      "\u001b[1;31mAttributeError\u001b[0m: 'DecisionTreeClassifier' object has no attribute 'get_depth'"
     ]
    }
   ],
   "source": [
    "clf.get_depth()"
   ]
  },
  {
   "cell_type": "code",
   "execution_count": 30,
   "metadata": {},
   "outputs": [
    {
     "data": {
      "text/plain": [
       "array([6, 6, 6, 2, 6, 6, 5, 5, 6, 6, 6], dtype=int64)"
      ]
     },
     "execution_count": 30,
     "metadata": {},
     "output_type": "execute_result"
    }
   ],
   "source": [
    "clf.apply(X.loc[:10]) # node의 위치\n",
    "# loc으로 10까지의 행을 불러온 다음에,\n",
    "# 이 X들에 대해서, 어느 위치에 있는지를 예측한다. "
   ]
  },
  {
   "cell_type": "code",
   "execution_count": 31,
   "metadata": {},
   "outputs": [
    {
     "data": {
      "text/plain": [
       "array([1, 1, 1, 0, 1, 1, 0, 0, 1, 1], dtype=int64)"
      ]
     },
     "execution_count": 31,
     "metadata": {},
     "output_type": "execute_result"
    }
   ],
   "source": [
    "clf.predict(X[:10])"
   ]
  },
  {
   "cell_type": "markdown",
   "metadata": {},
   "source": [
    "### parameter 조정 # depth3"
   ]
  },
  {
   "cell_type": "code",
   "execution_count": 32,
   "metadata": {},
   "outputs": [
    {
     "data": {
      "text/plain": [
       "DecisionTreeClassifier(class_weight=None, criterion='entropy', max_depth=3,\n",
       "            max_features=None, max_leaf_nodes=None,\n",
       "            min_impurity_decrease=0.0, min_impurity_split=None,\n",
       "            min_samples_leaf=1, min_samples_split=2,\n",
       "            min_weight_fraction_leaf=0.0, presort=False, random_state=None,\n",
       "            splitter='best')"
      ]
     },
     "execution_count": 32,
     "metadata": {},
     "output_type": "execute_result"
    }
   ],
   "source": [
    "from sklearn import tree\n",
    "\n",
    "\"\"\"\n",
    "DecisionTreeClassifier(criterion=’gini’, splitter=’best’, max_depth=None, min_samples_split=2, min_samples_leaf=1, \n",
    "                       min_weight_fraction_leaf=0.0, max_features=None, random_state=None, max_leaf_nodes=None, \n",
    "                       min_impurity_decrease=0.0, min_impurity_split=None, class_weight=None, presort=False)\n",
    "\n",
    "# scikit-learn uses an optimised version of the CART algorithm.\n",
    "                       \n",
    "# criterion: entropy or gini\n",
    "The function to measure the quality of a split. \n",
    "Supported criteria are “gini” for the Gini impurity and “entropy” for the information gain.\n",
    "\n",
    "# max_depth : int or None, optional (default=None)\n",
    "The maximum depth of the tree. \n",
    "If None, then nodes are expanded until all leaves are pure or until all leaves contain less than min_samples_split sample\n",
    "\n",
    "# min_samples_split: 분할 되기 위해 노드가 가져야 하는 최소 샘플 수 \n",
    "# min_samples_leaf: 리프 노드가 가지고 있어야 할 최소 샘플 수\n",
    "# max_leaf_nodes: 리프 노드의 최대 수\n",
    "# max_features: 노드에서 분할에 사용할 특성의 최대 수\n",
    "\"\"\"\n",
    "clf = tree.DecisionTreeClassifier('entropy', max_depth=3)\n",
    "clf.fit(train_X, train_y)"
   ]
  },
  {
   "cell_type": "code",
   "execution_count": 33,
   "metadata": {},
   "outputs": [
    {
     "data": {
      "image/svg+xml": [
       "<?xml version=\"1.0\" encoding=\"UTF-8\" standalone=\"no\"?>\r\n",
       "<!DOCTYPE svg PUBLIC \"-//W3C//DTD SVG 1.1//EN\"\r\n",
       " \"http://www.w3.org/Graphics/SVG/1.1/DTD/svg11.dtd\">\r\n",
       "<!-- Generated by graphviz version 2.38.0 (20140413.2041)\r\n",
       " -->\r\n",
       "<!-- Title: Tree Pages: 1 -->\r\n",
       "<svg width=\"1120pt\" height=\"373pt\"\r\n",
       " viewBox=\"0.00 0.00 1120.00 373.00\" xmlns=\"http://www.w3.org/2000/svg\" xmlns:xlink=\"http://www.w3.org/1999/xlink\">\r\n",
       "<g id=\"graph0\" class=\"graph\" transform=\"scale(1 1) rotate(0) translate(4 369)\">\r\n",
       "<title>Tree</title>\r\n",
       "<polygon fill=\"white\" stroke=\"none\" points=\"-4,4 -4,-369 1116,-369 1116,4 -4,4\"/>\r\n",
       "<!-- 0 -->\r\n",
       "<g id=\"node1\" class=\"node\"><title>0</title>\r\n",
       "<path fill=\"#e58139\" fill-opacity=\"0.674510\" stroke=\"black\" d=\"M629,-365C629,-365 489,-365 489,-365 483,-365 477,-359 477,-353 477,-353 477,-309 477,-309 477,-303 483,-297 489,-297 489,-297 629,-297 629,-297 635,-297 641,-303 641,-309 641,-309 641,-353 641,-353 641,-359 635,-365 629,-365\"/>\r\n",
       "<text text-anchor=\"middle\" x=\"559\" y=\"-349.8\" font-family=\"Helvetica,sans-Serif\" font-size=\"14.00\">volatile acidity &lt;= 0.377</text>\r\n",
       "<text text-anchor=\"middle\" x=\"559\" y=\"-334.8\" font-family=\"Helvetica,sans-Serif\" font-size=\"14.00\">entropy = 0.805</text>\r\n",
       "<text text-anchor=\"middle\" x=\"559\" y=\"-319.8\" font-family=\"Helvetica,sans-Serif\" font-size=\"14.00\">samples = 4872</text>\r\n",
       "<text text-anchor=\"middle\" x=\"559\" y=\"-304.8\" font-family=\"Helvetica,sans-Serif\" font-size=\"14.00\">value = [3673, 1199]</text>\r\n",
       "</g>\r\n",
       "<!-- 1 -->\r\n",
       "<g id=\"node2\" class=\"node\"><title>1</title>\r\n",
       "<path fill=\"#e58139\" fill-opacity=\"0.921569\" stroke=\"black\" d=\"M508,-261C508,-261 394,-261 394,-261 388,-261 382,-255 382,-249 382,-249 382,-205 382,-205 382,-199 388,-193 394,-193 394,-193 508,-193 508,-193 514,-193 520,-199 520,-205 520,-205 520,-249 520,-249 520,-255 514,-261 508,-261\"/>\r\n",
       "<text text-anchor=\"middle\" x=\"451\" y=\"-245.8\" font-family=\"Helvetica,sans-Serif\" font-size=\"14.00\">sulphates &lt;= 0.645</text>\r\n",
       "<text text-anchor=\"middle\" x=\"451\" y=\"-230.8\" font-family=\"Helvetica,sans-Serif\" font-size=\"14.00\">entropy = 0.379</text>\r\n",
       "<text text-anchor=\"middle\" x=\"451\" y=\"-215.8\" font-family=\"Helvetica,sans-Serif\" font-size=\"14.00\">samples = 3433</text>\r\n",
       "<text text-anchor=\"middle\" x=\"451\" y=\"-200.8\" font-family=\"Helvetica,sans-Serif\" font-size=\"14.00\">value = [3181, 252]</text>\r\n",
       "</g>\r\n",
       "<!-- 0&#45;&gt;1 -->\r\n",
       "<g id=\"edge1\" class=\"edge\"><title>0&#45;&gt;1</title>\r\n",
       "<path fill=\"none\" stroke=\"black\" d=\"M523.935,-296.884C514.316,-287.798 503.778,-277.845 493.777,-268.4\"/>\r\n",
       "<polygon fill=\"black\" stroke=\"black\" points=\"495.931,-265.621 486.258,-261.299 491.125,-270.71 495.931,-265.621\"/>\r\n",
       "<text text-anchor=\"middle\" x=\"486.972\" y=\"-282.589\" font-family=\"Helvetica,sans-Serif\" font-size=\"14.00\">True</text>\r\n",
       "</g>\r\n",
       "<!-- 8 -->\r\n",
       "<g id=\"node9\" class=\"node\"><title>8</title>\r\n",
       "<path fill=\"#399de5\" fill-opacity=\"0.482353\" stroke=\"black\" d=\"M724,-261C724,-261 610,-261 610,-261 604,-261 598,-255 598,-249 598,-249 598,-205 598,-205 598,-199 604,-193 610,-193 610,-193 724,-193 724,-193 730,-193 736,-199 736,-205 736,-205 736,-249 736,-249 736,-255 730,-261 724,-261\"/>\r\n",
       "<text text-anchor=\"middle\" x=\"667\" y=\"-245.8\" font-family=\"Helvetica,sans-Serif\" font-size=\"14.00\">sulphates &lt;= 0.515</text>\r\n",
       "<text text-anchor=\"middle\" x=\"667\" y=\"-230.8\" font-family=\"Helvetica,sans-Serif\" font-size=\"14.00\">entropy = 0.927</text>\r\n",
       "<text text-anchor=\"middle\" x=\"667\" y=\"-215.8\" font-family=\"Helvetica,sans-Serif\" font-size=\"14.00\">samples = 1439</text>\r\n",
       "<text text-anchor=\"middle\" x=\"667\" y=\"-200.8\" font-family=\"Helvetica,sans-Serif\" font-size=\"14.00\">value = [492, 947]</text>\r\n",
       "</g>\r\n",
       "<!-- 0&#45;&gt;8 -->\r\n",
       "<g id=\"edge8\" class=\"edge\"><title>0&#45;&gt;8</title>\r\n",
       "<path fill=\"none\" stroke=\"black\" d=\"M594.065,-296.884C603.684,-287.798 614.222,-277.845 624.223,-268.4\"/>\r\n",
       "<polygon fill=\"black\" stroke=\"black\" points=\"626.875,-270.71 631.742,-261.299 622.069,-265.621 626.875,-270.71\"/>\r\n",
       "<text text-anchor=\"middle\" x=\"631.028\" y=\"-282.589\" font-family=\"Helvetica,sans-Serif\" font-size=\"14.00\">False</text>\r\n",
       "</g>\r\n",
       "<!-- 2 -->\r\n",
       "<g id=\"node3\" class=\"node\"><title>2</title>\r\n",
       "<path fill=\"#e58139\" fill-opacity=\"0.968627\" stroke=\"black\" d=\"M266,-157C266,-157 152,-157 152,-157 146,-157 140,-151 140,-145 140,-145 140,-101 140,-101 140,-95 146,-89 152,-89 152,-89 266,-89 266,-89 272,-89 278,-95 278,-101 278,-101 278,-145 278,-145 278,-151 272,-157 266,-157\"/>\r\n",
       "<text text-anchor=\"middle\" x=\"209\" y=\"-141.8\" font-family=\"Helvetica,sans-Serif\" font-size=\"14.00\">sulphates &lt;= 0.505</text>\r\n",
       "<text text-anchor=\"middle\" x=\"209\" y=\"-126.8\" font-family=\"Helvetica,sans-Serif\" font-size=\"14.00\">entropy = 0.191</text>\r\n",
       "<text text-anchor=\"middle\" x=\"209\" y=\"-111.8\" font-family=\"Helvetica,sans-Serif\" font-size=\"14.00\">samples = 2972</text>\r\n",
       "<text text-anchor=\"middle\" x=\"209\" y=\"-96.8\" font-family=\"Helvetica,sans-Serif\" font-size=\"14.00\">value = [2885, 87]</text>\r\n",
       "</g>\r\n",
       "<!-- 1&#45;&gt;2 -->\r\n",
       "<g id=\"edge2\" class=\"edge\"><title>1&#45;&gt;2</title>\r\n",
       "<path fill=\"none\" stroke=\"black\" d=\"M381.976,-196.907C352.477,-184.474 317.889,-169.895 287.426,-157.056\"/>\r\n",
       "<polygon fill=\"black\" stroke=\"black\" points=\"288.69,-153.79 278.115,-153.131 285.971,-160.241 288.69,-153.79\"/>\r\n",
       "</g>\r\n",
       "<!-- 5 -->\r\n",
       "<g id=\"node6\" class=\"node\"><title>5</title>\r\n",
       "<path fill=\"#e58139\" fill-opacity=\"0.443137\" stroke=\"black\" d=\"M521,-157C521,-157 381,-157 381,-157 375,-157 369,-151 369,-145 369,-145 369,-101 369,-101 369,-95 375,-89 381,-89 381,-89 521,-89 521,-89 527,-89 533,-95 533,-101 533,-101 533,-145 533,-145 533,-151 527,-157 521,-157\"/>\r\n",
       "<text text-anchor=\"middle\" x=\"451\" y=\"-141.8\" font-family=\"Helvetica,sans-Serif\" font-size=\"14.00\">volatile acidity &lt;= 0.257</text>\r\n",
       "<text text-anchor=\"middle\" x=\"451\" y=\"-126.8\" font-family=\"Helvetica,sans-Serif\" font-size=\"14.00\">entropy = 0.941</text>\r\n",
       "<text text-anchor=\"middle\" x=\"451\" y=\"-111.8\" font-family=\"Helvetica,sans-Serif\" font-size=\"14.00\">samples = 461</text>\r\n",
       "<text text-anchor=\"middle\" x=\"451\" y=\"-96.8\" font-family=\"Helvetica,sans-Serif\" font-size=\"14.00\">value = [296, 165]</text>\r\n",
       "</g>\r\n",
       "<!-- 1&#45;&gt;5 -->\r\n",
       "<g id=\"edge5\" class=\"edge\"><title>1&#45;&gt;5</title>\r\n",
       "<path fill=\"none\" stroke=\"black\" d=\"M451,-192.884C451,-184.778 451,-175.982 451,-167.472\"/>\r\n",
       "<polygon fill=\"black\" stroke=\"black\" points=\"454.5,-167.299 451,-157.299 447.5,-167.299 454.5,-167.299\"/>\r\n",
       "</g>\r\n",
       "<!-- 3 -->\r\n",
       "<g id=\"node4\" class=\"node\"><title>3</title>\r\n",
       "<path fill=\"#e58139\" fill-opacity=\"0.992157\" stroke=\"black\" d=\"M118,-53C118,-53 12,-53 12,-53 6,-53 0,-47 0,-41 0,-41 0,-12 0,-12 0,-6 6,-0 12,-0 12,-0 118,-0 118,-0 124,-0 130,-6 130,-12 130,-12 130,-41 130,-41 130,-47 124,-53 118,-53\"/>\r\n",
       "<text text-anchor=\"middle\" x=\"65\" y=\"-37.8\" font-family=\"Helvetica,sans-Serif\" font-size=\"14.00\">entropy = 0.071</text>\r\n",
       "<text text-anchor=\"middle\" x=\"65\" y=\"-22.8\" font-family=\"Helvetica,sans-Serif\" font-size=\"14.00\">samples = 2002</text>\r\n",
       "<text text-anchor=\"middle\" x=\"65\" y=\"-7.8\" font-family=\"Helvetica,sans-Serif\" font-size=\"14.00\">value = [1985, 17]</text>\r\n",
       "</g>\r\n",
       "<!-- 2&#45;&gt;3 -->\r\n",
       "<g id=\"edge3\" class=\"edge\"><title>2&#45;&gt;3</title>\r\n",
       "<path fill=\"none\" stroke=\"black\" d=\"M158.636,-88.9485C143.72,-79.1601 127.439,-68.4756 112.697,-58.8015\"/>\r\n",
       "<polygon fill=\"black\" stroke=\"black\" points=\"114.499,-55.7971 104.218,-53.2367 110.658,-61.6495 114.499,-55.7971\"/>\r\n",
       "</g>\r\n",
       "<!-- 4 -->\r\n",
       "<g id=\"node5\" class=\"node\"><title>4</title>\r\n",
       "<path fill=\"#e58139\" fill-opacity=\"0.921569\" stroke=\"black\" d=\"M258,-53C258,-53 160,-53 160,-53 154,-53 148,-47 148,-41 148,-41 148,-12 148,-12 148,-6 154,-0 160,-0 160,-0 258,-0 258,-0 264,-0 270,-6 270,-12 270,-12 270,-41 270,-41 270,-47 264,-53 258,-53\"/>\r\n",
       "<text text-anchor=\"middle\" x=\"209\" y=\"-37.8\" font-family=\"Helvetica,sans-Serif\" font-size=\"14.00\">entropy = 0.374</text>\r\n",
       "<text text-anchor=\"middle\" x=\"209\" y=\"-22.8\" font-family=\"Helvetica,sans-Serif\" font-size=\"14.00\">samples = 970</text>\r\n",
       "<text text-anchor=\"middle\" x=\"209\" y=\"-7.8\" font-family=\"Helvetica,sans-Serif\" font-size=\"14.00\">value = [900, 70]</text>\r\n",
       "</g>\r\n",
       "<!-- 2&#45;&gt;4 -->\r\n",
       "<g id=\"edge4\" class=\"edge\"><title>2&#45;&gt;4</title>\r\n",
       "<path fill=\"none\" stroke=\"black\" d=\"M209,-88.9485C209,-80.7153 209,-71.848 209,-63.4814\"/>\r\n",
       "<polygon fill=\"black\" stroke=\"black\" points=\"212.5,-63.2367 209,-53.2367 205.5,-63.2367 212.5,-63.2367\"/>\r\n",
       "</g>\r\n",
       "<!-- 6 -->\r\n",
       "<g id=\"node7\" class=\"node\"><title>6</title>\r\n",
       "<path fill=\"#e58139\" fill-opacity=\"0.831373\" stroke=\"black\" d=\"M398,-53C398,-53 300,-53 300,-53 294,-53 288,-47 288,-41 288,-41 288,-12 288,-12 288,-6 294,-0 300,-0 300,-0 398,-0 398,-0 404,-0 410,-6 410,-12 410,-12 410,-41 410,-41 410,-47 404,-53 398,-53\"/>\r\n",
       "<text text-anchor=\"middle\" x=\"349\" y=\"-37.8\" font-family=\"Helvetica,sans-Serif\" font-size=\"14.00\">entropy = 0.598</text>\r\n",
       "<text text-anchor=\"middle\" x=\"349\" y=\"-22.8\" font-family=\"Helvetica,sans-Serif\" font-size=\"14.00\">samples = 234</text>\r\n",
       "<text text-anchor=\"middle\" x=\"349\" y=\"-7.8\" font-family=\"Helvetica,sans-Serif\" font-size=\"14.00\">value = [200, 34]</text>\r\n",
       "</g>\r\n",
       "<!-- 5&#45;&gt;6 -->\r\n",
       "<g id=\"edge6\" class=\"edge\"><title>5&#45;&gt;6</title>\r\n",
       "<path fill=\"none\" stroke=\"black\" d=\"M415.325,-88.9485C405.254,-79.6175 394.303,-69.4722 384.256,-60.1641\"/>\r\n",
       "<polygon fill=\"black\" stroke=\"black\" points=\"386.494,-57.4655 376.779,-53.2367 381.736,-62.6004 386.494,-57.4655\"/>\r\n",
       "</g>\r\n",
       "<!-- 7 -->\r\n",
       "<g id=\"node8\" class=\"node\"><title>7</title>\r\n",
       "<path fill=\"#399de5\" fill-opacity=\"0.266667\" stroke=\"black\" d=\"M538,-53C538,-53 440,-53 440,-53 434,-53 428,-47 428,-41 428,-41 428,-12 428,-12 428,-6 434,-0 440,-0 440,-0 538,-0 538,-0 544,-0 550,-6 550,-12 550,-12 550,-41 550,-41 550,-47 544,-53 538,-53\"/>\r\n",
       "<text text-anchor=\"middle\" x=\"489\" y=\"-37.8\" font-family=\"Helvetica,sans-Serif\" font-size=\"14.00\">entropy = 0.983</text>\r\n",
       "<text text-anchor=\"middle\" x=\"489\" y=\"-22.8\" font-family=\"Helvetica,sans-Serif\" font-size=\"14.00\">samples = 227</text>\r\n",
       "<text text-anchor=\"middle\" x=\"489\" y=\"-7.8\" font-family=\"Helvetica,sans-Serif\" font-size=\"14.00\">value = [96, 131]</text>\r\n",
       "</g>\r\n",
       "<!-- 5&#45;&gt;7 -->\r\n",
       "<g id=\"edge7\" class=\"edge\"><title>5&#45;&gt;7</title>\r\n",
       "<path fill=\"none\" stroke=\"black\" d=\"M464.291,-88.9485C467.712,-80.4408 471.405,-71.2562 474.867,-62.6464\"/>\r\n",
       "<polygon fill=\"black\" stroke=\"black\" points=\"478.167,-63.8205 478.651,-53.2367 471.673,-61.2089 478.167,-63.8205\"/>\r\n",
       "</g>\r\n",
       "<!-- 9 -->\r\n",
       "<g id=\"node10\" class=\"node\"><title>9</title>\r\n",
       "<path fill=\"#e58139\" fill-opacity=\"0.576471\" stroke=\"black\" d=\"M737,-157C737,-157 597,-157 597,-157 591,-157 585,-151 585,-145 585,-145 585,-101 585,-101 585,-95 591,-89 597,-89 597,-89 737,-89 737,-89 743,-89 749,-95 749,-101 749,-101 749,-145 749,-145 749,-151 743,-157 737,-157\"/>\r\n",
       "<text text-anchor=\"middle\" x=\"667\" y=\"-141.8\" font-family=\"Helvetica,sans-Serif\" font-size=\"14.00\">volatile acidity &lt;= 0.558</text>\r\n",
       "<text text-anchor=\"middle\" x=\"667\" y=\"-126.8\" font-family=\"Helvetica,sans-Serif\" font-size=\"14.00\">entropy = 0.877</text>\r\n",
       "<text text-anchor=\"middle\" x=\"667\" y=\"-111.8\" font-family=\"Helvetica,sans-Serif\" font-size=\"14.00\">samples = 448</text>\r\n",
       "<text text-anchor=\"middle\" x=\"667\" y=\"-96.8\" font-family=\"Helvetica,sans-Serif\" font-size=\"14.00\">value = [315, 133]</text>\r\n",
       "</g>\r\n",
       "<!-- 8&#45;&gt;9 -->\r\n",
       "<g id=\"edge9\" class=\"edge\"><title>8&#45;&gt;9</title>\r\n",
       "<path fill=\"none\" stroke=\"black\" d=\"M667,-192.884C667,-184.778 667,-175.982 667,-167.472\"/>\r\n",
       "<polygon fill=\"black\" stroke=\"black\" points=\"670.5,-167.299 667,-157.299 663.5,-167.299 670.5,-167.299\"/>\r\n",
       "</g>\r\n",
       "<!-- 12 -->\r\n",
       "<g id=\"node13\" class=\"node\"><title>12</title>\r\n",
       "<path fill=\"#399de5\" fill-opacity=\"0.784314\" stroke=\"black\" d=\"M977,-157C977,-157 837,-157 837,-157 831,-157 825,-151 825,-145 825,-145 825,-101 825,-101 825,-95 831,-89 837,-89 837,-89 977,-89 977,-89 983,-89 989,-95 989,-101 989,-101 989,-145 989,-145 989,-151 983,-157 977,-157\"/>\r\n",
       "<text text-anchor=\"middle\" x=\"907\" y=\"-141.8\" font-family=\"Helvetica,sans-Serif\" font-size=\"14.00\">volatile acidity &lt;= 0.477</text>\r\n",
       "<text text-anchor=\"middle\" x=\"907\" y=\"-126.8\" font-family=\"Helvetica,sans-Serif\" font-size=\"14.00\">entropy = 0.677</text>\r\n",
       "<text text-anchor=\"middle\" x=\"907\" y=\"-111.8\" font-family=\"Helvetica,sans-Serif\" font-size=\"14.00\">samples = 991</text>\r\n",
       "<text text-anchor=\"middle\" x=\"907\" y=\"-96.8\" font-family=\"Helvetica,sans-Serif\" font-size=\"14.00\">value = [177, 814]</text>\r\n",
       "</g>\r\n",
       "<!-- 8&#45;&gt;12 -->\r\n",
       "<g id=\"edge12\" class=\"edge\"><title>8&#45;&gt;12</title>\r\n",
       "<path fill=\"none\" stroke=\"black\" d=\"M736.096,-196.634C762.223,-185.53 792.302,-172.747 819.872,-161.029\"/>\r\n",
       "<polygon fill=\"black\" stroke=\"black\" points=\"821.282,-164.233 829.116,-157.101 818.544,-157.791 821.282,-164.233\"/>\r\n",
       "</g>\r\n",
       "<!-- 10 -->\r\n",
       "<g id=\"node11\" class=\"node\"><title>10</title>\r\n",
       "<path fill=\"#e58139\" fill-opacity=\"0.854902\" stroke=\"black\" d=\"M678,-53C678,-53 580,-53 580,-53 574,-53 568,-47 568,-41 568,-41 568,-12 568,-12 568,-6 574,-0 580,-0 580,-0 678,-0 678,-0 684,-0 690,-6 690,-12 690,-12 690,-41 690,-41 690,-47 684,-53 678,-53\"/>\r\n",
       "<text text-anchor=\"middle\" x=\"629\" y=\"-37.8\" font-family=\"Helvetica,sans-Serif\" font-size=\"14.00\">entropy = 0.552</text>\r\n",
       "<text text-anchor=\"middle\" x=\"629\" y=\"-22.8\" font-family=\"Helvetica,sans-Serif\" font-size=\"14.00\">samples = 305</text>\r\n",
       "<text text-anchor=\"middle\" x=\"629\" y=\"-7.8\" font-family=\"Helvetica,sans-Serif\" font-size=\"14.00\">value = [266, 39]</text>\r\n",
       "</g>\r\n",
       "<!-- 9&#45;&gt;10 -->\r\n",
       "<g id=\"edge10\" class=\"edge\"><title>9&#45;&gt;10</title>\r\n",
       "<path fill=\"none\" stroke=\"black\" d=\"M653.709,-88.9485C650.288,-80.4408 646.595,-71.2562 643.133,-62.6464\"/>\r\n",
       "<polygon fill=\"black\" stroke=\"black\" points=\"646.327,-61.2089 639.349,-53.2367 639.833,-63.8205 646.327,-61.2089\"/>\r\n",
       "</g>\r\n",
       "<!-- 11 -->\r\n",
       "<g id=\"node12\" class=\"node\"><title>11</title>\r\n",
       "<path fill=\"#399de5\" fill-opacity=\"0.478431\" stroke=\"black\" d=\"M812,-53C812,-53 720,-53 720,-53 714,-53 708,-47 708,-41 708,-41 708,-12 708,-12 708,-6 714,-0 720,-0 720,-0 812,-0 812,-0 818,-0 824,-6 824,-12 824,-12 824,-41 824,-41 824,-47 818,-53 812,-53\"/>\r\n",
       "<text text-anchor=\"middle\" x=\"766\" y=\"-37.8\" font-family=\"Helvetica,sans-Serif\" font-size=\"14.00\">entropy = 0.927</text>\r\n",
       "<text text-anchor=\"middle\" x=\"766\" y=\"-22.8\" font-family=\"Helvetica,sans-Serif\" font-size=\"14.00\">samples = 143</text>\r\n",
       "<text text-anchor=\"middle\" x=\"766\" y=\"-7.8\" font-family=\"Helvetica,sans-Serif\" font-size=\"14.00\">value = [49, 94]</text>\r\n",
       "</g>\r\n",
       "<!-- 9&#45;&gt;11 -->\r\n",
       "<g id=\"edge11\" class=\"edge\"><title>9&#45;&gt;11</title>\r\n",
       "<path fill=\"none\" stroke=\"black\" d=\"M701.625,-88.9485C711.401,-79.6175 722.029,-69.4722 731.78,-60.1641\"/>\r\n",
       "<polygon fill=\"black\" stroke=\"black\" points=\"734.221,-62.6732 739.038,-53.2367 729.387,-57.6097 734.221,-62.6732\"/>\r\n",
       "</g>\r\n",
       "<!-- 13 -->\r\n",
       "<g id=\"node14\" class=\"node\"><title>13</title>\r\n",
       "<path fill=\"#399de5\" fill-opacity=\"0.419608\" stroke=\"black\" d=\"M960,-53C960,-53 854,-53 854,-53 848,-53 842,-47 842,-41 842,-41 842,-12 842,-12 842,-6 848,-0 854,-0 854,-0 960,-0 960,-0 966,-0 972,-6 972,-12 972,-12 972,-41 972,-41 972,-47 966,-53 960,-53\"/>\r\n",
       "<text text-anchor=\"middle\" x=\"907\" y=\"-37.8\" font-family=\"Helvetica,sans-Serif\" font-size=\"14.00\">entropy = 0.949</text>\r\n",
       "<text text-anchor=\"middle\" x=\"907\" y=\"-22.8\" font-family=\"Helvetica,sans-Serif\" font-size=\"14.00\">samples = 343</text>\r\n",
       "<text text-anchor=\"middle\" x=\"907\" y=\"-7.8\" font-family=\"Helvetica,sans-Serif\" font-size=\"14.00\">value = [126, 217]</text>\r\n",
       "</g>\r\n",
       "<!-- 12&#45;&gt;13 -->\r\n",
       "<g id=\"edge13\" class=\"edge\"><title>12&#45;&gt;13</title>\r\n",
       "<path fill=\"none\" stroke=\"black\" d=\"M907,-88.9485C907,-80.7153 907,-71.848 907,-63.4814\"/>\r\n",
       "<polygon fill=\"black\" stroke=\"black\" points=\"910.5,-63.2367 907,-53.2367 903.5,-63.2367 910.5,-63.2367\"/>\r\n",
       "</g>\r\n",
       "<!-- 14 -->\r\n",
       "<g id=\"node15\" class=\"node\"><title>14</title>\r\n",
       "<path fill=\"#399de5\" fill-opacity=\"0.913725\" stroke=\"black\" d=\"M1100,-53C1100,-53 1002,-53 1002,-53 996,-53 990,-47 990,-41 990,-41 990,-12 990,-12 990,-6 996,-0 1002,-0 1002,-0 1100,-0 1100,-0 1106,-0 1112,-6 1112,-12 1112,-12 1112,-41 1112,-41 1112,-47 1106,-53 1100,-53\"/>\r\n",
       "<text text-anchor=\"middle\" x=\"1051\" y=\"-37.8\" font-family=\"Helvetica,sans-Serif\" font-size=\"14.00\">entropy = 0.398</text>\r\n",
       "<text text-anchor=\"middle\" x=\"1051\" y=\"-22.8\" font-family=\"Helvetica,sans-Serif\" font-size=\"14.00\">samples = 648</text>\r\n",
       "<text text-anchor=\"middle\" x=\"1051\" y=\"-7.8\" font-family=\"Helvetica,sans-Serif\" font-size=\"14.00\">value = [51, 597]</text>\r\n",
       "</g>\r\n",
       "<!-- 12&#45;&gt;14 -->\r\n",
       "<g id=\"edge14\" class=\"edge\"><title>12&#45;&gt;14</title>\r\n",
       "<path fill=\"none\" stroke=\"black\" d=\"M957.364,-88.9485C972.28,-79.1601 988.561,-68.4756 1003.3,-58.8015\"/>\r\n",
       "<polygon fill=\"black\" stroke=\"black\" points=\"1005.34,-61.6495 1011.78,-53.2367 1001.5,-55.7971 1005.34,-61.6495\"/>\r\n",
       "</g>\r\n",
       "</g>\r\n",
       "</svg>\r\n"
      ],
      "text/plain": [
       "<graphviz.files.Source at 0xc470b00>"
      ]
     },
     "execution_count": 33,
     "metadata": {},
     "output_type": "execute_result"
    }
   ],
   "source": [
    "dot_data = tree.export_graphviz(clf, out_file=None, max_depth=3, feature_names=list(X.columns.values), filled=True, rounded=True)\n",
    "graphviz.Source(dot_data)"
   ]
  },
  {
   "cell_type": "code",
   "execution_count": 34,
   "metadata": {},
   "outputs": [
    {
     "data": {
      "text/plain": [
       "0.9010673234811166"
      ]
     },
     "execution_count": 34,
     "metadata": {},
     "output_type": "execute_result"
    }
   ],
   "source": [
    "clf.score(train_X,train_y)"
   ]
  },
  {
   "cell_type": "code",
   "execution_count": 35,
   "metadata": {},
   "outputs": [
    {
     "data": {
      "text/plain": [
       "0.9064615384615384"
      ]
     },
     "execution_count": 35,
     "metadata": {},
     "output_type": "execute_result"
    }
   ],
   "source": [
    "clf.score(test_X, test_y)"
   ]
  },
  {
   "cell_type": "code",
   "execution_count": 36,
   "metadata": {},
   "outputs": [
    {
     "data": {
      "text/plain": [
       "DecisionTreeClassifier(class_weight=None, criterion='entropy', max_depth=5,\n",
       "            max_features=None, max_leaf_nodes=None,\n",
       "            min_impurity_decrease=0.0, min_impurity_split=None,\n",
       "            min_samples_leaf=1, min_samples_split=2,\n",
       "            min_weight_fraction_leaf=0.0, presort=False, random_state=None,\n",
       "            splitter='best')"
      ]
     },
     "execution_count": 36,
     "metadata": {},
     "output_type": "execute_result"
    }
   ],
   "source": [
    "from sklearn import tree\n",
    "\n",
    "\n",
    "clf = tree.DecisionTreeClassifier('entropy', max_depth=5)\n",
    "clf.fit(train_X, train_y)"
   ]
  },
  {
   "cell_type": "code",
   "execution_count": 37,
   "metadata": {},
   "outputs": [
    {
     "data": {
      "text/plain": [
       "(0.9205665024630542, 0.9205665024630542)"
      ]
     },
     "execution_count": 37,
     "metadata": {},
     "output_type": "execute_result"
    }
   ],
   "source": [
    "clf.score(train_X, train_y), clf.score(train_X, train_y)\n",
    "# 깊이를 5로 늘렸더니 성능이 또 향상되었다!! "
   ]
  },
  {
   "cell_type": "code",
   "execution_count": 38,
   "metadata": {},
   "outputs": [
    {
     "data": {
      "text/plain": [
       "array([0, 0, 0, ..., 0, 0, 0], dtype=int64)"
      ]
     },
     "execution_count": 38,
     "metadata": {},
     "output_type": "execute_result"
    }
   ],
   "source": [
    "clf.predict(test_X)"
   ]
  },
  {
   "cell_type": "code",
   "execution_count": 39,
   "metadata": {},
   "outputs": [
    {
     "data": {
      "text/plain": [
       "(Index(['volatile acidity', 'sulphates'], dtype='object'),\n",
       " array([0.66358021, 0.33641979]))"
      ]
     },
     "execution_count": 39,
     "metadata": {},
     "output_type": "execute_result"
    }
   ],
   "source": [
    "# Feature importance is calculated as the decrease in node impurity weighted by the probability of reaching that node. \n",
    "# The node probability can be calculated by the number of samples that reach the node, divided by the total number of samples. \n",
    "# The higher the value the more important the feature.\n",
    "\n",
    "# Feature importance는 Feature의 중요도를 나타낸다.\n",
    "# 어떠한 feature가 이 decision tree를 형성하는데에 중요한 역할을 하는가?\n",
    "X.columns, clf.feature_importances_"
   ]
  },
  {
   "cell_type": "code",
   "execution_count": 40,
   "metadata": {},
   "outputs": [
    {
     "data": {
      "text/plain": [
       "'0.20.3'"
      ]
     },
     "execution_count": 40,
     "metadata": {},
     "output_type": "execute_result"
    }
   ],
   "source": [
    "import sklearn\n",
    "sklearn.__version__"
   ]
  },
  {
   "cell_type": "markdown",
   "metadata": {},
   "source": [
    "### 파라미터 조정 # max_leaf_nodes"
   ]
  },
  {
   "cell_type": "code",
   "execution_count": 41,
   "metadata": {
    "scrolled": true
   },
   "outputs": [
    {
     "data": {
      "text/plain": [
       "DecisionTreeClassifier(class_weight=None, criterion='entropy', max_depth=3,\n",
       "            max_features=None, max_leaf_nodes=None,\n",
       "            min_impurity_decrease=0.0, min_impurity_split=None,\n",
       "            min_samples_leaf=1, min_samples_split=500,\n",
       "            min_weight_fraction_leaf=0.0, presort=False, random_state=None,\n",
       "            splitter='best')"
      ]
     },
     "execution_count": 41,
     "metadata": {},
     "output_type": "execute_result"
    }
   ],
   "source": [
    "from sklearn import tree\n",
    "\n",
    "\"\"\"\n",
    "DecisionTreeClassifier(criterion=’gini’, splitter=’best’, max_depth=None, min_samples_split=2, min_samples_leaf=1, \n",
    "                       min_weight_fraction_leaf=0.0, max_features=None, random_state=None, max_leaf_nodes=None, \n",
    "                       min_impurity_decrease=0.0, min_impurity_split=None, class_weight=None, presort=False)\n",
    "\n",
    "# scikit-learn uses an optimised version of the CART algorithm.\n",
    "                       \n",
    "# criterion: entropy or gini\n",
    "The function to measure the quality of a split. \n",
    "Supported criteria are “gini” for the Gini impurity and “entropy” for the information gain.\n",
    "\n",
    "# max_depth : int or None, optional (default=None)\n",
    "The maximum depth of the tree. \n",
    "If None, then nodes are expanded until all leaves are pure or until all leaves contain less than min_samples_split sample\n",
    "\n",
    "# min_samples_split: 분할 되기 위해 노드가 가져야 하는 최소 샘플 수 \n",
    "# min_samples_leaf: 리프 노드가 가지고 있어야 할 최소 샘플 수\n",
    "# max_leaf_nodes: 리프 노드의 최대 수\n",
    "# max_features: 노드에서 분할에 사용할 특성의 최대 수\n",
    "\"\"\"\n",
    "clf = tree.DecisionTreeClassifier(\n",
    "    'entropy',\n",
    "    max_depth=3,\n",
    "    min_samples_split=500,\n",
    ")\n",
    "\n",
    "clf.fit(train_X, train_y)"
   ]
  },
  {
   "cell_type": "code",
   "execution_count": 42,
   "metadata": {},
   "outputs": [
    {
     "data": {
      "text/plain": [
       "0.8846469622331691"
      ]
     },
     "execution_count": 42,
     "metadata": {},
     "output_type": "execute_result"
    }
   ],
   "source": [
    "clf.score(train_X, train_y)"
   ]
  },
  {
   "cell_type": "code",
   "execution_count": 43,
   "metadata": {},
   "outputs": [
    {
     "data": {
      "text/plain": [
       "0.8898461538461538"
      ]
     },
     "execution_count": 43,
     "metadata": {},
     "output_type": "execute_result"
    }
   ],
   "source": [
    "clf.score(test_X, test_y)"
   ]
  },
  {
   "cell_type": "code",
   "execution_count": 44,
   "metadata": {},
   "outputs": [
    {
     "data": {
      "image/svg+xml": [
       "<?xml version=\"1.0\" encoding=\"UTF-8\" standalone=\"no\"?>\r\n",
       "<!DOCTYPE svg PUBLIC \"-//W3C//DTD SVG 1.1//EN\"\r\n",
       " \"http://www.w3.org/Graphics/SVG/1.1/DTD/svg11.dtd\">\r\n",
       "<!-- Generated by graphviz version 2.38.0 (20140413.2041)\r\n",
       " -->\r\n",
       "<!-- Title: Tree Pages: 1 -->\r\n",
       "<svg width=\"747pt\" height=\"373pt\"\r\n",
       " viewBox=\"0.00 0.00 747.00 373.00\" xmlns=\"http://www.w3.org/2000/svg\" xmlns:xlink=\"http://www.w3.org/1999/xlink\">\r\n",
       "<g id=\"graph0\" class=\"graph\" transform=\"scale(1 1) rotate(0) translate(4 369)\">\r\n",
       "<title>Tree</title>\r\n",
       "<polygon fill=\"white\" stroke=\"none\" points=\"-4,4 -4,-369 743,-369 743,4 -4,4\"/>\r\n",
       "<!-- 0 -->\r\n",
       "<g id=\"node1\" class=\"node\"><title>0</title>\r\n",
       "<path fill=\"#e58139\" fill-opacity=\"0.674510\" stroke=\"black\" d=\"M435,-365C435,-365 295,-365 295,-365 289,-365 283,-359 283,-353 283,-353 283,-309 283,-309 283,-303 289,-297 295,-297 295,-297 435,-297 435,-297 441,-297 447,-303 447,-309 447,-309 447,-353 447,-353 447,-359 441,-365 435,-365\"/>\r\n",
       "<text text-anchor=\"middle\" x=\"365\" y=\"-349.8\" font-family=\"Helvetica,sans-Serif\" font-size=\"14.00\">volatile acidity &lt;= 0.377</text>\r\n",
       "<text text-anchor=\"middle\" x=\"365\" y=\"-334.8\" font-family=\"Helvetica,sans-Serif\" font-size=\"14.00\">entropy = 0.805</text>\r\n",
       "<text text-anchor=\"middle\" x=\"365\" y=\"-319.8\" font-family=\"Helvetica,sans-Serif\" font-size=\"14.00\">samples = 4872</text>\r\n",
       "<text text-anchor=\"middle\" x=\"365\" y=\"-304.8\" font-family=\"Helvetica,sans-Serif\" font-size=\"14.00\">value = [3673, 1199]</text>\r\n",
       "</g>\r\n",
       "<!-- 1 -->\r\n",
       "<g id=\"node2\" class=\"node\"><title>1</title>\r\n",
       "<path fill=\"#e58139\" fill-opacity=\"0.921569\" stroke=\"black\" d=\"M344,-261C344,-261 230,-261 230,-261 224,-261 218,-255 218,-249 218,-249 218,-205 218,-205 218,-199 224,-193 230,-193 230,-193 344,-193 344,-193 350,-193 356,-199 356,-205 356,-205 356,-249 356,-249 356,-255 350,-261 344,-261\"/>\r\n",
       "<text text-anchor=\"middle\" x=\"287\" y=\"-245.8\" font-family=\"Helvetica,sans-Serif\" font-size=\"14.00\">sulphates &lt;= 0.645</text>\r\n",
       "<text text-anchor=\"middle\" x=\"287\" y=\"-230.8\" font-family=\"Helvetica,sans-Serif\" font-size=\"14.00\">entropy = 0.379</text>\r\n",
       "<text text-anchor=\"middle\" x=\"287\" y=\"-215.8\" font-family=\"Helvetica,sans-Serif\" font-size=\"14.00\">samples = 3433</text>\r\n",
       "<text text-anchor=\"middle\" x=\"287\" y=\"-200.8\" font-family=\"Helvetica,sans-Serif\" font-size=\"14.00\">value = [3181, 252]</text>\r\n",
       "</g>\r\n",
       "<!-- 0&#45;&gt;1 -->\r\n",
       "<g id=\"edge1\" class=\"edge\"><title>0&#45;&gt;1</title>\r\n",
       "<path fill=\"none\" stroke=\"black\" d=\"M339.676,-296.884C333,-288.154 325.713,-278.625 318.746,-269.514\"/>\r\n",
       "<polygon fill=\"black\" stroke=\"black\" points=\"321.319,-267.117 312.464,-261.299 315.758,-271.369 321.319,-267.117\"/>\r\n",
       "<text text-anchor=\"middle\" x=\"309.16\" y=\"-282.38\" font-family=\"Helvetica,sans-Serif\" font-size=\"14.00\">True</text>\r\n",
       "</g>\r\n",
       "<!-- 6 -->\r\n",
       "<g id=\"node7\" class=\"node\"><title>6</title>\r\n",
       "<path fill=\"#399de5\" fill-opacity=\"0.482353\" stroke=\"black\" d=\"M500,-261C500,-261 386,-261 386,-261 380,-261 374,-255 374,-249 374,-249 374,-205 374,-205 374,-199 380,-193 386,-193 386,-193 500,-193 500,-193 506,-193 512,-199 512,-205 512,-205 512,-249 512,-249 512,-255 506,-261 500,-261\"/>\r\n",
       "<text text-anchor=\"middle\" x=\"443\" y=\"-245.8\" font-family=\"Helvetica,sans-Serif\" font-size=\"14.00\">sulphates &lt;= 0.515</text>\r\n",
       "<text text-anchor=\"middle\" x=\"443\" y=\"-230.8\" font-family=\"Helvetica,sans-Serif\" font-size=\"14.00\">entropy = 0.927</text>\r\n",
       "<text text-anchor=\"middle\" x=\"443\" y=\"-215.8\" font-family=\"Helvetica,sans-Serif\" font-size=\"14.00\">samples = 1439</text>\r\n",
       "<text text-anchor=\"middle\" x=\"443\" y=\"-200.8\" font-family=\"Helvetica,sans-Serif\" font-size=\"14.00\">value = [492, 947]</text>\r\n",
       "</g>\r\n",
       "<!-- 0&#45;&gt;6 -->\r\n",
       "<g id=\"edge6\" class=\"edge\"><title>0&#45;&gt;6</title>\r\n",
       "<path fill=\"none\" stroke=\"black\" d=\"M390.324,-296.884C397,-288.154 404.287,-278.625 411.254,-269.514\"/>\r\n",
       "<polygon fill=\"black\" stroke=\"black\" points=\"414.242,-271.369 417.536,-261.299 408.681,-267.117 414.242,-271.369\"/>\r\n",
       "<text text-anchor=\"middle\" x=\"420.84\" y=\"-282.38\" font-family=\"Helvetica,sans-Serif\" font-size=\"14.00\">False</text>\r\n",
       "</g>\r\n",
       "<!-- 2 -->\r\n",
       "<g id=\"node3\" class=\"node\"><title>2</title>\r\n",
       "<path fill=\"#e58139\" fill-opacity=\"0.968627\" stroke=\"black\" d=\"M194,-157C194,-157 80,-157 80,-157 74,-157 68,-151 68,-145 68,-145 68,-101 68,-101 68,-95 74,-89 80,-89 80,-89 194,-89 194,-89 200,-89 206,-95 206,-101 206,-101 206,-145 206,-145 206,-151 200,-157 194,-157\"/>\r\n",
       "<text text-anchor=\"middle\" x=\"137\" y=\"-141.8\" font-family=\"Helvetica,sans-Serif\" font-size=\"14.00\">sulphates &lt;= 0.505</text>\r\n",
       "<text text-anchor=\"middle\" x=\"137\" y=\"-126.8\" font-family=\"Helvetica,sans-Serif\" font-size=\"14.00\">entropy = 0.191</text>\r\n",
       "<text text-anchor=\"middle\" x=\"137\" y=\"-111.8\" font-family=\"Helvetica,sans-Serif\" font-size=\"14.00\">samples = 2972</text>\r\n",
       "<text text-anchor=\"middle\" x=\"137\" y=\"-96.8\" font-family=\"Helvetica,sans-Serif\" font-size=\"14.00\">value = [2885, 87]</text>\r\n",
       "</g>\r\n",
       "<!-- 1&#45;&gt;2 -->\r\n",
       "<g id=\"edge2\" class=\"edge\"><title>1&#45;&gt;2</title>\r\n",
       "<path fill=\"none\" stroke=\"black\" d=\"M238.299,-192.884C224.212,-183.304 208.707,-172.761 194.154,-162.864\"/>\r\n",
       "<polygon fill=\"black\" stroke=\"black\" points=\"195.95,-159.854 185.713,-157.125 192.014,-165.642 195.95,-159.854\"/>\r\n",
       "</g>\r\n",
       "<!-- 5 -->\r\n",
       "<g id=\"node6\" class=\"node\"><title>5</title>\r\n",
       "<path fill=\"#e58139\" fill-opacity=\"0.443137\" stroke=\"black\" d=\"M342,-149.5C342,-149.5 236,-149.5 236,-149.5 230,-149.5 224,-143.5 224,-137.5 224,-137.5 224,-108.5 224,-108.5 224,-102.5 230,-96.5 236,-96.5 236,-96.5 342,-96.5 342,-96.5 348,-96.5 354,-102.5 354,-108.5 354,-108.5 354,-137.5 354,-137.5 354,-143.5 348,-149.5 342,-149.5\"/>\r\n",
       "<text text-anchor=\"middle\" x=\"289\" y=\"-134.3\" font-family=\"Helvetica,sans-Serif\" font-size=\"14.00\">entropy = 0.941</text>\r\n",
       "<text text-anchor=\"middle\" x=\"289\" y=\"-119.3\" font-family=\"Helvetica,sans-Serif\" font-size=\"14.00\">samples = 461</text>\r\n",
       "<text text-anchor=\"middle\" x=\"289\" y=\"-104.3\" font-family=\"Helvetica,sans-Serif\" font-size=\"14.00\">value = [296, 165]</text>\r\n",
       "</g>\r\n",
       "<!-- 1&#45;&gt;5 -->\r\n",
       "<g id=\"edge5\" class=\"edge\"><title>1&#45;&gt;5</title>\r\n",
       "<path fill=\"none\" stroke=\"black\" d=\"M287.649,-192.884C287.859,-182.216 288.091,-170.352 288.304,-159.519\"/>\r\n",
       "<polygon fill=\"black\" stroke=\"black\" points=\"291.803,-159.587 288.5,-149.52 284.804,-159.449 291.803,-159.587\"/>\r\n",
       "</g>\r\n",
       "<!-- 3 -->\r\n",
       "<g id=\"node4\" class=\"node\"><title>3</title>\r\n",
       "<path fill=\"#e58139\" fill-opacity=\"0.992157\" stroke=\"black\" d=\"M118,-53C118,-53 12,-53 12,-53 6,-53 0,-47 0,-41 0,-41 0,-12 0,-12 0,-6 6,-0 12,-0 12,-0 118,-0 118,-0 124,-0 130,-6 130,-12 130,-12 130,-41 130,-41 130,-47 124,-53 118,-53\"/>\r\n",
       "<text text-anchor=\"middle\" x=\"65\" y=\"-37.8\" font-family=\"Helvetica,sans-Serif\" font-size=\"14.00\">entropy = 0.071</text>\r\n",
       "<text text-anchor=\"middle\" x=\"65\" y=\"-22.8\" font-family=\"Helvetica,sans-Serif\" font-size=\"14.00\">samples = 2002</text>\r\n",
       "<text text-anchor=\"middle\" x=\"65\" y=\"-7.8\" font-family=\"Helvetica,sans-Serif\" font-size=\"14.00\">value = [1985, 17]</text>\r\n",
       "</g>\r\n",
       "<!-- 2&#45;&gt;3 -->\r\n",
       "<g id=\"edge3\" class=\"edge\"><title>2&#45;&gt;3</title>\r\n",
       "<path fill=\"none\" stroke=\"black\" d=\"M111.818,-88.9485C104.987,-79.9834 97.5841,-70.2666 90.7241,-61.2629\"/>\r\n",
       "<polygon fill=\"black\" stroke=\"black\" points=\"93.4534,-59.0699 84.6089,-53.2367 87.8854,-63.3122 93.4534,-59.0699\"/>\r\n",
       "</g>\r\n",
       "<!-- 4 -->\r\n",
       "<g id=\"node5\" class=\"node\"><title>4</title>\r\n",
       "<path fill=\"#e58139\" fill-opacity=\"0.921569\" stroke=\"black\" d=\"M258,-53C258,-53 160,-53 160,-53 154,-53 148,-47 148,-41 148,-41 148,-12 148,-12 148,-6 154,-0 160,-0 160,-0 258,-0 258,-0 264,-0 270,-6 270,-12 270,-12 270,-41 270,-41 270,-47 264,-53 258,-53\"/>\r\n",
       "<text text-anchor=\"middle\" x=\"209\" y=\"-37.8\" font-family=\"Helvetica,sans-Serif\" font-size=\"14.00\">entropy = 0.374</text>\r\n",
       "<text text-anchor=\"middle\" x=\"209\" y=\"-22.8\" font-family=\"Helvetica,sans-Serif\" font-size=\"14.00\">samples = 970</text>\r\n",
       "<text text-anchor=\"middle\" x=\"209\" y=\"-7.8\" font-family=\"Helvetica,sans-Serif\" font-size=\"14.00\">value = [900, 70]</text>\r\n",
       "</g>\r\n",
       "<!-- 2&#45;&gt;4 -->\r\n",
       "<g id=\"edge4\" class=\"edge\"><title>2&#45;&gt;4</title>\r\n",
       "<path fill=\"none\" stroke=\"black\" d=\"M162.182,-88.9485C169.013,-79.9834 176.416,-70.2666 183.276,-61.2629\"/>\r\n",
       "<polygon fill=\"black\" stroke=\"black\" points=\"186.115,-63.3122 189.391,-53.2367 180.547,-59.0699 186.115,-63.3122\"/>\r\n",
       "</g>\r\n",
       "<!-- 7 -->\r\n",
       "<g id=\"node8\" class=\"node\"><title>7</title>\r\n",
       "<path fill=\"#e58139\" fill-opacity=\"0.576471\" stroke=\"black\" d=\"M494,-149.5C494,-149.5 388,-149.5 388,-149.5 382,-149.5 376,-143.5 376,-137.5 376,-137.5 376,-108.5 376,-108.5 376,-102.5 382,-96.5 388,-96.5 388,-96.5 494,-96.5 494,-96.5 500,-96.5 506,-102.5 506,-108.5 506,-108.5 506,-137.5 506,-137.5 506,-143.5 500,-149.5 494,-149.5\"/>\r\n",
       "<text text-anchor=\"middle\" x=\"441\" y=\"-134.3\" font-family=\"Helvetica,sans-Serif\" font-size=\"14.00\">entropy = 0.877</text>\r\n",
       "<text text-anchor=\"middle\" x=\"441\" y=\"-119.3\" font-family=\"Helvetica,sans-Serif\" font-size=\"14.00\">samples = 448</text>\r\n",
       "<text text-anchor=\"middle\" x=\"441\" y=\"-104.3\" font-family=\"Helvetica,sans-Serif\" font-size=\"14.00\">value = [315, 133]</text>\r\n",
       "</g>\r\n",
       "<!-- 6&#45;&gt;7 -->\r\n",
       "<g id=\"edge7\" class=\"edge\"><title>6&#45;&gt;7</title>\r\n",
       "<path fill=\"none\" stroke=\"black\" d=\"M442.351,-192.884C442.141,-182.216 441.909,-170.352 441.696,-159.519\"/>\r\n",
       "<polygon fill=\"black\" stroke=\"black\" points=\"445.196,-159.449 441.5,-149.52 438.197,-159.587 445.196,-159.449\"/>\r\n",
       "</g>\r\n",
       "<!-- 8 -->\r\n",
       "<g id=\"node9\" class=\"node\"><title>8</title>\r\n",
       "<path fill=\"#399de5\" fill-opacity=\"0.784314\" stroke=\"black\" d=\"M676,-157C676,-157 536,-157 536,-157 530,-157 524,-151 524,-145 524,-145 524,-101 524,-101 524,-95 530,-89 536,-89 536,-89 676,-89 676,-89 682,-89 688,-95 688,-101 688,-101 688,-145 688,-145 688,-151 682,-157 676,-157\"/>\r\n",
       "<text text-anchor=\"middle\" x=\"606\" y=\"-141.8\" font-family=\"Helvetica,sans-Serif\" font-size=\"14.00\">volatile acidity &lt;= 0.477</text>\r\n",
       "<text text-anchor=\"middle\" x=\"606\" y=\"-126.8\" font-family=\"Helvetica,sans-Serif\" font-size=\"14.00\">entropy = 0.677</text>\r\n",
       "<text text-anchor=\"middle\" x=\"606\" y=\"-111.8\" font-family=\"Helvetica,sans-Serif\" font-size=\"14.00\">samples = 991</text>\r\n",
       "<text text-anchor=\"middle\" x=\"606\" y=\"-96.8\" font-family=\"Helvetica,sans-Serif\" font-size=\"14.00\">value = [177, 814]</text>\r\n",
       "</g>\r\n",
       "<!-- 6&#45;&gt;8 -->\r\n",
       "<g id=\"edge8\" class=\"edge\"><title>6&#45;&gt;8</title>\r\n",
       "<path fill=\"none\" stroke=\"black\" d=\"M495.921,-192.884C511.373,-183.214 528.394,-172.563 544.336,-162.587\"/>\r\n",
       "<polygon fill=\"black\" stroke=\"black\" points=\"546.445,-165.396 553.065,-157.125 542.732,-159.462 546.445,-165.396\"/>\r\n",
       "</g>\r\n",
       "<!-- 9 -->\r\n",
       "<g id=\"node10\" class=\"node\"><title>9</title>\r\n",
       "<path fill=\"#399de5\" fill-opacity=\"0.419608\" stroke=\"black\" d=\"M587,-53C587,-53 481,-53 481,-53 475,-53 469,-47 469,-41 469,-41 469,-12 469,-12 469,-6 475,-0 481,-0 481,-0 587,-0 587,-0 593,-0 599,-6 599,-12 599,-12 599,-41 599,-41 599,-47 593,-53 587,-53\"/>\r\n",
       "<text text-anchor=\"middle\" x=\"534\" y=\"-37.8\" font-family=\"Helvetica,sans-Serif\" font-size=\"14.00\">entropy = 0.949</text>\r\n",
       "<text text-anchor=\"middle\" x=\"534\" y=\"-22.8\" font-family=\"Helvetica,sans-Serif\" font-size=\"14.00\">samples = 343</text>\r\n",
       "<text text-anchor=\"middle\" x=\"534\" y=\"-7.8\" font-family=\"Helvetica,sans-Serif\" font-size=\"14.00\">value = [126, 217]</text>\r\n",
       "</g>\r\n",
       "<!-- 8&#45;&gt;9 -->\r\n",
       "<g id=\"edge9\" class=\"edge\"><title>8&#45;&gt;9</title>\r\n",
       "<path fill=\"none\" stroke=\"black\" d=\"M580.818,-88.9485C573.987,-79.9834 566.584,-70.2666 559.724,-61.2629\"/>\r\n",
       "<polygon fill=\"black\" stroke=\"black\" points=\"562.453,-59.0699 553.609,-53.2367 556.885,-63.3122 562.453,-59.0699\"/>\r\n",
       "</g>\r\n",
       "<!-- 10 -->\r\n",
       "<g id=\"node11\" class=\"node\"><title>10</title>\r\n",
       "<path fill=\"#399de5\" fill-opacity=\"0.913725\" stroke=\"black\" d=\"M727,-53C727,-53 629,-53 629,-53 623,-53 617,-47 617,-41 617,-41 617,-12 617,-12 617,-6 623,-0 629,-0 629,-0 727,-0 727,-0 733,-0 739,-6 739,-12 739,-12 739,-41 739,-41 739,-47 733,-53 727,-53\"/>\r\n",
       "<text text-anchor=\"middle\" x=\"678\" y=\"-37.8\" font-family=\"Helvetica,sans-Serif\" font-size=\"14.00\">entropy = 0.398</text>\r\n",
       "<text text-anchor=\"middle\" x=\"678\" y=\"-22.8\" font-family=\"Helvetica,sans-Serif\" font-size=\"14.00\">samples = 648</text>\r\n",
       "<text text-anchor=\"middle\" x=\"678\" y=\"-7.8\" font-family=\"Helvetica,sans-Serif\" font-size=\"14.00\">value = [51, 597]</text>\r\n",
       "</g>\r\n",
       "<!-- 8&#45;&gt;10 -->\r\n",
       "<g id=\"edge10\" class=\"edge\"><title>8&#45;&gt;10</title>\r\n",
       "<path fill=\"none\" stroke=\"black\" d=\"M631.182,-88.9485C638.013,-79.9834 645.416,-70.2666 652.276,-61.2629\"/>\r\n",
       "<polygon fill=\"black\" stroke=\"black\" points=\"655.115,-63.3122 658.391,-53.2367 649.547,-59.0699 655.115,-63.3122\"/>\r\n",
       "</g>\r\n",
       "</g>\r\n",
       "</svg>\r\n"
      ],
      "text/plain": [
       "<graphviz.files.Source at 0xc48a438>"
      ]
     },
     "execution_count": 44,
     "metadata": {},
     "output_type": "execute_result"
    }
   ],
   "source": [
    "dot_data = tree.export_graphviz(clf, out_file=None, max_depth=5, feature_names=list(X.columns.values), filled=True, rounded=True)\n",
    "graphviz.Source(dot_data)\n",
    "# 최소 숫자 500이 만족되야하기 때문에, 더이상 분류가 되지 않았다. "
   ]
  },
  {
   "cell_type": "markdown",
   "metadata": {},
   "source": [
    "## 실습1: depth가 5이고 max_leaf_nodes가 10인 트리를 만들고 학습시키시오."
   ]
  },
  {
   "cell_type": "code",
   "execution_count": 45,
   "metadata": {},
   "outputs": [
    {
     "data": {
      "text/plain": [
       "DecisionTreeClassifier(class_weight=None, criterion='entropy', max_depth=5,\n",
       "            max_features=None, max_leaf_nodes=10,\n",
       "            min_impurity_decrease=0.0, min_impurity_split=None,\n",
       "            min_samples_leaf=1, min_samples_split=2,\n",
       "            min_weight_fraction_leaf=0.0, presort=False, random_state=None,\n",
       "            splitter='best')"
      ]
     },
     "execution_count": 45,
     "metadata": {},
     "output_type": "execute_result"
    }
   ],
   "source": [
    "clf = tree.DecisionTreeClassifier(\n",
    "    'entropy',\n",
    "    max_depth=5,\n",
    "    max_leaf_nodes=10, # 가장 낮은 단계의 노드의 최종 숫자\n",
    ")\n",
    "\n",
    "clf.fit(train_X, train_y)"
   ]
  },
  {
   "cell_type": "code",
   "execution_count": 46,
   "metadata": {},
   "outputs": [
    {
     "data": {
      "text/plain": [
       "0.9137931034482759"
      ]
     },
     "execution_count": 46,
     "metadata": {},
     "output_type": "execute_result"
    }
   ],
   "source": [
    "clf.score(train_X, train_y)"
   ]
  },
  {
   "cell_type": "code",
   "execution_count": 47,
   "metadata": {},
   "outputs": [
    {
     "data": {
      "text/plain": [
       "0.9144615384615384"
      ]
     },
     "execution_count": 47,
     "metadata": {},
     "output_type": "execute_result"
    }
   ],
   "source": [
    "clf.score(test_X, test_y)"
   ]
  },
  {
   "cell_type": "code",
   "execution_count": 48,
   "metadata": {},
   "outputs": [
    {
     "data": {
      "image/svg+xml": [
       "<?xml version=\"1.0\" encoding=\"UTF-8\" standalone=\"no\"?>\r\n",
       "<!DOCTYPE svg PUBLIC \"-//W3C//DTD SVG 1.1//EN\"\r\n",
       " \"http://www.w3.org/Graphics/SVG/1.1/DTD/svg11.dtd\">\r\n",
       "<!-- Generated by graphviz version 2.38.0 (20140413.2041)\r\n",
       " -->\r\n",
       "<!-- Title: Tree Pages: 1 -->\r\n",
       "<svg width=\"1144pt\" height=\"477pt\"\r\n",
       " viewBox=\"0.00 0.00 1144.00 477.00\" xmlns=\"http://www.w3.org/2000/svg\" xmlns:xlink=\"http://www.w3.org/1999/xlink\">\r\n",
       "<g id=\"graph0\" class=\"graph\" transform=\"scale(1 1) rotate(0) translate(4 473)\">\r\n",
       "<title>Tree</title>\r\n",
       "<polygon fill=\"white\" stroke=\"none\" points=\"-4,4 -4,-473 1140,-473 1140,4 -4,4\"/>\r\n",
       "<!-- 0 -->\r\n",
       "<g id=\"node1\" class=\"node\"><title>0</title>\r\n",
       "<path fill=\"#e58139\" fill-opacity=\"0.674510\" stroke=\"black\" d=\"M641,-469C641,-469 501,-469 501,-469 495,-469 489,-463 489,-457 489,-457 489,-413 489,-413 489,-407 495,-401 501,-401 501,-401 641,-401 641,-401 647,-401 653,-407 653,-413 653,-413 653,-457 653,-457 653,-463 647,-469 641,-469\"/>\r\n",
       "<text text-anchor=\"middle\" x=\"571\" y=\"-453.8\" font-family=\"Helvetica,sans-Serif\" font-size=\"14.00\">volatile acidity &lt;= 0.377</text>\r\n",
       "<text text-anchor=\"middle\" x=\"571\" y=\"-438.8\" font-family=\"Helvetica,sans-Serif\" font-size=\"14.00\">entropy = 0.805</text>\r\n",
       "<text text-anchor=\"middle\" x=\"571\" y=\"-423.8\" font-family=\"Helvetica,sans-Serif\" font-size=\"14.00\">samples = 4872</text>\r\n",
       "<text text-anchor=\"middle\" x=\"571\" y=\"-408.8\" font-family=\"Helvetica,sans-Serif\" font-size=\"14.00\">value = [3673, 1199]</text>\r\n",
       "</g>\r\n",
       "<!-- 1 -->\r\n",
       "<g id=\"node2\" class=\"node\"><title>1</title>\r\n",
       "<path fill=\"#e58139\" fill-opacity=\"0.921569\" stroke=\"black\" d=\"M516,-365C516,-365 402,-365 402,-365 396,-365 390,-359 390,-353 390,-353 390,-309 390,-309 390,-303 396,-297 402,-297 402,-297 516,-297 516,-297 522,-297 528,-303 528,-309 528,-309 528,-353 528,-353 528,-359 522,-365 516,-365\"/>\r\n",
       "<text text-anchor=\"middle\" x=\"459\" y=\"-349.8\" font-family=\"Helvetica,sans-Serif\" font-size=\"14.00\">sulphates &lt;= 0.645</text>\r\n",
       "<text text-anchor=\"middle\" x=\"459\" y=\"-334.8\" font-family=\"Helvetica,sans-Serif\" font-size=\"14.00\">entropy = 0.379</text>\r\n",
       "<text text-anchor=\"middle\" x=\"459\" y=\"-319.8\" font-family=\"Helvetica,sans-Serif\" font-size=\"14.00\">samples = 3433</text>\r\n",
       "<text text-anchor=\"middle\" x=\"459\" y=\"-304.8\" font-family=\"Helvetica,sans-Serif\" font-size=\"14.00\">value = [3181, 252]</text>\r\n",
       "</g>\r\n",
       "<!-- 0&#45;&gt;1 -->\r\n",
       "<g id=\"edge1\" class=\"edge\"><title>0&#45;&gt;1</title>\r\n",
       "<path fill=\"none\" stroke=\"black\" d=\"M534.637,-400.884C524.563,-391.709 513.518,-381.65 503.056,-372.123\"/>\r\n",
       "<polygon fill=\"black\" stroke=\"black\" points=\"505.314,-369.445 495.564,-365.299 500.601,-374.62 505.314,-369.445\"/>\r\n",
       "<text text-anchor=\"middle\" x=\"496.731\" y=\"-386.572\" font-family=\"Helvetica,sans-Serif\" font-size=\"14.00\">True</text>\r\n",
       "</g>\r\n",
       "<!-- 2 -->\r\n",
       "<g id=\"node11\" class=\"node\"><title>2</title>\r\n",
       "<path fill=\"#399de5\" fill-opacity=\"0.482353\" stroke=\"black\" d=\"M740,-365C740,-365 626,-365 626,-365 620,-365 614,-359 614,-353 614,-353 614,-309 614,-309 614,-303 620,-297 626,-297 626,-297 740,-297 740,-297 746,-297 752,-303 752,-309 752,-309 752,-353 752,-353 752,-359 746,-365 740,-365\"/>\r\n",
       "<text text-anchor=\"middle\" x=\"683\" y=\"-349.8\" font-family=\"Helvetica,sans-Serif\" font-size=\"14.00\">sulphates &lt;= 0.515</text>\r\n",
       "<text text-anchor=\"middle\" x=\"683\" y=\"-334.8\" font-family=\"Helvetica,sans-Serif\" font-size=\"14.00\">entropy = 0.927</text>\r\n",
       "<text text-anchor=\"middle\" x=\"683\" y=\"-319.8\" font-family=\"Helvetica,sans-Serif\" font-size=\"14.00\">samples = 1439</text>\r\n",
       "<text text-anchor=\"middle\" x=\"683\" y=\"-304.8\" font-family=\"Helvetica,sans-Serif\" font-size=\"14.00\">value = [492, 947]</text>\r\n",
       "</g>\r\n",
       "<!-- 0&#45;&gt;2 -->\r\n",
       "<g id=\"edge10\" class=\"edge\"><title>0&#45;&gt;2</title>\r\n",
       "<path fill=\"none\" stroke=\"black\" d=\"M607.363,-400.884C617.437,-391.709 628.482,-381.65 638.944,-372.123\"/>\r\n",
       "<polygon fill=\"black\" stroke=\"black\" points=\"641.399,-374.62 646.436,-365.299 636.686,-369.445 641.399,-374.62\"/>\r\n",
       "<text text-anchor=\"middle\" x=\"645.269\" y=\"-386.572\" font-family=\"Helvetica,sans-Serif\" font-size=\"14.00\">False</text>\r\n",
       "</g>\r\n",
       "<!-- 3 -->\r\n",
       "<g id=\"node3\" class=\"node\"><title>3</title>\r\n",
       "<path fill=\"#e58139\" fill-opacity=\"0.968627\" stroke=\"black\" d=\"M266,-261C266,-261 152,-261 152,-261 146,-261 140,-255 140,-249 140,-249 140,-205 140,-205 140,-199 146,-193 152,-193 152,-193 266,-193 266,-193 272,-193 278,-199 278,-205 278,-205 278,-249 278,-249 278,-255 272,-261 266,-261\"/>\r\n",
       "<text text-anchor=\"middle\" x=\"209\" y=\"-245.8\" font-family=\"Helvetica,sans-Serif\" font-size=\"14.00\">sulphates &lt;= 0.505</text>\r\n",
       "<text text-anchor=\"middle\" x=\"209\" y=\"-230.8\" font-family=\"Helvetica,sans-Serif\" font-size=\"14.00\">entropy = 0.191</text>\r\n",
       "<text text-anchor=\"middle\" x=\"209\" y=\"-215.8\" font-family=\"Helvetica,sans-Serif\" font-size=\"14.00\">samples = 2972</text>\r\n",
       "<text text-anchor=\"middle\" x=\"209\" y=\"-200.8\" font-family=\"Helvetica,sans-Serif\" font-size=\"14.00\">value = [2885, 87]</text>\r\n",
       "</g>\r\n",
       "<!-- 1&#45;&gt;3 -->\r\n",
       "<g id=\"edge2\" class=\"edge\"><title>1&#45;&gt;3</title>\r\n",
       "<path fill=\"none\" stroke=\"black\" d=\"M389.693,-301.723C357.996,-288.791 320.294,-273.408 287.55,-260.048\"/>\r\n",
       "<polygon fill=\"black\" stroke=\"black\" points=\"288.59,-256.693 278.008,-256.155 285.945,-263.174 288.59,-256.693\"/>\r\n",
       "</g>\r\n",
       "<!-- 4 -->\r\n",
       "<g id=\"node6\" class=\"node\"><title>4</title>\r\n",
       "<path fill=\"#e58139\" fill-opacity=\"0.443137\" stroke=\"black\" d=\"M529,-261C529,-261 389,-261 389,-261 383,-261 377,-255 377,-249 377,-249 377,-205 377,-205 377,-199 383,-193 389,-193 389,-193 529,-193 529,-193 535,-193 541,-199 541,-205 541,-205 541,-249 541,-249 541,-255 535,-261 529,-261\"/>\r\n",
       "<text text-anchor=\"middle\" x=\"459\" y=\"-245.8\" font-family=\"Helvetica,sans-Serif\" font-size=\"14.00\">volatile acidity &lt;= 0.257</text>\r\n",
       "<text text-anchor=\"middle\" x=\"459\" y=\"-230.8\" font-family=\"Helvetica,sans-Serif\" font-size=\"14.00\">entropy = 0.941</text>\r\n",
       "<text text-anchor=\"middle\" x=\"459\" y=\"-215.8\" font-family=\"Helvetica,sans-Serif\" font-size=\"14.00\">samples = 461</text>\r\n",
       "<text text-anchor=\"middle\" x=\"459\" y=\"-200.8\" font-family=\"Helvetica,sans-Serif\" font-size=\"14.00\">value = [296, 165]</text>\r\n",
       "</g>\r\n",
       "<!-- 1&#45;&gt;4 -->\r\n",
       "<g id=\"edge5\" class=\"edge\"><title>1&#45;&gt;4</title>\r\n",
       "<path fill=\"none\" stroke=\"black\" d=\"M459,-296.884C459,-288.778 459,-279.982 459,-271.472\"/>\r\n",
       "<polygon fill=\"black\" stroke=\"black\" points=\"462.5,-271.299 459,-261.299 455.5,-271.299 462.5,-271.299\"/>\r\n",
       "</g>\r\n",
       "<!-- 13 -->\r\n",
       "<g id=\"node4\" class=\"node\"><title>13</title>\r\n",
       "<path fill=\"#e58139\" fill-opacity=\"0.992157\" stroke=\"black\" d=\"M118,-149.5C118,-149.5 12,-149.5 12,-149.5 6,-149.5 0,-143.5 0,-137.5 0,-137.5 0,-108.5 0,-108.5 0,-102.5 6,-96.5 12,-96.5 12,-96.5 118,-96.5 118,-96.5 124,-96.5 130,-102.5 130,-108.5 130,-108.5 130,-137.5 130,-137.5 130,-143.5 124,-149.5 118,-149.5\"/>\r\n",
       "<text text-anchor=\"middle\" x=\"65\" y=\"-134.3\" font-family=\"Helvetica,sans-Serif\" font-size=\"14.00\">entropy = 0.071</text>\r\n",
       "<text text-anchor=\"middle\" x=\"65\" y=\"-119.3\" font-family=\"Helvetica,sans-Serif\" font-size=\"14.00\">samples = 2002</text>\r\n",
       "<text text-anchor=\"middle\" x=\"65\" y=\"-104.3\" font-family=\"Helvetica,sans-Serif\" font-size=\"14.00\">value = [1985, 17]</text>\r\n",
       "</g>\r\n",
       "<!-- 3&#45;&gt;13 -->\r\n",
       "<g id=\"edge3\" class=\"edge\"><title>3&#45;&gt;13</title>\r\n",
       "<path fill=\"none\" stroke=\"black\" d=\"M162.247,-192.884C145.324,-180.896 126.269,-167.399 109.54,-155.549\"/>\r\n",
       "<polygon fill=\"black\" stroke=\"black\" points=\"111.211,-152.444 101.028,-149.52 107.165,-158.156 111.211,-152.444\"/>\r\n",
       "</g>\r\n",
       "<!-- 14 -->\r\n",
       "<g id=\"node5\" class=\"node\"><title>14</title>\r\n",
       "<path fill=\"#e58139\" fill-opacity=\"0.921569\" stroke=\"black\" d=\"M258,-149.5C258,-149.5 160,-149.5 160,-149.5 154,-149.5 148,-143.5 148,-137.5 148,-137.5 148,-108.5 148,-108.5 148,-102.5 154,-96.5 160,-96.5 160,-96.5 258,-96.5 258,-96.5 264,-96.5 270,-102.5 270,-108.5 270,-108.5 270,-137.5 270,-137.5 270,-143.5 264,-149.5 258,-149.5\"/>\r\n",
       "<text text-anchor=\"middle\" x=\"209\" y=\"-134.3\" font-family=\"Helvetica,sans-Serif\" font-size=\"14.00\">entropy = 0.374</text>\r\n",
       "<text text-anchor=\"middle\" x=\"209\" y=\"-119.3\" font-family=\"Helvetica,sans-Serif\" font-size=\"14.00\">samples = 970</text>\r\n",
       "<text text-anchor=\"middle\" x=\"209\" y=\"-104.3\" font-family=\"Helvetica,sans-Serif\" font-size=\"14.00\">value = [900, 70]</text>\r\n",
       "</g>\r\n",
       "<!-- 3&#45;&gt;14 -->\r\n",
       "<g id=\"edge4\" class=\"edge\"><title>3&#45;&gt;14</title>\r\n",
       "<path fill=\"none\" stroke=\"black\" d=\"M209,-192.884C209,-182.326 209,-170.597 209,-159.854\"/>\r\n",
       "<polygon fill=\"black\" stroke=\"black\" points=\"212.5,-159.52 209,-149.52 205.5,-159.52 212.5,-159.52\"/>\r\n",
       "</g>\r\n",
       "<!-- 11 -->\r\n",
       "<g id=\"node7\" class=\"node\"><title>11</title>\r\n",
       "<path fill=\"#e58139\" fill-opacity=\"0.831373\" stroke=\"black\" d=\"M398,-149.5C398,-149.5 300,-149.5 300,-149.5 294,-149.5 288,-143.5 288,-137.5 288,-137.5 288,-108.5 288,-108.5 288,-102.5 294,-96.5 300,-96.5 300,-96.5 398,-96.5 398,-96.5 404,-96.5 410,-102.5 410,-108.5 410,-108.5 410,-137.5 410,-137.5 410,-143.5 404,-149.5 398,-149.5\"/>\r\n",
       "<text text-anchor=\"middle\" x=\"349\" y=\"-134.3\" font-family=\"Helvetica,sans-Serif\" font-size=\"14.00\">entropy = 0.598</text>\r\n",
       "<text text-anchor=\"middle\" x=\"349\" y=\"-119.3\" font-family=\"Helvetica,sans-Serif\" font-size=\"14.00\">samples = 234</text>\r\n",
       "<text text-anchor=\"middle\" x=\"349\" y=\"-104.3\" font-family=\"Helvetica,sans-Serif\" font-size=\"14.00\">value = [200, 34]</text>\r\n",
       "</g>\r\n",
       "<!-- 4&#45;&gt;11 -->\r\n",
       "<g id=\"edge6\" class=\"edge\"><title>4&#45;&gt;11</title>\r\n",
       "<path fill=\"none\" stroke=\"black\" d=\"M423.286,-192.884C410.714,-181.226 396.603,-168.141 384.083,-156.532\"/>\r\n",
       "<polygon fill=\"black\" stroke=\"black\" points=\"386.234,-153.753 376.521,-149.52 381.474,-158.886 386.234,-153.753\"/>\r\n",
       "</g>\r\n",
       "<!-- 12 -->\r\n",
       "<g id=\"node8\" class=\"node\"><title>12</title>\r\n",
       "<path fill=\"#399de5\" fill-opacity=\"0.266667\" stroke=\"black\" d=\"M554,-157C554,-157 440,-157 440,-157 434,-157 428,-151 428,-145 428,-145 428,-101 428,-101 428,-95 434,-89 440,-89 440,-89 554,-89 554,-89 560,-89 566,-95 566,-101 566,-101 566,-145 566,-145 566,-151 560,-157 554,-157\"/>\r\n",
       "<text text-anchor=\"middle\" x=\"497\" y=\"-141.8\" font-family=\"Helvetica,sans-Serif\" font-size=\"14.00\">sulphates &lt;= 0.715</text>\r\n",
       "<text text-anchor=\"middle\" x=\"497\" y=\"-126.8\" font-family=\"Helvetica,sans-Serif\" font-size=\"14.00\">entropy = 0.983</text>\r\n",
       "<text text-anchor=\"middle\" x=\"497\" y=\"-111.8\" font-family=\"Helvetica,sans-Serif\" font-size=\"14.00\">samples = 227</text>\r\n",
       "<text text-anchor=\"middle\" x=\"497\" y=\"-96.8\" font-family=\"Helvetica,sans-Serif\" font-size=\"14.00\">value = [96, 131]</text>\r\n",
       "</g>\r\n",
       "<!-- 4&#45;&gt;12 -->\r\n",
       "<g id=\"edge7\" class=\"edge\"><title>4&#45;&gt;12</title>\r\n",
       "<path fill=\"none\" stroke=\"black\" d=\"M471.338,-192.884C474.424,-184.6 477.778,-175.595 481.013,-166.911\"/>\r\n",
       "<polygon fill=\"black\" stroke=\"black\" points=\"484.383,-167.892 484.594,-157.299 477.823,-165.448 484.383,-167.892\"/>\r\n",
       "</g>\r\n",
       "<!-- 17 -->\r\n",
       "<g id=\"node9\" class=\"node\"><title>17</title>\r\n",
       "<path fill=\"#e58139\" fill-opacity=\"0.529412\" stroke=\"black\" d=\"M476,-53C476,-53 384,-53 384,-53 378,-53 372,-47 372,-41 372,-41 372,-12 372,-12 372,-6 378,-0 384,-0 384,-0 476,-0 476,-0 482,-0 488,-6 488,-12 488,-12 488,-41 488,-41 488,-47 482,-53 476,-53\"/>\r\n",
       "<text text-anchor=\"middle\" x=\"430\" y=\"-37.8\" font-family=\"Helvetica,sans-Serif\" font-size=\"14.00\">entropy = 0.904</text>\r\n",
       "<text text-anchor=\"middle\" x=\"430\" y=\"-22.8\" font-family=\"Helvetica,sans-Serif\" font-size=\"14.00\">samples = 100</text>\r\n",
       "<text text-anchor=\"middle\" x=\"430\" y=\"-7.8\" font-family=\"Helvetica,sans-Serif\" font-size=\"14.00\">value = [68, 32]</text>\r\n",
       "</g>\r\n",
       "<!-- 12&#45;&gt;17 -->\r\n",
       "<g id=\"edge8\" class=\"edge\"><title>12&#45;&gt;17</title>\r\n",
       "<path fill=\"none\" stroke=\"black\" d=\"M473.567,-88.9485C467.275,-80.0749 460.462,-70.4648 454.133,-61.5388\"/>\r\n",
       "<polygon fill=\"black\" stroke=\"black\" points=\"456.886,-59.3701 448.247,-53.2367 451.176,-63.4188 456.886,-59.3701\"/>\r\n",
       "</g>\r\n",
       "<!-- 18 -->\r\n",
       "<g id=\"node10\" class=\"node\"><title>18</title>\r\n",
       "<path fill=\"#399de5\" fill-opacity=\"0.717647\" stroke=\"black\" d=\"M610,-53C610,-53 518,-53 518,-53 512,-53 506,-47 506,-41 506,-41 506,-12 506,-12 506,-6 512,-0 518,-0 518,-0 610,-0 610,-0 616,-0 622,-6 622,-12 622,-12 622,-41 622,-41 622,-47 616,-53 610,-53\"/>\r\n",
       "<text text-anchor=\"middle\" x=\"564\" y=\"-37.8\" font-family=\"Helvetica,sans-Serif\" font-size=\"14.00\">entropy = 0.761</text>\r\n",
       "<text text-anchor=\"middle\" x=\"564\" y=\"-22.8\" font-family=\"Helvetica,sans-Serif\" font-size=\"14.00\">samples = 127</text>\r\n",
       "<text text-anchor=\"middle\" x=\"564\" y=\"-7.8\" font-family=\"Helvetica,sans-Serif\" font-size=\"14.00\">value = [28, 99]</text>\r\n",
       "</g>\r\n",
       "<!-- 12&#45;&gt;18 -->\r\n",
       "<g id=\"edge9\" class=\"edge\"><title>12&#45;&gt;18</title>\r\n",
       "<path fill=\"none\" stroke=\"black\" d=\"M520.433,-88.9485C526.725,-80.0749 533.538,-70.4648 539.867,-61.5388\"/>\r\n",
       "<polygon fill=\"black\" stroke=\"black\" points=\"542.824,-63.4188 545.753,-53.2367 537.114,-59.3701 542.824,-63.4188\"/>\r\n",
       "</g>\r\n",
       "<!-- 5 -->\r\n",
       "<g id=\"node12\" class=\"node\"><title>5</title>\r\n",
       "<path fill=\"#e58139\" fill-opacity=\"0.576471\" stroke=\"black\" d=\"M753,-261C753,-261 613,-261 613,-261 607,-261 601,-255 601,-249 601,-249 601,-205 601,-205 601,-199 607,-193 613,-193 613,-193 753,-193 753,-193 759,-193 765,-199 765,-205 765,-205 765,-249 765,-249 765,-255 759,-261 753,-261\"/>\r\n",
       "<text text-anchor=\"middle\" x=\"683\" y=\"-245.8\" font-family=\"Helvetica,sans-Serif\" font-size=\"14.00\">volatile acidity &lt;= 0.558</text>\r\n",
       "<text text-anchor=\"middle\" x=\"683\" y=\"-230.8\" font-family=\"Helvetica,sans-Serif\" font-size=\"14.00\">entropy = 0.877</text>\r\n",
       "<text text-anchor=\"middle\" x=\"683\" y=\"-215.8\" font-family=\"Helvetica,sans-Serif\" font-size=\"14.00\">samples = 448</text>\r\n",
       "<text text-anchor=\"middle\" x=\"683\" y=\"-200.8\" font-family=\"Helvetica,sans-Serif\" font-size=\"14.00\">value = [315, 133]</text>\r\n",
       "</g>\r\n",
       "<!-- 2&#45;&gt;5 -->\r\n",
       "<g id=\"edge11\" class=\"edge\"><title>2&#45;&gt;5</title>\r\n",
       "<path fill=\"none\" stroke=\"black\" d=\"M683,-296.884C683,-288.778 683,-279.982 683,-271.472\"/>\r\n",
       "<polygon fill=\"black\" stroke=\"black\" points=\"686.5,-271.299 683,-261.299 679.5,-271.299 686.5,-271.299\"/>\r\n",
       "</g>\r\n",
       "<!-- 6 -->\r\n",
       "<g id=\"node15\" class=\"node\"><title>6</title>\r\n",
       "<path fill=\"#399de5\" fill-opacity=\"0.784314\" stroke=\"black\" d=\"M997,-261C997,-261 857,-261 857,-261 851,-261 845,-255 845,-249 845,-249 845,-205 845,-205 845,-199 851,-193 857,-193 857,-193 997,-193 997,-193 1003,-193 1009,-199 1009,-205 1009,-205 1009,-249 1009,-249 1009,-255 1003,-261 997,-261\"/>\r\n",
       "<text text-anchor=\"middle\" x=\"927\" y=\"-245.8\" font-family=\"Helvetica,sans-Serif\" font-size=\"14.00\">volatile acidity &lt;= 0.477</text>\r\n",
       "<text text-anchor=\"middle\" x=\"927\" y=\"-230.8\" font-family=\"Helvetica,sans-Serif\" font-size=\"14.00\">entropy = 0.677</text>\r\n",
       "<text text-anchor=\"middle\" x=\"927\" y=\"-215.8\" font-family=\"Helvetica,sans-Serif\" font-size=\"14.00\">samples = 991</text>\r\n",
       "<text text-anchor=\"middle\" x=\"927\" y=\"-200.8\" font-family=\"Helvetica,sans-Serif\" font-size=\"14.00\">value = [177, 814]</text>\r\n",
       "</g>\r\n",
       "<!-- 2&#45;&gt;6 -->\r\n",
       "<g id=\"edge14\" class=\"edge\"><title>2&#45;&gt;6</title>\r\n",
       "<path fill=\"none\" stroke=\"black\" d=\"M752.268,-301.044C778.977,-289.878 809.862,-276.968 838.168,-265.135\"/>\r\n",
       "<polygon fill=\"black\" stroke=\"black\" points=\"839.783,-268.253 847.659,-261.167 837.083,-261.795 839.783,-268.253\"/>\r\n",
       "</g>\r\n",
       "<!-- 7 -->\r\n",
       "<g id=\"node13\" class=\"node\"><title>7</title>\r\n",
       "<path fill=\"#e58139\" fill-opacity=\"0.854902\" stroke=\"black\" d=\"M694,-149.5C694,-149.5 596,-149.5 596,-149.5 590,-149.5 584,-143.5 584,-137.5 584,-137.5 584,-108.5 584,-108.5 584,-102.5 590,-96.5 596,-96.5 596,-96.5 694,-96.5 694,-96.5 700,-96.5 706,-102.5 706,-108.5 706,-108.5 706,-137.5 706,-137.5 706,-143.5 700,-149.5 694,-149.5\"/>\r\n",
       "<text text-anchor=\"middle\" x=\"645\" y=\"-134.3\" font-family=\"Helvetica,sans-Serif\" font-size=\"14.00\">entropy = 0.552</text>\r\n",
       "<text text-anchor=\"middle\" x=\"645\" y=\"-119.3\" font-family=\"Helvetica,sans-Serif\" font-size=\"14.00\">samples = 305</text>\r\n",
       "<text text-anchor=\"middle\" x=\"645\" y=\"-104.3\" font-family=\"Helvetica,sans-Serif\" font-size=\"14.00\">value = [266, 39]</text>\r\n",
       "</g>\r\n",
       "<!-- 5&#45;&gt;7 -->\r\n",
       "<g id=\"edge12\" class=\"edge\"><title>5&#45;&gt;7</title>\r\n",
       "<path fill=\"none\" stroke=\"black\" d=\"M670.662,-192.884C666.647,-182.106 662.177,-170.108 658.108,-159.184\"/>\r\n",
       "<polygon fill=\"black\" stroke=\"black\" points=\"661.278,-157.669 654.507,-149.52 654.719,-160.113 661.278,-157.669\"/>\r\n",
       "</g>\r\n",
       "<!-- 8 -->\r\n",
       "<g id=\"node14\" class=\"node\"><title>8</title>\r\n",
       "<path fill=\"#399de5\" fill-opacity=\"0.478431\" stroke=\"black\" d=\"M828,-149.5C828,-149.5 736,-149.5 736,-149.5 730,-149.5 724,-143.5 724,-137.5 724,-137.5 724,-108.5 724,-108.5 724,-102.5 730,-96.5 736,-96.5 736,-96.5 828,-96.5 828,-96.5 834,-96.5 840,-102.5 840,-108.5 840,-108.5 840,-137.5 840,-137.5 840,-143.5 834,-149.5 828,-149.5\"/>\r\n",
       "<text text-anchor=\"middle\" x=\"782\" y=\"-134.3\" font-family=\"Helvetica,sans-Serif\" font-size=\"14.00\">entropy = 0.927</text>\r\n",
       "<text text-anchor=\"middle\" x=\"782\" y=\"-119.3\" font-family=\"Helvetica,sans-Serif\" font-size=\"14.00\">samples = 143</text>\r\n",
       "<text text-anchor=\"middle\" x=\"782\" y=\"-104.3\" font-family=\"Helvetica,sans-Serif\" font-size=\"14.00\">value = [49, 94]</text>\r\n",
       "</g>\r\n",
       "<!-- 5&#45;&gt;8 -->\r\n",
       "<g id=\"edge13\" class=\"edge\"><title>5&#45;&gt;8</title>\r\n",
       "<path fill=\"none\" stroke=\"black\" d=\"M715.142,-192.884C726.351,-181.336 738.918,-168.387 750.106,-156.86\"/>\r\n",
       "<polygon fill=\"black\" stroke=\"black\" points=\"752.777,-159.133 757.231,-149.52 747.754,-154.258 752.777,-159.133\"/>\r\n",
       "</g>\r\n",
       "<!-- 9 -->\r\n",
       "<g id=\"node16\" class=\"node\"><title>9</title>\r\n",
       "<path fill=\"#399de5\" fill-opacity=\"0.419608\" stroke=\"black\" d=\"M984,-157C984,-157 870,-157 870,-157 864,-157 858,-151 858,-145 858,-145 858,-101 858,-101 858,-95 864,-89 870,-89 870,-89 984,-89 984,-89 990,-89 996,-95 996,-101 996,-101 996,-145 996,-145 996,-151 990,-157 984,-157\"/>\r\n",
       "<text text-anchor=\"middle\" x=\"927\" y=\"-141.8\" font-family=\"Helvetica,sans-Serif\" font-size=\"14.00\">sulphates &lt;= 0.605</text>\r\n",
       "<text text-anchor=\"middle\" x=\"927\" y=\"-126.8\" font-family=\"Helvetica,sans-Serif\" font-size=\"14.00\">entropy = 0.949</text>\r\n",
       "<text text-anchor=\"middle\" x=\"927\" y=\"-111.8\" font-family=\"Helvetica,sans-Serif\" font-size=\"14.00\">samples = 343</text>\r\n",
       "<text text-anchor=\"middle\" x=\"927\" y=\"-96.8\" font-family=\"Helvetica,sans-Serif\" font-size=\"14.00\">value = [126, 217]</text>\r\n",
       "</g>\r\n",
       "<!-- 6&#45;&gt;9 -->\r\n",
       "<g id=\"edge15\" class=\"edge\"><title>6&#45;&gt;9</title>\r\n",
       "<path fill=\"none\" stroke=\"black\" d=\"M927,-192.884C927,-184.778 927,-175.982 927,-167.472\"/>\r\n",
       "<polygon fill=\"black\" stroke=\"black\" points=\"930.5,-167.299 927,-157.299 923.5,-167.299 930.5,-167.299\"/>\r\n",
       "</g>\r\n",
       "<!-- 10 -->\r\n",
       "<g id=\"node19\" class=\"node\"><title>10</title>\r\n",
       "<path fill=\"#399de5\" fill-opacity=\"0.913725\" stroke=\"black\" d=\"M1124,-149.5C1124,-149.5 1026,-149.5 1026,-149.5 1020,-149.5 1014,-143.5 1014,-137.5 1014,-137.5 1014,-108.5 1014,-108.5 1014,-102.5 1020,-96.5 1026,-96.5 1026,-96.5 1124,-96.5 1124,-96.5 1130,-96.5 1136,-102.5 1136,-108.5 1136,-108.5 1136,-137.5 1136,-137.5 1136,-143.5 1130,-149.5 1124,-149.5\"/>\r\n",
       "<text text-anchor=\"middle\" x=\"1075\" y=\"-134.3\" font-family=\"Helvetica,sans-Serif\" font-size=\"14.00\">entropy = 0.398</text>\r\n",
       "<text text-anchor=\"middle\" x=\"1075\" y=\"-119.3\" font-family=\"Helvetica,sans-Serif\" font-size=\"14.00\">samples = 648</text>\r\n",
       "<text text-anchor=\"middle\" x=\"1075\" y=\"-104.3\" font-family=\"Helvetica,sans-Serif\" font-size=\"14.00\">value = [51, 597]</text>\r\n",
       "</g>\r\n",
       "<!-- 6&#45;&gt;10 -->\r\n",
       "<g id=\"edge18\" class=\"edge\"><title>6&#45;&gt;10</title>\r\n",
       "<path fill=\"none\" stroke=\"black\" d=\"M975.051,-192.884C992.605,-180.786 1012.39,-167.151 1029.69,-155.224\"/>\r\n",
       "<polygon fill=\"black\" stroke=\"black\" points=\"1031.72,-158.077 1037.97,-149.52 1027.75,-152.313 1031.72,-158.077\"/>\r\n",
       "</g>\r\n",
       "<!-- 15 -->\r\n",
       "<g id=\"node17\" class=\"node\"><title>15</title>\r\n",
       "<path fill=\"#e58139\" fill-opacity=\"0.286275\" stroke=\"black\" d=\"M903.5,-53C903.5,-53 814.5,-53 814.5,-53 808.5,-53 802.5,-47 802.5,-41 802.5,-41 802.5,-12 802.5,-12 802.5,-6 808.5,-0 814.5,-0 814.5,-0 903.5,-0 903.5,-0 909.5,-0 915.5,-6 915.5,-12 915.5,-12 915.5,-41 915.5,-41 915.5,-47 909.5,-53 903.5,-53\"/>\r\n",
       "<text text-anchor=\"middle\" x=\"859\" y=\"-37.8\" font-family=\"Helvetica,sans-Serif\" font-size=\"14.00\">entropy = 0.98</text>\r\n",
       "<text text-anchor=\"middle\" x=\"859\" y=\"-22.8\" font-family=\"Helvetica,sans-Serif\" font-size=\"14.00\">samples = 156</text>\r\n",
       "<text text-anchor=\"middle\" x=\"859\" y=\"-7.8\" font-family=\"Helvetica,sans-Serif\" font-size=\"14.00\">value = [91, 65]</text>\r\n",
       "</g>\r\n",
       "<!-- 9&#45;&gt;15 -->\r\n",
       "<g id=\"edge16\" class=\"edge\"><title>9&#45;&gt;15</title>\r\n",
       "<path fill=\"none\" stroke=\"black\" d=\"M903.217,-88.9485C896.832,-80.0749 889.916,-70.4648 883.493,-61.5388\"/>\r\n",
       "<polygon fill=\"black\" stroke=\"black\" points=\"886.201,-59.3094 877.52,-53.2367 880.519,-63.398 886.201,-59.3094\"/>\r\n",
       "</g>\r\n",
       "<!-- 16 -->\r\n",
       "<g id=\"node18\" class=\"node\"><title>16</title>\r\n",
       "<path fill=\"#399de5\" fill-opacity=\"0.768627\" stroke=\"black\" d=\"M1044,-53C1044,-53 946,-53 946,-53 940,-53 934,-47 934,-41 934,-41 934,-12 934,-12 934,-6 940,-0 946,-0 946,-0 1044,-0 1044,-0 1050,-0 1056,-6 1056,-12 1056,-12 1056,-41 1056,-41 1056,-47 1050,-53 1044,-53\"/>\r\n",
       "<text text-anchor=\"middle\" x=\"995\" y=\"-37.8\" font-family=\"Helvetica,sans-Serif\" font-size=\"14.00\">entropy = 0.696</text>\r\n",
       "<text text-anchor=\"middle\" x=\"995\" y=\"-22.8\" font-family=\"Helvetica,sans-Serif\" font-size=\"14.00\">samples = 187</text>\r\n",
       "<text text-anchor=\"middle\" x=\"995\" y=\"-7.8\" font-family=\"Helvetica,sans-Serif\" font-size=\"14.00\">value = [35, 152]</text>\r\n",
       "</g>\r\n",
       "<!-- 9&#45;&gt;16 -->\r\n",
       "<g id=\"edge17\" class=\"edge\"><title>9&#45;&gt;16</title>\r\n",
       "<path fill=\"none\" stroke=\"black\" d=\"M950.783,-88.9485C957.168,-80.0749 964.084,-70.4648 970.507,-61.5388\"/>\r\n",
       "<polygon fill=\"black\" stroke=\"black\" points=\"973.481,-63.398 976.48,-53.2367 967.799,-59.3094 973.481,-63.398\"/>\r\n",
       "</g>\r\n",
       "</g>\r\n",
       "</svg>\r\n"
      ],
      "text/plain": [
       "<graphviz.files.Source at 0xc48a9b0>"
      ]
     },
     "execution_count": 48,
     "metadata": {},
     "output_type": "execute_result"
    }
   ],
   "source": [
    "dot_data = tree.export_graphviz(clf, out_file=None, max_depth=5, feature_names=list(X.columns.values), filled=True, rounded=True)\n",
    "graphviz.Source(dot_data)"
   ]
  },
  {
   "cell_type": "code",
   "execution_count": 49,
   "metadata": {},
   "outputs": [
    {
     "data": {
      "text/plain": [
       "array([0, 0, 0, ..., 0, 0, 0], dtype=int64)"
      ]
     },
     "execution_count": 49,
     "metadata": {},
     "output_type": "execute_result"
    }
   ],
   "source": [
    "clf.predict(test_X)"
   ]
  },
  {
   "cell_type": "markdown",
   "metadata": {},
   "source": [
    "## Overfitting # 이전 예제에 비해 비교적"
   ]
  },
  {
   "cell_type": "code",
   "execution_count": 50,
   "metadata": {},
   "outputs": [
    {
     "data": {
      "text/plain": [
       "DecisionTreeClassifier(class_weight=None, criterion='entropy', max_depth=None,\n",
       "            max_features=None, max_leaf_nodes=None,\n",
       "            min_impurity_decrease=0.0, min_impurity_split=None,\n",
       "            min_samples_leaf=1, min_samples_split=2,\n",
       "            min_weight_fraction_leaf=0.0, presort=False, random_state=None,\n",
       "            splitter='best')"
      ]
     },
     "execution_count": 50,
     "metadata": {},
     "output_type": "execute_result"
    }
   ],
   "source": [
    "clf = tree.DecisionTreeClassifier('entropy')\n",
    "clf.fit(train_X, train_y)"
   ]
  },
  {
   "cell_type": "code",
   "execution_count": 51,
   "metadata": {
    "scrolled": true
   },
   "outputs": [
    {
     "data": {
      "text/plain": [
       "DecisionTreeClassifier(class_weight=None, criterion='entropy', max_depth=None,\n",
       "            max_features=None, max_leaf_nodes=None,\n",
       "            min_impurity_decrease=0.0, min_impurity_split=None,\n",
       "            min_samples_leaf=1, min_samples_split=2,\n",
       "            min_weight_fraction_leaf=0.0, presort=False, random_state=None,\n",
       "            splitter='best')"
      ]
     },
     "execution_count": 51,
     "metadata": {},
     "output_type": "execute_result"
    }
   ],
   "source": [
    "clf"
   ]
  },
  {
   "cell_type": "code",
   "execution_count": 52,
   "metadata": {},
   "outputs": [
    {
     "data": {
      "text/plain": [
       "0.9614121510673235"
      ]
     },
     "execution_count": 52,
     "metadata": {},
     "output_type": "execute_result"
    }
   ],
   "source": [
    "clf.score(train_X, train_y)"
   ]
  },
  {
   "cell_type": "code",
   "execution_count": 53,
   "metadata": {},
   "outputs": [
    {
     "data": {
      "text/plain": [
       "0.8972307692307693"
      ]
     },
     "execution_count": 53,
     "metadata": {},
     "output_type": "execute_result"
    }
   ],
   "source": [
    "clf = tree.DecisionTreeClassifier('entropy')\n",
    "clf.fit(train_X, train_y)\n",
    "clf.score(test_X, test_y)"
   ]
  },
  {
   "cell_type": "code",
   "execution_count": 54,
   "metadata": {},
   "outputs": [
    {
     "data": {
      "image/svg+xml": [
       "<?xml version=\"1.0\" encoding=\"UTF-8\" standalone=\"no\"?>\r\n",
       "<!DOCTYPE svg PUBLIC \"-//W3C//DTD SVG 1.1//EN\"\r\n",
       " \"http://www.w3.org/Graphics/SVG/1.1/DTD/svg11.dtd\">\r\n",
       "<!-- Generated by graphviz version 2.38.0 (20140413.2041)\r\n",
       " -->\r\n",
       "<!-- Title: Tree Pages: 1 -->\r\n",
       "<svg width=\"692pt\" height=\"356pt\"\r\n",
       " viewBox=\"0.00 0.00 692.00 356.00\" xmlns=\"http://www.w3.org/2000/svg\" xmlns:xlink=\"http://www.w3.org/1999/xlink\">\r\n",
       "<g id=\"graph0\" class=\"graph\" transform=\"scale(1 1) rotate(0) translate(4 352)\">\r\n",
       "<title>Tree</title>\r\n",
       "<polygon fill=\"white\" stroke=\"none\" points=\"-4,4 -4,-352 688,-352 688,4 -4,4\"/>\r\n",
       "<!-- 0 -->\r\n",
       "<g id=\"node1\" class=\"node\"><title>0</title>\r\n",
       "<path fill=\"#e58139\" fill-opacity=\"0.674510\" stroke=\"black\" d=\"M399,-348C399,-348 259,-348 259,-348 253,-348 247,-342 247,-336 247,-336 247,-292 247,-292 247,-286 253,-280 259,-280 259,-280 399,-280 399,-280 405,-280 411,-286 411,-292 411,-292 411,-336 411,-336 411,-342 405,-348 399,-348\"/>\r\n",
       "<text text-anchor=\"middle\" x=\"329\" y=\"-332.8\" font-family=\"Helvetica,sans-Serif\" font-size=\"14.00\">volatile acidity &lt;= 0.377</text>\r\n",
       "<text text-anchor=\"middle\" x=\"329\" y=\"-317.8\" font-family=\"Helvetica,sans-Serif\" font-size=\"14.00\">entropy = 0.805</text>\r\n",
       "<text text-anchor=\"middle\" x=\"329\" y=\"-302.8\" font-family=\"Helvetica,sans-Serif\" font-size=\"14.00\">samples = 4872</text>\r\n",
       "<text text-anchor=\"middle\" x=\"329\" y=\"-287.8\" font-family=\"Helvetica,sans-Serif\" font-size=\"14.00\">value = [3673, 1199]</text>\r\n",
       "</g>\r\n",
       "<!-- 1 -->\r\n",
       "<g id=\"node2\" class=\"node\"><title>1</title>\r\n",
       "<path fill=\"#e58139\" fill-opacity=\"0.921569\" stroke=\"black\" d=\"M295,-244C295,-244 181,-244 181,-244 175,-244 169,-238 169,-232 169,-232 169,-188 169,-188 169,-182 175,-176 181,-176 181,-176 295,-176 295,-176 301,-176 307,-182 307,-188 307,-188 307,-232 307,-232 307,-238 301,-244 295,-244\"/>\r\n",
       "<text text-anchor=\"middle\" x=\"238\" y=\"-228.8\" font-family=\"Helvetica,sans-Serif\" font-size=\"14.00\">sulphates &lt;= 0.645</text>\r\n",
       "<text text-anchor=\"middle\" x=\"238\" y=\"-213.8\" font-family=\"Helvetica,sans-Serif\" font-size=\"14.00\">entropy = 0.379</text>\r\n",
       "<text text-anchor=\"middle\" x=\"238\" y=\"-198.8\" font-family=\"Helvetica,sans-Serif\" font-size=\"14.00\">samples = 3433</text>\r\n",
       "<text text-anchor=\"middle\" x=\"238\" y=\"-183.8\" font-family=\"Helvetica,sans-Serif\" font-size=\"14.00\">value = [3181, 252]</text>\r\n",
       "</g>\r\n",
       "<!-- 0&#45;&gt;1 -->\r\n",
       "<g id=\"edge1\" class=\"edge\"><title>0&#45;&gt;1</title>\r\n",
       "<path fill=\"none\" stroke=\"black\" d=\"M299.455,-279.884C291.508,-270.976 282.818,-261.235 274.54,-251.957\"/>\r\n",
       "<polygon fill=\"black\" stroke=\"black\" points=\"276.977,-249.431 267.708,-244.299 271.754,-254.091 276.977,-249.431\"/>\r\n",
       "<text text-anchor=\"middle\" x=\"266.286\" y=\"-265.559\" font-family=\"Helvetica,sans-Serif\" font-size=\"14.00\">True</text>\r\n",
       "</g>\r\n",
       "<!-- 560 -->\r\n",
       "<g id=\"node9\" class=\"node\"><title>560</title>\r\n",
       "<path fill=\"#399de5\" fill-opacity=\"0.482353\" stroke=\"black\" d=\"M477,-244C477,-244 363,-244 363,-244 357,-244 351,-238 351,-232 351,-232 351,-188 351,-188 351,-182 357,-176 363,-176 363,-176 477,-176 477,-176 483,-176 489,-182 489,-188 489,-188 489,-232 489,-232 489,-238 483,-244 477,-244\"/>\r\n",
       "<text text-anchor=\"middle\" x=\"420\" y=\"-228.8\" font-family=\"Helvetica,sans-Serif\" font-size=\"14.00\">sulphates &lt;= 0.515</text>\r\n",
       "<text text-anchor=\"middle\" x=\"420\" y=\"-213.8\" font-family=\"Helvetica,sans-Serif\" font-size=\"14.00\">entropy = 0.927</text>\r\n",
       "<text text-anchor=\"middle\" x=\"420\" y=\"-198.8\" font-family=\"Helvetica,sans-Serif\" font-size=\"14.00\">samples = 1439</text>\r\n",
       "<text text-anchor=\"middle\" x=\"420\" y=\"-183.8\" font-family=\"Helvetica,sans-Serif\" font-size=\"14.00\">value = [492, 947]</text>\r\n",
       "</g>\r\n",
       "<!-- 0&#45;&gt;560 -->\r\n",
       "<g id=\"edge8\" class=\"edge\"><title>0&#45;&gt;560</title>\r\n",
       "<path fill=\"none\" stroke=\"black\" d=\"M358.545,-279.884C366.492,-270.976 375.182,-261.235 383.46,-251.957\"/>\r\n",
       "<polygon fill=\"black\" stroke=\"black\" points=\"386.246,-254.091 390.292,-244.299 381.023,-249.431 386.246,-254.091\"/>\r\n",
       "<text text-anchor=\"middle\" x=\"391.714\" y=\"-265.559\" font-family=\"Helvetica,sans-Serif\" font-size=\"14.00\">False</text>\r\n",
       "</g>\r\n",
       "<!-- 2 -->\r\n",
       "<g id=\"node3\" class=\"node\"><title>2</title>\r\n",
       "<path fill=\"#e58139\" fill-opacity=\"0.968627\" stroke=\"black\" d=\"M126,-140C126,-140 12,-140 12,-140 6,-140 0,-134 0,-128 0,-128 0,-84 0,-84 0,-78 6,-72 12,-72 12,-72 126,-72 126,-72 132,-72 138,-78 138,-84 138,-84 138,-128 138,-128 138,-134 132,-140 126,-140\"/>\r\n",
       "<text text-anchor=\"middle\" x=\"69\" y=\"-124.8\" font-family=\"Helvetica,sans-Serif\" font-size=\"14.00\">sulphates &lt;= 0.505</text>\r\n",
       "<text text-anchor=\"middle\" x=\"69\" y=\"-109.8\" font-family=\"Helvetica,sans-Serif\" font-size=\"14.00\">entropy = 0.191</text>\r\n",
       "<text text-anchor=\"middle\" x=\"69\" y=\"-94.8\" font-family=\"Helvetica,sans-Serif\" font-size=\"14.00\">samples = 2972</text>\r\n",
       "<text text-anchor=\"middle\" x=\"69\" y=\"-79.8\" font-family=\"Helvetica,sans-Serif\" font-size=\"14.00\">value = [2885, 87]</text>\r\n",
       "</g>\r\n",
       "<!-- 1&#45;&gt;2 -->\r\n",
       "<g id=\"edge2\" class=\"edge\"><title>1&#45;&gt;2</title>\r\n",
       "<path fill=\"none\" stroke=\"black\" d=\"M183.131,-175.884C166.962,-166.125 149.136,-155.366 132.475,-145.31\"/>\r\n",
       "<polygon fill=\"black\" stroke=\"black\" points=\"134.253,-142.296 123.883,-140.125 130.636,-148.289 134.253,-142.296\"/>\r\n",
       "</g>\r\n",
       "<!-- 321 -->\r\n",
       "<g id=\"node6\" class=\"node\"><title>321</title>\r\n",
       "<path fill=\"#e58139\" fill-opacity=\"0.443137\" stroke=\"black\" d=\"M308,-140C308,-140 168,-140 168,-140 162,-140 156,-134 156,-128 156,-128 156,-84 156,-84 156,-78 162,-72 168,-72 168,-72 308,-72 308,-72 314,-72 320,-78 320,-84 320,-84 320,-128 320,-128 320,-134 314,-140 308,-140\"/>\r\n",
       "<text text-anchor=\"middle\" x=\"238\" y=\"-124.8\" font-family=\"Helvetica,sans-Serif\" font-size=\"14.00\">volatile acidity &lt;= 0.257</text>\r\n",
       "<text text-anchor=\"middle\" x=\"238\" y=\"-109.8\" font-family=\"Helvetica,sans-Serif\" font-size=\"14.00\">entropy = 0.941</text>\r\n",
       "<text text-anchor=\"middle\" x=\"238\" y=\"-94.8\" font-family=\"Helvetica,sans-Serif\" font-size=\"14.00\">samples = 461</text>\r\n",
       "<text text-anchor=\"middle\" x=\"238\" y=\"-79.8\" font-family=\"Helvetica,sans-Serif\" font-size=\"14.00\">value = [296, 165]</text>\r\n",
       "</g>\r\n",
       "<!-- 1&#45;&gt;321 -->\r\n",
       "<g id=\"edge5\" class=\"edge\"><title>1&#45;&gt;321</title>\r\n",
       "<path fill=\"none\" stroke=\"black\" d=\"M238,-175.884C238,-167.778 238,-158.982 238,-150.472\"/>\r\n",
       "<polygon fill=\"black\" stroke=\"black\" points=\"241.5,-150.299 238,-140.299 234.5,-150.299 241.5,-150.299\"/>\r\n",
       "</g>\r\n",
       "<!-- 3 -->\r\n",
       "<g id=\"node4\" class=\"node\"><title>3</title>\r\n",
       "<path fill=\"#c0c0c0\" stroke=\"black\" d=\"M58,-36C58,-36 28,-36 28,-36 22,-36 16,-30 16,-24 16,-24 16,-12 16,-12 16,-6 22,-0 28,-0 28,-0 58,-0 58,-0 64,-0 70,-6 70,-12 70,-12 70,-24 70,-24 70,-30 64,-36 58,-36\"/>\r\n",
       "<text text-anchor=\"middle\" x=\"43\" y=\"-14.3\" font-family=\"Helvetica,sans-Serif\" font-size=\"14.00\">(...)</text>\r\n",
       "</g>\r\n",
       "<!-- 2&#45;&gt;3 -->\r\n",
       "<g id=\"edge3\" class=\"edge\"><title>2&#45;&gt;3</title>\r\n",
       "<path fill=\"none\" stroke=\"black\" d=\"M59.0221,-71.9961C56.4444,-63.4699 53.6989,-54.3885 51.2221,-46.1962\"/>\r\n",
       "<polygon fill=\"black\" stroke=\"black\" points=\"54.5057,-44.9626 48.2615,-36.4034 47.8052,-46.9884 54.5057,-44.9626\"/>\r\n",
       "</g>\r\n",
       "<!-- 76 -->\r\n",
       "<g id=\"node5\" class=\"node\"><title>76</title>\r\n",
       "<path fill=\"#c0c0c0\" stroke=\"black\" d=\"M130,-36C130,-36 100,-36 100,-36 94,-36 88,-30 88,-24 88,-24 88,-12 88,-12 88,-6 94,-0 100,-0 100,-0 130,-0 130,-0 136,-0 142,-6 142,-12 142,-12 142,-24 142,-24 142,-30 136,-36 130,-36\"/>\r\n",
       "<text text-anchor=\"middle\" x=\"115\" y=\"-14.3\" font-family=\"Helvetica,sans-Serif\" font-size=\"14.00\">(...)</text>\r\n",
       "</g>\r\n",
       "<!-- 2&#45;&gt;76 -->\r\n",
       "<g id=\"edge4\" class=\"edge\"><title>2&#45;&gt;76</title>\r\n",
       "<path fill=\"none\" stroke=\"black\" d=\"M86.6532,-71.9961C91.3658,-63.1856 96.3954,-53.7825 100.89,-45.38\"/>\r\n",
       "<polygon fill=\"black\" stroke=\"black\" points=\"104.061,-46.872 105.691,-36.4034 97.8884,-43.5704 104.061,-46.872\"/>\r\n",
       "</g>\r\n",
       "<!-- 322 -->\r\n",
       "<g id=\"node7\" class=\"node\"><title>322</title>\r\n",
       "<path fill=\"#c0c0c0\" stroke=\"black\" d=\"M214,-36C214,-36 184,-36 184,-36 178,-36 172,-30 172,-24 172,-24 172,-12 172,-12 172,-6 178,-0 184,-0 184,-0 214,-0 214,-0 220,-0 226,-6 226,-12 226,-12 226,-24 226,-24 226,-30 220,-36 214,-36\"/>\r\n",
       "<text text-anchor=\"middle\" x=\"199\" y=\"-14.3\" font-family=\"Helvetica,sans-Serif\" font-size=\"14.00\">(...)</text>\r\n",
       "</g>\r\n",
       "<!-- 321&#45;&gt;322 -->\r\n",
       "<g id=\"edge6\" class=\"edge\"><title>321&#45;&gt;322</title>\r\n",
       "<path fill=\"none\" stroke=\"black\" d=\"M223.033,-71.9961C219.081,-63.2804 214.865,-53.9846 211.086,-45.6514\"/>\r\n",
       "<polygon fill=\"black\" stroke=\"black\" points=\"214.21,-44.0651 206.892,-36.4034 207.835,-46.9562 214.21,-44.0651\"/>\r\n",
       "</g>\r\n",
       "<!-- 413 -->\r\n",
       "<g id=\"node8\" class=\"node\"><title>413</title>\r\n",
       "<path fill=\"#c0c0c0\" stroke=\"black\" d=\"M286,-36C286,-36 256,-36 256,-36 250,-36 244,-30 244,-24 244,-24 244,-12 244,-12 244,-6 250,-0 256,-0 256,-0 286,-0 286,-0 292,-0 298,-6 298,-12 298,-12 298,-24 298,-24 298,-30 292,-36 286,-36\"/>\r\n",
       "<text text-anchor=\"middle\" x=\"271\" y=\"-14.3\" font-family=\"Helvetica,sans-Serif\" font-size=\"14.00\">(...)</text>\r\n",
       "</g>\r\n",
       "<!-- 321&#45;&gt;413 -->\r\n",
       "<g id=\"edge7\" class=\"edge\"><title>321&#45;&gt;413</title>\r\n",
       "<path fill=\"none\" stroke=\"black\" d=\"M250.664,-71.9961C253.972,-63.3751 257.498,-54.1866 260.669,-45.9234\"/>\r\n",
       "<polygon fill=\"black\" stroke=\"black\" points=\"264.007,-46.9935 264.322,-36.4034 257.472,-44.4857 264.007,-46.9935\"/>\r\n",
       "</g>\r\n",
       "<!-- 561 -->\r\n",
       "<g id=\"node10\" class=\"node\"><title>561</title>\r\n",
       "<path fill=\"#e58139\" fill-opacity=\"0.576471\" stroke=\"black\" d=\"M490,-140C490,-140 350,-140 350,-140 344,-140 338,-134 338,-128 338,-128 338,-84 338,-84 338,-78 344,-72 350,-72 350,-72 490,-72 490,-72 496,-72 502,-78 502,-84 502,-84 502,-128 502,-128 502,-134 496,-140 490,-140\"/>\r\n",
       "<text text-anchor=\"middle\" x=\"420\" y=\"-124.8\" font-family=\"Helvetica,sans-Serif\" font-size=\"14.00\">volatile acidity &lt;= 0.558</text>\r\n",
       "<text text-anchor=\"middle\" x=\"420\" y=\"-109.8\" font-family=\"Helvetica,sans-Serif\" font-size=\"14.00\">entropy = 0.877</text>\r\n",
       "<text text-anchor=\"middle\" x=\"420\" y=\"-94.8\" font-family=\"Helvetica,sans-Serif\" font-size=\"14.00\">samples = 448</text>\r\n",
       "<text text-anchor=\"middle\" x=\"420\" y=\"-79.8\" font-family=\"Helvetica,sans-Serif\" font-size=\"14.00\">value = [315, 133]</text>\r\n",
       "</g>\r\n",
       "<!-- 560&#45;&gt;561 -->\r\n",
       "<g id=\"edge9\" class=\"edge\"><title>560&#45;&gt;561</title>\r\n",
       "<path fill=\"none\" stroke=\"black\" d=\"M420,-175.884C420,-167.778 420,-158.982 420,-150.472\"/>\r\n",
       "<polygon fill=\"black\" stroke=\"black\" points=\"423.5,-150.299 420,-140.299 416.5,-150.299 423.5,-150.299\"/>\r\n",
       "</g>\r\n",
       "<!-- 742 -->\r\n",
       "<g id=\"node13\" class=\"node\"><title>742</title>\r\n",
       "<path fill=\"#399de5\" fill-opacity=\"0.784314\" stroke=\"black\" d=\"M672,-140C672,-140 532,-140 532,-140 526,-140 520,-134 520,-128 520,-128 520,-84 520,-84 520,-78 526,-72 532,-72 532,-72 672,-72 672,-72 678,-72 684,-78 684,-84 684,-84 684,-128 684,-128 684,-134 678,-140 672,-140\"/>\r\n",
       "<text text-anchor=\"middle\" x=\"602\" y=\"-124.8\" font-family=\"Helvetica,sans-Serif\" font-size=\"14.00\">volatile acidity &lt;= 0.477</text>\r\n",
       "<text text-anchor=\"middle\" x=\"602\" y=\"-109.8\" font-family=\"Helvetica,sans-Serif\" font-size=\"14.00\">entropy = 0.677</text>\r\n",
       "<text text-anchor=\"middle\" x=\"602\" y=\"-94.8\" font-family=\"Helvetica,sans-Serif\" font-size=\"14.00\">samples = 991</text>\r\n",
       "<text text-anchor=\"middle\" x=\"602\" y=\"-79.8\" font-family=\"Helvetica,sans-Serif\" font-size=\"14.00\">value = [177, 814]</text>\r\n",
       "</g>\r\n",
       "<!-- 560&#45;&gt;742 -->\r\n",
       "<g id=\"edge12\" class=\"edge\"><title>560&#45;&gt;742</title>\r\n",
       "<path fill=\"none\" stroke=\"black\" d=\"M479.09,-175.884C496.662,-166.035 516.052,-155.169 534.136,-145.034\"/>\r\n",
       "<polygon fill=\"black\" stroke=\"black\" points=\"535.883,-148.067 542.895,-140.125 532.46,-141.961 535.883,-148.067\"/>\r\n",
       "</g>\r\n",
       "<!-- 562 -->\r\n",
       "<g id=\"node11\" class=\"node\"><title>562</title>\r\n",
       "<path fill=\"#c0c0c0\" stroke=\"black\" d=\"M389,-36C389,-36 359,-36 359,-36 353,-36 347,-30 347,-24 347,-24 347,-12 347,-12 347,-6 353,-0 359,-0 359,-0 389,-0 389,-0 395,-0 401,-6 401,-12 401,-12 401,-24 401,-24 401,-30 395,-36 389,-36\"/>\r\n",
       "<text text-anchor=\"middle\" x=\"374\" y=\"-14.3\" font-family=\"Helvetica,sans-Serif\" font-size=\"14.00\">(...)</text>\r\n",
       "</g>\r\n",
       "<!-- 561&#45;&gt;562 -->\r\n",
       "<g id=\"edge10\" class=\"edge\"><title>561&#45;&gt;562</title>\r\n",
       "<path fill=\"none\" stroke=\"black\" d=\"M402.347,-71.9961C397.634,-63.1856 392.605,-53.7825 388.11,-45.38\"/>\r\n",
       "<polygon fill=\"black\" stroke=\"black\" points=\"391.112,-43.5704 383.309,-36.4034 384.939,-46.872 391.112,-43.5704\"/>\r\n",
       "</g>\r\n",
       "<!-- 657 -->\r\n",
       "<g id=\"node12\" class=\"node\"><title>657</title>\r\n",
       "<path fill=\"#c0c0c0\" stroke=\"black\" d=\"M461,-36C461,-36 431,-36 431,-36 425,-36 419,-30 419,-24 419,-24 419,-12 419,-12 419,-6 425,-0 431,-0 431,-0 461,-0 461,-0 467,-0 473,-6 473,-12 473,-12 473,-24 473,-24 473,-30 467,-36 461,-36\"/>\r\n",
       "<text text-anchor=\"middle\" x=\"446\" y=\"-14.3\" font-family=\"Helvetica,sans-Serif\" font-size=\"14.00\">(...)</text>\r\n",
       "</g>\r\n",
       "<!-- 561&#45;&gt;657 -->\r\n",
       "<g id=\"edge11\" class=\"edge\"><title>561&#45;&gt;657</title>\r\n",
       "<path fill=\"none\" stroke=\"black\" d=\"M429.978,-71.9961C432.556,-63.4699 435.301,-54.3885 437.778,-46.1962\"/>\r\n",
       "<polygon fill=\"black\" stroke=\"black\" points=\"441.195,-46.9884 440.739,-36.4034 434.494,-44.9626 441.195,-46.9884\"/>\r\n",
       "</g>\r\n",
       "<!-- 743 -->\r\n",
       "<g id=\"node14\" class=\"node\"><title>743</title>\r\n",
       "<path fill=\"#c0c0c0\" stroke=\"black\" d=\"M581,-36C581,-36 551,-36 551,-36 545,-36 539,-30 539,-24 539,-24 539,-12 539,-12 539,-6 545,-0 551,-0 551,-0 581,-0 581,-0 587,-0 593,-6 593,-12 593,-12 593,-24 593,-24 593,-30 587,-36 581,-36\"/>\r\n",
       "<text text-anchor=\"middle\" x=\"566\" y=\"-14.3\" font-family=\"Helvetica,sans-Serif\" font-size=\"14.00\">(...)</text>\r\n",
       "</g>\r\n",
       "<!-- 742&#45;&gt;743 -->\r\n",
       "<g id=\"edge13\" class=\"edge\"><title>742&#45;&gt;743</title>\r\n",
       "<path fill=\"none\" stroke=\"black\" d=\"M588.184,-71.9961C584.536,-63.2804 580.645,-53.9846 577.156,-45.6514\"/>\r\n",
       "<polygon fill=\"black\" stroke=\"black\" points=\"580.375,-44.2763 573.285,-36.4034 573.918,-46.9793 580.375,-44.2763\"/>\r\n",
       "</g>\r\n",
       "<!-- 960 -->\r\n",
       "<g id=\"node15\" class=\"node\"><title>960</title>\r\n",
       "<path fill=\"#c0c0c0\" stroke=\"black\" d=\"M653,-36C653,-36 623,-36 623,-36 617,-36 611,-30 611,-24 611,-24 611,-12 611,-12 611,-6 617,-0 623,-0 623,-0 653,-0 653,-0 659,-0 665,-6 665,-12 665,-12 665,-24 665,-24 665,-30 659,-36 653,-36\"/>\r\n",
       "<text text-anchor=\"middle\" x=\"638\" y=\"-14.3\" font-family=\"Helvetica,sans-Serif\" font-size=\"14.00\">(...)</text>\r\n",
       "</g>\r\n",
       "<!-- 742&#45;&gt;960 -->\r\n",
       "<g id=\"edge14\" class=\"edge\"><title>742&#45;&gt;960</title>\r\n",
       "<path fill=\"none\" stroke=\"black\" d=\"M615.816,-71.9961C619.464,-63.2804 623.355,-53.9846 626.844,-45.6514\"/>\r\n",
       "<polygon fill=\"black\" stroke=\"black\" points=\"630.082,-46.9793 630.715,-36.4034 623.625,-44.2763 630.082,-46.9793\"/>\r\n",
       "</g>\r\n",
       "</g>\r\n",
       "</svg>\r\n"
      ],
      "text/plain": [
       "<graphviz.files.Source at 0xc496278>"
      ]
     },
     "execution_count": 54,
     "metadata": {},
     "output_type": "execute_result"
    }
   ],
   "source": [
    "dot_data = tree.export_graphviz(clf, out_file=None, max_depth=2, feature_names=list(X.columns.values), filled=True, rounded=True)\n",
    "graphviz.Source(dot_data)"
   ]
  },
  {
   "cell_type": "code",
   "execution_count": 55,
   "metadata": {},
   "outputs": [
    {
     "ename": "AttributeError",
     "evalue": "'DecisionTreeClassifier' object has no attribute 'get_depth'",
     "output_type": "error",
     "traceback": [
      "\u001b[1;31m---------------------------------------------------------------------------\u001b[0m",
      "\u001b[1;31mAttributeError\u001b[0m                            Traceback (most recent call last)",
      "\u001b[1;32m<ipython-input-55-7a118fcad5eb>\u001b[0m in \u001b[0;36m<module>\u001b[1;34m\u001b[0m\n\u001b[1;32m----> 1\u001b[1;33m \u001b[0mclf\u001b[0m\u001b[1;33m.\u001b[0m\u001b[0mget_depth\u001b[0m\u001b[1;33m(\u001b[0m\u001b[1;33m)\u001b[0m\u001b[1;33m\u001b[0m\u001b[1;33m\u001b[0m\u001b[0m\n\u001b[0m",
      "\u001b[1;31mAttributeError\u001b[0m: 'DecisionTreeClassifier' object has no attribute 'get_depth'"
     ]
    }
   ],
   "source": [
    "clf.get_depth()"
   ]
  },
  {
   "cell_type": "markdown",
   "metadata": {},
   "source": [
    "## 2. Feature: All, y= red or white"
   ]
  },
  {
   "cell_type": "code",
   "execution_count": 56,
   "metadata": {},
   "outputs": [],
   "source": [
    "new_red = wine_red.copy()\n",
    "new_red['is_red'] = 1\n",
    "new_white = wine_white.copy()\n",
    "new_white['is_red'] = 0\n",
    "\n",
    "wine = new_red.append(new_white, ignore_index=True)"
   ]
  },
  {
   "cell_type": "code",
   "execution_count": 57,
   "metadata": {},
   "outputs": [
    {
     "data": {
      "text/html": [
       "<div>\n",
       "<style scoped>\n",
       "    .dataframe tbody tr th:only-of-type {\n",
       "        vertical-align: middle;\n",
       "    }\n",
       "\n",
       "    .dataframe tbody tr th {\n",
       "        vertical-align: top;\n",
       "    }\n",
       "\n",
       "    .dataframe thead th {\n",
       "        text-align: right;\n",
       "    }\n",
       "</style>\n",
       "<table border=\"1\" class=\"dataframe\">\n",
       "  <thead>\n",
       "    <tr style=\"text-align: right;\">\n",
       "      <th></th>\n",
       "      <th>fixed acidity</th>\n",
       "      <th>volatile acidity</th>\n",
       "      <th>citric acid</th>\n",
       "      <th>residual sugar</th>\n",
       "      <th>chlorides</th>\n",
       "      <th>free sulfur dioxide</th>\n",
       "      <th>total sulfur dioxide</th>\n",
       "      <th>density</th>\n",
       "      <th>pH</th>\n",
       "      <th>sulphates</th>\n",
       "      <th>alcohol</th>\n",
       "      <th>quality</th>\n",
       "      <th>is_red</th>\n",
       "    </tr>\n",
       "  </thead>\n",
       "  <tbody>\n",
       "    <tr>\n",
       "      <th>0</th>\n",
       "      <td>7.4</td>\n",
       "      <td>0.70</td>\n",
       "      <td>0.0</td>\n",
       "      <td>1.9</td>\n",
       "      <td>0.076</td>\n",
       "      <td>11.0</td>\n",
       "      <td>34.0</td>\n",
       "      <td>0.9978</td>\n",
       "      <td>3.51</td>\n",
       "      <td>0.56</td>\n",
       "      <td>9.4</td>\n",
       "      <td>5</td>\n",
       "      <td>1</td>\n",
       "    </tr>\n",
       "    <tr>\n",
       "      <th>1</th>\n",
       "      <td>7.8</td>\n",
       "      <td>0.88</td>\n",
       "      <td>0.0</td>\n",
       "      <td>2.6</td>\n",
       "      <td>0.098</td>\n",
       "      <td>25.0</td>\n",
       "      <td>67.0</td>\n",
       "      <td>0.9968</td>\n",
       "      <td>3.20</td>\n",
       "      <td>0.68</td>\n",
       "      <td>9.8</td>\n",
       "      <td>5</td>\n",
       "      <td>1</td>\n",
       "    </tr>\n",
       "  </tbody>\n",
       "</table>\n",
       "</div>"
      ],
      "text/plain": [
       "   fixed acidity  volatile acidity  citric acid  residual sugar  chlorides  \\\n",
       "0            7.4              0.70          0.0             1.9      0.076   \n",
       "1            7.8              0.88          0.0             2.6      0.098   \n",
       "\n",
       "   free sulfur dioxide  total sulfur dioxide  density    pH  sulphates  \\\n",
       "0                 11.0                  34.0   0.9978  3.51       0.56   \n",
       "1                 25.0                  67.0   0.9968  3.20       0.68   \n",
       "\n",
       "   alcohol  quality  is_red  \n",
       "0      9.4        5       1  \n",
       "1      9.8        5       1  "
      ]
     },
     "execution_count": 57,
     "metadata": {},
     "output_type": "execute_result"
    }
   ],
   "source": [
    "wine.head(2)"
   ]
  },
  {
   "cell_type": "code",
   "execution_count": 58,
   "metadata": {},
   "outputs": [
    {
     "data": {
      "text/html": [
       "<div>\n",
       "<style scoped>\n",
       "    .dataframe tbody tr th:only-of-type {\n",
       "        vertical-align: middle;\n",
       "    }\n",
       "\n",
       "    .dataframe tbody tr th {\n",
       "        vertical-align: top;\n",
       "    }\n",
       "\n",
       "    .dataframe thead th {\n",
       "        text-align: right;\n",
       "    }\n",
       "</style>\n",
       "<table border=\"1\" class=\"dataframe\">\n",
       "  <thead>\n",
       "    <tr style=\"text-align: right;\">\n",
       "      <th></th>\n",
       "      <th>fixed acidity</th>\n",
       "      <th>volatile acidity</th>\n",
       "      <th>citric acid</th>\n",
       "      <th>residual sugar</th>\n",
       "      <th>chlorides</th>\n",
       "      <th>free sulfur dioxide</th>\n",
       "      <th>total sulfur dioxide</th>\n",
       "      <th>density</th>\n",
       "      <th>pH</th>\n",
       "      <th>sulphates</th>\n",
       "      <th>alcohol</th>\n",
       "      <th>quality</th>\n",
       "      <th>is_red</th>\n",
       "    </tr>\n",
       "  </thead>\n",
       "  <tbody>\n",
       "    <tr>\n",
       "      <th>6495</th>\n",
       "      <td>5.5</td>\n",
       "      <td>0.29</td>\n",
       "      <td>0.30</td>\n",
       "      <td>1.1</td>\n",
       "      <td>0.022</td>\n",
       "      <td>20.0</td>\n",
       "      <td>110.0</td>\n",
       "      <td>0.98869</td>\n",
       "      <td>3.34</td>\n",
       "      <td>0.38</td>\n",
       "      <td>12.8</td>\n",
       "      <td>7</td>\n",
       "      <td>0</td>\n",
       "    </tr>\n",
       "    <tr>\n",
       "      <th>6496</th>\n",
       "      <td>6.0</td>\n",
       "      <td>0.21</td>\n",
       "      <td>0.38</td>\n",
       "      <td>0.8</td>\n",
       "      <td>0.020</td>\n",
       "      <td>22.0</td>\n",
       "      <td>98.0</td>\n",
       "      <td>0.98941</td>\n",
       "      <td>3.26</td>\n",
       "      <td>0.32</td>\n",
       "      <td>11.8</td>\n",
       "      <td>6</td>\n",
       "      <td>0</td>\n",
       "    </tr>\n",
       "  </tbody>\n",
       "</table>\n",
       "</div>"
      ],
      "text/plain": [
       "      fixed acidity  volatile acidity  citric acid  residual sugar  chlorides  \\\n",
       "6495            5.5              0.29         0.30             1.1      0.022   \n",
       "6496            6.0              0.21         0.38             0.8      0.020   \n",
       "\n",
       "      free sulfur dioxide  total sulfur dioxide  density    pH  sulphates  \\\n",
       "6495                 20.0                 110.0  0.98869  3.34       0.38   \n",
       "6496                 22.0                  98.0  0.98941  3.26       0.32   \n",
       "\n",
       "      alcohol  quality  is_red  \n",
       "6495     12.8        7       0  \n",
       "6496     11.8        6       0  "
      ]
     },
     "execution_count": 58,
     "metadata": {},
     "output_type": "execute_result"
    }
   ],
   "source": [
    "wine.tail(2)"
   ]
  },
  {
   "cell_type": "code",
   "execution_count": 59,
   "metadata": {},
   "outputs": [],
   "source": [
    "X = wine.drop('is_red', axis=1)\n",
    "y = wine['is_red']"
   ]
  },
  {
   "cell_type": "code",
   "execution_count": 60,
   "metadata": {},
   "outputs": [],
   "source": [
    "train_X, test_X, train_y, test_y = train_test_split(X, y, stratify=y, random_state=42)"
   ]
  },
  {
   "cell_type": "code",
   "execution_count": 61,
   "metadata": {},
   "outputs": [
    {
     "data": {
      "text/plain": [
       "DecisionTreeClassifier(class_weight=None, criterion='entropy', max_depth=None,\n",
       "            max_features=None, max_leaf_nodes=None,\n",
       "            min_impurity_decrease=0.0, min_impurity_split=None,\n",
       "            min_samples_leaf=1, min_samples_split=2,\n",
       "            min_weight_fraction_leaf=0.0, presort=False, random_state=24,\n",
       "            splitter='best')"
      ]
     },
     "execution_count": 61,
     "metadata": {},
     "output_type": "execute_result"
    }
   ],
   "source": [
    "from sklearn import tree\n",
    "\n",
    "\"\"\"\n",
    "DecisionTreeClassifier(criterion=’gini’, splitter=’best’, max_depth=None, min_samples_split=2, min_samples_leaf=1, \n",
    "                       min_weight_fraction_leaf=0.0, max_features=None, random_state=None, max_leaf_nodes=None, \n",
    "                       min_impurity_decrease=0.0, min_impurity_split=None, class_weight=None, presort=False)\n",
    "\n",
    "# scikit-learn uses an optimised version of the CART algorithm.\n",
    "                       \n",
    "# criterion: entropy or gini\n",
    "The function to measure the quality of a split. \n",
    "Supported criteria are “gini” for the Gini impurity and “entropy” for the information gain.\n",
    "\n",
    "# max_depth : int or None, optional (default=None)\n",
    "The maximum depth of the tree. \n",
    "If None, then nodes are expanded until all leaves are pure or until all leaves contain less than min_samples_split sample\n",
    "\n",
    "# random_state: 난수값\n",
    "\n",
    "# min_samples_split: 분할 되기 위해 노드가 가져야 하는 최소 샘플 수 \n",
    "# min_samples_leaf: 리프 노드가 가지고 있어야 할 최소 샘플 수\n",
    "# max_leaf_nodes: 리프 노드의 최대 수\n",
    "# max_features: 노드에서 분할에 사용할 특성의 최대 수 \n",
    "\n",
    "# max_features : int, float, string or None, optional (default=”auto”)\n",
    "The number of features to consider when looking for the best split:\n",
    "\n",
    "If int, then consider max_features features at each split.\n",
    "If float, then max_features is a fraction and int(max_features * n_features) features are considered at each split.\n",
    "If “auto”, then max_features=sqrt(n_features).\n",
    "If “sqrt”, then max_features=sqrt(n_features) (same as “auto”).\n",
    "If “log2”, then max_features=log2(n_features).\n",
    "If None, then max_features=n_features.\n",
    "\n",
    "# max_features: 분할할때 사용하는 특성의 최대수\n",
    "다시말해, 분할을 할때 사용하는 특성의 후보를 몇개로 설정할 것인지에 대해 의미한다. \n",
    "\n",
    "\"\"\"\n",
    "clf = tree.DecisionTreeClassifier('entropy', random_state=24)\n",
    "\n",
    "clf.fit(train_X, train_y)"
   ]
  },
  {
   "cell_type": "code",
   "execution_count": 62,
   "metadata": {},
   "outputs": [
    {
     "data": {
      "text/plain": [
       "0.9997947454844006"
      ]
     },
     "execution_count": 62,
     "metadata": {},
     "output_type": "execute_result"
    }
   ],
   "source": [
    "clf.score(train_X, train_y)"
   ]
  },
  {
   "cell_type": "code",
   "execution_count": 63,
   "metadata": {},
   "outputs": [
    {
     "data": {
      "text/plain": [
       "0.9870769230769231"
      ]
     },
     "execution_count": 63,
     "metadata": {},
     "output_type": "execute_result"
    }
   ],
   "source": [
    "clf.score(test_X, test_y)"
   ]
  },
  {
   "cell_type": "code",
   "execution_count": 64,
   "metadata": {},
   "outputs": [
    {
     "data": {
      "image/svg+xml": [
       "<?xml version=\"1.0\" encoding=\"UTF-8\" standalone=\"no\"?>\r\n",
       "<!DOCTYPE svg PUBLIC \"-//W3C//DTD SVG 1.1//EN\"\r\n",
       " \"http://www.w3.org/Graphics/SVG/1.1/DTD/svg11.dtd\">\r\n",
       "<!-- Generated by graphviz version 2.38.0 (20140413.2041)\r\n",
       " -->\r\n",
       "<!-- Title: Tree Pages: 1 -->\r\n",
       "<svg width=\"655pt\" height=\"356pt\"\r\n",
       " viewBox=\"0.00 0.00 654.50 356.00\" xmlns=\"http://www.w3.org/2000/svg\" xmlns:xlink=\"http://www.w3.org/1999/xlink\">\r\n",
       "<g id=\"graph0\" class=\"graph\" transform=\"scale(1 1) rotate(0) translate(4 352)\">\r\n",
       "<title>Tree</title>\r\n",
       "<polygon fill=\"white\" stroke=\"none\" points=\"-4,4 -4,-352 650.5,-352 650.5,4 -4,4\"/>\r\n",
       "<!-- 0 -->\r\n",
       "<g id=\"node1\" class=\"node\"><title>0</title>\r\n",
       "<path fill=\"#e58139\" fill-opacity=\"0.674510\" stroke=\"black\" d=\"M379.5,-348C379.5,-348 257.5,-348 257.5,-348 251.5,-348 245.5,-342 245.5,-336 245.5,-336 245.5,-292 245.5,-292 245.5,-286 251.5,-280 257.5,-280 257.5,-280 379.5,-280 379.5,-280 385.5,-280 391.5,-286 391.5,-292 391.5,-292 391.5,-336 391.5,-336 391.5,-342 385.5,-348 379.5,-348\"/>\r\n",
       "<text text-anchor=\"middle\" x=\"318.5\" y=\"-332.8\" font-family=\"Helvetica,sans-Serif\" font-size=\"14.00\">chlorides &lt;= 0.06</text>\r\n",
       "<text text-anchor=\"middle\" x=\"318.5\" y=\"-317.8\" font-family=\"Helvetica,sans-Serif\" font-size=\"14.00\">entropy = 0.805</text>\r\n",
       "<text text-anchor=\"middle\" x=\"318.5\" y=\"-302.8\" font-family=\"Helvetica,sans-Serif\" font-size=\"14.00\">samples = 4872</text>\r\n",
       "<text text-anchor=\"middle\" x=\"318.5\" y=\"-287.8\" font-family=\"Helvetica,sans-Serif\" font-size=\"14.00\">value = [3673, 1199]</text>\r\n",
       "</g>\r\n",
       "<!-- 1 -->\r\n",
       "<g id=\"node2\" class=\"node\"><title>1</title>\r\n",
       "<path fill=\"#e58139\" fill-opacity=\"0.964706\" stroke=\"black\" d=\"M296,-244C296,-244 137,-244 137,-244 131,-244 125,-238 125,-232 125,-232 125,-188 125,-188 125,-182 131,-176 137,-176 137,-176 296,-176 296,-176 302,-176 308,-182 308,-188 308,-188 308,-232 308,-232 308,-238 302,-244 296,-244\"/>\r\n",
       "<text text-anchor=\"middle\" x=\"216.5\" y=\"-228.8\" font-family=\"Helvetica,sans-Serif\" font-size=\"14.00\">total sulfur dioxide &lt;= 55.5</text>\r\n",
       "<text text-anchor=\"middle\" x=\"216.5\" y=\"-213.8\" font-family=\"Helvetica,sans-Serif\" font-size=\"14.00\">entropy = 0.223</text>\r\n",
       "<text text-anchor=\"middle\" x=\"216.5\" y=\"-198.8\" font-family=\"Helvetica,sans-Serif\" font-size=\"14.00\">samples = 3519</text>\r\n",
       "<text text-anchor=\"middle\" x=\"216.5\" y=\"-183.8\" font-family=\"Helvetica,sans-Serif\" font-size=\"14.00\">value = [3393, 126]</text>\r\n",
       "</g>\r\n",
       "<!-- 0&#45;&gt;1 -->\r\n",
       "<g id=\"edge1\" class=\"edge\"><title>0&#45;&gt;1</title>\r\n",
       "<path fill=\"none\" stroke=\"black\" d=\"M285.384,-279.884C276.298,-270.798 266.345,-260.845 256.9,-251.4\"/>\r\n",
       "<polygon fill=\"black\" stroke=\"black\" points=\"259.345,-248.896 249.799,-244.299 254.396,-253.845 259.345,-248.896\"/>\r\n",
       "<text text-anchor=\"middle\" x=\"249.799\" y=\"-265.599\" font-family=\"Helvetica,sans-Serif\" font-size=\"14.00\">True</text>\r\n",
       "</g>\r\n",
       "<!-- 74 -->\r\n",
       "<g id=\"node9\" class=\"node\"><title>74</title>\r\n",
       "<path fill=\"#399de5\" fill-opacity=\"0.737255\" stroke=\"black\" d=\"M505,-244C505,-244 338,-244 338,-244 332,-244 326,-238 326,-232 326,-232 326,-188 326,-188 326,-182 332,-176 338,-176 338,-176 505,-176 505,-176 511,-176 517,-182 517,-188 517,-188 517,-232 517,-232 517,-238 511,-244 505,-244\"/>\r\n",
       "<text text-anchor=\"middle\" x=\"421.5\" y=\"-228.8\" font-family=\"Helvetica,sans-Serif\" font-size=\"14.00\">total sulfur dioxide &lt;= 102.5</text>\r\n",
       "<text text-anchor=\"middle\" x=\"421.5\" y=\"-213.8\" font-family=\"Helvetica,sans-Serif\" font-size=\"14.00\">entropy = 0.736</text>\r\n",
       "<text text-anchor=\"middle\" x=\"421.5\" y=\"-198.8\" font-family=\"Helvetica,sans-Serif\" font-size=\"14.00\">samples = 1353</text>\r\n",
       "<text text-anchor=\"middle\" x=\"421.5\" y=\"-183.8\" font-family=\"Helvetica,sans-Serif\" font-size=\"14.00\">value = [280, 1073]</text>\r\n",
       "</g>\r\n",
       "<!-- 0&#45;&gt;74 -->\r\n",
       "<g id=\"edge8\" class=\"edge\"><title>0&#45;&gt;74</title>\r\n",
       "<path fill=\"none\" stroke=\"black\" d=\"M351.941,-279.884C361.116,-270.798 371.166,-260.845 380.704,-251.4\"/>\r\n",
       "<polygon fill=\"black\" stroke=\"black\" points=\"383.231,-253.823 387.874,-244.299 378.306,-248.849 383.231,-253.823\"/>\r\n",
       "<text text-anchor=\"middle\" x=\"387.752\" y=\"-265.599\" font-family=\"Helvetica,sans-Serif\" font-size=\"14.00\">False</text>\r\n",
       "</g>\r\n",
       "<!-- 2 -->\r\n",
       "<g id=\"node3\" class=\"node\"><title>2</title>\r\n",
       "<path fill=\"#399de5\" fill-opacity=\"0.494118\" stroke=\"black\" d=\"M123,-140C123,-140 12,-140 12,-140 6,-140 0,-134 0,-128 0,-128 0,-84 0,-84 0,-78 6,-72 12,-72 12,-72 123,-72 123,-72 129,-72 135,-78 135,-84 135,-84 135,-128 135,-128 135,-134 129,-140 123,-140\"/>\r\n",
       "<text text-anchor=\"middle\" x=\"67.5\" y=\"-124.8\" font-family=\"Helvetica,sans-Serif\" font-size=\"14.00\">chlorides &lt;= 0.038</text>\r\n",
       "<text text-anchor=\"middle\" x=\"67.5\" y=\"-109.8\" font-family=\"Helvetica,sans-Serif\" font-size=\"14.00\">entropy = 0.921</text>\r\n",
       "<text text-anchor=\"middle\" x=\"67.5\" y=\"-94.8\" font-family=\"Helvetica,sans-Serif\" font-size=\"14.00\">samples = 134</text>\r\n",
       "<text text-anchor=\"middle\" x=\"67.5\" y=\"-79.8\" font-family=\"Helvetica,sans-Serif\" font-size=\"14.00\">value = [45, 89]</text>\r\n",
       "</g>\r\n",
       "<!-- 1&#45;&gt;2 -->\r\n",
       "<g id=\"edge2\" class=\"edge\"><title>1&#45;&gt;2</title>\r\n",
       "<path fill=\"none\" stroke=\"black\" d=\"M168.124,-175.884C154.13,-166.304 138.729,-155.761 124.273,-145.864\"/>\r\n",
       "<polygon fill=\"black\" stroke=\"black\" points=\"126.117,-142.885 115.888,-140.125 122.163,-148.662 126.117,-142.885\"/>\r\n",
       "</g>\r\n",
       "<!-- 17 -->\r\n",
       "<g id=\"node6\" class=\"node\"><title>17</title>\r\n",
       "<path fill=\"#e58139\" fill-opacity=\"0.988235\" stroke=\"black\" d=\"M305.5,-140C305.5,-140 165.5,-140 165.5,-140 159.5,-140 153.5,-134 153.5,-128 153.5,-128 153.5,-84 153.5,-84 153.5,-78 159.5,-72 165.5,-72 165.5,-72 305.5,-72 305.5,-72 311.5,-72 317.5,-78 317.5,-84 317.5,-84 317.5,-128 317.5,-128 317.5,-134 311.5,-140 305.5,-140\"/>\r\n",
       "<text text-anchor=\"middle\" x=\"235.5\" y=\"-124.8\" font-family=\"Helvetica,sans-Serif\" font-size=\"14.00\">volatile acidity &lt;= 0.465</text>\r\n",
       "<text text-anchor=\"middle\" x=\"235.5\" y=\"-109.8\" font-family=\"Helvetica,sans-Serif\" font-size=\"14.00\">entropy = 0.087</text>\r\n",
       "<text text-anchor=\"middle\" x=\"235.5\" y=\"-94.8\" font-family=\"Helvetica,sans-Serif\" font-size=\"14.00\">samples = 3385</text>\r\n",
       "<text text-anchor=\"middle\" x=\"235.5\" y=\"-79.8\" font-family=\"Helvetica,sans-Serif\" font-size=\"14.00\">value = [3348, 37]</text>\r\n",
       "</g>\r\n",
       "<!-- 1&#45;&gt;17 -->\r\n",
       "<g id=\"edge5\" class=\"edge\"><title>1&#45;&gt;17</title>\r\n",
       "<path fill=\"none\" stroke=\"black\" d=\"M222.669,-175.884C224.195,-167.689 225.853,-158.789 227.454,-150.192\"/>\r\n",
       "<polygon fill=\"black\" stroke=\"black\" points=\"230.907,-150.771 229.297,-140.299 224.025,-149.489 230.907,-150.771\"/>\r\n",
       "</g>\r\n",
       "<!-- 3 -->\r\n",
       "<g id=\"node4\" class=\"node\"><title>3</title>\r\n",
       "<path fill=\"#c0c0c0\" stroke=\"black\" d=\"M79.5,-36C79.5,-36 49.5,-36 49.5,-36 43.5,-36 37.5,-30 37.5,-24 37.5,-24 37.5,-12 37.5,-12 37.5,-6 43.5,-0 49.5,-0 49.5,-0 79.5,-0 79.5,-0 85.5,-0 91.5,-6 91.5,-12 91.5,-12 91.5,-24 91.5,-24 91.5,-30 85.5,-36 79.5,-36\"/>\r\n",
       "<text text-anchor=\"middle\" x=\"64.5\" y=\"-14.3\" font-family=\"Helvetica,sans-Serif\" font-size=\"14.00\">(...)</text>\r\n",
       "</g>\r\n",
       "<!-- 2&#45;&gt;3 -->\r\n",
       "<g id=\"edge3\" class=\"edge\"><title>2&#45;&gt;3</title>\r\n",
       "<path fill=\"none\" stroke=\"black\" d=\"M66.3487,-71.9961C66.0546,-63.5646 65.7415,-54.5902 65.4582,-46.4696\"/>\r\n",
       "<polygon fill=\"black\" stroke=\"black\" points=\"68.9537,-46.2753 65.1071,-36.4034 61.9579,-46.5194 68.9537,-46.2753\"/>\r\n",
       "</g>\r\n",
       "<!-- 8 -->\r\n",
       "<g id=\"node5\" class=\"node\"><title>8</title>\r\n",
       "<path fill=\"#c0c0c0\" stroke=\"black\" d=\"M151.5,-36C151.5,-36 121.5,-36 121.5,-36 115.5,-36 109.5,-30 109.5,-24 109.5,-24 109.5,-12 109.5,-12 109.5,-6 115.5,-0 121.5,-0 121.5,-0 151.5,-0 151.5,-0 157.5,-0 163.5,-6 163.5,-12 163.5,-12 163.5,-24 163.5,-24 163.5,-30 157.5,-36 151.5,-36\"/>\r\n",
       "<text text-anchor=\"middle\" x=\"136.5\" y=\"-14.3\" font-family=\"Helvetica,sans-Serif\" font-size=\"14.00\">(...)</text>\r\n",
       "</g>\r\n",
       "<!-- 2&#45;&gt;8 -->\r\n",
       "<g id=\"edge4\" class=\"edge\"><title>2&#45;&gt;8</title>\r\n",
       "<path fill=\"none\" stroke=\"black\" d=\"M93.9799,-71.9961C101.353,-62.8067 109.243,-52.9725 116.2,-44.3014\"/>\r\n",
       "<polygon fill=\"black\" stroke=\"black\" points=\"119.009,-46.3936 122.537,-36.4034 113.549,-42.0129 119.009,-46.3936\"/>\r\n",
       "</g>\r\n",
       "<!-- 18 -->\r\n",
       "<g id=\"node7\" class=\"node\"><title>18</title>\r\n",
       "<path fill=\"#c0c0c0\" stroke=\"black\" d=\"M236.5,-36C236.5,-36 206.5,-36 206.5,-36 200.5,-36 194.5,-30 194.5,-24 194.5,-24 194.5,-12 194.5,-12 194.5,-6 200.5,-0 206.5,-0 206.5,-0 236.5,-0 236.5,-0 242.5,-0 248.5,-6 248.5,-12 248.5,-12 248.5,-24 248.5,-24 248.5,-30 242.5,-36 236.5,-36\"/>\r\n",
       "<text text-anchor=\"middle\" x=\"221.5\" y=\"-14.3\" font-family=\"Helvetica,sans-Serif\" font-size=\"14.00\">(...)</text>\r\n",
       "</g>\r\n",
       "<!-- 17&#45;&gt;18 -->\r\n",
       "<g id=\"edge6\" class=\"edge\"><title>17&#45;&gt;18</title>\r\n",
       "<path fill=\"none\" stroke=\"black\" d=\"M230.127,-71.9961C228.755,-63.5646 227.294,-54.5902 225.972,-46.4696\"/>\r\n",
       "<polygon fill=\"black\" stroke=\"black\" points=\"229.394,-45.7111 224.333,-36.4034 222.485,-46.8359 229.394,-45.7111\"/>\r\n",
       "</g>\r\n",
       "<!-- 55 -->\r\n",
       "<g id=\"node8\" class=\"node\"><title>55</title>\r\n",
       "<path fill=\"#c0c0c0\" stroke=\"black\" d=\"M308.5,-36C308.5,-36 278.5,-36 278.5,-36 272.5,-36 266.5,-30 266.5,-24 266.5,-24 266.5,-12 266.5,-12 266.5,-6 272.5,-0 278.5,-0 278.5,-0 308.5,-0 308.5,-0 314.5,-0 320.5,-6 320.5,-12 320.5,-12 320.5,-24 320.5,-24 320.5,-30 314.5,-36 308.5,-36\"/>\r\n",
       "<text text-anchor=\"middle\" x=\"293.5\" y=\"-14.3\" font-family=\"Helvetica,sans-Serif\" font-size=\"14.00\">(...)</text>\r\n",
       "</g>\r\n",
       "<!-- 17&#45;&gt;55 -->\r\n",
       "<g id=\"edge7\" class=\"edge\"><title>17&#45;&gt;55</title>\r\n",
       "<path fill=\"none\" stroke=\"black\" d=\"M257.758,-71.9961C263.828,-62.9962 270.315,-53.3778 276.074,-44.8393\"/>\r\n",
       "<polygon fill=\"black\" stroke=\"black\" points=\"279.073,-46.6511 281.763,-36.4034 273.27,-42.7371 279.073,-46.6511\"/>\r\n",
       "</g>\r\n",
       "<!-- 75 -->\r\n",
       "<g id=\"node10\" class=\"node\"><title>75</title>\r\n",
       "<path fill=\"#399de5\" fill-opacity=\"0.972549\" stroke=\"black\" d=\"M452.5,-140C452.5,-140 354.5,-140 354.5,-140 348.5,-140 342.5,-134 342.5,-128 342.5,-128 342.5,-84 342.5,-84 342.5,-78 348.5,-72 354.5,-72 354.5,-72 452.5,-72 452.5,-72 458.5,-72 464.5,-78 464.5,-84 464.5,-84 464.5,-128 464.5,-128 464.5,-134 458.5,-140 452.5,-140\"/>\r\n",
       "<text text-anchor=\"middle\" x=\"403.5\" y=\"-124.8\" font-family=\"Helvetica,sans-Serif\" font-size=\"14.00\">density &lt;= 0.993</text>\r\n",
       "<text text-anchor=\"middle\" x=\"403.5\" y=\"-109.8\" font-family=\"Helvetica,sans-Serif\" font-size=\"14.00\">entropy = 0.176</text>\r\n",
       "<text text-anchor=\"middle\" x=\"403.5\" y=\"-94.8\" font-family=\"Helvetica,sans-Serif\" font-size=\"14.00\">samples = 1020</text>\r\n",
       "<text text-anchor=\"middle\" x=\"403.5\" y=\"-79.8\" font-family=\"Helvetica,sans-Serif\" font-size=\"14.00\">value = [27, 993]</text>\r\n",
       "</g>\r\n",
       "<!-- 74&#45;&gt;75 -->\r\n",
       "<g id=\"edge9\" class=\"edge\"><title>74&#45;&gt;75</title>\r\n",
       "<path fill=\"none\" stroke=\"black\" d=\"M415.656,-175.884C414.21,-167.689 412.639,-158.789 411.122,-150.192\"/>\r\n",
       "<polygon fill=\"black\" stroke=\"black\" points=\"414.561,-149.539 409.376,-140.299 407.668,-150.755 414.561,-149.539\"/>\r\n",
       "</g>\r\n",
       "<!-- 96 -->\r\n",
       "<g id=\"node13\" class=\"node\"><title>96</title>\r\n",
       "<path fill=\"#e58139\" fill-opacity=\"0.682353\" stroke=\"black\" d=\"M634.5,-140C634.5,-140 494.5,-140 494.5,-140 488.5,-140 482.5,-134 482.5,-128 482.5,-128 482.5,-84 482.5,-84 482.5,-78 488.5,-72 494.5,-72 494.5,-72 634.5,-72 634.5,-72 640.5,-72 646.5,-78 646.5,-84 646.5,-84 646.5,-128 646.5,-128 646.5,-134 640.5,-140 634.5,-140\"/>\r\n",
       "<text text-anchor=\"middle\" x=\"564.5\" y=\"-124.8\" font-family=\"Helvetica,sans-Serif\" font-size=\"14.00\">volatile acidity &lt;= 0.363</text>\r\n",
       "<text text-anchor=\"middle\" x=\"564.5\" y=\"-109.8\" font-family=\"Helvetica,sans-Serif\" font-size=\"14.00\">entropy = 0.795</text>\r\n",
       "<text text-anchor=\"middle\" x=\"564.5\" y=\"-94.8\" font-family=\"Helvetica,sans-Serif\" font-size=\"14.00\">samples = 333</text>\r\n",
       "<text text-anchor=\"middle\" x=\"564.5\" y=\"-79.8\" font-family=\"Helvetica,sans-Serif\" font-size=\"14.00\">value = [253, 80]</text>\r\n",
       "</g>\r\n",
       "<!-- 74&#45;&gt;96 -->\r\n",
       "<g id=\"edge12\" class=\"edge\"><title>74&#45;&gt;96</title>\r\n",
       "<path fill=\"none\" stroke=\"black\" d=\"M467.928,-175.884C481.165,-166.442 495.715,-156.064 509.415,-146.292\"/>\r\n",
       "<polygon fill=\"black\" stroke=\"black\" points=\"511.707,-148.956 517.816,-140.299 507.642,-143.257 511.707,-148.956\"/>\r\n",
       "</g>\r\n",
       "<!-- 76 -->\r\n",
       "<g id=\"node11\" class=\"node\"><title>76</title>\r\n",
       "<path fill=\"#c0c0c0\" stroke=\"black\" d=\"M399.5,-36C399.5,-36 369.5,-36 369.5,-36 363.5,-36 357.5,-30 357.5,-24 357.5,-24 357.5,-12 357.5,-12 357.5,-6 363.5,-0 369.5,-0 369.5,-0 399.5,-0 399.5,-0 405.5,-0 411.5,-6 411.5,-12 411.5,-12 411.5,-24 411.5,-24 411.5,-30 405.5,-36 399.5,-36\"/>\r\n",
       "<text text-anchor=\"middle\" x=\"384.5\" y=\"-14.3\" font-family=\"Helvetica,sans-Serif\" font-size=\"14.00\">(...)</text>\r\n",
       "</g>\r\n",
       "<!-- 75&#45;&gt;76 -->\r\n",
       "<g id=\"edge10\" class=\"edge\"><title>75&#45;&gt;76</title>\r\n",
       "<path fill=\"none\" stroke=\"black\" d=\"M396.208,-71.9961C394.325,-63.4699 392.318,-54.3885 390.508,-46.1962\"/>\r\n",
       "<polygon fill=\"black\" stroke=\"black\" points=\"393.92,-45.4128 388.345,-36.4034 387.085,-46.923 393.92,-45.4128\"/>\r\n",
       "</g>\r\n",
       "<!-- 81 -->\r\n",
       "<g id=\"node12\" class=\"node\"><title>81</title>\r\n",
       "<path fill=\"#c0c0c0\" stroke=\"black\" d=\"M471.5,-36C471.5,-36 441.5,-36 441.5,-36 435.5,-36 429.5,-30 429.5,-24 429.5,-24 429.5,-12 429.5,-12 429.5,-6 435.5,-0 441.5,-0 441.5,-0 471.5,-0 471.5,-0 477.5,-0 483.5,-6 483.5,-12 483.5,-12 483.5,-24 483.5,-24 483.5,-30 477.5,-36 471.5,-36\"/>\r\n",
       "<text text-anchor=\"middle\" x=\"456.5\" y=\"-14.3\" font-family=\"Helvetica,sans-Serif\" font-size=\"14.00\">(...)</text>\r\n",
       "</g>\r\n",
       "<!-- 75&#45;&gt;81 -->\r\n",
       "<g id=\"edge11\" class=\"edge\"><title>75&#45;&gt;81</title>\r\n",
       "<path fill=\"none\" stroke=\"black\" d=\"M423.84,-71.9961C429.328,-63.0909 435.189,-53.5802 440.409,-45.1093\"/>\r\n",
       "<polygon fill=\"black\" stroke=\"black\" points=\"443.508,-46.7529 445.775,-36.4034 437.548,-43.0803 443.508,-46.7529\"/>\r\n",
       "</g>\r\n",
       "<!-- 97 -->\r\n",
       "<g id=\"node14\" class=\"node\"><title>97</title>\r\n",
       "<path fill=\"#c0c0c0\" stroke=\"black\" d=\"M561.5,-36C561.5,-36 531.5,-36 531.5,-36 525.5,-36 519.5,-30 519.5,-24 519.5,-24 519.5,-12 519.5,-12 519.5,-6 525.5,-0 531.5,-0 531.5,-0 561.5,-0 561.5,-0 567.5,-0 573.5,-6 573.5,-12 573.5,-12 573.5,-24 573.5,-24 573.5,-30 567.5,-36 561.5,-36\"/>\r\n",
       "<text text-anchor=\"middle\" x=\"546.5\" y=\"-14.3\" font-family=\"Helvetica,sans-Serif\" font-size=\"14.00\">(...)</text>\r\n",
       "</g>\r\n",
       "<!-- 96&#45;&gt;97 -->\r\n",
       "<g id=\"edge13\" class=\"edge\"><title>96&#45;&gt;97</title>\r\n",
       "<path fill=\"none\" stroke=\"black\" d=\"M557.592,-71.9961C555.808,-63.4699 553.907,-54.3885 552.192,-46.1962\"/>\r\n",
       "<polygon fill=\"black\" stroke=\"black\" points=\"555.617,-45.4742 550.143,-36.4034 548.766,-46.9083 555.617,-45.4742\"/>\r\n",
       "</g>\r\n",
       "<!-- 102 -->\r\n",
       "<g id=\"node15\" class=\"node\"><title>102</title>\r\n",
       "<path fill=\"#c0c0c0\" stroke=\"black\" d=\"M633.5,-36C633.5,-36 603.5,-36 603.5,-36 597.5,-36 591.5,-30 591.5,-24 591.5,-24 591.5,-12 591.5,-12 591.5,-6 597.5,-0 603.5,-0 603.5,-0 633.5,-0 633.5,-0 639.5,-0 645.5,-6 645.5,-12 645.5,-12 645.5,-24 645.5,-24 645.5,-30 639.5,-36 633.5,-36\"/>\r\n",
       "<text text-anchor=\"middle\" x=\"618.5\" y=\"-14.3\" font-family=\"Helvetica,sans-Serif\" font-size=\"14.00\">(...)</text>\r\n",
       "</g>\r\n",
       "<!-- 96&#45;&gt;102 -->\r\n",
       "<g id=\"edge14\" class=\"edge\"><title>96&#45;&gt;102</title>\r\n",
       "<path fill=\"none\" stroke=\"black\" d=\"M585.223,-71.9961C590.815,-63.0909 596.787,-53.5802 602.106,-45.1093\"/>\r\n",
       "<polygon fill=\"black\" stroke=\"black\" points=\"605.219,-46.7335 607.572,-36.4034 599.29,-43.0111 605.219,-46.7335\"/>\r\n",
       "</g>\r\n",
       "</g>\r\n",
       "</svg>\r\n"
      ],
      "text/plain": [
       "<graphviz.files.Source at 0xc47f860>"
      ]
     },
     "execution_count": 64,
     "metadata": {},
     "output_type": "execute_result"
    }
   ],
   "source": [
    "dot_data = tree.export_graphviz(clf, out_file=None, max_depth=2, feature_names=list(X.columns.values), filled=True, rounded=True)\n",
    "graphviz.Source(dot_data)"
   ]
  },
  {
   "cell_type": "code",
   "execution_count": 65,
   "metadata": {},
   "outputs": [
    {
     "data": {
      "text/plain": [
       "[('fixed acidity', 0.004882011682560942),\n",
       " ('volatile acidity', 0.04832737913106748),\n",
       " ('citric acid', 0.008310401577983026),\n",
       " ('residual sugar', 0.008496689416236032),\n",
       " ('chlorides', 0.5761280906244945),\n",
       " ('free sulfur dioxide', 0.004012851994097382),\n",
       " ('total sulfur dioxide', 0.26652684146541156),\n",
       " ('density', 0.04370687508455901),\n",
       " ('pH', 0.016572858286934486),\n",
       " ('sulphates', 0.016006886523814275),\n",
       " ('alcohol', 0.007029114212841215),\n",
       " ('quality', 0.0)]"
      ]
     },
     "execution_count": 65,
     "metadata": {},
     "output_type": "execute_result"
    }
   ],
   "source": [
    "list(zip(X.columns, clf.feature_importances_))"
   ]
  },
  {
   "cell_type": "markdown",
   "metadata": {},
   "source": [
    "## 3. Quality 예측"
   ]
  },
  {
   "cell_type": "code",
   "execution_count": 66,
   "metadata": {},
   "outputs": [],
   "source": [
    "new_red = wine_red.copy()\n",
    "new_white = wine_white.copy()"
   ]
  },
  {
   "cell_type": "code",
   "execution_count": 67,
   "metadata": {},
   "outputs": [],
   "source": [
    "# red wine에 대해서만 작업\n",
    "X = new_red.drop('quality', axis=1)\n",
    "y = new_red['quality']"
   ]
  },
  {
   "cell_type": "code",
   "execution_count": 68,
   "metadata": {},
   "outputs": [
    {
     "data": {
      "text/plain": [
       "5    681\n",
       "6    638\n",
       "7    199\n",
       "4     53\n",
       "8     18\n",
       "3     10\n",
       "Name: quality, dtype: int64"
      ]
     },
     "execution_count": 68,
     "metadata": {},
     "output_type": "execute_result"
    }
   ],
   "source": [
    "new_red['quality'].value_counts().sort_values(ascending=False)\n",
    "# 3 4 5 6 7 8 의 6개의 class가 있는 것을 확인할 수 있다."
   ]
  },
  {
   "cell_type": "code",
   "execution_count": 69,
   "metadata": {},
   "outputs": [],
   "source": [
    "from sklearn.model_selection import train_test_split\n",
    "train_X, test_X, train_y, test_y = train_test_split(X, y, stratify=y, random_state=42, test_size=.2)"
   ]
  },
  {
   "cell_type": "code",
   "execution_count": 70,
   "metadata": {},
   "outputs": [
    {
     "data": {
      "text/plain": [
       "1542    6\n",
       "1558    5\n",
       "344     6\n",
       "924     5\n",
       "971     6\n",
       "Name: quality, dtype: int64"
      ]
     },
     "execution_count": 70,
     "metadata": {},
     "output_type": "execute_result"
    }
   ],
   "source": [
    "train_y.head()"
   ]
  },
  {
   "cell_type": "code",
   "execution_count": 71,
   "metadata": {},
   "outputs": [
    {
     "data": {
      "text/plain": [
       "DecisionTreeClassifier(class_weight=None, criterion='entropy', max_depth=None,\n",
       "            max_features=None, max_leaf_nodes=None,\n",
       "            min_impurity_decrease=0.0, min_impurity_split=None,\n",
       "            min_samples_leaf=1, min_samples_split=2,\n",
       "            min_weight_fraction_leaf=0.0, presort=False, random_state=0,\n",
       "            splitter='best')"
      ]
     },
     "execution_count": 71,
     "metadata": {},
     "output_type": "execute_result"
    }
   ],
   "source": [
    "from sklearn import tree\n",
    "\n",
    "\"\"\"\n",
    "DecisionTreeClassifier(criterion=’gini’, splitter=’best’, max_depth=None, min_samples_split=2, min_samples_leaf=1, \n",
    "                       min_weight_fraction_leaf=0.0, max_features=None, random_state=None, max_leaf_nodes=None, \n",
    "                       min_impurity_decrease=0.0, min_impurity_split=None, class_weight=None, presort=False)\n",
    "\n",
    "# scikit-learn uses an optimised version of the CART algorithm.\n",
    "                       \n",
    "# criterion: entropy or gini\n",
    "The function to measure the quality of a split. \n",
    "Supported criteria are “gini” for the Gini impurity and “entropy” for the information gain.\n",
    "\n",
    "# max_depth : int or None, optional (default=None)\n",
    "The maximum depth of the tree. \n",
    "If None, then nodes are expanded until all leaves are pure or until all leaves contain less than min_samples_split sample\n",
    "\n",
    "# random_state: 난수값\n",
    "\n",
    "# min_samples_split: 분할 되기 위해 노드가 가져야 하는 최소 샘플 수 \n",
    "# min_samples_leaf: 리프 노드가 가지고 있어야 할 최소 샘플 수\n",
    "# max_leaf_nodes: 리프 노드의 최대 수\n",
    "# max_features: 노드에서 분할에 사용할 특성의 최대 수 \n",
    "\n",
    "# max_features : int, float, string or None, optional (default=”auto”)\n",
    "The number of features to consider when looking for the best split:\n",
    "\n",
    "If int, then consider max_features features at each split.\n",
    "If float, then max_features is a fraction and int(max_features * n_features) features are considered at each split.\n",
    "If “auto”, then max_features=sqrt(n_features).\n",
    "If “sqrt”, then max_features=sqrt(n_features) (same as “auto”).\n",
    "If “log2”, then max_features=log2(n_features).\n",
    "If None, then max_features=n_features.\n",
    "\n",
    "\"\"\"\n",
    "clf = tree.DecisionTreeClassifier('entropy', random_state=0)\n",
    "\n",
    "clf.fit(train_X, train_y)"
   ]
  },
  {
   "cell_type": "code",
   "execution_count": 72,
   "metadata": {},
   "outputs": [
    {
     "data": {
      "image/svg+xml": [
       "<?xml version=\"1.0\" encoding=\"UTF-8\" standalone=\"no\"?>\r\n",
       "<!DOCTYPE svg PUBLIC \"-//W3C//DTD SVG 1.1//EN\"\r\n",
       " \"http://www.w3.org/Graphics/SVG/1.1/DTD/svg11.dtd\">\r\n",
       "<!-- Generated by graphviz version 2.38.0 (20140413.2041)\r\n",
       " -->\r\n",
       "<!-- Title: Tree Pages: 1 -->\r\n",
       "<svg width=\"880pt\" height=\"356pt\"\r\n",
       " viewBox=\"0.00 0.00 880.00 356.00\" xmlns=\"http://www.w3.org/2000/svg\" xmlns:xlink=\"http://www.w3.org/1999/xlink\">\r\n",
       "<g id=\"graph0\" class=\"graph\" transform=\"scale(1 1) rotate(0) translate(4 352)\">\r\n",
       "<title>Tree</title>\r\n",
       "<polygon fill=\"white\" stroke=\"none\" points=\"-4,4 -4,-352 876,-352 876,4 -4,4\"/>\r\n",
       "<!-- 0 -->\r\n",
       "<g id=\"node1\" class=\"node\"><title>0</title>\r\n",
       "<path fill=\"#39e581\" fill-opacity=\"0.047059\" stroke=\"black\" d=\"M532.5,-348C532.5,-348 330.5,-348 330.5,-348 324.5,-348 318.5,-342 318.5,-336 318.5,-336 318.5,-292 318.5,-292 318.5,-286 324.5,-280 330.5,-280 330.5,-280 532.5,-280 532.5,-280 538.5,-280 544.5,-286 544.5,-292 544.5,-292 544.5,-336 544.5,-336 544.5,-342 538.5,-348 532.5,-348\"/>\r\n",
       "<text text-anchor=\"middle\" x=\"431.5\" y=\"-332.8\" font-family=\"Helvetica,sans-Serif\" font-size=\"14.00\">alcohol &lt;= 10.525</text>\r\n",
       "<text text-anchor=\"middle\" x=\"431.5\" y=\"-317.8\" font-family=\"Helvetica,sans-Serif\" font-size=\"14.00\">entropy = 1.71</text>\r\n",
       "<text text-anchor=\"middle\" x=\"431.5\" y=\"-302.8\" font-family=\"Helvetica,sans-Serif\" font-size=\"14.00\">samples = 1279</text>\r\n",
       "<text text-anchor=\"middle\" x=\"431.5\" y=\"-287.8\" font-family=\"Helvetica,sans-Serif\" font-size=\"14.00\">value = [8, 42, 545, 510, 159, 15]</text>\r\n",
       "</g>\r\n",
       "<!-- 1 -->\r\n",
       "<g id=\"node2\" class=\"node\"><title>1</title>\r\n",
       "<path fill=\"#39e581\" fill-opacity=\"0.396078\" stroke=\"black\" d=\"M408,-244C408,-244 223,-244 223,-244 217,-244 211,-238 211,-232 211,-232 211,-188 211,-188 211,-182 217,-176 223,-176 223,-176 408,-176 408,-176 414,-176 420,-182 420,-188 420,-188 420,-232 420,-232 420,-238 414,-244 408,-244\"/>\r\n",
       "<text text-anchor=\"middle\" x=\"315.5\" y=\"-228.8\" font-family=\"Helvetica,sans-Serif\" font-size=\"14.00\">alcohol &lt;= 9.85</text>\r\n",
       "<text text-anchor=\"middle\" x=\"315.5\" y=\"-213.8\" font-family=\"Helvetica,sans-Serif\" font-size=\"14.00\">entropy = 1.382</text>\r\n",
       "<text text-anchor=\"middle\" x=\"315.5\" y=\"-198.8\" font-family=\"Helvetica,sans-Serif\" font-size=\"14.00\">samples = 779</text>\r\n",
       "<text text-anchor=\"middle\" x=\"315.5\" y=\"-183.8\" font-family=\"Helvetica,sans-Serif\" font-size=\"14.00\">value = [5, 26, 462, 254, 31, 1]</text>\r\n",
       "</g>\r\n",
       "<!-- 0&#45;&gt;1 -->\r\n",
       "<g id=\"edge1\" class=\"edge\"><title>0&#45;&gt;1</title>\r\n",
       "<path fill=\"none\" stroke=\"black\" d=\"M393.838,-279.884C383.404,-270.709 371.965,-260.65 361.13,-251.123\"/>\r\n",
       "<polygon fill=\"black\" stroke=\"black\" points=\"363.191,-248.274 353.37,-244.299 358.568,-253.531 363.191,-248.274\"/>\r\n",
       "<text text-anchor=\"middle\" x=\"354.972\" y=\"-265.548\" font-family=\"Helvetica,sans-Serif\" font-size=\"14.00\">True</text>\r\n",
       "</g>\r\n",
       "<!-- 330 -->\r\n",
       "<g id=\"node9\" class=\"node\"><title>330</title>\r\n",
       "<path fill=\"#399de5\" fill-opacity=\"0.345098\" stroke=\"black\" d=\"M644.5,-244C644.5,-244 450.5,-244 450.5,-244 444.5,-244 438.5,-238 438.5,-232 438.5,-232 438.5,-188 438.5,-188 438.5,-182 444.5,-176 450.5,-176 450.5,-176 644.5,-176 644.5,-176 650.5,-176 656.5,-182 656.5,-188 656.5,-188 656.5,-232 656.5,-232 656.5,-238 650.5,-244 644.5,-244\"/>\r\n",
       "<text text-anchor=\"middle\" x=\"547.5\" y=\"-228.8\" font-family=\"Helvetica,sans-Serif\" font-size=\"14.00\">sulphates &lt;= 0.625</text>\r\n",
       "<text text-anchor=\"middle\" x=\"547.5\" y=\"-213.8\" font-family=\"Helvetica,sans-Serif\" font-size=\"14.00\">entropy = 1.775</text>\r\n",
       "<text text-anchor=\"middle\" x=\"547.5\" y=\"-198.8\" font-family=\"Helvetica,sans-Serif\" font-size=\"14.00\">samples = 500</text>\r\n",
       "<text text-anchor=\"middle\" x=\"547.5\" y=\"-183.8\" font-family=\"Helvetica,sans-Serif\" font-size=\"14.00\">value = [3, 16, 83, 256, 128, 14]</text>\r\n",
       "</g>\r\n",
       "<!-- 0&#45;&gt;330 -->\r\n",
       "<g id=\"edge8\" class=\"edge\"><title>0&#45;&gt;330</title>\r\n",
       "<path fill=\"none\" stroke=\"black\" d=\"M469.162,-279.884C479.596,-270.709 491.035,-260.65 501.87,-251.123\"/>\r\n",
       "<polygon fill=\"black\" stroke=\"black\" points=\"504.432,-253.531 509.63,-244.299 499.809,-248.274 504.432,-253.531\"/>\r\n",
       "<text text-anchor=\"middle\" x=\"508.028\" y=\"-265.548\" font-family=\"Helvetica,sans-Serif\" font-size=\"14.00\">False</text>\r\n",
       "</g>\r\n",
       "<!-- 2 -->\r\n",
       "<g id=\"node3\" class=\"node\"><title>2</title>\r\n",
       "<path fill=\"#39e581\" fill-opacity=\"0.564706\" stroke=\"black\" d=\"M189,-140C189,-140 12,-140 12,-140 6,-140 0,-134 0,-128 0,-128 0,-84 0,-84 0,-78 6,-72 12,-72 12,-72 189,-72 189,-72 195,-72 201,-78 201,-84 201,-84 201,-128 201,-128 201,-134 195,-140 189,-140\"/>\r\n",
       "<text text-anchor=\"middle\" x=\"100.5\" y=\"-124.8\" font-family=\"Helvetica,sans-Serif\" font-size=\"14.00\">sulphates &lt;= 0.535</text>\r\n",
       "<text text-anchor=\"middle\" x=\"100.5\" y=\"-109.8\" font-family=\"Helvetica,sans-Serif\" font-size=\"14.00\">entropy = 1.163</text>\r\n",
       "<text text-anchor=\"middle\" x=\"100.5\" y=\"-94.8\" font-family=\"Helvetica,sans-Serif\" font-size=\"14.00\">samples = 499</text>\r\n",
       "<text text-anchor=\"middle\" x=\"100.5\" y=\"-79.8\" font-family=\"Helvetica,sans-Serif\" font-size=\"14.00\">value = [3, 17, 340, 134, 5, 0]</text>\r\n",
       "</g>\r\n",
       "<!-- 1&#45;&gt;2 -->\r\n",
       "<g id=\"edge2\" class=\"edge\"><title>1&#45;&gt;2</title>\r\n",
       "<path fill=\"none\" stroke=\"black\" d=\"M245.696,-175.884C224.56,-165.856 201.198,-154.773 179.505,-144.482\"/>\r\n",
       "<polygon fill=\"black\" stroke=\"black\" points=\"180.857,-141.249 170.322,-140.125 177.856,-147.573 180.857,-141.249\"/>\r\n",
       "</g>\r\n",
       "<!-- 187 -->\r\n",
       "<g id=\"node6\" class=\"node\"><title>187</title>\r\n",
       "<path fill=\"#39e581\" fill-opacity=\"0.011765\" stroke=\"black\" d=\"M408,-140C408,-140 231,-140 231,-140 225,-140 219,-134 219,-128 219,-128 219,-84 219,-84 219,-78 225,-72 231,-72 231,-72 408,-72 408,-72 414,-72 420,-78 420,-84 420,-84 420,-128 420,-128 420,-134 414,-140 408,-140\"/>\r\n",
       "<text text-anchor=\"middle\" x=\"319.5\" y=\"-124.8\" font-family=\"Helvetica,sans-Serif\" font-size=\"14.00\">sulphates &lt;= 0.635</text>\r\n",
       "<text text-anchor=\"middle\" x=\"319.5\" y=\"-109.8\" font-family=\"Helvetica,sans-Serif\" font-size=\"14.00\">entropy = 1.604</text>\r\n",
       "<text text-anchor=\"middle\" x=\"319.5\" y=\"-94.8\" font-family=\"Helvetica,sans-Serif\" font-size=\"14.00\">samples = 280</text>\r\n",
       "<text text-anchor=\"middle\" x=\"319.5\" y=\"-79.8\" font-family=\"Helvetica,sans-Serif\" font-size=\"14.00\">value = [2, 9, 122, 120, 26, 1]</text>\r\n",
       "</g>\r\n",
       "<!-- 1&#45;&gt;187 -->\r\n",
       "<g id=\"edge5\" class=\"edge\"><title>1&#45;&gt;187</title>\r\n",
       "<path fill=\"none\" stroke=\"black\" d=\"M316.799,-175.884C317.117,-167.778 317.461,-158.982 317.795,-150.472\"/>\r\n",
       "<polygon fill=\"black\" stroke=\"black\" points=\"321.3,-150.429 318.194,-140.299 314.305,-150.155 321.3,-150.429\"/>\r\n",
       "</g>\r\n",
       "<!-- 3 -->\r\n",
       "<g id=\"node4\" class=\"node\"><title>3</title>\r\n",
       "<path fill=\"#c0c0c0\" stroke=\"black\" d=\"M79.5,-36C79.5,-36 49.5,-36 49.5,-36 43.5,-36 37.5,-30 37.5,-24 37.5,-24 37.5,-12 37.5,-12 37.5,-6 43.5,-0 49.5,-0 49.5,-0 79.5,-0 79.5,-0 85.5,-0 91.5,-6 91.5,-12 91.5,-12 91.5,-24 91.5,-24 91.5,-30 85.5,-36 79.5,-36\"/>\r\n",
       "<text text-anchor=\"middle\" x=\"64.5\" y=\"-14.3\" font-family=\"Helvetica,sans-Serif\" font-size=\"14.00\">(...)</text>\r\n",
       "</g>\r\n",
       "<!-- 2&#45;&gt;3 -->\r\n",
       "<g id=\"edge3\" class=\"edge\"><title>2&#45;&gt;3</title>\r\n",
       "<path fill=\"none\" stroke=\"black\" d=\"M86.6844,-71.9961C83.036,-63.2804 79.1447,-53.9846 75.6564,-45.6514\"/>\r\n",
       "<polygon fill=\"black\" stroke=\"black\" points=\"78.8751,-44.2763 71.7851,-36.4034 72.418,-46.9793 78.8751,-44.2763\"/>\r\n",
       "</g>\r\n",
       "<!-- 42 -->\r\n",
       "<g id=\"node5\" class=\"node\"><title>42</title>\r\n",
       "<path fill=\"#c0c0c0\" stroke=\"black\" d=\"M151.5,-36C151.5,-36 121.5,-36 121.5,-36 115.5,-36 109.5,-30 109.5,-24 109.5,-24 109.5,-12 109.5,-12 109.5,-6 115.5,-0 121.5,-0 121.5,-0 151.5,-0 151.5,-0 157.5,-0 163.5,-6 163.5,-12 163.5,-12 163.5,-24 163.5,-24 163.5,-30 157.5,-36 151.5,-36\"/>\r\n",
       "<text text-anchor=\"middle\" x=\"136.5\" y=\"-14.3\" font-family=\"Helvetica,sans-Serif\" font-size=\"14.00\">(...)</text>\r\n",
       "</g>\r\n",
       "<!-- 2&#45;&gt;42 -->\r\n",
       "<g id=\"edge4\" class=\"edge\"><title>2&#45;&gt;42</title>\r\n",
       "<path fill=\"none\" stroke=\"black\" d=\"M114.316,-71.9961C117.964,-63.2804 121.855,-53.9846 125.344,-45.6514\"/>\r\n",
       "<polygon fill=\"black\" stroke=\"black\" points=\"128.582,-46.9793 129.215,-36.4034 122.125,-44.2763 128.582,-46.9793\"/>\r\n",
       "</g>\r\n",
       "<!-- 188 -->\r\n",
       "<g id=\"node7\" class=\"node\"><title>188</title>\r\n",
       "<path fill=\"#c0c0c0\" stroke=\"black\" d=\"M298.5,-36C298.5,-36 268.5,-36 268.5,-36 262.5,-36 256.5,-30 256.5,-24 256.5,-24 256.5,-12 256.5,-12 256.5,-6 262.5,-0 268.5,-0 268.5,-0 298.5,-0 298.5,-0 304.5,-0 310.5,-6 310.5,-12 310.5,-12 310.5,-24 310.5,-24 310.5,-30 304.5,-36 298.5,-36\"/>\r\n",
       "<text text-anchor=\"middle\" x=\"283.5\" y=\"-14.3\" font-family=\"Helvetica,sans-Serif\" font-size=\"14.00\">(...)</text>\r\n",
       "</g>\r\n",
       "<!-- 187&#45;&gt;188 -->\r\n",
       "<g id=\"edge6\" class=\"edge\"><title>187&#45;&gt;188</title>\r\n",
       "<path fill=\"none\" stroke=\"black\" d=\"M305.684,-71.9961C302.036,-63.2804 298.145,-53.9846 294.656,-45.6514\"/>\r\n",
       "<polygon fill=\"black\" stroke=\"black\" points=\"297.875,-44.2763 290.785,-36.4034 291.418,-46.9793 297.875,-44.2763\"/>\r\n",
       "</g>\r\n",
       "<!-- 267 -->\r\n",
       "<g id=\"node8\" class=\"node\"><title>267</title>\r\n",
       "<path fill=\"#c0c0c0\" stroke=\"black\" d=\"M370.5,-36C370.5,-36 340.5,-36 340.5,-36 334.5,-36 328.5,-30 328.5,-24 328.5,-24 328.5,-12 328.5,-12 328.5,-6 334.5,-0 340.5,-0 340.5,-0 370.5,-0 370.5,-0 376.5,-0 382.5,-6 382.5,-12 382.5,-12 382.5,-24 382.5,-24 382.5,-30 376.5,-36 370.5,-36\"/>\r\n",
       "<text text-anchor=\"middle\" x=\"355.5\" y=\"-14.3\" font-family=\"Helvetica,sans-Serif\" font-size=\"14.00\">(...)</text>\r\n",
       "</g>\r\n",
       "<!-- 187&#45;&gt;267 -->\r\n",
       "<g id=\"edge7\" class=\"edge\"><title>187&#45;&gt;267</title>\r\n",
       "<path fill=\"none\" stroke=\"black\" d=\"M333.316,-71.9961C336.964,-63.2804 340.855,-53.9846 344.344,-45.6514\"/>\r\n",
       "<polygon fill=\"black\" stroke=\"black\" points=\"347.582,-46.9793 348.215,-36.4034 341.125,-44.2763 347.582,-46.9793\"/>\r\n",
       "</g>\r\n",
       "<!-- 331 -->\r\n",
       "<g id=\"node10\" class=\"node\"><title>331</title>\r\n",
       "<path fill=\"#399de5\" fill-opacity=\"0.376471\" stroke=\"black\" d=\"M633,-140C633,-140 456,-140 456,-140 450,-140 444,-134 444,-128 444,-128 444,-84 444,-84 444,-78 450,-72 456,-72 456,-72 633,-72 633,-72 639,-72 645,-78 645,-84 645,-84 645,-128 645,-128 645,-134 639,-140 633,-140\"/>\r\n",
       "<text text-anchor=\"middle\" x=\"544.5\" y=\"-124.8\" font-family=\"Helvetica,sans-Serif\" font-size=\"14.00\">volatile acidity &lt;= 1.015</text>\r\n",
       "<text text-anchor=\"middle\" x=\"544.5\" y=\"-109.8\" font-family=\"Helvetica,sans-Serif\" font-size=\"14.00\">entropy = 1.683</text>\r\n",
       "<text text-anchor=\"middle\" x=\"544.5\" y=\"-94.8\" font-family=\"Helvetica,sans-Serif\" font-size=\"14.00\">samples = 197</text>\r\n",
       "<text text-anchor=\"middle\" x=\"544.5\" y=\"-79.8\" font-family=\"Helvetica,sans-Serif\" font-size=\"14.00\">value = [3, 13, 53, 107, 21, 0]</text>\r\n",
       "</g>\r\n",
       "<!-- 330&#45;&gt;331 -->\r\n",
       "<g id=\"edge9\" class=\"edge\"><title>330&#45;&gt;331</title>\r\n",
       "<path fill=\"none\" stroke=\"black\" d=\"M546.526,-175.884C546.288,-167.778 546.029,-158.982 545.779,-150.472\"/>\r\n",
       "<polygon fill=\"black\" stroke=\"black\" points=\"549.272,-150.192 545.479,-140.299 542.275,-150.398 549.272,-150.192\"/>\r\n",
       "</g>\r\n",
       "<!-- 426 -->\r\n",
       "<g id=\"node13\" class=\"node\"><title>426</title>\r\n",
       "<path fill=\"#399de5\" fill-opacity=\"0.215686\" stroke=\"black\" d=\"M860,-140C860,-140 675,-140 675,-140 669,-140 663,-134 663,-128 663,-128 663,-84 663,-84 663,-78 669,-72 675,-72 675,-72 860,-72 860,-72 866,-72 872,-78 872,-84 872,-84 872,-128 872,-128 872,-134 866,-140 860,-140\"/>\r\n",
       "<text text-anchor=\"middle\" x=\"767.5\" y=\"-124.8\" font-family=\"Helvetica,sans-Serif\" font-size=\"14.00\">alcohol &lt;= 11.55</text>\r\n",
       "<text text-anchor=\"middle\" x=\"767.5\" y=\"-109.8\" font-family=\"Helvetica,sans-Serif\" font-size=\"14.00\">entropy = 1.635</text>\r\n",
       "<text text-anchor=\"middle\" x=\"767.5\" y=\"-94.8\" font-family=\"Helvetica,sans-Serif\" font-size=\"14.00\">samples = 303</text>\r\n",
       "<text text-anchor=\"middle\" x=\"767.5\" y=\"-79.8\" font-family=\"Helvetica,sans-Serif\" font-size=\"14.00\">value = [0, 3, 30, 149, 107, 14]</text>\r\n",
       "</g>\r\n",
       "<!-- 330&#45;&gt;426 -->\r\n",
       "<g id=\"edge12\" class=\"edge\"><title>330&#45;&gt;426</title>\r\n",
       "<path fill=\"none\" stroke=\"black\" d=\"M618.928,-175.884C640.651,-165.812 664.673,-154.674 686.955,-144.344\"/>\r\n",
       "<polygon fill=\"black\" stroke=\"black\" points=\"688.454,-147.506 696.054,-140.125 685.51,-141.156 688.454,-147.506\"/>\r\n",
       "</g>\r\n",
       "<!-- 332 -->\r\n",
       "<g id=\"node11\" class=\"node\"><title>332</title>\r\n",
       "<path fill=\"#c0c0c0\" stroke=\"black\" d=\"M523.5,-36C523.5,-36 493.5,-36 493.5,-36 487.5,-36 481.5,-30 481.5,-24 481.5,-24 481.5,-12 481.5,-12 481.5,-6 487.5,-0 493.5,-0 493.5,-0 523.5,-0 523.5,-0 529.5,-0 535.5,-6 535.5,-12 535.5,-12 535.5,-24 535.5,-24 535.5,-30 529.5,-36 523.5,-36\"/>\r\n",
       "<text text-anchor=\"middle\" x=\"508.5\" y=\"-14.3\" font-family=\"Helvetica,sans-Serif\" font-size=\"14.00\">(...)</text>\r\n",
       "</g>\r\n",
       "<!-- 331&#45;&gt;332 -->\r\n",
       "<g id=\"edge10\" class=\"edge\"><title>331&#45;&gt;332</title>\r\n",
       "<path fill=\"none\" stroke=\"black\" d=\"M530.684,-71.9961C527.036,-63.2804 523.145,-53.9846 519.656,-45.6514\"/>\r\n",
       "<polygon fill=\"black\" stroke=\"black\" points=\"522.875,-44.2763 515.785,-36.4034 516.418,-46.9793 522.875,-44.2763\"/>\r\n",
       "</g>\r\n",
       "<!-- 421 -->\r\n",
       "<g id=\"node12\" class=\"node\"><title>421</title>\r\n",
       "<path fill=\"#c0c0c0\" stroke=\"black\" d=\"M595.5,-36C595.5,-36 565.5,-36 565.5,-36 559.5,-36 553.5,-30 553.5,-24 553.5,-24 553.5,-12 553.5,-12 553.5,-6 559.5,-0 565.5,-0 565.5,-0 595.5,-0 595.5,-0 601.5,-0 607.5,-6 607.5,-12 607.5,-12 607.5,-24 607.5,-24 607.5,-30 601.5,-36 595.5,-36\"/>\r\n",
       "<text text-anchor=\"middle\" x=\"580.5\" y=\"-14.3\" font-family=\"Helvetica,sans-Serif\" font-size=\"14.00\">(...)</text>\r\n",
       "</g>\r\n",
       "<!-- 331&#45;&gt;421 -->\r\n",
       "<g id=\"edge11\" class=\"edge\"><title>331&#45;&gt;421</title>\r\n",
       "<path fill=\"none\" stroke=\"black\" d=\"M558.316,-71.9961C561.964,-63.2804 565.855,-53.9846 569.344,-45.6514\"/>\r\n",
       "<polygon fill=\"black\" stroke=\"black\" points=\"572.582,-46.9793 573.215,-36.4034 566.125,-44.2763 572.582,-46.9793\"/>\r\n",
       "</g>\r\n",
       "<!-- 427 -->\r\n",
       "<g id=\"node14\" class=\"node\"><title>427</title>\r\n",
       "<path fill=\"#c0c0c0\" stroke=\"black\" d=\"M746.5,-36C746.5,-36 716.5,-36 716.5,-36 710.5,-36 704.5,-30 704.5,-24 704.5,-24 704.5,-12 704.5,-12 704.5,-6 710.5,-0 716.5,-0 716.5,-0 746.5,-0 746.5,-0 752.5,-0 758.5,-6 758.5,-12 758.5,-12 758.5,-24 758.5,-24 758.5,-30 752.5,-36 746.5,-36\"/>\r\n",
       "<text text-anchor=\"middle\" x=\"731.5\" y=\"-14.3\" font-family=\"Helvetica,sans-Serif\" font-size=\"14.00\">(...)</text>\r\n",
       "</g>\r\n",
       "<!-- 426&#45;&gt;427 -->\r\n",
       "<g id=\"edge13\" class=\"edge\"><title>426&#45;&gt;427</title>\r\n",
       "<path fill=\"none\" stroke=\"black\" d=\"M753.684,-71.9961C750.036,-63.2804 746.145,-53.9846 742.656,-45.6514\"/>\r\n",
       "<polygon fill=\"black\" stroke=\"black\" points=\"745.875,-44.2763 738.785,-36.4034 739.418,-46.9793 745.875,-44.2763\"/>\r\n",
       "</g>\r\n",
       "<!-- 520 -->\r\n",
       "<g id=\"node15\" class=\"node\"><title>520</title>\r\n",
       "<path fill=\"#c0c0c0\" stroke=\"black\" d=\"M818.5,-36C818.5,-36 788.5,-36 788.5,-36 782.5,-36 776.5,-30 776.5,-24 776.5,-24 776.5,-12 776.5,-12 776.5,-6 782.5,-0 788.5,-0 788.5,-0 818.5,-0 818.5,-0 824.5,-0 830.5,-6 830.5,-12 830.5,-12 830.5,-24 830.5,-24 830.5,-30 824.5,-36 818.5,-36\"/>\r\n",
       "<text text-anchor=\"middle\" x=\"803.5\" y=\"-14.3\" font-family=\"Helvetica,sans-Serif\" font-size=\"14.00\">(...)</text>\r\n",
       "</g>\r\n",
       "<!-- 426&#45;&gt;520 -->\r\n",
       "<g id=\"edge14\" class=\"edge\"><title>426&#45;&gt;520</title>\r\n",
       "<path fill=\"none\" stroke=\"black\" d=\"M781.316,-71.9961C784.964,-63.2804 788.855,-53.9846 792.344,-45.6514\"/>\r\n",
       "<polygon fill=\"black\" stroke=\"black\" points=\"795.582,-46.9793 796.215,-36.4034 789.125,-44.2763 795.582,-46.9793\"/>\r\n",
       "</g>\r\n",
       "</g>\r\n",
       "</svg>\r\n"
      ],
      "text/plain": [
       "<graphviz.files.Source at 0xc47f5c0>"
      ]
     },
     "execution_count": 72,
     "metadata": {},
     "output_type": "execute_result"
    }
   ],
   "source": [
    "dot_data = tree.export_graphviz(clf, out_file=None, max_depth=2, feature_names=list(X.columns.values), filled=True, rounded=True)\n",
    "graphviz.Source(dot_data)"
   ]
  },
  {
   "cell_type": "code",
   "execution_count": 73,
   "metadata": {},
   "outputs": [
    {
     "data": {
      "text/plain": [
       "1.0"
      ]
     },
     "execution_count": 73,
     "metadata": {},
     "output_type": "execute_result"
    }
   ],
   "source": [
    "clf.score(train_X, train_y)\n",
    "# 전형적인 overfitting"
   ]
  },
  {
   "cell_type": "code",
   "execution_count": 74,
   "metadata": {},
   "outputs": [
    {
     "data": {
      "text/plain": [
       "0.603125"
      ]
     },
     "execution_count": 74,
     "metadata": {},
     "output_type": "execute_result"
    }
   ],
   "source": [
    "clf.score(test_X, test_y)"
   ]
  },
  {
   "cell_type": "code",
   "execution_count": 75,
   "metadata": {},
   "outputs": [
    {
     "data": {
      "text/plain": [
       "[('fixed acidity', 0.07391906181608769),\n",
       " ('volatile acidity', 0.11629849893284064),\n",
       " ('citric acid', 0.05788886494735533),\n",
       " ('residual sugar', 0.0784970064988638),\n",
       " ('chlorides', 0.05662613198027193),\n",
       " ('free sulfur dioxide', 0.04452005755686164),\n",
       " ('total sulfur dioxide', 0.09170644678797549),\n",
       " ('density', 0.04698259297918923),\n",
       " ('pH', 0.10408914337632276),\n",
       " ('sulphates', 0.11690231085845651),\n",
       " ('alcohol', 0.21256988426577506)]"
      ]
     },
     "execution_count": 75,
     "metadata": {},
     "output_type": "execute_result"
    }
   ],
   "source": [
    "list(zip(X.columns, clf.feature_importances_))\n",
    "# 어떤 feautre가 불순도를 낮추는데에 기여하고 있는가? "
   ]
  },
  {
   "cell_type": "code",
   "execution_count": 76,
   "metadata": {},
   "outputs": [
    {
     "data": {
      "text/plain": [
       "array([3, 4, 5, 6, 7, 8], dtype=int64)"
      ]
     },
     "execution_count": 76,
     "metadata": {},
     "output_type": "execute_result"
    }
   ],
   "source": [
    "clf.classes_"
   ]
  },
  {
   "cell_type": "code",
   "execution_count": 77,
   "metadata": {},
   "outputs": [
    {
     "data": {
      "text/plain": [
       "11"
      ]
     },
     "execution_count": 77,
     "metadata": {},
     "output_type": "execute_result"
    }
   ],
   "source": [
    "clf.max_features_"
   ]
  },
  {
   "cell_type": "code",
   "execution_count": 78,
   "metadata": {},
   "outputs": [
    {
     "data": {
      "text/plain": [
       "'0.20.3'"
      ]
     },
     "execution_count": 78,
     "metadata": {},
     "output_type": "execute_result"
    }
   ],
   "source": [
    "sklearn.__version__"
   ]
  },
  {
   "cell_type": "markdown",
   "metadata": {},
   "source": [
    "# 1. white wine에 대해서 Quality 예측"
   ]
  },
  {
   "cell_type": "code",
   "execution_count": 116,
   "metadata": {},
   "outputs": [],
   "source": [
    "new_white = wine_white.copy()"
   ]
  },
  {
   "cell_type": "code",
   "execution_count": 117,
   "metadata": {},
   "outputs": [],
   "source": [
    "# white wine에 대해서만 작업\n",
    "X = new_white.drop('quality', axis=1)\n",
    "y = new_white['quality']"
   ]
  },
  {
   "cell_type": "code",
   "execution_count": 118,
   "metadata": {},
   "outputs": [],
   "source": [
    "# new_white['quality'].value_counts()"
   ]
  },
  {
   "cell_type": "code",
   "execution_count": 119,
   "metadata": {},
   "outputs": [],
   "source": [
    "from sklearn.model_selection import train_test_split\n",
    "train_X, test_X, train_y, test_y = train_test_split(X, y, stratify=y, random_state=1994, test_size=0.2)"
   ]
  },
  {
   "cell_type": "code",
   "execution_count": 129,
   "metadata": {},
   "outputs": [
    {
     "data": {
      "text/plain": [
       "DecisionTreeClassifier(class_weight=None, criterion='entropy', max_depth=5,\n",
       "            max_features=5, max_leaf_nodes=15, min_impurity_decrease=0.0,\n",
       "            min_impurity_split=None, min_samples_leaf=1,\n",
       "            min_samples_split=2, min_weight_fraction_leaf=0.0,\n",
       "            presort=False, random_state=1994, splitter='best')"
      ]
     },
     "execution_count": 129,
     "metadata": {},
     "output_type": "execute_result"
    }
   ],
   "source": [
    "from sklearn import tree\n",
    "clf = tree.DecisionTreeClassifier(\n",
    "    'entropy',\n",
    "    random_state=1994,\n",
    "    max_depth = 5,\n",
    "    max_features = 5,\n",
    "    max_leaf_nodes = 15\n",
    ")\n",
    "clf.fit(train_X, train_y)"
   ]
  },
  {
   "cell_type": "code",
   "execution_count": 130,
   "metadata": {},
   "outputs": [
    {
     "data": {
      "image/svg+xml": [
       "<?xml version=\"1.0\" encoding=\"UTF-8\" standalone=\"no\"?>\r\n",
       "<!DOCTYPE svg PUBLIC \"-//W3C//DTD SVG 1.1//EN\"\r\n",
       " \"http://www.w3.org/Graphics/SVG/1.1/DTD/svg11.dtd\">\r\n",
       "<!-- Generated by graphviz version 2.38.0 (20140413.2041)\r\n",
       " -->\r\n",
       "<!-- Title: Tree Pages: 1 -->\r\n",
       "<svg width=\"990pt\" height=\"356pt\"\r\n",
       " viewBox=\"0.00 0.00 989.50 356.00\" xmlns=\"http://www.w3.org/2000/svg\" xmlns:xlink=\"http://www.w3.org/1999/xlink\">\r\n",
       "<g id=\"graph0\" class=\"graph\" transform=\"scale(1 1) rotate(0) translate(4 352)\">\r\n",
       "<title>Tree</title>\r\n",
       "<polygon fill=\"white\" stroke=\"none\" points=\"-4,4 -4,-352 985.5,-352 985.5,4 -4,4\"/>\r\n",
       "<!-- 0 -->\r\n",
       "<g id=\"node1\" class=\"node\"><title>0</title>\r\n",
       "<path fill=\"#39e5e2\" fill-opacity=\"0.215686\" stroke=\"black\" d=\"M614,-348C614,-348 355,-348 355,-348 349,-348 343,-342 343,-336 343,-336 343,-292 343,-292 343,-286 349,-280 355,-280 355,-280 614,-280 614,-280 620,-280 626,-286 626,-292 626,-292 626,-336 626,-336 626,-342 620,-348 614,-348\"/>\r\n",
       "<text text-anchor=\"middle\" x=\"484.5\" y=\"-332.8\" font-family=\"Helvetica,sans-Serif\" font-size=\"14.00\">alcohol &lt;= 10.85</text>\r\n",
       "<text text-anchor=\"middle\" x=\"484.5\" y=\"-317.8\" font-family=\"Helvetica,sans-Serif\" font-size=\"14.00\">entropy = 1.861</text>\r\n",
       "<text text-anchor=\"middle\" x=\"484.5\" y=\"-302.8\" font-family=\"Helvetica,sans-Serif\" font-size=\"14.00\">samples = 3918</text>\r\n",
       "<text text-anchor=\"middle\" x=\"484.5\" y=\"-287.8\" font-family=\"Helvetica,sans-Serif\" font-size=\"14.00\">value = [16, 130, 1166, 1758, 704, 140, 4]</text>\r\n",
       "</g>\r\n",
       "<!-- 1 -->\r\n",
       "<g id=\"node2\" class=\"node\"><title>1</title>\r\n",
       "<path fill=\"#39e5e2\" fill-opacity=\"0.035294\" stroke=\"black\" d=\"M467.5,-244C467.5,-244 225.5,-244 225.5,-244 219.5,-244 213.5,-238 213.5,-232 213.5,-232 213.5,-188 213.5,-188 213.5,-182 219.5,-176 225.5,-176 225.5,-176 467.5,-176 467.5,-176 473.5,-176 479.5,-182 479.5,-188 479.5,-188 479.5,-232 479.5,-232 479.5,-238 473.5,-244 467.5,-244\"/>\r\n",
       "<text text-anchor=\"middle\" x=\"346.5\" y=\"-228.8\" font-family=\"Helvetica,sans-Serif\" font-size=\"14.00\">citric acid &lt;= 0.235</text>\r\n",
       "<text text-anchor=\"middle\" x=\"346.5\" y=\"-213.8\" font-family=\"Helvetica,sans-Serif\" font-size=\"14.00\">entropy = 1.658</text>\r\n",
       "<text text-anchor=\"middle\" x=\"346.5\" y=\"-198.8\" font-family=\"Helvetica,sans-Serif\" font-size=\"14.00\">samples = 2448</text>\r\n",
       "<text text-anchor=\"middle\" x=\"346.5\" y=\"-183.8\" font-family=\"Helvetica,sans-Serif\" font-size=\"14.00\">value = [11, 99, 1022, 1073, 212, 30, 1]</text>\r\n",
       "</g>\r\n",
       "<!-- 0&#45;&gt;1 -->\r\n",
       "<g id=\"edge1\" class=\"edge\"><title>0&#45;&gt;1</title>\r\n",
       "<path fill=\"none\" stroke=\"black\" d=\"M439.695,-279.884C426.921,-270.442 412.88,-260.064 399.659,-250.292\"/>\r\n",
       "<polygon fill=\"black\" stroke=\"black\" points=\"401.674,-247.429 391.552,-244.299 397.513,-253.058 401.674,-247.429\"/>\r\n",
       "<text text-anchor=\"middle\" x=\"395.261\" y=\"-265.323\" font-family=\"Helvetica,sans-Serif\" font-size=\"14.00\">True</text>\r\n",
       "</g>\r\n",
       "<!-- 2 -->\r\n",
       "<g id=\"node9\" class=\"node\"><title>2</title>\r\n",
       "<path fill=\"#39e5e2\" fill-opacity=\"0.196078\" stroke=\"black\" d=\"M735.5,-244C735.5,-244 509.5,-244 509.5,-244 503.5,-244 497.5,-238 497.5,-232 497.5,-232 497.5,-188 497.5,-188 497.5,-182 503.5,-176 509.5,-176 509.5,-176 735.5,-176 735.5,-176 741.5,-176 747.5,-182 747.5,-188 747.5,-188 747.5,-232 747.5,-232 747.5,-238 741.5,-244 735.5,-244\"/>\r\n",
       "<text text-anchor=\"middle\" x=\"622.5\" y=\"-228.8\" font-family=\"Helvetica,sans-Serif\" font-size=\"14.00\">free sulfur dioxide &lt;= 11.5</text>\r\n",
       "<text text-anchor=\"middle\" x=\"622.5\" y=\"-213.8\" font-family=\"Helvetica,sans-Serif\" font-size=\"14.00\">entropy = 1.814</text>\r\n",
       "<text text-anchor=\"middle\" x=\"622.5\" y=\"-198.8\" font-family=\"Helvetica,sans-Serif\" font-size=\"14.00\">samples = 1470</text>\r\n",
       "<text text-anchor=\"middle\" x=\"622.5\" y=\"-183.8\" font-family=\"Helvetica,sans-Serif\" font-size=\"14.00\">value = [5, 31, 144, 685, 492, 110, 3]</text>\r\n",
       "</g>\r\n",
       "<!-- 0&#45;&gt;2 -->\r\n",
       "<g id=\"edge8\" class=\"edge\"><title>0&#45;&gt;2</title>\r\n",
       "<path fill=\"none\" stroke=\"black\" d=\"M529.305,-279.884C542.079,-270.442 556.12,-260.064 569.341,-250.292\"/>\r\n",
       "<polygon fill=\"black\" stroke=\"black\" points=\"571.487,-253.058 577.448,-244.299 567.326,-247.429 571.487,-253.058\"/>\r\n",
       "<text text-anchor=\"middle\" x=\"573.739\" y=\"-265.323\" font-family=\"Helvetica,sans-Serif\" font-size=\"14.00\">False</text>\r\n",
       "</g>\r\n",
       "<!-- 5 -->\r\n",
       "<g id=\"node3\" class=\"node\"><title>5</title>\r\n",
       "<path fill=\"#39e54d\" fill-opacity=\"0.345098\" stroke=\"black\" d=\"M205,-140C205,-140 12,-140 12,-140 6,-140 0,-134 0,-128 0,-128 0,-84 0,-84 0,-78 6,-72 12,-72 12,-72 205,-72 205,-72 211,-72 217,-78 217,-84 217,-84 217,-128 217,-128 217,-134 211,-140 205,-140\"/>\r\n",
       "<text text-anchor=\"middle\" x=\"108.5\" y=\"-124.8\" font-family=\"Helvetica,sans-Serif\" font-size=\"14.00\">citric acid &lt;= 0.205</text>\r\n",
       "<text text-anchor=\"middle\" x=\"108.5\" y=\"-109.8\" font-family=\"Helvetica,sans-Serif\" font-size=\"14.00\">entropy = 1.358</text>\r\n",
       "<text text-anchor=\"middle\" x=\"108.5\" y=\"-94.8\" font-family=\"Helvetica,sans-Serif\" font-size=\"14.00\">samples = 415</text>\r\n",
       "<text text-anchor=\"middle\" x=\"108.5\" y=\"-79.8\" font-family=\"Helvetica,sans-Serif\" font-size=\"14.00\">value = [2, 23, 238, 145, 7, 0, 0]</text>\r\n",
       "</g>\r\n",
       "<!-- 1&#45;&gt;5 -->\r\n",
       "<g id=\"edge2\" class=\"edge\"><title>1&#45;&gt;5</title>\r\n",
       "<path fill=\"none\" stroke=\"black\" d=\"M269.228,-175.884C245.518,-165.722 219.278,-154.476 194.993,-144.069\"/>\r\n",
       "<polygon fill=\"black\" stroke=\"black\" points=\"196.361,-140.847 185.791,-140.125 193.604,-147.281 196.361,-140.847\"/>\r\n",
       "</g>\r\n",
       "<!-- 6 -->\r\n",
       "<g id=\"node6\" class=\"node\"><title>6</title>\r\n",
       "<path fill=\"#39e5e2\" fill-opacity=\"0.113725\" stroke=\"black\" d=\"M465.5,-140C465.5,-140 247.5,-140 247.5,-140 241.5,-140 235.5,-134 235.5,-128 235.5,-128 235.5,-84 235.5,-84 235.5,-78 241.5,-72 247.5,-72 247.5,-72 465.5,-72 465.5,-72 471.5,-72 477.5,-78 477.5,-84 477.5,-84 477.5,-128 477.5,-128 477.5,-134 471.5,-140 465.5,-140\"/>\r\n",
       "<text text-anchor=\"middle\" x=\"356.5\" y=\"-124.8\" font-family=\"Helvetica,sans-Serif\" font-size=\"14.00\">volatile acidity &lt;= 0.257</text>\r\n",
       "<text text-anchor=\"middle\" x=\"356.5\" y=\"-109.8\" font-family=\"Helvetica,sans-Serif\" font-size=\"14.00\">entropy = 1.687</text>\r\n",
       "<text text-anchor=\"middle\" x=\"356.5\" y=\"-94.8\" font-family=\"Helvetica,sans-Serif\" font-size=\"14.00\">samples = 2033</text>\r\n",
       "<text text-anchor=\"middle\" x=\"356.5\" y=\"-79.8\" font-family=\"Helvetica,sans-Serif\" font-size=\"14.00\">value = [9, 76, 784, 928, 205, 30, 1]</text>\r\n",
       "</g>\r\n",
       "<!-- 1&#45;&gt;6 -->\r\n",
       "<g id=\"edge5\" class=\"edge\"><title>1&#45;&gt;6</title>\r\n",
       "<path fill=\"none\" stroke=\"black\" d=\"M349.747,-175.884C350.541,-167.778 351.404,-158.982 352.238,-150.472\"/>\r\n",
       "<polygon fill=\"black\" stroke=\"black\" points=\"355.743,-150.593 353.235,-140.299 348.776,-149.91 355.743,-150.593\"/>\r\n",
       "</g>\r\n",
       "<!-- 27 -->\r\n",
       "<g id=\"node4\" class=\"node\"><title>27</title>\r\n",
       "<path fill=\"#c0c0c0\" stroke=\"black\" d=\"M87.5,-36C87.5,-36 57.5,-36 57.5,-36 51.5,-36 45.5,-30 45.5,-24 45.5,-24 45.5,-12 45.5,-12 45.5,-6 51.5,-0 57.5,-0 57.5,-0 87.5,-0 87.5,-0 93.5,-0 99.5,-6 99.5,-12 99.5,-12 99.5,-24 99.5,-24 99.5,-30 93.5,-36 87.5,-36\"/>\r\n",
       "<text text-anchor=\"middle\" x=\"72.5\" y=\"-14.3\" font-family=\"Helvetica,sans-Serif\" font-size=\"14.00\">(...)</text>\r\n",
       "</g>\r\n",
       "<!-- 5&#45;&gt;27 -->\r\n",
       "<g id=\"edge3\" class=\"edge\"><title>5&#45;&gt;27</title>\r\n",
       "<path fill=\"none\" stroke=\"black\" d=\"M94.6844,-71.9961C91.036,-63.2804 87.1447,-53.9846 83.6564,-45.6514\"/>\r\n",
       "<polygon fill=\"black\" stroke=\"black\" points=\"86.8751,-44.2763 79.7851,-36.4034 80.418,-46.9793 86.8751,-44.2763\"/>\r\n",
       "</g>\r\n",
       "<!-- 28 -->\r\n",
       "<g id=\"node5\" class=\"node\"><title>28</title>\r\n",
       "<path fill=\"#c0c0c0\" stroke=\"black\" d=\"M159.5,-36C159.5,-36 129.5,-36 129.5,-36 123.5,-36 117.5,-30 117.5,-24 117.5,-24 117.5,-12 117.5,-12 117.5,-6 123.5,-0 129.5,-0 129.5,-0 159.5,-0 159.5,-0 165.5,-0 171.5,-6 171.5,-12 171.5,-12 171.5,-24 171.5,-24 171.5,-30 165.5,-36 159.5,-36\"/>\r\n",
       "<text text-anchor=\"middle\" x=\"144.5\" y=\"-14.3\" font-family=\"Helvetica,sans-Serif\" font-size=\"14.00\">(...)</text>\r\n",
       "</g>\r\n",
       "<!-- 5&#45;&gt;28 -->\r\n",
       "<g id=\"edge4\" class=\"edge\"><title>5&#45;&gt;28</title>\r\n",
       "<path fill=\"none\" stroke=\"black\" d=\"M122.316,-71.9961C125.964,-63.2804 129.855,-53.9846 133.344,-45.6514\"/>\r\n",
       "<polygon fill=\"black\" stroke=\"black\" points=\"136.582,-46.9793 137.215,-36.4034 130.125,-44.2763 136.582,-46.9793\"/>\r\n",
       "</g>\r\n",
       "<!-- 7 -->\r\n",
       "<g id=\"node7\" class=\"node\"><title>7</title>\r\n",
       "<path fill=\"#c0c0c0\" stroke=\"black\" d=\"M335.5,-36C335.5,-36 305.5,-36 305.5,-36 299.5,-36 293.5,-30 293.5,-24 293.5,-24 293.5,-12 293.5,-12 293.5,-6 299.5,-0 305.5,-0 305.5,-0 335.5,-0 335.5,-0 341.5,-0 347.5,-6 347.5,-12 347.5,-12 347.5,-24 347.5,-24 347.5,-30 341.5,-36 335.5,-36\"/>\r\n",
       "<text text-anchor=\"middle\" x=\"320.5\" y=\"-14.3\" font-family=\"Helvetica,sans-Serif\" font-size=\"14.00\">(...)</text>\r\n",
       "</g>\r\n",
       "<!-- 6&#45;&gt;7 -->\r\n",
       "<g id=\"edge6\" class=\"edge\"><title>6&#45;&gt;7</title>\r\n",
       "<path fill=\"none\" stroke=\"black\" d=\"M342.684,-71.9961C339.036,-63.2804 335.145,-53.9846 331.656,-45.6514\"/>\r\n",
       "<polygon fill=\"black\" stroke=\"black\" points=\"334.875,-44.2763 327.785,-36.4034 328.418,-46.9793 334.875,-44.2763\"/>\r\n",
       "</g>\r\n",
       "<!-- 8 -->\r\n",
       "<g id=\"node8\" class=\"node\"><title>8</title>\r\n",
       "<path fill=\"#c0c0c0\" stroke=\"black\" d=\"M407.5,-36C407.5,-36 377.5,-36 377.5,-36 371.5,-36 365.5,-30 365.5,-24 365.5,-24 365.5,-12 365.5,-12 365.5,-6 371.5,-0 377.5,-0 377.5,-0 407.5,-0 407.5,-0 413.5,-0 419.5,-6 419.5,-12 419.5,-12 419.5,-24 419.5,-24 419.5,-30 413.5,-36 407.5,-36\"/>\r\n",
       "<text text-anchor=\"middle\" x=\"392.5\" y=\"-14.3\" font-family=\"Helvetica,sans-Serif\" font-size=\"14.00\">(...)</text>\r\n",
       "</g>\r\n",
       "<!-- 6&#45;&gt;8 -->\r\n",
       "<g id=\"edge7\" class=\"edge\"><title>6&#45;&gt;8</title>\r\n",
       "<path fill=\"none\" stroke=\"black\" d=\"M370.316,-71.9961C373.964,-63.2804 377.855,-53.9846 381.344,-45.6514\"/>\r\n",
       "<polygon fill=\"black\" stroke=\"black\" points=\"384.582,-46.9793 385.215,-36.4034 378.125,-44.2763 384.582,-46.9793\"/>\r\n",
       "</g>\r\n",
       "<!-- 3 -->\r\n",
       "<g id=\"node10\" class=\"node\"><title>3</title>\r\n",
       "<path fill=\"#39e5e2\" fill-opacity=\"0.109804\" stroke=\"black\" d=\"M701.5,-132.5C701.5,-132.5 525.5,-132.5 525.5,-132.5 519.5,-132.5 513.5,-126.5 513.5,-120.5 513.5,-120.5 513.5,-91.5 513.5,-91.5 513.5,-85.5 519.5,-79.5 525.5,-79.5 525.5,-79.5 701.5,-79.5 701.5,-79.5 707.5,-79.5 713.5,-85.5 713.5,-91.5 713.5,-91.5 713.5,-120.5 713.5,-120.5 713.5,-126.5 707.5,-132.5 701.5,-132.5\"/>\r\n",
       "<text text-anchor=\"middle\" x=\"613.5\" y=\"-117.3\" font-family=\"Helvetica,sans-Serif\" font-size=\"14.00\">entropy = 2.045</text>\r\n",
       "<text text-anchor=\"middle\" x=\"613.5\" y=\"-102.3\" font-family=\"Helvetica,sans-Serif\" font-size=\"14.00\">samples = 89</text>\r\n",
       "<text text-anchor=\"middle\" x=\"613.5\" y=\"-87.3\" font-family=\"Helvetica,sans-Serif\" font-size=\"14.00\">value = [2, 21, 25, 32, 8, 1, 0]</text>\r\n",
       "</g>\r\n",
       "<!-- 2&#45;&gt;3 -->\r\n",
       "<g id=\"edge9\" class=\"edge\"><title>2&#45;&gt;3</title>\r\n",
       "<path fill=\"none\" stroke=\"black\" d=\"M619.578,-175.884C618.637,-165.216 617.59,-153.352 616.634,-142.519\"/>\r\n",
       "<polygon fill=\"black\" stroke=\"black\" points=\"620.117,-142.174 615.752,-132.52 613.144,-142.789 620.117,-142.174\"/>\r\n",
       "</g>\r\n",
       "<!-- 4 -->\r\n",
       "<g id=\"node11\" class=\"node\"><title>4</title>\r\n",
       "<path fill=\"#39e5e2\" fill-opacity=\"0.188235\" stroke=\"black\" d=\"M969.5,-140C969.5,-140 743.5,-140 743.5,-140 737.5,-140 731.5,-134 731.5,-128 731.5,-128 731.5,-84 731.5,-84 731.5,-78 737.5,-72 743.5,-72 743.5,-72 969.5,-72 969.5,-72 975.5,-72 981.5,-78 981.5,-84 981.5,-84 981.5,-128 981.5,-128 981.5,-134 975.5,-140 969.5,-140\"/>\r\n",
       "<text text-anchor=\"middle\" x=\"856.5\" y=\"-124.8\" font-family=\"Helvetica,sans-Serif\" font-size=\"14.00\">alcohol &lt;= 12.083</text>\r\n",
       "<text text-anchor=\"middle\" x=\"856.5\" y=\"-109.8\" font-family=\"Helvetica,sans-Serif\" font-size=\"14.00\">entropy = 1.725</text>\r\n",
       "<text text-anchor=\"middle\" x=\"856.5\" y=\"-94.8\" font-family=\"Helvetica,sans-Serif\" font-size=\"14.00\">samples = 1381</text>\r\n",
       "<text text-anchor=\"middle\" x=\"856.5\" y=\"-79.8\" font-family=\"Helvetica,sans-Serif\" font-size=\"14.00\">value = [3, 10, 119, 653, 484, 109, 3]</text>\r\n",
       "</g>\r\n",
       "<!-- 2&#45;&gt;4 -->\r\n",
       "<g id=\"edge10\" class=\"edge\"><title>2&#45;&gt;4</title>\r\n",
       "<path fill=\"none\" stroke=\"black\" d=\"M698.473,-175.884C721.682,-165.767 747.357,-154.575 771.145,-144.206\"/>\r\n",
       "<polygon fill=\"black\" stroke=\"black\" points=\"772.74,-147.329 780.508,-140.125 769.942,-140.912 772.74,-147.329\"/>\r\n",
       "</g>\r\n",
       "<!-- 9 -->\r\n",
       "<g id=\"node12\" class=\"node\"><title>9</title>\r\n",
       "<path fill=\"#c0c0c0\" stroke=\"black\" d=\"M835.5,-36C835.5,-36 805.5,-36 805.5,-36 799.5,-36 793.5,-30 793.5,-24 793.5,-24 793.5,-12 793.5,-12 793.5,-6 799.5,-0 805.5,-0 805.5,-0 835.5,-0 835.5,-0 841.5,-0 847.5,-6 847.5,-12 847.5,-12 847.5,-24 847.5,-24 847.5,-30 841.5,-36 835.5,-36\"/>\r\n",
       "<text text-anchor=\"middle\" x=\"820.5\" y=\"-14.3\" font-family=\"Helvetica,sans-Serif\" font-size=\"14.00\">(...)</text>\r\n",
       "</g>\r\n",
       "<!-- 4&#45;&gt;9 -->\r\n",
       "<g id=\"edge11\" class=\"edge\"><title>4&#45;&gt;9</title>\r\n",
       "<path fill=\"none\" stroke=\"black\" d=\"M842.684,-71.9961C839.036,-63.2804 835.145,-53.9846 831.656,-45.6514\"/>\r\n",
       "<polygon fill=\"black\" stroke=\"black\" points=\"834.875,-44.2763 827.785,-36.4034 828.418,-46.9793 834.875,-44.2763\"/>\r\n",
       "</g>\r\n",
       "<!-- 10 -->\r\n",
       "<g id=\"node13\" class=\"node\"><title>10</title>\r\n",
       "<path fill=\"#c0c0c0\" stroke=\"black\" d=\"M907.5,-36C907.5,-36 877.5,-36 877.5,-36 871.5,-36 865.5,-30 865.5,-24 865.5,-24 865.5,-12 865.5,-12 865.5,-6 871.5,-0 877.5,-0 877.5,-0 907.5,-0 907.5,-0 913.5,-0 919.5,-6 919.5,-12 919.5,-12 919.5,-24 919.5,-24 919.5,-30 913.5,-36 907.5,-36\"/>\r\n",
       "<text text-anchor=\"middle\" x=\"892.5\" y=\"-14.3\" font-family=\"Helvetica,sans-Serif\" font-size=\"14.00\">(...)</text>\r\n",
       "</g>\r\n",
       "<!-- 4&#45;&gt;10 -->\r\n",
       "<g id=\"edge12\" class=\"edge\"><title>4&#45;&gt;10</title>\r\n",
       "<path fill=\"none\" stroke=\"black\" d=\"M870.316,-71.9961C873.964,-63.2804 877.855,-53.9846 881.344,-45.6514\"/>\r\n",
       "<polygon fill=\"black\" stroke=\"black\" points=\"884.582,-46.9793 885.215,-36.4034 878.125,-44.2763 884.582,-46.9793\"/>\r\n",
       "</g>\r\n",
       "</g>\r\n",
       "</svg>\r\n"
      ],
      "text/plain": [
       "<graphviz.files.Source at 0xc48c9b0>"
      ]
     },
     "execution_count": 130,
     "metadata": {},
     "output_type": "execute_result"
    }
   ],
   "source": [
    "dot_data = tree.export_graphviz(clf, out_file=None, max_depth=2, feature_names=list(X.columns.values), filled=True, rounded=True)\n",
    "graphviz.Source(dot_data)"
   ]
  },
  {
   "cell_type": "code",
   "execution_count": 131,
   "metadata": {},
   "outputs": [
    {
     "name": "stdout",
     "output_type": "stream",
     "text": [
      "0.5252679938744257\n",
      "0.5163265306122449\n"
     ]
    }
   ],
   "source": [
    "print(clf.score(train_X, train_y))\n",
    "print(clf.score(test_X, test_y))"
   ]
  },
  {
   "cell_type": "code",
   "execution_count": null,
   "metadata": {},
   "outputs": [],
   "source": []
  },
  {
   "cell_type": "markdown",
   "metadata": {},
   "source": [
    "# 실습2. 전체 와인셋(red+ white)에 대해 quality 예측"
   ]
  },
  {
   "cell_type": "code",
   "execution_count": 134,
   "metadata": {},
   "outputs": [],
   "source": [
    "new_red = wine_red.copy()\n",
    "new_white = wine_white.copy()"
   ]
  },
  {
   "cell_type": "code",
   "execution_count": 135,
   "metadata": {},
   "outputs": [
    {
     "data": {
      "text/html": [
       "<div>\n",
       "<style scoped>\n",
       "    .dataframe tbody tr th:only-of-type {\n",
       "        vertical-align: middle;\n",
       "    }\n",
       "\n",
       "    .dataframe tbody tr th {\n",
       "        vertical-align: top;\n",
       "    }\n",
       "\n",
       "    .dataframe thead th {\n",
       "        text-align: right;\n",
       "    }\n",
       "</style>\n",
       "<table border=\"1\" class=\"dataframe\">\n",
       "  <thead>\n",
       "    <tr style=\"text-align: right;\">\n",
       "      <th></th>\n",
       "      <th>fixed acidity</th>\n",
       "      <th>volatile acidity</th>\n",
       "      <th>citric acid</th>\n",
       "      <th>residual sugar</th>\n",
       "      <th>chlorides</th>\n",
       "      <th>free sulfur dioxide</th>\n",
       "      <th>total sulfur dioxide</th>\n",
       "      <th>density</th>\n",
       "      <th>pH</th>\n",
       "      <th>sulphates</th>\n",
       "      <th>alcohol</th>\n",
       "      <th>quality</th>\n",
       "    </tr>\n",
       "  </thead>\n",
       "  <tbody>\n",
       "    <tr>\n",
       "      <th>6492</th>\n",
       "      <td>6.2</td>\n",
       "      <td>0.21</td>\n",
       "      <td>0.29</td>\n",
       "      <td>1.6</td>\n",
       "      <td>0.039</td>\n",
       "      <td>24.0</td>\n",
       "      <td>92.0</td>\n",
       "      <td>0.99114</td>\n",
       "      <td>3.27</td>\n",
       "      <td>0.50</td>\n",
       "      <td>11.2</td>\n",
       "      <td>6</td>\n",
       "    </tr>\n",
       "    <tr>\n",
       "      <th>6493</th>\n",
       "      <td>6.6</td>\n",
       "      <td>0.32</td>\n",
       "      <td>0.36</td>\n",
       "      <td>8.0</td>\n",
       "      <td>0.047</td>\n",
       "      <td>57.0</td>\n",
       "      <td>168.0</td>\n",
       "      <td>0.99490</td>\n",
       "      <td>3.15</td>\n",
       "      <td>0.46</td>\n",
       "      <td>9.6</td>\n",
       "      <td>5</td>\n",
       "    </tr>\n",
       "    <tr>\n",
       "      <th>6494</th>\n",
       "      <td>6.5</td>\n",
       "      <td>0.24</td>\n",
       "      <td>0.19</td>\n",
       "      <td>1.2</td>\n",
       "      <td>0.041</td>\n",
       "      <td>30.0</td>\n",
       "      <td>111.0</td>\n",
       "      <td>0.99254</td>\n",
       "      <td>2.99</td>\n",
       "      <td>0.46</td>\n",
       "      <td>9.4</td>\n",
       "      <td>6</td>\n",
       "    </tr>\n",
       "    <tr>\n",
       "      <th>6495</th>\n",
       "      <td>5.5</td>\n",
       "      <td>0.29</td>\n",
       "      <td>0.30</td>\n",
       "      <td>1.1</td>\n",
       "      <td>0.022</td>\n",
       "      <td>20.0</td>\n",
       "      <td>110.0</td>\n",
       "      <td>0.98869</td>\n",
       "      <td>3.34</td>\n",
       "      <td>0.38</td>\n",
       "      <td>12.8</td>\n",
       "      <td>7</td>\n",
       "    </tr>\n",
       "    <tr>\n",
       "      <th>6496</th>\n",
       "      <td>6.0</td>\n",
       "      <td>0.21</td>\n",
       "      <td>0.38</td>\n",
       "      <td>0.8</td>\n",
       "      <td>0.020</td>\n",
       "      <td>22.0</td>\n",
       "      <td>98.0</td>\n",
       "      <td>0.98941</td>\n",
       "      <td>3.26</td>\n",
       "      <td>0.32</td>\n",
       "      <td>11.8</td>\n",
       "      <td>6</td>\n",
       "    </tr>\n",
       "  </tbody>\n",
       "</table>\n",
       "</div>"
      ],
      "text/plain": [
       "      fixed acidity  volatile acidity  citric acid  residual sugar  chlorides  \\\n",
       "6492            6.2              0.21         0.29             1.6      0.039   \n",
       "6493            6.6              0.32         0.36             8.0      0.047   \n",
       "6494            6.5              0.24         0.19             1.2      0.041   \n",
       "6495            5.5              0.29         0.30             1.1      0.022   \n",
       "6496            6.0              0.21         0.38             0.8      0.020   \n",
       "\n",
       "      free sulfur dioxide  total sulfur dioxide  density    pH  sulphates  \\\n",
       "6492                 24.0                  92.0  0.99114  3.27       0.50   \n",
       "6493                 57.0                 168.0  0.99490  3.15       0.46   \n",
       "6494                 30.0                 111.0  0.99254  2.99       0.46   \n",
       "6495                 20.0                 110.0  0.98869  3.34       0.38   \n",
       "6496                 22.0                  98.0  0.98941  3.26       0.32   \n",
       "\n",
       "      alcohol  quality  \n",
       "6492     11.2        6  \n",
       "6493      9.6        5  \n",
       "6494      9.4        6  \n",
       "6495     12.8        7  \n",
       "6496     11.8        6  "
      ]
     },
     "execution_count": 135,
     "metadata": {},
     "output_type": "execute_result"
    }
   ],
   "source": [
    "new_total = new_red.append(new_white, ignore_index=True)\n",
    "new_total.tail()"
   ]
  },
  {
   "cell_type": "code",
   "execution_count": 136,
   "metadata": {},
   "outputs": [],
   "source": [
    "X = new_total.drop('quality', axis=1)\n",
    "y = new_total['quality']"
   ]
  },
  {
   "cell_type": "code",
   "execution_count": 137,
   "metadata": {},
   "outputs": [],
   "source": [
    "from sklearn.model_selection import train_test_split\n",
    "train_X, test_X, train_y, test_y = train_test_split(X, y, stratify=y, random_state=1994, test_size=0.2)"
   ]
  },
  {
   "cell_type": "code",
   "execution_count": 138,
   "metadata": {},
   "outputs": [
    {
     "data": {
      "text/plain": [
       "DecisionTreeClassifier(class_weight=None, criterion='entropy', max_depth=5,\n",
       "            max_features=5, max_leaf_nodes=10, min_impurity_decrease=0.0,\n",
       "            min_impurity_split=None, min_samples_leaf=1,\n",
       "            min_samples_split=2, min_weight_fraction_leaf=0.0,\n",
       "            presort=False, random_state=1994, splitter='best')"
      ]
     },
     "execution_count": 138,
     "metadata": {},
     "output_type": "execute_result"
    }
   ],
   "source": [
    "from sklearn import tree\n",
    "clf = tree.DecisionTreeClassifier(\n",
    "    'entropy',\n",
    "    random_state=1994,\n",
    "    max_depth = i,\n",
    "    max_features = 5,\n",
    "    max_leaf_nodes = 10\n",
    ")\n",
    "clf.fit(train_X, train_y)"
   ]
  },
  {
   "cell_type": "code",
   "execution_count": 139,
   "metadata": {},
   "outputs": [
    {
     "name": "stdout",
     "output_type": "stream",
     "text": [
      "0.5301135270348278\n",
      "0.51\n"
     ]
    }
   ],
   "source": [
    "print(clf.score(train_X, train_y))\n",
    "print(clf.score(test_X, test_y))"
   ]
  },
  {
   "cell_type": "markdown",
   "metadata": {},
   "source": [
    "# 실습3. 전체 와인셋(red+ white)에 대해 depth가(2부터 20까지 중에 최적 depth 찾기)"
   ]
  },
  {
   "cell_type": "code",
   "execution_count": 144,
   "metadata": {},
   "outputs": [
    {
     "name": "stdout",
     "output_type": "stream",
     "text": [
      "현재 depth는 2 입니다.\n",
      "0.5235712911294977\n",
      "0.5161538461538462\n",
      "----------\n",
      "현재 depth는 3 입니다.\n",
      "0.5343467385029825\n",
      "0.5161538461538462\n",
      "----------\n",
      "현재 depth는 4 입니다.\n",
      "0.549162978641524\n",
      "0.5353846153846153\n",
      "----------\n",
      "현재 depth는 5 입니다.\n",
      "0.5660958245141428\n",
      "0.53\n",
      "----------\n",
      "현재 depth는 6 입니다.\n",
      "0.5837983451991534\n",
      "0.5438461538461539\n",
      "----------\n",
      "현재 depth는 7 입니다.\n",
      "0.6153550125072157\n",
      "0.5438461538461539\n",
      "----------\n"
     ]
    }
   ],
   "source": [
    "from sklearn import tree\n",
    "\n",
    "for i in range(2, 21):\n",
    "    clf = tree.DecisionTreeClassifier(\n",
    "        'entropy',\n",
    "        random_state=1994,\n",
    "        max_depth = i,\n",
    "    )\n",
    "    clf.fit(train_X, train_y)\n",
    "#     print('현재 depth는 {} 입니다.'.format(i))\n",
    "#     print(clf.score(train_X, train_y))\n",
    "#     print(clf.score(test_X, test_y))\n",
    "#     print('-'*10)\n",
    "    \n",
    "    if (clf.score(train_X, train_y) - clf.score(test_X, test_y)) < 0.1:\n",
    "        print('현재 depth는 {} 입니다.'.format(i))\n",
    "        print(clf.score(train_X, train_y))\n",
    "        print(clf.score(test_X, test_y))\n",
    "        print('-'*10)"
   ]
  },
  {
   "cell_type": "code",
   "execution_count": null,
   "metadata": {},
   "outputs": [],
   "source": [
    "\"\"\"\n",
    "문제는 feature 수가 많아질수록 decision tree는 취약해진다는 단점이 존재한다.\n",
    "\n",
    "이를 해결하기 위한 방법이 여러가지가 잇는데\n",
    "그 중 하나가 Ensemble이다.\n",
    "약한 학습기(약한 모델들)을 합쳐서 강력한 모델을 만든다는 것이다. \n",
    "\n",
    "대표적인 방법은 두가지\n",
    "bagging \n",
    "- 원본과 유사한 새로운 데이터 집단을 학습시켜서 합친다. 복원추출\n",
    "원 데이터에서 중복을 허용하면서 무작위로 n개를 뽑아 샘플을 만들고, 이를 학습시킨다. \n",
    "random forest는 bagging의 가장 대표적인 방법\n",
    "\n",
    "\n",
    "boosting\n",
    "\n",
    "\"\"\""
   ]
  }
 ],
 "metadata": {
  "kernelspec": {
   "display_name": "Python 3",
   "language": "python",
   "name": "python3"
  },
  "language_info": {
   "codemirror_mode": {
    "name": "ipython",
    "version": 3
   },
   "file_extension": ".py",
   "mimetype": "text/x-python",
   "name": "python",
   "nbconvert_exporter": "python",
   "pygments_lexer": "ipython3",
   "version": "3.7.3"
  }
 },
 "nbformat": 4,
 "nbformat_minor": 2
}
