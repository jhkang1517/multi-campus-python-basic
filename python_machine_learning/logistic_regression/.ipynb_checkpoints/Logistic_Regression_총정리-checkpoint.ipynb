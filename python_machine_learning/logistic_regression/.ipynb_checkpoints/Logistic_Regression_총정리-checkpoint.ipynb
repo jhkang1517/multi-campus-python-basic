{
 "cells": [
  {
   "cell_type": "markdown",
   "metadata": {},
   "source": [
    "# Logistic Regression"
   ]
  },
  {
   "cell_type": "code",
   "execution_count": 1,
   "metadata": {},
   "outputs": [],
   "source": [
    "import os\n",
    "import pandas as pd\n",
    "import numpy as np\n",
    "from matplotlib import pyplot as plt"
   ]
  },
  {
   "cell_type": "code",
   "execution_count": 2,
   "metadata": {},
   "outputs": [],
   "source": [
    "DATASET_DIR = os.path.join(os.path.dirname(os.getcwd()), 'datasets')"
   ]
  },
  {
   "cell_type": "code",
   "execution_count": 3,
   "metadata": {},
   "outputs": [],
   "source": [
    "red_file = os.path.join(DATASET_DIR, 'winequality-red.csv')\n",
    "white_file = os.path.join(DATASET_DIR, 'winequality-white.csv')"
   ]
  },
  {
   "cell_type": "code",
   "execution_count": 4,
   "metadata": {},
   "outputs": [],
   "source": [
    "# column 하나에 모든 데이터들이 들어있기 때문에, sep를 사용해서 ;를 기준으로 분류한다. \n",
    "wine_red = pd.read_csv(red_file, sep=';')\n",
    "wine_white = pd.read_csv(white_file, sep=';')"
   ]
  },
  {
   "cell_type": "markdown",
   "metadata": {},
   "source": [
    "# Binary Case(red인지 white인지 구분)"
   ]
  },
  {
   "cell_type": "code",
   "execution_count": 5,
   "metadata": {},
   "outputs": [],
   "source": [
    "new_red = wine_red.copy()\n",
    "new_white = wine_white.copy()\n",
    "\n",
    "new_red['class'] = 'red'\n",
    "new_white['class'] = 'white'\n",
    "# 구분하기 위한 Class 생성"
   ]
  },
  {
   "cell_type": "code",
   "execution_count": 6,
   "metadata": {},
   "outputs": [],
   "source": [
    "wine= new_red.append(new_white, ignore_index = True)\n",
    "# redwine과 whitewine을 결합"
   ]
  },
  {
   "cell_type": "code",
   "execution_count": 7,
   "metadata": {},
   "outputs": [
    {
     "data": {
      "text/html": [
       "<div>\n",
       "<style scoped>\n",
       "    .dataframe tbody tr th:only-of-type {\n",
       "        vertical-align: middle;\n",
       "    }\n",
       "\n",
       "    .dataframe tbody tr th {\n",
       "        vertical-align: top;\n",
       "    }\n",
       "\n",
       "    .dataframe thead th {\n",
       "        text-align: right;\n",
       "    }\n",
       "</style>\n",
       "<table border=\"1\" class=\"dataframe\">\n",
       "  <thead>\n",
       "    <tr style=\"text-align: right;\">\n",
       "      <th></th>\n",
       "      <th>fixed acidity</th>\n",
       "      <th>volatile acidity</th>\n",
       "      <th>citric acid</th>\n",
       "      <th>residual sugar</th>\n",
       "      <th>chlorides</th>\n",
       "      <th>free sulfur dioxide</th>\n",
       "      <th>total sulfur dioxide</th>\n",
       "      <th>density</th>\n",
       "      <th>pH</th>\n",
       "      <th>sulphates</th>\n",
       "      <th>alcohol</th>\n",
       "      <th>quality</th>\n",
       "      <th>class</th>\n",
       "    </tr>\n",
       "  </thead>\n",
       "  <tbody>\n",
       "    <tr>\n",
       "      <th>0</th>\n",
       "      <td>7.4</td>\n",
       "      <td>0.70</td>\n",
       "      <td>0.00</td>\n",
       "      <td>1.9</td>\n",
       "      <td>0.076</td>\n",
       "      <td>11.0</td>\n",
       "      <td>34.0</td>\n",
       "      <td>0.9978</td>\n",
       "      <td>3.51</td>\n",
       "      <td>0.56</td>\n",
       "      <td>9.4</td>\n",
       "      <td>5</td>\n",
       "      <td>red</td>\n",
       "    </tr>\n",
       "    <tr>\n",
       "      <th>1</th>\n",
       "      <td>7.8</td>\n",
       "      <td>0.88</td>\n",
       "      <td>0.00</td>\n",
       "      <td>2.6</td>\n",
       "      <td>0.098</td>\n",
       "      <td>25.0</td>\n",
       "      <td>67.0</td>\n",
       "      <td>0.9968</td>\n",
       "      <td>3.20</td>\n",
       "      <td>0.68</td>\n",
       "      <td>9.8</td>\n",
       "      <td>5</td>\n",
       "      <td>red</td>\n",
       "    </tr>\n",
       "    <tr>\n",
       "      <th>2</th>\n",
       "      <td>7.8</td>\n",
       "      <td>0.76</td>\n",
       "      <td>0.04</td>\n",
       "      <td>2.3</td>\n",
       "      <td>0.092</td>\n",
       "      <td>15.0</td>\n",
       "      <td>54.0</td>\n",
       "      <td>0.9970</td>\n",
       "      <td>3.26</td>\n",
       "      <td>0.65</td>\n",
       "      <td>9.8</td>\n",
       "      <td>5</td>\n",
       "      <td>red</td>\n",
       "    </tr>\n",
       "    <tr>\n",
       "      <th>3</th>\n",
       "      <td>11.2</td>\n",
       "      <td>0.28</td>\n",
       "      <td>0.56</td>\n",
       "      <td>1.9</td>\n",
       "      <td>0.075</td>\n",
       "      <td>17.0</td>\n",
       "      <td>60.0</td>\n",
       "      <td>0.9980</td>\n",
       "      <td>3.16</td>\n",
       "      <td>0.58</td>\n",
       "      <td>9.8</td>\n",
       "      <td>6</td>\n",
       "      <td>red</td>\n",
       "    </tr>\n",
       "    <tr>\n",
       "      <th>4</th>\n",
       "      <td>7.4</td>\n",
       "      <td>0.70</td>\n",
       "      <td>0.00</td>\n",
       "      <td>1.9</td>\n",
       "      <td>0.076</td>\n",
       "      <td>11.0</td>\n",
       "      <td>34.0</td>\n",
       "      <td>0.9978</td>\n",
       "      <td>3.51</td>\n",
       "      <td>0.56</td>\n",
       "      <td>9.4</td>\n",
       "      <td>5</td>\n",
       "      <td>red</td>\n",
       "    </tr>\n",
       "  </tbody>\n",
       "</table>\n",
       "</div>"
      ],
      "text/plain": [
       "   fixed acidity  volatile acidity  citric acid  residual sugar  chlorides  \\\n",
       "0            7.4              0.70         0.00             1.9      0.076   \n",
       "1            7.8              0.88         0.00             2.6      0.098   \n",
       "2            7.8              0.76         0.04             2.3      0.092   \n",
       "3           11.2              0.28         0.56             1.9      0.075   \n",
       "4            7.4              0.70         0.00             1.9      0.076   \n",
       "\n",
       "   free sulfur dioxide  total sulfur dioxide  density    pH  sulphates  \\\n",
       "0                 11.0                  34.0   0.9978  3.51       0.56   \n",
       "1                 25.0                  67.0   0.9968  3.20       0.68   \n",
       "2                 15.0                  54.0   0.9970  3.26       0.65   \n",
       "3                 17.0                  60.0   0.9980  3.16       0.58   \n",
       "4                 11.0                  34.0   0.9978  3.51       0.56   \n",
       "\n",
       "   alcohol  quality class  \n",
       "0      9.4        5   red  \n",
       "1      9.8        5   red  \n",
       "2      9.8        5   red  \n",
       "3      9.8        6   red  \n",
       "4      9.4        5   red  "
      ]
     },
     "execution_count": 7,
     "metadata": {},
     "output_type": "execute_result"
    }
   ],
   "source": [
    "wine.head()"
   ]
  },
  {
   "cell_type": "markdown",
   "metadata": {},
   "source": [
    "### 1. Feature_n: 2(volatile acidity, sulphates), Binary"
   ]
  },
  {
   "cell_type": "code",
   "execution_count": 8,
   "metadata": {},
   "outputs": [],
   "source": [
    "X = wine[['volatile acidity', 'sulphates']]\n",
    "y = wine['class']"
   ]
  },
  {
   "cell_type": "markdown",
   "metadata": {},
   "source": [
    "### split train&test"
   ]
  },
  {
   "cell_type": "code",
   "execution_count": 9,
   "metadata": {},
   "outputs": [],
   "source": [
    "from sklearn.model_selection import train_test_split"
   ]
  },
  {
   "cell_type": "code",
   "execution_count": 10,
   "metadata": {},
   "outputs": [],
   "source": [
    "train_X, test_X, train_y, test_y = train_test_split(X, y, stratify=wine['class'], random_state=1992)\n",
    "# red 와 white의 개수가 다르기 때문에, 'class'를 기준으로 층화추출법 사용"
   ]
  },
  {
   "cell_type": "code",
   "execution_count": 11,
   "metadata": {},
   "outputs": [
    {
     "data": {
      "image/png": "[encoded data removed]",
      "text/plain": [
       "<Figure size 1080x1080 with 1 Axes>"
      ]
     },
     "metadata": {
      "needs_background": "light"
     },
     "output_type": "display_data"
    }
   ],
   "source": [
    "red_index = train_y[train_y=='red'].index\n",
    "white_index = train_y[train_y=='white'].index\n",
    "plt.figure(figsize=(15,15)) # 크기 설정\n",
    "plt.scatter(\n",
    "    x=train_X.loc[white_index, 'volatile acidity'],\n",
    "    y=train_X.loc[white_index, 'sulphates'],\n",
    "    color='grey',\n",
    "    alpha=0.3 # alpha로 투명도 설정\n",
    ")\n",
    "\n",
    "plt.scatter(\n",
    "    x=train_X.loc[red_index, 'volatile acidity'],\n",
    "    y=train_X.loc[red_index, 'sulphates'],\n",
    "    color='red',\n",
    "    alpha=0.3 # alpha로 투명도 설정\n",
    ")\n",
    "\n",
    "plt.show()"
   ]
  },
  {
   "cell_type": "code",
   "execution_count": 21,
   "metadata": {},
   "outputs": [
    {
     "name": "stderr",
     "output_type": "stream",
     "text": [
      "C:\\ProgramData\\Anaconda3\\lib\\site-packages\\sklearn\\linear_model\\logistic.py:433: FutureWarning: Default solver will be changed to 'lbfgs' in 0.22. Specify a solver to silence this warning.\n",
      "  FutureWarning)\n"
     ]
    },
    {
     "data": {
      "text/plain": [
       "LogisticRegression(C=3.0, class_weight=None, dual=False, fit_intercept=True,\n",
       "          intercept_scaling=1, max_iter=100, multi_class='warn',\n",
       "          n_jobs=None, penalty='l2', random_state=None, solver='warn',\n",
       "          tol=0.0001, verbose=0, warm_start=False)"
      ]
     },
     "execution_count": 21,
     "metadata": {},
     "output_type": "execute_result"
    }
   ],
   "source": [
    "from sklearn.linear_model import LogisticRegression\n",
    "\"\"\"\n",
    "LogisticRegression(penalty=’l2’, dual=False, tol=0.0001, C=1.0, fit_intercept=True, \n",
    "                    intercept_scaling=1, class_weight=None, random_state=None, solver=’warn’, \n",
    "                    max_iter=100, multi_class=’warn’, verbose=0, warm_start=False, n_jobs=None, l1_ratio=None)\n",
    "                    \n",
    "# penalty: str, ‘l1’, ‘l2’, or ‘none’, optional (default=’l2’)\n",
    "The ‘newton-cg’, ‘sag’ and ‘lbfgs’ solvers support only l2 penalties.\n",
    "If ‘none’ (not supported by the liblinear solver), no regularization is applied.\n",
    "\n",
    "# penalty = Regularization\n",
    "# l2: Ridge Regularization\n",
    "# l1: Lasso Regularization\n",
    "\"\"\"\n",
    "# penaly = 'l2'\n",
    "# dual    = False\n",
    "# C       = 1.0  --> lambda(Regularization 정도) (낮을수록 높은 규제)\n",
    "# solver  = 'liblinear' \n",
    "log_reg = LogisticRegression(C=3.0) # no penalty\n",
    "log_reg.fit(train_X, train_y)"
   ]
  },
  {
   "cell_type": "code",
   "execution_count": 22,
   "metadata": {},
   "outputs": [
    {
     "data": {
      "text/plain": [
       "0.9107142857142857"
      ]
     },
     "execution_count": 22,
     "metadata": {},
     "output_type": "execute_result"
    }
   ],
   "source": [
    "# Returns the mean accuracy on the given test data and labels.\n",
    "log_reg.score(train_X, train_y)"
   ]
  },
  {
   "cell_type": "code",
   "execution_count": 23,
   "metadata": {
    "scrolled": true
   },
   "outputs": [
    {
     "data": {
      "text/plain": [
       "0.92"
      ]
     },
     "execution_count": 23,
     "metadata": {},
     "output_type": "execute_result"
    }
   ],
   "source": [
    "# Returns the mean accuracy on the given test data and labels.\n",
    "log_reg.score(test_X, test_y)"
   ]
  },
  {
   "cell_type": "code",
   "execution_count": 41,
   "metadata": {},
   "outputs": [
    {
     "data": {
      "text/plain": [
       "Index(['volatile acidity', 'sulphates'], dtype='object')"
      ]
     },
     "execution_count": 41,
     "metadata": {},
     "output_type": "execute_result"
    }
   ],
   "source": [
    "train_X.columns"
   ]
  },
  {
   "cell_type": "code",
   "execution_count": 42,
   "metadata": {},
   "outputs": [
    {
     "data": {
      "text/plain": [
       "array([[-12.25249848, -10.42644867]])"
      ]
     },
     "execution_count": 42,
     "metadata": {},
     "output_type": "execute_result"
    }
   ],
   "source": [
    "log_reg.coef_\n",
    "# volatile acidity 와 sulphates 에 대한 각각의 weight 값\n",
    "\n",
    "# 왜 2차원으로 나오는거지?!?!?\n",
    "# 이유: 지금은 binominal이기 때문에 하나로도 충분하지만,\n",
    "# 후에 multinominal이 되면, 2차원이 되야만 계산이 가능해지기 때문이다."
   ]
  },
  {
   "cell_type": "code",
   "execution_count": 29,
   "metadata": {},
   "outputs": [
    {
     "data": {
      "text/plain": [
       "([('volatile acidity', array([-12.25249848])),\n",
       "  ('sulphates', array([-10.42644867]))],\n",
       " array([11.70071287]))"
      ]
     },
     "execution_count": 29,
     "metadata": {},
     "output_type": "execute_result"
    }
   ],
   "source": [
    "# Weight (Theta)\n",
    "list(zip(train_X.columns, log_reg.coef_.reshape(-1, 1))), log_reg.intercept_"
   ]
  },
  {
   "cell_type": "code",
   "execution_count": 30,
   "metadata": {
    "scrolled": true
   },
   "outputs": [
    {
     "data": {
      "text/plain": [
       "array([[-4.54018257, -0.01072881],\n",
       "       [-0.34407372, -1.23400827],\n",
       "       [-0.17419147, -1.83343194],\n",
       "       ...,\n",
       "       [-4.44232611, -0.01183833],\n",
       "       [-1.9154508 , -0.15931868],\n",
       "       [-2.23193617, -0.1135276 ]])"
      ]
     },
     "execution_count": 30,
     "metadata": {},
     "output_type": "execute_result"
    }
   ],
   "source": [
    "log_reg.predict_log_proba(test_X)\n",
    "# predict_log_proba: \n",
    "# predict_proba:"
   ]
  },
  {
   "cell_type": "code",
   "execution_count": 34,
   "metadata": {},
   "outputs": [
    {
     "data": {
      "text/plain": [
       "array(['red', 'white'], dtype=object)"
      ]
     },
     "execution_count": 34,
     "metadata": {},
     "output_type": "execute_result"
    }
   ],
   "source": [
    "log_reg.classes_"
   ]
  },
  {
   "cell_type": "code",
   "execution_count": 35,
   "metadata": {},
   "outputs": [
    {
     "data": {
      "text/plain": [
       "array([[0.01067146, 0.98932854],\n",
       "       [0.70887667, 0.29112333],\n",
       "       [0.84013602, 0.15986398],\n",
       "       ...,\n",
       "       [0.01176853, 0.98823147],\n",
       "       [0.14727543, 0.85272457],\n",
       "       [0.10732044, 0.89267956]])"
      ]
     },
     "execution_count": 35,
     "metadata": {},
     "output_type": "execute_result"
    }
   ],
   "source": [
    "log_reg.predict_proba(test_X)\n",
    "# 확률로써 나온다. 첫번째가 red일 확률, 두번째가 white일 확률.\n",
    "# 따라서 아래 결과값은 white, red, red, white, white, white로 분류될 것이다."
   ]
  },
  {
   "cell_type": "code",
   "execution_count": 33,
   "metadata": {},
   "outputs": [
    {
     "data": {
      "text/plain": [
       "array(['red', 'white'], dtype=object)"
      ]
     },
     "execution_count": 33,
     "metadata": {},
     "output_type": "execute_result"
    }
   ],
   "source": []
  },
  {
   "cell_type": "code",
   "execution_count": 37,
   "metadata": {
    "scrolled": false
   },
   "outputs": [
    {
     "data": {
      "image/png": "[encoded data removed]",
      "text/plain": [
       "<Figure size 720x720 with 1 Axes>"
      ]
     },
     "metadata": {
      "needs_background": "light"
     },
     "output_type": "display_data"
    }
   ],
   "source": [
    "red_index = test_y[test_y=='red'].index\n",
    "white_index = test_y[test_y=='white'].index\n",
    "plt.figure(figsize=(10,10)) # 사이즈를 맞춰주었다.\n",
    "\n",
    "plt.scatter(\n",
    "    x=test_X.loc[white_index, 'volatile acidity'],\n",
    "    y=test_X.loc[white_index, 'sulphates'],\n",
    "    color='grey', alpha=0.3\n",
    ")\n",
    "plt.scatter(x=test_X.loc[red_index, 'volatile acidity'],\n",
    "    y=test_X.loc[red_index, 'sulphates'],\n",
    "    color='red',  alpha=0.3\n",
    ")\n",
    "\n",
    "# getting corresponding y co-ordinates of the decision boundary\n",
    "\n",
    "# (test_X['volatile acidity'] * log_reg.coef_[0][0] + log_reg.intercept_)/log_reg.coef_[0][1]\n",
    "# -(x_vals * w_guess[0] + b_guess[0])/w_guess[1]\n",
    "# y_vals = -(x_vals * w_guess[0] + b_guess[0])/w_guess[1]\n",
    "\n",
    "\n",
    "# 0 = W2X2 + W1X1 + W0\n",
    "# 0을 기준으로 0보다 크면 True이고, 0보다 작으면 False으로 분류되기 때문이다.\n",
    "# X2 = - (W1X1 + W0) / W2\n",
    "wy = -(\n",
    "    test_X.iloc[:, 0] * log_reg.coef_[0,0] \\\n",
    "    + log_reg.intercept_)/(log_reg.coef_[0,1]\n",
    ")\n",
    "# \n",
    "\n",
    "plt.plot(test_X.iloc[:, 0], wy)\n",
    "plt.xlim(0, .9)\n",
    "plt.ylim(0.3, .9)\n",
    "plt.show()"
   ]
  },
  {
   "cell_type": "code",
   "execution_count": 40,
   "metadata": {},
   "outputs": [
    {
     "data": {
      "text/plain": [
       "array([[-12.25249848, -10.42644867]])"
      ]
     },
     "execution_count": 40,
     "metadata": {},
     "output_type": "execute_result"
    }
   ],
   "source": [
    "log_reg.coef_"
   ]
  },
  {
   "cell_type": "markdown",
   "metadata": {},
   "source": [
    "# Feature가 X1=total sulfur dioxide, X2=fixed acidity Y=white or red"
   ]
  },
  {
   "cell_type": "code",
   "execution_count": 43,
   "metadata": {},
   "outputs": [],
   "source": [
    "new_red = wine_red.copy()\n",
    "new_white = wine_white.copy()\n",
    "\n",
    "new_red['class'] = 'red'\n",
    "new_white['class'] = 'white'\n",
    "# 구분하기 위한 Class 생성"
   ]
  },
  {
   "cell_type": "code",
   "execution_count": 48,
   "metadata": {},
   "outputs": [],
   "source": [
    "wine= new_red.append(new_white, ignore_index=True)"
   ]
  },
  {
   "cell_type": "code",
   "execution_count": 49,
   "metadata": {},
   "outputs": [],
   "source": [
    "# 1. Feature_n: 2(total sulfur dioxide, fixed acidity), Binary¶"
   ]
  },
  {
   "cell_type": "code",
   "execution_count": 50,
   "metadata": {},
   "outputs": [],
   "source": [
    "X = wine[['total sulfur dioxide', 'fixed acidity']]\n",
    "y = wine['class']"
   ]
  },
  {
   "cell_type": "code",
   "execution_count": 51,
   "metadata": {},
   "outputs": [
    {
     "data": {
      "text/html": [
       "<div>\n",
       "<style scoped>\n",
       "    .dataframe tbody tr th:only-of-type {\n",
       "        vertical-align: middle;\n",
       "    }\n",
       "\n",
       "    .dataframe tbody tr th {\n",
       "        vertical-align: top;\n",
       "    }\n",
       "\n",
       "    .dataframe thead th {\n",
       "        text-align: right;\n",
       "    }\n",
       "</style>\n",
       "<table border=\"1\" class=\"dataframe\">\n",
       "  <thead>\n",
       "    <tr style=\"text-align: right;\">\n",
       "      <th></th>\n",
       "      <th>total sulfur dioxide</th>\n",
       "      <th>fixed acidity</th>\n",
       "    </tr>\n",
       "  </thead>\n",
       "  <tbody>\n",
       "    <tr>\n",
       "      <th>0</th>\n",
       "      <td>34.0</td>\n",
       "      <td>7.4</td>\n",
       "    </tr>\n",
       "    <tr>\n",
       "      <th>1</th>\n",
       "      <td>67.0</td>\n",
       "      <td>7.8</td>\n",
       "    </tr>\n",
       "    <tr>\n",
       "      <th>2</th>\n",
       "      <td>54.0</td>\n",
       "      <td>7.8</td>\n",
       "    </tr>\n",
       "    <tr>\n",
       "      <th>3</th>\n",
       "      <td>60.0</td>\n",
       "      <td>11.2</td>\n",
       "    </tr>\n",
       "    <tr>\n",
       "      <th>4</th>\n",
       "      <td>34.0</td>\n",
       "      <td>7.4</td>\n",
       "    </tr>\n",
       "    <tr>\n",
       "      <th>5</th>\n",
       "      <td>40.0</td>\n",
       "      <td>7.4</td>\n",
       "    </tr>\n",
       "    <tr>\n",
       "      <th>6</th>\n",
       "      <td>59.0</td>\n",
       "      <td>7.9</td>\n",
       "    </tr>\n",
       "    <tr>\n",
       "      <th>7</th>\n",
       "      <td>21.0</td>\n",
       "      <td>7.3</td>\n",
       "    </tr>\n",
       "    <tr>\n",
       "      <th>8</th>\n",
       "      <td>18.0</td>\n",
       "      <td>7.8</td>\n",
       "    </tr>\n",
       "    <tr>\n",
       "      <th>9</th>\n",
       "      <td>102.0</td>\n",
       "      <td>7.5</td>\n",
       "    </tr>\n",
       "    <tr>\n",
       "      <th>10</th>\n",
       "      <td>65.0</td>\n",
       "      <td>6.7</td>\n",
       "    </tr>\n",
       "    <tr>\n",
       "      <th>11</th>\n",
       "      <td>102.0</td>\n",
       "      <td>7.5</td>\n",
       "    </tr>\n",
       "    <tr>\n",
       "      <th>12</th>\n",
       "      <td>59.0</td>\n",
       "      <td>5.6</td>\n",
       "    </tr>\n",
       "    <tr>\n",
       "      <th>13</th>\n",
       "      <td>29.0</td>\n",
       "      <td>7.8</td>\n",
       "    </tr>\n",
       "    <tr>\n",
       "      <th>14</th>\n",
       "      <td>145.0</td>\n",
       "      <td>8.9</td>\n",
       "    </tr>\n",
       "    <tr>\n",
       "      <th>15</th>\n",
       "      <td>148.0</td>\n",
       "      <td>8.9</td>\n",
       "    </tr>\n",
       "    <tr>\n",
       "      <th>16</th>\n",
       "      <td>103.0</td>\n",
       "      <td>8.5</td>\n",
       "    </tr>\n",
       "    <tr>\n",
       "      <th>17</th>\n",
       "      <td>56.0</td>\n",
       "      <td>8.1</td>\n",
       "    </tr>\n",
       "    <tr>\n",
       "      <th>18</th>\n",
       "      <td>29.0</td>\n",
       "      <td>7.4</td>\n",
       "    </tr>\n",
       "    <tr>\n",
       "      <th>19</th>\n",
       "      <td>56.0</td>\n",
       "      <td>7.9</td>\n",
       "    </tr>\n",
       "    <tr>\n",
       "      <th>20</th>\n",
       "      <td>60.0</td>\n",
       "      <td>8.9</td>\n",
       "    </tr>\n",
       "    <tr>\n",
       "      <th>21</th>\n",
       "      <td>71.0</td>\n",
       "      <td>7.6</td>\n",
       "    </tr>\n",
       "    <tr>\n",
       "      <th>22</th>\n",
       "      <td>37.0</td>\n",
       "      <td>7.9</td>\n",
       "    </tr>\n",
       "    <tr>\n",
       "      <th>23</th>\n",
       "      <td>67.0</td>\n",
       "      <td>8.5</td>\n",
       "    </tr>\n",
       "    <tr>\n",
       "      <th>24</th>\n",
       "      <td>40.0</td>\n",
       "      <td>6.9</td>\n",
       "    </tr>\n",
       "    <tr>\n",
       "      <th>25</th>\n",
       "      <td>23.0</td>\n",
       "      <td>6.3</td>\n",
       "    </tr>\n",
       "    <tr>\n",
       "      <th>26</th>\n",
       "      <td>11.0</td>\n",
       "      <td>7.6</td>\n",
       "    </tr>\n",
       "    <tr>\n",
       "      <th>27</th>\n",
       "      <td>37.0</td>\n",
       "      <td>7.9</td>\n",
       "    </tr>\n",
       "    <tr>\n",
       "      <th>28</th>\n",
       "      <td>35.0</td>\n",
       "      <td>7.1</td>\n",
       "    </tr>\n",
       "    <tr>\n",
       "      <th>29</th>\n",
       "      <td>16.0</td>\n",
       "      <td>7.8</td>\n",
       "    </tr>\n",
       "    <tr>\n",
       "      <th>...</th>\n",
       "      <td>...</td>\n",
       "      <td>...</td>\n",
       "    </tr>\n",
       "    <tr>\n",
       "      <th>6467</th>\n",
       "      <td>124.0</td>\n",
       "      <td>5.8</td>\n",
       "    </tr>\n",
       "    <tr>\n",
       "      <th>6468</th>\n",
       "      <td>81.0</td>\n",
       "      <td>6.6</td>\n",
       "    </tr>\n",
       "    <tr>\n",
       "      <th>6469</th>\n",
       "      <td>132.0</td>\n",
       "      <td>6.1</td>\n",
       "    </tr>\n",
       "    <tr>\n",
       "      <th>6470</th>\n",
       "      <td>98.0</td>\n",
       "      <td>5.0</td>\n",
       "    </tr>\n",
       "    <tr>\n",
       "      <th>6471</th>\n",
       "      <td>179.0</td>\n",
       "      <td>6.0</td>\n",
       "    </tr>\n",
       "    <tr>\n",
       "      <th>6472</th>\n",
       "      <td>122.0</td>\n",
       "      <td>5.7</td>\n",
       "    </tr>\n",
       "    <tr>\n",
       "      <th>6473</th>\n",
       "      <td>125.0</td>\n",
       "      <td>5.6</td>\n",
       "    </tr>\n",
       "    <tr>\n",
       "      <th>6474</th>\n",
       "      <td>97.0</td>\n",
       "      <td>7.4</td>\n",
       "    </tr>\n",
       "    <tr>\n",
       "      <th>6475</th>\n",
       "      <td>117.0</td>\n",
       "      <td>6.2</td>\n",
       "    </tr>\n",
       "    <tr>\n",
       "      <th>6476</th>\n",
       "      <td>82.0</td>\n",
       "      <td>5.9</td>\n",
       "    </tr>\n",
       "    <tr>\n",
       "      <th>6477</th>\n",
       "      <td>81.0</td>\n",
       "      <td>6.2</td>\n",
       "    </tr>\n",
       "    <tr>\n",
       "      <th>6478</th>\n",
       "      <td>170.0</td>\n",
       "      <td>6.6</td>\n",
       "    </tr>\n",
       "    <tr>\n",
       "      <th>6479</th>\n",
       "      <td>170.0</td>\n",
       "      <td>6.6</td>\n",
       "    </tr>\n",
       "    <tr>\n",
       "      <th>6480</th>\n",
       "      <td>118.0</td>\n",
       "      <td>5.0</td>\n",
       "    </tr>\n",
       "    <tr>\n",
       "      <th>6481</th>\n",
       "      <td>156.0</td>\n",
       "      <td>5.5</td>\n",
       "    </tr>\n",
       "    <tr>\n",
       "      <th>6482</th>\n",
       "      <td>148.0</td>\n",
       "      <td>4.9</td>\n",
       "    </tr>\n",
       "    <tr>\n",
       "      <th>6483</th>\n",
       "      <td>174.0</td>\n",
       "      <td>6.5</td>\n",
       "    </tr>\n",
       "    <tr>\n",
       "      <th>6484</th>\n",
       "      <td>170.0</td>\n",
       "      <td>6.6</td>\n",
       "    </tr>\n",
       "    <tr>\n",
       "      <th>6485</th>\n",
       "      <td>121.0</td>\n",
       "      <td>6.2</td>\n",
       "    </tr>\n",
       "    <tr>\n",
       "      <th>6486</th>\n",
       "      <td>56.0</td>\n",
       "      <td>6.2</td>\n",
       "    </tr>\n",
       "    <tr>\n",
       "      <th>6487</th>\n",
       "      <td>127.0</td>\n",
       "      <td>6.8</td>\n",
       "    </tr>\n",
       "    <tr>\n",
       "      <th>6488</th>\n",
       "      <td>118.0</td>\n",
       "      <td>4.9</td>\n",
       "    </tr>\n",
       "    <tr>\n",
       "      <th>6489</th>\n",
       "      <td>100.0</td>\n",
       "      <td>6.1</td>\n",
       "    </tr>\n",
       "    <tr>\n",
       "      <th>6490</th>\n",
       "      <td>121.0</td>\n",
       "      <td>5.7</td>\n",
       "    </tr>\n",
       "    <tr>\n",
       "      <th>6491</th>\n",
       "      <td>112.0</td>\n",
       "      <td>6.5</td>\n",
       "    </tr>\n",
       "    <tr>\n",
       "      <th>6492</th>\n",
       "      <td>92.0</td>\n",
       "      <td>6.2</td>\n",
       "    </tr>\n",
       "    <tr>\n",
       "      <th>6493</th>\n",
       "      <td>168.0</td>\n",
       "      <td>6.6</td>\n",
       "    </tr>\n",
       "    <tr>\n",
       "      <th>6494</th>\n",
       "      <td>111.0</td>\n",
       "      <td>6.5</td>\n",
       "    </tr>\n",
       "    <tr>\n",
       "      <th>6495</th>\n",
       "      <td>110.0</td>\n",
       "      <td>5.5</td>\n",
       "    </tr>\n",
       "    <tr>\n",
       "      <th>6496</th>\n",
       "      <td>98.0</td>\n",
       "      <td>6.0</td>\n",
       "    </tr>\n",
       "  </tbody>\n",
       "</table>\n",
       "<p>6497 rows × 2 columns</p>\n",
       "</div>"
      ],
      "text/plain": [
       "      total sulfur dioxide  fixed acidity\n",
       "0                     34.0            7.4\n",
       "1                     67.0            7.8\n",
       "2                     54.0            7.8\n",
       "3                     60.0           11.2\n",
       "4                     34.0            7.4\n",
       "5                     40.0            7.4\n",
       "6                     59.0            7.9\n",
       "7                     21.0            7.3\n",
       "8                     18.0            7.8\n",
       "9                    102.0            7.5\n",
       "10                    65.0            6.7\n",
       "11                   102.0            7.5\n",
       "12                    59.0            5.6\n",
       "13                    29.0            7.8\n",
       "14                   145.0            8.9\n",
       "15                   148.0            8.9\n",
       "16                   103.0            8.5\n",
       "17                    56.0            8.1\n",
       "18                    29.0            7.4\n",
       "19                    56.0            7.9\n",
       "20                    60.0            8.9\n",
       "21                    71.0            7.6\n",
       "22                    37.0            7.9\n",
       "23                    67.0            8.5\n",
       "24                    40.0            6.9\n",
       "25                    23.0            6.3\n",
       "26                    11.0            7.6\n",
       "27                    37.0            7.9\n",
       "28                    35.0            7.1\n",
       "29                    16.0            7.8\n",
       "...                    ...            ...\n",
       "6467                 124.0            5.8\n",
       "6468                  81.0            6.6\n",
       "6469                 132.0            6.1\n",
       "6470                  98.0            5.0\n",
       "6471                 179.0            6.0\n",
       "6472                 122.0            5.7\n",
       "6473                 125.0            5.6\n",
       "6474                  97.0            7.4\n",
       "6475                 117.0            6.2\n",
       "6476                  82.0            5.9\n",
       "6477                  81.0            6.2\n",
       "6478                 170.0            6.6\n",
       "6479                 170.0            6.6\n",
       "6480                 118.0            5.0\n",
       "6481                 156.0            5.5\n",
       "6482                 148.0            4.9\n",
       "6483                 174.0            6.5\n",
       "6484                 170.0            6.6\n",
       "6485                 121.0            6.2\n",
       "6486                  56.0            6.2\n",
       "6487                 127.0            6.8\n",
       "6488                 118.0            4.9\n",
       "6489                 100.0            6.1\n",
       "6490                 121.0            5.7\n",
       "6491                 112.0            6.5\n",
       "6492                  92.0            6.2\n",
       "6493                 168.0            6.6\n",
       "6494                 111.0            6.5\n",
       "6495                 110.0            5.5\n",
       "6496                  98.0            6.0\n",
       "\n",
       "[6497 rows x 2 columns]"
      ]
     },
     "execution_count": 51,
     "metadata": {},
     "output_type": "execute_result"
    }
   ],
   "source": [
    "X"
   ]
  },
  {
   "cell_type": "code",
   "execution_count": 52,
   "metadata": {},
   "outputs": [],
   "source": [
    "train_X, test_X, train_y, test_y = train_test_split(X, y, stratify=wine['class'], random_state=1992)"
   ]
  },
  {
   "cell_type": "code",
   "execution_count": 53,
   "metadata": {
    "scrolled": true
   },
   "outputs": [
    {
     "data": {
      "image/png": "[encoded data removed]",
      "text/plain": [
       "<Figure size 1080x1080 with 1 Axes>"
      ]
     },
     "metadata": {
      "needs_background": "light"
     },
     "output_type": "display_data"
    }
   ],
   "source": [
    "red_index = train_y[train_y=='red'].index\n",
    "white_index = train_y[train_y=='white'].index\n",
    "plt.figure(figsize=(15,15))\n",
    "plt.scatter(x=train_X.loc[white_index, 'total sulfur dioxide'], y=train_X.loc[white_index, 'fixed acidity'], color='r', alpha=0.3)\n",
    "\n",
    "plt.scatter(x=train_X.loc[red_index, 'total sulfur dioxide'], y=train_X.loc[red_index, 'fixed acidity'], color='g',  alpha=0.3)\n",
    "\n",
    "plt.show()"
   ]
  },
  {
   "cell_type": "code",
   "execution_count": 54,
   "metadata": {},
   "outputs": [
    {
     "name": "stderr",
     "output_type": "stream",
     "text": [
      "C:\\ProgramData\\Anaconda3\\lib\\site-packages\\sklearn\\linear_model\\logistic.py:433: FutureWarning: Default solver will be changed to 'lbfgs' in 0.22. Specify a solver to silence this warning.\n",
      "  FutureWarning)\n"
     ]
    },
    {
     "data": {
      "text/plain": [
       "LogisticRegression(C=3.0, class_weight=None, dual=False, fit_intercept=True,\n",
       "          intercept_scaling=1, max_iter=100, multi_class='warn',\n",
       "          n_jobs=None, penalty='l2', random_state=None, solver='warn',\n",
       "          tol=0.0001, verbose=0, warm_start=False)"
      ]
     },
     "execution_count": 54,
     "metadata": {},
     "output_type": "execute_result"
    }
   ],
   "source": [
    "log_reg = LogisticRegression(C=3.0) # no penalty\n",
    "log_reg.fit(train_X, train_y)"
   ]
  },
  {
   "cell_type": "code",
   "execution_count": 58,
   "metadata": {},
   "outputs": [
    {
     "name": "stdout",
     "output_type": "stream",
     "text": [
      "0.937192118226601\n",
      "0.9347692307692308\n",
      "-0.002422887457370182\n"
     ]
    }
   ],
   "source": [
    "print(log_reg.score(train_X, train_y))\n",
    "print(log_reg.score(test_X, test_y))\n",
    "print((log_reg.score(test_X, test_y))-(log_reg.score(train_X, train_y)))"
   ]
  },
  {
   "cell_type": "code",
   "execution_count": 62,
   "metadata": {},
   "outputs": [
    {
     "data": {
      "text/plain": [
       "array([[ 0.06197636, -0.79373146]])"
      ]
     },
     "execution_count": 62,
     "metadata": {},
     "output_type": "execute_result"
    }
   ],
   "source": [
    "log_reg.coef_"
   ]
  },
  {
   "cell_type": "code",
   "execution_count": 63,
   "metadata": {},
   "outputs": [
    {
     "data": {
      "text/plain": [
       "array([[0.10513139, 0.89486861],\n",
       "       [0.97841004, 0.02158996],\n",
       "       [0.95964814, 0.04035186],\n",
       "       ...,\n",
       "       [0.26430416, 0.73569584],\n",
       "       [0.03645862, 0.96354138],\n",
       "       [0.05891068, 0.94108932]])"
      ]
     },
     "execution_count": 63,
     "metadata": {},
     "output_type": "execute_result"
    }
   ],
   "source": [
    "log_reg.predict_proba(test_X)"
   ]
  },
  {
   "cell_type": "code",
   "execution_count": 73,
   "metadata": {},
   "outputs": [
    {
     "data": {
      "image/png": "[encoded data removed]",
      "text/plain": [
       "<Figure size 720x720 with 1 Axes>"
      ]
     },
     "metadata": {
      "needs_background": "light"
     },
     "output_type": "display_data"
    }
   ],
   "source": [
    "red_index = test_y[test_y=='red'].index\n",
    "white_index = test_y[test_y=='white'].index\n",
    "plt.figure(figsize=(10,10)) # 사이즈를 맞춰주었다.\n",
    "\n",
    "plt.scatter(\n",
    "    x=test_X.loc[white_index, 'total sulfur dioxide'],\n",
    "    y=test_X.loc[white_index, 'fixed acidity'],\n",
    "    color='grey', alpha=0.3\n",
    ")\n",
    "plt.scatter(x=test_X.loc[red_index, 'total sulfur dioxide'],\n",
    "    y=test_X.loc[red_index, 'fixed acidity'],\n",
    "    color='red',  alpha=0.3\n",
    ")\n",
    "\n",
    "# 0 = W2X2 + W1X1 + W0\n",
    "# 0을 기준으로 0보다 크면 True이고, 0보다 작으면 False으로 분류되기 때문이다.\n",
    "# X2 = - (W1X1 + W0) / W2\n",
    "wy = -(test_X.iloc[:, 0] * log_reg.coef_[0,0]+ log_reg.intercept_)/(log_reg.coef_[0,1])\n",
    "\n",
    "\n",
    "plt.plot(test_X.iloc[:, 0], wy)\n",
    "plt.xlim(0, 350)\n",
    "plt.ylim(4, 16)\n",
    "plt.show()"
   ]
  },
  {
   "cell_type": "markdown",
   "metadata": {},
   "source": [
    "## 1. Feature_n: 모든Feature, Binary"
   ]
  },
  {
   "cell_type": "markdown",
   "metadata": {},
   "source": [
    "#### split train&test"
   ]
  },
  {
   "cell_type": "code",
   "execution_count": 38,
   "metadata": {},
   "outputs": [],
   "source": [
    "from sklearn.model_selection import train_test_split"
   ]
  },
  {
   "cell_type": "code",
   "execution_count": 75,
   "metadata": {},
   "outputs": [],
   "source": [
    "X = wine.drop('class', axis=1)\n",
    "y = wine['class']"
   ]
  },
  {
   "cell_type": "code",
   "execution_count": 79,
   "metadata": {},
   "outputs": [],
   "source": [
    "train_X, test_X, train_y, test_y = train_test_split(X, y, stratify=wine['class'], random_state=1992)"
   ]
  },
  {
   "cell_type": "code",
   "execution_count": 80,
   "metadata": {},
   "outputs": [
    {
     "data": {
      "text/html": [
       "<div>\n",
       "<style scoped>\n",
       "    .dataframe tbody tr th:only-of-type {\n",
       "        vertical-align: middle;\n",
       "    }\n",
       "\n",
       "    .dataframe tbody tr th {\n",
       "        vertical-align: top;\n",
       "    }\n",
       "\n",
       "    .dataframe thead th {\n",
       "        text-align: right;\n",
       "    }\n",
       "</style>\n",
       "<table border=\"1\" class=\"dataframe\">\n",
       "  <thead>\n",
       "    <tr style=\"text-align: right;\">\n",
       "      <th></th>\n",
       "      <th>fixed acidity</th>\n",
       "      <th>volatile acidity</th>\n",
       "      <th>citric acid</th>\n",
       "      <th>residual sugar</th>\n",
       "      <th>chlorides</th>\n",
       "      <th>free sulfur dioxide</th>\n",
       "      <th>total sulfur dioxide</th>\n",
       "      <th>density</th>\n",
       "      <th>pH</th>\n",
       "      <th>sulphates</th>\n",
       "      <th>alcohol</th>\n",
       "      <th>quality</th>\n",
       "    </tr>\n",
       "  </thead>\n",
       "  <tbody>\n",
       "    <tr>\n",
       "      <th>5718</th>\n",
       "      <td>6.5</td>\n",
       "      <td>0.40</td>\n",
       "      <td>0.31</td>\n",
       "      <td>3.5</td>\n",
       "      <td>0.046</td>\n",
       "      <td>22.0</td>\n",
       "      <td>147.0</td>\n",
       "      <td>0.99024</td>\n",
       "      <td>3.15</td>\n",
       "      <td>0.31</td>\n",
       "      <td>12.0</td>\n",
       "      <td>7</td>\n",
       "    </tr>\n",
       "    <tr>\n",
       "      <th>545</th>\n",
       "      <td>9.1</td>\n",
       "      <td>0.47</td>\n",
       "      <td>0.49</td>\n",
       "      <td>2.6</td>\n",
       "      <td>0.094</td>\n",
       "      <td>38.0</td>\n",
       "      <td>106.0</td>\n",
       "      <td>0.99820</td>\n",
       "      <td>3.08</td>\n",
       "      <td>0.59</td>\n",
       "      <td>9.1</td>\n",
       "      <td>5</td>\n",
       "    </tr>\n",
       "    <tr>\n",
       "      <th>5659</th>\n",
       "      <td>6.4</td>\n",
       "      <td>0.41</td>\n",
       "      <td>0.01</td>\n",
       "      <td>6.1</td>\n",
       "      <td>0.048</td>\n",
       "      <td>20.0</td>\n",
       "      <td>70.0</td>\n",
       "      <td>0.99362</td>\n",
       "      <td>3.19</td>\n",
       "      <td>0.42</td>\n",
       "      <td>10.0</td>\n",
       "      <td>5</td>\n",
       "    </tr>\n",
       "  </tbody>\n",
       "</table>\n",
       "</div>"
      ],
      "text/plain": [
       "      fixed acidity  volatile acidity  citric acid  residual sugar  chlorides  \\\n",
       "5718            6.5              0.40         0.31             3.5      0.046   \n",
       "545             9.1              0.47         0.49             2.6      0.094   \n",
       "5659            6.4              0.41         0.01             6.1      0.048   \n",
       "\n",
       "      free sulfur dioxide  total sulfur dioxide  density    pH  sulphates  \\\n",
       "5718                 22.0                 147.0  0.99024  3.15       0.31   \n",
       "545                  38.0                 106.0  0.99820  3.08       0.59   \n",
       "5659                 20.0                  70.0  0.99362  3.19       0.42   \n",
       "\n",
       "      alcohol  quality  \n",
       "5718     12.0        7  \n",
       "545       9.1        5  \n",
       "5659     10.0        5  "
      ]
     },
     "execution_count": 80,
     "metadata": {},
     "output_type": "execute_result"
    }
   ],
   "source": [
    "train_X.head(3)"
   ]
  },
  {
   "cell_type": "code",
   "execution_count": 90,
   "metadata": {},
   "outputs": [
    {
     "name": "stderr",
     "output_type": "stream",
     "text": [
      "C:\\ProgramData\\Anaconda3\\lib\\site-packages\\sklearn\\linear_model\\sag.py:334: ConvergenceWarning: The max_iter was reached which means the coef_ did not converge\n",
      "  \"the coef_ did not converge\", ConvergenceWarning)\n"
     ]
    },
    {
     "data": {
      "text/plain": [
       "LogisticRegression(C=1.0, class_weight=None, dual=False, fit_intercept=True,\n",
       "          intercept_scaling=1, max_iter=5000, multi_class='warn',\n",
       "          n_jobs=None, penalty='l2', random_state=None, solver='saga',\n",
       "          tol=0.0001, verbose=0, warm_start=False)"
      ]
     },
     "execution_count": 90,
     "metadata": {},
     "output_type": "execute_result"
    }
   ],
   "source": [
    "from sklearn.linear_model import LogisticRegression\n",
    "\"\"\"\n",
    "LogisticRegression(penalty=’l2’, dual=False, tol=0.0001, C=1.0, fit_intercept=True, \n",
    "                    intercept_scaling=1, class_weight=None, random_state=None, solver=’warn’, \n",
    "                    max_iter=100, multi_class=’warn’, verbose=0, warm_start=False, n_jobs=None, l1_ratio=None)\n",
    "                    \n",
    "# penalty: str, ‘l1’, ‘l2’, or ‘none’, optional (default=’l2’)\n",
    "The ‘newton-cg’, ‘sag’ and ‘lbfgs’ solvers support only l2 penalties.\n",
    "If ‘none’ (not supported by the liblinear solver), no regularization is applied.\n",
    "\n",
    "# penalty = Regularization\n",
    "# l2: Ridge Regularization\n",
    "# l1: Lasso Regularization\n",
    "\n",
    "\n",
    "\"\"\"\n",
    "# penaly = 'l2'\n",
    "# dual    = False\n",
    "# tol     = 0.0001\n",
    "# C       = 1.0  --> lambda(Regularization 정도) (낮을수록 높은 규제)\n",
    "# solver  = 'liblinear'\n",
    "# max_iter = ??? \n",
    "log_reg = LogisticRegression('l2', solver='saga', max_iter=5000)\n",
    "log_reg.fit(train_X, train_y)"
   ]
  },
  {
   "cell_type": "code",
   "execution_count": 91,
   "metadata": {},
   "outputs": [
    {
     "data": {
      "text/plain": [
       "0.9640804597701149"
      ]
     },
     "execution_count": 91,
     "metadata": {},
     "output_type": "execute_result"
    }
   ],
   "source": [
    "log_reg.score(train_X, train_y)"
   ]
  },
  {
   "cell_type": "code",
   "execution_count": 93,
   "metadata": {},
   "outputs": [
    {
     "data": {
      "text/plain": [
       "0.952"
      ]
     },
     "execution_count": 93,
     "metadata": {},
     "output_type": "execute_result"
    }
   ],
   "source": [
    "log_reg.score(test_X, test_y)"
   ]
  },
  {
   "cell_type": "code",
   "execution_count": 94,
   "metadata": {},
   "outputs": [
    {
     "data": {
      "text/plain": [
       "array(['white', 'red', 'red', ..., 'white', 'white', 'white'],\n",
       "      dtype=object)"
      ]
     },
     "execution_count": 94,
     "metadata": {},
     "output_type": "execute_result"
    }
   ],
   "source": [
    "pred_train = log_reg.predict(test_X)\n",
    "pred_train"
   ]
  },
  {
   "cell_type": "code",
   "execution_count": 95,
   "metadata": {},
   "outputs": [
    {
     "name": "stdout",
     "output_type": "stream",
     "text": [
      "(1, 12)\n"
     ]
    },
    {
     "data": {
      "text/plain": [
       "array([[-0.78090509, -1.90744682,  0.57790709,  0.15640708, -0.2952243 ,\n",
       "        -0.04167447,  0.06266593, -0.11028722, -1.65895783, -1.35884   ,\n",
       "         0.67498127,  0.2410095 ]])"
      ]
     },
     "execution_count": 95,
     "metadata": {},
     "output_type": "execute_result"
    }
   ],
   "source": [
    "print(log_reg.coef_.shape)\n",
    "log_reg.coef_"
   ]
  },
  {
   "cell_type": "code",
   "execution_count": 205,
   "metadata": {},
   "outputs": [
    {
     "data": {
      "text/plain": [
       "[('fixed acidity', array([0.10660897])),\n",
       " ('volatile acidity', array([-2.47186435])),\n",
       " ('citric acid', array([0.17779002])),\n",
       " ('residual sugar', array([-0.01789992])),\n",
       " ('chlorides', array([-0.87332854])),\n",
       " ('free sulfur dioxide', array([0.01700373])),\n",
       " ('total sulfur dioxide', array([-0.01165415])),\n",
       " ('density', array([-0.04431931])),\n",
       " ('pH', array([-0.56634351])),\n",
       " ('sulphates', array([1.99523442])),\n",
       " ('alcohol', array([0.92341263]))]"
      ]
     },
     "execution_count": 205,
     "metadata": {},
     "output_type": "execute_result"
    }
   ],
   "source": [
    "list(zip(train_X.columns, log_reg.coef_.reshape(-1,1)))\n",
    "# 잘못된 코드"
   ]
  },
  {
   "cell_type": "code",
   "execution_count": 97,
   "metadata": {},
   "outputs": [
    {
     "name": "stdout",
     "output_type": "stream",
     "text": [
      "['red' 'white']\n"
     ]
    },
    {
     "data": {
      "text/plain": [
       "array([[0.00279489, 0.99720511],\n",
       "       [0.95513969, 0.04486031],\n",
       "       [0.90490898, 0.09509102],\n",
       "       ...,\n",
       "       [0.09762184, 0.90237816],\n",
       "       [0.06060168, 0.93939832],\n",
       "       [0.00414041, 0.99585959]])"
      ]
     },
     "execution_count": 97,
     "metadata": {},
     "output_type": "execute_result"
    }
   ],
   "source": [
    "print(log_reg.classes_)\n",
    "test_proba = log_reg.predict_proba(test_X)\n",
    "test_proba"
   ]
  },
  {
   "cell_type": "markdown",
   "metadata": {},
   "source": [
    "# Red Wine 'Quality' Classification"
   ]
  },
  {
   "cell_type": "markdown",
   "metadata": {},
   "source": [
    "## 2. Feature_n: 모든Feature, Quality"
   ]
  },
  {
   "cell_type": "markdown",
   "metadata": {},
   "source": [
    "#### split train&test"
   ]
  },
  {
   "cell_type": "code",
   "execution_count": 147,
   "metadata": {},
   "outputs": [],
   "source": [
    "from sklearn.model_selection import train_test_split"
   ]
  },
  {
   "cell_type": "code",
   "execution_count": 148,
   "metadata": {},
   "outputs": [],
   "source": [
    "X = wine_red.drop('quality', axis=1)\n",
    "y = wine_red['quality']"
   ]
  },
  {
   "cell_type": "code",
   "execution_count": 149,
   "metadata": {},
   "outputs": [],
   "source": [
    "train_X, test_X, train_y, test_y = train_test_split(X, y, stratify=y, random_state=42)"
   ]
  },
  {
   "cell_type": "markdown",
   "metadata": {},
   "source": [
    "### Fit!!!"
   ]
  },
  {
   "cell_type": "code",
   "execution_count": 150,
   "metadata": {},
   "outputs": [
    {
     "data": {
      "text/plain": [
       "LogisticRegression(C=1.0, class_weight=None, dual=False, fit_intercept=True,\n",
       "          intercept_scaling=1, max_iter=5000, multi_class='multinomial',\n",
       "          n_jobs=None, penalty='l2', random_state=None, solver='saga',\n",
       "          tol=0.0001, verbose=0, warm_start=False)"
      ]
     },
     "execution_count": 150,
     "metadata": {},
     "output_type": "execute_result"
    }
   ],
   "source": [
    "from sklearn.linear_model import LogisticRegression\n",
    "\"\"\"\n",
    "LogisticRegression(penalty=’l2’, dual=False, tol=0.0001, C=1.0, fit_intercept=True, \n",
    "                    intercept_scaling=1, class_weight=None, random_state=None, solver=’warn’, \n",
    "                    max_iter=100, multi_class=’warn’, verbose=0, warm_start=False, n_jobs=None, l1_ratio=None)\n",
    "                    \n",
    "# penalty: str, ‘l1’, ‘l2’, or ‘none’, optional (default=’l2’)\n",
    "The ‘newton-cg’, ‘sag’ and ‘lbfgs’ solvers support only l2 penalties.\n",
    "If ‘none’ (not supported by the liblinear solver), no regularization is applied.\n",
    "\n",
    "# penalty = Regularization\n",
    "# l2: Ridge Regularization\n",
    "# l1: Lasso Regularization\n",
    "\"\"\"\n",
    "# penaly = 'l2'\n",
    "# dual    = False\n",
    "# tol     = 0.0001\n",
    "# C       = 1.0  --> lambda(Regularization 정도) (낮을수록 높은 규제)\n",
    "# solver  = 'liblinear'\n",
    "\n",
    "# \n",
    "log_reg = LogisticRegression(solver='saga', multi_class='multinomial', max_iter=5000) # no penalty\n",
    "# multinominal을 입력해줘야하만 여러가지를 가져올 수 있다.\n",
    "# max_iter = 몇번의 loop를 돌 것인가?\n",
    "log_reg.fit(train_X, train_y)"
   ]
  },
  {
   "cell_type": "code",
   "execution_count": 151,
   "metadata": {},
   "outputs": [
    {
     "data": {
      "text/plain": [
       "0.6021684737281068"
      ]
     },
     "execution_count": 151,
     "metadata": {},
     "output_type": "execute_result"
    }
   ],
   "source": [
    "log_reg.score(train_X, train_y)"
   ]
  },
  {
   "cell_type": "code",
   "execution_count": 152,
   "metadata": {},
   "outputs": [
    {
     "data": {
      "text/plain": [
       "0.5625"
      ]
     },
     "execution_count": 152,
     "metadata": {},
     "output_type": "execute_result"
    }
   ],
   "source": [
    "log_reg.score(test_X, test_y)"
   ]
  },
  {
   "cell_type": "code",
   "execution_count": 153,
   "metadata": {},
   "outputs": [
    {
     "data": {
      "text/plain": [
       "array([6, 5, 5, 6], dtype=int64)"
      ]
     },
     "execution_count": 153,
     "metadata": {},
     "output_type": "execute_result"
    }
   ],
   "source": [
    "pred_train = log_reg.predict(test_X)\n",
    "pred_train[:4]"
   ]
  },
  {
   "cell_type": "code",
   "execution_count": 154,
   "metadata": {},
   "outputs": [
    {
     "name": "stdout",
     "output_type": "stream",
     "text": [
      "(6, 11)\n"
     ]
    },
    {
     "data": {
      "text/plain": [
       "array([[ 0.05735808,  0.28820726, -0.0670326 ,  0.2322968 ,  0.01044758,\n",
       "        -0.08076614, -0.02052113,  0.01506206,  0.11359333, -0.05995184,\n",
       "        -0.2112734 ],\n",
       "       [-0.05984827,  0.47679293, -0.21381374,  0.12210567,  0.01695014,\n",
       "        -0.01842475,  0.00802562,  0.03295067,  0.28214655, -0.07124745,\n",
       "        -0.13520518],\n",
       "       [ 0.17381287,  0.88238912, -0.19151997, -0.1137778 ,  0.18138173,\n",
       "         0.00682732,  0.02261596,  0.4990706 ,  1.6148977 , -0.56847521,\n",
       "        -0.63836718],\n",
       "       [ 0.13143134, -0.35199938, -0.21208425, -0.06864878, -0.04050346,\n",
       "         0.03160224,  0.0028593 , -0.01898579, -0.10259342,  0.13168672,\n",
       "         0.11352646],\n",
       "       [ 0.02715452, -1.12419313,  0.54804925,  0.03040447, -0.14083661,\n",
       "         0.03470236, -0.00751931, -0.40846727, -1.4324437 ,  0.5050588 ,\n",
       "         0.56009179],\n",
       "       [-0.32990853, -0.17119681,  0.13640131, -0.20238036, -0.02743938,\n",
       "         0.02605897, -0.00546044, -0.11963028, -0.47560045,  0.06292897,\n",
       "         0.3112275 ]])"
      ]
     },
     "execution_count": 154,
     "metadata": {},
     "output_type": "execute_result"
    }
   ],
   "source": [
    "print(log_reg.coef_.shape)\n",
    "log_reg.coef_"
   ]
  },
  {
   "cell_type": "code",
   "execution_count": 155,
   "metadata": {},
   "outputs": [
    {
     "data": {
      "text/plain": [
       "[('fixed acidity', array([0.05735808])),\n",
       " ('volatile acidity', array([0.28820726])),\n",
       " ('citric acid', array([-0.0670326])),\n",
       " ('residual sugar', array([0.2322968])),\n",
       " ('chlorides', array([0.01044758])),\n",
       " ('free sulfur dioxide', array([-0.08076614])),\n",
       " ('total sulfur dioxide', array([-0.02052113])),\n",
       " ('density', array([0.01506206])),\n",
       " ('pH', array([0.11359333])),\n",
       " ('sulphates', array([-0.05995184])),\n",
       " ('alcohol', array([-0.2112734]))]"
      ]
     },
     "execution_count": 155,
     "metadata": {},
     "output_type": "execute_result"
    }
   ],
   "source": [
    "list(zip(train_X.columns, log_reg.coef_.reshape(-1,1)))"
   ]
  },
  {
   "cell_type": "code",
   "execution_count": 156,
   "metadata": {
    "scrolled": true
   },
   "outputs": [
    {
     "name": "stdout",
     "output_type": "stream",
     "text": [
      "[3 4 5 6 7 8]\n",
      "[[2.66933831e-04 2.18460995e-02 3.81435327e-01 4.89031703e-01\n",
      "  9.00545388e-02 1.73653987e-02]\n",
      " [4.76449425e-04 1.64244058e-02 8.86526678e-01 9.13196274e-02\n",
      "  4.48719041e-03 7.65649239e-04]\n",
      " [8.81581197e-04 5.37999913e-02 7.11720331e-01 2.04888700e-01\n",
      "  2.71557443e-02 1.55365241e-03]\n",
      " ...\n",
      " [2.31242053e-03 2.34121047e-02 6.43017825e-01 2.89869028e-01\n",
      "  3.89838983e-02 2.40472279e-03]\n",
      " [2.88589926e-05 1.09487540e-02 8.10795591e-01 1.64055953e-01\n",
      "  1.21677504e-02 2.00309222e-03]\n",
      " [6.43827421e-04 1.87293689e-02 9.58430690e-02 5.87712785e-01\n",
      "  2.49882085e-01 4.71888651e-02]]\n",
      "400\n"
     ]
    }
   ],
   "source": [
    "print(log_reg.classes_)\n",
    "test_proba = log_reg.predict_proba(test_X)\n",
    "print(test_proba)\n",
    "print(len(test_proba))"
   ]
  },
  {
   "cell_type": "markdown",
   "metadata": {},
   "source": [
    "# 3. 실습: White Wine softmax (label = quality)"
   ]
  },
  {
   "cell_type": "markdown",
   "metadata": {},
   "source": [
    "#### split train&test"
   ]
  },
  {
   "cell_type": "code",
   "execution_count": 157,
   "metadata": {},
   "outputs": [],
   "source": [
    "from sklearn.model_selection import train_test_split"
   ]
  },
  {
   "cell_type": "code",
   "execution_count": 158,
   "metadata": {},
   "outputs": [],
   "source": [
    "X = wine_white.drop('quality', axis=1)\n",
    "y = wine_white['quality']"
   ]
  },
  {
   "cell_type": "code",
   "execution_count": 159,
   "metadata": {
    "scrolled": true
   },
   "outputs": [
    {
     "data": {
      "text/html": [
       "<div>\n",
       "<style scoped>\n",
       "    .dataframe tbody tr th:only-of-type {\n",
       "        vertical-align: middle;\n",
       "    }\n",
       "\n",
       "    .dataframe tbody tr th {\n",
       "        vertical-align: top;\n",
       "    }\n",
       "\n",
       "    .dataframe thead th {\n",
       "        text-align: right;\n",
       "    }\n",
       "</style>\n",
       "<table border=\"1\" class=\"dataframe\">\n",
       "  <thead>\n",
       "    <tr style=\"text-align: right;\">\n",
       "      <th></th>\n",
       "      <th>fixed acidity</th>\n",
       "      <th>volatile acidity</th>\n",
       "      <th>citric acid</th>\n",
       "      <th>residual sugar</th>\n",
       "      <th>chlorides</th>\n",
       "      <th>free sulfur dioxide</th>\n",
       "      <th>total sulfur dioxide</th>\n",
       "      <th>density</th>\n",
       "      <th>pH</th>\n",
       "      <th>sulphates</th>\n",
       "      <th>alcohol</th>\n",
       "      <th>quality</th>\n",
       "    </tr>\n",
       "  </thead>\n",
       "  <tbody>\n",
       "    <tr>\n",
       "      <th>0</th>\n",
       "      <td>7.0</td>\n",
       "      <td>0.27</td>\n",
       "      <td>0.36</td>\n",
       "      <td>20.7</td>\n",
       "      <td>0.045</td>\n",
       "      <td>45.0</td>\n",
       "      <td>170.0</td>\n",
       "      <td>1.0010</td>\n",
       "      <td>3.00</td>\n",
       "      <td>0.45</td>\n",
       "      <td>8.8</td>\n",
       "      <td>6</td>\n",
       "    </tr>\n",
       "    <tr>\n",
       "      <th>1</th>\n",
       "      <td>6.3</td>\n",
       "      <td>0.30</td>\n",
       "      <td>0.34</td>\n",
       "      <td>1.6</td>\n",
       "      <td>0.049</td>\n",
       "      <td>14.0</td>\n",
       "      <td>132.0</td>\n",
       "      <td>0.9940</td>\n",
       "      <td>3.30</td>\n",
       "      <td>0.49</td>\n",
       "      <td>9.5</td>\n",
       "      <td>6</td>\n",
       "    </tr>\n",
       "    <tr>\n",
       "      <th>2</th>\n",
       "      <td>8.1</td>\n",
       "      <td>0.28</td>\n",
       "      <td>0.40</td>\n",
       "      <td>6.9</td>\n",
       "      <td>0.050</td>\n",
       "      <td>30.0</td>\n",
       "      <td>97.0</td>\n",
       "      <td>0.9951</td>\n",
       "      <td>3.26</td>\n",
       "      <td>0.44</td>\n",
       "      <td>10.1</td>\n",
       "      <td>6</td>\n",
       "    </tr>\n",
       "    <tr>\n",
       "      <th>3</th>\n",
       "      <td>7.2</td>\n",
       "      <td>0.23</td>\n",
       "      <td>0.32</td>\n",
       "      <td>8.5</td>\n",
       "      <td>0.058</td>\n",
       "      <td>47.0</td>\n",
       "      <td>186.0</td>\n",
       "      <td>0.9956</td>\n",
       "      <td>3.19</td>\n",
       "      <td>0.40</td>\n",
       "      <td>9.9</td>\n",
       "      <td>6</td>\n",
       "    </tr>\n",
       "    <tr>\n",
       "      <th>4</th>\n",
       "      <td>7.2</td>\n",
       "      <td>0.23</td>\n",
       "      <td>0.32</td>\n",
       "      <td>8.5</td>\n",
       "      <td>0.058</td>\n",
       "      <td>47.0</td>\n",
       "      <td>186.0</td>\n",
       "      <td>0.9956</td>\n",
       "      <td>3.19</td>\n",
       "      <td>0.40</td>\n",
       "      <td>9.9</td>\n",
       "      <td>6</td>\n",
       "    </tr>\n",
       "  </tbody>\n",
       "</table>\n",
       "</div>"
      ],
      "text/plain": [
       "   fixed acidity  volatile acidity  citric acid  residual sugar  chlorides  \\\n",
       "0            7.0              0.27         0.36            20.7      0.045   \n",
       "1            6.3              0.30         0.34             1.6      0.049   \n",
       "2            8.1              0.28         0.40             6.9      0.050   \n",
       "3            7.2              0.23         0.32             8.5      0.058   \n",
       "4            7.2              0.23         0.32             8.5      0.058   \n",
       "\n",
       "   free sulfur dioxide  total sulfur dioxide  density    pH  sulphates  \\\n",
       "0                 45.0                 170.0   1.0010  3.00       0.45   \n",
       "1                 14.0                 132.0   0.9940  3.30       0.49   \n",
       "2                 30.0                  97.0   0.9951  3.26       0.44   \n",
       "3                 47.0                 186.0   0.9956  3.19       0.40   \n",
       "4                 47.0                 186.0   0.9956  3.19       0.40   \n",
       "\n",
       "   alcohol  quality  \n",
       "0      8.8        6  \n",
       "1      9.5        6  \n",
       "2     10.1        6  \n",
       "3      9.9        6  \n",
       "4      9.9        6  "
      ]
     },
     "execution_count": 159,
     "metadata": {},
     "output_type": "execute_result"
    }
   ],
   "source": [
    "wine_white.head()"
   ]
  },
  {
   "cell_type": "code",
   "execution_count": 173,
   "metadata": {},
   "outputs": [],
   "source": [
    "# X\n",
    "# y"
   ]
  },
  {
   "cell_type": "code",
   "execution_count": 160,
   "metadata": {},
   "outputs": [],
   "source": [
    "train_X, test_X, train_y, test_y = train_test_split(X, y, stratify=y, random_state=1992)"
   ]
  },
  {
   "cell_type": "code",
   "execution_count": 170,
   "metadata": {},
   "outputs": [
    {
     "data": {
      "text/plain": [
       "LogisticRegression(C=1.0, class_weight=None, dual=False, fit_intercept=True,\n",
       "          intercept_scaling=1, max_iter=10000, multi_class='multinomial',\n",
       "          n_jobs=None, penalty='l2', random_state=None, solver='lbfgs',\n",
       "          tol=0.0001, verbose=0, warm_start=False)"
      ]
     },
     "execution_count": 170,
     "metadata": {},
     "output_type": "execute_result"
    }
   ],
   "source": [
    "# fit\n",
    "from sklearn.linear_model import LogisticRegression\n",
    "\"\"\"\n",
    "LogisticRegression(penalty=’l2’, dual=False, tol=0.0001, C=1.0, fit_intercept=True, \n",
    "                    intercept_scaling=1, class_weight=None, random_state=None, solver=’warn’, \n",
    "                    max_iter=100, multi_class=’warn’, verbose=0, warm_start=False, n_jobs=None, l1_ratio=None)\n",
    "                    \n",
    "# penalty: str, ‘l1’, ‘l2’, or ‘none’, optional (default=’l2’)\n",
    "The ‘newton-cg’, ‘sag’ and ‘lbfgs’ solvers support only l2 penalties.\n",
    "If ‘none’ (not supported by the liblinear solver), no regularization is applied.\n",
    "\n",
    "# penalty = Regularization\n",
    "# l2: Ridge Regularization\n",
    "# l1: Lasso Regularization\n",
    "\"\"\"\n",
    "# penaly = 'l2'\n",
    "# dual    = False\n",
    "# tol     = 0.0001\n",
    "# C       = 1.0  --> lambda(Regularization 정도) (낮을수록 높은 규제)\n",
    "# solver  = 'liblinear'\n",
    "\n",
    "# \n",
    "log_reg = LogisticRegression(solver='lbfgs', multi_class='multinomial', max_iter=10000) # no penalty\n",
    "log_reg.fit(train_X, train_y)"
   ]
  },
  {
   "cell_type": "code",
   "execution_count": 162,
   "metadata": {},
   "outputs": [
    {
     "data": {
      "text/plain": [
       "0.5088483528450858"
      ]
     },
     "execution_count": 162,
     "metadata": {},
     "output_type": "execute_result"
    }
   ],
   "source": [
    "log_reg.score(train_X, train_y)"
   ]
  },
  {
   "cell_type": "code",
   "execution_count": 163,
   "metadata": {},
   "outputs": [
    {
     "data": {
      "text/plain": [
       "0.5248979591836734"
      ]
     },
     "execution_count": 163,
     "metadata": {},
     "output_type": "execute_result"
    }
   ],
   "source": [
    "log_reg.score(test_X, test_y)"
   ]
  },
  {
   "cell_type": "code",
   "execution_count": 164,
   "metadata": {},
   "outputs": [
    {
     "data": {
      "text/plain": [
       "array([6, 6, 5, ..., 6, 6, 6], dtype=int64)"
      ]
     },
     "execution_count": 164,
     "metadata": {},
     "output_type": "execute_result"
    }
   ],
   "source": [
    "pred_train = log_reg.predict(test_X)\n",
    "pred_train"
   ]
  },
  {
   "cell_type": "code",
   "execution_count": 165,
   "metadata": {},
   "outputs": [
    {
     "name": "stdout",
     "output_type": "stream",
     "text": [
      "(7, 11)\n"
     ]
    },
    {
     "data": {
      "text/plain": [
       "array([[ 3.16479383e-01,  1.98841733e-02, -1.35880976e-02,\n",
       "        -2.20548000e-02,  4.15805308e-03,  4.37863549e-02,\n",
       "        -6.94458140e-03, -4.52249069e-02, -1.45822506e-01,\n",
       "        -3.96751814e-02, -4.09179340e-01],\n",
       "       [ 3.92029233e-01,  5.18549552e-01, -1.61190942e-01,\n",
       "        -4.10047637e-02,  1.16411792e-02, -6.10241716e-02,\n",
       "         8.74841651e-03,  8.95421404e-02,  2.84335144e-01,\n",
       "        -3.55170370e-02, -2.90528797e-01],\n",
       "       [ 2.02423450e-01,  1.13070813e+00,  1.21816190e-01,\n",
       "         3.92920983e-03,  1.04737579e-01, -5.39626374e-03,\n",
       "         9.32009487e-03,  6.14551867e-01,  1.08807910e+00,\n",
       "        -3.18694689e-01, -5.07083461e-01],\n",
       "       [-4.00037079e-02, -9.16353313e-01,  1.75011434e-01,\n",
       "         3.99114214e-02,  3.02307006e-02,  2.53352150e-03,\n",
       "         5.19694269e-03,  7.25085601e-03,  1.04807338e-01,\n",
       "         1.59474324e-01,  1.63897224e-01],\n",
       "       [-2.20397950e-01, -6.32344046e-01, -1.37102950e-01,\n",
       "         2.55333538e-02, -1.13814850e-01,  1.12394898e-02,\n",
       "        -1.54371670e-04, -4.13180587e-01, -6.04568319e-01,\n",
       "         3.58309310e-01,  5.16480036e-01],\n",
       "       [-6.01464043e-01, -1.14720702e-01,  8.77180193e-03,\n",
       "         5.26657852e-02, -3.31375513e-02,  2.28757576e-02,\n",
       "        -4.39897185e-03, -2.24652046e-01, -6.62471175e-01,\n",
       "        -1.13538032e-01,  5.79583273e-01],\n",
       "       [-4.90663659e-02, -5.72379827e-03,  6.28256426e-03,\n",
       "        -5.89802065e-02, -3.81510999e-03, -1.40146884e-02,\n",
       "        -1.17675291e-02, -2.82873238e-02, -6.43595802e-02,\n",
       "        -1.03586951e-02, -5.31689345e-02]])"
      ]
     },
     "execution_count": 165,
     "metadata": {},
     "output_type": "execute_result"
    }
   ],
   "source": [
    "print(log_reg.coef_.shape)\n",
    "log_reg.coef_"
   ]
  },
  {
   "cell_type": "code",
   "execution_count": 166,
   "metadata": {},
   "outputs": [
    {
     "data": {
      "text/plain": [
       "[('fixed acidity', array([0.31647938])),\n",
       " ('volatile acidity', array([0.01988417])),\n",
       " ('citric acid', array([-0.0135881])),\n",
       " ('residual sugar', array([-0.0220548])),\n",
       " ('chlorides', array([0.00415805])),\n",
       " ('free sulfur dioxide', array([0.04378635])),\n",
       " ('total sulfur dioxide', array([-0.00694458])),\n",
       " ('density', array([-0.04522491])),\n",
       " ('pH', array([-0.14582251])),\n",
       " ('sulphates', array([-0.03967518])),\n",
       " ('alcohol', array([-0.40917934]))]"
      ]
     },
     "execution_count": 166,
     "metadata": {},
     "output_type": "execute_result"
    }
   ],
   "source": [
    "list(zip(train_X.columns, log_reg.coef_.reshape(-1,1)))"
   ]
  },
  {
   "cell_type": "code",
   "execution_count": 167,
   "metadata": {},
   "outputs": [
    {
     "data": {
      "text/plain": [
       "array([6, 6, 5, ..., 6, 6, 6], dtype=int64)"
      ]
     },
     "execution_count": 167,
     "metadata": {},
     "output_type": "execute_result"
    }
   ],
   "source": [
    "pred_train = log_reg.predict(test_X)\n",
    "pred_train"
   ]
  },
  {
   "cell_type": "code",
   "execution_count": 168,
   "metadata": {},
   "outputs": [
    {
     "name": "stdout",
     "output_type": "stream",
     "text": [
      "[3 4 5 6 7 8 9]\n"
     ]
    },
    {
     "data": {
      "text/plain": [
       "array([[1.22748366e-02, 5.19365235e-03, 4.16951702e-01, ...,\n",
       "        8.96227688e-02, 1.78992911e-02, 2.62290169e-04],\n",
       "       [5.44109000e-03, 1.18171625e-02, 4.22639722e-01, ...,\n",
       "        9.91981640e-02, 1.40213290e-02, 3.65012407e-04],\n",
       "       [1.49541000e-03, 2.32102512e-02, 4.95877610e-01, ...,\n",
       "        5.77104416e-02, 1.35235764e-02, 2.92543928e-04],\n",
       "       ...,\n",
       "       [4.44152443e-03, 5.24620391e-02, 2.69166224e-01, ...,\n",
       "        2.47445219e-01, 7.06956342e-02, 5.08229325e-03],\n",
       "       [2.07489285e-03, 5.99352892e-02, 1.79644521e-01, ...,\n",
       "        1.97410643e-01, 2.64157118e-02, 1.71419129e-03],\n",
       "       [4.84927236e-03, 1.17776873e-02, 4.39019039e-01, ...,\n",
       "        7.29130443e-02, 1.12628770e-02, 1.61025594e-04]])"
      ]
     },
     "execution_count": 168,
     "metadata": {},
     "output_type": "execute_result"
    }
   ],
   "source": [
    "print(log_reg.classes_)\n",
    "test_proba = log_reg.predict_proba(test_X)\n",
    "test_proba"
   ]
  },
  {
   "cell_type": "markdown",
   "metadata": {},
   "source": [
    "# 4. All(Red+White)에 대한 Softmax (label = quality)"
   ]
  },
  {
   "cell_type": "code",
   "execution_count": 187,
   "metadata": {},
   "outputs": [
    {
     "data": {
      "text/plain": [
       "3     10\n",
       "4     53\n",
       "5    681\n",
       "6    638\n",
       "7    199\n",
       "8     18\n",
       "Name: quality, dtype: int64"
      ]
     },
     "execution_count": 187,
     "metadata": {},
     "output_type": "execute_result"
    },
    {
     "data": {
      "image/png": "[encoded data removed]",
      "text/plain": [
       "<Figure size 432x288 with 1 Axes>"
      ]
     },
     "metadata": {
      "needs_background": "light"
     },
     "output_type": "display_data"
    }
   ],
   "source": [
    "new_red = wine_red.copy()\n",
    "\n",
    "# for q in wineData['quality'].values:\n",
    "#     if q < 6:\n",
    "#         c.append(0)\n",
    "#     elif q > 6:\n",
    "#         c.append(2)\n",
    "#     else:\n",
    "#         c.append(1)\n",
    "\n",
    "new_red['quality'].hist()\n",
    "new_red['quality'].value_counts(sort=False)"
   ]
  },
  {
   "cell_type": "code",
   "execution_count": 188,
   "metadata": {},
   "outputs": [],
   "source": [
    "def quality_categorize(data):\n",
    "    if data['quality'] <=4:\n",
    "        return 'pool'\n",
    "    elif data['quality'] ==5:\n",
    "        return 'midlow'\n",
    "    elif data['quality'] ==6:\n",
    "        return 'midhigh'\n",
    "    elif data['quality'] >=7:\n",
    "        return 'excelent'"
   ]
  },
  {
   "cell_type": "code",
   "execution_count": 189,
   "metadata": {},
   "outputs": [
    {
     "data": {
      "text/html": [
       "<div>\n",
       "<style scoped>\n",
       "    .dataframe tbody tr th:only-of-type {\n",
       "        vertical-align: middle;\n",
       "    }\n",
       "\n",
       "    .dataframe tbody tr th {\n",
       "        vertical-align: top;\n",
       "    }\n",
       "\n",
       "    .dataframe thead th {\n",
       "        text-align: right;\n",
       "    }\n",
       "</style>\n",
       "<table border=\"1\" class=\"dataframe\">\n",
       "  <thead>\n",
       "    <tr style=\"text-align: right;\">\n",
       "      <th></th>\n",
       "      <th>fixed acidity</th>\n",
       "      <th>volatile acidity</th>\n",
       "      <th>citric acid</th>\n",
       "      <th>residual sugar</th>\n",
       "      <th>chlorides</th>\n",
       "      <th>free sulfur dioxide</th>\n",
       "      <th>total sulfur dioxide</th>\n",
       "      <th>density</th>\n",
       "      <th>pH</th>\n",
       "      <th>sulphates</th>\n",
       "      <th>alcohol</th>\n",
       "      <th>quality</th>\n",
       "      <th>rank</th>\n",
       "    </tr>\n",
       "  </thead>\n",
       "  <tbody>\n",
       "    <tr>\n",
       "      <th>0</th>\n",
       "      <td>7.4</td>\n",
       "      <td>0.70</td>\n",
       "      <td>0.00</td>\n",
       "      <td>1.9</td>\n",
       "      <td>0.076</td>\n",
       "      <td>11.0</td>\n",
       "      <td>34.0</td>\n",
       "      <td>0.9978</td>\n",
       "      <td>3.51</td>\n",
       "      <td>0.56</td>\n",
       "      <td>9.4</td>\n",
       "      <td>5</td>\n",
       "      <td>midlow</td>\n",
       "    </tr>\n",
       "    <tr>\n",
       "      <th>1</th>\n",
       "      <td>7.8</td>\n",
       "      <td>0.88</td>\n",
       "      <td>0.00</td>\n",
       "      <td>2.6</td>\n",
       "      <td>0.098</td>\n",
       "      <td>25.0</td>\n",
       "      <td>67.0</td>\n",
       "      <td>0.9968</td>\n",
       "      <td>3.20</td>\n",
       "      <td>0.68</td>\n",
       "      <td>9.8</td>\n",
       "      <td>5</td>\n",
       "      <td>midlow</td>\n",
       "    </tr>\n",
       "    <tr>\n",
       "      <th>2</th>\n",
       "      <td>7.8</td>\n",
       "      <td>0.76</td>\n",
       "      <td>0.04</td>\n",
       "      <td>2.3</td>\n",
       "      <td>0.092</td>\n",
       "      <td>15.0</td>\n",
       "      <td>54.0</td>\n",
       "      <td>0.9970</td>\n",
       "      <td>3.26</td>\n",
       "      <td>0.65</td>\n",
       "      <td>9.8</td>\n",
       "      <td>5</td>\n",
       "      <td>midlow</td>\n",
       "    </tr>\n",
       "    <tr>\n",
       "      <th>3</th>\n",
       "      <td>11.2</td>\n",
       "      <td>0.28</td>\n",
       "      <td>0.56</td>\n",
       "      <td>1.9</td>\n",
       "      <td>0.075</td>\n",
       "      <td>17.0</td>\n",
       "      <td>60.0</td>\n",
       "      <td>0.9980</td>\n",
       "      <td>3.16</td>\n",
       "      <td>0.58</td>\n",
       "      <td>9.8</td>\n",
       "      <td>6</td>\n",
       "      <td>midhigh</td>\n",
       "    </tr>\n",
       "    <tr>\n",
       "      <th>4</th>\n",
       "      <td>7.4</td>\n",
       "      <td>0.70</td>\n",
       "      <td>0.00</td>\n",
       "      <td>1.9</td>\n",
       "      <td>0.076</td>\n",
       "      <td>11.0</td>\n",
       "      <td>34.0</td>\n",
       "      <td>0.9978</td>\n",
       "      <td>3.51</td>\n",
       "      <td>0.56</td>\n",
       "      <td>9.4</td>\n",
       "      <td>5</td>\n",
       "      <td>midlow</td>\n",
       "    </tr>\n",
       "  </tbody>\n",
       "</table>\n",
       "</div>"
      ],
      "text/plain": [
       "   fixed acidity  volatile acidity  citric acid  residual sugar  chlorides  \\\n",
       "0            7.4              0.70         0.00             1.9      0.076   \n",
       "1            7.8              0.88         0.00             2.6      0.098   \n",
       "2            7.8              0.76         0.04             2.3      0.092   \n",
       "3           11.2              0.28         0.56             1.9      0.075   \n",
       "4            7.4              0.70         0.00             1.9      0.076   \n",
       "\n",
       "   free sulfur dioxide  total sulfur dioxide  density    pH  sulphates  \\\n",
       "0                 11.0                  34.0   0.9978  3.51       0.56   \n",
       "1                 25.0                  67.0   0.9968  3.20       0.68   \n",
       "2                 15.0                  54.0   0.9970  3.26       0.65   \n",
       "3                 17.0                  60.0   0.9980  3.16       0.58   \n",
       "4                 11.0                  34.0   0.9978  3.51       0.56   \n",
       "\n",
       "   alcohol  quality     rank  \n",
       "0      9.4        5   midlow  \n",
       "1      9.8        5   midlow  \n",
       "2      9.8        5   midlow  \n",
       "3      9.8        6  midhigh  \n",
       "4      9.4        5   midlow  "
      ]
     },
     "execution_count": 189,
     "metadata": {},
     "output_type": "execute_result"
    }
   ],
   "source": [
    "new_red['rank'] = new_red.apply(quality_categorize, axis=1)\n",
    "new_red.head(5)"
   ]
  },
  {
   "cell_type": "code",
   "execution_count": 190,
   "metadata": {},
   "outputs": [
    {
     "data": {
      "text/html": [
       "<div>\n",
       "<style scoped>\n",
       "    .dataframe tbody tr th:only-of-type {\n",
       "        vertical-align: middle;\n",
       "    }\n",
       "\n",
       "    .dataframe tbody tr th {\n",
       "        vertical-align: top;\n",
       "    }\n",
       "\n",
       "    .dataframe thead th {\n",
       "        text-align: right;\n",
       "    }\n",
       "</style>\n",
       "<table border=\"1\" class=\"dataframe\">\n",
       "  <thead>\n",
       "    <tr style=\"text-align: right;\">\n",
       "      <th></th>\n",
       "      <th>fixed acidity</th>\n",
       "      <th>volatile acidity</th>\n",
       "      <th>citric acid</th>\n",
       "      <th>residual sugar</th>\n",
       "      <th>chlorides</th>\n",
       "      <th>free sulfur dioxide</th>\n",
       "      <th>total sulfur dioxide</th>\n",
       "      <th>density</th>\n",
       "      <th>pH</th>\n",
       "      <th>sulphates</th>\n",
       "      <th>alcohol</th>\n",
       "    </tr>\n",
       "  </thead>\n",
       "  <tbody>\n",
       "    <tr>\n",
       "      <th>590</th>\n",
       "      <td>9.0</td>\n",
       "      <td>0.45</td>\n",
       "      <td>0.49</td>\n",
       "      <td>2.6</td>\n",
       "      <td>0.084</td>\n",
       "      <td>21.0</td>\n",
       "      <td>75.0</td>\n",
       "      <td>0.99870</td>\n",
       "      <td>3.35</td>\n",
       "      <td>0.57</td>\n",
       "      <td>9.7</td>\n",
       "    </tr>\n",
       "    <tr>\n",
       "      <th>1091</th>\n",
       "      <td>7.9</td>\n",
       "      <td>0.34</td>\n",
       "      <td>0.42</td>\n",
       "      <td>2.0</td>\n",
       "      <td>0.086</td>\n",
       "      <td>8.0</td>\n",
       "      <td>19.0</td>\n",
       "      <td>0.99546</td>\n",
       "      <td>3.35</td>\n",
       "      <td>0.60</td>\n",
       "      <td>11.4</td>\n",
       "    </tr>\n",
       "    <tr>\n",
       "      <th>220</th>\n",
       "      <td>7.8</td>\n",
       "      <td>0.34</td>\n",
       "      <td>0.37</td>\n",
       "      <td>2.0</td>\n",
       "      <td>0.082</td>\n",
       "      <td>24.0</td>\n",
       "      <td>58.0</td>\n",
       "      <td>0.99640</td>\n",
       "      <td>3.34</td>\n",
       "      <td>0.59</td>\n",
       "      <td>9.4</td>\n",
       "    </tr>\n",
       "  </tbody>\n",
       "</table>\n",
       "</div>"
      ],
      "text/plain": [
       "      fixed acidity  volatile acidity  citric acid  residual sugar  chlorides  \\\n",
       "590             9.0              0.45         0.49             2.6      0.084   \n",
       "1091            7.9              0.34         0.42             2.0      0.086   \n",
       "220             7.8              0.34         0.37             2.0      0.082   \n",
       "\n",
       "      free sulfur dioxide  total sulfur dioxide  density    pH  sulphates  \\\n",
       "590                  21.0                  75.0  0.99870  3.35       0.57   \n",
       "1091                  8.0                  19.0  0.99546  3.35       0.60   \n",
       "220                  24.0                  58.0  0.99640  3.34       0.59   \n",
       "\n",
       "      alcohol  \n",
       "590       9.7  \n",
       "1091     11.4  \n",
       "220       9.4  "
      ]
     },
     "execution_count": 190,
     "metadata": {},
     "output_type": "execute_result"
    }
   ],
   "source": [
    "from sklearn.model_selection import train_test_split\n",
    "\n",
    "X = new_red.drop(['quality', 'rank'], axis=1)\n",
    "y = new_red['rank']\n",
    "\n",
    "train_X, test_X, train_y, test_y = train_test_split(X, y, stratify=y, random_state=42)\n",
    "\n",
    "train_X.head(3)"
   ]
  },
  {
   "cell_type": "code",
   "execution_count": 200,
   "metadata": {},
   "outputs": [
    {
     "data": {
      "text/plain": [
       "LogisticRegression(C=1.0, class_weight=None, dual=False, fit_intercept=True,\n",
       "          intercept_scaling=1, max_iter=5000, multi_class='multinomial',\n",
       "          n_jobs=None, penalty='l2', random_state=None, solver='lbfgs',\n",
       "          tol=0.0001, verbose=0, warm_start=False)"
      ]
     },
     "execution_count": 200,
     "metadata": {},
     "output_type": "execute_result"
    }
   ],
   "source": [
    "from sklearn.linear_model import LogisticRegression\n",
    "\"\"\"\n",
    "LogisticRegression(penalty=’l2’, dual=False, tol=0.0001, C=1.0, fit_intercept=True, \n",
    "                    intercept_scaling=1, class_weight=None, random_state=None, solver=’warn’, \n",
    "                    max_iter=100, multi_class=’warn’, verbose=0, warm_start=False, n_jobs=None, l1_ratio=None)\n",
    "                    \n",
    "# penalty: str, ‘l1’, ‘l2’, or ‘none’, optional (default=’l2’)\n",
    "The ‘newton-cg’, ‘sag’ and ‘lbfgs’ solvers support only l2 penalties.\n",
    "If ‘none’ (not supported by the liblinear solver), no regularization is applied.\n",
    "\n",
    "# penalty = Regularization\n",
    "# l2: Ridge Regularization\n",
    "# l1: Lasso Regularization\n",
    "\"\"\"\n",
    "# penaly = 'l2'\n",
    "# dual    = False\n",
    "# tol     = 0.0001\n",
    "# C       = 1.0  --> lambda(Regularization 정도) (낮을수록 높은 규제)\n",
    "# solver  = 'liblinear'\n",
    "\n",
    "# \n",
    "log_reg = LogisticRegression(solver='lbfgs', multi_class='multinomial', max_iter=5000) # no penalty\n",
    "log_reg.fit(train_X, train_y)"
   ]
  },
  {
   "cell_type": "code",
   "execution_count": 192,
   "metadata": {},
   "outputs": [
    {
     "data": {
      "text/plain": [
       "0.5896580483736447"
      ]
     },
     "execution_count": 192,
     "metadata": {},
     "output_type": "execute_result"
    }
   ],
   "source": [
    "log_reg.score(train_X, train_y)"
   ]
  },
  {
   "cell_type": "code",
   "execution_count": 193,
   "metadata": {},
   "outputs": [
    {
     "data": {
      "text/plain": [
       "0.5975"
      ]
     },
     "execution_count": 193,
     "metadata": {},
     "output_type": "execute_result"
    }
   ],
   "source": [
    "log_reg.score(test_X, test_y)"
   ]
  },
  {
   "cell_type": "code",
   "execution_count": 194,
   "metadata": {},
   "outputs": [
    {
     "data": {
      "text/plain": [
       "array(['midlow', 'midlow', 'midhigh', 'midlow', 'midhigh'], dtype=object)"
      ]
     },
     "execution_count": 194,
     "metadata": {},
     "output_type": "execute_result"
    }
   ],
   "source": [
    "pred_train = log_reg.predict(test_X)\n",
    "pred_train[:5]"
   ]
  },
  {
   "cell_type": "code",
   "execution_count": 195,
   "metadata": {
    "scrolled": true
   },
   "outputs": [
    {
     "name": "stdout",
     "output_type": "stream",
     "text": [
      "(4, 11)\n"
     ]
    },
    {
     "data": {
      "text/plain": [
       "array([[-0.01181319, -1.14199321,  0.61390395, -0.02182714, -0.1556326 ,\n",
       "         0.01753027, -0.01214566, -0.50983599, -1.80768079,  0.53263846,\n",
       "         0.6780277 ],\n",
       "       [ 0.03696924, -0.52918434, -0.1800537 , -0.06640276, -0.04701357,\n",
       "         0.02133325, -0.00192927, -0.04019017,  0.04770917,  0.24193178,\n",
       "         0.07360035],\n",
       "       [ 0.11618254,  0.87816964, -0.18033366, -0.07371709,  0.14417306,\n",
       "        -0.00799882,  0.01766392,  0.49240229,  1.36618152, -0.60734006,\n",
       "        -0.58492267],\n",
       "       [-0.14133859,  0.79300791, -0.25351659,  0.16194699,  0.05847311,\n",
       "        -0.0308647 , -0.00358899,  0.05762387,  0.3937901 , -0.16723018,\n",
       "        -0.16670538]])"
      ]
     },
     "execution_count": 195,
     "metadata": {},
     "output_type": "execute_result"
    }
   ],
   "source": [
    "print(log_reg.coef_.shape)\n",
    "log_reg.coef_\n",
    "# pool, midlow, midhigh, excellent 각 4개로 분류하는데에 \n",
    "# 11개의 feature가 사용되었고,\n",
    "# 그 값은 각각의 class 분류에 영향을 미친 feature의 weight 값이다."
   ]
  },
  {
   "cell_type": "code",
   "execution_count": 196,
   "metadata": {
    "scrolled": true
   },
   "outputs": [
    {
     "data": {
      "text/plain": [
       "array([[-0.01181319],\n",
       "       [-1.14199321],\n",
       "       [ 0.61390395],\n",
       "       [-0.02182714],\n",
       "       [-0.1556326 ],\n",
       "       [ 0.01753027],\n",
       "       [-0.01214566],\n",
       "       [-0.50983599],\n",
       "       [-1.80768079],\n",
       "       [ 0.53263846],\n",
       "       [ 0.6780277 ],\n",
       "       [ 0.03696924],\n",
       "       [-0.52918434],\n",
       "       [-0.1800537 ],\n",
       "       [-0.06640276],\n",
       "       [-0.04701357],\n",
       "       [ 0.02133325],\n",
       "       [-0.00192927],\n",
       "       [-0.04019017],\n",
       "       [ 0.04770917],\n",
       "       [ 0.24193178],\n",
       "       [ 0.07360035],\n",
       "       [ 0.11618254],\n",
       "       [ 0.87816964],\n",
       "       [-0.18033366],\n",
       "       [-0.07371709],\n",
       "       [ 0.14417306],\n",
       "       [-0.00799882],\n",
       "       [ 0.01766392],\n",
       "       [ 0.49240229],\n",
       "       [ 1.36618152],\n",
       "       [-0.60734006],\n",
       "       [-0.58492267],\n",
       "       [-0.14133859],\n",
       "       [ 0.79300791],\n",
       "       [-0.25351659],\n",
       "       [ 0.16194699],\n",
       "       [ 0.05847311],\n",
       "       [-0.0308647 ],\n",
       "       [-0.00358899],\n",
       "       [ 0.05762387],\n",
       "       [ 0.3937901 ],\n",
       "       [-0.16723018],\n",
       "       [-0.16670538]])"
      ]
     },
     "execution_count": 196,
     "metadata": {},
     "output_type": "execute_result"
    }
   ],
   "source": [
    "log_reg.coef_.reshape(-1,1)"
   ]
  },
  {
   "cell_type": "code",
   "execution_count": 206,
   "metadata": {},
   "outputs": [
    {
     "data": {
      "text/plain": [
       "[('fixed acidity', array([0.10660897])),\n",
       " ('volatile acidity', array([-2.47186435])),\n",
       " ('citric acid', array([0.17779002])),\n",
       " ('residual sugar', array([-0.01789992])),\n",
       " ('chlorides', array([-0.87332854])),\n",
       " ('free sulfur dioxide', array([0.01700373])),\n",
       " ('total sulfur dioxide', array([-0.01165415])),\n",
       " ('density', array([-0.04431931])),\n",
       " ('pH', array([-0.56634351])),\n",
       " ('sulphates', array([1.99523442])),\n",
       " ('alcohol', array([0.92341263]))]"
      ]
     },
     "execution_count": 206,
     "metadata": {},
     "output_type": "execute_result"
    }
   ],
   "source": [
    "\"\"\"\n",
    "# -----------------------------------------------------\n",
    "list(zip(train_X.columns, log_reg.coef_[0])\n",
    "W12*X12 + W11+X11 + ... + W1*W1 + W0 # 클래스 3?\n",
    "\n",
    "# -----------------------------------------------------\n",
    "list(zip(train_X.columns, log_reg.coef_[1])\n",
    "W12*X12 + W11+X11 + ... + W1*W1 + W0 # 클래스 4?\n",
    "\n",
    "# -----------------------------------------------------\n",
    "list(zip(train_X.columns, log_reg.coef_[2])\n",
    "W12*X12 + W11+X11 + ... + W1*W1 + W0 # 클래스 5?\n",
    "\n",
    "# -----------------------------------------------------\n",
    "list(zip(train_X.columns, log_reg.coef_[3])\n",
    "W12*X12 + W11+X11 + ... + W1*W1 + W0 # 클래스 6?\n",
    "\"\"\"\n",
    "\n",
    "list(zip(train_X.columns, log_reg.coef_.reshape(-1,1)))\n",
    "# 이게 왜 이렇게 되나요??? 차원이 훨씬 많아서 개수도 더 많은데?? \n",
    "# 어 잘못된 코드야\n"
   ]
  },
  {
   "cell_type": "code",
   "execution_count": 198,
   "metadata": {},
   "outputs": [
    {
     "name": "stdout",
     "output_type": "stream",
     "text": [
      "['excelent' 'midhigh' 'midlow' 'pool']\n"
     ]
    },
    {
     "data": {
      "text/plain": [
       "array([[0.02669479, 0.25994324, 0.69568187, 0.0176801 ],\n",
       "       [0.08196121, 0.42715555, 0.44853024, 0.042353  ],\n",
       "       [0.39562333, 0.47985443, 0.10934371, 0.01517853],\n",
       "       ...,\n",
       "       [0.34891642, 0.48007489, 0.14168745, 0.02932123],\n",
       "       [0.02231344, 0.29032932, 0.67647591, 0.01088134],\n",
       "       [0.07114644, 0.34533437, 0.51764535, 0.06587384]])"
      ]
     },
     "execution_count": 198,
     "metadata": {},
     "output_type": "execute_result"
    }
   ],
   "source": [
    "print(log_reg.classes_)\n",
    "test_proba = log_reg.predict_proba(test_X)\n",
    "test_proba"
   ]
  },
  {
   "cell_type": "markdown",
   "metadata": {},
   "source": [
    "# 번외. 버전확인"
   ]
  },
  {
   "cell_type": "code",
   "execution_count": 123,
   "metadata": {},
   "outputs": [],
   "source": [
    "import sklearn"
   ]
  },
  {
   "cell_type": "code",
   "execution_count": 125,
   "metadata": {},
   "outputs": [
    {
     "data": {
      "text/plain": [
       "'0.20.3'"
      ]
     },
     "execution_count": 125,
     "metadata": {},
     "output_type": "execute_result"
    }
   ],
   "source": [
    "sklearn.__version__\n",
    "# 혹은 anaconda에서 확인할 수도 있다."
   ]
  },
  {
   "cell_type": "code",
   "execution_count": null,
   "metadata": {},
   "outputs": [],
   "source": [
    "# saga\n",
    "# \n",
    "\n",
    "# lbfgs\n",
    "#"
   ]
  },
  {
   "cell_type": "code",
   "execution_count": 210,
   "metadata": {},
   "outputs": [
    {
     "data": {
      "text/plain": [
       "'0.20.3'"
      ]
     },
     "execution_count": 210,
     "metadata": {},
     "output_type": "execute_result"
    }
   ],
   "source": [
    "# max_iter\n",
    "# 로지스틱 리그레션은 반복이 계속해서 들어간다. \n",
    "\"\"\"\n",
    "마치 Optimization과 유사한 개념인데, \n",
    "optimization에서 weight와 cost가 있을 때, cost는 사실상 weight에 의해서 결정된다.\n",
    "\n",
    "따라서 그 학습률을 결정해주는 것이 매우 중요한데,\n",
    "로지스틱으로 넘어와서,\n",
    "max_iter는 마치 cost함수에서 최저점을 찾아가듯, 가장 적절한 해답을 내기 위해서 \n",
    "얼마만큼 loop가 필요한지에 대해서 알려주는 것이 바로 max_iter이다. \n",
    "\"\"\"\n",
    "sklearn.__version__"
   ]
  },
  {
   "cell_type": "code",
   "execution_count": null,
   "metadata": {},
   "outputs": [],
   "source": []
  }
 ],
 "metadata": {
  "kernelspec": {
   "display_name": "Python 3",
   "language": "python",
   "name": "python3"
  },
  "language_info": {
   "codemirror_mode": {
    "name": "ipython",
    "version": 3
   },
   "file_extension": ".py",
   "mimetype": "text/x-python",
   "name": "python",
   "nbconvert_exporter": "python",
   "pygments_lexer": "ipython3",
   "version": "3.7.3"
  }
 },
 "nbformat": 4,
 "nbformat_minor": 2
}
