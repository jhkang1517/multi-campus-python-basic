{
 "cells": [
  {
   "cell_type": "markdown",
   "metadata": {},
   "source": [
    "# 실습을 통해 LogisticRegression 모델 이해하기"
   ]
  },
  {
   "cell_type": "code",
   "execution_count": 1,
   "metadata": {},
   "outputs": [],
   "source": [
    "from sklearn.datasets import make_classification\n",
    "from sklearn.linear_model import LogisticRegression\n",
    "\n",
    "import matplotlib.pyplot as plt\n",
    "import numpy as np\n",
    "import pandas as pd"
   ]
  },
  {
   "cell_type": "code",
   "execution_count": 2,
   "metadata": {},
   "outputs": [
    {
     "data": {
      "image/png": "[encoded data removed]",
      "text/plain": [
       "<Figure size 432x288 with 1 Axes>"
      ]
     },
     "metadata": {
      "needs_background": "light"
     },
     "output_type": "display_data"
    }
   ],
   "source": [
    "X, y = make_classification(n_features=1, n_redundant=0, n_informative=1, \n",
    "                            n_clusters_per_class=1, random_state=50)\n",
    "plt.scatter(X, y, marker='o', c=y, s=100, edgecolor=\"k\", linewidth=1)\n",
    "plt.show()"
   ]
  },
  {
   "cell_type": "code",
   "execution_count": 4,
   "metadata": {},
   "outputs": [
    {
     "name": "stderr",
     "output_type": "stream",
     "text": [
      "C:\\ProgramData\\Anaconda3\\lib\\site-packages\\sklearn\\linear_model\\logistic.py:433: FutureWarning: Default solver will be changed to 'lbfgs' in 0.22. Specify a solver to silence this warning.\n",
      "  FutureWarning)\n"
     ]
    }
   ],
   "source": [
    "model = LogisticRegression().fit(X, y)"
   ]
  },
  {
   "cell_type": "code",
   "execution_count": 5,
   "metadata": {},
   "outputs": [
    {
     "data": {
      "text/plain": [
       "0.91"
      ]
     },
     "execution_count": 5,
     "metadata": {},
     "output_type": "execute_result"
    }
   ],
   "source": [
    "model.score(X,y)"
   ]
  },
  {
   "cell_type": "code",
   "execution_count": 7,
   "metadata": {
    "scrolled": true
   },
   "outputs": [
    {
     "data": {
      "text/plain": [
       "array([-4.        , -3.91919192, -3.83838384, -3.75757576, -3.67676768,\n",
       "       -3.5959596 , -3.51515152, -3.43434343, -3.35353535, -3.27272727,\n",
       "       -3.19191919, -3.11111111, -3.03030303, -2.94949495, -2.86868687,\n",
       "       -2.78787879, -2.70707071, -2.62626263, -2.54545455, -2.46464646,\n",
       "       -2.38383838, -2.3030303 , -2.22222222, -2.14141414, -2.06060606,\n",
       "       -1.97979798, -1.8989899 , -1.81818182, -1.73737374, -1.65656566,\n",
       "       -1.57575758, -1.49494949, -1.41414141, -1.33333333, -1.25252525,\n",
       "       -1.17171717, -1.09090909, -1.01010101, -0.92929293, -0.84848485,\n",
       "       -0.76767677, -0.68686869, -0.60606061, -0.52525253, -0.44444444,\n",
       "       -0.36363636, -0.28282828, -0.2020202 , -0.12121212, -0.04040404,\n",
       "        0.04040404,  0.12121212,  0.2020202 ,  0.28282828,  0.36363636,\n",
       "        0.44444444,  0.52525253,  0.60606061,  0.68686869,  0.76767677,\n",
       "        0.84848485,  0.92929293,  1.01010101,  1.09090909,  1.17171717,\n",
       "        1.25252525,  1.33333333,  1.41414141,  1.49494949,  1.57575758,\n",
       "        1.65656566,  1.73737374,  1.81818182,  1.8989899 ,  1.97979798,\n",
       "        2.06060606,  2.14141414,  2.22222222,  2.3030303 ,  2.38383838,\n",
       "        2.46464646,  2.54545455,  2.62626263,  2.70707071,  2.78787879,\n",
       "        2.86868687,  2.94949495,  3.03030303,  3.11111111,  3.19191919,\n",
       "        3.27272727,  3.35353535,  3.43434343,  3.51515152,  3.5959596 ,\n",
       "        3.67676768,  3.75757576,  3.83838384,  3.91919192,  4.        ])"
      ]
     },
     "execution_count": 7,
     "metadata": {},
     "output_type": "execute_result"
    }
   ],
   "source": [
    "x = np.linspace(-4, 4, 100)\n",
    "x"
   ]
  },
  {
   "cell_type": "code",
   "execution_count": 8,
   "metadata": {},
   "outputs": [
    {
     "data": {
      "text/plain": [
       "array([[1.74929866]])"
      ]
     },
     "execution_count": 8,
     "metadata": {},
     "output_type": "execute_result"
    }
   ],
   "source": [
    "model.coef_"
   ]
  },
  {
   "cell_type": "code",
   "execution_count": 9,
   "metadata": {},
   "outputs": [
    {
     "data": {
      "text/plain": [
       "array([-0.02403857])"
      ]
     },
     "execution_count": 9,
     "metadata": {},
     "output_type": "execute_result"
    }
   ],
   "source": [
    "model.intercept_"
   ]
  },
  {
   "cell_type": "code",
   "execution_count": 15,
   "metadata": {},
   "outputs": [
    {
     "data": {
      "image/png": "[encoded data removed]",
      "text/plain": [
       "<Figure size 432x288 with 1 Axes>"
      ]
     },
     "metadata": {
      "needs_background": "light"
     },
     "output_type": "display_data"
    }
   ],
   "source": [
    "fx = 1.0/(1 + np.exp(-model.coef_[0][0]*x - model.intercept_[0]))\n",
    "\n",
    "plt.plot(x, fx)\n",
    "plt.scatter(X, y, marker='o', s=100, color='black')\n",
    "plt.scatter(X, model.predict(X), marker='x', s=50, color='red')\n",
    "plt.xlim(-4, 4)\n",
    "plt.show()\n",
    "# 기준이 어떻게 잘린거야???? "
   ]
  }
 ],
 "metadata": {
  "kernelspec": {
   "display_name": "Python 3",
   "language": "python",
   "name": "python3"
  },
  "language_info": {
   "codemirror_mode": {
    "name": "ipython",
    "version": 3
   },
   "file_extension": ".py",
   "mimetype": "text/x-python",
   "name": "python",
   "nbconvert_exporter": "python",
   "pygments_lexer": "ipython3",
   "version": "3.7.3"
  }
 },
 "nbformat": 4,
 "nbformat_minor": 2
}
