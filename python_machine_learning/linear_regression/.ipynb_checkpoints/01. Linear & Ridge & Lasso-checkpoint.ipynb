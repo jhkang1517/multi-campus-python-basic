{
 "cells": [
  {
   "cell_type": "code",
   "execution_count": 1,
   "metadata": {},
   "outputs": [
    {
     "name": "stdout",
     "output_type": "stream",
     "text": [
      "Collecting mglearn\n",
      "  Downloading https://files.pythonhosted.org/packages/fb/01/8d3630ecc767c9de96a9c46e055f2a3a5f9e14a47d3d0348a36a5005fe67/mglearn-0.1.7.tar.gz (540kB)\n",
      "Requirement already satisfied: numpy in c:\\programdata\\anaconda3\\lib\\site-packages (from mglearn) (1.16.2)\n",
      "Requirement already satisfied: matplotlib in c:\\programdata\\anaconda3\\lib\\site-packages (from mglearn) (3.0.3)\n",
      "Requirement already satisfied: scikit-learn in c:\\programdata\\anaconda3\\lib\\site-packages (from mglearn) (0.20.3)\n",
      "Requirement already satisfied: pandas in c:\\programdata\\anaconda3\\lib\\site-packages (from mglearn) (0.24.2)\n",
      "Requirement already satisfied: pillow in c:\\programdata\\anaconda3\\lib\\site-packages (from mglearn) (5.4.1)\n",
      "Requirement already satisfied: cycler in c:\\programdata\\anaconda3\\lib\\site-packages (from mglearn) (0.10.0)\n",
      "Requirement already satisfied: imageio in c:\\programdata\\anaconda3\\lib\\site-packages (from mglearn) (2.5.0)\n",
      "Requirement already satisfied: kiwisolver>=1.0.1 in c:\\programdata\\anaconda3\\lib\\site-packages (from matplotlib->mglearn) (1.0.1)\n",
      "Requirement already satisfied: pyparsing!=2.0.4,!=2.1.2,!=2.1.6,>=2.0.1 in c:\\programdata\\anaconda3\\lib\\site-packages (from matplotlib->mglearn) (2.3.1)\n",
      "Requirement already satisfied: python-dateutil>=2.1 in c:\\programdata\\anaconda3\\lib\\site-packages (from matplotlib->mglearn) (2.8.0)\n",
      "Requirement already satisfied: scipy>=0.13.3 in c:\\programdata\\anaconda3\\lib\\site-packages (from scikit-learn->mglearn) (1.2.1)\n",
      "Requirement already satisfied: pytz>=2011k in c:\\programdata\\anaconda3\\lib\\site-packages (from pandas->mglearn) (2018.9)\n",
      "Requirement already satisfied: six in c:\\programdata\\anaconda3\\lib\\site-packages (from cycler->mglearn) (1.12.0)\n",
      "Requirement already satisfied: setuptools in c:\\programdata\\anaconda3\\lib\\site-packages (from kiwisolver>=1.0.1->matplotlib->mglearn) (40.8.0)\n",
      "Building wheels for collected packages: mglearn\n",
      "  Building wheel for mglearn (setup.py): started\n",
      "  Building wheel for mglearn (setup.py): finished with status 'done'\n",
      "  Stored in directory: C:\\Users\\student\\AppData\\Local\\pip\\Cache\\wheels\\74\\cf\\8d\\04f4932d15854a36726c6210763c7127e62de28f5c8ddfcf3b\n",
      "Successfully built mglearn\n",
      "Installing collected packages: mglearn\n",
      "Successfully installed mglearn-0.1.7\n"
     ]
    }
   ],
   "source": [
    "%matplotlib inline\n",
    "# 주피터 내에서 \n",
    "\n",
    "import numpy as np\n",
    "from sklearn.datasets import load_boston\n",
    "from matplotlib import pyplot as plt\n",
    "from sklearn.model_selection import train_test_split, cross_val_score\n",
    "\n",
    "try:\n",
    "    from mglearn.datasets import load_extended_boston\n",
    "except:\n",
    "    import sys\n",
    "    !{sys.executable} -m pip install mglearn\n",
    "    # pip 를 통해 설치 \n",
    "finally:\n",
    "    from mglearn.datasets import load_extended_boston\n",
    "import pandas as pd\n",
    "\n",
    "from sklearn.linear_model import LinearRegression, Ridge, Lasso\n",
    "\n"
   ]
  },
  {
   "cell_type": "code",
   "execution_count": 2,
   "metadata": {},
   "outputs": [],
   "source": [
    "boston = load_boston()\n",
    "# 딕셔너리 형태로 되어있음. "
   ]
  },
  {
   "cell_type": "code",
   "execution_count": 3,
   "metadata": {},
   "outputs": [
    {
     "data": {
      "text/plain": [
       "dict_keys(['data', 'target', 'feature_names', 'DESCR', 'filename'])"
      ]
     },
     "execution_count": 3,
     "metadata": {},
     "output_type": "execute_result"
    }
   ],
   "source": [
    "boston.keys()"
   ]
  },
  {
   "cell_type": "code",
   "execution_count": 4,
   "metadata": {},
   "outputs": [],
   "source": [
    "X = pd.DataFrame(boston.data, columns=boston.feature_names)\n",
    "y = pd.DataFrame(boston.target, columns=['price'])"
   ]
  },
  {
   "cell_type": "code",
   "execution_count": 5,
   "metadata": {},
   "outputs": [
    {
     "data": {
      "text/html": [
       "<div>\n",
       "<style scoped>\n",
       "    .dataframe tbody tr th:only-of-type {\n",
       "        vertical-align: middle;\n",
       "    }\n",
       "\n",
       "    .dataframe tbody tr th {\n",
       "        vertical-align: top;\n",
       "    }\n",
       "\n",
       "    .dataframe thead th {\n",
       "        text-align: right;\n",
       "    }\n",
       "</style>\n",
       "<table border=\"1\" class=\"dataframe\">\n",
       "  <thead>\n",
       "    <tr style=\"text-align: right;\">\n",
       "      <th></th>\n",
       "      <th>CRIM</th>\n",
       "      <th>ZN</th>\n",
       "      <th>INDUS</th>\n",
       "      <th>CHAS</th>\n",
       "      <th>NOX</th>\n",
       "      <th>RM</th>\n",
       "      <th>AGE</th>\n",
       "      <th>DIS</th>\n",
       "      <th>RAD</th>\n",
       "      <th>TAX</th>\n",
       "      <th>PTRATIO</th>\n",
       "      <th>B</th>\n",
       "      <th>LSTAT</th>\n",
       "    </tr>\n",
       "  </thead>\n",
       "  <tbody>\n",
       "    <tr>\n",
       "      <th>0</th>\n",
       "      <td>0.00632</td>\n",
       "      <td>18.0</td>\n",
       "      <td>2.31</td>\n",
       "      <td>0.0</td>\n",
       "      <td>0.538</td>\n",
       "      <td>6.575</td>\n",
       "      <td>65.2</td>\n",
       "      <td>4.0900</td>\n",
       "      <td>1.0</td>\n",
       "      <td>296.0</td>\n",
       "      <td>15.3</td>\n",
       "      <td>396.90</td>\n",
       "      <td>4.98</td>\n",
       "    </tr>\n",
       "    <tr>\n",
       "      <th>1</th>\n",
       "      <td>0.02731</td>\n",
       "      <td>0.0</td>\n",
       "      <td>7.07</td>\n",
       "      <td>0.0</td>\n",
       "      <td>0.469</td>\n",
       "      <td>6.421</td>\n",
       "      <td>78.9</td>\n",
       "      <td>4.9671</td>\n",
       "      <td>2.0</td>\n",
       "      <td>242.0</td>\n",
       "      <td>17.8</td>\n",
       "      <td>396.90</td>\n",
       "      <td>9.14</td>\n",
       "    </tr>\n",
       "    <tr>\n",
       "      <th>2</th>\n",
       "      <td>0.02729</td>\n",
       "      <td>0.0</td>\n",
       "      <td>7.07</td>\n",
       "      <td>0.0</td>\n",
       "      <td>0.469</td>\n",
       "      <td>7.185</td>\n",
       "      <td>61.1</td>\n",
       "      <td>4.9671</td>\n",
       "      <td>2.0</td>\n",
       "      <td>242.0</td>\n",
       "      <td>17.8</td>\n",
       "      <td>392.83</td>\n",
       "      <td>4.03</td>\n",
       "    </tr>\n",
       "    <tr>\n",
       "      <th>3</th>\n",
       "      <td>0.03237</td>\n",
       "      <td>0.0</td>\n",
       "      <td>2.18</td>\n",
       "      <td>0.0</td>\n",
       "      <td>0.458</td>\n",
       "      <td>6.998</td>\n",
       "      <td>45.8</td>\n",
       "      <td>6.0622</td>\n",
       "      <td>3.0</td>\n",
       "      <td>222.0</td>\n",
       "      <td>18.7</td>\n",
       "      <td>394.63</td>\n",
       "      <td>2.94</td>\n",
       "    </tr>\n",
       "    <tr>\n",
       "      <th>4</th>\n",
       "      <td>0.06905</td>\n",
       "      <td>0.0</td>\n",
       "      <td>2.18</td>\n",
       "      <td>0.0</td>\n",
       "      <td>0.458</td>\n",
       "      <td>7.147</td>\n",
       "      <td>54.2</td>\n",
       "      <td>6.0622</td>\n",
       "      <td>3.0</td>\n",
       "      <td>222.0</td>\n",
       "      <td>18.7</td>\n",
       "      <td>396.90</td>\n",
       "      <td>5.33</td>\n",
       "    </tr>\n",
       "  </tbody>\n",
       "</table>\n",
       "</div>"
      ],
      "text/plain": [
       "      CRIM    ZN  INDUS  CHAS    NOX     RM   AGE     DIS  RAD    TAX  \\\n",
       "0  0.00632  18.0   2.31   0.0  0.538  6.575  65.2  4.0900  1.0  296.0   \n",
       "1  0.02731   0.0   7.07   0.0  0.469  6.421  78.9  4.9671  2.0  242.0   \n",
       "2  0.02729   0.0   7.07   0.0  0.469  7.185  61.1  4.9671  2.0  242.0   \n",
       "3  0.03237   0.0   2.18   0.0  0.458  6.998  45.8  6.0622  3.0  222.0   \n",
       "4  0.06905   0.0   2.18   0.0  0.458  7.147  54.2  6.0622  3.0  222.0   \n",
       "\n",
       "   PTRATIO       B  LSTAT  \n",
       "0     15.3  396.90   4.98  \n",
       "1     17.8  396.90   9.14  \n",
       "2     17.8  392.83   4.03  \n",
       "3     18.7  394.63   2.94  \n",
       "4     18.7  396.90   5.33  "
      ]
     },
     "execution_count": 5,
     "metadata": {},
     "output_type": "execute_result"
    }
   ],
   "source": [
    "X.head()"
   ]
  },
  {
   "cell_type": "code",
   "execution_count": 6,
   "metadata": {},
   "outputs": [
    {
     "data": {
      "text/html": [
       "<div>\n",
       "<style scoped>\n",
       "    .dataframe tbody tr th:only-of-type {\n",
       "        vertical-align: middle;\n",
       "    }\n",
       "\n",
       "    .dataframe tbody tr th {\n",
       "        vertical-align: top;\n",
       "    }\n",
       "\n",
       "    .dataframe thead th {\n",
       "        text-align: right;\n",
       "    }\n",
       "</style>\n",
       "<table border=\"1\" class=\"dataframe\">\n",
       "  <thead>\n",
       "    <tr style=\"text-align: right;\">\n",
       "      <th></th>\n",
       "      <th>price</th>\n",
       "    </tr>\n",
       "  </thead>\n",
       "  <tbody>\n",
       "    <tr>\n",
       "      <th>0</th>\n",
       "      <td>24.0</td>\n",
       "    </tr>\n",
       "    <tr>\n",
       "      <th>1</th>\n",
       "      <td>21.6</td>\n",
       "    </tr>\n",
       "    <tr>\n",
       "      <th>2</th>\n",
       "      <td>34.7</td>\n",
       "    </tr>\n",
       "    <tr>\n",
       "      <th>3</th>\n",
       "      <td>33.4</td>\n",
       "    </tr>\n",
       "    <tr>\n",
       "      <th>4</th>\n",
       "      <td>36.2</td>\n",
       "    </tr>\n",
       "  </tbody>\n",
       "</table>\n",
       "</div>"
      ],
      "text/plain": [
       "   price\n",
       "0   24.0\n",
       "1   21.6\n",
       "2   34.7\n",
       "3   33.4\n",
       "4   36.2"
      ]
     },
     "execution_count": 6,
     "metadata": {},
     "output_type": "execute_result"
    }
   ],
   "source": [
    "y.head()"
   ]
  },
  {
   "cell_type": "code",
   "execution_count": 7,
   "metadata": {},
   "outputs": [],
   "source": [
    "X_train, X_test, y_train, y_test = train_test_split(X, y, test_size=0.2, shuffle=True)"
   ]
  },
  {
   "cell_type": "code",
   "execution_count": 8,
   "metadata": {},
   "outputs": [],
   "source": [
    "model = LinearRegression()\n",
    "# 모델을 정의"
   ]
  },
  {
   "cell_type": "code",
   "execution_count": 9,
   "metadata": {},
   "outputs": [
    {
     "data": {
      "text/plain": [
       "LinearRegression(copy_X=True, fit_intercept=True, n_jobs=None,\n",
       "         normalize=False)"
      ]
     },
     "execution_count": 9,
     "metadata": {},
     "output_type": "execute_result"
    }
   ],
   "source": [
    "model.fit(X, y)\n",
    "# 바로 학습"
   ]
  },
  {
   "cell_type": "code",
   "execution_count": 776,
   "metadata": {},
   "outputs": [
    {
     "data": {
      "text/plain": [
       "array([-1.08011358e-01,  4.64204584e-02,  2.05586264e-02,  2.68673382e+00,\n",
       "       -1.77666112e+01,  3.80986521e+00,  6.92224640e-04, -1.47556685e+00,\n",
       "        3.06049479e-01, -1.23345939e-02, -9.52747232e-01,  9.31168327e-03,\n",
       "       -5.24758378e-01])"
      ]
     },
     "execution_count": 776,
     "metadata": {},
     "output_type": "execute_result"
    }
   ],
   "source": [
    "model.coef_[0]\n",
    "# 현재 정의되어 있는 weight를 볼 수 있다."
   ]
  },
  {
   "cell_type": "code",
   "execution_count": 10,
   "metadata": {},
   "outputs": [
    {
     "data": {
      "text/plain": [
       "array([-1.08011358e-01,  4.64204584e-02,  2.05586264e-02,  2.68673382e+00,\n",
       "       -1.77666112e+01,  3.80986521e+00,  6.92224640e-04, -1.47556685e+00,\n",
       "        3.06049479e-01, -1.23345939e-02, -9.52747232e-01,  9.31168327e-03,\n",
       "       -5.24758378e-01])"
      ]
     },
     "execution_count": 10,
     "metadata": {},
     "output_type": "execute_result"
    }
   ],
   "source": [
    "model.coef_.reshape(-1)"
   ]
  },
  {
   "cell_type": "code",
   "execution_count": 11,
   "metadata": {},
   "outputs": [
    {
     "data": {
      "text/plain": [
       "array([36.45948839])"
      ]
     },
     "execution_count": 11,
     "metadata": {},
     "output_type": "execute_result"
    }
   ],
   "source": [
    "model.intercept_\n",
    "# weight zero. 상수항 "
   ]
  },
  {
   "cell_type": "code",
   "execution_count": 12,
   "metadata": {},
   "outputs": [
    {
     "data": {
      "text/plain": [
       "array([-1.08011358e-01,  4.64204584e-02,  2.05586264e-02,  2.68673382e+00,\n",
       "       -1.77666112e+01,  3.80986521e+00,  6.92224640e-04, -1.47556685e+00,\n",
       "        3.06049479e-01, -1.23345939e-02, -9.52747232e-01,  9.31168327e-03,\n",
       "       -5.24758378e-01])"
      ]
     },
     "execution_count": 12,
     "metadata": {},
     "output_type": "execute_result"
    }
   ],
   "source": [
    "model.coef_.reshape(-1)"
   ]
  },
  {
   "cell_type": "code",
   "execution_count": 13,
   "metadata": {},
   "outputs": [
    {
     "name": "stdout",
     "output_type": "stream",
     "text": [
      "('CRIM', -0.10801135783679539)\n",
      "('ZN', 0.04642045836687953)\n",
      "('INDUS', 0.020558626367068917)\n",
      "('CHAS', 2.6867338193448442)\n",
      "('NOX', -17.766611228299986)\n",
      "('RM', 3.8098652068092282)\n",
      "('AGE', 0.0006922246403431768)\n",
      "('DIS', -1.47556684560025)\n",
      "('RAD', 0.30604947898516427)\n",
      "('TAX', -0.012334593916574021)\n",
      "('PTRATIO', -0.9527472317072921)\n",
      "('B', 0.00931168327379375)\n",
      "('LSTAT', -0.5247583778554881)\n",
      "intercept [36.45948839]\n"
     ]
    }
   ],
   "source": [
    "for feature in zip(boston['feature_names'], model.coef_.reshape(-1)):\n",
    "    print(feature)\n",
    "print('intercept', model.intercept_)\n",
    "# NOX가 가장 큰 영향을 미치는 것을 알 수 있다."
   ]
  },
  {
   "cell_type": "code",
   "execution_count": 14,
   "metadata": {},
   "outputs": [
    {
     "data": {
      "text/plain": [
       "0.741060985671318"
      ]
     },
     "execution_count": 14,
     "metadata": {},
     "output_type": "execute_result"
    }
   ],
   "source": [
    "model.score(X_train, y_train)"
   ]
  },
  {
   "cell_type": "code",
   "execution_count": 15,
   "metadata": {},
   "outputs": [
    {
     "data": {
      "text/plain": [
       "0.734208001442491"
      ]
     },
     "execution_count": 15,
     "metadata": {},
     "output_type": "execute_result"
    }
   ],
   "source": [
    "model.score(X_test, y_test)"
   ]
  },
  {
   "cell_type": "code",
   "execution_count": null,
   "metadata": {},
   "outputs": [],
   "source": []
  },
  {
   "cell_type": "markdown",
   "metadata": {},
   "source": [
    "# Ridge Regression"
   ]
  },
  {
   "cell_type": "code",
   "execution_count": 16,
   "metadata": {},
   "outputs": [],
   "source": [
    "X, y = load_extended_boston()"
   ]
  },
  {
   "cell_type": "code",
   "execution_count": 19,
   "metadata": {},
   "outputs": [
    {
     "data": {
      "text/plain": [
       "104"
      ]
     },
     "execution_count": 19,
     "metadata": {},
     "output_type": "execute_result"
    }
   ],
   "source": [
    "len(X[0])\n",
    "# feature의 개수 \n",
    "# 이전에 비해 feature의 개수가 많아져서 과적합이 일어날 가능성이 높아졌다."
   ]
  },
  {
   "cell_type": "code",
   "execution_count": 20,
   "metadata": {},
   "outputs": [],
   "source": [
    "X_train, X_test, y_train, y_test = train_test_split(X, y, test_size=0.2, shuffle=True, random_state=0)"
   ]
  },
  {
   "cell_type": "code",
   "execution_count": 21,
   "metadata": {},
   "outputs": [
    {
     "data": {
      "text/plain": [
       "LinearRegression(copy_X=True, fit_intercept=True, n_jobs=None,\n",
       "         normalize=False)"
      ]
     },
     "execution_count": 21,
     "metadata": {},
     "output_type": "execute_result"
    }
   ],
   "source": [
    "lm = LinearRegression()\n",
    "lm.fit(X_train, y_train)"
   ]
  },
  {
   "cell_type": "code",
   "execution_count": 22,
   "metadata": {},
   "outputs": [
    {
     "data": {
      "text/plain": [
       "0.9490240966612833"
      ]
     },
     "execution_count": 22,
     "metadata": {},
     "output_type": "execute_result"
    }
   ],
   "source": [
    "lm.score(X_train, y_train)"
   ]
  },
  {
   "cell_type": "code",
   "execution_count": 23,
   "metadata": {},
   "outputs": [
    {
     "data": {
      "text/plain": [
       "0.6158858584078775"
      ]
     },
     "execution_count": 23,
     "metadata": {},
     "output_type": "execute_result"
    }
   ],
   "source": [
    "lm.score(X_test, y_test)"
   ]
  },
  {
   "cell_type": "code",
   "execution_count": 24,
   "metadata": {},
   "outputs": [
    {
     "data": {
      "text/plain": [
       "array([-4.90159819e+02, -4.00626206e+01, -1.25287218e+02, -8.91375244e+00,\n",
       "       -8.06560621e+00,  3.28101194e+01,  4.65516841e+01, -6.27045004e+01,\n",
       "        2.87358042e+01,  3.34139738e+01, -6.80132101e-01, -9.31619287e+00,\n",
       "       -1.61133582e+01,  1.21301779e+01,  2.21565994e+03,  1.53054044e+03,\n",
       "        1.24461620e+02, -1.27347248e+01,  4.24938302e+01, -3.54781532e+01,\n",
       "        8.91645918e+00,  1.22299456e+03, -2.15366399e+03,  2.74716329e+02,\n",
       "       -1.41233559e+00,  4.33324936e+01, -1.24082513e+01, -1.69004641e+01,\n",
       "       -6.04317656e+00, -8.15771683e+01,  9.02286325e+00,  4.10360549e-01,\n",
       "       -3.67270441e+00, -7.08564514e+00,  3.56048971e+01, -1.22564863e+01,\n",
       "        5.79039071e+01, -1.52297806e+01,  3.98426090e+01,  5.64809836e+00,\n",
       "        1.89043119e-01,  5.46913714e+01,  1.85814845e+01,  5.47572005e+01,\n",
       "       -4.58182836e+01,  2.16098573e+01, -1.01744270e+01,  5.46020392e+01,\n",
       "       -1.78903568e+01, -8.91375244e+00, -1.71954300e+01, -3.15047685e+01,\n",
       "        2.78399230e+00,  2.27112765e+00,  1.45281400e+01, -1.04841792e+01,\n",
       "       -9.52158347e+00,  4.64199952e+01, -1.40725252e+01, -2.49545446e+00,\n",
       "        2.49619128e+01, -1.36250586e+01,  8.70203229e+01, -3.27151211e+01,\n",
       "        5.53374978e+01, -4.96364911e+01,  2.10904061e+00,  2.39366870e+01,\n",
       "        2.14171750e+01, -4.64073871e+01,  2.69086034e+01,  9.06789867e+00,\n",
       "       -7.06381442e+01, -2.55903479e+01,  1.00391892e+01, -6.14801631e+00,\n",
       "        2.65660264e+00,  3.26416107e+00,  4.01543979e+01, -3.68823252e+01,\n",
       "       -5.64711473e+00, -2.32864107e+01, -3.19793810e+01,  5.33311471e+01,\n",
       "       -2.67324621e+01, -1.50875712e+01, -1.85014087e+01, -1.54121310e+01,\n",
       "        3.24131091e+01, -8.99503967e+01,  1.50482894e+02, -2.04257821e+01,\n",
       "       -1.31895526e+01, -2.78622507e+01, -3.46129966e+01,  2.40830654e+01,\n",
       "       -1.70819475e+01,  2.09266607e+00,  4.75613160e+00,  2.68408414e+01,\n",
       "        1.08100271e+01, -1.49307902e+00,  1.40969740e+00,  3.08628470e+01])"
      ]
     },
     "execution_count": 24,
     "metadata": {},
     "output_type": "execute_result"
    }
   ],
   "source": [
    "lm.coef_"
   ]
  },
  {
   "cell_type": "code",
   "execution_count": 44,
   "metadata": {},
   "outputs": [
    {
     "data": {
      "text/plain": [
       "<BarContainer object of 104 artists>"
      ]
     },
     "execution_count": 44,
     "metadata": {},
     "output_type": "execute_result"
    },
    {
     "data": {
      "image/png": "[encoded data removed]",
      "text/plain": [
       "<Figure size 1440x720 with 1 Axes>"
      ]
     },
     "metadata": {
      "needs_background": "light"
     },
     "output_type": "display_data"
    }
   ],
   "source": [
    "from matplotlib import pyplot as plt\n",
    "plt.figure(figsize=(20,10)) # 해당 캔버스를 정한다. figsize로 크기 결정\n",
    "plt.bar(np.arange(len(lm.coef_)), np.sort(lm.coef_, axis=0))\n",
    "# bar형 그래프를 그리고, 첫번째가 x 인자(가중치의 개수만큼 인덱스 생성), y값이 데이터를 정렬)\n",
    "# sort 정렬\n",
    "# coefficient는 정렬 (열벡터)\n",
    "# axis = 축이 0이다 축을 열로 하겠다. "
   ]
  },
  {
   "cell_type": "code",
   "execution_count": 26,
   "metadata": {},
   "outputs": [
    {
     "data": {
      "text/plain": [
       "<BarContainer object of 104 artists>"
      ]
     },
     "execution_count": 26,
     "metadata": {},
     "output_type": "execute_result"
    },
    {
     "data": {
      "image/png": "[encoded data removed]",
      "text/plain": [
       "<Figure size 1440x720 with 1 Axes>"
      ]
     },
     "metadata": {
      "needs_background": "light"
     },
     "output_type": "display_data"
    }
   ],
   "source": [
    "plt.figure(figsize=(20,10))\n",
    "plt.bar(np.arange(len(lm.coef_)), np.sort(lm.coef_, axis=0))\n"
   ]
  },
  {
   "cell_type": "markdown",
   "metadata": {},
   "source": [
    "# Ridge"
   ]
  },
  {
   "cell_type": "code",
   "execution_count": 39,
   "metadata": {},
   "outputs": [
    {
     "data": {
      "text/plain": [
       "Ridge(alpha=0.1, copy_X=True, fit_intercept=True, max_iter=None,\n",
       "   normalize=False, random_state=None, solver='auto', tol=0.001)"
      ]
     },
     "execution_count": 39,
     "metadata": {},
     "output_type": "execute_result"
    }
   ],
   "source": [
    "Rm = Ridge(alpha=0.1)\n",
    "# alpha 값의 정확한 의미? : \n",
    "Rm.fit(X_train, y_train)"
   ]
  },
  {
   "cell_type": "code",
   "execution_count": 40,
   "metadata": {},
   "outputs": [
    {
     "data": {
      "text/plain": [
       "0.9261926604874953"
      ]
     },
     "execution_count": 40,
     "metadata": {},
     "output_type": "execute_result"
    }
   ],
   "source": [
    "Rm.score(X_train, y_train)"
   ]
  },
  {
   "cell_type": "code",
   "execution_count": 41,
   "metadata": {},
   "outputs": [
    {
     "data": {
      "text/plain": [
       "0.7463824108919297"
      ]
     },
     "execution_count": 41,
     "metadata": {},
     "output_type": "execute_result"
    }
   ],
   "source": [
    "Rm.score(X_test, y_test)"
   ]
  },
  {
   "cell_type": "code",
   "execution_count": 42,
   "metadata": {},
   "outputs": [
    {
     "data": {
      "text/plain": [
       "<BarContainer object of 104 artists>"
      ]
     },
     "execution_count": 42,
     "metadata": {},
     "output_type": "execute_result"
    },
    {
     "data": {
      "image/png": "[encoded data removed]",
      "text/plain": [
       "<Figure size 1440x720 with 1 Axes>"
      ]
     },
     "metadata": {
      "needs_background": "light"
     },
     "output_type": "display_data"
    }
   ],
   "source": [
    "from matplotlib import pyplot as plt\n",
    "plt.figure(figsize=(20,10))\n",
    "plt.bar(np.arange(len(Rm.coef_)), np.sort(Rm.coef_, axis=0))\n",
    "# 규제에 따라서 machine이 learning이 학습을 다르게 하였다. alpha값에 의해서. \n",
    "# for문을 돌려서 최적의 alpha 값을 찾아낼 수 있다."
   ]
  },
  {
   "cell_type": "code",
   "execution_count": 46,
   "metadata": {},
   "outputs": [
    {
     "name": "stdout",
     "output_type": "stream",
     "text": [
      "alpha:0.0, train: 0.949024096661283, test: 0.61588585839754\n",
      "alpha:0.1, train: 0.9261926604874953, test: 0.7463824108919297\n",
      "alpha:0.2, train: 0.9183092048526234, test: 0.7483699744604826\n",
      "alpha:0.3, train: 0.9123282530642607, test: 0.746069787083119\n",
      "alpha:0.4, train: 0.9072989000889832, test: 0.7427602446356624\n",
      "alpha:0.5, train: 0.902879416235023, test: 0.7391528134070406\n",
      "alpha:0.6, train: 0.8988994292523822, test: 0.735483607189646\n",
      "alpha:0.7, train: 0.8952587207175312, test: 0.7318475397585713\n",
      "alpha:0.8, train: 0.8918919158110435, test: 0.7282862105324313\n",
      "alpha:0.9, train: 0.8887532342331406, test: 0.7248179421659836\n",
      "alpha:1.0, train: 0.885808929210358, test: 0.7214499108060962\n",
      "alpha:1.1, train: 0.8830331463662006, test: 0.7181836425473915\n",
      "alpha:1.2, train: 0.8804054770468998, test: 0.7150177179456932\n",
      "alpha:1.3, train: 0.8779094238671834, test: 0.7119491844859882\n",
      "alpha:1.4, train: 0.8755313910021427, test: 0.7089743261797231\n",
      "alpha:1.5, train: 0.8732599931262279, test: 0.706089094839196\n",
      "alpha:1.6, train: 0.8710855667401086, test: 0.7032893553698707\n",
      "alpha:1.7, train: 0.8689998149890805, test: 0.7005710253305573\n",
      "alpha:1.8, train: 0.8669955433977435, test: 0.6979301528497288\n",
      "alpha:1.9, train: 0.8650664592488881, test: 0.6953629579629487\n",
      "alpha:2.0, train: 0.8632070165863428, test: 0.692865852022828\n",
      "alpha:2.1, train: 0.8614122946086359, test: 0.6904354439388555\n",
      "alpha:2.2, train: 0.8596779009499044, test: 0.6880685385731447\n",
      "alpha:2.3, train: 0.8579998938121982, test: 0.6857621305727839\n",
      "alpha:2.4, train: 0.8563747185847084, test: 0.6835133956758762\n",
      "alpha:2.5, train: 0.8547991557412453, test: 0.6813196807597874\n",
      "alpha:2.6, train: 0.853270277621602, test: 0.6791784934188363\n",
      "alpha:2.7, train: 0.8517854122858609, test: 0.6770874915542869\n",
      "alpha:2.8, train: 0.8503421130550799, test: 0.6750444732656307\n",
      "alpha:2.9, train: 0.8489381326647922, test: 0.6730473672083144\n",
      "alpha:3.0, train: 0.847571401191505, test: 0.6710942235039737\n",
      "alpha:3.1, train: 0.8462400070889997, test: 0.6691832052390522\n",
      "alpha:3.2, train: 0.8449421808060974, test: 0.6673125805562509\n",
      "alpha:3.3, train: 0.8436762805615533, test: 0.6654807153240185\n",
      "alpha:3.4, train: 0.8424407799326772, test: 0.6636860663580488\n",
      "alpha:3.5, train: 0.8412342569777992, test: 0.6619271751626454\n",
      "alpha:3.6, train: 0.8400553846629523, test: 0.6602026621570851\n",
      "alpha:3.7, train: 0.8389029224031912, test: 0.6585112213514797\n",
      "alpha:3.8, train: 0.8377757085611135, test: 0.6568516154373449\n",
      "alpha:3.9, train: 0.8366726537711141, test: 0.6552226712595727\n",
      "alpha:4.0, train: 0.8355927349790132, test: 0.6536232756384401\n",
      "alpha:4.1, train: 0.8345349901039573, test: 0.6520523715124305\n",
      "alpha:4.2, train: 0.833498513243683, test: 0.6505089543748463\n",
      "alpha:4.3, train: 0.8324824503559622, test: 0.6489920689793712\n",
      "alpha:4.4, train: 0.8314859953587903, test: 0.6475008062918333\n",
      "alpha:4.5, train: 0.8305083866000111, test: 0.6460343006673808\n",
      "alpha:4.6, train: 0.8295489036538908, test: 0.6445917272341277\n",
      "alpha:4.7, train: 0.8286068644078912, test: 0.6431722994660105\n",
      "alpha:4.8, train: 0.8276816224077532, test: 0.6417752669291605\n",
      "alpha:4.9, train: 0.8267725644331148, test: 0.6403999131875064\n",
      "alpha:5.0, train: 0.8258791082794041, test: 0.6390455538546157\n",
      "alpha:5.1, train: 0.8250007007247524, test: 0.6377115347799569\n",
      "alpha:5.2, train: 0.8241368156632403, test: 0.6363972303588238\n",
      "alpha:5.3, train: 0.8232869523880214, test: 0.635102041956126\n",
      "alpha:5.4, train: 0.822450634009773, test: 0.6338253964351206\n",
      "alpha:5.5, train: 0.8216274059975908, test: 0.6325667447829459\n",
      "alpha:5.6, train: 0.8208168348308842, test: 0.6313255608255335\n",
      "alpha:5.7, train: 0.8200185067520884, test: 0.6301013400251121\n",
      "alpha:5.8, train: 0.8192320266111048, test: 0.6288935983541104\n",
      "alpha:5.9, train: 0.8184570167933465, test: 0.6277018712397835\n",
      "alpha:6.0, train: 0.8176931162241112, test: 0.6265257125743751\n",
      "alpha:6.1, train: 0.8169399794427457, test: 0.6253646937860525\n",
      "alpha:6.2, train: 0.8161972757407244, test: 0.624218402966256\n",
      "alpha:6.3, train: 0.8154646883583463, test: 0.6230864440494495\n",
      "alpha:6.4, train: 0.814741913735267, test: 0.6219684360415954\n",
      "alpha:6.5, train: 0.8140286608105434, test: 0.620864012293964\n",
      "alpha:6.6, train: 0.8133246503682705, test: 0.6197728198191599\n",
      "alpha:6.7, train: 0.8126296144252619, test: 0.6186945186464945\n",
      "alpha:6.8, train: 0.8119432956575372, test: 0.6176287812140544\n",
      "alpha:6.9, train: 0.8112654468626821, test: 0.6165752917950202\n",
      "alpha:7.0, train: 0.8105958304554013, test: 0.6155337459559796\n",
      "alpha:7.1, train: 0.8099342179938174, test: 0.6145038500451419\n",
      "alpha:7.2, train: 0.8092803897342835, test: 0.6134853207085273\n",
      "alpha:7.3, train: 0.8086341342126628, test: 0.6124778844323389\n",
      "alpha:7.4, train: 0.8079952478502037, test: 0.6114812771098572\n",
      "alpha:7.5, train: 0.8073635345822892, test: 0.6104952436313243\n",
      "alpha:7.6, train: 0.8067388055084836, test: 0.6095195374953862\n",
      "alpha:7.7, train: 0.8061208785624251, test: 0.6085539204407677\n",
      "alpha:7.8, train: 0.8055095782002242, test: 0.6075981620969493\n",
      "alpha:7.9, train: 0.8049047351061422, test: 0.6066520396526978\n",
      "alpha:8.0, train: 0.8043061859144087, test: 0.6057153375413824\n",
      "alpha:8.1, train: 0.8037137729461299, test: 0.6047878471420853\n",
      "alpha:8.2, train: 0.8031273439603199, test: 0.6038693664955755\n",
      "alpha:8.3, train: 0.8025467519181548, test: 0.6029597000342856\n",
      "alpha:8.4, train: 0.8019718547596194, test: 0.6020586583254797\n",
      "alpha:8.5, train: 0.8014025151917761, test: 0.6011660578268638\n",
      "alpha:8.6, train: 0.8008386004879404, test: 0.6002817206539306\n",
      "alpha:8.7, train: 0.8002799822971012, test: 0.599405474358381\n",
      "alpha:8.8, train: 0.7997265364629638, test: 0.5985371517170055\n",
      "alpha:8.9, train: 0.7991781428520484, test: 0.5976765905304489\n",
      "alpha:9.0, train: 0.7986346851903038, test: 0.5968236334313176\n",
      "alpha:9.1, train: 0.7980960509077425, test: 0.5959781277011207\n",
      "alpha:9.2, train: 0.7975621309906298, test: 0.5951399250955731\n",
      "alpha:9.3, train: 0.7970328198407977, test: 0.5943088816778097\n",
      "alpha:9.4, train: 0.7965080151416752, test: 0.5934848576590974\n",
      "alpha:9.5, train: 0.7959876177306604, test: 0.5926677172466437\n",
      "alpha:9.6, train: 0.7954715314774787, test: 0.5918573284981425\n",
      "alpha:9.7, train: 0.7949596631681992, test: 0.5910535631826979\n",
      "alpha:9.8, train: 0.7944519223945973, test: 0.590256296647807\n",
      "alpha:9.9, train: 0.7939482214485748, test: 0.58946540769209\n"
     ]
    },
    {
     "name": "stderr",
     "output_type": "stream",
     "text": [
      "C:\\ProgramData\\Anaconda3\\lib\\site-packages\\sklearn\\linear_model\\ridge.py:125: LinAlgWarning: Ill-conditioned matrix (rcond=2.12548e-18): result may not be accurate.\n",
      "  overwrite_a=True).T\n"
     ]
    }
   ],
   "source": [
    "minimum_score = -100\n",
    "minimum_alpha = 0\n",
    "best_model = None\n",
    "for i in list(range(0, 100, 1)):\n",
    "    i = i/10\n",
    "    \n",
    "    rm = Ridge(alpha=i)\n",
    "    rm.fit(X_train, y_train)\n",
    "    \n",
    "    \n",
    "    train_score = rm.score(X_train, y_train)\n",
    "    test_score = rm.score(X_test, y_test)\n",
    "    print('alpha:{}, train: {}, test: {}'.format(i, train_score, test_score))\n",
    "    if minimum_score < test_score:\n",
    "        minimum_score = test_score\n",
    "        minimum_alpha = i\n",
    "        best_model = rm\n",
    "\n",
    "        "
   ]
  },
  {
   "cell_type": "code",
   "execution_count": 47,
   "metadata": {},
   "outputs": [
    {
     "data": {
      "text/plain": [
       "Ridge(alpha=0.2, copy_X=True, fit_intercept=True, max_iter=None,\n",
       "   normalize=False, random_state=None, solver='auto', tol=0.001)"
      ]
     },
     "execution_count": 47,
     "metadata": {},
     "output_type": "execute_result"
    }
   ],
   "source": [
    "best_model"
   ]
  },
  {
   "cell_type": "code",
   "execution_count": 48,
   "metadata": {
    "scrolled": true
   },
   "outputs": [
    {
     "data": {
      "text/plain": [
       "<BarContainer object of 104 artists>"
      ]
     },
     "execution_count": 48,
     "metadata": {},
     "output_type": "execute_result"
    },
    {
     "data": {
      "image/png": "[encoded data removed]",
      "text/plain": [
       "<Figure size 1440x720 with 1 Axes>"
      ]
     },
     "metadata": {
      "needs_background": "light"
     },
     "output_type": "display_data"
    }
   ],
   "source": [
    "n = np.arange(len(best_model.coef_))\n",
    "\n",
    "plt.figure(figsize=(20,10))\n",
    "plt.bar(n, np.sort(best_model.coef_, axis=0))"
   ]
  },
  {
   "cell_type": "markdown",
   "metadata": {},
   "source": [
    "### 번외. alpha값이 10이라면 어떨까?"
   ]
  },
  {
   "cell_type": "code",
   "execution_count": 51,
   "metadata": {},
   "outputs": [
    {
     "name": "stdout",
     "output_type": "stream",
     "text": [
      "alpha:10, train: 0.7934484752213662, test: 0.5886807784434769\n"
     ]
    }
   ],
   "source": [
    "rm = Ridge(alpha=10)\n",
    "rm.fit(X_train, y_train)\n",
    "    \n",
    "train_score = rm.score(X_train, y_train)\n",
    "test_score = rm.score(X_test, y_test)\n",
    "print('alpha:{}, train: {}, test: {}'.format(10, train_score, test_score))\n"
   ]
  },
  {
   "cell_type": "code",
   "execution_count": 52,
   "metadata": {},
   "outputs": [
    {
     "data": {
      "text/plain": [
       "array([-8.46596122e-01,  6.98887151e-01, -7.49726146e-01,  3.96192053e-01,\n",
       "       -7.06694931e-01,  4.39539381e+00, -1.27269906e-01, -2.42262667e+00,\n",
       "        7.99201321e-01, -1.15243951e+00, -2.42142871e+00,  1.10549698e+00,\n",
       "       -4.04722530e+00, -6.04302164e-01,  2.58335072e-03, -5.42627287e-01,\n",
       "        1.42467387e-01, -6.68475786e-01, -7.74903480e-01, -7.85007065e-01,\n",
       "       -4.30374717e-02, -8.65434158e-01, -7.84519815e-01, -7.03140358e-01,\n",
       "       -9.01398950e-01, -3.37628833e-01,  1.42580164e+00, -3.75181858e-01,\n",
       "        5.69651264e-01,  2.20488135e-01,  2.21348500e+00,  8.08756106e-02,\n",
       "       -2.78410363e-01,  1.06340354e-01, -4.19045695e-01, -4.60997581e-01,\n",
       "        7.59655147e-01, -7.25234065e-01,  8.30374344e-01,  2.95622158e-01,\n",
       "       -6.04369784e-01, -7.13193257e-01,  1.76468045e-01, -1.05122606e+00,\n",
       "        4.92900548e-01,  5.53020330e-01, -4.25085469e-01, -1.86301618e-02,\n",
       "       -1.38468210e+00,  3.96192053e-01, -6.67255566e-01,  7.77413372e-01,\n",
       "        3.93261655e-01,  3.83176583e-02,  1.26548547e+00,  1.04647011e+00,\n",
       "        4.82421461e-01,  5.67314568e-01, -1.01371811e+00, -1.51986228e+00,\n",
       "       -1.07034082e-01, -9.34392429e-01, -4.36243885e-01, -6.21348138e-01,\n",
       "       -8.95901129e-01, -1.16044602e+00,  3.26829285e-01, -1.81309696e+00,\n",
       "        7.06676195e+00,  1.48552645e+00,  4.04909274e-01, -1.38234781e+00,\n",
       "       -1.94562089e+00, -1.49354004e+00,  5.51834406e+00, -2.97839652e+00,\n",
       "        3.03705162e-01, -1.45282302e+00,  5.54462016e-01, -3.96162818e-01,\n",
       "       -1.71694488e+00,  6.63332047e-01, -2.99337083e+00, -1.26295692e+00,\n",
       "       -3.55240999e-01, -1.09546552e+00, -1.70645994e+00, -2.22038163e+00,\n",
       "       -1.30540178e+00,  9.69821963e-01,  6.80401561e-01,  2.66320915e-01,\n",
       "        1.28260067e+00, -1.79950895e+00,  3.87617372e-01, -4.37291438e-01,\n",
       "       -4.51079830e-01, -2.04317927e+00, -1.44623536e+00, -1.85990851e+00,\n",
       "       -2.04159912e+00,  9.90098040e-01, -4.04503477e+00,  2.33117583e-01])"
      ]
     },
     "execution_count": 52,
     "metadata": {},
     "output_type": "execute_result"
    }
   ],
   "source": [
    "rm.coef_"
   ]
  },
  {
   "cell_type": "markdown",
   "metadata": {},
   "source": [
    "### cross validation with Ridge"
   ]
  },
  {
   "cell_type": "code",
   "execution_count": 53,
   "metadata": {},
   "outputs": [
    {
     "name": "stderr",
     "output_type": "stream",
     "text": [
      "C:\\ProgramData\\Anaconda3\\lib\\site-packages\\sklearn\\linear_model\\ridge.py:125: LinAlgWarning: Ill-conditioned matrix (rcond=2.12548e-18): result may not be accurate.\n",
      "  overwrite_a=True).T\n",
      "C:\\ProgramData\\Anaconda3\\lib\\site-packages\\sklearn\\linear_model\\ridge.py:125: LinAlgWarning: Ill-conditioned matrix (rcond=9.41362e-19): result may not be accurate.\n",
      "  overwrite_a=True).T\n"
     ]
    },
    {
     "name": "stdout",
     "output_type": "stream",
     "text": [
      "alpha:0.0, train: 0.949024096661283, test: 0.61588585839754\n",
      "alpha:0.1, train: 0.9261926604874953, test: 0.7463824108919297\n",
      "alpha:0.2, train: 0.9183092048526234, test: 0.7483699744604826\n",
      "alpha:0.3, train: 0.9123282530642607, test: 0.746069787083119\n",
      "alpha:0.4, train: 0.9072989000889832, test: 0.7427602446356624\n",
      "alpha:0.5, train: 0.902879416235023, test: 0.7391528134070406\n",
      "alpha:0.6, train: 0.8988994292523822, test: 0.735483607189646\n",
      "alpha:0.7, train: 0.8952587207175312, test: 0.7318475397585713\n",
      "alpha:0.8, train: 0.8918919158110435, test: 0.7282862105324313\n",
      "alpha:0.9, train: 0.8887532342331406, test: 0.7248179421659836\n",
      "alpha:1.0, train: 0.885808929210358, test: 0.7214499108060962\n",
      "alpha:1.1, train: 0.8830331463662006, test: 0.7181836425473915\n",
      "alpha:1.2, train: 0.8804054770468998, test: 0.7150177179456932\n",
      "alpha:1.3, train: 0.8779094238671834, test: 0.7119491844859882\n",
      "alpha:1.4, train: 0.8755313910021427, test: 0.7089743261797231\n",
      "alpha:1.5, train: 0.8732599931262279, test: 0.706089094839196\n",
      "alpha:1.6, train: 0.8710855667401086, test: 0.7032893553698707\n",
      "alpha:1.7, train: 0.8689998149890805, test: 0.7005710253305573\n",
      "alpha:1.8, train: 0.8669955433977435, test: 0.6979301528497288\n",
      "alpha:1.9, train: 0.8650664592488881, test: 0.6953629579629487\n",
      "alpha:2.0, train: 0.8632070165863428, test: 0.692865852022828\n",
      "alpha:2.1, train: 0.8614122946086359, test: 0.6904354439388555\n",
      "alpha:2.2, train: 0.8596779009499044, test: 0.6880685385731447\n",
      "alpha:2.3, train: 0.8579998938121982, test: 0.6857621305727839\n",
      "alpha:2.4, train: 0.8563747185847084, test: 0.6835133956758762\n",
      "alpha:2.5, train: 0.8547991557412453, test: 0.6813196807597874\n",
      "alpha:2.6, train: 0.853270277621602, test: 0.6791784934188363\n",
      "alpha:2.7, train: 0.8517854122858609, test: 0.6770874915542869\n",
      "alpha:2.8, train: 0.8503421130550799, test: 0.6750444732656307\n",
      "alpha:2.9, train: 0.8489381326647922, test: 0.6730473672083144\n",
      "alpha:3.0, train: 0.847571401191505, test: 0.6710942235039737\n",
      "alpha:3.1, train: 0.8462400070889997, test: 0.6691832052390522\n",
      "alpha:3.2, train: 0.8449421808060974, test: 0.6673125805562509\n",
      "alpha:3.3, train: 0.8436762805615533, test: 0.6654807153240185\n",
      "alpha:3.4, train: 0.8424407799326772, test: 0.6636860663580488\n",
      "alpha:3.5, train: 0.8412342569777992, test: 0.6619271751626454\n",
      "alpha:3.6, train: 0.8400553846629523, test: 0.6602026621570851\n",
      "alpha:3.7, train: 0.8389029224031912, test: 0.6585112213514797\n",
      "alpha:3.8, train: 0.8377757085611135, test: 0.6568516154373449\n",
      "alpha:3.9, train: 0.8366726537711141, test: 0.6552226712595727\n",
      "alpha:4.0, train: 0.8355927349790132, test: 0.6536232756384401\n",
      "alpha:4.1, train: 0.8345349901039573, test: 0.6520523715124305\n",
      "alpha:4.2, train: 0.833498513243683, test: 0.6505089543748463\n",
      "alpha:4.3, train: 0.8324824503559622, test: 0.6489920689793712\n",
      "alpha:4.4, train: 0.8314859953587903, test: 0.6475008062918333\n",
      "alpha:4.5, train: 0.8305083866000111, test: 0.6460343006673808\n",
      "alpha:4.6, train: 0.8295489036538908, test: 0.6445917272341277\n",
      "alpha:4.7, train: 0.8286068644078912, test: 0.6431722994660105\n",
      "alpha:4.8, train: 0.8276816224077532, test: 0.6417752669291605\n",
      "alpha:4.9, train: 0.8267725644331148, test: 0.6403999131875064\n",
      "alpha:5.0, train: 0.8258791082794041, test: 0.6390455538546157\n",
      "alpha:5.1, train: 0.8250007007247524, test: 0.6377115347799569\n",
      "alpha:5.2, train: 0.8241368156632403, test: 0.6363972303588238\n",
      "alpha:5.3, train: 0.8232869523880214, test: 0.635102041956126\n",
      "alpha:5.4, train: 0.822450634009773, test: 0.6338253964351206\n",
      "alpha:5.5, train: 0.8216274059975908, test: 0.6325667447829459\n",
      "alpha:5.6, train: 0.8208168348308842, test: 0.6313255608255335\n",
      "alpha:5.7, train: 0.8200185067520884, test: 0.6301013400251121\n",
      "alpha:5.8, train: 0.8192320266111048, test: 0.6288935983541104\n",
      "alpha:5.9, train: 0.8184570167933465, test: 0.6277018712397835\n",
      "alpha:6.0, train: 0.8176931162241112, test: 0.6265257125743751\n",
      "alpha:6.1, train: 0.8169399794427457, test: 0.6253646937860525\n",
      "alpha:6.2, train: 0.8161972757407244, test: 0.624218402966256\n",
      "alpha:6.3, train: 0.8154646883583463, test: 0.6230864440494495\n",
      "alpha:6.4, train: 0.814741913735267, test: 0.6219684360415954\n",
      "alpha:6.5, train: 0.8140286608105434, test: 0.620864012293964\n",
      "alpha:6.6, train: 0.8133246503682705, test: 0.6197728198191599\n",
      "alpha:6.7, train: 0.8126296144252619, test: 0.6186945186464945\n",
      "alpha:6.8, train: 0.8119432956575372, test: 0.6176287812140544\n",
      "alpha:6.9, train: 0.8112654468626821, test: 0.6165752917950202\n",
      "alpha:7.0, train: 0.8105958304554013, test: 0.6155337459559796\n",
      "alpha:7.1, train: 0.8099342179938174, test: 0.6145038500451419\n",
      "alpha:7.2, train: 0.8092803897342835, test: 0.6134853207085273\n",
      "alpha:7.3, train: 0.8086341342126628, test: 0.6124778844323389\n",
      "alpha:7.4, train: 0.8079952478502037, test: 0.6114812771098572\n",
      "alpha:7.5, train: 0.8073635345822892, test: 0.6104952436313243\n",
      "alpha:7.6, train: 0.8067388055084836, test: 0.6095195374953862\n",
      "alpha:7.7, train: 0.8061208785624251, test: 0.6085539204407677\n",
      "alpha:7.8, train: 0.8055095782002242, test: 0.6075981620969493\n",
      "alpha:7.9, train: 0.8049047351061422, test: 0.6066520396526978\n",
      "alpha:8.0, train: 0.8043061859144087, test: 0.6057153375413824\n",
      "alpha:8.1, train: 0.8037137729461299, test: 0.6047878471420853\n",
      "alpha:8.2, train: 0.8031273439603199, test: 0.6038693664955755\n",
      "alpha:8.3, train: 0.8025467519181548, test: 0.6029597000342856\n",
      "alpha:8.4, train: 0.8019718547596194, test: 0.6020586583254797\n",
      "alpha:8.5, train: 0.8014025151917761, test: 0.6011660578268638\n",
      "alpha:8.6, train: 0.8008386004879404, test: 0.6002817206539306\n",
      "alpha:8.7, train: 0.8002799822971012, test: 0.599405474358381\n",
      "alpha:8.8, train: 0.7997265364629638, test: 0.5985371517170055\n",
      "alpha:8.9, train: 0.7991781428520484, test: 0.5976765905304489\n",
      "alpha:9.0, train: 0.7986346851903038, test: 0.5968236334313176\n",
      "alpha:9.1, train: 0.7980960509077425, test: 0.5959781277011207\n",
      "alpha:9.2, train: 0.7975621309906298, test: 0.5951399250955731\n",
      "alpha:9.3, train: 0.7970328198407977, test: 0.5943088816778097\n",
      "alpha:9.4, train: 0.7965080151416752, test: 0.5934848576590974\n",
      "alpha:9.5, train: 0.7959876177306604, test: 0.5926677172466437\n",
      "alpha:9.6, train: 0.7954715314774787, test: 0.5918573284981425\n",
      "alpha:9.7, train: 0.7949596631681992, test: 0.5910535631826979\n",
      "alpha:9.8, train: 0.7944519223945973, test: 0.590256296647807\n",
      "alpha:9.9, train: 0.7939482214485748, test: 0.58946540769209\n"
     ]
    }
   ],
   "source": [
    "minimum_score = -100\n",
    "minimum_alpha = 0\n",
    "best_model = None\n",
    "\n",
    "cross_mean = -100\n",
    "cross_alpha = 0\n",
    "cross_best = None\n",
    "\n",
    "for i in list(range(0, 100, 1)):\n",
    "    i = i/10\n",
    "    \n",
    "    rm = Ridge(alpha=i)\n",
    "    rm.fit(X_train, y_train)\n",
    "    \n",
    "    \n",
    "    train_score = rm.score(X_train, y_train)\n",
    "    test_score = rm.score(X_test, y_test)\n",
    "    \n",
    "    print('alpha:{}, train: {}, test: {}'.format(i, train_score, test_score))\n",
    "    \n",
    "    if minimum_score < test_score:\n",
    "        minimum_score = test_score\n",
    "        minimum_alpha = i\n",
    "        best_model = rm\n",
    "    \n",
    "    # cross validation scores\n",
    "    cross_scores = cross_val_score(rm, X, y, cv=5)\n",
    "    # cv로 몇번 cross validation을 할지 결정한다. \n",
    "    _cross_mean, _corss_std = cross_scores.mean(), cross_scores.std()\n",
    "        \n",
    "    if cross_mean < _cross_mean:\n",
    "        cross_mean = _cross_mean\n",
    "        cross_alpha = i\n",
    "        cross_best = rm\n",
    "\n"
   ]
  },
  {
   "cell_type": "code",
   "execution_count": 54,
   "metadata": {},
   "outputs": [
    {
     "data": {
      "text/plain": [
       "Ridge(alpha=1.0, copy_X=True, fit_intercept=True, max_iter=None,\n",
       "   normalize=False, random_state=None, solver='auto', tol=0.001)"
      ]
     },
     "execution_count": 54,
     "metadata": {},
     "output_type": "execute_result"
    }
   ],
   "source": [
    "cross_best"
   ]
  },
  {
   "cell_type": "code",
   "execution_count": 55,
   "metadata": {},
   "outputs": [
    {
     "data": {
      "text/plain": [
       "0.7214499108060962"
      ]
     },
     "execution_count": 55,
     "metadata": {},
     "output_type": "execute_result"
    }
   ],
   "source": [
    "cross_best.score(X_test, y_test)\n"
   ]
  },
  {
   "cell_type": "code",
   "execution_count": 881,
   "metadata": {},
   "outputs": [
    {
     "data": {
      "text/plain": [
       "0.8559341608869707"
      ]
     },
     "execution_count": 881,
     "metadata": {},
     "output_type": "execute_result"
    }
   ],
   "source": [
    "cross_best.score(X, y)"
   ]
  },
  {
   "cell_type": "code",
   "execution_count": 57,
   "metadata": {},
   "outputs": [
    {
     "data": {
      "text/plain": [
       "<BarContainer object of 104 artists>"
      ]
     },
     "execution_count": 57,
     "metadata": {},
     "output_type": "execute_result"
    },
    {
     "data": {
      "image/png": "[encoded data removed]",
      "text/plain": [
       "<Figure size 432x288 with 1 Axes>"
      ]
     },
     "metadata": {
      "needs_background": "light"
     },
     "output_type": "display_data"
    }
   ],
   "source": [
    "n = np.arange(len(cross_best.coef_))\n",
    "\n",
    "plt.figure(figsize=(20,20))\n",
    "plt.ylim(-2,2)\n",
    "plt.bar(n, np.sort(cross_best.coef_, axis=0))"
   ]
  },
  {
   "cell_type": "code",
   "execution_count": 58,
   "metadata": {},
   "outputs": [
    {
     "name": "stderr",
     "output_type": "stream",
     "text": [
      "C:\\ProgramData\\Anaconda3\\lib\\site-packages\\sklearn\\linear_model\\ridge.py:125: LinAlgWarning: Ill-conditioned matrix (rcond=2.12548e-18): result may not be accurate.\n",
      "  overwrite_a=True).T\n"
     ]
    },
    {
     "data": {
      "text/plain": [
       "Ridge(alpha=80, copy_X=True, fit_intercept=True, max_iter=None,\n",
       "   normalize=False, random_state=None, solver='auto', tol=0.001)"
      ]
     },
     "execution_count": 58,
     "metadata": {},
     "output_type": "execute_result"
    }
   ],
   "source": [
    "# 만약 알파값이 늘어나면??\n",
    "rm = Ridge(alpha=0) # 규제를 하지 않겠다. # linear regression과 똑같다. \n",
    "rm1 = Ridge(alpha=0.1)\n",
    "rm2 = Ridge(alpha=0.5)\n",
    "rm3 = Ridge(alpha=10)\n",
    "rm4 = Ridge(alpha=20)\n",
    "\n",
    "rm4 = Ridge(alpha=40)\n",
    "rm5 = Ridge(alpha=80)\n",
    "\n",
    "rm.fit(X_train, y_train)\n",
    "rm1.fit(X_train, y_train)\n",
    "rm2.fit(X_train, y_train)\n",
    "rm3.fit(X_train, y_train)\n",
    "rm4.fit(X_train, y_train)\n",
    "rm5.fit(X_train, y_train)"
   ]
  },
  {
   "cell_type": "code",
   "execution_count": 59,
   "metadata": {},
   "outputs": [
    {
     "data": {
      "image/png": "[encoded data removed]",
      "text/plain": [
       "<Figure size 1440x2160 with 6 Axes>"
      ]
     },
     "metadata": {
      "needs_background": "light"
     },
     "output_type": "display_data"
    }
   ],
   "source": [
    "n = np.arange(len(rm.coef_))\n",
    "\n",
    "plt.figure(figsize=(20,30))\n",
    "plt.subplot(3,2,1)\n",
    "plt.bar(n, np.sort(rm.coef_, axis=0))\n",
    "\n",
    "plt.subplot(3,2,2)\n",
    "plt.bar(n, np.sort(rm1.coef_, axis=0))\n",
    "\n",
    "plt.subplot(3,2,3)\n",
    "plt.bar(n, np.sort(rm2.coef_, axis=0))\n",
    "\n",
    "plt.subplot(3,2,4)\n",
    "plt.bar(n, np.sort(rm3.coef_, axis=0))\n",
    "\n",
    "plt.subplot(3,2,5)\n",
    "plt.bar(n, np.sort(rm4.coef_, axis=0))\n",
    "\n",
    "plt.subplot(3,2,6)\n",
    "plt.bar(n, np.sort(rm5.coef_, axis=0))\n",
    "plt.show()"
   ]
  },
  {
   "cell_type": "code",
   "execution_count": 947,
   "metadata": {},
   "outputs": [
    {
     "name": "stdout",
     "output_type": "stream",
     "text": [
      "[-1.20749107e+02 -1.64138664e+01 -8.72351634e+01  1.13755799e+15\n",
      "  1.39174604e+01  6.67066148e+01  4.39237101e+01 -2.70647217e+01\n",
      "  1.00697987e+01  3.68315727e+01  2.30973764e+00  4.04255682e+01\n",
      "  2.38833445e+01  1.98294236e+01  3.15798140e+02  8.93503844e+02\n",
      "  1.64942284e+02 -5.59653980e+01  3.03638591e+01 -3.58519000e+01\n",
      " -2.89937352e+01  5.60229292e+02 -1.24811933e+03  1.49494363e+02\n",
      " -1.17022294e+01  7.04693451e+01 -3.93167147e+00 -8.68973269e+00\n",
      " -4.81423854e+00 -5.04012182e+01  7.97075202e+00  5.74038059e+00\n",
      " -1.26671336e+01 -1.13609590e+01  3.61227816e+01  3.95924284e-01\n",
      "  2.24280866e+01 -3.43147328e+01  3.46222176e+01 -1.13220033e+00\n",
      "  6.25640059e+00  4.25872889e+01  1.25017991e+01  4.88600320e+01\n",
      " -9.90547674e+00  1.18900310e+01  5.95835026e+00  1.76647847e+01\n",
      " -1.90994247e+01 -1.13755799e+15 -6.72219507e+00 -3.22139764e+01\n",
      "  3.93843878e+00  1.71373913e+01 -2.80867558e+00  2.44173668e+00\n",
      " -1.00731895e+01  4.39818133e+01 -1.24014399e+01 -5.69159172e+00\n",
      " -4.79704406e-01 -1.50838451e+01  4.81983581e+01 -1.59005416e+01\n",
      "  3.67995629e+01 -4.21494382e+01 -2.48569801e+00  1.83277775e+01\n",
      "  1.49641954e+01 -3.83228644e+01 -5.73323540e+00 -1.52168492e-01\n",
      " -5.06125645e+01 -1.70684999e+01 -4.36893834e+00 -3.28012985e+01\n",
      "  5.60334470e-02 -4.88695800e+00  3.26876901e+01 -2.31509078e+01\n",
      " -1.00626279e+00 -2.31463753e+01 -3.69215318e+01  5.11474178e+01\n",
      " -1.86611043e+01 -2.90189912e+01 -1.24387208e+01 -2.39194614e+01\n",
      "  3.48357177e+01 -5.98420196e+01  8.04722694e+01 -1.15848306e+01\n",
      "  4.36949955e+00 -1.98294138e+01 -1.79130008e+01  1.98396401e+01\n",
      " -2.27921372e+01 -2.26329270e+01  3.10510322e+00  8.43385833e+00\n",
      "  1.19023885e+01 -7.93508025e+00 -9.16435307e+00  2.70634833e+01]\n"
     ]
    },
    {
     "data": {
      "image/png": "[encoded data removed]",
      "text/plain": [
       "<Figure size 1440x2160 with 1 Axes>"
      ]
     },
     "metadata": {
      "needs_background": "light"
     },
     "output_type": "display_data"
    }
   ],
   "source": [
    "plt.figure(figsize=(20,30))\n",
    "plt.bar(n, np.sort(rm.coef_, axis=0))\n",
    "\n",
    "print(rm.coef_)"
   ]
  },
  {
   "cell_type": "markdown",
   "metadata": {},
   "source": [
    "# Lasso"
   ]
  },
  {
   "cell_type": "code",
   "execution_count": 60,
   "metadata": {},
   "outputs": [
    {
     "name": "stdout",
     "output_type": "stream",
     "text": [
      "alpha:0.1, train: 0.7734670612352095, test: 0.5788369599709589\n"
     ]
    }
   ],
   "source": [
    "rm = Lasso(alpha=.1)\n",
    "rm.fit(X_train, y_train)\n",
    "    \n",
    "train_score = rm.score(X_train, y_train)\n",
    "test_score = rm.score(X_test, y_test)\n",
    "print('alpha:{}, train: {}, test: {}'.format(0.1, train_score, test_score))\n"
   ]
  },
  {
   "cell_type": "code",
   "execution_count": 61,
   "metadata": {},
   "outputs": [
    {
     "name": "stderr",
     "output_type": "stream",
     "text": [
      "C:\\ProgramData\\Anaconda3\\lib\\site-packages\\ipykernel_launcher.py:8: UserWarning: With alpha=0, this algorithm does not converge well. You are advised to use the LinearRegression estimator\n",
      "  \n",
      "C:\\ProgramData\\Anaconda3\\lib\\site-packages\\sklearn\\linear_model\\coordinate_descent.py:478: UserWarning: Coordinate descent with no regularization may lead to unexpected results and is discouraged.\n",
      "  positive)\n",
      "C:\\ProgramData\\Anaconda3\\lib\\site-packages\\sklearn\\linear_model\\coordinate_descent.py:492: ConvergenceWarning: Objective did not converge. You might want to increase the number of iterations. Fitting data with very small alpha may cause precision problems.\n",
      "  ConvergenceWarning)\n"
     ]
    },
    {
     "name": "stdout",
     "output_type": "stream",
     "text": [
      "alpha:0.0, train: 0.939503285870033, test: 0.690188038527979\n",
      "alpha:0.1, train: 0.7734670612352095, test: 0.5788369599709589\n",
      "alpha:0.2, train: 0.741706960113871, test: 0.548860731870187\n",
      "alpha:0.3, train: 0.711305923952956, test: 0.5260288993761577\n",
      "alpha:0.4, train: 0.6701047347406606, test: 0.4933276410317631\n",
      "alpha:0.5, train: 0.6179416874902637, test: 0.4479702469409994\n",
      "alpha:0.6, train: 0.5553606674106111, test: 0.38911618397709524\n",
      "alpha:0.7, train: 0.49320860275008227, test: 0.33597460514957855\n",
      "alpha:0.8, train: 0.42453929924611256, test: 0.2786313295595215\n",
      "alpha:0.9, train: 0.35895973077606713, test: 0.22575931592355825\n",
      "alpha:1.0, train: 0.30173392764195583, test: 0.18559880937915907\n",
      "alpha:1.1, train: 0.23937088149562025, test: 0.14032096432643604\n",
      "alpha:1.2, train: 0.17106794012348725, test: 0.09027094180483342\n",
      "alpha:1.3, train: 0.11186464241587157, test: 0.05262631982712018\n",
      "alpha:1.4, train: 0.0695646489255729, test: 0.034841562341824894\n",
      "alpha:1.5, train: 0.037261341223732924, test: 0.019586718014321436\n",
      "alpha:1.6, train: 0.017064600967774624, test: 0.00822759638423054\n",
      "alpha:1.7, train: 0.0, test: -0.001889737528507185\n",
      "alpha:1.8, train: 0.0, test: -0.001889737528507185\n",
      "alpha:1.9, train: 0.0, test: -0.001889737528507185\n",
      "alpha:2.0, train: 0.0, test: -0.001889737528507185\n",
      "alpha:2.1, train: 0.0, test: -0.001889737528507185\n",
      "alpha:2.2, train: 0.0, test: -0.001889737528507185\n",
      "alpha:2.3, train: 0.0, test: -0.001889737528507185\n",
      "alpha:2.4, train: 0.0, test: -0.001889737528507185\n",
      "alpha:2.5, train: 0.0, test: -0.001889737528507185\n",
      "alpha:2.6, train: 0.0, test: -0.001889737528507185\n",
      "alpha:2.7, train: 0.0, test: -0.001889737528507185\n",
      "alpha:2.8, train: 0.0, test: -0.001889737528507185\n",
      "alpha:2.9, train: 0.0, test: -0.001889737528507185\n",
      "alpha:3.0, train: 0.0, test: -0.001889737528507185\n",
      "alpha:3.1, train: 0.0, test: -0.001889737528507185\n",
      "alpha:3.2, train: 0.0, test: -0.001889737528507185\n",
      "alpha:3.3, train: 0.0, test: -0.001889737528507185\n",
      "alpha:3.4, train: 0.0, test: -0.001889737528507185\n",
      "alpha:3.5, train: 0.0, test: -0.001889737528507185\n",
      "alpha:3.6, train: 0.0, test: -0.001889737528507185\n",
      "alpha:3.7, train: 0.0, test: -0.001889737528507185\n",
      "alpha:3.8, train: 0.0, test: -0.001889737528507185\n",
      "alpha:3.9, train: 0.0, test: -0.001889737528507185\n",
      "alpha:4.0, train: 0.0, test: -0.001889737528507185\n",
      "alpha:4.1, train: 0.0, test: -0.001889737528507185\n",
      "alpha:4.2, train: 0.0, test: -0.001889737528507185\n",
      "alpha:4.3, train: 0.0, test: -0.001889737528507185\n",
      "alpha:4.4, train: 0.0, test: -0.001889737528507185\n",
      "alpha:4.5, train: 0.0, test: -0.001889737528507185\n",
      "alpha:4.6, train: 0.0, test: -0.001889737528507185\n",
      "alpha:4.7, train: 0.0, test: -0.001889737528507185\n",
      "alpha:4.8, train: 0.0, test: -0.001889737528507185\n",
      "alpha:4.9, train: 0.0, test: -0.001889737528507185\n",
      "alpha:5.0, train: 0.0, test: -0.001889737528507185\n",
      "alpha:5.1, train: 0.0, test: -0.001889737528507185\n",
      "alpha:5.2, train: 0.0, test: -0.001889737528507185\n",
      "alpha:5.3, train: 0.0, test: -0.001889737528507185\n",
      "alpha:5.4, train: 0.0, test: -0.001889737528507185\n",
      "alpha:5.5, train: 0.0, test: -0.001889737528507185\n",
      "alpha:5.6, train: 0.0, test: -0.001889737528507185\n",
      "alpha:5.7, train: 0.0, test: -0.001889737528507185\n",
      "alpha:5.8, train: 0.0, test: -0.001889737528507185\n",
      "alpha:5.9, train: 0.0, test: -0.001889737528507185\n",
      "alpha:6.0, train: 0.0, test: -0.001889737528507185\n",
      "alpha:6.1, train: 0.0, test: -0.001889737528507185\n",
      "alpha:6.2, train: 0.0, test: -0.001889737528507185\n",
      "alpha:6.3, train: 0.0, test: -0.001889737528507185\n",
      "alpha:6.4, train: 0.0, test: -0.001889737528507185\n",
      "alpha:6.5, train: 0.0, test: -0.001889737528507185\n",
      "alpha:6.6, train: 0.0, test: -0.001889737528507185\n",
      "alpha:6.7, train: 0.0, test: -0.001889737528507185\n",
      "alpha:6.8, train: 0.0, test: -0.001889737528507185\n",
      "alpha:6.9, train: 0.0, test: -0.001889737528507185\n",
      "alpha:7.0, train: 0.0, test: -0.001889737528507185\n",
      "alpha:7.1, train: 0.0, test: -0.001889737528507185\n",
      "alpha:7.2, train: 0.0, test: -0.001889737528507185\n",
      "alpha:7.3, train: 0.0, test: -0.001889737528507185\n",
      "alpha:7.4, train: 0.0, test: -0.001889737528507185\n",
      "alpha:7.5, train: 0.0, test: -0.001889737528507185\n",
      "alpha:7.6, train: 0.0, test: -0.001889737528507185\n",
      "alpha:7.7, train: 0.0, test: -0.001889737528507185\n",
      "alpha:7.8, train: 0.0, test: -0.001889737528507185\n",
      "alpha:7.9, train: 0.0, test: -0.001889737528507185\n",
      "alpha:8.0, train: 0.0, test: -0.001889737528507185\n",
      "alpha:8.1, train: 0.0, test: -0.001889737528507185\n",
      "alpha:8.2, train: 0.0, test: -0.001889737528507185\n",
      "alpha:8.3, train: 0.0, test: -0.001889737528507185\n",
      "alpha:8.4, train: 0.0, test: -0.001889737528507185\n",
      "alpha:8.5, train: 0.0, test: -0.001889737528507185\n",
      "alpha:8.6, train: 0.0, test: -0.001889737528507185\n",
      "alpha:8.7, train: 0.0, test: -0.001889737528507185\n",
      "alpha:8.8, train: 0.0, test: -0.001889737528507185\n",
      "alpha:8.9, train: 0.0, test: -0.001889737528507185\n",
      "alpha:9.0, train: 0.0, test: -0.001889737528507185\n",
      "alpha:9.1, train: 0.0, test: -0.001889737528507185\n",
      "alpha:9.2, train: 0.0, test: -0.001889737528507185\n",
      "alpha:9.3, train: 0.0, test: -0.001889737528507185\n",
      "alpha:9.4, train: 0.0, test: -0.001889737528507185\n",
      "alpha:9.5, train: 0.0, test: -0.001889737528507185\n",
      "alpha:9.6, train: 0.0, test: -0.001889737528507185\n",
      "alpha:9.7, train: 0.0, test: -0.001889737528507185\n",
      "alpha:9.8, train: 0.0, test: -0.001889737528507185\n",
      "alpha:9.9, train: 0.0, test: -0.001889737528507185\n"
     ]
    }
   ],
   "source": [
    "minimum_score = -100\n",
    "minimum_alpha = 0\n",
    "best_model = None\n",
    "for i in list(range(0, 100, 1)):\n",
    "    i = i/10\n",
    "    \n",
    "    lasso_model = Lasso(alpha=i)\n",
    "    lasso_model.fit(X_train, y_train)\n",
    "    \n",
    "    \n",
    "    train_score = lasso_model.score(X_train, y_train)\n",
    "    test_score = lasso_model.score(X_test, y_test)\n",
    "    print('alpha:{}, train: {}, test: {}'.format(i, train_score, test_score))\n",
    "    if minimum_score < test_score:\n",
    "        minimum_score = test_score\n",
    "        minimum_alpha = i\n",
    "        best_model = lasso_model\n"
   ]
  },
  {
   "cell_type": "code",
   "execution_count": 62,
   "metadata": {},
   "outputs": [
    {
     "data": {
      "text/plain": [
       "Lasso(alpha=0.0, copy_X=True, fit_intercept=True, max_iter=1000,\n",
       "   normalize=False, positive=False, precompute=False, random_state=None,\n",
       "   selection='cyclic', tol=0.0001, warm_start=False)"
      ]
     },
     "execution_count": 62,
     "metadata": {},
     "output_type": "execute_result"
    }
   ],
   "source": [
    "best_model"
   ]
  },
  {
   "cell_type": "markdown",
   "metadata": {},
   "source": [
    "### cross validation with Lasso"
   ]
  },
  {
   "cell_type": "code",
   "execution_count": 73,
   "metadata": {},
   "outputs": [
    {
     "data": {
      "text/plain": [
       "array([ 0.17270014, -2.24553502,  0.64430017,  0.22441297, -7.95698209])"
      ]
     },
     "execution_count": 73,
     "metadata": {},
     "output_type": "execute_result"
    }
   ],
   "source": [
    "lm = LinearRegression()\n",
    "cross_scores = cross_val_score(lm, X,  y, cv=5)\n",
    "cross_scores\n",
    "# score는 cross validation에 대한 스코어. 테스트 셋에 대한 스코어. "
   ]
  },
  {
   "cell_type": "code",
   "execution_count": 64,
   "metadata": {},
   "outputs": [
    {
     "name": "stderr",
     "output_type": "stream",
     "text": [
      "C:\\ProgramData\\Anaconda3\\lib\\site-packages\\ipykernel_launcher.py:13: UserWarning: With alpha=0, this algorithm does not converge well. You are advised to use the LinearRegression estimator\n",
      "  del sys.path[0]\n",
      "C:\\ProgramData\\Anaconda3\\lib\\site-packages\\sklearn\\linear_model\\coordinate_descent.py:478: UserWarning: Coordinate descent with no regularization may lead to unexpected results and is discouraged.\n",
      "  positive)\n",
      "C:\\ProgramData\\Anaconda3\\lib\\site-packages\\sklearn\\linear_model\\coordinate_descent.py:492: ConvergenceWarning: Objective did not converge. You might want to increase the number of iterations. Fitting data with very small alpha may cause precision problems.\n",
      "  ConvergenceWarning)\n"
     ]
    },
    {
     "name": "stdout",
     "output_type": "stream",
     "text": [
      "alpha:0.0, train: 0.939503285870033, test: 0.690188038527979\n",
      "alpha:0.1, train: 0.7734670612352095, test: 0.5788369599709589\n",
      "alpha:0.2, train: 0.741706960113871, test: 0.548860731870187\n",
      "alpha:0.3, train: 0.711305923952956, test: 0.5260288993761577\n",
      "alpha:0.4, train: 0.6701047347406606, test: 0.4933276410317631\n",
      "alpha:0.5, train: 0.6179416874902637, test: 0.4479702469409994\n",
      "alpha:0.6, train: 0.5553606674106111, test: 0.38911618397709524\n",
      "alpha:0.7, train: 0.49320860275008227, test: 0.33597460514957855\n",
      "alpha:0.8, train: 0.42453929924611256, test: 0.2786313295595215\n",
      "alpha:0.9, train: 0.35895973077606713, test: 0.22575931592355825\n",
      "alpha:1.0, train: 0.30173392764195583, test: 0.18559880937915907\n",
      "alpha:1.1, train: 0.23937088149562025, test: 0.14032096432643604\n",
      "alpha:1.2, train: 0.17106794012348725, test: 0.09027094180483342\n",
      "alpha:1.3, train: 0.11186464241587157, test: 0.05262631982712018\n",
      "alpha:1.4, train: 0.0695646489255729, test: 0.034841562341824894\n",
      "alpha:1.5, train: 0.037261341223732924, test: 0.019586718014321436\n",
      "alpha:1.6, train: 0.017064600967774624, test: 0.00822759638423054\n",
      "alpha:1.7, train: 0.0, test: -0.001889737528507185\n",
      "alpha:1.8, train: 0.0, test: -0.001889737528507185\n",
      "alpha:1.9, train: 0.0, test: -0.001889737528507185\n",
      "alpha:2.0, train: 0.0, test: -0.001889737528507185\n",
      "alpha:2.1, train: 0.0, test: -0.001889737528507185\n",
      "alpha:2.2, train: 0.0, test: -0.001889737528507185\n",
      "alpha:2.3, train: 0.0, test: -0.001889737528507185\n",
      "alpha:2.4, train: 0.0, test: -0.001889737528507185\n",
      "alpha:2.5, train: 0.0, test: -0.001889737528507185\n",
      "alpha:2.6, train: 0.0, test: -0.001889737528507185\n",
      "alpha:2.7, train: 0.0, test: -0.001889737528507185\n",
      "alpha:2.8, train: 0.0, test: -0.001889737528507185\n",
      "alpha:2.9, train: 0.0, test: -0.001889737528507185\n",
      "alpha:3.0, train: 0.0, test: -0.001889737528507185\n",
      "alpha:3.1, train: 0.0, test: -0.001889737528507185\n",
      "alpha:3.2, train: 0.0, test: -0.001889737528507185\n",
      "alpha:3.3, train: 0.0, test: -0.001889737528507185\n",
      "alpha:3.4, train: 0.0, test: -0.001889737528507185\n",
      "alpha:3.5, train: 0.0, test: -0.001889737528507185\n",
      "alpha:3.6, train: 0.0, test: -0.001889737528507185\n",
      "alpha:3.7, train: 0.0, test: -0.001889737528507185\n",
      "alpha:3.8, train: 0.0, test: -0.001889737528507185\n",
      "alpha:3.9, train: 0.0, test: -0.001889737528507185\n",
      "alpha:4.0, train: 0.0, test: -0.001889737528507185\n",
      "alpha:4.1, train: 0.0, test: -0.001889737528507185\n",
      "alpha:4.2, train: 0.0, test: -0.001889737528507185\n",
      "alpha:4.3, train: 0.0, test: -0.001889737528507185\n",
      "alpha:4.4, train: 0.0, test: -0.001889737528507185\n",
      "alpha:4.5, train: 0.0, test: -0.001889737528507185\n",
      "alpha:4.6, train: 0.0, test: -0.001889737528507185\n",
      "alpha:4.7, train: 0.0, test: -0.001889737528507185\n",
      "alpha:4.8, train: 0.0, test: -0.001889737528507185\n",
      "alpha:4.9, train: 0.0, test: -0.001889737528507185\n",
      "alpha:5.0, train: 0.0, test: -0.001889737528507185\n",
      "alpha:5.1, train: 0.0, test: -0.001889737528507185\n",
      "alpha:5.2, train: 0.0, test: -0.001889737528507185\n",
      "alpha:5.3, train: 0.0, test: -0.001889737528507185\n",
      "alpha:5.4, train: 0.0, test: -0.001889737528507185\n",
      "alpha:5.5, train: 0.0, test: -0.001889737528507185\n",
      "alpha:5.6, train: 0.0, test: -0.001889737528507185\n",
      "alpha:5.7, train: 0.0, test: -0.001889737528507185\n",
      "alpha:5.8, train: 0.0, test: -0.001889737528507185\n",
      "alpha:5.9, train: 0.0, test: -0.001889737528507185\n",
      "alpha:6.0, train: 0.0, test: -0.001889737528507185\n",
      "alpha:6.1, train: 0.0, test: -0.001889737528507185\n",
      "alpha:6.2, train: 0.0, test: -0.001889737528507185\n",
      "alpha:6.3, train: 0.0, test: -0.001889737528507185\n",
      "alpha:6.4, train: 0.0, test: -0.001889737528507185\n",
      "alpha:6.5, train: 0.0, test: -0.001889737528507185\n",
      "alpha:6.6, train: 0.0, test: -0.001889737528507185\n",
      "alpha:6.7, train: 0.0, test: -0.001889737528507185\n",
      "alpha:6.8, train: 0.0, test: -0.001889737528507185\n",
      "alpha:6.9, train: 0.0, test: -0.001889737528507185\n",
      "alpha:7.0, train: 0.0, test: -0.001889737528507185\n",
      "alpha:7.1, train: 0.0, test: -0.001889737528507185\n",
      "alpha:7.2, train: 0.0, test: -0.001889737528507185\n",
      "alpha:7.3, train: 0.0, test: -0.001889737528507185\n",
      "alpha:7.4, train: 0.0, test: -0.001889737528507185\n",
      "alpha:7.5, train: 0.0, test: -0.001889737528507185\n",
      "alpha:7.6, train: 0.0, test: -0.001889737528507185\n",
      "alpha:7.7, train: 0.0, test: -0.001889737528507185\n",
      "alpha:7.8, train: 0.0, test: -0.001889737528507185\n",
      "alpha:7.9, train: 0.0, test: -0.001889737528507185\n",
      "alpha:8.0, train: 0.0, test: -0.001889737528507185\n",
      "alpha:8.1, train: 0.0, test: -0.001889737528507185\n",
      "alpha:8.2, train: 0.0, test: -0.001889737528507185\n",
      "alpha:8.3, train: 0.0, test: -0.001889737528507185\n",
      "alpha:8.4, train: 0.0, test: -0.001889737528507185\n",
      "alpha:8.5, train: 0.0, test: -0.001889737528507185\n",
      "alpha:8.6, train: 0.0, test: -0.001889737528507185\n",
      "alpha:8.7, train: 0.0, test: -0.001889737528507185\n",
      "alpha:8.8, train: 0.0, test: -0.001889737528507185\n",
      "alpha:8.9, train: 0.0, test: -0.001889737528507185\n",
      "alpha:9.0, train: 0.0, test: -0.001889737528507185\n",
      "alpha:9.1, train: 0.0, test: -0.001889737528507185\n",
      "alpha:9.2, train: 0.0, test: -0.001889737528507185\n",
      "alpha:9.3, train: 0.0, test: -0.001889737528507185\n",
      "alpha:9.4, train: 0.0, test: -0.001889737528507185\n",
      "alpha:9.5, train: 0.0, test: -0.001889737528507185\n",
      "alpha:9.6, train: 0.0, test: -0.001889737528507185\n",
      "alpha:9.7, train: 0.0, test: -0.001889737528507185\n",
      "alpha:9.8, train: 0.0, test: -0.001889737528507185\n",
      "alpha:9.9, train: 0.0, test: -0.001889737528507185\n"
     ]
    }
   ],
   "source": [
    "minimum_score = -100\n",
    "minimum_alpha = 0\n",
    "best_model = None\n",
    "\n",
    "cross_mean = -100\n",
    "cross_alpha = 0\n",
    "cross_best = None\n",
    "\n",
    "for i in list(range(0, 100, 1)):\n",
    "    i = i/10\n",
    "    \n",
    "    lm = Lasso(alpha=i)\n",
    "    lm.fit(X_train, y_train)\n",
    "    \n",
    "    \n",
    "    train_score = lm.score(X_train, y_train)\n",
    "    test_score = lm.score(X_test, y_test)\n",
    "    \n",
    "    print('alpha:{}, train: {}, test: {}'.format(i, train_score, test_score))\n",
    "    \n",
    "    if minimum_score < test_score:\n",
    "        minimum_score = test_score\n",
    "        minimum_alpha = i\n",
    "        best_model = lm\n",
    "    \n",
    "    # cross validation scores\n",
    "    cross_scores = cross_val_score(rm, X, y, cv=5)\n",
    "    _cross_mean, _corss_std = cross_scores.mean(), cross_scores.std()\n",
    "        \n",
    "    if cross_mean < _cross_mean:\n",
    "        # 평균 값을ㅇ 비교함으로써 가장 좋은 것을 찾아낸다. \n",
    "        cross_mean = _cross_mean\n",
    "        cross_alpha = i\n",
    "        cross_best = lm\n",
    "\n"
   ]
  },
  {
   "cell_type": "code",
   "execution_count": null,
   "metadata": {},
   "outputs": [],
   "source": []
  },
  {
   "cell_type": "code",
   "execution_count": 65,
   "metadata": {},
   "outputs": [
    {
     "data": {
      "text/plain": [
       "0.690188038527979"
      ]
     },
     "execution_count": 65,
     "metadata": {},
     "output_type": "execute_result"
    }
   ],
   "source": [
    "cross_best.score(X_test, y_test)"
   ]
  },
  {
   "cell_type": "code",
   "execution_count": 66,
   "metadata": {},
   "outputs": [
    {
     "data": {
      "text/plain": [
       "<BarContainer object of 104 artists>"
      ]
     },
     "execution_count": 66,
     "metadata": {},
     "output_type": "execute_result"
    },
    {
     "data": {
      "image/png": "[encoded data removed]",
      "text/plain": [
       "<Figure size 1440x720 with 1 Axes>"
      ]
     },
     "metadata": {
      "needs_background": "light"
     },
     "output_type": "display_data"
    }
   ],
   "source": [
    "cross_best.score(X_test, y_test)\n",
    "n = np.arange(len(cross_best.coef_))\n",
    "\n",
    "plt.figure(figsize=(20,10))\n",
    "plt.bar(n, np.sort(cross_best.coef_, axis=0))"
   ]
  },
  {
   "cell_type": "code",
   "execution_count": 67,
   "metadata": {},
   "outputs": [
    {
     "name": "stderr",
     "output_type": "stream",
     "text": [
      "C:\\ProgramData\\Anaconda3\\lib\\site-packages\\ipykernel_launcher.py:11: UserWarning: With alpha=0, this algorithm does not converge well. You are advised to use the LinearRegression estimator\n",
      "  # This is added back by InteractiveShellApp.init_path()\n",
      "C:\\ProgramData\\Anaconda3\\lib\\site-packages\\sklearn\\linear_model\\coordinate_descent.py:478: UserWarning: Coordinate descent with no regularization may lead to unexpected results and is discouraged.\n",
      "  positive)\n",
      "C:\\ProgramData\\Anaconda3\\lib\\site-packages\\sklearn\\linear_model\\coordinate_descent.py:492: ConvergenceWarning: Objective did not converge. You might want to increase the number of iterations. Fitting data with very small alpha may cause precision problems.\n",
      "  ConvergenceWarning)\n"
     ]
    },
    {
     "data": {
      "text/plain": [
       "Lasso(alpha=8, copy_X=True, fit_intercept=True, max_iter=1000,\n",
       "   normalize=False, positive=False, precompute=False, random_state=None,\n",
       "   selection='cyclic', tol=0.0001, warm_start=False)"
      ]
     },
     "execution_count": 67,
     "metadata": {},
     "output_type": "execute_result"
    }
   ],
   "source": [
    "# 만약 알파값이 늘어나면??\n",
    "lm = Lasso(alpha=0)\n",
    "lm1 = Lasso(alpha=.1)\n",
    "lm2 = Lasso(alpha=.5)\n",
    "lm3 = Lasso(alpha=1)\n",
    "lm4 = Lasso(alpha=2)\n",
    "lm5 = Lasso(alpha=4)\n",
    "lm6 = Lasso(alpha=8)\n",
    "# 이런식으로 변화한다는 것을 보여주기 위해서. \n",
    "# 0.001 이나 0.0001 은 유의미한 결과가 나오지 않기 때문에 의미가 크게 없다고 볼 수 있다.\n",
    "\n",
    "\n",
    "lm.fit(X_train, y_train)\n",
    "lm1.fit(X_train, y_train)\n",
    "lm2.fit(X_train, y_train)\n",
    "lm3.fit(X_train, y_train)\n",
    "lm4.fit(X_train, y_train)\n",
    "lm5.fit(X_train, y_train)\n",
    "lm6.fit(X_train, y_train)\n"
   ]
  },
  {
   "cell_type": "code",
   "execution_count": 68,
   "metadata": {},
   "outputs": [
    {
     "data": {
      "image/png": "[encoded data removed]",
      "text/plain": [
       "<Figure size 1440x2160 with 5 Axes>"
      ]
     },
     "metadata": {
      "needs_background": "light"
     },
     "output_type": "display_data"
    }
   ],
   "source": [
    "n = np.arange(len(lm.coef_))\n",
    "\n",
    "plt.figure(figsize=(20,30))\n",
    "plt.subplot(3,2,1)\n",
    "plt.bar(n, np.sort(lm.coef_, axis=0))\n",
    "\n",
    "plt.subplot(3,2,2)\n",
    "plt.bar(n, np.sort(lm1.coef_, axis=0))\n",
    "\n",
    "plt.subplot(3,2,3)\n",
    "plt.bar(n, np.sort(lm2.coef_, axis=0))\n",
    "\n",
    "plt.subplot(3,2,4)\n",
    "plt.bar(n, np.sort(lm3.coef_, axis=0))\n",
    "\n",
    "plt.subplot(3,2,5)\n",
    "plt.bar(n, np.sort(lm4.coef_, axis=0))\n",
    "plt.show()"
   ]
  },
  {
   "cell_type": "code",
   "execution_count": 69,
   "metadata": {},
   "outputs": [
    {
     "data": {
      "text/plain": [
       "array([-0.,  0., -0.,  0., -0.,  0., -0.,  0., -0., -0., -0.,  0., -0.,\n",
       "       -0.,  0., -0.,  0., -0., -0., -0., -0., -0., -0., -0., -0., -0.,\n",
       "        0.,  0.,  0.,  0.,  0.,  0.,  0.,  0.,  0.,  0.,  0.,  0., -0.,\n",
       "        0., -0., -0., -0., -0., -0., -0., -0., -0., -0.,  0.,  0.,  0.,\n",
       "        0.,  0.,  0.,  0.,  0.,  0., -0., -0., -0., -0., -0., -0., -0.,\n",
       "       -0., -0., -0.,  0., -0.,  0., -0., -0., -0.,  0., -0., -0.,  0.,\n",
       "       -0., -0., -0., -0., -0.,  0., -0., -0.,  0.,  0., -0., -0., -0.,\n",
       "       -0., -0., -0., -0., -0., -0., -0., -0., -0., -0.,  0., -0., -0.])"
      ]
     },
     "execution_count": 69,
     "metadata": {},
     "output_type": "execute_result"
    }
   ],
   "source": [
    "lm6.coef_\n",
    "# 기울기를 낮추다가 아예 0으로 만들어버린다."
   ]
  },
  {
   "cell_type": "code",
   "execution_count": 70,
   "metadata": {},
   "outputs": [],
   "source": [
    "_list = []\n",
    "for x in range(100):\n",
    "    X_train, X_test, y_train, y_test = train_test_split(X, y, test_size=.2, shuffle=True, random_state=x)\n",
    "    lm = LinearRegression()\n",
    "    lm.fit(X_train, y_train)\n",
    "    _list.append((abs(lm.score(X_train, y_train) - lm.score(X_test, y_test)), x))\n",
    "\n"
   ]
  },
  {
   "cell_type": "code",
   "execution_count": 71,
   "metadata": {},
   "outputs": [
    {
     "data": {
      "text/plain": [
       "[(0.3331382382534058, 0),\n",
       " (0.014780290152900277, 1),\n",
       " (0.03322895614872434, 2),\n",
       " (0.07049759812203349, 3),\n",
       " (0.09560605475778738, 4),\n",
       " (0.06206250958523918, 5),\n",
       " (0.3013343958777175, 6),\n",
       " (0.31578747159858356, 7),\n",
       " (0.08792445140745286, 8),\n",
       " (0.05794836731729802, 9),\n",
       " (0.056925667537319535, 10),\n",
       " (0.13999401012461166, 11),\n",
       " (0.12860870139434477, 12),\n",
       " (0.08938436240001724, 13),\n",
       " (0.19090361201127304, 14),\n",
       " (0.06723936454673496, 15),\n",
       " (0.14388613037135278, 16),\n",
       " (0.13044390855808674, 17),\n",
       " (0.14203326859368937, 18),\n",
       " (0.13981945082850067, 19),\n",
       " (0.26775876245783303, 20),\n",
       " (0.11282664948694499, 21),\n",
       " (0.23012258126270546, 22),\n",
       " (0.21978868281696085, 23),\n",
       " (0.2828286930975835, 24),\n",
       " (0.0847895652359939, 25),\n",
       " (0.16893154978573688, 26),\n",
       " (0.10663737797751016, 27),\n",
       " (0.1878726205592276, 28),\n",
       " (0.13547541105791283, 29),\n",
       " (0.1257065945364364, 30),\n",
       " (0.06872704310250355, 31),\n",
       " (0.037324270180781216, 32),\n",
       " (0.06225102223223189, 33),\n",
       " (0.046319938312373465, 34),\n",
       " (0.10984313393058787, 35),\n",
       " (0.12783927441912435, 36),\n",
       " (0.2782641751328101, 37),\n",
       " (0.0843054695550215, 38),\n",
       " (0.05165661049466708, 39),\n",
       " (0.09500105690208893, 40),\n",
       " (0.7585840806500901, 41),\n",
       " (0.1353487579141308, 42),\n",
       " (0.11698898414239256, 43),\n",
       " (0.19695981971536114, 44),\n",
       " (0.041480894150212944, 45),\n",
       " (0.08638515014004233, 46),\n",
       " (0.07907372213345754, 47),\n",
       " (0.11699472136400846, 48),\n",
       " (0.1271893264906071, 49),\n",
       " (0.046229235132175805, 50),\n",
       " (0.07990708184292883, 51),\n",
       " (0.08715971931914646, 52),\n",
       " (0.04887283612744131, 53),\n",
       " (0.17584547802601347, 54),\n",
       " (0.0641582596372876, 55),\n",
       " (0.07366261507851768, 56),\n",
       " (0.056612650960217836, 57),\n",
       " (0.09326315169391775, 58),\n",
       " (0.049065923859158755, 59),\n",
       " (0.11528807396389107, 60),\n",
       " (0.15289630237075136, 61),\n",
       " (0.036253030615642334, 62),\n",
       " (0.12061926388489486, 63),\n",
       " (0.08040268632957426, 64),\n",
       " (0.1583824145687739, 65),\n",
       " (0.05852295669914287, 66),\n",
       " (0.10966845310318396, 67),\n",
       " (0.14398597299172777, 68),\n",
       " (0.20479885497976058, 69),\n",
       " (0.03415371760950603, 70),\n",
       " (0.13852392457110585, 71),\n",
       " (0.08113487451389456, 72),\n",
       " (0.11762396501070715, 73),\n",
       " (0.13702071582206898, 74),\n",
       " (0.1321276849323857, 75),\n",
       " (0.21326882729615748, 76),\n",
       " (0.1001818533334714, 77),\n",
       " (0.04027620141748878, 78),\n",
       " (0.08782929840278086, 79),\n",
       " (0.17085582774027197, 80),\n",
       " (0.29219796616611193, 81),\n",
       " (0.07883420339968905, 82),\n",
       " (0.10680181553096224, 83),\n",
       " (0.060781841745677356, 84),\n",
       " (0.05197151076832307, 85),\n",
       " (0.04236853891784875, 86),\n",
       " (0.14379615208223362, 87),\n",
       " (0.08384819121010623, 88),\n",
       " (0.04831157529807062, 89),\n",
       " (0.11040295962787205, 90),\n",
       " (0.1651240768177068, 91),\n",
       " (0.12786533445854642, 92),\n",
       " (0.28735399172964005, 93),\n",
       " (0.04158758272473517, 94),\n",
       " (0.08152470865561434, 95),\n",
       " (0.08945540524017381, 96),\n",
       " (0.0867450628585067, 97),\n",
       " (0.12414391362814547, 98),\n",
       " (0.17773411126919803, 99)]"
      ]
     },
     "execution_count": 71,
     "metadata": {},
     "output_type": "execute_result"
    }
   ],
   "source": [
    "_list"
   ]
  },
  {
   "cell_type": "code",
   "execution_count": null,
   "metadata": {},
   "outputs": [],
   "source": []
  },
  {
   "cell_type": "code",
   "execution_count": null,
   "metadata": {},
   "outputs": [],
   "source": [
    "lm = Linear"
   ]
  }
 ],
 "metadata": {
  "kernelspec": {
   "display_name": "Python 3",
   "language": "python",
   "name": "python3"
  },
  "language_info": {
   "codemirror_mode": {
    "name": "ipython",
    "version": 3
   },
   "file_extension": ".py",
   "mimetype": "text/x-python",
   "name": "python",
   "nbconvert_exporter": "python",
   "pygments_lexer": "ipython3",
   "version": "3.7.3"
  }
 },
 "nbformat": 4,
 "nbformat_minor": 2
}
