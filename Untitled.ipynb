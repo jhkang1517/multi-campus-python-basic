{
 "cells": [
  {
   "cell_type": "code",
   "execution_count": null,
   "metadata": {},
   "outputs": [],
   "source": [
    "# -*- coding: utf-8 -*-\n",
    "import scrapy\n",
    "\n",
    "query = '트라웃'\n",
    "date1 = 20180707\n",
    "date2 = 20190707\n",
    "\n",
    "class BlogspiderSpider(scrapy.Spider):\n",
    "    name = 'blogspider'\n",
    "    allowed_domains = ['naver.com']\n",
    "\n",
    "    def start_requests(self):\n",
    "        url = 'https://search.naver.com/search.naver?where=post&'\n",
    "        url = url + 'query=' + query + '&date_from={0}&date_to={1}&date_option=8'.format(date1, date2)\n",
    "\n",
    "        yield scrapy.Request(url, self.parse)\n",
    "\n",
    "\n",
    "    def parse(self, response):\n",
    "        for quote in response.css('li.sh_blog_top'):\n",
    "            yield {\n",
    "                'title': quote.css('dt ::text').get(),\n",
    "                'sub': quote.css('dd.sh_blog_passage::text').get(),\n",
    "                'tags': quote.css('dd.txt_block span a.txt84::text').get(),\n",
    "            }\n",
    "    \n",
    "        # follow links to author pages\n",
    "        for href in response.css('div.thumb a::attr(href)'):\n",
    "            yield response.follow(href, self.parse_author)\n",
    "\n",
    "        # follow pagination links\n",
    "        for href in response.css('div.paging a::attr(href)'):\n",
    "            yield response.follow(href, self.parse)\n",
    "\n",
    "    def parse_author(self, response):\n",
    "        for src in response.css('iframe::attr(src)'):\n",
    "            url2 = 'blog.naver.com' + src\n",
    "            yield response.follow(url2, self.parse_author2)\n",
    "\n",
    "\n",
    "    def parse_author2(self, response):\n",
    "        def extract_with_css(query):\n",
    "            return response.css(query).get(default='').strip()\n",
    "   \n",
    "        if 'blog.naver.com' in response.url :\n",
    "        yield {\n",
    "            'title': extract_with_css('div.se-component-content::text'),\n",
    "            'text': extract_with_css('div.se-main-container::text'),\n",
    "            'name': extract_with_css('div.blog2_container::text'),\n",
    "        }"
   ]
  }
 ],
 "metadata": {
  "kernelspec": {
   "display_name": "Python 3",
   "language": "python",
   "name": "python3"
  },
  "language_info": {
   "codemirror_mode": {
    "name": "ipython",
    "version": 3
   },
   "file_extension": ".py",
   "mimetype": "text/x-python",
   "name": "python",
   "nbconvert_exporter": "python",
   "pygments_lexer": "ipython3",
   "version": "3.7.3"
  }
 },
 "nbformat": 4,
 "nbformat_minor": 2
}
