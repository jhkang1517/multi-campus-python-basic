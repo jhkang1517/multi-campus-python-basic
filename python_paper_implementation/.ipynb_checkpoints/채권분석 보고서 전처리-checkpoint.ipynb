{
 "cells": [
  {
   "cell_type": "markdown",
   "metadata": {},
   "source": [
    "## txt 파일 통합, csv로 변환"
   ]
  },
  {
   "cell_type": "code",
   "execution_count": null,
   "metadata": {
    "scrolled": true
   },
   "outputs": [],
   "source": [
    "# 강사님 코드\n",
    "# import module\n",
    "import csv\n",
    "import pandas as pd\n",
    "from os import listdir\n",
    "from os.path import isfile, join\n",
    "\n",
    "# 파일 경로 확인할 것\n",
    "def txt2csv(source_folder=r\"C:\\Users\\student\\Documents\\python_basic\\paper_implementation\\text_data\",\n",
    "            output_file=r\"C:\\Users\\student\\Documents\\python_basic\\paper_implementation\\bondreports.csv\") :\n",
    "    \n",
    "    # 지정 폴더 내 파일 목록 조회 (파일만)\n",
    "    txt_files = [f for f in listdir(source_folder) if isfile(join(source_folder, f))]\n",
    "    df = pd.DataFrame(columns=['date', 'firm', 'title', 'report'])\n",
    "    print(len(txt_files), \"개의 파일이 존재합니다.\")\n",
    "    \n",
    "    for txt_file in txt_files :\n",
    "        print(txt_file)\n",
    "        if txt_file[-3:] != 'txt' :\n",
    "            continue\n",
    "        with open(source_folder + \"\\\\\" + txt_file, 'r', encoding='utf-8') as f:\n",
    "            txt = f.read().strip()\n",
    "            date = txt_file.split('_')[0]\n",
    "            firm = txt_file.split('_')[1]\n",
    "            title = txt_file.split('_')[2].split('.')[0]\n",
    "            df.loc[len(df)] = [date, firm, title, txt]\n",
    "\n",
    "    df.to_csv(output_file, index=False)\n",
    "        \n",
    "txt2csv()"
   ]
  },
  {
   "cell_type": "code",
   "execution_count": null,
   "metadata": {},
   "outputs": [],
   "source": [
    "pd.read_csv(\"bondreports.csv\")"
   ]
  },
  {
   "cell_type": "markdown",
   "metadata": {},
   "source": [
    "## token, n-gram 추출"
   ]
  },
  {
   "cell_type": "code",
   "execution_count": null,
   "metadata": {},
   "outputs": [],
   "source": [
    "import pandas as pd\n",
    "from ekonlpy.sentiment import MPCK\n",
    "\n",
    "def text2ngram(text) :\n",
    "    mpck = MPCK()\n",
    "    bef_tokens = mpck.tokenize(text)\n",
    "    ngrams = mpck.ngramize(bef_tokens)\n",
    "    tokens = []\n",
    "    print(ngrams)\n",
    "\n",
    "    stoppos = [\n",
    "        'SC','SY','SF','SE','SS','SP','SO','SW',\n",
    "        'SSC','JKS','JKC','JKG','JKO','JKB','JKV',\n",
    "        'JKQ','JX','JC','EF','EC','ETN','ETM','JKS',\n",
    "        'JKC','JKG','JKO','JKB','JKV','JKQ','JC','JX',\n",
    "        'EP','EF','EC','ETN','ETM','XPN','XSN','XSV','XSA',\n",
    "        'XR','SF','SE','SSO','SSC','SC','SY','SH','SL','SN'\n",
    "    ]\n",
    "    stopword = ['']\n",
    "\n",
    "    for tag in bef_tokens:\n",
    "        if tag[1] not in stoppos:\n",
    "            if tag[0] not in stopword:\n",
    "                tokens.append(tag)\n",
    "                \n",
    "    return tokens, ngrams"
   ]
  },
  {
   "cell_type": "code",
   "execution_count": null,
   "metadata": {},
   "outputs": [],
   "source": [
    "# 예제\n",
    "# text2ngram('글로벌 신용경색 완화 조짐과 주식의 반등, 인플레이션 및 금통위 부담 등에도 불구하고 금리가 잘 버티고 있다. 이는 물론, 대내외 펀더멘틀 및 궁극적인 통화정책 방향에대한 믿음이 강하기 때문일 것이다.')"
   ]
  },
  {
   "cell_type": "markdown",
   "metadata": {},
   "source": [
    "## 전처리"
   ]
  },
  {
   "cell_type": "code",
   "execution_count": null,
   "metadata": {},
   "outputs": [],
   "source": [
    "# 주의, 오랜 시간이 소요됩니다!! \n",
    "import pandas as pd\n",
    "from ekonlpy.sentiment import MPCK\n",
    "\n",
    "def Preprocessing(input_file=r\"C:\\Users\\student\\Documents\\python_basic\\paper_implementation\\bondreports.csv\",\n",
    "                  output_file=r\"C:\\Users\\student\\Documents\\python_basic\\paper_implementation\\bondreports_preprocessed.csv\") :\n",
    "    df = pd.read_csv(input_file)\n",
    "    df['tokens'] = ''\n",
    "    df['ngram'] = ''\n",
    "\n",
    "    #return \n",
    "    for row_idx in df.index: \n",
    "        text = df['report'][row_idx]\n",
    "        \n",
    "        try : \n",
    "            tokens,ngrams = text2ngram(text)\n",
    "            df['tokens'][row_idx] = \",\".join(tokens)\n",
    "            df['ngram'][row_idx] = \",\".join(ngrams)\n",
    "            print(str(row_idx+1) +'/'+ str(df.shape[0]) +'번째 파일 전처리 완료')\n",
    "        except Exception as e:\n",
    "            print(\"============ {} ===========\".format(str(e)))\n",
    "            print(\"Error :\" + text)\n",
    "        \n",
    "    df.to_csv(output_file, index=False)\n",
    "        \n",
    "Preprocessing()"
   ]
  }
 ],
 "metadata": {
  "kernelspec": {
   "display_name": "Python 3",
   "language": "python",
   "name": "python3"
  },
  "language_info": {
   "codemirror_mode": {
    "name": "ipython",
    "version": 3
   },
   "file_extension": ".py",
   "mimetype": "text/x-python",
   "name": "python",
   "nbconvert_exporter": "python",
   "pygments_lexer": "ipython3",
   "version": "3.7.3"
  }
 },
 "nbformat": 4,
 "nbformat_minor": 2
}
