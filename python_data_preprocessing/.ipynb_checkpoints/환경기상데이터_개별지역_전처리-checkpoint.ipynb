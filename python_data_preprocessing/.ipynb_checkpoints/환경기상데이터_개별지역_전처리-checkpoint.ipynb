{
 "cells": [
  {
   "cell_type": "code",
   "execution_count": 1,
   "metadata": {},
   "outputs": [],
   "source": [
    "# import moduel\n",
    "import pandas as pd\n",
    "import numpy as np\n",
    "import os \n",
    "from os import listdir\n",
    "import re"
   ]
  },
  {
   "cell_type": "markdown",
   "metadata": {},
   "source": [
    "### 노원구"
   ]
  },
  {
   "cell_type": "code",
   "execution_count": 40,
   "metadata": {},
   "outputs": [
    {
     "name": "stdout",
     "output_type": "stream",
     "text": [
      "Index(['날짜', 'HDONG_NM', '미세먼지(PM-10)', '소음(db)', '온도(℃)', '습도(%)',\n",
      "       '초미세먼지(PM-2.5)'],\n",
      "      dtype='object')\n",
      "8760\n"
     ]
    },
    {
     "name": "stderr",
     "output_type": "stream",
     "text": [
      "C:\\ProgramData\\Anaconda3\\lib\\site-packages\\pandas\\core\\indexing.py:190: SettingWithCopyWarning: \n",
      "A value is trying to be set on a copy of a slice from a DataFrame\n",
      "\n",
      "See the caveats in the documentation: http://pandas.pydata.org/pandas-docs/stable/indexing.html#indexing-view-versus-copy\n",
      "  self._setitem_with_indexer(indexer, value)\n"
     ]
    },
    {
     "data": {
      "text/html": [
       "<div>\n",
       "<style scoped>\n",
       "    .dataframe tbody tr th:only-of-type {\n",
       "        vertical-align: middle;\n",
       "    }\n",
       "\n",
       "    .dataframe tbody tr th {\n",
       "        vertical-align: top;\n",
       "    }\n",
       "\n",
       "    .dataframe thead th {\n",
       "        text-align: right;\n",
       "    }\n",
       "</style>\n",
       "<table border=\"1\" class=\"dataframe\">\n",
       "  <thead>\n",
       "    <tr style=\"text-align: right;\">\n",
       "      <th></th>\n",
       "      <th>미세먼지(PM-10)</th>\n",
       "      <th>소음(db)</th>\n",
       "      <th>온도(℃)</th>\n",
       "      <th>습도(%)</th>\n",
       "      <th>초미세먼지(PM-2.5)</th>\n",
       "      <th>PM10단계</th>\n",
       "      <th>PM25단계</th>\n",
       "      <th>HDONG_NM</th>\n",
       "    </tr>\n",
       "    <tr>\n",
       "      <th>날짜</th>\n",
       "      <th></th>\n",
       "      <th></th>\n",
       "      <th></th>\n",
       "      <th></th>\n",
       "      <th></th>\n",
       "      <th></th>\n",
       "      <th></th>\n",
       "      <th></th>\n",
       "    </tr>\n",
       "  </thead>\n",
       "  <tbody>\n",
       "    <tr>\n",
       "      <th>2018-04-01 00</th>\n",
       "      <td>66.0</td>\n",
       "      <td>51.0</td>\n",
       "      <td>15.0</td>\n",
       "      <td>51.0</td>\n",
       "      <td>38.0</td>\n",
       "      <td>보통</td>\n",
       "      <td>나쁨</td>\n",
       "      <td>상계 2동</td>\n",
       "    </tr>\n",
       "    <tr>\n",
       "      <th>2018-04-01 01</th>\n",
       "      <td>66.0</td>\n",
       "      <td>51.0</td>\n",
       "      <td>14.0</td>\n",
       "      <td>51.0</td>\n",
       "      <td>37.0</td>\n",
       "      <td>보통</td>\n",
       "      <td>나쁨</td>\n",
       "      <td>상계 2동</td>\n",
       "    </tr>\n",
       "    <tr>\n",
       "      <th>2018-04-01 02</th>\n",
       "      <td>67.0</td>\n",
       "      <td>50.0</td>\n",
       "      <td>14.0</td>\n",
       "      <td>52.0</td>\n",
       "      <td>33.0</td>\n",
       "      <td>보통</td>\n",
       "      <td>보통</td>\n",
       "      <td>상계 2동</td>\n",
       "    </tr>\n",
       "    <tr>\n",
       "      <th>2018-04-01 03</th>\n",
       "      <td>65.0</td>\n",
       "      <td>50.0</td>\n",
       "      <td>14.0</td>\n",
       "      <td>53.0</td>\n",
       "      <td>32.0</td>\n",
       "      <td>보통</td>\n",
       "      <td>보통</td>\n",
       "      <td>상계 2동</td>\n",
       "    </tr>\n",
       "    <tr>\n",
       "      <th>2018-04-01 04</th>\n",
       "      <td>64.0</td>\n",
       "      <td>50.0</td>\n",
       "      <td>14.0</td>\n",
       "      <td>53.0</td>\n",
       "      <td>37.0</td>\n",
       "      <td>보통</td>\n",
       "      <td>나쁨</td>\n",
       "      <td>상계 2동</td>\n",
       "    </tr>\n",
       "  </tbody>\n",
       "</table>\n",
       "</div>"
      ],
      "text/plain": [
       "               미세먼지(PM-10)  소음(db)  온도(℃)  습도(%)  초미세먼지(PM-2.5) PM10단계 PM25단계  \\\n",
       "날짜                                                                              \n",
       "2018-04-01 00         66.0    51.0   15.0   51.0           38.0     보통     나쁨   \n",
       "2018-04-01 01         66.0    51.0   14.0   51.0           37.0     보통     나쁨   \n",
       "2018-04-01 02         67.0    50.0   14.0   52.0           33.0     보통     보통   \n",
       "2018-04-01 03         65.0    50.0   14.0   53.0           32.0     보통     보통   \n",
       "2018-04-01 04         64.0    50.0   14.0   53.0           37.0     보통     나쁨   \n",
       "\n",
       "              HDONG_NM  \n",
       "날짜                      \n",
       "2018-04-01 00    상계 2동  \n",
       "2018-04-01 01    상계 2동  \n",
       "2018-04-01 02    상계 2동  \n",
       "2018-04-01 03    상계 2동  \n",
       "2018-04-01 04    상계 2동  "
      ]
     },
     "execution_count": 40,
     "metadata": {},
     "output_type": "execute_result"
    }
   ],
   "source": [
    "# 함수화\n",
    "# 상계 2동\n",
    "# 인자로 받을 값\n",
    "# V10O1610616, V10O1610200, V10O1610312, V10O1611100, 상계 2동\n",
    "\n",
    "# 데이터가 있는 폴더로 작업폴더 변경\n",
    "data_dir = \"C:\\\\Users\\\\User\\\\Documents\\\\data_weatherforcast\\\\노원구_전처리\"\n",
    "out_dir = \"C:\\\\Users\\\\User\\\\Documents\\\\data_weatherforcast\\\\노원구_전처리_개별동\"\n",
    "if not os.path.exists(out_dir): # 만약 경로가 없으면, \n",
    "    os.makedirs(out_dir) # 새로운 폴더를 생성하겠습니다.\n",
    "working_dir = os.chdir(data_dir)\n",
    "\n",
    "# 데이터 읽기\n",
    "V10O1610616 = pd.read_csv('{}.csv'.format('V10O1610616'))\n",
    "V10O1610200 = pd.read_csv('{}.csv'.format('V10O1610200'))\n",
    "V10O1610312 = pd.read_csv('{}.csv'.format('V10O1610312'))\n",
    "V10O1611100 = pd.read_csv('{}.csv'.format('V10O1611100'))\n",
    "\n",
    "# 데이터 병합\n",
    "df = pd.DataFrame(columns=['tm', '측정기 고유번호', '미세먼지(PM-10)', '소음(db)', '온도(℃)', '습도(%)',\n",
    "                           '초미세먼지(PM-2.5)'])\n",
    "df = df.append(V10O1610616)\n",
    "df = df.append(V10O1610200)\n",
    "df = df.append(V10O1610312)\n",
    "df = df.append(V10O1611100)\n",
    "\n",
    "# 측정기 고유번호 변경\n",
    "df['측정기 고유번호'] = '상계 2동'\n",
    "df = df.rename(columns={'측정기 고유번호': 'HDONG_NM', 'tm':'날짜'})\n",
    "print(df.columns)\n",
    "\n",
    "# 그룹별 묶고, 라벨링\n",
    "date_ls = list(df['날짜']) # 날짜 데이터를 list형태로 변경\n",
    "\n",
    "# 시간별로 date를 절사. :13까지가 시간단위!\n",
    "hour_ls = []\n",
    "for date in date_ls:\n",
    "    date = date[:13]\n",
    "    hour_ls.append(date)\n",
    "df['날짜'] = hour_ls\n",
    "\n",
    "# 소수점 0자리로 절사\n",
    "hour_df = round(df.groupby(df['날짜']).mean(),0)\n",
    "print(len(hour_df))\n",
    "\n",
    "# 단계별로 labeling\n",
    "hour_df['PM10단계'] = None\n",
    "hour_df['PM25단계'] = None\n",
    "\n",
    "good = hour_df[hour_df['미세먼지(PM-10)'] < 31.0].index\n",
    "hour_df['PM10단계'].loc[good] = '좋음'\n",
    "soso = hour_df[hour_df['미세먼지(PM-10)'] >= 31.0].index\n",
    "hour_df['PM10단계'].loc[soso] = '보통'\n",
    "bad = hour_df[hour_df['미세먼지(PM-10)'] >= 81.0].index\n",
    "hour_df['PM10단계'].loc[bad] = '나쁨'\n",
    "terrible = hour_df[hour_df['미세먼지(PM-10)'] >= 151.0].index\n",
    "hour_df['PM10단계'].loc[terrible] = '매우나쁨'\n",
    "\n",
    "# PM 2.5\n",
    "good = hour_df[hour_df['초미세먼지(PM-2.5)'] < 16.0].index\n",
    "hour_df['PM25단계'].loc[good] = '좋음'\n",
    "soso = hour_df[hour_df['초미세먼지(PM-2.5)'] >= 16.0].index\n",
    "hour_df['PM25단계'].loc[soso] = '보통'\n",
    "bad = hour_df[hour_df['초미세먼지(PM-2.5)'] >= 36.0].index\n",
    "hour_df['PM25단계'].loc[bad] = '나쁨'\n",
    "terrible = hour_df[hour_df['초미세먼지(PM-2.5)'] >= 76.0].index\n",
    "hour_df['PM25단계'].loc[terrible] = '매우 나쁨'\n",
    "\n",
    "hour_df['HDONG_NM'] = '상계 2동'\n",
    "hour_df.head()"
   ]
  },
  {
   "cell_type": "code",
   "execution_count": 39,
   "metadata": {},
   "outputs": [
    {
     "data": {
      "text/plain": [
       "1438560"
      ]
     },
     "execution_count": 39,
     "metadata": {},
     "output_type": "execute_result"
    }
   ],
   "source": [
    "len(df)"
   ]
  },
  {
   "cell_type": "code",
   "execution_count": null,
   "metadata": {},
   "outputs": [],
   "source": [
    "# 상계 6,7동\n",
    "# V10O1610376, V10O1610351, V10O1611104"
   ]
  },
  {
   "cell_type": "code",
   "execution_count": null,
   "metadata": {},
   "outputs": [],
   "source": [
    "# 하계1동 작업\n",
    "# V10O1610610, V10O1610102"
   ]
  },
  {
   "cell_type": "code",
   "execution_count": 15,
   "metadata": {},
   "outputs": [],
   "source": [
    "# 공릉 2동\n",
    "# V10O1610642, V10O1611652"
   ]
  },
  {
   "cell_type": "code",
   "execution_count": 16,
   "metadata": {},
   "outputs": [],
   "source": [
    "# 상계 5동\n",
    "# V10O1610297, V10O1611102"
   ]
  },
  {
   "cell_type": "code",
   "execution_count": 17,
   "metadata": {},
   "outputs": [],
   "source": [
    "# 공릉 1동\n",
    "# V10O1610629, V10O1610630"
   ]
  },
  {
   "cell_type": "code",
   "execution_count": null,
   "metadata": {},
   "outputs": [],
   "source": [
    "# 상계 10동\n",
    "# V10O1610293"
   ]
  },
  {
   "cell_type": "code",
   "execution_count": 2,
   "metadata": {},
   "outputs": [],
   "source": [
    "# 상계 1동\n",
    "# V10O1610356"
   ]
  },
  {
   "cell_type": "code",
   "execution_count": 4,
   "metadata": {},
   "outputs": [],
   "source": [
    "# 월계 3동\n",
    "# V10O1610643"
   ]
  },
  {
   "cell_type": "code",
   "execution_count": 9,
   "metadata": {},
   "outputs": [],
   "source": [
    "# 중계 2,3동\n",
    "# V10O1611097"
   ]
  },
  {
   "cell_type": "code",
   "execution_count": 10,
   "metadata": {},
   "outputs": [],
   "source": [
    "# 중계 본동\n",
    "# V10O1611097"
   ]
  },
  {
   "cell_type": "code",
   "execution_count": 12,
   "metadata": {},
   "outputs": [],
   "source": [
    "# 상계 3,4동\n",
    "# V10O1611150"
   ]
  },
  {
   "cell_type": "code",
   "execution_count": 13,
   "metadata": {},
   "outputs": [],
   "source": [
    "# 월계 1동\n",
    "# V10O1611229"
   ]
  }
 ],
 "metadata": {
  "kernelspec": {
   "display_name": "Python 3",
   "language": "python",
   "name": "python3"
  },
  "language_info": {
   "codemirror_mode": {
    "name": "ipython",
    "version": 3
   },
   "file_extension": ".py",
   "mimetype": "text/x-python",
   "name": "python",
   "nbconvert_exporter": "python",
   "pygments_lexer": "ipython3",
   "version": "3.7.3"
  }
 },
 "nbformat": 4,
 "nbformat_minor": 2
}
