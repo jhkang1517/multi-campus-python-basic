{
 "cells": [
  {
   "cell_type": "code",
   "execution_count": 30,
   "metadata": {},
   "outputs": [],
   "source": [
    "import numpy as np\n",
    "import pandas as pd\n",
    "import os \n",
    "from os import listdir\n",
    "import re\n",
    "\n",
    "base_dir = os.getcwd() # 현재 작업 dir 확인\n",
    "\n",
    "# 데이터가 들어있는 폴더\n",
    "data_dir = \"C:\\\\Users\\\\User\\\\Documents\\\\data_weatherforcast\\\\{}\".format('EDA')\n",
    "\n",
    "# data_dir로 작업하는 폴더 경로 변경\n",
    "working_dir = os.chdir(data_dir) \n",
    "\n",
    "# 전처리할 파일들이 들어있는 폴더의 파일 목록을 list형태로 추출\n",
    "files = os.listdir(data_dir)\n",
    "\n",
    "# 데이터 꺼내오기\n",
    "nowon = pd.read_csv(files[1], encoding='cp949')\n",
    "jongro = pd.read_csv(files[0], encoding='cp949')\n",
    "people = pd.read_csv(files[2], index_col=0)"
   ]
  },
  {
   "cell_type": "code",
   "execution_count": 31,
   "metadata": {},
   "outputs": [],
   "source": [
    "people = pd.read_csv(files[2], index_col=0)\n",
    "\n",
    "people['STD_YMD'] = people['STD_YMD'] * 100\n",
    "# print(type(people['STD_YMD'][0]))\n",
    "people['STD_YMD'] = people['STD_YMD'] + people['hour']\n",
    "# print(type(people['STD_YMD'][0]))\n",
    "people['STD_YMD'] = people['STD_YMD'].astype('str')\n",
    "# print(type(people['STD_YMD'][0]))\n",
    "people['STD_YMD'] = pd.to_datetime(people['STD_YMD'], format='%Y%m%d%H')\n",
    "# print(type(people['STD_YMD'][0]))\n",
    "# print(people['STD_YMD'][0])\n",
    "# people['STD_YMD'] = people['STD_YMD'].dt.strftime('%Y%m%d%H')\n",
    "\n",
    "# people = people.rename(columns={'STD_YMD': '날짜'})\n",
    "# # people.index = people['날짜']\n",
    "\n",
    "# drop\n",
    "people = people.drop(columns=['hour'])\n",
    "\n",
    "# people.head()\n",
    "# people.tail()"
   ]
  },
  {
   "cell_type": "markdown",
   "metadata": {},
   "source": [
    "## 불러온 데이터 처리"
   ]
  },
  {
   "cell_type": "code",
   "execution_count": 32,
   "metadata": {},
   "outputs": [],
   "source": [
    "people = people.drop(columns=['HDONG_CD'])\n",
    "# people.head()"
   ]
  },
  {
   "cell_type": "code",
   "execution_count": 33,
   "metadata": {},
   "outputs": [],
   "source": [
    "people = people[people.HDONG_NM != '월계2동']\n",
    "people = people[people.HDONG_NM != '창신2동']\n",
    "people = people[people.HDONG_NM != '상계8동']\n",
    "people = people[people.HDONG_NM != '중계4동']\n",
    "people = people[people.HDONG_NM != '중계1동']\n",
    "people = people[people.HDONG_NM != '상계9동']\n",
    "people = people[people.HDONG_NM != '무악동']\n",
    "people = people[people.HDONG_NM != '삼청동']\n",
    "people = people[people.HDONG_NM != '하계2동']\n",
    "people = people[people.HDONG_NM != '종로5.6가동']\n",
    "people = people[people.HDONG_NM != '숭인1동']\n",
    "# people.head()"
   ]
  },
  {
   "cell_type": "code",
   "execution_count": 34,
   "metadata": {},
   "outputs": [],
   "source": [
    "jongro = jongro[jongro.HDONG_NM != '천연동']\n",
    "jongro = jongro[jongro.HDONG_NM != '명동']\n",
    "# jongro.head()"
   ]
  },
  {
   "cell_type": "code",
   "execution_count": 35,
   "metadata": {},
   "outputs": [],
   "source": [
    "people.index = range(len(people))\n",
    "# people.head()"
   ]
  },
  {
   "cell_type": "code",
   "execution_count": 36,
   "metadata": {},
   "outputs": [],
   "source": [
    "nowon.index = range(len(nowon))\n",
    "jongro.index = range(len(jongro))"
   ]
  },
  {
   "cell_type": "code",
   "execution_count": 37,
   "metadata": {},
   "outputs": [
    {
     "data": {
      "text/html": [
       "<div>\n",
       "<style scoped>\n",
       "    .dataframe tbody tr th:only-of-type {\n",
       "        vertical-align: middle;\n",
       "    }\n",
       "\n",
       "    .dataframe tbody tr th {\n",
       "        vertical-align: top;\n",
       "    }\n",
       "\n",
       "    .dataframe thead th {\n",
       "        text-align: right;\n",
       "    }\n",
       "</style>\n",
       "<table border=\"1\" class=\"dataframe\">\n",
       "  <thead>\n",
       "    <tr style=\"text-align: right;\">\n",
       "      <th></th>\n",
       "      <th>STD_YMD</th>\n",
       "      <th>HDONG_NM</th>\n",
       "      <th>population</th>\n",
       "    </tr>\n",
       "  </thead>\n",
       "  <tbody>\n",
       "    <tr>\n",
       "      <th>0</th>\n",
       "      <td>2018-04-01</td>\n",
       "      <td>청운효자동</td>\n",
       "      <td>609.11</td>\n",
       "    </tr>\n",
       "    <tr>\n",
       "      <th>1</th>\n",
       "      <td>2018-04-01</td>\n",
       "      <td>사직동</td>\n",
       "      <td>1904.32</td>\n",
       "    </tr>\n",
       "    <tr>\n",
       "      <th>2</th>\n",
       "      <td>2018-04-01</td>\n",
       "      <td>부암동</td>\n",
       "      <td>1300.61</td>\n",
       "    </tr>\n",
       "    <tr>\n",
       "      <th>3</th>\n",
       "      <td>2018-04-01</td>\n",
       "      <td>평창동</td>\n",
       "      <td>2523.88</td>\n",
       "    </tr>\n",
       "    <tr>\n",
       "      <th>4</th>\n",
       "      <td>2018-04-01</td>\n",
       "      <td>교남동</td>\n",
       "      <td>528.17</td>\n",
       "    </tr>\n",
       "  </tbody>\n",
       "</table>\n",
       "</div>"
      ],
      "text/plain": [
       "     STD_YMD HDONG_NM  population\n",
       "0 2018-04-01    청운효자동      609.11\n",
       "1 2018-04-01      사직동     1904.32\n",
       "2 2018-04-01      부암동     1300.61\n",
       "3 2018-04-01      평창동     2523.88\n",
       "4 2018-04-01      교남동      528.17"
      ]
     },
     "execution_count": 37,
     "metadata": {},
     "output_type": "execute_result"
    }
   ],
   "source": [
    "people.head()"
   ]
  },
  {
   "cell_type": "code",
   "execution_count": 38,
   "metadata": {},
   "outputs": [
    {
     "data": {
      "text/plain": [
       "219000"
      ]
     },
     "execution_count": 38,
     "metadata": {},
     "output_type": "execute_result"
    }
   ],
   "source": [
    "len(people)"
   ]
  },
  {
   "cell_type": "code",
   "execution_count": 39,
   "metadata": {},
   "outputs": [
    {
     "data": {
      "text/html": [
       "<div>\n",
       "<style scoped>\n",
       "    .dataframe tbody tr th:only-of-type {\n",
       "        vertical-align: middle;\n",
       "    }\n",
       "\n",
       "    .dataframe tbody tr th {\n",
       "        vertical-align: top;\n",
       "    }\n",
       "\n",
       "    .dataframe thead th {\n",
       "        text-align: right;\n",
       "    }\n",
       "</style>\n",
       "<table border=\"1\" class=\"dataframe\">\n",
       "  <thead>\n",
       "    <tr style=\"text-align: right;\">\n",
       "      <th></th>\n",
       "      <th>Unnamed: 0</th>\n",
       "      <th>미세먼지(PM-10)</th>\n",
       "      <th>소음(db)</th>\n",
       "      <th>온도(℃)</th>\n",
       "      <th>습도(%)</th>\n",
       "      <th>초미세먼지(PM-2.5)</th>\n",
       "      <th>PM10단계</th>\n",
       "      <th>PM25단계</th>\n",
       "      <th>HDONG_NM</th>\n",
       "    </tr>\n",
       "  </thead>\n",
       "  <tbody>\n",
       "    <tr>\n",
       "      <th>0</th>\n",
       "      <td>2018-04-01 00:00:00</td>\n",
       "      <td>66.0</td>\n",
       "      <td>51.0</td>\n",
       "      <td>15.0</td>\n",
       "      <td>51.0</td>\n",
       "      <td>38.0</td>\n",
       "      <td>보통</td>\n",
       "      <td>나쁨</td>\n",
       "      <td>상계2동</td>\n",
       "    </tr>\n",
       "    <tr>\n",
       "      <th>1</th>\n",
       "      <td>2018-04-01 01:00:00</td>\n",
       "      <td>66.0</td>\n",
       "      <td>51.0</td>\n",
       "      <td>14.0</td>\n",
       "      <td>51.0</td>\n",
       "      <td>37.0</td>\n",
       "      <td>보통</td>\n",
       "      <td>나쁨</td>\n",
       "      <td>상계2동</td>\n",
       "    </tr>\n",
       "    <tr>\n",
       "      <th>2</th>\n",
       "      <td>2018-04-01 02:00:00</td>\n",
       "      <td>67.0</td>\n",
       "      <td>50.0</td>\n",
       "      <td>14.0</td>\n",
       "      <td>52.0</td>\n",
       "      <td>33.0</td>\n",
       "      <td>보통</td>\n",
       "      <td>보통</td>\n",
       "      <td>상계2동</td>\n",
       "    </tr>\n",
       "    <tr>\n",
       "      <th>3</th>\n",
       "      <td>2018-04-01 03:00:00</td>\n",
       "      <td>65.0</td>\n",
       "      <td>50.0</td>\n",
       "      <td>14.0</td>\n",
       "      <td>53.0</td>\n",
       "      <td>32.0</td>\n",
       "      <td>보통</td>\n",
       "      <td>보통</td>\n",
       "      <td>상계2동</td>\n",
       "    </tr>\n",
       "    <tr>\n",
       "      <th>4</th>\n",
       "      <td>2018-04-01 04:00:00</td>\n",
       "      <td>64.0</td>\n",
       "      <td>50.0</td>\n",
       "      <td>14.0</td>\n",
       "      <td>53.0</td>\n",
       "      <td>37.0</td>\n",
       "      <td>보통</td>\n",
       "      <td>나쁨</td>\n",
       "      <td>상계2동</td>\n",
       "    </tr>\n",
       "  </tbody>\n",
       "</table>\n",
       "</div>"
      ],
      "text/plain": [
       "            Unnamed: 0  미세먼지(PM-10)  소음(db)  온도(℃)  습도(%)  초미세먼지(PM-2.5)  \\\n",
       "0  2018-04-01 00:00:00         66.0    51.0   15.0   51.0           38.0   \n",
       "1  2018-04-01 01:00:00         66.0    51.0   14.0   51.0           37.0   \n",
       "2  2018-04-01 02:00:00         67.0    50.0   14.0   52.0           33.0   \n",
       "3  2018-04-01 03:00:00         65.0    50.0   14.0   53.0           32.0   \n",
       "4  2018-04-01 04:00:00         64.0    50.0   14.0   53.0           37.0   \n",
       "\n",
       "  PM10단계 PM25단계 HDONG_NM  \n",
       "0     보통     나쁨     상계2동  \n",
       "1     보통     나쁨     상계2동  \n",
       "2     보통     보통     상계2동  \n",
       "3     보통     보통     상계2동  \n",
       "4     보통     나쁨     상계2동  "
      ]
     },
     "execution_count": 39,
     "metadata": {},
     "output_type": "execute_result"
    }
   ],
   "source": [
    "nowon.head()"
   ]
  },
  {
   "cell_type": "code",
   "execution_count": 40,
   "metadata": {},
   "outputs": [
    {
     "data": {
      "text/plain": [
       "113880"
      ]
     },
     "execution_count": 40,
     "metadata": {},
     "output_type": "execute_result"
    }
   ],
   "source": [
    "len(nowon)"
   ]
  },
  {
   "cell_type": "code",
   "execution_count": 41,
   "metadata": {
    "scrolled": true
   },
   "outputs": [
    {
     "data": {
      "text/plain": [
       "월계1동      8760\n",
       "월계3동      8760\n",
       "공릉2동      8760\n",
       "상계1동      8760\n",
       "상계6.7동    8760\n",
       "공릉1동      8760\n",
       "중계본동      8760\n",
       "하계1동      8760\n",
       "상계5동      8760\n",
       "상계3.4동    8760\n",
       "상계10동     8760\n",
       "중계2.3동    8760\n",
       "상계2동      8760\n",
       "Name: HDONG_NM, dtype: int64"
      ]
     },
     "execution_count": 41,
     "metadata": {},
     "output_type": "execute_result"
    }
   ],
   "source": [
    "nowon['HDONG_NM'].value_counts()"
   ]
  },
  {
   "cell_type": "code",
   "execution_count": 42,
   "metadata": {},
   "outputs": [
    {
     "data": {
      "text/plain": [
       "혜화동            8760\n",
       "청운효자동          8760\n",
       "숭인2동           8760\n",
       "창신1동           8760\n",
       "교남동            8760\n",
       "창신3동           8760\n",
       "종로1.2.3.4가동    8760\n",
       "사직동            8760\n",
       "이화동            8760\n",
       "부암동            8760\n",
       "평창동            8760\n",
       "가회동            8760\n",
       "Name: HDONG_NM, dtype: int64"
      ]
     },
     "execution_count": 42,
     "metadata": {},
     "output_type": "execute_result"
    }
   ],
   "source": [
    "jongro['HDONG_NM'].value_counts()"
   ]
  },
  {
   "cell_type": "code",
   "execution_count": 43,
   "metadata": {
    "scrolled": true
   },
   "outputs": [
    {
     "data": {
      "text/plain": [
       "월계1동           8760\n",
       "월계3동           8760\n",
       "부암동            8760\n",
       "이화동            8760\n",
       "사직동            8760\n",
       "종로1.2.3.4가동    8760\n",
       "상계3.4동         8760\n",
       "상계5동           8760\n",
       "창신3동           8760\n",
       "교남동            8760\n",
       "창신1동           8760\n",
       "상계1동           8760\n",
       "혜화동            8760\n",
       "공릉2동           8760\n",
       "가회동            8760\n",
       "상계2동           8760\n",
       "중계2.3동         8760\n",
       "상계10동          8760\n",
       "하계1동           8760\n",
       "중계본동           8760\n",
       "공릉1동           8760\n",
       "상계6.7동         8760\n",
       "숭인2동           8760\n",
       "청운효자동          8760\n",
       "평창동            8760\n",
       "Name: HDONG_NM, dtype: int64"
      ]
     },
     "execution_count": 43,
     "metadata": {},
     "output_type": "execute_result"
    }
   ],
   "source": [
    "people['HDONG_NM'].value_counts()"
   ]
  },
  {
   "cell_type": "code",
   "execution_count": 44,
   "metadata": {},
   "outputs": [
    {
     "data": {
      "text/plain": [
       "219000"
      ]
     },
     "execution_count": 44,
     "metadata": {},
     "output_type": "execute_result"
    }
   ],
   "source": [
    "len(nowon) + len(jongro)"
   ]
  },
  {
   "cell_type": "code",
   "execution_count": 45,
   "metadata": {},
   "outputs": [
    {
     "data": {
      "text/plain": [
       "219000"
      ]
     },
     "execution_count": 45,
     "metadata": {},
     "output_type": "execute_result"
    }
   ],
   "source": [
    "len(people)"
   ]
  },
  {
   "cell_type": "code",
   "execution_count": 46,
   "metadata": {},
   "outputs": [
    {
     "data": {
      "text/html": [
       "<div>\n",
       "<style scoped>\n",
       "    .dataframe tbody tr th:only-of-type {\n",
       "        vertical-align: middle;\n",
       "    }\n",
       "\n",
       "    .dataframe tbody tr th {\n",
       "        vertical-align: top;\n",
       "    }\n",
       "\n",
       "    .dataframe thead th {\n",
       "        text-align: right;\n",
       "    }\n",
       "</style>\n",
       "<table border=\"1\" class=\"dataframe\">\n",
       "  <thead>\n",
       "    <tr style=\"text-align: right;\">\n",
       "      <th></th>\n",
       "      <th>HDONG_NM</th>\n",
       "      <th>PM10단계</th>\n",
       "      <th>PM25단계</th>\n",
       "      <th>Unnamed: 0</th>\n",
       "      <th>미세먼지(PM-10)</th>\n",
       "      <th>소음(db)</th>\n",
       "      <th>습도(%)</th>\n",
       "      <th>온도(℃)</th>\n",
       "      <th>초미세먼지(PM-2.5)</th>\n",
       "    </tr>\n",
       "  </thead>\n",
       "  <tbody>\n",
       "    <tr>\n",
       "      <th>0</th>\n",
       "      <td>상계2동</td>\n",
       "      <td>보통</td>\n",
       "      <td>나쁨</td>\n",
       "      <td>2018-04-01 00:00:00</td>\n",
       "      <td>66.0</td>\n",
       "      <td>51.0</td>\n",
       "      <td>51.0</td>\n",
       "      <td>15.0</td>\n",
       "      <td>38.0</td>\n",
       "    </tr>\n",
       "    <tr>\n",
       "      <th>1</th>\n",
       "      <td>상계2동</td>\n",
       "      <td>보통</td>\n",
       "      <td>나쁨</td>\n",
       "      <td>2018-04-01 01:00:00</td>\n",
       "      <td>66.0</td>\n",
       "      <td>51.0</td>\n",
       "      <td>51.0</td>\n",
       "      <td>14.0</td>\n",
       "      <td>37.0</td>\n",
       "    </tr>\n",
       "    <tr>\n",
       "      <th>2</th>\n",
       "      <td>상계2동</td>\n",
       "      <td>보통</td>\n",
       "      <td>보통</td>\n",
       "      <td>2018-04-01 02:00:00</td>\n",
       "      <td>67.0</td>\n",
       "      <td>50.0</td>\n",
       "      <td>52.0</td>\n",
       "      <td>14.0</td>\n",
       "      <td>33.0</td>\n",
       "    </tr>\n",
       "    <tr>\n",
       "      <th>3</th>\n",
       "      <td>상계2동</td>\n",
       "      <td>보통</td>\n",
       "      <td>보통</td>\n",
       "      <td>2018-04-01 03:00:00</td>\n",
       "      <td>65.0</td>\n",
       "      <td>50.0</td>\n",
       "      <td>53.0</td>\n",
       "      <td>14.0</td>\n",
       "      <td>32.0</td>\n",
       "    </tr>\n",
       "    <tr>\n",
       "      <th>4</th>\n",
       "      <td>상계2동</td>\n",
       "      <td>보통</td>\n",
       "      <td>나쁨</td>\n",
       "      <td>2018-04-01 04:00:00</td>\n",
       "      <td>64.0</td>\n",
       "      <td>50.0</td>\n",
       "      <td>53.0</td>\n",
       "      <td>14.0</td>\n",
       "      <td>37.0</td>\n",
       "    </tr>\n",
       "  </tbody>\n",
       "</table>\n",
       "</div>"
      ],
      "text/plain": [
       "  HDONG_NM PM10단계 PM25단계           Unnamed: 0  미세먼지(PM-10)  소음(db)  습도(%)  \\\n",
       "0     상계2동     보통     나쁨  2018-04-01 00:00:00         66.0    51.0   51.0   \n",
       "1     상계2동     보통     나쁨  2018-04-01 01:00:00         66.0    51.0   51.0   \n",
       "2     상계2동     보통     보통  2018-04-01 02:00:00         67.0    50.0   52.0   \n",
       "3     상계2동     보통     보통  2018-04-01 03:00:00         65.0    50.0   53.0   \n",
       "4     상계2동     보통     나쁨  2018-04-01 04:00:00         64.0    50.0   53.0   \n",
       "\n",
       "   온도(℃)  초미세먼지(PM-2.5)  \n",
       "0   15.0           38.0  \n",
       "1   14.0           37.0  \n",
       "2   14.0           33.0  \n",
       "3   14.0           32.0  \n",
       "4   14.0           37.0  "
      ]
     },
     "execution_count": 46,
     "metadata": {},
     "output_type": "execute_result"
    }
   ],
   "source": [
    "nowon_x_jongro = pd.DataFrame(columns=['미세먼지(PM-10)', '소음(db)', '온도(℃)', '습도(%)',\n",
    "                                       '초미세먼지(PM-2.5)', 'PM10단계', 'PM25단계', 'HDONG_NM'])\n",
    "\n",
    "nowon_x_jongro = nowon_x_jongro.append(nowon, ignore_index=True)\n",
    "nowon_x_jongro = nowon_x_jongro.append(jongro, ignore_index=True)\n",
    "nowon_x_jongro.head()"
   ]
  },
  {
   "cell_type": "code",
   "execution_count": 47,
   "metadata": {},
   "outputs": [
    {
     "data": {
      "text/plain": [
       "219000"
      ]
     },
     "execution_count": 47,
     "metadata": {},
     "output_type": "execute_result"
    }
   ],
   "source": [
    "len(nowon_x_jongro)"
   ]
  },
  {
   "cell_type": "code",
   "execution_count": 48,
   "metadata": {},
   "outputs": [
    {
     "data": {
      "text/plain": [
       "Index(['STD_YMD', 'HDONG_NM', 'population'], dtype='object')"
      ]
     },
     "execution_count": 48,
     "metadata": {},
     "output_type": "execute_result"
    }
   ],
   "source": [
    "people.columns"
   ]
  },
  {
   "cell_type": "code",
   "execution_count": 49,
   "metadata": {},
   "outputs": [
    {
     "data": {
      "text/plain": [
       "Index(['HDONG_NM', 'PM10단계', 'PM25단계', 'Unnamed: 0', '미세먼지(PM-10)', '소음(db)',\n",
       "       '습도(%)', '온도(℃)', '초미세먼지(PM-2.5)'],\n",
       "      dtype='object')"
      ]
     },
     "execution_count": 49,
     "metadata": {},
     "output_type": "execute_result"
    }
   ],
   "source": [
    "nowon_x_jongro.columns"
   ]
  },
  {
   "cell_type": "code",
   "execution_count": 50,
   "metadata": {},
   "outputs": [
    {
     "data": {
      "text/html": [
       "<div>\n",
       "<style scoped>\n",
       "    .dataframe tbody tr th:only-of-type {\n",
       "        vertical-align: middle;\n",
       "    }\n",
       "\n",
       "    .dataframe tbody tr th {\n",
       "        vertical-align: top;\n",
       "    }\n",
       "\n",
       "    .dataframe thead th {\n",
       "        text-align: right;\n",
       "    }\n",
       "</style>\n",
       "<table border=\"1\" class=\"dataframe\">\n",
       "  <thead>\n",
       "    <tr style=\"text-align: right;\">\n",
       "      <th></th>\n",
       "      <th>HDONG_NM</th>\n",
       "      <th>PM10단계</th>\n",
       "      <th>PM25단계</th>\n",
       "      <th>STD_YMD</th>\n",
       "      <th>미세먼지(PM-10)</th>\n",
       "      <th>소음(db)</th>\n",
       "      <th>습도(%)</th>\n",
       "      <th>온도(℃)</th>\n",
       "      <th>초미세먼지(PM-2.5)</th>\n",
       "    </tr>\n",
       "  </thead>\n",
       "  <tbody>\n",
       "    <tr>\n",
       "      <th>0</th>\n",
       "      <td>상계2동</td>\n",
       "      <td>보통</td>\n",
       "      <td>나쁨</td>\n",
       "      <td>2018-04-01 00:00:00</td>\n",
       "      <td>66.0</td>\n",
       "      <td>51.0</td>\n",
       "      <td>51.0</td>\n",
       "      <td>15.0</td>\n",
       "      <td>38.0</td>\n",
       "    </tr>\n",
       "    <tr>\n",
       "      <th>1</th>\n",
       "      <td>상계2동</td>\n",
       "      <td>보통</td>\n",
       "      <td>나쁨</td>\n",
       "      <td>2018-04-01 01:00:00</td>\n",
       "      <td>66.0</td>\n",
       "      <td>51.0</td>\n",
       "      <td>51.0</td>\n",
       "      <td>14.0</td>\n",
       "      <td>37.0</td>\n",
       "    </tr>\n",
       "    <tr>\n",
       "      <th>2</th>\n",
       "      <td>상계2동</td>\n",
       "      <td>보통</td>\n",
       "      <td>보통</td>\n",
       "      <td>2018-04-01 02:00:00</td>\n",
       "      <td>67.0</td>\n",
       "      <td>50.0</td>\n",
       "      <td>52.0</td>\n",
       "      <td>14.0</td>\n",
       "      <td>33.0</td>\n",
       "    </tr>\n",
       "    <tr>\n",
       "      <th>3</th>\n",
       "      <td>상계2동</td>\n",
       "      <td>보통</td>\n",
       "      <td>보통</td>\n",
       "      <td>2018-04-01 03:00:00</td>\n",
       "      <td>65.0</td>\n",
       "      <td>50.0</td>\n",
       "      <td>53.0</td>\n",
       "      <td>14.0</td>\n",
       "      <td>32.0</td>\n",
       "    </tr>\n",
       "    <tr>\n",
       "      <th>4</th>\n",
       "      <td>상계2동</td>\n",
       "      <td>보통</td>\n",
       "      <td>나쁨</td>\n",
       "      <td>2018-04-01 04:00:00</td>\n",
       "      <td>64.0</td>\n",
       "      <td>50.0</td>\n",
       "      <td>53.0</td>\n",
       "      <td>14.0</td>\n",
       "      <td>37.0</td>\n",
       "    </tr>\n",
       "  </tbody>\n",
       "</table>\n",
       "</div>"
      ],
      "text/plain": [
       "  HDONG_NM PM10단계 PM25단계              STD_YMD  미세먼지(PM-10)  소음(db)  습도(%)  \\\n",
       "0     상계2동     보통     나쁨  2018-04-01 00:00:00         66.0    51.0   51.0   \n",
       "1     상계2동     보통     나쁨  2018-04-01 01:00:00         66.0    51.0   51.0   \n",
       "2     상계2동     보통     보통  2018-04-01 02:00:00         67.0    50.0   52.0   \n",
       "3     상계2동     보통     보통  2018-04-01 03:00:00         65.0    50.0   53.0   \n",
       "4     상계2동     보통     나쁨  2018-04-01 04:00:00         64.0    50.0   53.0   \n",
       "\n",
       "   온도(℃)  초미세먼지(PM-2.5)  \n",
       "0   15.0           38.0  \n",
       "1   14.0           37.0  \n",
       "2   14.0           33.0  \n",
       "3   14.0           32.0  \n",
       "4   14.0           37.0  "
      ]
     },
     "execution_count": 50,
     "metadata": {},
     "output_type": "execute_result"
    }
   ],
   "source": [
    "nowon_x_jongro = nowon_x_jongro.rename(columns={'Unnamed: 0':'STD_YMD'})\n",
    "nowon_x_jongro.head()"
   ]
  },
  {
   "cell_type": "code",
   "execution_count": 51,
   "metadata": {},
   "outputs": [],
   "source": [
    "nowon_x_jongro.to_csv('nowon_x_jongro.csv', encoding='cp949')"
   ]
  },
  {
   "cell_type": "code",
   "execution_count": 52,
   "metadata": {},
   "outputs": [],
   "source": [
    "people.to_csv('people.csv', encoding='cp949')"
   ]
  },
  {
   "cell_type": "code",
   "execution_count": 53,
   "metadata": {},
   "outputs": [
    {
     "data": {
      "text/plain": [
       "True"
      ]
     },
     "execution_count": 53,
     "metadata": {},
     "output_type": "execute_result"
    }
   ],
   "source": [
    "set(nowon_x_jongro['HDONG_NM']) == set(people['HDONG_NM'])"
   ]
  },
  {
   "cell_type": "code",
   "execution_count": null,
   "metadata": {},
   "outputs": [],
   "source": []
  }
 ],
 "metadata": {
  "kernelspec": {
   "display_name": "Python 3",
   "language": "python",
   "name": "python3"
  },
  "language_info": {
   "codemirror_mode": {
    "name": "ipython",
    "version": 3
   },
   "file_extension": ".py",
   "mimetype": "text/x-python",
   "name": "python",
   "nbconvert_exporter": "python",
   "pygments_lexer": "ipython3",
   "version": "3.7.3"
  }
 },
 "nbformat": 4,
 "nbformat_minor": 2
}
