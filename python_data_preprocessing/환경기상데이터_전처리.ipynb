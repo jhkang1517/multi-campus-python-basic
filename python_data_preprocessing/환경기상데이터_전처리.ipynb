{
 "cells": [
  {
   "cell_type": "markdown",
   "metadata": {},
   "source": [
    "# 코드 설계"
   ]
  },
  {
   "cell_type": "markdown",
   "metadata": {},
   "source": [
    "## Data 가져오기 (노원구, 종로구)\n",
    " * 함수화 완료"
   ]
  },
  {
   "cell_type": "markdown",
   "metadata": {},
   "source": [
    "## 코드 설명\n",
    " * data_dir과 out_dir 경로를 잘 봐주세요. 전처리할 데이터의 폴더 경로입니다. 따라서 자신의 컴퓨터에 파일이 저장되어 있는 경로를 설정해주어야합니다. \n",
    " * PreprocessingData함수는 폴더이름들을 인자값으로 받습니다. 따라서 위에서 경로지정을 할 때, 폴더 이름까지 지정할 필요는 없습니다! "
   ]
  },
  {
   "cell_type": "code",
   "execution_count": 14,
   "metadata": {
    "scrolled": true
   },
   "outputs": [],
   "source": [
    "# import moduel\n",
    "import pandas as pd\n",
    "import numpy as np\n",
    "import os \n",
    "from os import listdir\n",
    "import re\n",
    "\n",
    "# DataDirectoryName: 데이터가 들어있는 폴더 이름을 입력하세요\n",
    "# OutDirectoryName: 전처리된 데이터를 내보낼 폴더 이름을 입력하세요\n",
    "def PreprocessingData(DataDirectoryName, OutDirectoryName):\n",
    "    base_dir = os.getcwd() # 현재 작업 dir 확인\n",
    "\n",
    "    # 데이터가 들어있는 폴더\n",
    "    data_dir = \"C:\\\\Users\\\\User\\\\Documents\\\\data_weatherforcast\\\\{}\".format(DataDirectoryName)\n",
    "    if not os.path.exists(data_dir): # 만약 경로가 없으면, \n",
    "            os.makedirs(data_dir) # 새로운 폴더를 생성하겠습니다.\n",
    "    \n",
    "    # data_dir로 작업하는 폴더 경로 변경\n",
    "    working_dir = os.chdir(data_dir) \n",
    "    \n",
    "    # 전처리된 데이터를 내보낼 폴더\n",
    "    out_dir = \"C:\\\\Users\\\\User\\\\Documents\\\\data_weatherforcast\\\\{}\\\\\".format(OutDirectoryName) \n",
    "    if not os.path.exists(out_dir): # 만약 경로가 없으면, \n",
    "            os.makedirs(out_dir) # 새로운 폴더를 생성하겠습니다.\n",
    "            \n",
    "    # 전처리할 파일들이 들어있는 폴더의 파일 목록을 list형태로 추출\n",
    "    files = os.listdir(data_dir)\n",
    "    # 최종적으로 합쳐질 빈 데이터 프레임 생성\n",
    "    Merged_DF = pd.DataFrame(columns=['측정기 고유번호','미세먼지(PM-10)','소음(db)','온도(℃)','습도(%)','초미세먼지(PM-2.5)'])\n",
    "\n",
    "    # for문을 돌면서 하나씩 파일을 꺼내옴\n",
    "    for file in files:\n",
    "        raw_file = pd.read_csv(file, index_col=0)\n",
    "        raw_file = raw_file.loc[:, ~raw_file.columns.str.contains('^Unnamed')] # 정규표현식 활용해서 Unnamed columns 삭제\n",
    "\n",
    "        # 전부 결측치인 column인 co2, vocs 두개의 열 제거\n",
    "        raw_file = raw_file.drop(['co2','vocs'], axis='columns')\n",
    "\n",
    "        # 분석에서 유의미하게 사용되지 않을 실외측정기 구분 열 제거\n",
    "        raw_file = raw_file.drop(['flag'], axis='columns')\n",
    "\n",
    "        # 데이터 결측치 처리 code -> Not a Number로 변경\n",
    "        raw_file = raw_file.replace([-999,-9999],[np.nan, np.nan])\n",
    "\n",
    "        # 데이터 이상치 처리 code -> 바로 앞의 값으로 대체하는 논리구조\n",
    "        # pm10의 이상치 제거\n",
    "        raw_file[raw_file['pm10'] > 1050.0].index\n",
    "        outlier = raw_file[raw_file['pm10'] > 1050.0].index\n",
    "        raw_file['pm10'].loc[outlier] = raw_file['pm10'].loc[outlier-1]\n",
    "\n",
    "        # pm25의 이상치 제거\n",
    "        raw_file[raw_file['pm25'] > 3800.0].index\n",
    "        outlier = raw_file[raw_file['pm25'] > 3800.0].index\n",
    "        raw_file['pm25'].loc[outlier] = raw_file['pm25'].loc[outlier-1]\n",
    "\n",
    "        # column 이름 변경\n",
    "        raw_file.rename(columns={\n",
    "            'serial': '측정기 고유번호',\n",
    "    #         'flag': '실외 측정기 구분',\n",
    "            'pm10': '미세먼지(PM-10)',\n",
    "    #         'co2': '이산화탄소 농도(ppm)',\n",
    "    #         'vocs': '휘발성유기화합물 농도',\n",
    "            'noise': '소음(db)',\n",
    "            'temp': '온도(℃)',\n",
    "            'humi': '습도(%)',\n",
    "            'pm25': '초미세먼지(PM-2.5)',\n",
    "        }, inplace=True)\n",
    "\n",
    "        # datetime형식으로 type 변경\n",
    "        # 이 방식은 반드시 마지막에 해주어야 오류가 발생하지 않는다.\n",
    "        raw_file.index = pd.to_datetime(raw_file.index, format='%Y%m%d%H%M')\n",
    "\n",
    "    #     print(raw_file.columns) # columns name 확인\n",
    "    #     print(raw_file.describe())\n",
    "    #     print(raw_file['미세먼지(PM-10)'].max())\n",
    "    #     print(raw_file['초미세먼지(PM-2.5)'].max())\n",
    "    #     print(raw_file.tail())\n",
    "\n",
    "        # 바뀐 dataframe을 새로운 폴더의 같은 이름으로 to_csv 하는 code\n",
    "        raw_file.to_csv(out_dir+file)\n",
    "        print(file,\"작업완료\")\n",
    "\n",
    "        # 위에서 생성한 빈 데이터 프레임에 연결\n",
    "        Merged_DF = pd.concat([Merged_DF, raw_file])\n",
    "\n",
    "    # 합쳐진 df을 다른 이름으로 빼내기\n",
    "    Merged_DF.to_csv(out_dir+'Total_{}.csv'.format(DataDirectoryName))"
   ]
  },
  {
   "cell_type": "code",
   "execution_count": 15,
   "metadata": {
    "scrolled": true
   },
   "outputs": [
    {
     "name": "stdout",
     "output_type": "stream",
     "text": [
      "V10O1610102.csv 작업완료\n",
      "V10O1610200.csv 작업완료\n",
      "V10O1610293.csv 작업완료\n",
      "V10O1610297.csv 작업완료\n",
      "V10O1610312.csv 작업완료\n"
     ]
    },
    {
     "name": "stderr",
     "output_type": "stream",
     "text": [
      "C:\\ProgramData\\Anaconda3\\lib\\site-packages\\ipykernel_launcher.py:49: FutureWarning: \n",
      "Passing list-likes to .loc or [] with any missing label will raise\n",
      "KeyError in the future, you can use .reindex() as an alternative.\n",
      "\n",
      "See the documentation here:\n",
      "https://pandas.pydata.org/pandas-docs/stable/indexing.html#deprecate-loc-reindex-listlike\n"
     ]
    },
    {
     "name": "stdout",
     "output_type": "stream",
     "text": [
      "V10O1610351.csv 작업완료\n",
      "V10O1610356.csv 작업완료\n",
      "V10O1610376.csv 작업완료\n",
      "V10O1610610.csv 작업완료\n",
      "V10O1610616.csv 작업완료\n",
      "V10O1610629.csv 작업완료\n",
      "V10O1610630.csv 작업완료\n",
      "V10O1610642.csv 작업완료\n",
      "V10O1610643.csv 작업완료\n",
      "V10O1611097.csv 작업완료\n",
      "V10O1611100.csv 작업완료\n",
      "V10O1611102.csv 작업완료\n",
      "V10O1611104.csv 작업완료\n",
      "V10O1611150.csv 작업완료\n",
      "V10O1611229.csv 작업완료\n",
      "V10O1611652.csv 작업완료\n",
      "V10O1612126.csv 작업완료\n"
     ]
    }
   ],
   "source": [
    "PreprocessingData('노원구','노원구_전처리')"
   ]
  },
  {
   "cell_type": "code",
   "execution_count": 17,
   "metadata": {
    "scrolled": true
   },
   "outputs": [
    {
     "name": "stdout",
     "output_type": "stream",
     "text": [
      "V01o1610468.csv 작업완료\n",
      "V10O1610252.csv 작업완료\n",
      "V10O1610540.csv 작업완료\n",
      "V10O1610542.csv 작업완료\n",
      "V10O1610543.csv 작업완료\n",
      "V10O1610544.csv 작업완료\n",
      "V10O1610545.csv 작업완료\n",
      "V10O1610546.csv 작업완료\n",
      "V10O1610567.csv 작업완료\n",
      "V10O1611145.csv 작업완료\n",
      "V10O1611151.csv 작업완료\n",
      "V10O1611170.csv 작업완료\n",
      "V10O1611172.csv 작업완료\n",
      "V10O1611173.csv 작업완료\n",
      "V10O1611220.csv 작업완료\n",
      "V10O1611251.csv 작업완료\n",
      "V10O1611255.csv 작업완료\n",
      "V10O1611258.csv 작업완료\n",
      "V10O1611289.csv 작업완료\n",
      "V10O1611623.csv 작업완료\n",
      "V10O1611634.csv 작업완료\n",
      "V10O1611639.csv 작업완료\n",
      "V10O1611645.csv 작업완료\n",
      "V10O1611658.csv 작업완료\n",
      "V10O1611684.csv 작업완료\n",
      "V10O1611698.csv 작업완료\n",
      "V10O1611722.csv 작업완료\n",
      "V10O1611750.csv 작업완료\n",
      "V10O1611887.csv 작업완료\n",
      "V10O1612106.csv 작업완료\n",
      "V10O1612113.csv 작업완료\n"
     ]
    }
   ],
   "source": [
    "PreprocessingData('종로구','종로구_전처리')"
   ]
  },
  {
   "cell_type": "markdown",
   "metadata": {},
   "source": [
    "## 데이터 EDA를 위한 코드 작성"
   ]
  },
  {
   "cell_type": "markdown",
   "metadata": {},
   "source": [
    "## merge 데이터 확인"
   ]
  },
  {
   "cell_type": "code",
   "execution_count": null,
   "metadata": {},
   "outputs": [],
   "source": [
    "# pd.read_csv('파일이름')\n",
    "# df.sort_index() # 이런 방식으로 인덱스를 기준으로 날짜 정렬이 가능하다. 일단 skip"
   ]
  },
  {
   "cell_type": "markdown",
   "metadata": {},
   "source": [
    "## 시간단위 환경기상 데이터 프레임 만들기"
   ]
  },
  {
   "cell_type": "code",
   "execution_count": 20,
   "metadata": {},
   "outputs": [],
   "source": [
    "def MakeHourDataFrame(DataName, DataDirectoryName):\n",
    "    # 데이터가 들어있는 폴더\n",
    "    # 예시) 노원구_전처리\n",
    "    data_dir = \"C:\\\\Users\\\\User\\\\Documents\\\\data_weatherforcast\\\\{}\\\\\".format(DataDirectoryName)\n",
    "    # 현재 작업하는 폴더로 변경\n",
    "    working_dir = os.chdir(data_dir)\n",
    "\n",
    "    # 데이터 읽기\n",
    "    test_df = pd.read_csv('Total_{}.csv'.format(DataName))\n",
    "    date_ls = list(test_df['Unnamed: 0']) # 날짜 데이터를 list형태로 변경\n",
    "\n",
    "    # 시간별로 date를 절사. :13까지가 시간단위!\n",
    "    hour_ls = []\n",
    "    for date in date_ls:\n",
    "        date = date[:13]\n",
    "        hour_ls.append(date)\n",
    "\n",
    "    # column을 시간으로 변경, 이름 역시 변경\n",
    "    test_df['Unnamed: 0'] = hour_ls\n",
    "    test_df = test_df.rename(columns={'Unnamed: 0': '날짜'})\n",
    "\n",
    "    # 소수점 0자리로 절사\n",
    "    hour_df = round(test_df.groupby(test_df['날짜']).mean(),0)\n",
    "\n",
    "    # 단계별로 labeling\n",
    "    hour_df['PM10단계'] = None\n",
    "    hour_df['PM25단계'] = None\n",
    "\n",
    "    good = hour_df[hour_df['미세먼지(PM-10)'] < 31.0].index\n",
    "    hour_df['PM10단계'].loc[good] = '좋음'\n",
    "    soso = hour_df[hour_df['미세먼지(PM-10)'] >= 31.0].index\n",
    "    hour_df['PM10단계'].loc[soso] = '보통'\n",
    "    bad = hour_df[hour_df['미세먼지(PM-10)'] >= 81.0].index\n",
    "    hour_df['PM10단계'].loc[bad] = '나쁨'\n",
    "    terrible = hour_df[hour_df['미세먼지(PM-10)'] >= 151.0].index\n",
    "    hour_df['PM10단계'].loc[terrible] = '매우나쁨'\n",
    "\n",
    "    # PM 2.5\n",
    "    good = hour_df[hour_df['초미세먼지(PM-2.5)'] < 16.0].index\n",
    "    hour_df['PM25단계'].loc[good] = '좋음'\n",
    "    soso = hour_df[hour_df['초미세먼지(PM-2.5)'] >= 16.0].index\n",
    "    hour_df['PM25단계'].loc[soso] = '보통'\n",
    "    bad = hour_df[hour_df['초미세먼지(PM-2.5)'] >= 36.0].index\n",
    "    hour_df['PM25단계'].loc[bad] = '나쁨'\n",
    "    terrible = hour_df[hour_df['초미세먼지(PM-2.5)'] >= 76.0].index\n",
    "    hour_df['PM25단계'].loc[terrible] = '매우 나쁨'\n",
    "\n",
    "#     사용하지 않아도 됩니다.\n",
    "#     out_dir = \"C:\\\\Users\\\\User\\\\Documents\\\\data_weatherforcast\\\\{}\".format(DataDirectoryName)\n",
    "    hour_df.to_csv(data_dir+DataDirectoryName+'_hour.csv')"
   ]
  },
  {
   "cell_type": "code",
   "execution_count": 21,
   "metadata": {},
   "outputs": [],
   "source": [
    "MakeHourDataFrame('노원구', '노원구_전처리')"
   ]
  },
  {
   "cell_type": "code",
   "execution_count": 22,
   "metadata": {},
   "outputs": [],
   "source": [
    "MakeHourDataFrame('종로구', '종로구_전처리')"
   ]
  },
  {
   "cell_type": "code",
   "execution_count": null,
   "metadata": {},
   "outputs": [],
   "source": [
    "# hour_df['PM25단계'].value_counts()"
   ]
  },
  {
   "cell_type": "code",
   "execution_count": null,
   "metadata": {
    "scrolled": true
   },
   "outputs": [],
   "source": [
    "# hour_df['PM10단계'].value_counts()"
   ]
  },
  {
   "cell_type": "markdown",
   "metadata": {},
   "source": [
    "## 일별 단위 데이터 프레임 만들기"
   ]
  },
  {
   "cell_type": "code",
   "execution_count": 29,
   "metadata": {},
   "outputs": [],
   "source": [
    "def MakeDayDataFrame(DataName, DataDirectoryName):\n",
    "    data_dir = \"C:\\\\Users\\\\User\\\\Documents\\\\data_weatherforcast\\\\{}\\\\\".format(DataDirectoryName)\n",
    "    working_dir = os.chdir(data_dir)\n",
    "\n",
    "    test_df = pd.read_csv('Total_{}.csv'.format(DataName))\n",
    "    date_ls = list(test_df['Unnamed: 0'])\n",
    "\n",
    "    days_ls = []\n",
    "    for date in date_ls:\n",
    "        date = date[:10]\n",
    "        days_ls.append(date)\n",
    "\n",
    "    test_df['Unnamed: 0'] = days_ls\n",
    "    test_df = test_df.rename(columns={'Unnamed: 0': '날짜'})\n",
    "    days_df = round(test_df.groupby(test_df['날짜']).mean(),0)\n",
    "\n",
    "    days_df['PM10단계'] = None\n",
    "    days_df['PM25단계'] = None\n",
    "\n",
    "    good = days_df[days_df['미세먼지(PM-10)'] < 31.0].index\n",
    "    days_df['PM10단계'].loc[good] = '좋음'\n",
    "    soso = days_df[days_df['미세먼지(PM-10)'] >= 31.0].index\n",
    "    days_df['PM10단계'].loc[soso] = '보통'\n",
    "    bad = days_df[days_df['미세먼지(PM-10)'] >= 81.0].index\n",
    "    days_df['PM10단계'].loc[bad] = '나쁨'\n",
    "    terrible = days_df[days_df['미세먼지(PM-10)'] >= 151.0].index\n",
    "    days_df['PM10단계'].loc[terrible] = '매우나쁨'\n",
    "\n",
    "    good = days_df[days_df['초미세먼지(PM-2.5)'] < 16.0].index\n",
    "    days_df['PM25단계'].loc[good] = '좋음'\n",
    "    soso = days_df[days_df['초미세먼지(PM-2.5)'] >= 16.0].index\n",
    "    days_df['PM25단계'].loc[soso] = '보통'\n",
    "    bad = days_df[days_df['초미세먼지(PM-2.5)'] >= 36.0].index\n",
    "    days_df['PM25단계'].loc[bad] = '나쁨'\n",
    "    terrible = days_df[days_df['초미세먼지(PM-2.5)'] >= 76.0].index\n",
    "    days_df['PM25단계'].loc[terrible] = '매우 나쁨'\n",
    "\n",
    "    # out_dir = \"C:\\\\Users\\\\User\\\\Documents\\\\data_weatherforcast\\\\종로구_전처리\\\\\"\n",
    "    days_df.to_csv(data_dir+DataDirectoryName+'_days.csv')"
   ]
  },
  {
   "cell_type": "code",
   "execution_count": 30,
   "metadata": {},
   "outputs": [],
   "source": [
    "MakeDayDataFrame('노원구', '노원구_전처리')"
   ]
  },
  {
   "cell_type": "code",
   "execution_count": 31,
   "metadata": {},
   "outputs": [],
   "source": [
    "MakeDayDataFrame('종로구', '종로구_전처리')"
   ]
  },
  {
   "cell_type": "markdown",
   "metadata": {},
   "source": [
    "## 월별 단위 데이터 프레임 만들기"
   ]
  },
  {
   "cell_type": "code",
   "execution_count": null,
   "metadata": {},
   "outputs": [],
   "source": [
    "# 현재 사용할 계획 없기 때문에 주석처리 하였습니다.\n",
    "# def MakeMonthDataFrame:\n",
    "# data_dir = r\"C:\\Users\\User\\Documents\\data_weatherforcast\\노원구_전처리\" # 데이터가 들어있는 폴더\n",
    "# working_dir = os.chdir(data_dir)\n",
    "\n",
    "# test_df = pd.read_csv('MergedDF_노원구.csv')\n",
    "\n",
    "# date_ls = list(test_df['Unnamed: 0'])\n",
    "\n",
    "# months_ls = []\n",
    "# for date in date_ls:\n",
    "#     date = date[:7]\n",
    "#     months_ls.append(date)\n",
    "\n",
    "# test_df['Unnamed: 0'] = months_ls\n",
    "# test_df = test_df.rename(columns={'Unnamed: 0': '날짜'})\n",
    "\n",
    "# months_df = round(test_df.groupby(test_df['날짜']).mean(),2)"
   ]
  },
  {
   "cell_type": "code",
   "execution_count": null,
   "metadata": {
    "scrolled": true
   },
   "outputs": [],
   "source": [
    "# months_df['PM10단계'] = None\n",
    "# months_df['PM25단계'] = None\n",
    "\n",
    "# for i in range(len(months_df)):\n",
    "#     if months_df['미세먼지(PM-10)'][i] <= 15.0:\n",
    "#         months_df['PM10단계'][i] = '최고'\n",
    "#     elif months_df['미세먼지(PM-10)'][i] >= 50.0:\n",
    "#         months_df['PM10단계'][i] = '최악'\n",
    "#     else:\n",
    "#         months_df['PM10단계'][i] = '평범'"
   ]
  }
 ],
 "metadata": {
  "kernelspec": {
   "display_name": "Python 3",
   "language": "python",
   "name": "python3"
  },
  "language_info": {
   "codemirror_mode": {
    "name": "ipython",
    "version": 3
   },
   "file_extension": ".py",
   "mimetype": "text/x-python",
   "name": "python",
   "nbconvert_exporter": "python",
   "pygments_lexer": "ipython3",
   "version": "3.7.3"
  }
 },
 "nbformat": 4,
 "nbformat_minor": 2
}
