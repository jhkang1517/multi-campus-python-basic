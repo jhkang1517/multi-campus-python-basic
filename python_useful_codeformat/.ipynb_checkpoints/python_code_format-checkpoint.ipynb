{
 "cells": [
  {
   "cell_type": "markdown",
   "metadata": {},
   "source": [
    "# 만능 코드 정리"
   ]
  },
  {
   "cell_type": "markdown",
   "metadata": {},
   "source": [
    "## 폴더 생성 코드 "
   ]
  },
  {
   "cell_type": "code",
   "execution_count": null,
   "metadata": {},
   "outputs": [],
   "source": [
    "# import os # os의 명령어를 handling  \n",
    "# BASE_DIR = os.getcwd() # 현재 작업중인 폴더 경로를 BASE_DIR에 저장  \n",
    "  \n",
    "# IO_TEST_DIR = os.path.join(BASE_DIR, '폴더이름') # iotest라는 이름을 가진 새 폴더를 생성  \n",
    "  \n",
    "# if not os.path.exists(IO_TEST_DIR): # 만약 iotest가 없으면,   \n",
    "#     os.makedirs(IO_TEST_DIR) # 생성하겠다.  "
   ]
  }
 ],
 "metadata": {
  "kernelspec": {
   "display_name": "Python 3",
   "language": "python",
   "name": "python3"
  },
  "language_info": {
   "codemirror_mode": {
    "name": "ipython",
    "version": 3
   },
   "file_extension": ".py",
   "mimetype": "text/x-python",
   "name": "python",
   "nbconvert_exporter": "python",
   "pygments_lexer": "ipython3",
   "version": "3.7.3"
  }
 },
 "nbformat": 4,
 "nbformat_minor": 2
}
