{
 "cells": [
  {
   "cell_type": "markdown",
   "metadata": {},
   "source": [
    "# 유용한 코드 / 파이썬 환경설정 정리"
   ]
  },
  {
   "cell_type": "markdown",
   "metadata": {},
   "source": [
    "## PATH 지정하기"
   ]
  },
  {
   "cell_type": "code",
   "execution_count": 1,
   "metadata": {},
   "outputs": [],
   "source": [
    "# 내컴퓨터 - 속성 - 설정변경 - 고급 - 환경변수 - 새로만들기 - PYTHONPATH 생성\n",
    "# path 뒤에 %PYTHONPATH%; 붙여넣으면 컴퓨터 어디서든 사용이 가능하다."
   ]
  },
  {
   "cell_type": "markdown",
   "metadata": {},
   "source": [
    "## 폴더 생성 코드 "
   ]
  },
  {
   "cell_type": "code",
   "execution_count": null,
   "metadata": {},
   "outputs": [],
   "source": [
    "# import os # os의 명령어를 handling  \n",
    "# BASE_DIR = os.getcwd() # 현재 작업중인 폴더 경로를 BASE_DIR에 저장  \n",
    "  \n",
    "# IO_TEST_DIR = os.path.join(BASE_DIR, '폴더이름') # iotest라는 이름을 가진 새 폴더를 생성  \n",
    "  \n",
    "# if not os.path.exists(IO_TEST_DIR): # 만약 iotest가 없으면,   \n",
    "#     os.makedirs(IO_TEST_DIR) # 생성하겠다.  "
   ]
  },
  {
   "cell_type": "markdown",
   "metadata": {},
   "source": [
    "## 모듈 생성 코드"
   ]
  },
  {
   "cell_type": "code",
   "execution_count": null,
   "metadata": {},
   "outputs": [],
   "source": [
    "# %%writefile C:\\myPyCode\\my_first_module.py # 경로지정, 모듈 이름 지정\n",
    "# # File name: my_first_module.py\n",
    "\n",
    "# def my_function(): # 클래스 혹은 함수 정의\n",
    "#     print(\"This is my first module.\") # 모듈 내용\n",
    "\n",
    "# 모듈 버전 확인 코드\n",
    "# 모듈이름.__version__"
   ]
  },
  {
   "cell_type": "markdown",
   "metadata": {},
   "source": [
    "## 클래스 속성확인 \n",
    "dir()  "
   ]
  },
  {
   "cell_type": "code",
   "execution_count": null,
   "metadata": {},
   "outputs": [],
   "source": []
  }
 ],
 "metadata": {
  "kernelspec": {
   "display_name": "Python 3",
   "language": "python",
   "name": "python3"
  },
  "language_info": {
   "codemirror_mode": {
    "name": "ipython",
    "version": 3
   },
   "file_extension": ".py",
   "mimetype": "text/x-python",
   "name": "python",
   "nbconvert_exporter": "python",
   "pygments_lexer": "ipython3",
   "version": "3.7.3"
  }
 },
 "nbformat": 4,
 "nbformat_minor": 2
}
