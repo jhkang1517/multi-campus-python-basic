{
 "cells": [
  {
   "cell_type": "markdown",
   "metadata": {},
   "source": [
    "## LSTM\n",
    "RNN은 hidden layer의 수가 많아질수록, 이전의 데이터를 계속 고려하기 때문에, 데이터가 길어질 수록 전의 가중치가 좀 더 우선되는 경향이 존재한다.\n",
    "  \n",
    "이를 해결 하기 위해 앞 정보를 어느정도(비율)을 유지할 것인지를 고려할 수 있는 모델인 LSTM을 사용한다. "
   ]
  }
 ],
 "metadata": {
  "kernelspec": {
   "display_name": "Python 3",
   "language": "python",
   "name": "python3"
  },
  "language_info": {
   "codemirror_mode": {
    "name": "ipython",
    "version": 3
   },
   "file_extension": ".py",
   "mimetype": "text/x-python",
   "name": "python",
   "nbconvert_exporter": "python",
   "pygments_lexer": "ipython3",
   "version": "3.7.3"
  }
 },
 "nbformat": 4,
 "nbformat_minor": 2
}
