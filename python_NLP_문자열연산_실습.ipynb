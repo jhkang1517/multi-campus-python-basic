{
 "cells": [
  {
   "cell_type": "markdown",
   "metadata": {},
   "source": [
    "# recipe 1: 문자열 연산\n",
    "* join: 리스트를 지정한 문자열로 결합\n",
    "* split: 문자열을 지정 문자열을 기준으로 리스트로 분리\n",
    "* 덧셈: 문자열 연결\n",
    "* 곱셈: 문자열 반복"
   ]
  },
  {
   "cell_type": "code",
   "execution_count": 1,
   "metadata": {},
   "outputs": [
    {
     "name": "stdout",
     "output_type": "stream",
     "text": [
      "<class 'str'> : 유나;지은;스튜어트;케빈\n",
      "<class 'list'> : ['우리', '강아지는', '소파', '위에서', '잔다']\n",
      "텍스트 덧셈 : 파이썬파이썬파이썬\n",
      "텍스트 곱셈 : 파이썬파이썬\n",
      "y\n",
      "h\n"
     ]
    }
   ],
   "source": [
    "nameList = ['유나', '지은', '스튜어트', '케빈']\n",
    "sentence = '우리 강아지는 소파 위에서 잔다'\n",
    "\n",
    "names = ';'.join(nameList)\n",
    "print(type(names), ':', names)\n",
    "wordList = sentence.split(' ')\n",
    "print((type(wordList)), ':', wordList)\n",
    "\n",
    "addtionExample = '파이썬' + '파이썬' + '파이썬'\n",
    "multiplicationExample = '파이썬' * 2 \n",
    "print('텍스트 덧셈 :', addtionExample)\n",
    "print('텍스트 곱셈 :', multiplicationExample)\n",
    "\n",
    "str_ = 'Python NLTK'\n",
    "print(str_[1])\n",
    "print(str_[3])"
   ]
  },
  {
   "cell_type": "markdown",
   "metadata": {},
   "source": [
    "# recipe 2: 문자열 연산 심화\n",
    "* [:종료인덱스] : 0부터 종료인덱스까지 문자열\n",
    "* [시작인덱스:] : 시작인덱스부터 마지막까지 문자열\n",
    "* [시작인덱스:종료인덱스] : 시작인덱스부터 종료인덱스까지 문자열\n",
    "* [-시작인덱스:종료인덱스] : (문자열마지막인덱스-시작인덱스)부터 (문자열마지막인덱스-종료인덱스) 까지 문자열\n",
    "* replace(검색문자열,변환문자열)"
   ]
  },
  {
   "cell_type": "code",
   "execution_count": 3,
   "metadata": {
    "scrolled": true
   },
   "outputs": [
    {
     "name": "stdout",
     "output_type": "stream",
     "text": [
      "다음의 인덱스에서 끝나는 부분 문자열:  NLTK\n",
      "다음의 인덱스에서 시작하는 부분 문자열:  Python\n",
      "부분 문자열:  Dolly\n",
      "복잡한 방식의 문자열:  Dolly\n",
      "NLTK를 찾았습니다.\n",
      "대체된 문자열:  NLTK Dorothy Python\n",
      "각 문자(character) 액세스: \n",
      "N\n",
      "L\n",
      "T\n",
      "K\n",
      " \n",
      "D\n",
      "o\n",
      "r\n",
      "o\n",
      "t\n",
      "h\n",
      "y\n",
      " \n",
      "P\n",
      "y\n",
      "t\n",
      "h\n",
      "o\n",
      "n\n"
     ]
    }
   ],
   "source": [
    "str_ = 'NLTK Dolly Python'\n",
    "print('다음의 인덱스에서 끝나는 부분 문자열: ', str_[:4])\n",
    "\n",
    "print('다음의 인덱스에서 시작하는 부분 문자열: ', str_[11:])\n",
    "print('부분 문자열: ', str_[5:10])\n",
    "print('복잡한 방식의 문자열: ', str_[-12:-7])\n",
    "\n",
    "if 'NLTK' in str_:\n",
    "    print('NLTK를 찾았습니다.')\n",
    "    \n",
    "replaced = str_.replace('Dolly', 'Dorothy')\n",
    "print('대체된 문자열: ', replaced)\n",
    "\n",
    "print('각 문자(character) 액세스: ')\n",
    "for s in replaced:\n",
    "    print(s)"
   ]
  },
  {
   "cell_type": "markdown",
   "metadata": {},
   "source": [
    "# recipe 3: PDF 파일 읽기\n",
    "* pdf 파일을 읽어서 텍스트로 변환\n",
    "\n",
    "    ## getTextPDF"
   ]
  },
  {
   "cell_type": "code",
   "execution_count": 4,
   "metadata": {},
   "outputs": [
    {
     "name": "stdout",
     "output_type": "stream",
     "text": [
      "Requirement already satisfied: PyPDF2 in c:\\programdata\\anaconda3\\lib\\site-packages (1.26.0)\n"
     ]
    }
   ],
   "source": [
    "!pip install PyPDF2"
   ]
  },
  {
   "cell_type": "code",
   "execution_count": 5,
   "metadata": {},
   "outputs": [],
   "source": [
    "def getTextPDF(pdfFileName, password = ''):\n",
    "    print(pdfFileName)\n",
    "    pdf_file = open(pdfFileName, 'rb')\n",
    "    read_pdf = PdfFileReader(pdf_file)\n",
    "    if password != '':\n",
    "        read_pdf.decrypt(password) # decrypt\n",
    "        \n",
    "    text = []\n",
    "    for i in range(0,read_pdf.getNumPages()):\n",
    "        text.append(read_pdf.getPage(i).extractText())\n",
    "    return '\\n'.join(text)"
   ]
  },
  {
   "cell_type": "markdown",
   "metadata": {},
   "source": [
    "# 구글드라이브 파일 읽기"
   ]
  },
  {
   "cell_type": "code",
   "execution_count": 10,
   "metadata": {},
   "outputs": [],
   "source": [
    "# # 구글 드라이브에서 파일을 읽기 위해 gauth 인증\n",
    "# !pip install -U -q PyDrive\n",
    "# from pydrive.auth import GoogleAuth\n",
    "# from pydrive.drive import GoogleDrive\n",
    "# from google.colab import auth\n",
    "# from oauth2client.client import GoogleCredentials\n",
    "\n",
    "# # Authenticate and create the PyDrive client.\n",
    "# auth.authenticate_user()\n",
    "# gauth = GoogleAuth()\n",
    "# gauth.credentials = GoogleCredentials.get_application_default()\n",
    "# drive = GoogleDrive(gauth)"
   ]
  },
  {
   "cell_type": "markdown",
   "metadata": {},
   "source": [
    "# RSS feed"
   ]
  },
  {
   "cell_type": "code",
   "execution_count": 11,
   "metadata": {
    "scrolled": true
   },
   "outputs": [
    {
     "name": "stdout",
     "output_type": "stream",
     "text": [
      "Collecting feedparser\n",
      "  Downloading https://files.pythonhosted.org/packages/91/d8/7d37fec71ff7c9dbcdd80d2b48bcdd86d6af502156fc93846fb0102cb2c4/feedparser-5.2.1.tar.bz2 (192kB)\n",
      "Building wheels for collected packages: feedparser\n",
      "  Building wheel for feedparser (setup.py): started\n",
      "  Building wheel for feedparser (setup.py): finished with status 'done'\n",
      "  Stored in directory: C:\\Users\\student\\AppData\\Local\\pip\\Cache\\wheels\\8c\\69\\b7\\f52763c41c5471df57703a0ef718a32a5e81ee35dcf6d4f97f\n",
      "Successfully built feedparser\n",
      "Installing collected packages: feedparser\n",
      "Successfully installed feedparser-5.2.1\n"
     ]
    }
   ],
   "source": [
    "!pip install feedparser"
   ]
  },
  {
   "cell_type": "code",
   "execution_count": 13,
   "metadata": {},
   "outputs": [
    {
     "name": "stdout",
     "output_type": "stream",
     "text": [
      "피드 제목:  Mashable\n",
      "포스트 수:  30\n",
      "포스트 제목:  Everything you need to know about Amazon Prime for Australia\n",
      "콘텐츠 원본: \n",
      " <img alt=\"\" src=\"https://mondrian.mashable.com/uploads%252Fcard%252Fimage%252F1008660%252Fc07f261b-6976-4e54-b610-407897d6ca56.jpg%252F575x323__filters%253Aquality%252880%2529.jpg?signature=ePOOeg4URuno32qUgZRMNcmZWus=&amp;source=https%3A%2F%2Fblueprint-api-production.s3.amazonaws.com\" /><div style=\"float: right; width: 50px;\"><a href=\"https://twitter.com/share?via=Mashable&text=Everything+you+need+to+know+about+Amazon+Prime+for+Australia&url=https%3A%2F%2Fmashable.com%2Fshopping%2Feverything-about-amazon-prime-australia%2F\" style=\"margin: 10px;\"><img alt=\"Twitter\" border=\"0\" src=\"https://a.amz.mshcdn.com/assets/feed-tw-e71baf64f2ec58d01cd28f4e9ef6b2ce0370b42fbd965068e9e7b58be198fb13.jpg\" /></a><a href=\"https://www.facebook.com/sharer.php?u=https%3A%2F%2Fmashable.com%2Fshopping%2Feverything-about-amazon-prime-australia%2F&src=sp\" style=\"margin: 10px;\"><img alt=\"Facebook\" border=\"0\" src=\"https://a.amz.mshcdn.com/assets/feed-fb-8e3bd31e201ea65385a524ef67519d031e6851071807055648790d6a4ca77139.jpg\" /></a></div><p>Although it's been long enjoyed and fretted over across the globe, Australians had been anticipating the arrival of Amazon's <a href=\"https://www.amazon.com.au/l/5602577051/ref=as_li_ss_tl?ie=UTF8&amp;linkCode=sl2&amp;linkId=a79ba790a8b9eba1cd729082a9dcf913&amp;tag=mashable0c-20&amp;tag=mashableau-22\" class=\"product-url\" rel=\"noskim\">Prime Day</a> for quite some time &#8212; and now, it's officially part of the calendar.</p>\n",
      "<p>Following the event's 2018 debut, Amazon is bringing Prime Day back to Australia, as part of its signature worldwide shopping marathon. Being ahead of the timezone, Aussie Prime members will get first access to some pretty epic deals.&#160;</p>\n",
      "<p>Prime members get fast and free delivery, a range of entertainment options, early access to content as well as tonnes of deals and events like the much-anticipated Prime Day. This is all provided through an annual or monthly subscription &#8212; and so far, there&#8217;s more than 100 million paid members around the globe. <a href=\"https://mashable.com/shopping/everything-about-amazon-prime-australia/\">Read more...</a></p>More about <a href=\"https://mashable.com/category/amazon/?utm_campaign=Mash-Prod-RSS-Feedburner-All-Partial&amp;utm_cid=Mash-Prod-RSS-Feedburner-All-Partial\">Amazon</a>, <a href=\"https://mashable.com/category/prime-day/?utm_campaign=Mash-Prod-RSS-Feedburner-All-Partial&amp;utm_cid=Mash-Prod-RSS-Feedburner-All-Partial\">Prime Day</a>, <a href=\"https://mashable.com/category/amazon-prime-day/?utm_campaign=Mash-Prod-RSS-Feedburner-All-Partial&amp;utm_cid=Mash-Prod-RSS-Feedburner-All-Partial\">Amazon Prime Day</a>, <a href=\"https://mashable.com/category/online-shopping/?utm_campaign=Mash-Prod-RSS-Feedburner-All-Partial&amp;utm_cid=Mash-Prod-RSS-Feedburner-All-Partial\">Online Shopping</a>, and <a href=\"https://mashable.com/category/mashable-shopping/?utm_campaign=Mash-Prod-RSS-Feedburner-All-Partial&amp;utm_cid=Mash-Prod-RSS-Feedburner-All-Partial\">Mashable Shopping</a><img src=\"http://feeds.feedburner.com/~r/Mashable/~4/uHpU-WEIPyg\" height=\"1\" width=\"1\" alt=\"\"/>\n"
     ]
    }
   ],
   "source": [
    "import feedparser\n",
    "\n",
    "myFeed = feedparser.parse(\"http://feeds.mashable.com/Mashable\")\n",
    "print('피드 제목: ', myFeed['feed']['title'])\n",
    "print('포스트 수: ', len(myFeed.entries))\n",
    "\n",
    "post = myFeed.entries[0]\n",
    "print('포스트 제목: ', post.title)\n",
    "content = post.content[0].value\n",
    "print('콘텐츠 원본: \\n', content)"
   ]
  },
  {
   "cell_type": "code",
   "execution_count": 20,
   "metadata": {},
   "outputs": [],
   "source": [
    "feedparser?"
   ]
  }
 ],
 "metadata": {
  "kernelspec": {
   "display_name": "Python 3",
   "language": "python",
   "name": "python3"
  },
  "language_info": {
   "codemirror_mode": {
    "name": "ipython",
    "version": 3
   },
   "file_extension": ".py",
   "mimetype": "text/x-python",
   "name": "python",
   "nbconvert_exporter": "python",
   "pygments_lexer": "ipython3",
   "version": "3.7.3"
  }
 },
 "nbformat": 4,
 "nbformat_minor": 2
}
