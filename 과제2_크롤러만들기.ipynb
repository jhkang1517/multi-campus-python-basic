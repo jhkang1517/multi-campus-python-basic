{
 "cells": [
  {
   "cell_type": "code",
   "execution_count": 1,
   "metadata": {},
   "outputs": [],
   "source": [
    "import requests\n",
    "from bs4 import BeautifulSoup\n",
    "from pprint import pprint\n",
    "import datetime"
   ]
  },
  {
   "cell_type": "code",
   "execution_count": 2,
   "metadata": {},
   "outputs": [],
   "source": [
    "bugs_usl = \"https://music.bugs.co.kr\"\n",
    "params = {\n",
    "    'chart': 'chart',\n",
    "    'track': 'track',\n",
    "    'realtime': 'realtime',\n",
    "    'total': 'total'\n",
    "}\n",
    "# bugs_usl"
   ]
  },
  {
   "cell_type": "code",
   "execution_count": 21,
   "metadata": {},
   "outputs": [],
   "source": [
    "resp = requests.get(bugs_usl, params=params)\n",
    "soup = BeautifulSoup(resp.content, 'html.parser')\n",
    "# resp\n",
    "# resp.content\n",
    "# soup"
   ]
  },
  {
   "cell_type": "code",
   "execution_count": 22,
   "metadata": {},
   "outputs": [],
   "source": [
    "# bugs_contents = soup.find('table', class_=\"list trackList byChart\")\n",
    "bugs_contents = soup.find('tbody')\n",
    "# bugs_contents.contents"
   ]
  },
  {
   "cell_type": "code",
   "execution_count": 23,
   "metadata": {},
   "outputs": [],
   "source": [
    "new_ul = []\n",
    "for content in bugs_contents:\n",
    "    bugs_contents.contents\n",
    "    if not str(content).strip('\\n'):\n",
    "        continue\n",
    "    new_ul.append(content)\n",
    "    \n",
    "# new_ul"
   ]
  },
  {
   "cell_type": "code",
   "execution_count": 52,
   "metadata": {},
   "outputs": [
    {
     "name": "stdout",
     "output_type": "stream",
     "text": [
      "2019-06-04 17:45:24.405194 기준 곡 순위를 제공합니다.\n",
      "[{'artist': '이하이', 'title': '누구 없소 (NO ONE) (Feat. B.I of iKON)'},\n",
      " {'artist': 'Anne-Marie(앤 마리)', 'title': '2002'},\n",
      " {'artist': 'Billie Eilish(빌리 아일리시)', 'title': 'bad guy'},\n",
      " {'artist': '다비치', 'title': '너에게 못했던 내 마지막 말은'},\n",
      " {'artist': '임재현', 'title': '사랑에 연습이 있었다면 (Prod. 2soo)'},\n",
      " {'artist': '방탄소년단', 'title': '작은 것들을 위한 시 (Boy With Luv) (feat. Halsey)'},\n",
      " {'artist': 'WINNER', 'title': 'AH YEAH (아예)'},\n",
      " {'artist': 'TWICE (트와이스)', 'title': 'FANCY'},\n",
      " {'artist': '먼데이 키즈(Monday Kiz)', 'title': '사랑이 식었다고 말해도 돼'},\n",
      " {'artist': '잔나비', 'title': '주저하는 연인들을 위해'}]\n"
     ]
    }
   ],
   "source": [
    "songs_list = []\n",
    "\n",
    "for tr in new_ul:\n",
    "    songs_dict = {}\n",
    "    \n",
    "    a_tag = tr.find('th', scope='row').find('p').find('a')\n",
    "    songs_dict['title'] = a_tag['title']\n",
    "    \n",
    "    b_tag = tr.find('td', class_='left').find('p').find('a')\n",
    "    songs_dict['artist'] = b_tag['title']\n",
    "    \n",
    "    # c_tag = b_tag.find_next('td').find('a')\n",
    "    # songs_dict['album'] = c_tag['title']\n",
    "    # print(c_tag)\n",
    "    \n",
    "    # d_tag = tr.find('td').find('div', class_='ranking')\n",
    "    # print(d_tag)\n",
    "    \n",
    "    # image_tag = tr.find('td', class_=\"check\")_next_next.find('a').find('img')\n",
    "    # print(e_tag)\n",
    "    \n",
    "    \n",
    "    \n",
    "    songs_list.append(songs_dict)\n",
    "\n",
    "print(datetime.datetime.now(),\"기준 곡 순위를 제공합니다.\")\n",
    "pprint(songs_list)"
   ]
  },
  {
   "cell_type": "markdown",
   "metadata": {},
   "source": [
    "# 이미지 가져오기"
   ]
  },
  {
   "cell_type": "code",
   "execution_count": 26,
   "metadata": {},
   "outputs": [],
   "source": [
    "# from bs4 import BeautifulSoup\n",
    "# import urllib.request"
   ]
  },
  {
   "cell_type": "code",
   "execution_count": 34,
   "metadata": {},
   "outputs": [],
   "source": [
    "# def get(max_count=1):\n",
    "#     base_url = \"https://music.bugs.co.kr\"\n",
    "#     url = \"https://music.bugs.co.kr/chart/track/realtime/total\"\n",
    "    \n",
    "#     count = 1\n",
    "#     while count <= max_count:\n",
    "#         print(\"[ %d번 째 이미지]\" % count)\n",
    "        \n",
    "#         html = urllib.request.urlopen(url)\n",
    "#         source = html.read()\n",
    "        \n",
    "#         soup2 = BeautifulSoup(source, \"html.parser\")\n",
    "        \n",
    "#         img = soup.find('img') # 이미지태그\n",
    "#         img_src = img.get(\"src\") # 이미지 경로\n",
    "#         # img_url = base_url + img_src # 합성\n",
    "#         img_name = img_src.replace(\"/\", \"\")\n",
    "        \n",
    "#         urllib.request.urlretrieve(img_src, \"./img/\" + img_name)\n",
    "        \n",
    "#         print(\"이미지 src:\", img_src)\n",
    "#         print(img_url)\n",
    "#         print(img_name)\n",
    "#         print(\"\\n\")\n",
    "#         count += 1\n",
    "#     else:\n",
    "#         print(\"종료\")\n",
    "        \n",
    "# get(1)\n",
    "        \n",
    "        "
   ]
  },
  {
   "cell_type": "markdown",
   "metadata": {},
   "source": [
    "# csv 쓰기"
   ]
  },
  {
   "cell_type": "code",
   "execution_count": 55,
   "metadata": {},
   "outputs": [],
   "source": [
    "import pandas as pd"
   ]
  },
  {
   "cell_type": "code",
   "execution_count": 56,
   "metadata": {},
   "outputs": [],
   "source": [
    "songs_ranking = songs_list"
   ]
  },
  {
   "cell_type": "code",
   "execution_count": 61,
   "metadata": {},
   "outputs": [
    {
     "ename": "TypeError",
     "evalue": "__init__() got an unexpected keyword argument 'encoding'",
     "output_type": "error",
     "traceback": [
      "\u001b[1;31m---------------------------------------------------------------------------\u001b[0m",
      "\u001b[1;31mTypeError\u001b[0m                                 Traceback (most recent call last)",
      "\u001b[1;32m<ipython-input-61-ae7d87060230>\u001b[0m in \u001b[0;36m<module>\u001b[1;34m\u001b[0m\n\u001b[1;32m----> 1\u001b[1;33m \u001b[0mbugs_ranking\u001b[0m \u001b[1;33m=\u001b[0m \u001b[0mpd\u001b[0m\u001b[1;33m.\u001b[0m\u001b[0mDataFrame\u001b[0m\u001b[1;33m(\u001b[0m\u001b[0msongs_ranking\u001b[0m\u001b[1;33m,\u001b[0m \u001b[0mindex\u001b[0m\u001b[1;33m=\u001b[0m\u001b[0mrange\u001b[0m\u001b[1;33m(\u001b[0m\u001b[1;36m1\u001b[0m\u001b[1;33m,\u001b[0m\u001b[1;36m11\u001b[0m\u001b[1;33m)\u001b[0m\u001b[1;33m,\u001b[0m \u001b[0mencoding\u001b[0m\u001b[1;33m=\u001b[0m\u001b[1;34m'ms949'\u001b[0m\u001b[1;33m)\u001b[0m\u001b[1;33m\u001b[0m\u001b[1;33m\u001b[0m\u001b[0m\n\u001b[0m",
      "\u001b[1;31mTypeError\u001b[0m: __init__() got an unexpected keyword argument 'encoding'"
     ]
    }
   ],
   "source": [
    "bugs_ranking = pd.DataFrame(songs_ranking, index=range(1,11), encoding='ms949')"
   ]
  },
  {
   "cell_type": "code",
   "execution_count": 60,
   "metadata": {},
   "outputs": [],
   "source": [
    "bugs_ranking.to_csv('realtime_bugsranking.csv')"
   ]
  },
  {
   "cell_type": "code",
   "execution_count": null,
   "metadata": {},
   "outputs": [],
   "source": []
  }
 ],
 "metadata": {
  "kernelspec": {
   "display_name": "Python 3",
   "language": "python",
   "name": "python3"
  },
  "language_info": {
   "codemirror_mode": {
    "name": "ipython",
    "version": 3
   },
   "file_extension": ".py",
   "mimetype": "text/x-python",
   "name": "python",
   "nbconvert_exporter": "python",
   "pygments_lexer": "ipython3",
   "version": "3.7.3"
  }
 },
 "nbformat": 4,
 "nbformat_minor": 2
}
