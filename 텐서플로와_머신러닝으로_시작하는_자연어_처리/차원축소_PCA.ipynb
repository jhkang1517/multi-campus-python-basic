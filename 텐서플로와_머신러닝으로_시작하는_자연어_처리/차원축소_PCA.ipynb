{
 "cells": [
  {
   "cell_type": "markdown",
   "metadata": {},
   "source": [
    "# PCA\n",
    " * PCA는 데이터의 분산(variance)을 최대로 하는 축을 찾는 것을 반복하여, 고차원 공간의 표본들을 저차\n",
    "원 공간으로 변환하는 기법"
   ]
  },
  {
   "cell_type": "markdown",
   "metadata": {},
   "source": [
    " * 분산이 크다 = 다차원의 데이터를 저차원의 데이터에 담을 수 있다.\n",
    " \n",
    " ### PCA 절차\n",
    " 1. 각 feature들을 '표준화' 해준다. (평균이 0, 표준편차 1)(?)\n",
    " 2. 가장 feature들을 잘 설명해주는 '선'을 찾는다.\n",
    " 3. 좌표를 변환한다. \n",
    " \n",
    " ### 공분산 행렬\n",
    "  * 공분산의 의미 = 각 feature의 변화량(변동)이 얼마나 닮아 있는가? \n",
    " 표준화된 데이터 matrix * T(표준화된 데이터 matrix) = 공분산\n",
    " 수학적으로, 공분산 행렬은 선형 변환(shearing)를 의미한다. \n",
    " \n",
    " ### 고유값(아이젠 벡터, Eigen Vector)\n",
    " n개의 feature에서는 n개의 아이젠 벡터가 나온다.\n",
    " k개의 아이젠 벡터를 선택하면, k개의 주성분이 나타난다.\n",
    " \n",
    " ### 고유값, 고유벡터의 의미\n",
    " A = 정방행렬\n",
    " 람다 = 고유값 = 상수항\n",
    " 아이젠 벡터 = 고유벡터 = 변화한 벡터 \n",
    " 크기는 변하지만, **방향은 유지되는** 벡터(eigenvector)가 존재하는가? \n",
    " 또한, 아이젠 벡터끼리는 반드시 직교(90) 한다. "
   ]
  },
  {
   "cell_type": "markdown",
   "metadata": {},
   "source": [
    "## 2.1 차원 축소의 예\n",
    " 변수의 개수를 차원이라고 생각할 수 있다."
   ]
  },
  {
   "cell_type": "code",
   "execution_count": 1,
   "metadata": {},
   "outputs": [
    {
     "data": {
      "text/plain": [
       "75.0"
      ]
     },
     "execution_count": 1,
     "metadata": {},
     "output_type": "execute_result"
    }
   ],
   "source": [
    "국어 = 80\n",
    "영어 = 60\n",
    "수학 = 90\n",
    "과학 = 70\n",
    "\n",
    "평균 = (국어 + 영어 + 수학 + 과학) / 4 # 5개 차원을 1개 차원으로 축소\n",
    "\n",
    "평균"
   ]
  },
  {
   "cell_type": "code",
   "execution_count": 2,
   "metadata": {},
   "outputs": [
    {
     "data": {
      "text/plain": [
       "0.0021604938271604936"
      ]
     },
     "execution_count": 2,
     "metadata": {},
     "output_type": "execute_result"
    }
   ],
   "source": [
    "몸무게 = 70\n",
    "키 = 180\n",
    "\n",
    "BMI = 몸무게 / (키*키) # 2개 차원을 1개 차원으로 축소\n",
    "\n",
    "BMI"
   ]
  },
  {
   "cell_type": "markdown",
   "metadata": {},
   "source": [
    "## 2.2 PCA 예제 1 "
   ]
  },
  {
   "cell_type": "code",
   "execution_count": 3,
   "metadata": {},
   "outputs": [
    {
     "data": {
      "text/html": [
       "<div>\n",
       "<style scoped>\n",
       "    .dataframe tbody tr th:only-of-type {\n",
       "        vertical-align: middle;\n",
       "    }\n",
       "\n",
       "    .dataframe tbody tr th {\n",
       "        vertical-align: top;\n",
       "    }\n",
       "\n",
       "    .dataframe thead th {\n",
       "        text-align: right;\n",
       "    }\n",
       "</style>\n",
       "<table border=\"1\" class=\"dataframe\">\n",
       "  <thead>\n",
       "    <tr style=\"text-align: right;\">\n",
       "      <th></th>\n",
       "      <th>calory</th>\n",
       "      <th>breakfast</th>\n",
       "      <th>lunch</th>\n",
       "      <th>dinner</th>\n",
       "      <th>exercise</th>\n",
       "      <th>body_shape</th>\n",
       "    </tr>\n",
       "  </thead>\n",
       "  <tbody>\n",
       "    <tr>\n",
       "      <th>0</th>\n",
       "      <td>1200</td>\n",
       "      <td>1</td>\n",
       "      <td>0</td>\n",
       "      <td>0</td>\n",
       "      <td>2</td>\n",
       "      <td>Skinny</td>\n",
       "    </tr>\n",
       "    <tr>\n",
       "      <th>1</th>\n",
       "      <td>2800</td>\n",
       "      <td>1</td>\n",
       "      <td>1</td>\n",
       "      <td>1</td>\n",
       "      <td>1</td>\n",
       "      <td>Normal</td>\n",
       "    </tr>\n",
       "    <tr>\n",
       "      <th>2</th>\n",
       "      <td>3500</td>\n",
       "      <td>2</td>\n",
       "      <td>2</td>\n",
       "      <td>1</td>\n",
       "      <td>0</td>\n",
       "      <td>Fat</td>\n",
       "    </tr>\n",
       "    <tr>\n",
       "      <th>3</th>\n",
       "      <td>1400</td>\n",
       "      <td>0</td>\n",
       "      <td>1</td>\n",
       "      <td>0</td>\n",
       "      <td>3</td>\n",
       "      <td>Skinny</td>\n",
       "    </tr>\n",
       "    <tr>\n",
       "      <th>4</th>\n",
       "      <td>5000</td>\n",
       "      <td>2</td>\n",
       "      <td>2</td>\n",
       "      <td>2</td>\n",
       "      <td>0</td>\n",
       "      <td>Fat</td>\n",
       "    </tr>\n",
       "  </tbody>\n",
       "</table>\n",
       "</div>"
      ],
      "text/plain": [
       "  calory breakfast lunch dinner exercise body_shape\n",
       "0   1200         1     0      0        2     Skinny\n",
       "1   2800         1     1      1        1     Normal\n",
       "2   3500         2     2      1        0        Fat\n",
       "3   1400         0     1      0        3     Skinny\n",
       "4   5000         2     2      2        0        Fat"
      ]
     },
     "execution_count": 3,
     "metadata": {},
     "output_type": "execute_result"
    }
   ],
   "source": [
    "import pandas as pd\n",
    "# Eating, exercise habbit and their body shape\n",
    "\n",
    "df = pd.DataFrame(columns=['calory', 'breakfast','lunch','dinner','exercise','body_shape'])\n",
    "\n",
    "df.loc[0] = [1200, 1, 0, 0, 2, 'Skinny']\n",
    "df.loc[1] = [2800, 1, 1, 1, 1, 'Normal']\n",
    "df.loc[2] = [3500, 2, 2, 1, 0, 'Fat']\n",
    "df.loc[3] = [1400, 0, 1, 0, 3, 'Skinny']\n",
    "df.loc[4] = [5000, 2, 2, 2, 0, 'Fat']\n",
    "df.loc[5] = [1300, 0, 0, 1, 2, 'Skinny']\n",
    "df.loc[6] = [3000, 1, 0, 1, 1, 'Normal']\n",
    "df.loc[7] = [4000, 2, 2, 2, 0, 'Fat']\n",
    "df.loc[8] = [2600, 0, 2, 0, 0, 'Normal']\n",
    "df.loc[9] = [3000, 1, 2, 1, 1, 'Fat']\n",
    "\n",
    "df.head()"
   ]
  },
  {
   "cell_type": "markdown",
   "metadata": {},
   "source": [
    "### 2) vector 추출"
   ]
  },
  {
   "cell_type": "code",
   "execution_count": 4,
   "metadata": {},
   "outputs": [
    {
     "data": {
      "text/html": [
       "<div>\n",
       "<style scoped>\n",
       "    .dataframe tbody tr th:only-of-type {\n",
       "        vertical-align: middle;\n",
       "    }\n",
       "\n",
       "    .dataframe tbody tr th {\n",
       "        vertical-align: top;\n",
       "    }\n",
       "\n",
       "    .dataframe thead th {\n",
       "        text-align: right;\n",
       "    }\n",
       "</style>\n",
       "<table border=\"1\" class=\"dataframe\">\n",
       "  <thead>\n",
       "    <tr style=\"text-align: right;\">\n",
       "      <th></th>\n",
       "      <th>calory</th>\n",
       "      <th>breakfast</th>\n",
       "      <th>lunch</th>\n",
       "      <th>dinner</th>\n",
       "      <th>exercise</th>\n",
       "    </tr>\n",
       "  </thead>\n",
       "  <tbody>\n",
       "    <tr>\n",
       "      <th>0</th>\n",
       "      <td>1200</td>\n",
       "      <td>1</td>\n",
       "      <td>0</td>\n",
       "      <td>0</td>\n",
       "      <td>2</td>\n",
       "    </tr>\n",
       "    <tr>\n",
       "      <th>1</th>\n",
       "      <td>2800</td>\n",
       "      <td>1</td>\n",
       "      <td>1</td>\n",
       "      <td>1</td>\n",
       "      <td>1</td>\n",
       "    </tr>\n",
       "    <tr>\n",
       "      <th>2</th>\n",
       "      <td>3500</td>\n",
       "      <td>2</td>\n",
       "      <td>2</td>\n",
       "      <td>1</td>\n",
       "      <td>0</td>\n",
       "    </tr>\n",
       "    <tr>\n",
       "      <th>3</th>\n",
       "      <td>1400</td>\n",
       "      <td>0</td>\n",
       "      <td>1</td>\n",
       "      <td>0</td>\n",
       "      <td>3</td>\n",
       "    </tr>\n",
       "    <tr>\n",
       "      <th>4</th>\n",
       "      <td>5000</td>\n",
       "      <td>2</td>\n",
       "      <td>2</td>\n",
       "      <td>2</td>\n",
       "      <td>0</td>\n",
       "    </tr>\n",
       "  </tbody>\n",
       "</table>\n",
       "</div>"
      ],
      "text/plain": [
       "  calory breakfast lunch dinner exercise\n",
       "0   1200         1     0      0        2\n",
       "1   2800         1     1      1        1\n",
       "2   3500         2     2      1        0\n",
       "3   1400         0     1      0        3\n",
       "4   5000         2     2      2        0"
      ]
     },
     "execution_count": 4,
     "metadata": {},
     "output_type": "execute_result"
    }
   ],
   "source": [
    "# X is feature vectors\n",
    "X = df[['calory','breakfast','lunch','dinner','exercise']]\n",
    "X.head()"
   ]
  },
  {
   "cell_type": "code",
   "execution_count": 5,
   "metadata": {},
   "outputs": [
    {
     "data": {
      "text/html": [
       "<div>\n",
       "<style scoped>\n",
       "    .dataframe tbody tr th:only-of-type {\n",
       "        vertical-align: middle;\n",
       "    }\n",
       "\n",
       "    .dataframe tbody tr th {\n",
       "        vertical-align: top;\n",
       "    }\n",
       "\n",
       "    .dataframe thead th {\n",
       "        text-align: right;\n",
       "    }\n",
       "</style>\n",
       "<table border=\"1\" class=\"dataframe\">\n",
       "  <thead>\n",
       "    <tr style=\"text-align: right;\">\n",
       "      <th></th>\n",
       "      <th>body_shape</th>\n",
       "    </tr>\n",
       "  </thead>\n",
       "  <tbody>\n",
       "    <tr>\n",
       "      <th>0</th>\n",
       "      <td>Skinny</td>\n",
       "    </tr>\n",
       "    <tr>\n",
       "      <th>1</th>\n",
       "      <td>Normal</td>\n",
       "    </tr>\n",
       "    <tr>\n",
       "      <th>2</th>\n",
       "      <td>Fat</td>\n",
       "    </tr>\n",
       "    <tr>\n",
       "      <th>3</th>\n",
       "      <td>Skinny</td>\n",
       "    </tr>\n",
       "    <tr>\n",
       "      <th>4</th>\n",
       "      <td>Fat</td>\n",
       "    </tr>\n",
       "  </tbody>\n",
       "</table>\n",
       "</div>"
      ],
      "text/plain": [
       "  body_shape\n",
       "0     Skinny\n",
       "1     Normal\n",
       "2        Fat\n",
       "3     Skinny\n",
       "4        Fat"
      ]
     },
     "execution_count": 5,
     "metadata": {},
     "output_type": "execute_result"
    }
   ],
   "source": [
    "# Y is labels\n",
    "Y = df[['body_shape']]\n",
    "Y.head()"
   ]
  },
  {
   "cell_type": "markdown",
   "metadata": {},
   "source": [
    "### 3) feature vector 표준화"
   ]
  },
  {
   "cell_type": "code",
   "execution_count": 6,
   "metadata": {},
   "outputs": [
    {
     "name": "stderr",
     "output_type": "stream",
     "text": [
      "C:\\ProgramData\\Anaconda3\\lib\\site-packages\\sklearn\\preprocessing\\data.py:645: DataConversionWarning: Data with input dtype object were all converted to float64 by StandardScaler.\n",
      "  return self.partial_fit(X, y)\n",
      "C:\\ProgramData\\Anaconda3\\lib\\site-packages\\sklearn\\base.py:464: DataConversionWarning: Data with input dtype object were all converted to float64 by StandardScaler.\n",
      "  return self.fit(X, **fit_params).transform(X)\n"
     ]
    },
    {
     "data": {
      "text/plain": [
       "array([[-1.35205803,  0.        , -1.3764944 , -1.28571429,  1.        ],\n",
       "       [ 0.01711466,  0.        , -0.22941573,  0.14285714,  0.        ],\n",
       "       [ 0.61612771,  1.29099445,  0.91766294,  0.14285714, -1.        ],\n",
       "       [-1.18091145, -1.29099445, -0.22941573, -1.28571429,  2.        ],\n",
       "       [ 1.89972711,  1.29099445,  0.91766294,  1.57142857, -1.        ],\n",
       "       [-1.26648474, -1.29099445, -1.3764944 ,  0.14285714,  1.        ],\n",
       "       [ 0.18826125,  0.        , -1.3764944 ,  0.14285714,  0.        ],\n",
       "       [ 1.04399418,  1.29099445,  0.91766294,  1.57142857, -1.        ],\n",
       "       [-0.15403193, -1.29099445,  0.91766294, -1.28571429, -1.        ],\n",
       "       [ 0.18826125,  0.        ,  0.91766294,  0.14285714,  0.        ]])"
      ]
     },
     "execution_count": 6,
     "metadata": {},
     "output_type": "execute_result"
    }
   ],
   "source": [
    "from sklearn.preprocessing import StandardScaler\n",
    "x_std = StandardScaler().fit_transform(X) # 표준화 값 구하기\n",
    "\n",
    "x_std"
   ]
  },
  {
   "cell_type": "code",
   "execution_count": 8,
   "metadata": {},
   "outputs": [
    {
     "data": {
      "text/plain": [
       "'\\nStandardize features by removing the mean and scaling to unit variance\\nThe standard score of a sample `x` is calculated as:\\n    z = (x - u) / s\\n'"
      ]
     },
     "execution_count": 8,
     "metadata": {},
     "output_type": "execute_result"
    }
   ],
   "source": [
    "StandardScaler?\n",
    "\"\"\"\n",
    "Standardize features by removing the mean and scaling to unit variance\n",
    "The standard score of a sample `x` is calculated as:\n",
    "    z = (x - u) / s\n",
    "\"\"\""
   ]
  },
  {
   "cell_type": "code",
   "execution_count": 10,
   "metadata": {},
   "outputs": [
    {
     "name": "stdout",
     "output_type": "stream",
     "text": [
      "3.552713678800501e-17\n",
      "1.0\n"
     ]
    }
   ],
   "source": [
    "print(x_std.mean()) # 사실상 0\n",
    "print(x_std.std()) # 표준편차는 1\n",
    "# 표준화 완료 "
   ]
  },
  {
   "cell_type": "markdown",
   "metadata": {},
   "source": [
    "### 4) feature 간 공분산 행렬 계산"
   ]
  },
  {
   "cell_type": "code",
   "execution_count": 11,
   "metadata": {},
   "outputs": [
    {
     "name": "stdout",
     "output_type": "stream",
     "text": [
      "[[ 1.11111111  0.88379717  0.76782385  0.89376551 -0.93179808]\n",
      " [ 0.88379717  1.11111111  0.49362406  0.81967902 -0.71721914]\n",
      " [ 0.76782385  0.49362406  1.11111111  0.40056715 -0.76471911]\n",
      " [ 0.89376551  0.81967902  0.40056715  1.11111111 -0.63492063]\n",
      " [-0.93179808 -0.71721914 -0.76471911 -0.63492063  1.11111111]]\n"
     ]
    }
   ],
   "source": [
    "import numpy as np\n",
    "\n",
    "# features are columns from x_std\n",
    "# 왜 1이 아니라 1.111...이 나오는 것인가요?\n",
    "features = x_std.T\n",
    "covariance_matrix = np.cov(features) # 상관관계 바로 구하는 행렬 \n",
    "print(covariance_matrix)"
   ]
  },
  {
   "cell_type": "code",
   "execution_count": 19,
   "metadata": {},
   "outputs": [],
   "source": [
    "np.cov?"
   ]
  },
  {
   "cell_type": "markdown",
   "metadata": {},
   "source": [
    "### 5) 고유 벡터(Eigen Vectors)와 고유값(Eigen Values) 산출"
   ]
  },
  {
   "cell_type": "code",
   "execution_count": 23,
   "metadata": {
    "scrolled": true
   },
   "outputs": [
    {
     "name": "stdout",
     "output_type": "stream",
     "text": [
      "Eigenvalues \n",
      "[4.0657343  0.8387565  0.07629538 0.27758568 0.2971837 ]\n",
      "Eigenvectors \n",
      "[[ 0.508005    0.0169937  -0.84711404  0.11637853  0.10244985]\n",
      " [ 0.44660335  0.36890361  0.12808055 -0.63112016 -0.49973822]\n",
      " [ 0.38377913 -0.70804084  0.20681005 -0.40305226  0.38232213]\n",
      " [ 0.42845209  0.53194699  0.3694462   0.22228235  0.58954327]\n",
      " [-0.46002038  0.2816592  -0.29450345 -0.61341895  0.49601841]]\n"
     ]
    }
   ],
   "source": [
    "eig_vals, eig_vecs = np.linalg.eig(covariance_matrix)\n",
    "print('Eigenvalues \\n%s' %eig_vals) # 람다 값\n",
    "print('Eigenvectors \\n%s' %eig_vecs) # 아이젠 벡터 값\n",
    "\n",
    "# 데이터 * 아이젠벡터(고유 벡터) = 고유 값 * 아이젠 벡터(고유 벡터)"
   ]
  },
  {
   "cell_type": "code",
   "execution_count": 24,
   "metadata": {},
   "outputs": [
    {
     "data": {
      "text/plain": [
       "0.7318321731427544"
      ]
     },
     "execution_count": 24,
     "metadata": {},
     "output_type": "execute_result"
    }
   ],
   "source": [
    "# 1개 차원으로 축소했을때 73%의 정보를 보유\n",
    "eig_vals[0] / sum(eig_vals)"
   ]
  },
  {
   "cell_type": "markdown",
   "metadata": {},
   "source": [
    "### 6) 고유벡터(Eigen Vector)를 기준으로 데이터를 투영"
   ]
  },
  {
   "cell_type": "code",
   "execution_count": 20,
   "metadata": {},
   "outputs": [],
   "source": [
    "df.dot?"
   ]
  },
  {
   "cell_type": "code",
   "execution_count": 14,
   "metadata": {},
   "outputs": [
    {
     "data": {
      "text/plain": [
       "array([-2.22600943, -0.0181432 ,  1.76296611, -2.73542407,  3.02711544,\n",
       "       -2.14702579, -0.37142473,  2.59239883, -0.39347815,  0.50902498])"
      ]
     },
     "execution_count": 14,
     "metadata": {},
     "output_type": "execute_result"
    }
   ],
   "source": [
    "# 표준화된 x_std 의 값과 아이젠 벡터를 곱해줌 (아이젠 벡터가 지금 행벡터 이기 때문에, T를 이용하여 열벡터로 변환)\n",
    "projected_X = x_std.dot(eig_vecs.T[0])\n",
    "projected_X"
   ]
  },
  {
   "cell_type": "code",
   "execution_count": 15,
   "metadata": {},
   "outputs": [
    {
     "data": {
      "text/html": [
       "<div>\n",
       "<style scoped>\n",
       "    .dataframe tbody tr th:only-of-type {\n",
       "        vertical-align: middle;\n",
       "    }\n",
       "\n",
       "    .dataframe tbody tr th {\n",
       "        vertical-align: top;\n",
       "    }\n",
       "\n",
       "    .dataframe thead th {\n",
       "        text-align: right;\n",
       "    }\n",
       "</style>\n",
       "<table border=\"1\" class=\"dataframe\">\n",
       "  <thead>\n",
       "    <tr style=\"text-align: right;\">\n",
       "      <th></th>\n",
       "      <th>PC1</th>\n",
       "      <th>y-axis</th>\n",
       "      <th>label</th>\n",
       "    </tr>\n",
       "  </thead>\n",
       "  <tbody>\n",
       "    <tr>\n",
       "      <th>0</th>\n",
       "      <td>-2.226009</td>\n",
       "      <td>0.0</td>\n",
       "      <td>Skinny</td>\n",
       "    </tr>\n",
       "    <tr>\n",
       "      <th>1</th>\n",
       "      <td>-0.018143</td>\n",
       "      <td>0.0</td>\n",
       "      <td>Normal</td>\n",
       "    </tr>\n",
       "    <tr>\n",
       "      <th>2</th>\n",
       "      <td>1.762966</td>\n",
       "      <td>0.0</td>\n",
       "      <td>Fat</td>\n",
       "    </tr>\n",
       "    <tr>\n",
       "      <th>3</th>\n",
       "      <td>-2.735424</td>\n",
       "      <td>0.0</td>\n",
       "      <td>Skinny</td>\n",
       "    </tr>\n",
       "    <tr>\n",
       "      <th>4</th>\n",
       "      <td>3.027115</td>\n",
       "      <td>0.0</td>\n",
       "      <td>Fat</td>\n",
       "    </tr>\n",
       "  </tbody>\n",
       "</table>\n",
       "</div>"
      ],
      "text/plain": [
       "        PC1  y-axis   label\n",
       "0 -2.226009     0.0  Skinny\n",
       "1 -0.018143     0.0  Normal\n",
       "2  1.762966     0.0     Fat\n",
       "3 -2.735424     0.0  Skinny\n",
       "4  3.027115     0.0     Fat"
      ]
     },
     "execution_count": 15,
     "metadata": {},
     "output_type": "execute_result"
    }
   ],
   "source": [
    "result = pd.DataFrame(projected_X, columns=['PC1'])\n",
    "result['y-axis'] = 0.0\n",
    "result['label'] = Y\n",
    "result.head()"
   ]
  },
  {
   "cell_type": "code",
   "execution_count": 18,
   "metadata": {},
   "outputs": [
    {
     "data": {
      "text/plain": [
       "Text(0.5, 1.0, 'PCA result')"
      ]
     },
     "execution_count": 18,
     "metadata": {},
     "output_type": "execute_result"
    },
    {
     "data": {
      "image/png": "[encoded data removed]",
      "text/plain": [
       "<Figure size 432.25x360 with 1 Axes>"
      ]
     },
     "metadata": {
      "needs_background": "light"
     },
     "output_type": "display_data"
    }
   ],
   "source": [
    "import matplotlib.pyplot as plt\n",
    "import seaborn as sns\n",
    "%matplotlib inline\n",
    "\n",
    "sns.lmplot('PC1','y-axis', data=result, fit_reg=False, # x-axis, y-axis, data, no line\n",
    "           scatter_kws = {\"s\": 50}, # marker size\n",
    "           hue = 'label') # color\n",
    "\n",
    "# title\n",
    "plt.title('PCA result')"
   ]
  },
  {
   "cell_type": "markdown",
   "metadata": {},
   "source": [
    "### 2.3 scikit-learn 활용 PCA"
   ]
  },
  {
   "cell_type": "code",
   "execution_count": 21,
   "metadata": {},
   "outputs": [
    {
     "data": {
      "text/plain": [
       "array([[-2.22600943],\n",
       "       [-0.0181432 ],\n",
       "       [ 1.76296611],\n",
       "       [-2.73542407],\n",
       "       [ 3.02711544],\n",
       "       [-2.14702579],\n",
       "       [-0.37142473],\n",
       "       [ 2.59239883],\n",
       "       [-0.39347815],\n",
       "       [ 0.50902498]])"
      ]
     },
     "execution_count": 21,
     "metadata": {},
     "output_type": "execute_result"
    }
   ],
   "source": [
    "from sklearn import decomposition\n",
    "pca = decomposition.PCA(n_components=1)\n",
    "sklearn_pca_x = pca.fit_transform(x_std)\n",
    "sklearn_pca_x"
   ]
  },
  {
   "cell_type": "code",
   "execution_count": 22,
   "metadata": {},
   "outputs": [
    {
     "data": {
      "text/plain": [
       "<seaborn.axisgrid.FacetGrid at 0x2593dca0748>"
      ]
     },
     "execution_count": 22,
     "metadata": {},
     "output_type": "execute_result"
    },
    {
     "data": {
      "image/png": "[encoded data removed]",
      "text/plain": [
       "<Figure size 432.25x360 with 1 Axes>"
      ]
     },
     "metadata": {
      "needs_background": "light"
     },
     "output_type": "display_data"
    }
   ],
   "source": [
    "sklearn_result = pd.DataFrame(sklearn_pca_x, columns=['PC1'])\n",
    "sklearn_result['y-axis'] = 0.0\n",
    "sklearn_result['label'] = Y\n",
    "sns.lmplot('PC1', 'y-axis', data=sklearn_result, fit_reg=False, # x-axis, y-axis, data, no line\n",
    "scatter_kws={\"s\": 50}, # marker size\n",
    "hue=\"label\") # color"
   ]
  },
  {
   "cell_type": "code",
   "execution_count": null,
   "metadata": {},
   "outputs": [],
   "source": []
  }
 ],
 "metadata": {
  "kernelspec": {
   "display_name": "Python 3",
   "language": "python",
   "name": "python3"
  },
  "language_info": {
   "codemirror_mode": {
    "name": "ipython",
    "version": 3
   },
   "file_extension": ".py",
   "mimetype": "text/x-python",
   "name": "python",
   "nbconvert_exporter": "python",
   "pygments_lexer": "ipython3",
   "version": "3.7.3"
  }
 },
 "nbformat": 4,
 "nbformat_minor": 2
}
