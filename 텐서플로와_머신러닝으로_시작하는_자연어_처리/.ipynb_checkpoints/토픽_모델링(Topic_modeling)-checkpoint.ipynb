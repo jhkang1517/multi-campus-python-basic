{
 "cells": [
  {
   "cell_type": "markdown",
   "metadata": {},
   "source": [
    "# 토픽 모델링\n",
    " * 추출된 키워드들의 분포를 나타냄으로써 텍스트 내의 구조를 파악한다. \n",
    " \n",
    "### 토픽 모델링의 할용\n",
    " * 사회문제를 다루고 있는 대용량 뉴스기사로부터 토픽(주성분)을 찾아 사회적 이슈에 관한 키워드를 도출하는 시스템을 제안\n",
    " * SNS데이터의 이슈를 추출하는 이슈 트래킹(traking)\n",
    " * 공통적으로 이슈와 트렌드를 발견한다는 것에 의미가 있다고 볼 수 있다.\n"
   ]
  },
  {
   "cell_type": "markdown",
   "metadata": {},
   "source": [
    "## 1. LSA(잠재의미분석, Latent semantic analysis)\n",
    "- 결국 해석은 '사람'이 한다는 것이 핵심\n",
    "- 가장 중요한 축에 대해 관련된 키워드들 -> Topic(토픽)\n",
    "- 토픽1이 main주제, 그 이후 2.3..4.. 서브주제들\n",
    "- LSA가 끝나면, 단어벡터와 문서벡터를 얻을 수 있는데, 단어들끼리의, 혹은 문서들끼리의 유사도를 계산할 수 있다.\n",
    "\n",
    "#### PCA와의 연관\n",
    "- PCA에서 가장 중요한 것은 '축'을 찾는것. 이것이 토픽모델링에서 적합한 n개의 주제를 찾는 것은 n개의 주성분을 찾는 것과 같다.\n",
    " \n",
    " "
   ]
  },
  {
   "cell_type": "markdown",
   "metadata": {},
   "source": [
    "### PCA와의 연관\n",
    " * PCA에서 가장 중요한 것은 '축'을 찾는것. 이것이 토픽모델링에서 적합한 n개의 주제를 찾는 것은 n개의 주성분을 찾는 것과 같다.\n",
    " * "
   ]
  }
 ],
 "metadata": {
  "kernelspec": {
   "display_name": "Python 3",
   "language": "python",
   "name": "python3"
  },
  "language_info": {
   "codemirror_mode": {
    "name": "ipython",
    "version": 3
   },
   "file_extension": ".py",
   "mimetype": "text/x-python",
   "name": "python",
   "nbconvert_exporter": "python",
   "pygments_lexer": "ipython3",
   "version": "3.7.3"
  }
 },
 "nbformat": 4,
 "nbformat_minor": 2
}
