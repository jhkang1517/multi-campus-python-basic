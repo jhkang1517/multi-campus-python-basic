{
 "cells": [
  {
   "cell_type": "markdown",
   "metadata": {},
   "source": [
    "## 단어 임베딩(Word Embedding) - GloVe"
   ]
  },
  {
   "cell_type": "code",
   "execution_count": 10,
   "metadata": {},
   "outputs": [
    {
     "name": "stdout",
     "output_type": "stream",
     "text": [
      "Collecting https://github.com/JonathanRaiman/glove/archive/master.zip\n",
      "  Downloading https://github.com/JonathanRaiman/glove/archive/master.zip\n",
      "Requirement already satisfied: cython in c:\\programdata\\anaconda3\\lib\\site-packages (from glove==1.0.1) (0.29.6)\n",
      "Requirement already satisfied: numpy in c:\\programdata\\anaconda3\\lib\\site-packages (from glove==1.0.1) (1.16.2)\n",
      "Building wheels for collected packages: glove\n",
      "  Building wheel for glove (setup.py): started\n",
      "  Building wheel for glove (setup.py): finished with status 'done'\n",
      "  Stored in directory: C:\\Users\\User\\AppData\\Local\\Temp\\pip-ephem-wheel-cache-su3u7u0m\\wheels\\d8\\f8\\8d\\8754c24e9f908071d7d0d903591b06d9915b56a491abaae45a\n",
      "Successfully built glove\n",
      "Installing collected packages: glove\n",
      "Successfully installed glove-1.0.1\n"
     ]
    }
   ],
   "source": [
    "!pip install https://github.com/JonathanRaiman/glove/archive/master.zip"
   ]
  },
  {
   "cell_type": "code",
   "execution_count": 11,
   "metadata": {},
   "outputs": [
    {
     "name": "stderr",
     "output_type": "stream",
     "text": [
      "[nltk_data] Downloading package punkt to\n",
      "[nltk_data]     C:\\Users\\User\\AppData\\Roaming\\nltk_data...\n",
      "[nltk_data]   Package punkt is already up-to-date!\n"
     ]
    }
   ],
   "source": [
    "import numpy as np\n",
    "\n",
    "import os\n",
    "import pickle\n",
    "import time\n",
    "\n",
    "SENTENCE_LENGH_MAX = 32\n",
    "EMBEDDING_DIM = 50\n",
    "\n",
    "import nltk\n",
    "nltk.download('punkt')\n",
    "sentence_splitter = nltk.data.load('tokenizers/punkt/english.pickle')\n",
    "from nltk.tokenize import TreebankWordTokenizer\n",
    "tokenizer = TreebankWordTokenizer()"
   ]
  },
  {
   "cell_type": "code",
   "execution_count": 12,
   "metadata": {},
   "outputs": [],
   "source": [
    "def corpus_sentence_tokens(corpus_text_file):\n",
    "    while True:\n",
    "        with open(corpus_text_file, encoding='utf-8') as f:\n",
    "            for line in f.readlines():\n",
    "                n, l = line.split('\\T') \n",
    "                for s in sentence_spliter.tokenize(l): # Split the lines into sentence (-1 each)\n",
    "                    tree_banked = tokenizer.tokenize(s)\n",
    "                    if len(tree_banked) < SENTENCE_LENGTH_MAX:\n",
    "                        yield tree_banked\n",
    "\n",
    "corpus_sentence_tokens_gen = corpus_sentence_tokens('en.wikipedia.2010.100K.txt')"
   ]
  },
  {
   "cell_type": "code",
   "execution_count": 16,
   "metadata": {},
   "outputs": [
    {
     "data": {
      "text/plain": [
       "['Glove',\n",
       " '__all__',\n",
       " '__builtins__',\n",
       " '__cached__',\n",
       " '__doc__',\n",
       " '__file__',\n",
       " '__loader__',\n",
       " '__name__',\n",
       " '__package__',\n",
       " '__path__',\n",
       " '__spec__',\n",
       " 'glove',\n",
       " 'glove_inner']"
      ]
     },
     "execution_count": 16,
     "metadata": {},
     "output_type": "execute_result"
    }
   ],
   "source": [
    "dir(glove)"
   ]
  },
  {
   "cell_type": "code",
   "execution_count": 18,
   "metadata": {},
   "outputs": [
    {
     "ename": "ImportError",
     "evalue": "cannot import name 'Corpus' from 'glove' (C:\\ProgramData\\Anaconda3\\lib\\site-packages\\glove\\__init__.py)",
     "output_type": "error",
     "traceback": [
      "\u001b[1;31m---------------------------------------------------------------------------\u001b[0m",
      "\u001b[1;31mImportError\u001b[0m                               Traceback (most recent call last)",
      "\u001b[1;32m<ipython-input-18-bfee5a837574>\u001b[0m in \u001b[0;36m<module>\u001b[1;34m\u001b[0m\n\u001b[0;32m      1\u001b[0m \u001b[1;32mimport\u001b[0m \u001b[0mglove\u001b[0m\u001b[1;33m\u001b[0m\u001b[1;33m\u001b[0m\u001b[0m\n\u001b[1;32m----> 2\u001b[1;33m \u001b[1;32mfrom\u001b[0m \u001b[0mglove\u001b[0m \u001b[1;32mimport\u001b[0m \u001b[0mCorpus\u001b[0m\u001b[1;33m\u001b[0m\u001b[1;33m\u001b[0m\u001b[0m\n\u001b[0m\u001b[0;32m      3\u001b[0m \u001b[1;33m\u001b[0m\u001b[0m\n\u001b[0;32m      4\u001b[0m \u001b[0mglove_corpus\u001b[0m \u001b[1;33m=\u001b[0m \u001b[0mglove\u001b[0m\u001b[1;33m.\u001b[0m\u001b[0mCorpus\u001b[0m\u001b[1;33m(\u001b[0m\u001b[1;33m)\u001b[0m\u001b[1;33m\u001b[0m\u001b[1;33m\u001b[0m\u001b[0m\n\u001b[0;32m      5\u001b[0m \u001b[1;33m\u001b[0m\u001b[0m\n",
      "\u001b[1;31mImportError\u001b[0m: cannot import name 'Corpus' from 'glove' (C:\\ProgramData\\Anaconda3\\lib\\site-packages\\glove\\__init__.py)"
     ]
    }
   ],
   "source": [
    "import glove\n",
    "from glove import Corpus\n",
    "\n",
    "glove_corpus = glove.Corpus()\n",
    "\n",
    "corpus_sentences = [\n",
    "    [w.lower () for w in next(corpus_sentence_tokens_gen)] # All lower-case\n",
    "]\n",
    "\n",
    "# Fit the co-occurrence matrix using a sliding window of 10 words\n",
    "t0 = time.time()\n",
    "glove_corpus.fit(corpus_sentences, window=10)\n",
    "\n",
    "print('Dictionary length=%d' % (len(glove_corpus.dictionary),))\n",
    "print('Co-occurrence calculated in %5.1fsec' % (time.time() - t0,) )"
   ]
  },
  {
   "cell_type": "code",
   "execution_count": null,
   "metadata": {},
   "outputs": [],
   "source": [
    "# Return the index of the word in the dictionary\n",
    "glove_corpus.dictionary['city']"
   ]
  },
  {
   "cell_type": "code",
   "execution_count": null,
   "metadata": {},
   "outputs": [],
   "source": [
    "word_embedding = glove.Glove(no_components=EMBEDDING_DIM, learn_rate = 0.05)\n",
    "\n",
    "t0 = time.time()\n",
    "\n",
    "glove_epochs = 20\n",
    "glove_threads = 4\n",
    "\n",
    "word_embedding.fit(glove_corpus.matrix, epochs=glove_epochs, no_threads = glove_threads, verbose=True)\n",
    "\n",
    "print(\"%d-d word-embedding created in %5.1fsec = %5.1fsec per epoch\" % (\n",
    "EMBEDDING_DIM, (time.time()-t0), (time.time()-t0/glove_epochs*glove_threads, )))\n",
    "\n",
    "# Add the word -> id dictionary to the model to allow similarity queries\n",
    "word_embedding.add_dictionary(glove_corpus.dictionary)"
   ]
  },
  {
   "cell_type": "code",
   "execution_count": null,
   "metadata": {},
   "outputs": [],
   "source": [
    "word_embedding.save(\"./glove.embedding.50.pkl\")\n",
    "word_embedding.load(\"./glove.embedding.50.pkl\")"
   ]
  }
 ],
 "metadata": {
  "kernelspec": {
   "display_name": "Python 3",
   "language": "python",
   "name": "python3"
  },
  "language_info": {
   "codemirror_mode": {
    "name": "ipython",
    "version": 3
   },
   "file_extension": ".py",
   "mimetype": "text/x-python",
   "name": "python",
   "nbconvert_exporter": "python",
   "pygments_lexer": "ipython3",
   "version": "3.7.3"
  }
 },
 "nbformat": 4,
 "nbformat_minor": 2
}
