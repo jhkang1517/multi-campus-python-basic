{
 "cells": [
  {
   "cell_type": "markdown",
   "metadata": {},
   "source": [
    "## 문서요약 Text Summarization\n",
    " * 가장 핵심이 되는 문장이 무엇인가? 가장 우선순위가 높은 문장이 나타난다.  \n",
    " * 이를 역순으로 나타내면 이것이 곧 문서 요약이 된다.  \n",
    " **가정:** 글을 쓰는 사람들은 자신이 중요하다고 생각하는 단어를 많이 사용할 것이다."
   ]
  },
  {
   "cell_type": "code",
   "execution_count": 1,
   "metadata": {},
   "outputs": [],
   "source": [
    "Text = \"The FAANG stocks won’t see much more growth in the near future, according to Bill Studebaker, founder and Chief Investment Officer of Robo Global. \\\n",
    "Studebaker argues we are seeing a 'reallocation' that will continue from large-cap tech stocks into market-weight stocks. \\\n",
    "The FAANG stocks have had a rough few weeks, and have been hit hard since March 12. \\\n",
    "One FAANG to look out for, in the midst of all this, is Amazon, according to Studebaker. \\\n",
    "The stock market is seeing a 'reallocation' out of FAANG stocks, which are not where the smart money is, founder and Chief Investment Officer of Robo Global Bill Studebaker told Business Insider. \\\n",
    "The FAANG stocks (Facebook, Apple, Amazon, Netflix, Google) are all down considerably since March 12, a trend that accelerated when news of a massive Facebook data scandal broke, sending the tech-heavy Nasdaq into a downward frenzy. \\\n",
    "Investors are wondering what’s next. \\\n",
    "And what’s next isn’t good news for FAANG stock optimists, Studebaker thinks. 'This is a dead trade' for the next several months, he said. 'I wouldn’t expect there to be a lot of performance attribution coming from the FAANG stocks,' he added. That is, if the stock market is to see gains in the next several months, they will largely not come from the big tech companies. \\\n",
    "The market is seeing a 'reallocation out of large-cap technology, into other parts of the market,' he said. And this trend could continue for the foreseeable future. 'When you get these reallocation trades, a de-risking, this can go on for months and months.' The FAANG’s are pricey stocks, he said, pointing out that investors will 'factor in the law of big numbers,' he said. 'Just because they’re big cap doesn’t mean they’re safe,' he added. \\\n",
    "Still, he doesn’t necessarily think that investors are going to shift drastically into value stocks. 'With an increasingly favorable macro backdrop, you have strong growth demand.' \\\n",
    "Studebaker, who runs an artificial intelligence and robotics exchange-traded fund with $4 billion in assets under management, thinks that AI and robotics are better areas of growth. His ETF is up 27% in the past year, while the FAANG stocks are also largely up over that same span, even if they are down since March 12. \\\n",
    "While many point to artificial intelligence as an area that will be a boost to Google and Amazon, Studebaker doesn’t see that as a sign of significant growth for the FAANGs. He pointed out that 'eighty to ninety percent of their businesses are still search,' and that 'AI doesn’t really move the needle on the business.' He also said 'the revenue mix [attributable to AI] in those businesses are insignificant.' \\\n",
    "And while he’s not bullish on FAANG’s, he does say that the one FAANG to still watch out for is Amazon, simply because ecommerce still represents a small portion of the global retail market, giving the company room to grow.\" \n"
   ]
  },
  {
   "cell_type": "markdown",
   "metadata": {},
   "source": [
    "## 1. Luhn Summarizer\n",
    "http://courses.ischool.berkeley.edu/i256/f06/papers/luhn58.pdf"
   ]
  },
  {
   "cell_type": "markdown",
   "metadata": {},
   "source": [
    "### 1) Hans Peter Luhn\n",
    "Hans Peter Luhn은 공학과 정보과학에서의 개척 작업으로 \"정보 검색의 아버지\"로 알려져 있다. 그는 표제어가 문맥에 포함된 채\n",
    "택 제공(SDI), 완전 텍스트 프로세싱, 자동 발췌(요약), 단어 시소로스의 최초 현대식 사용으로 신뢰를 얻었다. 오늘날 파생된 지식 대\n",
    "스템이 있다.\n",
    "Luhn은 1896년 7월 1일 독일 바르멘에서 태어났다. 아버지가 그 당시 유명한 인쇄업자였으므로, 스위스에서 인쇄업을 배웠다. 어\n",
    "문제, 물리학, 통계학에 관심을 보였다. 그러나 1차 세계대전으로 독일군 통신장교로 복역(1915년1917년)하면서 프랑스 터키 루마\n",
    "그는 스위스의 Gallen 교회 Schweizwrische handels Hochschule로 돌아와 기술, 물리학, 회계분야의 수업을 들었다. 그 후,\n",
    "계(Duble-Entry Bookeeping Machine : 카드 대장에 대변기입과 차변 기입을 기록할 수 있는 것)를 발명하였다. 그는 또 Holle\n",
    "드에서 문자 숫자를 나타내는 장치의 사용을 증가시키게 했다. 1920년부터 1930년까지는 10개의 특허권을 획득하여 그의 탁월한\n",
    "직물의 실길이를 계산하는데 쓰이는 장치)는 지금도 사용되고 있다.\n",
    "1920년까지 그는 직물 공장에서 일하기 시작했다. 그는 직물 공장의 사업확장을 위해 뉴잉글랜드에서 1924년 미국으로 가게 되었\n",
    "남게 되었다. 그는 은행에서 일을 하였고 곧 뉴욕 월스트리트에 소재한 국제어음은행(International Acceptance Bank)에서 재정\n",
    "1933년 Luhn은 자사인 공학회사 H.P. Luhn & Association을 설립하였고 8년간 자문기술자로 일했다. 1941년 Luhn은 IBM에\n",
    "리자로 일했다. Luhn이 IBM에서 새로운 아이디어를 지속적으로 내놓고 문제를 다르게 접근하여 주목을 받는 동안, 다른 기술자들\n",
    "역할을 하여 신뢰를 얻었다"
   ]
  },
  {
   "cell_type": "code",
   "execution_count": 14,
   "metadata": {},
   "outputs": [],
   "source": [
    "import nltk\n",
    "import re\n",
    "from nltk.tokenize import TreebankWordTokenizer\n",
    "\n",
    "# 마침표(.)를 기준으로 문장 분리\n",
    "def get_sentences(txt):\n",
    "    return txt.split('.')\n",
    "\n",
    "# Treebank tokenizer로 토큰 분리\n",
    "def get_words(txt):\n",
    "    return TreebankWordTokenizer().tokenize(txt)\n",
    "\n",
    "# 단어(토큰)의 가중치 계산 및 범위에 포함되는 토큰 식별\n",
    "def get_keywords(word_list, min_ratio=0.001, max_ratio=0.5) :\n",
    "    assert (min_ratio < 1 and max_ratio < 1) \n",
    "    # assert 반드시 이 조건을 만족하지 않으면 다음으로 넘어가지 않는다 (함수가 종료된다.)\n",
    "    \n",
    "    # 토큰 별로 빈도수 카운팅\n",
    "    count_dict = {}\n",
    "    for word in word_list:\n",
    "        count_dict.setdefault(word, 0)\n",
    "        count_dict[word] += 1\n",
    "    print('Count_dict: \\n', count_dict)\n",
    "    print('len about word_list: \\n', len(word_list))\n",
    "    \n",
    "    # 분석 문서의 총 토큰수 대비 해당 토큰의 빈도 비율\n",
    "    keywords = set()\n",
    "    for word,cnt in count_dict.items():\n",
    "        word_percentage = count_dict[word]*1.0 / len(word_list)\n",
    "        # print(word_percentage)\n",
    "        \n",
    "        # 사전 정의한 비율 내에 포함된 경우, 키워드에 추가\n",
    "        if word_percentage <= max_ratio and word_percentage >= min_ratio:\n",
    "            keywords.add(word)\n",
    "    return keywords\n",
    "\n",
    "# 문장의 가중치 계산\n",
    "def get_sentence_weight(sentence, keywords):\n",
    "    sen_list = sentence.split(\" \")\n",
    "    window_start = 0; window_end = -1; # 한줄에 쓸 때는 ; 사용 가능. 종료 표시 \n",
    "    \n",
    "    # 문장 내에서 윈도 시작 위치 탐색\n",
    "    # 범위내 속한 키워드가 등장하는 첫번째 위치 계산\n",
    "    for i in range(len(sen_list)):\n",
    "        if sen_list[i] in keywords:\n",
    "            window_start = i\n",
    "            break\n",
    "            \n",
    "    # 문장 내에서 윈도 종료 위치 탐색\n",
    "    # 범위내 속한 키워드가 등장하는 마지막 위치 계산\n",
    "    for i in range(len(sen_list) -1, 0 , -1):\n",
    "        if sen_list[i] in keywords:\n",
    "            window_end = i\n",
    "            break\n",
    "            \n",
    "    # 윈도의 시작 위치가 종류 위치보다 큰 경우 => 분석할 단어(토큰)이 없는 경우 종료\n",
    "    if window_start > window_end:\n",
    "        return 0\n",
    "    \n",
    "    # 윈도 크기 계산\n",
    "    window_size = window_end - window_start + 1\n",
    "    \n",
    "    # 분석 대상 문장 중 범위(0.001 ~ 0.5) 에 포함된 토큰 개수 카운팅\n",
    "    keywords_cnt = 0\n",
    "    for w in sen_list:\n",
    "        if w in keywords:\n",
    "            keywords_cnt += 1\n",
    "            \n",
    "    # (분석 대상 문장 중 범위(0.001 ~ 0.5) 에 포함된 토큰 개수) / 윈도 사이즈\n",
    "    # 추가 설명\n",
    "    return keywords_cnt * keywords_cnt * 1.0 / window_size\n",
    "\n",
    "# 문서 요약\n",
    "def summarize(content, max_no_of_sentences = 10):\n",
    "    \n",
    "    txt = content\n",
    "    \n",
    "    # 단어(토큰) 분리\n",
    "    word_list = get_words(txt)\n",
    "    \n",
    "    # 단어(토큰) 가중치 계산 및 범위 내 포함 단어(토큰) 추출\n",
    "    keywords = get_keywords(word_list, 0.01, 0.5) # 여기가 핵심. 값을 얼마 주느냐에 따라 다르다. \n",
    "    print('Keywords:\\n', keywords)\n",
    "    \n",
    "    sentence_list = get_sentences(txt)\n",
    "    sentence_weight = []\n",
    "    \n",
    "    # 문장별 가중치 계산\n",
    "    for sen in sentence_list:\n",
    "        sentence_weight.append((get_sentence_weight(sen, keywords), sen))\n",
    "        \n",
    "    # 문장별 가중치 역순 계산\n",
    "    sentence_weight.sort(reverse = True)\n",
    "    # print(sentence_weight)\n",
    "    ret_list = []\n",
    "    ret_cnt = min(max_no_of_sentences, len(sentence_list))\n",
    "    \n",
    "    for i in range(ret_cnt):\n",
    "        ret_list.append(str(sentence_weight[i][0]) + ' : ' + sentence_weight[i][1] + '.')\n",
    "    \n",
    "    print('='*10 + 'Ret_list:' + '='*10)\n",
    "    return ret_list"
   ]
  },
  {
   "cell_type": "code",
   "execution_count": 15,
   "metadata": {
    "scrolled": true
   },
   "outputs": [
    {
     "name": "stdout",
     "output_type": "stream",
     "text": [
      "Count_dict: \n",
      " {'The': 6, 'FAANG': 11, 'stocks': 8, 'won': 1, '’': 14, 't': 7, 'see': 3, 'much': 1, 'more': 1, 'growth': 3, 'in': 7, 'the': 20, 'near': 1, 'future': 1, ',': 38, 'according': 2, 'to': 12, 'Bill': 2, 'Studebaker': 6, 'founder': 2, 'and': 8, 'Chief': 2, 'Investment': 2, 'Officer': 2, 'of': 13, 'Robo': 2, 'Global.': 1, 'argues': 1, 'we': 1, 'are': 11, 'seeing': 3, 'a': 13, \"'reallocation\": 3, \"'\": 13, 'that': 11, 'will': 4, 'continue': 2, 'from': 3, 'large-cap': 2, 'tech': 2, 'into': 4, 'market-weight': 1, 'stocks.': 2, 'have': 3, 'had': 1, 'rough': 1, 'few': 1, 'weeks': 1, 'been': 1, 'hit': 1, 'hard': 1, 'since': 3, 'March': 3, '12.': 2, 'One': 1, 'look': 1, 'out': 6, 'for': 7, 'midst': 1, 'all': 2, 'this': 3, 'is': 9, 'Amazon': 4, 'Studebaker.': 1, 'stock': 3, 'market': 5, 'which': 1, 'not': 3, 'where': 1, 'smart': 1, 'money': 1, 'Global': 1, 'told': 1, 'Business': 1, 'Insider.': 1, '(': 1, 'Facebook': 2, 'Apple': 1, 'Netflix': 1, 'Google': 2, ')': 1, 'down': 2, 'considerably': 1, '12': 1, 'trend': 2, 'accelerated': 1, 'when': 1, 'news': 2, 'massive': 1, 'data': 1, 'scandal': 1, 'broke': 1, 'sending': 1, 'tech-heavy': 1, 'Nasdaq': 1, 'downward': 1, 'frenzy.': 1, 'Investors': 1, 'wondering': 1, 'what': 2, 's': 5, 'next.': 1, 'And': 3, 'next': 3, 'isn': 1, 'good': 1, 'optimists': 1, 'thinks.': 1, \"'This\": 1, 'dead': 1, 'trade': 1, 'several': 2, 'months': 3, 'he': 9, 'said.': 3, 'I': 1, 'wouldn': 1, 'expect': 1, 'there': 1, 'be': 2, 'lot': 1, 'performance': 1, 'attribution': 1, 'coming': 1, 'added.': 2, 'That': 1, 'if': 2, 'gains': 1, 'they': 4, 'largely': 2, 'come': 1, 'big': 3, 'companies.': 1, 'technology': 1, 'other': 1, 'parts': 1, 'could': 1, 'foreseeable': 1, 'future.': 1, \"'When\": 1, 'you': 2, 'get': 1, 'these': 1, 'reallocation': 1, 'trades': 1, 'de-risking': 1, 'can': 1, 'go': 1, 'on': 3, 'months.': 1, 'pricey': 1, 'said': 2, 'pointing': 1, 'investors': 2, \"'factor\": 1, 'law': 1, 'numbers': 1, \"'Just\": 1, 'because': 2, 're': 2, 'cap': 1, 'doesn': 4, 'mean': 1, 'safe': 1, 'Still': 1, 'necessarily': 1, 'think': 1, 'going': 1, 'shift': 1, 'drastically': 1, 'value': 1, \"'With\": 1, 'an': 3, 'increasingly': 1, 'favorable': 1, 'macro': 1, 'backdrop': 1, 'strong': 1, 'demand.': 1, 'who': 1, 'runs': 1, 'artificial': 2, 'intelligence': 2, 'robotics': 2, 'exchange-traded': 1, 'fund': 1, 'with': 1, '$': 1, '4': 1, 'billion': 1, 'assets': 1, 'under': 1, 'management': 1, 'thinks': 1, 'AI': 2, 'better': 1, 'areas': 1, 'growth.': 1, 'His': 1, 'ETF': 1, 'up': 2, '27': 1, '%': 1, 'past': 1, 'year': 1, 'while': 2, 'also': 2, 'over': 1, 'same': 1, 'span': 1, 'even': 1, 'While': 1, 'many': 1, 'point': 1, 'as': 2, 'area': 1, 'boost': 1, 'sign': 1, 'significant': 1, 'FAANGs.': 1, 'He': 2, 'pointed': 1, \"'eighty\": 1, 'ninety': 1, 'percent': 1, 'their': 1, 'businesses': 2, 'still': 3, 'search': 1, \"'AI\": 1, 'really': 1, 'move': 1, 'needle': 1, 'business.': 1, \"'the\": 1, 'revenue': 1, 'mix': 1, '[': 1, 'attributable': 1, ']': 1, 'those': 1, 'insignificant.': 1, 'bullish': 1, 'does': 1, 'say': 1, 'one': 1, 'watch': 1, 'simply': 1, 'ecommerce': 1, 'represents': 1, 'small': 1, 'portion': 1, 'global': 1, 'retail': 1, 'giving': 1, 'company': 1, 'room': 1, 'grow': 1, '.': 1}\n",
      "len about word_list: \n",
      " 568\n",
      "Keywords:\n",
      " {'Studebaker', 'he', 'is', 'to', 'The', 'FAANG', 'are', 't', 'for', 'stocks', \"'\", 'and', 'the', 'that', 'a', 'of', ',', 'in', 'out', '’'}\n",
      "==========Ret_list:==========\n",
      "5.0625 :  One FAANG to look out for, in the midst of all this, is Amazon, according to Studebaker.\n",
      "4.9 : ' And while he’s not bullish on FAANG’s, he does say that the one FAANG to still watch out for is Amazon, simply because ecommerce still represents a small portion of the global retail market, giving the company room to grow.\n",
      "4.761904761904762 : ' The FAANG’s are pricey stocks, he said, pointing out that investors will 'factor in the law of big numbers,' he said.\n"
     ]
    }
   ],
   "source": [
    "slist = summarize (Text, 3)\n",
    "for s in slist:\n",
    "    print(s)"
   ]
  },
  {
   "cell_type": "markdown",
   "metadata": {},
   "source": [
    "## 2. Text Rank 직접 구현하기 (Matrix 활용)"
   ]
  },
  {
   "cell_type": "code",
   "execution_count": 16,
   "metadata": {},
   "outputs": [
    {
     "name": "stderr",
     "output_type": "stream",
     "text": [
      "[nltk_data] Downloading package punkt to\n",
      "[nltk_data]     C:\\Users\\User\\AppData\\Roaming\\nltk_data...\n",
      "[nltk_data]   Package punkt is already up-to-date!\n"
     ]
    }
   ],
   "source": [
    "import nltk\n",
    "nltk.download('punkt')\n",
    "\n",
    "from nltk.tokenize import sent_tokenize\n",
    "import numpy as np\n",
    "import re\n",
    "from operator import itemgetter"
   ]
  },
  {
   "cell_type": "code",
   "execution_count": 17,
   "metadata": {},
   "outputs": [
    {
     "data": {
      "text/plain": [
       "0.7071067811865475"
      ]
     },
     "execution_count": 17,
     "metadata": {},
     "output_type": "execute_result"
    }
   ],
   "source": [
    "# 코사인 유사도 (1. 단어의 표현 예제 참고)\n",
    "def cosine_similarity(x, y):\n",
    "    # x와 y, 두 벡터의 코사인 유사도를 계산하는 함수\n",
    "    nominator = np.dot(x,y) # 분자\n",
    "    donominator = np.linalg.norm(x)*np.linalg.norm(y) # 분모\n",
    "    return nominator / donominator\n",
    "\n",
    "cosine_similarity([0,0,1,0],[0,0,1,1])"
   ]
  },
  {
   "cell_type": "code",
   "execution_count": 18,
   "metadata": {},
   "outputs": [
    {
     "data": {
      "text/plain": [
       "0.6666666666666667"
      ]
     },
     "execution_count": 18,
     "metadata": {},
     "output_type": "execute_result"
    }
   ],
   "source": [
    "# 문장간 유사도 측정 (BOW를 활용한 코사인 유사도 측정)\n",
    "def sentence_similarity(sentence1, sentence2):\n",
    "    # 각 문장을 소문자로 변환\n",
    "    sentence1 = [word.lower() for word in sentence1.split()]\n",
    "    sentence2 = [word.lower() for word in sentence2.split()]\n",
    "    \n",
    "    # BOW 생성을 위한 unique한 단어로 배열 생성\n",
    "    words_ls = list(set(sentence1 + sentence2))\n",
    "    \n",
    "    bow1 = [0] * len(words_ls)\n",
    "    bow2 = [0] * len(words_ls)\n",
    "    \n",
    "    # 첫번째 문장 BoW 생성\n",
    "    for word in sentence1:\n",
    "        bow1[words_ls.index(word)] += 1\n",
    "        \n",
    "    # 두번째 문장 BoW 생성\n",
    "    for word in sentence2:\n",
    "        bow2[words_ls.index(word)] += 1\n",
    "        \n",
    "    return cosine_similarity(bow1, bow2)\n",
    "\n",
    "sentence_similarity(\"나는 치킨을 좋아해\",'나는 치킨을 싫어해')"
   ]
  },
  {
   "cell_type": "code",
   "execution_count": 33,
   "metadata": {},
   "outputs": [
    {
     "name": "stdout",
     "output_type": "stream",
     "text": [
      "[[0.         0.0112262  0.05309461 0.08495137 0.10800254 0.04884599\n",
      "  0.         0.0267237  0.0267237  0.05454953 0.0748202  0.05921028\n",
      "  0.04628681 0.0115717  0.05554416 0.         0.0119512  0.013956\n",
      "  0.04156678 0.05476728 0.05929456 0.06016671 0.02474134 0.07200538]\n",
      " [0.01794262 0.         0.04197839 0.         0.07624147 0.09654821\n",
      "  0.04091547 0.02641082 0.02641082 0.04312869 0.06572819 0.07802273\n",
      "  0.03049659 0.02287244 0.05489386 0.         0.09449022 0.\n",
      "  0.03286409 0.06185837 0.08790053 0.05096767 0.02445167 0.02587721]\n",
      " [0.07593698 0.03756431 0.         0.03553229 0.06453402 0.1050718\n",
      "  0.         0.04471048 0.04471048 0.05475893 0.04172635 0.04953131\n",
      "  0.05162721 0.03872041 0.03097633 0.         0.         0.04669857\n",
      "  0.02781756 0.09162921 0.04960183 0.0431412  0.         0.06571072]]\n"
     ]
    }
   ],
   "source": [
    "def buildMatrix(sentences):\n",
    "    # 문장별로 그래프 edge를 Matrix 형태로 생성\n",
    "    weighted_edge = np.zeros((len(sentences), len(sentences)), dtype=np.float32)\n",
    "    \n",
    "#     print(len(weighted_edge)) -> 24\n",
    "#     print(len(sentences)) -> 24\n",
    "    \n",
    "    for i in range(len(sentences)):\n",
    "        for j in range(len(sentences)):\n",
    "            if i == j:\n",
    "                continue\n",
    "            weighted_edge[i][j] = sentence_similarity(sentences[i], sentences[j])\n",
    "#             print('[' + str(i) + ',' + str(j)+'] = ' + str(weighted_edge[i][j]))\n",
    "\n",
    "    # normalize\n",
    "    for i in range(len(weighted_edge)):\n",
    "        weighted_edge[i] /= weighted_edge[i].sum()\n",
    "        \n",
    "    return weighted_edge\n",
    "\n",
    "S = buildMatrix(sent_tokenize(Text))\n",
    "print(S[:3])\n"
   ]
  },
  {
   "cell_type": "code",
   "execution_count": 21,
   "metadata": {},
   "outputs": [],
   "source": [
    "def scoring(A, eps=0.0001, d=0.85, max_iter=50):\n",
    "    P = np.ones(len(A)) / len(A)\n",
    "    for iter in range(0, max_iter):\n",
    "        newP = (1-d) + d * A.T.dot(P)\n",
    "        # print(newP)\n",
    "        \n",
    "        if abs((newP - P).sum()) <= eps:\n",
    "            return newP\n",
    "        P = newP\n",
    "    return newP"
   ]
  },
  {
   "cell_type": "code",
   "execution_count": 27,
   "metadata": {},
   "outputs": [],
   "source": [
    "def summarize(text, linesinSummary=10):\n",
    "    text = sent_tokenize(text)\n",
    "    weighted_edge = buildMatrix(text)\n",
    "    score = scoring(weighted_edge)\n",
    "    # print(score)\n",
    "    \n",
    "    # -item[1] 은 오름차순 정렬\n",
    "    # item[1] 은 내림차순 정렬\n",
    "    rankedSentenceIndexes = [item[0] for item in sorted(enumerate(score), key=lambda item: -item[1])]\n",
    "    selectedSentences = sorted(rankedSentenceIndexes[:linesinSummary])\n",
    "    summary = itemgetter(*selectedSentences)(text)\n",
    "    \n",
    "    return summary"
   ]
  },
  {
   "cell_type": "code",
   "execution_count": 28,
   "metadata": {},
   "outputs": [
    {
     "data": {
      "text/plain": [
       "(\"The FAANG’s are pricey stocks, he said, pointing out that investors will 'factor in the law of big numbers,' he said.\",\n",
       " \"He pointed out that 'eighty to ninety percent of their businesses are still search,' and that 'AI doesn’t really move the needle on the business.'\",\n",
       " 'And while he’s not bullish on FAANG’s, he does say that the one FAANG to still watch out for is Amazon, simply because ecommerce still represents a small portion of the global retail market, giving the company room to grow.')"
      ]
     },
     "execution_count": 28,
     "metadata": {},
     "output_type": "execute_result"
    }
   ],
   "source": [
    "summarize(Text, 3)"
   ]
  },
  {
   "cell_type": "code",
   "execution_count": 34,
   "metadata": {},
   "outputs": [
    {
     "name": "stderr",
     "output_type": "stream",
     "text": [
      "C:\\ProgramData\\Anaconda3\\lib\\site-packages\\ipykernel_launcher.py:17: RuntimeWarning: invalid value encountered in true_divide\n"
     ]
    },
    {
     "data": {
      "text/plain": [
       "('29일 오전 주요 포털 사이트의 실시간 검색어에 ‘마라’가 올라 화제다.',\n",
       " '최근 많은 직장인들이 마라탕과 마라샹궈 등 마라 소스를 이용한 음식을 즐기는 등 마라의 인기가 사그라지지 않고 있다.',\n",
       " '날씨가 더워지고 중복, 말복을 지나면서 얼큰하고 매콤한 음식에 대한 욕구는 커지는 중인데, TV 소재로도 인기다.')"
      ]
     },
     "execution_count": 34,
     "metadata": {},
     "output_type": "execute_result"
    }
   ],
   "source": [
    "kortext = \"29일 오전 주요 포털 사이트의 실시간 검색어에 ‘마라’가 올라 화제다. 최근 많은 직장인들이 마라탕과 마라샹궈 등 마라 소스를 이용한 음식을 즐기는 등 마라의 인기가 사그라지지 않고 있다. 날씨가 더워지고 중복, 말복을 지나면서 얼큰하고 매콤한 음식에 대한 욕구는 커지는 중인데, TV 소재로도 인기다. 지난 4일 방송된 TV조선 예능 프로그램 ‘연예의 맛 시즌2’에서는 공개 열애를 인정한 배우 오창석(맨 위 사진 왼쪽), 이채은(〃 〃 〃 오른쪽) 커플이 모든 연인이 한번은 거쳐 간다는 ‘마라탕 데이트’를 해 화제를 모았다. 당시 두 사람은 마라 음식 전문집을 찾아 재료를 직접 골라 한끼를 즐겼다. ◆마라가 뭐기에...대한민국이 ‘들썩’ 마라는 중국 쓰촨 지역의 매운 맛을 내는 향신료다. ‘마비되다’라는 뜻의 ‘마’(麻)와 ‘맵다’의 ‘라’(辣)가 합쳐져 말 그대로 혀가 마비될 정도로 맵고 얼얼한 매운 맛을 자랑한다. 마라는 고추와 육두구, 화자오, 후추, 정향, 팔각 등의 향신료를 더해 습하고 더운 쓰촨 지역의 음식이 상하는 것을 막기 위해 만들기 시작한 것으로 전해진다. 한국의 매운 맛과는 다른 차별점이 우리 입맛을 사로잡은 것으로 보인다. 주로 고추에 들어있던 매운 맛은 캡사이신 성분으로, 칼칼하고 얼큰한 맛이 주다. 마라의 주 원료는 산초의 영향으로 알싸하고 얼얼한 매운 맛을 낸다. 그래서 기존에 느껴왔던 캡사이신의 매운 통증과 색다른 느낌에 한국인이 매료됐을 것으로 보인다. ◆위생 논란도….지방자치단체 행정처분 철저히 할 계획 근래 ’마라 열풍’에 마라 전문 음식점들이 우후죽순 생겨났고, 이에 따른 위생 문제도 심각해졌다. 지난 25일 마라탕 전문점들의 위생 문제가 불거지면서 ‘제2의 대만 카스텔라 사태’로 번지는 것이 아니냐는 우려도 커지고 있다. 식품의약품안전처는 지난 22일 마라탕과 ‘마라샹궈 등을 판매하는 음식점과 원료 공급업체 63곳의 위생을 점검한 결과 37곳(58.7%)이 식품위생법 위반으로 적발됐다고 밝혔다.  식약처 관계자는 “이번에 적발된 업체는 관할 지방자치단체가 행정처분 등의 조치를 하고, 3개월 이내 다시 점검하여 개선 여부를 확인할 계획”이라고 밝혔다. 왼쪽 상단부터 시계 방향으로 마라 불닭 떡볶이, 마라 샹궈, 마라탕, 마라 감바스. 프레시지 제공 ◆“내가 만들어 먹는다”…밀키트·HMR 마라 인기   마라 전문점들의 위생 문제가 불거지면서 밀키트 형태의 제품을 구매하거나 인터넷에서 조리법을 보고 직접 만들어 먹는 소비자들이 늘어나고 있다고 한다. 밀키트는 요리에 필요한 손질된 식재료와 딱 맞는 양의 양념, 조리법을 세트로 구성해 제공하는 제품을 가리킨다. 이른바 ‘먹스타그램’(음식 사진을 올리는 인스타그램)을 즐긴다는 대학생 김지유(24)씨는 사회관계망서비스(SNS)에 “마라탕 위생 문제 너무 슬프다”며 “먹는 것으로 장난치지 말았으면 좋겠다”고 적었다. 그러면서 “하지만 안 먹을 수도 없고 자꾸 먹고 싶어서 결국 HACCP(해썹·식품안전관리인증기준) 인증 받은 업체의 밀키트를 시켜서 집에서 직접 요리해서 먹는다”며 인증 사진을 올렸다. 실제로 올 1~5월 위메프에서 마라탕 재료의 매출은 전년 동기 대비 96배 이상 급증했고, 마라를 넣고 볶은 마라샹궈 재료도 41배 넘게 판매가 늘어난 것으로 집계됐다. 밀키트 전문업체 프레시지는 이러한 소비자의 욕구를 충족시키기 위해 마라탕과 마라샹궈에 이어 감바스(새우)와 순대 볶음, 불닭 떡볶이 등 다양한 마라 소스 요리를 선보이고 있다. 최승우 프레시지 판매전략부문 상무는 “최근 문제가 되는 마라 위생 관련 문제에 대해 소비자들에게 믿음을 드리고, 한국식품안전관리인증원의 해썹 인증을 받아 건강하고 깨끗한 식재료를 제공하고 있다”고 밝혔다. 최서영 온라인뉴스 기자 ace3@segye.com [ⓒ 세계일보 & Segye.com, 무단전재 및 재배포 금지]\"\n",
    "\n",
    "summarize(kortext,3)"
   ]
  },
  {
   "cell_type": "markdown",
   "metadata": {},
   "source": [
    "## 2.2 TextRank 직접 구현하기 (Graph 활용)"
   ]
  },
  {
   "cell_type": "code",
   "execution_count": 43,
   "metadata": {},
   "outputs": [
    {
     "name": "stderr",
     "output_type": "stream",
     "text": [
      "[nltk_data] Downloading package punkt to\n",
      "[nltk_data]     C:\\Users\\User\\AppData\\Roaming\\nltk_data...\n",
      "[nltk_data]   Package punkt is already up-to-date!\n"
     ]
    }
   ],
   "source": [
    "import nltk\n",
    "nltk.download('punkt')\n",
    "from nltk.tokenize import sent_tokenize\n",
    "import networkx as nx\n",
    "import math\n",
    "import matplotlib.pyplot as plt"
   ]
  },
  {
   "cell_type": "code",
   "execution_count": 44,
   "metadata": {},
   "outputs": [],
   "source": [
    "def sentences(text):\n",
    "    return sent_tokenize(text)\n",
    "\n",
    "def connect(nodes):\n",
    "    return [(start, end, sentence_similarity(start, end)) for start in nodes for end in nodes if start is not end]"
   ]
  },
  {
   "cell_type": "code",
   "execution_count": 45,
   "metadata": {},
   "outputs": [],
   "source": [
    "def rank(nodes,edges):\n",
    "    graph=nx.diamond_graph()\n",
    "    graph.add_nodes_from(nodes)\n",
    "    graph.add_weighted_edges_from(edges)\n",
    "    \n",
    "    nx.draw(graph)\n",
    "    plt.show()\n",
    "    \n",
    "    return nx.pagerank(graph)"
   ]
  },
  {
   "cell_type": "code",
   "execution_count": 48,
   "metadata": {},
   "outputs": [],
   "source": [
    "def summarize(text,num_summaries=6):\n",
    "    nodes=sentences(text)\n",
    "    edges=connect(nodes)\n",
    "    scores=rank(nodes,edges)\n",
    "    #print(nodes)\n",
    "    return sorted(scores,key=scores.get)[:num_summaries]"
   ]
  },
  {
   "cell_type": "code",
   "execution_count": 51,
   "metadata": {},
   "outputs": [
    {
     "data": {
      "image/png": "[encoded data removed]",
      "text/plain": [
       "<Figure size 432x288 with 1 Axes>"
      ]
     },
     "metadata": {},
     "output_type": "display_data"
    },
    {
     "name": "stdout",
     "output_type": "stream",
     "text": [
      "'With an increasingly favorable macro backdrop, you have strong growth demand.'\n",
      "'Just because they’re big cap doesn’t mean they’re safe,' he added.\n",
      "Investors are wondering what’s next.\n"
     ]
    }
   ],
   "source": [
    "summary = summarize(Text, 3)\n",
    "\n",
    "for sent in summary:\n",
    "    print(sent)"
   ]
  },
  {
   "cell_type": "markdown",
   "metadata": {},
   "source": [
    "# 2.3 gensim 을 활용한 요약"
   ]
  },
  {
   "cell_type": "code",
   "execution_count": 52,
   "metadata": {},
   "outputs": [
    {
     "name": "stdout",
     "output_type": "stream",
     "text": [
      "The FAANG stocks won’t see much more growth in the near future, according to Bill Studebaker, founder and Chief Investment Officer of Robo Global.\n",
      "Studebaker argues we are seeing a 'reallocation' that will continue from large-cap tech stocks into market-weight stocks.\n",
      "The stock market is seeing a 'reallocation' out of FAANG stocks, which are not where the smart money is, founder and Chief Investment Officer of Robo Global Bill Studebaker told Business Insider.\n"
     ]
    }
   ],
   "source": [
    "from gensim.summarization.summarizer import summarize\n",
    "print(summarize(Text))"
   ]
  },
  {
   "cell_type": "code",
   "execution_count": null,
   "metadata": {},
   "outputs": [],
   "source": []
  }
 ],
 "metadata": {
  "kernelspec": {
   "display_name": "Python 3",
   "language": "python",
   "name": "python3"
  },
  "language_info": {
   "codemirror_mode": {
    "name": "ipython",
    "version": 3
   },
   "file_extension": ".py",
   "mimetype": "text/x-python",
   "name": "python",
   "nbconvert_exporter": "python",
   "pygments_lexer": "ipython3",
   "version": "3.7.3"
  }
 },
 "nbformat": 4,
 "nbformat_minor": 2
}
