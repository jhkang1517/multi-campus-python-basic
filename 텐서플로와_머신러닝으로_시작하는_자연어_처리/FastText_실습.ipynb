{
 "cells": [
  {
   "cell_type": "code",
   "execution_count": 5,
   "metadata": {},
   "outputs": [],
   "source": [
    "from gensim.models.word2vec import Text8Corpus\n",
    "from gensim.models import FastText\n",
    "\n",
    "\n",
    "\n",
    "ft_model = FastText(Text8Corpus('1_text8'), size=100, window=5, min_count=150, workers=4, min_n=3, max_n=10)"
   ]
  },
  {
   "cell_type": "code",
   "execution_count": 6,
   "metadata": {},
   "outputs": [
    {
     "name": "stdout",
     "output_type": "stream",
     "text": [
      "[('vienna', 0.716465950012207), ('florence', 0.7164124250411987), ('venice', 0.7077140808105469), ('leipzig', 0.6976897716522217), ('brussels', 0.6783450245857239), ('barcelona', 0.6620189547538757), ('france', 0.6553819179534912), ('amsterdam', 0.6506410837173462), ('francesco', 0.6466184854507446), ('petersburg', 0.6164445877075195)]\n",
      "[('queen', 0.7295589447021484), ('emperor', 0.7003640532493591), ('prince', 0.6867926120758057)]\n",
      "[('mother', 0.7895171046257019), ('grandfather', 0.7494730353355408), ('wife', 0.7301709055900574)]\n",
      "[('vienna', 0.6671050786972046), ('florence', 0.6438212990760803), ('venice', 0.6370500326156616)]\n"
     ]
    },
    {
     "name": "stderr",
     "output_type": "stream",
     "text": [
      "C:\\ProgramData\\Anaconda3\\lib\\site-packages\\ipykernel_launcher.py:15: DeprecationWarning: Call to deprecated `most_similar` (Method will be removed in 4.0.0, use self.wv.most_similar() instead).\n",
      "  from ipykernel import kernelapp as app\n",
      "C:\\ProgramData\\Anaconda3\\lib\\site-packages\\ipykernel_launcher.py:19: DeprecationWarning: Call to deprecated `most_similar` (Method will be removed in 4.0.0, use self.wv.most_similar() instead).\n",
      "C:\\ProgramData\\Anaconda3\\lib\\site-packages\\ipykernel_launcher.py:23: DeprecationWarning: Call to deprecated `most_similar` (Method will be removed in 4.0.0, use self.wv.most_similar() instead).\n"
     ]
    }
   ],
   "source": [
    "# Getting most similar vectors\n",
    "print(ft_model.wv.most_similar('paris'))\n",
    "\n",
    "# [('vienna', 0.7305958271026611),\n",
    "# ('venice', 0.7068097591400146),\n",
    "# ('florence', 0.6955196261405945),\n",
    "# ('brussels', 0.682724118232727),\n",
    "# ('leipzig', 0.6486526131629944),\n",
    "# ('francesco', 0.6461360454559326),\n",
    "# ('amsterdam', 0.6385960578918457),\n",
    "# ('france', 0.6323560476303101),\n",
    "# ('cemetery', 0.6285153031349182),\n",
    "# ('hamburg', 0.6284394264221191)]\n",
    "# \"King\" - \"Man\" + \"Woman\"==\"Queen\"\n",
    "print(ft_model.most_similar(['woman', 'king'], ['man'], topn=3))\n",
    "# [('emperor', 0.68890380859375), ('queen', 0.6823415160179138), ('princess', 0.6764928102493286)]\n",
    "\n",
    "# \"Father\" - \"Boy\" + \"Girl\" == \"Mother\"\n",
    "print(ft_model.most_similar(['girl','father'], ['boy'], topn=3))\n",
    "\n",
    "# [('mother', 0.7996115684509277), ('grandfather', 0.7629683613777161), ('wife', 0.7478234767913818)]\n",
    "# \"Paris\" - \"France\" + \"Italy\" = \"Rome\"\n",
    "print(ft_model.most_similar(['paris','italy'], ['france'], topn=3))\n",
    "# [('vienna', 0.6932680606842041), ('venice', 0.652579128742218), ('moscow', 0.6098273992538452)]"
   ]
  },
  {
   "cell_type": "code",
   "execution_count": 7,
   "metadata": {},
   "outputs": [
    {
     "name": "stdout",
     "output_type": "stream",
     "text": [
      "[-3.21242869e-01  4.17652249e-01 -1.03059240e-01 -1.27502069e-01\n",
      "  7.55811036e-02 -3.64123404e-01 -1.44538358e-01  1.96910113e-01\n",
      "  3.12060833e-01 -1.81447089e-01 -1.71986565e-01 -3.59544368e-03\n",
      " -1.67563602e-01 -1.21964492e-01 -2.93774098e-01  1.08004786e-01\n",
      "  1.06838107e-01  7.63239861e-02 -1.60035849e-01  2.40610525e-01\n",
      " -1.74920842e-01 -1.96486130e-01 -9.92277041e-02  7.09125102e-02\n",
      " -3.63356322e-01  4.70901094e-02  5.50331664e-04 -2.78582305e-01\n",
      "  2.62939781e-01  1.17264934e-01 -3.23457062e-01  1.86358064e-01\n",
      "  4.26004790e-02 -1.09260485e-01  2.53749758e-01  6.35369197e-02\n",
      " -5.06329499e-02 -1.05689488e-01 -2.61600986e-02 -2.64676273e-01\n",
      "  1.24908444e-02 -2.31703043e-01 -1.47427544e-01 -4.82110471e-01\n",
      " -2.14835852e-01 -4.83273976e-02  1.80918515e-01 -5.92153519e-02\n",
      "  2.98780829e-01 -1.26109689e-01 -2.23196119e-01 -9.13108699e-03\n",
      "  1.00763232e-01  1.55802593e-01  1.30613878e-01  4.45748895e-01\n",
      "  2.87528604e-01  1.86967388e-01 -1.56803411e-02 -6.71800897e-02\n",
      "  7.79459625e-02 -1.88480675e-01 -1.77377999e-01 -9.64653417e-02\n",
      "  7.38307387e-02  3.42004597e-01 -3.41287740e-02 -2.46890217e-01\n",
      " -2.46136993e-01  1.77771240e-01  2.27515977e-02  9.23087895e-02\n",
      " -3.39592665e-01 -2.17793614e-01 -1.24046160e-02 -4.40214835e-02\n",
      "  3.48236263e-01  9.70794633e-02 -5.47040343e-01  2.67805189e-01\n",
      " -7.14300796e-02  3.68835360e-01 -1.83197588e-01  5.77850752e-02\n",
      " -1.56615719e-01 -7.18384609e-02 -1.72108710e-01  2.44527817e-01\n",
      "  5.13201244e-02  9.12687033e-02 -2.86827475e-04  5.59442103e-01\n",
      " -4.06035334e-01 -1.83900312e-01  2.84044087e-01  1.35814473e-01\n",
      "  1.04236759e-01  4.42429066e-01 -1.04252025e-01  2.87824363e-01]\n",
      "[('nuremberg', 0.6104106307029724), ('venice', 0.519502580165863), ('luxembourg', 0.5068299770355225)]\n",
      "[('whatever', 0.5543349981307983), ('what', 0.5345693826675415), ('whether', 0.46547332406044006)]\n"
     ]
    },
    {
     "name": "stderr",
     "output_type": "stream",
     "text": [
      "C:\\ProgramData\\Anaconda3\\lib\\site-packages\\ipykernel_launcher.py:6: DeprecationWarning: Call to deprecated `most_similar` (Method will be removed in 4.0.0, use self.wv.most_similar() instead).\n",
      "  \n",
      "C:\\ProgramData\\Anaconda3\\lib\\site-packages\\ipykernel_launcher.py:10: DeprecationWarning: Call to deprecated `most_similar` (Method will be removed in 4.0.0, use self.wv.most_similar() instead).\n",
      "  # Remove the CWD from sys.path while we load stuff.\n"
     ]
    }
   ],
   "source": [
    "# Misspell somthing similar to Venice and we still get a vector ...\n",
    "print(ft_model.wv['veniciaaaaa'])\n",
    "# [-6.31419778e-01 9.52705503e-01 1.35608479e-01 4.74076539e-01\n",
    "\n",
    "# Let's see if indeed it understood we're trying to say Venice\n",
    "print(ft_model.most_similar('veniciaaaaa', topn=3))\n",
    "# [('venice', 0.7861752510070801), ('brussels', 0.771102786064148), ('francesco', 0.7474006414413452)]\n",
    "\n",
    "# What?\n",
    "print(ft_model.most_similar('whaaaa', topn=3))\n",
    "# [('what', 0.8659393787384033), ('whatever', 0.7308462858200073), ('why', 0.6594464778900146)]"
   ]
  },
  {
   "cell_type": "code",
   "execution_count": null,
   "metadata": {},
   "outputs": [],
   "source": []
  }
 ],
 "metadata": {
  "kernelspec": {
   "display_name": "Python 3",
   "language": "python",
   "name": "python3"
  },
  "language_info": {
   "codemirror_mode": {
    "name": "ipython",
    "version": 3
   },
   "file_extension": ".py",
   "mimetype": "text/x-python",
   "name": "python",
   "nbconvert_exporter": "python",
   "pygments_lexer": "ipython3",
   "version": "3.7.3"
  }
 },
 "nbformat": 4,
 "nbformat_minor": 2
}
