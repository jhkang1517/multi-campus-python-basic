{
 "cells": [
  {
   "cell_type": "code",
   "execution_count": null,
   "metadata": {},
   "outputs": [],
   "source": [
    "class LSA :\n",
    "    def __init__(self, doc_ls, topic_num):\n",
    "    pass\n",
    "    # tdm matrix 생성\n",
    "    def TDM(self, doc_ls):\n",
    "    pass\n",
    "    # tdm matrix 특이값 분해(SVD)\n",
    "    # U, s, Vt로 분해\n",
    "    def SVD(self, tdm):\n",
    "    pass\n",
    "    #\n",
    "    def TopicModeling(self) :\n",
    "    padd\n",
    "    # 단어 벡터 행렬 생성 dot(U,s)\n",
    "    def TermVectorMatrix(self, u, s):\n",
    "    pass\n",
    "    # 문서 벡터 행렬 생성 dot(s,Vt).T\n",
    "    def DocVectorMatrix(self, s, vt):\n",
    "    pass\n",
    "    # 키워드를 입력했을 때 단어 벡터 반환\n",
    "    def GetTermVector(self, term):\n",
    "    pass\n",
    "    # 문서를 입력했을 때 문서 벡터 반환\n",
    "    def GetDocVector(self, doc):\n",
    "    pass\n",
    "    # 단어-문서 벡터 행렬 생성\n",
    "    def TermDocVectorMatrix(self, u, s, vt):\n",
    "    pass\n",
    "    # 단어 벡터 행렬에서 단어 간 코사인 유사도 측정하여 행렬형태로 반환\n",
    "    def TermSimilarityMatrix(self, term_vec_matrix):\n",
    "    pass\n",
    "    # 두개 단어를 입력했을 때 코사인 유사도 반환\n",
    "    def GetTermSimilarity(self, term1, term2):\n",
    "    pass\n",
    "    # 문서 벡터 행렬에서 문서 간 코사인 유사도 측정하여 행렬형태로 반환\n",
    "    def DocSimilarityMartrix(self, doc_vec_matrix):\n",
    "    pass\n",
    "    # 두개 문서를 입력했을 때 코사인 유사도 반환\n",
    "    def GetDocSimilarity(self, doc1, doc2):\n",
    "    pass"
   ]
  },
  {
   "cell_type": "code",
   "execution_count": null,
   "metadata": {},
   "outputs": [],
   "source": [
    "doc_ls = ['바나나 사과 포도 포도',\n",
    "          '사과 포도',\n",
    "          '포도 바나나',\n",
    "          '짜장면 짬뽕 탕수욕',\n",
    "          '볶음밥 탕수욕',\n",
    "          '짜장면 짬뽕',\n",
    "          '라면 스시',\n",
    "          '스시',\n",
    "          '가츠동 스시 소바',\n",
    "          '된장찌개 김치찌개 김치',\n",
    "          '김치 된장',\n",
    "          '비빔밥 김치']\n",
    "\n",
    "lsa = LSA(doc_ls, 3)\n",
    "lsa.TopicModeling()\n",
    "lsa.GetTermSimilarity('사과','바나나')\n",
    "lsa.GetTermSimilarity('사과','짜장면')\n",
    "lsa.GetDocSimilarity('사과 포도', '포도 바나나')\n",
    "lsa.GetDocSimilarity('사과 포도', '라면 스시')\n",
    "lsa.GetTermDocSimilarity('사과', '포도 바나나')\n",
    "lsa.GetTermDocSimilarity('사과', '김치 된장')"
   ]
  }
 ],
 "metadata": {
  "kernelspec": {
   "display_name": "Python 3",
   "language": "python",
   "name": "python3"
  },
  "language_info": {
   "codemirror_mode": {
    "name": "ipython",
    "version": 3
   },
   "file_extension": ".py",
   "mimetype": "text/x-python",
   "name": "python",
   "nbconvert_exporter": "python",
   "pygments_lexer": "ipython3",
   "version": "3.7.3"
  }
 },
 "nbformat": 4,
 "nbformat_minor": 2
}
