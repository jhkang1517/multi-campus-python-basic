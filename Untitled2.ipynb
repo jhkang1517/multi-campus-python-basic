{
 "cells": [
  {
   "cell_type": "code",
   "execution_count": 1,
   "metadata": {},
   "outputs": [],
   "source": [
    "import numpy as np"
   ]
  },
  {
   "cell_type": "markdown",
   "metadata": {},
   "source": [
    "# array / arange "
   ]
  },
  {
   "cell_type": "code",
   "execution_count": 19,
   "metadata": {},
   "outputs": [
    {
     "name": "stdout",
     "output_type": "stream",
     "text": [
      "[0 1 2 3 4]\n",
      "[1 2 3 4]\n",
      "[1 3 5 7 9]\n"
     ]
    }
   ],
   "source": [
    "print(np.array(range(5)))\n",
    "print(np.array(range(1,5)))\n",
    "print(np.array(range(1,10,2)))\n",
    "# [0 1 2 3 4] 가 반환될 것으로 기대"
   ]
  },
  {
   "cell_type": "code",
   "execution_count": 23,
   "metadata": {},
   "outputs": [
    {
     "data": {
      "text/plain": [
       "array([1, 2, 3, 4, 5])"
      ]
     },
     "execution_count": 23,
     "metadata": {},
     "output_type": "execute_result"
    }
   ],
   "source": [
    "# 시퀀스형도 array형으로 만들 수 있다. \n",
    "a = [1, 2, 3, 4, 5]\n",
    "b = np.array(a)\n",
    "b"
   ]
  },
  {
   "cell_type": "code",
   "execution_count": 21,
   "metadata": {},
   "outputs": [
    {
     "name": "stdout",
     "output_type": "stream",
     "text": [
      "[0 1 2 3 4]\n",
      "[1 2 3 4]\n",
      "[1 3 5 7 9]\n"
     ]
    }
   ],
   "source": [
    "print(np.arange(5))\n",
    "print(np.arange(1,5))\n",
    "print(np.arange(1,10,2))"
   ]
  },
  {
   "cell_type": "markdown",
   "metadata": {},
   "source": [
    "# Linspace\n",
    "이상과 이하! "
   ]
  },
  {
   "cell_type": "code",
   "execution_count": 30,
   "metadata": {
    "scrolled": true
   },
   "outputs": [
    {
     "name": "stdout",
     "output_type": "stream",
     "text": [
      "[ 1.  2.  3.  4.  5.  6.  7.  8.  9. 10. 11. 12. 13. 14. 15. 16. 17. 18.\n",
      " 19. 20. 21. 22. 23. 24. 25. 26. 27. 28. 29. 30. 31. 32. 33. 34. 35. 36.\n",
      " 37. 38. 39. 40. 41. 42. 43. 44. 45. 46. 47. 48. 49. 50.]\n",
      "[ 1.          6.44444444 11.88888889 17.33333333 22.77777778 28.22222222\n",
      " 33.66666667 39.11111111 44.55555556 50.        ]\n"
     ]
    }
   ],
   "source": [
    "print(np.linspace(1,50)) # 1부터 50까지의 구간을 균등하게 잘라서 가져온다.\n",
    "print(np.linspace(1,50,10)) # 1부터 50까지의 구간을 9등분으로 잘라서 가져온다."
   ]
  },
  {
   "cell_type": "markdown",
   "metadata": {},
   "source": [
    "# Reshape / Shape / Shape(-1)"
   ]
  },
  {
   "cell_type": "code",
   "execution_count": 33,
   "metadata": {},
   "outputs": [
    {
     "data": {
      "text/plain": [
       "array([0, 1, 2, 3, 4, 5, 6, 7, 8, 9])"
      ]
     },
     "execution_count": 33,
     "metadata": {},
     "output_type": "execute_result"
    }
   ],
   "source": [
    "a = np.arange(10)\n",
    "a"
   ]
  },
  {
   "cell_type": "code",
   "execution_count": 39,
   "metadata": {},
   "outputs": [
    {
     "name": "stdout",
     "output_type": "stream",
     "text": [
      "[[0 1 2 3 4]\n",
      " [5 6 7 8 9]]\n",
      "[0 1 2 3 4 5 6 7 8 9]\n"
     ]
    }
   ],
   "source": [
    "print(a.reshape(2,5)) # reshape는 복사 후 변환의 개념. 원 값은 바뀌지 않는다.\n",
    "print(a)"
   ]
  },
  {
   "cell_type": "code",
   "execution_count": 46,
   "metadata": {},
   "outputs": [
    {
     "data": {
      "text/plain": [
       "array([[0, 1, 2, 3, 4],\n",
       "       [5, 6, 7, 8, 9]])"
      ]
     },
     "execution_count": 46,
     "metadata": {},
     "output_type": "execute_result"
    }
   ],
   "source": [
    "a.shape = (2,5) # shape는 = () 의 형태이며, 원 값 자체를 바꾼다. \n",
    "a"
   ]
  },
  {
   "cell_type": "code",
   "execution_count": 48,
   "metadata": {},
   "outputs": [
    {
     "data": {
      "text/plain": [
       "array([0, 1, 2, 3, 4, 5, 6, 7, 8, 9])"
      ]
     },
     "execution_count": 48,
     "metadata": {},
     "output_type": "execute_result"
    }
   ],
   "source": [
    "a.shape = (-1) # shape = (-1) 은 벡터형태로 변환한다. \n",
    "a"
   ]
  },
  {
   "cell_type": "markdown",
   "metadata": {},
   "source": [
    "# astype"
   ]
  },
  {
   "cell_type": "code",
   "execution_count": 49,
   "metadata": {},
   "outputs": [
    {
     "data": {
      "text/plain": [
       "dtype('int32')"
      ]
     },
     "execution_count": 49,
     "metadata": {},
     "output_type": "execute_result"
    }
   ],
   "source": [
    "a.dtype"
   ]
  },
  {
   "cell_type": "code",
   "execution_count": 50,
   "metadata": {},
   "outputs": [
    {
     "data": {
      "text/plain": [
       "array(['0', '1', '2', '3', '4', '5', '6', '7', '8', '9'], dtype='<U11')"
      ]
     },
     "execution_count": 50,
     "metadata": {},
     "output_type": "execute_result"
    }
   ],
   "source": [
    "a.astype(str) # string 형태로 요소들이 변화한다."
   ]
  },
  {
   "cell_type": "markdown",
   "metadata": {},
   "source": [
    "# np.random.rand()\n",
    "# np.random.randint()\n",
    "# np.random.randn()"
   ]
  },
  {
   "cell_type": "code",
   "execution_count": 55,
   "metadata": {},
   "outputs": [
    {
     "name": "stdout",
     "output_type": "stream",
     "text": [
      "[0.32768164 0.9562649  0.05521228 0.13364053 0.61850885]\n",
      "[[0.67179839 0.09479605 0.73863033 0.01773328]\n",
      " [0.87494242 0.55370065 0.70969539 0.75532808]\n",
      " [0.02614283 0.02355696 0.04456699 0.69473601]]\n",
      "[[[0.38866334 0.52446414 0.59402311 0.86349567 0.42393159]\n",
      "  [0.35120908 0.06677946 0.24434046 0.6130562  0.33341403]\n",
      "  [0.1740603  0.88533414 0.03191465 0.93877595 0.61437955]\n",
      "  [0.54886666 0.50466534 0.06152185 0.08893429 0.28093258]]\n",
      "\n",
      " [[0.44834393 0.79276198 0.04826041 0.41679532 0.31825001]\n",
      "  [0.28405352 0.14271595 0.67550681 0.59502379 0.36785156]\n",
      "  [0.1100104  0.83115712 0.93265634 0.93330021 0.91384508]\n",
      "  [0.49992476 0.72759975 0.63686623 0.18184083 0.42023474]]\n",
      "\n",
      " [[0.59240801 0.80134699 0.81273706 0.24887839 0.77893553]\n",
      "  [0.74557478 0.58202673 0.5577357  0.96888703 0.56877671]\n",
      "  [0.92977167 0.33522214 0.48844139 0.19946662 0.62208195]\n",
      "  [0.58146537 0.41817393 0.96102194 0.87840813 0.31289225]]]\n"
     ]
    }
   ],
   "source": [
    "print(np.random.rand(5)) # 길이가 5인 무작위 난수 생성\n",
    "print(np.random.rand(3, 4)) # 3행 4열의 무작위 난수가 포함된 행렬 생성\n",
    "print(np.random.rand(3, 4, 5)) # 4행 5열의 행렬 3개 생성"
   ]
  },
  {
   "cell_type": "code",
   "execution_count": 58,
   "metadata": {},
   "outputs": [
    {
     "name": "stdout",
     "output_type": "stream",
     "text": [
      "0\n",
      "2\n",
      "[2 4 3 2 1]\n"
     ]
    }
   ],
   "source": [
    "print(np.random.randint(1)) # ~이상 ~ 미만의 무작의 난수 생성\n",
    "print(np.random.randint(1,5)) # 1이상 5미만의 무작위 난수 생성\n",
    "print(np.random.randint(1,5,5)) # 1이상 5미만의 무작위 난수를 \"5개\" 생성"
   ]
  },
  {
   "cell_type": "code",
   "execution_count": 59,
   "metadata": {},
   "outputs": [
    {
     "name": "stdout",
     "output_type": "stream",
     "text": [
      "[ 1.83658161  1.01233748 -1.07674914 -0.25450693  0.95381145]\n",
      "[[ 0.53665867 -1.39617032 -0.6471951 ]\n",
      " [-0.47865201 -0.56882115  1.15849608]]\n",
      "[[[ 0.76346178 -0.8512266   0.55041827 -0.34709176]\n",
      "  [ 0.22192136  1.63273997 -1.07151146  0.39714013]\n",
      "  [-0.62171653  0.18795078 -0.97826617 -1.2482678 ]]\n",
      "\n",
      " [[ 3.02548067  0.98713732 -1.28984407  0.02669553]\n",
      "  [-1.44320839 -0.38775626 -1.15528223 -0.24207416]\n",
      "  [ 2.3699478   0.0451199   0.2060659   0.40203548]]]\n"
     ]
    }
   ],
   "source": [
    "# randn: 평균이 0, 표준편차가 1인 정규분포사이에 있는 무작의 난수 생성\n",
    "print(np.random.randn(5)) # 무작위 난수 5개 생성\n",
    "print(np.random.randn(2,3)) # 2행 3열\n",
    "print(np.random.randn(2,3,4)) # 3행 4열의 행렬을 2개 생성 "
   ]
  },
  {
   "cell_type": "markdown",
   "metadata": {},
   "source": [
    "# np.nan\n",
    "# np.zeros\n",
    "# np.ones"
   ]
  },
  {
   "cell_type": "code",
   "execution_count": 61,
   "metadata": {},
   "outputs": [
    {
     "data": {
      "text/plain": [
       "nan"
      ]
     },
     "execution_count": 61,
     "metadata": {},
     "output_type": "execute_result"
    }
   ],
   "source": [
    "np.nan # 값이 없다. Not A Number"
   ]
  },
  {
   "cell_type": "code",
   "execution_count": 66,
   "metadata": {},
   "outputs": [
    {
     "data": {
      "text/plain": [
       "inf"
      ]
     },
     "execution_count": 66,
     "metadata": {},
     "output_type": "execute_result"
    }
   ],
   "source": [
    "np.inf"
   ]
  },
  {
   "cell_type": "code",
   "execution_count": 68,
   "metadata": {},
   "outputs": [
    {
     "data": {
      "text/plain": [
       "array([0., 0., 0.])"
      ]
     },
     "execution_count": 68,
     "metadata": {},
     "output_type": "execute_result"
    }
   ],
   "source": [
    "np.zeros(3) # 0을 두개 생성\n",
    "# print(np.zeros(2,3)) # 작동 x \n",
    "# print(np.zeros(3,4,2)) # 작동 x"
   ]
  },
  {
   "cell_type": "code",
   "execution_count": 70,
   "metadata": {},
   "outputs": [
    {
     "data": {
      "text/plain": [
       "array([1., 1., 1.])"
      ]
     },
     "execution_count": 70,
     "metadata": {},
     "output_type": "execute_result"
    }
   ],
   "source": [
    "np.ones(3) # 1을 3개 생성"
   ]
  },
  {
   "cell_type": "code",
   "execution_count": 71,
   "metadata": {},
   "outputs": [
    {
     "data": {
      "text/plain": [
       "array([[1., 0., 0., 0., 0.],\n",
       "       [0., 1., 0., 0., 0.],\n",
       "       [0., 0., 1., 0., 0.],\n",
       "       [0., 0., 0., 1., 0.],\n",
       "       [0., 0., 0., 0., 1.]])"
      ]
     },
     "execution_count": 71,
     "metadata": {},
     "output_type": "execute_result"
    }
   ],
   "source": [
    "np.eye(5) # 5행 5열의 단위행렬 생성"
   ]
  },
  {
   "cell_type": "code",
   "execution_count": 72,
   "metadata": {},
   "outputs": [
    {
     "data": {
      "text/plain": [
       "array([[1., 0., 0., 0., 0.],\n",
       "       [0., 1., 0., 0., 0.],\n",
       "       [0., 0., 1., 0., 0.],\n",
       "       [0., 0., 0., 1., 0.],\n",
       "       [0., 0., 0., 0., 1.]])"
      ]
     },
     "execution_count": 72,
     "metadata": {},
     "output_type": "execute_result"
    }
   ],
   "source": [
    "np.identity(5) # 5행 5열의 단위행렬 생성"
   ]
  }
 ],
 "metadata": {
  "kernelspec": {
   "display_name": "Python 3",
   "language": "python",
   "name": "python3"
  },
  "language_info": {
   "codemirror_mode": {
    "name": "ipython",
    "version": 3
   },
   "file_extension": ".py",
   "mimetype": "text/x-python",
   "name": "python",
   "nbconvert_exporter": "python",
   "pygments_lexer": "ipython3",
   "version": "3.7.3"
  }
 },
 "nbformat": 4,
 "nbformat_minor": 2
}
