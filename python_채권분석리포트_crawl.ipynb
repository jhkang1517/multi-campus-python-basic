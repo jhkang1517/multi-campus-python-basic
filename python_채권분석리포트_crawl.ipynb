{
 "cells": [
  {
   "cell_type": "code",
   "execution_count": null,
   "metadata": {},
   "outputs": [],
   "source": [
    "# 날짜, 증권사, 제목을 가진 pdf파일 생성\n",
    "# 각 파일을 text로 변환"
   ]
  },
  {
   "cell_type": "code",
   "execution_count": 235,
   "metadata": {},
   "outputs": [],
   "source": [
    "import requests\n",
    "from bs4 import BeautifulSoup\n",
    "import os\n",
    "import urllib.request"
   ]
  },
  {
   "cell_type": "code",
   "execution_count": 203,
   "metadata": {},
   "outputs": [
    {
     "data": {
      "text/plain": [
       "'C:\\\\Users\\\\student\\\\Documents\\\\python_basic'"
      ]
     },
     "execution_count": 203,
     "metadata": {},
     "output_type": "execute_result"
    }
   ],
   "source": [
    "BASE_DIR = os.getcwd()\n",
    "# BASE_DIR"
   ]
  },
  {
   "cell_type": "code",
   "execution_count": 263,
   "metadata": {},
   "outputs": [],
   "source": [
    "REPORTS_DIR = os.path.join(BASE_DIR, 'naver_analyst_reports')\n",
    "# Ex. 폴더명: guitar_picture_Acoustic\n",
    "if not os.path.exists(REPORTS_DIR):\n",
    "    os.makedirs(REPORTS_DIR)"
   ]
  },
  {
   "cell_type": "code",
   "execution_count": 7,
   "metadata": {},
   "outputs": [],
   "source": [
    "url = 'https://finance.naver.com/research/debenture_list.nhn?&page={}'.format('1')\n",
    "response = requests.get(url)\n",
    "# response\n",
    "# response.url\n",
    "# response.content"
   ]
  },
  {
   "cell_type": "code",
   "execution_count": 39,
   "metadata": {},
   "outputs": [],
   "source": [
    "soup = BeautifulSoup(response.content, 'html.parser')\n",
    "# soup"
   ]
  },
  {
   "cell_type": "code",
   "execution_count": 52,
   "metadata": {},
   "outputs": [
    {
     "data": {
      "text/plain": [
       "48"
      ]
     },
     "execution_count": 52,
     "metadata": {},
     "output_type": "execute_result"
    }
   ],
   "source": [
    "reports = soup.find('table', class_='type_1').find_all('tr')[1:]\n",
    "reports\n",
    "len(reports)"
   ]
  },
  {
   "cell_type": "code",
   "execution_count": 269,
   "metadata": {
    "scrolled": true
   },
   "outputs": [
    {
     "name": "stdout",
     "output_type": "stream",
     "text": [
      "19.07.10, 하나금융투자, 사모사채, 호형호부를 허하노라\n",
      "https://ssl.pstatic.net/imgstock/upload/research/debenture/1562721613116.pdf\n",
      "19.07.09, 이베스트증권, BOJ, 現 통화완화정책은 지속된다\n",
      "https://ssl.pstatic.net/imgstock/upload/research/debenture/1562634658596.pdf\n",
      "19.07.02, 하나금융투자, G20 회담 앞두고 지속된 미 금리인하 기대\n",
      "https://ssl.pstatic.net/imgstock/upload/research/debenture/1562031250296.pdf\n",
      "19.07.01, 키움증권, 미-중 무역협상, 그 이후는\n",
      "https://ssl.pstatic.net/imgstock/upload/research/debenture/1561947286411.pdf\n",
      "19.06.27, 하나금융투자, 미-중 협상 시나리오에 따른 채권전망\n",
      "https://ssl.pstatic.net/imgstock/upload/research/debenture/1561598797505.pdf\n",
      "19.06.26, 교보증권, 활주로에서 신호 기다리는 비둘기\n",
      "https://ssl.pstatic.net/imgstock/upload/research/debenture/1561512845757.pdf\n",
      "19.06.26, 하나금융투자, 이자보상배율을 분해하면\n",
      "https://ssl.pstatic.net/imgstock/upload/research/debenture/1561512262087.pdf\n",
      "19.06.25, 미래에셋대우, 빠르게 다가온 금리인하\n",
      "https://ssl.pstatic.net/imgstock/upload/research/debenture/1561427062366.pdf\n",
      "19.06.24, 하나금융투자, 글로벌 인하싸이클 진입에 환호하는 선진국\n",
      "https://ssl.pstatic.net/imgstock/upload/research/debenture/1561339871050.pdf\n",
      "19.06.20, 미래에셋대우, 연준이 쏜 화살, 한국은행도 인하에 동참할 것\n",
      "https://ssl.pstatic.net/imgstock/upload/research/debenture/1560995572271.pdf\n",
      "19.06.20, 키움증권, 연내 미 연 준 금리 인하 1~2 회 예상\n",
      "https://ssl.pstatic.net/imgstock/upload/research/debenture/1560995082146.pdf\n",
      "19.06.19, 하나금융투자, 참을 수 없는 저금리의 가벼움\n",
      "https://ssl.pstatic.net/imgstock/upload/research/debenture/1560907855579.pdf\n",
      "19.06.17, 하나금융투자, 미 금리인하 이후 자금흐름의 방향은\n",
      "https://ssl.pstatic.net/imgstock/upload/research/debenture/1560735735621.pdf\n",
      "19.06.14, 미래에셋대우, 건설채, 너무 걱정하지 말아요\n",
      "https://ssl.pstatic.net/imgstock/upload/research/debenture/1560483770555.pdf\n",
      "19.06.13, 하나금융투자, 채권금리 급락의 배경과 전망\n",
      "https://ssl.pstatic.net/imgstock/upload/research/debenture/1560388869420.pdf\n",
      "19.06.10, 미래에셋대우, 높아진 정책 기대감 속 외국인 수급 개선 기대\n",
      "https://ssl.pstatic.net/imgstock/upload/research/debenture/1560136359125.pdf\n",
      "19.06.10, 미래에셋대우, 인도, 경기부양 위한 금리인하 \n",
      "https://ssl.pstatic.net/imgstock/upload/research/debenture/1560136199105.pdf\n",
      "19.06.07, 미래에셋대우, 국민은행의 압도적인 CD 순발행\n",
      "https://ssl.pstatic.net/imgstock/upload/research/debenture/1559874541830.pdf\n",
      "19.06.05, 하나금융투자, 기준금리가 인하된다면\n",
      "https://ssl.pstatic.net/imgstock/upload/research/debenture/1559698481022.pdf\n",
      "19.05.29, IBK투자증권, 인플레이션, 금리, 그리고 MMT\n",
      "https://ssl.pstatic.net/imgstock/upload/research/debenture/1559092249894.pdf\n",
      "19.05.24, 하나금융투자, 환율급등, 원화채권 시장은 안전한가\n",
      "https://ssl.pstatic.net/imgstock/upload/research/debenture/1558661092128.pdf\n",
      "19.05.15, 하나금융투자, 당분간 시장흐름을 좌우할 3대 변수\n",
      "https://ssl.pstatic.net/imgstock/upload/research/debenture/1557885377253.pdf\n",
      "19.05.15, 하나금융투자, 안전자산으로 도망 또 도망\n",
      "https://ssl.pstatic.net/imgstock/upload/research/debenture/1557885305651.pdf\n",
      "19.05.14, 하나금융투자, 미-중 협상 시나리오와 채권시장 전망\n",
      "https://ssl.pstatic.net/imgstock/upload/research/debenture/1557798989848.pdf\n",
      "19.05.09, 미래에셋대우, 미국채 장단기 역전이 또다시 눈앞에 다가왔으나…\n",
      "https://ssl.pstatic.net/imgstock/upload/research/debenture/1557366089266.pdf\n",
      "19.05.08, 하나금융투자, 신용스프레드, 추가축소 가능할까\n",
      "https://ssl.pstatic.net/imgstock/upload/research/debenture/1557278993213.pdf\n",
      "19.04.30, 미래에셋대우, 물가경로에 대한 우려 확대\n",
      "https://ssl.pstatic.net/imgstock/upload/research/debenture/1556594179101.pdf\n",
      "19.04.26, 미래에셋대우, 5월 신용스프레드는 강보합 전망\n",
      "https://ssl.pstatic.net/imgstock/upload/research/debenture/1556247096150.pdf\n",
      "19.04.26, 하나금융투자, 성장률 쇼크, 금리인하 전망 유지 \n",
      "https://ssl.pstatic.net/imgstock/upload/research/debenture/1556245207698.pdf\n",
      "19.04.22, 미래에셋대우, 인도네시아 대선 코멘트\n",
      "https://ssl.pstatic.net/imgstock/upload/research/debenture/1555903517353.pdf\n"
     ]
    }
   ],
   "source": [
    "# for문 준비 \n",
    "for td in reports:\n",
    "    filename = \"\"\n",
    "    \n",
    "    # date 코드\n",
    "    date = td.find('td', class_='date')\n",
    "    if date is not None:\n",
    "        date = date.text\n",
    "        # print(date)\n",
    "        filename += date\n",
    "        filename += ', '\n",
    "        # print(filename)\n",
    "        \n",
    "    # author 코드\n",
    "    author = td.find_all('td')\n",
    "    if len(author) == 5:\n",
    "        author = author[1].text\n",
    "#       print(len(author))\n",
    "#       print(author)\n",
    "        filename += author\n",
    "        filename += ', '\n",
    "        # print(filename)\n",
    "    \n",
    "    # title 코드 \n",
    "    title = td.find('td').find('a')\n",
    "    if title is not None:\n",
    "        title = title.text\n",
    "        filename += title\n",
    "        filename = filename.replace('?','')\n",
    "        # print(title)\n",
    "        print(filename)\n",
    "\n",
    "    # pdf 코드\n",
    "    pdf_href = td.find('td', class_='file')\n",
    "    if pdf_href is not None:\n",
    "        pdf_href = str(pdf_href.find('a')['href'])\n",
    "        # print(pdf_href)\n",
    "        # print(type(pdf_href))\n",
    "\n",
    "        pdf_url = pdf_href\n",
    "        print(pdf_url)\n",
    "        # URL of the image to be downloaded is defined as image_url \n",
    "        r = requests.get(pdf_url) # create HTTP response object \n",
    "\n",
    "        # send a HTTP request to the server and save \n",
    "        # the HTTP response in a response object called r \n",
    "        naver_reports_path = os.path.join(REPORTS_DIR, filename + '.pdf') \n",
    "        # with open(filename + '.pdf','wb') as f:\n",
    "        with open(naver_reports_path, 'wb') as f:\n",
    "            # write the contents of the response (r.content) \n",
    "            # to a new file in binary mode. \n",
    "            f.write(r.content)"
   ]
  },
  {
   "cell_type": "code",
   "execution_count": 271,
   "metadata": {},
   "outputs": [],
   "source": [
    "from PyPDF2 import PdfFileReader\n",
    "\n",
    "def getTextPDF(pdfFileName, password = ''):\n",
    "    pdf_file = open(pdfFileName, 'rb')\n",
    "    read_pdf = PdfFileReader(pdf_file)\n",
    "    \n",
    "    if password != '':\n",
    "        read_pdf.decrypt(password)\n",
    "        \n",
    "    text = []\n",
    "    for i in range(0, read_pdf.getNumPages()):\n",
    "        text.append(read_pdf.getPage(i).extractText())\n",
    "        \n",
    "    return '\\n'.join(text)"
   ]
  },
  {
   "cell_type": "code",
   "execution_count": null,
   "metadata": {},
   "outputs": [],
   "source": [
    "pdfFile = 'https://ssl.pstatic.net/imgstock/upload/research/debenture/1561512262087.pdf'\n",
    "getTextPDFpdfFile)"
   ]
  }
 ],
 "metadata": {
  "kernelspec": {
   "display_name": "Python 3",
   "language": "python",
   "name": "python3"
  },
  "language_info": {
   "codemirror_mode": {
    "name": "ipython",
    "version": 3
   },
   "file_extension": ".py",
   "mimetype": "text/x-python",
   "name": "python",
   "nbconvert_exporter": "python",
   "pygments_lexer": "ipython3",
   "version": "3.7.3"
  }
 },
 "nbformat": 4,
 "nbformat_minor": 2
}
