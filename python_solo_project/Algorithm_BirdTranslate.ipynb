{
 "cells": [
  {
   "cell_type": "code",
   "execution_count": 227,
   "metadata": {},
   "outputs": [],
   "source": [
    "# hieeelalaooo -> hello\n",
    "# hoooowe yyyooouuu duoooiiine -> how you doin\n",
    "\n",
    "vocab = \"aeiouy\"\n",
    "\n",
    "def translate(sentence):\n",
    "    blank = \"\"\n",
    "    triple = list()\n",
    "    double = list()\n",
    "    sentence = sentence\n",
    "    \n",
    "    for i in vocab:\n",
    "        triple.append(i*3)\n",
    "        \n",
    "    for i in vocab:\n",
    "        double.append(i*2)\n",
    "        \n",
    "    for i in triple:\n",
    "        if i in sentence:\n",
    "            sentence = sentence.replace(i, i[0])\n",
    "            \n",
    "#     for i in double:\n",
    "#         if i in double:\n",
    "#             sentence = sentence.replace(i, i[0])\n",
    "\n",
    "    for idx,val in enumerate(sentence):\n",
    "        \n",
    "        if val == \" \":\n",
    "            blank += val\n",
    "        \n",
    "        elif val not in vocab:\n",
    "            blank += val\n",
    "#             print(val)\n",
    "            if sentence[idx+1] in vocab:\n",
    "#                 print(sentence)\n",
    "                print(val, sentence[idx+1])\n",
    "                continue\n",
    "        \n",
    "        elif val in vocab:\n",
    "            if sentence[idx-1] in vocab:\n",
    "                blank += val\n",
    "                \n",
    "            if sentence[idx-1] == \" \":\n",
    "                blank += val\n",
    "                            \n",
    "    return blank"
   ]
  },
  {
   "cell_type": "code",
   "execution_count": 228,
   "metadata": {},
   "outputs": [
    {
     "name": "stdout",
     "output_type": "stream",
     "text": [
      "h i\n",
      "l a\n",
      "l a\n"
     ]
    },
    {
     "data": {
      "text/plain": [
       "'hello'"
      ]
     },
     "execution_count": 228,
     "metadata": {},
     "output_type": "execute_result"
    }
   ],
   "source": [
    "translate(\"hieeelalaooo\")"
   ]
  },
  {
   "cell_type": "code",
   "execution_count": 229,
   "metadata": {
    "scrolled": true
   },
   "outputs": [
    {
     "name": "stdout",
     "output_type": "stream",
     "text": [
      "h o\n",
      "w e\n",
      "d u\n",
      "n e\n"
     ]
    },
    {
     "data": {
      "text/plain": [
       "'how you doin'"
      ]
     },
     "execution_count": 229,
     "metadata": {},
     "output_type": "execute_result"
    }
   ],
   "source": [
    "translate(\"hoooowe yyyooouuu duoooiiine\")"
   ]
  },
  {
   "cell_type": "code",
   "execution_count": 230,
   "metadata": {},
   "outputs": [
    {
     "name": "stdout",
     "output_type": "stream",
     "text": [
      "s o\n",
      "s o\n"
     ]
    },
    {
     "data": {
      "text/plain": [
       "'sos aaa'"
      ]
     },
     "execution_count": 230,
     "metadata": {},
     "output_type": "execute_result"
    }
   ],
   "source": [
    "# sooooso aaaaaaaaa -> sos aaa\n",
    "translate(\"sooooso aaaaaaaaa\")"
   ]
  },
  {
   "cell_type": "code",
   "execution_count": null,
   "metadata": {},
   "outputs": [],
   "source": []
  },
  {
   "cell_type": "code",
   "execution_count": null,
   "metadata": {},
   "outputs": [],
   "source": []
  }
 ],
 "metadata": {
  "kernelspec": {
   "display_name": "Python 3",
   "language": "python",
   "name": "python3"
  },
  "language_info": {
   "codemirror_mode": {
    "name": "ipython",
    "version": 3
   },
   "file_extension": ".py",
   "mimetype": "text/x-python",
   "name": "python",
   "nbconvert_exporter": "python",
   "pygments_lexer": "ipython3",
   "version": "3.7.3"
  }
 },
 "nbformat": 4,
 "nbformat_minor": 2
}
