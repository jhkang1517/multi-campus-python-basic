{
 "cells": [
  {
   "cell_type": "markdown",
   "metadata": {},
   "source": [
    "우리는 초콜렛의 목표 킬로를 포장하고 싶습니다.  \n",
    "우리는 작은 막대 (각각 1kg)와 큰 막대 (각각 5kg)를 가지고 있습니다.  \n",
    "작은 막대 앞에 항상 큰 막대를 사용한다고 가정 할 때 사용할 작은 막대의 수를 반환합니다.  \n",
    "행할 수없는 경우는 -1을 리턴합니다.  \n",
    "  \n",
    "  \n",
    "make_chocolate (4, 1, 9) → 4  \n",
    "make_chocolate (4, 1, 10) → -1  \n",
    "make_chocolate (4, 1, 7) → 2  "
   ]
  },
  {
   "cell_type": "code",
   "execution_count": 6,
   "metadata": {},
   "outputs": [],
   "source": [
    "def make_chocolate(small, big, goal):\n",
    "    if big == 0:\n",
    "        if small >= goal:\n",
    "            return abs(goal - (big * 5))\n",
    "    \n",
    "    else:\n",
    "        if big * 5 + small >= goal:\n",
    "            if goal % 5 <= small:\n",
    "                # if goal \n",
    "                return abs(goal - (big * 5))\n",
    "\n",
    "    return -1\n",
    "        "
   ]
  }
 ],
 "metadata": {
  "kernelspec": {
   "display_name": "Python 3",
   "language": "python",
   "name": "python3"
  },
  "language_info": {
   "codemirror_mode": {
    "name": "ipython",
    "version": 3
   },
   "file_extension": ".py",
   "mimetype": "text/x-python",
   "name": "python",
   "nbconvert_exporter": "python",
   "pygments_lexer": "ipython3",
   "version": "3.7.3"
  }
 },
 "nbformat": 4,
 "nbformat_minor": 2
}
