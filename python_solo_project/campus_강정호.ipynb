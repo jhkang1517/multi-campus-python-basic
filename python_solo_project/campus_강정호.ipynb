{
 "cells": [
  {
   "cell_type": "markdown",
   "metadata": {},
   "source": [
    "# 실기평가 1"
   ]
  },
  {
   "cell_type": "code",
   "execution_count": 1,
   "metadata": {},
   "outputs": [],
   "source": [
    "import requests\n",
    "from bs4 import BeautifulSoup"
   ]
  },
  {
   "cell_type": "code",
   "execution_count": 2,
   "metadata": {},
   "outputs": [],
   "source": [
    "\n",
    "def profile_to_dict(name, age, phone):\n",
    "    new_dict = {}\n",
    "    new_dict.setdefault('name', name)\n",
    "    new_dict.setdefault('age', age)\n",
    "    new_dict.setdefault('phone', phone)\n",
    "#     new_dict['name']: name\n",
    "#     new_dict['age']: age\n",
    "#     new_dict['phone']: phonenumber\n",
    "    \n",
    "    return new_dict\n"
   ]
  },
  {
   "cell_type": "code",
   "execution_count": 3,
   "metadata": {},
   "outputs": [
    {
     "data": {
      "text/plain": [
       "{'name': '킹정호', 'age': 26, 'phone': 1083676114}"
      ]
     },
     "execution_count": 3,
     "metadata": {},
     "output_type": "execute_result"
    }
   ],
   "source": [
    "profile_to_dict('킹정호', 26, 1083676114)"
   ]
  },
  {
   "cell_type": "markdown",
   "metadata": {},
   "source": [
    "# 실기평가 2"
   ]
  },
  {
   "cell_type": "code",
   "execution_count": 4,
   "metadata": {},
   "outputs": [
    {
     "name": "stdout",
     "output_type": "stream",
     "text": [
      "[{'title': '리듬댄스 게임 ‘오디션’, 자전거·러닝머신 등 운동용품 응모 이벤트 진행', 'link': 'http://www.thisisgame.com/webzine/game/nboard/225/?n=95153'}, {'title': \"'오디션', 자전거·러닝머신 등 운동용품 응모 이벤트 진행\", 'link': 'http://www.fomos.kr/redirect/news_view?news_cate_id=2&entry_id=77149'}, {'title': '매스웩스코리아, MATLAB 활용한 인공지능 관련 세미나 개최', 'link': 'http://www.gvalley.co.kr/565779'}, {'title': \"네이버, 세계 최고 권위 머신러닝 컨퍼런스 'ICML 2019'서 주목\", 'link': 'http://www.segye.com/content/html/2019/06/14/20190614505286.html?OutUrl=naver'}, {'title': '\"AI가 회사의 미래를 주도한다\" SAS 올리버 샤벤버거', 'link': 'http://www.ciokorea.com/news/124430'}, {'title': '\"디지털 수술 플랫폼, 수술의 민주화 실현할 것\"', 'link': 'http://www.medicaltimes.com/Users/News/NewsView.html?mode=view&ID=1127105&REFERER=NP'}, {'title': \"네이버, 머신러닝 컨퍼런스 'ICML 2019'서 연구성과 발표\", 'link': 'http://biz.chosun.com/site/data/html_dir/2019/06/14/2019061401675.html'}, {'title': '[ROAD FC 054] 러닝머신만 뛰었다는 장익환, 여유에는 이유가 있었다', 'link': 'http://www.sportalkorea.com/news/view.php?gisa_uniq=2019061518523457&section_code=7111&cp=se&gomb=1'}, {'title': '출산 후 25kg 감량한 홍지민 핑거루트 뜨거운 감자?... 러닝머신스피드 5.5걷기 등 주목', 'link': 'http://www.g-enews.com/ko-kr/news/article/news_all/2019061607594095044e4869c120_1/article.html'}, {'title': '네이버, 미국 머신러닝 콘퍼런스서 논문 3편 발표', 'link': 'http://yna.kr/AKR20190614055000017?did=1195m'}, {'title': '[로드FC] \\'케이지 낙무아이\\' 장익환 \"내일 경기는 러닝머신 전략!\"', 'link': 'http://rank5.kr/archives/29226'}, {'title': 'ROAD FC ‘케이지 위의 낙무아이’ 장익환의 남다른 각오, “내일은 러닝머신 전략”', 'link': 'http://sports.news.naver.com/general/news/read.nhn?oid=434&aid=0000005160'}, {'title': \"조시큐리티, '조샌드박스 머신러닝' 출시\", 'link': 'http://www.cctvnews.co.kr/news/articleView.html?idxno=119700'}, {'title': 'AITRICS, 국제 머신러닝 학회 ‘ICML 2019’에서 7편의 논문 채택', 'link': 'http://www.hellot.net/new_hellot/magazine/magazine_read.html?code=202&sub=004&idx=46547'}, {'title': '네이버 인턴주도 AI연구, 세계적 학회서 인정 받았다', 'link': 'http://www.etnews.com/20190614000097'}, {'title': '시스코, \"AI·머신러닝으로 안전한 네트워크 구현\"', 'link': 'http://www.ddaily.co.kr/news/article.html?no=182329'}, {'title': 'AITRICS, 국제 머신러닝 학회서 빛났다', 'link': 'http://www.bosa.co.kr/news/articleView.html?idxno=2106798'}, {'title': '시스코, AI·머신러닝 통해 더욱 단순·안전·스마트한 NW 구현', 'link': 'http://www.itdaily.kr/news/articleView.html?idxno=95246'}, {'title': '암호화폐 악용한 돈세탁 어떻게 막아야 할까', 'link': 'http://www.zdnet.co.kr/ArticleView.asp?artice_id=20190613174616'}, {'title': '이커머스용 AI 솔루션을 핀란드서 개발하기까지, 포어싱크', 'link': 'http://www.bloter.net/archives/342848'}, {'title': '글로벌 칼럼 | AI는 사이버보안의 미래인가', 'link': 'http://www.itworld.co.kr/news/124326'}, {'title': '정상진을 대놓고 무시한 장익환, 런닝머신 뛰는 기분으로 가볍게 싸우겠다!', 'link': 'http://www.sportsseoul.com/news/read/776189'}, {'title': '소아 우울증을 진단하는 인공지능', 'link': 'https://ppss.kr/archives/195932'}, {'title': '[레드오션에서 살아남기 vs 블루오션 개척하기 ③] 자신만의 강점을 살려 블루오션에 도전, 자이냅스의 인공지능개발자들', 'link': 'http://www.jobnjoy.com/portal/joy/correspondent_view.jsp?nidx=347638&depth1=2&depth2=1&depth3=1'}, {'title': '인뱅, 대포통장-불법거래 대응 잰걸음..‘신기술 도입하고, 조직 만들고’', 'link': 'http://news.heraldcorp.com/view.php?ud=20190614000205'}, {'title': '삼성SDS, AI-머신러닝 기반 차세대 보안솔루션 확보', 'link': 'http://www.koreaittimes.com/news/articleView.html?idxno=91191'}, {'title': '삼성SDS, AI-머신러닝 기반 차세대 보안 솔루션 확보', 'link': 'http://www.seoulfn.com/news/articleView.html?idxno=345355'}, {'title': '삼성SDS, AI-머신러닝 기반 차세대 보안 솔루션 확보', 'link': 'http://www.boannews.com/media/view.asp?idx=80275&kind='}, {'title': '오라클, 자율운영 강화한 DB머신 엑사데이터 신모델 출시', 'link': 'http://www.zdnet.co.kr/ArticleView.asp?artice_id=20190613084152'}, {'title': 'SK하이닉스, 데이터 사이언스 전문가 김영한 영입', 'link': 'http://www.skyedaily.com/news/news_view.html?ID=85520'}, {'title': '삼성SDS, 美 머신러닝 기반 EDR 보안업체 ‘센티넬원’에 투자', 'link': 'https://byline.network/?p=35441'}, {'title': '한국연구재단 기초연구의 핵심키워드는?', 'link': 'http://www.akomnews.com/?p=418408'}, {'title': 'SK하이닉스, AI 전문가 김영한 교수 영입...데이터 경영 강화', 'link': 'http://www.fnnews.com/news/201906101106163555'}, {'title': \"조시큐리티, AI 엔진 기반 '조샌드박스 머신러닝' 출시\", 'link': 'http://www.itdaily.kr/news/articleView.html?idxno=95086'}, {'title': '자산운용업 파고든 AI…\"인간 대체재 아닌 보완재\"', 'link': 'http://www.edaily.co.kr/news/newspath.asp?newsid=03981926622521064'}, {'title': 'SAP, iOS용 SAP 클라우드 플랫폼 SDK에 머신러닝 기술 탑재', 'link': 'http://www.datanet.co.kr/news/articleView.html?idxno=133673'}, {'title': 'SK(주) C&C, 클라우드-빅데이터 기술전수 나섰다', 'link': 'http://www.dt.co.kr/contents.html?article_no=2019051502109931650001&ref=naver'}, {'title': \"신한금투, 리스크 관리에 '머신러닝' 기법 도입\", 'link': 'http://www.kbanker.co.kr/news/articleView.html?idxno=83392'}, {'title': '[사진] 충남대병원-수리과학硏, ‘CNUH+ 머신러닝’ 1기 수료식', 'link': 'http://www.newspim.com/news/view/20190604000715'}, {'title': '보험사에 녹아든 머신러닝…혁신·수익 잇는다', 'link': 'http://www.kbanker.co.kr/news/articleView.html?idxno=82715'}, {'title': '\"머신 러닝 기법 등 갖춘 공정 제어 인력 양성이 스마트공장 구현 핵심\"', 'link': 'http://www.asiatoday.co.kr/view.php?key=20190604010001956'}, {'title': '중국 AI 시장 지난해 2조 돌파...2023년 14조 전망', 'link': 'http://www.irobotnews.com/news/articleView.html?idxno=17415'}, {'title': '롯데정보통신-현대정보기술, AI/머신러닝 적용사례 선봬', 'link': 'http://www.itdaily.kr/news/articleView.html?idxno=95142'}, {'title': 'JT친애저축은행, 머신러닝 신용평가시스템 도입', 'link': 'http://news.einfomax.co.kr/news/articleView.html?idxno=4026736'}, {'title': \"데브시스터즈 '쿠키런:오븐브레이드' 머신러닝 이벤트 모드 공개\", 'link': 'http://gamefocus.co.kr/detail.php?number=93323'}, {'title': '“보안의 베이스는 암호... 올해 머신러닝 주로 다뤄”', 'link': 'http://www.boannews.com/media/view.asp?idx=80055&kind='}, {'title': 'AI도 자산운용 하지만 “아직은 인간이 할 일”', 'link': 'http://speconomy.com/news/newsview.php?ncode=1065601412812777'}, {'title': '[포토] 충남대병원·국가수리과학연구소, CNUH+ 머신러닝 제1기 수료식', 'link': 'http://www.enewstoday.co.kr/news/articleView.html?idxno=1308912'}, {'title': '신한금투, 머신러닝 활용 리스크관리 시작', 'link': 'http://www.finomy.com/news/articleView.html?idxno=66465'}, {'title': '콘센트릭스, 머신러닝 기반 통합마케팅 솔루션 `MARS`로 기업 업무 효율 높여', 'link': 'http://news.mk.co.kr/newsRead.php?year=2019&no=382249'}]\n",
      "50\n"
     ]
    }
   ],
   "source": [
    "BASE_URL = 'https://search.naver.com/search.naver'\n",
    "news_list = []\n",
    "\n",
    "# 코드작성\n",
    "for i in range(5):\n",
    "    params = {\n",
    "        'where': 'news',\n",
    "        'query': '머신러닝',\n",
    "        'start': (i*10)+1\n",
    "    }\n",
    "\n",
    "    resp = requests.get(BASE_URL, params=params)\n",
    "    # resp\n",
    "    # resp.url\n",
    "    # resp.content\n",
    "    soup = BeautifulSoup(resp.content)\n",
    "    # soup\n",
    "\n",
    "    news_tag = soup.find('ul', class_='type01').find_all('li')\n",
    "    # news_tag\n",
    "\n",
    "    for li in news_tag:\n",
    "        news_dict = {}\n",
    "        try:\n",
    "            a_tag = li.find('dl').find('dt').find('a')\n",
    "            title = a_tag['title']\n",
    "            link = a_tag['href']\n",
    "\n",
    "            news_dict['title'] = title\n",
    "            news_dict['link'] = link\n",
    "\n",
    "            news_list.append(news_dict)\n",
    "\n",
    "        except AttributeError :\n",
    "            pass\n",
    "\n",
    "print(news_list)\n",
    "print(len(news_list))"
   ]
  },
  {
   "cell_type": "code",
   "execution_count": null,
   "metadata": {},
   "outputs": [],
   "source": []
  },
  {
   "cell_type": "code",
   "execution_count": null,
   "metadata": {},
   "outputs": [],
   "source": []
  }
 ],
 "metadata": {
  "kernelspec": {
   "display_name": "Python 3",
   "language": "python",
   "name": "python3"
  },
  "language_info": {
   "codemirror_mode": {
    "name": "ipython",
    "version": 3
   },
   "file_extension": ".py",
   "mimetype": "text/x-python",
   "name": "python",
   "nbconvert_exporter": "python",
   "pygments_lexer": "ipython3",
   "version": "3.7.3"
  }
 },
 "nbformat": 4,
 "nbformat_minor": 2
}
