{
 "cells": [
  {
   "cell_type": "markdown",
   "metadata": {},
   "source": [
    "# 연습문제"
   ]
  },
  {
   "cell_type": "code",
   "execution_count": 69,
   "metadata": {},
   "outputs": [
    {
     "name": "stdout",
     "output_type": "stream",
     "text": [
      "0\n",
      "0\n",
      "0\n",
      "0\n"
     ]
    }
   ],
   "source": [
    "# 사용자로부터 값을 입력 받는다.\n",
    "# n = int(input(\"숫자를 입력하세요: \")\n",
    "a = 1\n",
    "\n",
    "\n",
    "# i 는 지정된 범위의 요소를 하나씩 참고합니다.\n",
    "for i in range(1, 5):\n",
    "    \n",
    "    # 만약에, j가 지정된 범위의 길이 보다 작다면, j를 출력합니다.\n",
    "    while j < a:\n",
    "        print(j)\n",
    "        \n",
    "        \n",
    "        # 그 다음, j와, j의 개수를 출력합니다.\n",
    "        \n",
    "        \n",
    "        # j \n",
    "       \n",
    "\n",
    "        \n",
    "        \n",
    "# 수열을 출력하시오\n",
    "\n"
   ]
  },
  {
   "cell_type": "code",
   "execution_count": 34,
   "metadata": {},
   "outputs": [
    {
     "name": "stdout",
     "output_type": "stream",
     "text": [
      "4\n"
     ]
    }
   ],
   "source": [
    "print(len(range(1,5)))\n",
    "\n",
    "    \n",
    "    \n",
    " #       print(j)\n",
    " #       print(j, j)\n",
    " #       print(j, j+j)\n",
    " #       print(j, j, j+j, j)\n",
    " #       print(j, j, j+j, j+j, j, j, j)\n",
    "    "
   ]
  },
  {
   "cell_type": "code",
   "execution_count": 4,
   "metadata": {},
   "outputs": [
    {
     "data": {
      "text/plain": [
       "range(1, 10)"
      ]
     },
     "execution_count": 4,
     "metadata": {},
     "output_type": "execute_result"
    }
   ],
   "source": [
    "range(1,10)"
   ]
  },
  {
   "cell_type": "code",
   "execution_count": 14,
   "metadata": {},
   "outputs": [
    {
     "name": "stdout",
     "output_type": "stream",
     "text": [
      "1 0\n",
      "1 0\n",
      "1 0\n",
      "1 0\n",
      "1 0\n",
      "1 0\n",
      "1 0\n",
      "1 0\n",
      "1 0\n",
      "1 0\n"
     ]
    }
   ],
   "source": [
    "num = '1'\n",
    "\n",
    "\n",
    "for i in range(10):\n",
    "    count = 0\n",
    "    while count < len(num):\n",
    "        print(num, count)\n",
    "        count += 1"
   ]
  },
  {
   "cell_type": "code",
   "execution_count": 18,
   "metadata": {
    "scrolled": true
   },
   "outputs": [
    {
     "name": "stdout",
     "output_type": "stream",
     "text": [
      "11\n",
      "12\n",
      "1121\n",
      "122111\n",
      "112213\n",
      "12221131\n",
      "1123123111\n",
      "12213111213113\n",
      "11221131132111311231\n",
      "12221231123121133112213111\n"
     ]
    }
   ],
   "source": [
    "# 해답을 봐도 이해가 안간다.\n",
    "num = \"1\"\n",
    "output = \"\"\n",
    "\n",
    "for i in range(10):\n",
    "    j = 0\n",
    "    while j < len(num):\n",
    "        curr = num[j]\n",
    "        count = 1\n",
    "        while j+1 < len(num) and curr == num[j+1]:\n",
    "            count += 1\n",
    "            j += 1\n",
    "        output += curr + str(count)\n",
    "        j += 1\n",
    "    print (output)\n",
    "    num = output\n",
    "    output = \"\"\n"
   ]
  },
  {
   "cell_type": "markdown",
   "metadata": {},
   "source": [
    "# 피보나치 수열"
   ]
  },
  {
   "cell_type": "code",
   "execution_count": 20,
   "metadata": {},
   "outputs": [
    {
     "name": "stdout",
     "output_type": "stream",
     "text": [
      "1 1 2 3 5\n"
     ]
    }
   ],
   "source": [
    "a = 1 \n",
    "b = 1\n",
    "c = a + b \n",
    "d = b + c\n",
    "e = c + d\n",
    "\n",
    "print(a, b, c, d, e)\n",
    "\n",
    "if a \n"
   ]
  },
  {
   "cell_type": "code",
   "execution_count": 14,
   "metadata": {},
   "outputs": [
    {
     "name": "stdout",
     "output_type": "stream",
     "text": [
      "4\n"
     ]
    },
    {
     "ename": "TypeError",
     "evalue": "'<' not supported between instances of 'str' and 'int'",
     "output_type": "error",
     "traceback": [
      "\u001b[1;31m---------------------------------------------------------------------------\u001b[0m",
      "\u001b[1;31mTypeError\u001b[0m                                 Traceback (most recent call last)",
      "\u001b[1;32m<ipython-input-14-2872a0ed61ad>\u001b[0m in \u001b[0;36m<module>\u001b[1;34m\u001b[0m\n\u001b[0;32m      2\u001b[0m \u001b[0mn\u001b[0m \u001b[1;33m=\u001b[0m \u001b[0mnum\u001b[0m\u001b[1;33m[\u001b[0m\u001b[1;36m0\u001b[0m\u001b[1;33m]\u001b[0m\u001b[1;33m\u001b[0m\u001b[1;33m\u001b[0m\u001b[0m\n\u001b[0;32m      3\u001b[0m \u001b[1;33m\u001b[0m\u001b[0m\n\u001b[1;32m----> 4\u001b[1;33m \u001b[1;32mif\u001b[0m \u001b[0mnum\u001b[0m \u001b[1;33m<\u001b[0m \u001b[1;36m2\u001b[0m\u001b[1;33m:\u001b[0m\u001b[1;33m\u001b[0m\u001b[1;33m\u001b[0m\u001b[0m\n\u001b[0m\u001b[0;32m      5\u001b[0m     \u001b[0mprint\u001b[0m\u001b[1;33m(\u001b[0m\u001b[1;36m2\u001b[0m\u001b[1;33m)\u001b[0m\u001b[1;33m\u001b[0m\u001b[1;33m\u001b[0m\u001b[0m\n\u001b[0;32m      6\u001b[0m \u001b[1;33m\u001b[0m\u001b[0m\n",
      "\u001b[1;31mTypeError\u001b[0m: '<' not supported between instances of 'str' and 'int'"
     ]
    }
   ],
   "source": [
    "num = input()\n",
    "n = num[0]\n",
    "\n",
    "if num < 2:\n",
    "    print(2)\n",
    "\n",
    "elif num >= 2:\n",
    "    print((num[n-1])+(num[n-2]))\n",
    "\n"
   ]
  },
  {
   "cell_type": "code",
   "execution_count": 15,
   "metadata": {},
   "outputs": [],
   "source": [
    "def fi(n):\n",
    "    if n < 2:\n",
    "        return n\n",
    "    elif n >= 2:\n",
    "        return fi(n-1) + fi(n-2)"
   ]
  },
  {
   "cell_type": "code",
   "execution_count": 16,
   "metadata": {},
   "outputs": [
    {
     "name": "stdout",
     "output_type": "stream",
     "text": [
      "8\n"
     ]
    }
   ],
   "source": [
    "a = fi(6)\n",
    "print(a)"
   ]
  },
  {
   "cell_type": "code",
   "execution_count": 17,
   "metadata": {},
   "outputs": [],
   "source": [
    "# 모범 답안\n",
    "\n",
    "def fib(n):\n",
    "    if n in [1, 2]:\n",
    "        return 1\n",
    "    a1 = 1\n",
    "    a2 = 1\n",
    "    \n",
    "    n = n-2\n",
    "    for num in range(n):\n",
    "        nv = a1 + a2\n",
    "        a1 = a2\n",
    "        a2 = nv\n",
    "    return a2"
   ]
  },
  {
   "cell_type": "code",
   "execution_count": 19,
   "metadata": {},
   "outputs": [
    {
     "data": {
      "text/plain": [
       "8"
      ]
     },
     "execution_count": 19,
     "metadata": {},
     "output_type": "execute_result"
    }
   ],
   "source": [
    "fib(6)"
   ]
  },
  {
   "cell_type": "code",
   "execution_count": null,
   "metadata": {},
   "outputs": [],
   "source": []
  },
  {
   "cell_type": "code",
   "execution_count": null,
   "metadata": {},
   "outputs": [],
   "source": []
  },
  {
   "cell_type": "code",
   "execution_count": null,
   "metadata": {},
   "outputs": [],
   "source": []
  },
  {
   "cell_type": "code",
   "execution_count": null,
   "metadata": {},
   "outputs": [],
   "source": []
  },
  {
   "cell_type": "code",
   "execution_count": null,
   "metadata": {},
   "outputs": [],
   "source": []
  },
  {
   "cell_type": "code",
   "execution_count": null,
   "metadata": {},
   "outputs": [],
   "source": []
  },
  {
   "cell_type": "code",
   "execution_count": null,
   "metadata": {},
   "outputs": [],
   "source": []
  }
 ],
 "metadata": {
  "kernelspec": {
   "display_name": "Python 3",
   "language": "python",
   "name": "python3"
  },
  "language_info": {
   "codemirror_mode": {
    "name": "ipython",
    "version": 3
   },
   "file_extension": ".py",
   "mimetype": "text/x-python",
   "name": "python",
   "nbconvert_exporter": "python",
   "pygments_lexer": "ipython3",
   "version": "3.7.3"
  }
 },
 "nbformat": 4,
 "nbformat_minor": 2
}
